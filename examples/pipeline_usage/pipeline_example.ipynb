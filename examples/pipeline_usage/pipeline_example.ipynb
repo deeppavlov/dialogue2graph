{
 "cells": [
  {
   "cell_type": "code",
   "execution_count": null,
   "metadata": {},
   "outputs": [],
   "source": [
    "from dialogue2graph.pipelines.model_storage import ModelStorage\n",
    "from dialogue2graph.pipelines.d2g_llm.pipeline import Pipeline"
   ]
  }
 ],
 "metadata": {
  "language_info": {
   "name": "python"
  }
 },
 "nbformat": 4,
 "nbformat_minor": 2
}
