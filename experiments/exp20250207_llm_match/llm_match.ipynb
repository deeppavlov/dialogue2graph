{
 "cells": [
  {
   "cell_type": "code",
   "execution_count": 1,
   "metadata": {},
   "outputs": [],
   "source": [
    "import numpy as np\n",
    "from langchain_community.cross_encoders.huggingface import HuggingFaceCrossEncoder\n",
    "from langchain.output_parsers import PydanticOutputParser, OutputFixingParser\n",
    "from langchain.chat_models import ChatOpenAI"
   ]
  },
  {
   "cell_type": "code",
   "execution_count": 2,
   "metadata": {},
   "outputs": [],
   "source": [
    "%load_ext autoreload\n",
    "%autoreload 2"
   ]
  },
  {
   "cell_type": "code",
   "execution_count": 3,
   "metadata": {},
   "outputs": [
    {
     "name": "stderr",
     "output_type": "stream",
     "text": [
      "/home/peshkichev/miniconda3/envs/py11/lib/python3.11/site-packages/pydantic/_internal/_fields.py:192: UserWarning: Field name \"validate\" in \"Dialogue\" shadows an attribute in parent \"BaseModel\"\n",
      "  warnings.warn(\n"
     ]
    }
   ],
   "source": [
    "from chatsky_llm_autoconfig.graph import BaseGraph, Graph\n",
    "from chatsky_llm_autoconfig.schemas import CompareResponse\n",
    "from chatsky_llm_autoconfig.algorithms.three_stages_graph_generation import ThreeStagesGraphGenerator\n",
    "from chatsky_llm_autoconfig.dialogue import Dialogue"
   ]
  },
  {
   "cell_type": "code",
   "execution_count": 4,
   "metadata": {},
   "outputs": [],
   "source": [
    "from settings import EnvSettings\n",
    "from utils import call_llm_api, read_json\n",
    "from compare_prompt import (\n",
    "    compare_graphs_prompt, graph_example_1, result_form\n",
    ")"
   ]
  },
  {
   "cell_type": "code",
   "execution_count": 5,
   "metadata": {},
   "outputs": [],
   "source": [
    "env_settings = EnvSettings()\n"
   ]
  },
  {
   "cell_type": "code",
   "execution_count": 6,
   "metadata": {},
   "outputs": [],
   "source": [
    "evaluator = HuggingFaceCrossEncoder(model_name=env_settings.RERANKER_MODEL, model_kwargs={\"device\": env_settings.EMBEDDER_DEVICE})\n",
    "graph_generator = ThreeStagesGraphGenerator()"
   ]
  },
  {
   "cell_type": "code",
   "execution_count": 7,
   "metadata": {},
   "outputs": [],
   "source": [
    "def nodes2list(graph: dict) -> list:\n",
    "    res = []\n",
    "\n",
    "    for node in graph[\"nodes\"]:\n",
    "        utt = \"\"\n",
    "        for n_utt in node['utterances']:\n",
    "            utt += n_utt + \" \"\n",
    "        res.append(utt)\n",
    "\n",
    "    return res"
   ]
  },
  {
   "cell_type": "code",
   "execution_count": 8,
   "metadata": {},
   "outputs": [],
   "source": [
    "def graph2list(graph: dict) -> tuple[list,int]:\n",
    "    res = []\n",
    "    n_edges = 0\n",
    "    lens = []\n",
    "\n",
    "    # node = [node for node in graph[\"nodes\"] if node[\"is_start\"]][0]\n",
    "    for node in graph[\"nodes\"]:\n",
    "        edges = [e for e in graph['edges'] if e['source']==node[\"id\"]]\n",
    "        utt = \"\"\n",
    "        for n_utt in node['utterances']:\n",
    "            utt += n_utt + \" \"\n",
    "        for edge in edges:\n",
    "            lens.append(len(edge['utterances']))\n",
    "            for e_utt in edge['utterances']:\n",
    "                utt += e_utt + \" \"\n",
    "                n_edges += 1\n",
    "        res.append(utt)\n",
    "\n",
    "        # node = [node for node in graph[\"nodes\"] if node[\"id\"]==edge['target']][0] \n",
    "    return res, n_edges, lens"
   ]
  },
  {
   "cell_type": "code",
   "execution_count": 9,
   "metadata": {},
   "outputs": [],
   "source": [
    "def get_2_rerankings(generated1: list[str], golden1: list[str], generated2: list[str], golden2: list[str]):\n",
    "    \n",
    "    sz = len(generated1)\n",
    "    to_score = []\n",
    "    for gen in generated1:\n",
    "        for gol in golden1:\n",
    "            to_score.append((gen,gol))\n",
    "    for gen in generated2:\n",
    "        for gol in golden2:\n",
    "            to_score.append((gen,gol))\n",
    "    print(\"SCORING...\")\n",
    "    # print(to_score)\n",
    "    scores = np.array(evaluator.score(to_score))\n",
    "    print(\"finished\")\n",
    "\n",
    "    return scores[:sz*sz].reshape(sz,sz), scores[sz*sz:].reshape(sz,sz)"
   ]
  },
  {
   "cell_type": "code",
   "execution_count": null,
   "metadata": {},
   "outputs": [],
   "source": [
    "def compare_edge_lens(G1: BaseGraph, G2: BaseGraph, max: list, nodes1_list, nodes2_list):\n",
    "    \n",
    "    for i in range(len(max)):\n",
    "\n",
    "        for edge1 in G1.edge_by_source(nodes1_list[i]):\n",
    "            for edge2 in G2.edge_by_source(nodes2_list[max[i]]):\n",
    "\n",
    "    if any([len1[i] != len2[max[i]] for i in range(len(max))]):\n",
    "        print(\"for\")"
   ]
  },
  {
   "cell_type": "code",
   "execution_count": 37,
   "metadata": {},
   "outputs": [],
   "source": [
    "def llm_match(G1: BaseGraph, G2: BaseGraph) -> bool:\n",
    "    g1 = G1.graph_dict\n",
    "    g2 = G2.graph_dict\n",
    "\n",
    "    # print(\"ORIG: \", g1)\n",
    "    # g1_order = graph_order(g1)\n",
    "    # g2_order = graph_order(g2)\n",
    "    # print(\"ORDER: \", g1_order, \"\\n\")\n",
    "    # print(\"2LIST: \", graph2list(g1_order), \"\\n\")\n",
    "    #matrix = get_embedding(graph2list(g1_order), graph2list(g2_order), env_settings.EMBEDDER_MODEL, env_settings.EMBEDDER_DEVICE)\n",
    "\n",
    "    nodes1_list = nodes2list(g1)\n",
    "    nodes2_list = nodes2list(g2)\n",
    "    if len(nodes1_list) != len(nodes2_list):\n",
    "        return False\n",
    "\n",
    "    g1_list, n1, len1 = graph2list(g1)\n",
    "    g2_list, n2, len2 = graph2list(g2)\n",
    "    print(\"LEN1: \", len1, \"LEN2: \", len2)\n",
    "    # print(\"G1: \", g1_list, \"\\n\")\n",
    "    # print(\"G2: \", g2_list, \"\\n\")\n",
    "\n",
    "    nodes_matrix, matrix = get_2_rerankings(nodes1_list, nodes2_list, g1_list, g2_list)\n",
    "    nodes_max = list(np.argmax(nodes_matrix, axis=1))\n",
    "    if len(set(nodes_max)) < len(nodes1_list):\n",
    "        print(\"LENS\")\n",
    "        return False\n",
    "\n",
    "\n",
    "    # print(\"LENS: \", len1, len2)\n",
    "    if n1 != n2:\n",
    "        print(\"N!\")\n",
    "        return False\n",
    "    \n",
    "\n",
    "    # matrix = get_reranking(g1_list, g2_list)\n",
    "    max = list(np.argmax(matrix, axis=1))\n",
    "    # print(\"MAX: \", max)\n",
    "    if len(set(max)) < len(g1_list) or nodes_max != max:\n",
    "        print(\"MIX\")\n",
    "        return False\n",
    "    print(\"MAX: \", max)\n",
    "    G1.edge_by_source(nodes1_list[i])\n",
    "    G2.edge_by_source(nodes2_list[max[i]])\n",
    "    if any([len1[i] != len2[max[i]] for i in range(len(max))]):\n",
    "        print(\"for\")\n",
    "        return False\n",
    "    print(\"NODES: \", np.min(np.max(nodes_matrix, axis=1)))\n",
    "    print(\"ALL: \", np.min(np.max(matrix, axis=1)))\n",
    "\n",
    "    if min(np.min(np.max(nodes_matrix, axis=1)),np.min(np.max(matrix, axis=1))) >= env_settings.SIM_THRESHOLD:\n",
    "        return True\n",
    "    # diags = get_diagonals(matrix)\n",
    "    # # print(\"DIAGS: \", diags, \"\\n\")\n",
    "    # sums = np.sum(diags,axis=1)\n",
    "    # max_index = np.argmax(sums)\n",
    "    # g1_best = get_diagonal(g1,max_index)\n",
    "    # min_value = np.min(diags[max_index])\n",
    "    # print(\"MIN: \", min_value)\n",
    "    # return True\n",
    "    # print(\"\\nG1: \", g1_best, \"\\n\")\n",
    "    # print(\"G2: \", g2_order, \"\\n\")\n",
    "\n",
    "    # if min_value >= env_settings.SIM_THRESHOLD:\n",
    "    #     return True\n",
    "    parser = PydanticOutputParser(pydantic_object=CompareResponse)\n",
    "    format_model=ChatOpenAI(model=env_settings.FORMATTER_MODEL_NAME, api_key=env_settings.OPENAI_API_KEY, base_url=env_settings.OPENAI_BASE_URL)\n",
    "    model=ChatOpenAI(model=env_settings.COMPARE_MODEL_NAME, api_key=env_settings.OPENAI_API_KEY, base_url=env_settings.OPENAI_BASE_URL)\n",
    "    new_parser = OutputFixingParser.from_llm(parser=parser, llm=format_model)\n",
    "    result = call_llm_api(compare_graphs_prompt.format(result_form=result_form,graph_example_1=graph_example_1, graph_1=g1, graph_2=g2), model|new_parser, temp=0).model_dump()\n",
    "    # print(\"RES: \", result)\n",
    "    return result['result']\n",
    "\n"
   ]
  },
  {
   "cell_type": "code",
   "execution_count": 11,
   "metadata": {},
   "outputs": [],
   "source": [
    "dialogue_to_graph = read_json(env_settings.TEST_DATA_PATH)"
   ]
  },
  {
   "cell_type": "code",
   "execution_count": 12,
   "metadata": {},
   "outputs": [],
   "source": [
    "case = dialogue_to_graph[1]"
   ]
  },
  {
   "cell_type": "code",
   "execution_count": null,
   "metadata": {},
   "outputs": [],
   "source": [
    "result_graph = graph_generator.invoke([Dialogue.from_list(c[\"messages\"]) for c in case[\"dialogues\"]])"
   ]
  },
  {
   "cell_type": "code",
   "execution_count": 32,
   "metadata": {},
   "outputs": [
    {
     "data": {
      "text/plain": [
       "{'nodes': [{'id': 1,\n",
       "   'label': '',\n",
       "   'is_start': False,\n",
       "   'utterances': ['Of course, we can facilitate an exchange for a different size. Please specify your preferred size.',\n",
       "    'Certainly, we can exchange your product for a different size. Please let us know which size you would prefer.',\n",
       "    'Sure, we can exchange your product for another size. Which size would you like instead?']},\n",
       "  {'id': 2,\n",
       "   'label': '',\n",
       "   'is_start': True,\n",
       "   'utterances': [\"I'm sorry to hear that the size of the product you received isn't what you expected. How can I assist you today?\"]},\n",
       "  {'id': 3,\n",
       "   'label': '',\n",
       "   'is_start': False,\n",
       "   'utterances': [\"I'm sorry for the inconvenience. Could you please provide your order number?\"]},\n",
       "  {'id': 4,\n",
       "   'label': '',\n",
       "   'is_start': False,\n",
       "   'utterances': ['Thank you. I see that you ordered a Medium size. Would you like a replacement, a refund, or to exchange it for a different size?']},\n",
       "  {'id': 5,\n",
       "   'label': '',\n",
       "   'is_start': False,\n",
       "   'utterances': ['Understood. We will send you a replacement in size Medium. You should receive it within 5 business days. Is there anything else I can assist you with?']},\n",
       "  {'id': 6,\n",
       "   'label': '',\n",
       "   'is_start': False,\n",
       "   'utterances': [\"You're welcome! Have a great day.\"]},\n",
       "  {'id': 7,\n",
       "   'label': '',\n",
       "   'is_start': False,\n",
       "   'utterances': ['Your refund has been processed. You should see the amount credited to your account within 3-5 business days. Is there anything else I can assist you with?']}],\n",
       " 'edges': [{'source': 2,\n",
       "   'target': 3,\n",
       "   'utterances': ['The size I ordered is not correct.']},\n",
       "  {'source': 3, 'target': 4, 'utterances': [\"Sure, it's 123456.\"]},\n",
       "  {'source': 4, 'target': 5, 'utterances': ['I would like a replacement.']},\n",
       "  {'source': 4,\n",
       "   'target': 6,\n",
       "   'utterances': [\"I changed my mind, I don't need any help.\"]},\n",
       "  {'source': 5,\n",
       "   'target': 4,\n",
       "   'utterances': ['Actually, can I change my choice?']},\n",
       "  {'source': 4, 'target': 7, 'utterances': ['I would like a refund.']},\n",
       "  {'source': 7,\n",
       "   'target': 4,\n",
       "   'utterances': ['Actually, can I change my mind?']},\n",
       "  {'source': 1,\n",
       "   'target': 4,\n",
       "   'utterances': ['Actually, I want to choose another option instead.']},\n",
       "  {'source': 5, 'target': 6, 'utterances': [\"No, that's all, thank you.\"]},\n",
       "  {'source': 7, 'target': 6, 'utterances': [\"No, that's all, thanks.\"]},\n",
       "  {'source': 1, 'target': 6, 'utterances': [\"No, that's all, thank you.\"]},\n",
       "  {'source': 4,\n",
       "   'target': 1,\n",
       "   'utterances': ['Can I exchange it for another size?',\n",
       "    'I would like to exchange for a different size.',\n",
       "    'Actually, I need a different size.']},\n",
       "  {'source': 3,\n",
       "   'target': 6,\n",
       "   'utterances': [\"Never mind, I don't need assistance.\"]}],\n",
       " 'reason': ''}"
      ]
     },
     "execution_count": 32,
     "metadata": {},
     "output_type": "execute_result"
    }
   ],
   "source": [
    "result_graph.graph_dict"
   ]
  },
  {
   "cell_type": "code",
   "execution_count": 28,
   "metadata": {},
   "outputs": [
    {
     "data": {
      "text/plain": [
       "'Resolving a mismatched product size complaint'"
      ]
     },
     "execution_count": 28,
     "metadata": {},
     "output_type": "execute_result"
    }
   ],
   "source": [
    "case['topic']"
   ]
  },
  {
   "cell_type": "code",
   "execution_count": 31,
   "metadata": {},
   "outputs": [
    {
     "data": {
      "text/plain": [
       "{'edges': [{'source': 1,\n",
       "   'target': 2,\n",
       "   'utterances': ['The size I ordered is not correct.']},\n",
       "  {'source': 2, 'target': 3, 'utterances': [\"Sure, it's 123456.\"]},\n",
       "  {'source': 2,\n",
       "   'target': 7,\n",
       "   'utterances': [\"Never mind, I don't need assistance.\"]},\n",
       "  {'source': 3, 'target': 4, 'utterances': ['I would like a replacement.']},\n",
       "  {'source': 3, 'target': 5, 'utterances': ['I would like a refund.']},\n",
       "  {'source': 3,\n",
       "   'target': 6,\n",
       "   'utterances': ['I would like to exchange for a different size.',\n",
       "    'Actually, I need a different size.',\n",
       "    'Can I exchange it for another size?']},\n",
       "  {'source': 3,\n",
       "   'target': 7,\n",
       "   'utterances': [\"I changed my mind, I don't need any help.\"]},\n",
       "  {'source': 4, 'target': 7, 'utterances': [\"No, that's all, thank you.\"]},\n",
       "  {'source': 4,\n",
       "   'target': 3,\n",
       "   'utterances': ['Actually, can I change my choice?']},\n",
       "  {'source': 5, 'target': 7, 'utterances': [\"No, that's all, thanks.\"]},\n",
       "  {'source': 5,\n",
       "   'target': 3,\n",
       "   'utterances': ['Actually, can I change my mind?']},\n",
       "  {'source': 6, 'target': 7, 'utterances': [\"No, that's all, thank you.\"]},\n",
       "  {'source': 6,\n",
       "   'target': 3,\n",
       "   'utterances': ['Actually, I want to choose another option instead.']}],\n",
       " 'nodes': [{'id': 1,\n",
       "   'label': 'greeting',\n",
       "   'is_start': True,\n",
       "   'utterances': [\"I'm sorry to hear that the size of the product you received isn't what you expected. How can I assist you today?\"]},\n",
       "  {'id': 2,\n",
       "   'label': 'request_order_number',\n",
       "   'is_start': False,\n",
       "   'utterances': [\"I'm sorry for the inconvenience. Could you please provide your order number?\"]},\n",
       "  {'id': 3,\n",
       "   'label': 'offer_resolution_options',\n",
       "   'is_start': False,\n",
       "   'utterances': ['Thank you. I see that you ordered a Medium size. Would you like a replacement, a refund, or to exchange it for a different size?']},\n",
       "  {'id': 4,\n",
       "   'label': 'confirm_replacement',\n",
       "   'is_start': False,\n",
       "   'utterances': ['Understood. We will send you a replacement in size Medium. You should receive it within 5 business days. Is there anything else I can assist you with?']},\n",
       "  {'id': 5,\n",
       "   'label': 'confirm_refund',\n",
       "   'is_start': False,\n",
       "   'utterances': ['Your refund has been processed. You should see the amount credited to your account within 3-5 business days. Is there anything else I can assist you with?']},\n",
       "  {'id': 6,\n",
       "   'label': 'confirm_exchange',\n",
       "   'is_start': False,\n",
       "   'utterances': ['Certainly, we can exchange your product for a different size. Please let us know which size you would prefer.',\n",
       "    'Sure, we can exchange your product for another size. Which size would you like instead?',\n",
       "    'Of course, we can facilitate an exchange for a different size. Please specify your preferred size.']},\n",
       "  {'id': 7,\n",
       "   'label': 'closing',\n",
       "   'is_start': False,\n",
       "   'utterances': [\"You're welcome! Have a great day.\"]}]}"
      ]
     },
     "execution_count": 31,
     "metadata": {},
     "output_type": "execute_result"
    }
   ],
   "source": [
    "case['graph']"
   ]
  },
  {
   "cell_type": "code",
   "execution_count": 31,
   "metadata": {},
   "outputs": [
    {
     "data": {
      "text/plain": [
       "[{'source': 2,\n",
       "  'target': 3,\n",
       "  'utterances': ['The size I ordered is not correct.']},\n",
       " {'source': 3, 'target': 4, 'utterances': [\"Sure, it's 123456.\"]},\n",
       " {'source': 4, 'target': 5, 'utterances': ['I would like a replacement.']},\n",
       " {'source': 4,\n",
       "  'target': 6,\n",
       "  'utterances': [\"I changed my mind, I don't need any help.\"]},\n",
       " {'source': 5,\n",
       "  'target': 4,\n",
       "  'utterances': ['Actually, can I change my choice?']},\n",
       " {'source': 4, 'target': 7, 'utterances': ['I would like a refund.']},\n",
       " {'source': 7, 'target': 4, 'utterances': ['Actually, can I change my mind?']},\n",
       " {'source': 1,\n",
       "  'target': 4,\n",
       "  'utterances': ['Actually, I want to choose another option instead.']},\n",
       " {'source': 5, 'target': 6, 'utterances': [\"No, that's all, thank you.\"]},\n",
       " {'source': 7, 'target': 6, 'utterances': [\"No, that's all, thanks.\"]},\n",
       " {'source': 1, 'target': 6, 'utterances': [\"No, that's all, thank you.\"]},\n",
       " {'source': 4,\n",
       "  'target': 1,\n",
       "  'utterances': ['Can I exchange it for another size?',\n",
       "   'I would like to exchange for a different size.',\n",
       "   'Actually, I need a different size.']},\n",
       " {'source': 3,\n",
       "  'target': 6,\n",
       "  'utterances': [\"Never mind, I don't need assistance.\"]}]"
      ]
     },
     "execution_count": 31,
     "metadata": {},
     "output_type": "execute_result"
    }
   ],
   "source": [
    "result_graph.graph_dict['edges']"
   ]
  },
  {
   "cell_type": "code",
   "execution_count": 17,
   "metadata": {},
   "outputs": [
    {
     "data": {
      "text/plain": [
       "[{'source': 1,\n",
       "  'target': 2,\n",
       "  'utterances': ['The size I ordered is not correct.']},\n",
       " {'source': 2, 'target': 3, 'utterances': [\"Sure, it's 123456.\"]},\n",
       " {'source': 2,\n",
       "  'target': 7,\n",
       "  'utterances': [\"Never mind, I don't need assistance.\"]},\n",
       " {'source': 3, 'target': 4, 'utterances': ['I would like a replacement.']},\n",
       " {'source': 3, 'target': 5, 'utterances': ['I would like a refund.']},\n",
       " {'source': 3,\n",
       "  'target': 6,\n",
       "  'utterances': ['I would like to exchange for a different size.',\n",
       "   'Actually, I need a different size.',\n",
       "   'Can I exchange it for another size?']},\n",
       " {'source': 3,\n",
       "  'target': 7,\n",
       "  'utterances': [\"I changed my mind, I don't need any help.\"]},\n",
       " {'source': 4, 'target': 7, 'utterances': [\"No, that's all, thank you.\"]},\n",
       " {'source': 4,\n",
       "  'target': 3,\n",
       "  'utterances': ['Actually, can I change my choice?']},\n",
       " {'source': 5, 'target': 7, 'utterances': [\"No, that's all, thanks.\"]},\n",
       " {'source': 5, 'target': 3, 'utterances': ['Actually, can I change my mind?']},\n",
       " {'source': 6, 'target': 7, 'utterances': [\"No, that's all, thank you.\"]},\n",
       " {'source': 6,\n",
       "  'target': 3,\n",
       "  'utterances': ['Actually, I want to choose another option instead.']}]"
      ]
     },
     "execution_count": 17,
     "metadata": {},
     "output_type": "execute_result"
    }
   ],
   "source": [
    "case['graph']['edges']"
   ]
  },
  {
   "cell_type": "code",
   "execution_count": 38,
   "metadata": {},
   "outputs": [
    {
     "name": "stdout",
     "output_type": "stream",
     "text": [
      "LEN1:  [1, 1, 1, 1, 1, 3, 1, 1, 1, 1, 1, 1, 1] LEN2:  [1, 1, 1, 1, 1, 1, 1, 1, 3, 1, 1, 1, 1]\n",
      "SCORING...\n"
     ]
    },
    {
     "name": "stdout",
     "output_type": "stream",
     "text": [
      "finished\n",
      "MAX:  [1, 2, 3, 4, 6, 0, 5]\n",
      "for\n"
     ]
    },
    {
     "data": {
      "text/plain": [
       "False"
      ]
     },
     "execution_count": 38,
     "metadata": {},
     "output_type": "execute_result"
    }
   ],
   "source": [
    "llm_match(Graph(case['graph']),result_graph)"
   ]
  }
 ],
 "metadata": {
  "kernelspec": {
   "display_name": "py11",
   "language": "python",
   "name": "python3"
  },
  "language_info": {
   "codemirror_mode": {
    "name": "ipython",
    "version": 3
   },
   "file_extension": ".py",
   "mimetype": "text/x-python",
   "name": "python",
   "nbconvert_exporter": "python",
   "pygments_lexer": "ipython3",
   "version": "3.11.11"
  }
 },
 "nbformat": 4,
 "nbformat_minor": 2
}
