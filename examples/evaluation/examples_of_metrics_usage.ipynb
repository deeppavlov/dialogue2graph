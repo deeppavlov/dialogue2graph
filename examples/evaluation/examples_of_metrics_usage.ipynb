{
  "cells": [
    {
      "cell_type": "code",
      "execution_count": null,
      "metadata": {
        "id": "Ys19Htu1cDF9"
      },
      "outputs": [],
      "source": [
        "import json\n",
        "from dialogue2graph import Graph, Dialogue\n",
        "# Import only the public functions (those not starting with an underscore)\n",
        "from dialogue2graph.metrics.no_llm_metrics.metrics import (\n",
        "    match_graph_triplets,\n",
        "    is_same_structure,\n",
        "    match_triplets_dg,\n",
        "    are_paths_valid,\n",
        "    match_roles,\n",
        "    is_correct_length,\n",
        "    all_utterances_present,\n",
        "    triplet_match_accuracy,\n",
        "    compute_graph_metrics\n",
        ")"
      ]
    },
    {
      "cell_type": "code",
      "source": [
        "# Load JSON data containing graphs and dialogues\n",
        "with open(\"example_metrics_data.json\", encoding=\"utf-8\") as f:\n",
        "    data = json.load(f)"
      ],
      "metadata": {
        "id": "XufS-bV7dHrV"
      },
      "execution_count": null,
      "outputs": []
    },
    {
      "cell_type": "code",
      "source": [
        "# Create two Graph objects from the first and second entries in the JSON\n",
        "graph1_data = data[0][\"graph\"]\n",
        "graph2_data = data[1][\"graph\"]\n",
        "graph1 = Graph(graph_dict=graph1_data)\n",
        "graph2 = Graph(graph_dict=graph2_data)"
      ],
      "metadata": {
        "id": "AFyJke8vdYlR"
      },
      "execution_count": null,
      "outputs": []
    },
    {
      "cell_type": "code",
      "source": [
        "# Prepare dialogues (only the first dictionary has \"dialogues\")\n",
        "dialogues_raw = data[0][\"dialogues\"]\n",
        "dialogues = [Dialogue(**dlg) for dlg in dialogues_raw]"
      ],
      "metadata": {
        "id": "o77iywElde6N"
      },
      "execution_count": null,
      "outputs": []
    },
    {
      "cell_type": "code",
      "source": [
        "# 1) Check if all utterances (nodes + edges) of the first graph appear in the dialogues\n",
        "print(\"# all_utterances_present demonstration:\")\n",
        "print(all_utterances_present(graph1, dialogues))"
      ],
      "metadata": {
        "colab": {
          "base_uri": "https://localhost:8080/"
        },
        "id": "zaPhQexmdhTL",
        "outputId": "c242fea4-5c61-4e04-993e-911297fda6ac"
      },
      "execution_count": null,
      "outputs": [
        {
          "output_type": "stream",
          "name": "stdout",
          "text": [
            "# all_utterances_present demonstration:\n",
            "True\n"
          ]
        }
      ]
    },
    {
      "cell_type": "code",
      "source": [
        "# 2) Check whether graph1 and graph2 have the same structure (isomorphism)\n",
        "print(\"\\n# is_same_structure demonstration:\")\n",
        "print(is_same_structure(graph1, graph2))"
      ],
      "metadata": {
        "colab": {
          "base_uri": "https://localhost:8080/"
        },
        "id": "RlqvqIvTdjn_",
        "outputId": "7bc10d14-6fca-4580-f62c-4ed98271625f"
      },
      "execution_count": null,
      "outputs": [
        {
          "output_type": "stream",
          "name": "stdout",
          "text": [
            "\n",
            "# is_same_structure demonstration:\n",
            "True\n"
          ]
        }
      ]
    },
    {
      "cell_type": "code",
      "source": [
        "# 3) Try to match the two graphs (graph1 -> graph2) and see how nodes/edges are mapped\n",
        "print(\"\\n# match_graph_triplets demonstration:\")\n",
        "node_mapping, edge_mapping = match_graph_triplets(graph1, graph2)\n",
        "print(\"Node mapping:\", node_mapping)\n",
        "print(\"Edge mapping:\", edge_mapping)"
      ],
      "metadata": {
        "colab": {
          "base_uri": "https://localhost:8080/"
        },
        "id": "uWsfteipdmI1",
        "outputId": "2fa2e902-906e-40a4-dd9b-6c649469bd90"
      },
      "execution_count": null,
      "outputs": [
        {
          "output_type": "stream",
          "name": "stdout",
          "text": [
            "\n",
            "# match_graph_triplets demonstration:\n",
            "Graphs are isomorphic\n",
            "(10, 10)\n",
            "{1: ['Hello! How can I assist you with your calendar today?'], 2: [\"I'm sorry to hear you're experiencing a sync delay. Can you tell me more about the issue?\"], 3: ['Could you verify that the time zone settings are properly configured on your devices?', 'Have you checked if your time zone settings are correct on all your devices?'], 4: ['Sure, let me guide you through adjusting your time zone settings.'], 5: ['If time zone settings are correct, we can try refreshing the calendar app or reinstalling it.'], 6: ['Great! Is your calendar syncing correctly now?'], 7: ['Of course! Which device would you like to adjust the time zone settings on?'], 8: [\"I'm sorry we couldn't resolve the issue. If you need further assistance, feel free to reach out anytime. Have a great day!\"]}\n",
            "Node mapping: {2: 2, 3: 3, 8: 8, 1: 1, 6: 6, 4: 4, 5: 5, 7: 7}\n",
            "Edge mapping: {'1->2': '1->2', '2->3': '2->3', '2->8': '2->8', '3->4': '3->4', '3->5': '3->5', '4->6': '4->6', '4->7': '4->7', '5->6': '5->6', '6->8': '6->8', '7->4': '7->4'}\n"
          ]
        }
      ]
    },
    {
      "cell_type": "code",
      "source": [
        "# 4) Check if all triplets of (assistant, user, assistant) in dialogues match the graph\n",
        "print(\"\\n# match_triplets_dg demonstration:\")\n",
        "print(match_triplets_dg(graph1, dialogues))"
      ],
      "metadata": {
        "colab": {
          "base_uri": "https://localhost:8080/"
        },
        "id": "_vlpddAudpOP",
        "outputId": "1eacde54-c467-4858-f1ac-355908158e05"
      },
      "execution_count": null,
      "outputs": [
        {
          "output_type": "stream",
          "name": "stdout",
          "text": [
            "\n",
            "# match_triplets_dg demonstration:\n",
            "Graph has all the dialogues\n",
            "{'value': True}\n"
          ]
        }
      ]
    },
    {
      "cell_type": "code",
      "source": [
        "# 5) Check whether the dialogues form valid paths in the graph\n",
        "print(\"\\n# are_paths_valid demonstration:\")\n",
        "print(are_paths_valid(graph1, dialogues))"
      ],
      "metadata": {
        "colab": {
          "base_uri": "https://localhost:8080/"
        },
        "id": "uy5bT1CsdwwI",
        "outputId": "8b4c394e-fb35-446b-b61f-72e45ae5804e"
      },
      "execution_count": null,
      "outputs": [
        {
          "output_type": "stream",
          "name": "stdout",
          "text": [
            "\n",
            "# are_paths_valid demonstration:\n",
            "{'value': True}\n"
          ]
        }
      ]
    },
    {
      "cell_type": "code",
      "source": [
        "# 6) Compare roles (assistant/user) between two dialogues\n",
        "#    For example, compare the first and second dialogues\n",
        "print(\"\\n# match_roles demonstration:\")\n",
        "dialogue1 = dialogues[0]\n",
        "dialogue2 = dialogues[1]\n",
        "print(match_roles(dialogue1, dialogue2))"
      ],
      "metadata": {
        "colab": {
          "base_uri": "https://localhost:8080/"
        },
        "id": "sLweP8x2dzj7",
        "outputId": "90c585d8-6519-4ab3-b2a4-eb507a4e89ee"
      },
      "execution_count": null,
      "outputs": [
        {
          "output_type": "stream",
          "name": "stdout",
          "text": [
            "\n",
            "# match_roles demonstration:\n",
            "True\n"
          ]
        }
      ]
    },
    {
      "cell_type": "code",
      "source": [
        "# 7) Check if two dialogues have the same number of messages\n",
        "print(\"\\n# is_correct_length demonstration:\")\n",
        "print(is_correct_length(dialogue1, dialogue2))"
      ],
      "metadata": {
        "colab": {
          "base_uri": "https://localhost:8080/"
        },
        "id": "krX7Fqped1-W",
        "outputId": "143ad387-3c52-41de-ca0b-9b07aebf0a77"
      },
      "execution_count": null,
      "outputs": [
        {
          "output_type": "stream",
          "name": "stdout",
          "text": [
            "\n",
            "# is_correct_length demonstration:\n",
            "True\n"
          ]
        }
      ]
    },
    {
      "cell_type": "code",
      "source": [
        "# 8) Calculate accuracy of matching graph1 to graph2 in terms of nodes/edges\n",
        "print(\"\\n# triplet_match_accuracy demonstration:\")\n",
        "print(triplet_match_accuracy(graph1, graph2))"
      ],
      "metadata": {
        "colab": {
          "base_uri": "https://localhost:8080/"
        },
        "id": "ZqPF2-Xcd4O9",
        "outputId": "8e4c86c2-4ec8-46d6-cca3-0ba07e2cf5e5"
      },
      "execution_count": null,
      "outputs": [
        {
          "output_type": "stream",
          "name": "stdout",
          "text": [
            "\n",
            "# triplet_match_accuracy demonstration:\n",
            "Graphs are isomorphic\n",
            "(10, 10)\n",
            "{1: ['Hello! How can I assist you with your calendar today?'], 2: [\"I'm sorry to hear you're experiencing a sync delay. Can you tell me more about the issue?\"], 3: ['Could you verify that the time zone settings are properly configured on your devices?', 'Have you checked if your time zone settings are correct on all your devices?'], 4: ['Sure, let me guide you through adjusting your time zone settings.'], 5: ['If time zone settings are correct, we can try refreshing the calendar app or reinstalling it.'], 6: ['Great! Is your calendar syncing correctly now?'], 7: ['Of course! Which device would you like to adjust the time zone settings on?'], 8: [\"I'm sorry we couldn't resolve the issue. If you need further assistance, feel free to reach out anytime. Have a great day!\"]}\n",
            "{'node_accuracy': 1.0, 'edge_accuracy': 1.0}\n"
          ]
        }
      ]
    },
    {
      "cell_type": "code",
      "source": [
        "# 9) Compute some overall graph metrics for a list of graphs\n",
        "print(\"\\n# compute_graph_metrics demonstration:\")\n",
        "graphs_list = [graph1, graph2]\n",
        "print(compute_graph_metrics(graphs_list))"
      ],
      "metadata": {
        "colab": {
          "base_uri": "https://localhost:8080/"
        },
        "id": "6ZksLA7rd6mP",
        "outputId": "187ad6c4-68cd-4035-8713-dcaf89160d5a"
      },
      "execution_count": null,
      "outputs": [
        {
          "output_type": "stream",
          "name": "stdout",
          "text": [
            "\n",
            "# compute_graph_metrics demonstration:\n",
            "{'with_cycles': 2, 'percentage_with_cycles': 100.0, 'average_edges_amount': 10.0, 'average_nodes_amount': 8.0, 'total_graphs': 2, 'total_edges': 20, 'total_nodes': 16}\n"
          ]
        }
      ]
    },
    {
      "cell_type": "code",
      "source": [],
      "metadata": {
        "id": "q3iWeyWud92e"
      },
      "execution_count": null,
      "outputs": []
    }
  ],
  "metadata": {
    "colab": {
      "provenance": []
    },
    "kernelspec": {
      "display_name": "Python 3",
      "name": "python3"
    },
    "language_info": {
      "name": "python"
    }
  },
  "nbformat": 4,
  "nbformat_minor": 0
}