{
 "cells": [
  {
   "cell_type": "code",
   "execution_count": 1,
   "metadata": {},
   "outputs": [],
   "source": [
    "import json"
   ]
  },
  {
   "cell_type": "code",
   "execution_count": 2,
   "metadata": {},
   "outputs": [],
   "source": [
    "%load_ext autoreload\n",
    "%autoreload 2"
   ]
  },
  {
   "cell_type": "code",
   "execution_count": 3,
   "metadata": {},
   "outputs": [],
   "source": [
    "with open('new_data.json', encoding=\"utf-8\") as f:\n",
    "    data = json.load(f)"
   ]
  },
  {
   "cell_type": "code",
   "execution_count": 11,
   "metadata": {},
   "outputs": [
    {
     "data": {
      "text/plain": [
       "{'nodes': [{'id': 1,\n",
       "   'label': 'welcome and ask',\n",
       "   'is_start': True,\n",
       "   'utterances': ['Hello! This is tech support. How can I help you today?']},\n",
       "  {'id': 2,\n",
       "   'label': 'reload',\n",
       "   'is_start': False,\n",
       "   'utterances': ['Try to reload your device.']},\n",
       "  {'id': 3,\n",
       "   'label': 'check if helped',\n",
       "   'is_start': False,\n",
       "   'utterances': ['Has this resolved the issue for you?']},\n",
       "  {'id': 4,\n",
       "   'label': 'verification',\n",
       "   'is_start': False,\n",
       "   'utterances': ['Try cleaning browser cache.']},\n",
       "  {'id': 5,\n",
       "   'label': 'ask about additional problem',\n",
       "   'is_start': False,\n",
       "   'utterances': ['What is the other problem that you are experiencing?']},\n",
       "  {'id': 6,\n",
       "   'label': 'solution for balance',\n",
       "   'is_start': False,\n",
       "   'utterances': ['Try logging out of the website and then re-logging in.']},\n",
       "  {'id': 7,\n",
       "   'label': 'end',\n",
       "   'is_start': False,\n",
       "   'utterances': ['Thank you for contacting us, have a nice day.']}],\n",
       " 'edges': [{'source': 1,\n",
       "   'target': 2,\n",
       "   'utterances': ['The website loading takes too long']},\n",
       "  {'source': 2, 'target': 3, 'utterances': ['Sure, I will try that']},\n",
       "  {'source': 3, 'target': 4, 'utterances': ['No, it did not work ']},\n",
       "  {'source': 4,\n",
       "   'target': 3,\n",
       "   'utterances': ['All right, I will try cleaning cache']},\n",
       "  {'source': 3, 'target': 7, 'utterances': ['Yes, that fixed everything']},\n",
       "  {'source': 3,\n",
       "   'target': 5,\n",
       "   'utterances': [\"Actually, I'm having a different issue now\"]},\n",
       "  {'source': 5,\n",
       "   'target': 6,\n",
       "   'utterances': [\"I've put some money on my account but the balance is not updated on the website\"]},\n",
       "  {'source': 6, 'target': 3, 'utterances': ['Ok, I will try to log out']},\n",
       "  {'source': 6,\n",
       "   'target': 2,\n",
       "   'utterances': ['The balance is updated but now the website is slow again']}]}"
      ]
     },
     "execution_count": 11,
     "metadata": {},
     "output_type": "execute_result"
    }
   ],
   "source": [
    "graph_dict"
   ]
  },
  {
   "cell_type": "code",
   "execution_count": 4,
   "metadata": {},
   "outputs": [
    {
     "data": {
      "text/plain": [
       "[{'id': 1,\n",
       "  'label': 'welcome and ask',\n",
       "  'is_start': True,\n",
       "  'utterances': ['Hello! This is tech support. How can I help you today?']},\n",
       " {'id': 2,\n",
       "  'label': 'reload',\n",
       "  'is_start': False,\n",
       "  'utterances': ['Try to reload your device.']},\n",
       " {'id': 3,\n",
       "  'label': 'check if helped',\n",
       "  'is_start': False,\n",
       "  'utterances': ['Has this resolved the issue for you?']},\n",
       " {'id': 4,\n",
       "  'label': 'verification',\n",
       "  'is_start': False,\n",
       "  'utterances': ['Try cleaning browser cache.']},\n",
       " {'id': 5,\n",
       "  'label': 'ask about additional problem',\n",
       "  'is_start': False,\n",
       "  'utterances': ['What is the other problem that you are experiencing?']},\n",
       " {'id': 6,\n",
       "  'label': 'solution for balance',\n",
       "  'is_start': False,\n",
       "  'utterances': ['Try logging out of the website and then re-logging in.']},\n",
       " {'id': 7,\n",
       "  'label': 'end',\n",
       "  'is_start': False,\n",
       "  'utterances': ['Thank you for contacting us, have a nice day.']}]"
      ]
     },
     "execution_count": 4,
     "metadata": {},
     "output_type": "execute_result"
    }
   ],
   "source": [
    "graph_dict = data[0]['graph']\n",
    "graph_dict.get(\"nodes\")"
   ]
  },
  {
   "cell_type": "code",
   "execution_count": 5,
   "metadata": {},
   "outputs": [
    {
     "data": {
      "text/plain": [
       "[{'id': 1,\n",
       "  'label': 'welcome and ask',\n",
       "  'is_start': True,\n",
       "  'utterances': ['Hello! This is tech support. How can I help you today?']}]"
      ]
     },
     "execution_count": 5,
     "metadata": {},
     "output_type": "execute_result"
    }
   ],
   "source": [
    "starts = [n for n in graph_dict.get(\"nodes\") if n[\"is_start\"]]\n",
    "starts"
   ]
  },
  {
   "cell_type": "code",
   "execution_count": 6,
   "metadata": {},
   "outputs": [],
   "source": [
    "from chatsky_llm_autoconfig.graph import Graph"
   ]
  },
  {
   "cell_type": "code",
   "execution_count": 7,
   "metadata": {},
   "outputs": [],
   "source": [
    "gr = Graph(graph_dict=graph_dict)"
   ]
  },
  {
   "cell_type": "code",
   "execution_count": 84,
   "metadata": {},
   "outputs": [],
   "source": [
    "def list_in(a, b):\n",
    "    return any(map(lambda x: b[x:x + len(a)] == a, range(len(b) - len(a) + 1)))"
   ]
  },
  {
   "cell_type": "code",
   "execution_count": 13,
   "metadata": {},
   "outputs": [
    {
     "data": {
      "text/plain": [
       "[{'id': 1,\n",
       "  'label': 'welcome and ask',\n",
       "  'is_start': True,\n",
       "  'utterances': ['Hello! This is tech support. How can I help you today?']}]"
      ]
     },
     "execution_count": 13,
     "metadata": {},
     "output_type": "execute_result"
    }
   ],
   "source": [
    "starts"
   ]
  },
  {
   "cell_type": "code",
   "execution_count": 174,
   "metadata": {},
   "outputs": [],
   "source": [
    "visitedList = [[]]\n",
    "\n",
    "def all_paths(graph: Graph, start: int, visited: list):\n",
    "    print(\"start: \", start, len(visitedList))\n",
    "    if len(visited) < 2 or not list_in(visited[-2:]+[start],visited):\n",
    "        visited.append(start)\n",
    "        print(\"visited:\", visited)\n",
    "        for edge in graph.edge_by_source(start):\n",
    "\n",
    "        # if [start,edge['target']] not in visited:           \n",
    "            all_paths(graph, edge['target'], visited.copy())\n",
    "    visitedList.append(visited)"
   ]
  },
  {
   "cell_type": "code",
   "execution_count": 230,
   "metadata": {},
   "outputs": [
    {
     "name": "stdout",
     "output_type": "stream",
     "text": [
      "start:  1 20\n",
      "visited: [1]\n",
      "start:  2 20\n",
      "visited: [1, 2]\n",
      "start:  3 20\n",
      "visited: [1, 2, 3]\n",
      "start:  4 20\n",
      "visited: [1, 2, 3, 4]\n",
      "start:  3 20\n",
      "visited: [1, 2, 3, 4, 3]\n",
      "start:  4 20\n",
      "visited: [1, 2, 3, 4, 3, 4]\n",
      "start:  3 20\n",
      "start:  7 22\n",
      "visited: [1, 2, 3, 4, 3, 7]\n",
      "start:  5 23\n",
      "visited: [1, 2, 3, 4, 3, 5]\n",
      "start:  6 23\n",
      "visited: [1, 2, 3, 4, 3, 5, 6]\n",
      "start:  3 23\n",
      "visited: [1, 2, 3, 4, 3, 5, 6, 3]\n",
      "start:  4 23\n",
      "visited: [1, 2, 3, 4, 3, 5, 6, 3, 4]\n",
      "start:  3 23\n",
      "start:  7 25\n",
      "visited: [1, 2, 3, 4, 3, 5, 6, 3, 7]\n",
      "start:  5 26\n",
      "visited: [1, 2, 3, 4, 3, 5, 6, 3, 5]\n",
      "start:  6 26\n",
      "start:  2 29\n",
      "visited: [1, 2, 3, 4, 3, 5, 6, 2]\n",
      "start:  3 29\n",
      "visited: [1, 2, 3, 4, 3, 5, 6, 2, 3]\n",
      "start:  4 29\n",
      "start:  7 30\n",
      "visited: [1, 2, 3, 4, 3, 5, 6, 2, 3, 7]\n",
      "start:  5 31\n",
      "visited: [1, 2, 3, 4, 3, 5, 6, 2, 3, 5]\n",
      "start:  6 31\n",
      "start:  7 39\n",
      "visited: [1, 2, 3, 7]\n",
      "start:  5 40\n",
      "visited: [1, 2, 3, 5]\n",
      "start:  6 40\n",
      "visited: [1, 2, 3, 5, 6]\n",
      "start:  3 40\n",
      "visited: [1, 2, 3, 5, 6, 3]\n",
      "start:  4 40\n",
      "visited: [1, 2, 3, 5, 6, 3, 4]\n",
      "start:  3 40\n",
      "visited: [1, 2, 3, 5, 6, 3, 4, 3]\n",
      "start:  4 40\n",
      "visited: [1, 2, 3, 5, 6, 3, 4, 3, 4]\n",
      "start:  3 40\n",
      "start:  7 42\n",
      "visited: [1, 2, 3, 5, 6, 3, 4, 3, 7]\n",
      "start:  5 43\n",
      "visited: [1, 2, 3, 5, 6, 3, 4, 3, 5]\n",
      "start:  6 43\n",
      "start:  7 47\n",
      "visited: [1, 2, 3, 5, 6, 3, 7]\n",
      "start:  5 48\n",
      "visited: [1, 2, 3, 5, 6, 3, 5]\n",
      "start:  6 48\n",
      "start:  2 51\n",
      "visited: [1, 2, 3, 5, 6, 2]\n",
      "start:  3 51\n",
      "visited: [1, 2, 3, 5, 6, 2, 3]\n",
      "start:  4 51\n",
      "visited: [1, 2, 3, 5, 6, 2, 3, 4]\n",
      "start:  3 51\n",
      "visited: [1, 2, 3, 5, 6, 2, 3, 4, 3]\n",
      "start:  4 51\n",
      "visited: [1, 2, 3, 5, 6, 2, 3, 4, 3, 4]\n",
      "start:  3 51\n",
      "start:  7 53\n",
      "visited: [1, 2, 3, 5, 6, 2, 3, 4, 3, 7]\n",
      "start:  5 54\n",
      "visited: [1, 2, 3, 5, 6, 2, 3, 4, 3, 5]\n",
      "start:  6 54\n",
      "start:  7 58\n",
      "visited: [1, 2, 3, 5, 6, 2, 3, 7]\n",
      "start:  5 59\n",
      "[[], [{}, {'assistant': 'Hello! This is tech support. How can I help you today?'}, {'user': 'The website loading takes too long'}, {'assistant': 'Try to reload your device.'}, {'user': 'Sure, I will try that'}, {'assistant': 'Has this resolved the issue for you?'}, {'user': 'No, it did not work '}, {'assistant': 'Try cleaning browser cache.'}, {'user': 'All right, I will try cleaning cache'}, {'assistant': 'Has this resolved the issue for you?'}, {'user': \"Actually, I'm having a different issue now\"}, {'assistant': 'What is the other problem that you are experiencing?'}, {'user': \"I've put some money on my account but the balance is not updated on the website\"}, {'assistant': 'Try logging out of the website and then re-logging in.'}, {'user': 'The balance is updated but now the website is slow again'}, {'assistant': 'Try to reload your device.'}, {'user': 'Sure, I will try that'}, {'assistant': 'Has this resolved the issue for you?'}, {'user': 'Yes, that fixed everything'}], [{}, {'assistant': 'Hello! This is tech support. How can I help you today?'}, {'user': 'The website loading takes too long'}, {'assistant': 'Try to reload your device.'}, {'user': 'Sure, I will try that'}, {'assistant': 'Has this resolved the issue for you?'}, {'user': 'No, it did not work '}, {'assistant': 'Try cleaning browser cache.'}, {'user': 'All right, I will try cleaning cache'}, {'assistant': 'Has this resolved the issue for you?'}, {'user': \"Actually, I'm having a different issue now\"}, {'assistant': 'What is the other problem that you are experiencing?'}, {'user': \"I've put some money on my account but the balance is not updated on the website\"}, {'assistant': 'Try logging out of the website and then re-logging in.'}, {'user': 'The balance is updated but now the website is slow again'}, {'assistant': 'Try to reload your device.'}, {'user': 'Sure, I will try that'}, {'assistant': 'Has this resolved the issue for you?'}], [{}, {'assistant': 'Hello! This is tech support. How can I help you today?'}, {'user': 'The website loading takes too long'}, {'assistant': 'Try to reload your device.'}, {'user': 'Sure, I will try that'}, {'assistant': 'Has this resolved the issue for you?'}, {'user': 'No, it did not work '}, {'assistant': 'Try cleaning browser cache.'}, {'user': 'All right, I will try cleaning cache'}, {'assistant': 'Has this resolved the issue for you?'}, {'user': \"Actually, I'm having a different issue now\"}, {'assistant': 'What is the other problem that you are experiencing?'}, {'user': \"I've put some money on my account but the balance is not updated on the website\"}, {'assistant': 'Try logging out of the website and then re-logging in.'}, {'user': 'The balance is updated but now the website is slow again'}, {'assistant': 'Try to reload your device.'}, {'user': 'Sure, I will try that'}], [{}, {'assistant': 'Hello! This is tech support. How can I help you today?'}, {'user': 'The website loading takes too long'}, {'assistant': 'Try to reload your device.'}, {'user': 'Sure, I will try that'}, {'assistant': 'Has this resolved the issue for you?'}, {'user': 'No, it did not work '}, {'assistant': 'Try cleaning browser cache.'}, {'user': 'All right, I will try cleaning cache'}, {'assistant': 'Has this resolved the issue for you?'}, {'user': \"Actually, I'm having a different issue now\"}, {'assistant': 'What is the other problem that you are experiencing?'}, {'user': \"I've put some money on my account but the balance is not updated on the website\"}, {'assistant': 'Try logging out of the website and then re-logging in.'}, {'user': 'The balance is updated but now the website is slow again'}, {'assistant': 'Try to reload your device.'}], [{}, {'assistant': 'Hello! This is tech support. How can I help you today?'}, {'user': 'The website loading takes too long'}, {'assistant': 'Try to reload your device.'}, {'user': 'Sure, I will try that'}, {'assistant': 'Has this resolved the issue for you?'}, {'user': 'No, it did not work '}, {'assistant': 'Try cleaning browser cache.'}, {'user': 'All right, I will try cleaning cache'}, {'assistant': 'Has this resolved the issue for you?'}, {'user': \"Actually, I'm having a different issue now\"}, {'assistant': 'What is the other problem that you are experiencing?'}, {'user': \"I've put some money on my account but the balance is not updated on the website\"}, {'assistant': 'Try logging out of the website and then re-logging in.'}, {'user': 'The balance is updated but now the website is slow again'}], [{}, {'assistant': 'Hello! This is tech support. How can I help you today?'}, {'user': 'The website loading takes too long'}, {'assistant': 'Try to reload your device.'}, {'user': 'Sure, I will try that'}, {'assistant': 'Has this resolved the issue for you?'}, {'user': 'No, it did not work '}, {'assistant': 'Try cleaning browser cache.'}, {'user': 'All right, I will try cleaning cache'}, {'assistant': 'Has this resolved the issue for you?'}, {'user': \"Actually, I'm having a different issue now\"}, {'assistant': 'What is the other problem that you are experiencing?'}, {'user': \"I've put some money on my account but the balance is not updated on the website\"}, {'assistant': 'Try logging out of the website and then re-logging in.'}], [{}, {'assistant': 'Hello! This is tech support. How can I help you today?'}, {'user': 'The website loading takes too long'}, {'assistant': 'Try to reload your device.'}, {'user': 'Sure, I will try that'}, {'assistant': 'Has this resolved the issue for you?'}, {'user': 'No, it did not work '}, {'assistant': 'Try cleaning browser cache.'}, {'user': 'All right, I will try cleaning cache'}, {'assistant': 'Has this resolved the issue for you?'}, {'user': \"Actually, I'm having a different issue now\"}, {'assistant': 'What is the other problem that you are experiencing?'}, {'user': \"I've put some money on my account but the balance is not updated on the website\"}], [{}, {'assistant': 'Hello! This is tech support. How can I help you today?'}, {'user': 'The website loading takes too long'}, {'assistant': 'Try to reload your device.'}, {'user': 'Sure, I will try that'}, {'assistant': 'Has this resolved the issue for you?'}, {'user': 'No, it did not work '}, {'assistant': 'Try cleaning browser cache.'}, {'user': 'All right, I will try cleaning cache'}, {'assistant': 'Has this resolved the issue for you?'}, {'user': \"Actually, I'm having a different issue now\"}, {'assistant': 'What is the other problem that you are experiencing?'}], [{}, {'assistant': 'Hello! This is tech support. How can I help you today?'}, {'user': 'The website loading takes too long'}, {'assistant': 'Try to reload your device.'}, {'user': 'Sure, I will try that'}, {'assistant': 'Has this resolved the issue for you?'}, {'user': 'No, it did not work '}, {'assistant': 'Try cleaning browser cache.'}, {'user': 'All right, I will try cleaning cache'}, {'assistant': 'Has this resolved the issue for you?'}, {'user': \"Actually, I'm having a different issue now\"}], [{}, {'assistant': 'Hello! This is tech support. How can I help you today?'}, {'user': 'The website loading takes too long'}, {'assistant': 'Try to reload your device.'}, {'user': 'Sure, I will try that'}, {'assistant': 'Has this resolved the issue for you?'}, {'user': 'No, it did not work '}, {'assistant': 'Try cleaning browser cache.'}, {'user': 'All right, I will try cleaning cache'}, {'assistant': 'Has this resolved the issue for you?'}], [{}, {'assistant': 'Hello! This is tech support. How can I help you today?'}, {'user': 'The website loading takes too long'}, {'assistant': 'Try to reload your device.'}, {'user': 'Sure, I will try that'}, {'assistant': 'Has this resolved the issue for you?'}, {'user': 'No, it did not work '}, {'assistant': 'Try cleaning browser cache.'}, {'user': 'All right, I will try cleaning cache'}], [{}, {'assistant': 'Hello! This is tech support. How can I help you today?'}, {'user': 'The website loading takes too long'}, {'assistant': 'Try to reload your device.'}, {'user': 'Sure, I will try that'}, {'assistant': 'Has this resolved the issue for you?'}, {'user': 'No, it did not work '}, {'assistant': 'Try cleaning browser cache.'}], [{}, {'assistant': 'Hello! This is tech support. How can I help you today?'}, {'user': 'The website loading takes too long'}, {'assistant': 'Try to reload your device.'}, {'user': 'Sure, I will try that'}, {'assistant': 'Has this resolved the issue for you?'}, {'user': 'No, it did not work '}], [{}, {'assistant': 'Hello! This is tech support. How can I help you today?'}, {'user': 'The website loading takes too long'}, {'assistant': 'Try to reload your device.'}, {'user': 'Sure, I will try that'}, {'assistant': 'Has this resolved the issue for you?'}], [{}, {'assistant': 'Hello! This is tech support. How can I help you today?'}, {'user': 'The website loading takes too long'}, {'assistant': 'Try to reload your device.'}, {'user': 'Sure, I will try that'}], [{}, {'assistant': 'Hello! This is tech support. How can I help you today?'}, {'user': 'The website loading takes too long'}, {'assistant': 'Try to reload your device.'}], [{}, {'assistant': 'Hello! This is tech support. How can I help you today?'}, {'user': 'The website loading takes too long'}], [{}, {'assistant': 'Hello! This is tech support. How can I help you today?'}], [{}], [1, 2, 3, 4, 3, 4], [1, 2, 3, 4, 3, 4], [1, 2, 3, 4, 3, 7], [1, 2, 3, 4, 3, 5, 6, 3, 4], [1, 2, 3, 4, 3, 5, 6, 3, 4], [1, 2, 3, 4, 3, 5, 6, 3, 7], [1, 2, 3, 4, 3, 5, 6, 3, 5], [1, 2, 3, 4, 3, 5, 6, 3, 5], [1, 2, 3, 4, 3, 5, 6, 3], [1, 2, 3, 4, 3, 5, 6, 2, 3], [1, 2, 3, 4, 3, 5, 6, 2, 3, 7], [1, 2, 3, 4, 3, 5, 6, 2, 3, 5], [1, 2, 3, 4, 3, 5, 6, 2, 3, 5], [1, 2, 3, 4, 3, 5, 6, 2, 3], [1, 2, 3, 4, 3, 5, 6, 2], [1, 2, 3, 4, 3, 5, 6], [1, 2, 3, 4, 3, 5], [1, 2, 3, 4, 3], [1, 2, 3, 4], [1, 2, 3, 7], [1, 2, 3, 5, 6, 3, 4, 3, 4], [1, 2, 3, 5, 6, 3, 4, 3, 4], [1, 2, 3, 5, 6, 3, 4, 3, 7], [1, 2, 3, 5, 6, 3, 4, 3, 5], [1, 2, 3, 5, 6, 3, 4, 3, 5], [1, 2, 3, 5, 6, 3, 4, 3], [1, 2, 3, 5, 6, 3, 4], [1, 2, 3, 5, 6, 3, 7], [1, 2, 3, 5, 6, 3, 5], [1, 2, 3, 5, 6, 3, 5], [1, 2, 3, 5, 6, 3], [1, 2, 3, 5, 6, 2, 3, 4, 3, 4], [1, 2, 3, 5, 6, 2, 3, 4, 3, 4], [1, 2, 3, 5, 6, 2, 3, 4, 3, 7], [1, 2, 3, 5, 6, 2, 3, 4, 3, 5], [1, 2, 3, 5, 6, 2, 3, 4, 3, 5], [1, 2, 3, 5, 6, 2, 3, 4, 3], [1, 2, 3, 5, 6, 2, 3, 4], [1, 2, 3, 5, 6, 2, 3, 7], [1, 2, 3, 5, 6, 2, 3], [1, 2, 3, 5, 6, 2, 3], [1, 2, 3, 5, 6, 2], [1, 2, 3, 5, 6], [1, 2, 3, 5], [1, 2, 3], [1, 2], [1]]\n"
     ]
    }
   ],
   "source": [
    "all_paths(gr, starts[0]['id'], [])\n",
    "\n",
    "print(visitedList)"
   ]
  },
  {
   "cell_type": "code",
   "execution_count": 231,
   "metadata": {},
   "outputs": [
    {
     "data": {
      "text/plain": [
       "[{},\n",
       " {'assistant': 'Hello! This is tech support. How can I help you today?'},\n",
       " {'user': 'The website loading takes too long'},\n",
       " {'assistant': 'Try to reload your device.'},\n",
       " {'user': 'Sure, I will try that'},\n",
       " {'assistant': 'Has this resolved the issue for you?'},\n",
       " {'user': 'No, it did not work '},\n",
       " {'assistant': 'Try cleaning browser cache.'},\n",
       " {'user': 'All right, I will try cleaning cache'},\n",
       " {'assistant': 'Has this resolved the issue for you?'},\n",
       " {'user': \"Actually, I'm having a different issue now\"},\n",
       " {'assistant': 'What is the other problem that you are experiencing?'},\n",
       " {'user': \"I've put some money on my account but the balance is not updated on the website\"},\n",
       " {'assistant': 'Try logging out of the website and then re-logging in.'},\n",
       " {'user': 'The balance is updated but now the website is slow again'},\n",
       " {'assistant': 'Try to reload your device.'},\n",
       " {'user': 'Sure, I will try that'},\n",
       " {'assistant': 'Has this resolved the issue for you?'},\n",
       " {'user': 'Yes, that fixed everything'}]"
      ]
     },
     "execution_count": 231,
     "metadata": {},
     "output_type": "execute_result"
    }
   ],
   "source": [
    "visitedList[1]"
   ]
  },
  {
   "cell_type": "code",
   "execution_count": 177,
   "metadata": {},
   "outputs": [],
   "source": [
    "import itertools\n",
    "visitedList.sort()\n",
    "final = list(k for k,_ in itertools.groupby(visitedList))[1:]"
   ]
  },
  {
   "cell_type": "code",
   "execution_count": 141,
   "metadata": {},
   "outputs": [
    {
     "data": {
      "text/plain": [
       "[{'id': 1,\n",
       "  'label': 'welcome and ask',\n",
       "  'is_start': True,\n",
       "  'utterances': ['Hello! This is tech support. How can I help you today?']},\n",
       " {'id': 2,\n",
       "  'label': 'reload',\n",
       "  'is_start': False,\n",
       "  'utterances': ['Try to reload your device.']},\n",
       " {'id': 3,\n",
       "  'label': 'check if helped',\n",
       "  'is_start': False,\n",
       "  'utterances': ['Has this resolved the issue for you?']},\n",
       " {'id': 4,\n",
       "  'label': 'verification',\n",
       "  'is_start': False,\n",
       "  'utterances': ['Try cleaning browser cache.']},\n",
       " {'id': 5,\n",
       "  'label': 'ask about additional problem',\n",
       "  'is_start': False,\n",
       "  'utterances': ['What is the other problem that you are experiencing?']},\n",
       " {'id': 6,\n",
       "  'label': 'solution for balance',\n",
       "  'is_start': False,\n",
       "  'utterances': ['Try logging out of the website and then re-logging in.']},\n",
       " {'id': 7,\n",
       "  'label': 'end',\n",
       "  'is_start': False,\n",
       "  'utterances': ['Thank you for contacting us, have a nice day.']}]"
      ]
     },
     "execution_count": 141,
     "metadata": {},
     "output_type": "execute_result"
    }
   ],
   "source": [
    "graph_dict['nodes']"
   ]
  },
  {
   "cell_type": "code",
   "execution_count": 144,
   "metadata": {},
   "outputs": [],
   "source": [
    "sources = list(set([g['source'] for g in graph_dict['edges']]))"
   ]
  },
  {
   "cell_type": "code",
   "execution_count": 145,
   "metadata": {},
   "outputs": [
    {
     "data": {
      "text/plain": [
       "[7]"
      ]
     },
     "execution_count": 145,
     "metadata": {},
     "output_type": "execute_result"
    }
   ],
   "source": [
    "ends = [g['id'] for g in graph_dict['nodes'] if g['id'] not in sources]\n",
    "ends"
   ]
  },
  {
   "cell_type": "code",
   "execution_count": 178,
   "metadata": {},
   "outputs": [],
   "source": [
    "node_paths = [f for f in final if f[-1] in ends]"
   ]
  },
  {
   "cell_type": "code",
   "execution_count": 179,
   "metadata": {},
   "outputs": [
    {
     "data": {
      "text/plain": [
       "8"
      ]
     },
     "execution_count": 179,
     "metadata": {},
     "output_type": "execute_result"
    }
   ],
   "source": [
    "len(node_paths)"
   ]
  },
  {
   "cell_type": "code",
   "execution_count": 154,
   "metadata": {},
   "outputs": [
    {
     "data": {
      "text/plain": [
       "Graph(graph_dict={'nodes': [{'id': 1, 'label': 'welcome and ask', 'is_start': True, 'utterances': ['Hello! This is tech support. How can I help you today?']}, {'id': 2, 'label': 'reload', 'is_start': False, 'utterances': ['Try to reload your device.']}, {'id': 3, 'label': 'check if helped', 'is_start': False, 'utterances': ['Has this resolved the issue for you?']}, {'id': 4, 'label': 'verification', 'is_start': False, 'utterances': ['Try cleaning browser cache.']}, {'id': 5, 'label': 'ask about additional problem', 'is_start': False, 'utterances': ['What is the other problem that you are experiencing?']}, {'id': 6, 'label': 'solution for balance', 'is_start': False, 'utterances': ['Try logging out of the website and then re-logging in.']}, {'id': 7, 'label': 'end', 'is_start': False, 'utterances': ['Thank you for contacting us, have a nice day.']}], 'edges': [{'source': 1, 'target': 2, 'utterances': ['The website loading takes too long']}, {'source': 2, 'target': 3, 'utterances': ['Sure, I will try that']}, {'source': 3, 'target': 4, 'utterances': ['No, it did not work ']}, {'source': 4, 'target': 3, 'utterances': ['All right, I will try cleaning cache']}, {'source': 3, 'target': 7, 'utterances': ['Yes, that fixed everything']}, {'source': 3, 'target': 5, 'utterances': [\"Actually, I'm having a different issue now\"]}, {'source': 5, 'target': 6, 'utterances': [\"I've put some money on my account but the balance is not updated on the website\"]}, {'source': 6, 'target': 3, 'utterances': ['Ok, I will try to log out']}, {'source': 6, 'target': 2, 'utterances': ['The balance is updated but now the website is slow again']}]}, graph=<networkx.classes.digraph.DiGraph object at 0x11a5f0410>, node_mapping={})"
      ]
     },
     "execution_count": 154,
     "metadata": {},
     "output_type": "execute_result"
    }
   ],
   "source": [
    "gr"
   ]
  },
  {
   "cell_type": "code",
   "execution_count": 180,
   "metadata": {},
   "outputs": [
    {
     "data": {
      "text/plain": [
       "[[1, 2, 3, 4, 3, 5, 6, 2, 3, 7],\n",
       " [1, 2, 3, 4, 3, 5, 6, 3, 7],\n",
       " [1, 2, 3, 4, 3, 7],\n",
       " [1, 2, 3, 5, 6, 2, 3, 4, 3, 7],\n",
       " [1, 2, 3, 5, 6, 2, 3, 7],\n",
       " [1, 2, 3, 5, 6, 3, 4, 3, 7],\n",
       " [1, 2, 3, 5, 6, 3, 7],\n",
       " [1, 2, 3, 7]]"
      ]
     },
     "execution_count": 180,
     "metadata": {},
     "output_type": "execute_result"
    }
   ],
   "source": [
    "node_paths"
   ]
  },
  {
   "cell_type": "code",
   "execution_count": 166,
   "metadata": {},
   "outputs": [
    {
     "data": {
      "text/plain": [
       "[{'source': 1,\n",
       "  'target': 2,\n",
       "  'utterances': ['The website loading takes too long']}]"
      ]
     },
     "execution_count": 166,
     "metadata": {},
     "output_type": "execute_result"
    }
   ],
   "source": [
    "gr.edge_by_source(1)"
   ]
  },
  {
   "cell_type": "code",
   "execution_count": 169,
   "metadata": {},
   "outputs": [
    {
     "data": {
      "text/plain": [
       "[{'source': 1,\n",
       "  'target': 2,\n",
       "  'utterances': ['The website loading takes too long']},\n",
       " {'source': 2, 'target': 3, 'utterances': ['Sure, I will try that']},\n",
       " {'source': 3, 'target': 4, 'utterances': ['No, it did not work ']},\n",
       " {'source': 4,\n",
       "  'target': 3,\n",
       "  'utterances': ['All right, I will try cleaning cache']},\n",
       " {'source': 3, 'target': 7, 'utterances': ['Yes, that fixed everything']},\n",
       " {'source': 3,\n",
       "  'target': 5,\n",
       "  'utterances': [\"Actually, I'm having a different issue now\"]},\n",
       " {'source': 5,\n",
       "  'target': 6,\n",
       "  'utterances': [\"I've put some money on my account but the balance is not updated on the website\"]},\n",
       " {'source': 6, 'target': 3, 'utterances': ['Ok, I will try to log out']},\n",
       " {'source': 6,\n",
       "  'target': 2,\n",
       "  'utterances': ['The balance is updated but now the website is slow again']}]"
      ]
     },
     "execution_count": 169,
     "metadata": {},
     "output_type": "execute_result"
    }
   ],
   "source": [
    "graph_dict['edges']"
   ]
  },
  {
   "cell_type": "code",
   "execution_count": 181,
   "metadata": {},
   "outputs": [
    {
     "name": "stdout",
     "output_type": "stream",
     "text": [
      "[1, 2, 3, 4, 3, 5, 6, 2, 3, 7]\n",
      "SOURCES:  [{'source': 1, 'target': 2, 'utterances': ['The website loading takes too long']}] 1\n",
      "TARGETS:  [{'source': 1, 'target': 2, 'utterances': ['The website loading takes too long']}, {'source': 6, 'target': 2, 'utterances': ['The balance is updated but now the website is slow again']}] 2\n",
      "SOURCES:  [{'source': 2, 'target': 3, 'utterances': ['Sure, I will try that']}] 2\n",
      "TARGETS:  [{'source': 2, 'target': 3, 'utterances': ['Sure, I will try that']}, {'source': 4, 'target': 3, 'utterances': ['All right, I will try cleaning cache']}, {'source': 6, 'target': 3, 'utterances': ['Ok, I will try to log out']}] 3\n",
      "SOURCES:  [{'source': 3, 'target': 4, 'utterances': ['No, it did not work ']}, {'source': 3, 'target': 7, 'utterances': ['Yes, that fixed everything']}, {'source': 3, 'target': 5, 'utterances': [\"Actually, I'm having a different issue now\"]}] 3\n",
      "TARGETS:  [{'source': 3, 'target': 4, 'utterances': ['No, it did not work ']}] 4\n",
      "SOURCES:  [{'source': 4, 'target': 3, 'utterances': ['All right, I will try cleaning cache']}] 4\n",
      "TARGETS:  [{'source': 2, 'target': 3, 'utterances': ['Sure, I will try that']}, {'source': 4, 'target': 3, 'utterances': ['All right, I will try cleaning cache']}, {'source': 6, 'target': 3, 'utterances': ['Ok, I will try to log out']}] 3\n",
      "SOURCES:  [{'source': 3, 'target': 4, 'utterances': ['No, it did not work ']}, {'source': 3, 'target': 7, 'utterances': ['Yes, that fixed everything']}, {'source': 3, 'target': 5, 'utterances': [\"Actually, I'm having a different issue now\"]}] 3\n",
      "TARGETS:  [{'source': 3, 'target': 5, 'utterances': [\"Actually, I'm having a different issue now\"]}] 5\n",
      "SOURCES:  [{'source': 5, 'target': 6, 'utterances': [\"I've put some money on my account but the balance is not updated on the website\"]}] 5\n",
      "TARGETS:  [{'source': 5, 'target': 6, 'utterances': [\"I've put some money on my account but the balance is not updated on the website\"]}] 6\n",
      "SOURCES:  [{'source': 6, 'target': 3, 'utterances': ['Ok, I will try to log out']}, {'source': 6, 'target': 2, 'utterances': ['The balance is updated but now the website is slow again']}] 6\n",
      "TARGETS:  [{'source': 1, 'target': 2, 'utterances': ['The website loading takes too long']}, {'source': 6, 'target': 2, 'utterances': ['The balance is updated but now the website is slow again']}] 2\n",
      "SOURCES:  [{'source': 2, 'target': 3, 'utterances': ['Sure, I will try that']}] 2\n",
      "TARGETS:  [{'source': 2, 'target': 3, 'utterances': ['Sure, I will try that']}, {'source': 4, 'target': 3, 'utterances': ['All right, I will try cleaning cache']}, {'source': 6, 'target': 3, 'utterances': ['Ok, I will try to log out']}] 3\n",
      "SOURCES:  [{'source': 3, 'target': 4, 'utterances': ['No, it did not work ']}, {'source': 3, 'target': 7, 'utterances': ['Yes, that fixed everything']}, {'source': 3, 'target': 5, 'utterances': [\"Actually, I'm having a different issue now\"]}] 3\n",
      "TARGETS:  [{'source': 3, 'target': 7, 'utterances': ['Yes, that fixed everything']}] 7\n",
      "[1, 2, 3, 4, 3, 5, 6, 3, 7]\n",
      "SOURCES:  [{'source': 1, 'target': 2, 'utterances': ['The website loading takes too long']}] 1\n",
      "TARGETS:  [{'source': 1, 'target': 2, 'utterances': ['The website loading takes too long']}, {'source': 6, 'target': 2, 'utterances': ['The balance is updated but now the website is slow again']}] 2\n",
      "SOURCES:  [{'source': 2, 'target': 3, 'utterances': ['Sure, I will try that']}] 2\n",
      "TARGETS:  [{'source': 2, 'target': 3, 'utterances': ['Sure, I will try that']}, {'source': 4, 'target': 3, 'utterances': ['All right, I will try cleaning cache']}, {'source': 6, 'target': 3, 'utterances': ['Ok, I will try to log out']}] 3\n",
      "SOURCES:  [{'source': 3, 'target': 4, 'utterances': ['No, it did not work ']}, {'source': 3, 'target': 7, 'utterances': ['Yes, that fixed everything']}, {'source': 3, 'target': 5, 'utterances': [\"Actually, I'm having a different issue now\"]}] 3\n",
      "TARGETS:  [{'source': 3, 'target': 4, 'utterances': ['No, it did not work ']}] 4\n",
      "SOURCES:  [{'source': 4, 'target': 3, 'utterances': ['All right, I will try cleaning cache']}] 4\n",
      "TARGETS:  [{'source': 2, 'target': 3, 'utterances': ['Sure, I will try that']}, {'source': 4, 'target': 3, 'utterances': ['All right, I will try cleaning cache']}, {'source': 6, 'target': 3, 'utterances': ['Ok, I will try to log out']}] 3\n",
      "SOURCES:  [{'source': 3, 'target': 4, 'utterances': ['No, it did not work ']}, {'source': 3, 'target': 7, 'utterances': ['Yes, that fixed everything']}, {'source': 3, 'target': 5, 'utterances': [\"Actually, I'm having a different issue now\"]}] 3\n",
      "TARGETS:  [{'source': 3, 'target': 5, 'utterances': [\"Actually, I'm having a different issue now\"]}] 5\n",
      "SOURCES:  [{'source': 5, 'target': 6, 'utterances': [\"I've put some money on my account but the balance is not updated on the website\"]}] 5\n",
      "TARGETS:  [{'source': 5, 'target': 6, 'utterances': [\"I've put some money on my account but the balance is not updated on the website\"]}] 6\n",
      "SOURCES:  [{'source': 6, 'target': 3, 'utterances': ['Ok, I will try to log out']}, {'source': 6, 'target': 2, 'utterances': ['The balance is updated but now the website is slow again']}] 6\n",
      "TARGETS:  [{'source': 2, 'target': 3, 'utterances': ['Sure, I will try that']}, {'source': 4, 'target': 3, 'utterances': ['All right, I will try cleaning cache']}, {'source': 6, 'target': 3, 'utterances': ['Ok, I will try to log out']}] 3\n",
      "SOURCES:  [{'source': 3, 'target': 4, 'utterances': ['No, it did not work ']}, {'source': 3, 'target': 7, 'utterances': ['Yes, that fixed everything']}, {'source': 3, 'target': 5, 'utterances': [\"Actually, I'm having a different issue now\"]}] 3\n",
      "TARGETS:  [{'source': 3, 'target': 7, 'utterances': ['Yes, that fixed everything']}] 7\n",
      "[1, 2, 3, 4, 3, 7]\n",
      "SOURCES:  [{'source': 1, 'target': 2, 'utterances': ['The website loading takes too long']}] 1\n",
      "TARGETS:  [{'source': 1, 'target': 2, 'utterances': ['The website loading takes too long']}, {'source': 6, 'target': 2, 'utterances': ['The balance is updated but now the website is slow again']}] 2\n",
      "SOURCES:  [{'source': 2, 'target': 3, 'utterances': ['Sure, I will try that']}] 2\n",
      "TARGETS:  [{'source': 2, 'target': 3, 'utterances': ['Sure, I will try that']}, {'source': 4, 'target': 3, 'utterances': ['All right, I will try cleaning cache']}, {'source': 6, 'target': 3, 'utterances': ['Ok, I will try to log out']}] 3\n",
      "SOURCES:  [{'source': 3, 'target': 4, 'utterances': ['No, it did not work ']}, {'source': 3, 'target': 7, 'utterances': ['Yes, that fixed everything']}, {'source': 3, 'target': 5, 'utterances': [\"Actually, I'm having a different issue now\"]}] 3\n",
      "TARGETS:  [{'source': 3, 'target': 4, 'utterances': ['No, it did not work ']}] 4\n",
      "SOURCES:  [{'source': 4, 'target': 3, 'utterances': ['All right, I will try cleaning cache']}] 4\n",
      "TARGETS:  [{'source': 2, 'target': 3, 'utterances': ['Sure, I will try that']}, {'source': 4, 'target': 3, 'utterances': ['All right, I will try cleaning cache']}, {'source': 6, 'target': 3, 'utterances': ['Ok, I will try to log out']}] 3\n",
      "SOURCES:  [{'source': 3, 'target': 4, 'utterances': ['No, it did not work ']}, {'source': 3, 'target': 7, 'utterances': ['Yes, that fixed everything']}, {'source': 3, 'target': 5, 'utterances': [\"Actually, I'm having a different issue now\"]}] 3\n",
      "TARGETS:  [{'source': 3, 'target': 7, 'utterances': ['Yes, that fixed everything']}] 7\n",
      "[1, 2, 3, 5, 6, 2, 3, 4, 3, 7]\n",
      "SOURCES:  [{'source': 1, 'target': 2, 'utterances': ['The website loading takes too long']}] 1\n",
      "TARGETS:  [{'source': 1, 'target': 2, 'utterances': ['The website loading takes too long']}, {'source': 6, 'target': 2, 'utterances': ['The balance is updated but now the website is slow again']}] 2\n",
      "SOURCES:  [{'source': 2, 'target': 3, 'utterances': ['Sure, I will try that']}] 2\n",
      "TARGETS:  [{'source': 2, 'target': 3, 'utterances': ['Sure, I will try that']}, {'source': 4, 'target': 3, 'utterances': ['All right, I will try cleaning cache']}, {'source': 6, 'target': 3, 'utterances': ['Ok, I will try to log out']}] 3\n",
      "SOURCES:  [{'source': 3, 'target': 4, 'utterances': ['No, it did not work ']}, {'source': 3, 'target': 7, 'utterances': ['Yes, that fixed everything']}, {'source': 3, 'target': 5, 'utterances': [\"Actually, I'm having a different issue now\"]}] 3\n",
      "TARGETS:  [{'source': 3, 'target': 5, 'utterances': [\"Actually, I'm having a different issue now\"]}] 5\n",
      "SOURCES:  [{'source': 5, 'target': 6, 'utterances': [\"I've put some money on my account but the balance is not updated on the website\"]}] 5\n",
      "TARGETS:  [{'source': 5, 'target': 6, 'utterances': [\"I've put some money on my account but the balance is not updated on the website\"]}] 6\n",
      "SOURCES:  [{'source': 6, 'target': 3, 'utterances': ['Ok, I will try to log out']}, {'source': 6, 'target': 2, 'utterances': ['The balance is updated but now the website is slow again']}] 6\n",
      "TARGETS:  [{'source': 1, 'target': 2, 'utterances': ['The website loading takes too long']}, {'source': 6, 'target': 2, 'utterances': ['The balance is updated but now the website is slow again']}] 2\n",
      "SOURCES:  [{'source': 2, 'target': 3, 'utterances': ['Sure, I will try that']}] 2\n",
      "TARGETS:  [{'source': 2, 'target': 3, 'utterances': ['Sure, I will try that']}, {'source': 4, 'target': 3, 'utterances': ['All right, I will try cleaning cache']}, {'source': 6, 'target': 3, 'utterances': ['Ok, I will try to log out']}] 3\n",
      "SOURCES:  [{'source': 3, 'target': 4, 'utterances': ['No, it did not work ']}, {'source': 3, 'target': 7, 'utterances': ['Yes, that fixed everything']}, {'source': 3, 'target': 5, 'utterances': [\"Actually, I'm having a different issue now\"]}] 3\n",
      "TARGETS:  [{'source': 3, 'target': 4, 'utterances': ['No, it did not work ']}] 4\n",
      "SOURCES:  [{'source': 4, 'target': 3, 'utterances': ['All right, I will try cleaning cache']}] 4\n",
      "TARGETS:  [{'source': 2, 'target': 3, 'utterances': ['Sure, I will try that']}, {'source': 4, 'target': 3, 'utterances': ['All right, I will try cleaning cache']}, {'source': 6, 'target': 3, 'utterances': ['Ok, I will try to log out']}] 3\n",
      "SOURCES:  [{'source': 3, 'target': 4, 'utterances': ['No, it did not work ']}, {'source': 3, 'target': 7, 'utterances': ['Yes, that fixed everything']}, {'source': 3, 'target': 5, 'utterances': [\"Actually, I'm having a different issue now\"]}] 3\n",
      "TARGETS:  [{'source': 3, 'target': 7, 'utterances': ['Yes, that fixed everything']}] 7\n",
      "[1, 2, 3, 5, 6, 2, 3, 7]\n",
      "SOURCES:  [{'source': 1, 'target': 2, 'utterances': ['The website loading takes too long']}] 1\n",
      "TARGETS:  [{'source': 1, 'target': 2, 'utterances': ['The website loading takes too long']}, {'source': 6, 'target': 2, 'utterances': ['The balance is updated but now the website is slow again']}] 2\n",
      "SOURCES:  [{'source': 2, 'target': 3, 'utterances': ['Sure, I will try that']}] 2\n",
      "TARGETS:  [{'source': 2, 'target': 3, 'utterances': ['Sure, I will try that']}, {'source': 4, 'target': 3, 'utterances': ['All right, I will try cleaning cache']}, {'source': 6, 'target': 3, 'utterances': ['Ok, I will try to log out']}] 3\n",
      "SOURCES:  [{'source': 3, 'target': 4, 'utterances': ['No, it did not work ']}, {'source': 3, 'target': 7, 'utterances': ['Yes, that fixed everything']}, {'source': 3, 'target': 5, 'utterances': [\"Actually, I'm having a different issue now\"]}] 3\n",
      "TARGETS:  [{'source': 3, 'target': 5, 'utterances': [\"Actually, I'm having a different issue now\"]}] 5\n",
      "SOURCES:  [{'source': 5, 'target': 6, 'utterances': [\"I've put some money on my account but the balance is not updated on the website\"]}] 5\n",
      "TARGETS:  [{'source': 5, 'target': 6, 'utterances': [\"I've put some money on my account but the balance is not updated on the website\"]}] 6\n",
      "SOURCES:  [{'source': 6, 'target': 3, 'utterances': ['Ok, I will try to log out']}, {'source': 6, 'target': 2, 'utterances': ['The balance is updated but now the website is slow again']}] 6\n",
      "TARGETS:  [{'source': 1, 'target': 2, 'utterances': ['The website loading takes too long']}, {'source': 6, 'target': 2, 'utterances': ['The balance is updated but now the website is slow again']}] 2\n",
      "SOURCES:  [{'source': 2, 'target': 3, 'utterances': ['Sure, I will try that']}] 2\n",
      "TARGETS:  [{'source': 2, 'target': 3, 'utterances': ['Sure, I will try that']}, {'source': 4, 'target': 3, 'utterances': ['All right, I will try cleaning cache']}, {'source': 6, 'target': 3, 'utterances': ['Ok, I will try to log out']}] 3\n",
      "SOURCES:  [{'source': 3, 'target': 4, 'utterances': ['No, it did not work ']}, {'source': 3, 'target': 7, 'utterances': ['Yes, that fixed everything']}, {'source': 3, 'target': 5, 'utterances': [\"Actually, I'm having a different issue now\"]}] 3\n",
      "TARGETS:  [{'source': 3, 'target': 7, 'utterances': ['Yes, that fixed everything']}] 7\n",
      "[1, 2, 3, 5, 6, 3, 4, 3, 7]\n",
      "SOURCES:  [{'source': 1, 'target': 2, 'utterances': ['The website loading takes too long']}] 1\n",
      "TARGETS:  [{'source': 1, 'target': 2, 'utterances': ['The website loading takes too long']}, {'source': 6, 'target': 2, 'utterances': ['The balance is updated but now the website is slow again']}] 2\n",
      "SOURCES:  [{'source': 2, 'target': 3, 'utterances': ['Sure, I will try that']}] 2\n",
      "TARGETS:  [{'source': 2, 'target': 3, 'utterances': ['Sure, I will try that']}, {'source': 4, 'target': 3, 'utterances': ['All right, I will try cleaning cache']}, {'source': 6, 'target': 3, 'utterances': ['Ok, I will try to log out']}] 3\n",
      "SOURCES:  [{'source': 3, 'target': 4, 'utterances': ['No, it did not work ']}, {'source': 3, 'target': 7, 'utterances': ['Yes, that fixed everything']}, {'source': 3, 'target': 5, 'utterances': [\"Actually, I'm having a different issue now\"]}] 3\n",
      "TARGETS:  [{'source': 3, 'target': 5, 'utterances': [\"Actually, I'm having a different issue now\"]}] 5\n",
      "SOURCES:  [{'source': 5, 'target': 6, 'utterances': [\"I've put some money on my account but the balance is not updated on the website\"]}] 5\n",
      "TARGETS:  [{'source': 5, 'target': 6, 'utterances': [\"I've put some money on my account but the balance is not updated on the website\"]}] 6\n",
      "SOURCES:  [{'source': 6, 'target': 3, 'utterances': ['Ok, I will try to log out']}, {'source': 6, 'target': 2, 'utterances': ['The balance is updated but now the website is slow again']}] 6\n",
      "TARGETS:  [{'source': 2, 'target': 3, 'utterances': ['Sure, I will try that']}, {'source': 4, 'target': 3, 'utterances': ['All right, I will try cleaning cache']}, {'source': 6, 'target': 3, 'utterances': ['Ok, I will try to log out']}] 3\n",
      "SOURCES:  [{'source': 3, 'target': 4, 'utterances': ['No, it did not work ']}, {'source': 3, 'target': 7, 'utterances': ['Yes, that fixed everything']}, {'source': 3, 'target': 5, 'utterances': [\"Actually, I'm having a different issue now\"]}] 3\n",
      "TARGETS:  [{'source': 3, 'target': 4, 'utterances': ['No, it did not work ']}] 4\n",
      "SOURCES:  [{'source': 4, 'target': 3, 'utterances': ['All right, I will try cleaning cache']}] 4\n",
      "TARGETS:  [{'source': 2, 'target': 3, 'utterances': ['Sure, I will try that']}, {'source': 4, 'target': 3, 'utterances': ['All right, I will try cleaning cache']}, {'source': 6, 'target': 3, 'utterances': ['Ok, I will try to log out']}] 3\n",
      "SOURCES:  [{'source': 3, 'target': 4, 'utterances': ['No, it did not work ']}, {'source': 3, 'target': 7, 'utterances': ['Yes, that fixed everything']}, {'source': 3, 'target': 5, 'utterances': [\"Actually, I'm having a different issue now\"]}] 3\n",
      "TARGETS:  [{'source': 3, 'target': 7, 'utterances': ['Yes, that fixed everything']}] 7\n",
      "[1, 2, 3, 5, 6, 3, 7]\n",
      "SOURCES:  [{'source': 1, 'target': 2, 'utterances': ['The website loading takes too long']}] 1\n",
      "TARGETS:  [{'source': 1, 'target': 2, 'utterances': ['The website loading takes too long']}, {'source': 6, 'target': 2, 'utterances': ['The balance is updated but now the website is slow again']}] 2\n",
      "SOURCES:  [{'source': 2, 'target': 3, 'utterances': ['Sure, I will try that']}] 2\n",
      "TARGETS:  [{'source': 2, 'target': 3, 'utterances': ['Sure, I will try that']}, {'source': 4, 'target': 3, 'utterances': ['All right, I will try cleaning cache']}, {'source': 6, 'target': 3, 'utterances': ['Ok, I will try to log out']}] 3\n",
      "SOURCES:  [{'source': 3, 'target': 4, 'utterances': ['No, it did not work ']}, {'source': 3, 'target': 7, 'utterances': ['Yes, that fixed everything']}, {'source': 3, 'target': 5, 'utterances': [\"Actually, I'm having a different issue now\"]}] 3\n",
      "TARGETS:  [{'source': 3, 'target': 5, 'utterances': [\"Actually, I'm having a different issue now\"]}] 5\n",
      "SOURCES:  [{'source': 5, 'target': 6, 'utterances': [\"I've put some money on my account but the balance is not updated on the website\"]}] 5\n",
      "TARGETS:  [{'source': 5, 'target': 6, 'utterances': [\"I've put some money on my account but the balance is not updated on the website\"]}] 6\n",
      "SOURCES:  [{'source': 6, 'target': 3, 'utterances': ['Ok, I will try to log out']}, {'source': 6, 'target': 2, 'utterances': ['The balance is updated but now the website is slow again']}] 6\n",
      "TARGETS:  [{'source': 2, 'target': 3, 'utterances': ['Sure, I will try that']}, {'source': 4, 'target': 3, 'utterances': ['All right, I will try cleaning cache']}, {'source': 6, 'target': 3, 'utterances': ['Ok, I will try to log out']}] 3\n",
      "SOURCES:  [{'source': 3, 'target': 4, 'utterances': ['No, it did not work ']}, {'source': 3, 'target': 7, 'utterances': ['Yes, that fixed everything']}, {'source': 3, 'target': 5, 'utterances': [\"Actually, I'm having a different issue now\"]}] 3\n",
      "TARGETS:  [{'source': 3, 'target': 7, 'utterances': ['Yes, that fixed everything']}] 7\n",
      "[1, 2, 3, 7]\n",
      "SOURCES:  [{'source': 1, 'target': 2, 'utterances': ['The website loading takes too long']}] 1\n",
      "TARGETS:  [{'source': 1, 'target': 2, 'utterances': ['The website loading takes too long']}, {'source': 6, 'target': 2, 'utterances': ['The balance is updated but now the website is slow again']}] 2\n",
      "SOURCES:  [{'source': 2, 'target': 3, 'utterances': ['Sure, I will try that']}] 2\n",
      "TARGETS:  [{'source': 2, 'target': 3, 'utterances': ['Sure, I will try that']}, {'source': 4, 'target': 3, 'utterances': ['All right, I will try cleaning cache']}, {'source': 6, 'target': 3, 'utterances': ['Ok, I will try to log out']}] 3\n",
      "SOURCES:  [{'source': 3, 'target': 4, 'utterances': ['No, it did not work ']}, {'source': 3, 'target': 7, 'utterances': ['Yes, that fixed everything']}, {'source': 3, 'target': 5, 'utterances': [\"Actually, I'm having a different issue now\"]}] 3\n",
      "TARGETS:  [{'source': 3, 'target': 7, 'utterances': ['Yes, that fixed everything']}] 7\n"
     ]
    },
    {
     "data": {
      "text/plain": [
       "[[{'assistant': ['Hello! This is tech support. How can I help you today?']},\n",
       "  {'user': ['The website loading takes too long']},\n",
       "  {'assistant': ['Try to reload your device.']},\n",
       "  {'user': ['Sure, I will try that']},\n",
       "  {'assistant': ['Has this resolved the issue for you?']},\n",
       "  {'user': ['No, it did not work ']},\n",
       "  {'assistant': ['Try cleaning browser cache.']},\n",
       "  {'user': ['All right, I will try cleaning cache']},\n",
       "  {'assistant': ['Has this resolved the issue for you?']},\n",
       "  {'user': [\"Actually, I'm having a different issue now\"]},\n",
       "  {'assistant': ['What is the other problem that you are experiencing?']},\n",
       "  {'user': [\"I've put some money on my account but the balance is not updated on the website\"]},\n",
       "  {'assistant': ['Try logging out of the website and then re-logging in.']},\n",
       "  {'user': ['The balance is updated but now the website is slow again']},\n",
       "  {'assistant': ['Try to reload your device.']},\n",
       "  {'user': ['Sure, I will try that']},\n",
       "  {'assistant': ['Has this resolved the issue for you?']},\n",
       "  {'user': ['Yes, that fixed everything']},\n",
       "  {'assistant': ['Thank you for contacting us, have a nice day.']}],\n",
       " [{'assistant': ['Hello! This is tech support. How can I help you today?']},\n",
       "  {'user': ['The website loading takes too long']},\n",
       "  {'assistant': ['Try to reload your device.']},\n",
       "  {'user': ['Sure, I will try that']},\n",
       "  {'assistant': ['Has this resolved the issue for you?']},\n",
       "  {'user': ['No, it did not work ']},\n",
       "  {'assistant': ['Try cleaning browser cache.']},\n",
       "  {'user': ['All right, I will try cleaning cache']},\n",
       "  {'assistant': ['Has this resolved the issue for you?']},\n",
       "  {'user': [\"Actually, I'm having a different issue now\"]},\n",
       "  {'assistant': ['What is the other problem that you are experiencing?']},\n",
       "  {'user': [\"I've put some money on my account but the balance is not updated on the website\"]},\n",
       "  {'assistant': ['Try logging out of the website and then re-logging in.']},\n",
       "  {'user': ['Ok, I will try to log out']},\n",
       "  {'assistant': ['Has this resolved the issue for you?']},\n",
       "  {'user': ['Yes, that fixed everything']},\n",
       "  {'assistant': ['Thank you for contacting us, have a nice day.']}],\n",
       " [{'assistant': ['Hello! This is tech support. How can I help you today?']},\n",
       "  {'user': ['The website loading takes too long']},\n",
       "  {'assistant': ['Try to reload your device.']},\n",
       "  {'user': ['Sure, I will try that']},\n",
       "  {'assistant': ['Has this resolved the issue for you?']},\n",
       "  {'user': ['No, it did not work ']},\n",
       "  {'assistant': ['Try cleaning browser cache.']},\n",
       "  {'user': ['All right, I will try cleaning cache']},\n",
       "  {'assistant': ['Has this resolved the issue for you?']},\n",
       "  {'user': ['Yes, that fixed everything']},\n",
       "  {'assistant': ['Thank you for contacting us, have a nice day.']}],\n",
       " [{'assistant': ['Hello! This is tech support. How can I help you today?']},\n",
       "  {'user': ['The website loading takes too long']},\n",
       "  {'assistant': ['Try to reload your device.']},\n",
       "  {'user': ['Sure, I will try that']},\n",
       "  {'assistant': ['Has this resolved the issue for you?']},\n",
       "  {'user': [\"Actually, I'm having a different issue now\"]},\n",
       "  {'assistant': ['What is the other problem that you are experiencing?']},\n",
       "  {'user': [\"I've put some money on my account but the balance is not updated on the website\"]},\n",
       "  {'assistant': ['Try logging out of the website and then re-logging in.']},\n",
       "  {'user': ['The balance is updated but now the website is slow again']},\n",
       "  {'assistant': ['Try to reload your device.']},\n",
       "  {'user': ['Sure, I will try that']},\n",
       "  {'assistant': ['Has this resolved the issue for you?']},\n",
       "  {'user': ['No, it did not work ']},\n",
       "  {'assistant': ['Try cleaning browser cache.']},\n",
       "  {'user': ['All right, I will try cleaning cache']},\n",
       "  {'assistant': ['Has this resolved the issue for you?']},\n",
       "  {'user': ['Yes, that fixed everything']},\n",
       "  {'assistant': ['Thank you for contacting us, have a nice day.']}],\n",
       " [{'assistant': ['Hello! This is tech support. How can I help you today?']},\n",
       "  {'user': ['The website loading takes too long']},\n",
       "  {'assistant': ['Try to reload your device.']},\n",
       "  {'user': ['Sure, I will try that']},\n",
       "  {'assistant': ['Has this resolved the issue for you?']},\n",
       "  {'user': [\"Actually, I'm having a different issue now\"]},\n",
       "  {'assistant': ['What is the other problem that you are experiencing?']},\n",
       "  {'user': [\"I've put some money on my account but the balance is not updated on the website\"]},\n",
       "  {'assistant': ['Try logging out of the website and then re-logging in.']},\n",
       "  {'user': ['The balance is updated but now the website is slow again']},\n",
       "  {'assistant': ['Try to reload your device.']},\n",
       "  {'user': ['Sure, I will try that']},\n",
       "  {'assistant': ['Has this resolved the issue for you?']},\n",
       "  {'user': ['Yes, that fixed everything']},\n",
       "  {'assistant': ['Thank you for contacting us, have a nice day.']}],\n",
       " [{'assistant': ['Hello! This is tech support. How can I help you today?']},\n",
       "  {'user': ['The website loading takes too long']},\n",
       "  {'assistant': ['Try to reload your device.']},\n",
       "  {'user': ['Sure, I will try that']},\n",
       "  {'assistant': ['Has this resolved the issue for you?']},\n",
       "  {'user': [\"Actually, I'm having a different issue now\"]},\n",
       "  {'assistant': ['What is the other problem that you are experiencing?']},\n",
       "  {'user': [\"I've put some money on my account but the balance is not updated on the website\"]},\n",
       "  {'assistant': ['Try logging out of the website and then re-logging in.']},\n",
       "  {'user': ['Ok, I will try to log out']},\n",
       "  {'assistant': ['Has this resolved the issue for you?']},\n",
       "  {'user': ['No, it did not work ']},\n",
       "  {'assistant': ['Try cleaning browser cache.']},\n",
       "  {'user': ['All right, I will try cleaning cache']},\n",
       "  {'assistant': ['Has this resolved the issue for you?']},\n",
       "  {'user': ['Yes, that fixed everything']},\n",
       "  {'assistant': ['Thank you for contacting us, have a nice day.']}],\n",
       " [{'assistant': ['Hello! This is tech support. How can I help you today?']},\n",
       "  {'user': ['The website loading takes too long']},\n",
       "  {'assistant': ['Try to reload your device.']},\n",
       "  {'user': ['Sure, I will try that']},\n",
       "  {'assistant': ['Has this resolved the issue for you?']},\n",
       "  {'user': [\"Actually, I'm having a different issue now\"]},\n",
       "  {'assistant': ['What is the other problem that you are experiencing?']},\n",
       "  {'user': [\"I've put some money on my account but the balance is not updated on the website\"]},\n",
       "  {'assistant': ['Try logging out of the website and then re-logging in.']},\n",
       "  {'user': ['Ok, I will try to log out']},\n",
       "  {'assistant': ['Has this resolved the issue for you?']},\n",
       "  {'user': ['Yes, that fixed everything']},\n",
       "  {'assistant': ['Thank you for contacting us, have a nice day.']}],\n",
       " [{'assistant': ['Hello! This is tech support. How can I help you today?']},\n",
       "  {'user': ['The website loading takes too long']},\n",
       "  {'assistant': ['Try to reload your device.']},\n",
       "  {'user': ['Sure, I will try that']},\n",
       "  {'assistant': ['Has this resolved the issue for you?']},\n",
       "  {'user': ['Yes, that fixed everything']},\n",
       "  {'assistant': ['Thank you for contacting us, have a nice day.']}]]"
      ]
     },
     "execution_count": 181,
     "metadata": {},
     "output_type": "execute_result"
    }
   ],
   "source": [
    "full_paths = []\n",
    "for p in node_paths:\n",
    "    print(p)\n",
    "    path = []\n",
    "    for idx,s in enumerate(p[:-1]):\n",
    "        path.append({\"assistant\": gr.node_by_id(s)['utterances']})\n",
    "        # path.append({\"user\": list(set(gr.edge_by_source(s)) & set(gr.edge_by_target(p[idx+1])))[0]['utterances']})\n",
    "        sources = gr.edge_by_source(s)\n",
    "        targets = gr.edge_by_target(p[idx+1])\n",
    "        print(\"SOURCES: \", sources, s)\n",
    "        print(\"TARGETS: \", targets, p[idx+1])\n",
    "        # targets = set([(e['source'],e['target']) for e in gr.edge_by_target(p[idx+1])])\n",
    "        edge = [e for e in sources if e in targets][0]\n",
    "        path.append(({\"user\": edge['utterances']}))\n",
    "    path.append({\"assistant\": gr.node_by_id(p[-1])['utterances']})\n",
    "    full_paths.append(path)\n",
    "full_paths"
   ]
  },
  {
   "cell_type": "code",
   "execution_count": null,
   "metadata": {},
   "outputs": [],
   "source": [
    "агдд_зферы"
   ]
  },
  {
   "cell_type": "code",
   "execution_count": 188,
   "metadata": {},
   "outputs": [
    {
     "data": {
      "text/plain": [
       "'k'"
      ]
     },
     "execution_count": 188,
     "metadata": {},
     "output_type": "execute_result"
    }
   ],
   "source": [
    "list({\"k\":\"n\"}.keys())[0]"
   ]
  },
  {
   "cell_type": "code",
   "execution_count": 189,
   "metadata": {},
   "outputs": [
    {
     "name": "stdout",
     "output_type": "stream",
     "text": [
      "n\n"
     ]
    }
   ],
   "source": [
    "for t in list({\"k\":\"n\"}.values()):\n",
    "    print(t)"
   ]
  },
  {
   "cell_type": "code",
   "execution_count": 185,
   "metadata": {},
   "outputs": [
    {
     "data": {
      "text/plain": [
       "[{'assistant': ['Hello! This is tech support. How can I help you today?']},\n",
       " {'user': ['The website loading takes too long']},\n",
       " {'assistant': ['Try to reload your device.']},\n",
       " {'user': ['Sure, I will try that']},\n",
       " {'assistant': ['Has this resolved the issue for you?']},\n",
       " {'user': ['No, it did not work ']},\n",
       " {'assistant': ['Try cleaning browser cache.']},\n",
       " {'user': ['All right, I will try cleaning cache']},\n",
       " {'assistant': ['Has this resolved the issue for you?']},\n",
       " {'user': [\"Actually, I'm having a different issue now\"]},\n",
       " {'assistant': ['What is the other problem that you are experiencing?']},\n",
       " {'user': [\"I've put some money on my account but the balance is not updated on the website\"]},\n",
       " {'assistant': ['Try logging out of the website and then re-logging in.']},\n",
       " {'user': ['The balance is updated but now the website is slow again']},\n",
       " {'assistant': ['Try to reload your device.']},\n",
       " {'user': ['Sure, I will try that']},\n",
       " {'assistant': ['Has this resolved the issue for you?']},\n",
       " {'user': ['Yes, that fixed everything']},\n",
       " {'assistant': ['Thank you for contacting us, have a nice day.']}]"
      ]
     },
     "execution_count": 185,
     "metadata": {},
     "output_type": "execute_result"
    }
   ],
   "source": [
    "full_paths[0]"
   ]
  },
  {
   "cell_type": "code",
   "execution_count": 198,
   "metadata": {},
   "outputs": [
    {
     "data": {
      "text/plain": [
       "19"
      ]
     },
     "execution_count": 198,
     "metadata": {},
     "output_type": "execute_result"
    }
   ],
   "source": [
    "len(full_paths[0])"
   ]
  },
  {
   "cell_type": "code",
   "execution_count": 220,
   "metadata": {},
   "outputs": [],
   "source": [
    "visitedList = [[]]\n",
    "\n",
    "def all_combinations(path: list, start: dict, next: int, visited: list):\n",
    "    print(\"start: \", start, next)\n",
    "    visited.append(start)\n",
    "    if next < len(path) - 1:\n",
    "        for utt in list(path[next].values())[0]:\n",
    "            all_combinations(path, {list(path[next].keys())[0]:utt}, next+1, visited.copy())\n",
    "    visitedList.append(visited)"
   ]
  },
  {
   "cell_type": "code",
   "execution_count": 232,
   "metadata": {},
   "outputs": [
    {
     "name": "stdout",
     "output_type": "stream",
     "text": [
      "start:  {} 0\n",
      "start:  {'assistant': 'Hello! This is tech support. How can I help you today?'} 1\n",
      "start:  {'user': 'The website loading takes too long'} 2\n",
      "start:  {'assistant': 'Try to reload your device.'} 3\n",
      "start:  {'user': 'Sure, I will try that'} 4\n",
      "start:  {'assistant': 'Has this resolved the issue for you?'} 5\n",
      "start:  {'user': 'No, it did not work '} 6\n",
      "start:  {'assistant': 'Try cleaning browser cache.'} 7\n",
      "start:  {'user': 'All right, I will try cleaning cache'} 8\n",
      "start:  {'assistant': 'Has this resolved the issue for you?'} 9\n",
      "start:  {'user': \"Actually, I'm having a different issue now\"} 10\n",
      "start:  {'assistant': 'What is the other problem that you are experiencing?'} 11\n",
      "start:  {'user': \"I've put some money on my account but the balance is not updated on the website\"} 12\n",
      "start:  {'assistant': 'Try logging out of the website and then re-logging in.'} 13\n",
      "start:  {'user': 'The balance is updated but now the website is slow again'} 14\n",
      "start:  {'assistant': 'Try to reload your device.'} 15\n",
      "start:  {'user': 'Sure, I will try that'} 16\n",
      "start:  {'assistant': 'Has this resolved the issue for you?'} 17\n",
      "start:  {'user': 'Yes, that fixed everything'} 18\n"
     ]
    },
    {
     "data": {
      "text/plain": [
       "[[],\n",
       " [{},\n",
       "  {'assistant': 'Hello! This is tech support. How can I help you today?'},\n",
       "  {'user': 'The website loading takes too long'},\n",
       "  {'assistant': 'Try to reload your device.'},\n",
       "  {'user': 'Sure, I will try that'},\n",
       "  {'assistant': 'Has this resolved the issue for you?'},\n",
       "  {'user': 'No, it did not work '},\n",
       "  {'assistant': 'Try cleaning browser cache.'},\n",
       "  {'user': 'All right, I will try cleaning cache'},\n",
       "  {'assistant': 'Has this resolved the issue for you?'},\n",
       "  {'user': \"Actually, I'm having a different issue now\"},\n",
       "  {'assistant': 'What is the other problem that you are experiencing?'},\n",
       "  {'user': \"I've put some money on my account but the balance is not updated on the website\"},\n",
       "  {'assistant': 'Try logging out of the website and then re-logging in.'},\n",
       "  {'user': 'The balance is updated but now the website is slow again'},\n",
       "  {'assistant': 'Try to reload your device.'},\n",
       "  {'user': 'Sure, I will try that'},\n",
       "  {'assistant': 'Has this resolved the issue for you?'},\n",
       "  {'user': 'Yes, that fixed everything'}],\n",
       " [{},\n",
       "  {'assistant': 'Hello! This is tech support. How can I help you today?'},\n",
       "  {'user': 'The website loading takes too long'},\n",
       "  {'assistant': 'Try to reload your device.'},\n",
       "  {'user': 'Sure, I will try that'},\n",
       "  {'assistant': 'Has this resolved the issue for you?'},\n",
       "  {'user': 'No, it did not work '},\n",
       "  {'assistant': 'Try cleaning browser cache.'},\n",
       "  {'user': 'All right, I will try cleaning cache'},\n",
       "  {'assistant': 'Has this resolved the issue for you?'},\n",
       "  {'user': \"Actually, I'm having a different issue now\"},\n",
       "  {'assistant': 'What is the other problem that you are experiencing?'},\n",
       "  {'user': \"I've put some money on my account but the balance is not updated on the website\"},\n",
       "  {'assistant': 'Try logging out of the website and then re-logging in.'},\n",
       "  {'user': 'The balance is updated but now the website is slow again'},\n",
       "  {'assistant': 'Try to reload your device.'},\n",
       "  {'user': 'Sure, I will try that'},\n",
       "  {'assistant': 'Has this resolved the issue for you?'}],\n",
       " [{},\n",
       "  {'assistant': 'Hello! This is tech support. How can I help you today?'},\n",
       "  {'user': 'The website loading takes too long'},\n",
       "  {'assistant': 'Try to reload your device.'},\n",
       "  {'user': 'Sure, I will try that'},\n",
       "  {'assistant': 'Has this resolved the issue for you?'},\n",
       "  {'user': 'No, it did not work '},\n",
       "  {'assistant': 'Try cleaning browser cache.'},\n",
       "  {'user': 'All right, I will try cleaning cache'},\n",
       "  {'assistant': 'Has this resolved the issue for you?'},\n",
       "  {'user': \"Actually, I'm having a different issue now\"},\n",
       "  {'assistant': 'What is the other problem that you are experiencing?'},\n",
       "  {'user': \"I've put some money on my account but the balance is not updated on the website\"},\n",
       "  {'assistant': 'Try logging out of the website and then re-logging in.'},\n",
       "  {'user': 'The balance is updated but now the website is slow again'},\n",
       "  {'assistant': 'Try to reload your device.'},\n",
       "  {'user': 'Sure, I will try that'}],\n",
       " [{},\n",
       "  {'assistant': 'Hello! This is tech support. How can I help you today?'},\n",
       "  {'user': 'The website loading takes too long'},\n",
       "  {'assistant': 'Try to reload your device.'},\n",
       "  {'user': 'Sure, I will try that'},\n",
       "  {'assistant': 'Has this resolved the issue for you?'},\n",
       "  {'user': 'No, it did not work '},\n",
       "  {'assistant': 'Try cleaning browser cache.'},\n",
       "  {'user': 'All right, I will try cleaning cache'},\n",
       "  {'assistant': 'Has this resolved the issue for you?'},\n",
       "  {'user': \"Actually, I'm having a different issue now\"},\n",
       "  {'assistant': 'What is the other problem that you are experiencing?'},\n",
       "  {'user': \"I've put some money on my account but the balance is not updated on the website\"},\n",
       "  {'assistant': 'Try logging out of the website and then re-logging in.'},\n",
       "  {'user': 'The balance is updated but now the website is slow again'},\n",
       "  {'assistant': 'Try to reload your device.'}],\n",
       " [{},\n",
       "  {'assistant': 'Hello! This is tech support. How can I help you today?'},\n",
       "  {'user': 'The website loading takes too long'},\n",
       "  {'assistant': 'Try to reload your device.'},\n",
       "  {'user': 'Sure, I will try that'},\n",
       "  {'assistant': 'Has this resolved the issue for you?'},\n",
       "  {'user': 'No, it did not work '},\n",
       "  {'assistant': 'Try cleaning browser cache.'},\n",
       "  {'user': 'All right, I will try cleaning cache'},\n",
       "  {'assistant': 'Has this resolved the issue for you?'},\n",
       "  {'user': \"Actually, I'm having a different issue now\"},\n",
       "  {'assistant': 'What is the other problem that you are experiencing?'},\n",
       "  {'user': \"I've put some money on my account but the balance is not updated on the website\"},\n",
       "  {'assistant': 'Try logging out of the website and then re-logging in.'},\n",
       "  {'user': 'The balance is updated but now the website is slow again'}],\n",
       " [{},\n",
       "  {'assistant': 'Hello! This is tech support. How can I help you today?'},\n",
       "  {'user': 'The website loading takes too long'},\n",
       "  {'assistant': 'Try to reload your device.'},\n",
       "  {'user': 'Sure, I will try that'},\n",
       "  {'assistant': 'Has this resolved the issue for you?'},\n",
       "  {'user': 'No, it did not work '},\n",
       "  {'assistant': 'Try cleaning browser cache.'},\n",
       "  {'user': 'All right, I will try cleaning cache'},\n",
       "  {'assistant': 'Has this resolved the issue for you?'},\n",
       "  {'user': \"Actually, I'm having a different issue now\"},\n",
       "  {'assistant': 'What is the other problem that you are experiencing?'},\n",
       "  {'user': \"I've put some money on my account but the balance is not updated on the website\"},\n",
       "  {'assistant': 'Try logging out of the website and then re-logging in.'}],\n",
       " [{},\n",
       "  {'assistant': 'Hello! This is tech support. How can I help you today?'},\n",
       "  {'user': 'The website loading takes too long'},\n",
       "  {'assistant': 'Try to reload your device.'},\n",
       "  {'user': 'Sure, I will try that'},\n",
       "  {'assistant': 'Has this resolved the issue for you?'},\n",
       "  {'user': 'No, it did not work '},\n",
       "  {'assistant': 'Try cleaning browser cache.'},\n",
       "  {'user': 'All right, I will try cleaning cache'},\n",
       "  {'assistant': 'Has this resolved the issue for you?'},\n",
       "  {'user': \"Actually, I'm having a different issue now\"},\n",
       "  {'assistant': 'What is the other problem that you are experiencing?'},\n",
       "  {'user': \"I've put some money on my account but the balance is not updated on the website\"}],\n",
       " [{},\n",
       "  {'assistant': 'Hello! This is tech support. How can I help you today?'},\n",
       "  {'user': 'The website loading takes too long'},\n",
       "  {'assistant': 'Try to reload your device.'},\n",
       "  {'user': 'Sure, I will try that'},\n",
       "  {'assistant': 'Has this resolved the issue for you?'},\n",
       "  {'user': 'No, it did not work '},\n",
       "  {'assistant': 'Try cleaning browser cache.'},\n",
       "  {'user': 'All right, I will try cleaning cache'},\n",
       "  {'assistant': 'Has this resolved the issue for you?'},\n",
       "  {'user': \"Actually, I'm having a different issue now\"},\n",
       "  {'assistant': 'What is the other problem that you are experiencing?'}],\n",
       " [{},\n",
       "  {'assistant': 'Hello! This is tech support. How can I help you today?'},\n",
       "  {'user': 'The website loading takes too long'},\n",
       "  {'assistant': 'Try to reload your device.'},\n",
       "  {'user': 'Sure, I will try that'},\n",
       "  {'assistant': 'Has this resolved the issue for you?'},\n",
       "  {'user': 'No, it did not work '},\n",
       "  {'assistant': 'Try cleaning browser cache.'},\n",
       "  {'user': 'All right, I will try cleaning cache'},\n",
       "  {'assistant': 'Has this resolved the issue for you?'},\n",
       "  {'user': \"Actually, I'm having a different issue now\"}],\n",
       " [{},\n",
       "  {'assistant': 'Hello! This is tech support. How can I help you today?'},\n",
       "  {'user': 'The website loading takes too long'},\n",
       "  {'assistant': 'Try to reload your device.'},\n",
       "  {'user': 'Sure, I will try that'},\n",
       "  {'assistant': 'Has this resolved the issue for you?'},\n",
       "  {'user': 'No, it did not work '},\n",
       "  {'assistant': 'Try cleaning browser cache.'},\n",
       "  {'user': 'All right, I will try cleaning cache'},\n",
       "  {'assistant': 'Has this resolved the issue for you?'}],\n",
       " [{},\n",
       "  {'assistant': 'Hello! This is tech support. How can I help you today?'},\n",
       "  {'user': 'The website loading takes too long'},\n",
       "  {'assistant': 'Try to reload your device.'},\n",
       "  {'user': 'Sure, I will try that'},\n",
       "  {'assistant': 'Has this resolved the issue for you?'},\n",
       "  {'user': 'No, it did not work '},\n",
       "  {'assistant': 'Try cleaning browser cache.'},\n",
       "  {'user': 'All right, I will try cleaning cache'}],\n",
       " [{},\n",
       "  {'assistant': 'Hello! This is tech support. How can I help you today?'},\n",
       "  {'user': 'The website loading takes too long'},\n",
       "  {'assistant': 'Try to reload your device.'},\n",
       "  {'user': 'Sure, I will try that'},\n",
       "  {'assistant': 'Has this resolved the issue for you?'},\n",
       "  {'user': 'No, it did not work '},\n",
       "  {'assistant': 'Try cleaning browser cache.'}],\n",
       " [{},\n",
       "  {'assistant': 'Hello! This is tech support. How can I help you today?'},\n",
       "  {'user': 'The website loading takes too long'},\n",
       "  {'assistant': 'Try to reload your device.'},\n",
       "  {'user': 'Sure, I will try that'},\n",
       "  {'assistant': 'Has this resolved the issue for you?'},\n",
       "  {'user': 'No, it did not work '}],\n",
       " [{},\n",
       "  {'assistant': 'Hello! This is tech support. How can I help you today?'},\n",
       "  {'user': 'The website loading takes too long'},\n",
       "  {'assistant': 'Try to reload your device.'},\n",
       "  {'user': 'Sure, I will try that'},\n",
       "  {'assistant': 'Has this resolved the issue for you?'}],\n",
       " [{},\n",
       "  {'assistant': 'Hello! This is tech support. How can I help you today?'},\n",
       "  {'user': 'The website loading takes too long'},\n",
       "  {'assistant': 'Try to reload your device.'},\n",
       "  {'user': 'Sure, I will try that'}],\n",
       " [{},\n",
       "  {'assistant': 'Hello! This is tech support. How can I help you today?'},\n",
       "  {'user': 'The website loading takes too long'},\n",
       "  {'assistant': 'Try to reload your device.'}],\n",
       " [{},\n",
       "  {'assistant': 'Hello! This is tech support. How can I help you today?'},\n",
       "  {'user': 'The website loading takes too long'}],\n",
       " [{}, {'assistant': 'Hello! This is tech support. How can I help you today?'}],\n",
       " [{}],\n",
       " [1, 2, 3, 4, 3, 4],\n",
       " [1, 2, 3, 4, 3, 4],\n",
       " [1, 2, 3, 4, 3, 7],\n",
       " [1, 2, 3, 4, 3, 5, 6, 3, 4],\n",
       " [1, 2, 3, 4, 3, 5, 6, 3, 4],\n",
       " [1, 2, 3, 4, 3, 5, 6, 3, 7],\n",
       " [1, 2, 3, 4, 3, 5, 6, 3, 5],\n",
       " [1, 2, 3, 4, 3, 5, 6, 3, 5],\n",
       " [1, 2, 3, 4, 3, 5, 6, 3],\n",
       " [1, 2, 3, 4, 3, 5, 6, 2, 3],\n",
       " [1, 2, 3, 4, 3, 5, 6, 2, 3, 7],\n",
       " [1, 2, 3, 4, 3, 5, 6, 2, 3, 5],\n",
       " [1, 2, 3, 4, 3, 5, 6, 2, 3, 5],\n",
       " [1, 2, 3, 4, 3, 5, 6, 2, 3],\n",
       " [1, 2, 3, 4, 3, 5, 6, 2],\n",
       " [1, 2, 3, 4, 3, 5, 6],\n",
       " [1, 2, 3, 4, 3, 5],\n",
       " [1, 2, 3, 4, 3],\n",
       " [1, 2, 3, 4],\n",
       " [1, 2, 3, 7],\n",
       " [1, 2, 3, 5, 6, 3, 4, 3, 4],\n",
       " [1, 2, 3, 5, 6, 3, 4, 3, 4],\n",
       " [1, 2, 3, 5, 6, 3, 4, 3, 7],\n",
       " [1, 2, 3, 5, 6, 3, 4, 3, 5],\n",
       " [1, 2, 3, 5, 6, 3, 4, 3, 5],\n",
       " [1, 2, 3, 5, 6, 3, 4, 3],\n",
       " [1, 2, 3, 5, 6, 3, 4],\n",
       " [1, 2, 3, 5, 6, 3, 7],\n",
       " [1, 2, 3, 5, 6, 3, 5],\n",
       " [1, 2, 3, 5, 6, 3, 5],\n",
       " [1, 2, 3, 5, 6, 3],\n",
       " [1, 2, 3, 5, 6, 2, 3, 4, 3, 4],\n",
       " [1, 2, 3, 5, 6, 2, 3, 4, 3, 4],\n",
       " [1, 2, 3, 5, 6, 2, 3, 4, 3, 7],\n",
       " [1, 2, 3, 5, 6, 2, 3, 4, 3, 5],\n",
       " [1, 2, 3, 5, 6, 2, 3, 4, 3, 5],\n",
       " [1, 2, 3, 5, 6, 2, 3, 4, 3],\n",
       " [1, 2, 3, 5, 6, 2, 3, 4],\n",
       " [1, 2, 3, 5, 6, 2, 3, 7],\n",
       " [1, 2, 3, 5, 6, 2, 3],\n",
       " [1, 2, 3, 5, 6, 2, 3],\n",
       " [1, 2, 3, 5, 6, 2],\n",
       " [1, 2, 3, 5, 6],\n",
       " [1, 2, 3, 5],\n",
       " [1, 2, 3],\n",
       " [1, 2],\n",
       " [1],\n",
       " [{},\n",
       "  {'assistant': 'Hello! This is tech support. How can I help you today?'},\n",
       "  {'user': 'The website loading takes too long'},\n",
       "  {'assistant': 'Try to reload your device.'},\n",
       "  {'user': 'Sure, I will try that'},\n",
       "  {'assistant': 'Has this resolved the issue for you?'},\n",
       "  {'user': 'No, it did not work '},\n",
       "  {'assistant': 'Try cleaning browser cache.'},\n",
       "  {'user': 'All right, I will try cleaning cache'},\n",
       "  {'assistant': 'Has this resolved the issue for you?'},\n",
       "  {'user': \"Actually, I'm having a different issue now\"},\n",
       "  {'assistant': 'What is the other problem that you are experiencing?'},\n",
       "  {'user': \"I've put some money on my account but the balance is not updated on the website\"},\n",
       "  {'assistant': 'Try logging out of the website and then re-logging in.'},\n",
       "  {'user': 'The balance is updated but now the website is slow again'},\n",
       "  {'assistant': 'Try to reload your device.'},\n",
       "  {'user': 'Sure, I will try that'},\n",
       "  {'assistant': 'Has this resolved the issue for you?'},\n",
       "  {'user': 'Yes, that fixed everything'}],\n",
       " [{},\n",
       "  {'assistant': 'Hello! This is tech support. How can I help you today?'},\n",
       "  {'user': 'The website loading takes too long'},\n",
       "  {'assistant': 'Try to reload your device.'},\n",
       "  {'user': 'Sure, I will try that'},\n",
       "  {'assistant': 'Has this resolved the issue for you?'},\n",
       "  {'user': 'No, it did not work '},\n",
       "  {'assistant': 'Try cleaning browser cache.'},\n",
       "  {'user': 'All right, I will try cleaning cache'},\n",
       "  {'assistant': 'Has this resolved the issue for you?'},\n",
       "  {'user': \"Actually, I'm having a different issue now\"},\n",
       "  {'assistant': 'What is the other problem that you are experiencing?'},\n",
       "  {'user': \"I've put some money on my account but the balance is not updated on the website\"},\n",
       "  {'assistant': 'Try logging out of the website and then re-logging in.'},\n",
       "  {'user': 'The balance is updated but now the website is slow again'},\n",
       "  {'assistant': 'Try to reload your device.'},\n",
       "  {'user': 'Sure, I will try that'},\n",
       "  {'assistant': 'Has this resolved the issue for you?'}],\n",
       " [{},\n",
       "  {'assistant': 'Hello! This is tech support. How can I help you today?'},\n",
       "  {'user': 'The website loading takes too long'},\n",
       "  {'assistant': 'Try to reload your device.'},\n",
       "  {'user': 'Sure, I will try that'},\n",
       "  {'assistant': 'Has this resolved the issue for you?'},\n",
       "  {'user': 'No, it did not work '},\n",
       "  {'assistant': 'Try cleaning browser cache.'},\n",
       "  {'user': 'All right, I will try cleaning cache'},\n",
       "  {'assistant': 'Has this resolved the issue for you?'},\n",
       "  {'user': \"Actually, I'm having a different issue now\"},\n",
       "  {'assistant': 'What is the other problem that you are experiencing?'},\n",
       "  {'user': \"I've put some money on my account but the balance is not updated on the website\"},\n",
       "  {'assistant': 'Try logging out of the website and then re-logging in.'},\n",
       "  {'user': 'The balance is updated but now the website is slow again'},\n",
       "  {'assistant': 'Try to reload your device.'},\n",
       "  {'user': 'Sure, I will try that'}],\n",
       " [{},\n",
       "  {'assistant': 'Hello! This is tech support. How can I help you today?'},\n",
       "  {'user': 'The website loading takes too long'},\n",
       "  {'assistant': 'Try to reload your device.'},\n",
       "  {'user': 'Sure, I will try that'},\n",
       "  {'assistant': 'Has this resolved the issue for you?'},\n",
       "  {'user': 'No, it did not work '},\n",
       "  {'assistant': 'Try cleaning browser cache.'},\n",
       "  {'user': 'All right, I will try cleaning cache'},\n",
       "  {'assistant': 'Has this resolved the issue for you?'},\n",
       "  {'user': \"Actually, I'm having a different issue now\"},\n",
       "  {'assistant': 'What is the other problem that you are experiencing?'},\n",
       "  {'user': \"I've put some money on my account but the balance is not updated on the website\"},\n",
       "  {'assistant': 'Try logging out of the website and then re-logging in.'},\n",
       "  {'user': 'The balance is updated but now the website is slow again'},\n",
       "  {'assistant': 'Try to reload your device.'}],\n",
       " [{},\n",
       "  {'assistant': 'Hello! This is tech support. How can I help you today?'},\n",
       "  {'user': 'The website loading takes too long'},\n",
       "  {'assistant': 'Try to reload your device.'},\n",
       "  {'user': 'Sure, I will try that'},\n",
       "  {'assistant': 'Has this resolved the issue for you?'},\n",
       "  {'user': 'No, it did not work '},\n",
       "  {'assistant': 'Try cleaning browser cache.'},\n",
       "  {'user': 'All right, I will try cleaning cache'},\n",
       "  {'assistant': 'Has this resolved the issue for you?'},\n",
       "  {'user': \"Actually, I'm having a different issue now\"},\n",
       "  {'assistant': 'What is the other problem that you are experiencing?'},\n",
       "  {'user': \"I've put some money on my account but the balance is not updated on the website\"},\n",
       "  {'assistant': 'Try logging out of the website and then re-logging in.'},\n",
       "  {'user': 'The balance is updated but now the website is slow again'}],\n",
       " [{},\n",
       "  {'assistant': 'Hello! This is tech support. How can I help you today?'},\n",
       "  {'user': 'The website loading takes too long'},\n",
       "  {'assistant': 'Try to reload your device.'},\n",
       "  {'user': 'Sure, I will try that'},\n",
       "  {'assistant': 'Has this resolved the issue for you?'},\n",
       "  {'user': 'No, it did not work '},\n",
       "  {'assistant': 'Try cleaning browser cache.'},\n",
       "  {'user': 'All right, I will try cleaning cache'},\n",
       "  {'assistant': 'Has this resolved the issue for you?'},\n",
       "  {'user': \"Actually, I'm having a different issue now\"},\n",
       "  {'assistant': 'What is the other problem that you are experiencing?'},\n",
       "  {'user': \"I've put some money on my account but the balance is not updated on the website\"},\n",
       "  {'assistant': 'Try logging out of the website and then re-logging in.'}],\n",
       " [{},\n",
       "  {'assistant': 'Hello! This is tech support. How can I help you today?'},\n",
       "  {'user': 'The website loading takes too long'},\n",
       "  {'assistant': 'Try to reload your device.'},\n",
       "  {'user': 'Sure, I will try that'},\n",
       "  {'assistant': 'Has this resolved the issue for you?'},\n",
       "  {'user': 'No, it did not work '},\n",
       "  {'assistant': 'Try cleaning browser cache.'},\n",
       "  {'user': 'All right, I will try cleaning cache'},\n",
       "  {'assistant': 'Has this resolved the issue for you?'},\n",
       "  {'user': \"Actually, I'm having a different issue now\"},\n",
       "  {'assistant': 'What is the other problem that you are experiencing?'},\n",
       "  {'user': \"I've put some money on my account but the balance is not updated on the website\"}],\n",
       " [{},\n",
       "  {'assistant': 'Hello! This is tech support. How can I help you today?'},\n",
       "  {'user': 'The website loading takes too long'},\n",
       "  {'assistant': 'Try to reload your device.'},\n",
       "  {'user': 'Sure, I will try that'},\n",
       "  {'assistant': 'Has this resolved the issue for you?'},\n",
       "  {'user': 'No, it did not work '},\n",
       "  {'assistant': 'Try cleaning browser cache.'},\n",
       "  {'user': 'All right, I will try cleaning cache'},\n",
       "  {'assistant': 'Has this resolved the issue for you?'},\n",
       "  {'user': \"Actually, I'm having a different issue now\"},\n",
       "  {'assistant': 'What is the other problem that you are experiencing?'}],\n",
       " [{},\n",
       "  {'assistant': 'Hello! This is tech support. How can I help you today?'},\n",
       "  {'user': 'The website loading takes too long'},\n",
       "  {'assistant': 'Try to reload your device.'},\n",
       "  {'user': 'Sure, I will try that'},\n",
       "  {'assistant': 'Has this resolved the issue for you?'},\n",
       "  {'user': 'No, it did not work '},\n",
       "  {'assistant': 'Try cleaning browser cache.'},\n",
       "  {'user': 'All right, I will try cleaning cache'},\n",
       "  {'assistant': 'Has this resolved the issue for you?'},\n",
       "  {'user': \"Actually, I'm having a different issue now\"}],\n",
       " [{},\n",
       "  {'assistant': 'Hello! This is tech support. How can I help you today?'},\n",
       "  {'user': 'The website loading takes too long'},\n",
       "  {'assistant': 'Try to reload your device.'},\n",
       "  {'user': 'Sure, I will try that'},\n",
       "  {'assistant': 'Has this resolved the issue for you?'},\n",
       "  {'user': 'No, it did not work '},\n",
       "  {'assistant': 'Try cleaning browser cache.'},\n",
       "  {'user': 'All right, I will try cleaning cache'},\n",
       "  {'assistant': 'Has this resolved the issue for you?'}],\n",
       " [{},\n",
       "  {'assistant': 'Hello! This is tech support. How can I help you today?'},\n",
       "  {'user': 'The website loading takes too long'},\n",
       "  {'assistant': 'Try to reload your device.'},\n",
       "  {'user': 'Sure, I will try that'},\n",
       "  {'assistant': 'Has this resolved the issue for you?'},\n",
       "  {'user': 'No, it did not work '},\n",
       "  {'assistant': 'Try cleaning browser cache.'},\n",
       "  {'user': 'All right, I will try cleaning cache'}],\n",
       " [{},\n",
       "  {'assistant': 'Hello! This is tech support. How can I help you today?'},\n",
       "  {'user': 'The website loading takes too long'},\n",
       "  {'assistant': 'Try to reload your device.'},\n",
       "  {'user': 'Sure, I will try that'},\n",
       "  {'assistant': 'Has this resolved the issue for you?'},\n",
       "  {'user': 'No, it did not work '},\n",
       "  {'assistant': 'Try cleaning browser cache.'}],\n",
       " [{},\n",
       "  {'assistant': 'Hello! This is tech support. How can I help you today?'},\n",
       "  {'user': 'The website loading takes too long'},\n",
       "  {'assistant': 'Try to reload your device.'},\n",
       "  {'user': 'Sure, I will try that'},\n",
       "  {'assistant': 'Has this resolved the issue for you?'},\n",
       "  {'user': 'No, it did not work '}],\n",
       " [{},\n",
       "  {'assistant': 'Hello! This is tech support. How can I help you today?'},\n",
       "  {'user': 'The website loading takes too long'},\n",
       "  {'assistant': 'Try to reload your device.'},\n",
       "  {'user': 'Sure, I will try that'},\n",
       "  {'assistant': 'Has this resolved the issue for you?'}],\n",
       " [{},\n",
       "  {'assistant': 'Hello! This is tech support. How can I help you today?'},\n",
       "  {'user': 'The website loading takes too long'},\n",
       "  {'assistant': 'Try to reload your device.'},\n",
       "  {'user': 'Sure, I will try that'}],\n",
       " [{},\n",
       "  {'assistant': 'Hello! This is tech support. How can I help you today?'},\n",
       "  {'user': 'The website loading takes too long'},\n",
       "  {'assistant': 'Try to reload your device.'}],\n",
       " [{},\n",
       "  {'assistant': 'Hello! This is tech support. How can I help you today?'},\n",
       "  {'user': 'The website loading takes too long'}],\n",
       " [{}, {'assistant': 'Hello! This is tech support. How can I help you today?'}],\n",
       " [{}]]"
      ]
     },
     "execution_count": 232,
     "metadata": {},
     "output_type": "execute_result"
    }
   ],
   "source": [
    "all_combinations(full_paths[0], {}, 0, [])\n",
    "visitedList"
   ]
  },
  {
   "cell_type": "code",
   "execution_count": 233,
   "metadata": {},
   "outputs": [
    {
     "data": {
      "text/plain": [
       "[{},\n",
       " {'assistant': 'Hello! This is tech support. How can I help you today?'},\n",
       " {'user': 'The website loading takes too long'},\n",
       " {'assistant': 'Try to reload your device.'},\n",
       " {'user': 'Sure, I will try that'},\n",
       " {'assistant': 'Has this resolved the issue for you?'},\n",
       " {'user': 'No, it did not work '},\n",
       " {'assistant': 'Try cleaning browser cache.'},\n",
       " {'user': 'All right, I will try cleaning cache'},\n",
       " {'assistant': 'Has this resolved the issue for you?'},\n",
       " {'user': \"Actually, I'm having a different issue now\"},\n",
       " {'assistant': 'What is the other problem that you are experiencing?'},\n",
       " {'user': \"I've put some money on my account but the balance is not updated on the website\"},\n",
       " {'assistant': 'Try logging out of the website and then re-logging in.'},\n",
       " {'user': 'The balance is updated but now the website is slow again'},\n",
       " {'assistant': 'Try to reload your device.'},\n",
       " {'user': 'Sure, I will try that'},\n",
       " {'assistant': 'Has this resolved the issue for you?'},\n",
       " {'user': 'Yes, that fixed everything'}]"
      ]
     },
     "execution_count": 233,
     "metadata": {},
     "output_type": "execute_result"
    }
   ],
   "source": [
    "visitedList[1]"
   ]
  },
  {
   "cell_type": "code",
   "execution_count": 222,
   "metadata": {},
   "outputs": [
    {
     "data": {
      "text/plain": [
       "19"
      ]
     },
     "execution_count": 222,
     "metadata": {},
     "output_type": "execute_result"
    }
   ],
   "source": [
    "len(visitedList[1])"
   ]
  },
  {
   "cell_type": "code",
   "execution_count": 223,
   "metadata": {},
   "outputs": [
    {
     "data": {
      "text/plain": [
       "[{},\n",
       " {'assistant': 'Hello! This is tech support. How can I help you today?'},\n",
       " {'user': 'The website loading takes too long'},\n",
       " {'assistant': 'Try to reload your device.'},\n",
       " {'user': 'Sure, I will try that'},\n",
       " {'assistant': 'Has this resolved the issue for you?'},\n",
       " {'user': 'No, it did not work '},\n",
       " {'assistant': 'Try cleaning browser cache.'},\n",
       " {'user': 'All right, I will try cleaning cache'},\n",
       " {'assistant': 'Has this resolved the issue for you?'},\n",
       " {'user': \"Actually, I'm having a different issue now\"},\n",
       " {'assistant': 'What is the other problem that you are experiencing?'},\n",
       " {'user': \"I've put some money on my account but the balance is not updated on the website\"},\n",
       " {'assistant': 'Try logging out of the website and then re-logging in.'},\n",
       " {'user': 'The balance is updated but now the website is slow again'},\n",
       " {'assistant': 'Try to reload your device.'},\n",
       " {'user': 'Sure, I will try that'},\n",
       " {'assistant': 'Has this resolved the issue for you?'}]"
      ]
     },
     "execution_count": 223,
     "metadata": {},
     "output_type": "execute_result"
    }
   ],
   "source": [
    "visitedList[2]"
   ]
  },
  {
   "cell_type": "code",
   "execution_count": 212,
   "metadata": {},
   "outputs": [
    {
     "data": {
      "text/plain": [
       "18"
      ]
     },
     "execution_count": 212,
     "metadata": {},
     "output_type": "execute_result"
    }
   ],
   "source": [
    "len(visitedList[2])"
   ]
  },
  {
   "cell_type": "code",
   "execution_count": 219,
   "metadata": {},
   "outputs": [
    {
     "data": {
      "text/plain": [
       "[{}, {'assistant': ['Hello! This is tech support. How can I help you today?']}]"
      ]
     },
     "execution_count": 219,
     "metadata": {},
     "output_type": "execute_result"
    }
   ],
   "source": [
    "visitedList[18]"
   ]
  },
  {
   "cell_type": "code",
   "execution_count": 226,
   "metadata": {},
   "outputs": [
    {
     "data": {
      "text/plain": [
       "[{}, {'assistant': 'Hello! This is tech support. How can I help you today?'}]"
      ]
     },
     "execution_count": 226,
     "metadata": {},
     "output_type": "execute_result"
    }
   ],
   "source": [
    "visitedList[18]"
   ]
  },
  {
   "cell_type": "code",
   "execution_count": 182,
   "metadata": {},
   "outputs": [
    {
     "data": {
      "text/plain": [
       "[[{'assistant': ['Hello! This is tech support. How can I help you today?']},\n",
       "  {'user': ['The website loading takes too long']},\n",
       "  {'assistant': ['Try to reload your device.']},\n",
       "  {'user': ['Sure, I will try that']},\n",
       "  {'assistant': ['Has this resolved the issue for you?']},\n",
       "  {'user': ['No, it did not work ']},\n",
       "  {'assistant': ['Try cleaning browser cache.']},\n",
       "  {'user': ['All right, I will try cleaning cache']},\n",
       "  {'assistant': ['Has this resolved the issue for you?']},\n",
       "  {'user': [\"Actually, I'm having a different issue now\"]},\n",
       "  {'assistant': ['What is the other problem that you are experiencing?']},\n",
       "  {'user': [\"I've put some money on my account but the balance is not updated on the website\"]},\n",
       "  {'assistant': ['Try logging out of the website and then re-logging in.']},\n",
       "  {'user': ['The balance is updated but now the website is slow again']},\n",
       "  {'assistant': ['Try to reload your device.']},\n",
       "  {'user': ['Sure, I will try that']},\n",
       "  {'assistant': ['Has this resolved the issue for you?']},\n",
       "  {'user': ['Yes, that fixed everything']},\n",
       "  {'assistant': ['Thank you for contacting us, have a nice day.']}],\n",
       " [{'assistant': ['Hello! This is tech support. How can I help you today?']},\n",
       "  {'user': ['The website loading takes too long']},\n",
       "  {'assistant': ['Try to reload your device.']},\n",
       "  {'user': ['Sure, I will try that']},\n",
       "  {'assistant': ['Has this resolved the issue for you?']},\n",
       "  {'user': ['No, it did not work ']},\n",
       "  {'assistant': ['Try cleaning browser cache.']},\n",
       "  {'user': ['All right, I will try cleaning cache']},\n",
       "  {'assistant': ['Has this resolved the issue for you?']},\n",
       "  {'user': [\"Actually, I'm having a different issue now\"]},\n",
       "  {'assistant': ['What is the other problem that you are experiencing?']},\n",
       "  {'user': [\"I've put some money on my account but the balance is not updated on the website\"]},\n",
       "  {'assistant': ['Try logging out of the website and then re-logging in.']},\n",
       "  {'user': ['Ok, I will try to log out']},\n",
       "  {'assistant': ['Has this resolved the issue for you?']},\n",
       "  {'user': ['Yes, that fixed everything']},\n",
       "  {'assistant': ['Thank you for contacting us, have a nice day.']}],\n",
       " [{'assistant': ['Hello! This is tech support. How can I help you today?']},\n",
       "  {'user': ['The website loading takes too long']},\n",
       "  {'assistant': ['Try to reload your device.']},\n",
       "  {'user': ['Sure, I will try that']},\n",
       "  {'assistant': ['Has this resolved the issue for you?']},\n",
       "  {'user': ['No, it did not work ']},\n",
       "  {'assistant': ['Try cleaning browser cache.']},\n",
       "  {'user': ['All right, I will try cleaning cache']},\n",
       "  {'assistant': ['Has this resolved the issue for you?']},\n",
       "  {'user': ['Yes, that fixed everything']},\n",
       "  {'assistant': ['Thank you for contacting us, have a nice day.']}],\n",
       " [{'assistant': ['Hello! This is tech support. How can I help you today?']},\n",
       "  {'user': ['The website loading takes too long']},\n",
       "  {'assistant': ['Try to reload your device.']},\n",
       "  {'user': ['Sure, I will try that']},\n",
       "  {'assistant': ['Has this resolved the issue for you?']},\n",
       "  {'user': [\"Actually, I'm having a different issue now\"]},\n",
       "  {'assistant': ['What is the other problem that you are experiencing?']},\n",
       "  {'user': [\"I've put some money on my account but the balance is not updated on the website\"]},\n",
       "  {'assistant': ['Try logging out of the website and then re-logging in.']},\n",
       "  {'user': ['The balance is updated but now the website is slow again']},\n",
       "  {'assistant': ['Try to reload your device.']},\n",
       "  {'user': ['Sure, I will try that']},\n",
       "  {'assistant': ['Has this resolved the issue for you?']},\n",
       "  {'user': ['No, it did not work ']},\n",
       "  {'assistant': ['Try cleaning browser cache.']},\n",
       "  {'user': ['All right, I will try cleaning cache']},\n",
       "  {'assistant': ['Has this resolved the issue for you?']},\n",
       "  {'user': ['Yes, that fixed everything']},\n",
       "  {'assistant': ['Thank you for contacting us, have a nice day.']}],\n",
       " [{'assistant': ['Hello! This is tech support. How can I help you today?']},\n",
       "  {'user': ['The website loading takes too long']},\n",
       "  {'assistant': ['Try to reload your device.']},\n",
       "  {'user': ['Sure, I will try that']},\n",
       "  {'assistant': ['Has this resolved the issue for you?']},\n",
       "  {'user': [\"Actually, I'm having a different issue now\"]},\n",
       "  {'assistant': ['What is the other problem that you are experiencing?']},\n",
       "  {'user': [\"I've put some money on my account but the balance is not updated on the website\"]},\n",
       "  {'assistant': ['Try logging out of the website and then re-logging in.']},\n",
       "  {'user': ['The balance is updated but now the website is slow again']},\n",
       "  {'assistant': ['Try to reload your device.']},\n",
       "  {'user': ['Sure, I will try that']},\n",
       "  {'assistant': ['Has this resolved the issue for you?']},\n",
       "  {'user': ['Yes, that fixed everything']},\n",
       "  {'assistant': ['Thank you for contacting us, have a nice day.']}],\n",
       " [{'assistant': ['Hello! This is tech support. How can I help you today?']},\n",
       "  {'user': ['The website loading takes too long']},\n",
       "  {'assistant': ['Try to reload your device.']},\n",
       "  {'user': ['Sure, I will try that']},\n",
       "  {'assistant': ['Has this resolved the issue for you?']},\n",
       "  {'user': [\"Actually, I'm having a different issue now\"]},\n",
       "  {'assistant': ['What is the other problem that you are experiencing?']},\n",
       "  {'user': [\"I've put some money on my account but the balance is not updated on the website\"]},\n",
       "  {'assistant': ['Try logging out of the website and then re-logging in.']},\n",
       "  {'user': ['Ok, I will try to log out']},\n",
       "  {'assistant': ['Has this resolved the issue for you?']},\n",
       "  {'user': ['No, it did not work ']},\n",
       "  {'assistant': ['Try cleaning browser cache.']},\n",
       "  {'user': ['All right, I will try cleaning cache']},\n",
       "  {'assistant': ['Has this resolved the issue for you?']},\n",
       "  {'user': ['Yes, that fixed everything']},\n",
       "  {'assistant': ['Thank you for contacting us, have a nice day.']}],\n",
       " [{'assistant': ['Hello! This is tech support. How can I help you today?']},\n",
       "  {'user': ['The website loading takes too long']},\n",
       "  {'assistant': ['Try to reload your device.']},\n",
       "  {'user': ['Sure, I will try that']},\n",
       "  {'assistant': ['Has this resolved the issue for you?']},\n",
       "  {'user': [\"Actually, I'm having a different issue now\"]},\n",
       "  {'assistant': ['What is the other problem that you are experiencing?']},\n",
       "  {'user': [\"I've put some money on my account but the balance is not updated on the website\"]},\n",
       "  {'assistant': ['Try logging out of the website and then re-logging in.']},\n",
       "  {'user': ['Ok, I will try to log out']},\n",
       "  {'assistant': ['Has this resolved the issue for you?']},\n",
       "  {'user': ['Yes, that fixed everything']},\n",
       "  {'assistant': ['Thank you for contacting us, have a nice day.']}],\n",
       " [{'assistant': ['Hello! This is tech support. How can I help you today?']},\n",
       "  {'user': ['The website loading takes too long']},\n",
       "  {'assistant': ['Try to reload your device.']},\n",
       "  {'user': ['Sure, I will try that']},\n",
       "  {'assistant': ['Has this resolved the issue for you?']},\n",
       "  {'user': ['Yes, that fixed everything']},\n",
       "  {'assistant': ['Thank you for contacting us, have a nice day.']}]]"
      ]
     },
     "execution_count": 182,
     "metadata": {},
     "output_type": "execute_result"
    }
   ],
   "source": [
    "full_paths"
   ]
  },
  {
   "cell_type": "code",
   "execution_count": 183,
   "metadata": {},
   "outputs": [
    {
     "data": {
      "text/plain": [
       "[{'assistant': ['Hello! This is tech support. How can I help you today?']},\n",
       " {'user': ['The website loading takes too long']},\n",
       " {'assistant': ['Try to reload your device.']},\n",
       " {'user': ['Sure, I will try that']},\n",
       " {'assistant': ['Has this resolved the issue for you?']},\n",
       " {'user': ['No, it did not work ']},\n",
       " {'assistant': ['Try cleaning browser cache.']},\n",
       " {'user': ['All right, I will try cleaning cache']},\n",
       " {'assistant': ['Has this resolved the issue for you?']},\n",
       " {'user': [\"Actually, I'm having a different issue now\"]},\n",
       " {'assistant': ['What is the other problem that you are experiencing?']},\n",
       " {'user': [\"I've put some money on my account but the balance is not updated on the website\"]},\n",
       " {'assistant': ['Try logging out of the website and then re-logging in.']},\n",
       " {'user': ['The balance is updated but now the website is slow again']},\n",
       " {'assistant': ['Try to reload your device.']},\n",
       " {'user': ['Sure, I will try that']},\n",
       " {'assistant': ['Has this resolved the issue for you?']},\n",
       " {'user': ['Yes, that fixed everything']},\n",
       " {'assistant': ['Thank you for contacting us, have a nice day.']}]"
      ]
     },
     "execution_count": 183,
     "metadata": {},
     "output_type": "execute_result"
    }
   ],
   "source": [
    "full_paths[0]"
   ]
  },
  {
   "cell_type": "code",
   "execution_count": 184,
   "metadata": {},
   "outputs": [
    {
     "data": {
      "text/plain": [
       "[{'assistant': ['Hello! This is tech support. How can I help you today?']},\n",
       " {'user': ['The website loading takes too long']},\n",
       " {'assistant': ['Try to reload your device.']},\n",
       " {'user': ['Sure, I will try that']},\n",
       " {'assistant': ['Has this resolved the issue for you?']},\n",
       " {'user': ['No, it did not work ']},\n",
       " {'assistant': ['Try cleaning browser cache.']},\n",
       " {'user': ['All right, I will try cleaning cache']},\n",
       " {'assistant': ['Has this resolved the issue for you?']},\n",
       " {'user': [\"Actually, I'm having a different issue now\"]},\n",
       " {'assistant': ['What is the other problem that you are experiencing?']},\n",
       " {'user': [\"I've put some money on my account but the balance is not updated on the website\"]},\n",
       " {'assistant': ['Try logging out of the website and then re-logging in.']},\n",
       " {'user': ['Ok, I will try to log out']},\n",
       " {'assistant': ['Has this resolved the issue for you?']},\n",
       " {'user': ['Yes, that fixed everything']},\n",
       " {'assistant': ['Thank you for contacting us, have a nice day.']}]"
      ]
     },
     "execution_count": 184,
     "metadata": {},
     "output_type": "execute_result"
    }
   ],
   "source": [
    "full_paths[1]"
   ]
  },
  {
   "cell_type": "code",
   "execution_count": 1,
   "metadata": {},
   "outputs": [
    {
     "data": {
      "text/plain": [
       "'/Users/yuriypeshkichev/Projects/ipavlov/chatsky-llm-autoconfig/experiments/2025.01.21_sampler'"
      ]
     },
     "execution_count": 1,
     "metadata": {},
     "output_type": "execute_result"
    }
   ],
   "source": [
    "%pwd"
   ]
  },
  {
   "cell_type": "code",
   "execution_count": 2,
   "metadata": {},
   "outputs": [
    {
     "ename": "ImportError",
     "evalue": "attempted relative import with no known parent package",
     "output_type": "error",
     "traceback": [
      "\u001b[0;31m---------------------------------------------------------------------------\u001b[0m",
      "\u001b[0;31mImportError\u001b[0m                               Traceback (most recent call last)",
      "Cell \u001b[0;32mIn[2], line 1\u001b[0m\n\u001b[0;32m----> 1\u001b[0m \u001b[38;5;28;01mfrom\u001b[39;00m\u001b[38;5;250m \u001b[39m\u001b[38;5;21;01m.\u001b[39;00m\u001b[38;5;21;01mdialogue_sampler\u001b[39;00m\u001b[38;5;250m \u001b[39m\u001b[38;5;28;01mimport\u001b[39;00m get_dialogues\n",
      "\u001b[0;31mImportError\u001b[0m: attempted relative import with no known parent package"
     ]
    }
   ],
   "source": [
    "from .dialogue_sampler import get_dialogues"
   ]
  }
 ],
 "metadata": {
  "kernelspec": {
   "display_name": ".venv",
   "language": "python",
   "name": "python3"
  },
  "language_info": {
   "codemirror_mode": {
    "name": "ipython",
    "version": 3
   },
   "file_extension": ".py",
   "mimetype": "text/x-python",
   "name": "python",
   "nbconvert_exporter": "python",
   "pygments_lexer": "ipython3",
   "version": "3.12.8"
  }
 },
 "nbformat": 4,
 "nbformat_minor": 2
}
