{
 "cells": [
  {
   "cell_type": "code",
   "execution_count": 1,
   "metadata": {},
   "outputs": [],
   "source": [
    "import json\n",
    "import dotenv"
   ]
  },
  {
   "cell_type": "code",
   "execution_count": 18,
   "metadata": {},
   "outputs": [],
   "source": [
    "import langchain_openai"
   ]
  },
  {
   "cell_type": "code",
   "execution_count": 16,
   "metadata": {},
   "outputs": [],
   "source": [
    "from langchain_openai import ChatOpenAI\n",
    "from langchain_huggingface import HuggingFaceEmbeddings"
   ]
  },
  {
   "cell_type": "code",
   "execution_count": 3,
   "metadata": {},
   "outputs": [],
   "source": [
    "%load_ext autoreload\n",
    "%autoreload 2"
   ]
  },
  {
   "cell_type": "code",
   "execution_count": 4,
   "metadata": {},
   "outputs": [
    {
     "name": "stderr",
     "output_type": "stream",
     "text": [
      "/home/peshkichev/miniconda3/envs/py311/lib/python3.11/site-packages/pydantic/_internal/_fields.py:198: UserWarning: Field name \"validate\" in \"Dialogue\" shadows an attribute in parent \"BaseModel\"\n",
      "  warnings.warn(\n",
      "2025-04-18 10:45:19,875 - datasets - INFO - PyTorch version 2.6.0 available.\n"
     ]
    }
   ],
   "source": [
    "from dialogue2graph import metrics\n",
    "from dialogue2graph.pipelines.core.graph import Graph\n",
    "from dialogue2graph.pipelines.model_storage import ModelStorage\n",
    "from dialogue2graph.pipelines.helpers.parse_data import PipelineRawDataType"
   ]
  },
  {
   "cell_type": "code",
   "execution_count": 5,
   "metadata": {},
   "outputs": [
    {
     "data": {
      "text/plain": [
       "True"
      ]
     },
     "execution_count": 5,
     "metadata": {},
     "output_type": "execute_result"
    }
   ],
   "source": [
    "dotenv.load_dotenv()"
   ]
  },
  {
   "cell_type": "code",
   "execution_count": 6,
   "metadata": {},
   "outputs": [],
   "source": [
    "ms = ModelStorage()"
   ]
  },
  {
   "cell_type": "code",
   "execution_count": null,
   "metadata": {},
   "outputs": [],
   "source": [
    "ms.add(\n",
    "    key=\"grouping_llm\",\n",
    "    config={\"model_name\": \"chatgpt-4o-latest\", \"temperature\": 0},\n",
    "    model_type=ChatOpenAI,\n",
    ")\n",
    "ms.add(\n",
    "    key=\"extending_llm\",\n",
    "    config={\"model_name\": \"chatgpt-4o-latest\", \"temperature\": 0},\n",
    "    model_type=ChatOpenAI,\n",
    ")\n",
    "ms.add(\n",
    "    key=\"filling_llm\",\n",
    "    config={\"model_name\": \"o3-mini\", \"temperature\": 1},\n",
    "    model_type=ChatOpenAI,\n",
    ")\n",
    "ms.add(\n",
    "    key=\"formatting_llm\",\n",
    "    config={\"model_name\": \"gpt-4o-mini\", \"temperature\": 0},\n",
    "    model_type=ChatOpenAI,\n",
    ")\n",
    "ms.add(\n",
    "    key=\"sim_model\",\n",
    "    config={\"model_name\": \"BAAI/bge-m3\", \"model_kwargs\": {\"device\": \"cuda:0\"}},\n",
    "    model_type=HuggingFaceEmbeddings,\n",
    ")"
   ]
  },
  {
   "cell_type": "code",
   "execution_count": 25,
   "metadata": {},
   "outputs": [],
   "source": [
    "from dialogue2graph.datasets.complex_dialogues import generation"
   ]
  },
  {
   "cell_type": "code",
   "execution_count": 20,
   "metadata": {},
   "outputs": [
    {
     "name": "stderr",
     "output_type": "stream",
     "text": [
      "2025-04-18 11:20:01,489 - /data/home/peshkichev/projects/chatsky-llm-autoconfig/dialogue2graph/pipelines/model_storage.py - INFO - Saved 5 models to model_storage.yml\n"
     ]
    }
   ],
   "source": [
    "ms.save(\"model_storage.yml\")"
   ]
  },
  {
   "cell_type": "code",
   "execution_count": 21,
   "metadata": {},
   "outputs": [
    {
     "name": "stderr",
     "output_type": "stream",
     "text": [
      "2025-04-18 11:20:07,169 - /data/home/peshkichev/projects/chatsky-llm-autoconfig/dialogue2graph/pipelines/model_storage.py - INFO - Successfully loaded 5 models from model_storage.yml\n"
     ]
    }
   ],
   "source": [
    "ms.load(\"model_storage.yml\")"
   ]
  },
  {
   "cell_type": "code",
   "execution_count": 29,
   "metadata": {},
   "outputs": [],
   "source": [
    "sampler = generation.RecursiveDialogueSampler()"
   ]
  },
  {
   "cell_type": "code",
   "execution_count": 27,
   "metadata": {},
   "outputs": [],
   "source": [
    "with open(\"transfer_2.json\") as f:\n",
    "    data = json.load(f)"
   ]
  },
  {
   "cell_type": "code",
   "execution_count": null,
   "metadata": {},
   "outputs": [],
   "source": [
    "sampler.invoke(Graph(data[\"true_graph\"]), ms.storage[\"grouping_llm\"].model, 15)"
   ]
  },
  {
   "cell_type": "code",
   "execution_count": 27,
   "metadata": {},
   "outputs": [
    {
     "data": {
      "text/plain": [
       "ModelStorage(storage={'grouping_llm': StoredData(key='grouping_llm', config={'model_name': 'chatgpt-4o-latest', 'temperature': 0}, model_type=<class 'langchain_openai.chat_models.base.ChatOpenAI'>, model=ChatOpenAI(client=<openai.resources.chat.completions.completions.Completions object at 0x7f14f55caa10>, async_client=<openai.resources.chat.completions.completions.AsyncCompletions object at 0x7f146e49a890>, root_client=<openai.OpenAI object at 0x7f14fdab5dd0>, root_async_client=<openai.AsyncOpenAI object at 0x7f14f55c9c90>, model_name='chatgpt-4o-latest', temperature=0.0, model_kwargs={}, openai_api_key=SecretStr('**********'))), 'extending_llm': StoredData(key='extending_llm', config={'model_name': 'chatgpt-4o-latest', 'temperature': 0}, model_type=<class 'langchain_openai.chat_models.base.ChatOpenAI'>, model=ChatOpenAI(client=<openai.resources.chat.completions.completions.Completions object at 0x7f14f55c0e10>, async_client=<openai.resources.chat.completions.completions.AsyncCompletions object at 0x7f14fdc14990>, root_client=<openai.OpenAI object at 0x7f146e498990>, root_async_client=<openai.AsyncOpenAI object at 0x7f14f55c0510>, model_name='chatgpt-4o-latest', temperature=0.0, model_kwargs={}, openai_api_key=SecretStr('**********'))), 'filling_llm': StoredData(key='filling_llm', config={'model_name': 'o3-mini', 'temperature': 1}, model_type=<class 'langchain_openai.chat_models.base.ChatOpenAI'>, model=ChatOpenAI(client=<openai.resources.chat.completions.completions.Completions object at 0x7f14ee2a1e50>, async_client=<openai.resources.chat.completions.completions.AsyncCompletions object at 0x7f14f55b2a50>, root_client=<openai.OpenAI object at 0x7f14fdc16e90>, root_async_client=<openai.AsyncOpenAI object at 0x7f14ee2a2010>, model_name='o3-mini', temperature=1.0, model_kwargs={}, openai_api_key=SecretStr('**********'))), 'formatting_llm': StoredData(key='formatting_llm', config={'model_name': 'gpt-4o-mini', 'temperature': 0}, model_type=<class 'langchain_openai.chat_models.base.ChatOpenAI'>, model=ChatOpenAI(client=<openai.resources.chat.completions.completions.Completions object at 0x7f14f55d38d0>, async_client=<openai.resources.chat.completions.completions.AsyncCompletions object at 0x7f14f55e02d0>, root_client=<openai.OpenAI object at 0x7f14f55b2d50>, root_async_client=<openai.AsyncOpenAI object at 0x7f14f55d3a90>, model_name='gpt-4o-mini', temperature=0.0, model_kwargs={}, openai_api_key=SecretStr('**********'))), 'sim_model': StoredData(key='sim_model', config={'model_name': 'BAAI/bge-m3', 'model_kwargs': {'device': 'cuda:0'}}, model_type=<class 'langchain_huggingface.embeddings.huggingface.HuggingFaceEmbeddings'>, model=HuggingFaceEmbeddings(model_name='BAAI/bge-m3', cache_folder=None, model_kwargs={'device': 'cuda:0'}, encode_kwargs={}, multi_process=False, show_progress=False))})"
      ]
     },
     "execution_count": 27,
     "metadata": {},
     "output_type": "execute_result"
    }
   ],
   "source": [
    "ms"
   ]
  },
  {
   "cell_type": "markdown",
   "metadata": {},
   "source": [
    "### D2G Light pipeline"
   ]
  },
  {
   "cell_type": "code",
   "execution_count": 23,
   "metadata": {},
   "outputs": [],
   "source": [
    "from dialogue2graph.pipelines.d2g_light.pipeline import D2GLightPipeline\n",
    "\n",
    "pipeline = D2GLightPipeline(\n",
    "    name=\"d2g_light\",\n",
    "    model_storage=ms,\n",
    "    filling_llm=\"filling_llm\",\n",
    "    formatting_llm=\"formatting_llm\",\n",
    "    sim_model=\"sim_model\",\n",
    "    step2_evals=metrics.DGEvalBase,\n",
    "    end_evals=metrics.DGEvalBase,\n",
    ")"
   ]
  },
  {
   "cell_type": "code",
   "execution_count": null,
   "metadata": {},
   "outputs": [],
   "source": [
    "data = [\n",
    "    {\"text\": \"Hey there! How can I help you today?\", \"participant\": \"assistant\"},\n",
    "    {\"text\": \"I need to book a ride to the airport.\", \"participant\": \"user\"},\n",
    "    {\n",
    "        \"text\": \"Sure! I can help with that. When is your flight, and where are you departing from?\",\n",
    "        \"participant\": \"assistant\",\n",
    "    },\n",
    "    {\"text\": \"Do you have any other options?\", \"participant\": \"user\"},\n",
    "    {\n",
    "        \"text\": \"If you'd prefer, I can send you options for ride-share services instead. Would you like that?\",\n",
    "        \"participant\": \"assistant\",\n",
    "    },\n",
    "    {\"text\": \"No, I'll manage on my own.\", \"participant\": \"user\"},\n",
    "    {\"text\": \"No worries! Feel free to reach out anytime.\", \"participant\": \"assistant\"},\n",
    "    {\"text\": \"Alright, thanks anyway.\", \"participant\": \"user\"},\n",
    "    {\"text\": \"You're welcome! Have a fantastic trip!\", \"participant\": \"assistant\"},\n",
    "]\n",
    "raw_data = PipelineRawDataType(dialogs=data)\n",
    "graph, report = pipeline.invoke(raw_data)\n",
    "graph.visualise_short(\"transfer\")"
   ]
  },
  {
   "cell_type": "code",
   "execution_count": null,
   "metadata": {},
   "outputs": [],
   "source": [
    "graph.graph_dict"
   ]
  },
  {
   "cell_type": "code",
   "execution_count": null,
   "metadata": {},
   "outputs": [],
   "source": [
    "data = [\n",
    "    [\n",
    "        {\"text\": \"Hey there! How can I help you today?\", \"participant\": \"assistant\"},\n",
    "        {\"text\": \"I need to book a ride to the airport.\", \"participant\": \"user\"},\n",
    "        {\n",
    "            \"text\": \"Sure! I can help with that. When is your flight, and where are you departing from?\",\n",
    "            \"participant\": \"assistant\",\n",
    "        },\n",
    "        {\"text\": \"Do you have any other options?\", \"participant\": \"user\"},\n",
    "        {\n",
    "            \"text\": \"If you'd prefer, I can send you options for ride-share services instead. Would you like that?\",\n",
    "            \"participant\": \"assistant\",\n",
    "        },\n",
    "        {\"text\": \"Actually, never mind.\", \"participant\": \"user\"},\n",
    "        {\n",
    "            \"text\": \"Alright, let me know if you need help later. Have a great day!\",\n",
    "            \"participant\": \"assistant\",\n",
    "        },\n",
    "        {\"text\": \"Okay, have a great day!\", \"participant\": \"user\"},\n",
    "        {\"text\": \"Glad to help! Safe travels.\", \"participant\": \"assistant\"},\n",
    "    ],\n",
    "    [\n",
    "        {\"text\": \"Hey there! How can I help you today?\", \"participant\": \"assistant\"},\n",
    "        {\"text\": \"I need to book a ride to the airport.\", \"participant\": \"user\"},\n",
    "        {\n",
    "            \"text\": \"Sure! I can help with that. When is your flight, and where are you departing from?\",\n",
    "            \"participant\": \"assistant\",\n",
    "        },\n",
    "        {\"text\": \"Do you have any other options?\", \"participant\": \"user\"},\n",
    "        {\n",
    "            \"text\": \"If you'd prefer, I can send you options for ride-share services instead. Would you like that?\",\n",
    "            \"participant\": \"assistant\",\n",
    "        },\n",
    "        {\"text\": \"No, I'll manage on my own.\", \"participant\": \"user\"},\n",
    "        {\n",
    "            \"text\": \"No worries! Feel free to reach out anytime.\",\n",
    "            \"participant\": \"assistant\",\n",
    "        },\n",
    "        {\"text\": \"Alright, thanks anyway.\", \"participant\": \"user\"},\n",
    "        {\"text\": \"You're welcome! Have a fantastic trip!\", \"participant\": \"assistant\"},\n",
    "    ],\n",
    "]\n",
    "raw_data = PipelineRawDataType(dialogs=data)\n",
    "graph, report = pipeline.invoke(raw_data)\n",
    "graph.visualise_short(\"transfer\")"
   ]
  },
  {
   "cell_type": "code",
   "execution_count": null,
   "metadata": {},
   "outputs": [],
   "source": [
    "graph.graph_dict"
   ]
  },
  {
   "cell_type": "code",
   "execution_count": null,
   "metadata": {},
   "outputs": [],
   "source": [
    "data = [\n",
    "    {\n",
    "        \"messages\": [\n",
    "            {\n",
    "                \"text\": \"Hey there! How can I help you today?\",\n",
    "                \"participant\": \"assistant\",\n",
    "            },\n",
    "            {\"text\": \"I need to book a ride to the airport.\", \"participant\": \"user\"},\n",
    "            {\n",
    "                \"text\": \"Sure! I can help with that. When is your flight, and where are you departing from?\",\n",
    "                \"participant\": \"assistant\",\n",
    "            },\n",
    "            {\"text\": \"Do you have any other options?\", \"participant\": \"user\"},\n",
    "            {\n",
    "                \"text\": \"If you'd prefer, I can send you options for ride-share services instead. Would you like that?\",\n",
    "                \"participant\": \"assistant\",\n",
    "            },\n",
    "            {\"text\": \"No, I'll manage on my own.\", \"participant\": \"user\"},\n",
    "            {\n",
    "                \"text\": \"No worries! Feel free to reach out anytime.\",\n",
    "                \"participant\": \"assistant\",\n",
    "            },\n",
    "            {\"text\": \"Alright, thanks anyway.\", \"participant\": \"user\"},\n",
    "            {\n",
    "                \"text\": \"You're welcome! Have a fantastic trip!\",\n",
    "                \"participant\": \"assistant\",\n",
    "            },\n",
    "        ]\n",
    "    }\n",
    "]\n",
    "raw_data = PipelineRawDataType(dialogs=data)\n",
    "graph, report = pipeline.invoke(raw_data)\n",
    "graph.visualise_short(\"transfer\")"
   ]
  },
  {
   "cell_type": "code",
   "execution_count": null,
   "metadata": {},
   "outputs": [],
   "source": [
    "data"
   ]
  },
  {
   "cell_type": "code",
   "execution_count": null,
   "metadata": {},
   "outputs": [],
   "source": [
    "graph.graph_dict"
   ]
  },
  {
   "cell_type": "code",
   "execution_count": null,
   "metadata": {},
   "outputs": [],
   "source": [
    "gr = Graph(data[\"true_graph\"])\n",
    "gr.graph_dict"
   ]
  },
  {
   "cell_type": "code",
   "execution_count": 47,
   "metadata": {},
   "outputs": [
    {
     "data": {
      "text/plain": [
       "PipelineReport(service='d2g_light', properties={'time': 2.1800806522369385, 'simple_graph_comparison': True}, subreports=[{}])"
      ]
     },
     "execution_count": 47,
     "metadata": {},
     "output_type": "execute_result"
    }
   ],
   "source": [
    "report"
   ]
  },
  {
   "cell_type": "code",
   "execution_count": null,
   "metadata": {},
   "outputs": [],
   "source": [
    "graph.graph_dict"
   ]
  },
  {
   "cell_type": "code",
   "execution_count": null,
   "metadata": {},
   "outputs": [],
   "source": [
    "with open(\"transfer_2.json\") as f:\n",
    "    data = json.load(f)\n",
    "\n",
    "raw_data = PipelineRawDataType(dialogs=data[\"dialogs\"])\n",
    "graph, report = pipeline.invoke(raw_data)\n",
    "graph.visualise_short(\"transfer\")"
   ]
  },
  {
   "cell_type": "code",
   "execution_count": 24,
   "metadata": {},
   "outputs": [
    {
     "data": {
      "text/plain": [
       "PipelineReport(service='d2g_light', properties={'time': 37.24576377868652, 'simple_graph_comparison': True}, subreports=[{}])"
      ]
     },
     "execution_count": 24,
     "metadata": {},
     "output_type": "execute_result"
    }
   ],
   "source": [
    "report"
   ]
  },
  {
   "cell_type": "code",
   "execution_count": null,
   "metadata": {},
   "outputs": [],
   "source": [
    "with open(\"transfer_2.json\") as f:\n",
    "    data = json.load(f)\n",
    "\n",
    "raw_data = PipelineRawDataType(dialogs=data[\"dialogs\"], true_graph=data[\"true_graph\"])\n",
    "graph, report = pipeline.invoke(raw_data)\n",
    "graph.visualise_short(\"transfer\")"
   ]
  },
  {
   "cell_type": "code",
   "execution_count": 36,
   "metadata": {},
   "outputs": [
    {
     "data": {
      "text/plain": [
       "PipelineReport(service='d2g_light', properties={'time': 35.30027651786804, 'simple_graph_comparison': False}, subreports=[{}])"
      ]
     },
     "execution_count": 36,
     "metadata": {},
     "output_type": "execute_result"
    }
   ],
   "source": [
    "report"
   ]
  },
  {
   "cell_type": "code",
   "execution_count": null,
   "metadata": {},
   "outputs": [],
   "source": [
    "raw_data = PipelineRawDataType(dialogs=\"transfer_2.json\", true_graph=\"transfer_2.json\")\n",
    "graph, report = pipeline.invoke(raw_data)\n",
    "graph.visualise_short(\"transfer\")"
   ]
  },
  {
   "cell_type": "code",
   "execution_count": 24,
   "metadata": {},
   "outputs": [
    {
     "data": {
      "text/plain": [
       "PipelineReport(service='d2g_light', properties={'time': 37.24576377868652, 'simple_graph_comparison': True}, subreports=[{}])"
      ]
     },
     "execution_count": 24,
     "metadata": {},
     "output_type": "execute_result"
    }
   ],
   "source": [
    "report"
   ]
  },
  {
   "cell_type": "code",
   "execution_count": null,
   "metadata": {},
   "outputs": [],
   "source": [
    "graph, report = pipeline.invoke(raw_data)\n",
    "graph.visualise_short(\"transfer\")"
   ]
  },
  {
   "cell_type": "code",
   "execution_count": null,
   "metadata": {},
   "outputs": [],
   "source": [
    "with open(\"test_graph_1.json\", encoding=\"utf-8\") as f:\n",
    "    data = json.load(f)\n",
    "Graph(data[\"true_graph\"]).visualise_short(\n",
    "    \"Fixing a calendar sync delay with time zones\"\n",
    ")"
   ]
  },
  {
   "cell_type": "code",
   "execution_count": null,
   "metadata": {},
   "outputs": [],
   "source": [
    "raw_data = PipelineRawDataType(dialogs=\"test_graph_1.json\")\n",
    "graph, report = pipeline.invoke(raw_data)\n",
    "graph.visualise_short(\"Fixing a calendar sync delay with time zones\")"
   ]
  },
  {
   "cell_type": "code",
   "execution_count": null,
   "metadata": {},
   "outputs": [],
   "source": [
    "raw_data = PipelineRawDataType(dialogs=data[\"dialogs\"], true_graph=data[\"true_graph\"])\n",
    "graph, report = pipeline.invoke(raw_data, enable_evals=True)\n",
    "report"
   ]
  },
  {
   "cell_type": "markdown",
   "metadata": {},
   "source": [
    "### D2G LLM pipeline"
   ]
  },
  {
   "cell_type": "code",
   "execution_count": 64,
   "metadata": {},
   "outputs": [],
   "source": [
    "from dialogue2graph.pipelines.d2g_llm.pipeline import D2GLLMPipeline\n",
    "\n",
    "pipeline = D2GLLMPipeline(\n",
    "    name=\"d2g_llm\",\n",
    "    model_storage=ms,\n",
    "    grouping_llm=\"grouping_llm\",\n",
    "    filling_llm=\"filling_llm\",\n",
    "    formatting_llm=\"formatting_llm\",\n",
    "    sim_model=\"sim_model\",\n",
    "    step2_evals=metrics.DGEvalBase,\n",
    "    end_evals=metrics.DGEvalBase,\n",
    ")"
   ]
  },
  {
   "cell_type": "code",
   "execution_count": null,
   "metadata": {},
   "outputs": [],
   "source": [
    "raw_data = PipelineRawDataType(dialogs=\"transfer.json\")\n",
    "graph, report = pipeline.invoke(raw_data)\n",
    "graph.visualise_short(\"transfer\")"
   ]
  },
  {
   "cell_type": "code",
   "execution_count": null,
   "metadata": {},
   "outputs": [],
   "source": [
    "data = [\n",
    "    {\"text\": \"Hey there! How can I help you today?\", \"participant\": \"assistant\"},\n",
    "    {\"text\": \"I need to book a ride to the airport.\", \"participant\": \"user\"},\n",
    "    {\n",
    "        \"text\": \"Sure! I can help with that. When is your flight, and where are you departing from?\",\n",
    "        \"participant\": \"assistant\",\n",
    "    },\n",
    "    {\"text\": \"Do you have any other options?\", \"participant\": \"user\"},\n",
    "    {\n",
    "        \"text\": \"If you'd prefer, I can send you options for ride-share services instead. Would you like that?\",\n",
    "        \"participant\": \"assistant\",\n",
    "    },\n",
    "    {\"text\": \"No, I'll manage on my own.\", \"participant\": \"user\"},\n",
    "    {\"text\": \"No worries! Feel free to reach out anytime.\", \"participant\": \"assistant\"},\n",
    "    {\"text\": \"Alright, thanks anyway.\", \"participant\": \"user\"},\n",
    "    {\"text\": \"You're welcome! Have a fantastic trip!\", \"participant\": \"assistant\"},\n",
    "]\n",
    "raw_data = PipelineRawDataType(dialogs=data)\n",
    "graph, report = pipeline.invoke(raw_data)\n",
    "graph.visualise_short(\"transfer\")"
   ]
  },
  {
   "cell_type": "code",
   "execution_count": null,
   "metadata": {},
   "outputs": [],
   "source": [
    "data = [\n",
    "    [\n",
    "        {\"text\": \"Hey there! How can I help you today?\", \"participant\": \"assistant\"},\n",
    "        {\"text\": \"I need to book a ride to the airport.\", \"participant\": \"user\"},\n",
    "        {\n",
    "            \"text\": \"Sure! I can help with that. When is your flight, and where are you departing from?\",\n",
    "            \"participant\": \"assistant\",\n",
    "        },\n",
    "        {\"text\": \"Do you have any other options?\", \"participant\": \"user\"},\n",
    "        {\n",
    "            \"text\": \"If you'd prefer, I can send you options for ride-share services instead. Would you like that?\",\n",
    "            \"participant\": \"assistant\",\n",
    "        },\n",
    "        {\"text\": \"Actually, never mind.\", \"participant\": \"user\"},\n",
    "        {\n",
    "            \"text\": \"Alright, let me know if you need help later. Have a great day!\",\n",
    "            \"participant\": \"assistant\",\n",
    "        },\n",
    "        {\"text\": \"Okay, have a great day!\", \"participant\": \"user\"},\n",
    "        {\"text\": \"Glad to help! Safe travels.\", \"participant\": \"assistant\"},\n",
    "    ],\n",
    "    [\n",
    "        {\"text\": \"Hey there! How can I help you today?\", \"participant\": \"assistant\"},\n",
    "        {\"text\": \"I need to book a ride to the airport.\", \"participant\": \"user\"},\n",
    "        {\n",
    "            \"text\": \"Sure! I can help with that. When is your flight, and where are you departing from?\",\n",
    "            \"participant\": \"assistant\",\n",
    "        },\n",
    "        {\"text\": \"Do you have any other options?\", \"participant\": \"user\"},\n",
    "        {\n",
    "            \"text\": \"If you'd prefer, I can send you options for ride-share services instead. Would you like that?\",\n",
    "            \"participant\": \"assistant\",\n",
    "        },\n",
    "        {\"text\": \"No, I'll manage on my own.\", \"participant\": \"user\"},\n",
    "        {\n",
    "            \"text\": \"No worries! Feel free to reach out anytime.\",\n",
    "            \"participant\": \"assistant\",\n",
    "        },\n",
    "        {\"text\": \"Alright, thanks anyway.\", \"participant\": \"user\"},\n",
    "        {\"text\": \"You're welcome! Have a fantastic trip!\", \"participant\": \"assistant\"},\n",
    "    ],\n",
    "]\n",
    "raw_data = PipelineRawDataType(dialogs=data)\n",
    "graph, report = pipeline.invoke(raw_data)\n",
    "graph.visualise_short(\"transfer\")"
   ]
  },
  {
   "cell_type": "code",
   "execution_count": null,
   "metadata": {},
   "outputs": [],
   "source": [
    "data = [\n",
    "    {\n",
    "        \"messages\": [\n",
    "            {\n",
    "                \"text\": \"Hey there! How can I help you today?\",\n",
    "                \"participant\": \"assistant\",\n",
    "            },\n",
    "            {\"text\": \"I need to book a ride to the airport.\", \"participant\": \"user\"},\n",
    "            {\n",
    "                \"text\": \"Sure! I can help with that. When is your flight, and where are you departing from?\",\n",
    "                \"participant\": \"assistant\",\n",
    "            },\n",
    "            {\"text\": \"Do you have any other options?\", \"participant\": \"user\"},\n",
    "            {\n",
    "                \"text\": \"If you'd prefer, I can send you options for ride-share services instead. Would you like that?\",\n",
    "                \"participant\": \"assistant\",\n",
    "            },\n",
    "            {\"text\": \"No, I'll manage on my own.\", \"participant\": \"user\"},\n",
    "            {\n",
    "                \"text\": \"No worries! Feel free to reach out anytime.\",\n",
    "                \"participant\": \"assistant\",\n",
    "            },\n",
    "            {\"text\": \"Alright, thanks anyway.\", \"participant\": \"user\"},\n",
    "            {\n",
    "                \"text\": \"You're welcome! Have a fantastic trip!\",\n",
    "                \"participant\": \"assistant\",\n",
    "            },\n",
    "        ]\n",
    "    }\n",
    "]\n",
    "raw_data = PipelineRawDataType(dialogs=data)\n",
    "graph, report = pipeline.invoke(raw_data)\n",
    "graph.visualise_short(\"transfer\")"
   ]
  },
  {
   "cell_type": "code",
   "execution_count": null,
   "metadata": {},
   "outputs": [],
   "source": [
    "with open(\"transfer.json\") as f:\n",
    "    data = json.load(f)\n",
    "raw_data = PipelineRawDataType(dialogs=data)\n",
    "graph, report = pipeline.invoke(raw_data)\n",
    "graph.visualise_short(\"transfer\")"
   ]
  },
  {
   "cell_type": "code",
   "execution_count": null,
   "metadata": {},
   "outputs": [],
   "source": [
    "with open(\"test_graph_1.json\", encoding=\"utf-8\") as f:\n",
    "    data = json.load(f)\n",
    "raw_data = PipelineRawDataType(dialogs=data[\"dialogs\"], true_graph=data[\"true_graph\"])\n",
    "graph, report = pipeline.invoke(raw_data, enable_evals=True)\n",
    "report"
   ]
  },
  {
   "cell_type": "markdown",
   "metadata": {},
   "source": [
    "### D2G LLM extender"
   ]
  },
  {
   "cell_type": "code",
   "execution_count": 8,
   "metadata": {},
   "outputs": [
    {
     "name": "stderr",
     "output_type": "stream",
     "text": [
      "2025-04-17 17:28:57,546 - /data/home/peshkichev/projects/chatsky-llm-autoconfig/dialogue2graph/pipelines/model_storage.py - WARNING - Key 'filling_llm' already exists in storage. Overwriting.\n",
      "2025-04-17 17:28:57,546 - /data/home/peshkichev/projects/chatsky-llm-autoconfig/dialogue2graph/pipelines/model_storage.py - WARNING - Key 'filling_llm' already exists in storage. Overwriting.\n",
      "2025-04-17 17:28:57,547 - /data/home/peshkichev/projects/chatsky-llm-autoconfig/dialogue2graph/pipelines/model_storage.py - WARNING - Key 'formatting_llm' already exists in storage. Overwriting.\n"
     ]
    },
    {
     "name": "stdout",
     "output_type": "stream",
     "text": [
      "FIELDS: <class 'langchain_openai.chat_models.base.ChatOpenAI'>\n"
     ]
    },
    {
     "name": "stderr",
     "output_type": "stream",
     "text": [
      "2025-04-17 17:28:57,631 - /data/home/peshkichev/projects/chatsky-llm-autoconfig/dialogue2graph/pipelines/model_storage.py - INFO - Added <class 'langchain_openai.chat_models.base.ChatOpenAI'> model 'd2g_extender_dialog_llm:v1' to storage\n",
      "2025-04-17 17:28:57,632 - /data/home/peshkichev/projects/chatsky-llm-autoconfig/dialogue2graph/pipelines/model_storage.py - WARNING - Key 'sim_model' already exists in storage. Overwriting.\n"
     ]
    }
   ],
   "source": [
    "from dialogue2graph.pipelines.d2g_extender.pipeline import D2GExtenderPipeline\n",
    "\n",
    "pipeline = D2GExtenderPipeline(\n",
    "    name=\"d2g_ext\",\n",
    "    model_storage=ms,\n",
    "    extending_llm=\"filling_llm\",\n",
    "    filling_llm=\"filling_llm\",\n",
    "    formatting_llm=\"formatting_llm\",\n",
    "    sim_model=\"sim_model\",\n",
    "    step1_evals=metrics.PreDGEvalBase,\n",
    "    extender_evals=metrics.PreDGEvalBase,\n",
    "    step2_evals=metrics.DGEvalBase,\n",
    "    end_evals=metrics.DGEvalBase,\n",
    ")"
   ]
  },
  {
   "cell_type": "code",
   "execution_count": null,
   "metadata": {},
   "outputs": [],
   "source": [
    "data = [\n",
    "    {\"text\": \"Hey there! How can I help you today?\", \"participant\": \"assistant\"},\n",
    "    {\"text\": \"I need to book a ride to the airport.\", \"participant\": \"user\"},\n",
    "    {\n",
    "        \"text\": \"Sure! I can help with that. When is your flight, and where are you departing from?\",\n",
    "        \"participant\": \"assistant\",\n",
    "    },\n",
    "    {\"text\": \"Do you have any other options?\", \"participant\": \"user\"},\n",
    "    {\n",
    "        \"text\": \"If you'd prefer, I can send you options for ride-share services instead. Would you like that?\",\n",
    "        \"participant\": \"assistant\",\n",
    "    },\n",
    "    {\"text\": \"No, I'll manage on my own.\", \"participant\": \"user\"},\n",
    "    {\"text\": \"No worries! Feel free to reach out anytime.\", \"participant\": \"assistant\"},\n",
    "    {\"text\": \"Alright, thanks anyway.\", \"participant\": \"user\"},\n",
    "    {\"text\": \"You're welcome! Have a fantastic trip!\", \"participant\": \"assistant\"},\n",
    "]\n",
    "raw_data = PipelineRawDataType(dialogs=data)\n",
    "graph, report = pipeline.invoke(raw_data)\n",
    "graph.visualise_short(\"transfer\")"
   ]
  },
  {
   "cell_type": "code",
   "execution_count": null,
   "metadata": {},
   "outputs": [],
   "source": [
    "data = [\n",
    "    [\n",
    "        {\"text\": \"Hey there! How can I help you today?\", \"participant\": \"assistant\"},\n",
    "        {\"text\": \"I need to book a ride to the airport.\", \"participant\": \"user\"},\n",
    "        {\n",
    "            \"text\": \"Sure! I can help with that. When is your flight, and where are you departing from?\",\n",
    "            \"participant\": \"assistant\",\n",
    "        },\n",
    "        {\"text\": \"Do you have any other options?\", \"participant\": \"user\"},\n",
    "        {\n",
    "            \"text\": \"If you'd prefer, I can send you options for ride-share services instead. Would you like that?\",\n",
    "            \"participant\": \"assistant\",\n",
    "        },\n",
    "        {\"text\": \"Actually, never mind.\", \"participant\": \"user\"},\n",
    "        {\n",
    "            \"text\": \"Alright, let me know if you need help later. Have a great day!\",\n",
    "            \"participant\": \"assistant\",\n",
    "        },\n",
    "        {\"text\": \"Okay, have a great day!\", \"participant\": \"user\"},\n",
    "        {\"text\": \"Glad to help! Safe travels.\", \"participant\": \"assistant\"},\n",
    "    ]\n",
    "]\n",
    "raw_data = PipelineRawDataType(dialogs=data, supported_graph=graph.graph_dict)\n",
    "graph, report = pipeline.invoke(raw_data)\n",
    "graph.visualise_short(\"transfer\")"
   ]
  },
  {
   "cell_type": "code",
   "execution_count": null,
   "metadata": {},
   "outputs": [],
   "source": [
    "data = [\n",
    "    {\n",
    "        \"messages\": [\n",
    "            {\n",
    "                \"text\": \"Hey there! How can I help you today?\",\n",
    "                \"participant\": \"assistant\",\n",
    "            },\n",
    "            {\"text\": \"I need to book a ride to the airport.\", \"participant\": \"user\"},\n",
    "            {\n",
    "                \"text\": \"Sure! I can help with that. When is your flight, and where are you departing from?\",\n",
    "                \"participant\": \"assistant\",\n",
    "            },\n",
    "            {\"text\": \"Do you have any other options?\", \"participant\": \"user\"},\n",
    "            {\n",
    "                \"text\": \"If you'd prefer, I can send you options for ride-share services instead. Would you like that?\",\n",
    "                \"participant\": \"assistant\",\n",
    "            },\n",
    "            {\"text\": \"No, I'll manage on my own.\", \"participant\": \"user\"},\n",
    "            {\n",
    "                \"text\": \"No worries! Feel free to reach out anytime.\",\n",
    "                \"participant\": \"assistant\",\n",
    "            },\n",
    "            {\"text\": \"Alright, thanks anyway.\", \"participant\": \"user\"},\n",
    "            {\n",
    "                \"text\": \"You're welcome! Have a fantastic trip!\",\n",
    "                \"participant\": \"assistant\",\n",
    "            },\n",
    "        ]\n",
    "    }\n",
    "]\n",
    "raw_data = PipelineRawDataType(dialogs=data)\n",
    "graph, report = pipeline.invoke(raw_data)\n",
    "graph.visualise_short(\"transfer\")"
   ]
  },
  {
   "cell_type": "code",
   "execution_count": null,
   "metadata": {},
   "outputs": [],
   "source": [
    "Graph(data[\"true_graph\"]).graph_dict"
   ]
  },
  {
   "cell_type": "code",
   "execution_count": 9,
   "metadata": {},
   "outputs": [
    {
     "data": {
      "image/png": "[encoded data removed]",
      "text/plain": [
       "<Figure size 640x480 with 1 Axes>"
      ]
     },
     "metadata": {},
     "output_type": "display_data"
    }
   ],
   "source": [
    "with open(\"test_graph_1.json\", encoding=\"utf-8\") as f:\n",
    "    data = json.load(f)\n",
    "Graph(data[\"true_graph\"]).visualise_short(\n",
    "    \"Fixing a calendar sync delay with time zones\"\n",
    ")"
   ]
  },
  {
   "cell_type": "code",
   "execution_count": null,
   "metadata": {},
   "outputs": [],
   "source": [
    "raw_data = PipelineRawDataType(dialogs=data[\"dialogs\"], true_graph=data[\"true_graph\"])\n",
    "graph, report = pipeline.invoke(raw_data, enable_evals=True)\n",
    "report"
   ]
  },
  {
   "cell_type": "code",
   "execution_count": null,
   "metadata": {},
   "outputs": [],
   "source": [
    "graph.graph_dict"
   ]
  },
  {
   "cell_type": "code",
   "execution_count": null,
   "metadata": {},
   "outputs": [],
   "source": [
    "graph.visualise_short(\"Fixing a calendar sync delay with time zones\")"
   ]
  },
  {
   "cell_type": "code",
   "execution_count": 10,
   "metadata": {},
   "outputs": [],
   "source": [
    "with open(\"test_metrics_data.json\", encoding=\"utf-8\") as f:\n",
    "    data_2 = json.load(f)"
   ]
  },
  {
   "cell_type": "code",
   "execution_count": 12,
   "metadata": {},
   "outputs": [
    {
     "data": {
      "text/plain": [
       "{'graph': {'edges': [{'source': 2,\n",
       "    'target': 3,\n",
       "    'utterances': [\"Yes, I checked but it still doesn't sync.\"]},\n",
       "   {'source': 3,\n",
       "    'target': 4,\n",
       "    'utterances': ['Alright, please guide me through the steps.']},\n",
       "   {'source': 4,\n",
       "    'target': 6,\n",
       "    'utterances': [\"I've followed the steps and it seems to be working now.\"]},\n",
       "   {'source': 2,\n",
       "    'target': 8,\n",
       "    'utterances': [\"I think I'll handle it later. Thanks anyway.\"]},\n",
       "   {'source': 4,\n",
       "    'target': 7,\n",
       "    'utterances': ['I want to change the time zone instead.']},\n",
       "   {'source': 7,\n",
       "    'target': 4,\n",
       "    'utterances': [\"Sure, let's adjust the time zone settings.\"]},\n",
       "   {'source': 5,\n",
       "    'target': 6,\n",
       "    'utterances': [\"After adjusting, it still doesn't sync.\"]},\n",
       "   {'source': 3,\n",
       "    'target': 5,\n",
       "    'utterances': ['Time zone settings are correct, but the issue persists.']},\n",
       "   {'source': 6,\n",
       "    'target': 8,\n",
       "    'utterances': [\"Actually, it's still not syncing. I want to try something else.\"]}],\n",
       "  'nodes': [{'id': 2,\n",
       "    'label': 'identify_issue',\n",
       "    'is_start': False,\n",
       "    'utterances': [\"I'm sorry to hear you're experiencing a sync delay. Can you tell me more about the issue?\"]},\n",
       "   {'id': 3,\n",
       "    'label': 'ask_time_zone',\n",
       "    'is_start': False,\n",
       "    'utterances': ['Could you verify that the time zone settings are properly configured on your devices?',\n",
       "     'Have you checked if your time zone settings are correct on all your devices?']},\n",
       "   {'id': 4,\n",
       "    'label': 'provide_steps',\n",
       "    'is_start': False,\n",
       "    'utterances': ['Sure, let me guide you through adjusting your time zone settings.']},\n",
       "   {'id': 5,\n",
       "    'label': 'alternative_solution',\n",
       "    'is_start': False,\n",
       "    'utterances': ['If time zone settings are correct, we can try refreshing the calendar app or reinstalling it.']},\n",
       "   {'id': 6,\n",
       "    'label': 'confirm_resolution',\n",
       "    'is_start': False,\n",
       "    'utterances': ['Great! Is your calendar syncing correctly now?']},\n",
       "   {'id': 7,\n",
       "    'label': 'modify_time_zone',\n",
       "    'is_start': False,\n",
       "    'utterances': ['Of course! Which device would you like to adjust the time zone settings on?']},\n",
       "   {'id': 8,\n",
       "    'label': 'exit_conversation',\n",
       "    'is_start': False,\n",
       "    'utterances': [\"I'm sorry we couldn't resolve the issue. If you need further assistance, feel free to reach out anytime. Have a great day!\"]}]},\n",
       " 'topic': 'Fixing a calendar sync delay with time zones',\n",
       " 'dialogues': [{'messages': [{'text': 'Could you verify that the time zone settings are properly configured on your devices?',\n",
       "     'participant': 'assistant'},\n",
       "    {'text': 'Alright, please guide me through the steps.',\n",
       "     'participant': 'user'},\n",
       "    {'text': 'Sure, let me guide you through adjusting your time zone settings.',\n",
       "     'participant': 'assistant'},\n",
       "    {'text': 'I want to change the time zone instead.', 'participant': 'user'},\n",
       "    {'text': 'Of course! Which device would you like to adjust the time zone settings on?',\n",
       "     'participant': 'assistant'},\n",
       "    {'text': \"Sure, let's adjust the time zone settings.\",\n",
       "     'participant': 'user'},\n",
       "    {'text': 'Sure, let me guide you through adjusting your time zone settings.',\n",
       "     'participant': 'assistant'},\n",
       "    {'text': \"I've followed the steps and it seems to be working now.\",\n",
       "     'participant': 'user'},\n",
       "    {'text': 'Great! Is your calendar syncing correctly now?',\n",
       "     'participant': 'assistant'},\n",
       "    {'text': \"Actually, it's still not syncing. I want to try something else.\",\n",
       "     'participant': 'user'}],\n",
       "   'topic': '',\n",
       "   'validate': True},\n",
       "  {'messages': [{'text': \"I'm sorry to hear you're experiencing a sync delay. Can you tell me more about the issue?\",\n",
       "     'participant': 'assistant'},\n",
       "    {'text': \"Yes, I checked but it still doesn't sync.\",\n",
       "     'participant': 'user'},\n",
       "    {'text': 'Have you checked if your time zone settings are correct on all your devices?',\n",
       "     'participant': 'assistant'},\n",
       "    {'text': 'Alright, please guide me through the steps.',\n",
       "     'participant': 'user'},\n",
       "    {'text': 'Sure, let me guide you through adjusting your time zone settings.',\n",
       "     'participant': 'assistant'},\n",
       "    {'text': 'I want to change the time zone instead.', 'participant': 'user'},\n",
       "    {'text': 'Of course! Which device would you like to adjust the time zone settings on?',\n",
       "     'participant': 'assistant'},\n",
       "    {'text': \"Sure, let's adjust the time zone settings.\",\n",
       "     'participant': 'user'},\n",
       "    {'text': 'Sure, let me guide you through adjusting your time zone settings.',\n",
       "     'participant': 'assistant'},\n",
       "    {'text': \"I've followed the steps and it seems to be working now.\",\n",
       "     'participant': 'user'},\n",
       "    {'text': 'Great! Is your calendar syncing correctly now?',\n",
       "     'participant': 'assistant'},\n",
       "    {'text': \"Actually, it's still not syncing. I want to try something else.\",\n",
       "     'participant': 'user'}],\n",
       "   'topic': '',\n",
       "   'validate': True},\n",
       "  {'messages': [{'text': 'Could you verify that the time zone settings are properly configured on your devices?',\n",
       "     'participant': 'assistant'},\n",
       "    {'text': 'Time zone settings are correct, but the issue persists.',\n",
       "     'participant': 'user'},\n",
       "    {'text': 'If time zone settings are correct, we can try refreshing the calendar app or reinstalling it.',\n",
       "     'participant': 'assistant'},\n",
       "    {'text': \"After adjusting, it still doesn't sync.\", 'participant': 'user'},\n",
       "    {'text': 'Great! Is your calendar syncing correctly now?',\n",
       "     'participant': 'assistant'},\n",
       "    {'text': \"Actually, it's still not syncing. I want to try something else.\",\n",
       "     'participant': 'user'}],\n",
       "   'topic': '',\n",
       "   'validate': True},\n",
       "  {'messages': [{'text': \"I'm sorry to hear you're experiencing a sync delay. Can you tell me more about the issue?\",\n",
       "     'participant': 'assistant'},\n",
       "    {'text': \"Yes, I checked but it still doesn't sync.\",\n",
       "     'participant': 'user'},\n",
       "    {'text': 'Have you checked if your time zone settings are correct on all your devices?',\n",
       "     'participant': 'assistant'},\n",
       "    {'text': 'Time zone settings are correct, but the issue persists.',\n",
       "     'participant': 'user'},\n",
       "    {'text': 'If time zone settings are correct, we can try refreshing the calendar app or reinstalling it.',\n",
       "     'participant': 'assistant'},\n",
       "    {'text': \"After adjusting, it still doesn't sync.\", 'participant': 'user'},\n",
       "    {'text': 'Great! Is your calendar syncing correctly now?',\n",
       "     'participant': 'assistant'},\n",
       "    {'text': \"Actually, it's still not syncing. I want to try something else.\",\n",
       "     'participant': 'user'}],\n",
       "   'topic': '',\n",
       "   'validate': True},\n",
       "  {'messages': [{'text': \"I'm sorry to hear you're experiencing a sync delay. Can you tell me more about the issue?\",\n",
       "     'participant': 'assistant'},\n",
       "    {'text': \"I think I'll handle it later. Thanks anyway.\",\n",
       "     'participant': 'user'}],\n",
       "   'topic': '',\n",
       "   'validate': True}]}"
      ]
     },
     "execution_count": 12,
     "metadata": {},
     "output_type": "execute_result"
    }
   ],
   "source": [
    "data_2[2]"
   ]
  },
  {
   "cell_type": "code",
   "execution_count": null,
   "metadata": {},
   "outputs": [],
   "source": [
    "raw_data = PipelineRawDataType(\n",
    "    dialogs=data_2[2][\"dialogues\"], true_graph=data[\"true_graph\"]\n",
    ")\n",
    "graph, report = pipeline.invoke(raw_data, enable_evals=True)\n",
    "report"
   ]
  },
  {
   "cell_type": "code",
   "execution_count": null,
   "metadata": {},
   "outputs": [],
   "source": []
  },
  {
   "cell_type": "code",
   "execution_count": 13,
   "metadata": {},
   "outputs": [
    {
     "name": "stderr",
     "output_type": "stream",
     "text": [
      "2025-04-17 17:32:58,210 - chromadb.telemetry.product.posthog - INFO - Anonymized telemetry enabled. See                     https://docs.trychroma.com/telemetry for more information.\n"
     ]
    },
    {
     "name": "stderr",
     "output_type": "stream",
     "text": [
      "2025-04-17 17:33:31,596 - httpx - INFO - HTTP Request: POST http://193.187.173.33:8002/api/providers/openai/v1/chat/completions \"HTTP/1.1 200 OK\"\n",
      "2025-04-17 17:33:53,078 - httpx - INFO - HTTP Request: POST http://193.187.173.33:8002/api/providers/openai/v1/chat/completions \"HTTP/1.1 200 OK\"\n",
      "2025-04-17 17:33:53,134 - dialogue2graph.metrics.no_llm_metrics.metrics - INFO - Graph has all the dialogues\n",
      "2025-04-17 17:34:07,971 - httpx - INFO - HTTP Request: POST http://193.187.173.33:8002/api/providers/openai/v1/chat/completions \"HTTP/1.1 200 OK\"\n",
      "2025-04-17 17:34:07,991 - dialogue2graph.metrics.no_llm_metrics.metrics - INFO - Graph has all the dialogues\n",
      "2025-04-17 17:34:09,875 - sentence_transformers.SentenceTransformer - INFO - Load pretrained SentenceTransformer: BAAI/bge-m3\n"
     ]
    },
    {
     "data": {
      "application/vnd.jupyter.widget-view+json": {
       "model_id": "cec4e8f4daa0435b8802bc165e7823e0",
       "version_major": 2,
       "version_minor": 0
      },
      "text/plain": [
       "Batches:   0%|          | 0/1 [00:00<?, ?it/s]"
      ]
     },
     "metadata": {},
     "output_type": "display_data"
    },
    {
     "data": {
      "application/vnd.jupyter.widget-view+json": {
       "model_id": "e76e1253c02441639bad3273e00b10dc",
       "version_major": 2,
       "version_minor": 0
      },
      "text/plain": [
       "Batches:   0%|          | 0/1 [00:00<?, ?it/s]"
      ]
     },
     "metadata": {},
     "output_type": "display_data"
    },
    {
     "data": {
      "application/vnd.jupyter.widget-view+json": {
       "model_id": "ea5d9f95990f438494f0cb385d598d56",
       "version_major": 2,
       "version_minor": 0
      },
      "text/plain": [
       "Batches:   0%|          | 0/1 [00:00<?, ?it/s]"
      ]
     },
     "metadata": {},
     "output_type": "display_data"
    },
    {
     "data": {
      "application/vnd.jupyter.widget-view+json": {
       "model_id": "65132ef0d67a4bf4b339e9feae87b0fc",
       "version_major": 2,
       "version_minor": 0
      },
      "text/plain": [
       "Batches:   0%|          | 0/1 [00:00<?, ?it/s]"
      ]
     },
     "metadata": {},
     "output_type": "display_data"
    },
    {
     "name": "stderr",
     "output_type": "stream",
     "text": [
      "2025-04-17 17:35:04,112 - httpx - INFO - HTTP Request: POST http://193.187.173.33:8002/api/providers/openai/v1/chat/completions \"HTTP/1.1 200 OK\"\n"
     ]
    },
    {
     "data": {
      "application/vnd.jupyter.widget-view+json": {
       "model_id": "5b3851bc2c60418eb275da6e4ee2b139",
       "version_major": 2,
       "version_minor": 0
      },
      "text/plain": [
       "Batches:   0%|          | 0/1 [00:00<?, ?it/s]"
      ]
     },
     "metadata": {},
     "output_type": "display_data"
    },
    {
     "data": {
      "application/vnd.jupyter.widget-view+json": {
       "model_id": "7018705489024e3789d5dd0290d904cf",
       "version_major": 2,
       "version_minor": 0
      },
      "text/plain": [
       "Batches:   0%|          | 0/1 [00:00<?, ?it/s]"
      ]
     },
     "metadata": {},
     "output_type": "display_data"
    },
    {
     "data": {
      "application/vnd.jupyter.widget-view+json": {
       "model_id": "f41e5796551e4b09bc982844b612b2db",
       "version_major": 2,
       "version_minor": 0
      },
      "text/plain": [
       "Batches:   0%|          | 0/1 [00:00<?, ?it/s]"
      ]
     },
     "metadata": {},
     "output_type": "display_data"
    },
    {
     "data": {
      "application/vnd.jupyter.widget-view+json": {
       "model_id": "17715e28804a4150aea15785694797cf",
       "version_major": 2,
       "version_minor": 0
      },
      "text/plain": [
       "Batches:   0%|          | 0/1 [00:00<?, ?it/s]"
      ]
     },
     "metadata": {},
     "output_type": "display_data"
    },
    {
     "name": "stderr",
     "output_type": "stream",
     "text": [
      "2025-04-17 17:35:04,461 - dialogue2graph.metrics.no_llm_metrics.metrics - INFO - Graph has all the dialogues\n"
     ]
    },
    {
     "data": {
      "application/vnd.jupyter.widget-view+json": {
       "model_id": "69ea4a9446c8499381f589da363b68a6",
       "version_major": 2,
       "version_minor": 0
      },
      "text/plain": [
       "Batches:   0%|          | 0/1 [00:00<?, ?it/s]"
      ]
     },
     "metadata": {},
     "output_type": "display_data"
    },
    {
     "data": {
      "application/vnd.jupyter.widget-view+json": {
       "model_id": "896f78233564415d803535780d9a7d30",
       "version_major": 2,
       "version_minor": 0
      },
      "text/plain": [
       "Batches:   0%|          | 0/1 [00:00<?, ?it/s]"
      ]
     },
     "metadata": {},
     "output_type": "display_data"
    },
    {
     "data": {
      "application/vnd.jupyter.widget-view+json": {
       "model_id": "a0ebeae0d94049e0b1a4212d4567c04f",
       "version_major": 2,
       "version_minor": 0
      },
      "text/plain": [
       "Batches:   0%|          | 0/1 [00:00<?, ?it/s]"
      ]
     },
     "metadata": {},
     "output_type": "display_data"
    },
    {
     "data": {
      "application/vnd.jupyter.widget-view+json": {
       "model_id": "c4f0b4e1db9c41c3a2a7fa8d6bb895c3",
       "version_major": 2,
       "version_minor": 0
      },
      "text/plain": [
       "Batches:   0%|          | 0/1 [00:00<?, ?it/s]"
      ]
     },
     "metadata": {},
     "output_type": "display_data"
    },
    {
     "data": {
      "text/plain": [
       "PipelineReport(service='d2g_ext', properties={'time': 126.26458096504211, 'simple_graph_comparison': False, 'complex_graph_comparison': {'value': False, 'description': 'At least one of nodes corresponds to more than one in another graph'}}, subreports=[{'d2g_light:compare_graphs:step2': {'value': False, 'description': 'Numbers of nodes do not match: 6 != 7'}, 'd2g_light:is_same_structure:step2': False, 'd2g_light:compare_graphs:end': {'value': False, 'description': 'Numbers of nodes do not match: 6 != 7'}, 'd2g_light:is_same_structure:end': False, 'is_same_structure:step1': False, 'is_same_structure:extender': False, 'compare_graphs:step2': {'value': False, 'description': 'At least one of nodes corresponds to more than one in another graph'}, 'is_same_structure:step2': False, 'compare_graphs:end': {'value': False, 'description': 'At least one of nodes corresponds to more than one in another graph'}, 'is_same_structure:end': False}])"
      ]
     },
     "execution_count": 13,
     "metadata": {},
     "output_type": "execute_result"
    }
   ],
   "source": [
    "raw_data = PipelineRawDataType(\n",
    "    dialogs=data_2[2][\"dialogues\"], true_graph=data_2[2][\"graph\"]\n",
    ")\n",
    "graph, report = pipeline.invoke(raw_data, enable_evals=True)\n",
    "report"
   ]
  }
 ],
 "metadata": {
  "kernelspec": {
   "display_name": "py311",
   "language": "python",
   "name": "python3"
  },
  "language_info": {
   "codemirror_mode": {
    "name": "ipython",
    "version": 3
   },
   "file_extension": ".py",
   "mimetype": "text/x-python",
   "name": "python",
   "nbconvert_exporter": "python",
   "pygments_lexer": "ipython3",
   "version": "3.11.11"
  }
 },
 "nbformat": 4,
 "nbformat_minor": 2
}
