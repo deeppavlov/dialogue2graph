{
 "cells": [
  {
   "cell_type": "code",
   "execution_count": 26,
   "metadata": {},
   "outputs": [],
   "source": [
    "import json\n",
    "import os\n",
    "os.environ['PATH_TO_ENV'] = \"~/projects/chatsky-llm-autoconfig/.env\""
   ]
  },
  {
   "cell_type": "code",
   "execution_count": 4,
   "metadata": {},
   "outputs": [],
   "source": [
    "from langchain.chat_models import ChatOpenAI\n",
    "from langchain_community.embeddings import HuggingFaceEmbeddings"
   ]
  },
  {
   "cell_type": "code",
   "execution_count": 2,
   "metadata": {},
   "outputs": [],
   "source": [
    "%load_ext autoreload\n",
    "%autoreload 2"
   ]
  },
  {
   "cell_type": "markdown",
   "metadata": {},
   "source": [
    "### D2G Algo pipeline"
   ]
  },
  {
   "cell_type": "code",
   "execution_count": 27,
   "metadata": {},
   "outputs": [
    {
     "name": "stderr",
     "output_type": "stream",
     "text": [
      "INFO:sentence_transformers.SentenceTransformer:Load pretrained SentenceTransformer: BAAI/bge-m3\n"
     ]
    }
   ],
   "source": [
    "from dialogue2graph.pipelines.d2g_algo.pipeline import Pipeline\n",
    "filling_llm = ChatOpenAI(model=\"o3-mini\", temperature=1)\n",
    "embedder = HuggingFaceEmbeddings(model_name=\"BAAI/bge-m3\", model_kwargs={\"device\": \"cuda:0\"})\n",
    "pipeline = Pipeline(filling_llm, embedder)"
   ]
  },
  {
   "cell_type": "code",
   "execution_count": null,
   "metadata": {},
   "outputs": [],
   "source": [
    "data = [{'text': 'Hey there! How can I help you today?',\n",
    "    'participant': 'assistant'},\n",
    "   {'text': 'I need to book a ride to the airport.', 'participant': 'user'},\n",
    "   {'text': 'Sure! I can help with that. When is your flight, and where are you departing from?',\n",
    "    'participant': 'assistant'},\n",
    "   {'text': 'Do you have any other options?', 'participant': 'user'},\n",
    "   {'text': \"If you'd prefer, I can send you options for ride-share services instead. Would you like that?\",\n",
    "    'participant': 'assistant'},\n",
    "   {'text': \"No, I'll manage on my own.\", 'participant': 'user'},\n",
    "   {'text': 'No worries! Feel free to reach out anytime.',\n",
    "    'participant': 'assistant'},\n",
    "   {'text': 'Alright, thanks anyway.', 'participant': 'user'},\n",
    "   {'text': \"You're welcome! Have a fantastic trip!\",\n",
    "    'participant': 'assistant'}]\n",
    "graph = pipeline.invoke(data)\n",
    "graph.visualise_short(\"transfer\")"
   ]
  },
  {
   "cell_type": "code",
   "execution_count": null,
   "metadata": {},
   "outputs": [],
   "source": [
    "data = [[{'text': 'Hey there! How can I help you today?',\n",
    "    'participant': 'assistant'},\n",
    "   {'text': 'I need to book a ride to the airport.', 'participant': 'user'},\n",
    "   {'text': 'Sure! I can help with that. When is your flight, and where are you departing from?',\n",
    "    'participant': 'assistant'},\n",
    "   {'text': 'Do you have any other options?', 'participant': 'user'},\n",
    "   {'text': \"If you'd prefer, I can send you options for ride-share services instead. Would you like that?\",\n",
    "    'participant': 'assistant'},\n",
    "   {'text': 'Actually, never mind.', 'participant': 'user'},\n",
    "   {'text': 'Alright, let me know if you need help later. Have a great day!',\n",
    "    'participant': 'assistant'},\n",
    "   {'text': 'Okay, have a great day!', 'participant': 'user'},\n",
    "   {'text': 'Glad to help! Safe travels.', 'participant': 'assistant'}],\n",
    "   [{'text': 'Hey there! How can I help you today?',\n",
    "    'participant': 'assistant'},\n",
    "   {'text': 'I need to book a ride to the airport.', 'participant': 'user'},\n",
    "   {'text': 'Sure! I can help with that. When is your flight, and where are you departing from?',\n",
    "    'participant': 'assistant'},\n",
    "   {'text': 'Do you have any other options?', 'participant': 'user'},\n",
    "   {'text': \"If you'd prefer, I can send you options for ride-share services instead. Would you like that?\",\n",
    "    'participant': 'assistant'},\n",
    "   {'text': \"No, I'll manage on my own.\", 'participant': 'user'},\n",
    "   {'text': 'No worries! Feel free to reach out anytime.',\n",
    "    'participant': 'assistant'},\n",
    "   {'text': 'Alright, thanks anyway.', 'participant': 'user'},\n",
    "   {'text': \"You're welcome! Have a fantastic trip!\",\n",
    "    'participant': 'assistant'}]]\n",
    "graph = pipeline.invoke(data)\n",
    "graph.visualise_short(\"transfer\")"
   ]
  },
  {
   "cell_type": "code",
   "execution_count": null,
   "metadata": {},
   "outputs": [],
   "source": [
    "data = [{\"messages\": [{'text': 'Hey there! How can I help you today?',\n",
    "    'participant': 'assistant'},\n",
    "   {'text': 'I need to book a ride to the airport.', 'participant': 'user'},\n",
    "   {'text': 'Sure! I can help with that. When is your flight, and where are you departing from?',\n",
    "    'participant': 'assistant'},\n",
    "   {'text': 'Do you have any other options?', 'participant': 'user'},\n",
    "   {'text': \"If you'd prefer, I can send you options for ride-share services instead. Would you like that?\",\n",
    "    'participant': 'assistant'},\n",
    "   {'text': \"No, I'll manage on my own.\", 'participant': 'user'},\n",
    "   {'text': 'No worries! Feel free to reach out anytime.',\n",
    "    'participant': 'assistant'},\n",
    "   {'text': 'Alright, thanks anyway.', 'participant': 'user'},\n",
    "   {'text': \"You're welcome! Have a fantastic trip!\",\n",
    "    'participant': 'assistant'}]}]\n",
    "graph = pipeline.invoke(data)\n",
    "graph.visualise_short(\"transfer\")"
   ]
  },
  {
   "cell_type": "code",
   "execution_count": null,
   "metadata": {},
   "outputs": [],
   "source": [
    "with open('transfer.json') as f:\n",
    "    data = json.load(f)\n",
    "graph = pipeline.invoke(data)\n",
    "graph.visualise_short(\"transfer\")"
   ]
  },
  {
   "cell_type": "code",
   "execution_count": null,
   "metadata": {},
   "outputs": [],
   "source": [
    "graph = pipeline.invoke(\"transfer.json\")\n",
    "graph.visualise_short(\"transfer\")"
   ]
  },
  {
   "cell_type": "markdown",
   "metadata": {},
   "source": [
    "### D2G LLM pipeline"
   ]
  },
  {
   "cell_type": "code",
   "execution_count": 33,
   "metadata": {},
   "outputs": [
    {
     "name": "stderr",
     "output_type": "stream",
     "text": [
      "INFO:sentence_transformers.SentenceTransformer:Load pretrained SentenceTransformer: BAAI/bge-m3\n"
     ]
    }
   ],
   "source": [
    "from dialogue2graph.pipelines.d2g_llm.pipeline import Pipeline\n",
    "grouping_llm = ChatOpenAI(model=\"chatgpt-4o-latest\", temperature=0)\n",
    "filling_llm = ChatOpenAI(model=\"o3-mini\", temperature=1)\n",
    "embedder = HuggingFaceEmbeddings(model_name=\"BAAI/bge-m3\", model_kwargs={\"device\": \"cuda:0\"})\n",
    "pipeline = Pipeline(grouping_llm, filling_llm, embedder)"
   ]
  },
  {
   "cell_type": "code",
   "execution_count": null,
   "metadata": {},
   "outputs": [],
   "source": [
    "data = [{'text': 'Hey there! How can I help you today?',\n",
    "    'participant': 'assistant'},\n",
    "   {'text': 'I need to book a ride to the airport.', 'participant': 'user'},\n",
    "   {'text': 'Sure! I can help with that. When is your flight, and where are you departing from?',\n",
    "    'participant': 'assistant'},\n",
    "   {'text': 'Do you have any other options?', 'participant': 'user'},\n",
    "   {'text': \"If you'd prefer, I can send you options for ride-share services instead. Would you like that?\",\n",
    "    'participant': 'assistant'},\n",
    "   {'text': \"No, I'll manage on my own.\", 'participant': 'user'},\n",
    "   {'text': 'No worries! Feel free to reach out anytime.',\n",
    "    'participant': 'assistant'},\n",
    "   {'text': 'Alright, thanks anyway.', 'participant': 'user'},\n",
    "   {'text': \"You're welcome! Have a fantastic trip!\",\n",
    "    'participant': 'assistant'}]\n",
    "graph = pipeline.invoke(data)\n",
    "graph.visualise_short(\"transfer\")"
   ]
  },
  {
   "cell_type": "code",
   "execution_count": null,
   "metadata": {},
   "outputs": [],
   "source": [
    "data = [[{'text': 'Hey there! How can I help you today?',\n",
    "    'participant': 'assistant'},\n",
    "   {'text': 'I need to book a ride to the airport.', 'participant': 'user'},\n",
    "   {'text': 'Sure! I can help with that. When is your flight, and where are you departing from?',\n",
    "    'participant': 'assistant'},\n",
    "   {'text': 'Do you have any other options?', 'participant': 'user'},\n",
    "   {'text': \"If you'd prefer, I can send you options for ride-share services instead. Would you like that?\",\n",
    "    'participant': 'assistant'},\n",
    "   {'text': 'Actually, never mind.', 'participant': 'user'},\n",
    "   {'text': 'Alright, let me know if you need help later. Have a great day!',\n",
    "    'participant': 'assistant'},\n",
    "   {'text': 'Okay, have a great day!', 'participant': 'user'},\n",
    "   {'text': 'Glad to help! Safe travels.', 'participant': 'assistant'}],\n",
    "   [{'text': 'Hey there! How can I help you today?',\n",
    "    'participant': 'assistant'},\n",
    "   {'text': 'I need to book a ride to the airport.', 'participant': 'user'},\n",
    "   {'text': 'Sure! I can help with that. When is your flight, and where are you departing from?',\n",
    "    'participant': 'assistant'},\n",
    "   {'text': 'Do you have any other options?', 'participant': 'user'},\n",
    "   {'text': \"If you'd prefer, I can send you options for ride-share services instead. Would you like that?\",\n",
    "    'participant': 'assistant'},\n",
    "   {'text': \"No, I'll manage on my own.\", 'participant': 'user'},\n",
    "   {'text': 'No worries! Feel free to reach out anytime.',\n",
    "    'participant': 'assistant'},\n",
    "   {'text': 'Alright, thanks anyway.', 'participant': 'user'},\n",
    "   {'text': \"You're welcome! Have a fantastic trip!\",\n",
    "    'participant': 'assistant'}]]\n",
    "graph = pipeline.invoke(data)\n",
    "graph.visualise_short(\"transfer\")"
   ]
  },
  {
   "cell_type": "code",
   "execution_count": null,
   "metadata": {},
   "outputs": [],
   "source": [
    "data = [{\"messages\": [{'text': 'Hey there! How can I help you today?',\n",
    "    'participant': 'assistant'},\n",
    "   {'text': 'I need to book a ride to the airport.', 'participant': 'user'},\n",
    "   {'text': 'Sure! I can help with that. When is your flight, and where are you departing from?',\n",
    "    'participant': 'assistant'},\n",
    "   {'text': 'Do you have any other options?', 'participant': 'user'},\n",
    "   {'text': \"If you'd prefer, I can send you options for ride-share services instead. Would you like that?\",\n",
    "    'participant': 'assistant'},\n",
    "   {'text': \"No, I'll manage on my own.\", 'participant': 'user'},\n",
    "   {'text': 'No worries! Feel free to reach out anytime.',\n",
    "    'participant': 'assistant'},\n",
    "   {'text': 'Alright, thanks anyway.', 'participant': 'user'},\n",
    "   {'text': \"You're welcome! Have a fantastic trip!\",\n",
    "    'participant': 'assistant'}]}]\n",
    "graph = pipeline.invoke(data)\n",
    "graph.visualise_short(\"transfer\")"
   ]
  },
  {
   "cell_type": "code",
   "execution_count": null,
   "metadata": {},
   "outputs": [],
   "source": [
    "with open('transfer.json') as f:\n",
    "    data = json.load(f)\n",
    "graph = pipeline.invoke(data)\n",
    "graph.visualise_short(\"transfer\")"
   ]
  },
  {
   "cell_type": "code",
   "execution_count": null,
   "metadata": {},
   "outputs": [],
   "source": [
    "graph = pipeline.invoke(\"transfer.json\")\n",
    "graph.visualise_short(\"transfer\")"
   ]
  },
  {
   "cell_type": "markdown",
   "metadata": {},
   "source": [
    "### D2G LLM extender"
   ]
  },
  {
   "cell_type": "code",
   "execution_count": 39,
   "metadata": {},
   "outputs": [
    {
     "name": "stderr",
     "output_type": "stream",
     "text": [
      "INFO:sentence_transformers.SentenceTransformer:Load pretrained SentenceTransformer: BAAI/bge-m3\n"
     ]
    }
   ],
   "source": [
    "from dialogue2graph.pipelines.d2g_extender.pipeline import Pipeline\n",
    "extending_llm = ChatOpenAI(model=\"chatgpt-4o-latest\", temperature=0)\n",
    "filling_llm = ChatOpenAI(model=\"o3-mini\", temperature=1)\n",
    "embedder = HuggingFaceEmbeddings(model_name=\"BAAI/bge-m3\", model_kwargs={\"device\": \"cuda:0\"})\n",
    "pipeline = Pipeline(extending_llm, filling_llm, embedder)"
   ]
  },
  {
   "cell_type": "code",
   "execution_count": null,
   "metadata": {},
   "outputs": [],
   "source": [
    "data = [{'text': 'Hey there! How can I help you today?',\n",
    "    'participant': 'assistant'},\n",
    "   {'text': 'I need to book a ride to the airport.', 'participant': 'user'},\n",
    "   {'text': 'Sure! I can help with that. When is your flight, and where are you departing from?',\n",
    "    'participant': 'assistant'},\n",
    "   {'text': 'Do you have any other options?', 'participant': 'user'},\n",
    "   {'text': \"If you'd prefer, I can send you options for ride-share services instead. Would you like that?\",\n",
    "    'participant': 'assistant'},\n",
    "   {'text': \"No, I'll manage on my own.\", 'participant': 'user'},\n",
    "   {'text': 'No worries! Feel free to reach out anytime.',\n",
    "    'participant': 'assistant'},\n",
    "   {'text': 'Alright, thanks anyway.', 'participant': 'user'},\n",
    "   {'text': \"You're welcome! Have a fantastic trip!\",\n",
    "    'participant': 'assistant'}]\n",
    "graph = pipeline.invoke(data)\n",
    "graph.visualise_short(\"transfer\")"
   ]
  },
  {
   "cell_type": "code",
   "execution_count": null,
   "metadata": {},
   "outputs": [],
   "source": [
    "data = [[{'text': 'Hey there! How can I help you today?',\n",
    "    'participant': 'assistant'},\n",
    "   {'text': 'I need to book a ride to the airport.', 'participant': 'user'},\n",
    "   {'text': 'Sure! I can help with that. When is your flight, and where are you departing from?',\n",
    "    'participant': 'assistant'},\n",
    "   {'text': 'Do you have any other options?', 'participant': 'user'},\n",
    "   {'text': \"If you'd prefer, I can send you options for ride-share services instead. Would you like that?\",\n",
    "    'participant': 'assistant'},\n",
    "   {'text': 'Actually, never mind.', 'participant': 'user'},\n",
    "   {'text': 'Alright, let me know if you need help later. Have a great day!',\n",
    "    'participant': 'assistant'},\n",
    "   {'text': 'Okay, have a great day!', 'participant': 'user'},\n",
    "   {'text': 'Glad to help! Safe travels.', 'participant': 'assistant'}],\n",
    "   [{'text': 'Hey there! How can I help you today?',\n",
    "    'participant': 'assistant'},\n",
    "   {'text': 'I need to book a ride to the airport.', 'participant': 'user'},\n",
    "   {'text': 'Sure! I can help with that. When is your flight, and where are you departing from?',\n",
    "    'participant': 'assistant'},\n",
    "   {'text': 'Do you have any other options?', 'participant': 'user'},\n",
    "   {'text': \"If you'd prefer, I can send you options for ride-share services instead. Would you like that?\",\n",
    "    'participant': 'assistant'},\n",
    "   {'text': \"No, I'll manage on my own.\", 'participant': 'user'},\n",
    "   {'text': 'No worries! Feel free to reach out anytime.',\n",
    "    'participant': 'assistant'},\n",
    "   {'text': 'Alright, thanks anyway.', 'participant': 'user'},\n",
    "   {'text': \"You're welcome! Have a fantastic trip!\",\n",
    "    'participant': 'assistant'}]]\n",
    "graph = pipeline.invoke(data)\n",
    "graph.visualise_short(\"transfer\")"
   ]
  },
  {
   "cell_type": "code",
   "execution_count": null,
   "metadata": {},
   "outputs": [],
   "source": [
    "data = [{\"messages\": [{'text': 'Hey there! How can I help you today?',\n",
    "    'participant': 'assistant'},\n",
    "   {'text': 'I need to book a ride to the airport.', 'participant': 'user'},\n",
    "   {'text': 'Sure! I can help with that. When is your flight, and where are you departing from?',\n",
    "    'participant': 'assistant'},\n",
    "   {'text': 'Do you have any other options?', 'participant': 'user'},\n",
    "   {'text': \"If you'd prefer, I can send you options for ride-share services instead. Would you like that?\",\n",
    "    'participant': 'assistant'},\n",
    "   {'text': \"No, I'll manage on my own.\", 'participant': 'user'},\n",
    "   {'text': 'No worries! Feel free to reach out anytime.',\n",
    "    'participant': 'assistant'},\n",
    "   {'text': 'Alright, thanks anyway.', 'participant': 'user'},\n",
    "   {'text': \"You're welcome! Have a fantastic trip!\",\n",
    "    'participant': 'assistant'}]}]\n",
    "graph = pipeline.invoke(data)\n",
    "graph.visualise_short(\"transfer\")"
   ]
  },
  {
   "cell_type": "code",
   "execution_count": null,
   "metadata": {},
   "outputs": [],
   "source": [
    "with open('transfer.json') as f:\n",
    "    data = json.load(f)\n",
    "graph = pipeline.invoke(data)\n",
    "graph.visualise_short(\"transfer\")"
   ]
  },
  {
   "cell_type": "code",
   "execution_count": null,
   "metadata": {},
   "outputs": [],
   "source": [
    "graph = pipeline.invoke(\"transfer.json\")\n",
    "graph.visualise_short(\"transfer\")"
   ]
  },
  {
   "cell_type": "code",
   "execution_count": 24,
   "metadata": {},
   "outputs": [
    {
     "data": {
      "text/plain": [
       "[{'id': 1,\n",
       "  'label': '',\n",
       "  'is_start': True,\n",
       "  'utterances': ['Hey there! How can I help you today?']},\n",
       " {'id': 2,\n",
       "  'label': '',\n",
       "  'is_start': False,\n",
       "  'utterances': ['Sure! I can help with that. When is your flight, and where are you departing from?']},\n",
       " {'id': 3,\n",
       "  'label': '',\n",
       "  'is_start': False,\n",
       "  'utterances': ['Got it. Where should the driver pick you up?']},\n",
       " {'id': 4,\n",
       "  'label': '',\n",
       "  'is_start': False,\n",
       "  'utterances': ['Thanks! How many passengers will be traveling?']},\n",
       " {'id': 5,\n",
       "  'label': '',\n",
       "  'is_start': False,\n",
       "  'utterances': ['Alright! Do you have any preference for the type of vehicle? We have sedans, SUVs, and vans available.']},\n",
       " {'id': 6,\n",
       "  'label': '',\n",
       "  'is_start': False,\n",
       "  'utterances': ['Of course! What type of vehicle would you prefer instead?']},\n",
       " {'id': 7,\n",
       "  'label': '',\n",
       "  'is_start': False,\n",
       "  'utterances': ['All set! Your driver will arrive on time. Let me know if you need anything else.']},\n",
       " {'id': 8,\n",
       "  'label': '',\n",
       "  'is_start': False,\n",
       "  'utterances': ['Glad to help! Safe travels.',\n",
       "   \"You're welcome! Have a fantastic trip!\",\n",
       "   \"Thanks, I'm all set.\"]}]"
      ]
     },
     "execution_count": 24,
     "metadata": {},
     "output_type": "execute_result"
    }
   ],
   "source": [
    "graph.graph_dict['nodes']"
   ]
  }
 ],
 "metadata": {
  "kernelspec": {
   "display_name": "py311",
   "language": "python",
   "name": "python3"
  },
  "language_info": {
   "codemirror_mode": {
    "name": "ipython",
    "version": 3
   },
   "file_extension": ".py",
   "mimetype": "text/x-python",
   "name": "python",
   "nbconvert_exporter": "python",
   "pygments_lexer": "ipython3",
   "version": "3.11.11"
  }
 },
 "nbformat": 4,
 "nbformat_minor": 2
}
