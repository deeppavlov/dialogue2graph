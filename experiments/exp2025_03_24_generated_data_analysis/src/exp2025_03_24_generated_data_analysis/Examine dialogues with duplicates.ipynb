{
 "cells": [
  {
   "cell_type": "code",
   "execution_count": 2,
   "metadata": {},
   "outputs": [],
   "source": [
    "import warnings\n",
    "\n",
    "warnings.filterwarnings(\"ignore\")"
   ]
  },
  {
   "cell_type": "code",
   "execution_count": 3,
   "metadata": {},
   "outputs": [],
   "source": [
    "from datasets import load_dataset\n",
    "\n",
    "dataset = load_dataset(\"DeepPavlov/d2g_generated\", token=True)"
   ]
  },
  {
   "cell_type": "code",
   "execution_count": 4,
   "metadata": {},
   "outputs": [],
   "source": [
    "import re\n",
    "\n",
    "def match_greeting(message: dict):\n",
    "    return bool(\n",
    "        re.match(r'^hello|^hi',\n",
    "                 message['text'],\n",
    "                 flags=re.IGNORECASE\n",
    "        )\n",
    "    ) and message['participant'] == 'assistant'"
   ]
  },
  {
   "cell_type": "code",
   "execution_count": 5,
   "metadata": {},
   "outputs": [],
   "source": [
    "idx_duplicates = []\n",
    "for i, ex in enumerate(dataset['train']):\n",
    "    for j, dia in enumerate(ex['dialogues']):\n",
    "        num_greeting = sum([match_greeting(mes) for mes in dia['messages']])\n",
    "        if num_greeting > 1:\n",
    "            idx_duplicates.append((i, j))"
   ]
  },
  {
   "cell_type": "code",
   "execution_count": 6,
   "metadata": {},
   "outputs": [
    {
     "data": {
      "text/plain": [
       "112"
      ]
     },
     "execution_count": 6,
     "metadata": {},
     "output_type": "execute_result"
    }
   ],
   "source": [
    "len(idx_duplicates)"
   ]
  },
  {
   "cell_type": "code",
   "execution_count": 7,
   "metadata": {},
   "outputs": [],
   "source": [
    "class DuplicateDialogues:\n",
    "\n",
    "    def __init__(self, data: list, \n",
    "                 idx_duplicates: list):\n",
    "        self.data = data\n",
    "        self.idx_duplicates = idx_duplicates\n",
    "        self.idx_cycled_graph = list(set([i[0] for i in idx_duplicates]))\n",
    "        self.topic2id = {self.data[i]['topic']: i for i in self.idx_cycled_graph}\n",
    "\n",
    "    def get_duplicate_dialogue(self, idx):\n",
    "        idx_topic, idx_dialogue = idx_duplicates[idx]\n",
    "        return self.data[idx_topic]['dialogues'][idx_dialogue]['messages']\n",
    "    \n",
    "    def check_cycle(self, idx):\n",
    "        idx_graph = self.idx_cycled_graph[idx]\n",
    "        cycle_edges = [edge for edge in self.data[idx_graph]['graph']['edges'] if edge['target'] == 1]\n",
    "        if cycle_edges:\n",
    "            return True\n",
    "        return False\n",
    "\n",
    "    def find_imposter_transitions(self):\n",
    "        transition_storage = []\n",
    "        for i in self.idx_cycled_graph:\n",
    "            for edge in self.data[i]['graph']['edges']:\n",
    "                if edge['target'] == 1:\n",
    "                    transition_storage.extend(edge['utterances'])\n",
    "        return list(set(transition_storage))\n",
    "    \n",
    "    def find_imposter_labels(self):\n",
    "        strange_assistant_answers_labels = []\n",
    "        for i in self.idx_cycled_graph:\n",
    "            strange_assistant_answers = [e['source'] for e in self.data[i]['graph']['edges'] if e['target'] == 1]\n",
    "            s_answers_labels = [n['label'] for n in self.data[i]['graph']['nodes'] if n['id'] in strange_assistant_answers]\n",
    "            strange_assistant_answers_labels.extend(s_answers_labels)\n",
    "        return list(set(strange_assistant_answers_labels))\n",
    "    \n",
    "    def find_damaged_topics(self):\n",
    "        damaged_topics = [self.data[i]['topic'] for i in self.idx_cycled_graph]\n",
    "        return damaged_topics\n",
    "    \n",
    "    def strange_dialogues_on_topic(self, topic: str, dia_idx: int):\n",
    "        topic_id = self.topic2id[topic]\n",
    "        dia_idx = [j for i, j in self.idx_duplicates if i == topic_id][dia_idx]\n",
    "        dia_count = len([i for i, _ in self.idx_duplicates if i == topic_id])\n",
    "        print('There are', dia_count, 'damaged dialogues')\n",
    "        strange_edges = [(edge['source'], edge['utterances']) for edge in self.data[topic_id]['graph']['edges'] if edge['target'] == 1]\n",
    "        dialogue = [mes['text'] for mes in self.data[topic_id]['dialogues'][dia_idx]['messages']]\n",
    "        source_node = [node for node, utt in strange_edges if set(utt).intersection(set(dialogue))]\n",
    "        return (self.data[topic_id]['graph']['nodes'][source_node[0]],\n",
    "                self.data[topic_id]['dialogues'][dia_idx]['messages'])"
   ]
  },
  {
   "cell_type": "code",
   "execution_count": 8,
   "metadata": {},
   "outputs": [],
   "source": [
    "dd = DuplicateDialogues(dataset['train'], idx_duplicates)"
   ]
  },
  {
   "cell_type": "code",
   "execution_count": 9,
   "metadata": {},
   "outputs": [
    {
     "data": {
      "text/plain": [
       "[{'participant': 'assistant', 'text': 'Hello! How can I assist you today?'},\n",
       " {'participant': 'user', 'text': 'I need help with chatbot limitations.'},\n",
       " {'participant': 'assistant',\n",
       "  'text': \"Sure, could you please specify the chatbot limitations you're facing?\"},\n",
       " {'participant': 'user', 'text': 'Actually, I want to change my topic.'},\n",
       " {'participant': 'assistant',\n",
       "  'text': 'Of course! What would you like to discuss instead?'},\n",
       " {'participant': 'user', 'text': 'I have another question.'},\n",
       " {'participant': 'assistant', 'text': 'Hello! How can I assist you today?'},\n",
       " {'participant': 'user',\n",
       "  'text': 'I need assistance managing my review responses on Google/Yelp.'},\n",
       " {'participant': 'assistant',\n",
       "  'text': 'Certainly! Are you looking to respond to positive or negative reviews?'},\n",
       " {'participant': 'user', 'text': 'Positive reviews.'},\n",
       " {'participant': 'assistant',\n",
       "  'text': 'Acknowledge positive feedback and thank customers for their support to encourage loyalty.'},\n",
       " {'participant': 'user', 'text': 'Will do, thank you.'},\n",
       " {'participant': 'assistant',\n",
       "  'text': 'Thank you for reaching out. If you need further assistance, feel free to ask. Have a great day!'}]"
      ]
     },
     "execution_count": 9,
     "metadata": {},
     "output_type": "execute_result"
    }
   ],
   "source": [
    "dd.get_duplicate_dialogue(0)"
   ]
  },
  {
   "cell_type": "code",
   "execution_count": 10,
   "metadata": {},
   "outputs": [
    {
     "data": {
      "text/plain": [
       "25"
      ]
     },
     "execution_count": 10,
     "metadata": {},
     "output_type": "execute_result"
    }
   ],
   "source": [
    "len(dd.idx_cycled_graph)"
   ]
  },
  {
   "cell_type": "code",
   "execution_count": 11,
   "metadata": {},
   "outputs": [],
   "source": [
    "imposter_trans = dd.find_imposter_transitions()"
   ]
  },
  {
   "cell_type": "code",
   "execution_count": 12,
   "metadata": {},
   "outputs": [
    {
     "data": {
      "text/plain": [
       "35"
      ]
     },
     "execution_count": 12,
     "metadata": {},
     "output_type": "execute_result"
    }
   ],
   "source": [
    "len(imposter_trans)"
   ]
  },
  {
   "cell_type": "code",
   "execution_count": 13,
   "metadata": {},
   "outputs": [
    {
     "name": "stdout",
     "output_type": "stream",
     "text": [
      "I'd like to start over. \t\t\t\t\t Actually, can I change the application?\n",
      "I have another question. \t\t\t\t\t Actually, can I change my request?\n",
      "I'd like to choose Vimeo \t\t\t\t\t Thanks for your help.\n",
      "Got it, thanks. \t\t\t\t\t I want to see running shoes instead.\n",
      "Actually, I need help with something else. \t\t\t\t\t Actually, I changed my mind\n",
      "I need some time to decide. \t\t\t\t\t I reconsidered, please keep my subscription.\n",
      "Yes, please continue. \t\t\t\t\t Yes, I changed my mind.\n",
      "Actually, I want to change my earlier request. \t\t\t\t\t Actually, I want to ask something else.\n",
      "I changed my mind, I need more help. \t\t\t\t\t I'd like to discuss something else.\n",
      "Here is my updated name: Jane Smith. \t\t\t\t\t Can we start over?\n",
      "Actually, I need help with another eBook. \t\t\t\t\t Actually, I changed my mind and don't need to cancel.\n",
      "I need to make another reservation. \t\t\t\t\t Thank you, that's all.\n",
      "I'd like to wait a bit longer. \t\t\t\t\t I want to send a new email.\n",
      "Actually, I changed my mind. \t\t\t\t\t I want to adjust the font size.\n",
      "Actually, I have another question. \t\t\t\t\t I've reported my account as compromised.\n",
      "Keep my subscription. \t\t\t\t\t I'd like to know about NFT policies.\n",
      "That's helpful, thank you. \t\t\t\t\t Actually, can I change my satisfaction level?\n"
     ]
    }
   ],
   "source": [
    "for trans1, trans2 in zip(imposter_trans[:17], imposter_trans[17:]):\n",
    "    print(trans1, '\\t\\t\\t\\t\\t', trans2)"
   ]
  },
  {
   "cell_type": "code",
   "execution_count": 14,
   "metadata": {},
   "outputs": [],
   "source": [
    "imposter_labels = dd.find_imposter_labels()"
   ]
  },
  {
   "cell_type": "code",
   "execution_count": 15,
   "metadata": {},
   "outputs": [
    {
     "data": {
      "text/plain": [
       "36"
      ]
     },
     "execution_count": 15,
     "metadata": {},
     "output_type": "execute_result"
    }
   ],
   "source": [
    "len(imposter_labels)"
   ]
  },
  {
   "cell_type": "code",
   "execution_count": 16,
   "metadata": {},
   "outputs": [
    {
     "name": "stdout",
     "output_type": "stream",
     "text": [
      "data_transfer \t\t modify_platform_selection\n",
      "modify_action_prompt \t\t manage_change_topic\n",
      "cancel_after_moving \t\t recovery_pane_not_visible\n",
      "alternative_assistance \t\t farewell\n",
      "assistant_recovery_success \t\t secure_account\n",
      "restored \t\t recovery_google_docs\n",
      "alternative_options_exit \t\t fees_calculation\n",
      "restart \t\t apologize_ask_details\n",
      "information_type \t\t protection_fee\n",
      "modify_digital_asset_topic \t\t confirmation_cancelled\n",
      "assistant_exit \t\t opt_protection\n",
      "alternative_help \t\t change_mind\n",
      "guide_reporting \t\t closing\n",
      "AdditionalAssistance \t\t assist_change_topic\n",
      "complete_request \t\t explain_overdraft\n",
      "ask_product_type_mod \t\t reduce_fees\n",
      "modification_prompt \t\t paraphrased_confirmation\n"
     ]
    }
   ],
   "source": [
    "for label1, label2 in zip(imposter_labels[:17], imposter_labels[17:]):\n",
    "    print(label1, '\\t\\t', label2)"
   ]
  },
  {
   "cell_type": "code",
   "execution_count": 17,
   "metadata": {},
   "outputs": [
    {
     "data": {
      "text/plain": [
       "({'id': 'Adjusting font size/contrast on apps._1_11',\n",
       "  'messages': [{'participant': 'assistant',\n",
       "    'text': 'Hello! How can I assist you with your app today?'},\n",
       "   {'participant': 'user',\n",
       "    'text': 'Actually, I need help with something else.'},\n",
       "   {'participant': 'assistant',\n",
       "    'text': 'Sure, feel free to ask any other questions you have.'},\n",
       "   {'participant': 'user', 'text': 'I want to adjust the font size.'},\n",
       "   {'participant': 'assistant',\n",
       "    'text': 'Hello! How can I assist you with your app today?'}]},\n",
       " {'id': 4,\n",
       "  'is_start': False,\n",
       "  'label': 'alternative_help',\n",
       "  'utterances': ['Sure, feel free to ask any other questions you have.']})"
      ]
     },
     "execution_count": 17,
     "metadata": {},
     "output_type": "execute_result"
    }
   ],
   "source": [
    "dd.data[dd.idx_cycled_graph[8]]['dialogues'][11], dd.data[dd.idx_cycled_graph[8]]['graph']['nodes'][3]"
   ]
  },
  {
   "cell_type": "code",
   "execution_count": 18,
   "metadata": {},
   "outputs": [
    {
     "data": {
      "text/plain": [
       "({'id': 'Recovering unsaved document data after a crash_1_2',\n",
       "  'messages': [{'participant': 'assistant',\n",
       "    'text': \"Hello! I'm sorry to hear about your crash. Let's try to recover your unsaved document. Which application were you using?\"},\n",
       "   {'participant': 'user', 'text': 'I was using Microsoft Word.'},\n",
       "   {'participant': 'assistant',\n",
       "    'text': 'Microsoft Word has an AutoRecover feature. Would you like me to guide you through retrieving the unsaved document?'},\n",
       "   {'participant': 'user', 'text': 'Yes, please guide me.'},\n",
       "   {'participant': 'assistant',\n",
       "    'text': 'Please open Microsoft Word, and you should see a Document Recovery pane on the left. Do you see it?'},\n",
       "   {'participant': 'user', 'text': \"No, I don't see it.\"},\n",
       "   {'participant': 'assistant',\n",
       "    'text': \"If the Document Recovery pane isn't visible, would you like instructions on how to manually search for AutoRecover files?\"},\n",
       "   {'participant': 'user', 'text': 'Actually, can I change the application?'},\n",
       "   {'participant': 'assistant',\n",
       "    'text': \"Hello! I'm sorry to hear about your crash. Let's try to recover your unsaved document. Which application were you using?\"},\n",
       "   {'participant': 'user', 'text': 'I was using Google Docs.'},\n",
       "   {'participant': 'assistant',\n",
       "    'text': 'Google Docs automatically saves your work. Would you like me to help you access the recent changes?'},\n",
       "   {'participant': 'user', 'text': 'No, I need help with Google Docs.'},\n",
       "   {'participant': 'assistant',\n",
       "    'text': \"I'm sorry I couldn't help. If you need further assistance, feel free to reach out. Have a great day!\"}]},\n",
       " {'id': 6,\n",
       "  'is_start': False,\n",
       "  'label': 'recovery_pane_not_visible',\n",
       "  'utterances': [\"If the Document Recovery pane isn't visible, would you like instructions on how to manually search for AutoRecover files?\",\n",
       "   \"If you don't see the Document Recovery pane, would you like me to guide you through finding AutoRecover files manually?\"]})"
      ]
     },
     "execution_count": 18,
     "metadata": {},
     "output_type": "execute_result"
    }
   ],
   "source": [
    "dd.data[dd.idx_cycled_graph[20]]['dialogues'][2], dd.data[dd.idx_cycled_graph[20]]['graph']['nodes'][5]"
   ]
  },
  {
   "cell_type": "code",
   "execution_count": 19,
   "metadata": {},
   "outputs": [],
   "source": [
    "damaged_topics = dd.find_damaged_topics()"
   ]
  },
  {
   "cell_type": "code",
   "execution_count": 20,
   "metadata": {},
   "outputs": [
    {
     "name": "stdout",
     "output_type": "stream",
     "text": [
      "There are 16 damaged dialogues\n"
     ]
    },
    {
     "data": {
      "text/plain": [
       "({'id': 11,\n",
       "  'is_start': False,\n",
       "  'label': 'cancel_after_moving',\n",
       "  'utterances': ['Understood. Your subscription has been canceled. If you have any further questions, feel free to reach out.',\n",
       "   'Your cancellation is complete. Let us know if you need anything else.']},\n",
       " [{'participant': 'assistant',\n",
       "   'text': \"Hello! I'm sorry to hear you want to cancel your subscription. Could you please share the reason for your cancellation?\"},\n",
       "  {'participant': 'user', 'text': \"I'm moving to another provider.\"},\n",
       "  {'participant': 'assistant',\n",
       "   'text': 'I understand. Would you like assistance in transferring your data before cancelling?'},\n",
       "  {'participant': 'user', 'text': 'Yes, please.'},\n",
       "  {'participant': 'assistant',\n",
       "   'text': 'Your data transfer is underway. Your subscription will be canceled soon.'},\n",
       "  {'participant': 'user', 'text': 'Actually, I changed my mind.'},\n",
       "  {'participant': 'assistant',\n",
       "   'text': \"Hi there! Sorry to see you're considering cancelling. Can you let us know why?\"},\n",
       "  {'participant': 'user', 'text': 'I want to cancel anyway.'},\n",
       "  {'participant': 'assistant',\n",
       "   'text': \"Got it. We've processed your cancellation. If you change your mind, feel free to reach out.\"}])"
      ]
     },
     "execution_count": 20,
     "metadata": {},
     "output_type": "execute_result"
    }
   ],
   "source": [
    "dd.strange_dialogues_on_topic(damaged_topics[2], 8)"
   ]
  },
  {
   "cell_type": "code",
   "execution_count": 78,
   "metadata": {},
   "outputs": [
    {
     "data": {
      "text/plain": [
       "386"
      ]
     },
     "execution_count": 78,
     "metadata": {},
     "output_type": "execute_result"
    }
   ],
   "source": [
    "len(set([dd.data[i]['topic'] for i in range(402)]))"
   ]
  },
  {
   "cell_type": "code",
   "execution_count": 79,
   "metadata": {},
   "outputs": [],
   "source": [
    "import json\n",
    "\n",
    "with open('damaged_topics.json', 'w', encoding='utf-8') as file:\n",
    "    json.dump(damaged_topics, file, ensure_ascii=False, indent=4)"
   ]
  },
  {
   "cell_type": "code",
   "execution_count": 21,
   "metadata": {},
   "outputs": [
    {
     "data": {
      "text/plain": [
       "'Assisting with chatbot limitations.Addressing fake social media accounts.Managing review responses on Google/Yelp.'"
      ]
     },
     "execution_count": 21,
     "metadata": {},
     "output_type": "execute_result"
    }
   ],
   "source": [
    "damaged_topics[1]"
   ]
  }
 ],
 "metadata": {
  "kernelspec": {
   "display_name": ".venv",
   "language": "python",
   "name": "python3"
  },
  "language_info": {
   "codemirror_mode": {
    "name": "ipython",
    "version": 3
   },
   "file_extension": ".py",
   "mimetype": "text/x-python",
   "name": "python",
   "nbconvert_exporter": "python",
   "pygments_lexer": "ipython3",
   "version": "3.11.8"
  }
 },
 "nbformat": 4,
 "nbformat_minor": 2
}
