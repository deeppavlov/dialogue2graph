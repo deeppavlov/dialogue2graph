{
 "cells": [
  {
   "cell_type": "markdown",
   "id": "94c5022f",
   "metadata": {},
   "source": [
    "# Extend existing dialog graphs\n",
    "\n",
    "### Load your data"
   ]
  },
  {
   "cell_type": "code",
   "execution_count": null,
   "id": "784ee040",
   "metadata": {},
   "outputs": [],
   "source": [
    "from datasets import load_dataset\n",
    "\n",
    "dataset = load_dataset(\"DeepPavlov/d2g_generated\", token=True)"
   ]
  },
  {
   "cell_type": "code",
   "execution_count": null,
   "id": "39aa15eb",
   "metadata": {},
   "outputs": [],
   "source": [
    "from dialog2graph.pipelines.model_storage import ModelStorage\n",
    "from dialog2graph.pipelines.helpers.parse_data import RawDGParser, PipelineRawDataType\n",
    "\n",
    "from dialog2graph.pipelines.d2g_extender.three_stages_extender import LLMGraphExtender"
   ]
  },
  {
   "cell_type": "markdown",
   "id": "0a474106",
   "metadata": {},
   "source": [
    "### Create `ModelStorage` and `LLMGraphExtender`"
   ]
  },
  {
   "cell_type": "code",
   "execution_count": null,
   "id": "47ad1525",
   "metadata": {},
   "outputs": [],
   "source": [
    "ms = ModelStorage()\n",
    "graph_extender = LLMGraphExtender(model_storage=ms)"
   ]
  },
  {
   "cell_type": "markdown",
   "id": "b3f54db7",
   "metadata": {},
   "source": [
    "### Parse raw data\n",
    "\n",
    "Turn dictionaries with graph and dialogs into `Dialog` and `Graph` structures within dialog2graph package"
   ]
  },
  {
   "cell_type": "code",
   "execution_count": null,
   "id": "e9c75792",
   "metadata": {},
   "outputs": [],
   "source": [
    "data_example = dataset['train'][0]\n",
    "data_example = PipelineRawDataType(dialogs=data_example['dialogs'], supported_graph=data_example['graph'])"
   ]
  },
  {
   "cell_type": "code",
   "execution_count": null,
   "id": "3d388738",
   "metadata": {},
   "outputs": [],
   "source": [
    "parser = RawDGParser()\n",
    "parsed_data = parser.invoke(data_example)"
   ]
  },
  {
   "cell_type": "markdown",
   "id": "ed20fece",
   "metadata": {},
   "source": [
    "### Invoke `LLMGraphExtender` to get the graph extension result"
   ]
  },
  {
   "cell_type": "code",
   "execution_count": null,
   "id": "ef9f80b0",
   "metadata": {},
   "outputs": [],
   "source": [
    "extension_result = LLMGraphExtender.invoke(parsed_data)"
   ]
  }
 ],
 "metadata": {
  "kernelspec": {
   "display_name": ".venv",
   "language": "python",
   "name": "python3"
  },
  "language_info": {
   "codemirror_mode": {
    "name": "ipython",
    "version": 3
   },
   "file_extension": ".py",
   "mimetype": "text/x-python",
   "name": "python",
   "nbconvert_exporter": "python",
   "pygments_lexer": "ipython3",
   "version": "3.11.8"
  }
 },
 "nbformat": 4,
 "nbformat_minor": 5
}
