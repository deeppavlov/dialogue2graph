{
 "cells": [
  {
   "cell_type": "code",
   "execution_count": 11,
   "id": "37f4645e",
   "metadata": {},
   "outputs": [],
   "source": [
    "from datasets import load_dataset\n",
    "import numpy as np\n",
    "from dialogue2graph.pipelines.core.graph import Graph"
   ]
  },
  {
   "cell_type": "code",
   "execution_count": 3,
   "id": "b7536a44",
   "metadata": {},
   "outputs": [
    {
     "data": {
      "text/plain": [
       "DatasetDict({\n",
       "    train: Dataset({\n",
       "        features: ['graph', 'topic', 'dialogues', 'augmented_dialogues'],\n",
       "        num_rows: 376\n",
       "    })\n",
       "})"
      ]
     },
     "execution_count": 3,
     "metadata": {},
     "output_type": "execute_result"
    }
   ],
   "source": [
    "dataset = load_dataset(\"DeepPavlov/d2g_generated_augmented\", token=True)\n",
    "dataset"
   ]
  },
  {
   "cell_type": "markdown",
   "id": "fd0acb5c",
   "metadata": {},
   "source": [
    "# Part 1"
   ]
  },
  {
   "cell_type": "markdown",
   "id": "0fa71fc0",
   "metadata": {},
   "source": [
    "- |{dialog+aug_dialog}|= N ~ G1\n",
    "\n",
    "- |{paths}|= N ~ G1\n",
    "\n",
    "\n",
    "G1\n",
    "\n",
    "\n",
    "p1 > {selected_p}\n",
    "\n",
    "{paths - 1} -> p2 - p1 = 4\n",
    "\n",
    "{paths - 1} -> p3 - p1 = 2\n",
    "\n",
    "{paths - 1} -> p4 - p1 = 10 <<<(max_new_elements)\n",
    "\n",
    "{paths - 1} -> p5 - p1 = 1\n",
    "\n",
    "\n",
    "p4 > {selected_p}\n",
    "\n",
    "selected_p = p1 + p4\n",
    "\n",
    "{paths - 2} -> p2 - (p1 + p4) = 0\n",
    "\n",
    "{paths - 2} -> p3 - (p1 + p4) = 1 <<<(max_new_elements)\n",
    "\n",
    "{paths - 2} -> p5 - (p1 + p4) = 0\n",
    "\n",
    "\n",
    "p3 > {selected_p}\n",
    "\n",
    "selected_p = p1 + p4 + p3\n",
    "\n",
    "{paths - 2} -> p2 - (p1 + p4 +p3) = 0\n",
    "\n",
    "{paths - 2} -> p5 - (p1 + p4 +p3) = 0"
   ]
  },
  {
   "cell_type": "markdown",
   "id": "32271149",
   "metadata": {},
   "source": [
    "## Functions"
   ]
  },
  {
   "cell_type": "code",
   "execution_count": 4,
   "id": "fcb82d98",
   "metadata": {},
   "outputs": [],
   "source": [
    "def get_start_dialogue(augmented_dialogues):\n",
    "    max_len = 0\n",
    "    idx_to_choose_from = []\n",
    "    for aug_dia in augmented_dialogues:\n",
    "        if len(aug_dia['messages']) >= max_len:\n",
    "            max_len = len(aug_dia['messages'])\n",
    "\n",
    "    for i, aug_dia in enumerate(augmented_dialogues):\n",
    "        if len(aug_dia['messages']) == max_len:\n",
    "            idx_to_choose_from.append(i)\n",
    "\n",
    "    if len(idx_to_choose_from) == 1:\n",
    "        idx = idx_to_choose_from[0]\n",
    "    else:\n",
    "        idx = np.random.choice(idx_to_choose_from)\n",
    "    \n",
    "    return idx, augmented_dialogues[idx]"
   ]
  },
  {
   "cell_type": "code",
   "execution_count": 5,
   "id": "039a1c3b",
   "metadata": {},
   "outputs": [],
   "source": [
    "def add_elements_to_paths(start_dialogue, graph):\n",
    "    # add id to each edge\n",
    "    for edge in graph['edges']:\n",
    "        edge_id = str(edge['source']) + '_' + str(edge['target'])\n",
    "        edge['id'] = edge_id\n",
    "\n",
    "    paths = {}\n",
    "    paths['nodes'] = []; paths['edges'] = []\n",
    "\n",
    "    for turn in start_dialogue['messages']:\n",
    "        if turn['participant'] == 'assistant':\n",
    "            key = 'nodes'\n",
    "        elif turn['participant'] == 'user':\n",
    "            key = 'edges'\n",
    "\n",
    "        for element in graph[key]:\n",
    "            if turn['text'] in element['utterances']:\n",
    "                paths[key].append(element['id'])\n",
    "        \n",
    "    paths['nodes'] = set(paths['nodes'])\n",
    "    paths['edges'] = set(paths['edges'])\n",
    "                \n",
    "    return paths"
   ]
  },
  {
   "cell_type": "code",
   "execution_count": 6,
   "id": "fbe5e915",
   "metadata": {},
   "outputs": [],
   "source": [
    "def count_new_elements(paths, new_paths):\n",
    "    new_nodes = new_paths['nodes'].difference(paths['nodes'])\n",
    "    new_edges = new_paths['edges'].difference(paths['edges'])\n",
    "    new_elements = len(new_nodes) + len(new_edges)\n",
    "    return new_elements"
   ]
  },
  {
   "cell_type": "code",
   "execution_count": 7,
   "id": "d98828ae",
   "metadata": {},
   "outputs": [],
   "source": [
    "def get_max_new_elements(augmented_dialogues, added_idx, graph, paths):\n",
    "    all_new_elements_per_dia = []\n",
    "    all_paths_per_dia = []\n",
    "    max_new_elements = 0\n",
    "\n",
    "    for i, aug_dia in enumerate(augmented_dialogues):\n",
    "        if i in added_idx:\n",
    "            continue\n",
    "        else:\n",
    "            new_paths = add_elements_to_paths(aug_dia, graph)\n",
    "            all_paths_per_dia.append((i, new_paths))\n",
    "\n",
    "            new_elements = count_new_elements(paths, new_paths)        \n",
    "            all_new_elements_per_dia.append((i, new_elements)) \n",
    "\n",
    "            if new_elements >= max_new_elements:\n",
    "                max_new_elements = new_elements\n",
    "    \n",
    "    return all_new_elements_per_dia, all_paths_per_dia, max_new_elements"
   ]
  },
  {
   "cell_type": "code",
   "execution_count": 8,
   "id": "e554974c",
   "metadata": {},
   "outputs": [],
   "source": [
    "def get_idx_and_paths_to_add(added_idx, all_new_elements_per_dia, all_paths_per_dia, max_new_elements):\n",
    "    if max_new_elements == 0:\n",
    "        return (None, f'no new elements in remaining dialogues')\n",
    "    \n",
    "    idx_to_choose_from = []\n",
    "        \n",
    "    for i, count in all_new_elements_per_dia:\n",
    "        if i in added_idx:\n",
    "            continue\n",
    "        else:\n",
    "            if count == max_new_elements:\n",
    "                idx_to_choose_from.append(i)\n",
    "    \n",
    "    if len(idx_to_choose_from) == 1:\n",
    "        idx_to_add = idx_to_choose_from[0]\n",
    "    else:\n",
    "        idx_to_add = np.random.choice(idx_to_choose_from)\n",
    "\n",
    "    for i, new_paths in all_paths_per_dia:\n",
    "        if i == idx_to_add:\n",
    "            paths_to_add = new_paths\n",
    "                \n",
    "    return idx_to_add, paths_to_add"
   ]
  },
  {
   "cell_type": "code",
   "execution_count": 9,
   "id": "dcca27a1",
   "metadata": {},
   "outputs": [],
   "source": [
    "def add_new_elements_to_paths(paths, new_elements):\n",
    "    paths['nodes'] = paths['nodes'].union(new_elements['nodes'])\n",
    "    paths['edges'] = paths['edges'].union(new_elements['edges'])\n",
    "    return paths"
   ]
  },
  {
   "cell_type": "markdown",
   "id": "220f97a6",
   "metadata": {},
   "source": [
    "## Testing"
   ]
  },
  {
   "cell_type": "code",
   "execution_count": 10,
   "id": "521ad591",
   "metadata": {},
   "outputs": [
    {
     "data": {
      "text/plain": [
       "12"
      ]
     },
     "execution_count": 10,
     "metadata": {},
     "output_type": "execute_result"
    }
   ],
   "source": [
    "example = dataset['train'][1]\n",
    "graph = example['graph']\n",
    "augmented_dialogues = example['dialogues']\n",
    "len(augmented_dialogues)"
   ]
  },
  {
   "cell_type": "code",
   "execution_count": 12,
   "id": "8167f149",
   "metadata": {},
   "outputs": [
    {
     "data": {
      "image/png": "[encoded data removed]",
      "text/plain": [
       "<Figure size 640x480 with 1 Axes>"
      ]
     },
     "metadata": {},
     "output_type": "display_data"
    }
   ],
   "source": [
    "Graph(graph).visualise_short('')"
   ]
  },
  {
   "cell_type": "code",
   "execution_count": 27,
   "id": "909a1bcb",
   "metadata": {},
   "outputs": [
    {
     "data": {
      "text/plain": [
       "(6, 11)"
      ]
     },
     "execution_count": 27,
     "metadata": {},
     "output_type": "execute_result"
    }
   ],
   "source": [
    "start_idx, start_dia = get_start_dialogue(augmented_dialogues)\n",
    "start_idx, len(start_dia['messages'])"
   ]
  },
  {
   "cell_type": "code",
   "execution_count": 28,
   "id": "95a9f52f",
   "metadata": {},
   "outputs": [
    {
     "data": {
      "text/plain": [
       "(6, 5)"
      ]
     },
     "execution_count": 28,
     "metadata": {},
     "output_type": "execute_result"
    }
   ],
   "source": [
    "paths = add_elements_to_paths(start_dia, graph)\n",
    "len(paths['nodes']), len(paths['edges'])"
   ]
  },
  {
   "cell_type": "code",
   "execution_count": 29,
   "id": "ab999559",
   "metadata": {},
   "outputs": [
    {
     "data": {
      "text/plain": [
       "{'nodes': {1, 2, 3, 4, 7, 8}, 'edges': {'1_2', '2_3', '3_4', '4_7', '7_8'}}"
      ]
     },
     "execution_count": 29,
     "metadata": {},
     "output_type": "execute_result"
    }
   ],
   "source": [
    "paths"
   ]
  },
  {
   "cell_type": "markdown",
   "id": "d77f3921",
   "metadata": {},
   "source": [
    "round 1"
   ]
  },
  {
   "cell_type": "code",
   "execution_count": 30,
   "id": "d3e70dc1",
   "metadata": {},
   "outputs": [
    {
     "data": {
      "text/plain": [
       "([(0, 0),\n",
       "  (1, 0),\n",
       "  (2, 0),\n",
       "  (3, 0),\n",
       "  (4, 0),\n",
       "  (5, 0),\n",
       "  (7, 5),\n",
       "  (8, 5),\n",
       "  (9, 5),\n",
       "  (10, 1),\n",
       "  (11, 1)],\n",
       " [(0,\n",
       "   {'nodes': {1, 2, 3, 4, 7, 8},\n",
       "    'edges': {'1_2', '2_3', '3_4', '4_7', '7_8'}}),\n",
       "  (1,\n",
       "   {'nodes': {1, 2, 3, 4, 7, 8},\n",
       "    'edges': {'1_2', '2_3', '3_4', '4_7', '7_8'}}),\n",
       "  (2,\n",
       "   {'nodes': {1, 2, 3, 4, 7, 8},\n",
       "    'edges': {'1_2', '2_3', '3_4', '4_7', '7_8'}}),\n",
       "  (3,\n",
       "   {'nodes': {1, 2, 3, 4, 7, 8},\n",
       "    'edges': {'1_2', '2_3', '3_4', '4_7', '7_8'}}),\n",
       "  (4,\n",
       "   {'nodes': {1, 2, 3, 4, 7, 8},\n",
       "    'edges': {'1_2', '2_3', '3_4', '4_7', '7_8'}}),\n",
       "  (5,\n",
       "   {'nodes': {1, 2, 3, 4, 7, 8},\n",
       "    'edges': {'1_2', '2_3', '3_4', '4_7', '7_8'}}),\n",
       "  (7,\n",
       "   {'nodes': {1, 2, 3, 5, 6, 8},\n",
       "    'edges': {'1_2', '2_3', '3_5', '5_6', '6_8'}}),\n",
       "  (8,\n",
       "   {'nodes': {1, 2, 3, 5, 6, 8},\n",
       "    'edges': {'1_2', '2_3', '3_5', '5_6', '6_8'}}),\n",
       "  (9,\n",
       "   {'nodes': {1, 2, 3, 5, 6, 8},\n",
       "    'edges': {'1_2', '2_3', '3_5', '5_6', '6_8'}}),\n",
       "  (10, {'nodes': {1, 2, 8}, 'edges': {'1_2', '2_8'}}),\n",
       "  (11, {'nodes': {1, 2, 8}, 'edges': {'1_2', '2_8'}})],\n",
       " 5)"
      ]
     },
     "execution_count": 30,
     "metadata": {},
     "output_type": "execute_result"
    }
   ],
   "source": [
    "added_idx = []\n",
    "added_idx.append(start_idx)\n",
    "\n",
    "all_new_elements_per_dia, all_paths_per_dia, max_new_elements = get_max_new_elements(augmented_dialogues, added_idx, graph, paths)\n",
    "all_new_elements_per_dia, all_paths_per_dia, max_new_elements"
   ]
  },
  {
   "cell_type": "code",
   "execution_count": 31,
   "id": "3e690a02",
   "metadata": {},
   "outputs": [
    {
     "data": {
      "text/plain": [
       "(7,\n",
       " {'nodes': {1, 2, 3, 5, 6, 8}, 'edges': {'1_2', '2_3', '3_5', '5_6', '6_8'}})"
      ]
     },
     "execution_count": 31,
     "metadata": {},
     "output_type": "execute_result"
    }
   ],
   "source": [
    "idx_to_add, paths_to_add = get_idx_and_paths_to_add(added_idx, all_new_elements_per_dia, all_paths_per_dia, max_new_elements)\n",
    "idx_to_add, paths_to_add"
   ]
  },
  {
   "cell_type": "code",
   "execution_count": 32,
   "id": "b2dd4d55",
   "metadata": {},
   "outputs": [
    {
     "data": {
      "text/plain": [
       "([6, 7],\n",
       " {'nodes': {1, 2, 3, 4, 5, 6, 7, 8},\n",
       "  'edges': {'1_2', '2_3', '3_4', '3_5', '4_7', '5_6', '6_8', '7_8'}})"
      ]
     },
     "execution_count": 32,
     "metadata": {},
     "output_type": "execute_result"
    }
   ],
   "source": [
    "added_idx.append(idx_to_add)\n",
    "paths = add_new_elements_to_paths(paths, paths_to_add)\n",
    "added_idx, paths"
   ]
  },
  {
   "cell_type": "markdown",
   "id": "5e82c341",
   "metadata": {},
   "source": [
    "2 round"
   ]
  },
  {
   "cell_type": "code",
   "execution_count": 33,
   "id": "7890d22c",
   "metadata": {},
   "outputs": [
    {
     "data": {
      "text/plain": [
       "([(0, 0),\n",
       "  (1, 0),\n",
       "  (2, 0),\n",
       "  (3, 0),\n",
       "  (4, 0),\n",
       "  (5, 0),\n",
       "  (8, 0),\n",
       "  (9, 0),\n",
       "  (10, 1),\n",
       "  (11, 1)],\n",
       " [(0,\n",
       "   {'nodes': {1, 2, 3, 4, 7, 8},\n",
       "    'edges': {'1_2', '2_3', '3_4', '4_7', '7_8'}}),\n",
       "  (1,\n",
       "   {'nodes': {1, 2, 3, 4, 7, 8},\n",
       "    'edges': {'1_2', '2_3', '3_4', '4_7', '7_8'}}),\n",
       "  (2,\n",
       "   {'nodes': {1, 2, 3, 4, 7, 8},\n",
       "    'edges': {'1_2', '2_3', '3_4', '4_7', '7_8'}}),\n",
       "  (3,\n",
       "   {'nodes': {1, 2, 3, 4, 7, 8},\n",
       "    'edges': {'1_2', '2_3', '3_4', '4_7', '7_8'}}),\n",
       "  (4,\n",
       "   {'nodes': {1, 2, 3, 4, 7, 8},\n",
       "    'edges': {'1_2', '2_3', '3_4', '4_7', '7_8'}}),\n",
       "  (5,\n",
       "   {'nodes': {1, 2, 3, 4, 7, 8},\n",
       "    'edges': {'1_2', '2_3', '3_4', '4_7', '7_8'}}),\n",
       "  (8,\n",
       "   {'nodes': {1, 2, 3, 5, 6, 8},\n",
       "    'edges': {'1_2', '2_3', '3_5', '5_6', '6_8'}}),\n",
       "  (9,\n",
       "   {'nodes': {1, 2, 3, 5, 6, 8},\n",
       "    'edges': {'1_2', '2_3', '3_5', '5_6', '6_8'}}),\n",
       "  (10, {'nodes': {1, 2, 8}, 'edges': {'1_2', '2_8'}}),\n",
       "  (11, {'nodes': {1, 2, 8}, 'edges': {'1_2', '2_8'}})],\n",
       " 1)"
      ]
     },
     "execution_count": 33,
     "metadata": {},
     "output_type": "execute_result"
    }
   ],
   "source": [
    "all_new_elements_per_dia, all_paths_per_dia, max_new_elements = get_max_new_elements(augmented_dialogues, added_idx, graph, paths)\n",
    "all_new_elements_per_dia, all_paths_per_dia, max_new_elements"
   ]
  },
  {
   "cell_type": "code",
   "execution_count": 34,
   "id": "cea213b1",
   "metadata": {},
   "outputs": [
    {
     "data": {
      "text/plain": [
       "(11, {'nodes': {1, 2, 8}, 'edges': {'1_2', '2_8'}})"
      ]
     },
     "execution_count": 34,
     "metadata": {},
     "output_type": "execute_result"
    }
   ],
   "source": [
    "idx_to_add, paths_to_add = get_idx_and_paths_to_add(added_idx, all_new_elements_per_dia, all_paths_per_dia, max_new_elements)\n",
    "idx_to_add, paths_to_add"
   ]
  },
  {
   "cell_type": "code",
   "execution_count": 35,
   "id": "355a0211",
   "metadata": {},
   "outputs": [
    {
     "data": {
      "text/plain": [
       "([6, 7, 11],\n",
       " {'nodes': {1, 2, 3, 4, 5, 6, 7, 8},\n",
       "  'edges': {'1_2', '2_3', '2_8', '3_4', '3_5', '4_7', '5_6', '6_8', '7_8'}})"
      ]
     },
     "execution_count": 35,
     "metadata": {},
     "output_type": "execute_result"
    }
   ],
   "source": [
    "added_idx.append(idx_to_add)\n",
    "paths = add_new_elements_to_paths(paths, paths_to_add)\n",
    "added_idx, paths"
   ]
  },
  {
   "cell_type": "markdown",
   "id": "efd8bae1",
   "metadata": {},
   "source": [
    "round 3"
   ]
  },
  {
   "cell_type": "code",
   "execution_count": 36,
   "id": "c12821a2",
   "metadata": {},
   "outputs": [
    {
     "data": {
      "text/plain": [
       "([(0, 0), (1, 0), (2, 0), (3, 0), (4, 0), (5, 0), (8, 0), (9, 0), (10, 0)],\n",
       " [(0,\n",
       "   {'nodes': {1, 2, 3, 4, 7, 8},\n",
       "    'edges': {'1_2', '2_3', '3_4', '4_7', '7_8'}}),\n",
       "  (1,\n",
       "   {'nodes': {1, 2, 3, 4, 7, 8},\n",
       "    'edges': {'1_2', '2_3', '3_4', '4_7', '7_8'}}),\n",
       "  (2,\n",
       "   {'nodes': {1, 2, 3, 4, 7, 8},\n",
       "    'edges': {'1_2', '2_3', '3_4', '4_7', '7_8'}}),\n",
       "  (3,\n",
       "   {'nodes': {1, 2, 3, 4, 7, 8},\n",
       "    'edges': {'1_2', '2_3', '3_4', '4_7', '7_8'}}),\n",
       "  (4,\n",
       "   {'nodes': {1, 2, 3, 4, 7, 8},\n",
       "    'edges': {'1_2', '2_3', '3_4', '4_7', '7_8'}}),\n",
       "  (5,\n",
       "   {'nodes': {1, 2, 3, 4, 7, 8},\n",
       "    'edges': {'1_2', '2_3', '3_4', '4_7', '7_8'}}),\n",
       "  (8,\n",
       "   {'nodes': {1, 2, 3, 5, 6, 8},\n",
       "    'edges': {'1_2', '2_3', '3_5', '5_6', '6_8'}}),\n",
       "  (9,\n",
       "   {'nodes': {1, 2, 3, 5, 6, 8},\n",
       "    'edges': {'1_2', '2_3', '3_5', '5_6', '6_8'}}),\n",
       "  (10, {'nodes': {1, 2, 8}, 'edges': {'1_2', '2_8'}})],\n",
       " 0)"
      ]
     },
     "execution_count": 36,
     "metadata": {},
     "output_type": "execute_result"
    }
   ],
   "source": [
    "all_new_elements_per_dia, all_paths_per_dia, max_new_elements = get_max_new_elements(augmented_dialogues, added_idx, graph, paths)\n",
    "all_new_elements_per_dia, all_paths_per_dia, max_new_elements"
   ]
  },
  {
   "cell_type": "code",
   "execution_count": 37,
   "id": "bcfda889",
   "metadata": {},
   "outputs": [
    {
     "data": {
      "text/plain": [
       "(None, 'no new elements in remaining dialogues')"
      ]
     },
     "execution_count": 37,
     "metadata": {},
     "output_type": "execute_result"
    }
   ],
   "source": [
    "idx_to_add, paths_to_add = get_idx_and_paths_to_add(added_idx, all_new_elements_per_dia, all_paths_per_dia, max_new_elements)\n",
    "idx_to_add, paths_to_add"
   ]
  },
  {
   "cell_type": "markdown",
   "id": "f65425e8",
   "metadata": {},
   "source": [
    "### whole algorithm:"
   ]
  },
  {
   "cell_type": "code",
   "execution_count": 47,
   "id": "4ea3506a",
   "metadata": {},
   "outputs": [
    {
     "name": "stdout",
     "output_type": "stream",
     "text": [
      "{'nodes': {1, 2, 3, 4, 7, 8}, 'edges': {'3_4', '1_2', '2_3', '4_7', '7_8'}}\n"
     ]
    },
    {
     "data": {
      "text/plain": [
       "([6, 8, 10],\n",
       " {'nodes': {1, 2, 3, 4, 5, 6, 7, 8},\n",
       "  'edges': {'1_2', '2_3', '2_8', '3_4', '3_5', '4_7', '5_6', '6_8', '7_8'}})"
      ]
     },
     "execution_count": 47,
     "metadata": {},
     "output_type": "execute_result"
    }
   ],
   "source": [
    "start_idx, start_dia = get_start_dialogue(augmented_dialogues)\n",
    "paths = add_elements_to_paths(start_dia, graph)\n",
    "print(paths)\n",
    "\n",
    "added_idx = []\n",
    "added_idx.append(start_idx)\n",
    "iters = 0\n",
    "while iters < 100:\n",
    "    all_new_elements_per_dia, all_paths_per_dia, max_new_elements = get_max_new_elements(\n",
    "        augmented_dialogues, added_idx, graph, paths\n",
    "        )\n",
    "    idx_to_add, paths_to_add = get_idx_and_paths_to_add(\n",
    "        added_idx, all_new_elements_per_dia, all_paths_per_dia, max_new_elements\n",
    "        )\n",
    "    if paths_to_add == 'no new elements in remaining dialogues':\n",
    "        break\n",
    "    else:\n",
    "        added_idx.append(idx_to_add)\n",
    "        paths = add_new_elements_to_paths(paths, paths_to_add)\n",
    "        iters += 1\n",
    "added_idx, paths"
   ]
  },
  {
   "cell_type": "markdown",
   "id": "bc26a2b3",
   "metadata": {},
   "source": [
    "It means we need only 3 dialogues out of 12 to fully cover the graph."
   ]
  }
 ],
 "metadata": {
  "kernelspec": {
   "display_name": "conda_env_py311",
   "language": "python",
   "name": "python3"
  },
  "language_info": {
   "codemirror_mode": {
    "name": "ipython",
    "version": 3
   },
   "file_extension": ".py",
   "mimetype": "text/x-python",
   "name": "python",
   "nbconvert_exporter": "python",
   "pygments_lexer": "ipython3",
   "version": "3.11.11"
  }
 },
 "nbformat": 4,
 "nbformat_minor": 5
}
