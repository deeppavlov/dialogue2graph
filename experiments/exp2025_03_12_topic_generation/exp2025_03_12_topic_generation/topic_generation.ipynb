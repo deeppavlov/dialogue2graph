{
 "cells": [
  {
   "cell_type": "code",
   "execution_count": 1,
   "metadata": {},
   "outputs": [],
   "source": [
    "%load_ext autoreload\n",
    "%autoreload 2"
   ]
  },
  {
   "cell_type": "code",
   "execution_count": 2,
   "metadata": {},
   "outputs": [],
   "source": [
    "import os\n",
    "os.environ['PATH_TO_ENV'] = \"~/projects/chatsky-llm-autoconfig/.env\""
   ]
  },
  {
   "cell_type": "code",
   "execution_count": null,
   "metadata": {},
   "outputs": [],
   "source": [
    "from dialogue2graph.datasets.complex_dialogues.generation import LoopedGraphGenerator\n",
    "from three_stages_llm import ThreeStagesGraphGenerator\n",
    "from three_stages_algo import ThreeStagesGraphGenerator as AlgoGenerator"
   ]
  },
  {
   "cell_type": "code",
   "execution_count": 4,
   "metadata": {},
   "outputs": [],
   "source": [
    "from dialogue2graph.pipelines.core.graph import Graph\n",
    "from dialogue2graph.pipelines.core.dialogue_sampling import RecursiveDialogueSampler\n",
    "from dialogue2graph.datasets.complex_dialogues.prompts import graph_example\n",
    "from dialogue2graph.metrics.llm_metrics import compare_graphs\n",
    "from dialogue2graph.metrics.no_llm_metrics import match_triplets_dg"
   ]
  },
  {
   "cell_type": "code",
   "execution_count": 5,
   "metadata": {},
   "outputs": [],
   "source": [
    "from settings import EnvSettings\n",
    "env_settings = EnvSettings()"
   ]
  },
  {
   "cell_type": "code",
   "execution_count": 6,
   "metadata": {},
   "outputs": [],
   "source": [
    "from langchain.chat_models import ChatOpenAI"
   ]
  },
  {
   "cell_type": "code",
   "execution_count": null,
   "metadata": {},
   "outputs": [],
   "source": [
    "!conda install pygraphviz --y"
   ]
  },
  {
   "cell_type": "code",
   "execution_count": null,
   "metadata": {},
   "outputs": [],
   "source": [
    "Graph(graph_example).visualise_short(\"graph_example\")"
   ]
  },
  {
   "cell_type": "code",
   "execution_count": null,
   "metadata": {},
   "outputs": [],
   "source": [
    "graph_example['nodes']"
   ]
  },
  {
   "cell_type": "code",
   "execution_count": 7,
   "metadata": {},
   "outputs": [],
   "source": [
    "sampler = RecursiveDialogueSampler()"
   ]
  },
  {
   "cell_type": "code",
   "execution_count": null,
   "metadata": {},
   "outputs": [],
   "source": [
    "dias = sampler.invoke(Graph(graph_example),5)"
   ]
  },
  {
   "cell_type": "code",
   "execution_count": 22,
   "metadata": {},
   "outputs": [],
   "source": [
    "generation_model = ChatOpenAI(model=\"chatgpt-4o-latest\", api_key=env_settings.OPENAI_API_KEY, base_url=env_settings.OPENAI_BASE_URL, temperature=1)\n",
    "theme_validation_model = ChatOpenAI(model=\"gpt-3.5-turbo\", api_key=env_settings.OPENAI_API_KEY, base_url=env_settings.OPENAI_BASE_URL, temperature=0)\n",
    "validation_model = ChatOpenAI(model=\"gpt-3.5-turbo\", api_key=env_settings.OPENAI_API_KEY, base_url=env_settings.OPENAI_BASE_URL, temperature=0)"
   ]
  },
  {
   "cell_type": "code",
   "execution_count": 23,
   "metadata": {},
   "outputs": [],
   "source": [
    "topic_generator = LoopedGraphGenerator(generation_model,validation_model, theme_validation_model)"
   ]
  },
  {
   "cell_type": "code",
   "execution_count": null,
   "metadata": {},
   "outputs": [],
   "source": [
    "graph = topic_generator.invoke(\"booking a table\")"
   ]
  },
  {
   "cell_type": "code",
   "execution_count": null,
   "metadata": {},
   "outputs": [],
   "source": [
    "graph = topic_generator.invoke(\"arranging airport transfers\")"
   ]
  },
  {
   "cell_type": "code",
   "execution_count": null,
   "metadata": {},
   "outputs": [],
   "source": [
    "Graph(graph[0]['graph']).visualise_short(\"transfer\")"
   ]
  },
  {
   "cell_type": "code",
   "execution_count": 15,
   "metadata": {},
   "outputs": [],
   "source": [
    "import json"
   ]
  },
  {
   "cell_type": "code",
   "execution_count": 33,
   "metadata": {},
   "outputs": [],
   "source": [
    "with open('transfer.json', 'w', encoding='utf-8') as f:\n",
    "    json.dump(graph[0], f, ensure_ascii=False, indent=4)"
   ]
  },
  {
   "cell_type": "code",
   "execution_count": 10,
   "metadata": {},
   "outputs": [],
   "source": [
    "graph_c = Graph({'edges': [{'source': 1,\n",
    "   'target': 2,\n",
    "   'utterances': ['I’d like to book a table for dinner.',\n",
    "    'Can you help me reserve a table at a restaurant?']},\n",
    "  {'source': 2,\n",
    "   'target': 3,\n",
    "   'utterances': ['Tomorrow at 7 PM.', 'This Saturday at 8 PM.']},\n",
    "  {'source': 3,\n",
    "   'target': 4,\n",
    "   'utterances': ['For four people.', 'A table for two, please.']},\n",
    "  {'source': 4,\n",
    "   'target': 8,\n",
    "   'utterances': ['Somewhere in downtown would be nice.',\n",
    "    'Anywhere with good Italian food.']},\n",
    "  {'source': 8,\n",
    "   'target': 9,\n",
    "   'utterances': [\"Let's go with Italian.\", 'Chinese sounds good.']},\n",
    "  {'source': 9,\n",
    "   'target': 13,\n",
    "   'utterances': ['Bella Italia sounds perfect.',\n",
    "    'I’ll go with Lotus Garden.']},\n",
    "  {'source': 13,\n",
    "   'target': 5,\n",
    "   'utterances': ['Yes, that works.', 'That sounds great.']},\n",
    "  {'source': 5,\n",
    "   'target': 10,\n",
    "   'utterances': ['Yes, that’s correct.', 'Everything looks good.']},\n",
    "  {'source': 5,\n",
    "   'target': 6,\n",
    "   'utterances': ['Actually, can we change the time to 9 PM?',\n",
    "    \"Let's do a different date instead.\"]},\n",
    "  {'source': 5,\n",
    "   'target': 7,\n",
    "   'utterances': ['Wait, I need to change the number of people.',\n",
    "    'Can we make it for six instead?']},\n",
    "  {'source': 6,\n",
    "   'target': 5,\n",
    "   'utterances': ['Make it 9 PM instead.', \"Let's go for Sunday at 7 PM.\"]},\n",
    "  {'source': 7,\n",
    "   'target': 5,\n",
    "   'utterances': [\"Now it's for three people.\", \"Actually, let's do five.\"]},\n",
    "  {'source': 10,\n",
    "   'target': 11,\n",
    "   'utterances': ['Can I get their phone number and address?',\n",
    "    'Do you have their contact info?']},\n",
    "  {'source': 10,\n",
    "   'target': 12,\n",
    "   'utterances': [\"Nope, that's all. Thanks!\",\n",
    "    'That’s all I needed. Have a great day!']},\n",
    "  {'source': 11,\n",
    "   'target': 12,\n",
    "   'utterances': [\"No, that's all. Thanks!\",\n",
    "    'I’m all set. Have a great day!']}],\n",
    " 'nodes': [{'id': 1,\n",
    "   'label': 'start',\n",
    "   'is_start': True,\n",
    "   'utterances': ['Hey there! How can I help you today?']},\n",
    "  {'id': 2,\n",
    "   'label': 'ask_date_time',\n",
    "   'is_start': False,\n",
    "   'utterances': ['Sure! What date and time would you like to book the table for?']},\n",
    "  {'id': 3,\n",
    "   'label': 'ask_party_size',\n",
    "   'is_start': False,\n",
    "   'utterances': ['Got it. How many people will be joining?']},\n",
    "  {'id': 4,\n",
    "   'label': 'ask_location',\n",
    "   'is_start': False,\n",
    "   'utterances': ['Alright! Do you have a specific location in mind or any preferences?']},\n",
    "  {'id': 5,\n",
    "   'label': 'confirm_details',\n",
    "   'is_start': False,\n",
    "   'utterances': ['Just to confirm, you need a table for {party_size} on {date_time}. Does that sound right?']},\n",
    "  {'id': 6,\n",
    "   'label': 'modification_date_time',\n",
    "   'is_start': False,\n",
    "   'utterances': ['Sure! What new date and time would you like instead?']},\n",
    "  {'id': 7,\n",
    "   'label': 'modification_party_size',\n",
    "   'is_start': False,\n",
    "   'utterances': ['Got it! How many people should I update it to?']},\n",
    "  {'id': 8,\n",
    "   'label': 'offer_options',\n",
    "   'is_start': False,\n",
    "   'utterances': ['There are a few great restaurants available. Would you like Italian, Chinese, or something else?']},\n",
    "  {'id': 9,\n",
    "   'label': 'provide_options',\n",
    "   'is_start': False,\n",
    "   'utterances': ['Sure! You could try Bella Italia for Italian, Lotus Garden for Chinese, or Grill House for a steakhouse experience. Any of these sound good?']},\n",
    "  {'id': 10,\n",
    "   'label': 'confirm_booking',\n",
    "   'is_start': False,\n",
    "   'utterances': [\"Great, I've booked your table at {restaurant_name} for {party_size} on {date_time}. Anything else I can help with?\"]},\n",
    "  {'id': 11,\n",
    "   'label': 'provide_contact_info',\n",
    "   'is_start': False,\n",
    "   'utterances': ['Bella Italia is located at 25 Main Street and you can call them at 555-1234.',\n",
    "    'Grill House is on West Road, and they can be reached at 555-8765.',\n",
    "    'Lotus Garden is at 78 East Avenue and their phone number is 555-5678.']},\n",
    "  {'id': 12,\n",
    "   'label': 'closing',\n",
    "   'is_start': False,\n",
    "   'utterances': ['Thanks for reaching out. Have a great day!',\n",
    "    \"You're all set! Enjoy your meal!\",\n",
    "    'Your reservation is confirmed. Hope you have a wonderful time!']},\n",
    "  {'id': 13,\n",
    "   'label': 'confirm_restaurant',\n",
    "   'is_start': False,\n",
    "   'utterances': ['Great choice! You’d like to book a table at {restaurant_name}, correct?']}]})"
   ]
  },
  {
   "cell_type": "code",
   "execution_count": 11,
   "metadata": {},
   "outputs": [
    {
     "name": "stdout",
     "output_type": "stream",
     "text": [
      "Graph has all the dialogues\n"
     ]
    }
   ],
   "source": [
    "dias = sampler.invoke(graph_c,5)"
   ]
  },
  {
   "cell_type": "code",
   "execution_count": null,
   "metadata": {},
   "outputs": [],
   "source": [
    "graph_c.visualise_short(\"Graph\")"
   ]
  },
  {
   "cell_type": "code",
   "execution_count": null,
   "metadata": {},
   "outputs": [],
   "source": [
    "graph_c.graph_dict['nodes']"
   ]
  },
  {
   "cell_type": "code",
   "execution_count": null,
   "metadata": {},
   "outputs": [],
   "source": [
    "dias = sampler.invoke(graph_c,5)"
   ]
  },
  {
   "cell_type": "code",
   "execution_count": 39,
   "metadata": {},
   "outputs": [],
   "source": [
    "generator = ThreeStagesGraphGenerator()"
   ]
  },
  {
   "cell_type": "code",
   "execution_count": null,
   "metadata": {},
   "outputs": [],
   "source": [
    "res_graph = generator.invoke(dias, temp=1)"
   ]
  },
  {
   "cell_type": "code",
   "execution_count": null,
   "metadata": {},
   "outputs": [],
   "source": [
    "res_graph = generator.invoke(dias, model_name=\"gpt-4o-2024-11-20\", temp=0)"
   ]
  },
  {
   "cell_type": "code",
   "execution_count": null,
   "metadata": {},
   "outputs": [],
   "source": [
    "res_graph = generator.invoke(dias, model_name=\"gpt-4o\", temp=0)"
   ]
  },
  {
   "cell_type": "code",
   "execution_count": null,
   "metadata": {},
   "outputs": [],
   "source": [
    "res_graph = generator.invoke(dias, model_name=\"o1-mini\", temp=1)"
   ]
  },
  {
   "cell_type": "code",
   "execution_count": null,
   "metadata": {},
   "outputs": [],
   "source": [
    "graph_example"
   ]
  },
  {
   "cell_type": "code",
   "execution_count": null,
   "metadata": {},
   "outputs": [],
   "source": [
    "res_graph.graph_dict"
   ]
  },
  {
   "cell_type": "code",
   "execution_count": null,
   "metadata": {},
   "outputs": [],
   "source": [
    "res_graph.visualise_short(\"Generated from graph dialogues\")"
   ]
  },
  {
   "cell_type": "code",
   "execution_count": null,
   "metadata": {},
   "outputs": [],
   "source": [
    "compare_graphs(res_graph,graph_c)"
   ]
  },
  {
   "cell_type": "code",
   "execution_count": 35,
   "metadata": {},
   "outputs": [],
   "source": [
    "algo_generator = AlgoGenerator()"
   ]
  },
  {
   "cell_type": "code",
   "execution_count": 37,
   "metadata": {},
   "outputs": [],
   "source": [
    "from dialogue2graph.pipelines.core.dialogue import Dialogue"
   ]
  },
  {
   "cell_type": "code",
   "execution_count": 38,
   "metadata": {},
   "outputs": [],
   "source": [
    "dialogues = [Dialogue().from_list(seq['messages']) for seq in graph[0]['dialogues']]"
   ]
  },
  {
   "cell_type": "code",
   "execution_count": 39,
   "metadata": {},
   "outputs": [
    {
     "name": "stderr",
     "output_type": "stream",
     "text": [
      "INFO:chromadb.telemetry.product.posthog:Anonymized telemetry enabled. See                     https://docs.trychroma.com/telemetry for more information.\n"
     ]
    },
    {
     "name": "stdout",
     "output_type": "stream",
     "text": [
      "LISTS_N:  [(0, ['I need to book a ride to the airport.', 'Can you help me arrange an airport transfer?']), (1, ['My flight is on Saturday at 10 AM from JFK.', 'Departure is from LAX tomorrow at 6 PM.', 'Do you have any other options?', 'Can I just take a taxi instead?', \"Never mind, I'll figure it out myself.\", 'Actually, I changed my mind. Thanks anyway.']), (2, ['Pickup is from my home in Brooklyn.', \"I'd like to be picked up from my hotel.\", 'Actually, I need to change my pickup location.', 'Hold on, pickup should be from my office instead.']), (3, [\"It's just me traveling.\", 'There will be three of us.']), (4, ['Actually, can I change my vehicle type?', 'A sedan would be fine.', 'I think an SUV would be more comfortable.', 'Wait, I think I need a bigger car.']), (5, ['On second thought, my original choice is fine.', 'You know what? Never mind changing it.', 'A van would be better.', \"I'll go with an SUV instead.\"]), (6, [\"No, that's it! Thanks a lot.\", \"Thanks, I'm all set.\"]), (7, ['']), (8, ['']), (9, [\"No, that's it! Thanks a lot.\", \"Thanks, I'm all set.\"]), (10, ['Actually, forget it. The first location is fine.', 'Never mind, keep the original pickup.', 'Pickup should be from 456 Elm Street.', 'I need pickup from Grand Hotel instead.']), (11, [\"No, I'll manage on my own.\", 'Actually, never mind.', 'Yeah, that sounds good.', 'Sure, show me the options.']), (12, ['Okay, have a great day!', 'Alright, thanks anyway.']), (13, ['Okay, have a great day!', 'Alright, thanks anyway.']), (14, [\"Thanks, I'll book it myself.\", 'Alright, that helps!'])]\n",
      "LISTS:  [(0, 'Hey there! How can I help you today?'), (1, 'Sure! I can help with that. When is your flight, and where are you departing from?'), (2, 'Got it. Where should the driver pick you up?'), (3, 'Thanks! How many passengers will be traveling?'), (4, 'Alright! Do you have any preference for the type of vehicle? We have sedans, SUVs, and vans available.'), (5, 'Of course! What type of vehicle would you prefer instead?'), (6, 'All set! Your driver will arrive on time. Let me know if you need anything else.'), (7, 'Glad to help! Safe travels.'), (8, \"You're welcome! Have a fantastic trip!\"), (9, 'Great! Your airport transfer is booked. You’ll receive a confirmation message soon. Anything else I can do for you?'), (10, 'No problem! Where would you like to change your pickup location to?'), (11, \"If you'd prefer, I can send you options for ride-share services instead. Would you like that?\"), (12, 'Alright, let me know if you need help later. Have a great day!'), (13, 'No worries! Feel free to reach out anytime.'), (14, 'Here are some ride-share options: Uber and Lyft have availability at your time. You can book directly from their apps. Let me know if I can assist further.')]\n",
      "NODES:  [['Alright, let me know if you need help later. Have a great day!', 'No worries! Feel free to reach out anytime.'], [\"You're welcome! Have a fantastic trip!\", 'Glad to help! Safe travels.'], ['Great! Your airport transfer is booked. You’ll receive a confirmation message soon. Anything else I can do for you?', 'All set! Your driver will arrive on time. Let me know if you need anything else.'], ['Hey there! How can I help you today?'], ['Sure! I can help with that. When is your flight, and where are you departing from?'], ['Got it. Where should the driver pick you up?'], ['Thanks! How many passengers will be traveling?'], ['Alright! Do you have any preference for the type of vehicle? We have sedans, SUVs, and vans available.'], ['Of course! What type of vehicle would you prefer instead?'], ['No problem! Where would you like to change your pickup location to?'], [\"If you'd prefer, I can send you options for ride-share services instead. Would you like that?\"], ['Here are some ride-share options: Uber and Lyft have availability at your time. You can book directly from their apps. Let me know if I can assist further.']]\n",
      "NODES:  [{'id': 1, 'label': '', 'is_start': False, 'utterances': ['Alright, let me know if you need help later. Have a great day!', 'No worries! Feel free to reach out anytime.']}, {'id': 2, 'label': '', 'is_start': False, 'utterances': [\"You're welcome! Have a fantastic trip!\", 'Glad to help! Safe travels.']}, {'id': 3, 'label': '', 'is_start': False, 'utterances': ['Great! Your airport transfer is booked. You’ll receive a confirmation message soon. Anything else I can do for you?', 'All set! Your driver will arrive on time. Let me know if you need anything else.']}, {'id': 4, 'label': '', 'is_start': True, 'utterances': ['Hey there! How can I help you today?']}, {'id': 5, 'label': '', 'is_start': False, 'utterances': ['Sure! I can help with that. When is your flight, and where are you departing from?']}, {'id': 6, 'label': '', 'is_start': False, 'utterances': ['Got it. Where should the driver pick you up?']}, {'id': 7, 'label': '', 'is_start': False, 'utterances': ['Thanks! How many passengers will be traveling?']}, {'id': 8, 'label': '', 'is_start': False, 'utterances': ['Alright! Do you have any preference for the type of vehicle? We have sedans, SUVs, and vans available.']}, {'id': 9, 'label': '', 'is_start': False, 'utterances': ['Of course! What type of vehicle would you prefer instead?']}, {'id': 10, 'label': '', 'is_start': False, 'utterances': ['No problem! Where would you like to change your pickup location to?']}, {'id': 11, 'label': '', 'is_start': False, 'utterances': [\"If you'd prefer, I can send you options for ride-share services instead. Would you like that?\"]}, {'id': 12, 'label': '', 'is_start': False, 'utterances': ['Here are some ride-share options: Uber and Lyft have availability at your time. You can book directly from their apps. Let me know if I can assist further.']}]\n",
      "RESULT:  {'edges': [{'source': 3, 'target': 2, 'utterances': [\"no, that's it! thanks a lot.\", \"thanks, i'm all set.\"]}, {'source': 8, 'target': 3, 'utterances': ['a sedan would be fine.', 'i think an suv would be more comfortable.']}, {'source': 9, 'target': 8, 'utterances': ['on second thought, my original choice is fine.', 'you know what? never mind changing it.']}, {'source': 8, 'target': 9, 'utterances': ['actually, can i change my vehicle type?', 'wait, i think i need a bigger car.']}, {'source': 7, 'target': 8, 'utterances': [\"it's just me traveling.\", 'there will be three of us.']}, {'source': 6, 'target': 7, 'utterances': ['pickup is from my home in brooklyn.', \"i'd like to be picked up from my hotel.\"]}, {'source': 5, 'target': 6, 'utterances': ['my flight is on saturday at 10 am from jfk.', 'departure is from lax tomorrow at 6 pm.']}, {'source': 4, 'target': 5, 'utterances': ['i need to book a ride to the airport.', 'can you help me arrange an airport transfer?']}, {'source': 10, 'target': 6, 'utterances': ['actually, forget it. the first location is fine.', 'never mind, keep the original pickup.']}, {'source': 6, 'target': 10, 'utterances': ['actually, i need to change my pickup location.', 'hold on, pickup should be from my office instead.']}, {'source': 9, 'target': 3, 'utterances': ['a van would be better.', \"i'll go with an suv instead.\"]}, {'source': 10, 'target': 7, 'utterances': ['pickup should be from 456 elm street.', 'i need pickup from grand hotel instead.']}, {'source': 1, 'target': 2, 'utterances': ['okay, have a great day!', 'alright, thanks anyway.']}, {'source': 11, 'target': 1, 'utterances': [\"no, i'll manage on my own.\", 'actually, never mind.']}, {'source': 5, 'target': 11, 'utterances': ['do you have any other options?', 'can i just take a taxi instead?']}, {'source': 12, 'target': 2, 'utterances': [\"thanks, i'll book it myself.\", 'alright, that helps!']}, {'source': 11, 'target': 12, 'utterances': ['yeah, that sounds good.', 'sure, show me the options.']}, {'source': 5, 'target': 1, 'utterances': [\"never mind, i'll figure it out myself.\", 'actually, i changed my mind. thanks anyway.']}], 'nodes': [{'id': 1, 'label': '', 'is_start': False, 'utterances': ['Alright, let me know if you need help later. Have a great day!', 'No worries! Feel free to reach out anytime.']}, {'id': 2, 'label': '', 'is_start': False, 'utterances': [\"You're welcome! Have a fantastic trip!\", 'Glad to help! Safe travels.']}, {'id': 3, 'label': '', 'is_start': False, 'utterances': ['Great! Your airport transfer is booked. You’ll receive a confirmation message soon. Anything else I can do for you?', 'All set! Your driver will arrive on time. Let me know if you need anything else.']}, {'id': 4, 'label': '', 'is_start': True, 'utterances': ['Hey there! How can I help you today?']}, {'id': 5, 'label': '', 'is_start': False, 'utterances': ['Sure! I can help with that. When is your flight, and where are you departing from?']}, {'id': 6, 'label': '', 'is_start': False, 'utterances': ['Got it. Where should the driver pick you up?']}, {'id': 7, 'label': '', 'is_start': False, 'utterances': ['Thanks! How many passengers will be traveling?']}, {'id': 8, 'label': '', 'is_start': False, 'utterances': ['Alright! Do you have any preference for the type of vehicle? We have sedans, SUVs, and vans available.']}, {'id': 9, 'label': '', 'is_start': False, 'utterances': ['Of course! What type of vehicle would you prefer instead?']}, {'id': 10, 'label': '', 'is_start': False, 'utterances': ['No problem! Where would you like to change your pickup location to?']}, {'id': 11, 'label': '', 'is_start': False, 'utterances': [\"If you'd prefer, I can send you options for ride-share services instead. Would you like that?\"]}, {'id': 12, 'label': '', 'is_start': False, 'utterances': ['Here are some ride-share options: Uber and Lyft have availability at your time. You can book directly from their apps. Let me know if I can assist further.']}]} \n",
      "\n",
      "SKIP\n"
     ]
    }
   ],
   "source": [
    "res_graph = algo_generator.invoke(dialogues, model_name=\"gpt-4o\", temp=0)"
   ]
  },
  {
   "cell_type": "code",
   "execution_count": null,
   "metadata": {},
   "outputs": [],
   "source": [
    "res_graph.visualise_short(\"Generated from graph dialogues\")"
   ]
  },
  {
   "cell_type": "code",
   "execution_count": 41,
   "metadata": {},
   "outputs": [
    {
     "name": "stderr",
     "output_type": "stream",
     "text": [
      "INFO:sentence_transformers.SentenceTransformer:Load pretrained SentenceTransformer: BAAI/bge-m3\n"
     ]
    },
    {
     "data": {
      "application/vnd.jupyter.widget-view+json": {
       "model_id": "2d81beb4ceb94dd79fadd52268722922",
       "version_major": 2,
       "version_minor": 0
      },
      "text/plain": [
       "Batches:   0%|          | 0/1 [00:00<?, ?it/s]"
      ]
     },
     "metadata": {},
     "output_type": "display_data"
    },
    {
     "data": {
      "application/vnd.jupyter.widget-view+json": {
       "model_id": "163286c246924a58b88f98ac0d234edd",
       "version_major": 2,
       "version_minor": 0
      },
      "text/plain": [
       "Batches:   0%|          | 0/1 [00:00<?, ?it/s]"
      ]
     },
     "metadata": {},
     "output_type": "display_data"
    },
    {
     "data": {
      "application/vnd.jupyter.widget-view+json": {
       "model_id": "aa0cebdd44ae4ee6b156811f4975f88a",
       "version_major": 2,
       "version_minor": 0
      },
      "text/plain": [
       "Batches:   0%|          | 0/1 [00:00<?, ?it/s]"
      ]
     },
     "metadata": {},
     "output_type": "display_data"
    },
    {
     "data": {
      "application/vnd.jupyter.widget-view+json": {
       "model_id": "33bbab88d4c945a7b91e8da373623bf0",
       "version_major": 2,
       "version_minor": 0
      },
      "text/plain": [
       "Batches:   0%|          | 0/1 [00:00<?, ?it/s]"
      ]
     },
     "metadata": {},
     "output_type": "display_data"
    },
    {
     "data": {
      "text/plain": [
       "{'value': True,\n",
       " 'description': 'Nodes similarity: 0.9866758584976196, Nodes+edges similarity: 0.9464239478111267'}"
      ]
     },
     "execution_count": 41,
     "metadata": {},
     "output_type": "execute_result"
    }
   ],
   "source": [
    "compare_graphs(res_graph,Graph(graph[0]['graph']))"
   ]
  },
  {
   "cell_type": "code",
   "execution_count": 32,
   "metadata": {},
   "outputs": [],
   "source": [
    "generation_model = ChatOpenAI(model=\"o1-mini\", api_key=env_settings.OPENAI_API_KEY, base_url=env_settings.OPENAI_BASE_URL, temperature=1)\n",
    "theme_validation_model = ChatOpenAI(model=\"gpt-3.5-turbo\", api_key=env_settings.OPENAI_API_KEY, base_url=env_settings.OPENAI_BASE_URL, temperature=0)\n",
    "validation_model = ChatOpenAI(model=\"gpt-3.5-turbo\", api_key=env_settings.OPENAI_API_KEY, base_url=env_settings.OPENAI_BASE_URL, temperature=0)\n",
    "topic_generator = LoopedGraphGenerator(generation_model,validation_model, theme_validation_model)"
   ]
  },
  {
   "cell_type": "code",
   "execution_count": null,
   "metadata": {},
   "outputs": [],
   "source": [
    "graph = topic_generator.invoke(\"booking a cruise package\")"
   ]
  },
  {
   "cell_type": "code",
   "execution_count": null,
   "metadata": {},
   "outputs": [],
   "source": [
    "graph[0]['graph']['nodes']"
   ]
  },
  {
   "cell_type": "code",
   "execution_count": null,
   "metadata": {},
   "outputs": [],
   "source": [
    "graph[0]['graph']['edges']"
   ]
  },
  {
   "cell_type": "code",
   "execution_count": null,
   "metadata": {},
   "outputs": [],
   "source": [
    "Graph(graph[0]['graph']).visualise_short(\"Booking a cruise\")"
   ]
  },
  {
   "cell_type": "code",
   "execution_count": null,
   "metadata": {},
   "outputs": [],
   "source": [
    "dias = sampler.invoke(Graph(graph[0]['graph']),5)"
   ]
  },
  {
   "cell_type": "code",
   "execution_count": null,
   "metadata": {},
   "outputs": [],
   "source": [
    "res_graph = generator.invoke(dias)"
   ]
  },
  {
   "cell_type": "code",
   "execution_count": null,
   "metadata": {},
   "outputs": [],
   "source": [
    "res_graph.visualise_short(\"Booking a Cruise from dialogues\")"
   ]
  },
  {
   "cell_type": "code",
   "execution_count": null,
   "metadata": {},
   "outputs": [],
   "source": [
    "compare_graphs(res_graph,Graph(graph[0]['graph']))"
   ]
  },
  {
   "cell_type": "code",
   "execution_count": null,
   "metadata": {},
   "outputs": [],
   "source": [
    "res_graph = algo_generator.invoke(dias, model_name=\"gpt-4o\", temp=0)"
   ]
  },
  {
   "cell_type": "code",
   "execution_count": null,
   "metadata": {},
   "outputs": [],
   "source": [
    "res_graph.visualise_short(\"Booking a Cruise from dialogues\")"
   ]
  },
  {
   "cell_type": "code",
   "execution_count": null,
   "metadata": {},
   "outputs": [],
   "source": [
    "compare_graphs(res_graph,Graph(graph[0]['graph']))"
   ]
  },
  {
   "cell_type": "code",
   "execution_count": null,
   "metadata": {},
   "outputs": [],
   "source": [
    "graph = topic_generator.invoke(\"passport renewal application\")"
   ]
  },
  {
   "cell_type": "code",
   "execution_count": null,
   "metadata": {},
   "outputs": [],
   "source": [
    "graph"
   ]
  },
  {
   "cell_type": "code",
   "execution_count": null,
   "metadata": {},
   "outputs": [],
   "source": [
    "Graph(graph[0]['graph']).visualise_short('Passport renewal')"
   ]
  },
  {
   "cell_type": "code",
   "execution_count": null,
   "metadata": {},
   "outputs": [],
   "source": [
    "graph[0]['graph']['nodes']"
   ]
  },
  {
   "cell_type": "code",
   "execution_count": null,
   "metadata": {},
   "outputs": [],
   "source": [
    "dias = sampler.invoke(Graph(graph[0]['graph']),5)"
   ]
  },
  {
   "cell_type": "code",
   "execution_count": null,
   "metadata": {},
   "outputs": [],
   "source": [
    "res_graph = algo_generator.invoke(dias, model_name=\"gpt-4o\", temp=0)"
   ]
  },
  {
   "cell_type": "code",
   "execution_count": null,
   "metadata": {},
   "outputs": [],
   "source": [
    "compare_graphs(res_graph,Graph(graph[0]['graph']))"
   ]
  },
  {
   "cell_type": "code",
   "execution_count": null,
   "metadata": {},
   "outputs": [],
   "source": [
    "match_triplets_dg(Graph(graph_c), dias)"
   ]
  },
  {
   "cell_type": "code",
   "execution_count": null,
   "metadata": {},
   "outputs": [],
   "source": [
    "dias = sampler.invoke(Graph(graph_example),5)"
   ]
  },
  {
   "cell_type": "code",
   "execution_count": null,
   "metadata": {},
   "outputs": [],
   "source": [
    "match_triplets_dg(Graph(graph_c), dias)"
   ]
  },
  {
   "cell_type": "code",
   "execution_count": 22,
   "metadata": {},
   "outputs": [],
   "source": [
    "from dialogue2graph.metrics.no_llm_metrics import dialogues_are_valid_paths"
   ]
  },
  {
   "cell_type": "code",
   "execution_count": null,
   "metadata": {},
   "outputs": [],
   "source": [
    "dialogues_are_valid_paths(Graph(graph_c), dias)"
   ]
  },
  {
   "cell_type": "code",
   "execution_count": null,
   "metadata": {},
   "outputs": [],
   "source": [
    "dias = sampler.invoke(Graph(graph_example),5)"
   ]
  },
  {
   "cell_type": "code",
   "execution_count": null,
   "metadata": {},
   "outputs": [],
   "source": [
    "dialogues_are_valid_paths(Graph(graph_c), dias)"
   ]
  }
 ],
 "metadata": {
  "kernelspec": {
   "display_name": "py311",
   "language": "python",
   "name": "python3"
  },
  "language_info": {
   "codemirror_mode": {
    "name": "ipython",
    "version": 3
   },
   "file_extension": ".py",
   "mimetype": "text/x-python",
   "name": "python",
   "nbconvert_exporter": "python",
   "pygments_lexer": "ipython3",
   "version": "3.11.11"
  }
 },
 "nbformat": 4,
 "nbformat_minor": 2
}
