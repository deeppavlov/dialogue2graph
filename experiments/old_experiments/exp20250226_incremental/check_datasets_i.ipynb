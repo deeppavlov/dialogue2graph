{
 "cells": [
  {
   "cell_type": "code",
   "execution_count": 1,
   "metadata": {},
   "outputs": [],
   "source": [
    "import json\n",
    "import logging\n",
    "import ast\n",
    "from datasets import load_dataset\n",
    "%load_ext autoreload\n",
    "%autoreload 2"
   ]
  },
  {
   "cell_type": "code",
   "execution_count": 3,
   "metadata": {},
   "outputs": [],
   "source": [
    "from chatsky_llm_autoconfig.settings import EnvSettings\n",
    "from chatsky_llm_autoconfig.algorithms.three_stages_1i import ThreeStagesGraphGenerator as GeneratorI\n",
    "from chatsky_llm_autoconfig.algorithms.three_stages_1 import ThreeStagesGraphGenerator as Generator\n",
    "from chatsky_llm_autoconfig.algorithms.three_stages_0i import ThreeStagesGraphGenerator as GeneratorI0\n",
    "from chatsky_llm_autoconfig.dialogue import Dialogue\n",
    "from chatsky_llm_autoconfig.graph import Graph\n",
    "from chatsky_llm_autoconfig.algorithms.dialogue_generation import RecursiveDialogueSampler\n",
    "from chatsky_llm_autoconfig.metrics.automatic_metrics import all_utterances_present"
   ]
  },
  {
   "cell_type": "code",
   "execution_count": 4,
   "metadata": {},
   "outputs": [],
   "source": [
    "logging.getLogger(\"langchain_core.vectorstores.base\").setLevel(logging.ERROR)\n",
    "env_settings = EnvSettings()"
   ]
  },
  {
   "cell_type": "code",
   "execution_count": null,
   "metadata": {},
   "outputs": [],
   "source": [
    "graph_generator = Generator(\"o3-mini\") # To generate 1st graph from one dialogue\n",
    "graph_generator_i = GeneratorI() # To add dialogue to existing graph: adding nodes with LLM and edges with embedder\n",
    "graph_generator_i0 = GeneratorI0() # To add dialogue to existing graph with LLM"
   ]
  },
  {
   "cell_type": "markdown",
   "metadata": {},
   "source": [
    "## SCHEMA Dataset"
   ]
  },
  {
   "cell_type": "code",
   "execution_count": 18,
   "metadata": {},
   "outputs": [],
   "source": [
    "dataset = load_dataset(\"GEM/schema_guided_dialog\", trust_remote_code=True)"
   ]
  },
  {
   "cell_type": "code",
   "execution_count": null,
   "metadata": {},
   "outputs": [],
   "source": [
    "dataset"
   ]
  },
  {
   "cell_type": "code",
   "execution_count": 184,
   "metadata": {},
   "outputs": [
    {
     "data": {
      "text/plain": [
       "932"
      ]
     },
     "execution_count": 184,
     "metadata": {},
     "output_type": "execute_result"
    }
   ],
   "source": [
    "len([d for d in dataset['test'] if d['service'] == 'RentalCars_3'])"
   ]
  },
  {
   "cell_type": "code",
   "execution_count": 19,
   "metadata": {},
   "outputs": [],
   "source": [
    "new_data=[]\n",
    "for d in [el for el in dataset['test'] if el['service'] == 'RentalCars_3']:\n",
    "    exist = [[{'text':\"Hello! How can I help you?\", \"participant\":\"assistant\"}]] + [[{\"text\":u,\"participant\":\"user\"},{\"text\":a,\"participant\":\"assistant\"},] for u,a in zip(d['context'][0:-1:2],d['context'][1::2])] + [[{'text':d['prompt'], \"participant\":\"user\"}, {'text':d['target'], \"participant\":\"assistant\"}]]\n",
    "    new_data.append([x for xs in exist for x in xs])"
   ]
  },
  {
   "cell_type": "code",
   "execution_count": null,
   "metadata": {},
   "outputs": [],
   "source": [
    "new_data[:1]"
   ]
  },
  {
   "cell_type": "markdown",
   "metadata": {},
   "source": [
    "#### 1 dialogue"
   ]
  },
  {
   "cell_type": "code",
   "execution_count": null,
   "metadata": {},
   "outputs": [],
   "source": [
    "test_data = [Dialogue.from_list(c) for c in new_data[:1]]\n",
    "graph = graph_generator.invoke(test_data)\n",
    "all_utterances_present(graph, test_data)"
   ]
  },
  {
   "cell_type": "code",
   "execution_count": null,
   "metadata": {},
   "outputs": [],
   "source": [
    "graph.visualise_short(\"1 rent a car dialogue\")"
   ]
  },
  {
   "cell_type": "code",
   "execution_count": null,
   "metadata": {},
   "outputs": [],
   "source": [
    "graph.graph_dict['nodes']"
   ]
  },
  {
   "cell_type": "code",
   "execution_count": null,
   "metadata": {},
   "outputs": [],
   "source": [
    "graph.graph_dict['edges']"
   ]
  },
  {
   "cell_type": "code",
   "execution_count": null,
   "metadata": {},
   "outputs": [],
   "source": [
    "new_data[1]"
   ]
  },
  {
   "cell_type": "markdown",
   "metadata": {},
   "source": [
    "##### <span style=\"color:green\">Result: OK, but nodes 3 and 4 could be cobined</span>"
   ]
  },
  {
   "cell_type": "markdown",
   "metadata": {},
   "source": [
    "#### 2 dialogues"
   ]
  },
  {
   "cell_type": "code",
   "execution_count": null,
   "metadata": {},
   "outputs": [],
   "source": [
    "test_data = [Dialogue.from_list(c) for c in [new_data[1]]]\n",
    "graph_2, dialogues = graph_generator_i.invoke(test_data, graph)\n",
    "all_utterances_present(graph_2, dialogues)"
   ]
  },
  {
   "cell_type": "code",
   "execution_count": null,
   "metadata": {},
   "outputs": [],
   "source": [
    "graph_2.visualise_short(\"2 rent a car dialogues\")"
   ]
  },
  {
   "cell_type": "code",
   "execution_count": null,
   "metadata": {},
   "outputs": [],
   "source": [
    "graph_2.graph_dict['nodes']"
   ]
  },
  {
   "cell_type": "code",
   "execution_count": null,
   "metadata": {},
   "outputs": [],
   "source": [
    "graph_2.graph_dict['edges']"
   ]
  },
  {
   "cell_type": "markdown",
   "metadata": {},
   "source": [
    "##### <span style=\"color:yellow\">Result: node 8 is wrongly combined</span>"
   ]
  },
  {
   "cell_type": "code",
   "execution_count": null,
   "metadata": {},
   "outputs": [],
   "source": [
    "new_data[2]"
   ]
  },
  {
   "cell_type": "markdown",
   "metadata": {},
   "source": [
    "#### Adding 3-d dialogue with pure LLM"
   ]
  },
  {
   "cell_type": "code",
   "execution_count": null,
   "metadata": {},
   "outputs": [],
   "source": [
    "test_data = [Dialogue.from_list(c) for c in [new_data[2]]]\n",
    "graph_3 = graph_generator_i0.invoke(test_data, graph_2)"
   ]
  },
  {
   "cell_type": "code",
   "execution_count": null,
   "metadata": {},
   "outputs": [],
   "source": [
    "graph_3.visualise_short(\"3 rent a car dialogues\")"
   ]
  },
  {
   "cell_type": "markdown",
   "metadata": {},
   "source": [
    "##### <span style=\"color:red\">Result: nodes are separated</span>"
   ]
  },
  {
   "cell_type": "markdown",
   "metadata": {},
   "source": [
    "#### 3 dialogues"
   ]
  },
  {
   "cell_type": "code",
   "execution_count": null,
   "metadata": {},
   "outputs": [],
   "source": [
    "new_data[2]"
   ]
  },
  {
   "cell_type": "code",
   "execution_count": null,
   "metadata": {},
   "outputs": [],
   "source": [
    "test_data = [Dialogue.from_list(c) for c in [new_data[2]]]\n",
    "graph_3, dialogues = graph_generator_i.invoke(test_data, graph_2)\n",
    "all_utterances_present(graph_3, dialogues)"
   ]
  },
  {
   "cell_type": "markdown",
   "metadata": {},
   "source": [
    "##### <span style=\"color:red\">Result: LLM lost nodes</span>"
   ]
  },
  {
   "cell_type": "markdown",
   "metadata": {},
   "source": [
    "## MSR-E2E dataset"
   ]
  },
  {
   "cell_type": "code",
   "execution_count": 6,
   "metadata": {},
   "outputs": [],
   "source": [
    "import pandas as pd"
   ]
  },
  {
   "cell_type": "code",
   "execution_count": 7,
   "metadata": {},
   "outputs": [],
   "source": [
    "e2e_data = pd.read_csv(\"../../../datasets/e2e_dialog_challenge/data/taxi_all.tsv\", delimiter=\"\\t\")"
   ]
  },
  {
   "cell_type": "code",
   "execution_count": 8,
   "metadata": {},
   "outputs": [],
   "source": [
    "new_data=[]\n",
    "session = 1\n",
    "cur =  [{'text':\"Hello! How can I help you?\", \"participant\":\"assistant\"}]\n",
    "for idx, row in e2e_data.iterrows():\n",
    "    if row[\"session.ID\"] != session:\n",
    "        new_data.append(cur)\n",
    "        cur =  [{'text':\"Hello! How can I help you?\", \"participant\":\"assistant\"}]\n",
    "    if row[\"Message.From\"] == 'agent':\n",
    "        cur.append({\"text\":row['Message.Text'],\"participant\":\"assistant\"})\n",
    "    else:\n",
    "        cur.append({\"text\":row['Message.Text'],\"participant\":row[\"Message.From\"]})\n",
    "    session = row[\"session.ID\"]"
   ]
  },
  {
   "cell_type": "code",
   "execution_count": null,
   "metadata": {},
   "outputs": [],
   "source": [
    "new_data[:10]"
   ]
  },
  {
   "cell_type": "markdown",
   "metadata": {},
   "source": [
    "#### 1 dialogue"
   ]
  },
  {
   "cell_type": "code",
   "execution_count": null,
   "metadata": {},
   "outputs": [],
   "source": [
    "test_data = [Dialogue.from_list(c) for c in new_data[:1]]\n",
    "graph = graph_generator.invoke(test_data)\n",
    "all_utterances_present(graph, test_data)"
   ]
  },
  {
   "cell_type": "code",
   "execution_count": null,
   "metadata": {},
   "outputs": [],
   "source": [
    "graph.visualise_short(\"1 taxi dialogues\")"
   ]
  },
  {
   "cell_type": "code",
   "execution_count": null,
   "metadata": {},
   "outputs": [],
   "source": [
    "graph.graph_dict['nodes']"
   ]
  },
  {
   "cell_type": "code",
   "execution_count": null,
   "metadata": {},
   "outputs": [],
   "source": [
    "graph.graph_dict['edges']"
   ]
  },
  {
   "cell_type": "markdown",
   "metadata": {},
   "source": [
    "##### <span style=\"color:green\">Result: OK</span>"
   ]
  },
  {
   "cell_type": "markdown",
   "metadata": {},
   "source": [
    "#### 2 dialogues"
   ]
  },
  {
   "cell_type": "code",
   "execution_count": null,
   "metadata": {},
   "outputs": [],
   "source": [
    "test_data = [Dialogue.from_list(c) for c in [new_data[1]]]\n",
    "graph_2, dialogues = graph_generator_i.invoke(test_data, graph)\n",
    "all_utterances_present(graph_2, dialogues)"
   ]
  },
  {
   "cell_type": "code",
   "execution_count": null,
   "metadata": {},
   "outputs": [],
   "source": [
    "graph_2.visualise_short(\"2 taxi dialogues\")"
   ]
  },
  {
   "cell_type": "code",
   "execution_count": null,
   "metadata": {},
   "outputs": [],
   "source": [
    "graph_2.graph_dict['nodes']"
   ]
  },
  {
   "cell_type": "code",
   "execution_count": 152,
   "metadata": {},
   "outputs": [
    {
     "data": {
      "text/plain": [
       "[{'source': 2, 'target': 5, 'utterances': ['tomorrow']},\n",
       " {'source': 5, 'target': 9, 'utterances': ['seattle wa']},\n",
       " {'source': 9, 'target': 9, 'utterances': ['try anyplace close to that']},\n",
       " {'source': 1,\n",
       "  'target': 2,\n",
       "  'utterances': ['i need a cars for a group of 3 if possible. they will be going to 3456 executive row from 45621 chatter way at 3pm.',\n",
       "   'i would like to book a cab please']},\n",
       " {'source': 2, 'target': 3, 'utterances': ['today']},\n",
       " {'source': 3, 'target': 4, 'utterances': ['2']},\n",
       " {'source': 4, 'target': 5, 'utterances': ['11:00 pm']},\n",
       " {'source': 5, 'target': 6, 'utterances': ['new york, ny']},\n",
       " {'source': 6, 'target': 7, 'utterances': ['statue of liberty']},\n",
       " {'source': 7, 'target': 8, 'utterances': ['yes, thanks']}]"
      ]
     },
     "execution_count": 152,
     "metadata": {},
     "output_type": "execute_result"
    }
   ],
   "source": [
    "graph_2.graph_dict['edges']"
   ]
  },
  {
   "cell_type": "markdown",
   "metadata": {},
   "source": [
    "##### <span style=\"color:green\">Result: OK</span>"
   ]
  },
  {
   "cell_type": "markdown",
   "metadata": {},
   "source": [
    "#### 3 dialogues"
   ]
  },
  {
   "cell_type": "code",
   "execution_count": null,
   "metadata": {},
   "outputs": [],
   "source": [
    "test_data = [Dialogue.from_list(c) for c in [new_data[2]]]\n",
    "graph_3, dialogues = graph_generator_i.invoke(test_data, graph_2)\n",
    "all_utterances_present(graph_3, dialogues)"
   ]
  },
  {
   "cell_type": "code",
   "execution_count": null,
   "metadata": {},
   "outputs": [],
   "source": [
    "graph_3.visualise_short(\"3 taxi dialogues\")"
   ]
  },
  {
   "cell_type": "code",
   "execution_count": null,
   "metadata": {},
   "outputs": [],
   "source": [
    "graph_3.graph_dict['nodes']"
   ]
  },
  {
   "cell_type": "code",
   "execution_count": null,
   "metadata": {},
   "outputs": [],
   "source": [
    "graph_3.graph_dict['edges']"
   ]
  },
  {
   "cell_type": "markdown",
   "metadata": {},
   "source": [
    "##### <span style=\"color:green\">Result: OK</span>"
   ]
  },
  {
   "cell_type": "markdown",
   "metadata": {},
   "source": [
    "#### 4 dialogues"
   ]
  },
  {
   "cell_type": "code",
   "execution_count": null,
   "metadata": {},
   "outputs": [],
   "source": [
    "test_data = [Dialogue.from_list(c) for c in [new_data[3]]]\n",
    "graph_4, dialogues = graph_generator_i.invoke(test_data, graph_3)\n",
    "all_utterances_present(graph_4, dialogues)"
   ]
  },
  {
   "cell_type": "code",
   "execution_count": null,
   "metadata": {},
   "outputs": [],
   "source": [
    "graph_4.visualise_short(\"4 taxi dialogues\")"
   ]
  },
  {
   "cell_type": "code",
   "execution_count": null,
   "metadata": {},
   "outputs": [],
   "source": [
    "graph_4.graph_dict['nodes']"
   ]
  },
  {
   "cell_type": "code",
   "execution_count": null,
   "metadata": {},
   "outputs": [],
   "source": [
    "graph_4.graph_dict['edges']"
   ]
  },
  {
   "cell_type": "markdown",
   "metadata": {},
   "source": [
    "##### <span style=\"color:yellow\">Result: edge 8->8 is wrong</span>"
   ]
  },
  {
   "cell_type": "markdown",
   "metadata": {},
   "source": [
    "#### 5 dialogues"
   ]
  },
  {
   "cell_type": "code",
   "execution_count": null,
   "metadata": {},
   "outputs": [],
   "source": [
    "test_data = [Dialogue.from_list(c) for c in [new_data[4]]]\n",
    "graph_5, dialogues = graph_generator_i.invoke(test_data, graph_4)\n",
    "all_utterances_present(graph_5, dialogues)"
   ]
  },
  {
   "cell_type": "code",
   "execution_count": null,
   "metadata": {},
   "outputs": [],
   "source": [
    "graph_5.visualise_short(\"5 taxi dialogues\")"
   ]
  },
  {
   "cell_type": "code",
   "execution_count": null,
   "metadata": {},
   "outputs": [],
   "source": [
    "graph_5.graph_dict['nodes']"
   ]
  },
  {
   "cell_type": "code",
   "execution_count": null,
   "metadata": {},
   "outputs": [],
   "source": [
    "graph_5.graph_dict['edges']"
   ]
  },
  {
   "cell_type": "markdown",
   "metadata": {},
   "source": [
    "##### <span style=\"color:yellow\">Result: edge 8->8 is wrong</span>"
   ]
  },
  {
   "cell_type": "markdown",
   "metadata": {},
   "source": [
    "#### 6 dialogues"
   ]
  },
  {
   "cell_type": "code",
   "execution_count": null,
   "metadata": {},
   "outputs": [],
   "source": [
    "test_data = [Dialogue.from_list(c) for c in [new_data[5]]]\n",
    "graph_6, dialogues = graph_generator_i.invoke(test_data, graph_5)\n",
    "all_utterances_present(graph_6, dialogues)"
   ]
  },
  {
   "cell_type": "code",
   "execution_count": null,
   "metadata": {},
   "outputs": [],
   "source": [
    "graph_6.visualise_short(\"6 taxi dialogues\")"
   ]
  },
  {
   "cell_type": "code",
   "execution_count": null,
   "metadata": {},
   "outputs": [],
   "source": [
    "graph_6.graph_dict['nodes']"
   ]
  },
  {
   "cell_type": "code",
   "execution_count": null,
   "metadata": {},
   "outputs": [],
   "source": [
    "graph_6.graph_dict['edges']"
   ]
  },
  {
   "cell_type": "markdown",
   "metadata": {},
   "source": [
    "##### <span style=\"color:yellow\">Result: edge 8->8 is wrong</span>"
   ]
  },
  {
   "cell_type": "markdown",
   "metadata": {},
   "source": [
    "#### 7 dialogues"
   ]
  },
  {
   "cell_type": "code",
   "execution_count": null,
   "metadata": {},
   "outputs": [],
   "source": [
    "test_data = [Dialogue.from_list(c) for c in [new_data[6]]]\n",
    "graph_7, dialogues = graph_generator_i.invoke(test_data, graph_6)\n",
    "all_utterances_present(graph_7, dialogues)"
   ]
  },
  {
   "cell_type": "code",
   "execution_count": null,
   "metadata": {},
   "outputs": [],
   "source": [
    "graph_7.visualise_short(\"7 taxi dialogues\")"
   ]
  },
  {
   "cell_type": "code",
   "execution_count": null,
   "metadata": {},
   "outputs": [],
   "source": [
    "graph_7.graph_dict['nodes']"
   ]
  },
  {
   "cell_type": "code",
   "execution_count": null,
   "metadata": {},
   "outputs": [],
   "source": [
    "graph_7.graph_dict['edges']"
   ]
  },
  {
   "cell_type": "markdown",
   "metadata": {},
   "source": [
    "##### <span style=\"color:yellow\">Result: edge 8->8 is wrong</span>"
   ]
  },
  {
   "cell_type": "markdown",
   "metadata": {},
   "source": [
    "#### 8 dialogues"
   ]
  },
  {
   "cell_type": "code",
   "execution_count": null,
   "metadata": {},
   "outputs": [],
   "source": [
    "test_data = [Dialogue.from_list(c) for c in [new_data[7]]]\n",
    "graph_8, dialogues = graph_generator_i.invoke(test_data, graph_7)\n",
    "all_utterances_present(graph_8, dialogues)"
   ]
  },
  {
   "cell_type": "code",
   "execution_count": null,
   "metadata": {},
   "outputs": [],
   "source": [
    "graph_8.visualise_short(\"8 taxi dialogues\")"
   ]
  },
  {
   "cell_type": "code",
   "execution_count": null,
   "metadata": {},
   "outputs": [],
   "source": [
    "graph_8.graph_dict['nodes']"
   ]
  },
  {
   "cell_type": "code",
   "execution_count": null,
   "metadata": {},
   "outputs": [],
   "source": [
    "graph_8.graph_dict['edges']"
   ]
  },
  {
   "cell_type": "markdown",
   "metadata": {},
   "source": [
    "##### <span style=\"color:yellow\">Result: edge 8->8 is wrong</span>"
   ]
  },
  {
   "cell_type": "markdown",
   "metadata": {},
   "source": [
    "#### Extending 8 dialogues graph to 9 with pure LLM method"
   ]
  },
  {
   "cell_type": "code",
   "execution_count": 9,
   "metadata": {},
   "outputs": [],
   "source": [
    "graph_8_dict = {\n",
    "    \"nodes\":\n",
    "    [{'id': 1,\n",
    "  'label': 'start',\n",
    "  'is_start': True,\n",
    "  'utterances': ['Hello! How can I help you?']},\n",
    " {'id': 2,\n",
    "  'label': 'ask_date',\n",
    "  'is_start': False,\n",
    "  'utterances': ['On what date would you like a taxi?',\n",
    "   'What day do you need the taxi?',\n",
    "   'At what date would you like to reserve?']},\n",
    " {'id': 3,\n",
    "  'label': 'ask_num',\n",
    "  'is_start': False,\n",
    "  'utterances': ['How many are going?',\n",
    "   'Hello, how many guests will you have?',\n",
    "   'How many passengers will there be?']},\n",
    " {'id': 4,\n",
    "  'label': 'ask_time',\n",
    "  'is_start': False,\n",
    "  'utterances': ['What time would you like to be picked up?',\n",
    "   'Is that 6AM or 6PM?']},\n",
    " {'id': 5,\n",
    "  'label': 'ask_city_state',\n",
    "  'is_start': False,\n",
    "  'utterances': ['Sure. what city are you located in?',\n",
    "   'What city are you located in?',\n",
    "   'What City and State would you like me to look?',\n",
    "   'Hi. What city are you located in?',\n",
    "   'Could you please provide a city and state?']},\n",
    " {'id': 6,\n",
    "  'label': 'ask_destination',\n",
    "  'is_start': False,\n",
    "  'utterances': ['What are you pick up and drop off addresses?',\n",
    "   \"I'll need you pick up and drop off locations.\",\n",
    "   'Hi, I also need to know your drop off location.',\n",
    "   'Where would you like to go?',\n",
    "   'What are the addresses of your pick up and drop off locations?']},\n",
    " {'id': 7,\n",
    "  'label': 'ask_price_confirmation',\n",
    "  'is_start': False,\n",
    "  'utterances': ['UberX would cost $17-23. Would you like to book that, or explore other Uber options?',\n",
    "   '$34-35 is the price for an uberX. Would you like this option?',\n",
    "   '$53-64 is the price for an uberX. Would you like this option?',\n",
    "   'That ride would cost $29-39 on UberX. Would you like to book that now or explore other Uber options?',\n",
    "   '$10-13 is the price for an uberX. Would you like this option?',\n",
    "   '$5-6 is the price for an uberX. Would you like this option?',\n",
    "   '$11-15 is the price for an uberX. Would you like this option?']},\n",
    " {'id': 8,\n",
    "  'label': 'confirmation',\n",
    "  'is_start': False,\n",
    "  'utterances': ['I booked your UberX ride as requested, have a safe trip!',\n",
    "   'I have successfully booked your uber. Enjoy your ride.',\n",
    "   'Your UberX ride was confirmed, have a safe trip!',\n",
    "   'I have confirmed your uberX. Thank you and have a safe trip.',\n",
    "   'Your reservation was confirmed, enjoy your ride with UberX!',\n",
    "   'Thanks for using our service!',\n",
    "   'Your reservation is confirmed! Thank you for using our service.']},\n",
    " {'id': 9,\n",
    "  'label': 'ask_address_verification',\n",
    "  'is_start': False,\n",
    "  'utterances': [\"I'm sorry, I cannot find a Chatter Way in seattle at all. Perhaps you could provide a nearby street name?\",\n",
    "   'I found many Elm Streets in New York. Could you please specify your location?',\n",
    "   'I am not seeing a Hilton downtown. I do see a Doubletree by Hilton, however. Could you verify what is correct?',\n",
    "   \"What's the address or city of the superdome?\",\n",
    "   \"I can't seem to find 45621 chatter way in Seattle. Is this address correct?\"]},\n",
    " {'id': 10,\n",
    "  'label': 'thank_you',\n",
    "  'is_start': False,\n",
    "  'utterances': ['Thank you.']},\n",
    " {'id': 11,\n",
    "  'label': 'ask_uber_estimate',\n",
    "  'is_start': False,\n",
    "  'utterances': [\"We're currently only booking through uber. Would you like an estimate for that?\"]},\n",
    " {'id': 12,\n",
    "  'label': 'ask_time_and_passengers',\n",
    "  'is_start': False,\n",
    "  'utterances': ['I also need a time along with number of passengers.']},\n",
    " {'id': 13,\n",
    "  'label': 'ask_name',\n",
    "  'is_start': False,\n",
    "  'utterances': ['And may I have your name?']}],\n",
    "  \"edges\":\n",
    "  [{'source': 1,\n",
    "  'target': 6,\n",
    "  'utterances': ['i need a taxi for 5 people at 54 elm street at 6 pm.']},\n",
    " {'source': 2, 'target': 9, 'utterances': ['friday.']},\n",
    " {'source': 5, 'target': 2, 'utterances': ['new york.']},\n",
    " {'source': 6,\n",
    "  'target': 5,\n",
    "  'utterances': ['i need to be dropped at 450 beacon street.']},\n",
    " {'source': 9, 'target': 13, 'utterances': ['brooklyn.']},\n",
    " {'source': 13, 'target': 7, 'utterances': ['mike.']},\n",
    " {'source': 1,\n",
    "  'target': 11,\n",
    "  'utterances': ['what is the highest rated taxi service in wilmington, nc']},\n",
    " {'source': 8, 'target': 10, 'utterances': ['thanks.', 'thanks!']},\n",
    " {'source': 11, 'target': 6, 'utterances': ['yes please']},\n",
    " {'source': 7,\n",
    "  'target': 8,\n",
    "  'utterances': ['yes.',\n",
    "   'yes that is fine',\n",
    "   'yes',\n",
    "   'please book it now.',\n",
    "   'yes, please',\n",
    "   'yes, thanks']},\n",
    " {'source': 3, 'target': 7, 'utterances': ['2', '1']},\n",
    " {'source': 2, 'target': 3, 'utterances': ['saturday at 3pm', 'today']},\n",
    " {'source': 6,\n",
    "  'target': 2,\n",
    "  'utterances': ['hilton downtown to the melting pot restaurant',\n",
    "   \"i'm at the superdome and need to get to louis armstrong airport\"]},\n",
    " {'source': 2, 'target': 5, 'utterances': ['tomorrow']},\n",
    " {'source': 5, 'target': 9, 'utterances': ['seattle wa']},\n",
    " {'source': 9,\n",
    "  'target': 7,\n",
    "  'utterances': ['that is probably iot',\n",
    "   '1500 sugar bowl dr, new orleans, la 70112']},\n",
    " {'source': 1,\n",
    "  'target': 2,\n",
    "  'utterances': ['i need a cars for a group of 3 if possible. they will be going to 3456 executive row from 45621 chatter way at 3pm.',\n",
    "   'i would like to book a cab please']},\n",
    " {'source': 2, 'target': 12, 'utterances': ['next monday']},\n",
    " {'source': 12, 'target': 9, 'utterances': ['6pm for 4 people']},\n",
    " {'source': 1,\n",
    "  'target': 3,\n",
    "  'utterances': ['i need to go to denver airport. can you get a taxi to meet at coors field in denver in an hour?']},\n",
    " {'source': 3, 'target': 4, 'utterances': ['2']},\n",
    " {'source': 4, 'target': 3, 'utterances': ['6pm']},\n",
    " {'source': 1,\n",
    "  'target': 4,\n",
    "  'utterances': ['need a cab to take me to the uncw baseball stadium from days inn on market street in wilmington, nc tomorrow at 6']},\n",
    " {'source': 4, 'target': 5, 'utterances': ['11:00 pm']},\n",
    " {'source': 9, 'target': 9, 'utterances': ['try anyplace close to that']},\n",
    " {'source': 1,\n",
    "  'target': 5,\n",
    "  'utterances': ['i would like to book a cab for tomorrow night at 6 please',\n",
    "   'hi! i need a taxi.']},\n",
    " {'source': 6,\n",
    "  'target': 3,\n",
    "  'utterances': ['pick up at the north carolina museum of art and drop off at rdu']},\n",
    " {'source': 3, 'target': 3, 'utterances': ['just myself']},\n",
    " {'source': 8, 'target': 8, 'utterances': ['thank you!']},\n",
    " {'source': 3, 'target': 9, 'utterances': ['3']},\n",
    " {'source': 6, 'target': 7, 'utterances': ['statue of liberty']},\n",
    " {'source': 5,\n",
    "  'target': 6,\n",
    "  'utterances': ['raliegh', 'new orleans', 'new york, ny']}]\n",
    "}"
   ]
  },
  {
   "cell_type": "code",
   "execution_count": 10,
   "metadata": {},
   "outputs": [],
   "source": [
    "graph_8 = Graph(graph_8_dict)"
   ]
  },
  {
   "cell_type": "code",
   "execution_count": 11,
   "metadata": {},
   "outputs": [],
   "source": [
    "from chatsky_llm_autoconfig.algorithms.dialogue_generation import RecursiveDialogueSampler\n",
    "dialogue_sampler = RecursiveDialogueSampler()"
   ]
  },
  {
   "cell_type": "code",
   "execution_count": null,
   "metadata": {},
   "outputs": [],
   "source": [
    "test_data = [Dialogue.from_list(c) for c in [new_data[8]]]\n",
    "graph_9 = graph_generator_i0.invoke(test_data, graph_8)"
   ]
  },
  {
   "cell_type": "code",
   "execution_count": 14,
   "metadata": {},
   "outputs": [
    {
     "data": {
      "text/plain": [
       "Graph(graph_dict={}, graph=None, node_mapping=None)"
      ]
     },
     "execution_count": 14,
     "metadata": {},
     "output_type": "execute_result"
    }
   ],
   "source": [
    "graph_9"
   ]
  },
  {
   "cell_type": "code",
   "execution_count": null,
   "metadata": {},
   "outputs": [],
   "source": [
    "dialogues = dialogue_sampler.invoke(graph_9, 5)\n",
    "all_utterances_present(graph_9, dialogues)"
   ]
  },
  {
   "cell_type": "code",
   "execution_count": null,
   "metadata": {},
   "outputs": [],
   "source": [
    "graph_9.visualise_short(\"9 dialogues\")"
   ]
  },
  {
   "cell_type": "markdown",
   "metadata": {},
   "source": [
    "##### <span style=\"color:red\">Result: nodes are separated</span>"
   ]
  },
  {
   "cell_type": "markdown",
   "metadata": {},
   "source": [
    "#### 9 dialogues"
   ]
  },
  {
   "cell_type": "code",
   "execution_count": null,
   "metadata": {},
   "outputs": [],
   "source": [
    "test_data = [Dialogue.from_list(c) for c in [new_data[8]]]\n",
    "graph_9, dialogues = graph_generator_i.invoke(test_data, graph_8)\n",
    "all_utterances_present(graph_9, dialogues)\n",
    "print(graph_9.graph_dict['nodes'])\n",
    "print(\"\\n\")\n",
    "print(graph_9.graph_dict['edges'])\n",
    "print(\"\\n\")\n",
    "graph_9.visualise_short(\"9 taxi dialogues\")"
   ]
  },
  {
   "cell_type": "code",
   "execution_count": null,
   "metadata": {},
   "outputs": [],
   "source": [
    "graph_9.visualise_short(\"9 taxi dialogues\")"
   ]
  },
  {
   "cell_type": "code",
   "execution_count": null,
   "metadata": {},
   "outputs": [],
   "source": [
    "graph_9.graph_dict['nodes']"
   ]
  },
  {
   "cell_type": "code",
   "execution_count": null,
   "metadata": {},
   "outputs": [],
   "source": [
    "graph_9.graph_dict['edges']"
   ]
  },
  {
   "cell_type": "markdown",
   "metadata": {},
   "source": [
    "##### <span style=\"color:red\">Result: nodes are lost</span>"
   ]
  },
  {
   "cell_type": "markdown",
   "metadata": {},
   "source": [
    "#### 10 dialogues"
   ]
  },
  {
   "cell_type": "code",
   "execution_count": null,
   "metadata": {},
   "outputs": [],
   "source": [
    "test_data = [Dialogue.from_list(c) for c in [new_data[9]]]\n",
    "graph_10, dialogues = graph_generator_i.invoke(test_data, graph_9)\n",
    "all_utterances_present(graph_10, dialogues)"
   ]
  },
  {
   "cell_type": "code",
   "execution_count": null,
   "metadata": {},
   "outputs": [],
   "source": [
    "graph_10.visualise_short(\"10 taxi dialogues\")"
   ]
  },
  {
   "cell_type": "code",
   "execution_count": null,
   "metadata": {},
   "outputs": [],
   "source": [
    "graph_10.graph_dict['nodes']"
   ]
  },
  {
   "cell_type": "code",
   "execution_count": null,
   "metadata": {},
   "outputs": [],
   "source": [
    "graph_10.graph_dict['edges']"
   ]
  },
  {
   "cell_type": "markdown",
   "metadata": {},
   "source": [
    "## Frames dataset"
   ]
  },
  {
   "cell_type": "code",
   "execution_count": 126,
   "metadata": {},
   "outputs": [],
   "source": [
    "with open('../../../datasets/frames/data.json') as f:\n",
    "    dataset = json.load(f)"
   ]
  },
  {
   "cell_type": "code",
   "execution_count": null,
   "metadata": {},
   "outputs": [],
   "source": [
    "dataset"
   ]
  },
  {
   "cell_type": "code",
   "execution_count": 127,
   "metadata": {},
   "outputs": [],
   "source": [
    "data=[]\n",
    "for d in [el['turns'] for el in dataset]:\n",
    "    exist = [{'text':\"Hello! How can I help you?\", \"participant\":\"assistant\"}] + [{\"text\":u['text'],\"participant\":\"user\"} if u['author']==\"user\" else {\"text\":u['text'], \"participant\":\"assistant\"} for u in d]\n",
    "    data.append(exist)"
   ]
  },
  {
   "cell_type": "code",
   "execution_count": null,
   "metadata": {},
   "outputs": [],
   "source": [
    "data[0]"
   ]
  },
  {
   "cell_type": "markdown",
   "metadata": {},
   "source": [
    "#### 1 dialogue"
   ]
  },
  {
   "cell_type": "code",
   "execution_count": null,
   "metadata": {},
   "outputs": [],
   "source": [
    "test_data = [Dialogue.from_list(c) for c in data[:1]]\n",
    "graph = graph_generator.invoke(test_data)\n",
    "all_utterances_present(graph, test_data)"
   ]
  },
  {
   "cell_type": "code",
   "execution_count": null,
   "metadata": {},
   "outputs": [],
   "source": [
    "graph.visualise_short(\"1 trip dialogue\")"
   ]
  },
  {
   "cell_type": "code",
   "execution_count": null,
   "metadata": {},
   "outputs": [],
   "source": [
    "graph.graph_dict['nodes']"
   ]
  },
  {
   "cell_type": "code",
   "execution_count": null,
   "metadata": {},
   "outputs": [],
   "source": [
    "graph.graph_dict['edges']"
   ]
  },
  {
   "cell_type": "markdown",
   "metadata": {},
   "source": [
    "##### <span style=\"color:green\">Result: OK</span>"
   ]
  },
  {
   "cell_type": "markdown",
   "metadata": {},
   "source": [
    "#### 2 dialogues"
   ]
  },
  {
   "cell_type": "code",
   "execution_count": null,
   "metadata": {},
   "outputs": [],
   "source": [
    "test_data = [Dialogue.from_list(c) for c in [data[1]]]\n",
    "graph_2, dialogues = graph_generator_i.invoke(test_data, graph)\n",
    "all_utterances_present(graph_2, dialogues)"
   ]
  },
  {
   "cell_type": "code",
   "execution_count": null,
   "metadata": {},
   "outputs": [],
   "source": [
    "graph_2.visualise_short(\"2 trip dialogues\")"
   ]
  },
  {
   "cell_type": "code",
   "execution_count": null,
   "metadata": {},
   "outputs": [],
   "source": [
    "graph_2.graph_dict['nodes']"
   ]
  },
  {
   "cell_type": "code",
   "execution_count": null,
   "metadata": {},
   "outputs": [],
   "source": [
    "graph_2.graph_dict['edges']"
   ]
  },
  {
   "cell_type": "markdown",
   "metadata": {},
   "source": [
    "##### <span style=\"color:red\">Result: nodes 2 and 4 wrongly combined</span>"
   ]
  },
  {
   "cell_type": "markdown",
   "metadata": {},
   "source": [
    "#### 3 dialogues"
   ]
  },
  {
   "cell_type": "code",
   "execution_count": null,
   "metadata": {},
   "outputs": [],
   "source": [
    "new_data[2]"
   ]
  },
  {
   "cell_type": "code",
   "execution_count": null,
   "metadata": {},
   "outputs": [],
   "source": [
    "test_data = [Dialogue.from_list(c) for c in [data[2]]]\n",
    "graph_3, dialogues = graph_generator_i.invoke(test_data, graph_2)\n",
    "all_utterances_present(graph_3, dialogues)"
   ]
  },
  {
   "cell_type": "code",
   "execution_count": null,
   "metadata": {},
   "outputs": [],
   "source": [
    "graph_3.visualise_short(\"3 trip dialogues\")"
   ]
  },
  {
   "cell_type": "code",
   "execution_count": null,
   "metadata": {},
   "outputs": [],
   "source": [
    "graph_3.graph_dict['nodes']"
   ]
  },
  {
   "cell_type": "code",
   "execution_count": null,
   "metadata": {},
   "outputs": [],
   "source": [
    "graph_3.graph_dict['edges']"
   ]
  },
  {
   "cell_type": "markdown",
   "metadata": {},
   "source": [
    "##### <span style=\"color:red\">Result: nodes 2 and 4 wrongly combined</span>"
   ]
  }
 ],
 "metadata": {
  "kernelspec": {
   "display_name": "py11",
   "language": "python",
   "name": "python3"
  },
  "language_info": {
   "codemirror_mode": {
    "name": "ipython",
    "version": 3
   },
   "file_extension": ".py",
   "mimetype": "text/x-python",
   "name": "python",
   "nbconvert_exporter": "python",
   "pygments_lexer": "ipython3",
   "version": "3.11.11"
  }
 },
 "nbformat": 4,
 "nbformat_minor": 2
}
