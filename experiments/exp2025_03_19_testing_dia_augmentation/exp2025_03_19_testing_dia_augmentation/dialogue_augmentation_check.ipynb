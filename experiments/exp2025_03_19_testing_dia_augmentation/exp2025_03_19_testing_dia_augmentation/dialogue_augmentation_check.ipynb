{
 "cells": [
  {
   "cell_type": "code",
   "execution_count": 1,
   "metadata": {},
   "outputs": [
    {
     "data": {
      "text/plain": [
       "True"
      ]
     },
     "execution_count": 1,
     "metadata": {},
     "output_type": "execute_result"
    }
   ],
   "source": [
    "from dotenv import load_dotenv\n",
    "load_dotenv()"
   ]
  },
  {
   "cell_type": "code",
   "execution_count": 2,
   "metadata": {},
   "outputs": [
    {
     "data": {
      "text/plain": [
       "'BAAI/bge-m3'"
      ]
     },
     "execution_count": 2,
     "metadata": {},
     "output_type": "execute_result"
    }
   ],
   "source": [
    "import os\n",
    "os.environ['PATH_TO_ENV'] = \"~/projects/chatsky-llm-autoconfig/.env\"\n",
    "os.getenv('EMBEDDER_MODEL')"
   ]
  },
  {
   "cell_type": "code",
   "execution_count": null,
   "metadata": {},
   "outputs": [
    {
     "name": "stderr",
     "output_type": "stream",
     "text": [
      "/home/olshevskaya/miniconda3/envs/conda_env_py311/lib/python3.11/site-packages/pydantic/_internal/_fields.py:192: UserWarning: Field name \"validate\" in \"Dialogue\" shadows an attribute in parent \"BaseModel\"\n",
      "  warnings.warn(\n"
     ]
    }
   ],
   "source": [
    "from dialogue2graph.pipelines.core.dialogue import DialogueMessage, Dialogue\n",
    "import pickle\n",
    "import numpy as np"
   ]
  },
  {
   "cell_type": "code",
   "execution_count": 185,
   "metadata": {},
   "outputs": [],
   "source": [
    "with open(\"gen_dataset_augment_naive\", \"rb\") as fp:\n",
    "    data = pickle.load(fp)"
   ]
  },
  {
   "cell_type": "code",
   "execution_count": 186,
   "metadata": {},
   "outputs": [
    {
     "data": {
      "text/plain": [
       "160"
      ]
     },
     "execution_count": 186,
     "metadata": {},
     "output_type": "execute_result"
    }
   ],
   "source": [
    "len(data)"
   ]
  },
  {
   "cell_type": "code",
   "execution_count": 77,
   "metadata": {},
   "outputs": [],
   "source": [
    "from sentence_transformers import SentenceTransformer\n",
    "from dialogue2graph.metrics.no_llm_metrics.metrics import match_roles, is_correct_length\n",
    "from functools import reduce\n",
    "from tqdm import tqdm"
   ]
  },
  {
   "cell_type": "markdown",
   "metadata": {},
   "source": [
    "### Checking duplicates within dialogues per graph"
   ]
  },
  {
   "cell_type": "code",
   "execution_count": 143,
   "metadata": {},
   "outputs": [],
   "source": [
    "def check_no_duplicates_all_dialogues(dialogues):\n",
    "    all_utterances = []\n",
    "    for dia in dialogues:\n",
    "        utterances = [uttr['text'] for uttr in dia]\n",
    "        all_utterances.append(utterances)\n",
    "\n",
    "    # Функция для преобразования списка в множество\n",
    "    to_set = lambda x: set(x)\n",
    "    # Преобразование каждого списка в множество\n",
    "    sets = map(to_set, all_utterances)\n",
    "    # Нахождение общего пересечения всех множеств\n",
    "    common_elements = reduce(lambda a, b: a & b, sets)\n",
    "    if len(common_elements) == 0:\n",
    "        return True\n",
    "    else:\n",
    "        print('common_elements:', common_elements)\n",
    "        return False"
   ]
  },
  {
   "cell_type": "code",
   "execution_count": 187,
   "metadata": {},
   "outputs": [
    {
     "name": "stderr",
     "output_type": "stream",
     "text": [
      "100%|██████████| 160/160 [00:00<00:00, 16918.06it/s]"
     ]
    },
    {
     "name": "stdout",
     "output_type": "stream",
     "text": [
      "common_elements: {'Hi there! How can I help you today?'}\n",
      "common_elements: {'Hi there! How can I help you today?'}\n",
      "common_elements: {'Hi there! How can I help you today?', 'In the morning.'}\n",
      "common_elements: {'Hi there! How can I help you today?'}\n",
      "common_elements: {\"My device isn't being recognized.\"}\n",
      "common_elements: {'Hi there! How can I help you today?', 'My account number is 123456.'}\n",
      "common_elements: {'Hi there! How can I help you today?'}\n",
      "common_elements: {'123456'}\n",
      "common_elements: {'Hi there! How can I help you today?'}\n",
      "common_elements: {'Hi there! How can I help you today?'}\n",
      "common_elements: {'Hi there! How can I help you today?', \"It's on the installation page, specifically in the prerequisites section.\"}\n",
      "common_elements: {'Hi there! How can I help you today?'}\n",
      "common_elements: {'Hi there! How can I help you today?'}\n",
      "common_elements: {'Hi there! How can I help you today?'}\n",
      "common_elements: {'Hi there! How can I help you today?'}\n",
      "common_elements: {'Hi there! How can I help you today?'}\n",
      "common_elements: {'It was sometime last week.'}\n",
      "common_elements: {'Hi there! How can I help you today?', 'My account number is 123456.'}\n",
      "common_elements: {'Hi there! How can I help you today?'}\n",
      "common_elements: {'Hi there! How can I help you today?'}\n",
      "common_elements: {'Hi there! How can I help you today?'}\n",
      "common_elements: {'Hi there! How can I help you today?'}\n",
      "common_elements: {'Hi there! How can I help you today?'}\n",
      "common_elements: {'Hi there! How can I help you today?'}\n",
      "common_elements: {'Hi there! How can I help you today?'}\n",
      "common_elements: {'Hi there! How can I help you today?'}\n",
      "common_elements: {\"It displayed 'Update failed due to connection timeout.'\"}\n",
      "common_elements: {'Hi there! How can I help you today?'}\n",
      "common_elements: {'Hi there! How can I help you today?', 'user@gmail.com'}\n",
      "common_elements: {'Hi there! How can I help you today?'}\n",
      "common_elements: {'Hi there! How can I help you today?'}\n",
      "common_elements: {'Hi there! How can I help you today?'}\n",
      "common_elements: {'Hi there! How can I help you today?'}\n",
      "common_elements: {'Hi there! How can I help you today?'}\n",
      "common_elements: {'Hi there! How can I help you today?'}\n"
     ]
    },
    {
     "name": "stderr",
     "output_type": "stream",
     "text": [
      "\n"
     ]
    }
   ],
   "source": [
    "errors = []\n",
    "failure_examples = []\n",
    "\n",
    "for i, example in enumerate(tqdm(data)):\n",
    "    dialogues = [dial['messages'] for dial in example['dialogues']]\n",
    "    augmented_dialogues = [dial['messages'] for dial in example['augmented_dialogues']]\n",
    "\n",
    "    try:\n",
    "        if not check_no_duplicates_all_dialogues(augmented_dialogues):\n",
    "            failure_examples.append(i)\n",
    "    except Exception as e:\n",
    "        errors.append((i, e))"
   ]
  },
  {
   "cell_type": "code",
   "execution_count": 188,
   "metadata": {},
   "outputs": [
    {
     "name": "stdout",
     "output_type": "stream",
     "text": [
      "[8, 12, 19, 25, 26, 34, 35, 37, 39, 41, 46, 54, 58, 59, 60, 61, 65, 69, 71, 72, 81, 82, 87, 93, 101, 103, 104, 105, 107, 108, 110, 111, 119, 120, 148]\n"
     ]
    }
   ],
   "source": [
    "# duplicates\n",
    "print(failure_examples)"
   ]
  },
  {
   "cell_type": "code",
   "execution_count": 189,
   "metadata": {},
   "outputs": [
    {
     "data": {
      "text/plain": [
       "[(6, TypeError(\"'NoneType' object is not iterable\")),\n",
       " (30, TypeError(\"'NoneType' object is not iterable\")),\n",
       " (66, TypeError(\"'NoneType' object is not iterable\")),\n",
       " (74, TypeError(\"'NoneType' object is not iterable\"))]"
      ]
     },
     "execution_count": 189,
     "metadata": {},
     "output_type": "execute_result"
    }
   ],
   "source": [
    "# generation errors\n",
    "errors"
   ]
  },
  {
   "cell_type": "markdown",
   "metadata": {},
   "source": [
    "### Checking duplicates within one dialogue"
   ]
  },
  {
   "cell_type": "code",
   "execution_count": 190,
   "metadata": {},
   "outputs": [],
   "source": [
    "def check_no_duplicates_one_dialogue(dialogue):\n",
    "    utterances = [uttr['text'] for uttr in dialogue]\n",
    "\n",
    "    if len(utterances) == len(set(utterances)):\n",
    "        return True\n",
    "        \n",
    "    else:\n",
    "        uttr_count = {}\n",
    "        for uttr in utterances:\n",
    "            uttr_count.setdefault(uttr, 0)\n",
    "            uttr_count[uttr] += 1\n",
    "            common_elements = [k for k, v in uttr_count.items() if v > 1]\n",
    "        print('common_elements:', common_elements)\n",
    "        return False"
   ]
  },
  {
   "cell_type": "code",
   "execution_count": 191,
   "metadata": {},
   "outputs": [
    {
     "name": "stderr",
     "output_type": "stream",
     "text": [
      "100%|██████████| 160/160 [00:00<00:00, 17439.93it/s]"
     ]
    },
    {
     "name": "stdout",
     "output_type": "stream",
     "text": [
      "common_elements: ['Red, please.']\n",
      "common_elements: ['Hi there! How can I help you today?']\n",
      "common_elements: ['Hi there! How can I help you today?']\n",
      "common_elements: ['Hi there! How can I help you today?']\n",
      "common_elements: ['I see that you have some concerns regarding our ethical sourcing practices. Can you share more details about what specifically troubles you?']\n",
      "common_elements: ['I see that you have concerns regarding our ethical sourcing. Can you specify what aspect is troubling you?']\n",
      "common_elements: ['I see that you have some concerns regarding ethical sourcing. Can you tell me more about what specifically troubles you?']\n",
      "common_elements: ['Grammar']\n",
      "common_elements: ['1.5 BTC']\n",
      "common_elements: ['1.5 BTC']\n",
      "common_elements: ['1.5 BTC']\n",
      "common_elements: [\"Hi there! I'm here to address any inquiries or worries you might have regarding our drone delivery service. What can I help you with today?\"]\n",
      "common_elements: [\"Hi there! I'm here to address any inquiries or worries you might have regarding our drone delivery system. What can I help you with today?\"]\n",
      "common_elements: [\"Hi there! I'm here to address any inquiries or worries you might have regarding our drone delivery system. What can I do for you today?\"]\n",
      "common_elements: [\"Hi there! I'm available to answer any inquiries or worries you might have regarding our drone delivery service. How can I help you today?\"]\n",
      "common_elements: [\"Hi there! I'm here to address any inquiries or worries you may have regarding our drone delivery service. How can I help you today?\"]\n",
      "common_elements: ['We provide a variety of functionalities for metaverse integration. Would you like to hear about our offerings, pricing options, or the technical requirements?']\n",
      "common_elements: ['Next Monday.', 'In the morning.']\n",
      "common_elements: ['Next Monday.', 'In the morning.']\n",
      "common_elements: ['In the morning.']\n",
      "common_elements: ['Next Monday.', 'In the morning.', 'Just me.']\n",
      "common_elements: ['I need to update them.']\n",
      "common_elements: ['There are four of us.', '$120']\n",
      "common_elements: ['My account number is 123456.']\n",
      "common_elements: ['My account number is 123456.']\n",
      "common_elements: ['123456']\n",
      "common_elements: ['123456']\n",
      "common_elements: ['123456']\n",
      "common_elements: ['123456']\n",
      "common_elements: ['123456']\n",
      "common_elements: ['I want to extend it for a year.']\n",
      "common_elements: [\"I've reviewed your account, and it looks like there is indeed a duplicate claim. How would you prefer to address this? I can combine your rewards into one account, process a refund for the duplicate, or transfer the rewards to another account.\"]\n",
      "common_elements: [\"It's a Whirlpool WTW5000DW.\"]\n",
      "common_elements: ['Actually, is it possible to switch out my part?']\n",
      "common_elements: ['50']\n",
      "common_elements: [\"No, that's everything for now.\"]\n",
      "common_elements: ['No, that will be all for now.']\n",
      "common_elements: ['I apologize for that. Can you share the email address of the sender?']\n",
      "common_elements: [\"I'm here to assist you with getting your account back. Could you please share your account ID along with the email linked to it?\", 'Here’s my account ID and the email address.', 'Thanks for providing that information. It appears your account was suspended due to [reason]. Would you like to proceed with an appeal?']\n",
      "common_elements: [\"I understand you're looking to cancel. Can I ask what prompted this decision?\"]\n",
      "common_elements: ['I have Windows 10 installed.']\n",
      "common_elements: [\"I'm on Windows 10.\"]\n",
      "common_elements: [\"I'm on Windows 10.\"]\n",
      "common_elements: [\"I'm on Windows 10.\"]\n",
      "common_elements: [\"I'm running Windows 10.\"]\n",
      "common_elements: [\"I'm on Windows 10.\"]\n",
      "common_elements: [\"Hi there! I'm really sorry to hear that your document crashed. Let's work together to recover it. Which program were you using?\"]\n",
      "common_elements: ['Have you verified that your internet connection is stable?', 'Yes, my internet connection is stable.']\n",
      "common_elements: ['Have you verified that your internet connection is stable?', 'Yes, my internet connection seems fine.', \"That's good to know. Let's try shutting down any applications that might be consuming bandwidth. Please do that now.\"]\n",
      "common_elements: [\"It's a Samsung Galaxy S21.\"]\n",
      "common_elements: [\"It's a Samsung Galaxy S21.\"]\n",
      "common_elements: [\"It's a Samsung Galaxy S21.\"]\n",
      "common_elements: [\"It's a Samsung Galaxy S21.\"]\n",
      "common_elements: [\"It's a Samsung Galaxy S21.\"]\n",
      "common_elements: [\"It's a Samsung Galaxy S21.\"]\n",
      "common_elements: [\"It's the Samsung Galaxy S21.\"]\n",
      "common_elements: [\"It's a Samsung Galaxy S21.\"]\n",
      "common_elements: ['My account number is 123456.']\n",
      "common_elements: ['My account number is 123456.']\n",
      "common_elements: ['My account number is 123456.']\n",
      "common_elements: ['My account number is 123456.']\n",
      "common_elements: ['My account number is 123456.']\n",
      "common_elements: ['My account number is 123456.']\n",
      "common_elements: ['Your request is still under review. We anticipate having an update for you within two business days.']\n",
      "common_elements: [\"It's 123 Main St.\", 'Next Monday.', 'Morning.']\n",
      "common_elements: [\"I understand that you're having trouble with your file download. Let's sort this out together. Can you explain what issue you're facing?\"]\n",
      "common_elements: ['Two adults.']\n",
      "common_elements: ['Two adults.']\n",
      "common_elements: ['Two adults.']\n",
      "common_elements: ['I appreciate your willingness to share suggestions for enhancing our product. Which area would you like to focus on first? Features, Usability, or Customer Support?']\n",
      "common_elements: ['I appreciate your willingness to share suggestions for enhancing our product. Which area would you like to focus on first: Features, Usability, or Customer Support?']\n",
      "common_elements: ['I appreciate your willingness to share ideas for enhancing our product. Which area would you like to focus on first? Features, Usability, or Customer Support?']\n",
      "common_elements: ['I appreciate your willingness to share ideas for enhancing our product. Which area do you want to focus on first? Features, Usability, or Customer Support?']\n",
      "common_elements: ['I appreciate your willingness to share ideas for enhancing our product. Which area would you like to focus on first? Features, Usability, or Customer Support?']\n",
      "common_elements: ['Would you like to turn on ad-blocking in your browser?']\n",
      "common_elements: ['I’m really sorry to hear that! Could you share your order number with me?']\n",
      "common_elements: ['The total amount charged is wrong; it should be $100, not $1000.']\n",
      "common_elements: ['Sure, my transaction ID is 12345 and I converted 100 USD to EUR.']\n",
      "common_elements: ['Have you had any luck finding backup save files or trying out any recovery tools?']\n",
      "common_elements: [\"I'm encountering some unforeseen issues and require extra time to finish the project.\"]\n",
      "common_elements: ['I wear a size 9.']\n",
      "common_elements: [\"I'm a size 9.\"]\n",
      "common_elements: [\"Hi there! I'm here to assist you in finding a personalized product. What kind of item are you looking for?\", \"I'm in the market for running shoes.\", 'Awesome! What size do you typically wear?', 'I wear a size 9.', 'Do you have any favorite brands or specific features in mind?']\n",
      "common_elements: [\"Hi there! I'm here to assist you in finding a customized product. What kind of item are you looking for?\", \"I'm interested in running shoes.\"]\n"
     ]
    },
    {
     "name": "stderr",
     "output_type": "stream",
     "text": [
      "\n"
     ]
    }
   ],
   "source": [
    "errors = []\n",
    "failure_examples = []\n",
    "\n",
    "for i, example in enumerate(tqdm(data)):\n",
    "    dialogues = [dial['messages'] for dial in example['dialogues']]\n",
    "    augmented_dialogues = [dial['messages'] for dial in example['augmented_dialogues']]\n",
    "\n",
    "    for j, aug_dia in enumerate(augmented_dialogues):\n",
    "        try:\n",
    "            if check_no_duplicates_one_dialogue(aug_dia):\n",
    "                continue\n",
    "            else:\n",
    "                failure_examples.append((i, j))\n",
    "        except Exception as e:\n",
    "            errors.append((i, j, e))"
   ]
  },
  {
   "cell_type": "code",
   "execution_count": 177,
   "metadata": {},
   "outputs": [
    {
     "name": "stdout",
     "output_type": "stream",
     "text": [
      "74\n",
      "[(0, 0), (2, 5), (2, 6), (2, 7), (4, 2), (4, 3), (4, 9), (7, 14), (12, 0), (12, 1), (12, 2), (17, 12), (17, 13), (17, 14), (17, 16), (17, 17), (18, 6), (19, 0), (19, 1), (19, 3), (19, 4), (26, 3), (28, 5), (34, 2), (34, 3), (37, 0), (37, 1), (37, 2), (37, 3), (37, 4), (43, 1), (44, 4), (54, 3), (54, 7), (63, 5), (78, 9), (78, 10), (78, 13), (83, 0), (87, 0), (90, 0), (90, 1), (90, 2), (90, 3), (90, 4), (90, 5), (95, 6), (97, 2), (97, 3), (98, 0), (98, 1), (98, 2), (98, 3), (98, 4), (98, 5), (98, 6), (98, 7), (99, 0), (99, 1), (99, 2), (99, 3), (99, 4), (99, 5), (101, 1), (109, 6), (114, 2), (116, 0), (116, 3), (116, 4), (118, 0), (118, 1), (118, 2), (118, 3), (118, 4)]\n"
     ]
    }
   ],
   "source": [
    "print(len(failure_examples))\n",
    "print(failure_examples)"
   ]
  },
  {
   "cell_type": "code",
   "execution_count": 192,
   "metadata": {},
   "outputs": [
    {
     "data": {
      "text/plain": [
       "[(6, 3, TypeError(\"'NoneType' object is not iterable\")),\n",
       " (30, 0, TypeError(\"'NoneType' object is not iterable\")),\n",
       " (66, 1, TypeError(\"'NoneType' object is not iterable\")),\n",
       " (74, 9, TypeError(\"'NoneType' object is not iterable\"))]"
      ]
     },
     "execution_count": 192,
     "metadata": {},
     "output_type": "execute_result"
    }
   ],
   "source": [
    "errors"
   ]
  },
  {
   "cell_type": "markdown",
   "metadata": {},
   "source": [
    "### Checking matching roles and length correctness"
   ]
  },
  {
   "cell_type": "code",
   "execution_count": 193,
   "metadata": {},
   "outputs": [
    {
     "name": "stderr",
     "output_type": "stream",
     "text": [
      "  0%|          | 0/160 [00:00<?, ?it/s]"
     ]
    },
    {
     "name": "stderr",
     "output_type": "stream",
     "text": [
      "100%|██████████| 160/160 [00:00<00:00, 2064.87it/s]\n"
     ]
    }
   ],
   "source": [
    "errors = []\n",
    "failure_examples = []\n",
    "\n",
    "for i, example in enumerate(tqdm(data)):\n",
    "    dialogues = [dial['messages'] for dial in example['dialogues']]\n",
    "    augmented_dialogues = [dial['messages'] for dial in example['augmented_dialogues']]\n",
    "\n",
    "    try:\n",
    "        for j, (orig_dia, aug_dia) in enumerate(zip(dialogues, augmented_dialogues)):\n",
    "            if match_roles(Dialogue.from_list(orig_dia), Dialogue.from_list(aug_dia)):\n",
    "                continue\n",
    "            else:\n",
    "                failure_examples.append((i, j))\n",
    "    except Exception as e:\n",
    "        errors.append((i, j, e))"
   ]
  },
  {
   "cell_type": "code",
   "execution_count": 194,
   "metadata": {},
   "outputs": [
    {
     "name": "stdout",
     "output_type": "stream",
     "text": [
      "0\n",
      "[]\n"
     ]
    }
   ],
   "source": [
    "print(len(failure_examples))\n",
    "print(failure_examples)"
   ]
  },
  {
   "cell_type": "code",
   "execution_count": 195,
   "metadata": {},
   "outputs": [
    {
     "data": {
      "text/plain": [
       "[(6, 3, TypeError(\"'NoneType' object is not iterable\")),\n",
       " (7,\n",
       "  0,\n",
       "  1 validation error for DialogueMessage\n",
       "  participant\n",
       "    Field required [type=missing, input_value={'text': 'Hi'}, input_type=dict]\n",
       "      For further information visit https://errors.pydantic.dev/2.10/v/missing),\n",
       " (30, 0, TypeError(\"'NoneType' object is not iterable\")),\n",
       " (66, 1, TypeError(\"'NoneType' object is not iterable\")),\n",
       " (74, 9, TypeError(\"'NoneType' object is not iterable\")),\n",
       " (122,\n",
       "  5,\n",
       "  1 validation error for DialogueMessage\n",
       "  participant\n",
       "    Field required [type=missing, input_value={'text': \"I'm sorry I cou...esitate to contact us.\"}, input_type=dict]\n",
       "      For further information visit https://errors.pydantic.dev/2.10/v/missing)]"
      ]
     },
     "execution_count": 195,
     "metadata": {},
     "output_type": "execute_result"
    }
   ],
   "source": [
    "errors"
   ]
  },
  {
   "cell_type": "code",
   "execution_count": 196,
   "metadata": {},
   "outputs": [
    {
     "name": "stderr",
     "output_type": "stream",
     "text": [
      "100%|██████████| 160/160 [00:00<00:00, 2220.19it/s]\n"
     ]
    }
   ],
   "source": [
    "errors = []\n",
    "failure_examples = []\n",
    "\n",
    "for i, example in enumerate(tqdm(data)):\n",
    "    dialogues = [dial['messages'] for dial in example['dialogues']]\n",
    "    augmented_dialogues = [dial['messages'] for dial in example['augmented_dialogues']]\n",
    "\n",
    "    try:\n",
    "        for j, (orig_dia, aug_dia) in enumerate(zip(dialogues, augmented_dialogues)):\n",
    "            if is_correct_length(Dialogue.from_list(orig_dia), Dialogue.from_list(aug_dia)):\n",
    "                continue\n",
    "            else:\n",
    "                failure_examples.append((i, j))\n",
    "    except Exception as e:\n",
    "        errors.append((i, j, e))"
   ]
  },
  {
   "cell_type": "code",
   "execution_count": 197,
   "metadata": {},
   "outputs": [
    {
     "name": "stdout",
     "output_type": "stream",
     "text": [
      "4\n",
      "[(27, 2), (54, 1), (92, 0), (92, 6)]\n"
     ]
    }
   ],
   "source": [
    "print(len(failure_examples))\n",
    "print(failure_examples)"
   ]
  },
  {
   "cell_type": "code",
   "execution_count": 198,
   "metadata": {},
   "outputs": [
    {
     "data": {
      "text/plain": [
       "[(6, 3, TypeError(\"'NoneType' object is not iterable\")),\n",
       " (7,\n",
       "  0,\n",
       "  1 validation error for DialogueMessage\n",
       "  participant\n",
       "    Field required [type=missing, input_value={'text': 'Hi'}, input_type=dict]\n",
       "      For further information visit https://errors.pydantic.dev/2.10/v/missing),\n",
       " (30, 0, TypeError(\"'NoneType' object is not iterable\")),\n",
       " (66, 1, TypeError(\"'NoneType' object is not iterable\")),\n",
       " (74, 9, TypeError(\"'NoneType' object is not iterable\")),\n",
       " (122,\n",
       "  5,\n",
       "  1 validation error for DialogueMessage\n",
       "  participant\n",
       "    Field required [type=missing, input_value={'text': \"I'm sorry I cou...esitate to contact us.\"}, input_type=dict]\n",
       "      For further information visit https://errors.pydantic.dev/2.10/v/missing)]"
      ]
     },
     "execution_count": 198,
     "metadata": {},
     "output_type": "execute_result"
    }
   ],
   "source": [
    "errors"
   ]
  },
  {
   "cell_type": "markdown",
   "metadata": {},
   "source": [
    "### check_diagonal_similarity"
   ]
  },
  {
   "cell_type": "code",
   "execution_count": null,
   "metadata": {},
   "outputs": [],
   "source": [
    "def check_diagonal_similarity(dialogue_1, dialogue_2, embedder=os.getenv('EMBEDDER_MODEL')):\n",
    "    utterances_1 = [uttr['text'] for uttr in dialogue_1]\n",
    "    utterances_2 = [uttr['text'] for uttr in dialogue_2]\n",
    "\n",
    "    model = SentenceTransformer(embedder)\n",
    "    embeddings_1 = model.encode(utterances_1)\n",
    "    embeddings_2 = model.encode(utterances_2)\n",
    "\n",
    "    model.similarity_fn_name = 'cosine'    \n",
    "    similarities = model.similarity(embeddings_1, embeddings_2)\n",
    "\n",
    "    diagonal_elements = np.diag(similarities)\n",
    "    non_diagonal_elements = similarities[np.where(~np.eye(len(similarities), dtype=bool))]\n",
    "    \n",
    "    for i in range(len(diagonal_elements)):\n",
    "        if diagonal_elements[i] <= non_diagonal_elements.max():\n",
    "            print('mean aug similarity:', np.mean(diagonal_elements))\n",
    "            return False\n",
    "        \n",
    "    print('mean aug similarity:', np.mean(diagonal_elements))\n",
    "    return True"
   ]
  },
  {
   "cell_type": "code",
   "execution_count": 199,
   "metadata": {},
   "outputs": [
    {
     "data": {
      "text/plain": [
       "True"
      ]
     },
     "execution_count": 199,
     "metadata": {},
     "output_type": "execute_result"
    }
   ],
   "source": [
    "example = data[2]\n",
    "dialogues = [dial['messages'] for dial in example['dialogues']]\n",
    "augmented_dialogues = [dial['messages'] for dial in example['augmented_dialogues']]\n",
    "check_no_duplicates_all_dialogues(augmented_dialogues)"
   ]
  },
  {
   "cell_type": "markdown",
   "metadata": {},
   "source": [
    "Изначально некорректный диалог - 'Hello! How can I assist you today?'/'Hi there! How can I help you today?' в середине диалога."
   ]
  },
  {
   "cell_type": "markdown",
   "metadata": {},
   "source": [
    "Влияет на косинусное сходство."
   ]
  },
  {
   "cell_type": "code",
   "execution_count": 202,
   "metadata": {},
   "outputs": [
    {
     "data": {
      "text/plain": [
       "[{'participant': 'assistant', 'text': 'Hello! How can I assist you today?'},\n",
       " {'participant': 'user',\n",
       "  'text': 'I want to report a fake social media account.'},\n",
       " {'participant': 'assistant',\n",
       "  'text': \"I'm sorry to hear that. Can you provide more details about the fake account?\"},\n",
       " {'participant': 'user', 'text': 'Actually, I want to manage something else.'},\n",
       " {'participant': 'assistant', 'text': 'Sure! How else may I help you today?'},\n",
       " {'participant': 'user', 'text': 'I have another question.'},\n",
       " {'participant': 'assistant', 'text': 'Hello! How can I assist you today?'},\n",
       " {'participant': 'user',\n",
       "  'text': 'I need assistance managing my review responses on Google/Yelp.'},\n",
       " {'participant': 'assistant',\n",
       "  'text': 'Certainly! Are you looking to respond to positive or negative reviews?'},\n",
       " {'participant': 'user', 'text': 'Positive reviews.'},\n",
       " {'participant': 'assistant',\n",
       "  'text': 'Acknowledge positive feedback and thank customers for their support to encourage loyalty.'},\n",
       " {'participant': 'user', 'text': 'Will do, thank you.'},\n",
       " {'participant': 'assistant',\n",
       "  'text': 'Thank you for reaching out. If you need further assistance, feel free to ask. Have a great day!'}]"
      ]
     },
     "execution_count": 202,
     "metadata": {},
     "output_type": "execute_result"
    }
   ],
   "source": [
    "dialogues[5]"
   ]
  },
  {
   "cell_type": "code",
   "execution_count": null,
   "metadata": {},
   "outputs": [
    {
     "data": {
      "text/plain": [
       "[{'text': 'Hi there! How can I help you today?', 'participant': 'assistant'},\n",
       " {'text': 'I need to report a fake account on social media.',\n",
       "  'participant': 'user'},\n",
       " {'text': \"I'm really sorry to hear that. Could you share some details about the account in question?\",\n",
       "  'participant': 'assistant'},\n",
       " {'text': \"Actually, I've got a different issue to address.\",\n",
       "  'participant': 'user'},\n",
       " {'text': 'Of course! What else can I assist you with today?',\n",
       "  'participant': 'assistant'},\n",
       " {'text': 'I have another inquiry.', 'participant': 'user'},\n",
       " {'text': 'Hi there! How can I help you today?', 'participant': 'assistant'},\n",
       " {'text': 'I need help managing my responses to reviews on Google/Yelp.',\n",
       "  'participant': 'user'},\n",
       " {'text': 'Absolutely! Are you focusing on responding to positive reviews or negative ones?',\n",
       "  'participant': 'assistant'},\n",
       " {'text': 'Positive feedback.', 'participant': 'user'},\n",
       " {'text': 'Make sure to express gratitude for the positive comments to strengthen customer loyalty.',\n",
       "  'participant': 'assistant'},\n",
       " {'text': 'Got it, thanks for the advice.', 'participant': 'user'},\n",
       " {'text': 'Thank you for reaching out! If you have any more questions, just let me know. Have a wonderful day!',\n",
       "  'participant': 'assistant'}]"
      ]
     },
     "execution_count": 200,
     "metadata": {},
     "output_type": "execute_result"
    }
   ],
   "source": [
    "augmented_dialogues[5]"
   ]
  },
  {
   "cell_type": "code",
   "execution_count": 169,
   "metadata": {},
   "outputs": [
    {
     "name": "stdout",
     "output_type": "stream",
     "text": [
      "mean aug similarity: 0.95032436\n",
      "False\n",
      "mean aug similarity: 0.9559381\n",
      "False\n",
      "mean aug similarity: 0.9606403\n",
      "False\n",
      "mean aug similarity: 0.9370233\n",
      "False\n",
      "mean aug similarity: 0.9388061\n",
      "False\n"
     ]
    }
   ],
   "source": [
    "for orig_dia, aug_dia in zip(dialogues, augmented_dialogues):\n",
    "    print(check_diagonal_similarity(orig_dia, aug_dia))"
   ]
  }
 ],
 "metadata": {
  "kernelspec": {
   "display_name": "conda_env_py311",
   "language": "python",
   "name": "python3"
  },
  "language_info": {
   "codemirror_mode": {
    "name": "ipython",
    "version": 3
   },
   "file_extension": ".py",
   "mimetype": "text/x-python",
   "name": "python",
   "nbconvert_exporter": "python",
   "pygments_lexer": "ipython3",
   "version": "3.11.11"
  }
 },
 "nbformat": 4,
 "nbformat_minor": 2
}
