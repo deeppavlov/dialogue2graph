{
 "cells": [
  {
   "cell_type": "code",
   "execution_count": 1,
   "id": "37f4645e",
   "metadata": {},
   "outputs": [],
   "source": [
    "from datasets import load_dataset, Dataset\n",
    "import numpy as np"
   ]
  },
  {
   "cell_type": "code",
   "execution_count": 14,
   "id": "f05efa83",
   "metadata": {},
   "outputs": [],
   "source": [
    "from dialogue2graph.pipelines.core.dialogue import Dialogue\n",
    "from dialogue2graph.pipelines.core.graph import Graph"
   ]
  },
  {
   "cell_type": "code",
   "execution_count": 2,
   "id": "b7536a44",
   "metadata": {},
   "outputs": [
    {
     "data": {
      "text/plain": [
       "DatasetDict({\n",
       "    train: Dataset({\n",
       "        features: ['graph', 'topic', 'dialogues', 'augmented_dialogues'],\n",
       "        num_rows: 376\n",
       "    })\n",
       "})"
      ]
     },
     "execution_count": 2,
     "metadata": {},
     "output_type": "execute_result"
    }
   ],
   "source": [
    "dataset = load_dataset(\"DeepPavlov/d2g_generated_augmented\", token=True)\n",
    "dataset"
   ]
  },
  {
   "cell_type": "markdown",
   "id": "fd0acb5c",
   "metadata": {},
   "source": [
    "# Part 1"
   ]
  },
  {
   "cell_type": "markdown",
   "id": "0fa71fc0",
   "metadata": {},
   "source": [
    "- |{dialog+aug_dialog}|= N ~ G1\n",
    "\n",
    "- |{paths}|= N ~ G1\n",
    "\n",
    "\n",
    "G1\n",
    "\n",
    "\n",
    "p1 > {selected_p}\n",
    "\n",
    "{paths - 1} -> p2 - p1 = 4\n",
    "\n",
    "{paths - 1} -> p3 - p1 = 2\n",
    "\n",
    "{paths - 1} -> p4 - p1 = 10 <<<(max_new_elements)\n",
    "\n",
    "{paths - 1} -> p5 - p1 = 1\n",
    "\n",
    "\n",
    "p4 > {selected_p}\n",
    "\n",
    "selected_p = p1 + p4\n",
    "\n",
    "{paths - 2} -> p2 - (p1 + p4) = 0\n",
    "\n",
    "{paths - 2} -> p3 - (p1 + p4) = 1 <<<(max_new_elements)\n",
    "\n",
    "{paths - 2} -> p5 - (p1 + p4) = 0\n",
    "\n",
    "\n",
    "p3 > {selected_p}\n",
    "\n",
    "selected_p = p1 + p4 + p3\n",
    "\n",
    "{paths - 2} -> p2 - (p1 + p4 +p3) = 0\n",
    "\n",
    "{paths - 2} -> p5 - (p1 + p4 +p3) = 0"
   ]
  },
  {
   "cell_type": "markdown",
   "id": "32271149",
   "metadata": {},
   "source": [
    "## Functions"
   ]
  },
  {
   "cell_type": "code",
   "execution_count": 209,
   "id": "fcb82d98",
   "metadata": {},
   "outputs": [],
   "source": [
    "def get_start_dialogue(augmented_dialogues):\n",
    "    max_len = 0\n",
    "    idx_to_choose_from = []\n",
    "    for aug_dia in augmented_dialogues:\n",
    "        if len(aug_dia['messages']) >= max_len:\n",
    "            max_len = len(aug_dia['messages'])\n",
    "\n",
    "    for i, aug_dia in enumerate(augmented_dialogues):\n",
    "        if len(aug_dia['messages']) == max_len:\n",
    "            idx_to_choose_from.append(i)\n",
    "\n",
    "    if len(idx_to_choose_from) == 1:\n",
    "        idx = idx_to_choose_from[0]\n",
    "    else:\n",
    "        idx = np.random.choice(idx_to_choose_from)\n",
    "    \n",
    "    return idx, augmented_dialogues[idx]"
   ]
  },
  {
   "cell_type": "code",
   "execution_count": 211,
   "id": "039a1c3b",
   "metadata": {},
   "outputs": [],
   "source": [
    "def add_elements_to_paths(start_dialogue, graph):\n",
    "    # add id to each edge\n",
    "    for edge in graph['edges']:\n",
    "        edge_id = str(edge['source']) + '_' + str(edge['target'])\n",
    "        edge['id'] = edge_id\n",
    "\n",
    "    paths = {}\n",
    "    paths['nodes'] = []; paths['edges'] = []\n",
    "\n",
    "    for turn in start_dialogue['messages']:\n",
    "        if turn['participant'] == 'assistant':\n",
    "            key = 'nodes'\n",
    "        elif turn['participant'] == 'user':\n",
    "            key = 'edges'\n",
    "\n",
    "        for element in graph[key]:\n",
    "            if turn['text'] in element['utterances']:\n",
    "                paths[key].append(element['id'])\n",
    "        \n",
    "    paths['nodes'] = set(paths['nodes'])\n",
    "    paths['edges'] = set(paths['edges'])\n",
    "                \n",
    "    return paths"
   ]
  },
  {
   "cell_type": "code",
   "execution_count": 212,
   "id": "fbe5e915",
   "metadata": {},
   "outputs": [],
   "source": [
    "def count_new_elements(paths, new_paths):\n",
    "    new_nodes = new_paths['nodes'].difference(paths['nodes'])\n",
    "    new_edges = new_paths['edges'].difference(paths['edges'])\n",
    "    new_elements = len(new_nodes) + len(new_edges)\n",
    "    return new_elements"
   ]
  },
  {
   "cell_type": "code",
   "execution_count": 213,
   "id": "d98828ae",
   "metadata": {},
   "outputs": [],
   "source": [
    "def get_max_new_elements(augmented_dialogues, added_idx, graph, paths):\n",
    "    all_new_elements_per_dia = []\n",
    "    all_paths_per_dia = []\n",
    "    max_new_elements = 0\n",
    "\n",
    "    for i, aug_dia in enumerate(augmented_dialogues):\n",
    "        if i in added_idx:\n",
    "            continue\n",
    "        else:\n",
    "            new_paths = add_elements_to_paths(aug_dia, graph)\n",
    "            all_paths_per_dia.append((i, new_paths))\n",
    "\n",
    "            new_elements = count_new_elements(paths, new_paths)        \n",
    "            all_new_elements_per_dia.append((i, new_elements)) \n",
    "\n",
    "            if new_elements >= max_new_elements:\n",
    "                max_new_elements = new_elements\n",
    "    \n",
    "    return all_new_elements_per_dia, all_paths_per_dia, max_new_elements"
   ]
  },
  {
   "cell_type": "code",
   "execution_count": 214,
   "id": "e554974c",
   "metadata": {},
   "outputs": [],
   "source": [
    "def get_idx_and_paths_to_add(added_idx, all_new_elements_per_dia, all_paths_per_dia, max_new_elements):\n",
    "    if max_new_elements == 0:\n",
    "        return (None, f'no new elements in remaining dialogues')\n",
    "    \n",
    "    idx_to_choose_from = []\n",
    "        \n",
    "    for i, count in all_new_elements_per_dia:\n",
    "        if i in added_idx:\n",
    "            continue\n",
    "        else:\n",
    "            if count == max_new_elements:\n",
    "                idx_to_choose_from.append(i)\n",
    "    \n",
    "    if len(idx_to_choose_from) == 1:\n",
    "        idx_to_add = idx_to_choose_from[0]\n",
    "    else:\n",
    "        idx_to_add = np.random.choice(idx_to_choose_from)\n",
    "\n",
    "    for i, new_paths in all_paths_per_dia:\n",
    "        if i == idx_to_add:\n",
    "            paths_to_add = new_paths\n",
    "                \n",
    "    return idx_to_add, paths_to_add"
   ]
  },
  {
   "cell_type": "code",
   "execution_count": 215,
   "id": "dcca27a1",
   "metadata": {},
   "outputs": [],
   "source": [
    "def add_new_elements_to_paths(paths, new_elements):\n",
    "    paths['nodes'] = paths['nodes'].union(new_elements['nodes'])\n",
    "    paths['edges'] = paths['edges'].union(new_elements['edges'])\n",
    "    return paths"
   ]
  },
  {
   "cell_type": "markdown",
   "id": "220f97a6",
   "metadata": {},
   "source": [
    "## Testing"
   ]
  },
  {
   "cell_type": "code",
   "execution_count": 250,
   "id": "521ad591",
   "metadata": {},
   "outputs": [
    {
     "data": {
      "text/plain": [
       "6"
      ]
     },
     "execution_count": 250,
     "metadata": {},
     "output_type": "execute_result"
    }
   ],
   "source": [
    "example = dataset['train'][0]\n",
    "graph = example['graph']\n",
    "augmented_dialogues = example['dialogues']\n",
    "len(augmented_dialogues)"
   ]
  },
  {
   "cell_type": "code",
   "execution_count": 251,
   "id": "909a1bcb",
   "metadata": {},
   "outputs": [
    {
     "data": {
      "text/plain": [
       "(1, 23)"
      ]
     },
     "execution_count": 251,
     "metadata": {},
     "output_type": "execute_result"
    }
   ],
   "source": [
    "start_idx, start_dia = get_start_dialogue(augmented_dialogues)\n",
    "start_idx, len(start_dia['messages'])"
   ]
  },
  {
   "cell_type": "code",
   "execution_count": 252,
   "id": "95a9f52f",
   "metadata": {},
   "outputs": [
    {
     "data": {
      "text/plain": [
       "(8, 8)"
      ]
     },
     "execution_count": 252,
     "metadata": {},
     "output_type": "execute_result"
    }
   ],
   "source": [
    "paths = add_elements_to_paths(start_dia, graph)\n",
    "len(paths['nodes']), len(paths['edges'])"
   ]
  },
  {
   "cell_type": "code",
   "execution_count": 253,
   "id": "ab999559",
   "metadata": {},
   "outputs": [
    {
     "data": {
      "text/plain": [
       "{'nodes': {1, 2, 4, 5, 6, 7, 8, 9},\n",
       " 'edges': {'1_2', '2_5', '5_6', '6_7', '7_8', '8_4', '8_9', '9_5'}}"
      ]
     },
     "execution_count": 253,
     "metadata": {},
     "output_type": "execute_result"
    }
   ],
   "source": [
    "paths"
   ]
  },
  {
   "cell_type": "markdown",
   "id": "d77f3921",
   "metadata": {},
   "source": [
    "round 1"
   ]
  },
  {
   "cell_type": "code",
   "execution_count": 254,
   "id": "d3e70dc1",
   "metadata": {},
   "outputs": [
    {
     "data": {
      "text/plain": [
       "([(0, 0), (2, 1), (3, 2), (4, 2), (5, 1)],\n",
       " [(0,\n",
       "   {'nodes': {1, 2, 4, 5, 6, 7, 8, 9},\n",
       "    'edges': {'1_2', '2_5', '5_6', '6_7', '7_8', '8_4', '8_9', '9_5'}}),\n",
       "  (2,\n",
       "   {'nodes': {1, 2, 4, 5, 6, 7, 8},\n",
       "    'edges': {'1_2', '2_5', '5_6', '6_2', '6_7', '7_8', '8_4'}}),\n",
       "  (3, {'nodes': {1, 3}, 'edges': {'1_3'}}),\n",
       "  (4, {'nodes': {1, 3}, 'edges': {'1_3'}}),\n",
       "  (5, {'nodes': {1, 4}, 'edges': {'1_4'}})],\n",
       " 2)"
      ]
     },
     "execution_count": 254,
     "metadata": {},
     "output_type": "execute_result"
    }
   ],
   "source": [
    "added_idx = []\n",
    "added_idx.append(start_idx)\n",
    "\n",
    "all_new_elements_per_dia, all_paths_per_dia, max_new_elements = get_max_new_elements(augmented_dialogues, added_idx, graph, paths)\n",
    "all_new_elements_per_dia, all_paths_per_dia, max_new_elements"
   ]
  },
  {
   "cell_type": "code",
   "execution_count": 255,
   "id": "3e690a02",
   "metadata": {},
   "outputs": [
    {
     "data": {
      "text/plain": [
       "(3, {'nodes': {1, 3}, 'edges': {'1_3'}})"
      ]
     },
     "execution_count": 255,
     "metadata": {},
     "output_type": "execute_result"
    }
   ],
   "source": [
    "idx_to_add, paths_to_add = get_idx_and_paths_to_add(added_idx, all_new_elements_per_dia, all_paths_per_dia, max_new_elements)\n",
    "idx_to_add, paths_to_add"
   ]
  },
  {
   "cell_type": "code",
   "execution_count": 256,
   "id": "b2dd4d55",
   "metadata": {},
   "outputs": [
    {
     "data": {
      "text/plain": [
       "([1, 3],\n",
       " {'nodes': {1, 2, 3, 4, 5, 6, 7, 8, 9},\n",
       "  'edges': {'1_2', '1_3', '2_5', '5_6', '6_7', '7_8', '8_4', '8_9', '9_5'}})"
      ]
     },
     "execution_count": 256,
     "metadata": {},
     "output_type": "execute_result"
    }
   ],
   "source": [
    "added_idx.append(idx_to_add)\n",
    "paths = add_new_elements_to_paths(paths, paths_to_add)\n",
    "added_idx, paths"
   ]
  },
  {
   "cell_type": "markdown",
   "id": "5e82c341",
   "metadata": {},
   "source": [
    "2 round"
   ]
  },
  {
   "cell_type": "code",
   "execution_count": 257,
   "id": "7890d22c",
   "metadata": {},
   "outputs": [
    {
     "data": {
      "text/plain": [
       "([(0, 0), (2, 1), (4, 0), (5, 1)],\n",
       " [(0,\n",
       "   {'nodes': {1, 2, 4, 5, 6, 7, 8, 9},\n",
       "    'edges': {'1_2', '2_5', '5_6', '6_7', '7_8', '8_4', '8_9', '9_5'}}),\n",
       "  (2,\n",
       "   {'nodes': {1, 2, 4, 5, 6, 7, 8},\n",
       "    'edges': {'1_2', '2_5', '5_6', '6_2', '6_7', '7_8', '8_4'}}),\n",
       "  (4, {'nodes': {1, 3}, 'edges': {'1_3'}}),\n",
       "  (5, {'nodes': {1, 4}, 'edges': {'1_4'}})],\n",
       " 1)"
      ]
     },
     "execution_count": 257,
     "metadata": {},
     "output_type": "execute_result"
    }
   ],
   "source": [
    "all_new_elements_per_dia, all_paths_per_dia, max_new_elements = get_max_new_elements(augmented_dialogues, added_idx, graph, paths)\n",
    "all_new_elements_per_dia, all_paths_per_dia, max_new_elements"
   ]
  },
  {
   "cell_type": "code",
   "execution_count": 258,
   "id": "cea213b1",
   "metadata": {},
   "outputs": [
    {
     "data": {
      "text/plain": [
       "(5, {'nodes': {1, 4}, 'edges': {'1_4'}})"
      ]
     },
     "execution_count": 258,
     "metadata": {},
     "output_type": "execute_result"
    }
   ],
   "source": [
    "idx_to_add, paths_to_add = get_idx_and_paths_to_add(added_idx, all_new_elements_per_dia, all_paths_per_dia, max_new_elements)\n",
    "idx_to_add, paths_to_add"
   ]
  },
  {
   "cell_type": "code",
   "execution_count": 259,
   "id": "355a0211",
   "metadata": {},
   "outputs": [
    {
     "data": {
      "text/plain": [
       "([1, 3, 5],\n",
       " {'nodes': {1, 2, 3, 4, 5, 6, 7, 8, 9},\n",
       "  'edges': {'1_2',\n",
       "   '1_3',\n",
       "   '1_4',\n",
       "   '2_5',\n",
       "   '5_6',\n",
       "   '6_7',\n",
       "   '7_8',\n",
       "   '8_4',\n",
       "   '8_9',\n",
       "   '9_5'}})"
      ]
     },
     "execution_count": 259,
     "metadata": {},
     "output_type": "execute_result"
    }
   ],
   "source": [
    "added_idx.append(idx_to_add)\n",
    "paths = add_new_elements_to_paths(paths, paths_to_add)\n",
    "added_idx, paths"
   ]
  },
  {
   "cell_type": "markdown",
   "id": "efd8bae1",
   "metadata": {},
   "source": [
    "round 3"
   ]
  },
  {
   "cell_type": "code",
   "execution_count": 260,
   "id": "c12821a2",
   "metadata": {},
   "outputs": [
    {
     "data": {
      "text/plain": [
       "([(0, 0), (2, 1), (4, 0)],\n",
       " [(0,\n",
       "   {'nodes': {1, 2, 4, 5, 6, 7, 8, 9},\n",
       "    'edges': {'1_2', '2_5', '5_6', '6_7', '7_8', '8_4', '8_9', '9_5'}}),\n",
       "  (2,\n",
       "   {'nodes': {1, 2, 4, 5, 6, 7, 8},\n",
       "    'edges': {'1_2', '2_5', '5_6', '6_2', '6_7', '7_8', '8_4'}}),\n",
       "  (4, {'nodes': {1, 3}, 'edges': {'1_3'}})],\n",
       " 1)"
      ]
     },
     "execution_count": 260,
     "metadata": {},
     "output_type": "execute_result"
    }
   ],
   "source": [
    "all_new_elements_per_dia, all_paths_per_dia, max_new_elements = get_max_new_elements(augmented_dialogues, added_idx, graph, paths)\n",
    "all_new_elements_per_dia, all_paths_per_dia, max_new_elements"
   ]
  },
  {
   "cell_type": "code",
   "execution_count": 261,
   "id": "bcfda889",
   "metadata": {},
   "outputs": [
    {
     "data": {
      "text/plain": [
       "(2,\n",
       " {'nodes': {1, 2, 4, 5, 6, 7, 8},\n",
       "  'edges': {'1_2', '2_5', '5_6', '6_2', '6_7', '7_8', '8_4'}})"
      ]
     },
     "execution_count": 261,
     "metadata": {},
     "output_type": "execute_result"
    }
   ],
   "source": [
    "idx_to_add, paths_to_add = get_idx_and_paths_to_add(added_idx, all_new_elements_per_dia, all_paths_per_dia, max_new_elements)\n",
    "idx_to_add, paths_to_add"
   ]
  },
  {
   "cell_type": "code",
   "execution_count": 262,
   "id": "728566b6",
   "metadata": {},
   "outputs": [
    {
     "data": {
      "text/plain": [
       "([1, 3, 5, 2],\n",
       " {'nodes': {1, 2, 3, 4, 5, 6, 7, 8, 9},\n",
       "  'edges': {'1_2',\n",
       "   '1_3',\n",
       "   '1_4',\n",
       "   '2_5',\n",
       "   '5_6',\n",
       "   '6_2',\n",
       "   '6_7',\n",
       "   '7_8',\n",
       "   '8_4',\n",
       "   '8_9',\n",
       "   '9_5'}})"
      ]
     },
     "execution_count": 262,
     "metadata": {},
     "output_type": "execute_result"
    }
   ],
   "source": [
    "added_idx.append(idx_to_add)\n",
    "paths = add_new_elements_to_paths(paths, paths_to_add)\n",
    "added_idx, paths"
   ]
  },
  {
   "cell_type": "markdown",
   "id": "dff03a29",
   "metadata": {},
   "source": [
    "round 4"
   ]
  },
  {
   "cell_type": "code",
   "execution_count": 263,
   "id": "bc8065cd",
   "metadata": {},
   "outputs": [
    {
     "data": {
      "text/plain": [
       "([(0, 0), (4, 0)],\n",
       " [(0,\n",
       "   {'nodes': {1, 2, 4, 5, 6, 7, 8, 9},\n",
       "    'edges': {'1_2', '2_5', '5_6', '6_7', '7_8', '8_4', '8_9', '9_5'}}),\n",
       "  (4, {'nodes': {1, 3}, 'edges': {'1_3'}})],\n",
       " 0)"
      ]
     },
     "execution_count": 263,
     "metadata": {},
     "output_type": "execute_result"
    }
   ],
   "source": [
    "all_new_elements_per_dia, all_paths_per_dia, max_new_elements = get_max_new_elements(augmented_dialogues, added_idx, graph, paths)\n",
    "all_new_elements_per_dia, all_paths_per_dia, max_new_elements"
   ]
  },
  {
   "cell_type": "code",
   "execution_count": 264,
   "id": "84207020",
   "metadata": {},
   "outputs": [
    {
     "data": {
      "text/plain": [
       "(None, 'no new elements in remaining dialogues')"
      ]
     },
     "execution_count": 264,
     "metadata": {},
     "output_type": "execute_result"
    }
   ],
   "source": [
    "idx_to_add, paths_to_add = get_idx_and_paths_to_add(added_idx, all_new_elements_per_dia, all_paths_per_dia, max_new_elements)\n",
    "idx_to_add, paths_to_add"
   ]
  },
  {
   "cell_type": "markdown",
   "id": "f65425e8",
   "metadata": {},
   "source": [
    "### whole algorithm:"
   ]
  },
  {
   "cell_type": "code",
   "execution_count": 269,
   "id": "4ea3506a",
   "metadata": {},
   "outputs": [
    {
     "name": "stdout",
     "output_type": "stream",
     "text": [
      "{'nodes': {1, 2, 4, 5, 6, 7, 8, 9}, 'edges': {'7_8', '5_6', '2_5', '6_7', '8_9', '9_5', '1_2', '8_4'}}\n"
     ]
    },
    {
     "data": {
      "text/plain": [
       "([0, 3, 5, 2],\n",
       " {'nodes': {1, 2, 3, 4, 5, 6, 7, 8, 9},\n",
       "  'edges': {'1_2',\n",
       "   '1_3',\n",
       "   '1_4',\n",
       "   '2_5',\n",
       "   '5_6',\n",
       "   '6_2',\n",
       "   '6_7',\n",
       "   '7_8',\n",
       "   '8_4',\n",
       "   '8_9',\n",
       "   '9_5'}})"
      ]
     },
     "execution_count": 269,
     "metadata": {},
     "output_type": "execute_result"
    }
   ],
   "source": [
    "start_idx, start_dia = get_start_dialogue(augmented_dialogues)\n",
    "paths = add_elements_to_paths(start_dia, graph)\n",
    "print(paths)\n",
    "\n",
    "added_idx = []\n",
    "added_idx.append(start_idx)\n",
    "iters = 0\n",
    "while iters < 100:\n",
    "    all_new_elements_per_dia, all_paths_per_dia, max_new_elements = get_max_new_elements(\n",
    "        augmented_dialogues, added_idx, graph, paths\n",
    "        )\n",
    "    idx_to_add, paths_to_add = get_idx_and_paths_to_add(\n",
    "        added_idx, all_new_elements_per_dia, all_paths_per_dia, max_new_elements\n",
    "        )\n",
    "    if paths_to_add == 'no new elements in remaining dialogues':\n",
    "        break\n",
    "    else:\n",
    "        added_idx.append(idx_to_add)\n",
    "        paths = add_new_elements_to_paths(paths, paths_to_add)\n",
    "added_idx, paths"
   ]
  },
  {
   "cell_type": "markdown",
   "id": "bc26a2b3",
   "metadata": {},
   "source": [
    "It means we need only 4 dialogues out of 6 (ids 0, 2, 4, 5) to fully cover the graph."
   ]
  },
  {
   "cell_type": "markdown",
   "id": "4088229d",
   "metadata": {},
   "source": [
    "# Part 2"
   ]
  },
  {
   "cell_type": "markdown",
   "id": "31aa4338",
   "metadata": {},
   "source": [
    "|p1| = 3\n",
    "\n",
    "|p4| = 1\n",
    "\n",
    "|p3| = 1 <<< (min_dialog)\n",
    "\n",
    "\n",
    "p3-d1 + p4-d1 union\n",
    "\n",
    "\n",
    "p3 + p4 union p1 = share_elements\n",
    "\n",
    "\n",
    "final_scores\n",
    "\n",
    "for dialog in p1\n",
    "\n",
    "sim_scores = []\n",
    "\n",
    "for el in share_elements\n",
    "\n",
    "sim_scores += [max(sim(dialog[el], p3-d1[el]),sim(dialog[el], p4-d1[el]))]\n",
    "\n",
    "\n",
    "final_scores += sum(sim_scores)\n",
    "\n",
    "\n",
    "minarg(final_scores) -> dialog_index\n",
    "\n",
    "p1[dialog_index]"
   ]
  }
 ],
 "metadata": {
  "kernelspec": {
   "display_name": "conda_env_py311",
   "language": "python",
   "name": "python3"
  },
  "language_info": {
   "codemirror_mode": {
    "name": "ipython",
    "version": 3
   },
   "file_extension": ".py",
   "mimetype": "text/x-python",
   "name": "python",
   "nbconvert_exporter": "python",
   "pygments_lexer": "ipython3",
   "version": "3.11.11"
  }
 },
 "nbformat": 4,
 "nbformat_minor": 5
}
