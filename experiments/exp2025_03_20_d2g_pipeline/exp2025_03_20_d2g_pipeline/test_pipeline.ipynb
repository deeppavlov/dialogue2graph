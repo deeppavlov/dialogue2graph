{
 "cells": [
  {
   "cell_type": "code",
   "execution_count": 1,
   "metadata": {},
   "outputs": [],
   "source": [
    "import json\n",
    "import os\n",
    "import dotenv"
   ]
  },
  {
   "cell_type": "code",
   "execution_count": 2,
   "metadata": {},
   "outputs": [],
   "source": [
    "%load_ext autoreload\n",
    "%autoreload 2"
   ]
  },
  {
   "cell_type": "code",
   "execution_count": null,
   "metadata": {},
   "outputs": [],
   "source": [
    "from dialogue2graph import metrics\n",
    "from dialogue2graph.pipelines.core.graph import Graph\n",
    "from dialogue2graph.pipelines.model_storage import ModelStorage\n",
    "from dialogue2graph.pipelines.helpers.parse_data import PipelineRawDataType"
   ]
  },
  {
   "cell_type": "code",
   "execution_count": 4,
   "metadata": {},
   "outputs": [
    {
     "data": {
      "text/plain": [
       "True"
      ]
     },
     "execution_count": 4,
     "metadata": {},
     "output_type": "execute_result"
    }
   ],
   "source": [
    "dotenv.load_dotenv()"
   ]
  },
  {
   "cell_type": "code",
   "execution_count": 5,
   "metadata": {},
   "outputs": [],
   "source": [
    "ms = ModelStorage()"
   ]
  },
  {
   "cell_type": "code",
   "execution_count": null,
   "metadata": {},
   "outputs": [],
   "source": [
    "ms.add(\n",
    "    key=\"grouping_llm\",\n",
    "    config={\n",
    "        \"model_name\": \"chatgpt-4o-latest\",\n",
    "        \"temperature\": 0,\n",
    "        \"api_key\": os.getenv(\"OPENAI_API_KEY\"),\n",
    "        \"base_url\": os.getenv(\"OPENAI_BASE_URL\"),\n",
    "    },\n",
    "    model_type=\"llm\",\n",
    ")\n",
    "ms.add(\n",
    "    key=\"extending_llm\",\n",
    "    config={\n",
    "        \"model_name\": \"chatgpt-4o-latest\",\n",
    "        \"temperature\": 0,\n",
    "        \"api_key\": os.getenv(\"OPENAI_API_KEY\"),\n",
    "        \"base_url\": os.getenv(\"OPENAI_BASE_URL\"),\n",
    "    },\n",
    "    model_type=\"llm\",\n",
    ")\n",
    "ms.add(\n",
    "    key=\"filling_llm\",\n",
    "    config={\n",
    "        \"model_name\": \"o3-mini\",\n",
    "        \"temperature\": 1,\n",
    "        \"api_key\": os.getenv(\"OPENAI_API_KEY\"),\n",
    "        \"base_url\": os.getenv(\"OPENAI_BASE_URL\"),\n",
    "    },\n",
    "    model_type=\"llm\",\n",
    ")\n",
    "ms.add(\n",
    "    key=\"formatting_llm\",\n",
    "    config={\n",
    "        \"model_name\": \"gpt-4o-mini\",\n",
    "        \"temperature\": 0,\n",
    "        \"api_key\": os.getenv(\"OPENAI_API_KEY\"),\n",
    "        \"base_url\": os.getenv(\"OPENAI_BASE_URL\"),\n",
    "    },\n",
    "    model_type=\"llm\",\n",
    ")\n",
    "ms.add(\n",
    "    key=\"sim_model\",\n",
    "    config={\"model_name\": \"BAAI/bge-m3\", \"device\": \"cuda:0\"},\n",
    "    model_type=\"emb\",\n",
    ")"
   ]
  },
  {
   "cell_type": "markdown",
   "metadata": {},
   "source": [
    "### D2G Algo pipeline"
   ]
  },
  {
   "cell_type": "code",
   "execution_count": null,
   "metadata": {},
   "outputs": [],
   "source": [
    "from dialogue2graph.pipelines.d2g_light.pipeline import Pipeline\n",
    "\n",
    "pipeline = Pipeline(\n",
    "    name=\"d2g_light\",\n",
    "    model_storage=ms,\n",
    "    filling_llm=\"filling_llm\",\n",
    "    formatting_llm=\"formatting_llm\",\n",
    "    sim_model=\"sim_model\",\n",
    "    step2_evals=metrics.DGEvalBase,\n",
    "    end_evals=metrics.DGEvalBase,\n",
    ")"
   ]
  },
  {
   "cell_type": "code",
   "execution_count": null,
   "metadata": {},
   "outputs": [],
   "source": [
    "data = [\n",
    "    {\"text\": \"Hey there! How can I help you today?\", \"participant\": \"assistant\"},\n",
    "    {\"text\": \"I need to book a ride to the airport.\", \"participant\": \"user\"},\n",
    "    {\n",
    "        \"text\": \"Sure! I can help with that. When is your flight, and where are you departing from?\",\n",
    "        \"participant\": \"assistant\",\n",
    "    },\n",
    "    {\"text\": \"Do you have any other options?\", \"participant\": \"user\"},\n",
    "    {\n",
    "        \"text\": \"If you'd prefer, I can send you options for ride-share services instead. Would you like that?\",\n",
    "        \"participant\": \"assistant\",\n",
    "    },\n",
    "    {\"text\": \"No, I'll manage on my own.\", \"participant\": \"user\"},\n",
    "    {\"text\": \"No worries! Feel free to reach out anytime.\", \"participant\": \"assistant\"},\n",
    "    {\"text\": \"Alright, thanks anyway.\", \"participant\": \"user\"},\n",
    "    {\"text\": \"You're welcome! Have a fantastic trip!\", \"participant\": \"assistant\"},\n",
    "]\n",
    "raw_data = PipelineRawDataType(dialogs=data)\n",
    "graph, report = pipeline.invoke(raw_data)\n",
    "graph.visualise_short(\"transfer\")"
   ]
  },
  {
   "cell_type": "code",
   "execution_count": null,
   "metadata": {},
   "outputs": [],
   "source": [
    "data = [\n",
    "    [\n",
    "        {\"text\": \"Hey there! How can I help you today?\", \"participant\": \"assistant\"},\n",
    "        {\"text\": \"I need to book a ride to the airport.\", \"participant\": \"user\"},\n",
    "        {\n",
    "            \"text\": \"Sure! I can help with that. When is your flight, and where are you departing from?\",\n",
    "            \"participant\": \"assistant\",\n",
    "        },\n",
    "        {\"text\": \"Do you have any other options?\", \"participant\": \"user\"},\n",
    "        {\n",
    "            \"text\": \"If you'd prefer, I can send you options for ride-share services instead. Would you like that?\",\n",
    "            \"participant\": \"assistant\",\n",
    "        },\n",
    "        {\"text\": \"Actually, never mind.\", \"participant\": \"user\"},\n",
    "        {\n",
    "            \"text\": \"Alright, let me know if you need help later. Have a great day!\",\n",
    "            \"participant\": \"assistant\",\n",
    "        },\n",
    "        {\"text\": \"Okay, have a great day!\", \"participant\": \"user\"},\n",
    "        {\"text\": \"Glad to help! Safe travels.\", \"participant\": \"assistant\"},\n",
    "    ],\n",
    "    [\n",
    "        {\"text\": \"Hey there! How can I help you today?\", \"participant\": \"assistant\"},\n",
    "        {\"text\": \"I need to book a ride to the airport.\", \"participant\": \"user\"},\n",
    "        {\n",
    "            \"text\": \"Sure! I can help with that. When is your flight, and where are you departing from?\",\n",
    "            \"participant\": \"assistant\",\n",
    "        },\n",
    "        {\"text\": \"Do you have any other options?\", \"participant\": \"user\"},\n",
    "        {\n",
    "            \"text\": \"If you'd prefer, I can send you options for ride-share services instead. Would you like that?\",\n",
    "            \"participant\": \"assistant\",\n",
    "        },\n",
    "        {\"text\": \"No, I'll manage on my own.\", \"participant\": \"user\"},\n",
    "        {\n",
    "            \"text\": \"No worries! Feel free to reach out anytime.\",\n",
    "            \"participant\": \"assistant\",\n",
    "        },\n",
    "        {\"text\": \"Alright, thanks anyway.\", \"participant\": \"user\"},\n",
    "        {\"text\": \"You're welcome! Have a fantastic trip!\", \"participant\": \"assistant\"},\n",
    "    ],\n",
    "]\n",
    "raw_data = PipelineRawDataType(dialogs=data)\n",
    "graph, report = pipeline.invoke(raw_data)\n",
    "graph.visualise_short(\"transfer\")"
   ]
  },
  {
   "cell_type": "code",
   "execution_count": null,
   "metadata": {},
   "outputs": [],
   "source": [
    "data = [\n",
    "    {\n",
    "        \"messages\": [\n",
    "            {\n",
    "                \"text\": \"Hey there! How can I help you today?\",\n",
    "                \"participant\": \"assistant\",\n",
    "            },\n",
    "            {\"text\": \"I need to book a ride to the airport.\", \"participant\": \"user\"},\n",
    "            {\n",
    "                \"text\": \"Sure! I can help with that. When is your flight, and where are you departing from?\",\n",
    "                \"participant\": \"assistant\",\n",
    "            },\n",
    "            {\"text\": \"Do you have any other options?\", \"participant\": \"user\"},\n",
    "            {\n",
    "                \"text\": \"If you'd prefer, I can send you options for ride-share services instead. Would you like that?\",\n",
    "                \"participant\": \"assistant\",\n",
    "            },\n",
    "            {\"text\": \"No, I'll manage on my own.\", \"participant\": \"user\"},\n",
    "            {\n",
    "                \"text\": \"No worries! Feel free to reach out anytime.\",\n",
    "                \"participant\": \"assistant\",\n",
    "            },\n",
    "            {\"text\": \"Alright, thanks anyway.\", \"participant\": \"user\"},\n",
    "            {\n",
    "                \"text\": \"You're welcome! Have a fantastic trip!\",\n",
    "                \"participant\": \"assistant\",\n",
    "            },\n",
    "        ]\n",
    "    }\n",
    "]\n",
    "raw_data = PipelineRawDataType(dialogs=data)\n",
    "graph, report = pipeline.invoke(raw_data)\n",
    "graph.visualise_short(\"transfer\")"
   ]
  },
  {
   "cell_type": "code",
   "execution_count": null,
   "metadata": {},
   "outputs": [],
   "source": [
    "with open(\"transfer.json\") as f:\n",
    "    data = json.load(f)\n",
    "\n",
    "raw_data = PipelineRawDataType(dialogs=data)\n",
    "graph, report = pipeline.invoke(raw_data)\n",
    "graph.visualise_short(\"transfer\")"
   ]
  },
  {
   "cell_type": "code",
   "execution_count": null,
   "metadata": {},
   "outputs": [],
   "source": [
    "with open(\"test_graph_1.json\", encoding=\"utf-8\") as f:\n",
    "    data = json.load(f)\n",
    "Graph(data[\"true_graph\"]).visualise_short(\n",
    "    \"Fixing a calendar sync delay with time zones\"\n",
    ")"
   ]
  },
  {
   "cell_type": "code",
   "execution_count": null,
   "metadata": {},
   "outputs": [],
   "source": [
    "raw_data = PipelineRawDataType(dialogs=\"test_graph_1.json\")\n",
    "graph, report = pipeline.invoke(raw_data)\n",
    "graph.visualise_short(\"Fixing a calendar sync delay with time zones\")"
   ]
  },
  {
   "cell_type": "code",
   "execution_count": null,
   "metadata": {},
   "outputs": [],
   "source": [
    "raw_data = PipelineRawDataType(dialogs=data[\"dialogs\"], true_graph=data[\"true_graph\"])\n",
    "graph, report = pipeline.invoke(raw_data, enable_evals=True)\n",
    "report"
   ]
  },
  {
   "cell_type": "markdown",
   "metadata": {},
   "source": [
    "### D2G LLM pipeline"
   ]
  },
  {
   "cell_type": "code",
   "execution_count": 13,
   "metadata": {},
   "outputs": [],
   "source": [
    "from dialogue2graph.pipelines.d2g_llm.pipeline import Pipeline\n",
    "\n",
    "pipeline = Pipeline(\n",
    "    name=\"d2g_llm\",\n",
    "    model_storage=ms,\n",
    "    grouping_llm=\"grouping_llm\",\n",
    "    filling_llm=\"filling_llm\",\n",
    "    formatting_llm=\"formatting_llm\",\n",
    "    sim_model=\"sim_model\",\n",
    "    step2_evals=metrics.DGEvalBase,\n",
    "    end_evals=metrics.DGEvalBase,\n",
    ")"
   ]
  },
  {
   "cell_type": "code",
   "execution_count": null,
   "metadata": {},
   "outputs": [],
   "source": [
    "data = [\n",
    "    {\"text\": \"Hey there! How can I help you today?\", \"participant\": \"assistant\"},\n",
    "    {\"text\": \"I need to book a ride to the airport.\", \"participant\": \"user\"},\n",
    "    {\n",
    "        \"text\": \"Sure! I can help with that. When is your flight, and where are you departing from?\",\n",
    "        \"participant\": \"assistant\",\n",
    "    },\n",
    "    {\"text\": \"Do you have any other options?\", \"participant\": \"user\"},\n",
    "    {\n",
    "        \"text\": \"If you'd prefer, I can send you options for ride-share services instead. Would you like that?\",\n",
    "        \"participant\": \"assistant\",\n",
    "    },\n",
    "    {\"text\": \"No, I'll manage on my own.\", \"participant\": \"user\"},\n",
    "    {\"text\": \"No worries! Feel free to reach out anytime.\", \"participant\": \"assistant\"},\n",
    "    {\"text\": \"Alright, thanks anyway.\", \"participant\": \"user\"},\n",
    "    {\"text\": \"You're welcome! Have a fantastic trip!\", \"participant\": \"assistant\"},\n",
    "]\n",
    "raw_data = PipelineRawDataType(dialogs=data)\n",
    "graph, report = pipeline.invoke(raw_data)\n",
    "graph.visualise_short(\"transfer\")"
   ]
  },
  {
   "cell_type": "code",
   "execution_count": null,
   "metadata": {},
   "outputs": [],
   "source": [
    "data = [\n",
    "    [\n",
    "        {\"text\": \"Hey there! How can I help you today?\", \"participant\": \"assistant\"},\n",
    "        {\"text\": \"I need to book a ride to the airport.\", \"participant\": \"user\"},\n",
    "        {\n",
    "            \"text\": \"Sure! I can help with that. When is your flight, and where are you departing from?\",\n",
    "            \"participant\": \"assistant\",\n",
    "        },\n",
    "        {\"text\": \"Do you have any other options?\", \"participant\": \"user\"},\n",
    "        {\n",
    "            \"text\": \"If you'd prefer, I can send you options for ride-share services instead. Would you like that?\",\n",
    "            \"participant\": \"assistant\",\n",
    "        },\n",
    "        {\"text\": \"Actually, never mind.\", \"participant\": \"user\"},\n",
    "        {\n",
    "            \"text\": \"Alright, let me know if you need help later. Have a great day!\",\n",
    "            \"participant\": \"assistant\",\n",
    "        },\n",
    "        {\"text\": \"Okay, have a great day!\", \"participant\": \"user\"},\n",
    "        {\"text\": \"Glad to help! Safe travels.\", \"participant\": \"assistant\"},\n",
    "    ],\n",
    "    [\n",
    "        {\"text\": \"Hey there! How can I help you today?\", \"participant\": \"assistant\"},\n",
    "        {\"text\": \"I need to book a ride to the airport.\", \"participant\": \"user\"},\n",
    "        {\n",
    "            \"text\": \"Sure! I can help with that. When is your flight, and where are you departing from?\",\n",
    "            \"participant\": \"assistant\",\n",
    "        },\n",
    "        {\"text\": \"Do you have any other options?\", \"participant\": \"user\"},\n",
    "        {\n",
    "            \"text\": \"If you'd prefer, I can send you options for ride-share services instead. Would you like that?\",\n",
    "            \"participant\": \"assistant\",\n",
    "        },\n",
    "        {\"text\": \"No, I'll manage on my own.\", \"participant\": \"user\"},\n",
    "        {\n",
    "            \"text\": \"No worries! Feel free to reach out anytime.\",\n",
    "            \"participant\": \"assistant\",\n",
    "        },\n",
    "        {\"text\": \"Alright, thanks anyway.\", \"participant\": \"user\"},\n",
    "        {\"text\": \"You're welcome! Have a fantastic trip!\", \"participant\": \"assistant\"},\n",
    "    ],\n",
    "]\n",
    "raw_data = PipelineRawDataType(dialogs=data)\n",
    "graph, report = pipeline.invoke(raw_data)\n",
    "graph.visualise_short(\"transfer\")"
   ]
  },
  {
   "cell_type": "code",
   "execution_count": null,
   "metadata": {},
   "outputs": [],
   "source": [
    "data = [\n",
    "    {\n",
    "        \"messages\": [\n",
    "            {\n",
    "                \"text\": \"Hey there! How can I help you today?\",\n",
    "                \"participant\": \"assistant\",\n",
    "            },\n",
    "            {\"text\": \"I need to book a ride to the airport.\", \"participant\": \"user\"},\n",
    "            {\n",
    "                \"text\": \"Sure! I can help with that. When is your flight, and where are you departing from?\",\n",
    "                \"participant\": \"assistant\",\n",
    "            },\n",
    "            {\"text\": \"Do you have any other options?\", \"participant\": \"user\"},\n",
    "            {\n",
    "                \"text\": \"If you'd prefer, I can send you options for ride-share services instead. Would you like that?\",\n",
    "                \"participant\": \"assistant\",\n",
    "            },\n",
    "            {\"text\": \"No, I'll manage on my own.\", \"participant\": \"user\"},\n",
    "            {\n",
    "                \"text\": \"No worries! Feel free to reach out anytime.\",\n",
    "                \"participant\": \"assistant\",\n",
    "            },\n",
    "            {\"text\": \"Alright, thanks anyway.\", \"participant\": \"user\"},\n",
    "            {\n",
    "                \"text\": \"You're welcome! Have a fantastic trip!\",\n",
    "                \"participant\": \"assistant\",\n",
    "            },\n",
    "        ]\n",
    "    }\n",
    "]\n",
    "raw_data = PipelineRawDataType(dialogs=data)\n",
    "graph, report = pipeline.invoke(raw_data)\n",
    "graph.visualise_short(\"transfer\")"
   ]
  },
  {
   "cell_type": "code",
   "execution_count": null,
   "metadata": {},
   "outputs": [],
   "source": [
    "with open(\"transfer.json\") as f:\n",
    "    data = json.load(f)\n",
    "raw_data = PipelineRawDataType(dialogs=data)\n",
    "graph, report = pipeline.invoke(raw_data)\n",
    "graph.visualise_short(\"transfer\")"
   ]
  },
  {
   "cell_type": "code",
   "execution_count": null,
   "metadata": {},
   "outputs": [],
   "source": [
    "with open(\"test_graph_1.json\", encoding=\"utf-8\") as f:\n",
    "    data = json.load(f)\n",
    "raw_data = PipelineRawDataType(dialogs=data[\"dialogs\"], true_graph=data[\"true_graph\"])\n",
    "graph, report = pipeline.invoke(raw_data, enable_evals=True)\n",
    "report"
   ]
  },
  {
   "cell_type": "markdown",
   "metadata": {},
   "source": [
    "### D2G LLM extender"
   ]
  },
  {
   "cell_type": "code",
   "execution_count": 16,
   "metadata": {},
   "outputs": [],
   "source": [
    "from dialogue2graph.pipelines.d2g_extender.pipeline import Pipeline\n",
    "\n",
    "pipeline = Pipeline(\n",
    "    name=\"d2g_ext\",\n",
    "    model_storage=ms,\n",
    "    extending_llm=\"extending_llm\",\n",
    "    filling_llm=\"filling_llm\",\n",
    "    formatting_llm=\"formatting_llm\",\n",
    "    sim_model=\"sim_model\",\n",
    "    step1_evals=metrics.PreDGEvalBase,\n",
    "    extender_evals=metrics.PreDGEvalBase,\n",
    "    step2_evals=metrics.DGEvalBase,\n",
    "    end_evals=metrics.DGEvalBase,\n",
    ")"
   ]
  },
  {
   "cell_type": "code",
   "execution_count": null,
   "metadata": {},
   "outputs": [],
   "source": [
    "data = [\n",
    "    {\"text\": \"Hey there! How can I help you today?\", \"participant\": \"assistant\"},\n",
    "    {\"text\": \"I need to book a ride to the airport.\", \"participant\": \"user\"},\n",
    "    {\n",
    "        \"text\": \"Sure! I can help with that. When is your flight, and where are you departing from?\",\n",
    "        \"participant\": \"assistant\",\n",
    "    },\n",
    "    {\"text\": \"Do you have any other options?\", \"participant\": \"user\"},\n",
    "    {\n",
    "        \"text\": \"If you'd prefer, I can send you options for ride-share services instead. Would you like that?\",\n",
    "        \"participant\": \"assistant\",\n",
    "    },\n",
    "    {\"text\": \"No, I'll manage on my own.\", \"participant\": \"user\"},\n",
    "    {\"text\": \"No worries! Feel free to reach out anytime.\", \"participant\": \"assistant\"},\n",
    "    {\"text\": \"Alright, thanks anyway.\", \"participant\": \"user\"},\n",
    "    {\"text\": \"You're welcome! Have a fantastic trip!\", \"participant\": \"assistant\"},\n",
    "]\n",
    "raw_data = PipelineRawDataType(dialogs=data)\n",
    "graph, report = pipeline.invoke(raw_data)\n",
    "graph.visualise_short(\"transfer\")"
   ]
  },
  {
   "cell_type": "code",
   "execution_count": null,
   "metadata": {},
   "outputs": [],
   "source": [
    "data = [\n",
    "    [\n",
    "        {\"text\": \"Hey there! How can I help you today?\", \"participant\": \"assistant\"},\n",
    "        {\"text\": \"I need to book a ride to the airport.\", \"participant\": \"user\"},\n",
    "        {\n",
    "            \"text\": \"Sure! I can help with that. When is your flight, and where are you departing from?\",\n",
    "            \"participant\": \"assistant\",\n",
    "        },\n",
    "        {\"text\": \"Do you have any other options?\", \"participant\": \"user\"},\n",
    "        {\n",
    "            \"text\": \"If you'd prefer, I can send you options for ride-share services instead. Would you like that?\",\n",
    "            \"participant\": \"assistant\",\n",
    "        },\n",
    "        {\"text\": \"Actually, never mind.\", \"participant\": \"user\"},\n",
    "        {\n",
    "            \"text\": \"Alright, let me know if you need help later. Have a great day!\",\n",
    "            \"participant\": \"assistant\",\n",
    "        },\n",
    "        {\"text\": \"Okay, have a great day!\", \"participant\": \"user\"},\n",
    "        {\"text\": \"Glad to help! Safe travels.\", \"participant\": \"assistant\"},\n",
    "    ]\n",
    "]\n",
    "raw_data = PipelineRawDataType(dialogs=data, supported_graph=graph.graph_dict)\n",
    "graph, report = pipeline.invoke(raw_data)\n",
    "graph.visualise_short(\"transfer\")"
   ]
  },
  {
   "cell_type": "code",
   "execution_count": null,
   "metadata": {},
   "outputs": [],
   "source": [
    "data = [\n",
    "    {\n",
    "        \"messages\": [\n",
    "            {\n",
    "                \"text\": \"Hey there! How can I help you today?\",\n",
    "                \"participant\": \"assistant\",\n",
    "            },\n",
    "            {\"text\": \"I need to book a ride to the airport.\", \"participant\": \"user\"},\n",
    "            {\n",
    "                \"text\": \"Sure! I can help with that. When is your flight, and where are you departing from?\",\n",
    "                \"participant\": \"assistant\",\n",
    "            },\n",
    "            {\"text\": \"Do you have any other options?\", \"participant\": \"user\"},\n",
    "            {\n",
    "                \"text\": \"If you'd prefer, I can send you options for ride-share services instead. Would you like that?\",\n",
    "                \"participant\": \"assistant\",\n",
    "            },\n",
    "            {\"text\": \"No, I'll manage on my own.\", \"participant\": \"user\"},\n",
    "            {\n",
    "                \"text\": \"No worries! Feel free to reach out anytime.\",\n",
    "                \"participant\": \"assistant\",\n",
    "            },\n",
    "            {\"text\": \"Alright, thanks anyway.\", \"participant\": \"user\"},\n",
    "            {\n",
    "                \"text\": \"You're welcome! Have a fantastic trip!\",\n",
    "                \"participant\": \"assistant\",\n",
    "            },\n",
    "        ]\n",
    "    }\n",
    "]\n",
    "raw_data = PipelineRawDataType(dialogs=data)\n",
    "graph, report = pipeline.invoke(raw_data)\n",
    "graph.visualise_short(\"transfer\")"
   ]
  },
  {
   "cell_type": "code",
   "execution_count": null,
   "metadata": {},
   "outputs": [],
   "source": [
    "with open(\"transfer.json\") as f:\n",
    "    data = json.load(f)\n",
    "raw_data = PipelineRawDataType(dialogs=data)\n",
    "graph, report = pipeline.invoke(raw_data)\n",
    "graph.visualise_short(\"transfer\")"
   ]
  },
  {
   "cell_type": "code",
   "execution_count": null,
   "metadata": {},
   "outputs": [],
   "source": [
    "with open(\"test_graph_1.json\", encoding=\"utf-8\") as f:\n",
    "    data = json.load(f)\n",
    "Graph(data[\"true_graph\"]).visualise_short(\n",
    "    \"Fixing a calendar sync delay with time zones\"\n",
    ")"
   ]
  },
  {
   "cell_type": "code",
   "execution_count": null,
   "metadata": {},
   "outputs": [],
   "source": [
    "raw_data = PipelineRawDataType(dialogs=data[\"dialogs\"], true_graph=data[\"true_graph\"])\n",
    "graph, report = pipeline.invoke(raw_data, enable_evals=True)\n",
    "report"
   ]
  },
  {
   "cell_type": "code",
   "execution_count": 23,
   "metadata": {},
   "outputs": [],
   "source": [
    "with open(\"test_metrics_data.json\", encoding=\"utf-8\") as f:\n",
    "    data_2 = json.load(f)"
   ]
  },
  {
   "cell_type": "code",
   "execution_count": null,
   "metadata": {},
   "outputs": [],
   "source": [
    "data_2[2]"
   ]
  },
  {
   "cell_type": "code",
   "execution_count": null,
   "metadata": {},
   "outputs": [],
   "source": [
    "raw_data = PipelineRawDataType(\n",
    "    dialogs=data_2[2][\"dialogues\"], true_graph=data[\"true_graph\"]\n",
    ")\n",
    "graph, report = pipeline.invoke(raw_data, enable_evals=True)\n",
    "report"
   ]
  }
 ],
 "metadata": {
  "kernelspec": {
   "display_name": ".venv",
   "language": "python",
   "name": "python3"
  },
  "language_info": {
   "codemirror_mode": {
    "name": "ipython",
    "version": 3
   },
   "file_extension": ".py",
   "mimetype": "text/x-python",
   "name": "python",
   "nbconvert_exporter": "python",
   "pygments_lexer": "ipython3",
   "version": "3.11.11"
  }
 },
 "nbformat": 4,
 "nbformat_minor": 2
}
