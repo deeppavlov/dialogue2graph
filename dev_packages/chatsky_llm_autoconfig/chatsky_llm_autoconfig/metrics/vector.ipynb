{
 "cells": [
  {
   "cell_type": "code",
   "execution_count": 1,
   "metadata": {},
   "outputs": [],
   "source": [
    "from langchain_chroma import Chroma"
   ]
  },
  {
   "cell_type": "code",
   "execution_count": 2,
   "metadata": {},
   "outputs": [],
   "source": [
    "from chatsky_llm_autoconfig.utils import (\n",
    "    EnvSettings,\n",
    "    save_json,\n",
    "    read_json\n",
    ")"
   ]
  },
  {
   "cell_type": "code",
   "execution_count": null,
   "metadata": {},
   "outputs": [],
   "source": [
    "%pip install langchain_chroma"
   ]
  },
  {
   "cell_type": "code",
   "execution_count": null,
   "metadata": {},
   "outputs": [],
   "source": [
    "%pip install sentence-transformers"
   ]
  },
  {
   "cell_type": "code",
   "execution_count": 3,
   "metadata": {},
   "outputs": [],
   "source": [
    "from langchain_community.embeddings import HuggingFaceEmbeddings"
   ]
  },
  {
   "cell_type": "code",
   "execution_count": 4,
   "metadata": {},
   "outputs": [
    {
     "name": "stderr",
     "output_type": "stream",
     "text": [
      "/var/folders/g8/ttwhm7sd0sjf3jb0n419kstr0000gn/T/ipykernel_12531/95610984.py:1: LangChainDeprecationWarning: The class `HuggingFaceEmbeddings` was deprecated in LangChain 0.2.2 and will be removed in 1.0. An updated version of the class exists in the :class:`~langchain-huggingface package and should be used instead. To use it run `pip install -U :class:`~langchain-huggingface` and import as `from :class:`~langchain_huggingface import HuggingFaceEmbeddings``.\n",
      "  embeddings = HuggingFaceEmbeddings(model_name=\"BAAI/bge-m3\")\n",
      "/Users/yuriypeshkichev/Projects/ipavlov/chatsky-llm-autoconfig/.venv/lib/python3.12/site-packages/tqdm/auto.py:21: TqdmWarning: IProgress not found. Please update jupyter and ipywidgets. See https://ipywidgets.readthedocs.io/en/stable/user_install.html\n",
      "  from .autonotebook import tqdm as notebook_tqdm\n"
     ]
    }
   ],
   "source": [
    "embeddings = HuggingFaceEmbeddings(model_name=\"BAAI/bge-m3\")"
   ]
  },
  {
   "cell_type": "code",
   "execution_count": 5,
   "metadata": {},
   "outputs": [],
   "source": [
    "assistant_store = Chroma(\n",
    "            collection_name=\"dialogues\",\n",
    "            embedding_function=embeddings\n",
    ")"
   ]
  },
  {
   "cell_type": "code",
   "execution_count": 10,
   "metadata": {},
   "outputs": [
    {
     "data": {
      "text/plain": [
       "'/Users/yuriypeshkichev/Projects/ipavlov/chatsky-llm-autoconfig/dev_packages/chatsky_llm_autoconfig/chatsky_llm_autoconfig/metrics'"
      ]
     },
     "execution_count": 10,
     "metadata": {},
     "output_type": "execute_result"
    }
   ],
   "source": [
    "%pwd"
   ]
  },
  {
   "cell_type": "code",
   "execution_count": 6,
   "metadata": {},
   "outputs": [],
   "source": [
    "dialogues = read_json(\"../autometrics/test_data/auto.json\")"
   ]
  },
  {
   "cell_type": "code",
   "execution_count": 14,
   "metadata": {},
   "outputs": [
    {
     "data": {
      "text/plain": [
       "{'graph': {'nodes': [{'id': 1,\n",
       "    'label': 'welcome',\n",
       "    'is_start': True,\n",
       "    'utterances': ['Welcome to AutoCare Service Center! How can I help you today?']},\n",
       "   {'id': 2,\n",
       "    'label': 'request_car_info',\n",
       "    'is_start': False,\n",
       "    'utterances': [\"Could you please provide your car's make, model and year?\"]},\n",
       "   {'id': 3,\n",
       "    'label': 'ask_service_type',\n",
       "    'is_start': False,\n",
       "    'utterances': ['What type of service do you need? We offer diagnostics, repairs, and routine maintenance.']},\n",
       "   {'id': 4,\n",
       "    'label': 'check_schedule',\n",
       "    'is_start': False,\n",
       "    'utterances': ['Let me check our available time slots for this service.']},\n",
       "   {'id': 5,\n",
       "    'label': 'offer_times',\n",
       "    'is_start': False,\n",
       "    'utterances': ['We have slots available tomorrow at 10 AM or Friday at 2 PM. Which would you prefer?']},\n",
       "   {'id': 6,\n",
       "    'label': 'suggest_urgent',\n",
       "    'is_start': False,\n",
       "    'utterances': ['I notice this is a critical repair. We have an urgent slot available today at 4 PM with a 20% rush fee. Would you like this option, or prefer a regular appointment next week?']},\n",
       "   {'id': 7,\n",
       "    'label': 'confirm_appointment',\n",
       "    'is_start': False,\n",
       "    'utterances': [\"I've scheduled your appointment. Would you like to add any additional services while your car is here?\"]},\n",
       "   {'id': 8,\n",
       "    'label': 'suggest_additional',\n",
       "    'is_start': False,\n",
       "    'utterances': ['While your car is here, we recommend an oil change and filter replacement. Would you like to add these services?']},\n",
       "   {'id': 9,\n",
       "    'label': 'provide_estimate',\n",
       "    'is_start': False,\n",
       "    'utterances': ['The estimated cost for all services will be $X. Would you like to proceed with the appointment?']},\n",
       "   {'id': 10,\n",
       "    'label': 'end',\n",
       "    'is_start': False,\n",
       "    'utterances': [\"Your appointment is confirmed. We'll see you then. Have a great day!\"]}],\n",
       "  'edges': [{'source': 1,\n",
       "    'target': 2,\n",
       "    'utterances': ['I need to schedule a car service']},\n",
       "   {'source': 2, 'target': 3, 'utterances': ['I have a 2020 Toyota Camry']},\n",
       "   {'source': 3,\n",
       "    'target': 4,\n",
       "    'utterances': ['I need brake repair', 'I need an oil change instead']},\n",
       "   {'source': 4,\n",
       "    'target': 5,\n",
       "    'utterances': ['Okay, please check availability']},\n",
       "   {'source': 4, 'target': 6, 'utterances': ['Alright, what are my options?']},\n",
       "   {'source': 5, 'target': 7, 'utterances': ['Friday at 2 PM works for me']},\n",
       "   {'source': 6,\n",
       "    'target': 7,\n",
       "    'utterances': [\"Yes, I'll take the urgent slot\"]},\n",
       "   {'source': 6,\n",
       "    'target': 5,\n",
       "    'utterances': [\"No, I'll take a regular appointment\"]},\n",
       "   {'source': 7,\n",
       "    'target': 8,\n",
       "    'utterances': ['What other services would you recommend?']},\n",
       "   {'source': 7, 'target': 9, 'utterances': ['No additional services needed']},\n",
       "   {'source': 8,\n",
       "    'target': 9,\n",
       "    'utterances': ['Yes, add the oil change please',\n",
       "     'No, just the original service']},\n",
       "   {'source': 9,\n",
       "    'target': 3,\n",
       "    'utterances': [\"Actually, I'd like to change the service type\"]},\n",
       "   {'source': 9, 'target': 10, 'utterances': ['Yes, that works for me']}]},\n",
       " 'topic': 'auto care',\n",
       " 'dialogues': [{'messages': [{'text': 'Welcome to AutoCare Service Center! How can I help you today?',\n",
       "     'participant': 'assistant'},\n",
       "    {'text': 'I need to schedule a car service', 'participant': 'user'},\n",
       "    {'text': \"Could you please provide your car's make, model and year?\",\n",
       "     'participant': 'assistant'},\n",
       "    {'text': 'I have a 2020 Toyota Camry', 'participant': 'user'},\n",
       "    {'text': 'What type of service do you need? We offer diagnostics, repairs, and routine maintenance.',\n",
       "     'participant': 'assistant'},\n",
       "    {'text': 'I need brake repair', 'participant': 'user'},\n",
       "    {'text': 'Let me check our available time slots for this service.',\n",
       "     'participant': 'assistant'},\n",
       "    {'text': 'Alright, what are my options?', 'participant': 'user'},\n",
       "    {'text': 'I notice this is a critical repair. We have an urgent slot available today at 4 PM with a 20% rush fee. Would you like this option, or prefer a regular appointment next week?',\n",
       "     'participant': 'assistant'},\n",
       "    {'text': \"No, I'll take a regular appointment\", 'participant': 'user'},\n",
       "    {'text': 'We have slots available tomorrow at 10 AM or Friday at 2 PM. Which would you prefer?',\n",
       "     'participant': 'assistant'},\n",
       "    {'text': 'Friday at 2 PM works for me', 'participant': 'user'},\n",
       "    {'text': \"I've scheduled your appointment. Would you like to add any additional services while your car is here?\",\n",
       "     'participant': 'assistant'},\n",
       "    {'text': 'No additional services needed', 'participant': 'user'},\n",
       "    {'text': 'The estimated cost for all services will be $X. Would you like to proceed with the appointment?',\n",
       "     'participant': 'assistant'},\n",
       "    {'text': 'Yes, that works for me', 'participant': 'user'},\n",
       "    {'text': \"Your appointment is confirmed. We'll see you then. Have a great day!\",\n",
       "     'participant': 'assistant'}],\n",
       "   'topic': ''},\n",
       "  {'messages': [{'text': 'Welcome to AutoCare Service Center! How can I help you today?',\n",
       "     'participant': 'assistant'},\n",
       "    {'text': 'I need to schedule a car service', 'participant': 'user'},\n",
       "    {'text': \"Could you please provide your car's make, model and year?\",\n",
       "     'participant': 'assistant'},\n",
       "    {'text': 'I have a 2020 Toyota Camry', 'participant': 'user'},\n",
       "    {'text': 'What type of service do you need? We offer diagnostics, repairs, and routine maintenance.',\n",
       "     'participant': 'assistant'},\n",
       "    {'text': 'I need brake repair', 'participant': 'user'},\n",
       "    {'text': 'Let me check our available time slots for this service.',\n",
       "     'participant': 'assistant'},\n",
       "    {'text': 'Alright, what are my options?', 'participant': 'user'},\n",
       "    {'text': 'I notice this is a critical repair. We have an urgent slot available today at 4 PM with a 20% rush fee. Would you like this option, or prefer a regular appointment next week?',\n",
       "     'participant': 'assistant'},\n",
       "    {'text': \"No, I'll take a regular appointment\", 'participant': 'user'},\n",
       "    {'text': 'We have slots available tomorrow at 10 AM or Friday at 2 PM. Which would you prefer?',\n",
       "     'participant': 'assistant'},\n",
       "    {'text': 'Friday at 2 PM works for me', 'participant': 'user'},\n",
       "    {'text': \"I've scheduled your appointment. Would you like to add any additional services while your car is here?\",\n",
       "     'participant': 'assistant'},\n",
       "    {'text': 'What other services would you recommend?',\n",
       "     'participant': 'user'},\n",
       "    {'text': 'While your car is here, we recommend an oil change and filter replacement. Would you like to add these services?',\n",
       "     'participant': 'assistant'},\n",
       "    {'text': 'No, just the original service', 'participant': 'user'},\n",
       "    {'text': 'The estimated cost for all services will be $X. Would you like to proceed with the appointment?',\n",
       "     'participant': 'assistant'},\n",
       "    {'text': 'Yes, that works for me', 'participant': 'user'},\n",
       "    {'text': \"Your appointment is confirmed. We'll see you then. Have a great day!\",\n",
       "     'participant': 'assistant'}],\n",
       "   'topic': ''},\n",
       "  {'messages': [{'text': 'Welcome to AutoCare Service Center! How can I help you today?',\n",
       "     'participant': 'assistant'},\n",
       "    {'text': 'I need to schedule a car service', 'participant': 'user'},\n",
       "    {'text': \"Could you please provide your car's make, model and year?\",\n",
       "     'participant': 'assistant'},\n",
       "    {'text': 'I have a 2020 Toyota Camry', 'participant': 'user'},\n",
       "    {'text': 'What type of service do you need? We offer diagnostics, repairs, and routine maintenance.',\n",
       "     'participant': 'assistant'},\n",
       "    {'text': 'I need brake repair', 'participant': 'user'},\n",
       "    {'text': 'Let me check our available time slots for this service.',\n",
       "     'participant': 'assistant'},\n",
       "    {'text': 'Alright, what are my options?', 'participant': 'user'},\n",
       "    {'text': 'I notice this is a critical repair. We have an urgent slot available today at 4 PM with a 20% rush fee. Would you like this option, or prefer a regular appointment next week?',\n",
       "     'participant': 'assistant'},\n",
       "    {'text': \"Yes, I'll take the urgent slot\", 'participant': 'user'},\n",
       "    {'text': \"I've scheduled your appointment. Would you like to add any additional services while your car is here?\",\n",
       "     'participant': 'assistant'},\n",
       "    {'text': 'No additional services needed', 'participant': 'user'},\n",
       "    {'text': 'The estimated cost for all services will be $X. Would you like to proceed with the appointment?',\n",
       "     'participant': 'assistant'},\n",
       "    {'text': 'Yes, that works for me', 'participant': 'user'},\n",
       "    {'text': \"Your appointment is confirmed. We'll see you then. Have a great day!\",\n",
       "     'participant': 'assistant'}],\n",
       "   'topic': ''},\n",
       "  {'messages': [{'text': 'Welcome to AutoCare Service Center! How can I help you today?',\n",
       "     'participant': 'assistant'},\n",
       "    {'text': 'I need to schedule a car service', 'participant': 'user'},\n",
       "    {'text': \"Could you please provide your car's make, model and year?\",\n",
       "     'participant': 'assistant'},\n",
       "    {'text': 'I have a 2020 Toyota Camry', 'participant': 'user'},\n",
       "    {'text': 'What type of service do you need? We offer diagnostics, repairs, and routine maintenance.',\n",
       "     'participant': 'assistant'},\n",
       "    {'text': 'I need brake repair', 'participant': 'user'},\n",
       "    {'text': 'Let me check our available time slots for this service.',\n",
       "     'participant': 'assistant'},\n",
       "    {'text': 'Alright, what are my options?', 'participant': 'user'},\n",
       "    {'text': 'I notice this is a critical repair. We have an urgent slot available today at 4 PM with a 20% rush fee. Would you like this option, or prefer a regular appointment next week?',\n",
       "     'participant': 'assistant'},\n",
       "    {'text': \"Yes, I'll take the urgent slot\", 'participant': 'user'},\n",
       "    {'text': \"I've scheduled your appointment. Would you like to add any additional services while your car is here?\",\n",
       "     'participant': 'assistant'},\n",
       "    {'text': 'What other services would you recommend?',\n",
       "     'participant': 'user'},\n",
       "    {'text': 'While your car is here, we recommend an oil change and filter replacement. Would you like to add these services?',\n",
       "     'participant': 'assistant'},\n",
       "    {'text': 'No, just the original service', 'participant': 'user'},\n",
       "    {'text': 'The estimated cost for all services will be $X. Would you like to proceed with the appointment?',\n",
       "     'participant': 'assistant'},\n",
       "    {'text': 'Yes, that works for me', 'participant': 'user'},\n",
       "    {'text': \"Your appointment is confirmed. We'll see you then. Have a great day!\",\n",
       "     'participant': 'assistant'}],\n",
       "   'topic': ''},\n",
       "  {'messages': [{'text': 'Welcome to AutoCare Service Center! How can I help you today?',\n",
       "     'participant': 'assistant'},\n",
       "    {'text': 'I need to schedule a car service', 'participant': 'user'},\n",
       "    {'text': \"Could you please provide your car's make, model and year?\",\n",
       "     'participant': 'assistant'},\n",
       "    {'text': 'I have a 2020 Toyota Camry', 'participant': 'user'},\n",
       "    {'text': 'What type of service do you need? We offer diagnostics, repairs, and routine maintenance.',\n",
       "     'participant': 'assistant'},\n",
       "    {'text': 'I need brake repair', 'participant': 'user'},\n",
       "    {'text': 'Let me check our available time slots for this service.',\n",
       "     'participant': 'assistant'},\n",
       "    {'text': 'Okay, please check availability', 'participant': 'user'},\n",
       "    {'text': 'We have slots available tomorrow at 10 AM or Friday at 2 PM. Which would you prefer?',\n",
       "     'participant': 'assistant'},\n",
       "    {'text': 'Friday at 2 PM works for me', 'participant': 'user'},\n",
       "    {'text': \"I've scheduled your appointment. Would you like to add any additional services while your car is here?\",\n",
       "     'participant': 'assistant'},\n",
       "    {'text': 'No additional services needed', 'participant': 'user'},\n",
       "    {'text': 'The estimated cost for all services will be $X. Would you like to proceed with the appointment?',\n",
       "     'participant': 'assistant'},\n",
       "    {'text': 'Yes, that works for me', 'participant': 'user'},\n",
       "    {'text': \"Your appointment is confirmed. We'll see you then. Have a great day!\",\n",
       "     'participant': 'assistant'}],\n",
       "   'topic': ''},\n",
       "  {'messages': [{'text': 'Welcome to AutoCare Service Center! How can I help you today?',\n",
       "     'participant': 'assistant'},\n",
       "    {'text': 'I need to schedule a car service', 'participant': 'user'},\n",
       "    {'text': \"Could you please provide your car's make, model and year?\",\n",
       "     'participant': 'assistant'},\n",
       "    {'text': 'I have a 2020 Toyota Camry', 'participant': 'user'},\n",
       "    {'text': 'What type of service do you need? We offer diagnostics, repairs, and routine maintenance.',\n",
       "     'participant': 'assistant'},\n",
       "    {'text': 'I need brake repair', 'participant': 'user'},\n",
       "    {'text': 'Let me check our available time slots for this service.',\n",
       "     'participant': 'assistant'},\n",
       "    {'text': 'Okay, please check availability', 'participant': 'user'},\n",
       "    {'text': 'We have slots available tomorrow at 10 AM or Friday at 2 PM. Which would you prefer?',\n",
       "     'participant': 'assistant'},\n",
       "    {'text': 'Friday at 2 PM works for me', 'participant': 'user'},\n",
       "    {'text': \"I've scheduled your appointment. Would you like to add any additional services while your car is here?\",\n",
       "     'participant': 'assistant'},\n",
       "    {'text': 'What other services would you recommend?',\n",
       "     'participant': 'user'},\n",
       "    {'text': 'While your car is here, we recommend an oil change and filter replacement. Would you like to add these services?',\n",
       "     'participant': 'assistant'},\n",
       "    {'text': 'No, just the original service', 'participant': 'user'},\n",
       "    {'text': 'The estimated cost for all services will be $X. Would you like to proceed with the appointment?',\n",
       "     'participant': 'assistant'},\n",
       "    {'text': 'Yes, that works for me', 'participant': 'user'},\n",
       "    {'text': \"Your appointment is confirmed. We'll see you then. Have a great day!\",\n",
       "     'participant': 'assistant'}],\n",
       "   'topic': ''},\n",
       "  {'messages': [{'text': 'Welcome to AutoCare Service Center! How can I help you today?',\n",
       "     'participant': 'assistant'},\n",
       "    {'text': 'I need to schedule a car service', 'participant': 'user'},\n",
       "    {'text': \"Could you please provide your car's make, model and year?\",\n",
       "     'participant': 'assistant'},\n",
       "    {'text': 'I have a 2020 Toyota Camry', 'participant': 'user'},\n",
       "    {'text': 'What type of service do you need? We offer diagnostics, repairs, and routine maintenance.',\n",
       "     'participant': 'assistant'},\n",
       "    {'text': 'I need brake repair', 'participant': 'user'},\n",
       "    {'text': 'Let me check our available time slots for this service.',\n",
       "     'participant': 'assistant'},\n",
       "    {'text': 'Okay, please check availability', 'participant': 'user'},\n",
       "    {'text': 'We have slots available tomorrow at 10 AM or Friday at 2 PM. Which would you prefer?',\n",
       "     'participant': 'assistant'},\n",
       "    {'text': 'Friday at 2 PM works for me', 'participant': 'user'},\n",
       "    {'text': \"I've scheduled your appointment. Would you like to add any additional services while your car is here?\",\n",
       "     'participant': 'assistant'},\n",
       "    {'text': 'What other services would you recommend?',\n",
       "     'participant': 'user'},\n",
       "    {'text': 'While your car is here, we recommend an oil change and filter replacement. Would you like to add these services?',\n",
       "     'participant': 'assistant'},\n",
       "    {'text': 'Yes, add the oil change please', 'participant': 'user'},\n",
       "    {'text': 'The estimated cost for all services will be $X. Would you like to proceed with the appointment?',\n",
       "     'participant': 'assistant'},\n",
       "    {'text': 'Yes, that works for me', 'participant': 'user'},\n",
       "    {'text': \"Your appointment is confirmed. We'll see you then. Have a great day!\",\n",
       "     'participant': 'assistant'}],\n",
       "   'topic': 'Regular appointment with additional services accepted'},\n",
       "  {'messages': [{'text': 'Welcome to AutoCare Service Center! How can I help you today?',\n",
       "     'participant': 'assistant'},\n",
       "    {'text': 'I need to schedule a car service', 'participant': 'user'},\n",
       "    {'text': \"Could you please provide your car's make, model and year?\",\n",
       "     'participant': 'assistant'},\n",
       "    {'text': 'I have a 2020 Toyota Camry', 'participant': 'user'},\n",
       "    {'text': 'What type of service do you need? We offer diagnostics, repairs, and routine maintenance.',\n",
       "     'participant': 'assistant'},\n",
       "    {'text': 'I need brake repair', 'participant': 'user'},\n",
       "    {'text': 'Let me check our available time slots for this service.',\n",
       "     'participant': 'assistant'},\n",
       "    {'text': 'Okay, please check availability', 'participant': 'user'},\n",
       "    {'text': 'We have slots available tomorrow at 10 AM or Friday at 2 PM. Which would you prefer?',\n",
       "     'participant': 'assistant'},\n",
       "    {'text': 'Friday at 2 PM works for me', 'participant': 'user'},\n",
       "    {'text': \"I've scheduled your appointment. Would you like to add any additional services while your car is here?\",\n",
       "     'participant': 'assistant'},\n",
       "    {'text': 'No additional services needed', 'participant': 'user'},\n",
       "    {'text': 'The estimated cost for all services will be $X. Would you like to proceed with the appointment?',\n",
       "     'participant': 'assistant'},\n",
       "    {'text': \"Actually, I'd like to change the service type\",\n",
       "     'participant': 'user'},\n",
       "    {'text': 'What type of service do you need? We offer diagnostics, repairs, and routine maintenance.',\n",
       "     'participant': 'assistant'},\n",
       "    {'text': 'I need an oil change instead', 'participant': 'user'},\n",
       "    {'text': 'Let me check our available time slots for this service.',\n",
       "     'participant': 'assistant'},\n",
       "    {'text': 'Okay, please check availability', 'participant': 'user'},\n",
       "    {'text': 'We have slots available tomorrow at 10 AM or Friday at 2 PM. Which would you prefer?',\n",
       "     'participant': 'assistant'},\n",
       "    {'text': 'Friday at 2 PM works for me', 'participant': 'user'},\n",
       "    {'text': \"I've scheduled your appointment. Would you like to add any additional services while your car is here?\",\n",
       "     'participant': 'assistant'},\n",
       "    {'text': 'No additional services needed', 'participant': 'user'},\n",
       "    {'text': 'The estimated cost for all services will be $X. Would you like to proceed with the appointment?',\n",
       "     'participant': 'assistant'},\n",
       "    {'text': 'Yes, that works for me', 'participant': 'user'},\n",
       "    {'text': \"Your appointment is confirmed. We'll see you then. Have a great day!\",\n",
       "     'participant': 'assistant'}],\n",
       "   'topic': 'Change service type after estimate'}]}"
      ]
     },
     "execution_count": 14,
     "metadata": {},
     "output_type": "execute_result"
    }
   ],
   "source": [
    "dialogues[0]"
   ]
  },
  {
   "cell_type": "code",
   "execution_count": 7,
   "metadata": {},
   "outputs": [],
   "source": [
    "docs = [d['messages'] for d in dialogues[0]['dialogues']][0]"
   ]
  },
  {
   "cell_type": "code",
   "execution_count": 53,
   "metadata": {},
   "outputs": [
    {
     "data": {
      "text/plain": [
       "[{'text': 'Welcome to AutoCare Service Center! How can I help you today?',\n",
       "  'participant': 'assistant'},\n",
       " {'text': 'I need to schedule a car service', 'participant': 'user'},\n",
       " {'text': \"Could you please provide your car's make, model and year?\",\n",
       "  'participant': 'assistant'},\n",
       " {'text': 'I have a 2020 Toyota Camry', 'participant': 'user'},\n",
       " {'text': 'What type of service do you need? We offer diagnostics, repairs, and routine maintenance.',\n",
       "  'participant': 'assistant'},\n",
       " {'text': 'I need brake repair', 'participant': 'user'},\n",
       " {'text': 'Let me check our available time slots for this service.',\n",
       "  'participant': 'assistant'},\n",
       " {'text': 'Alright, what are my options?', 'participant': 'user'},\n",
       " {'text': 'I notice this is a critical repair. We have an urgent slot available today at 4 PM with a 20% rush fee. Would you like this option, or prefer a regular appointment next week?',\n",
       "  'participant': 'assistant'},\n",
       " {'text': \"No, I'll take a regular appointment\", 'participant': 'user'},\n",
       " {'text': 'We have slots available tomorrow at 10 AM or Friday at 2 PM. Which would you prefer?',\n",
       "  'participant': 'assistant'},\n",
       " {'text': 'Friday at 2 PM works for me', 'participant': 'user'},\n",
       " {'text': \"I've scheduled your appointment. Would you like to add any additional services while your car is here?\",\n",
       "  'participant': 'assistant'},\n",
       " {'text': 'No additional services needed', 'participant': 'user'},\n",
       " {'text': 'The estimated cost for all services will be $X. Would you like to proceed with the appointment?',\n",
       "  'participant': 'assistant'},\n",
       " {'text': 'Yes, that works for me', 'participant': 'user'},\n",
       " {'text': \"Your appointment is confirmed. We'll see you then. Have a great day!\",\n",
       "  'participant': 'assistant'}]"
      ]
     },
     "execution_count": 53,
     "metadata": {},
     "output_type": "execute_result"
    }
   ],
   "source": [
    "docs"
   ]
  },
  {
   "cell_type": "code",
   "execution_count": 54,
   "metadata": {},
   "outputs": [
    {
     "data": {
      "text/plain": [
       "17"
      ]
     },
     "execution_count": 54,
     "metadata": {},
     "output_type": "execute_result"
    }
   ],
   "source": [
    "len(docs)"
   ]
  },
  {
   "cell_type": "code",
   "execution_count": 8,
   "metadata": {},
   "outputs": [],
   "source": [
    "from langchain_core.documents import Document"
   ]
  },
  {
   "cell_type": "code",
   "execution_count": 9,
   "metadata": {},
   "outputs": [],
   "source": [
    "ddd = [Document(page_content=d['text'], metadata={\"id\":id}) for id,d in enumerate(docs)]"
   ]
  },
  {
   "cell_type": "code",
   "execution_count": 59,
   "metadata": {},
   "outputs": [
    {
     "data": {
      "text/plain": [
       "[Document(metadata={'id': 0}, page_content='Welcome to AutoCare Service Center! How can I help you today?'),\n",
       " Document(metadata={'id': 1}, page_content='I need to schedule a car service'),\n",
       " Document(metadata={'id': 2}, page_content=\"Could you please provide your car's make, model and year?\"),\n",
       " Document(metadata={'id': 3}, page_content='I have a 2020 Toyota Camry'),\n",
       " Document(metadata={'id': 4}, page_content='What type of service do you need? We offer diagnostics, repairs, and routine maintenance.'),\n",
       " Document(metadata={'id': 5}, page_content='I need brake repair'),\n",
       " Document(metadata={'id': 6}, page_content='Let me check our available time slots for this service.'),\n",
       " Document(metadata={'id': 7}, page_content='Alright, what are my options?'),\n",
       " Document(metadata={'id': 8}, page_content='I notice this is a critical repair. We have an urgent slot available today at 4 PM with a 20% rush fee. Would you like this option, or prefer a regular appointment next week?'),\n",
       " Document(metadata={'id': 9}, page_content=\"No, I'll take a regular appointment\"),\n",
       " Document(metadata={'id': 10}, page_content='We have slots available tomorrow at 10 AM or Friday at 2 PM. Which would you prefer?'),\n",
       " Document(metadata={'id': 11}, page_content='Friday at 2 PM works for me'),\n",
       " Document(metadata={'id': 12}, page_content=\"I've scheduled your appointment. Would you like to add any additional services while your car is here?\"),\n",
       " Document(metadata={'id': 13}, page_content='No additional services needed'),\n",
       " Document(metadata={'id': 14}, page_content='The estimated cost for all services will be $X. Would you like to proceed with the appointment?'),\n",
       " Document(metadata={'id': 15}, page_content='Yes, that works for me'),\n",
       " Document(metadata={'id': 16}, page_content=\"Your appointment is confirmed. We'll see you then. Have a great day!\")]"
      ]
     },
     "execution_count": 59,
     "metadata": {},
     "output_type": "execute_result"
    }
   ],
   "source": [
    "ddd"
   ]
  },
  {
   "cell_type": "code",
   "execution_count": 11,
   "metadata": {},
   "outputs": [
    {
     "data": {
      "text/plain": [
       "['3d56442a-cf69-4764-9b2a-de7aa50c7a54',\n",
       " '6d6995c3-9cbf-499b-bf8d-5a4bba7248f5',\n",
       " 'aefc509e-5d05-4f20-8d15-49fe9214dc31',\n",
       " '22e48c6f-5fa6-4f33-b0cd-eb67528831dd',\n",
       " 'cf529c92-9a01-451e-9048-49d291e5ee22',\n",
       " '37f709c8-1e75-4bb6-90d5-d7adfd89f668',\n",
       " '7462c816-e603-4f14-b391-556989c80dfc',\n",
       " 'da5a9dcc-6f21-4b55-9da5-13f4a8e07cee',\n",
       " 'e0220135-3cdc-4019-91b6-5697519a52ed',\n",
       " '8b3b6e22-3d02-414b-8a69-76a152454ebc',\n",
       " '8bdb01d8-dd33-4c96-b5aa-c0b7198f5f6f',\n",
       " '5ef91b4c-517d-4230-a5ab-2a878ae7f969',\n",
       " 'e48de6fc-71dd-4c5e-9f2b-42ff8772ab30',\n",
       " 'd887ac9d-eda6-49ac-89b8-b2e494b33b11',\n",
       " 'ec29d1ff-6720-4538-9dac-a764b61af4c2',\n",
       " '936c3fa8-5931-48f1-aba3-919bad9f9860',\n",
       " '7f57a649-2d4e-4a4c-9591-a49d3bc25d04']"
      ]
     },
     "execution_count": 11,
     "metadata": {},
     "output_type": "execute_result"
    }
   ],
   "source": [
    "assistant_store.add_documents(documents=ddd)"
   ]
  },
  {
   "cell_type": "code",
   "execution_count": 12,
   "metadata": {},
   "outputs": [],
   "source": [
    "docs = assistant_store.similarity_search_with_relevance_scores(\"I need to schedule a car service\", score_threshold=0.99)"
   ]
  },
  {
   "cell_type": "code",
   "execution_count": 13,
   "metadata": {},
   "outputs": [
    {
     "data": {
      "text/plain": [
       "[(Document(metadata={'id': 1}, page_content='I need to schedule a car service'),\n",
       "  0.9999999999979495)]"
      ]
     },
     "execution_count": 13,
     "metadata": {},
     "output_type": "execute_result"
    }
   ],
   "source": [
    "docs"
   ]
  },
  {
   "cell_type": "code",
   "execution_count": null,
   "metadata": {},
   "outputs": [],
   "source": [
    "vector_store.update_documents(\n",
    "    ids=uuids[:2], documents=[updated_document_1, updated_document_2]\n",
    ")"
   ]
  },
  {
   "cell_type": "code",
   "execution_count": 61,
   "metadata": {},
   "outputs": [
    {
     "data": {
      "text/plain": [
       "{}"
      ]
     },
     "execution_count": 61,
     "metadata": {},
     "output_type": "execute_result"
    }
   ],
   "source": [
    "docs[0][0].metadata"
   ]
  },
  {
   "cell_type": "code",
   "execution_count": 32,
   "metadata": {},
   "outputs": [
    {
     "data": {
      "text/plain": [
       "[(Document(metadata={}, page_content='I need to schedule a car service'),\n",
       "  2.8998364039883873e-12),\n",
       " (Document(metadata={}, page_content=\"I've scheduled your appointment. Would you like to add any additional services while your car is here?\"),\n",
       "  0.39331120252609253),\n",
       " (Document(metadata={}, page_content='I need brake repair'),\n",
       "  0.49612918496131897),\n",
       " (Document(metadata={}, page_content='Let me check our available time slots for this service.'),\n",
       "  0.5621908903121948),\n",
       " (Document(metadata={}, page_content='I notice this is a critical repair. We have an urgent slot available today at 4 PM with a 20% rush fee. Would you like this option, or prefer a regular appointment next week?'),\n",
       "  0.6578672528266907),\n",
       " (Document(metadata={}, page_content='Welcome to AutoCare Service Center! How can I help you today?'),\n",
       "  0.7030934691429138),\n",
       " (Document(metadata={}, page_content=\"No, I'll take a regular appointment\"),\n",
       "  0.70929354429245),\n",
       " (Document(metadata={}, page_content='What type of service do you need? We offer diagnostics, repairs, and routine maintenance.'),\n",
       "  0.7372129559516907),\n",
       " (Document(metadata={}, page_content='The estimated cost for all services will be $X. Would you like to proceed with the appointment?'),\n",
       "  0.7404349446296692),\n",
       " (Document(metadata={}, page_content='Friday at 2 PM works for me'),\n",
       "  0.758645236492157),\n",
       " (Document(metadata={}, page_content=\"Your appointment is confirmed. We'll see you then. Have a great day!\"),\n",
       "  0.7814090847969055),\n",
       " (Document(metadata={}, page_content='I have a 2020 Toyota Camry'),\n",
       "  0.7837718725204468),\n",
       " (Document(metadata={}, page_content='Alright, what are my options?'),\n",
       "  0.8245350122451782),\n",
       " (Document(metadata={}, page_content=\"Could you please provide your car's make, model and year?\"),\n",
       "  0.8281533122062683),\n",
       " (Document(metadata={}, page_content='Yes, that works for me'),\n",
       "  0.8371948003768921),\n",
       " (Document(metadata={}, page_content='We have slots available tomorrow at 10 AM or Friday at 2 PM. Which would you prefer?'),\n",
       "  0.8795525431632996),\n",
       " (Document(metadata={}, page_content='No additional services needed'),\n",
       "  0.8927710056304932)]"
      ]
     },
     "execution_count": 32,
     "metadata": {},
     "output_type": "execute_result"
    }
   ],
   "source": [
    "assistant_store.similarity_search_with_score(\"I need to schedule a car service\", k=len(docs))"
   ]
  },
  {
   "cell_type": "code",
   "execution_count": 33,
   "metadata": {},
   "outputs": [
    {
     "data": {
      "text/plain": [
       "<langchain_chroma.vectorstores.Chroma at 0x132a22300>"
      ]
     },
     "execution_count": 33,
     "metadata": {},
     "output_type": "execute_result"
    }
   ],
   "source": [
    "assistant_store"
   ]
  }
 ],
 "metadata": {
  "kernelspec": {
   "display_name": ".venv",
   "language": "python",
   "name": "python3"
  },
  "language_info": {
   "codemirror_mode": {
    "name": "ipython",
    "version": 3
   },
   "file_extension": ".py",
   "mimetype": "text/x-python",
   "name": "python",
   "nbconvert_exporter": "python",
   "pygments_lexer": "ipython3",
   "version": "3.12.8"
  }
 },
 "nbformat": 4,
 "nbformat_minor": 2
}
