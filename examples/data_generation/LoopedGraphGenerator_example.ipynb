{
 "cells": [
  {
   "cell_type": "code",
   "execution_count": 4,
   "metadata": {},
   "outputs": [
    {
     "name": "stdout",
     "output_type": "stream",
     "text": [
      "Installing dependencies from lock file\n",
      "\n",
      "No dependencies to install or update\n",
      "\n",
      "Installing the current project: dialogue2graph (0.1.0)\n"
     ]
    }
   ],
   "source": [
    "! poetry install"
   ]
  },
  {
   "cell_type": "markdown",
   "metadata": {},
   "source": [
    "## Generate synthetic data on a given topic\n",
    "\n",
    "Use `LoopedGraphGenerator` to create a validated graph from several LLM generated dialogues concerning a given topic"
   ]
  },
  {
   "cell_type": "code",
   "execution_count": null,
   "metadata": {},
   "outputs": [
    {
     "data": {
      "text/plain": [
       "True"
      ]
     },
     "execution_count": 3,
     "metadata": {},
     "output_type": "execute_result"
    }
   ],
   "source": [
    "from dotenv import load_dotenv\n",
    "from dialogue2graph.datasets.complex_dialogues.generation import LoopedGraphGenerator\n",
    "from dialogue2graph import Graph\n",
    "from dialogue2graph.pipelines.model_storage import ModelStorage\n",
    "\n",
    "load_dotenv()"
   ]
  },
  {
   "cell_type": "markdown",
   "metadata": {},
   "source": [
    "1. Create `ModelStorage` instance and add choosen LLMs for dialogue generation, dialogue validation, theme validation and cycle end search."
   ]
  },
  {
   "cell_type": "code",
   "execution_count": null,
   "metadata": {},
   "outputs": [
    {
     "name": "stderr",
     "output_type": "stream",
     "text": [
      "INFO:dialogue2graph.pipelines.model_storage:Added llm model 'gen_model' to storage\n",
      "INFO:dialogue2graph.pipelines.model_storage:Added llm model 'help_model' to storage\n"
     ]
    }
   ],
   "source": [
    "model_storage = ModelStorage()\n",
    "model_storage.add(\n",
    "    \"gen_model\",  # model to use for generation\n",
    "    config={\"name\": \"o1-mini\"},\n",
    "    model_type=\"llm\",\n",
    ")\n",
    "model_storage.add(\n",
    "    \"help_model\",  # model to use for other tasks\n",
    "    config={\"name\": \"gpt-3.5-turbo\"},\n",
    "    model_type=\"llm\",\n",
    ")"
   ]
  },
  {
   "cell_type": "markdown",
   "metadata": {},
   "source": [
    "2. Create `LoopedGraphGenerator` and use `invoke` method to get a dialogue graph"
   ]
  },
  {
   "cell_type": "code",
   "execution_count": 7,
   "metadata": {},
   "outputs": [],
   "source": [
    "gen = LoopedGraphGenerator(\n",
    "    model_storage=model_storage,\n",
    "    generation_llm=\"gen_model\",\n",
    "    validation_llm=\"help_model\",\n",
    "    cycle_ends_llm=\"help_model\",\n",
    "    theme_validation_llm=\"help_model\",\n",
    ")"
   ]
  },
  {
   "cell_type": "code",
   "execution_count": 5,
   "metadata": {},
   "outputs": [
    {
     "name": "stderr",
     "output_type": "stream",
     "text": [
      "INFO:dialogue2graph.datasets.complex_dialogues.generation:Generating Graph ...\n"
     ]
    },
    {
     "name": "stdout",
     "output_type": "stream",
     "text": [
      "\n",
      "==================================================\n",
      "Generating graph for topic: travel booking\n",
      "==================================================\n"
     ]
    },
    {
     "name": "stderr",
     "output_type": "stream",
     "text": [
      "INFO:httpx:HTTP Request: POST http://193.187.173.33:8002/api/providers/openai/v1/chat/completions \"HTTP/1.1 200 OK\"\n",
      "INFO:dialogue2graph.datasets.complex_dialogues.generation:🔍 Checking graph requirements...\n",
      "INFO:dialogue2graph.datasets.complex_dialogues.generation:🔄 Found 4 cycles in the graph:\n",
      "INFO:dialogue2graph.datasets.complex_dialogues.generation:Cycle 1: 1 -> 2 -> 1\n",
      "INFO:dialogue2graph.datasets.complex_dialogues.generation:Cycle 2: 2 -> 3 -> 2\n",
      "INFO:dialogue2graph.datasets.complex_dialogues.generation:Cycle 3: 3 -> 4 -> 3\n",
      "INFO:dialogue2graph.datasets.complex_dialogues.generation:Cycle 4: 4 -> 5 -> 4\n",
      "INFO:dialogue2graph.datasets.complex_dialogues.generation:✅ Graph meets cycle requirements\n",
      "INFO:dialogue2graph.datasets.complex_dialogues.generation:Sampling dialogues...\n",
      "INFO:dialogue2graph.datasets.complex_dialogues.generation:Sampled 10 dialogues\n"
     ]
    },
    {
     "name": "stdout",
     "output_type": "stream",
     "text": [
      "1 repeats works!\n"
     ]
    },
    {
     "name": "stderr",
     "output_type": "stream",
     "text": [
      "INFO:httpx:HTTP Request: POST http://193.187.173.33:8002/api/providers/openai/v1/chat/completions \"HTTP/1.1 200 OK\"\n",
      "INFO:dialogue2graph.datasets.complex_dialogues.generation:Validating and fixing transitions...\n",
      "INFO:dialogue2graph.datasets.complex_dialogues.generation:Validating initial graph\n",
      "INFO:httpx:HTTP Request: POST http://193.187.173.33:8002/api/providers/openai/v1/chat/completions \"HTTP/1.1 200 OK\"\n",
      "INFO:httpx:HTTP Request: POST http://193.187.173.33:8002/api/providers/openai/v1/chat/completions \"HTTP/1.1 200 OK\"\n",
      "INFO:httpx:HTTP Request: POST http://193.187.173.33:8002/api/providers/openai/v1/chat/completions \"HTTP/1.1 200 OK\"\n",
      "INFO:httpx:HTTP Request: POST http://193.187.173.33:8002/api/providers/openai/v1/chat/completions \"HTTP/1.1 200 OK\"\n",
      "INFO:httpx:HTTP Request: POST http://193.187.173.33:8002/api/providers/openai/v1/chat/completions \"HTTP/1.1 200 OK\"\n",
      "INFO:httpx:HTTP Request: POST http://193.187.173.33:8002/api/providers/openai/v1/chat/completions \"HTTP/1.1 200 OK\"\n",
      "INFO:httpx:HTTP Request: POST http://193.187.173.33:8002/api/providers/openai/v1/chat/completions \"HTTP/1.1 200 OK\"\n",
      "INFO:httpx:HTTP Request: POST http://193.187.173.33:8002/api/providers/openai/v1/chat/completions \"HTTP/1.1 200 OK\"\n",
      "INFO:httpx:HTTP Request: POST http://193.187.173.33:8002/api/providers/openai/v1/chat/completions \"HTTP/1.1 200 OK\"\n",
      "INFO:httpx:HTTP Request: POST http://193.187.173.33:8002/api/providers/openai/v1/chat/completions \"HTTP/1.1 200 OK\"\n",
      "INFO:httpx:HTTP Request: POST http://193.187.173.33:8002/api/providers/openai/v1/chat/completions \"HTTP/1.1 200 OK\"\n",
      "INFO:httpx:HTTP Request: POST http://193.187.173.33:8002/api/providers/openai/v1/chat/completions \"HTTP/1.1 200 OK\"\n",
      "INFO:httpx:HTTP Request: POST http://193.187.173.33:8002/api/providers/openai/v1/chat/completions \"HTTP/1.1 200 OK\"\n",
      "INFO:httpx:HTTP Request: POST http://193.187.173.33:8002/api/providers/openai/v1/chat/completions \"HTTP/1.1 200 OK\"\n",
      "INFO:dialogue2graph.datasets.complex_dialogues.generation:✅ Successfully generated graph for travel booking\n"
     ]
    }
   ],
   "source": [
    "generated_graph = gen.invoke(topic=\"travel booking\")"
   ]
  },
  {
   "cell_type": "markdown",
   "metadata": {},
   "source": [
    "3. Save result as a `Graph` instance and visualise it"
   ]
  },
  {
   "cell_type": "code",
   "execution_count": 6,
   "metadata": {},
   "outputs": [
    {
     "data": {
      "image/png": "[encoded data removed]",
      "text/plain": [
       "<Figure size 700x500 with 1 Axes>"
      ]
     },
     "metadata": {},
     "output_type": "display_data"
    }
   ],
   "source": [
    "graph = Graph(generated_graph[0][\"graph\"])\n",
    "graph.visualise_short(\"Graph for 'travel booking' topic\")"
   ]
  },
  {
   "cell_type": "markdown",
   "metadata": {},
   "source": [
    "4. Visualise dialogues using `RecursiveDialogueSampler`"
   ]
  },
  {
   "cell_type": "code",
   "execution_count": 7,
   "metadata": {},
   "outputs": [
    {
     "name": "stdout",
     "output_type": "stream",
     "text": [
      "1 repeats works!\n"
     ]
    }
   ],
   "source": [
    "from dialogue2graph.pipelines.core.dialogue_sampling import RecursiveDialogueSampler\n",
    "\n",
    "sampler = RecursiveDialogueSampler()\n",
    "dialogues = sampler.invoke(graph=graph, upper_limit=10)"
   ]
  },
  {
   "cell_type": "markdown",
   "metadata": {},
   "source": [
    "**Example of generated dialogue**"
   ]
  },
  {
   "cell_type": "code",
   "execution_count": 8,
   "metadata": {},
   "outputs": [
    {
     "name": "stdout",
     "output_type": "stream",
     "text": [
      "assistant: Welcome to Travel Booker! Where would you like to travel?\n",
      "user: I want to go to Paris\n",
      "assistant: Great choice! What dates are you planning to travel?\n",
      "user: From June 1 to June 10\n",
      "assistant: How many travelers will be going on this trip?\n",
      "user: There will be 2 of us\n",
      "assistant: Do you prefer economy or business class?\n",
      "user: I prefer business class\n",
      "assistant: Here is a summary of your trip: Destination: [destination], Dates: [dates], Travelers: [number], Class: [preference]. Would you like to confirm?\n",
      "user: I want to change my class preference\n",
      "assistant: Do you prefer economy or business class?\n"
     ]
    }
   ],
   "source": [
    "print(dialogues[0])"
   ]
  }
 ],
 "metadata": {
  "kernelspec": {
   "display_name": ".venv",
   "language": "python",
   "name": "python3"
  },
  "language_info": {
   "codemirror_mode": {
    "name": "ipython",
    "version": 3
   },
   "file_extension": ".py",
   "mimetype": "text/x-python",
   "name": "python",
   "nbconvert_exporter": "python",
   "pygments_lexer": "ipython3",
   "version": "3.11.8"
  }
 },
 "nbformat": 4,
 "nbformat_minor": 2
}
