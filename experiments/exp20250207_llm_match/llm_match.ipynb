{
 "cells": [
  {
   "cell_type": "code",
   "execution_count": 2,
   "metadata": {},
   "outputs": [],
   "source": [
    "import json\n",
    "import numpy as np\n",
    "from langchain_community.cross_encoders.huggingface import HuggingFaceCrossEncoder\n",
    "from langchain.output_parsers import PydanticOutputParser, OutputFixingParser\n",
    "from langchain.chat_models import ChatOpenAI"
   ]
  },
  {
   "cell_type": "code",
   "execution_count": 3,
   "metadata": {},
   "outputs": [],
   "source": [
    "%load_ext autoreload\n",
    "%autoreload 2"
   ]
  },
  {
   "cell_type": "code",
   "execution_count": 4,
   "metadata": {},
   "outputs": [
    {
     "name": "stderr",
     "output_type": "stream",
     "text": [
      "/home/peshkichev/miniconda3/envs/py11/lib/python3.11/site-packages/pydantic/_internal/_fields.py:192: UserWarning: Field name \"validate\" in \"Dialogue\" shadows an attribute in parent \"BaseModel\"\n",
      "  warnings.warn(\n",
      "/data/home/peshkichev/projects/chatsky-llm-autoconfig/dev_packages/chatsky_llm_autoconfig/chatsky_llm_autoconfig/algorithms/three_stages_graph_generation.py:19: LangChainDeprecationWarning: The class `HuggingFaceEmbeddings` was deprecated in LangChain 0.2.2 and will be removed in 1.0. An updated version of the class exists in the :class:`~langchain-huggingface package and should be used instead. To use it run `pip install -U :class:`~langchain-huggingface` and import as `from :class:`~langchain_huggingface import HuggingFaceEmbeddings``.\n",
      "  embeddings = HuggingFaceEmbeddings(model_name=env_settings.EMBEDDER_MODEL, model_kwargs={\"device\": env_settings.EMBEDDER_DEVICE})\n"
     ]
    }
   ],
   "source": [
    "from chatsky_llm_autoconfig.graph import BaseGraph, Graph\n",
    "from chatsky_llm_autoconfig.metrics.embedder import get_embedding\n",
    "from chatsky_llm_autoconfig.metrics.automatic_metrics import is_same_structure, llm_match\n",
    "from chatsky_llm_autoconfig.schemas import CompareResponse\n",
    "from chatsky_llm_autoconfig.algorithms.three_stages_graph_generation import ThreeStagesGraphGenerator\n",
    "from chatsky_llm_autoconfig.dialogue import Dialogue"
   ]
  },
  {
   "cell_type": "code",
   "execution_count": 5,
   "metadata": {},
   "outputs": [
    {
     "name": "stdout",
     "output_type": "stream",
     "text": [
      "BAAI/bge-m3\n"
     ]
    }
   ],
   "source": [
    "from settings import EnvSettings\n",
    "from utils import call_llm_api, read_json\n",
    "from compare_prompt import (\n",
    "    compare_graphs_prompt, graph_example_1, result_form\n",
    ")"
   ]
  },
  {
   "cell_type": "code",
   "execution_count": 6,
   "metadata": {},
   "outputs": [],
   "source": [
    "env_settings = EnvSettings()\n"
   ]
  },
  {
   "cell_type": "code",
   "execution_count": 7,
   "metadata": {},
   "outputs": [],
   "source": [
    "evaluator = HuggingFaceCrossEncoder(model_name=env_settings.RERANKER_MODEL, model_kwargs={\"device\": env_settings.EMBEDDER_DEVICE})\n",
    "graph_generator = ThreeStagesGraphGenerator()"
   ]
  },
  {
   "cell_type": "code",
   "execution_count": 13,
   "metadata": {},
   "outputs": [
    {
     "data": {
      "text/plain": [
       "'BAAI/bge-m3'"
      ]
     },
     "execution_count": 13,
     "metadata": {},
     "output_type": "execute_result"
    }
   ],
   "source": [
    "env_settings.EMBEDDER_MODEL"
   ]
  },
  {
   "cell_type": "code",
   "execution_count": 22,
   "metadata": {},
   "outputs": [
    {
     "data": {
      "text/plain": [
       "0.99"
      ]
     },
     "execution_count": 22,
     "metadata": {},
     "output_type": "execute_result"
    }
   ],
   "source": [
    "env_settings.SIM_THRESHOLD"
   ]
  },
  {
   "cell_type": "code",
   "execution_count": 28,
   "metadata": {},
   "outputs": [
    {
     "data": {
      "text/plain": [
       "0.995"
      ]
     },
     "execution_count": 28,
     "metadata": {},
     "output_type": "execute_result"
    }
   ],
   "source": [
    "env_settings.EMBEDDER_TYPO"
   ]
  },
  {
   "cell_type": "code",
   "execution_count": 8,
   "metadata": {},
   "outputs": [],
   "source": [
    "def read_json(path):\n",
    "    with open(path, mode=\"r\") as file:\n",
    "        data = file.read()\n",
    "    return json.loads(data)"
   ]
  },
  {
   "cell_type": "code",
   "execution_count": 22,
   "metadata": {},
   "outputs": [
    {
     "data": {
      "text/plain": [
       "'/data/home/peshkichev/projects/chatsky-llm-autoconfig/experiments/exp20250207_llm_match'"
      ]
     },
     "execution_count": 22,
     "metadata": {},
     "output_type": "execute_result"
    }
   ],
   "source": [
    "%pwd"
   ]
  },
  {
   "cell_type": "code",
   "execution_count": 9,
   "metadata": {},
   "outputs": [],
   "source": [
    "dialogue_to_graph = read_json(\"../2025.01.22_sampler/data/generated_25.json\")\n",
    "results = read_json(\"../../dev_packages/chatsky_llm_autoconfig/chatsky_llm_autoconfig/autometrics/test_data/saved.json\")[\"o1-mini\"][\"Feb_10\"]"
   ]
  },
  {
   "cell_type": "code",
   "execution_count": 10,
   "metadata": {},
   "outputs": [],
   "source": [
    "import logging\n",
    "logging.getLogger(\"langchain_core.vectorstores.base\").setLevel(logging.ERROR)"
   ]
  },
  {
   "cell_type": "code",
   "execution_count": 19,
   "metadata": {},
   "outputs": [
    {
     "data": {
      "text/plain": [
       "91"
      ]
     },
     "execution_count": 19,
     "metadata": {},
     "output_type": "execute_result"
    }
   ],
   "source": [
    "len(dialogue_to_graph)"
   ]
  },
  {
   "cell_type": "code",
   "execution_count": 36,
   "metadata": {},
   "outputs": [
    {
     "name": "stdout",
     "output_type": "stream",
     "text": [
      "LISTS_N:  [(0, [\"I'd like to check my baggage allowance for my international flight.\"]), (1, [\"I'm flying with Delta in Economy class.\"]), (2, [\"I'd like to add an additional bag.\", 'Do you have information on carry-on baggage?', 'Actually, can I change my class to Business?', 'I would like to upgrade to Business class.']), (3, ['Actually, can I change my class to Business?', 'Yes, please add the extra bag.']), (4, ['Yes, that works.']), (5, ['Yes, please tell me about carry-on baggage.']), (6, [\"No, that's all. Thank you!\"]), (7, ['']), (8, ['Do you have information on carry-on baggage?', \"I'd like to add an additional bag.\", 'Actually, can I change my class to Business?', 'I would like to upgrade to Business class.']), (9, [\"No, that's all. Thank you!\"])]\n",
      "LISTS:  [(0, 'Hello! How can I assist you today?'), (1, 'Sure! Could you please provide your airline and the class of your ticket?'), (2, 'Delta Economy class on international flights includes 1 checked luggage up to 23kg. Do you want to include an extra bag or need further assistance?'), (3, 'Certainly! Adding an additional bag will incur a fee of $50. Would you like to proceed with adding it?'), (4, 'Of course! Let me update your class to Business. The baggage allowance for Delta Business class is 2 checked bags up to 32kg each. Is there anything else I can help you with?'), (5, 'Is there anything else I can assist you with, such as carry-on baggage?'), (6, 'Certainly! Your carry-on allowance includes one bag up to 7kg and one personal item.'), (7, \"You're welcome! Have a great flight!\"), (8, 'For Delta Economy class on international flights, the standard baggage allowance is 1 checked bag up to 23kg. Would you like to add an additional bag or have any other questions?'), (9, 'Your additional bag has been added to your booking. Is there anything else I can help you with?')]\n",
      "NODES:  [['For Delta Economy class on international flights, the standard baggage allowance is 1 checked bag up to 23kg. Would you like to add an additional bag or have any other questions?', 'Delta Economy class on international flights includes 1 checked luggage up to 23kg. Do you want to include an extra bag or need further assistance?'], ['Hello! How can I assist you today?'], ['Sure! Could you please provide your airline and the class of your ticket?'], ['Certainly! Adding an additional bag will incur a fee of $50. Would you like to proceed with adding it?'], ['Of course! Let me update your class to Business. The baggage allowance for Delta Business class is 2 checked bags up to 32kg each. Is there anything else I can help you with?'], ['Is there anything else I can assist you with, such as carry-on baggage?'], ['Certainly! Your carry-on allowance includes one bag up to 7kg and one personal item.'], [\"You're welcome! Have a great flight!\"], ['Your additional bag has been added to your booking. Is there anything else I can help you with?']]\n",
      "NODES:  [{'id': 1, 'label': '', 'is_start': False, 'utterances': ['For Delta Economy class on international flights, the standard baggage allowance is 1 checked bag up to 23kg. Would you like to add an additional bag or have any other questions?', 'Delta Economy class on international flights includes 1 checked luggage up to 23kg. Do you want to include an extra bag or need further assistance?']}, {'id': 2, 'label': '', 'is_start': True, 'utterances': ['Hello! How can I assist you today?']}, {'id': 3, 'label': '', 'is_start': False, 'utterances': ['Sure! Could you please provide your airline and the class of your ticket?']}, {'id': 4, 'label': '', 'is_start': False, 'utterances': ['Certainly! Adding an additional bag will incur a fee of $50. Would you like to proceed with adding it?']}, {'id': 5, 'label': '', 'is_start': False, 'utterances': ['Of course! Let me update your class to Business. The baggage allowance for Delta Business class is 2 checked bags up to 32kg each. Is there anything else I can help you with?']}, {'id': 6, 'label': '', 'is_start': False, 'utterances': ['Is there anything else I can assist you with, such as carry-on baggage?']}, {'id': 7, 'label': '', 'is_start': False, 'utterances': ['Certainly! Your carry-on allowance includes one bag up to 7kg and one personal item.']}, {'id': 8, 'label': '', 'is_start': False, 'utterances': [\"You're welcome! Have a great flight!\"]}, {'id': 9, 'label': '', 'is_start': False, 'utterances': ['Your additional bag has been added to your booking. Is there anything else I can help you with?']}]\n",
      "RESULT:  {'edges': [{'source': 1, 'target': 4, 'utterances': [\"I'd like to add an additional bag.\"]}, {'source': 1, 'target': 6, 'utterances': ['Do you have information on carry-on baggage?']}, {'source': 2, 'target': 3, 'utterances': [\"I'd like to check my baggage allowance for my international flight.\"]}, {'source': 3, 'target': 1, 'utterances': [\"I'm flying with Delta in Economy class.\"]}, {'source': 4, 'target': 5, 'utterances': ['Actually, can I change my class to Business?']}, {'source': 5, 'target': 1, 'utterances': ['Yes, that works.']}, {'source': 6, 'target': 7, 'utterances': ['Yes, please tell me about carry-on baggage.']}, {'source': 7, 'target': 8, 'utterances': [\"No, that's all. Thank you!\"]}, {'source': 1, 'target': 5, 'utterances': ['Actually, can I change my class to Business?', 'I would like to upgrade to Business class.']}, {'source': 4, 'target': 9, 'utterances': ['Yes, please add the extra bag.']}, {'source': 9, 'target': 8, 'utterances': [\"No, that's all. Thank you!\"]}], 'nodes': [{'id': 1, 'label': '', 'is_start': False, 'utterances': ['For Delta Economy class on international flights, the standard baggage allowance is 1 checked bag up to 23kg. Would you like to add an additional bag or have any other questions?', 'Delta Economy class on international flights includes 1 checked luggage up to 23kg. Do you want to include an extra bag or need further assistance?']}, {'id': 2, 'label': '', 'is_start': True, 'utterances': ['Hello! How can I assist you today?']}, {'id': 3, 'label': '', 'is_start': False, 'utterances': ['Sure! Could you please provide your airline and the class of your ticket?']}, {'id': 4, 'label': '', 'is_start': False, 'utterances': ['Certainly! Adding an additional bag will incur a fee of $50. Would you like to proceed with adding it?']}, {'id': 5, 'label': '', 'is_start': False, 'utterances': ['Of course! Let me update your class to Business. The baggage allowance for Delta Business class is 2 checked bags up to 32kg each. Is there anything else I can help you with?']}, {'id': 6, 'label': '', 'is_start': False, 'utterances': ['Is there anything else I can assist you with, such as carry-on baggage?']}, {'id': 7, 'label': '', 'is_start': False, 'utterances': ['Certainly! Your carry-on allowance includes one bag up to 7kg and one personal item.']}, {'id': 8, 'label': '', 'is_start': False, 'utterances': [\"You're welcome! Have a great flight!\"]}, {'id': 9, 'label': '', 'is_start': False, 'utterances': ['Your additional bag has been added to your booking. Is there anything else I can help you with?']}]} \n",
      "\n",
      "SKIP\n",
      "LEN1:  [1, 1, 1, 2, 1, 1, 1, 1, 1, 1, 1] LEN2:  [1, 1, 2, 1, 1, 1, 1, 1, 1, 1, 1]\n",
      "N_MAX:  [1, 2, 0, 3, 8, 7, 4, 5, 6]\n",
      "MAX:  [1, 2, 0, 3, 8, 7, 4, 5, 6]\n",
      "MAPS:  {1: 2, 2: 3, 3: 1, 4: 4, 5: 9, 6: 8, 7: 5, 8: 6, 9: 7}\n",
      "NN:  1 2\n",
      "NN:  2 3\n",
      "NN:  3 1\n",
      "NN:  4 4\n",
      "NN:  5 9\n",
      "NN:  6 8\n",
      "NN:  7 5\n",
      "NN:  8 6\n",
      "NN:  9 7\n",
      "NODES:  0.9947034\n",
      "ALL:  0.9937171\n",
      "MIN:  0.9937171\n"
     ]
    },
    {
     "data": {
      "text/plain": [
       "True"
      ]
     },
     "execution_count": 36,
     "metadata": {},
     "output_type": "execute_result"
    }
   ],
   "source": [
    "case = dialogue_to_graph[88]\n",
    "result_graph = graph_generator.invoke([Dialogue.from_list(c[\"messages\"]) for c in case[\"dialogues\"]])\n",
    "llm_match(Graph(case['graph']),result_graph)"
   ]
  },
  {
   "cell_type": "code",
   "execution_count": 21,
   "metadata": {},
   "outputs": [
    {
     "data": {
      "text/plain": [
       "{'edges': [{'source': 1,\n",
       "   'target': 2,\n",
       "   'utterances': ['I need help recovering deleted voicemail messages.']},\n",
       "  {'source': 2,\n",
       "   'target': 3,\n",
       "   'utterances': ['I accidentally deleted some voicemails from my phone.']},\n",
       "  {'source': 3,\n",
       "   'target': 4,\n",
       "   'utterances': [\"I'm using an iPhone.\",\n",
       "    'Actually, I use an Android phone.']},\n",
       "  {'source': 4,\n",
       "   'target': 5,\n",
       "   'utterances': [\"No, I haven't checked that yet.\"]},\n",
       "  {'source': 5,\n",
       "   'target': 6,\n",
       "   'utterances': ['I found them! Can I restore them?']},\n",
       "  {'source': 6, 'target': 7, 'utterances': ['Yes, please.']},\n",
       "  {'source': 3,\n",
       "   'target': 8,\n",
       "   'utterances': ['Actually, I use an Android phone.']},\n",
       "  {'source': 8,\n",
       "   'target': 5,\n",
       "   'utterances': ['Yes, I checked the trash and found them.']},\n",
       "  {'source': 6,\n",
       "   'target': 9,\n",
       "   'utterances': [\"Actually, I don't need help anymore.\"]},\n",
       "  {'source': 5,\n",
       "   'target': 9,\n",
       "   'utterances': [\"I changed my mind, I don't need to recover voicemails.\"]}],\n",
       " 'nodes': [{'id': 1,\n",
       "   'label': 'greeting',\n",
       "   'is_start': True,\n",
       "   'utterances': ['Hello! How can I assist you today?']},\n",
       "  {'id': 2,\n",
       "   'label': 'ask_details_deletion',\n",
       "   'is_start': False,\n",
       "   'utterances': [\"I'm sorry to hear that. Could you please provide more details about the deletion?\"]},\n",
       "  {'id': 3,\n",
       "   'label': 'ask_phone_type',\n",
       "   'is_start': False,\n",
       "   'utterances': ['I understand. What type of phone are you using?']},\n",
       "  {'id': 4,\n",
       "   'label': 'check_recently_deleted',\n",
       "   'is_start': False,\n",
       "   'utterances': [\"Great. Have you tried checking the 'Recently Deleted' folder in your voicemail app?\",\n",
       "    \"Sure. Have you looked in the 'Recently Deleted' section of your voicemail service?\"]},\n",
       "  {'id': 5,\n",
       "   'label': 'instruct_check_deleted_folder',\n",
       "   'is_start': False,\n",
       "   'utterances': [\"Please check the 'Recently Deleted' folder and let me know if the voicemails are there.\"]},\n",
       "  {'id': 6,\n",
       "   'label': 'offer_restore_instructions',\n",
       "   'is_start': False,\n",
       "   'utterances': ['Yes, you can restore the deleted voicemails from there. Would you like instructions on how to do that?']},\n",
       "  {'id': 7,\n",
       "   'label': 'provide_restore_steps',\n",
       "   'is_start': False,\n",
       "   'utterances': [\"To restore, simply select the voicemails you want to recover and tap the 'Restore' button.\"]},\n",
       "  {'id': 8,\n",
       "   'label': 'alternative_phone_type',\n",
       "   'is_start': False,\n",
       "   'utterances': ['No problem. Have you checked the trash or deleted items in your voicemail app?']},\n",
       "  {'id': 9,\n",
       "   'label': 'goodbye',\n",
       "   'is_start': False,\n",
       "   'utterances': ['Alright, if you need anything else, feel free to ask. Have a great day!']}]}"
      ]
     },
     "execution_count": 21,
     "metadata": {},
     "output_type": "execute_result"
    }
   ],
   "source": [
    "case['graph']"
   ]
  },
  {
   "cell_type": "code",
   "execution_count": 32,
   "metadata": {},
   "outputs": [
    {
     "data": {
      "text/plain": [
       "True"
      ]
     },
     "execution_count": 32,
     "metadata": {},
     "output_type": "execute_result"
    }
   ],
   "source": [
    "is_same_structure(Graph(case['graph']),Graph(result_graph))"
   ]
  },
  {
   "cell_type": "code",
   "execution_count": 16,
   "metadata": {},
   "outputs": [
    {
     "name": "stdout",
     "output_type": "stream",
     "text": [
      "LEN1:  [1, 3, 1, 1, 2, 2, 1, 1, 1, 1, 1, 1, 1, 1] LEN2:  [1, 3, 1, 1, 2, 2, 1, 1, 1, 1, 1, 1, 1, 1]\n",
      "N_MAX:  [1, 2, 3, 4, 5, 7, 6, 8, 9, 0]\n",
      "MAX:  [1, 2, 3, 4, 5, 7, 6, 8, 9, 0]\n",
      "NODES:  0.9999999\n",
      "ALL:  0.99618053\n"
     ]
    },
    {
     "data": {
      "text/plain": [
       "True"
      ]
     },
     "execution_count": 16,
     "metadata": {},
     "output_type": "execute_result"
    }
   ],
   "source": [
    "llm_match(Graph(case['graph']),Graph(result_graph))"
   ]
  },
  {
   "cell_type": "code",
   "execution_count": 26,
   "metadata": {},
   "outputs": [
    {
     "data": {
      "text/plain": [
       "{'edges': [{'source': 1,\n",
       "   'target': 2,\n",
       "   'utterances': ['I want to transfer data to a new phone.']},\n",
       "  {'source': 2,\n",
       "   'target': 3,\n",
       "   'utterances': [\"I'm transferring from an Android.\",\n",
       "    'I have an Android phone.',\n",
       "    \"It's an Android device.\"]},\n",
       "  {'source': 2,\n",
       "   'target': 6,\n",
       "   'utterances': [\"I'm transferring from an iPhone.\"]},\n",
       "  {'source': 2,\n",
       "   'target': 10,\n",
       "   'utterances': ['I changed my mind, never mind.']},\n",
       "  {'source': 3,\n",
       "   'target': 4,\n",
       "   'utterances': [\"I'll use a cable.\", \"I'd like to use a cable.\"]},\n",
       "  {'source': 3,\n",
       "   'target': 5,\n",
       "   'utterances': [\"I'll transfer wirelessly.\",\n",
       "    \"I'd like to transfer wirelessly.\"]},\n",
       "  {'source': 4, 'target': 7, 'utterances': [\"I've connected the phones.\"]},\n",
       "  {'source': 4,\n",
       "   'target': 3,\n",
       "   'utterances': ['Actually, can I change to wireless instead.']},\n",
       "  {'source': 5, 'target': 7, 'utterances': ['Yes, proceed.']},\n",
       "  {'source': 5,\n",
       "   'target': 3,\n",
       "   'utterances': [\"Actually, I'd like to use a cable instead.\"]},\n",
       "  {'source': 6, 'target': 8, 'utterances': [\"I'll use iCloud.\"]},\n",
       "  {'source': 6, 'target': 4, 'utterances': [\"I'll use a cable.\"]},\n",
       "  {'source': 6,\n",
       "   'target': 10,\n",
       "   'utterances': ['Never mind, cancel the transfer.']},\n",
       "  {'source': 8, 'target': 9, 'utterances': ['Yes, start the transfer.']}],\n",
       " 'nodes': [{'id': 1,\n",
       "   'label': 'greeting',\n",
       "   'is_start': True,\n",
       "   'utterances': ['Greetings! What would you like to do today?',\n",
       "    'Hello! How can I assist you today?',\n",
       "    'Hi there! What can I help you with today?']},\n",
       "  {'id': 2,\n",
       "   'label': 'select_platform',\n",
       "   'is_start': False,\n",
       "   'utterances': ['Sure, I can help with that. Are you transferring from an Android or an iPhone?']},\n",
       "  {'id': 3,\n",
       "   'label': 'select_transfer_method_android',\n",
       "   'is_start': False,\n",
       "   'utterances': ['Great. Do you want to use a cable or transfer wirelessly?']},\n",
       "  {'id': 4,\n",
       "   'label': 'cable_transfer_android',\n",
       "   'is_start': False,\n",
       "   'utterances': [\"Please connect both phones using a compatible cable. Let me know once they're connected.\"]},\n",
       "  {'id': 5,\n",
       "   'label': 'wireless_transfer_android',\n",
       "   'is_start': False,\n",
       "   'utterances': ['Ensure both phones are connected to the same Wi-Fi network and have Bluetooth enabled. Ready to proceed?']},\n",
       "  {'id': 6,\n",
       "   'label': 'select_transfer_method_iphone',\n",
       "   'is_start': False,\n",
       "   'utterances': ['For iPhone transfers, do you want to use iCloud or a direct cable connection?']},\n",
       "  {'id': 7,\n",
       "   'label': 'transfer_complete_android',\n",
       "   'is_start': False,\n",
       "   'utterances': ['Transferring your data now. This may take a few minutes. Let me know if you need anything else.']},\n",
       "  {'id': 8,\n",
       "   'label': 'iCloud_transfer_iphone',\n",
       "   'is_start': False,\n",
       "   'utterances': ['Please sign in to your iCloud account on both devices. Ready to start the transfer?']},\n",
       "  {'id': 9,\n",
       "   'label': 'transfer_complete_iphone',\n",
       "   'is_start': False,\n",
       "   'utterances': ['Your data is being transferred via iCloud. This may take some time. Let me know if you need anything else.']},\n",
       "  {'id': 10,\n",
       "   'label': 'exit',\n",
       "   'is_start': False,\n",
       "   'utterances': ['Alright, let me know if you need anything else. Have a great day!',\n",
       "    'Okay, feel free to reach out if you need further assistance!']}]}"
      ]
     },
     "execution_count": 26,
     "metadata": {},
     "output_type": "execute_result"
    }
   ],
   "source": [
    "case['graph']"
   ]
  },
  {
   "cell_type": "code",
   "execution_count": 22,
   "metadata": {},
   "outputs": [
    {
     "name": "stdout",
     "output_type": "stream",
     "text": [
      "LEN1:  [1, 1, 1, 1, 1, 1, 1, 1, 1, 1, 1, 1, 1, 1, 1, 1, 1, 1] LEN2:  [1, 1, 1, 1, 1, 1, 1, 1, 1, 1, 1, 1, 1, 1, 1, 1, 1, 1]\n",
      "MAX:  [9, 0, 1, 2, 4, 5, 7, 3, 6, 8, 10]\n",
      "N_MAX:  [9, 0, 1, 2, 4, 5, 7, 3, 6, 8, 3]\n",
      "LLLLENS\n"
     ]
    },
    {
     "data": {
      "text/plain": [
       "False"
      ]
     },
     "execution_count": 22,
     "metadata": {},
     "output_type": "execute_result"
    }
   ],
   "source": [
    "llm_match(Graph(result_graph), Graph(case['graph']))"
   ]
  },
  {
   "cell_type": "code",
   "execution_count": 21,
   "metadata": {},
   "outputs": [
    {
     "name": "stdout",
     "output_type": "stream",
     "text": [
      "LEN1:  [1, 1, 1, 1, 1, 1, 1, 1, 1, 1, 1, 1, 1, 1, 1, 1, 1, 1] LEN2:  [1, 1, 1, 1, 1, 1, 1, 1, 1, 1, 1, 1, 1, 1, 1, 1, 1, 1]\n",
      "MAX:  [1, 2, 3, 7, 4, 5, 8, 6, 9, 0, 10]\n",
      "N_MAX:  [1, 2, 3, 7, 4, 5, 8, 6, 9, 0, 10]\n",
      "NODES:  0.970732\n",
      "ALL:  0.9805123\n"
     ]
    },
    {
     "data": {
      "text/plain": [
       "True"
      ]
     },
     "execution_count": 21,
     "metadata": {},
     "output_type": "execute_result"
    }
   ],
   "source": [
    "llm_match(Graph(case['graph']),Graph(result_graph))"
   ]
  },
  {
   "cell_type": "code",
   "execution_count": 15,
   "metadata": {},
   "outputs": [
    {
     "data": {
      "text/plain": [
       "{'edges': [{'source': 1,\n",
       "   'target': 2,\n",
       "   'utterances': ['I need braille documents.',\n",
       "    'I have a question about braille documents.']},\n",
       "  {'source': 2, 'target': 3, 'utterances': ['I need the annual report.']},\n",
       "  {'source': 2,\n",
       "   'target': 7,\n",
       "   'utterances': ['Actually, I want a different document.']},\n",
       "  {'source': 7, 'target': 3, 'utterances': [\"I'd like the user guide.\"]},\n",
       "  {'source': 3, 'target': 4, 'utterances': ['Email, please.']},\n",
       "  {'source': 3,\n",
       "   'target': 8,\n",
       "   'utterances': [\"Actually, I'd like to download it instead.\"]},\n",
       "  {'source': 8, 'target': 6, 'utterances': ['Download, please.']},\n",
       "  {'source': 4, 'target': 5, 'utterances': ['example@example.com.']},\n",
       "  {'source': 5, 'target': 6, 'utterances': [\"No, that's all.\"]},\n",
       "  {'source': 2,\n",
       "   'target': 6,\n",
       "   'utterances': [\"Nevermind, I don't need it anymore.\"]},\n",
       "  {'source': 3,\n",
       "   'target': 6,\n",
       "   'utterances': [\"Actually, I don't need the document.\"]},\n",
       "  {'source': 7, 'target': 6, 'utterances': ['I changed my mind.']},\n",
       "  {'source': 8, 'target': 6, 'utterances': ['I changed my mind again.']}],\n",
       " 'nodes': [{'id': 1,\n",
       "   'label': 'greeting',\n",
       "   'is_start': True,\n",
       "   'utterances': ['Hello! How can I assist you today?']},\n",
       "  {'id': 2,\n",
       "   'label': 'ask_document',\n",
       "   'is_start': False,\n",
       "   'utterances': ['Of course, which document are you looking for?',\n",
       "    'Sure, I can help with that. Which document do you need?']},\n",
       "  {'id': 3,\n",
       "   'label': 'ask_delivery',\n",
       "   'is_start': False,\n",
       "   'utterances': ['Great, how would you like to receive it? Via email or download?']},\n",
       "  {'id': 4,\n",
       "   'label': 'ask_email',\n",
       "   'is_start': False,\n",
       "   'utterances': ['Please provide your email address.']},\n",
       "  {'id': 5,\n",
       "   'label': 'confirm_send',\n",
       "   'is_start': False,\n",
       "   'utterances': ['Your braille copy will be sent to your email shortly. Is there anything else I can assist you with?']},\n",
       "  {'id': 6,\n",
       "   'label': 'end_conversation',\n",
       "   'is_start': False,\n",
       "   'utterances': ['Thank you! Have a great day.',\n",
       "    \"You're welcome! If you need anything else, feel free to ask. Goodbye!\"]},\n",
       "  {'id': 7,\n",
       "   'label': 'ask_document_change',\n",
       "   'is_start': False,\n",
       "   'utterances': ['Which other document would you like?']},\n",
       "  {'id': 8,\n",
       "   'label': 'confirm_download',\n",
       "   'is_start': False,\n",
       "   'utterances': ['Sure, you can download the document by clicking this link. Is there anything else I can help you with?']}]}"
      ]
     },
     "execution_count": 15,
     "metadata": {},
     "output_type": "execute_result"
    }
   ],
   "source": [
    "case['graph']"
   ]
  },
  {
   "cell_type": "code",
   "execution_count": null,
   "metadata": {},
   "outputs": [
    {
     "name": "stdout",
     "output_type": "stream",
     "text": [
      "FIRST:  8 9\n"
     ]
    },
    {
     "data": {
      "text/plain": [
       "False"
      ]
     },
     "execution_count": 11,
     "metadata": {},
     "output_type": "execute_result"
    }
   ],
   "source": [
    "dic = [d for d in results if list(d.keys())[0]==\"Reminding about renewal deadlines.Sending service expiration alerts.\"][0][\"Reminding about renewal deadlines.Sending service expiration alerts.\"][0]\n",
    "result_graph = {\"nodes\": dic['nodes'], \"edges\": dic['edges']}\n",
    "case = [d for d in dialogue_to_graph if d['topic']==\"Reminding about renewal deadlines.Sending service expiration alerts.\"][0]\n",
    "llm_match(Graph(case['graph']),Graph(result_graph))"
   ]
  },
  {
   "cell_type": "code",
   "execution_count": 12,
   "metadata": {},
   "outputs": [
    {
     "data": {
      "text/plain": [
       "{'nodes': [{'id': 1,\n",
       "   'label': '',\n",
       "   'is_start': False,\n",
       "   'utterances': [\"Excellent! Your renewal reminders are set to 30 days prior to the deadline and will be sent via SMS. Is there anything more you'd like to configure?\",\n",
       "    'Great! You will receive renewal reminders 30 days before the deadline via SMS. Would you like to set up anything else?',\n",
       "    \"Excellent! Your renewal reminders are set to 14 days prior to the deadline and will be sent via email. Is there anything more you'd like to configure?\"]},\n",
       "  {'id': 2,\n",
       "   'label': '',\n",
       "   'is_start': True,\n",
       "   'utterances': [\"Hello! I'm here to help you manage your service renewals. How can I assist you today?\"]},\n",
       "  {'id': 3,\n",
       "   'label': '',\n",
       "   'is_start': False,\n",
       "   'utterances': ['Sure! When would you like to receive the reminders? Please specify the number of days before the renewal deadline.']},\n",
       "  {'id': 4,\n",
       "   'label': '',\n",
       "   'is_start': False,\n",
       "   'utterances': ['Got it. How would you like to receive these reminders? Via email, SMS, or both?']},\n",
       "  {'id': 5,\n",
       "   'label': '',\n",
       "   'is_start': False,\n",
       "   'utterances': ['Of course! How many days before the renewal deadline would you like to receive reminders?']},\n",
       "  {'id': 6,\n",
       "   'label': '',\n",
       "   'is_start': False,\n",
       "   'utterances': ['Understood. How would you like to receive the reminders? Via email, SMS, or both?']},\n",
       "  {'id': 7,\n",
       "   'label': '',\n",
       "   'is_start': False,\n",
       "   'utterances': ['Your renewal reminders have been updated to 30 days before the deadline via SMS. Would you like to set up anything else?']},\n",
       "  {'id': 8,\n",
       "   'label': '',\n",
       "   'is_start': False,\n",
       "   'utterances': [\"You're welcome! If you need any further assistance, feel free to reach out. Have a great day!\"]},\n",
       "  {'id': 9,\n",
       "   'label': '',\n",
       "   'is_start': False,\n",
       "   'utterances': ['Great! You will receive renewal reminders 14 days before the deadline via email. Would you like to set up anything else?']}],\n",
       " 'edges': [{'source': 1, 'target': 8, 'utterances': [\"No, that's all.\"]},\n",
       "  {'source': 2,\n",
       "   'target': 3,\n",
       "   'utterances': ['I want to set up renewal reminders.']},\n",
       "  {'source': 3, 'target': 4, 'utterances': ['14 days before.']},\n",
       "  {'source': 4, 'target': 1, 'utterances': ['Email only.']},\n",
       "  {'source': 5, 'target': 6, 'utterances': ['30 days before.']},\n",
       "  {'source': 6, 'target': 7, 'utterances': ['SMS only.']},\n",
       "  {'source': 7, 'target': 1, 'utterances': [\"No, that's all.\"]},\n",
       "  {'source': 7, 'target': 9, 'utterances': [\"No, that's all.\"]},\n",
       "  {'source': 9, 'target': 8, 'utterances': [\"No, that's all.\"]},\n",
       "  {'source': 1,\n",
       "   'target': 5,\n",
       "   'utterances': ['Actually, can I change the number of days?',\n",
       "    'Can I modify the days?',\n",
       "    \"I'd like to change the reminder period.\"]},\n",
       "  {'source': 4, 'target': 9, 'utterances': ['Email only.']},\n",
       "  {'source': 9,\n",
       "   'target': 5,\n",
       "   'utterances': ['Actually, can I change the number of days?',\n",
       "    'Can I modify the days?',\n",
       "    \"I'd like to change the reminder period.\"]}]}"
      ]
     },
     "execution_count": 12,
     "metadata": {},
     "output_type": "execute_result"
    }
   ],
   "source": [
    "result_graph"
   ]
  },
  {
   "cell_type": "code",
   "execution_count": null,
   "metadata": {},
   "outputs": [
    {
     "name": "stdout",
     "output_type": "stream",
     "text": [
      "LISTS_N:  [(0, ['I would like to export my chat history.']), (1, [\"I'm using WhatsApp.\"]), (2, ['Without media.', 'With media.']), (3, ['Email.', 'Save to cloud storage.']), (4, ['Yes, I need something else.', 'No, thank you.']), (5, ['I want to export another chat.']), (6, ['Save to cloud storage.', 'Actually, can I change my media option?', 'Actually, can I change my delivery option?', 'Email.']), (7, ['No, thank you.', 'Yes, I need something else.']), (8, ['']), (9, [\"Sure, I'd like to export without media.\"]), (10, [\"Sure, I'd like to export without media.\"]), (11, ['Email.', 'Save to cloud storage.'])]\n",
      "LISTS:  [(0, 'Hello! How can I assist you today?'), (1, 'Sure, which messaging app are you using?'), (2, 'Would you like to export with or without media?'), (3, 'Understood. How would you like to receive your chat history? Via email or save to your cloud storage?'), (4, 'Your chat history is being sent to your email. Is there anything else I can help you with?'), (5, 'Sure, what else would you like assistance with?'), (6, 'Got it. Would you prefer to receive the chat history via email or save it to your cloud storage?'), (7, 'Your chat history is being exported to your cloud storage. Is there anything else I can help you with?'), (8, \"You're welcome! Have a great day!\"), (9, 'Certainly! Do you want to include media in your export?'), (10, 'Of course! Would you like to export with or without media?'), (11, 'Certainly! Would you prefer to receive the chat history via email or save it to your cloud storage?')]\n",
      "NODES:  [['Certainly! Do you want to include media in your export?', 'Of course! Would you like to export with or without media?'], ['Hello! How can I assist you today?'], ['Sure, which messaging app are you using?'], ['Would you like to export with or without media?'], ['Understood. How would you like to receive your chat history? Via email or save to your cloud storage?'], ['Your chat history is being sent to your email. Is there anything else I can help you with?'], ['Sure, what else would you like assistance with?'], ['Got it. Would you prefer to receive the chat history via email or save it to your cloud storage?'], ['Your chat history is being exported to your cloud storage. Is there anything else I can help you with?'], [\"You're welcome! Have a great day!\"], ['Certainly! Would you prefer to receive the chat history via email or save it to your cloud storage?']]\n",
      "NODES:  [{'id': 1, 'label': '', 'is_start': False, 'utterances': ['Certainly! Do you want to include media in your export?', 'Of course! Would you like to export with or without media?']}, {'id': 2, 'label': '', 'is_start': True, 'utterances': ['Hello! How can I assist you today?']}, {'id': 3, 'label': '', 'is_start': False, 'utterances': ['Sure, which messaging app are you using?']}, {'id': 4, 'label': '', 'is_start': False, 'utterances': ['Would you like to export with or without media?']}, {'id': 5, 'label': '', 'is_start': False, 'utterances': ['Understood. How would you like to receive your chat history? Via email or save to your cloud storage?']}, {'id': 6, 'label': '', 'is_start': False, 'utterances': ['Your chat history is being sent to your email. Is there anything else I can help you with?']}, {'id': 7, 'label': '', 'is_start': False, 'utterances': ['Sure, what else would you like assistance with?']}, {'id': 8, 'label': '', 'is_start': False, 'utterances': ['Got it. Would you prefer to receive the chat history via email or save it to your cloud storage?']}, {'id': 9, 'label': '', 'is_start': False, 'utterances': ['Your chat history is being exported to your cloud storage. Is there anything else I can help you with?']}, {'id': 10, 'label': '', 'is_start': False, 'utterances': [\"You're welcome! Have a great day!\"]}, {'id': 11, 'label': '', 'is_start': False, 'utterances': ['Certainly! Would you prefer to receive the chat history via email or save it to your cloud storage?']}]\n",
      "RESULT:  {'edges': [{'source': 2, 'target': 3, 'utterances': ['I would like to export my chat history.']}, {'source': 3, 'target': 4, 'utterances': [\"I'm using WhatsApp.\"]}, {'source': 4, 'target': 5, 'utterances': ['Without media.']}, {'source': 4, 'target': 8, 'utterances': ['With media.']}, {'source': 5, 'target': 6, 'utterances': ['Email.']}, {'source': 6, 'target': 7, 'utterances': ['Yes, I need something else.']}, {'source': 7, 'target': 3, 'utterances': ['I want to export another chat.']}, {'source': 8, 'target': 9, 'utterances': ['Save to cloud storage.']}, {'source': 9, 'target': 10, 'utterances': ['No, thank you.']}, {'source': 5, 'target': 9, 'utterances': ['Save to cloud storage.']}, {'source': 9, 'target': 7, 'utterances': ['Yes, I need something else.']}, {'source': 1, 'target': 8, 'utterances': [\"Sure, I'd like to export without media.\"]}, {'source': 8, 'target': 1, 'utterances': ['Actually, can I change my media option?']}, {'source': 6, 'target': 10, 'utterances': ['No, thank you.']}, {'source': 8, 'target': 11, 'utterances': ['Actually, can I change my delivery option?']}, {'source': 11, 'target': 6, 'utterances': ['Email.']}, {'source': 11, 'target': 9, 'utterances': ['Save to cloud storage.']}, {'source': 8, 'target': 6, 'utterances': ['Email.']}], 'nodes': [{'id': 1, 'label': '', 'is_start': False, 'utterances': ['Certainly! Do you want to include media in your export?', 'Of course! Would you like to export with or without media?']}, {'id': 2, 'label': '', 'is_start': True, 'utterances': ['Hello! How can I assist you today?']}, {'id': 3, 'label': '', 'is_start': False, 'utterances': ['Sure, which messaging app are you using?']}, {'id': 4, 'label': '', 'is_start': False, 'utterances': ['Would you like to export with or without media?']}, {'id': 5, 'label': '', 'is_start': False, 'utterances': ['Understood. How would you like to receive your chat history? Via email or save to your cloud storage?']}, {'id': 6, 'label': '', 'is_start': False, 'utterances': ['Your chat history is being sent to your email. Is there anything else I can help you with?']}, {'id': 7, 'label': '', 'is_start': False, 'utterances': ['Sure, what else would you like assistance with?']}, {'id': 8, 'label': '', 'is_start': False, 'utterances': ['Got it. Would you prefer to receive the chat history via email or save it to your cloud storage?']}, {'id': 9, 'label': '', 'is_start': False, 'utterances': ['Your chat history is being exported to your cloud storage. Is there anything else I can help you with?']}, {'id': 10, 'label': '', 'is_start': False, 'utterances': [\"You're welcome! Have a great day!\"]}, {'id': 11, 'label': '', 'is_start': False, 'utterances': ['Certainly! Would you prefer to receive the chat history via email or save it to your cloud storage?']}]} \n",
      "\n",
      "SKIP\n",
      "LEN1:  [1, 1, 1, 1, 1, 1, 1, 1, 1, 1, 1, 1, 1, 1, 1, 1, 1, 1] LEN2:  [1, 1, 1, 1, 1, 1, 1, 1, 1, 1, 1, 1, 1, 1, 1, 1, 1, 1]\n",
      "N_MAX:  [1, 2, 3, 7, 4, 5, 8, 6, 9, 0, 10]\n",
      "MAX:  [1, 2, 3, 7, 4, 5, 8, 6, 9, 0, 10]\n",
      "NODES:  0.970732\n",
      "ALL:  0.9805123\n"
     ]
    },
    {
     "data": {
      "text/plain": [
       "True"
      ]
     },
     "execution_count": 20,
     "metadata": {},
     "output_type": "execute_result"
    }
   ],
   "source": [
    "case = [d for d in dialogue_to_graph if d['topic']==\"Exporting chat history from messaging apps.\"][0]\n",
    "result_graph1 = graph_generator.invoke([Dialogue.from_list(c[\"messages\"]) for c in case[\"dialogues\"]])\n",
    "llm_match(Graph(case['graph']),result_graph1)\n"
   ]
  },
  {
   "cell_type": "code",
   "execution_count": 22,
   "metadata": {},
   "outputs": [
    {
     "data": {
      "text/plain": [
       "{'nodes': [{'id': 1,\n",
       "   'label': '',\n",
       "   'is_start': False,\n",
       "   'utterances': ['Certainly! Do you want to include media in your export?',\n",
       "    'Of course! Would you like to export with or without media?']},\n",
       "  {'id': 2,\n",
       "   'label': '',\n",
       "   'is_start': True,\n",
       "   'utterances': ['Hello! How can I assist you today?']},\n",
       "  {'id': 3,\n",
       "   'label': '',\n",
       "   'is_start': False,\n",
       "   'utterances': ['Sure, which messaging app are you using?']},\n",
       "  {'id': 4,\n",
       "   'label': '',\n",
       "   'is_start': False,\n",
       "   'utterances': ['Would you like to export with or without media?']},\n",
       "  {'id': 5,\n",
       "   'label': '',\n",
       "   'is_start': False,\n",
       "   'utterances': ['Understood. How would you like to receive your chat history? Via email or save to your cloud storage?']},\n",
       "  {'id': 6,\n",
       "   'label': '',\n",
       "   'is_start': False,\n",
       "   'utterances': ['Your chat history is being sent to your email. Is there anything else I can help you with?']},\n",
       "  {'id': 7,\n",
       "   'label': '',\n",
       "   'is_start': False,\n",
       "   'utterances': ['Sure, what else would you like assistance with?']},\n",
       "  {'id': 8,\n",
       "   'label': '',\n",
       "   'is_start': False,\n",
       "   'utterances': ['Got it. Would you prefer to receive the chat history via email or save it to your cloud storage?']},\n",
       "  {'id': 9,\n",
       "   'label': '',\n",
       "   'is_start': False,\n",
       "   'utterances': ['Your chat history is being exported to your cloud storage. Is there anything else I can help you with?']},\n",
       "  {'id': 10,\n",
       "   'label': '',\n",
       "   'is_start': False,\n",
       "   'utterances': [\"You're welcome! Have a great day!\"]},\n",
       "  {'id': 11,\n",
       "   'label': '',\n",
       "   'is_start': False,\n",
       "   'utterances': ['Certainly! Would you prefer to receive the chat history via email or save it to your cloud storage?']}],\n",
       " 'edges': [{'source': 2,\n",
       "   'target': 3,\n",
       "   'utterances': ['I would like to export my chat history.']},\n",
       "  {'source': 3, 'target': 4, 'utterances': [\"I'm using WhatsApp.\"]},\n",
       "  {'source': 4, 'target': 5, 'utterances': ['Without media.']},\n",
       "  {'source': 4, 'target': 8, 'utterances': ['With media.']},\n",
       "  {'source': 5, 'target': 6, 'utterances': ['Email.']},\n",
       "  {'source': 6, 'target': 7, 'utterances': ['Yes, I need something else.']},\n",
       "  {'source': 7, 'target': 3, 'utterances': ['I want to export another chat.']},\n",
       "  {'source': 8, 'target': 9, 'utterances': ['Save to cloud storage.']},\n",
       "  {'source': 9, 'target': 10, 'utterances': ['No, thank you.']},\n",
       "  {'source': 5, 'target': 9, 'utterances': ['Save to cloud storage.']},\n",
       "  {'source': 9, 'target': 7, 'utterances': ['Yes, I need something else.']},\n",
       "  {'source': 1,\n",
       "   'target': 8,\n",
       "   'utterances': [\"Sure, I'd like to export without media.\"]},\n",
       "  {'source': 8,\n",
       "   'target': 1,\n",
       "   'utterances': ['Actually, can I change my media option?']},\n",
       "  {'source': 6, 'target': 10, 'utterances': ['No, thank you.']},\n",
       "  {'source': 8,\n",
       "   'target': 11,\n",
       "   'utterances': ['Actually, can I change my delivery option?']},\n",
       "  {'source': 11, 'target': 6, 'utterances': ['Email.']},\n",
       "  {'source': 11, 'target': 9, 'utterances': ['Save to cloud storage.']},\n",
       "  {'source': 8, 'target': 6, 'utterances': ['Email.']}],\n",
       " 'reason': ''}"
      ]
     },
     "execution_count": 22,
     "metadata": {},
     "output_type": "execute_result"
    }
   ],
   "source": [
    "result_graph1.graph_dict"
   ]
  },
  {
   "cell_type": "code",
   "execution_count": 19,
   "metadata": {},
   "outputs": [
    {
     "data": {
      "text/plain": [
       "True"
      ]
     },
     "execution_count": 19,
     "metadata": {},
     "output_type": "execute_result"
    }
   ],
   "source": [
    "is_same_structure(Graph(case['graph']),result_graph)"
   ]
  },
  {
   "cell_type": "code",
   "execution_count": 20,
   "metadata": {},
   "outputs": [
    {
     "data": {
      "text/plain": [
       "{'nodes': [{'id': 1,\n",
       "   'label': '',\n",
       "   'is_start': False,\n",
       "   'utterances': ['Alright, let me know if you need anything else. Have a great day!',\n",
       "    'Okay, feel free to reach out if you need further assistance!']},\n",
       "  {'id': 2,\n",
       "   'label': '',\n",
       "   'is_start': True,\n",
       "   'utterances': ['Greetings! What would you like to do today?',\n",
       "    'Hello! How can I assist you today?',\n",
       "    'Hi there! What can I help you with today?']},\n",
       "  {'id': 3,\n",
       "   'label': '',\n",
       "   'is_start': False,\n",
       "   'utterances': ['Sure, I can help with that. Are you transferring from an Android or an iPhone?']},\n",
       "  {'id': 4,\n",
       "   'label': '',\n",
       "   'is_start': False,\n",
       "   'utterances': ['Great. Do you want to use a cable or transfer wirelessly?']},\n",
       "  {'id': 5,\n",
       "   'label': '',\n",
       "   'is_start': False,\n",
       "   'utterances': [\"Please connect both phones using a compatible cable. Let me know once they're connected.\"]},\n",
       "  {'id': 6,\n",
       "   'label': '',\n",
       "   'is_start': False,\n",
       "   'utterances': ['Ensure both phones are connected to the same Wi-Fi network and have Bluetooth enabled. Ready to proceed?']},\n",
       "  {'id': 7,\n",
       "   'label': '',\n",
       "   'is_start': False,\n",
       "   'utterances': ['Transferring your data now. This may take a few minutes. Let me know if you need anything else.']},\n",
       "  {'id': 8,\n",
       "   'label': '',\n",
       "   'is_start': False,\n",
       "   'utterances': ['For iPhone transfers, do you want to use iCloud or a direct cable connection?']},\n",
       "  {'id': 9,\n",
       "   'label': '',\n",
       "   'is_start': False,\n",
       "   'utterances': ['Please sign in to your iCloud account on both devices. Ready to start the transfer?']},\n",
       "  {'id': 10,\n",
       "   'label': '',\n",
       "   'is_start': False,\n",
       "   'utterances': ['Your data is being transferred via iCloud. This may take some time. Let me know if you need anything else.']}],\n",
       " 'edges': [{'source': 2,\n",
       "   'target': 3,\n",
       "   'utterances': ['I want to transfer data to a new phone.']},\n",
       "  {'source': 5,\n",
       "   'target': 4,\n",
       "   'utterances': ['Actually, can I change to wireless instead.']},\n",
       "  {'source': 6, 'target': 7, 'utterances': ['Yes, proceed.']},\n",
       "  {'source': 4,\n",
       "   'target': 6,\n",
       "   'utterances': [\"I'll transfer wirelessly.\",\n",
       "    \"I'd like to transfer wirelessly.\"]},\n",
       "  {'source': 4,\n",
       "   'target': 5,\n",
       "   'utterances': [\"I'll use a cable.\", \"I'd like to use a cable.\"]},\n",
       "  {'source': 3,\n",
       "   'target': 4,\n",
       "   'utterances': [\"I'm transferring from an Android.\",\n",
       "    'I have an Android phone.',\n",
       "    \"It's an Android device.\"]},\n",
       "  {'source': 5, 'target': 7, 'utterances': [\"I've connected the phones.\"]},\n",
       "  {'source': 6,\n",
       "   'target': 4,\n",
       "   'utterances': [\"Actually, I'd like to use a cable instead.\"]},\n",
       "  {'source': 3,\n",
       "   'target': 8,\n",
       "   'utterances': [\"I'm transferring from an iPhone.\"]},\n",
       "  {'source': 8, 'target': 9, 'utterances': [\"I'll use iCloud.\"]},\n",
       "  {'source': 9, 'target': 10, 'utterances': ['Yes, start the transfer.']},\n",
       "  {'source': 8, 'target': 10, 'utterances': [\"I'll use a cable.\"]},\n",
       "  {'source': 8,\n",
       "   'target': 1,\n",
       "   'utterances': ['Never mind, cancel the transfer.']},\n",
       "  {'source': 3,\n",
       "   'target': 1,\n",
       "   'utterances': ['I changed my mind, never mind.']}],\n",
       " 'reason': ''}"
      ]
     },
     "execution_count": 20,
     "metadata": {},
     "output_type": "execute_result"
    }
   ],
   "source": [
    "result_graph.graph_dict"
   ]
  },
  {
   "cell_type": "code",
   "execution_count": 34,
   "metadata": {},
   "outputs": [
    {
     "name": "stdout",
     "output_type": "stream",
     "text": [
      "LISTS_N:  [(0, [\"My cart won't let me proceed to checkout.\", \"I'm getting an error when I try to add items to the cart.\", 'The checkout page is not loading.', 'My cart keeps crashing when I try to add items.']), (1, ['Actually, can I change my browser?', \"No, I haven't tried that.\", \"Yes, but it didn't work.\"]), (2, ['I want to try Safari instead.']), (3, ['It works now.', 'Still having issues.']), (4, [\"No, that's all.\"]), (5, ['']), (6, ['It works now.', 'Still having issues.']), (7, [\"My cart won't let me proceed to checkout.\", \"I'm getting an error when I try to add items to the cart.\", 'The checkout page is not loading.', 'My cart keeps crashing when I try to add items.']), (8, [\"I'm using Chrome on Windows.\"]), (9, [\"Yes, but it didn't work.\", 'Actually, can I change my device?', \"No, I haven't tried that.\"]), (10, [\"It still doesn't work.\", 'It worked! Thank you.']), (11, ['']), (12, [\"No, I haven't cleared cache and cookies.\", 'Can I change my device?', \"Yes, I cleared cache and cookies, but it still doesn't work.\"]), (13, ['No, I want to stop.']), (14, [\"No, that's all.\"]), (15, [\"No, that's all.\"])]\n",
      "LISTS:  [(0, \"I'm sorry you're experiencing issues with your checkout cart. Can you please describe the problem?\"), (1, \"I understand. Let's try to resolve this. Have you tried refreshing the page?\"), (2, 'Of course! Which browser would you like to switch to?'), (3, 'Please try using Firefox and let me know if the issue persists.'), (4, 'Great to hear! Is there anything else I can help you with?'), (5, 'Thank you for contacting support. Have a nice day!'), (6, 'Please try using Safari and let me know if the issue persists.'), (7, \"Sorry to hear you're having trouble with your checkout cart. Could you please explain what's happening?\"), (8, 'What device and browser are you using?'), (9, 'Have you tried using a different browser or device?'), (10, 'Please try refreshing the page first and let me know if the issue persists.'), (11, 'I apologize for the inconvenience. Let me escalate this to our support team.'), (12, \"Okay, have you cleared your browser's cache and cookies?\"), (13, 'Sure, please let me know if you need further assistance.'), (14, \"You're welcome! Is there anything else I can help you with?\"), (15, 'Glad to hear that! Do you need any further assistance?')]\n",
      "\n",
      "\n",
      "STARTS:  I'm sorry you're experiencing issues with your checkout cart. Can you please describe the problem? [DialogueMessage(text=\"My cart won't let me proceed to checkout.\", participant='user'), DialogueMessage(text=\"I understand. Let's try to resolve this. Have you tried refreshing the page?\", participant='assistant'), DialogueMessage(text='Actually, can I change my browser?', participant='user'), DialogueMessage(text='Of course! Which browser would you like to switch to?', participant='assistant')]\n",
      "STARTS:  Sorry to hear you're having trouble with your checkout cart. Could you please explain what's happening? [DialogueMessage(text=\"My cart won't let me proceed to checkout.\", participant='user'), DialogueMessage(text=\"I understand. Let's try to resolve this. Have you tried refreshing the page?\", participant='assistant'), DialogueMessage(text='Actually, can I change my browser?', participant='user'), DialogueMessage(text='Of course! Which browser would you like to switch to?', participant='assistant')]\n",
      "TAIL_COND:  True I'm sorry you're experiencing issues with your checkout cart. Can you please describe the problem? Sorry to hear you're having trouble with your checkout cart. Could you please explain what's happening?\n",
      "\n",
      "\n",
      "STARTS:  Please try using Firefox and let me know if the issue persists. [DialogueMessage(text=\"I understand. Let's try to resolve this. Have you tried refreshing the page?\", participant='assistant'), DialogueMessage(text='Actually, can I change my browser?', participant='user'), DialogueMessage(text='Of course! Which browser would you like to switch to?', participant='assistant'), DialogueMessage(text='I want to try Safari instead.', participant='user'), DialogueMessage(text='It works now.', participant='user'), DialogueMessage(text='Great to hear! Is there anything else I can help you with?', participant='assistant'), DialogueMessage(text=\"No, that's all.\", participant='user'), DialogueMessage(text='Thank you for contacting support. Have a nice day!', participant='assistant')]\n",
      "STARTS:  Please try using Safari and let me know if the issue persists. [DialogueMessage(text=\"I understand. Let's try to resolve this. Have you tried refreshing the page?\", participant='assistant'), DialogueMessage(text='Actually, can I change my browser?', participant='user'), DialogueMessage(text='Of course! Which browser would you like to switch to?', participant='assistant'), DialogueMessage(text='I want to try Safari instead.', participant='user'), DialogueMessage(text='It works now.', participant='user'), DialogueMessage(text='Great to hear! Is there anything else I can help you with?', participant='assistant'), DialogueMessage(text=\"No, that's all.\", participant='user'), DialogueMessage(text='Thank you for contacting support. Have a nice day!', participant='assistant')]\n",
      "TAIL_COND:  True Please try using Firefox and let me know if the issue persists. Please try using Safari and let me know if the issue persists.\n",
      "\n",
      "\n",
      "STARTS:  You're welcome! Is there anything else I can help you with? [DialogueMessage(text=\"I understand. Let's try to resolve this. Have you tried refreshing the page?\", participant='assistant'), DialogueMessage(text=\"No, I haven't tried that.\", participant='user'), DialogueMessage(text='Please try refreshing the page first and let me know if the issue persists.', participant='assistant'), DialogueMessage(text='It worked! Thank you.', participant='user'), DialogueMessage(text=\"No, that's all.\", participant='user'), DialogueMessage(text='Thank you for contacting support. Have a nice day!', participant='assistant')]\n",
      "STARTS:  Glad to hear that! Do you need any further assistance? [DialogueMessage(text=\"I understand. Let's try to resolve this. Have you tried refreshing the page?\", participant='assistant'), DialogueMessage(text=\"No, I haven't tried that.\", participant='user'), DialogueMessage(text='Please try refreshing the page first and let me know if the issue persists.', participant='assistant'), DialogueMessage(text='It worked! Thank you.', participant='user'), DialogueMessage(text=\"No, that's all.\", participant='user'), DialogueMessage(text='Thank you for contacting support. Have a nice day!', participant='assistant')]\n",
      "TAIL_COND:  True You're welcome! Is there anything else I can help you with? Glad to hear that! Do you need any further assistance?\n",
      "LIST1:  []\n",
      "LIST2:  []\n",
      "TO_ADD:  [14, 15]\n",
      "LEFT:  [(3, 6), (0, 7)]\n",
      "LIST1:  []\n",
      "LIST2:  []\n",
      "TO_ADD:  [3, 6]\n",
      "LEFT:  [(0, 7)]\n",
      "LIST1:  []\n",
      "LIST2:  []\n",
      "TO_ADD:  [0, 7]\n",
      "LEFT:  []\n",
      "NODES:  [[\"You're welcome! Is there anything else I can help you with?\", 'Glad to hear that! Do you need any further assistance?'], ['Please try using Firefox and let me know if the issue persists.', 'Please try using Safari and let me know if the issue persists.'], [\"I'm sorry you're experiencing issues with your checkout cart. Can you please describe the problem?\", \"Sorry to hear you're having trouble with your checkout cart. Could you please explain what's happening?\"], [\"I understand. Let's try to resolve this. Have you tried refreshing the page?\"], ['Of course! Which browser would you like to switch to?'], ['Great to hear! Is there anything else I can help you with?'], ['Thank you for contacting support. Have a nice day!'], ['What device and browser are you using?'], ['Have you tried using a different browser or device?'], ['Please try refreshing the page first and let me know if the issue persists.'], ['I apologize for the inconvenience. Let me escalate this to our support team.'], [\"Okay, have you cleared your browser's cache and cookies?\"], ['Sure, please let me know if you need further assistance.']]\n",
      "NODES:  [{'id': 1, 'label': '', 'is_start': False, 'utterances': [\"You're welcome! Is there anything else I can help you with?\", 'Glad to hear that! Do you need any further assistance?']}, {'id': 2, 'label': '', 'is_start': False, 'utterances': ['Please try using Firefox and let me know if the issue persists.', 'Please try using Safari and let me know if the issue persists.']}, {'id': 3, 'label': '', 'is_start': True, 'utterances': [\"I'm sorry you're experiencing issues with your checkout cart. Can you please describe the problem?\", \"Sorry to hear you're having trouble with your checkout cart. Could you please explain what's happening?\"]}, {'id': 4, 'label': '', 'is_start': False, 'utterances': [\"I understand. Let's try to resolve this. Have you tried refreshing the page?\"]}, {'id': 5, 'label': '', 'is_start': False, 'utterances': ['Of course! Which browser would you like to switch to?']}, {'id': 6, 'label': '', 'is_start': False, 'utterances': ['Great to hear! Is there anything else I can help you with?']}, {'id': 7, 'label': '', 'is_start': False, 'utterances': ['Thank you for contacting support. Have a nice day!']}, {'id': 8, 'label': '', 'is_start': False, 'utterances': ['What device and browser are you using?']}, {'id': 9, 'label': '', 'is_start': False, 'utterances': ['Have you tried using a different browser or device?']}, {'id': 10, 'label': '', 'is_start': False, 'utterances': ['Please try refreshing the page first and let me know if the issue persists.']}, {'id': 11, 'label': '', 'is_start': False, 'utterances': ['I apologize for the inconvenience. Let me escalate this to our support team.']}, {'id': 12, 'label': '', 'is_start': False, 'utterances': [\"Okay, have you cleared your browser's cache and cookies?\"]}, {'id': 13, 'label': '', 'is_start': False, 'utterances': ['Sure, please let me know if you need further assistance.']}]\n",
      "IN!!!!!!!!!!!!!\n",
      "\n",
      "TEXTS:  [{'text': \"I'm sorry you're experiencing issues with your checkout cart. Can you please describe the problem?\", 'participant': 'assistant'}, {'text': \"My cart won't let me proceed to checkout.\", 'participant': 'user'}, {'text': \"I understand. Let's try to resolve this. Have you tried refreshing the page?\", 'participant': 'assistant'}, {'text': 'Actually, can I change my browser?', 'participant': 'user'}, {'text': 'Of course! Which browser would you like to switch to?', 'participant': 'assistant'}, {'text': 'I want to try Safari instead.', 'participant': 'user'}, {'text': 'Please try using Firefox and let me know if the issue persists.', 'participant': 'assistant'}, {'text': 'It works now.', 'participant': 'user'}, {'text': 'Great to hear! Is there anything else I can help you with?', 'participant': 'assistant'}, {'text': \"No, that's all.\", 'participant': 'user'}, {'text': 'Thank you for contacting support. Have a nice day!', 'participant': 'assistant'}]\n",
      "ASSISTANT_STORE:  {'ids': ['0', '1', '2', '3', '4', '5'], 'embeddings': None, 'documents': [\"I'm sorry you're experiencing issues with your checkout cart. Can you please describe the problem?\", \"I understand. Let's try to resolve this. Have you tried refreshing the page?\", 'Of course! Which browser would you like to switch to?', 'Please try using Firefox and let me know if the issue persists.', 'Great to hear! Is there anything else I can help you with?', 'Thank you for contacting support. Have a nice day!'], 'uris': None, 'data': None, 'metadatas': [{'id': 0}, {'id': 1}, {'id': 2}, {'id': 3}, {'id': 4}, {'id': 5}], 'included': [<IncludeEnum.documents: 'documents'>, <IncludeEnum.metadatas: 'metadatas'>]}\n",
      "DOCS:  []\n",
      "UTT:  You're welcome! Is there anything else I can help you with?\n",
      "DOCS:  []\n",
      "UTT:  Glad to hear that! Do you need any further assistance?\n",
      "DOCS:  [(Document(id='3', metadata={'id': 3}, page_content='Please try using Firefox and let me know if the issue persists.'), 0.9999999999978206)]\n",
      "UTT:  Please try using Firefox and let me know if the issue persists.\n",
      "DOCS:  []\n",
      "UTT:  Please try using Safari and let me know if the issue persists.\n",
      "DOCS:  [(Document(id='0', metadata={'id': 0}, page_content=\"I'm sorry you're experiencing issues with your checkout cart. Can you please describe the problem?\"), 0.9999999999989942)]\n",
      "UTT:  I'm sorry you're experiencing issues with your checkout cart. Can you please describe the problem?\n",
      "DOCS:  []\n",
      "UTT:  Sorry to hear you're having trouble with your checkout cart. Could you please explain what's happening?\n",
      "DOCS:  [(Document(id='1', metadata={'id': 1}, page_content=\"I understand. Let's try to resolve this. Have you tried refreshing the page?\"), 0.9999999999988993)]\n",
      "UTT:  I understand. Let's try to resolve this. Have you tried refreshing the page?\n",
      "DOCS:  [(Document(id='2', metadata={'id': 2}, page_content='Of course! Which browser would you like to switch to?'), 0.9999999999992603)]\n",
      "UTT:  Of course! Which browser would you like to switch to?\n",
      "DOCS:  [(Document(id='4', metadata={'id': 4}, page_content='Great to hear! Is there anything else I can help you with?'), 0.999999999999202)]\n",
      "UTT:  Great to hear! Is there anything else I can help you with?\n",
      "DOCS:  [(Document(id='5', metadata={'id': 5}, page_content='Thank you for contacting support. Have a nice day!'), 0.9999999999991527)]\n",
      "UTT:  Thank you for contacting support. Have a nice day!\n",
      "DOCS:  []\n",
      "UTT:  What device and browser are you using?\n",
      "DOCS:  []\n",
      "UTT:  Have you tried using a different browser or device?\n",
      "DOCS:  []\n",
      "UTT:  Please try refreshing the page first and let me know if the issue persists.\n",
      "DOCS:  []\n",
      "UTT:  I apologize for the inconvenience. Let me escalate this to our support team.\n",
      "DOCS:  []\n",
      "UTT:  Okay, have you cleared your browser's cache and cookies?\n",
      "DOCS:  []\n",
      "UTT:  Sure, please let me know if you need further assistance.\n",
      "TEXTS:  [{'text': \"I'm sorry you're experiencing issues with your checkout cart. Can you please describe the problem?\", 'participant': 'assistant'}, {'text': \"My cart won't let me proceed to checkout.\", 'participant': 'user'}, {'text': \"I understand. Let's try to resolve this. Have you tried refreshing the page?\", 'participant': 'assistant'}, {'text': 'Actually, can I change my browser?', 'participant': 'user'}, {'text': 'Of course! Which browser would you like to switch to?', 'participant': 'assistant'}, {'text': 'I want to try Safari instead.', 'participant': 'user'}, {'text': 'Please try using Safari and let me know if the issue persists.', 'participant': 'assistant'}, {'text': 'It works now.', 'participant': 'user'}, {'text': 'Great to hear! Is there anything else I can help you with?', 'participant': 'assistant'}, {'text': \"No, that's all.\", 'participant': 'user'}, {'text': 'Thank you for contacting support. Have a nice day!', 'participant': 'assistant'}]\n",
      "ASSISTANT_STORE:  {'ids': ['0', '1', '2', '3', '4', '5'], 'embeddings': None, 'documents': [\"I'm sorry you're experiencing issues with your checkout cart. Can you please describe the problem?\", \"I understand. Let's try to resolve this. Have you tried refreshing the page?\", 'Of course! Which browser would you like to switch to?', 'Please try using Safari and let me know if the issue persists.', 'Great to hear! Is there anything else I can help you with?', 'Thank you for contacting support. Have a nice day!'], 'uris': None, 'data': None, 'metadatas': [{'id': 0}, {'id': 1}, {'id': 2}, {'id': 3}, {'id': 4}, {'id': 5}], 'included': [<IncludeEnum.documents: 'documents'>, <IncludeEnum.metadatas: 'metadatas'>]}\n",
      "DOCS:  []\n",
      "UTT:  You're welcome! Is there anything else I can help you with?\n",
      "DOCS:  []\n",
      "UTT:  Glad to hear that! Do you need any further assistance?\n",
      "DOCS:  []\n",
      "UTT:  Please try using Firefox and let me know if the issue persists.\n",
      "DOCS:  [(Document(id='3', metadata={'id': 3}, page_content='Please try using Safari and let me know if the issue persists.'), 0.9999999999987635)]\n",
      "UTT:  Please try using Safari and let me know if the issue persists.\n",
      "DOCS:  [(Document(id='0', metadata={'id': 0}, page_content=\"I'm sorry you're experiencing issues with your checkout cart. Can you please describe the problem?\"), 0.9999999999989942)]\n",
      "UTT:  I'm sorry you're experiencing issues with your checkout cart. Can you please describe the problem?\n",
      "DOCS:  []\n",
      "UTT:  Sorry to hear you're having trouble with your checkout cart. Could you please explain what's happening?\n",
      "DOCS:  [(Document(id='1', metadata={'id': 1}, page_content=\"I understand. Let's try to resolve this. Have you tried refreshing the page?\"), 0.9999999999988993)]\n",
      "UTT:  I understand. Let's try to resolve this. Have you tried refreshing the page?\n",
      "DOCS:  [(Document(id='2', metadata={'id': 2}, page_content='Of course! Which browser would you like to switch to?'), 0.9999999999992603)]\n",
      "UTT:  Of course! Which browser would you like to switch to?\n",
      "DOCS:  [(Document(id='4', metadata={'id': 4}, page_content='Great to hear! Is there anything else I can help you with?'), 0.999999999999202)]\n",
      "UTT:  Great to hear! Is there anything else I can help you with?\n",
      "DOCS:  [(Document(id='5', metadata={'id': 5}, page_content='Thank you for contacting support. Have a nice day!'), 0.9999999999991527)]\n",
      "UTT:  Thank you for contacting support. Have a nice day!\n",
      "DOCS:  []\n",
      "UTT:  What device and browser are you using?\n",
      "DOCS:  []\n",
      "UTT:  Have you tried using a different browser or device?\n",
      "DOCS:  []\n",
      "UTT:  Please try refreshing the page first and let me know if the issue persists.\n",
      "DOCS:  []\n",
      "UTT:  I apologize for the inconvenience. Let me escalate this to our support team.\n",
      "DOCS:  []\n",
      "UTT:  Okay, have you cleared your browser's cache and cookies?\n",
      "DOCS:  []\n",
      "UTT:  Sure, please let me know if you need further assistance.\n",
      "TEXTS:  [{'text': \"Sorry to hear you're having trouble with your checkout cart. Could you please explain what's happening?\", 'participant': 'assistant'}, {'text': \"My cart won't let me proceed to checkout.\", 'participant': 'user'}, {'text': \"I understand. Let's try to resolve this. Have you tried refreshing the page?\", 'participant': 'assistant'}, {'text': 'Actually, can I change my browser?', 'participant': 'user'}, {'text': 'Of course! Which browser would you like to switch to?', 'participant': 'assistant'}, {'text': 'I want to try Safari instead.', 'participant': 'user'}, {'text': 'Please try using Firefox and let me know if the issue persists.', 'participant': 'assistant'}, {'text': 'It works now.', 'participant': 'user'}, {'text': 'Great to hear! Is there anything else I can help you with?', 'participant': 'assistant'}, {'text': \"No, that's all.\", 'participant': 'user'}, {'text': 'Thank you for contacting support. Have a nice day!', 'participant': 'assistant'}]\n",
      "ASSISTANT_STORE:  {'ids': ['0', '1', '2', '3', '4', '5'], 'embeddings': None, 'documents': [\"Sorry to hear you're having trouble with your checkout cart. Could you please explain what's happening?\", \"I understand. Let's try to resolve this. Have you tried refreshing the page?\", 'Of course! Which browser would you like to switch to?', 'Please try using Firefox and let me know if the issue persists.', 'Great to hear! Is there anything else I can help you with?', 'Thank you for contacting support. Have a nice day!'], 'uris': None, 'data': None, 'metadatas': [{'id': 0}, {'id': 1}, {'id': 2}, {'id': 3}, {'id': 4}, {'id': 5}], 'included': [<IncludeEnum.documents: 'documents'>, <IncludeEnum.metadatas: 'metadatas'>]}\n",
      "DOCS:  []\n",
      "UTT:  You're welcome! Is there anything else I can help you with?\n",
      "DOCS:  []\n",
      "UTT:  Glad to hear that! Do you need any further assistance?\n",
      "DOCS:  [(Document(id='3', metadata={'id': 3}, page_content='Please try using Firefox and let me know if the issue persists.'), 0.9999999999978206)]\n",
      "UTT:  Please try using Firefox and let me know if the issue persists.\n",
      "DOCS:  []\n",
      "UTT:  Please try using Safari and let me know if the issue persists.\n",
      "DOCS:  []\n",
      "UTT:  I'm sorry you're experiencing issues with your checkout cart. Can you please describe the problem?\n",
      "DOCS:  [(Document(id='0', metadata={'id': 0}, page_content=\"Sorry to hear you're having trouble with your checkout cart. Could you please explain what's happening?\"), 0.9999999999855731)]\n",
      "UTT:  Sorry to hear you're having trouble with your checkout cart. Could you please explain what's happening?\n",
      "DOCS:  [(Document(id='1', metadata={'id': 1}, page_content=\"I understand. Let's try to resolve this. Have you tried refreshing the page?\"), 0.9999999999988993)]\n",
      "UTT:  I understand. Let's try to resolve this. Have you tried refreshing the page?\n",
      "DOCS:  [(Document(id='2', metadata={'id': 2}, page_content='Of course! Which browser would you like to switch to?'), 0.9999999999992603)]\n",
      "UTT:  Of course! Which browser would you like to switch to?\n",
      "DOCS:  [(Document(id='4', metadata={'id': 4}, page_content='Great to hear! Is there anything else I can help you with?'), 0.999999999999202)]\n",
      "UTT:  Great to hear! Is there anything else I can help you with?\n",
      "DOCS:  [(Document(id='5', metadata={'id': 5}, page_content='Thank you for contacting support. Have a nice day!'), 0.9999999999991527)]\n",
      "UTT:  Thank you for contacting support. Have a nice day!\n",
      "DOCS:  []\n",
      "UTT:  What device and browser are you using?\n",
      "DOCS:  []\n",
      "UTT:  Have you tried using a different browser or device?\n",
      "DOCS:  []\n",
      "UTT:  Please try refreshing the page first and let me know if the issue persists.\n",
      "DOCS:  []\n",
      "UTT:  I apologize for the inconvenience. Let me escalate this to our support team.\n",
      "DOCS:  []\n",
      "UTT:  Okay, have you cleared your browser's cache and cookies?\n",
      "DOCS:  []\n",
      "UTT:  Sure, please let me know if you need further assistance.\n",
      "TEXTS:  [{'text': \"I'm sorry you're experiencing issues with your checkout cart. Can you please describe the problem?\", 'participant': 'assistant'}, {'text': \"I'm getting an error when I try to add items to the cart.\", 'participant': 'user'}, {'text': 'What device and browser are you using?', 'participant': 'assistant'}, {'text': \"I'm using Chrome on Windows.\", 'participant': 'user'}, {'text': 'Have you tried using a different browser or device?', 'participant': 'assistant'}, {'text': \"Yes, but it didn't work.\", 'participant': 'user'}, {'text': \"I understand. Let's try to resolve this. Have you tried refreshing the page?\", 'participant': 'assistant'}, {'text': \"No, I haven't tried that.\", 'participant': 'user'}, {'text': 'Please try refreshing the page first and let me know if the issue persists.', 'participant': 'assistant'}, {'text': \"It still doesn't work.\", 'participant': 'user'}, {'text': 'I apologize for the inconvenience. Let me escalate this to our support team.', 'participant': 'assistant'}]\n",
      "ASSISTANT_STORE:  {'ids': ['0', '1', '2', '3', '4', '5'], 'embeddings': None, 'documents': [\"I'm sorry you're experiencing issues with your checkout cart. Can you please describe the problem?\", 'What device and browser are you using?', 'Have you tried using a different browser or device?', \"I understand. Let's try to resolve this. Have you tried refreshing the page?\", 'Please try refreshing the page first and let me know if the issue persists.', 'I apologize for the inconvenience. Let me escalate this to our support team.'], 'uris': None, 'data': None, 'metadatas': [{'id': 0}, {'id': 1}, {'id': 2}, {'id': 3}, {'id': 4}, {'id': 5}], 'included': [<IncludeEnum.documents: 'documents'>, <IncludeEnum.metadatas: 'metadatas'>]}\n",
      "DOCS:  []\n",
      "UTT:  You're welcome! Is there anything else I can help you with?\n",
      "DOCS:  []\n",
      "UTT:  Glad to hear that! Do you need any further assistance?\n",
      "DOCS:  []\n",
      "UTT:  Please try using Firefox and let me know if the issue persists.\n",
      "DOCS:  []\n",
      "UTT:  Please try using Safari and let me know if the issue persists.\n",
      "DOCS:  [(Document(id='0', metadata={'id': 0}, page_content=\"I'm sorry you're experiencing issues with your checkout cart. Can you please describe the problem?\"), 0.9999999999989942)]\n",
      "UTT:  I'm sorry you're experiencing issues with your checkout cart. Can you please describe the problem?\n",
      "DOCS:  []\n",
      "UTT:  Sorry to hear you're having trouble with your checkout cart. Could you please explain what's happening?\n",
      "DOCS:  [(Document(id='3', metadata={'id': 3}, page_content=\"I understand. Let's try to resolve this. Have you tried refreshing the page?\"), 0.9999999999988993)]\n",
      "UTT:  I understand. Let's try to resolve this. Have you tried refreshing the page?\n",
      "DOCS:  []\n",
      "UTT:  Of course! Which browser would you like to switch to?\n",
      "DOCS:  []\n",
      "UTT:  Great to hear! Is there anything else I can help you with?\n",
      "DOCS:  []\n",
      "UTT:  Thank you for contacting support. Have a nice day!\n",
      "DOCS:  [(Document(id='1', metadata={'id': 1}, page_content='What device and browser are you using?'), 0.9999999999989786)]\n",
      "UTT:  What device and browser are you using?\n",
      "DOCS:  [(Document(id='2', metadata={'id': 2}, page_content='Have you tried using a different browser or device?'), 0.9999999999992334)]\n",
      "UTT:  Have you tried using a different browser or device?\n",
      "DOCS:  [(Document(id='4', metadata={'id': 4}, page_content='Please try refreshing the page first and let me know if the issue persists.'), 0.9999999999988323)]\n",
      "UTT:  Please try refreshing the page first and let me know if the issue persists.\n",
      "DOCS:  [(Document(id='5', metadata={'id': 5}, page_content='I apologize for the inconvenience. Let me escalate this to our support team.'), 0.9999999999992626)]\n",
      "UTT:  I apologize for the inconvenience. Let me escalate this to our support team.\n",
      "DOCS:  []\n",
      "UTT:  Okay, have you cleared your browser's cache and cookies?\n",
      "DOCS:  []\n",
      "UTT:  Sure, please let me know if you need further assistance.\n",
      "TEXTS:  [{'text': \"I'm sorry you're experiencing issues with your checkout cart. Can you please describe the problem?\", 'participant': 'assistant'}, {'text': 'The checkout page is not loading.', 'participant': 'user'}, {'text': 'What device and browser are you using?', 'participant': 'assistant'}, {'text': \"I'm using Chrome on Windows.\", 'participant': 'user'}, {'text': 'Have you tried using a different browser or device?', 'participant': 'assistant'}, {'text': \"Yes, but it didn't work.\", 'participant': 'user'}, {'text': \"I understand. Let's try to resolve this. Have you tried refreshing the page?\", 'participant': 'assistant'}, {'text': \"No, I haven't tried that.\", 'participant': 'user'}, {'text': 'Please try refreshing the page first and let me know if the issue persists.', 'participant': 'assistant'}, {'text': \"It still doesn't work.\", 'participant': 'user'}, {'text': 'I apologize for the inconvenience. Let me escalate this to our support team.', 'participant': 'assistant'}]\n",
      "ASSISTANT_STORE:  {'ids': ['0', '1', '2', '3', '4', '5'], 'embeddings': None, 'documents': [\"I'm sorry you're experiencing issues with your checkout cart. Can you please describe the problem?\", 'What device and browser are you using?', 'Have you tried using a different browser or device?', \"I understand. Let's try to resolve this. Have you tried refreshing the page?\", 'Please try refreshing the page first and let me know if the issue persists.', 'I apologize for the inconvenience. Let me escalate this to our support team.'], 'uris': None, 'data': None, 'metadatas': [{'id': 0}, {'id': 1}, {'id': 2}, {'id': 3}, {'id': 4}, {'id': 5}], 'included': [<IncludeEnum.documents: 'documents'>, <IncludeEnum.metadatas: 'metadatas'>]}\n",
      "DOCS:  []\n",
      "UTT:  You're welcome! Is there anything else I can help you with?\n",
      "DOCS:  []\n",
      "UTT:  Glad to hear that! Do you need any further assistance?\n",
      "DOCS:  []\n",
      "UTT:  Please try using Firefox and let me know if the issue persists.\n",
      "DOCS:  []\n",
      "UTT:  Please try using Safari and let me know if the issue persists.\n",
      "DOCS:  [(Document(id='0', metadata={'id': 0}, page_content=\"I'm sorry you're experiencing issues with your checkout cart. Can you please describe the problem?\"), 0.9999999999989942)]\n",
      "UTT:  I'm sorry you're experiencing issues with your checkout cart. Can you please describe the problem?\n",
      "DOCS:  []\n",
      "UTT:  Sorry to hear you're having trouble with your checkout cart. Could you please explain what's happening?\n",
      "DOCS:  [(Document(id='3', metadata={'id': 3}, page_content=\"I understand. Let's try to resolve this. Have you tried refreshing the page?\"), 0.9999999999988993)]\n",
      "UTT:  I understand. Let's try to resolve this. Have you tried refreshing the page?\n",
      "DOCS:  []\n",
      "UTT:  Of course! Which browser would you like to switch to?\n",
      "DOCS:  []\n",
      "UTT:  Great to hear! Is there anything else I can help you with?\n",
      "DOCS:  []\n",
      "UTT:  Thank you for contacting support. Have a nice day!\n",
      "DOCS:  [(Document(id='1', metadata={'id': 1}, page_content='What device and browser are you using?'), 0.9999999999989786)]\n",
      "UTT:  What device and browser are you using?\n",
      "DOCS:  [(Document(id='2', metadata={'id': 2}, page_content='Have you tried using a different browser or device?'), 0.9999999999992334)]\n",
      "UTT:  Have you tried using a different browser or device?\n",
      "DOCS:  [(Document(id='4', metadata={'id': 4}, page_content='Please try refreshing the page first and let me know if the issue persists.'), 0.9999999999988323)]\n",
      "UTT:  Please try refreshing the page first and let me know if the issue persists.\n",
      "DOCS:  [(Document(id='5', metadata={'id': 5}, page_content='I apologize for the inconvenience. Let me escalate this to our support team.'), 0.9999999999992626)]\n",
      "UTT:  I apologize for the inconvenience. Let me escalate this to our support team.\n",
      "DOCS:  []\n",
      "UTT:  Okay, have you cleared your browser's cache and cookies?\n",
      "DOCS:  []\n",
      "UTT:  Sure, please let me know if you need further assistance.\n",
      "TEXTS:  [{'text': \"I'm sorry you're experiencing issues with your checkout cart. Can you please describe the problem?\", 'participant': 'assistant'}, {'text': 'My cart keeps crashing when I try to add items.', 'participant': 'user'}, {'text': 'What device and browser are you using?', 'participant': 'assistant'}, {'text': \"I'm using Chrome on Windows.\", 'participant': 'user'}, {'text': 'Have you tried using a different browser or device?', 'participant': 'assistant'}, {'text': \"Yes, but it didn't work.\", 'participant': 'user'}, {'text': \"I understand. Let's try to resolve this. Have you tried refreshing the page?\", 'participant': 'assistant'}, {'text': \"No, I haven't tried that.\", 'participant': 'user'}, {'text': 'Please try refreshing the page first and let me know if the issue persists.', 'participant': 'assistant'}, {'text': \"It still doesn't work.\", 'participant': 'user'}, {'text': 'I apologize for the inconvenience. Let me escalate this to our support team.', 'participant': 'assistant'}]\n",
      "ASSISTANT_STORE:  {'ids': ['0', '1', '2', '3', '4', '5'], 'embeddings': None, 'documents': [\"I'm sorry you're experiencing issues with your checkout cart. Can you please describe the problem?\", 'What device and browser are you using?', 'Have you tried using a different browser or device?', \"I understand. Let's try to resolve this. Have you tried refreshing the page?\", 'Please try refreshing the page first and let me know if the issue persists.', 'I apologize for the inconvenience. Let me escalate this to our support team.'], 'uris': None, 'data': None, 'metadatas': [{'id': 0}, {'id': 1}, {'id': 2}, {'id': 3}, {'id': 4}, {'id': 5}], 'included': [<IncludeEnum.documents: 'documents'>, <IncludeEnum.metadatas: 'metadatas'>]}\n",
      "DOCS:  []\n",
      "UTT:  You're welcome! Is there anything else I can help you with?\n",
      "DOCS:  []\n",
      "UTT:  Glad to hear that! Do you need any further assistance?\n",
      "DOCS:  []\n",
      "UTT:  Please try using Firefox and let me know if the issue persists.\n",
      "DOCS:  []\n",
      "UTT:  Please try using Safari and let me know if the issue persists.\n",
      "DOCS:  [(Document(id='0', metadata={'id': 0}, page_content=\"I'm sorry you're experiencing issues with your checkout cart. Can you please describe the problem?\"), 0.9999999999989942)]\n",
      "UTT:  I'm sorry you're experiencing issues with your checkout cart. Can you please describe the problem?\n",
      "DOCS:  []\n",
      "UTT:  Sorry to hear you're having trouble with your checkout cart. Could you please explain what's happening?\n",
      "DOCS:  [(Document(id='3', metadata={'id': 3}, page_content=\"I understand. Let's try to resolve this. Have you tried refreshing the page?\"), 0.9999999999988993)]\n",
      "UTT:  I understand. Let's try to resolve this. Have you tried refreshing the page?\n",
      "DOCS:  []\n",
      "UTT:  Of course! Which browser would you like to switch to?\n",
      "DOCS:  []\n",
      "UTT:  Great to hear! Is there anything else I can help you with?\n",
      "DOCS:  []\n",
      "UTT:  Thank you for contacting support. Have a nice day!\n",
      "DOCS:  [(Document(id='1', metadata={'id': 1}, page_content='What device and browser are you using?'), 0.9999999999989786)]\n",
      "UTT:  What device and browser are you using?\n",
      "DOCS:  [(Document(id='2', metadata={'id': 2}, page_content='Have you tried using a different browser or device?'), 0.9999999999992334)]\n",
      "UTT:  Have you tried using a different browser or device?\n",
      "DOCS:  [(Document(id='4', metadata={'id': 4}, page_content='Please try refreshing the page first and let me know if the issue persists.'), 0.9999999999988323)]\n",
      "UTT:  Please try refreshing the page first and let me know if the issue persists.\n",
      "DOCS:  [(Document(id='5', metadata={'id': 5}, page_content='I apologize for the inconvenience. Let me escalate this to our support team.'), 0.9999999999992626)]\n",
      "UTT:  I apologize for the inconvenience. Let me escalate this to our support team.\n",
      "DOCS:  []\n",
      "UTT:  Okay, have you cleared your browser's cache and cookies?\n",
      "DOCS:  []\n",
      "UTT:  Sure, please let me know if you need further assistance.\n",
      "TEXTS:  [{'text': \"Sorry to hear you're having trouble with your checkout cart. Could you please explain what's happening?\", 'participant': 'assistant'}, {'text': \"I'm getting an error when I try to add items to the cart.\", 'participant': 'user'}, {'text': 'What device and browser are you using?', 'participant': 'assistant'}, {'text': \"I'm using Chrome on Windows.\", 'participant': 'user'}, {'text': 'Have you tried using a different browser or device?', 'participant': 'assistant'}, {'text': \"Yes, but it didn't work.\", 'participant': 'user'}, {'text': \"I understand. Let's try to resolve this. Have you tried refreshing the page?\", 'participant': 'assistant'}, {'text': \"No, I haven't tried that.\", 'participant': 'user'}, {'text': 'Please try refreshing the page first and let me know if the issue persists.', 'participant': 'assistant'}, {'text': \"It still doesn't work.\", 'participant': 'user'}, {'text': 'I apologize for the inconvenience. Let me escalate this to our support team.', 'participant': 'assistant'}]\n",
      "ASSISTANT_STORE:  {'ids': ['0', '1', '2', '3', '4', '5'], 'embeddings': None, 'documents': [\"Sorry to hear you're having trouble with your checkout cart. Could you please explain what's happening?\", 'What device and browser are you using?', 'Have you tried using a different browser or device?', \"I understand. Let's try to resolve this. Have you tried refreshing the page?\", 'Please try refreshing the page first and let me know if the issue persists.', 'I apologize for the inconvenience. Let me escalate this to our support team.'], 'uris': None, 'data': None, 'metadatas': [{'id': 0}, {'id': 1}, {'id': 2}, {'id': 3}, {'id': 4}, {'id': 5}], 'included': [<IncludeEnum.documents: 'documents'>, <IncludeEnum.metadatas: 'metadatas'>]}\n",
      "DOCS:  []\n",
      "UTT:  You're welcome! Is there anything else I can help you with?\n",
      "DOCS:  []\n",
      "UTT:  Glad to hear that! Do you need any further assistance?\n",
      "DOCS:  []\n",
      "UTT:  Please try using Firefox and let me know if the issue persists.\n",
      "DOCS:  []\n",
      "UTT:  Please try using Safari and let me know if the issue persists.\n",
      "DOCS:  []\n",
      "UTT:  I'm sorry you're experiencing issues with your checkout cart. Can you please describe the problem?\n",
      "DOCS:  [(Document(id='0', metadata={'id': 0}, page_content=\"Sorry to hear you're having trouble with your checkout cart. Could you please explain what's happening?\"), 0.9999999999855731)]\n",
      "UTT:  Sorry to hear you're having trouble with your checkout cart. Could you please explain what's happening?\n",
      "DOCS:  [(Document(id='3', metadata={'id': 3}, page_content=\"I understand. Let's try to resolve this. Have you tried refreshing the page?\"), 0.9999999999988993)]\n",
      "UTT:  I understand. Let's try to resolve this. Have you tried refreshing the page?\n",
      "DOCS:  []\n",
      "UTT:  Of course! Which browser would you like to switch to?\n",
      "DOCS:  []\n",
      "UTT:  Great to hear! Is there anything else I can help you with?\n",
      "DOCS:  []\n",
      "UTT:  Thank you for contacting support. Have a nice day!\n",
      "DOCS:  [(Document(id='1', metadata={'id': 1}, page_content='What device and browser are you using?'), 0.9999999999989786)]\n",
      "UTT:  What device and browser are you using?\n",
      "DOCS:  [(Document(id='2', metadata={'id': 2}, page_content='Have you tried using a different browser or device?'), 0.9999999999992334)]\n",
      "UTT:  Have you tried using a different browser or device?\n",
      "DOCS:  [(Document(id='4', metadata={'id': 4}, page_content='Please try refreshing the page first and let me know if the issue persists.'), 0.9999999999988323)]\n",
      "UTT:  Please try refreshing the page first and let me know if the issue persists.\n",
      "DOCS:  [(Document(id='5', metadata={'id': 5}, page_content='I apologize for the inconvenience. Let me escalate this to our support team.'), 0.9999999999992626)]\n",
      "UTT:  I apologize for the inconvenience. Let me escalate this to our support team.\n",
      "DOCS:  []\n",
      "UTT:  Okay, have you cleared your browser's cache and cookies?\n",
      "DOCS:  []\n",
      "UTT:  Sure, please let me know if you need further assistance.\n",
      "TEXTS:  [{'text': \"Sorry to hear you're having trouble with your checkout cart. Could you please explain what's happening?\", 'participant': 'assistant'}, {'text': 'The checkout page is not loading.', 'participant': 'user'}, {'text': 'What device and browser are you using?', 'participant': 'assistant'}, {'text': \"I'm using Chrome on Windows.\", 'participant': 'user'}, {'text': 'Have you tried using a different browser or device?', 'participant': 'assistant'}, {'text': \"Yes, but it didn't work.\", 'participant': 'user'}, {'text': \"I understand. Let's try to resolve this. Have you tried refreshing the page?\", 'participant': 'assistant'}, {'text': \"No, I haven't tried that.\", 'participant': 'user'}, {'text': 'Please try refreshing the page first and let me know if the issue persists.', 'participant': 'assistant'}, {'text': \"It still doesn't work.\", 'participant': 'user'}, {'text': 'I apologize for the inconvenience. Let me escalate this to our support team.', 'participant': 'assistant'}]\n",
      "ASSISTANT_STORE:  {'ids': ['0', '1', '2', '3', '4', '5'], 'embeddings': None, 'documents': [\"Sorry to hear you're having trouble with your checkout cart. Could you please explain what's happening?\", 'What device and browser are you using?', 'Have you tried using a different browser or device?', \"I understand. Let's try to resolve this. Have you tried refreshing the page?\", 'Please try refreshing the page first and let me know if the issue persists.', 'I apologize for the inconvenience. Let me escalate this to our support team.'], 'uris': None, 'data': None, 'metadatas': [{'id': 0}, {'id': 1}, {'id': 2}, {'id': 3}, {'id': 4}, {'id': 5}], 'included': [<IncludeEnum.documents: 'documents'>, <IncludeEnum.metadatas: 'metadatas'>]}\n",
      "DOCS:  []\n",
      "UTT:  You're welcome! Is there anything else I can help you with?\n",
      "DOCS:  []\n",
      "UTT:  Glad to hear that! Do you need any further assistance?\n",
      "DOCS:  []\n",
      "UTT:  Please try using Firefox and let me know if the issue persists.\n",
      "DOCS:  []\n",
      "UTT:  Please try using Safari and let me know if the issue persists.\n",
      "DOCS:  []\n",
      "UTT:  I'm sorry you're experiencing issues with your checkout cart. Can you please describe the problem?\n",
      "DOCS:  [(Document(id='0', metadata={'id': 0}, page_content=\"Sorry to hear you're having trouble with your checkout cart. Could you please explain what's happening?\"), 0.9999999999855731)]\n",
      "UTT:  Sorry to hear you're having trouble with your checkout cart. Could you please explain what's happening?\n",
      "DOCS:  [(Document(id='3', metadata={'id': 3}, page_content=\"I understand. Let's try to resolve this. Have you tried refreshing the page?\"), 0.9999999999988993)]\n",
      "UTT:  I understand. Let's try to resolve this. Have you tried refreshing the page?\n",
      "DOCS:  []\n",
      "UTT:  Of course! Which browser would you like to switch to?\n",
      "DOCS:  []\n",
      "UTT:  Great to hear! Is there anything else I can help you with?\n",
      "DOCS:  []\n",
      "UTT:  Thank you for contacting support. Have a nice day!\n",
      "DOCS:  [(Document(id='1', metadata={'id': 1}, page_content='What device and browser are you using?'), 0.9999999999989786)]\n",
      "UTT:  What device and browser are you using?\n",
      "DOCS:  [(Document(id='2', metadata={'id': 2}, page_content='Have you tried using a different browser or device?'), 0.9999999999992334)]\n",
      "UTT:  Have you tried using a different browser or device?\n",
      "DOCS:  [(Document(id='4', metadata={'id': 4}, page_content='Please try refreshing the page first and let me know if the issue persists.'), 0.9999999999988323)]\n",
      "UTT:  Please try refreshing the page first and let me know if the issue persists.\n",
      "DOCS:  [(Document(id='5', metadata={'id': 5}, page_content='I apologize for the inconvenience. Let me escalate this to our support team.'), 0.9999999999992626)]\n",
      "UTT:  I apologize for the inconvenience. Let me escalate this to our support team.\n",
      "DOCS:  []\n",
      "UTT:  Okay, have you cleared your browser's cache and cookies?\n",
      "DOCS:  []\n",
      "UTT:  Sure, please let me know if you need further assistance.\n",
      "TEXTS:  [{'text': \"Sorry to hear you're having trouble with your checkout cart. Could you please explain what's happening?\", 'participant': 'assistant'}, {'text': 'My cart keeps crashing when I try to add items.', 'participant': 'user'}, {'text': 'What device and browser are you using?', 'participant': 'assistant'}, {'text': \"I'm using Chrome on Windows.\", 'participant': 'user'}, {'text': 'Have you tried using a different browser or device?', 'participant': 'assistant'}, {'text': \"Yes, but it didn't work.\", 'participant': 'user'}, {'text': \"I understand. Let's try to resolve this. Have you tried refreshing the page?\", 'participant': 'assistant'}, {'text': \"No, I haven't tried that.\", 'participant': 'user'}, {'text': 'Please try refreshing the page first and let me know if the issue persists.', 'participant': 'assistant'}, {'text': \"It still doesn't work.\", 'participant': 'user'}, {'text': 'I apologize for the inconvenience. Let me escalate this to our support team.', 'participant': 'assistant'}]\n",
      "ASSISTANT_STORE:  {'ids': ['0', '1', '2', '3', '4', '5'], 'embeddings': None, 'documents': [\"Sorry to hear you're having trouble with your checkout cart. Could you please explain what's happening?\", 'What device and browser are you using?', 'Have you tried using a different browser or device?', \"I understand. Let's try to resolve this. Have you tried refreshing the page?\", 'Please try refreshing the page first and let me know if the issue persists.', 'I apologize for the inconvenience. Let me escalate this to our support team.'], 'uris': None, 'data': None, 'metadatas': [{'id': 0}, {'id': 1}, {'id': 2}, {'id': 3}, {'id': 4}, {'id': 5}], 'included': [<IncludeEnum.documents: 'documents'>, <IncludeEnum.metadatas: 'metadatas'>]}\n",
      "DOCS:  []\n",
      "UTT:  You're welcome! Is there anything else I can help you with?\n",
      "DOCS:  []\n",
      "UTT:  Glad to hear that! Do you need any further assistance?\n",
      "DOCS:  []\n",
      "UTT:  Please try using Firefox and let me know if the issue persists.\n",
      "DOCS:  []\n",
      "UTT:  Please try using Safari and let me know if the issue persists.\n",
      "DOCS:  []\n",
      "UTT:  I'm sorry you're experiencing issues with your checkout cart. Can you please describe the problem?\n",
      "DOCS:  [(Document(id='0', metadata={'id': 0}, page_content=\"Sorry to hear you're having trouble with your checkout cart. Could you please explain what's happening?\"), 0.9999999999855731)]\n",
      "UTT:  Sorry to hear you're having trouble with your checkout cart. Could you please explain what's happening?\n",
      "DOCS:  [(Document(id='3', metadata={'id': 3}, page_content=\"I understand. Let's try to resolve this. Have you tried refreshing the page?\"), 0.9999999999988993)]\n",
      "UTT:  I understand. Let's try to resolve this. Have you tried refreshing the page?\n",
      "DOCS:  []\n",
      "UTT:  Of course! Which browser would you like to switch to?\n",
      "DOCS:  []\n",
      "UTT:  Great to hear! Is there anything else I can help you with?\n",
      "DOCS:  []\n",
      "UTT:  Thank you for contacting support. Have a nice day!\n",
      "DOCS:  [(Document(id='1', metadata={'id': 1}, page_content='What device and browser are you using?'), 0.9999999999989786)]\n",
      "UTT:  What device and browser are you using?\n",
      "DOCS:  [(Document(id='2', metadata={'id': 2}, page_content='Have you tried using a different browser or device?'), 0.9999999999992334)]\n",
      "UTT:  Have you tried using a different browser or device?\n",
      "DOCS:  [(Document(id='4', metadata={'id': 4}, page_content='Please try refreshing the page first and let me know if the issue persists.'), 0.9999999999988323)]\n",
      "UTT:  Please try refreshing the page first and let me know if the issue persists.\n",
      "DOCS:  [(Document(id='5', metadata={'id': 5}, page_content='I apologize for the inconvenience. Let me escalate this to our support team.'), 0.9999999999992626)]\n",
      "UTT:  I apologize for the inconvenience. Let me escalate this to our support team.\n",
      "DOCS:  []\n",
      "UTT:  Okay, have you cleared your browser's cache and cookies?\n",
      "DOCS:  []\n",
      "UTT:  Sure, please let me know if you need further assistance.\n",
      "TEXTS:  [{'text': \"I'm sorry you're experiencing issues with your checkout cart. Can you please describe the problem?\", 'participant': 'assistant'}, {'text': \"I'm getting an error when I try to add items to the cart.\", 'participant': 'user'}, {'text': 'What device and browser are you using?', 'participant': 'assistant'}, {'text': \"I'm using Chrome on Windows.\", 'participant': 'user'}, {'text': 'Have you tried using a different browser or device?', 'participant': 'assistant'}, {'text': 'Actually, can I change my device?', 'participant': 'user'}, {'text': 'Of course! Which browser would you like to switch to?', 'participant': 'assistant'}, {'text': 'I want to try Safari instead.', 'participant': 'user'}, {'text': 'Please try using Firefox and let me know if the issue persists.', 'participant': 'assistant'}, {'text': 'Still having issues.', 'participant': 'user'}, {'text': 'I apologize for the inconvenience. Let me escalate this to our support team.', 'participant': 'assistant'}]\n",
      "ASSISTANT_STORE:  {'ids': ['0', '1', '2', '3', '4', '5'], 'embeddings': None, 'documents': [\"I'm sorry you're experiencing issues with your checkout cart. Can you please describe the problem?\", 'What device and browser are you using?', 'Have you tried using a different browser or device?', 'Of course! Which browser would you like to switch to?', 'Please try using Firefox and let me know if the issue persists.', 'I apologize for the inconvenience. Let me escalate this to our support team.'], 'uris': None, 'data': None, 'metadatas': [{'id': 0}, {'id': 1}, {'id': 2}, {'id': 3}, {'id': 4}, {'id': 5}], 'included': [<IncludeEnum.documents: 'documents'>, <IncludeEnum.metadatas: 'metadatas'>]}\n",
      "DOCS:  []\n",
      "UTT:  You're welcome! Is there anything else I can help you with?\n",
      "DOCS:  []\n",
      "UTT:  Glad to hear that! Do you need any further assistance?\n",
      "DOCS:  [(Document(id='4', metadata={'id': 4}, page_content='Please try using Firefox and let me know if the issue persists.'), 0.9999999999978206)]\n",
      "UTT:  Please try using Firefox and let me know if the issue persists.\n",
      "DOCS:  []\n",
      "UTT:  Please try using Safari and let me know if the issue persists.\n",
      "DOCS:  [(Document(id='0', metadata={'id': 0}, page_content=\"I'm sorry you're experiencing issues with your checkout cart. Can you please describe the problem?\"), 0.9999999999989942)]\n",
      "UTT:  I'm sorry you're experiencing issues with your checkout cart. Can you please describe the problem?\n",
      "DOCS:  []\n",
      "UTT:  Sorry to hear you're having trouble with your checkout cart. Could you please explain what's happening?\n",
      "DOCS:  []\n",
      "UTT:  I understand. Let's try to resolve this. Have you tried refreshing the page?\n",
      "DOCS:  [(Document(id='3', metadata={'id': 3}, page_content='Of course! Which browser would you like to switch to?'), 0.9999999999992603)]\n",
      "UTT:  Of course! Which browser would you like to switch to?\n",
      "DOCS:  []\n",
      "UTT:  Great to hear! Is there anything else I can help you with?\n",
      "DOCS:  []\n",
      "UTT:  Thank you for contacting support. Have a nice day!\n",
      "DOCS:  [(Document(id='1', metadata={'id': 1}, page_content='What device and browser are you using?'), 0.9999999999989786)]\n",
      "UTT:  What device and browser are you using?\n",
      "DOCS:  [(Document(id='2', metadata={'id': 2}, page_content='Have you tried using a different browser or device?'), 0.9999999999992334)]\n",
      "UTT:  Have you tried using a different browser or device?\n",
      "DOCS:  []\n",
      "UTT:  Please try refreshing the page first and let me know if the issue persists.\n",
      "DOCS:  [(Document(id='5', metadata={'id': 5}, page_content='I apologize for the inconvenience. Let me escalate this to our support team.'), 0.9999999999992626)]\n",
      "UTT:  I apologize for the inconvenience. Let me escalate this to our support team.\n",
      "DOCS:  []\n",
      "UTT:  Okay, have you cleared your browser's cache and cookies?\n",
      "DOCS:  []\n",
      "UTT:  Sure, please let me know if you need further assistance.\n",
      "TEXTS:  [{'text': \"I'm sorry you're experiencing issues with your checkout cart. Can you please describe the problem?\", 'participant': 'assistant'}, {'text': \"I'm getting an error when I try to add items to the cart.\", 'participant': 'user'}, {'text': 'What device and browser are you using?', 'participant': 'assistant'}, {'text': \"I'm using Chrome on Windows.\", 'participant': 'user'}, {'text': 'Have you tried using a different browser or device?', 'participant': 'assistant'}, {'text': 'Actually, can I change my device?', 'participant': 'user'}, {'text': 'Of course! Which browser would you like to switch to?', 'participant': 'assistant'}, {'text': 'I want to try Safari instead.', 'participant': 'user'}, {'text': 'Please try using Safari and let me know if the issue persists.', 'participant': 'assistant'}, {'text': 'Still having issues.', 'participant': 'user'}, {'text': 'I apologize for the inconvenience. Let me escalate this to our support team.', 'participant': 'assistant'}]\n",
      "ASSISTANT_STORE:  {'ids': ['0', '1', '2', '3', '4', '5'], 'embeddings': None, 'documents': [\"I'm sorry you're experiencing issues with your checkout cart. Can you please describe the problem?\", 'What device and browser are you using?', 'Have you tried using a different browser or device?', 'Of course! Which browser would you like to switch to?', 'Please try using Safari and let me know if the issue persists.', 'I apologize for the inconvenience. Let me escalate this to our support team.'], 'uris': None, 'data': None, 'metadatas': [{'id': 0}, {'id': 1}, {'id': 2}, {'id': 3}, {'id': 4}, {'id': 5}], 'included': [<IncludeEnum.documents: 'documents'>, <IncludeEnum.metadatas: 'metadatas'>]}\n",
      "DOCS:  []\n",
      "UTT:  You're welcome! Is there anything else I can help you with?\n",
      "DOCS:  []\n",
      "UTT:  Glad to hear that! Do you need any further assistance?\n",
      "DOCS:  []\n",
      "UTT:  Please try using Firefox and let me know if the issue persists.\n",
      "DOCS:  [(Document(id='4', metadata={'id': 4}, page_content='Please try using Safari and let me know if the issue persists.'), 0.9999999999987635)]\n",
      "UTT:  Please try using Safari and let me know if the issue persists.\n",
      "DOCS:  [(Document(id='0', metadata={'id': 0}, page_content=\"I'm sorry you're experiencing issues with your checkout cart. Can you please describe the problem?\"), 0.9999999999989942)]\n",
      "UTT:  I'm sorry you're experiencing issues with your checkout cart. Can you please describe the problem?\n",
      "DOCS:  []\n",
      "UTT:  Sorry to hear you're having trouble with your checkout cart. Could you please explain what's happening?\n",
      "DOCS:  []\n",
      "UTT:  I understand. Let's try to resolve this. Have you tried refreshing the page?\n",
      "DOCS:  [(Document(id='3', metadata={'id': 3}, page_content='Of course! Which browser would you like to switch to?'), 0.9999999999992603)]\n",
      "UTT:  Of course! Which browser would you like to switch to?\n",
      "DOCS:  []\n",
      "UTT:  Great to hear! Is there anything else I can help you with?\n",
      "DOCS:  []\n",
      "UTT:  Thank you for contacting support. Have a nice day!\n",
      "DOCS:  [(Document(id='1', metadata={'id': 1}, page_content='What device and browser are you using?'), 0.9999999999989786)]\n",
      "UTT:  What device and browser are you using?\n",
      "DOCS:  [(Document(id='2', metadata={'id': 2}, page_content='Have you tried using a different browser or device?'), 0.9999999999992334)]\n",
      "UTT:  Have you tried using a different browser or device?\n",
      "DOCS:  []\n",
      "UTT:  Please try refreshing the page first and let me know if the issue persists.\n",
      "DOCS:  [(Document(id='5', metadata={'id': 5}, page_content='I apologize for the inconvenience. Let me escalate this to our support team.'), 0.9999999999992626)]\n",
      "UTT:  I apologize for the inconvenience. Let me escalate this to our support team.\n",
      "DOCS:  []\n",
      "UTT:  Okay, have you cleared your browser's cache and cookies?\n",
      "DOCS:  []\n",
      "UTT:  Sure, please let me know if you need further assistance.\n",
      "TEXTS:  [{'text': \"I'm sorry you're experiencing issues with your checkout cart. Can you please describe the problem?\", 'participant': 'assistant'}, {'text': \"My cart won't let me proceed to checkout.\", 'participant': 'user'}, {'text': \"I understand. Let's try to resolve this. Have you tried refreshing the page?\", 'participant': 'assistant'}, {'text': \"Yes, but it didn't work.\", 'participant': 'user'}, {'text': \"Okay, have you cleared your browser's cache and cookies?\", 'participant': 'assistant'}, {'text': \"No, I haven't cleared cache and cookies.\", 'participant': 'user'}, {'text': 'Please try refreshing the page first and let me know if the issue persists.', 'participant': 'assistant'}, {'text': \"It still doesn't work.\", 'participant': 'user'}, {'text': 'I apologize for the inconvenience. Let me escalate this to our support team.', 'participant': 'assistant'}]\n",
      "ASSISTANT_STORE:  {'ids': ['0', '1', '2', '3', '4'], 'embeddings': None, 'documents': [\"I'm sorry you're experiencing issues with your checkout cart. Can you please describe the problem?\", \"I understand. Let's try to resolve this. Have you tried refreshing the page?\", \"Okay, have you cleared your browser's cache and cookies?\", 'Please try refreshing the page first and let me know if the issue persists.', 'I apologize for the inconvenience. Let me escalate this to our support team.'], 'uris': None, 'data': None, 'metadatas': [{'id': 0}, {'id': 1}, {'id': 2}, {'id': 3}, {'id': 4}], 'included': [<IncludeEnum.documents: 'documents'>, <IncludeEnum.metadatas: 'metadatas'>]}\n",
      "DOCS:  []\n",
      "UTT:  You're welcome! Is there anything else I can help you with?\n",
      "DOCS:  []\n",
      "UTT:  Glad to hear that! Do you need any further assistance?\n",
      "DOCS:  []\n",
      "UTT:  Please try using Firefox and let me know if the issue persists.\n",
      "DOCS:  []\n",
      "UTT:  Please try using Safari and let me know if the issue persists.\n",
      "DOCS:  [(Document(id='0', metadata={'id': 0}, page_content=\"I'm sorry you're experiencing issues with your checkout cart. Can you please describe the problem?\"), 0.9999999999989942)]\n",
      "UTT:  I'm sorry you're experiencing issues with your checkout cart. Can you please describe the problem?\n",
      "DOCS:  []\n",
      "UTT:  Sorry to hear you're having trouble with your checkout cart. Could you please explain what's happening?\n",
      "DOCS:  [(Document(id='1', metadata={'id': 1}, page_content=\"I understand. Let's try to resolve this. Have you tried refreshing the page?\"), 0.9999999999988993)]\n",
      "UTT:  I understand. Let's try to resolve this. Have you tried refreshing the page?\n",
      "DOCS:  []\n",
      "UTT:  Of course! Which browser would you like to switch to?\n",
      "DOCS:  []\n",
      "UTT:  Great to hear! Is there anything else I can help you with?\n",
      "DOCS:  []\n",
      "UTT:  Thank you for contacting support. Have a nice day!\n",
      "DOCS:  []\n",
      "UTT:  What device and browser are you using?\n",
      "DOCS:  []\n",
      "UTT:  Have you tried using a different browser or device?\n",
      "DOCS:  [(Document(id='3', metadata={'id': 3}, page_content='Please try refreshing the page first and let me know if the issue persists.'), 0.9999999999988323)]\n",
      "UTT:  Please try refreshing the page first and let me know if the issue persists.\n",
      "DOCS:  [(Document(id='4', metadata={'id': 4}, page_content='I apologize for the inconvenience. Let me escalate this to our support team.'), 0.9999999999992626)]\n",
      "UTT:  I apologize for the inconvenience. Let me escalate this to our support team.\n",
      "DOCS:  [(Document(id='2', metadata={'id': 2}, page_content=\"Okay, have you cleared your browser's cache and cookies?\"), 0.9999999999988016)]\n",
      "UTT:  Okay, have you cleared your browser's cache and cookies?\n",
      "DOCS:  []\n",
      "UTT:  Sure, please let me know if you need further assistance.\n",
      "TEXTS:  [{'text': \"I'm sorry you're experiencing issues with your checkout cart. Can you please describe the problem?\", 'participant': 'assistant'}, {'text': \"My cart won't let me proceed to checkout.\", 'participant': 'user'}, {'text': \"I understand. Let's try to resolve this. Have you tried refreshing the page?\", 'participant': 'assistant'}, {'text': \"Yes, but it didn't work.\", 'participant': 'user'}, {'text': \"Okay, have you cleared your browser's cache and cookies?\", 'participant': 'assistant'}, {'text': 'Can I change my device?', 'participant': 'user'}, {'text': 'Sure, please let me know if you need further assistance.', 'participant': 'assistant'}, {'text': 'No, I want to stop.', 'participant': 'user'}, {'text': 'Thank you for contacting support. Have a nice day!', 'participant': 'assistant'}]\n",
      "ASSISTANT_STORE:  {'ids': ['0', '1', '2', '3', '4'], 'embeddings': None, 'documents': [\"I'm sorry you're experiencing issues with your checkout cart. Can you please describe the problem?\", \"I understand. Let's try to resolve this. Have you tried refreshing the page?\", \"Okay, have you cleared your browser's cache and cookies?\", 'Sure, please let me know if you need further assistance.', 'Thank you for contacting support. Have a nice day!'], 'uris': None, 'data': None, 'metadatas': [{'id': 0}, {'id': 1}, {'id': 2}, {'id': 3}, {'id': 4}], 'included': [<IncludeEnum.documents: 'documents'>, <IncludeEnum.metadatas: 'metadatas'>]}\n",
      "DOCS:  []\n",
      "UTT:  You're welcome! Is there anything else I can help you with?\n",
      "DOCS:  []\n",
      "UTT:  Glad to hear that! Do you need any further assistance?\n",
      "DOCS:  []\n",
      "UTT:  Please try using Firefox and let me know if the issue persists.\n",
      "DOCS:  []\n",
      "UTT:  Please try using Safari and let me know if the issue persists.\n",
      "DOCS:  [(Document(id='0', metadata={'id': 0}, page_content=\"I'm sorry you're experiencing issues with your checkout cart. Can you please describe the problem?\"), 0.9999999999989942)]\n",
      "UTT:  I'm sorry you're experiencing issues with your checkout cart. Can you please describe the problem?\n",
      "DOCS:  []\n",
      "UTT:  Sorry to hear you're having trouble with your checkout cart. Could you please explain what's happening?\n",
      "DOCS:  [(Document(id='1', metadata={'id': 1}, page_content=\"I understand. Let's try to resolve this. Have you tried refreshing the page?\"), 0.9999999999988993)]\n",
      "UTT:  I understand. Let's try to resolve this. Have you tried refreshing the page?\n",
      "DOCS:  []\n",
      "UTT:  Of course! Which browser would you like to switch to?\n",
      "DOCS:  []\n",
      "UTT:  Great to hear! Is there anything else I can help you with?\n",
      "DOCS:  [(Document(id='4', metadata={'id': 4}, page_content='Thank you for contacting support. Have a nice day!'), 0.9999999999991527)]\n",
      "UTT:  Thank you for contacting support. Have a nice day!\n",
      "DOCS:  []\n",
      "UTT:  What device and browser are you using?\n",
      "DOCS:  []\n",
      "UTT:  Have you tried using a different browser or device?\n",
      "DOCS:  []\n",
      "UTT:  Please try refreshing the page first and let me know if the issue persists.\n",
      "DOCS:  []\n",
      "UTT:  I apologize for the inconvenience. Let me escalate this to our support team.\n",
      "DOCS:  [(Document(id='2', metadata={'id': 2}, page_content=\"Okay, have you cleared your browser's cache and cookies?\"), 0.9999999999988016)]\n",
      "UTT:  Okay, have you cleared your browser's cache and cookies?\n",
      "DOCS:  [(Document(id='3', metadata={'id': 3}, page_content='Sure, please let me know if you need further assistance.'), 0.9999999999993139)]\n",
      "UTT:  Sure, please let me know if you need further assistance.\n",
      "TEXTS:  [{'text': \"I'm sorry you're experiencing issues with your checkout cart. Can you please describe the problem?\", 'participant': 'assistant'}, {'text': \"My cart won't let me proceed to checkout.\", 'participant': 'user'}, {'text': \"I understand. Let's try to resolve this. Have you tried refreshing the page?\", 'participant': 'assistant'}, {'text': \"No, I haven't tried that.\", 'participant': 'user'}, {'text': 'Please try refreshing the page first and let me know if the issue persists.', 'participant': 'assistant'}, {'text': 'It worked! Thank you.', 'participant': 'user'}, {'text': \"You're welcome! Is there anything else I can help you with?\", 'participant': 'assistant'}, {'text': \"No, that's all.\", 'participant': 'user'}, {'text': 'Thank you for contacting support. Have a nice day!', 'participant': 'assistant'}]\n",
      "ASSISTANT_STORE:  {'ids': ['0', '1', '2', '3', '4'], 'embeddings': None, 'documents': [\"I'm sorry you're experiencing issues with your checkout cart. Can you please describe the problem?\", \"I understand. Let's try to resolve this. Have you tried refreshing the page?\", 'Please try refreshing the page first and let me know if the issue persists.', \"You're welcome! Is there anything else I can help you with?\", 'Thank you for contacting support. Have a nice day!'], 'uris': None, 'data': None, 'metadatas': [{'id': 0}, {'id': 1}, {'id': 2}, {'id': 3}, {'id': 4}], 'included': [<IncludeEnum.documents: 'documents'>, <IncludeEnum.metadatas: 'metadatas'>]}\n",
      "DOCS:  [(Document(id='3', metadata={'id': 3}, page_content=\"You're welcome! Is there anything else I can help you with?\"), 0.9999999999992206)]\n",
      "UTT:  You're welcome! Is there anything else I can help you with?\n",
      "DOCS:  []\n",
      "UTT:  Glad to hear that! Do you need any further assistance?\n",
      "DOCS:  []\n",
      "UTT:  Please try using Firefox and let me know if the issue persists.\n",
      "DOCS:  []\n",
      "UTT:  Please try using Safari and let me know if the issue persists.\n",
      "DOCS:  [(Document(id='0', metadata={'id': 0}, page_content=\"I'm sorry you're experiencing issues with your checkout cart. Can you please describe the problem?\"), 0.9999999999989942)]\n",
      "UTT:  I'm sorry you're experiencing issues with your checkout cart. Can you please describe the problem?\n",
      "DOCS:  []\n",
      "UTT:  Sorry to hear you're having trouble with your checkout cart. Could you please explain what's happening?\n",
      "DOCS:  [(Document(id='1', metadata={'id': 1}, page_content=\"I understand. Let's try to resolve this. Have you tried refreshing the page?\"), 0.9999999999988993)]\n",
      "UTT:  I understand. Let's try to resolve this. Have you tried refreshing the page?\n",
      "DOCS:  []\n",
      "UTT:  Of course! Which browser would you like to switch to?\n",
      "DOCS:  []\n",
      "UTT:  Great to hear! Is there anything else I can help you with?\n",
      "DOCS:  [(Document(id='4', metadata={'id': 4}, page_content='Thank you for contacting support. Have a nice day!'), 0.9999999999991527)]\n",
      "UTT:  Thank you for contacting support. Have a nice day!\n",
      "DOCS:  []\n",
      "UTT:  What device and browser are you using?\n",
      "DOCS:  []\n",
      "UTT:  Have you tried using a different browser or device?\n",
      "DOCS:  [(Document(id='2', metadata={'id': 2}, page_content='Please try refreshing the page first and let me know if the issue persists.'), 0.9999999999988323)]\n",
      "UTT:  Please try refreshing the page first and let me know if the issue persists.\n",
      "DOCS:  []\n",
      "UTT:  I apologize for the inconvenience. Let me escalate this to our support team.\n",
      "DOCS:  []\n",
      "UTT:  Okay, have you cleared your browser's cache and cookies?\n",
      "DOCS:  []\n",
      "UTT:  Sure, please let me know if you need further assistance.\n",
      "TEXTS:  [{'text': \"I'm sorry you're experiencing issues with your checkout cart. Can you please describe the problem?\", 'participant': 'assistant'}, {'text': \"My cart won't let me proceed to checkout.\", 'participant': 'user'}, {'text': \"I understand. Let's try to resolve this. Have you tried refreshing the page?\", 'participant': 'assistant'}, {'text': \"No, I haven't tried that.\", 'participant': 'user'}, {'text': 'Please try refreshing the page first and let me know if the issue persists.', 'participant': 'assistant'}, {'text': 'It worked! Thank you.', 'participant': 'user'}, {'text': 'Glad to hear that! Do you need any further assistance?', 'participant': 'assistant'}, {'text': \"No, that's all.\", 'participant': 'user'}, {'text': 'Thank you for contacting support. Have a nice day!', 'participant': 'assistant'}]\n",
      "ASSISTANT_STORE:  {'ids': ['0', '1', '2', '3', '4'], 'embeddings': None, 'documents': [\"I'm sorry you're experiencing issues with your checkout cart. Can you please describe the problem?\", \"I understand. Let's try to resolve this. Have you tried refreshing the page?\", 'Please try refreshing the page first and let me know if the issue persists.', 'Glad to hear that! Do you need any further assistance?', 'Thank you for contacting support. Have a nice day!'], 'uris': None, 'data': None, 'metadatas': [{'id': 0}, {'id': 1}, {'id': 2}, {'id': 3}, {'id': 4}], 'included': [<IncludeEnum.documents: 'documents'>, <IncludeEnum.metadatas: 'metadatas'>]}\n",
      "DOCS:  []\n",
      "UTT:  You're welcome! Is there anything else I can help you with?\n",
      "DOCS:  [(Document(id='3', metadata={'id': 3}, page_content='Glad to hear that! Do you need any further assistance?'), 0.9999999999991285)]\n",
      "UTT:  Glad to hear that! Do you need any further assistance?\n",
      "DOCS:  []\n",
      "UTT:  Please try using Firefox and let me know if the issue persists.\n",
      "DOCS:  []\n",
      "UTT:  Please try using Safari and let me know if the issue persists.\n",
      "DOCS:  [(Document(id='0', metadata={'id': 0}, page_content=\"I'm sorry you're experiencing issues with your checkout cart. Can you please describe the problem?\"), 0.9999999999989942)]\n",
      "UTT:  I'm sorry you're experiencing issues with your checkout cart. Can you please describe the problem?\n",
      "DOCS:  []\n",
      "UTT:  Sorry to hear you're having trouble with your checkout cart. Could you please explain what's happening?\n",
      "DOCS:  [(Document(id='1', metadata={'id': 1}, page_content=\"I understand. Let's try to resolve this. Have you tried refreshing the page?\"), 0.9999999999988993)]\n",
      "UTT:  I understand. Let's try to resolve this. Have you tried refreshing the page?\n",
      "DOCS:  []\n",
      "UTT:  Of course! Which browser would you like to switch to?\n",
      "DOCS:  []\n",
      "UTT:  Great to hear! Is there anything else I can help you with?\n",
      "DOCS:  [(Document(id='4', metadata={'id': 4}, page_content='Thank you for contacting support. Have a nice day!'), 0.9999999999991527)]\n",
      "UTT:  Thank you for contacting support. Have a nice day!\n",
      "DOCS:  []\n",
      "UTT:  What device and browser are you using?\n",
      "DOCS:  []\n",
      "UTT:  Have you tried using a different browser or device?\n",
      "DOCS:  [(Document(id='2', metadata={'id': 2}, page_content='Please try refreshing the page first and let me know if the issue persists.'), 0.9999999999988323)]\n",
      "UTT:  Please try refreshing the page first and let me know if the issue persists.\n",
      "DOCS:  []\n",
      "UTT:  I apologize for the inconvenience. Let me escalate this to our support team.\n",
      "DOCS:  []\n",
      "UTT:  Okay, have you cleared your browser's cache and cookies?\n",
      "DOCS:  []\n",
      "UTT:  Sure, please let me know if you need further assistance.\n",
      "TEXTS:  [{'text': \"I'm sorry you're experiencing issues with your checkout cart. Can you please describe the problem?\", 'participant': 'assistant'}, {'text': \"I'm getting an error when I try to add items to the cart.\", 'participant': 'user'}, {'text': 'What device and browser are you using?', 'participant': 'assistant'}, {'text': \"I'm using Chrome on Windows.\", 'participant': 'user'}, {'text': 'Have you tried using a different browser or device?', 'participant': 'assistant'}, {'text': \"No, I haven't tried that.\", 'participant': 'user'}, {'text': 'Please try refreshing the page first and let me know if the issue persists.', 'participant': 'assistant'}, {'text': \"It still doesn't work.\", 'participant': 'user'}, {'text': 'I apologize for the inconvenience. Let me escalate this to our support team.', 'participant': 'assistant'}]\n",
      "ASSISTANT_STORE:  {'ids': ['0', '1', '2', '3', '4'], 'embeddings': None, 'documents': [\"I'm sorry you're experiencing issues with your checkout cart. Can you please describe the problem?\", 'What device and browser are you using?', 'Have you tried using a different browser or device?', 'Please try refreshing the page first and let me know if the issue persists.', 'I apologize for the inconvenience. Let me escalate this to our support team.'], 'uris': None, 'data': None, 'metadatas': [{'id': 0}, {'id': 1}, {'id': 2}, {'id': 3}, {'id': 4}], 'included': [<IncludeEnum.documents: 'documents'>, <IncludeEnum.metadatas: 'metadatas'>]}\n",
      "DOCS:  []\n",
      "UTT:  You're welcome! Is there anything else I can help you with?\n",
      "DOCS:  []\n",
      "UTT:  Glad to hear that! Do you need any further assistance?\n",
      "DOCS:  []\n",
      "UTT:  Please try using Firefox and let me know if the issue persists.\n",
      "DOCS:  []\n",
      "UTT:  Please try using Safari and let me know if the issue persists.\n",
      "DOCS:  [(Document(id='0', metadata={'id': 0}, page_content=\"I'm sorry you're experiencing issues with your checkout cart. Can you please describe the problem?\"), 0.9999999999989942)]\n",
      "UTT:  I'm sorry you're experiencing issues with your checkout cart. Can you please describe the problem?\n",
      "DOCS:  []\n",
      "UTT:  Sorry to hear you're having trouble with your checkout cart. Could you please explain what's happening?\n",
      "DOCS:  []\n",
      "UTT:  I understand. Let's try to resolve this. Have you tried refreshing the page?\n",
      "DOCS:  []\n",
      "UTT:  Of course! Which browser would you like to switch to?\n",
      "DOCS:  []\n",
      "UTT:  Great to hear! Is there anything else I can help you with?\n",
      "DOCS:  []\n",
      "UTT:  Thank you for contacting support. Have a nice day!\n",
      "DOCS:  [(Document(id='1', metadata={'id': 1}, page_content='What device and browser are you using?'), 0.9999999999989786)]\n",
      "UTT:  What device and browser are you using?\n",
      "DOCS:  [(Document(id='2', metadata={'id': 2}, page_content='Have you tried using a different browser or device?'), 0.9999999999992334)]\n",
      "UTT:  Have you tried using a different browser or device?\n",
      "DOCS:  [(Document(id='3', metadata={'id': 3}, page_content='Please try refreshing the page first and let me know if the issue persists.'), 0.9999999999988323)]\n",
      "UTT:  Please try refreshing the page first and let me know if the issue persists.\n",
      "DOCS:  [(Document(id='4', metadata={'id': 4}, page_content='I apologize for the inconvenience. Let me escalate this to our support team.'), 0.9999999999992626)]\n",
      "UTT:  I apologize for the inconvenience. Let me escalate this to our support team.\n",
      "DOCS:  []\n",
      "UTT:  Okay, have you cleared your browser's cache and cookies?\n",
      "DOCS:  []\n",
      "UTT:  Sure, please let me know if you need further assistance.\n",
      "TEXTS:  [{'text': \"I'm sorry you're experiencing issues with your checkout cart. Can you please describe the problem?\", 'participant': 'assistant'}, {'text': \"My cart won't let me proceed to checkout.\", 'participant': 'user'}, {'text': \"I understand. Let's try to resolve this. Have you tried refreshing the page?\", 'participant': 'assistant'}, {'text': \"Yes, but it didn't work.\", 'participant': 'user'}, {'text': \"Okay, have you cleared your browser's cache and cookies?\", 'participant': 'assistant'}, {'text': \"Yes, I cleared cache and cookies, but it still doesn't work.\", 'participant': 'user'}, {'text': 'I apologize for the inconvenience. Let me escalate this to our support team.', 'participant': 'assistant'}]\n",
      "ASSISTANT_STORE:  {'ids': ['0', '1', '2', '3'], 'embeddings': None, 'documents': [\"I'm sorry you're experiencing issues with your checkout cart. Can you please describe the problem?\", \"I understand. Let's try to resolve this. Have you tried refreshing the page?\", \"Okay, have you cleared your browser's cache and cookies?\", 'I apologize for the inconvenience. Let me escalate this to our support team.'], 'uris': None, 'data': None, 'metadatas': [{'id': 0}, {'id': 1}, {'id': 2}, {'id': 3}], 'included': [<IncludeEnum.documents: 'documents'>, <IncludeEnum.metadatas: 'metadatas'>]}\n",
      "DOCS:  []\n",
      "UTT:  You're welcome! Is there anything else I can help you with?\n",
      "DOCS:  []\n",
      "UTT:  Glad to hear that! Do you need any further assistance?\n",
      "DOCS:  []\n",
      "UTT:  Please try using Firefox and let me know if the issue persists.\n",
      "DOCS:  []\n",
      "UTT:  Please try using Safari and let me know if the issue persists.\n",
      "DOCS:  [(Document(id='0', metadata={'id': 0}, page_content=\"I'm sorry you're experiencing issues with your checkout cart. Can you please describe the problem?\"), 0.9999999999994226)]\n",
      "UTT:  I'm sorry you're experiencing issues with your checkout cart. Can you please describe the problem?\n",
      "DOCS:  []\n",
      "UTT:  Sorry to hear you're having trouble with your checkout cart. Could you please explain what's happening?\n",
      "DOCS:  [(Document(id='1', metadata={'id': 1}, page_content=\"I understand. Let's try to resolve this. Have you tried refreshing the page?\"), 0.9999999999993456)]\n",
      "UTT:  I understand. Let's try to resolve this. Have you tried refreshing the page?\n",
      "DOCS:  []\n",
      "UTT:  Of course! Which browser would you like to switch to?\n",
      "DOCS:  []\n",
      "UTT:  Great to hear! Is there anything else I can help you with?\n",
      "DOCS:  []\n",
      "UTT:  Thank you for contacting support. Have a nice day!\n",
      "DOCS:  []\n",
      "UTT:  What device and browser are you using?\n",
      "DOCS:  []\n",
      "UTT:  Have you tried using a different browser or device?\n",
      "DOCS:  []\n",
      "UTT:  Please try refreshing the page first and let me know if the issue persists.\n",
      "DOCS:  [(Document(id='3', metadata={'id': 3}, page_content='I apologize for the inconvenience. Let me escalate this to our support team.'), 0.9999999999995214)]\n",
      "UTT:  I apologize for the inconvenience. Let me escalate this to our support team.\n",
      "DOCS:  [(Document(id='2', metadata={'id': 2}, page_content=\"Okay, have you cleared your browser's cache and cookies?\"), 0.9999999999993662)]\n",
      "UTT:  Okay, have you cleared your browser's cache and cookies?\n",
      "DOCS:  []\n",
      "UTT:  Sure, please let me know if you need further assistance.\n",
      "RESULT:  {'edges': [{'source': 2, 'target': 6, 'utterances': ['It works now.']}, {'source': 3, 'target': 4, 'utterances': [\"My cart won't let me proceed to checkout.\"]}, {'source': 4, 'target': 5, 'utterances': ['Actually, can I change my browser?']}, {'source': 5, 'target': 2, 'utterances': ['I want to try Safari instead.']}, {'source': 6, 'target': 7, 'utterances': [\"No, that's all.\"]}, {'source': 4, 'target': 10, 'utterances': [\"No, I haven't tried that.\"]}, {'source': 8, 'target': 9, 'utterances': [\"I'm using Chrome on Windows.\"]}, {'source': 9, 'target': 4, 'utterances': [\"Yes, but it didn't work.\"]}, {'source': 10, 'target': 11, 'utterances': [\"It still doesn't work.\"]}, {'source': 3, 'target': 8, 'utterances': [\"I'm getting an error when I try to add items to the cart.\", 'The checkout page is not loading.', 'My cart keeps crashing when I try to add items.']}, {'source': 2, 'target': 11, 'utterances': ['Still having issues.']}, {'source': 9, 'target': 5, 'utterances': ['Actually, can I change my device?']}, {'source': 4, 'target': 12, 'utterances': [\"Yes, but it didn't work.\"]}, {'source': 12, 'target': 10, 'utterances': [\"No, I haven't cleared cache and cookies.\"]}, {'source': 12, 'target': 13, 'utterances': ['Can I change my device?']}, {'source': 13, 'target': 7, 'utterances': ['No, I want to stop.']}, {'source': 1, 'target': 7, 'utterances': [\"No, that's all.\"]}, {'source': 10, 'target': 1, 'utterances': ['It worked! Thank you.']}, {'source': 9, 'target': 10, 'utterances': [\"No, I haven't tried that.\"]}, {'source': 12, 'target': 11, 'utterances': [\"Yes, I cleared cache and cookies, but it still doesn't work.\"]}], 'nodes': [{'id': 1, 'label': '', 'is_start': False, 'utterances': [\"You're welcome! Is there anything else I can help you with?\", 'Glad to hear that! Do you need any further assistance?']}, {'id': 2, 'label': '', 'is_start': False, 'utterances': ['Please try using Firefox and let me know if the issue persists.', 'Please try using Safari and let me know if the issue persists.']}, {'id': 3, 'label': '', 'is_start': True, 'utterances': [\"I'm sorry you're experiencing issues with your checkout cart. Can you please describe the problem?\", \"Sorry to hear you're having trouble with your checkout cart. Could you please explain what's happening?\"]}, {'id': 4, 'label': '', 'is_start': False, 'utterances': [\"I understand. Let's try to resolve this. Have you tried refreshing the page?\"]}, {'id': 5, 'label': '', 'is_start': False, 'utterances': ['Of course! Which browser would you like to switch to?']}, {'id': 6, 'label': '', 'is_start': False, 'utterances': ['Great to hear! Is there anything else I can help you with?']}, {'id': 7, 'label': '', 'is_start': False, 'utterances': ['Thank you for contacting support. Have a nice day!']}, {'id': 8, 'label': '', 'is_start': False, 'utterances': ['What device and browser are you using?']}, {'id': 9, 'label': '', 'is_start': False, 'utterances': ['Have you tried using a different browser or device?']}, {'id': 10, 'label': '', 'is_start': False, 'utterances': ['Please try refreshing the page first and let me know if the issue persists.']}, {'id': 11, 'label': '', 'is_start': False, 'utterances': ['I apologize for the inconvenience. Let me escalate this to our support team.']}, {'id': 12, 'label': '', 'is_start': False, 'utterances': [\"Okay, have you cleared your browser's cache and cookies?\"]}, {'id': 13, 'label': '', 'is_start': False, 'utterances': ['Sure, please let me know if you need further assistance.']}]} \n",
      "\n",
      "SKIP\n"
     ]
    }
   ],
   "source": [
    "result_graph = graph_generator.invoke([Dialogue.from_list(c[\"messages\"]) for c in case[\"dialogues\"]])"
   ]
  },
  {
   "cell_type": "code",
   "execution_count": 25,
   "metadata": {},
   "outputs": [
    {
     "data": {
      "text/plain": [
       "{'nodes': [{'id': 1,\n",
       "   'label': '',\n",
       "   'is_start': False,\n",
       "   'utterances': ['Of course, we can facilitate an exchange for a different size. Please specify your preferred size.',\n",
       "    'Certainly, we can exchange your product for a different size. Please let us know which size you would prefer.',\n",
       "    'Sure, we can exchange your product for another size. Which size would you like instead?']},\n",
       "  {'id': 2,\n",
       "   'label': '',\n",
       "   'is_start': True,\n",
       "   'utterances': [\"I'm sorry to hear that the size of the product you received isn't what you expected. How can I assist you today?\"]},\n",
       "  {'id': 3,\n",
       "   'label': '',\n",
       "   'is_start': False,\n",
       "   'utterances': [\"I'm sorry for the inconvenience. Could you please provide your order number?\"]},\n",
       "  {'id': 4,\n",
       "   'label': '',\n",
       "   'is_start': False,\n",
       "   'utterances': ['Thank you. I see that you ordered a Medium size. Would you like a replacement, a refund, or to exchange it for a different size?']},\n",
       "  {'id': 5,\n",
       "   'label': '',\n",
       "   'is_start': False,\n",
       "   'utterances': ['Understood. We will send you a replacement in size Medium. You should receive it within 5 business days. Is there anything else I can assist you with?']},\n",
       "  {'id': 6,\n",
       "   'label': '',\n",
       "   'is_start': False,\n",
       "   'utterances': [\"You're welcome! Have a great day.\"]},\n",
       "  {'id': 7,\n",
       "   'label': '',\n",
       "   'is_start': False,\n",
       "   'utterances': ['Your refund has been processed. You should see the amount credited to your account within 3-5 business days. Is there anything else I can assist you with?']}],\n",
       " 'edges': [{'source': 2,\n",
       "   'target': 3,\n",
       "   'utterances': ['The size I ordered is not correct.']},\n",
       "  {'source': 3, 'target': 4, 'utterances': [\"Sure, it's 123456.\"]},\n",
       "  {'source': 4, 'target': 5, 'utterances': ['I would like a replacement.']},\n",
       "  {'source': 4,\n",
       "   'target': 6,\n",
       "   'utterances': [\"I changed my mind, I don't need any help.\"]},\n",
       "  {'source': 5,\n",
       "   'target': 4,\n",
       "   'utterances': ['Actually, can I change my choice?']},\n",
       "  {'source': 4, 'target': 7, 'utterances': ['I would like a refund.']},\n",
       "  {'source': 7,\n",
       "   'target': 4,\n",
       "   'utterances': ['Actually, can I change my mind?']},\n",
       "  {'source': 1,\n",
       "   'target': 4,\n",
       "   'utterances': ['Actually, I want to choose another option instead.']},\n",
       "  {'source': 4,\n",
       "   'target': 1,\n",
       "   'utterances': ['I would like to exchange for a different size.',\n",
       "    'Actually, I need a different size.',\n",
       "    'Can I exchange it for another size?']},\n",
       "  {'source': 5, 'target': 6, 'utterances': [\"No, that's all, thank you.\"]},\n",
       "  {'source': 7, 'target': 6, 'utterances': [\"No, that's all, thanks.\"]},\n",
       "  {'source': 1, 'target': 6, 'utterances': [\"No, that's all, thank you.\"]},\n",
       "  {'source': 3,\n",
       "   'target': 6,\n",
       "   'utterances': [\"Never mind, I don't need assistance.\"]}],\n",
       " 'reason': ''}"
      ]
     },
     "execution_count": 25,
     "metadata": {},
     "output_type": "execute_result"
    }
   ],
   "source": [
    "result_graph.graph_dict"
   ]
  },
  {
   "cell_type": "code",
   "execution_count": 35,
   "metadata": {},
   "outputs": [
    {
     "name": "stdout",
     "output_type": "stream",
     "text": [
      "LEN1:  [1, 3, 1, 1, 1, 1, 1, 1, 1, 1, 1, 1, 1, 1, 1, 1, 1, 1, 1, 1] LEN2:  [1, 1, 1, 1, 3, 1, 1, 1, 1, 1, 1, 1, 1, 1, 1, 1, 1, 1, 1, 1]\n",
      "N_MAX:  [2, 3, 7, 11, 9, 4, 10, 12, 0, 8, 1, 5, 6]\n",
      "MAX:  [2, 3, 7, 11, 9, 4, 10, 12, 0, 8, 1, 5, 6]\n",
      "MAPS:  {1: 3, 2: 4, 3: 8, 4: 12, 5: 10, 6: 5, 7: 11, 8: 13, 9: 1, 10: 9, 11: 2, 12: 6, 13: 7}\n",
      "NN:  1 3\n",
      "NN:  2 4\n",
      "NN:  3 8\n",
      "NN:  4 12\n",
      "NN:  5 10\n",
      "NN:  6 5\n",
      "NN:  7 11\n",
      "NN:  8 13\n",
      "NN:  9 1\n",
      "NN:  10 9\n",
      "NN:  11 2\n",
      "NN:  12 6\n",
      "NN:  13 7\n",
      "NODES:  0.99999964\n",
      "ALL:  0.98246884\n",
      "MIN:  0.98246884\n"
     ]
    },
    {
     "data": {
      "text/plain": [
       "True"
      ]
     },
     "execution_count": 35,
     "metadata": {},
     "output_type": "execute_result"
    }
   ],
   "source": [
    "llm_match(Graph(case['graph']),result_graph)"
   ]
  },
  {
   "cell_type": "code",
   "execution_count": 29,
   "metadata": {},
   "outputs": [
    {
     "name": "stdout",
     "output_type": "stream",
     "text": [
      "0.99\n",
      "LISTS_N:  [(0, ['Yes, I have changed the OS.', \"No, I haven't changed the OS.\"]), (1, [\"I've enabled it, but it's still not working.\"]), (2, [\"I've done that, but the problem persists.\", 'Actually, I want to restart my device.']), (3, [\"No, I'd like to keep trying biometric login.\", \"Yes, I'll use my password.\"]), (4, [\"I've restarted it, but it still doesn't work.\", 'Actually, I realized my fingerprint scanner is dirty. Let me clean it and try again.']), (5, ['']), (6, [\"Yes, I'll use my password.\", \"No, I'd like to keep trying biometric login.\"]), (7, ['I want to try logging in with my password instead.', \"I've verified it, but it still doesn't work.\", 'It still fails after verification.']), (8, ['']), (9, [\"I restarted it, but it still doesn't work.\"])]\n",
      "LISTS:  [(0, \"I'm sorry you're having trouble with biometric login. Let's troubleshoot together. Have you recently updated your device's operating system?\"), (1, \"Thank you for letting me know. Sometimes OS updates can affect settings. Let's ensure that biometric login is enabled in your security settings.\"), (2, 'Understood. Please try deleting and re-adding your fingerprint data.'), (3, 'I see. You can try logging in using your PIN or password. Would you like to switch to that method?'), (4, 'If you decide to stop troubleshooting, you can try again later or contact support. Let me know if you need further assistance.'), (5, 'Please enter your password to log in.'), (6, 'Alternatively, you can use your PIN or password to log in. Would you like to change to that method?'), (7, \"Alright. Let's check if your fingerprint is properly registered. Please go to your device settings and verify your fingerprint data.\"), (8, 'Alright, if you choose to use your password instead, please proceed to the login screen and select the password option. Let me know if you need further assistance.'), (9, 'Sure, please go ahead and restart your device, then try logging in again. Let me know if that resolves the issue.')]\n",
      "\n",
      "\n",
      "STARTS:  I see. You can try logging in using your PIN or password. Would you like to switch to that method? [DialogueMessage(text=\"Thank you for letting me know. Sometimes OS updates can affect settings. Let's ensure that biometric login is enabled in your security settings.\", participant='assistant'), DialogueMessage(text=\"I've enabled it, but it's still not working.\", participant='user'), DialogueMessage(text='Understood. Please try deleting and re-adding your fingerprint data.', participant='assistant'), DialogueMessage(text=\"I've done that, but the problem persists.\", participant='user'), DialogueMessage(text=\"No, I'd like to keep trying biometric login.\", participant='user'), DialogueMessage(text='If you decide to stop troubleshooting, you can try again later or contact support. Let me know if you need further assistance.', participant='assistant'), DialogueMessage(text=\"I've restarted it, but it still doesn't work.\", participant='user'), DialogueMessage(text='Understood. Please try deleting and re-adding your fingerprint data.', participant='assistant')]\n",
      "STARTS:  Alternatively, you can use your PIN or password to log in. Would you like to change to that method? [DialogueMessage(text=\"Thank you for letting me know. Sometimes OS updates can affect settings. Let's ensure that biometric login is enabled in your security settings.\", participant='assistant'), DialogueMessage(text=\"I've enabled it, but it's still not working.\", participant='user'), DialogueMessage(text='Understood. Please try deleting and re-adding your fingerprint data.', participant='assistant'), DialogueMessage(text=\"I've done that, but the problem persists.\", participant='user'), DialogueMessage(text=\"No, I'd like to keep trying biometric login.\", participant='user'), DialogueMessage(text='If you decide to stop troubleshooting, you can try again later or contact support. Let me know if you need further assistance.', participant='assistant'), DialogueMessage(text=\"I've restarted it, but it still doesn't work.\", participant='user'), DialogueMessage(text='Understood. Please try deleting and re-adding your fingerprint data.', participant='assistant')]\n",
      "TAIL_COND:  True I see. You can try logging in using your PIN or password. Would you like to switch to that method? Alternatively, you can use your PIN or password to log in. Would you like to change to that method?\n",
      "LIST1:  []\n",
      "LIST2:  []\n",
      "TO_ADD:  [3, 6]\n",
      "LEFT:  []\n",
      "NODES:  [['I see. You can try logging in using your PIN or password. Would you like to switch to that method?', 'Alternatively, you can use your PIN or password to log in. Would you like to change to that method?'], [\"I'm sorry you're having trouble with biometric login. Let's troubleshoot together. Have you recently updated your device's operating system?\"], [\"Thank you for letting me know. Sometimes OS updates can affect settings. Let's ensure that biometric login is enabled in your security settings.\"], ['Understood. Please try deleting and re-adding your fingerprint data.'], ['If you decide to stop troubleshooting, you can try again later or contact support. Let me know if you need further assistance.'], ['Please enter your password to log in.'], [\"Alright. Let's check if your fingerprint is properly registered. Please go to your device settings and verify your fingerprint data.\"], ['Alright, if you choose to use your password instead, please proceed to the login screen and select the password option. Let me know if you need further assistance.'], ['Sure, please go ahead and restart your device, then try logging in again. Let me know if that resolves the issue.']]\n",
      "NODES:  [{'id': 1, 'label': '', 'is_start': False, 'utterances': ['I see. You can try logging in using your PIN or password. Would you like to switch to that method?', 'Alternatively, you can use your PIN or password to log in. Would you like to change to that method?']}, {'id': 2, 'label': '', 'is_start': True, 'utterances': [\"I'm sorry you're having trouble with biometric login. Let's troubleshoot together. Have you recently updated your device's operating system?\"]}, {'id': 3, 'label': '', 'is_start': False, 'utterances': [\"Thank you for letting me know. Sometimes OS updates can affect settings. Let's ensure that biometric login is enabled in your security settings.\"]}, {'id': 4, 'label': '', 'is_start': False, 'utterances': ['Understood. Please try deleting and re-adding your fingerprint data.']}, {'id': 5, 'label': '', 'is_start': False, 'utterances': ['If you decide to stop troubleshooting, you can try again later or contact support. Let me know if you need further assistance.']}, {'id': 6, 'label': '', 'is_start': False, 'utterances': ['Please enter your password to log in.']}, {'id': 7, 'label': '', 'is_start': False, 'utterances': [\"Alright. Let's check if your fingerprint is properly registered. Please go to your device settings and verify your fingerprint data.\"]}, {'id': 8, 'label': '', 'is_start': False, 'utterances': ['Alright, if you choose to use your password instead, please proceed to the login screen and select the password option. Let me know if you need further assistance.']}, {'id': 9, 'label': '', 'is_start': False, 'utterances': ['Sure, please go ahead and restart your device, then try logging in again. Let me know if that resolves the issue.']}]\n",
      "RESULT:  {'edges': [{'source': 1, 'target': 5, 'utterances': [\"No, I'd like to keep trying biometric login.\"]}, {'source': 1, 'target': 6, 'utterances': [\"Yes, I'll use my password.\"]}, {'source': 2, 'target': 3, 'utterances': ['Yes, I have changed the OS.']}, {'source': 3, 'target': 4, 'utterances': [\"I've enabled it, but it's still not working.\"]}, {'source': 4, 'target': 1, 'utterances': [\"I've done that, but the problem persists.\"]}, {'source': 5, 'target': 4, 'utterances': [\"I've restarted it, but it still doesn't work.\"]}, {'source': 5, 'target': 7, 'utterances': ['Actually, I realized my fingerprint scanner is dirty. Let me clean it and try again.']}, {'source': 7, 'target': 8, 'utterances': ['I want to try logging in with my password instead.']}, {'source': 4, 'target': 9, 'utterances': ['Actually, I want to restart my device.']}, {'source': 9, 'target': 4, 'utterances': [\"I restarted it, but it still doesn't work.\"]}, {'source': 2, 'target': 7, 'utterances': [\"No, I haven't changed the OS.\"]}, {'source': 7, 'target': 4, 'utterances': [\"I've verified it, but it still doesn't work.\", 'It still fails after verification.']}], 'nodes': [{'id': 1, 'label': '', 'is_start': False, 'utterances': ['I see. You can try logging in using your PIN or password. Would you like to switch to that method?', 'Alternatively, you can use your PIN or password to log in. Would you like to change to that method?']}, {'id': 2, 'label': '', 'is_start': True, 'utterances': [\"I'm sorry you're having trouble with biometric login. Let's troubleshoot together. Have you recently updated your device's operating system?\"]}, {'id': 3, 'label': '', 'is_start': False, 'utterances': [\"Thank you for letting me know. Sometimes OS updates can affect settings. Let's ensure that biometric login is enabled in your security settings.\"]}, {'id': 4, 'label': '', 'is_start': False, 'utterances': ['Understood. Please try deleting and re-adding your fingerprint data.']}, {'id': 5, 'label': '', 'is_start': False, 'utterances': ['If you decide to stop troubleshooting, you can try again later or contact support. Let me know if you need further assistance.']}, {'id': 6, 'label': '', 'is_start': False, 'utterances': ['Please enter your password to log in.']}, {'id': 7, 'label': '', 'is_start': False, 'utterances': [\"Alright. Let's check if your fingerprint is properly registered. Please go to your device settings and verify your fingerprint data.\"]}, {'id': 8, 'label': '', 'is_start': False, 'utterances': ['Alright, if you choose to use your password instead, please proceed to the login screen and select the password option. Let me know if you need further assistance.']}, {'id': 9, 'label': '', 'is_start': False, 'utterances': ['Sure, please go ahead and restart your device, then try logging in again. Let me know if that resolves the issue.']}]} \n",
      "\n",
      "SKIP\n",
      "LEN1:  [1, 1, 2, 1, 1, 1, 1, 1, 1, 1, 1, 1] LEN2:  [1, 1, 1, 1, 1, 1, 1, 1, 1, 1, 2, 1]\n",
      "N_MAX:  [1, 6, 3, 0, 5, 2, 7, 8, 4]\n",
      "MAX:  [1, 6, 3, 0, 5, 2, 7, 8, 4]\n",
      "MAPS:  {1: 2, 2: 7, 3: 4, 4: 1, 5: 6, 6: 3, 7: 8, 8: 9, 9: 5}\n",
      "NN:  1 2\n",
      "NN:  2 7\n",
      "NN:  3 4\n",
      "NN:  4 1\n",
      "NN:  5 6\n",
      "NN:  6 3\n",
      "NN:  7 8\n",
      "NN:  8 9\n",
      "NN:  9 5\n",
      "NODES:  0.9999999\n",
      "ALL:  0.9942019\n",
      "MIN:  0.9942019\n"
     ]
    },
    {
     "data": {
      "text/plain": [
       "True"
      ]
     },
     "execution_count": 29,
     "metadata": {},
     "output_type": "execute_result"
    }
   ],
   "source": [
    "case = dialogue_to_graph[20]\n",
    "result_graph = graph_generator.invoke([Dialogue.from_list(c[\"messages\"]) for c in case[\"dialogues\"]])\n",
    "llm_match(Graph(dialogue_to_graph[20]['graph']),result_graph)"
   ]
  },
  {
   "cell_type": "code",
   "execution_count": 113,
   "metadata": {},
   "outputs": [
    {
     "name": "stdout",
     "output_type": "stream",
     "text": [
      "LEN1:  [1, 1, 1, 2, 1, 1, 1, 1, 1, 1, 1, 1, 1] LEN2:  [1, 1, 1, 2, 1, 1, 1, 1, 1, 1, 1, 1, 1]\n",
      "N_MAX:  [1, 2, 3, 6, 4, 7, 8, 0, 5]\n",
      "MAX:  [1, 2, 3, 6, 4, 7, 8, 0, 5]\n",
      "MAPS:  {1: 2, 2: 3, 3: 4, 4: 7, 5: 5, 6: 8, 7: 9, 8: 1, 9: 6}\n",
      "NN:  1 2\n",
      "NN:  2 3\n",
      "NN:  3 4\n",
      "NN:  4 7\n",
      "NN:  5 5\n",
      "NN:  6 8\n",
      "NN:  7 9\n",
      "NN:  8 1\n",
      "NN:  9 6\n",
      "NODES:  0.9898924\n",
      "ALL:  0.9870714\n",
      "MIN:  0.9870714\n"
     ]
    },
    {
     "data": {
      "text/plain": [
       "True"
      ]
     },
     "execution_count": 113,
     "metadata": {},
     "output_type": "execute_result"
    }
   ],
   "source": [
    "llm_match(Graph(dialogue_to_graph[15]['graph']),result_graph)"
   ]
  },
  {
   "cell_type": "code",
   "execution_count": 118,
   "metadata": {},
   "outputs": [
    {
     "data": {
      "text/plain": [
       "False"
      ]
     },
     "execution_count": 118,
     "metadata": {},
     "output_type": "execute_result"
    }
   ],
   "source": [
    "is_same_structure(Graph(dialogue_to_graph[17]['graph']),result_graph)"
   ]
  },
  {
   "cell_type": "code",
   "execution_count": 80,
   "metadata": {},
   "outputs": [],
   "source": [
    "def remove_duplicated_edges(graph: dict):\n",
    "    edges = graph['edges']\n",
    "    couples = [(e['source'],e['target']) for e in edges]\n",
    "    duplicates = [i for i in set(couples) if couples.count(i) > 1]\n",
    "    print(duplicates)\n",
    "    new_edges = []\n",
    "    for d in duplicates:\n",
    "        found = [c for c in edges if c['source'] == d[0] and c['target'] == d[1]]\n",
    "        print(\"FOUND: \", found)\n",
    "        new_edge = found[0]\n",
    "        new_edge['utterances'] = []\n",
    "        for e in found:\n",
    "            new_edge['utterances'].extend(e['utterances'])\n",
    "        new_edges.append(new_edge)\n",
    "    new_graph = {\"edges\": [e for e in edges if (e['source'],e['target']) not in duplicates]+new_edges, \"nodes\": graph['nodes'] }\n",
    "    return new_graph"
   ]
  },
  {
   "cell_type": "code",
   "execution_count": 24,
   "metadata": {},
   "outputs": [
    {
     "data": {
      "text/plain": [
       "{'nodes': [{'id': 1,\n",
       "   'label': '',\n",
       "   'is_start': False,\n",
       "   'utterances': ['Great! Your replacement card will be mailed to your address within 5 business days. Is there anything else I can help you with?',\n",
       "    \"Excellent! We'll send your new membership card to your registered address and it should arrive in about 5 days. Do you need anything else?\"]},\n",
       "  {'id': 2,\n",
       "   'label': '',\n",
       "   'is_start': True,\n",
       "   'utterances': ['Hello! How can I assist you today?']},\n",
       "  {'id': 3,\n",
       "   'label': '',\n",
       "   'is_start': False,\n",
       "   'utterances': ['Sure, I can help with that. Could you please provide your membership number?']},\n",
       "  {'id': 4,\n",
       "   'label': '',\n",
       "   'is_start': False,\n",
       "   'utterances': ['Thank you. How would you like to receive your replacement card? It can be mailed to your address on file or you can pick it up at any of our stores.']},\n",
       "  {'id': 5,\n",
       "   'label': '',\n",
       "   'is_start': False,\n",
       "   'utterances': ['Of course! You can pick up your replacement card at the nearest store within 3 business days. Is there anything else I can assist you with?']},\n",
       "  {'id': 6,\n",
       "   'label': '',\n",
       "   'is_start': False,\n",
       "   'utterances': ['Certainly! Your replacement card will be mailed to your address within 5 business days. Is there anything else I can help you with?']},\n",
       "  {'id': 7,\n",
       "   'label': '',\n",
       "   'is_start': False,\n",
       "   'utterances': [\"You're welcome! Have a great day!\"]},\n",
       "  {'id': 8,\n",
       "   'label': '',\n",
       "   'is_start': False,\n",
       "   'utterances': ['Sure! You can pick up your replacement card at the nearest store within 3 business days. Is there anything else I can assist you with?']},\n",
       "  {'id': 9,\n",
       "   'label': '',\n",
       "   'is_start': False,\n",
       "   'utterances': [\"I'm sorry to hear that. If you need assistance in the future, feel free to reach out. Have a great day!\"]}],\n",
       " 'edges': [{'source': 2,\n",
       "   'target': 3,\n",
       "   'utterances': ['I need a replacement membership card.']},\n",
       "  {'source': 3,\n",
       "   'target': 4,\n",
       "   'utterances': ['My membership number is 123456.']},\n",
       "  {'source': 4,\n",
       "   'target': 1,\n",
       "   'utterances': ['I would like it mailed to my address.']},\n",
       "  {'source': 6, 'target': 7, 'utterances': [\"No, that's all.\"]},\n",
       "  {'source': 1,\n",
       "   'target': 5,\n",
       "   'utterances': ['Actually, can I change to picking it up instead?',\n",
       "    'Can I switch to store pickup instead?',\n",
       "    'I would like to change my delivery method to pickup.']},\n",
       "  {'source': 4,\n",
       "   'target': 8,\n",
       "   'utterances': ['I prefer to pick it up at a store.']},\n",
       "  {'source': 5,\n",
       "   'target': 6,\n",
       "   'utterances': [\"Actually, I'd like to switch back to mailing.\",\n",
       "    'Can I change to have it mailed instead?',\n",
       "    \"I'd prefer it to be mailed instead.\",\n",
       "    'Actually, I would like it mailed instead.']},\n",
       "  {'source': 5, 'target': 7, 'utterances': ['No, thank you.']},\n",
       "  {'source': 8,\n",
       "   'target': 6,\n",
       "   'utterances': [\"Actually, I'd like to switch back to mailing.\",\n",
       "    'Can I change to have it mailed instead?',\n",
       "    \"I'd prefer it to be mailed instead.\",\n",
       "    'Actually, I would like it mailed instead.']},\n",
       "  {'source': 8, 'target': 7, 'utterances': ['No, thank you.']},\n",
       "  {'source': 6,\n",
       "   'target': 8,\n",
       "   'utterances': ['Actually, can I have it picked up instead?',\n",
       "    'I would like to pick it up at a store.',\n",
       "    'Change to store pickup, please.']},\n",
       "  {'source': 1, 'target': 7, 'utterances': [\"No, that's all.\"]},\n",
       "  {'source': 3, 'target': 9, 'utterances': ['Actually, I changed my mind.']}],\n",
       " 'reason': ''}"
      ]
     },
     "execution_count": 24,
     "metadata": {},
     "output_type": "execute_result"
    }
   ],
   "source": [
    "result_graph.graph_dict"
   ]
  },
  {
   "cell_type": "code",
   "execution_count": 17,
   "metadata": {},
   "outputs": [
    {
     "data": {
      "text/plain": [
       "'Requesting a replacement membership card'"
      ]
     },
     "execution_count": 17,
     "metadata": {},
     "output_type": "execute_result"
    }
   ],
   "source": [
    "dialogue_to_graph[17]['topic']"
   ]
  },
  {
   "cell_type": "code",
   "execution_count": 16,
   "metadata": {},
   "outputs": [
    {
     "data": {
      "text/plain": [
       "{'edges': [{'source': 1,\n",
       "   'target': 2,\n",
       "   'utterances': ['I need a replacement membership card.']},\n",
       "  {'source': 2,\n",
       "   'target': 3,\n",
       "   'utterances': ['My membership number is 123456.']},\n",
       "  {'source': 3,\n",
       "   'target': 4,\n",
       "   'utterances': ['I would like it mailed to my address.']},\n",
       "  {'source': 3,\n",
       "   'target': 5,\n",
       "   'utterances': ['I prefer to pick it up at a store.']},\n",
       "  {'source': 4,\n",
       "   'target': 7,\n",
       "   'utterances': ['Actually, can I change to picking it up instead?',\n",
       "    'Can I switch to store pickup instead?',\n",
       "    'I would like to change my delivery method to pickup.']},\n",
       "  {'source': 4, 'target': 6, 'utterances': [\"No, that's all.\"]},\n",
       "  {'source': 5, 'target': 6, 'utterances': ['No, thank you.']},\n",
       "  {'source': 5,\n",
       "   'target': 8,\n",
       "   'utterances': ['Actually, I would like it mailed instead.']},\n",
       "  {'source': 8, 'target': 6, 'utterances': [\"No, that's all.\"]},\n",
       "  {'source': 2, 'target': 9, 'utterances': ['Actually, I changed my mind.']},\n",
       "  {'source': 7,\n",
       "   'target': 8,\n",
       "   'utterances': [\"Actually, I'd like to switch back to mailing.\",\n",
       "    'Can I change to have it mailed instead?',\n",
       "    \"I'd prefer it to be mailed instead.\"]},\n",
       "  {'source': 8,\n",
       "   'target': 5,\n",
       "   'utterances': ['Actually, can I have it picked up instead?',\n",
       "    'I would like to pick it up at a store.',\n",
       "    'Change to store pickup, please.']}],\n",
       " 'nodes': [{'id': 1,\n",
       "   'label': 'greeting',\n",
       "   'is_start': True,\n",
       "   'utterances': ['Hello! How can I assist you today?']},\n",
       "  {'id': 2,\n",
       "   'label': 'ask_membership_number',\n",
       "   'is_start': False,\n",
       "   'utterances': ['Sure, I can help with that. Could you please provide your membership number?']},\n",
       "  {'id': 3,\n",
       "   'label': 'delivery_method',\n",
       "   'is_start': False,\n",
       "   'utterances': ['Thank you. How would you like to receive your replacement card? It can be mailed to your address on file or you can pick it up at any of our stores.']},\n",
       "  {'id': 4,\n",
       "   'label': 'confirmation_mail',\n",
       "   'is_start': False,\n",
       "   'utterances': ['Great! Your replacement card will be mailed to your address within 5 business days. Is there anything else I can help you with?',\n",
       "    \"Excellent! We'll send your new membership card to your registered address and it should arrive in about 5 days. Do you need anything else?\"]},\n",
       "  {'id': 5,\n",
       "   'label': 'confirmation_pickup',\n",
       "   'is_start': False,\n",
       "   'utterances': ['Sure! You can pick up your replacement card at the nearest store within 3 business days. Is there anything else I can assist you with?']},\n",
       "  {'id': 6,\n",
       "   'label': 'end',\n",
       "   'is_start': False,\n",
       "   'utterances': [\"You're welcome! Have a great day!\"]},\n",
       "  {'id': 7,\n",
       "   'label': 'modified_delivery_pickup',\n",
       "   'is_start': False,\n",
       "   'utterances': ['Of course! You can pick up your replacement card at the nearest store within 3 business days. Is there anything else I can assist you with?']},\n",
       "  {'id': 8,\n",
       "   'label': 'modified_delivery_mail',\n",
       "   'is_start': False,\n",
       "   'utterances': ['Certainly! Your replacement card will be mailed to your address within 5 business days. Is there anything else I can help you with?']},\n",
       "  {'id': 9,\n",
       "   'label': 'cancel',\n",
       "   'is_start': False,\n",
       "   'utterances': [\"I'm sorry to hear that. If you need assistance in the future, feel free to reach out. Have a great day!\"]}]}"
      ]
     },
     "execution_count": 16,
     "metadata": {},
     "output_type": "execute_result"
    }
   ],
   "source": [
    "dialogue_to_graph[17]['graph']"
   ]
  },
  {
   "cell_type": "code",
   "execution_count": null,
   "metadata": {},
   "outputs": [],
   "source": [
    "dialogue_to_graph[7]['']"
   ]
  },
  {
   "cell_type": "code",
   "execution_count": 52,
   "metadata": {},
   "outputs": [
    {
     "data": {
      "text/plain": [
       "{'nodes': [{'id': 1,\n",
       "   'label': '',\n",
       "   'is_start': True,\n",
       "   'utterances': [\"I'm sorry you're experiencing issues with your checkout cart. Can you please describe the problem?\",\n",
       "    \"Sorry to hear you're having trouble with your checkout cart. Could you please explain what's happening?\"]},\n",
       "  {'id': 2,\n",
       "   'label': '',\n",
       "   'is_start': False,\n",
       "   'utterances': ['Great to hear! Is there anything else I can help you with?',\n",
       "    \"You're welcome! Is there anything else I can help you with?\",\n",
       "    'Glad to hear that! Do you need any further assistance?']},\n",
       "  {'id': 3,\n",
       "   'label': '',\n",
       "   'is_start': False,\n",
       "   'utterances': ['Please try refreshing the page first and let me know if the issue persists.',\n",
       "    'Please try using Firefox and let me know if the issue persists.']},\n",
       "  {'id': 4,\n",
       "   'label': '',\n",
       "   'is_start': False,\n",
       "   'utterances': ['Have you tried using a different browser or device?',\n",
       "    \"Okay, have you cleared your browser's cache and cookies?\"]},\n",
       "  {'id': 5,\n",
       "   'label': '',\n",
       "   'is_start': False,\n",
       "   'utterances': [\"I understand. Let's try to resolve this. Have you tried refreshing the page?\"]},\n",
       "  {'id': 6,\n",
       "   'label': '',\n",
       "   'is_start': False,\n",
       "   'utterances': ['Of course! Which browser would you like to switch to?']},\n",
       "  {'id': 7,\n",
       "   'label': '',\n",
       "   'is_start': False,\n",
       "   'utterances': ['Thank you for contacting support. Have a nice day!']},\n",
       "  {'id': 8,\n",
       "   'label': '',\n",
       "   'is_start': False,\n",
       "   'utterances': ['Please try using Safari and let me know if the issue persists.']},\n",
       "  {'id': 9,\n",
       "   'label': '',\n",
       "   'is_start': False,\n",
       "   'utterances': ['What device and browser are you using?']},\n",
       "  {'id': 10,\n",
       "   'label': '',\n",
       "   'is_start': False,\n",
       "   'utterances': ['I apologize for the inconvenience. Let me escalate this to our support team.']},\n",
       "  {'id': 11,\n",
       "   'label': '',\n",
       "   'is_start': False,\n",
       "   'utterances': ['Sure, please let me know if you need further assistance.']}],\n",
       " 'edges': [{'source': 1,\n",
       "   'target': 5,\n",
       "   'utterances': [\"My cart won't let me proceed to checkout.\"]},\n",
       "  {'source': 2, 'target': 7, 'utterances': [\"No, that's all.\"]},\n",
       "  {'source': 5,\n",
       "   'target': 6,\n",
       "   'utterances': ['Actually, can I change my browser?']},\n",
       "  {'source': 6, 'target': 3, 'utterances': ['I want to try Safari instead.']},\n",
       "  {'source': 6, 'target': 8, 'utterances': ['I want to try Safari instead.']},\n",
       "  {'source': 8, 'target': 2, 'utterances': ['It works now.']},\n",
       "  {'source': 4, 'target': 5, 'utterances': [\"Yes, but it didn't work.\"]},\n",
       "  {'source': 5, 'target': 3, 'utterances': [\"No, I haven't tried that.\"]},\n",
       "  {'source': 9, 'target': 4, 'utterances': [\"I'm using Chrome on Windows.\"]},\n",
       "  {'source': 1,\n",
       "   'target': 9,\n",
       "   'utterances': [\"I'm getting an error when I try to add items to the cart.\",\n",
       "    'The checkout page is not loading.',\n",
       "    'My cart keeps crashing when I try to add items.']},\n",
       "  {'source': 3,\n",
       "   'target': 10,\n",
       "   'utterances': [\"It still doesn't work.\", 'Still having issues.']},\n",
       "  {'source': 4,\n",
       "   'target': 6,\n",
       "   'utterances': ['Actually, can I change my device?']},\n",
       "  {'source': 8, 'target': 10, 'utterances': ['Still having issues.']},\n",
       "  {'source': 5, 'target': 4, 'utterances': [\"Yes, but it didn't work.\"]},\n",
       "  {'source': 4, 'target': 11, 'utterances': ['Can I change my device?']},\n",
       "  {'source': 11, 'target': 7, 'utterances': ['No, I want to stop.']},\n",
       "  {'source': 3,\n",
       "   'target': 2,\n",
       "   'utterances': ['It works now.', 'It worked! Thank you.']},\n",
       "  {'source': 4,\n",
       "   'target': 3,\n",
       "   'utterances': [\"No, I haven't cleared cache and cookies.\",\n",
       "    \"No, I haven't tried that.\"]},\n",
       "  {'source': 4,\n",
       "   'target': 10,\n",
       "   'utterances': [\"Yes, I cleared cache and cookies, but it still doesn't work.\"]}],\n",
       " 'reason': ''}"
      ]
     },
     "execution_count": 52,
     "metadata": {},
     "output_type": "execute_result"
    }
   ],
   "source": [
    "list(results[7].values())[0][0]"
   ]
  },
  {
   "cell_type": "code",
   "execution_count": 91,
   "metadata": {},
   "outputs": [
    {
     "data": {
      "text/plain": [
       "{'edges': [{'source': 1,\n",
       "   'target': 2,\n",
       "   'utterances': ['I need to report an incorrect product dimension listing.',\n",
       "    \"There's an issue with a product's dimensions.\"]},\n",
       "  {'source': 1,\n",
       "   'target': 6,\n",
       "   'utterances': [\"Never mind, I don't need help right now.\"]},\n",
       "  {'source': 2, 'target': 3, 'utterances': ['The product ID is 12345.']},\n",
       "  {'source': 2,\n",
       "   'target': 4,\n",
       "   'utterances': [\"I'd prefer to give you the product name instead.\"]},\n",
       "  {'source': 3,\n",
       "   'target': 5,\n",
       "   'utterances': ['The length and width are wrong.']},\n",
       "  {'source': 3,\n",
       "   'target': 7,\n",
       "   'utterances': [\"Actually, I provided the product number incorrectly. It's 67890.\"]},\n",
       "  {'source': 4, 'target': 5, 'utterances': ['The height is incorrect.']},\n",
       "  {'source': 5, 'target': 6, 'utterances': [\"No, that's all.\"]},\n",
       "  {'source': 5,\n",
       "   'target': 2,\n",
       "   'utterances': ['Actually, I need to change the product ID.']},\n",
       "  {'source': 7, 'target': 5, 'utterances': ['The height is wrong.']}],\n",
       " 'nodes': [{'id': 1,\n",
       "   'label': 'Assistant Greeting',\n",
       "   'is_start': True,\n",
       "   'utterances': ['Hello! How can I assist you today?']},\n",
       "  {'id': 2,\n",
       "   'label': 'Assistant Request Product ID or Name',\n",
       "   'is_start': False,\n",
       "   'utterances': [\"I'm sorry to hear that. Could you please provide the product ID or name?\"]},\n",
       "  {'id': 3,\n",
       "   'label': 'Assistant Request Incorrect Dimensions',\n",
       "   'is_start': False,\n",
       "   'utterances': ['Thank you. Could you specify which dimensions are incorrect?']},\n",
       "  {'id': 4,\n",
       "   'label': 'Assistant Request Incorrect Dimensions by Product Name',\n",
       "   'is_start': False,\n",
       "   'utterances': ['Thank you. Could you specify which dimensions are incorrect for the product named XYZ?']},\n",
       "  {'id': 5,\n",
       "   'label': 'Assistant Confirm Correction',\n",
       "   'is_start': False,\n",
       "   'utterances': ['I have noted the incorrect dimensions for product ID 12345. Would you like to add anything else?',\n",
       "    \"I've recorded the incorrect dimensions for product ID 12345. Do you need any further assistance?\"]},\n",
       "  {'id': 6,\n",
       "   'label': 'Assistant Exit',\n",
       "   'is_start': False,\n",
       "   'utterances': ['Thank you for contacting us. If you need further assistance, feel free to reach out. Have a great day!']},\n",
       "  {'id': 7,\n",
       "   'label': 'Assistant Corrected Product ID',\n",
       "   'is_start': False,\n",
       "   'utterances': [\"No problem. I've noted you're referring to product ID 67890. Could you specify which dimensions are incorrect?\"]}]}"
      ]
     },
     "execution_count": 91,
     "metadata": {},
     "output_type": "execute_result"
    }
   ],
   "source": [
    "dialogue_to_graph[6]['graph']"
   ]
  },
  {
   "cell_type": "code",
   "execution_count": 81,
   "metadata": {},
   "outputs": [
    {
     "name": "stdout",
     "output_type": "stream",
     "text": [
      "[(6, 11)]\n",
      "FOUND:  [{'source': 6, 'target': 11, 'utterances': ['I want to try Safari instead.']}, {'source': 6, 'target': 11, 'utterances': ['I want to try Safari instead.']}]\n"
     ]
    }
   ],
   "source": [
    "cur_graph = remove_duplicated_edges(dialogue_to_graph[7]['graph'])"
   ]
  },
  {
   "cell_type": "code",
   "execution_count": 82,
   "metadata": {},
   "outputs": [
    {
     "data": {
      "text/plain": [
       "{'edges': [{'source': 1,\n",
       "   'target': 2,\n",
       "   'utterances': [\"My cart won't let me proceed to checkout.\"]},\n",
       "  {'source': 1,\n",
       "   'target': 3,\n",
       "   'utterances': [\"I'm getting an error when I try to add items to the cart.\",\n",
       "    'The checkout page is not loading.',\n",
       "    'My cart keeps crashing when I try to add items.']},\n",
       "  {'source': 2, 'target': 4, 'utterances': [\"Yes, but it didn't work.\"]},\n",
       "  {'source': 2, 'target': 5, 'utterances': [\"No, I haven't tried that.\"]},\n",
       "  {'source': 2,\n",
       "   'target': 6,\n",
       "   'utterances': ['Actually, can I change my browser?']},\n",
       "  {'source': 4,\n",
       "   'target': 7,\n",
       "   'utterances': [\"Yes, I cleared cache and cookies, but it still doesn't work.\"]},\n",
       "  {'source': 4,\n",
       "   'target': 5,\n",
       "   'utterances': [\"No, I haven't cleared cache and cookies.\"]},\n",
       "  {'source': 4, 'target': 8, 'utterances': ['Can I change my device?']},\n",
       "  {'source': 5, 'target': 7, 'utterances': [\"It still doesn't work.\"]},\n",
       "  {'source': 5, 'target': 9, 'utterances': ['It worked! Thank you.']},\n",
       "  {'source': 3, 'target': 10, 'utterances': [\"I'm using Chrome on Windows.\"]},\n",
       "  {'source': 10, 'target': 2, 'utterances': [\"Yes, but it didn't work.\"]},\n",
       "  {'source': 10, 'target': 5, 'utterances': [\"No, I haven't tried that.\"]},\n",
       "  {'source': 10,\n",
       "   'target': 6,\n",
       "   'utterances': ['Actually, can I change my device?']},\n",
       "  {'source': 11, 'target': 12, 'utterances': ['It works now.']},\n",
       "  {'source': 11, 'target': 7, 'utterances': ['Still having issues.']},\n",
       "  {'source': 9, 'target': 13, 'utterances': [\"No, that's all.\"]},\n",
       "  {'source': 12, 'target': 13, 'utterances': [\"No, that's all.\"]},\n",
       "  {'source': 8, 'target': 13, 'utterances': ['No, I want to stop.']},\n",
       "  {'source': 6,\n",
       "   'target': 11,\n",
       "   'utterances': ['I want to try Safari instead.']}],\n",
       " 'nodes': [{'id': 1,\n",
       "   'label': 'start',\n",
       "   'is_start': True,\n",
       "   'utterances': [\"I'm sorry you're experiencing issues with your checkout cart. Can you please describe the problem?\",\n",
       "    \"Sorry to hear you're having trouble with your checkout cart. Could you please explain what's happening?\"]},\n",
       "  {'id': 2,\n",
       "   'label': 'describe_issue_proceed',\n",
       "   'is_start': False,\n",
       "   'utterances': [\"I understand. Let's try to resolve this. Have you tried refreshing the page?\"]},\n",
       "  {'id': 3,\n",
       "   'label': 'describe_issue_error',\n",
       "   'is_start': False,\n",
       "   'utterances': ['What device and browser are you using?']},\n",
       "  {'id': 4,\n",
       "   'label': 'asked_refresh',\n",
       "   'is_start': False,\n",
       "   'utterances': [\"Okay, have you cleared your browser's cache and cookies?\"]},\n",
       "  {'id': 5,\n",
       "   'label': 'refresh_page_response',\n",
       "   'is_start': False,\n",
       "   'utterances': ['Please try refreshing the page first and let me know if the issue persists.']},\n",
       "  {'id': 6,\n",
       "   'label': 'change_browser_option',\n",
       "   'is_start': False,\n",
       "   'utterances': ['Of course! Which browser would you like to switch to?']},\n",
       "  {'id': 7,\n",
       "   'label': 'escalate_issue',\n",
       "   'is_start': False,\n",
       "   'utterances': ['I apologize for the inconvenience. Let me escalate this to our support team.']},\n",
       "  {'id': 8,\n",
       "   'label': 'change_device_option',\n",
       "   'is_start': False,\n",
       "   'utterances': ['Sure, please let me know if you need further assistance.']},\n",
       "  {'id': 9,\n",
       "   'label': 'successful_resolution',\n",
       "   'is_start': False,\n",
       "   'utterances': [\"You're welcome! Is there anything else I can help you with?\",\n",
       "    'Glad to hear that! Do you need any further assistance?']},\n",
       "  {'id': 10,\n",
       "   'label': 'device_browser_info',\n",
       "   'is_start': False,\n",
       "   'utterances': ['Have you tried using a different browser or device?']},\n",
       "  {'id': 11,\n",
       "   'label': 'suggested_browser',\n",
       "   'is_start': False,\n",
       "   'utterances': ['Please try using Firefox and let me know if the issue persists.',\n",
       "    'Please try using Safari and let me know if the issue persists.']},\n",
       "  {'id': 12,\n",
       "   'label': 'confirmation_success',\n",
       "   'is_start': False,\n",
       "   'utterances': ['Great to hear! Is there anything else I can help you with?']},\n",
       "  {'id': 13,\n",
       "   'label': 'end_conversation',\n",
       "   'is_start': False,\n",
       "   'utterances': ['Thank you for contacting support. Have a nice day!']}]}"
      ]
     },
     "execution_count": 82,
     "metadata": {},
     "output_type": "execute_result"
    }
   ],
   "source": [
    "cur_graph"
   ]
  },
  {
   "cell_type": "code",
   "execution_count": 83,
   "metadata": {},
   "outputs": [
    {
     "name": "stdout",
     "output_type": "stream",
     "text": [
      "LEN1:  [1, 3, 1, 1, 1, 1, 1, 1, 1, 1, 1, 1, 1, 1, 1, 1, 1, 1, 1, 1] LEN2:  [1, 1, 1, 1, 3, 1, 1, 1, 1, 1, 1, 1, 1, 1, 1, 1, 1, 1, 1, 1]\n",
      "SCORING...\n"
     ]
    },
    {
     "name": "stdout",
     "output_type": "stream",
     "text": [
      "finished\n",
      "MAX:  [2, 3, 7, 11, 9, 4, 10, 12, 0, 8, 1, 5, 6]\n",
      "MAPS:  {1: 3, 2: 4, 3: 8, 4: 12, 5: 10, 6: 5, 7: 11, 8: 13, 9: 1, 10: 9, 11: 2, 12: 6, 13: 7}\n",
      "NN:  1 3\n",
      "NN:  2 4\n",
      "NN:  3 8\n",
      "NN:  4 12\n",
      "NN:  5 10\n",
      "NN:  6 5\n",
      "NN:  7 11\n",
      "NN:  8 13\n",
      "NN:  9 1\n",
      "NN:  10 9\n",
      "NN:  11 2\n",
      "NN:  12 6\n",
      "NN:  13 7\n",
      "NODES:  0.9999747\n",
      "ALL:  0.99996185\n"
     ]
    },
    {
     "data": {
      "text/plain": [
       "True"
      ]
     },
     "execution_count": 83,
     "metadata": {},
     "output_type": "execute_result"
    }
   ],
   "source": [
    "llm_match(Graph(cur_graph),result_graph)"
   ]
  },
  {
   "cell_type": "code",
   "execution_count": 19,
   "metadata": {},
   "outputs": [],
   "source": [
    "def match(index):\n",
    "    return llm_match(Graph(dialogue_to_graph[index]['graph']),Graph(list(results[index].values())[0][0]))"
   ]
  },
  {
   "cell_type": "code",
   "execution_count": 26,
   "metadata": {},
   "outputs": [
    {
     "name": "stdout",
     "output_type": "stream",
     "text": [
      "FIRST\n"
     ]
    },
    {
     "data": {
      "text/plain": [
       "False"
      ]
     },
     "execution_count": 26,
     "metadata": {},
     "output_type": "execute_result"
    }
   ],
   "source": [
    "match(6)"
   ]
  }
 ],
 "metadata": {
  "kernelspec": {
   "display_name": "py11",
   "language": "python",
   "name": "python3"
  },
  "language_info": {
   "codemirror_mode": {
    "name": "ipython",
    "version": 3
   },
   "file_extension": ".py",
   "mimetype": "text/x-python",
   "name": "python",
   "nbconvert_exporter": "python",
   "pygments_lexer": "ipython3",
   "version": "3.11.11"
  }
 },
 "nbformat": 4,
 "nbformat_minor": 2
}
