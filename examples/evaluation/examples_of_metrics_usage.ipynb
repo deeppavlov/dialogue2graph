{
 "cells": [
  {
   "cell_type": "code",
   "execution_count": null,
   "metadata": {
    "id": "Ys19Htu1cDF9"
   },
   "outputs": [],
   "source": [
    "import json\n",
    "from dialog2graph import Graph, Dialog\n",
    "\n",
    "# Import only the public functions (those not starting with an underscore)\n",
    "from dialog2graph.metrics.no_llm_metrics.metrics import (\n",
    "    match_graph_triplets,\n",
    "    is_same_structure,\n",
    "    match_triplets_dg,\n",
    "    are_paths_valid,\n",
    "    match_roles,\n",
    "    is_correct_length,\n",
    "    all_utterances_present,\n",
    "    triplet_match_accuracy,\n",
    "    compute_graph_metrics,\n",
    ")"
   ]
  },
  {
   "cell_type": "code",
   "execution_count": null,
   "metadata": {
    "id": "XufS-bV7dHrV"
   },
   "outputs": [],
   "source": [
    "# Load JSON data containing graphs and dialogs\n",
    "with open(\"example_metrics_data.json\", encoding=\"utf-8\") as f:\n",
    "    data = json.load(f)"
   ]
  },
  {
   "cell_type": "code",
   "execution_count": null,
   "metadata": {
    "id": "AFyJke8vdYlR"
   },
   "outputs": [],
   "source": [
    "# Create two Graph objects from the first and second entries in the JSON\n",
    "graph1_data = data[0][\"graph\"]\n",
    "graph2_data = data[1][\"graph\"]\n",
    "graph1 = Graph(graph_dict=graph1_data)\n",
    "graph2 = Graph(graph_dict=graph2_data)"
   ]
  },
  {
   "cell_type": "code",
   "execution_count": null,
   "metadata": {
    "id": "o77iywElde6N"
   },
   "outputs": [],
   "source": [
    "# Prepare dialogs (only the first dictionary has \"dialogs\")\n",
    "dialogs_raw = data[0][\"dialogs\"]\n",
    "dialogs = [Dialog(**dlg) for dlg in dialogs_raw]"
   ]
  },
  {
   "cell_type": "code",
   "execution_count": null,
   "metadata": {
    "colab": {
     "base_uri": "https://localhost:8080/"
    },
    "id": "zaPhQexmdhTL",
    "outputId": "c242fea4-5c61-4e04-993e-911297fda6ac"
   },
   "outputs": [
    {
     "name": "stdout",
     "output_type": "stream",
     "text": [
      "# all_utterances_present demonstration:\n",
      "True\n"
     ]
    }
   ],
   "source": [
    "# 1) Check if all utterances (nodes + edges) of the first graph appear in the dialogs\n",
    "print(\"# all_utterances_present demonstration:\")\n",
    "print(all_utterances_present(graph1, dialogs))"
   ]
  },
  {
   "cell_type": "code",
   "execution_count": null,
   "metadata": {
    "colab": {
     "base_uri": "https://localhost:8080/"
    },
    "id": "RlqvqIvTdjn_",
    "outputId": "7bc10d14-6fca-4580-f62c-4ed98271625f"
   },
   "outputs": [
    {
     "name": "stdout",
     "output_type": "stream",
     "text": [
      "\n",
      "# is_same_structure demonstration:\n",
      "True\n"
     ]
    }
   ],
   "source": [
    "# 2) Check whether graph1 and graph2 have the same structure (isomorphism)\n",
    "print(\"\\n# is_same_structure demonstration:\")\n",
    "print(is_same_structure(graph1, graph2))"
   ]
  },
  {
   "cell_type": "code",
   "execution_count": null,
   "metadata": {
    "colab": {
     "base_uri": "https://localhost:8080/"
    },
    "id": "uWsfteipdmI1",
    "outputId": "2fa2e902-906e-40a4-dd9b-6c649469bd90"
   },
   "outputs": [
    {
     "name": "stdout",
     "output_type": "stream",
     "text": [
      "\n",
      "# match_graph_triplets demonstration:\n",
      "Graphs are isomorphic\n",
      "(10, 10)\n",
      "{1: ['Hello! How can I assist you with your calendar today?'], 2: [\"I'm sorry to hear you're experiencing a sync delay. Can you tell me more about the issue?\"], 3: ['Could you verify that the time zone settings are properly configured on your devices?', 'Have you checked if your time zone settings are correct on all your devices?'], 4: ['Sure, let me guide you through adjusting your time zone settings.'], 5: ['If time zone settings are correct, we can try refreshing the calendar app or reinstalling it.'], 6: ['Great! Is your calendar syncing correctly now?'], 7: ['Of course! Which device would you like to adjust the time zone settings on?'], 8: [\"I'm sorry we couldn't resolve the issue. If you need further assistance, feel free to reach out anytime. Have a great day!\"]}\n",
      "Node mapping: {2: 2, 3: 3, 8: 8, 1: 1, 6: 6, 4: 4, 5: 5, 7: 7}\n",
      "Edge mapping: {'1->2': '1->2', '2->3': '2->3', '2->8': '2->8', '3->4': '3->4', '3->5': '3->5', '4->6': '4->6', '4->7': '4->7', '5->6': '5->6', '6->8': '6->8', '7->4': '7->4'}\n"
     ]
    }
   ],
   "source": [
    "# 3) Try to match the two graphs (graph1 -> graph2) and see how nodes/edges are mapped\n",
    "print(\"\\n# match_graph_triplets demonstration:\")\n",
    "node_mapping, edge_mapping = match_graph_triplets(graph1, graph2)\n",
    "print(\"Node mapping:\", node_mapping)\n",
    "print(\"Edge mapping:\", edge_mapping)"
   ]
  },
  {
   "cell_type": "code",
   "execution_count": null,
   "metadata": {
    "colab": {
     "base_uri": "https://localhost:8080/"
    },
    "id": "_vlpddAudpOP",
    "outputId": "1eacde54-c467-4858-f1ac-355908158e05"
   },
   "outputs": [
    {
     "name": "stdout",
     "output_type": "stream",
     "text": [
      "\n",
      "# match_triplets_dg demonstration:\n",
      "Graph has all the dialogs\n",
      "{'value': True}\n"
     ]
    }
   ],
   "source": [
    "# 4) Check if all triplets of (assistant, user, assistant) in dialogs match the graph\n",
    "print(\"\\n# match_triplets_dg demonstration:\")\n",
    "print(match_triplets_dg(graph1, dialogs))"
   ]
  },
  {
   "cell_type": "code",
   "execution_count": null,
   "metadata": {
    "colab": {
     "base_uri": "https://localhost:8080/"
    },
    "id": "uy5bT1CsdwwI",
    "outputId": "8b4c394e-fb35-446b-b61f-72e45ae5804e"
   },
   "outputs": [
    {
     "name": "stdout",
     "output_type": "stream",
     "text": [
      "\n",
      "# are_paths_valid demonstration:\n",
      "{'value': True}\n"
     ]
    }
   ],
   "source": [
    "# 5) Check whether the dialogs form valid paths in the graph\n",
    "print(\"\\n# are_paths_valid demonstration:\")\n",
    "print(are_paths_valid(graph1, dialogs))"
   ]
  },
  {
   "cell_type": "code",
   "execution_count": null,
   "metadata": {
    "colab": {
     "base_uri": "https://localhost:8080/"
    },
    "id": "sLweP8x2dzj7",
    "outputId": "90c585d8-6519-4ab3-b2a4-eb507a4e89ee"
   },
   "outputs": [
    {
     "name": "stdout",
     "output_type": "stream",
     "text": [
      "\n",
      "# match_roles demonstration:\n",
      "True\n"
     ]
    }
   ],
   "source": [
    "# 6) Compare roles (assistant/user) between two dialogs\n",
    "#    For example, compare the first and second dialogs\n",
    "print(\"\\n# match_roles demonstration:\")\n",
    "dialog1 = dialogs[0]\n",
    "dialog2 = dialogs[1]\n",
    "print(match_roles(dialog1, dialog2))"
   ]
  },
  {
   "cell_type": "code",
   "execution_count": null,
   "metadata": {
    "colab": {
     "base_uri": "https://localhost:8080/"
    },
    "id": "krX7Fqped1-W",
    "outputId": "143ad387-3c52-41de-ca0b-9b07aebf0a77"
   },
   "outputs": [
    {
     "name": "stdout",
     "output_type": "stream",
     "text": [
      "\n",
      "# is_correct_length demonstration:\n",
      "True\n"
     ]
    }
   ],
   "source": [
    "# 7) Check if two dialogs have the same number of messages\n",
    "print(\"\\n# is_correct_length demonstration:\")\n",
    "print(is_correct_length(dialog1, dialog2))"
   ]
  },
  {
   "cell_type": "code",
   "execution_count": null,
   "metadata": {
    "colab": {
     "base_uri": "https://localhost:8080/"
    },
    "id": "ZqPF2-Xcd4O9",
    "outputId": "8e4c86c2-4ec8-46d6-cca3-0ba07e2cf5e5"
   },
   "outputs": [
    {
     "name": "stdout",
     "output_type": "stream",
     "text": [
      "\n",
      "# triplet_match_accuracy demonstration:\n",
      "Graphs are isomorphic\n",
      "(10, 10)\n",
      "{1: ['Hello! How can I assist you with your calendar today?'], 2: [\"I'm sorry to hear you're experiencing a sync delay. Can you tell me more about the issue?\"], 3: ['Could you verify that the time zone settings are properly configured on your devices?', 'Have you checked if your time zone settings are correct on all your devices?'], 4: ['Sure, let me guide you through adjusting your time zone settings.'], 5: ['If time zone settings are correct, we can try refreshing the calendar app or reinstalling it.'], 6: ['Great! Is your calendar syncing correctly now?'], 7: ['Of course! Which device would you like to adjust the time zone settings on?'], 8: [\"I'm sorry we couldn't resolve the issue. If you need further assistance, feel free to reach out anytime. Have a great day!\"]}\n",
      "{'node_accuracy': 1.0, 'edge_accuracy': 1.0}\n"
     ]
    }
   ],
   "source": [
    "# 8) Calculate accuracy of matching graph1 to graph2 in terms of nodes/edges\n",
    "print(\"\\n# triplet_match_accuracy demonstration:\")\n",
    "print(triplet_match_accuracy(graph1, graph2))"
   ]
  },
  {
   "cell_type": "code",
   "execution_count": null,
   "metadata": {
    "colab": {
     "base_uri": "https://localhost:8080/"
    },
    "id": "6ZksLA7rd6mP",
    "outputId": "187ad6c4-68cd-4035-8713-dcaf89160d5a"
   },
   "outputs": [
    {
     "name": "stdout",
     "output_type": "stream",
     "text": [
      "\n",
      "# compute_graph_metrics demonstration:\n",
      "{'with_cycles': 2, 'percentage_with_cycles': 100.0, 'average_edges_amount': 10.0, 'average_nodes_amount': 8.0, 'total_graphs': 2, 'total_edges': 20, 'total_nodes': 16}\n"
     ]
    }
   ],
   "source": [
    "# 9) Compute some overall graph metrics for a list of graphs\n",
    "print(\"\\n# compute_graph_metrics demonstration:\")\n",
    "graphs_list = [graph1, graph2]\n",
    "print(compute_graph_metrics(graphs_list))"
   ]
  },
  {
   "cell_type": "code",
   "execution_count": null,
   "metadata": {
    "id": "q3iWeyWud92e"
   },
   "outputs": [],
   "source": []
  }
 ],
 "metadata": {
  "colab": {
   "provenance": []
  },
  "kernelspec": {
   "display_name": "Python 3",
   "name": "python3"
  },
  "language_info": {
   "name": "python"
  }
 },
 "nbformat": 4,
 "nbformat_minor": 0
}