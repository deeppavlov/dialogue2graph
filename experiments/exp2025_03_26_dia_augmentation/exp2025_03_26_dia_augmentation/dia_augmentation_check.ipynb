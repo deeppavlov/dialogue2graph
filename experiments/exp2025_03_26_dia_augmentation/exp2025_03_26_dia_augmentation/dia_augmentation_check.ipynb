{
 "cells": [
  {
   "cell_type": "code",
   "execution_count": 1,
   "metadata": {},
   "outputs": [
    {
     "data": {
      "text/plain": [
       "True"
      ]
     },
     "execution_count": 1,
     "metadata": {},
     "output_type": "execute_result"
    }
   ],
   "source": [
    "from dotenv import load_dotenv\n",
    "load_dotenv()"
   ]
  },
  {
   "cell_type": "code",
   "execution_count": 2,
   "metadata": {},
   "outputs": [],
   "source": [
    "import os\n",
    "os.environ['PATH_TO_ENV'] = \"~/projects/chatsky-llm-autoconfig/.env\""
   ]
  },
  {
   "cell_type": "code",
   "execution_count": 3,
   "metadata": {},
   "outputs": [
    {
     "name": "stderr",
     "output_type": "stream",
     "text": [
      "/home/olshevskaya/miniconda3/envs/conda_env_py311/lib/python3.11/site-packages/pydantic/_internal/_fields.py:192: UserWarning: Field name \"validate\" in \"Dialogue\" shadows an attribute in parent \"BaseModel\"\n",
      "  warnings.warn(\n"
     ]
    }
   ],
   "source": [
    "from dialogue2graph.pipelines.core.dialogue import DialogueMessage, Dialogue\n",
    "import pickle\n",
    "import numpy as np"
   ]
  },
  {
   "cell_type": "code",
   "execution_count": 9,
   "metadata": {},
   "outputs": [],
   "source": [
    "from tqdm import tqdm\n",
    "from dialogue2graph.metrics.no_llm_metrics.metrics import match_roles, is_correct_length\n",
    "from augmentation_utils import (\n",
    "    check_no_duplicates_all_dialogues, check_no_duplicates_one_dialogue, check_no_duplicates_one_uttr_list\n",
    "    )"
   ]
  },
  {
   "cell_type": "code",
   "execution_count": 97,
   "metadata": {},
   "outputs": [
    {
     "data": {
      "text/plain": [
       "1"
      ]
     },
     "execution_count": 97,
     "metadata": {},
     "output_type": "execute_result"
    }
   ],
   "source": [
    "with open(\"../data/gen_dataset_augment_uttr-vars_8\", \"rb\") as fp:\n",
    "    data = pickle.load(fp)\n",
    "len(data)"
   ]
  },
  {
   "cell_type": "markdown",
   "metadata": {},
   "source": [
    "### Checking matching roles and length correctness"
   ]
  },
  {
   "cell_type": "code",
   "execution_count": 108,
   "metadata": {},
   "outputs": [],
   "source": [
    "# errors = []\n",
    "# failure_examples = []\n",
    "# new_data = []\n",
    "\n",
    "# for i, example in enumerate(tqdm(data)):\n",
    "#     dialogues = [dial['messages'] for dial in example['dialogues']]\n",
    "#     augmented_dialogues = [dial['messages'] for dial in example['augmented_dialogues']]\n",
    "#     true_count = 0\n",
    "\n",
    "#     try:\n",
    "#         for j, (orig_dia, aug_dia) in enumerate(zip(dialogues, augmented_dialogues)):\n",
    "#             orig_dia = Dialogue.from_list(orig_dia)\n",
    "#             aug_dia = Dialogue.from_list(aug_dia)\n",
    "#             if is_correct_length(orig_dia, aug_dia):\n",
    "#                 true_count += 1\n",
    "#             else:\n",
    "#                 failure_examples.append((i, j))\n",
    "#     except Exception as e:\n",
    "#         errors.append((i, j, e))\n",
    "\n",
    "#     if true_count == len(augmented_dialogues):\n",
    "#         new_data.append(example)\n",
    "\n",
    "# failure_examples, errors"
   ]
  },
  {
   "cell_type": "code",
   "execution_count": 107,
   "metadata": {},
   "outputs": [],
   "source": [
    "# errors = []\n",
    "# failure_examples = []\n",
    "# new_data = []\n",
    "\n",
    "# for i, example in enumerate(tqdm(data)):\n",
    "#     dialogues = [dial['messages'] for dial in example['dialogues']]\n",
    "#     augmented_dialogues = [dial['messages'] for dial in example['augmented_dialogues']]\n",
    "#     true_count = 0\n",
    "\n",
    "#     try:\n",
    "#         for j, (orig_dia, aug_dia) in enumerate(zip(dialogues, augmented_dialogues)):\n",
    "#             orig_dia = Dialogue.from_list(orig_dia)\n",
    "#             aug_dia = Dialogue.from_list(aug_dia)\n",
    "#             if match_roles(orig_dia, aug_dia):\n",
    "#                 true_count += 1\n",
    "#             else:\n",
    "#                 failure_examples.append((i, j))\n",
    "#     except Exception as e:\n",
    "#         errors.append((i, j, e))\n",
    "\n",
    "#     if true_count == len(augmented_dialogues):\n",
    "#         new_data.append(example)\n",
    "\n",
    "# failure_examples, errors"
   ]
  },
  {
   "cell_type": "markdown",
   "metadata": {},
   "source": [
    "### Checking duplicates"
   ]
  },
  {
   "cell_type": "code",
   "execution_count": 98,
   "metadata": {},
   "outputs": [
    {
     "name": "stderr",
     "output_type": "stream",
     "text": [
      "100%|██████████| 1/1 [00:00<00:00, 3953.16it/s]\n"
     ]
    }
   ],
   "source": [
    "new_data = []\n",
    "errors = []\n",
    "failure_examples = []\n",
    "\n",
    "for i, example in enumerate(tqdm(data)):\n",
    "    augmented_dialogues = [dial['messages'] for dial in example['augmented_dialogues']]\n",
    "    true_count = 0\n",
    "\n",
    "    for j, aug_dia in enumerate(augmented_dialogues):\n",
    "        try:\n",
    "            if not check_no_duplicates_one_uttr_list(aug_dia):\n",
    "                failure_examples.append((i, j))\n",
    "            else:\n",
    "                true_count += 1\n",
    "        except Exception as e:\n",
    "            errors.append((i, j, e))\n",
    "\n",
    "    if true_count == len(augmented_dialogues):\n",
    "        new_data.append(example)"
   ]
  },
  {
   "cell_type": "code",
   "execution_count": 99,
   "metadata": {},
   "outputs": [
    {
     "data": {
      "text/plain": [
       "([], [])"
      ]
     },
     "execution_count": 99,
     "metadata": {},
     "output_type": "execute_result"
    }
   ],
   "source": [
    "errors, failure_examples"
   ]
  },
  {
   "cell_type": "code",
   "execution_count": 101,
   "metadata": {},
   "outputs": [
    {
     "name": "stderr",
     "output_type": "stream",
     "text": [
      "100%|██████████| 1/1 [00:00<00:00, 3813.00it/s]"
     ]
    },
    {
     "name": "stdout",
     "output_type": "stream",
     "text": [
      "0\n",
      "common_elements: ['Medium, please.', 'Red, please.', 'Sure, it’s 123 Main St.']\n",
      "common_elements: [\"Sure, it's 123 Main St.\"]\n"
     ]
    },
    {
     "name": "stderr",
     "output_type": "stream",
     "text": [
      "\n"
     ]
    }
   ],
   "source": [
    "new_data = []\n",
    "errors = []\n",
    "failure_examples = []\n",
    "\n",
    "for i, example in enumerate(tqdm(data)):\n",
    "    print(i)\n",
    "    augmented_dialogues = [dial['messages'] for dial in example['augmented_dialogues']]\n",
    "    true_count = 0\n",
    "\n",
    "    for j, aug_dia in enumerate(augmented_dialogues):\n",
    "        try:\n",
    "            if not check_no_duplicates_one_dialogue(aug_dia):\n",
    "                failure_examples.append((i, j))\n",
    "            else:\n",
    "                true_count += 1\n",
    "        except Exception as e:\n",
    "            errors.append((i, j, e))\n",
    "\n",
    "    if true_count == len(augmented_dialogues):\n",
    "        new_data.append(example)"
   ]
  },
  {
   "cell_type": "code",
   "execution_count": 102,
   "metadata": {},
   "outputs": [
    {
     "name": "stdout",
     "output_type": "stream",
     "text": [
      "[] [(0, 0), (0, 1)]\n"
     ]
    }
   ],
   "source": [
    "print(errors, failure_examples)"
   ]
  },
  {
   "cell_type": "code",
   "execution_count": 109,
   "metadata": {},
   "outputs": [
    {
     "name": "stderr",
     "output_type": "stream",
     "text": [
      "100%|██████████| 1/1 [00:00<00:00, 3382.50it/s]"
     ]
    },
    {
     "name": "stdout",
     "output_type": "stream",
     "text": [
      "example 0\n",
      "common_elements: {'Hi! What assistance do you need today?', 'Red, please.', 'I’d like to make an order.', 'Would you like that in red or blue?', 'Awesome! Which product are you interested in?', 'Red is my choice.', 'Sure, it’s 123 Main St.', 'Medium, please.', 'Medium would be great.', 'I’d like it in red.', 'Do you want it in red or blue?', 'Hello! How can I help you today?', 'Perfect! What’s your shipping address?'}\n",
      "[] [0]\n"
     ]
    },
    {
     "name": "stderr",
     "output_type": "stream",
     "text": [
      "\n"
     ]
    }
   ],
   "source": [
    "new_data = []\n",
    "errors = []\n",
    "failure_examples = []\n",
    "\n",
    "for i, example in enumerate(tqdm(data)):\n",
    "    print(f'example {i}')\n",
    "    augmented_dialogues = [dial['messages'] for dial in example['augmented_dialogues']]\n",
    "\n",
    "    try:\n",
    "        if not check_no_duplicates_all_dialogues(augmented_dialogues):\n",
    "            failure_examples.append(i)\n",
    "        else:\n",
    "            new_data.append(example)\n",
    "    except Exception as e:\n",
    "        errors.append((i, e))\n",
    "print(errors, failure_examples)"
   ]
  },
  {
   "cell_type": "code",
   "execution_count": 106,
   "metadata": {},
   "outputs": [
    {
     "data": {
      "text/plain": [
       "[{'participant': 'assistant',\n",
       "  'text': ['Hello! How can I help you today?',\n",
       "   'Hi! What can I do for you today?',\n",
       "   'Hey there! How may I assist you?']},\n",
       " {'participant': 'user',\n",
       "  'text': [\"I'm looking to place an order.\",\n",
       "   'I would like to make an order.',\n",
       "   'I want to order something.']},\n",
       " {'participant': 'assistant',\n",
       "  'text': ['Awesome! Which product are you looking for?',\n",
       "   'Great choice! What item are you interested in?',\n",
       "   'Fantastic! What would you like to order?']},\n",
       " {'participant': 'user',\n",
       "  'text': [\"I'd like to get a t-shirt.\",\n",
       "   'I want to order a t-shirt.',\n",
       "   \"I'm interested in a t-shirt.\"]},\n",
       " {'participant': 'assistant',\n",
       "  'text': ['What size do you need?',\n",
       "   \"Could you let me know what size you'd like?\",\n",
       "   'Which size are you looking for?']},\n",
       " {'participant': 'user',\n",
       "  'text': [\"I'd like a medium size, please.\",\n",
       "   'Medium would be great, thanks.',\n",
       "   'Please make it a medium.']},\n",
       " {'participant': 'assistant',\n",
       "  'text': ['Would you prefer that in red or blue?',\n",
       "   'Do you want it in red or blue?',\n",
       "   'Should I get that in red or blue?']},\n",
       " {'participant': 'user',\n",
       "  'text': ['I prefer red, please.',\n",
       "   'Red sounds good to me.',\n",
       "   \"I'll take it in red.\"]},\n",
       " {'participant': 'assistant',\n",
       "  'text': ['Great choice! Can I have your shipping address?',\n",
       "   'Perfect! Could you provide me with your shipping address?',\n",
       "   \"Awesome! What's your shipping address?\"]},\n",
       " {'participant': 'user',\n",
       "  'text': [\"Sure, it's 123 Main St.\",\n",
       "   'Of course, my address is 123 Main St.',\n",
       "   'Alright, here’s my address: 123 Main St.']},\n",
       " {'participant': 'assistant',\n",
       "  'text': ['Thank you! Your order is confirmed. Is there anything else you need?',\n",
       "   'Thanks! Your order has been successfully placed. Can I assist you with anything else?',\n",
       "   'Thank you! Your order has been made. Is there anything more I can help you with?']},\n",
       " {'participant': 'user',\n",
       "  'text': ['Actually, I need to change my order.',\n",
       "   'I would like to modify my order, if possible.',\n",
       "   'I need to make some changes to my order.']},\n",
       " {'participant': 'assistant',\n",
       "  'text': ['No problem! What would you like to adjust?',\n",
       "   'Sure! What changes would you like to make?',\n",
       "   'Of course! What do you want to change?']},\n",
       " {'participant': 'user',\n",
       "  'text': ['I want to switch to a large size.',\n",
       "   \"I'd like to change it to a large, please.\",\n",
       "   'I need a large size instead.']},\n",
       " {'participant': 'assistant',\n",
       "  'text': ['What size do you want?',\n",
       "   \"Could you confirm the size you'd like?\",\n",
       "   'Which size should I get for you?']},\n",
       " {'participant': 'user',\n",
       "  'text': ['Medium, please.',\n",
       "   'I still want medium, thanks.',\n",
       "   'Please keep it as medium.']},\n",
       " {'participant': 'assistant',\n",
       "  'text': ['Would you like that in red or blue?',\n",
       "   'Do you want to stick with red or go for blue?',\n",
       "   'Should I keep that in red or change to blue?']},\n",
       " {'participant': 'user',\n",
       "  'text': ['Red, please.',\n",
       "   'I still want it in red.',\n",
       "   'Red would be perfect.']},\n",
       " {'participant': 'assistant',\n",
       "  'text': ['Great! Can I have your shipping address again?',\n",
       "   'Perfect! Could you provide your shipping address once more?',\n",
       "   \"Awesome! What's your shipping address again?\"]},\n",
       " {'participant': 'user',\n",
       "  'text': [\"Sure, it's 123 Main St.\",\n",
       "   \"Of course, that's 123 Main St.\",\n",
       "   \"Alright, it's 123 Main St.\"]},\n",
       " {'participant': 'assistant',\n",
       "  'text': ['Thank you! Your order has been updated. Is there anything else I can do for you?',\n",
       "   'Thanks! Your order is modified. Can I help you with anything else?',\n",
       "   'Thank you! Your order has been adjusted. Is there anything more you need?']},\n",
       " {'participant': 'user',\n",
       "  'text': [\"No, that's everything. Thank you.\",\n",
       "   \"That's all for now. Thanks!\",\n",
       "   \"No, I'm all set. Thank you.\"]},\n",
       " {'participant': 'assistant',\n",
       "  'text': ['Okay, feel free to reach out anytime. Have a wonderful day!',\n",
       "   \"Alright, don't hesitate to contact us again. Have a great day!\",\n",
       "   'Sure thing! Reach out whenever you need. Have a lovely day!']}]"
      ]
     },
     "execution_count": 106,
     "metadata": {},
     "output_type": "execute_result"
    }
   ],
   "source": [
    "augmented_dialogues[1]"
   ]
  }
 ],
 "metadata": {
  "kernelspec": {
   "display_name": "conda_env_py311",
   "language": "python",
   "name": "python3"
  },
  "language_info": {
   "codemirror_mode": {
    "name": "ipython",
    "version": 3
   },
   "file_extension": ".py",
   "mimetype": "text/x-python",
   "name": "python",
   "nbconvert_exporter": "python",
   "pygments_lexer": "ipython3",
   "version": "3.11.11"
  }
 },
 "nbformat": 4,
 "nbformat_minor": 2
}
