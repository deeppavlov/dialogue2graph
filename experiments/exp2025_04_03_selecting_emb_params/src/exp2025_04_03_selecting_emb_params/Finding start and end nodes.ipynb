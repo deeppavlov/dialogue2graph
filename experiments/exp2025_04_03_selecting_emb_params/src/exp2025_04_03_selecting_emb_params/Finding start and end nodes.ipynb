{
 "cells": [
  {
   "cell_type": "code",
   "execution_count": 1,
   "metadata": {},
   "outputs": [],
   "source": [
    "from datasets import load_dataset\n",
    "import json\n",
    "from collections import Counter\n",
    "from itertools import product"
   ]
  },
  {
   "cell_type": "code",
   "execution_count": 2,
   "metadata": {},
   "outputs": [],
   "source": [
    "dataset = load_dataset(\"DeepPavlov/d2g_generated\", token=True)"
   ]
  },
  {
   "cell_type": "markdown",
   "metadata": {},
   "source": [
    "## Find common start messages"
   ]
  },
  {
   "cell_type": "code",
   "execution_count": 3,
   "metadata": {},
   "outputs": [],
   "source": [
    "first_messages = Counter()\n",
    "\n",
    "for graph in dataset[\"train\"]:\n",
    "    for dialog in graph[\"dialogs\"]:\n",
    "        part, text = dialog[\"messages\"][0][\"participant\"], dialog[\"messages\"][0][\"text\"]\n",
    "        if part == \"assistant\":\n",
    "            first_messages[text] += 1"
   ]
  },
  {
   "cell_type": "code",
   "execution_count": 4,
   "metadata": {},
   "outputs": [
    {
     "data": {
      "text/plain": [
       "[('Hello! How can I assist you today?', 1393),\n",
       " ('Hello! How can I help you today?', 107),\n",
       " (\"I'm sorry to hear you'd like to cancel your subscription. Can you please provide your account number and the reason for cancellation?\",\n",
       "  88),\n",
       " (\"I'm sorry to hear you want to cancel your subscription. Can you please tell me why?\",\n",
       "  69),\n",
       " ('Hello, how can I assist you today?', 66),\n",
       " ('Hello! How can I assist you with our refund policy today?', 64),\n",
       " ('Hello! How can I assist you with your presentation today?', 47),\n",
       " (\"I'm sorry to hear you're having trouble. Can you please describe the issue with the search filter?\",\n",
       "  43),\n",
       " (\"I'm sorry to hear you want to cancel your subscription. Could you please let me know the reason for your cancellation?\",\n",
       "  40),\n",
       " (\"Welcome! Let's get your printer installed on your home network. What is the model of your printer?\",\n",
       "  33)]"
      ]
     },
     "execution_count": 4,
     "metadata": {},
     "output_type": "execute_result"
    }
   ],
   "source": [
    "first_messages.most_common(10)"
   ]
  },
  {
   "cell_type": "markdown",
   "metadata": {},
   "source": [
    "Common phrases are too specific, searching for common patterns to make their combinations"
   ]
  },
  {
   "cell_type": "code",
   "execution_count": 6,
   "metadata": {},
   "outputs": [],
   "source": [
    "greeting_parts = set(\n",
    "    [\n",
    "        mes.split(\"! \")[0] if \"! \" in mes else mes.split(\", \")[0]\n",
    "        for mes in first_messages\n",
    "        if \"! \" in mes or \", \" in mes\n",
    "    ]\n",
    ")\n",
    "greeting_parts = sorted(list(greeting_parts))\n",
    "\n",
    "interrogative_parts = set(\n",
    "    [\n",
    "        mes.split(\"! \")[1] if \"! \" in mes else mes.split(\", \")[1]\n",
    "        for mes in first_messages\n",
    "        if \"! \" in mes or \", \" in mes\n",
    "    ]\n",
    ")\n",
    "interrogative_parts = sorted(list(interrogative_parts))"
   ]
  },
  {
   "cell_type": "code",
   "execution_count": 7,
   "metadata": {},
   "outputs": [
    {
     "data": {
      "text/plain": [
       "['Certainly',\n",
       " 'Greetings',\n",
       " 'Hello',\n",
       " 'Hi',\n",
       " 'Hi there',\n",
       " 'Sure',\n",
       " 'Thank you for wanting to provide suggestions to improve our product. What aspect would you like to address first? Features',\n",
       " 'Thank you for your recent purchase',\n",
       " 'To enable crossfade',\n",
       " 'Welcome',\n",
       " 'Welcome to our Corporate Rewards Program',\n",
       " 'Welcome to our online store',\n",
       " 'Welcome to our streaming service',\n",
       " 'Would you like to add any special requests to your booking']"
      ]
     },
     "execution_count": 7,
     "metadata": {},
     "output_type": "execute_result"
    }
   ],
   "source": [
    "greeting_parts[:15]"
   ]
  },
  {
   "cell_type": "code",
   "execution_count": 16,
   "metadata": {},
   "outputs": [
    {
     "data": {
      "text/plain": [
       "(['How can I assist you during this natural disaster today?',\n",
       "  'How can I assist you today regarding GDPR and your data?',\n",
       "  'How can I assist you today regarding NFT and digital asset policies?',\n",
       "  'How can I assist you today regarding course refunds?',\n",
       "  'How can I assist you today regarding delays due to weather disruptions?'],\n",
       " ['How can I help you with dark web monitoring today?',\n",
       "  'How can I help you with maintenance services?',\n",
       "  'How can I help you with your product?',\n",
       "  'How may I help you today?',\n",
       "  'How may I help you with disability support services today?'],\n",
       " ['I can help you enable data saver mode. Would you like to enable it for all your apps or select specific ones?',\n",
       "  'I can help you enable screen mirroring for your presentation. Would you like to proceed?',\n",
       "  'I can help you request a copy of your signed contract. Could you please provide your contract number?',\n",
       "  'I can help you review our Terms of Service regarding data usage. Would you like to proceed?',\n",
       "  'I can help you set up multiple profiles on your account. How many profiles would you like to create?'])"
      ]
     },
     "execution_count": 16,
     "metadata": {},
     "output_type": "execute_result"
    }
   ],
   "source": [
    "interrogative_parts[:5], interrogative_parts[70:75], interrogative_parts[82:87]"
   ]
  },
  {
   "cell_type": "code",
   "execution_count": null,
   "metadata": {},
   "outputs": [],
   "source": [
    "chosen_greeting_parts = [\"Greetings\", \"Hello\", \"Hi\", \"Welcome to our assistant service\"]\n",
    "chosen_interrogative_parts = [\n",
    "    \"How can I assist you?\",\n",
    "    \"How can I help you?\",\n",
    "    \"Would you like to do this?\",\n",
    "    \"Could you tell me this?\",\n",
    "]\n",
    "\n",
    "start_nodes = [\n",
    "    \"! \".join(pair)\n",
    "    for pair in product(chosen_greeting_parts, chosen_interrogative_parts)\n",
    "]\n",
    "with open(\"start_turns.json\", \"w\", encoding=\"utf-8\") as file:\n",
    "    json.dump(start_nodes, file, ensure_ascii=False, indent=4)"
   ]
  },
  {
   "cell_type": "markdown",
   "metadata": {},
   "source": [
    "## Find common end messages"
   ]
  },
  {
   "cell_type": "code",
   "execution_count": 17,
   "metadata": {},
   "outputs": [],
   "source": [
    "end_messages = Counter()\n",
    "\n",
    "for graph in dataset[\"train\"]:\n",
    "    for dialog in graph[\"dialogs\"]:\n",
    "        part, text = (\n",
    "            dialog[\"messages\"][-1][\"participant\"],\n",
    "            dialog[\"messages\"][-1][\"text\"],\n",
    "        )\n",
    "        if part == \"assistant\":\n",
    "            end_messages[text] += 1"
   ]
  },
  {
   "cell_type": "code",
   "execution_count": 18,
   "metadata": {},
   "outputs": [
    {
     "data": {
      "text/plain": [
       "['Thank you for contacting us. Have a great day!',\n",
       " \"You're welcome! Have a great day.\",\n",
       " \"Request confirmed. We're here to help if you have any other needs.\",\n",
       " \"You're welcome! Have a great day!\",\n",
       " 'Alright, if you need any further assistance, feel free to reach out. Have a great day!',\n",
       " 'Alright, feel free to reach out if you need anything else. Have a great day!',\n",
       " 'Alright, if you need anything else, feel free to reach out. Have a great day!',\n",
       " \"I'm sorry to see you go. Your subscription has been canceled. If you have any feedback, feel free to reach out to us.\",\n",
       " 'Alright, if you have any other questions in the future, feel free to reach out. Have a great day!',\n",
       " 'Alright, if you need any further assistance, feel free to reach out. Have a great presentation!']"
      ]
     },
     "execution_count": 18,
     "metadata": {},
     "output_type": "execute_result"
    }
   ],
   "source": [
    "closing_phrases = [phrase for phrase, _ in end_messages.most_common(10)]\n",
    "closing_phrases"
   ]
  },
  {
   "cell_type": "code",
   "execution_count": null,
   "metadata": {},
   "outputs": [],
   "source": [
    "with open(\"end_turns.json\", \"w\", encoding=\"utf-8\") as file:\n",
    "    json.dump(closing_phrases, file, ensure_ascii=False, indent=4)"
   ]
  }
 ],
 "metadata": {
  "kernelspec": {
   "display_name": ".venv",
   "language": "python",
   "name": "python3"
  },
  "language_info": {
   "codemirror_mode": {
    "name": "ipython",
    "version": 3
   },
   "file_extension": ".py",
   "mimetype": "text/x-python",
   "name": "python",
   "nbconvert_exporter": "python",
   "pygments_lexer": "ipython3",
   "version": "3.11.8"
  }
 },
 "nbformat": 4,
 "nbformat_minor": 2
}
