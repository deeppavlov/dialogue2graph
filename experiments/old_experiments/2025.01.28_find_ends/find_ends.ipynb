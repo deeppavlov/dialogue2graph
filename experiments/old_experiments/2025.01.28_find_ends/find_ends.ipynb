{
 "cells": [
  {
   "cell_type": "code",
   "execution_count": 3,
   "metadata": {},
   "outputs": [],
   "source": [
    "import json"
   ]
  },
  {
   "cell_type": "code",
   "execution_count": 4,
   "metadata": {},
   "outputs": [],
   "source": [
    "import dotenv"
   ]
  },
  {
   "cell_type": "code",
   "execution_count": 5,
   "metadata": {},
   "outputs": [
    {
     "data": {
      "text/plain": [
       "True"
      ]
     },
     "execution_count": 5,
     "metadata": {},
     "output_type": "execute_result"
    }
   ],
   "source": [
    "dotenv.load_dotenv()"
   ]
  },
  {
   "cell_type": "code",
   "execution_count": 6,
   "metadata": {},
   "outputs": [],
   "source": [
    "from langchain_community.chat_models import ChatOpenAI"
   ]
  },
  {
   "cell_type": "code",
   "execution_count": 7,
   "metadata": {},
   "outputs": [],
   "source": [
    "%load_ext autoreload\n",
    "%autoreload 2"
   ]
  },
  {
   "cell_type": "code",
   "execution_count": null,
   "metadata": {},
   "outputs": [],
   "source": [
    "import chatsky_llm_autoconfig.metrics.llm_metrics as llm_metrics"
   ]
  },
  {
   "cell_type": "code",
   "execution_count": 9,
   "metadata": {},
   "outputs": [],
   "source": [
    "from chatsky_llm_autoconfig.graph import Graph"
   ]
  },
  {
   "cell_type": "code",
   "execution_count": 10,
   "metadata": {},
   "outputs": [],
   "source": [
    "from tqdm import tqdm"
   ]
  },
  {
   "cell_type": "code",
   "execution_count": 11,
   "metadata": {},
   "outputs": [],
   "source": [
    "def read_json(path):\n",
    "    with open(path, mode=\"r\") as file:\n",
    "        data = file.read()\n",
    "    return json.loads(data)"
   ]
  },
  {
   "cell_type": "code",
   "execution_count": 38,
   "metadata": {},
   "outputs": [],
   "source": [
    "data = read_json(\"dialog_dataset_10_topics_3_dialog.json\")"
   ]
  },
  {
   "cell_type": "code",
   "execution_count": 12,
   "metadata": {},
   "outputs": [],
   "source": [
    "model = ChatOpenAI(model=\"o1-mini\")"
   ]
  },
  {
   "cell_type": "code",
   "execution_count": 41,
   "metadata": {},
   "outputs": [
    {
     "name": "stderr",
     "output_type": "stream",
     "text": [
      "  0%|          | 0/10 [00:00<?, ?it/s]"
     ]
    },
    {
     "name": "stderr",
     "output_type": "stream",
     "text": [
      "INFO:httpx:HTTP Request: POST http://193.187.173.33:8002/api/providers/openai/v1/chat/completions \"HTTP/1.1 200 OK\"\n",
      " 10%|█         | 1/10 [00:07<01:10,  7.82s/it]INFO:httpx:HTTP Request: POST http://193.187.173.33:8002/api/providers/openai/v1/chat/completions \"HTTP/1.1 200 OK\"\n",
      " 20%|██        | 2/10 [00:13<00:52,  6.56s/it]INFO:httpx:HTTP Request: POST http://193.187.173.33:8002/api/providers/openai/v1/chat/completions \"HTTP/1.1 200 OK\"\n",
      " 30%|███       | 3/10 [00:18<00:39,  5.69s/it]INFO:httpx:HTTP Request: POST http://193.187.173.33:8002/api/providers/openai/v1/chat/completions \"HTTP/1.1 200 OK\"\n",
      " 40%|████      | 4/10 [00:32<00:54,  9.03s/it]INFO:httpx:HTTP Request: POST http://193.187.173.33:8002/api/providers/openai/v1/chat/completions \"HTTP/1.1 200 OK\"\n",
      " 50%|█████     | 5/10 [00:37<00:37,  7.53s/it]INFO:httpx:HTTP Request: POST http://193.187.173.33:8002/api/providers/openai/v1/chat/completions \"HTTP/1.1 200 OK\"\n",
      " 60%|██████    | 6/10 [00:41<00:26,  6.57s/it]INFO:httpx:HTTP Request: POST http://193.187.173.33:8002/api/providers/openai/v1/chat/completions \"HTTP/1.1 200 OK\"\n",
      " 70%|███████   | 7/10 [00:46<00:17,  5.92s/it]INFO:httpx:HTTP Request: POST http://193.187.173.33:8002/api/providers/openai/v1/chat/completions \"HTTP/1.1 200 OK\"\n",
      " 80%|████████  | 8/10 [00:52<00:11,  5.91s/it]INFO:httpx:HTTP Request: POST http://193.187.173.33:8002/api/providers/openai/v1/chat/completions \"HTTP/1.1 200 OK\"\n",
      " 90%|█████████ | 9/10 [00:58<00:05,  5.90s/it]INFO:httpx:HTTP Request: POST http://193.187.173.33:8002/api/providers/openai/v1/chat/completions \"HTTP/1.1 200 OK\"\n",
      "100%|██████████| 10/10 [01:05<00:00,  6.56s/it]"
     ]
    },
    {
     "name": "stdout",
     "output_type": "stream",
     "text": [
      "Accuracy:  1.0\n"
     ]
    },
    {
     "name": "stderr",
     "output_type": "stream",
     "text": [
      "\n"
     ]
    }
   ],
   "source": [
    "dialog_results = []\n",
    "acc = 0\n",
    "for case in tqdm(data):\n",
    "    case_results = {\"topic\": case[\"topic\"]}\n",
    "    graph = Graph(case[\"graph\"])\n",
    "    ends = llm_metrics.find_graph_ends(graph, model=model)\n",
    "    res = ends[\"value\"]\n",
    "    res.sort()\n",
    "    case_results[\"graph_ends\"] = res\n",
    "    acc += case[\"ends\"] == res\n",
    "    case_results[\"graph_ends_details\"] = ends[\"description\"]\n",
    "    dialog_results.append(case_results)\n",
    "print(\"Accuracy: \", round(acc / len(data), 2))"
   ]
  },
  {
   "cell_type": "code",
   "execution_count": 36,
   "metadata": {},
   "outputs": [],
   "source": [
    "data = read_json(\"complex_graphs.json\")"
   ]
  },
  {
   "cell_type": "code",
   "execution_count": 37,
   "metadata": {},
   "outputs": [
    {
     "name": "stderr",
     "output_type": "stream",
     "text": [
      "  0%|          | 0/5 [00:00<?, ?it/s]"
     ]
    },
    {
     "name": "stderr",
     "output_type": "stream",
     "text": [
      "INFO:httpx:HTTP Request: POST http://193.187.173.33:8002/api/providers/openai/v1/chat/completions \"HTTP/1.1 200 OK\"\n",
      " 20%|██        | 1/5 [00:10<00:42, 10.60s/it]INFO:httpx:HTTP Request: POST http://193.187.173.33:8002/api/providers/openai/v1/chat/completions \"HTTP/1.1 200 OK\"\n",
      " 40%|████      | 2/5 [00:15<00:21,  7.12s/it]INFO:httpx:HTTP Request: POST http://193.187.173.33:8002/api/providers/openai/v1/chat/completions \"HTTP/1.1 200 OK\"\n",
      " 60%|██████    | 3/5 [00:20<00:12,  6.29s/it]INFO:httpx:HTTP Request: POST http://193.187.173.33:8002/api/providers/openai/v1/chat/completions \"HTTP/1.1 200 OK\"\n",
      " 80%|████████  | 4/5 [00:28<00:06,  6.99s/it]INFO:httpx:HTTP Request: POST http://193.187.173.33:8002/api/providers/openai/v1/chat/completions \"HTTP/1.1 200 OK\"\n",
      "100%|██████████| 5/5 [00:38<00:00,  7.62s/it]"
     ]
    },
    {
     "name": "stdout",
     "output_type": "stream",
     "text": [
      "Accuracy:  1.0\n"
     ]
    },
    {
     "name": "stderr",
     "output_type": "stream",
     "text": [
      "\n"
     ]
    }
   ],
   "source": [
    "dialog_results = []\n",
    "acc = 0\n",
    "for case in tqdm(data):\n",
    "    case_results = {\"topic\": case[\"topic\"]}\n",
    "    graph = Graph(case[\"graph\"])\n",
    "    ends = llm_metrics.find_graph_ends(graph, model=model)\n",
    "    res = ends[\"value\"]\n",
    "    res.sort()\n",
    "    case_results[\"graph_ends\"] = res\n",
    "    acc += case[\"ends\"] == res\n",
    "    case_results[\"graph_ends_details\"] = ends[\"description\"]\n",
    "    dialog_results.append(case_results)\n",
    "print(\"Accuracy: \", round(acc / len(data), 2))"
   ]
  },
  {
   "cell_type": "code",
   "execution_count": 34,
   "metadata": {},
   "outputs": [],
   "source": [
    "data = read_json(\"ready_graphs.json\")"
   ]
  },
  {
   "cell_type": "code",
   "execution_count": 35,
   "metadata": {},
   "outputs": [
    {
     "name": "stderr",
     "output_type": "stream",
     "text": [
      "  0%|          | 0/5 [00:00<?, ?it/s]"
     ]
    },
    {
     "name": "stderr",
     "output_type": "stream",
     "text": [
      "INFO:httpx:HTTP Request: POST http://193.187.173.33:8002/api/providers/openai/v1/chat/completions \"HTTP/1.1 200 OK\"\n",
      " 20%|██        | 1/5 [00:07<00:28,  7.04s/it]INFO:httpx:HTTP Request: POST http://193.187.173.33:8002/api/providers/openai/v1/chat/completions \"HTTP/1.1 200 OK\"\n",
      " 40%|████      | 2/5 [00:14<00:21,  7.12s/it]INFO:httpx:HTTP Request: POST http://193.187.173.33:8002/api/providers/openai/v1/chat/completions \"HTTP/1.1 200 OK\"\n",
      " 60%|██████    | 3/5 [00:19<00:12,  6.30s/it]INFO:httpx:HTTP Request: POST http://193.187.173.33:8002/api/providers/openai/v1/chat/completions \"HTTP/1.1 200 OK\"\n",
      " 80%|████████  | 4/5 [00:26<00:06,  6.56s/it]INFO:httpx:HTTP Request: POST http://193.187.173.33:8002/api/providers/openai/v1/chat/completions \"HTTP/1.1 200 OK\"\n",
      "100%|██████████| 5/5 [00:33<00:00,  6.70s/it]"
     ]
    },
    {
     "name": "stdout",
     "output_type": "stream",
     "text": [
      "Accuracy:  1.0\n"
     ]
    },
    {
     "name": "stderr",
     "output_type": "stream",
     "text": [
      "\n"
     ]
    }
   ],
   "source": [
    "dialog_results = []\n",
    "acc = 0\n",
    "for case in tqdm(data):\n",
    "    case_results = {\"topic\": case[\"topic\"]}\n",
    "    graph = Graph(case[\"graph\"])\n",
    "    ends = llm_metrics.find_graph_ends(graph, model=model)\n",
    "    res = ends[\"value\"]\n",
    "    res.sort()\n",
    "    case_results[\"graph_ends\"] = res\n",
    "    acc += case[\"ends\"] == res\n",
    "    case_results[\"graph_ends_details\"] = ends[\"description\"]\n",
    "    dialog_results.append(case_results)\n",
    "print(\"Accuracy: \", round(acc / len(data), 2))"
   ]
  },
  {
   "cell_type": "code",
   "execution_count": 33,
   "metadata": {},
   "outputs": [
    {
     "data": {
      "text/plain": [
       "[{'topic': 'Tech Support',\n",
       "  'graph_ends': [4, 6, 7],\n",
       "  'graph_ends_details': 'Nodes 4, 6, and 7 each have exactly one outgoing edge, and their target nodes are positioned earlier in the dialog flow.'},\n",
       " {'topic': 'Food Delivery Service',\n",
       "  'graph_ends': [7],\n",
       "  'graph_ends_details': 'Node 7 has only one outgoing edge to node 1, which is earlier in the dialog flow.'},\n",
       " {'topic': 'Medical Appointment Booking',\n",
       "  'graph_ends': [5],\n",
       "  'graph_ends_details': 'Node 5 has only one outgoing edge pointing to node 1, which is earlier in the dialog flow.'},\n",
       " {'topic': 'library',\n",
       "  'graph_ends': [10],\n",
       "  'graph_ends_details': 'Node 10 has only one outgoing edge to node 1, which is earlier in the dialog flow.'},\n",
       " {'topic': 'auto care',\n",
       "  'graph_ends': [10],\n",
       "  'graph_ends_details': 'Node 10 has only one outgoing edge targeting Node 1, which is earlier in the dialog flow.'}]"
      ]
     },
     "execution_count": 33,
     "metadata": {},
     "output_type": "execute_result"
    }
   ],
   "source": [
    "dialog_results"
   ]
  }
 ],
 "metadata": {
  "kernelspec": {
   "display_name": "py11",
   "language": "python",
   "name": "python3"
  },
  "language_info": {
   "codemirror_mode": {
    "name": "ipython",
    "version": 3
   },
   "file_extension": ".py",
   "mimetype": "text/x-python",
   "name": "python",
   "nbconvert_exporter": "python",
   "pygments_lexer": "ipython3",
   "version": "3.11.11"
  }
 },
 "nbformat": 4,
 "nbformat_minor": 2
}
