{
 "cells": [
  {
   "cell_type": "code",
   "execution_count": 1,
   "metadata": {},
   "outputs": [
    {
     "data": {
      "text/plain": [
       "True"
      ]
     },
     "execution_count": 1,
     "metadata": {},
     "output_type": "execute_result"
    }
   ],
   "source": [
    "from dotenv import load_dotenv\n",
    "load_dotenv()"
   ]
  },
  {
   "cell_type": "code",
   "execution_count": 2,
   "metadata": {},
   "outputs": [
    {
     "data": {
      "text/plain": [
       "'BAAI/bge-reranker-v2-m3'"
      ]
     },
     "execution_count": 2,
     "metadata": {},
     "output_type": "execute_result"
    }
   ],
   "source": [
    "from chatsky_llm_autoconfig.settings import EnvSettings\n",
    "env_settings = EnvSettings()\n",
    "env_settings.RERANKER_MODEL"
   ]
  },
  {
   "cell_type": "code",
   "execution_count": 3,
   "metadata": {},
   "outputs": [
    {
     "name": "stderr",
     "output_type": "stream",
     "text": [
      "/home/olshevskaya/miniconda3/envs/conda_env_py311/lib/python3.11/site-packages/pydantic/_internal/_fields.py:192: UserWarning: Field name \"validate\" in \"Dialogue\" shadows an attribute in parent \"BaseModel\"\n",
      "  warnings.warn(\n"
     ]
    },
    {
     "data": {
      "application/vnd.jupyter.widget-view+json": {
       "model_id": "751399a7a87a4efe8be0710f3f3cdef8",
       "version_major": 2,
       "version_minor": 0
      },
      "text/plain": [
       "config.json:   0%|          | 0.00/795 [00:00<?, ?B/s]"
      ]
     },
     "metadata": {},
     "output_type": "display_data"
    },
    {
     "data": {
      "application/vnd.jupyter.widget-view+json": {
       "model_id": "55ee8b3bd1064c1d940a4bd07d64b38d",
       "version_major": 2,
       "version_minor": 0
      },
      "text/plain": [
       "model.safetensors:   0%|          | 0.00/2.27G [00:00<?, ?B/s]"
      ]
     },
     "metadata": {},
     "output_type": "display_data"
    },
    {
     "data": {
      "application/vnd.jupyter.widget-view+json": {
       "model_id": "dd436b9900d24a20b7f1f54e451799f0",
       "version_major": 2,
       "version_minor": 0
      },
      "text/plain": [
       "tokenizer_config.json:   0%|          | 0.00/1.17k [00:00<?, ?B/s]"
      ]
     },
     "metadata": {},
     "output_type": "display_data"
    },
    {
     "data": {
      "application/vnd.jupyter.widget-view+json": {
       "model_id": "53d593ab20b44197b84faeaa2066bb0a",
       "version_major": 2,
       "version_minor": 0
      },
      "text/plain": [
       "sentencepiece.bpe.model:   0%|          | 0.00/5.07M [00:00<?, ?B/s]"
      ]
     },
     "metadata": {},
     "output_type": "display_data"
    },
    {
     "data": {
      "application/vnd.jupyter.widget-view+json": {
       "model_id": "974f266674a144958811222d542f7790",
       "version_major": 2,
       "version_minor": 0
      },
      "text/plain": [
       "tokenizer.json:   0%|          | 0.00/17.1M [00:00<?, ?B/s]"
      ]
     },
     "metadata": {},
     "output_type": "display_data"
    },
    {
     "data": {
      "application/vnd.jupyter.widget-view+json": {
       "model_id": "719278f89c9e48558654a8663325c155",
       "version_major": 2,
       "version_minor": 0
      },
      "text/plain": [
       "special_tokens_map.json:   0%|          | 0.00/964 [00:00<?, ?B/s]"
      ]
     },
     "metadata": {},
     "output_type": "display_data"
    }
   ],
   "source": [
    "from datasets import load_dataset\n",
    "%load_ext autoreload\n",
    "%autoreload 2\n",
    "\n",
    "from chatsky_llm_autoconfig.graph import BaseGraph, Graph\n",
    "from chatsky_llm_autoconfig.schemas import DialogueGraph\n",
    "from chatsky_llm_autoconfig.dialogue import Dialogue, DialogueMessage\n",
    "\n",
    "from chatsky_llm_autoconfig.algorithms.three_stages_1 import ThreeStagesGraphGenerator as Generator\n",
    "from chatsky_llm_autoconfig.algorithms.three_stages_1i import ThreeStagesGraphGenerator as GeneratorI\n",
    "from chatsky_llm_autoconfig.algorithms.three_stages_0i import ThreeStagesGraphGenerator as GeneratorI0\n",
    "from chatsky_llm_autoconfig.algorithms.append_chain import AppendChain\n",
    "\n",
    "from langchain_openai import ChatOpenAI\n",
    "from chatsky_llm_autoconfig.metrics.llm_metrics import are_triplets_valid\n",
    "from chatsky_llm_autoconfig.metrics.automatic_metrics import all_utterances_present"
   ]
  },
  {
   "cell_type": "code",
   "execution_count": null,
   "metadata": {},
   "outputs": [],
   "source": [
    "import matplotlib.pyplot as plt"
   ]
  },
  {
   "cell_type": "code",
   "execution_count": 50,
   "metadata": {},
   "outputs": [],
   "source": [
    "graph_generator = Generator(\"o3-mini\") # To generate 1st graph from one dialogue\n",
    "graph_generator_llm_emb = GeneratorI() # To add dialogue to existing graph: adding nodes with LLM and edges with embedder\n",
    "graph_generator_llm = GeneratorI0() # To add dialogue to existing graph with LLM\n",
    "graph_generator_llm_2 = AppendChain() # To add (append) dialogue to existing graph with LLM (the second approach)"
   ]
  },
  {
   "cell_type": "code",
   "execution_count": 4,
   "metadata": {},
   "outputs": [
    {
     "data": {
      "text/plain": [
       "932"
      ]
     },
     "execution_count": 4,
     "metadata": {},
     "output_type": "execute_result"
    }
   ],
   "source": [
    "dataset = load_dataset(\"GEM/schema_guided_dialog\", trust_remote_code=True)\n",
    "\n",
    "# dialogues about rental cars\n",
    "new_data=[]\n",
    "topic = 'RentalCars_3'\n",
    "for d in [el for el in dataset['test'] if el['service'] == topic]:\n",
    "    exist = [[{'text':\"Hello! How can I help you?\", \"participant\":\"assistant\"}]] + [[{\"text\":u,\"participant\":\"user\"},{\"text\":a,\"participant\":\"assistant\"},] for u,a in zip(d['context'][0:-1:2],d['context'][1::2])] + [[{'text':d['prompt'], \"participant\":\"user\"}, {'text':d['target'], \"participant\":\"assistant\"}]]\n",
    "    new_data.append([x for xs in exist for x in xs])\n",
    "len(new_data)"
   ]
  },
  {
   "cell_type": "code",
   "execution_count": 32,
   "metadata": {},
   "outputs": [
    {
     "data": {
      "text/plain": [
       "Text(0.5, 1.0, 'length of one dialogue')"
      ]
     },
     "execution_count": 32,
     "metadata": {},
     "output_type": "execute_result"
    },
    {
     "data": {
      "image/png": "[encoded data removed]",
      "text/plain": [
       "<Figure size 640x480 with 1 Axes>"
      ]
     },
     "metadata": {},
     "output_type": "display_data"
    }
   ],
   "source": [
    "lens = [len(dia) for dia in new_data]\n",
    "# length of one dialogue\n",
    "plt.hist(lens)\n",
    "plt.title('length of one dialogue')"
   ]
  },
  {
   "cell_type": "code",
   "execution_count": 33,
   "metadata": {},
   "outputs": [
    {
     "data": {
      "text/plain": [
       "Text(0.5, 1.0, 'length of one utterance')"
      ]
     },
     "execution_count": 33,
     "metadata": {},
     "output_type": "execute_result"
    },
    {
     "data": {
      "image/png": "[encoded data removed]",
      "text/plain": [
       "<Figure size 640x480 with 1 Axes>"
      ]
     },
     "metadata": {},
     "output_type": "display_data"
    }
   ],
   "source": [
    "lens_uttr = [len(uttr['text']) for dia in new_data for uttr in dia]\n",
    "# length of one utterance\n",
    "plt.hist(lens_uttr)\n",
    "plt.title('length of one utterance')"
   ]
  },
  {
   "cell_type": "markdown",
   "metadata": {},
   "source": [
    "Pipeline:\n",
    "1. select original dialogue\n",
    "2. generate original graph based on original dialogue\n",
    "3. select additional dialogue and add it to the original graph\n",
    "4. validate result graph\n"
   ]
  },
  {
   "cell_type": "code",
   "execution_count": null,
   "metadata": {},
   "outputs": [],
   "source": [
    "# select original dialogue, generate original graph\n",
    "original_dialogue = [Dialogue.from_list(c) for c in new_data[:1]]\n",
    "original_graph = graph_generator.invoke(original_dialogue)"
   ]
  },
  {
   "cell_type": "code",
   "execution_count": null,
   "metadata": {},
   "outputs": [],
   "source": [
    "# validate original graph\n",
    "all_utterances_present(original_graph, original_dialogue)\n",
    "\n",
    "model = ChatOpenAI(name=\"gpt-3.5-turbo\", temperature=0)\n",
    "val_report = are_triplets_valid(original_graph, original_dialogue)\n",
    "print(val_report)\n",
    "\n",
    "original_graph.visualise_short(\"1 dialogue\")"
   ]
  },
  {
   "cell_type": "code",
   "execution_count": null,
   "metadata": {},
   "outputs": [],
   "source": [
    "# select additional dialogue\n",
    "additional_dialogue = [Dialogue.from_list(c) for c in [new_data[1]]]\n",
    "dialogues = original_dialogue + additional_dialogue"
   ]
  },
  {
   "cell_type": "markdown",
   "metadata": {},
   "source": [
    "graph_generator_llm_emb\n"
   ]
  },
  {
   "cell_type": "code",
   "execution_count": null,
   "metadata": {},
   "outputs": [],
   "source": [
    "# add additional dialogue to the original graph and validate it\n",
    "result_graph_llm_emb, dialogues_ = graph_generator_llm_emb.invoke(additional_dialogue, original_graph)\n",
    "all_utterances_present(result_graph_llm_emb, dialogues_)\n",
    "val_report = are_triplets_valid(result_graph_llm_emb, dialogues)\n",
    "print(val_report)"
   ]
  },
  {
   "cell_type": "code",
   "execution_count": null,
   "metadata": {},
   "outputs": [],
   "source": [
    "result_graph_llm_emb.visualise_short(\"2 dialogues (result_graph_llm_emb)\")"
   ]
  },
  {
   "cell_type": "markdown",
   "metadata": {},
   "source": [
    "graph_generator_llm"
   ]
  },
  {
   "cell_type": "code",
   "execution_count": null,
   "metadata": {},
   "outputs": [],
   "source": [
    "result_graph_llm = graph_generator_llm.invoke(additional_dialogue, original_graph)\n",
    "all_utterances_present(result_graph_llm, dialogues)\n",
    "val_report = are_triplets_valid(result_graph_llm, dialogues)\n",
    "print(val_report)"
   ]
  },
  {
   "cell_type": "code",
   "execution_count": null,
   "metadata": {},
   "outputs": [],
   "source": [
    "result_graph_llm.visualise_short(\"2 dialogues (result_graph_llm)\")"
   ]
  },
  {
   "cell_type": "markdown",
   "metadata": {},
   "source": [
    "graph_generator_llm_2"
   ]
  },
  {
   "cell_type": "code",
   "execution_count": null,
   "metadata": {},
   "outputs": [],
   "source": [
    "result_graph_llm_2 = graph_generator_llm_2.invoke(dialogues, original_graph)\n",
    "all_utterances_present(result_graph_llm_2, dialogues)\n",
    "val_report = are_triplets_valid(result_graph_llm_2, dialogues)\n",
    "print(val_report)"
   ]
  },
  {
   "cell_type": "code",
   "execution_count": null,
   "metadata": {},
   "outputs": [],
   "source": [
    "result_graph_llm_2.visualise_short(\"2 dialogues (result_graph_llm_2)\")"
   ]
  },
  {
   "cell_type": "markdown",
   "metadata": {},
   "source": [
    "\n",
    "### Service functions"
   ]
  },
  {
   "cell_type": "markdown",
   "metadata": {},
   "source": [
    "data is here - chatsky-llm-autoconfig/experiments/2025.01.22_sampler/data/"
   ]
  },
  {
   "cell_type": "code",
   "execution_count": null,
   "metadata": {},
   "outputs": [],
   "source": [
    "def validate_graph(graph, dialogue_data, validation_model=ChatOpenAI(name=\"gpt-3.5-turbo\", temperature=0)):\n",
    "    val_report = {}\n",
    "    val_report['all_utterances_present'] = all_utterances_present(graph, dialogue_data)\n",
    "    val_report['are_triplets_valid'] = are_triplets_valid(graph, validation_model)\n",
    "    return val_report"
   ]
  },
  {
   "cell_type": "code",
   "execution_count": null,
   "metadata": {},
   "outputs": [],
   "source": [
    "def generate_graph_for_2_dialogues(\n",
    "        first_graph_generator, second_graph_generator, dialogues, vis=True\n",
    "        ):\n",
    "    original_dialogue, additional_dialogue = [dialogues[0]], [dialogues[1]]\n",
    "\n",
    "    # generate original graph\n",
    "    try:\n",
    "        print('Original graph generation...')\n",
    "        original_graph = first_graph_generator.invoke(original_dialogue)\n",
    "\n",
    "        if vis:\n",
    "            original_graph.visualise_short(\"2 original_graph\")\n",
    "        # validate original graph\n",
    "        print(validate_graph(original_graph, original_dialogue))\n",
    "\n",
    "    except Exception as e:\n",
    "        print(e)\n",
    "\n",
    "    # add additional dialogue to the original graph\n",
    "    try:\n",
    "        print('Adding additional dialogue to the original graph...')\n",
    "        if second_graph_generator == GeneratorI():\n",
    "            result_graph, dialogues_ = second_graph_generator.invoke(additional_dialogue, original_graph)\n",
    "        elif second_graph_generator == GeneratorI0():\n",
    "            result_graph = second_graph_generator.invoke(additional_dialogue, original_graph)\n",
    "        elif second_graph_generator == AppendChain():\n",
    "            result_graph = second_graph_generator.invoke(dialogues, original_graph)\n",
    "\n",
    "        if vis:\n",
    "            result_graph.visualise_short(\"2 dialogues\")\n",
    "        # validate result graph\n",
    "        val_report = validate_graph(result_graph, dialogues)\n",
    "        \n",
    "        return result_graph, val_report\n",
    "\n",
    "    except Exception as e:\n",
    "        print(e)"
   ]
  },
  {
   "cell_type": "code",
   "execution_count": null,
   "metadata": {},
   "outputs": [],
   "source": [
    "#for example\n",
    "result_graph, val_report = generate_graph_for_2_dialogues(\n",
    "    Generator(\"o3-mini\"), GeneratorI(), dialogues, original_graph, vis=True\n",
    "    )\n",
    "print(val_report)"
   ]
  }
 ],
 "metadata": {
  "kernelspec": {
   "display_name": "conda_env_py311",
   "language": "python",
   "name": "python3"
  },
  "language_info": {
   "codemirror_mode": {
    "name": "ipython",
    "version": 3
   },
   "file_extension": ".py",
   "mimetype": "text/x-python",
   "name": "python",
   "nbconvert_exporter": "python",
   "pygments_lexer": "ipython3",
   "version": "3.11.11"
  }
 },
 "nbformat": 4,
 "nbformat_minor": 2
}
