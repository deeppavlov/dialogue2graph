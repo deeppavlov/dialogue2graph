{
 "cells": [
  {
   "cell_type": "code",
   "execution_count": 14,
   "metadata": {},
   "outputs": [],
   "source": [
    "from dialogue2graph.metrics.no_llm_metrics import all_utterances_present, dialogues_are_valid_paths\n",
    "from dialogue2graph.metrics.llm_metrics import compare_graphs\n",
    "from dialogue2graph.pipelines.core.graph import Graph\n",
    "from dialogue2graph.pipelines.core.dialogue import Dialogue"
   ]
  },
  {
   "cell_type": "code",
   "execution_count": 16,
   "metadata": {},
   "outputs": [],
   "source": [
    "from pydantic_settings import BaseSettings, SettingsConfigDict\n",
    "from typing import Optional"
   ]
  },
  {
   "cell_type": "code",
   "execution_count": 17,
   "metadata": {},
   "outputs": [],
   "source": [
    "class EnvSettings(BaseSettings, case_sensitive=True):\n",
    "\n",
    "    model_config = SettingsConfigDict(env_file=\"./.env\", env_file_encoding=\"utf-8\")\n",
    "\n",
    "    OPENAI_API_KEY: Optional[str]\n",
    "    OPENAI_BASE_URL: Optional[str]\n",
    "    HUGGINGFACE_TOKEN: Optional[str]\n",
    "    EMBEDDER_DEVICE: Optional[str]\n",
    "\n",
    "\n",
    "env_settings = EnvSettings()"
   ]
  },
  {
   "cell_type": "code",
   "execution_count": 2,
   "metadata": {},
   "outputs": [],
   "source": [
    "from datasets import load_dataset"
   ]
  },
  {
   "cell_type": "code",
   "execution_count": 18,
   "metadata": {},
   "outputs": [
    {
     "name": "stderr",
     "output_type": "stream",
     "text": [
      "Using the latest cached version of the dataset since DeepPavlov/d2g_generated couldn't be found on the Hugging Face Hub\n",
      "WARNING:datasets.load:Using the latest cached version of the dataset since DeepPavlov/d2g_generated couldn't be found on the Hugging Face Hub\n",
      "Found the latest cached dataset configuration 'default' at /home/peshkichev/.cache/huggingface/datasets/DeepPavlov___d2g_generated/default/0.0.0/dd93f051f8e7a942b60ed61eed029300b47696a2 (last modified on Sun Mar  9 10:45:24 2025).\n",
      "WARNING:datasets.packaged_modules.cache.cache:Found the latest cached dataset configuration 'default' at /home/peshkichev/.cache/huggingface/datasets/DeepPavlov___d2g_generated/default/0.0.0/dd93f051f8e7a942b60ed61eed029300b47696a2 (last modified on Sun Mar  9 10:45:24 2025).\n"
     ]
    }
   ],
   "source": [
    "dataset = load_dataset(\"DeepPavlov/d2g_generated\", token=env_settings.HUGGINGFACE_TOKEN)"
   ]
  },
  {
   "cell_type": "code",
   "execution_count": 19,
   "metadata": {},
   "outputs": [],
   "source": [
    "data = dataset['train'][0]"
   ]
  },
  {
   "cell_type": "code",
   "execution_count": 7,
   "metadata": {},
   "outputs": [
    {
     "data": {
      "text/plain": [
       "[{'messages': [{'participant': 'assistant',\n",
       "    'text': 'Hi there! How can I assist you today?'},\n",
       "   {'participant': 'user', 'text': 'I want to place an order.'},\n",
       "   {'participant': 'assistant',\n",
       "    'text': 'Great! What product are you interested in?'},\n",
       "   {'participant': 'user', 'text': 'I’d like a t-shirt.'},\n",
       "   {'participant': 'assistant', 'text': 'What size would you like?'},\n",
       "   {'participant': 'user', 'text': 'Medium, please.'},\n",
       "   {'participant': 'assistant', 'text': 'Would you like that in red or blue?'},\n",
       "   {'participant': 'user', 'text': 'Red, please.'},\n",
       "   {'participant': 'assistant',\n",
       "    'text': 'Perfect! Can I have your shipping address?'},\n",
       "   {'participant': 'user', 'text': 'Sure, it’s 123 Main St.'},\n",
       "   {'participant': 'assistant',\n",
       "    'text': 'Thank you! Your order has been placed. Is there anything else I can help you with?'},\n",
       "   {'participant': 'user', 'text': 'Actually, can I change my order?'},\n",
       "   {'participant': 'assistant',\n",
       "    'text': 'Of course! What would you like to change?'},\n",
       "   {'participant': 'user', 'text': 'I want a large size.'},\n",
       "   {'participant': 'assistant', 'text': 'What size would you like?'},\n",
       "   {'participant': 'user', 'text': 'Medium, please.'},\n",
       "   {'participant': 'assistant', 'text': 'Would you like that in red or blue?'},\n",
       "   {'participant': 'user', 'text': 'Red, please.'},\n",
       "   {'participant': 'assistant',\n",
       "    'text': 'Perfect! Can I have your shipping address?'},\n",
       "   {'participant': 'user', 'text': 'Sure, it’s 123 Main St.'},\n",
       "   {'participant': 'assistant',\n",
       "    'text': 'Thank you! Your order has been placed. Is there anything else I can help you with?'},\n",
       "   {'participant': 'user', 'text': \"No, that's all. Thank you.\"},\n",
       "   {'participant': 'assistant',\n",
       "    'text': 'Alright, feel free to reach out anytime. Have a great day!'}]},\n",
       " {'messages': [{'participant': 'assistant',\n",
       "    'text': 'Hi there! How can I assist you today?'},\n",
       "   {'participant': 'user', 'text': 'I want to place an order.'},\n",
       "   {'participant': 'assistant',\n",
       "    'text': 'Great! What product are you interested in?'},\n",
       "   {'participant': 'user', 'text': 'I’d like a t-shirt.'},\n",
       "   {'participant': 'assistant', 'text': 'What size would you like?'},\n",
       "   {'participant': 'user', 'text': 'Medium, please.'},\n",
       "   {'participant': 'assistant', 'text': 'Would you like that in red or blue?'},\n",
       "   {'participant': 'user', 'text': 'Red, please.'},\n",
       "   {'participant': 'assistant',\n",
       "    'text': 'Perfect! Can I have your shipping address?'},\n",
       "   {'participant': 'user', 'text': 'Sure, it’s 123 Main St.'},\n",
       "   {'participant': 'assistant',\n",
       "    'text': 'Thank you! Your order has been placed. Is there anything else I can help you with?'},\n",
       "   {'participant': 'user', 'text': 'Actually, I need to modify my order.'},\n",
       "   {'participant': 'assistant',\n",
       "    'text': 'Of course! What would you like to change?'},\n",
       "   {'participant': 'user', 'text': 'I want a large size.'},\n",
       "   {'participant': 'assistant', 'text': 'What size would you like?'},\n",
       "   {'participant': 'user', 'text': 'Medium, please.'},\n",
       "   {'participant': 'assistant', 'text': 'Would you like that in red or blue?'},\n",
       "   {'participant': 'user', 'text': 'Red, please.'},\n",
       "   {'participant': 'assistant',\n",
       "    'text': 'Perfect! Can I have your shipping address?'},\n",
       "   {'participant': 'user', 'text': 'Sure, it’s 123 Main St.'},\n",
       "   {'participant': 'assistant',\n",
       "    'text': 'Thank you! Your order has been placed. Is there anything else I can help you with?'},\n",
       "   {'participant': 'user', 'text': \"No, that's all. Thank you.\"},\n",
       "   {'participant': 'assistant',\n",
       "    'text': 'Alright, feel free to reach out anytime. Have a great day!'}]},\n",
       " {'messages': [{'participant': 'assistant',\n",
       "    'text': 'Hi there! How can I assist you today?'},\n",
       "   {'participant': 'user', 'text': 'I want to place an order.'},\n",
       "   {'participant': 'assistant',\n",
       "    'text': 'Great! What product are you interested in?'},\n",
       "   {'participant': 'user', 'text': 'I’d like a t-shirt.'},\n",
       "   {'participant': 'assistant', 'text': 'What size would you like?'},\n",
       "   {'participant': 'user', 'text': 'Medium, please.'},\n",
       "   {'participant': 'assistant', 'text': 'Would you like that in red or blue?'},\n",
       "   {'participant': 'user', 'text': 'Actually, can I change my product?'},\n",
       "   {'participant': 'assistant',\n",
       "    'text': 'Great! What product are you interested in?'},\n",
       "   {'participant': 'user', 'text': 'I’d like a t-shirt.'},\n",
       "   {'participant': 'assistant', 'text': 'What size would you like?'},\n",
       "   {'participant': 'user', 'text': 'Medium, please.'},\n",
       "   {'participant': 'assistant', 'text': 'Would you like that in red or blue?'},\n",
       "   {'participant': 'user', 'text': 'Red, please.'},\n",
       "   {'participant': 'assistant',\n",
       "    'text': 'Perfect! Can I have your shipping address?'},\n",
       "   {'participant': 'user', 'text': 'Sure, it’s 123 Main St.'},\n",
       "   {'participant': 'assistant',\n",
       "    'text': 'Thank you! Your order has been placed. Is there anything else I can help you with?'},\n",
       "   {'participant': 'user', 'text': \"No, that's all. Thank you.\"},\n",
       "   {'participant': 'assistant',\n",
       "    'text': 'Alright, feel free to reach out anytime. Have a great day!'}]},\n",
       " {'messages': [{'participant': 'assistant',\n",
       "    'text': 'Hi there! How can I assist you today?'},\n",
       "   {'participant': 'user', 'text': \"I'd like some product information.\"},\n",
       "   {'participant': 'assistant',\n",
       "    'text': 'Of course! Our products include t-shirts, hoodies, and caps. How can I help you?'}]},\n",
       " {'messages': [{'participant': 'assistant',\n",
       "    'text': 'Hi there! How can I assist you today?'},\n",
       "   {'participant': 'user', 'text': \"I'd like some product information.\"},\n",
       "   {'participant': 'assistant',\n",
       "    'text': 'Sure! We offer t-shirts, hoodies, and caps. What would you like to know?'}]},\n",
       " {'messages': [{'participant': 'assistant',\n",
       "    'text': 'Hi there! How can I assist you today?'},\n",
       "   {'participant': 'user', 'text': 'Never mind, thanks.'},\n",
       "   {'participant': 'assistant',\n",
       "    'text': 'Alright, feel free to reach out anytime. Have a great day!'}]}]"
      ]
     },
     "execution_count": 7,
     "metadata": {},
     "output_type": "execute_result"
    }
   ],
   "source": [
    "dataset['train'][0]['dialogues']"
   ]
  },
  {
   "cell_type": "code",
   "execution_count": 6,
   "metadata": {},
   "outputs": [],
   "source": [
    "dialogues = [Dialogue.from_list(c['messages']) for c in data['dialogues']]"
   ]
  },
  {
   "cell_type": "code",
   "execution_count": 7,
   "metadata": {},
   "outputs": [
    {
     "name": "stdout",
     "output_type": "stream",
     "text": [
      "Graph has all the dialogues\n"
     ]
    },
    {
     "data": {
      "text/plain": [
       "True"
      ]
     },
     "execution_count": 7,
     "metadata": {},
     "output_type": "execute_result"
    }
   ],
   "source": [
    "all_utterances_present(Graph(data['graph']),dialogues)"
   ]
  },
  {
   "cell_type": "code",
   "execution_count": 52,
   "metadata": {},
   "outputs": [
    {
     "data": {
      "text/plain": [
       "[{'value': True, 'description': 'graph has all transitions from Dialogue '},\n",
       " {'value': True, 'description': 'graph has all transitions from Dialogue '},\n",
       " {'value': True, 'description': 'graph has all transitions from Dialogue '},\n",
       " {'value': True, 'description': 'graph has all transitions from Dialogue '},\n",
       " {'value': True, 'description': 'graph has all transitions from Dialogue '},\n",
       " {'value': True, 'description': 'graph has all transitions from Dialogue '}]"
      ]
     },
     "execution_count": 52,
     "metadata": {},
     "output_type": "execute_result"
    }
   ],
   "source": [
    "dialogues_are_valid_paths(Graph(data['graph']),dialogues)"
   ]
  },
  {
   "cell_type": "code",
   "execution_count": 8,
   "metadata": {},
   "outputs": [],
   "source": [
    "data['graph']['edges'] += [{'source': 9,\n",
    "    'target': 2,\n",
    "    'utterances': ['I want to cancel my order.']}]"
   ]
  },
  {
   "cell_type": "code",
   "execution_count": 47,
   "metadata": {},
   "outputs": [
    {
     "name": "stdout",
     "output_type": "stream",
     "text": [
      "absent in graph:  set()\n",
      "absent in dialogues:  {'i want to cancel my order.'}\n",
      "Graph has all the dialogues\n"
     ]
    },
    {
     "data": {
      "text/plain": [
       "False"
      ]
     },
     "execution_count": 47,
     "metadata": {},
     "output_type": "execute_result"
    }
   ],
   "source": [
    "all_utterances_present(Graph(data['graph']),dialogues)"
   ]
  },
  {
   "cell_type": "code",
   "execution_count": 9,
   "metadata": {},
   "outputs": [
    {
     "data": {
      "text/plain": [
       "{'source': 1, 'target': 2, 'utterances': ['I want to place an order.']}"
      ]
     },
     "execution_count": 9,
     "metadata": {},
     "output_type": "execute_result"
    }
   ],
   "source": [
    "data['graph']['edges'].pop(0)"
   ]
  },
  {
   "cell_type": "code",
   "execution_count": 49,
   "metadata": {},
   "outputs": [
    {
     "name": "stdout",
     "output_type": "stream",
     "text": [
      "absent in graph:  {'i want to place an order.'}\n",
      "absent in dialogues:  {'i want to cancel my order.'}\n"
     ]
    },
    {
     "data": {
      "text/plain": [
       "False"
      ]
     },
     "execution_count": 49,
     "metadata": {},
     "output_type": "execute_result"
    }
   ],
   "source": [
    "all_utterances_present(Graph(data['graph']),dialogues)"
   ]
  },
  {
   "cell_type": "code",
   "execution_count": 10,
   "metadata": {},
   "outputs": [
    {
     "data": {
      "text/plain": [
       "[{'value': False,\n",
       "  'description': \"graph has no connection between next pairs [('Hi there! How can I assist you today?', 'I want to place an order.'), ('I want to place an order.', 'Great! What product are you interested in?')] from Dialogue \"},\n",
       " {'value': False,\n",
       "  'description': \"graph has no connection between next pairs [('Hi there! How can I assist you today?', 'I want to place an order.'), ('I want to place an order.', 'Great! What product are you interested in?')] from Dialogue \"},\n",
       " {'value': False,\n",
       "  'description': \"graph has no connection between next pairs [('Hi there! How can I assist you today?', 'I want to place an order.'), ('I want to place an order.', 'Great! What product are you interested in?')] from Dialogue \"},\n",
       " {'value': True, 'description': 'graph has all paths from Dialogue '},\n",
       " {'value': True, 'description': 'graph has all paths from Dialogue '},\n",
       " {'value': True, 'description': 'graph has all paths from Dialogue '}]"
      ]
     },
     "execution_count": 10,
     "metadata": {},
     "output_type": "execute_result"
    }
   ],
   "source": [
    "dialogues_are_valid_paths(Graph(data['graph']),dialogues)"
   ]
  },
  {
   "cell_type": "code",
   "execution_count": 21,
   "metadata": {},
   "outputs": [],
   "source": [
    "data_2 = dataset['train'][1]"
   ]
  },
  {
   "cell_type": "code",
   "execution_count": 22,
   "metadata": {},
   "outputs": [
    {
     "data": {
      "text/plain": [
       "{'value': False, 'description': 'Numbers of nodes do not match: 9 != 8'}"
      ]
     },
     "execution_count": 22,
     "metadata": {},
     "output_type": "execute_result"
    }
   ],
   "source": [
    "compare_graphs(Graph(data['graph']),Graph(data_2['graph']))"
   ]
  }
 ],
 "metadata": {
  "kernelspec": {
   "display_name": "py311",
   "language": "python",
   "name": "python3"
  },
  "language_info": {
   "codemirror_mode": {
    "name": "ipython",
    "version": 3
   },
   "file_extension": ".py",
   "mimetype": "text/x-python",
   "name": "python",
   "nbconvert_exporter": "python",
   "pygments_lexer": "ipython3",
   "version": "3.11.11"
  }
 },
 "nbformat": 4,
 "nbformat_minor": 2
}
