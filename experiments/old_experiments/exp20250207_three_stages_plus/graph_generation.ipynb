{
 "cells": [
  {
   "cell_type": "code",
   "execution_count": 14,
   "metadata": {},
   "outputs": [],
   "source": [
    "import logging\n",
    "from langchain.prompts import PromptTemplate\n",
    "from langchain_openai  import ChatOpenAI\n",
    "from langchain.output_parsers import PydanticOutputParser\n",
    "from langchain_community.embeddings import HuggingFaceEmbeddings\n",
    "from chatsky_llm_autoconfig.algorithms.base import GraphGenerator\n",
    "from chatsky_llm_autoconfig.graph import BaseGraph, Graph\n",
    "from chatsky_llm_autoconfig.schemas import DialogueGraph\n",
    "from chatsky_llm_autoconfig.dialogue import Dialogue\n",
    "from chatsky_llm_autoconfig.metrics.automatic_metrics import llm_match"
   ]
  },
  {
   "cell_type": "code",
   "execution_count": 15,
   "metadata": {},
   "outputs": [],
   "source": [
    "from embedder import nodes2groups\n",
    "from utils import call_llm_api, nodes2graph, dialogues2list, read_json\n",
    "from settings import EnvSettings\n",
    "from missing_edges_prompt import three_1, three_2"
   ]
  },
  {
   "cell_type": "code",
   "execution_count": 16,
   "metadata": {},
   "outputs": [],
   "source": [
    "env_settings = EnvSettings()\n",
    "logging.getLogger(\"langchain_core.vectorstores.base\").setLevel(logging.ERROR)"
   ]
  },
  {
   "cell_type": "code",
   "execution_count": 17,
   "metadata": {},
   "outputs": [],
   "source": [
    "class ThreeStagesGraphGenerator(GraphGenerator):\n",
    "    \"\"\"Graph generator based on list of diaolgues.\n",
    "    Thee stages:\n",
    "    1. Algorithmic grouping assistant utterances into nodes.\n",
    "    2. Algorithmic connecting nodes by edges.\n",
    "    3. If one of dialogues ends with user's utterance, ask LLM to add missing edges.\n",
    "    \"\"\"\n",
    "\n",
    "    def invoke(self, dialogue: list[Dialogue] = None, graph: DialogueGraph = None, topic: str = \"\") -> BaseGraph:\n",
    "\n",
    "        base_model = ChatOpenAI(model=env_settings.GENERATION_MODEL_NAME, api_key=env_settings.OPENAI_API_KEY, base_url=env_settings.OPENAI_BASE_URL, temperature=1)\n",
    "        nexts, nodes, starts, neigbhours, last_user = dialogues2list(dialogue)\n",
    "\n",
    "        groups = nodes2groups(nodes, [\" \".join(p) for p in nexts], [n+ \" \".join(p) + \" \" for p,n in zip(nexts, nodes)], neigbhours)\n",
    "        nodes = []\n",
    "        for idx, group in enumerate(groups):\n",
    "            if any([gr in starts for gr in group]):\n",
    "                start = True\n",
    "            else:\n",
    "                start = False\n",
    "            nodes.append({\"id\":idx+1, \"label\": \"\", \"is_start\": start, \"utterances\": group})\n",
    "\n",
    "        embeddings = HuggingFaceEmbeddings(model_name=env_settings.EMBEDDER_MODEL, model_kwargs={\"device\": env_settings.EMBEDDER_DEVICE})\n",
    "        graph_dict = nodes2graph(nodes, dialogue, embeddings)\n",
    "        graph_dict = {\"nodes\": graph_dict['nodes'], \"edges\": graph_dict['edges'], \"reason\": \"\"}\n",
    "\n",
    "        if not last_user:\n",
    "            result_graph = Graph(graph_dict=graph_dict)\n",
    "            return result_graph    \n",
    "        partial_variables = {}\n",
    "        prompt_extra = \"\"\n",
    "        for idx, dial in enumerate(dialogue):\n",
    "            partial_variables[f\"var_{idx}\"] = dial.to_list()\n",
    "            prompt_extra += f\" Dialogue_{idx}: {{var_{idx}}}\"\n",
    "        prompt = PromptTemplate(template=three_1+\"{graph_dict}. \"+three_2+prompt_extra, input_variables=[\"graph_dict\"], partial_variables=partial_variables)\n",
    "\n",
    "        model = base_model | PydanticOutputParser(pydantic_object=DialogueGraph)\n",
    "\n",
    "        result = call_llm_api(prompt.format(graph_dict=graph_dict), model, temp=0)\n",
    "        if result is None:\n",
    "            return Graph(graph_dict={})\n",
    "        result.reason = \"Fixes: \" + result.reason\n",
    "        graph_dict=result.model_dump()\n",
    "        if not all([e['target'] for e in graph_dict['edges']]):\n",
    "            return Graph(graph_dict={})\n",
    "        result_graph = Graph(graph_dict=graph_dict)\n",
    "        return result_graph\n",
    "\n",
    "    async def ainvoke(self, *args, **kwargs):\n",
    "        return self.invoke(*args, **kwargs)\n"
   ]
  },
  {
   "cell_type": "code",
   "execution_count": 18,
   "metadata": {},
   "outputs": [],
   "source": [
    "graph_generator = ThreeStagesGraphGenerator()"
   ]
  },
  {
   "cell_type": "code",
   "execution_count": 19,
   "metadata": {},
   "outputs": [],
   "source": [
    "dialogue_to_graph = read_json(env_settings.TEST_DATA_PATH)\n",
    "case = dialogue_to_graph[0]"
   ]
  },
  {
   "cell_type": "code",
   "execution_count": null,
   "metadata": {},
   "outputs": [],
   "source": [
    "result_graph = graph_generator.invoke([Dialogue.from_list(c[\"messages\"]) for c in case[\"dialogues\"]])"
   ]
  },
  {
   "cell_type": "code",
   "execution_count": 12,
   "metadata": {},
   "outputs": [
    {
     "data": {
      "text/plain": [
       "{'nodes': [{'id': 1,\n",
       "   'label': '',\n",
       "   'is_start': True,\n",
       "   'utterances': ['Of course! What action would you like to change?',\n",
       "    'Certainly! Which part would you like to modify?',\n",
       "    'Sure! What would you like to alter?']},\n",
       "  {'id': 2,\n",
       "   'label': '',\n",
       "   'is_start': True,\n",
       "   'utterances': [\"I'm sorry you're experiencing issues with your file download. Let's work together to fix this. Could you please describe the problem you're encountering?\"]},\n",
       "  {'id': 3,\n",
       "   'label': '',\n",
       "   'is_start': False,\n",
       "   'utterances': [\"I'm sorry to hear that the download is being interrupted. Let's try a few troubleshooting steps. First, can you check if your internet connection is stable?\"]},\n",
       "  {'id': 4,\n",
       "   'label': '',\n",
       "   'is_start': False,\n",
       "   'utterances': ['Great. Next, please try pausing the download and then resuming it. Let me know if that helps.']},\n",
       "  {'id': 5,\n",
       "   'label': '',\n",
       "   'is_start': False,\n",
       "   'utterances': [\"Understood. Let's try clearing your browser's cache and then attempt the download again.\"]},\n",
       "  {'id': 6,\n",
       "   'label': '',\n",
       "   'is_start': False,\n",
       "   'utterances': [\"I'm sorry the problem continues. As an alternative solution, you can try downloading the file using a different browser or a download manager. Would you like to proceed with that?\"]},\n",
       "  {'id': 7,\n",
       "   'label': '',\n",
       "   'is_start': False,\n",
       "   'utterances': [\"Please attempt the download using another browser and let me know if you're able to successfully download the file.\"]},\n",
       "  {'id': 8,\n",
       "   'label': '',\n",
       "   'is_start': False,\n",
       "   'utterances': [\"I'm glad to hear your download was successful! If you have any other issues, feel free to ask.\"]},\n",
       "  {'id': 9,\n",
       "   'label': '',\n",
       "   'is_start': False,\n",
       "   'utterances': [\"I'm sorry you want to exit. If you need assistance later, feel free to reach out.\"]},\n",
       "  {'id': 10,\n",
       "   'label': '',\n",
       "   'is_start': True,\n",
       "   'utterances': [\"I'm sorry you're unable to open the downloaded file. Let's try to fix this. First, can you confirm the file type and if you have the appropriate software to open it?\"]},\n",
       "  {'id': 11,\n",
       "   'label': '',\n",
       "   'is_start': False,\n",
       "   'utterances': ['Thank you. Please ensure you have the latest version of the software required to open this file type. Would you like guidance on updating your software?']},\n",
       "  {'id': 12,\n",
       "   'label': '',\n",
       "   'is_start': False,\n",
       "   'utterances': [\"Sure, I can help you update your software. Please follow these steps: [provide steps]. Let me know once you've completed them.\"]},\n",
       "  {'id': 13,\n",
       "   'label': '',\n",
       "   'is_start': True,\n",
       "   'utterances': ['Understood. If you need assistance in the future, feel free to ask.']},\n",
       "  {'id': 14,\n",
       "   'label': '',\n",
       "   'is_start': True,\n",
       "   'utterances': ['Alternatively, you might try re-downloading the file from a different source or checking for updates in your current application. Let me know if that helps.']}],\n",
       " 'edges': [{'source': 2,\n",
       "   'target': 3,\n",
       "   'utterances': ['The download keeps getting interrupted.']},\n",
       "  {'source': 3,\n",
       "   'target': 4,\n",
       "   'utterances': ['Yes, my internet connection is stable.']},\n",
       "  {'source': 4,\n",
       "   'target': 5,\n",
       "   'utterances': [\"I paused and resumed, but it still doesn't work.\"]},\n",
       "  {'source': 5,\n",
       "   'target': 6,\n",
       "   'utterances': ['I cleared the cache and tried again, but the issue persists.']},\n",
       "  {'source': 6,\n",
       "   'target': 7,\n",
       "   'utterances': [\"Yes, I'll try a different browser.\"]},\n",
       "  {'source': 7,\n",
       "   'target': 8,\n",
       "   'utterances': ['It worked! The download completed successfully.']},\n",
       "  {'source': 1,\n",
       "   'target': 2,\n",
       "   'utterances': [\"I'd like to change my original issue.\"]},\n",
       "  {'source': 2,\n",
       "   'target': 9,\n",
       "   'utterances': [\"I'd like to cancel the download.\"]},\n",
       "  {'source': 4,\n",
       "   'target': 1,\n",
       "   'utterances': ['Actually, can I change my internet connection settings?']},\n",
       "  {'source': 3,\n",
       "   'target': 1,\n",
       "   'utterances': ['Actually, I need to change my connection status.',\n",
       "    'Actually, I am using a different connection now.']},\n",
       "  {'source': 2,\n",
       "   'target': 10,\n",
       "   'utterances': [\"I can't open the downloaded file.\"]},\n",
       "  {'source': 10,\n",
       "   'target': 11,\n",
       "   'utterances': ['Yes, I have the file type and software.']},\n",
       "  {'source': 11,\n",
       "   'target': 12,\n",
       "   'utterances': ['Yes, please guide me on updating.']},\n",
       "  {'source': 12,\n",
       "   'target': 8,\n",
       "   'utterances': [\"I've updated the software, and it works now.\"]},\n",
       "  {'source': 11, 'target': 13, 'utterances': [\"No, I don't want to update.\"]},\n",
       "  {'source': 13, 'target': 9, 'utterances': [\"I don't need help updating.\"]},\n",
       "  {'source': 10,\n",
       "   'target': 14,\n",
       "   'utterances': [\"I'd rather try another source.\"]},\n",
       "  {'source': 14, 'target': 8, 'utterances': ['That worked, thank you!']}],\n",
       " 'reason': ''}"
      ]
     },
     "execution_count": 12,
     "metadata": {},
     "output_type": "execute_result"
    }
   ],
   "source": [
    "result_graph.graph_dict"
   ]
  },
  {
   "cell_type": "code",
   "execution_count": 20,
   "metadata": {},
   "outputs": [
    {
     "name": "stdout",
     "output_type": "stream",
     "text": [
      "SCORING...\n",
      "finished\n",
      "NODES:  0.9999753\n",
      "ALL:  0.9999455\n"
     ]
    },
    {
     "data": {
      "text/plain": [
       "True"
      ]
     },
     "execution_count": 20,
     "metadata": {},
     "output_type": "execute_result"
    }
   ],
   "source": [
    "llm_match(Graph(case['graph']),result_graph)"
   ]
  }
 ],
 "metadata": {
  "kernelspec": {
   "display_name": "py11",
   "language": "python",
   "name": "python3"
  },
  "language_info": {
   "codemirror_mode": {
    "name": "ipython",
    "version": 3
   },
   "file_extension": ".py",
   "mimetype": "text/x-python",
   "name": "python",
   "nbconvert_exporter": "python",
   "pygments_lexer": "ipython3",
   "version": "3.11.11"
  }
 },
 "nbformat": 4,
 "nbformat_minor": 2
}
