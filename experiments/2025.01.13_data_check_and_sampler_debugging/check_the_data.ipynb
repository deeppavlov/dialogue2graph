{
 "cells": [
  {
   "cell_type": "code",
   "execution_count": 16,
   "metadata": {},
   "outputs": [
    {
     "data": {
      "text/plain": [
       "True"
      ]
     },
     "execution_count": 16,
     "metadata": {},
     "output_type": "execute_result"
    }
   ],
   "source": [
    "import json\n",
    "import pandas as pd\n",
    "import dotenv\n",
    "from tqdm import tqdm\n",
    "from langchain_openai import ChatOpenAI\n",
    "from chatsky_llm_autoconfig.graph import Graph\n",
    "from chatsky_llm_autoconfig.dialogue import Dialogue\n",
    "import chatsky_llm_autoconfig.metrics.automatic_metrics as auto_metrics\n",
    "import chatsky_llm_autoconfig.metrics.llm_metrics as llm_metrics\n",
    "from chatsky_llm_autoconfig.algorithms.dialogue_generation import DialoguePathSampler, DialogueSampler\n",
    "\n",
    "dotenv.load_dotenv()"
   ]
  },
  {
   "cell_type": "code",
   "execution_count": 17,
   "metadata": {},
   "outputs": [
    {
     "name": "stdout",
     "output_type": "stream",
     "text": [
      "10\n"
     ]
    }
   ],
   "source": [
    "with open('data.json', encoding=\"utf-8\") as f:\n",
    "    data = json.load(f)\n",
    "print(len(data))"
   ]
  },
  {
   "cell_type": "markdown",
   "metadata": {},
   "source": [
    "The scheme is so:\n",
    "\n",
    "```json\n",
    "[\n",
    "    {\n",
    "        \"topic\": str,\n",
    "        \"graph\": dict,\n",
    "        \"dialogues\": [\n",
    "            {\n",
    "                \"messages\": list,\n",
    "                \"topic\": str\n",
    "            }\n",
    "        ]\n",
    "    }\n",
    "]\n",
    "```"
   ]
  },
  {
   "cell_type": "code",
   "execution_count": 18,
   "metadata": {},
   "outputs": [],
   "source": [
    "model = ChatOpenAI(name=\"gpt-4o-mini\")"
   ]
  },
  {
   "cell_type": "code",
   "execution_count": 15,
   "metadata": {},
   "outputs": [
    {
     "name": "stderr",
     "output_type": "stream",
     "text": [
      "100%|██████████| 10/10 [00:00<00:00, 12066.47it/s]"
     ]
    },
    {
     "name": "stdout",
     "output_type": "stream",
     "text": [
      "[{'messages': [{'text': 'Hello! This is tech support. How can I help you today?', 'participant': 'assistant'}, {'text': 'The website loading takes too long', 'participant': 'user'}, {'text': 'Try to reload your device.', 'participant': 'assistant'}, {'text': 'Sure, I will try that', 'participant': 'user'}, {'text': 'Has this resolved the issue for you?', 'participant': 'assistant'}, {'text': 'Yes, that fixed everything', 'participant': 'user'}, {'text': 'Thank you for contacting us, have a nice day.', 'participant': 'assistant'}], 'topic': ''}, {'messages': [{'text': 'Hello! This is tech support. How can I help you today?', 'participant': 'assistant'}, {'text': 'The website loading takes too long', 'participant': 'user'}, {'text': 'Try to reload your device.', 'participant': 'assistant'}, {'text': 'Sure, I will try that', 'participant': 'user'}, {'text': 'Has this resolved the issue for you?', 'participant': 'assistant'}, {'text': 'No, it did not work ', 'participant': 'user'}, {'text': 'Try cleaning browser cache.', 'participant': 'assistant'}, {'text': 'All right, I will try cleaning cache', 'participant': 'user'}, {'text': 'Has this resolved the issue for you?', 'participant': 'assistant'}, {'text': 'Yes, that fixed everything', 'participant': 'user'}, {'text': 'Thank you for contacting us, have a nice day.', 'participant': 'assistant'}], 'topic': ''}, {'messages': [{'text': 'Hello! This is tech support. How can I help you today?', 'participant': 'assistant'}, {'text': 'The website loading takes too long', 'participant': 'user'}, {'text': 'Try to reload your device.', 'participant': 'assistant'}, {'text': 'Sure, I will try that', 'participant': 'user'}, {'text': 'Has this resolved the issue for you?', 'participant': 'assistant'}, {'text': \"Actually, I'm having a different issue now\", 'participant': 'user'}, {'text': 'What is the other problem that you are experiencing?', 'participant': 'assistant'}, {'text': \"I've put some money on my account but the balance is not updated on the website\", 'participant': 'user'}, {'text': 'Try logging out of the website and then re-logging in.', 'participant': 'assistant'}, {'text': 'Ok, I will try to log out', 'participant': 'user'}, {'text': 'Has this resolved the issue for you?', 'participant': 'assistant'}, {'text': 'Yes, that fixed everything', 'participant': 'user'}, {'text': 'Thank you for contacting us, have a nice day.', 'participant': 'assistant'}], 'topic': ''}, {'messages': [{'text': 'Hello! This is tech support. How can I help you today?', 'participant': 'assistant'}, {'text': 'The website loading takes too long', 'participant': 'user'}, {'text': 'Try to reload your device.', 'participant': 'assistant'}, {'text': 'Sure, I will try that', 'participant': 'user'}, {'text': 'Has this resolved the issue for you?', 'participant': 'assistant'}, {'text': \"Actually, I'm having a different issue now\", 'participant': 'user'}, {'text': 'What is the other problem that you are experiencing?', 'participant': 'assistant'}, {'text': \"I've put some money on my account but the balance is not updated on the website\", 'participant': 'user'}, {'text': 'Try logging out of the website and then re-logging in.', 'participant': 'assistant'}, {'text': 'The balance is updated but now the website is slow again', 'participant': 'user'}, {'text': 'Try to reload your device.', 'participant': 'assistant'}, {'text': 'Sure, I will try that', 'participant': 'user'}, {'text': 'Has this resolved the issue for you?', 'participant': 'assistant'}, {'text': 'Yes, that fixed everything', 'participant': 'user'}, {'text': 'Thank you for contacting us, have a nice day.', 'participant': 'assistant'}], 'topic': ''}, {'messages': [{'text': 'Hello! This is tech support. How can I help you today?', 'participant': 'assistant'}, {'text': 'The website loading takes too long', 'participant': 'user'}, {'text': 'Try to reload your device.', 'participant': 'assistant'}, {'text': 'Sure, I will try that', 'participant': 'user'}, {'text': 'Has this resolved the issue for you?', 'participant': 'assistant'}, {'text': 'No, it did not work ', 'participant': 'user'}, {'text': 'Try cleaning browser cache.', 'participant': 'assistant'}, {'text': 'All right, I will try cleaning cache', 'participant': 'user'}, {'text': 'Has this resolved the issue for you?', 'participant': 'assistant'}, {'text': \"Actually, I'm having a different issue now\", 'participant': 'user'}, {'text': 'What is the other problem that you are experiencing?', 'participant': 'assistant'}, {'text': \"I've put some money on my account but the balance is not updated on the website\", 'participant': 'user'}, {'text': 'Try logging out of the website and then re-logging in.', 'participant': 'assistant'}, {'text': 'Ok, I will try to log out', 'participant': 'user'}, {'text': 'Has this resolved the issue for you?', 'participant': 'assistant'}, {'text': 'Yes, that fixed everything', 'participant': 'user'}, {'text': 'Thank you for contacting us, have a nice day.', 'participant': 'assistant'}], 'topic': ''}, {'messages': [{'text': 'Hello! This is tech support. How can I help you today?', 'participant': 'assistant'}, {'text': 'The website loading takes too long', 'participant': 'user'}, {'text': 'Try to reload your device.', 'participant': 'assistant'}, {'text': 'Sure, I will try that', 'participant': 'user'}, {'text': 'Has this resolved the issue for you?', 'participant': 'assistant'}, {'text': 'No, it did not work ', 'participant': 'user'}, {'text': 'Try cleaning browser cache.', 'participant': 'assistant'}, {'text': 'All right, I will try cleaning cache', 'participant': 'user'}, {'text': 'Has this resolved the issue for you?', 'participant': 'assistant'}, {'text': \"Actually, I'm having a different issue now\", 'participant': 'user'}, {'text': 'What is the other problem that you are experiencing?', 'participant': 'assistant'}, {'text': \"I've put some money on my account but the balance is not updated on the website\", 'participant': 'user'}, {'text': 'Try logging out of the website and then re-logging in.', 'participant': 'assistant'}, {'text': 'The balance is updated but now the website is slow again', 'participant': 'user'}, {'text': 'Try to reload your device.', 'participant': 'assistant'}, {'text': 'Sure, I will try that', 'participant': 'user'}, {'text': 'Has this resolved the issue for you?', 'participant': 'assistant'}, {'text': 'Yes, that fixed everything', 'participant': 'user'}, {'text': 'Thank you for contacting us, have a nice day.', 'participant': 'assistant'}], 'topic': ''}]\n",
      "[{'id': 'path_1_simple_success', 'description': 'Basic happy path with correct order and address', 'turns': [{'speaker': 'assistant', 'text': 'Welcome! Food Delivery Service. How can I help you today?'}, {'speaker': 'user', 'text': 'I want to check my order status'}, {'speaker': 'assistant', 'text': 'Could you provide your order number?'}, {'speaker': 'user', 'text': 'My order number is XYZ123'}, {'speaker': 'assistant', 'text': 'Let me check this order number...'}, {'speaker': 'assistant', 'text': 'I found order #XYZ123 for pizza and pasta. Is this your order?'}, {'speaker': 'user', 'text': \"Yes, that's correct\"}, {'speaker': 'assistant', 'text': 'Your order is being prepared and will be delivered to 123 Main St. Estimated delivery time is 45 minutes. Is this address correct?'}, {'speaker': 'user', 'text': \"Yes, that's correct\"}, {'speaker': 'assistant', 'text': 'Thank you for choosing our service. Have a great meal!'}]}, {'id': 'path_2_order_not_found_cycle', 'description': 'Tests the cycle between RequestOrder and CheckOrderExists', 'turns': [{'speaker': 'assistant', 'text': 'Welcome! Food Delivery Service. How can I help you today?'}, {'speaker': 'user', 'text': 'I want to check my order status'}, {'speaker': 'assistant', 'text': 'Could you provide your order number?'}, {'speaker': 'user', 'text': 'My order number is ABC456'}, {'speaker': 'assistant', 'text': \"Sorry, I couldn't find this order number. Could you please verify and try again?\"}, {'speaker': 'user', 'text': 'Let me check again, my order number is XYZ123'}, {'speaker': 'assistant', 'text': 'Let me check this order number...'}, {'speaker': 'assistant', 'text': 'I found order #XYZ123 for pizza and pasta. Is this your order?'}, {'speaker': 'user', 'text': \"Yes, that's correct\"}, {'speaker': 'assistant', 'text': 'Your order is being prepared and will be delivered to 123 Main St. Estimated delivery time is 45 minutes. Is this address correct?'}, {'speaker': 'user', 'text': \"Yes, that's correct\"}, {'speaker': 'assistant', 'text': 'Thank you for choosing our service. Have a great meal!'}]}, {'id': 'path_3_wrong_order_cycle', 'description': 'Tests the cycle between VerifyOrder and RequestOrder', 'turns': [{'speaker': 'assistant', 'text': 'Welcome! Food Delivery Service. How can I help you today?'}, {'speaker': 'user', 'text': 'I want to check my order status'}, {'speaker': 'assistant', 'text': 'Could you provide your order number?'}, {'speaker': 'user', 'text': 'My order number is XYZ123'}, {'speaker': 'assistant', 'text': 'Let me check this order number...'}, {'speaker': 'assistant', 'text': 'I found order #XYZ123 for pizza and pasta. Is this your order?'}, {'speaker': 'user', 'text': \"No, that's not my order\"}, {'speaker': 'assistant', 'text': 'Could you provide your order number?'}, {'speaker': 'user', 'text': 'My order number is ABC789'}, {'speaker': 'assistant', 'text': 'Let me check this order number...'}, {'speaker': 'assistant', 'text': 'I found order #ABC789 for burger and fries. Is this your order?'}, {'speaker': 'user', 'text': \"Yes, that's correct\"}, {'speaker': 'assistant', 'text': 'Your order is being prepared and will be delivered to 123 Main St. Estimated delivery time is 45 minutes. Is this address correct?'}, {'speaker': 'user', 'text': \"Yes, that's correct\"}, {'speaker': 'assistant', 'text': 'Thank you for choosing our service. Have a great meal!'}]}, {'id': 'path_4_address_correction_cycle', 'description': 'Tests the cycle between UpdateAddress and ConfirmAddress', 'turns': [{'speaker': 'assistant', 'text': 'Welcome! Food Delivery Service. How can I help you today?'}, {'speaker': 'user', 'text': 'I want to check my order status'}, {'speaker': 'assistant', 'text': 'Could you provide your order number?'}, {'speaker': 'user', 'text': 'My order number is XYZ123'}, {'speaker': 'assistant', 'text': 'Let me check this order number...'}, {'speaker': 'assistant', 'text': 'I found order #XYZ123 for pizza and pasta. Is this your order?'}, {'speaker': 'user', 'text': \"Yes, that's correct\"}, {'speaker': 'assistant', 'text': 'Your order is being prepared and will be delivered to 123 Main St. Estimated delivery time is 45 minutes. Is this address correct?'}, {'speaker': 'user', 'text': 'No, the address is wrong'}, {'speaker': 'assistant', 'text': 'Please provide the correct delivery address.'}, {'speaker': 'user', 'text': 'The correct address is 456 Oak Street'}, {'speaker': 'assistant', 'text': \"I've updated the delivery address. Is this correct now?\"}, {'speaker': 'user', 'text': \"No, that's still not correct\"}, {'speaker': 'assistant', 'text': 'Please provide the correct delivery address.'}, {'speaker': 'user', 'text': 'The correct address is 456 Oak Street, Apartment 2B'}, {'speaker': 'assistant', 'text': \"I've updated the delivery address. Is this correct now?\"}, {'speaker': 'user', 'text': \"Yes, that's correct now\"}, {'speaker': 'assistant', 'text': 'Thank you for choosing our service. Have a great meal!'}]}, {'id': 'path_5_all_cycles_combined', 'description': 'Tests multiple cycles in one conversation', 'turns': [{'speaker': 'assistant', 'text': 'Welcome! Food Delivery Service. How can I help you today?'}, {'speaker': 'user', 'text': 'I want to check my order status'}, {'speaker': 'assistant', 'text': 'Could you provide your order number?'}, {'speaker': 'user', 'text': 'My order number is ABC456'}, {'speaker': 'assistant', 'text': \"Sorry, I couldn't find this order number. Could you please verify and try again?\"}, {'speaker': 'user', 'text': 'Let me check again, my order number is XYZ123'}, {'speaker': 'assistant', 'text': 'Let me check this order number...'}, {'speaker': 'assistant', 'text': 'I found order #XYZ123 for pizza and pasta. Is this your order?'}, {'speaker': 'user', 'text': \"No, that's not my order\"}, {'speaker': 'assistant', 'text': 'Could you provide your order number?'}, {'speaker': 'user', 'text': 'My order number is ABC789'}, {'speaker': 'assistant', 'text': 'Let me check this order number...'}, {'speaker': 'assistant', 'text': 'I found order #ABC789 for burger and fries. Is this your order?'}, {'speaker': 'user', 'text': \"Yes, that's correct\"}, {'speaker': 'assistant', 'text': 'Your order is being prepared and will be delivered to 123 Main St. Estimated delivery time is 45 minutes. Is this address correct?'}, {'speaker': 'user', 'text': 'No, the address is wrong'}, {'speaker': 'assistant', 'text': 'Please provide the correct delivery address.'}, {'speaker': 'user', 'text': 'The correct address is 456 Oak Street'}, {'speaker': 'assistant', 'text': \"I've updated the delivery address. Is this correct now?\"}, {'speaker': 'user', 'text': \"Yes, that's correct now\"}, {'speaker': 'assistant', 'text': 'Thank you for choosing our service. Have a great meal!'}]}]\n",
      "[{'messages': [{'text': 'Welcome to our Medical Appointment System! How can I assist you today?', 'participant': 'assistant'}, {'text': \"I'd like to schedule an appointment\", 'participant': 'user'}, {'text': 'Which specialist would you like to visit?', 'participant': 'assistant'}, {'text': 'I need to see a cardiologist', 'participant': 'user'}, {'text': 'Cardiologist is available on Wednesday (5PM). Would you like to schedule?', 'participant': 'assistant'}, {'text': 'Yes, Wednesday (5PM) will work for me', 'participant': 'user'}, {'text': 'Please provide your full name and phone number.', 'participant': 'assistant'}, {'text': 'John Parker, +1-555-123-4567', 'participant': 'user'}, {'text': 'You have been successfully scheduled for an appointment, have a nice day.', 'participant': 'assistant'}], 'topic': 'Direct cardiologist booking'}, {'messages': [{'text': 'Welcome to our Medical Appointment System! How can I assist you today?', 'participant': 'assistant'}, {'text': \"I'd like to schedule an appointment\", 'participant': 'user'}, {'text': 'Which specialist would you like to visit?', 'participant': 'assistant'}, {'text': 'I need to see a cardiologist', 'participant': 'user'}, {'text': 'Cardiologist is available on Wednesday (5PM). Would you like to schedule?', 'participant': 'assistant'}, {'text': 'No, Wednesday (5PM) will not work for me', 'participant': 'user'}, {'text': 'We have Saturday 9:15 AM available.', 'participant': 'assistant'}, {'text': 'Ok, Saturday 9:15 AM is fine.', 'participant': 'user'}, {'text': 'Please provide your full name and phone number.', 'participant': 'assistant'}, {'text': 'John Parker, +1-555-123-4567', 'participant': 'user'}, {'text': 'You have been successfully scheduled for an appointment, have a nice day.', 'participant': 'assistant'}], 'topic': 'Cardiologist booking with time change'}, {'messages': [{'text': 'Welcome to our Medical Appointment System! How can I assist you today?', 'participant': 'assistant'}, {'text': \"I'd like to schedule an appointment\", 'participant': 'user'}, {'text': 'Which specialist would you like to visit?', 'participant': 'assistant'}, {'text': 'I need to see a surgeon', 'participant': 'user'}, {'text': 'We have surgeon available on Wednesday 6:30 PM. Will that work?', 'participant': 'assistant'}, {'text': 'Surgeon, Wednesday 6:30 PM, ok for me', 'participant': 'user'}, {'text': 'Please provide your full name and phone number.', 'participant': 'assistant'}, {'text': 'John Parker, +1-555-123-4567', 'participant': 'user'}, {'text': 'You have been successfully scheduled for an appointment, have a nice day.', 'participant': 'assistant'}], 'topic': 'Direct surgeon booking'}, {'messages': [{'text': 'Welcome to our Medical Appointment System! How can I assist you today?', 'participant': 'assistant'}, {'text': \"I'd like to schedule an appointment\", 'participant': 'user'}, {'text': 'Which specialist would you like to visit?', 'participant': 'assistant'}, {'text': 'I need to see a cardiologist', 'participant': 'user'}, {'text': 'Cardiologist is available on Wednesday (5PM). Would you like to schedule?', 'participant': 'assistant'}, {'text': \"Actually, I've just realized that I need to see a different specialist\", 'participant': 'user'}, {'text': 'Which specialist would you like to visit?', 'participant': 'assistant'}, {'text': 'I need to see a surgeon', 'participant': 'user'}, {'text': 'We have surgeon available on Wednesday 6:30 PM. Will that work?', 'participant': 'assistant'}, {'text': 'Surgeon, Wednesday 6:30 PM, ok for me', 'participant': 'user'}, {'text': 'Please provide your full name and phone number.', 'participant': 'assistant'}, {'text': 'John Parker, +1-555-123-4567', 'participant': 'user'}, {'text': 'You have been successfully scheduled for an appointment, have a nice day.', 'participant': 'assistant'}], 'topic': 'Change specialist from cardiologist to surgeon'}]\n",
      "[{'messages': [{'text': 'Welcome to the City Library! How may I assist you today?', 'participant': 'assistant'}, {'text': \"I'd like to borrow a book\", 'participant': 'user'}, {'text': 'Could you please provide your library card number?', 'participant': 'assistant'}, {'text': 'My card number is L123456', 'participant': 'user'}, {'text': 'What book are you looking for?', 'participant': 'assistant'}, {'text': \"I'm looking for The Great Gatsby\", 'participant': 'user'}, {'text': 'Let me check if the book is currently available.', 'participant': 'assistant'}, {'text': 'Okay, please check', 'participant': 'user'}, {'text': \"I've checked and the book is currently unavailable.\", 'participant': 'assistant'}, {'text': 'Oh, I see', 'participant': 'user'}, {'text': 'Would you like to place a hold, or would you prefer to see similar books that are available now?', 'participant': 'assistant'}, {'text': \"I'd like to see similar books\", 'participant': 'user'}, {'text': \"We have similar books available: 'This Side of Paradise' and 'The Beautiful and Damned'. Would you like to check out any of them?\", 'participant': 'assistant'}, {'text': \"Yes, I'll take 'This Side of Paradise'\", 'participant': 'user'}, {'text': 'Would you like to check it out now?', 'participant': 'assistant'}, {'text': \"Yes, I'd like to check it out\", 'participant': 'user'}, {'text': \"I've checked out the book to your account. It's due in 3 weeks. Would you like to search for any other books?\", 'participant': 'assistant'}, {'text': \"No, that's all for today\", 'participant': 'user'}, {'text': 'Thank you for using our library services. Have a great day!', 'participant': 'assistant'}], 'topic': ''}, {'messages': [{'text': 'Welcome to the City Library! How may I assist you today?', 'participant': 'assistant'}, {'text': \"I'd like to borrow a book\", 'participant': 'user'}, {'text': 'Could you please provide your library card number?', 'participant': 'assistant'}, {'text': 'My card number is L123456', 'participant': 'user'}, {'text': 'What book are you looking for?', 'participant': 'assistant'}, {'text': \"I'm looking for The Great Gatsby\", 'participant': 'user'}, {'text': 'Let me check if the book is currently available.', 'participant': 'assistant'}, {'text': 'Okay, please check', 'participant': 'user'}, {'text': \"I've checked and the book is currently unavailable.\", 'participant': 'assistant'}, {'text': 'Oh, I see', 'participant': 'user'}, {'text': 'Would you like to place a hold, or would you prefer to see similar books that are available now?', 'participant': 'assistant'}, {'text': \"I'd like to place a hold\", 'participant': 'user'}, {'text': \"I've placed a hold on the book for you. You'll be notified by email when it becomes available. Would you like to search for any other books?\", 'participant': 'assistant'}, {'text': \"No, that's all for today\", 'participant': 'user'}, {'text': 'Thank you for using our library services. Have a great day!', 'participant': 'assistant'}], 'topic': ''}, {'messages': [{'text': 'Welcome to the City Library! How may I assist you today?', 'participant': 'assistant'}, {'text': \"I'd like to borrow a book\", 'participant': 'user'}, {'text': 'Could you please provide your library card number?', 'participant': 'assistant'}, {'text': 'My card number is L123456', 'participant': 'user'}, {'text': 'What book are you looking for?', 'participant': 'assistant'}, {'text': \"I'm looking for The Great Gatsby\", 'participant': 'user'}, {'text': 'Let me check if the book is currently available.', 'participant': 'assistant'}, {'text': 'Okay, please check', 'participant': 'user'}, {'text': \"I've checked and the book is available.\", 'participant': 'assistant'}, {'text': \"Great, I'd like to proceed\", 'participant': 'user'}, {'text': 'Would you like to check it out now?', 'participant': 'assistant'}, {'text': \"Yes, I'd like to check it out\", 'participant': 'user'}, {'text': \"I've checked out the book to your account. It's due in 3 weeks. Would you like to search for any other books?\", 'participant': 'assistant'}, {'text': \"No, that's all for today\", 'participant': 'user'}, {'text': 'Thank you for using our library services. Have a great day!', 'participant': 'assistant'}], 'topic': ''}, {'messages': [{'text': 'Welcome to the City Library! How may I assist you today?', 'participant': 'assistant'}, {'text': \"I'd like to borrow a book\", 'participant': 'user'}, {'text': 'Could you please provide your library card number?', 'participant': 'assistant'}, {'text': 'My card number is L123456', 'participant': 'user'}, {'text': 'What book are you looking for?', 'participant': 'assistant'}, {'text': \"I'm looking for The Great Gatsby\", 'participant': 'user'}, {'text': 'Let me check if the book is currently available.', 'participant': 'assistant'}, {'text': 'Okay, please check', 'participant': 'user'}, {'text': \"I've checked and the book is currently unavailable.\", 'participant': 'assistant'}, {'text': 'Oh, I see', 'participant': 'user'}, {'text': 'Would you like to place a hold, or would you prefer to see similar books that are available now?', 'participant': 'assistant'}, {'text': \"I'd like to see similar books\", 'participant': 'user'}, {'text': \"We have similar books available: 'This Side of Paradise' and 'The Beautiful and Damned'. Would you like to check out any of them?\", 'participant': 'assistant'}, {'text': \"No, I'd like to look for something else\", 'participant': 'user'}, {'text': 'What book are you looking for?', 'participant': 'assistant'}, {'text': \"I'm looking for To Kill a Mockingbird\", 'participant': 'user'}, {'text': 'Let me check if the book is currently available.', 'participant': 'assistant'}, {'text': 'Okay, please check', 'participant': 'user'}, {'text': \"I've checked and the book is available.\", 'participant': 'assistant'}, {'text': \"Great, I'd like to proceed\", 'participant': 'user'}, {'text': 'Would you like to check it out now?', 'participant': 'assistant'}, {'text': \"Yes, I'd like to check it out\", 'participant': 'user'}, {'text': \"I've checked out the book to your account. It's due in 3 weeks. Would you like to search for any other books?\", 'participant': 'assistant'}, {'text': \"No, that's all for today\", 'participant': 'user'}, {'text': 'Thank you for using our library services. Have a great day!', 'participant': 'assistant'}], 'topic': 'Reject similar books and find another book'}, {'messages': [{'text': 'Welcome to the City Library! How may I assist you today?', 'participant': 'assistant'}, {'text': \"I'd like to borrow a book\", 'participant': 'user'}, {'text': 'Could you please provide your library card number?', 'participant': 'assistant'}, {'text': 'My card number is L123456', 'participant': 'user'}, {'text': 'What book are you looking for?', 'participant': 'assistant'}, {'text': \"I'm looking for The Great Gatsby\", 'participant': 'user'}, {'text': 'Let me check if the book is currently available.', 'participant': 'assistant'}, {'text': 'Okay, please check', 'participant': 'user'}, {'text': \"I've checked and the book is available.\", 'participant': 'assistant'}, {'text': \"Great, I'd like to proceed\", 'participant': 'user'}, {'text': 'Would you like to check it out now?', 'participant': 'assistant'}, {'text': \"Yes, I'd like to check it out\", 'participant': 'user'}, {'text': \"I've checked out the book to your account. It's due in 3 weeks. Would you like to search for any other books?\", 'participant': 'assistant'}, {'text': \"Yes, I'd like to find another book\", 'participant': 'user'}, {'text': 'What book are you looking for?', 'participant': 'assistant'}, {'text': \"I'm looking for 1984\", 'participant': 'user'}, {'text': 'Let me check if the book is currently available.', 'participant': 'assistant'}, {'text': 'Okay, please check', 'participant': 'user'}, {'text': \"I've checked and the book is available.\", 'participant': 'assistant'}, {'text': \"Great, I'd like to proceed\", 'participant': 'user'}, {'text': 'Would you like to check it out now?', 'participant': 'assistant'}, {'text': \"Yes, I'd like to check it out\", 'participant': 'user'}, {'text': \"I've checked out the book to your account. It's due in 3 weeks. Would you like to search for any other books?\", 'participant': 'assistant'}, {'text': \"No, that's all for today\", 'participant': 'user'}, {'text': 'Thank you for using our library services. Have a great day!', 'participant': 'assistant'}], 'topic': 'Multiple book checkout cycle'}]\n",
      "[{'messages': [{'text': 'Welcome to AutoCare Service Center! How can I help you today?', 'participant': 'assistant'}, {'text': 'I need to schedule a car service', 'participant': 'user'}, {'text': \"Could you please provide your car's make, model and year?\", 'participant': 'assistant'}, {'text': 'I have a 2020 Toyota Camry', 'participant': 'user'}, {'text': 'What type of service do you need? We offer diagnostics, repairs, and routine maintenance.', 'participant': 'assistant'}, {'text': 'I need brake repair', 'participant': 'user'}, {'text': 'Let me check our available time slots for this service.', 'participant': 'assistant'}, {'text': 'Alright, what are my options?', 'participant': 'user'}, {'text': 'I notice this is a critical repair. We have an urgent slot available today at 4 PM with a 20% rush fee. Would you like this option, or prefer a regular appointment next week?', 'participant': 'assistant'}, {'text': \"No, I'll take a regular appointment\", 'participant': 'user'}, {'text': 'We have slots available tomorrow at 10 AM or Friday at 2 PM. Which would you prefer?', 'participant': 'assistant'}, {'text': 'Friday at 2 PM works for me', 'participant': 'user'}, {'text': \"I've scheduled your appointment. Would you like to add any additional services while your car is here?\", 'participant': 'assistant'}, {'text': 'No additional services needed', 'participant': 'user'}, {'text': 'The estimated cost for all services will be $X. Would you like to proceed with the appointment?', 'participant': 'assistant'}, {'text': 'Yes, that works for me', 'participant': 'user'}, {'text': \"Your appointment is confirmed. We'll see you then. Have a great day!\", 'participant': 'assistant'}], 'topic': ''}, {'messages': [{'text': 'Welcome to AutoCare Service Center! How can I help you today?', 'participant': 'assistant'}, {'text': 'I need to schedule a car service', 'participant': 'user'}, {'text': \"Could you please provide your car's make, model and year?\", 'participant': 'assistant'}, {'text': 'I have a 2020 Toyota Camry', 'participant': 'user'}, {'text': 'What type of service do you need? We offer diagnostics, repairs, and routine maintenance.', 'participant': 'assistant'}, {'text': 'I need brake repair', 'participant': 'user'}, {'text': 'Let me check our available time slots for this service.', 'participant': 'assistant'}, {'text': 'Alright, what are my options?', 'participant': 'user'}, {'text': 'I notice this is a critical repair. We have an urgent slot available today at 4 PM with a 20% rush fee. Would you like this option, or prefer a regular appointment next week?', 'participant': 'assistant'}, {'text': \"No, I'll take a regular appointment\", 'participant': 'user'}, {'text': 'We have slots available tomorrow at 10 AM or Friday at 2 PM. Which would you prefer?', 'participant': 'assistant'}, {'text': 'Friday at 2 PM works for me', 'participant': 'user'}, {'text': \"I've scheduled your appointment. Would you like to add any additional services while your car is here?\", 'participant': 'assistant'}, {'text': 'What other services would you recommend?', 'participant': 'user'}, {'text': 'While your car is here, we recommend an oil change and filter replacement. Would you like to add these services?', 'participant': 'assistant'}, {'text': 'No, just the original service', 'participant': 'user'}, {'text': 'The estimated cost for all services will be $X. Would you like to proceed with the appointment?', 'participant': 'assistant'}, {'text': 'Yes, that works for me', 'participant': 'user'}, {'text': \"Your appointment is confirmed. We'll see you then. Have a great day!\", 'participant': 'assistant'}], 'topic': ''}, {'messages': [{'text': 'Welcome to AutoCare Service Center! How can I help you today?', 'participant': 'assistant'}, {'text': 'I need to schedule a car service', 'participant': 'user'}, {'text': \"Could you please provide your car's make, model and year?\", 'participant': 'assistant'}, {'text': 'I have a 2020 Toyota Camry', 'participant': 'user'}, {'text': 'What type of service do you need? We offer diagnostics, repairs, and routine maintenance.', 'participant': 'assistant'}, {'text': 'I need brake repair', 'participant': 'user'}, {'text': 'Let me check our available time slots for this service.', 'participant': 'assistant'}, {'text': 'Alright, what are my options?', 'participant': 'user'}, {'text': 'I notice this is a critical repair. We have an urgent slot available today at 4 PM with a 20% rush fee. Would you like this option, or prefer a regular appointment next week?', 'participant': 'assistant'}, {'text': \"Yes, I'll take the urgent slot\", 'participant': 'user'}, {'text': \"I've scheduled your appointment. Would you like to add any additional services while your car is here?\", 'participant': 'assistant'}, {'text': 'No additional services needed', 'participant': 'user'}, {'text': 'The estimated cost for all services will be $X. Would you like to proceed with the appointment?', 'participant': 'assistant'}, {'text': 'Yes, that works for me', 'participant': 'user'}, {'text': \"Your appointment is confirmed. We'll see you then. Have a great day!\", 'participant': 'assistant'}], 'topic': ''}, {'messages': [{'text': 'Welcome to AutoCare Service Center! How can I help you today?', 'participant': 'assistant'}, {'text': 'I need to schedule a car service', 'participant': 'user'}, {'text': \"Could you please provide your car's make, model and year?\", 'participant': 'assistant'}, {'text': 'I have a 2020 Toyota Camry', 'participant': 'user'}, {'text': 'What type of service do you need? We offer diagnostics, repairs, and routine maintenance.', 'participant': 'assistant'}, {'text': 'I need brake repair', 'participant': 'user'}, {'text': 'Let me check our available time slots for this service.', 'participant': 'assistant'}, {'text': 'Alright, what are my options?', 'participant': 'user'}, {'text': 'I notice this is a critical repair. We have an urgent slot available today at 4 PM with a 20% rush fee. Would you like this option, or prefer a regular appointment next week?', 'participant': 'assistant'}, {'text': \"Yes, I'll take the urgent slot\", 'participant': 'user'}, {'text': \"I've scheduled your appointment. Would you like to add any additional services while your car is here?\", 'participant': 'assistant'}, {'text': 'What other services would you recommend?', 'participant': 'user'}, {'text': 'While your car is here, we recommend an oil change and filter replacement. Would you like to add these services?', 'participant': 'assistant'}, {'text': 'No, just the original service', 'participant': 'user'}, {'text': 'The estimated cost for all services will be $X. Would you like to proceed with the appointment?', 'participant': 'assistant'}, {'text': 'Yes, that works for me', 'participant': 'user'}, {'text': \"Your appointment is confirmed. We'll see you then. Have a great day!\", 'participant': 'assistant'}], 'topic': ''}, {'messages': [{'text': 'Welcome to AutoCare Service Center! How can I help you today?', 'participant': 'assistant'}, {'text': 'I need to schedule a car service', 'participant': 'user'}, {'text': \"Could you please provide your car's make, model and year?\", 'participant': 'assistant'}, {'text': 'I have a 2020 Toyota Camry', 'participant': 'user'}, {'text': 'What type of service do you need? We offer diagnostics, repairs, and routine maintenance.', 'participant': 'assistant'}, {'text': 'I need brake repair', 'participant': 'user'}, {'text': 'Let me check our available time slots for this service.', 'participant': 'assistant'}, {'text': 'Okay, please check availability', 'participant': 'user'}, {'text': 'We have slots available tomorrow at 10 AM or Friday at 2 PM. Which would you prefer?', 'participant': 'assistant'}, {'text': 'Friday at 2 PM works for me', 'participant': 'user'}, {'text': \"I've scheduled your appointment. Would you like to add any additional services while your car is here?\", 'participant': 'assistant'}, {'text': 'No additional services needed', 'participant': 'user'}, {'text': 'The estimated cost for all services will be $X. Would you like to proceed with the appointment?', 'participant': 'assistant'}, {'text': 'Yes, that works for me', 'participant': 'user'}, {'text': \"Your appointment is confirmed. We'll see you then. Have a great day!\", 'participant': 'assistant'}], 'topic': ''}, {'messages': [{'text': 'Welcome to AutoCare Service Center! How can I help you today?', 'participant': 'assistant'}, {'text': 'I need to schedule a car service', 'participant': 'user'}, {'text': \"Could you please provide your car's make, model and year?\", 'participant': 'assistant'}, {'text': 'I have a 2020 Toyota Camry', 'participant': 'user'}, {'text': 'What type of service do you need? We offer diagnostics, repairs, and routine maintenance.', 'participant': 'assistant'}, {'text': 'I need brake repair', 'participant': 'user'}, {'text': 'Let me check our available time slots for this service.', 'participant': 'assistant'}, {'text': 'Okay, please check availability', 'participant': 'user'}, {'text': 'We have slots available tomorrow at 10 AM or Friday at 2 PM. Which would you prefer?', 'participant': 'assistant'}, {'text': 'Friday at 2 PM works for me', 'participant': 'user'}, {'text': \"I've scheduled your appointment. Would you like to add any additional services while your car is here?\", 'participant': 'assistant'}, {'text': 'What other services would you recommend?', 'participant': 'user'}, {'text': 'While your car is here, we recommend an oil change and filter replacement. Would you like to add these services?', 'participant': 'assistant'}, {'text': 'No, just the original service', 'participant': 'user'}, {'text': 'The estimated cost for all services will be $X. Would you like to proceed with the appointment?', 'participant': 'assistant'}, {'text': 'Yes, that works for me', 'participant': 'user'}, {'text': \"Your appointment is confirmed. We'll see you then. Have a great day!\", 'participant': 'assistant'}], 'topic': ''}, {'messages': [{'text': 'Welcome to AutoCare Service Center! How can I help you today?', 'participant': 'assistant'}, {'text': 'I need to schedule a car service', 'participant': 'user'}, {'text': \"Could you please provide your car's make, model and year?\", 'participant': 'assistant'}, {'text': 'I have a 2020 Toyota Camry', 'participant': 'user'}, {'text': 'What type of service do you need? We offer diagnostics, repairs, and routine maintenance.', 'participant': 'assistant'}, {'text': 'I need brake repair', 'participant': 'user'}, {'text': 'Let me check our available time slots for this service.', 'participant': 'assistant'}, {'text': 'Okay, please check availability', 'participant': 'user'}, {'text': 'We have slots available tomorrow at 10 AM or Friday at 2 PM. Which would you prefer?', 'participant': 'assistant'}, {'text': 'Friday at 2 PM works for me', 'participant': 'user'}, {'text': \"I've scheduled your appointment. Would you like to add any additional services while your car is here?\", 'participant': 'assistant'}, {'text': 'What other services would you recommend?', 'participant': 'user'}, {'text': 'While your car is here, we recommend an oil change and filter replacement. Would you like to add these services?', 'participant': 'assistant'}, {'text': 'Yes, add the oil change please', 'participant': 'user'}, {'text': 'The estimated cost for all services will be $X. Would you like to proceed with the appointment?', 'participant': 'assistant'}, {'text': 'Yes, that works for me', 'participant': 'user'}, {'text': \"Your appointment is confirmed. We'll see you then. Have a great day!\", 'participant': 'assistant'}], 'topic': 'Regular appointment with additional services accepted'}, {'messages': [{'text': 'Welcome to AutoCare Service Center! How can I help you today?', 'participant': 'assistant'}, {'text': 'I need to schedule a car service', 'participant': 'user'}, {'text': \"Could you please provide your car's make, model and year?\", 'participant': 'assistant'}, {'text': 'I have a 2020 Toyota Camry', 'participant': 'user'}, {'text': 'What type of service do you need? We offer diagnostics, repairs, and routine maintenance.', 'participant': 'assistant'}, {'text': 'I need brake repair', 'participant': 'user'}, {'text': 'Let me check our available time slots for this service.', 'participant': 'assistant'}, {'text': 'Okay, please check availability', 'participant': 'user'}, {'text': 'We have slots available tomorrow at 10 AM or Friday at 2 PM. Which would you prefer?', 'participant': 'assistant'}, {'text': 'Friday at 2 PM works for me', 'participant': 'user'}, {'text': \"I've scheduled your appointment. Would you like to add any additional services while your car is here?\", 'participant': 'assistant'}, {'text': 'No additional services needed', 'participant': 'user'}, {'text': 'The estimated cost for all services will be $X. Would you like to proceed with the appointment?', 'participant': 'assistant'}, {'text': \"Actually, I'd like to change the service type\", 'participant': 'user'}, {'text': 'What type of service do you need? We offer diagnostics, repairs, and routine maintenance.', 'participant': 'assistant'}, {'text': 'I need an oil change instead', 'participant': 'user'}, {'text': 'Let me check our available time slots for this service.', 'participant': 'assistant'}, {'text': 'Okay, please check availability', 'participant': 'user'}, {'text': 'We have slots available tomorrow at 10 AM or Friday at 2 PM. Which would you prefer?', 'participant': 'assistant'}, {'text': 'Friday at 2 PM works for me', 'participant': 'user'}, {'text': \"I've scheduled your appointment. Would you like to add any additional services while your car is here?\", 'participant': 'assistant'}, {'text': 'No additional services needed', 'participant': 'user'}, {'text': 'The estimated cost for all services will be $X. Would you like to proceed with the appointment?', 'participant': 'assistant'}, {'text': 'Yes, that works for me', 'participant': 'user'}, {'text': \"Your appointment is confirmed. We'll see you then. Have a great day!\", 'participant': 'assistant'}], 'topic': 'Change service type after estimate'}]\n",
      "[{'messages': [{'text': 'Good evening, how can I help?', 'participant': 'assistant'}, {'text': 'I want to book a duplex room', 'participant': 'user'}, {'text': 'How long are you going to stay?', 'participant': 'assistant'}, {'text': 'One night', 'participant': 'user'}, {'text': 'We have a vacant room. Do you need anything else?', 'participant': 'assistant'}, {'text': 'No, thanks', 'participant': 'user'}, {'text': 'Okay, now I need your ID card.', 'participant': 'assistant'}, {'text': 'Here it is', 'participant': 'user'}, {'text': 'Thank you. This is your key, have a good stay!', 'participant': 'assistant'}], 'topic': 'book a room for one night'}, {'messages': [{'text': 'Good evening, how can I help?', 'participant': 'assistant'}, {'text': 'I want to book a duplex room', 'participant': 'user'}, {'text': 'How long are you going to stay?', 'participant': 'assistant'}, {'text': 'Three nights', 'participant': 'user'}, {'text': 'Unfortunately we do not have a vacant room for these dates, but we can offer two separate single rooms. Would this be acceptable?', 'participant': 'assistant'}, {'text': 'Okay, it will do', 'participant': 'user'}, {'text': 'Okay, now I need your ID card.', 'participant': 'assistant'}, {'text': 'Here it is', 'participant': 'user'}, {'text': 'Thank you. This is your key, have a good stay!', 'participant': 'assistant'}], 'topic': 'book a room for two people for three nights'}, {'messages': [{'text': 'Good evening, how can I help?', 'participant': 'assistant'}, {'text': 'I want to book a duplex room', 'participant': 'user'}, {'text': 'How long are you going to stay?', 'participant': 'assistant'}, {'text': 'Three nights', 'participant': 'user'}, {'text': 'Unfortunately we do not have a vacant room for these dates, but we can offer two separate single rooms. Would this be acceptable?', 'participant': 'assistant'}, {'text': 'No, thanks, this does not suit me', 'participant': 'user'}, {'text': 'Can I help you with anything else?', 'participant': 'assistant'}, {'text': 'No, thanks', 'participant': 'user'}, {'text': 'Okay, goodbye!', 'participant': 'assistant'}], 'topic': 'book a room for two people, no vacant rooms'}]\n",
      "[{'messages': [{'text': 'Good morning, would you like to make an order?', 'participant': 'assistant'}, {'text': 'Yes', 'participant': 'user'}, {'text': 'What would you like to order?', 'participant': 'assistant'}, {'text': 'I want X', 'participant': 'user'}, {'text': 'Do you want to add anything to X?', 'participant': 'assistant'}, {'text': 'Yes', 'participant': 'user'}, {'text': 'What would you like to add?', 'participant': 'assistant'}, {'text': 'I want to add Y', 'participant': 'user'}, {'text': 'Do you want to add anything else?', 'participant': 'assistant'}, {'text': 'No', 'participant': 'user'}, {'text': 'Do you want to order something else?', 'participant': 'assistant'}, {'text': 'No', 'participant': 'user'}, {'text': 'Here is your check, we will call you when it will be ready', 'participant': 'assistant'}], 'topic': 'order X with Y'}, {'messages': [{'text': 'Good morning, would you like to make an order?', 'participant': 'assistant'}, {'text': 'Yes', 'participant': 'user'}, {'text': 'What would you like to order?', 'participant': 'assistant'}, {'text': 'I want X', 'participant': 'user'}, {'text': 'Do you want to add anything to X?', 'participant': 'assistant'}, {'text': 'No', 'participant': 'user'}, {'text': 'Do you want to order something else?', 'participant': 'assistant'}, {'text': 'No', 'participant': 'user'}, {'text': 'Here is your check, we will call you when it will be ready', 'participant': 'assistant'}], 'topic': 'order X without adding anything'}]\n",
      "[{'messages': [{'text': 'Chatting', 'participant': 'assistant'}, {'text': 'Chatting', 'participant': 'user'}, {'text': 'Chatting', 'participant': 'assistant'}, {'text': 'What is the weather today?', 'participant': 'user'}, {'text': 'Proceeding to weather skill', 'participant': 'assistant'}], 'topic': 'ask for the weather'}, {'messages': [{'text': 'Chatting', 'participant': 'assistant'}, {'text': 'What is the weather today?', 'participant': 'user'}, {'text': 'Proceeding to weather skill', 'participant': 'assistant'}], 'topic': 'ask for the weather'}, {'messages': [{'text': 'Chatting', 'participant': 'assistant'}, {'text': 'Turn on the music', 'participant': 'user'}, {'text': 'Proceeding to music skill', 'participant': 'assistant'}], 'topic': 'ask to turn on the music'}, {'messages': [{'text': 'Chatting', 'participant': 'assistant'}, {'text': 'I want to set up a timer', 'participant': 'user'}, {'text': 'Proceeding to timer skill', 'participant': 'assistant'}], 'topic': 'ask to set up a timer'}]\n",
      "[{'messages': [{'text': 'Is there anything I can help you with?', 'participant': 'assistant'}, {'text': 'I want to take a loan', 'participant': 'user'}, {'text': 'Are you a client of our bank?', 'participant': 'assistant'}, {'text': 'No', 'participant': 'user'}, {'text': 'Firstly you need to create a deposit in our bank', 'participant': 'assistant'}], 'topic': 'ask for a loan without being a client'}, {'messages': [{'text': 'Is there anything I can help you with?', 'participant': 'assistant'}, {'text': 'I want to take a loan', 'participant': 'user'}, {'text': 'Are you a client of our bank?', 'participant': 'assistant'}, {'text': 'Yes', 'participant': 'user'}, {'text': 'Have you filled a form for taking a loan?', 'participant': 'assistant'}, {'text': 'No', 'participant': 'user'}, {'text': 'I will send you the form and you can come back once you fill it', 'participant': 'assistant'}], 'topic': 'ask for a loan without filling a form'}, {'messages': [{'text': 'Is there anything I can help you with?', 'participant': 'assistant'}, {'text': 'I want to take a loan', 'participant': 'user'}, {'text': 'Are you a client of our bank?', 'participant': 'assistant'}, {'text': 'Yes', 'participant': 'user'}, {'text': 'Have you filled a form for taking a loan?', 'participant': 'assistant'}, {'text': 'Yes', 'participant': 'user'}, {'text': 'Are you ready to proceed with your loan, or you have other questions?', 'participant': 'assistant'}, {'text': 'Ready', 'participant': 'user'}, {'text': 'Okay, I will contact you with our manager', 'participant': 'assistant'}], 'topic': 'complete appliance for a loan'}, {'messages': [{'text': 'Is there anything I can help you with?', 'participant': 'assistant'}, {'text': 'I want to take a loan', 'participant': 'user'}, {'text': 'Are you a client of our bank?', 'participant': 'assistant'}, {'text': 'Yes', 'participant': 'user'}, {'text': 'Have you filled a form for taking a loan?', 'participant': 'assistant'}, {'text': 'Yes', 'participant': 'user'}, {'text': 'Are you ready to proceed with your loan, or you have other questions?', 'participant': 'assistant'}, {'text': 'Other questions', 'participant': 'user'}], 'topic': 'ask for a loan and have other questions'}]\n",
      "[{'messages': [{'text': 'Welcome to our coffee shop, what would you like?', 'participant': 'assistant'}, {'text': 'Tea', 'participant': 'user'}, {'text': 'Which tea would you like?', 'participant': 'assistant'}, {'text': 'Green tea', 'participant': 'user'}, {'text': 'Sorry, but we are out of green tea at the moment', 'participant': 'assistant'}], 'topic': 'ask for green tea in coffee shop'}, {'messages': [{'text': 'Welcome to our coffee shop, what would you like?', 'participant': 'assistant'}, {'text': 'Coffee', 'participant': 'user'}, {'text': 'Which coffee would you like?', 'participant': 'assistant'}, {'text': 'Espresso', 'participant': 'user'}, {'text': 'Would you need a glass of water?', 'participant': 'assistant'}, {'text': 'Yes', 'participant': 'user'}, {'text': 'Do you need any syrup?', 'participant': 'assistant'}, {'text': 'No, thanks', 'participant': 'user'}, {'text': 'Here or takeaway?', 'participant': 'assistant'}], 'topic': 'order espresso in coffee shop'}, {'messages': [{'text': 'Welcome to our coffee shop, what would you like?', 'participant': 'assistant'}, {'text': 'Coffee', 'participant': 'user'}, {'text': 'Which coffee would you like?', 'participant': 'assistant'}, {'text': 'Latte', 'participant': 'user'}, {'text': 'Do you need lactoze-free milk?', 'participant': 'assistant'}, {'text': 'Yes', 'participant': 'user'}, {'text': 'Do you need any syrup?', 'participant': 'assistant'}, {'text': 'No, thanks', 'participant': 'user'}, {'text': 'Here or takeaway?', 'participant': 'assistant'}], 'topic': 'order latte in coffee shop'}, {'messages': [{'text': 'Welcome to our coffee shop, what would you like?', 'participant': 'assistant'}, {'text': 'Tea', 'participant': 'user'}, {'text': 'Which tea would you like?', 'participant': 'assistant'}, {'text': 'Latte tea', 'participant': 'user'}, {'text': 'Do you need lactoze-free milk?', 'participant': 'assistant'}, {'text': 'Yes', 'participant': 'user'}, {'text': 'Do you need any syrup?', 'participant': 'assistant'}, {'text': 'No, thanks', 'participant': 'user'}, {'text': 'Here or takeaway?', 'participant': 'assistant'}], 'topic': 'order latte tea in coffee shop'}, {'messages': [{'text': 'Welcome to our coffee shop, what would you like?', 'participant': 'assistant'}, {'text': 'Tea', 'participant': 'user'}, {'text': 'Which tea would you like?', 'participant': 'assistant'}, {'text': 'Black tea', 'participant': 'user'}, {'text': 'Tea bags or loose tea?', 'participant': 'assistant'}, {'text': 'Takeaway', 'participant': 'user'}, {'text': 'Here or takeaway?', 'participant': 'assistant'}], 'topic': 'order black tea in coffee shop'}]\n"
     ]
    },
    {
     "name": "stderr",
     "output_type": "stream",
     "text": [
      "\n"
     ]
    }
   ],
   "source": [
    "for case in tqdm(data):\n",
    "    print(case['dialogues'])\n",
    "    # dialogues=[Dialogue(messages=x['messages']) for x in case['dialogues']]"
   ]
  },
  {
   "cell_type": "code",
   "execution_count": 23,
   "metadata": {},
   "outputs": [
    {
     "name": "stderr",
     "output_type": "stream",
     "text": [
      "  0%|          | 0/10 [00:00<?, ?it/s]INFO:httpx:HTTP Request: POST https://api.vsegpt.ru/v1/chat/completions \"HTTP/1.1 200 OK\"\n",
      "INFO:httpx:HTTP Request: POST https://api.vsegpt.ru/v1/chat/completions \"HTTP/1.1 200 OK\"\n",
      "INFO:httpx:HTTP Request: POST https://api.vsegpt.ru/v1/chat/completions \"HTTP/1.1 200 OK\"\n",
      "INFO:httpx:HTTP Request: POST https://api.vsegpt.ru/v1/chat/completions \"HTTP/1.1 200 OK\"\n",
      "INFO:httpx:HTTP Request: POST https://api.vsegpt.ru/v1/chat/completions \"HTTP/1.1 200 OK\"\n",
      "INFO:httpx:HTTP Request: POST https://api.vsegpt.ru/v1/chat/completions \"HTTP/1.1 200 OK\"\n",
      "INFO:httpx:HTTP Request: POST https://api.vsegpt.ru/v1/chat/completions \"HTTP/1.1 200 OK\"\n",
      "INFO:httpx:HTTP Request: POST https://api.vsegpt.ru/v1/chat/completions \"HTTP/1.1 200 OK\"\n",
      "INFO:httpx:HTTP Request: POST https://api.vsegpt.ru/v1/chat/completions \"HTTP/1.1 200 OK\"\n",
      "INFO:httpx:HTTP Request: POST https://api.vsegpt.ru/v1/chat/completions \"HTTP/1.1 200 OK\"\n",
      " 10%|█         | 1/10 [00:18<02:43, 18.20s/it]INFO:httpx:HTTP Request: POST https://api.vsegpt.ru/v1/chat/completions \"HTTP/1.1 200 OK\"\n",
      "INFO:httpx:HTTP Request: POST https://api.vsegpt.ru/v1/chat/completions \"HTTP/1.1 200 OK\"\n",
      "INFO:httpx:HTTP Request: POST https://api.vsegpt.ru/v1/chat/completions \"HTTP/1.1 200 OK\"\n",
      "INFO:httpx:HTTP Request: POST https://api.vsegpt.ru/v1/chat/completions \"HTTP/1.1 200 OK\"\n",
      "INFO:httpx:HTTP Request: POST https://api.vsegpt.ru/v1/chat/completions \"HTTP/1.1 200 OK\"\n",
      "INFO:httpx:HTTP Request: POST https://api.vsegpt.ru/v1/chat/completions \"HTTP/1.1 200 OK\"\n",
      "INFO:httpx:HTTP Request: POST https://api.vsegpt.ru/v1/chat/completions \"HTTP/1.1 200 OK\"\n",
      "INFO:httpx:HTTP Request: POST https://api.vsegpt.ru/v1/chat/completions \"HTTP/1.1 200 OK\"\n",
      "INFO:httpx:HTTP Request: POST https://api.vsegpt.ru/v1/chat/completions \"HTTP/1.1 200 OK\"\n",
      "INFO:httpx:HTTP Request: POST https://api.vsegpt.ru/v1/chat/completions \"HTTP/1.1 200 OK\"\n",
      "INFO:httpx:HTTP Request: POST https://api.vsegpt.ru/v1/chat/completions \"HTTP/1.1 200 OK\"\n",
      "INFO:httpx:HTTP Request: POST https://api.vsegpt.ru/v1/chat/completions \"HTTP/1.1 200 OK\"\n",
      " 20%|██        | 2/10 [00:39<02:41, 20.20s/it]INFO:httpx:HTTP Request: POST https://api.vsegpt.ru/v1/chat/completions \"HTTP/1.1 200 OK\"\n",
      "INFO:httpx:HTTP Request: POST https://api.vsegpt.ru/v1/chat/completions \"HTTP/1.1 200 OK\"\n",
      "INFO:httpx:HTTP Request: POST https://api.vsegpt.ru/v1/chat/completions \"HTTP/1.1 200 OK\"\n",
      "INFO:httpx:HTTP Request: POST https://api.vsegpt.ru/v1/chat/completions \"HTTP/1.1 200 OK\"\n",
      "INFO:httpx:HTTP Request: POST https://api.vsegpt.ru/v1/chat/completions \"HTTP/1.1 200 OK\"\n",
      "INFO:httpx:HTTP Request: POST https://api.vsegpt.ru/v1/chat/completions \"HTTP/1.1 200 OK\"\n",
      "INFO:httpx:HTTP Request: POST https://api.vsegpt.ru/v1/chat/completions \"HTTP/1.1 200 OK\"\n",
      "INFO:httpx:HTTP Request: POST https://api.vsegpt.ru/v1/chat/completions \"HTTP/1.1 200 OK\"\n",
      "INFO:httpx:HTTP Request: POST https://api.vsegpt.ru/v1/chat/completions \"HTTP/1.1 200 OK\"\n",
      "INFO:httpx:HTTP Request: POST https://api.vsegpt.ru/v1/chat/completions \"HTTP/1.1 200 OK\"\n",
      " 30%|███       | 3/10 [00:57<02:11, 18.85s/it]INFO:httpx:HTTP Request: POST https://api.vsegpt.ru/v1/chat/completions \"HTTP/1.1 200 OK\"\n",
      "INFO:httpx:HTTP Request: POST https://api.vsegpt.ru/v1/chat/completions \"HTTP/1.1 200 OK\"\n",
      "INFO:httpx:HTTP Request: POST https://api.vsegpt.ru/v1/chat/completions \"HTTP/1.1 200 OK\"\n",
      "INFO:httpx:HTTP Request: POST https://api.vsegpt.ru/v1/chat/completions \"HTTP/1.1 200 OK\"\n",
      "INFO:httpx:HTTP Request: POST https://api.vsegpt.ru/v1/chat/completions \"HTTP/1.1 501 Not Implemented\"\n",
      "INFO:openai._base_client:Retrying request to /chat/completions in 0.411968 seconds\n",
      "INFO:httpx:HTTP Request: POST https://api.vsegpt.ru/v1/chat/completions \"HTTP/1.1 429 Too Many Requests\"\n",
      "INFO:openai._base_client:Retrying request to /chat/completions in 0.901487 seconds\n",
      "INFO:httpx:HTTP Request: POST https://api.vsegpt.ru/v1/chat/completions \"HTTP/1.1 200 OK\"\n",
      "INFO:httpx:HTTP Request: POST https://api.vsegpt.ru/v1/chat/completions \"HTTP/1.1 200 OK\"\n",
      "INFO:httpx:HTTP Request: POST https://api.vsegpt.ru/v1/chat/completions \"HTTP/1.1 200 OK\"\n",
      "INFO:httpx:HTTP Request: POST https://api.vsegpt.ru/v1/chat/completions \"HTTP/1.1 501 Not Implemented\"\n",
      "INFO:openai._base_client:Retrying request to /chat/completions in 0.436327 seconds\n",
      "INFO:httpx:HTTP Request: POST https://api.vsegpt.ru/v1/chat/completions \"HTTP/1.1 429 Too Many Requests\"\n",
      "INFO:openai._base_client:Retrying request to /chat/completions in 0.813024 seconds\n",
      "INFO:httpx:HTTP Request: POST https://api.vsegpt.ru/v1/chat/completions \"HTTP/1.1 200 OK\"\n",
      "INFO:httpx:HTTP Request: POST https://api.vsegpt.ru/v1/chat/completions \"HTTP/1.1 200 OK\"\n",
      "INFO:httpx:HTTP Request: POST https://api.vsegpt.ru/v1/chat/completions \"HTTP/1.1 200 OK\"\n",
      "INFO:httpx:HTTP Request: POST https://api.vsegpt.ru/v1/chat/completions \"HTTP/1.1 200 OK\"\n",
      "INFO:httpx:HTTP Request: POST https://api.vsegpt.ru/v1/chat/completions \"HTTP/1.1 200 OK\"\n",
      "INFO:httpx:HTTP Request: POST https://api.vsegpt.ru/v1/chat/completions \"HTTP/1.1 200 OK\"\n",
      "INFO:httpx:HTTP Request: POST https://api.vsegpt.ru/v1/chat/completions \"HTTP/1.1 200 OK\"\n",
      "INFO:httpx:HTTP Request: POST https://api.vsegpt.ru/v1/chat/completions \"HTTP/1.1 200 OK\"\n",
      "INFO:httpx:HTTP Request: POST https://api.vsegpt.ru/v1/chat/completions \"HTTP/1.1 200 OK\"\n",
      "INFO:httpx:HTTP Request: POST https://api.vsegpt.ru/v1/chat/completions \"HTTP/1.1 200 OK\"\n",
      " 40%|████      | 4/10 [01:34<02:37, 26.30s/it]INFO:httpx:HTTP Request: POST https://api.vsegpt.ru/v1/chat/completions \"HTTP/1.1 200 OK\"\n",
      "INFO:httpx:HTTP Request: POST https://api.vsegpt.ru/v1/chat/completions \"HTTP/1.1 200 OK\"\n",
      "INFO:httpx:HTTP Request: POST https://api.vsegpt.ru/v1/chat/completions \"HTTP/1.1 200 OK\"\n",
      "INFO:httpx:HTTP Request: POST https://api.vsegpt.ru/v1/chat/completions \"HTTP/1.1 200 OK\"\n",
      "INFO:httpx:HTTP Request: POST https://api.vsegpt.ru/v1/chat/completions \"HTTP/1.1 200 OK\"\n",
      "INFO:httpx:HTTP Request: POST https://api.vsegpt.ru/v1/chat/completions \"HTTP/1.1 200 OK\"\n",
      "INFO:httpx:HTTP Request: POST https://api.vsegpt.ru/v1/chat/completions \"HTTP/1.1 200 OK\"\n",
      "INFO:httpx:HTTP Request: POST https://api.vsegpt.ru/v1/chat/completions \"HTTP/1.1 200 OK\"\n",
      "INFO:httpx:HTTP Request: POST https://api.vsegpt.ru/v1/chat/completions \"HTTP/1.1 200 OK\"\n",
      "INFO:httpx:HTTP Request: POST https://api.vsegpt.ru/v1/chat/completions \"HTTP/1.1 200 OK\"\n",
      "INFO:httpx:HTTP Request: POST https://api.vsegpt.ru/v1/chat/completions \"HTTP/1.1 200 OK\"\n",
      "INFO:httpx:HTTP Request: POST https://api.vsegpt.ru/v1/chat/completions \"HTTP/1.1 200 OK\"\n",
      "INFO:httpx:HTTP Request: POST https://api.vsegpt.ru/v1/chat/completions \"HTTP/1.1 200 OK\"\n",
      "INFO:httpx:HTTP Request: POST https://api.vsegpt.ru/v1/chat/completions \"HTTP/1.1 200 OK\"\n",
      "INFO:httpx:HTTP Request: POST https://api.vsegpt.ru/v1/chat/completions \"HTTP/1.1 200 OK\"\n",
      " 50%|█████     | 5/10 [02:02<02:14, 26.87s/it]INFO:httpx:HTTP Request: POST https://api.vsegpt.ru/v1/chat/completions \"HTTP/1.1 200 OK\"\n",
      "INFO:httpx:HTTP Request: POST https://api.vsegpt.ru/v1/chat/completions \"HTTP/1.1 200 OK\"\n",
      "INFO:httpx:HTTP Request: POST https://api.vsegpt.ru/v1/chat/completions \"HTTP/1.1 200 OK\"\n",
      "INFO:httpx:HTTP Request: POST https://api.vsegpt.ru/v1/chat/completions \"HTTP/1.1 200 OK\"\n",
      "INFO:httpx:HTTP Request: POST https://api.vsegpt.ru/v1/chat/completions \"HTTP/1.1 200 OK\"\n",
      "INFO:httpx:HTTP Request: POST https://api.vsegpt.ru/v1/chat/completions \"HTTP/1.1 200 OK\"\n",
      "INFO:httpx:HTTP Request: POST https://api.vsegpt.ru/v1/chat/completions \"HTTP/1.1 200 OK\"\n",
      "INFO:httpx:HTTP Request: POST https://api.vsegpt.ru/v1/chat/completions \"HTTP/1.1 200 OK\"\n",
      "INFO:httpx:HTTP Request: POST https://api.vsegpt.ru/v1/chat/completions \"HTTP/1.1 200 OK\"\n",
      " 60%|██████    | 6/10 [02:18<01:33, 23.26s/it]INFO:httpx:HTTP Request: POST https://api.vsegpt.ru/v1/chat/completions \"HTTP/1.1 200 OK\"\n",
      "INFO:httpx:HTTP Request: POST https://api.vsegpt.ru/v1/chat/completions \"HTTP/1.1 200 OK\"\n",
      "INFO:httpx:HTTP Request: POST https://api.vsegpt.ru/v1/chat/completions \"HTTP/1.1 200 OK\"\n",
      "INFO:httpx:HTTP Request: POST https://api.vsegpt.ru/v1/chat/completions \"HTTP/1.1 200 OK\"\n",
      "INFO:httpx:HTTP Request: POST https://api.vsegpt.ru/v1/chat/completions \"HTTP/1.1 200 OK\"\n",
      "INFO:httpx:HTTP Request: POST https://api.vsegpt.ru/v1/chat/completions \"HTTP/1.1 200 OK\"\n",
      "INFO:httpx:HTTP Request: POST https://api.vsegpt.ru/v1/chat/completions \"HTTP/1.1 200 OK\"\n",
      "INFO:httpx:HTTP Request: POST https://api.vsegpt.ru/v1/chat/completions \"HTTP/1.1 200 OK\"\n",
      "INFO:httpx:HTTP Request: POST https://api.vsegpt.ru/v1/chat/completions \"HTTP/1.1 200 OK\"\n",
      "INFO:httpx:HTTP Request: POST https://api.vsegpt.ru/v1/chat/completions \"HTTP/1.1 200 OK\"\n",
      " 70%|███████   | 7/10 [02:36<01:04, 21.40s/it]INFO:httpx:HTTP Request: POST https://api.vsegpt.ru/v1/chat/completions \"HTTP/1.1 200 OK\"\n",
      "INFO:httpx:HTTP Request: POST https://api.vsegpt.ru/v1/chat/completions \"HTTP/1.1 200 OK\"\n",
      "INFO:httpx:HTTP Request: POST https://api.vsegpt.ru/v1/chat/completions \"HTTP/1.1 200 OK\"\n",
      "INFO:httpx:HTTP Request: POST https://api.vsegpt.ru/v1/chat/completions \"HTTP/1.1 200 OK\"\n",
      "INFO:httpx:HTTP Request: POST https://api.vsegpt.ru/v1/chat/completions \"HTTP/1.1 200 OK\"\n",
      " 80%|████████  | 8/10 [02:44<00:34, 17.11s/it]INFO:httpx:HTTP Request: POST https://api.vsegpt.ru/v1/chat/completions \"HTTP/1.1 200 OK\"\n",
      "INFO:httpx:HTTP Request: POST https://api.vsegpt.ru/v1/chat/completions \"HTTP/1.1 200 OK\"\n",
      "INFO:httpx:HTTP Request: POST https://api.vsegpt.ru/v1/chat/completions \"HTTP/1.1 200 OK\"\n",
      "INFO:httpx:HTTP Request: POST https://api.vsegpt.ru/v1/chat/completions \"HTTP/1.1 200 OK\"\n",
      "INFO:httpx:HTTP Request: POST https://api.vsegpt.ru/v1/chat/completions \"HTTP/1.1 200 OK\"\n",
      "INFO:httpx:HTTP Request: POST https://api.vsegpt.ru/v1/chat/completions \"HTTP/1.1 200 OK\"\n",
      "INFO:httpx:HTTP Request: POST https://api.vsegpt.ru/v1/chat/completions \"HTTP/1.1 200 OK\"\n",
      "INFO:httpx:HTTP Request: POST https://api.vsegpt.ru/v1/chat/completions \"HTTP/1.1 200 OK\"\n",
      " 90%|█████████ | 9/10 [02:59<00:16, 16.50s/it]INFO:httpx:HTTP Request: POST https://api.vsegpt.ru/v1/chat/completions \"HTTP/1.1 200 OK\"\n",
      "INFO:httpx:HTTP Request: POST https://api.vsegpt.ru/v1/chat/completions \"HTTP/1.1 200 OK\"\n",
      "INFO:httpx:HTTP Request: POST https://api.vsegpt.ru/v1/chat/completions \"HTTP/1.1 200 OK\"\n",
      "INFO:httpx:HTTP Request: POST https://api.vsegpt.ru/v1/chat/completions \"HTTP/1.1 200 OK\"\n",
      "INFO:httpx:HTTP Request: POST https://api.vsegpt.ru/v1/chat/completions \"HTTP/1.1 200 OK\"\n",
      "INFO:httpx:HTTP Request: POST https://api.vsegpt.ru/v1/chat/completions \"HTTP/1.1 200 OK\"\n",
      "INFO:httpx:HTTP Request: POST https://api.vsegpt.ru/v1/chat/completions \"HTTP/1.1 200 OK\"\n",
      "INFO:httpx:HTTP Request: POST https://api.vsegpt.ru/v1/chat/completions \"HTTP/1.1 200 OK\"\n",
      "INFO:httpx:HTTP Request: POST https://api.vsegpt.ru/v1/chat/completions \"HTTP/1.1 200 OK\"\n",
      "INFO:httpx:HTTP Request: POST https://api.vsegpt.ru/v1/chat/completions \"HTTP/1.1 200 OK\"\n",
      "INFO:httpx:HTTP Request: POST https://api.vsegpt.ru/v1/chat/completions \"HTTP/1.1 200 OK\"\n",
      "INFO:httpx:HTTP Request: POST https://api.vsegpt.ru/v1/chat/completions \"HTTP/1.1 200 OK\"\n",
      "INFO:httpx:HTTP Request: POST https://api.vsegpt.ru/v1/chat/completions \"HTTP/1.1 200 OK\"\n",
      "100%|██████████| 10/10 [03:23<00:00, 20.33s/it]"
     ]
    },
    {
     "name": "stdout",
     "output_type": "stream",
     "text": [
      "                             topic  are_triplets_valid  \\\n",
      "0                     Tech Support                True   \n",
      "1                    food delivery                True   \n",
      "2      Medical Appointment Booking                True   \n",
      "3                          library                True   \n",
      "4                        auto care                True   \n",
      "5             booking a hotel room                True   \n",
      "6                abstract purchase                True   \n",
      "7  chatting with a smart assistant                True   \n",
      "8          taking a loan in a bank                True   \n",
      "9                      coffee shop                True   \n",
      "\n",
      "   are_triplets_valid_details  is_theme_valid  \\\n",
      "0  All transitions are valid.           False   \n",
      "1  All transitions are valid.            True   \n",
      "2  All transitions are valid.            True   \n",
      "3  All transitions are valid.            True   \n",
      "4  All transitions are valid.            True   \n",
      "5  All transitions are valid.           False   \n",
      "6  All transitions are valid.            True   \n",
      "7  All transitions are valid.            True   \n",
      "8  All transitions are valid.           False   \n",
      "9  All transitions are valid.            True   \n",
      "\n",
      "                              is_theme_valid_details  all_utterances_present  \n",
      "0  The dialog starts on the expected topic of tec...                    True  \n",
      "1  The dialog stays on the expected topic of food...                   False  \n",
      "2  The dialog stays on the expected topic of medi...                    True  \n",
      "3  The dialog stays on the expected topic of a li...                    True  \n",
      "4  The dialog stays on the expected topic of auto...                    True  \n",
      "5  The dialog does not stay on the expected topic...                    True  \n",
      "6  The dialog stays on the expected topic of maki...                    True  \n",
      "7  The dialog stays on the expected topic of chat...                    True  \n",
      "8  The dialog initially starts on the expected to...                    True  \n",
      "9  The dialog stays on the expected topic of a co...                   False  \n"
     ]
    },
    {
     "name": "stderr",
     "output_type": "stream",
     "text": [
      "\n"
     ]
    }
   ],
   "source": [
    "results = []\n",
    "for case in tqdm(data):\n",
    "    case_results = {\"topic\": case[\"topic\"]}\n",
    "    triplets = llm_metrics.are_triplets_valid(G=Graph(case['graph']), model=model)\n",
    "    case_results[\"are_triplets_valid\"] = triplets['value']\n",
    "    case_results['are_triplets_valid_details'] = triplets['description']\n",
    "    themes = llm_metrics.is_theme_valid(G=Graph(case['graph']), topic=case['topic'], model=model)\n",
    "    case_results['is_theme_valid'] = themes['value']\n",
    "    case_results['is_theme_valid_details'] = themes['description']\n",
    "    case_results['all_utterances_present'] = auto_metrics.all_utterances_present(G=Graph(case['graph']), dialogues=[Dialogue(messages=x['messages']) for x in case['dialogues']])\n",
    "\n",
    "    results.append(case_results)\n",
    "\n",
    "df = pd.DataFrame(results)\n",
    "print(df)\n",
    "df.to_csv('results.csv')"
   ]
  },
  {
   "cell_type": "code",
   "execution_count": 24,
   "metadata": {},
   "outputs": [
    {
     "name": "stdout",
     "output_type": "stream",
     "text": [
      "are_triplets_valid: 1.0\n",
      "is_theme_valid: 0.7\n",
      "all_utterances_present: 0.8\n"
     ]
    }
   ],
   "source": [
    "print(f\"are_triplets_valid: {df['are_triplets_valid'].mean()}\")\n",
    "print(f\"is_theme_valid: {df['is_theme_valid'].mean()}\")\n",
    "print(f\"all_utterances_present: {df['all_utterances_present'].mean()}\")"
   ]
  }
 ],
 "metadata": {
  "kernelspec": {
   "display_name": "chatsky-llm-autoconfiguration-VcuUrJCU-py3.11",
   "language": "python",
   "name": "python3"
  },
  "language_info": {
   "codemirror_mode": {
    "name": "ipython",
    "version": 3
   },
   "file_extension": ".py",
   "mimetype": "text/x-python",
   "name": "python",
   "nbconvert_exporter": "python",
   "pygments_lexer": "ipython3",
   "version": "3.11.11"
  }
 },
 "nbformat": 4,
 "nbformat_minor": 2
}
