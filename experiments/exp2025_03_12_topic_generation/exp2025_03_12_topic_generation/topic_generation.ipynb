{
 "cells": [
  {
   "cell_type": "code",
   "execution_count": 2,
   "metadata": {},
   "outputs": [],
   "source": [
    "%load_ext autoreload\n",
    "%autoreload 2"
   ]
  },
  {
   "cell_type": "code",
   "execution_count": 3,
   "metadata": {},
   "outputs": [],
   "source": [
    "import os\n",
    "os.environ['PATH_TO_ENV'] = \"~/projects/chatsky-llm-autoconfig/.env\""
   ]
  },
  {
   "cell_type": "code",
   "execution_count": null,
   "metadata": {},
   "outputs": [],
   "source": [
    "from dialogue2graph.datasets.complex_dialogues.generation import LoopedGraphGenerator\n",
    "from three_stages_0 import ThreeStagesGraphGenerator\n",
    "from three_stages_graph_generation import ThreeStagesGraphGenerator as GrouperGenerator"
   ]
  },
  {
   "cell_type": "code",
   "execution_count": 6,
   "metadata": {},
   "outputs": [],
   "source": [
    "from dialogue2graph.pipelines.core.graph import Graph\n",
    "from dialogue2graph.pipelines.core.dialogue_sampling import RecursiveDialogueSampler\n",
    "from dialogue2graph.datasets.complex_dialogues.prompts import graph_example\n",
    "from dialogue2graph.metrics.llm_metrics import compare_graphs\n",
    "from dialogue2graph.metrics.no_llm_metrics import match_triplets_dg"
   ]
  },
  {
   "cell_type": "code",
   "execution_count": 7,
   "metadata": {},
   "outputs": [],
   "source": [
    "from settings import EnvSettings\n",
    "env_settings = EnvSettings()"
   ]
  },
  {
   "cell_type": "code",
   "execution_count": 8,
   "metadata": {},
   "outputs": [],
   "source": [
    "from langchain.chat_models import ChatOpenAI"
   ]
  },
  {
   "cell_type": "code",
   "execution_count": null,
   "metadata": {},
   "outputs": [],
   "source": [
    "!conda install pygraphviz --y"
   ]
  },
  {
   "cell_type": "code",
   "execution_count": null,
   "metadata": {},
   "outputs": [],
   "source": [
    "Graph(graph_example).visualise_short(\"graph_example\")"
   ]
  },
  {
   "cell_type": "code",
   "execution_count": null,
   "metadata": {},
   "outputs": [],
   "source": [
    "graph_example['nodes']"
   ]
  },
  {
   "cell_type": "code",
   "execution_count": 8,
   "metadata": {},
   "outputs": [],
   "source": [
    "sampler = RecursiveDialogueSampler()"
   ]
  },
  {
   "cell_type": "code",
   "execution_count": null,
   "metadata": {},
   "outputs": [],
   "source": [
    "dias = sampler.invoke(Graph(graph_example),5)"
   ]
  },
  {
   "cell_type": "code",
   "execution_count": null,
   "metadata": {},
   "outputs": [],
   "source": [
    "generation_model = ChatOpenAI(model=\"chatgpt-4o-latest\", api_key=env_settings.OPENAI_API_KEY, base_url=env_settings.OPENAI_BASE_URL, temperature=1)\n",
    "theme_validation_model = ChatOpenAI(model=\"gpt-3.5-turbo\", api_key=env_settings.OPENAI_API_KEY, base_url=env_settings.OPENAI_BASE_URL, temperature=0)\n",
    "validation_model = ChatOpenAI(model=\"gpt-4o-mini\", api_key=env_settings.OPENAI_API_KEY, base_url=env_settings.OPENAI_BASE_URL, temperature=0)"
   ]
  },
  {
   "cell_type": "code",
   "execution_count": 11,
   "metadata": {},
   "outputs": [],
   "source": [
    "topic_generator = LoopedGraphGenerator(generation_model,validation_model, theme_validation_model)"
   ]
  },
  {
   "cell_type": "code",
   "execution_count": null,
   "metadata": {},
   "outputs": [],
   "source": [
    "graph = topic_generator.invoke(\"booking a table\")"
   ]
  },
  {
   "cell_type": "code",
   "execution_count": null,
   "metadata": {},
   "outputs": [],
   "source": [
    "graph"
   ]
  },
  {
   "cell_type": "code",
   "execution_count": null,
   "metadata": {},
   "outputs": [],
   "source": [
    "graph[0]['graph']"
   ]
  },
  {
   "cell_type": "code",
   "execution_count": null,
   "metadata": {},
   "outputs": [],
   "source": [
    "graph[0]['dialogues'][0]"
   ]
  },
  {
   "cell_type": "code",
   "execution_count": 11,
   "metadata": {},
   "outputs": [],
   "source": [
    "graph_c = Graph({'edges': [{'source': 1,\n",
    "   'target': 2,\n",
    "   'utterances': ['I’d like to book a table for dinner.',\n",
    "    'Can you help me reserve a table at a restaurant?']},\n",
    "  {'source': 2,\n",
    "   'target': 3,\n",
    "   'utterances': ['Tomorrow at 7 PM.', 'This Saturday at 8 PM.']},\n",
    "  {'source': 3,\n",
    "   'target': 4,\n",
    "   'utterances': ['For four people.', 'A table for two, please.']},\n",
    "  {'source': 4,\n",
    "   'target': 8,\n",
    "   'utterances': ['Somewhere in downtown would be nice.',\n",
    "    'Anywhere with good Italian food.']},\n",
    "  {'source': 8,\n",
    "   'target': 9,\n",
    "   'utterances': [\"Let's go with Italian.\", 'Chinese sounds good.']},\n",
    "  {'source': 9,\n",
    "   'target': 13,\n",
    "   'utterances': ['Bella Italia sounds perfect.',\n",
    "    'I’ll go with Lotus Garden.']},\n",
    "  {'source': 13,\n",
    "   'target': 5,\n",
    "   'utterances': ['Yes, that works.', 'That sounds great.']},\n",
    "  {'source': 5,\n",
    "   'target': 10,\n",
    "   'utterances': ['Yes, that’s correct.', 'Everything looks good.']},\n",
    "  {'source': 5,\n",
    "   'target': 6,\n",
    "   'utterances': ['Actually, can we change the time to 9 PM?',\n",
    "    \"Let's do a different date instead.\"]},\n",
    "  {'source': 5,\n",
    "   'target': 7,\n",
    "   'utterances': ['Wait, I need to change the number of people.',\n",
    "    'Can we make it for six instead?']},\n",
    "  {'source': 6,\n",
    "   'target': 5,\n",
    "   'utterances': ['Make it 9 PM instead.', \"Let's go for Sunday at 7 PM.\"]},\n",
    "  {'source': 7,\n",
    "   'target': 5,\n",
    "   'utterances': [\"Now it's for three people.\", \"Actually, let's do five.\"]},\n",
    "  {'source': 10,\n",
    "   'target': 11,\n",
    "   'utterances': ['Can I get their phone number and address?',\n",
    "    'Do you have their contact info?']},\n",
    "  {'source': 10,\n",
    "   'target': 12,\n",
    "   'utterances': [\"Nope, that's all. Thanks!\",\n",
    "    'That’s all I needed. Have a great day!']},\n",
    "  {'source': 11,\n",
    "   'target': 12,\n",
    "   'utterances': [\"No, that's all. Thanks!\",\n",
    "    'I’m all set. Have a great day!']}],\n",
    " 'nodes': [{'id': 1,\n",
    "   'label': 'start',\n",
    "   'is_start': True,\n",
    "   'utterances': ['Hey there! How can I help you today?']},\n",
    "  {'id': 2,\n",
    "   'label': 'ask_date_time',\n",
    "   'is_start': False,\n",
    "   'utterances': ['Sure! What date and time would you like to book the table for?']},\n",
    "  {'id': 3,\n",
    "   'label': 'ask_party_size',\n",
    "   'is_start': False,\n",
    "   'utterances': ['Got it. How many people will be joining?']},\n",
    "  {'id': 4,\n",
    "   'label': 'ask_location',\n",
    "   'is_start': False,\n",
    "   'utterances': ['Alright! Do you have a specific location in mind or any preferences?']},\n",
    "  {'id': 5,\n",
    "   'label': 'confirm_details',\n",
    "   'is_start': False,\n",
    "   'utterances': ['Just to confirm, you need a table for {party_size} on {date_time}. Does that sound right?']},\n",
    "  {'id': 6,\n",
    "   'label': 'modification_date_time',\n",
    "   'is_start': False,\n",
    "   'utterances': ['Sure! What new date and time would you like instead?']},\n",
    "  {'id': 7,\n",
    "   'label': 'modification_party_size',\n",
    "   'is_start': False,\n",
    "   'utterances': ['Got it! How many people should I update it to?']},\n",
    "  {'id': 8,\n",
    "   'label': 'offer_options',\n",
    "   'is_start': False,\n",
    "   'utterances': ['There are a few great restaurants available. Would you like Italian, Chinese, or something else?']},\n",
    "  {'id': 9,\n",
    "   'label': 'provide_options',\n",
    "   'is_start': False,\n",
    "   'utterances': ['Sure! You could try Bella Italia for Italian, Lotus Garden for Chinese, or Grill House for a steakhouse experience. Any of these sound good?']},\n",
    "  {'id': 10,\n",
    "   'label': 'confirm_booking',\n",
    "   'is_start': False,\n",
    "   'utterances': [\"Great, I've booked your table at {restaurant_name} for {party_size} on {date_time}. Anything else I can help with?\"]},\n",
    "  {'id': 11,\n",
    "   'label': 'provide_contact_info',\n",
    "   'is_start': False,\n",
    "   'utterances': ['Bella Italia is located at 25 Main Street and you can call them at 555-1234.',\n",
    "    'Grill House is on West Road, and they can be reached at 555-8765.',\n",
    "    'Lotus Garden is at 78 East Avenue and their phone number is 555-5678.']},\n",
    "  {'id': 12,\n",
    "   'label': 'closing',\n",
    "   'is_start': False,\n",
    "   'utterances': ['Thanks for reaching out. Have a great day!',\n",
    "    \"You're all set! Enjoy your meal!\",\n",
    "    'Your reservation is confirmed. Hope you have a wonderful time!']},\n",
    "  {'id': 13,\n",
    "   'label': 'confirm_restaurant',\n",
    "   'is_start': False,\n",
    "   'utterances': ['Great choice! You’d like to book a table at {restaurant_name}, correct?']}]})"
   ]
  },
  {
   "cell_type": "markdown",
   "metadata": {},
   "source": [
    "### Planar"
   ]
  },
  {
   "cell_type": "code",
   "execution_count": null,
   "metadata": {},
   "outputs": [],
   "source": [
    "graph_c.visualise_short(\"Graph\")"
   ]
  },
  {
   "cell_type": "markdown",
   "metadata": {},
   "source": [
    "### Graphviz"
   ]
  },
  {
   "cell_type": "code",
   "execution_count": null,
   "metadata": {},
   "outputs": [],
   "source": [
    "graph_c.visualise_short(\"Graph\")"
   ]
  },
  {
   "cell_type": "code",
   "execution_count": null,
   "metadata": {},
   "outputs": [],
   "source": [
    "graph_c.graph_dict['nodes']"
   ]
  },
  {
   "cell_type": "code",
   "execution_count": null,
   "metadata": {},
   "outputs": [],
   "source": [
    "dias = sampler.invoke(graph_c,5)"
   ]
  },
  {
   "cell_type": "code",
   "execution_count": 39,
   "metadata": {},
   "outputs": [],
   "source": [
    "generator = ThreeStagesGraphGenerator()"
   ]
  },
  {
   "cell_type": "code",
   "execution_count": null,
   "metadata": {},
   "outputs": [],
   "source": [
    "res_graph = generator.invoke(dias, temp=1)"
   ]
  },
  {
   "cell_type": "code",
   "execution_count": null,
   "metadata": {},
   "outputs": [],
   "source": [
    "res_graph = generator.invoke(dias, model_name=\"gpt-4o-2024-11-20\", temp=0)"
   ]
  },
  {
   "cell_type": "code",
   "execution_count": null,
   "metadata": {},
   "outputs": [],
   "source": [
    "res_graph = generator.invoke(dias, model_name=\"gpt-4o\", temp=0)"
   ]
  },
  {
   "cell_type": "code",
   "execution_count": null,
   "metadata": {},
   "outputs": [],
   "source": [
    "res_graph = generator.invoke(dias, model_name=\"o1-mini\", temp=1)"
   ]
  },
  {
   "cell_type": "code",
   "execution_count": null,
   "metadata": {},
   "outputs": [],
   "source": [
    "graph_example"
   ]
  },
  {
   "cell_type": "code",
   "execution_count": null,
   "metadata": {},
   "outputs": [],
   "source": [
    "res_graph.graph_dict"
   ]
  },
  {
   "cell_type": "code",
   "execution_count": null,
   "metadata": {},
   "outputs": [],
   "source": [
    "res_graph.visualise_short(\"Generated from graph dialogues\")"
   ]
  },
  {
   "cell_type": "code",
   "execution_count": null,
   "metadata": {},
   "outputs": [],
   "source": [
    "compare_graphs(res_graph,graph_c)"
   ]
  },
  {
   "cell_type": "code",
   "execution_count": 48,
   "metadata": {},
   "outputs": [],
   "source": [
    "grouper_generator = GrouperGenerator()"
   ]
  },
  {
   "cell_type": "code",
   "execution_count": null,
   "metadata": {},
   "outputs": [],
   "source": [
    "res_graph = grouper_generator.invoke(dias, model_name=\"gpt-4o\", temp=0)"
   ]
  },
  {
   "cell_type": "code",
   "execution_count": null,
   "metadata": {},
   "outputs": [],
   "source": [
    "res_graph.visualise_short(\"Generated from graph dialogues\")"
   ]
  },
  {
   "cell_type": "code",
   "execution_count": null,
   "metadata": {},
   "outputs": [],
   "source": [
    "compare_graphs(res_graph,graph_c)"
   ]
  },
  {
   "cell_type": "code",
   "execution_count": 32,
   "metadata": {},
   "outputs": [],
   "source": [
    "generation_model = ChatOpenAI(model=\"o1-mini\", api_key=env_settings.OPENAI_API_KEY, base_url=env_settings.OPENAI_BASE_URL, temperature=1)\n",
    "theme_validation_model = ChatOpenAI(model=\"gpt-3.5-turbo\", api_key=env_settings.OPENAI_API_KEY, base_url=env_settings.OPENAI_BASE_URL, temperature=0)\n",
    "validation_model = ChatOpenAI(model=\"gpt-3.5-turbo\", api_key=env_settings.OPENAI_API_KEY, base_url=env_settings.OPENAI_BASE_URL, temperature=0)\n",
    "topic_generator = LoopedGraphGenerator(generation_model,validation_model, theme_validation_model)"
   ]
  },
  {
   "cell_type": "code",
   "execution_count": null,
   "metadata": {},
   "outputs": [],
   "source": [
    "graph = topic_generator.invoke(\"booking a cruise package\")"
   ]
  },
  {
   "cell_type": "code",
   "execution_count": null,
   "metadata": {},
   "outputs": [],
   "source": [
    "graph[0]['graph']['nodes']"
   ]
  },
  {
   "cell_type": "code",
   "execution_count": null,
   "metadata": {},
   "outputs": [],
   "source": [
    "graph[0]['graph']['edges']"
   ]
  },
  {
   "cell_type": "code",
   "execution_count": null,
   "metadata": {},
   "outputs": [],
   "source": [
    "Graph(graph[0]['graph']).visualise_short(\"Booking a cruise\")"
   ]
  },
  {
   "cell_type": "code",
   "execution_count": null,
   "metadata": {},
   "outputs": [],
   "source": [
    "dias = sampler.invoke(Graph(graph[0]['graph']),5)"
   ]
  },
  {
   "cell_type": "code",
   "execution_count": null,
   "metadata": {},
   "outputs": [],
   "source": [
    "res_graph = generator.invoke(dias)"
   ]
  },
  {
   "cell_type": "code",
   "execution_count": null,
   "metadata": {},
   "outputs": [],
   "source": [
    "res_graph.visualise_short(\"Booking a Cruise from dialogues\")"
   ]
  },
  {
   "cell_type": "code",
   "execution_count": null,
   "metadata": {},
   "outputs": [],
   "source": [
    "compare_graphs(res_graph,Graph(graph[0]['graph']))"
   ]
  },
  {
   "cell_type": "code",
   "execution_count": null,
   "metadata": {},
   "outputs": [],
   "source": [
    "res_graph = grouper_generator.invoke(dias, model_name=\"gpt-4o\", temp=0)"
   ]
  },
  {
   "cell_type": "code",
   "execution_count": null,
   "metadata": {},
   "outputs": [],
   "source": [
    "res_graph.visualise_short(\"Booking a Cruise from dialogues\")"
   ]
  },
  {
   "cell_type": "code",
   "execution_count": null,
   "metadata": {},
   "outputs": [],
   "source": [
    "compare_graphs(res_graph,Graph(graph[0]['graph']))"
   ]
  },
  {
   "cell_type": "code",
   "execution_count": null,
   "metadata": {},
   "outputs": [],
   "source": [
    "graph = topic_generator.invoke(\"passport renewal application\")"
   ]
  },
  {
   "cell_type": "code",
   "execution_count": null,
   "metadata": {},
   "outputs": [],
   "source": [
    "graph"
   ]
  },
  {
   "cell_type": "code",
   "execution_count": null,
   "metadata": {},
   "outputs": [],
   "source": [
    "Graph(graph[0]['graph']).visualise_short('Passport renewal')"
   ]
  },
  {
   "cell_type": "code",
   "execution_count": null,
   "metadata": {},
   "outputs": [],
   "source": [
    "graph[0]['graph']['nodes']"
   ]
  },
  {
   "cell_type": "code",
   "execution_count": null,
   "metadata": {},
   "outputs": [],
   "source": [
    "dias = sampler.invoke(Graph(graph[0]['graph']),5)"
   ]
  },
  {
   "cell_type": "code",
   "execution_count": null,
   "metadata": {},
   "outputs": [],
   "source": [
    "res_graph = grouper_generator.invoke(dias, model_name=\"gpt-4o\", temp=0)"
   ]
  },
  {
   "cell_type": "code",
   "execution_count": null,
   "metadata": {},
   "outputs": [],
   "source": [
    "compare_graphs(res_graph,Graph(graph[0]['graph']))"
   ]
  },
  {
   "cell_type": "code",
   "execution_count": null,
   "metadata": {},
   "outputs": [],
   "source": [
    "match_triplets_dg(Graph(graph_c), dias)"
   ]
  },
  {
   "cell_type": "code",
   "execution_count": null,
   "metadata": {},
   "outputs": [],
   "source": [
    "dias = sampler.invoke(Graph(graph_example),5)"
   ]
  },
  {
   "cell_type": "code",
   "execution_count": null,
   "metadata": {},
   "outputs": [],
   "source": [
    "match_triplets_dg(Graph(graph_c), dias)"
   ]
  },
  {
   "cell_type": "code",
   "execution_count": 22,
   "metadata": {},
   "outputs": [],
   "source": [
    "from dialogue2graph.metrics.no_llm_metrics import dialogues_are_valid_paths"
   ]
  },
  {
   "cell_type": "code",
   "execution_count": null,
   "metadata": {},
   "outputs": [],
   "source": [
    "dialogues_are_valid_paths(Graph(graph_c), dias)"
   ]
  },
  {
   "cell_type": "code",
   "execution_count": null,
   "metadata": {},
   "outputs": [],
   "source": [
    "dias = sampler.invoke(Graph(graph_example),5)"
   ]
  },
  {
   "cell_type": "code",
   "execution_count": null,
   "metadata": {},
   "outputs": [],
   "source": [
    "dialogues_are_valid_paths(Graph(graph_c), dias)"
   ]
  }
 ],
 "metadata": {
  "kernelspec": {
   "display_name": "py311",
   "language": "python",
   "name": "python3"
  },
  "language_info": {
   "codemirror_mode": {
    "name": "ipython",
    "version": 3
   },
   "file_extension": ".py",
   "mimetype": "text/x-python",
   "name": "python",
   "nbconvert_exporter": "python",
   "pygments_lexer": "ipython3",
   "version": "3.11.11"
  }
 },
 "nbformat": 4,
 "nbformat_minor": 2
}
