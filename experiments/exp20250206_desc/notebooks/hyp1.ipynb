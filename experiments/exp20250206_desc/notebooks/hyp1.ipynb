{
 "cells": [
  {
   "cell_type": "code",
   "execution_count": null,
   "metadata": {},
   "outputs": [],
   "source": [
    "import exp20250206_desc\n",
    "\n",
    "\n",
    "exp20250206_desc.FILE"
   ]
  },
  {
   "cell_type": "code",
   "execution_count": null,
   "metadata": {},
   "outputs": [],
   "source": [
    "import exp20250206_desc\n",
    "import exp20250206_desc.some_code\n",
    "\n",
    "\n",
    "exp20250206_desc.some_code.Class"
   ]
  }
 ],
 "metadata": {
  "language_info": {
   "name": "python"
  }
 },
 "nbformat": 4,
 "nbformat_minor": 2
}
