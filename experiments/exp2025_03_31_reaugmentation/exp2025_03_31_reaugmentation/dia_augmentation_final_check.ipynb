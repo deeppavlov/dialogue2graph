{
 "cells": [
  {
   "cell_type": "code",
   "execution_count": 1,
   "metadata": {},
   "outputs": [
    {
     "data": {
      "text/plain": [
       "True"
      ]
     },
     "execution_count": 1,
     "metadata": {},
     "output_type": "execute_result"
    }
   ],
   "source": [
    "from dotenv import load_dotenv\n",
    "\n",
    "load_dotenv()"
   ]
  },
  {
   "cell_type": "code",
   "execution_count": 2,
   "metadata": {},
   "outputs": [],
   "source": [
    "import os\n",
    "\n",
    "os.environ[\"PATH_TO_ENV\"] = \"~/projects/chatsky-llm-autoconfig/.env\""
   ]
  },
  {
   "cell_type": "code",
   "execution_count": null,
   "metadata": {},
   "outputs": [],
   "source": [
    "from tqdm import tqdm\n",
    "import json\n",
    "import pandas as pd\n",
    "import numpy as np"
   ]
  },
  {
   "cell_type": "code",
   "execution_count": 87,
   "metadata": {},
   "outputs": [],
   "source": [
    "def get_counts(path):\n",
    "    with open(path, \"r\") as fp:\n",
    "        data = json.load(fp)\n",
    "\n",
    "    all_orig_dias, all_aug_dias = 0, 0\n",
    "\n",
    "    for i, example in enumerate(tqdm(data)):\n",
    "        all_orig_dias += len(example[\"dialogues\"])\n",
    "        all_aug_dias += len(example[\"augmented_dialogues\"])\n",
    "    return len(data), all_orig_dias, all_aug_dias"
   ]
  },
  {
   "cell_type": "code",
   "execution_count": 89,
   "metadata": {},
   "outputs": [
    {
     "name": "stderr",
     "output_type": "stream",
     "text": [
      "100%|██████████| 371/371 [00:00<00:00, 1000055.77it/s]\n",
      "100%|██████████| 371/371 [00:00<00:00, 1018381.40it/s]\n",
      "100%|██████████| 376/376 [00:00<00:00, 1012232.54it/s]\n"
     ]
    },
    {
     "data": {
      "text/html": [
       "<div>\n",
       "<style scoped>\n",
       "    .dataframe tbody tr th:only-of-type {\n",
       "        vertical-align: middle;\n",
       "    }\n",
       "\n",
       "    .dataframe tbody tr th {\n",
       "        vertical-align: top;\n",
       "    }\n",
       "\n",
       "    .dataframe thead th {\n",
       "        text-align: right;\n",
       "    }\n",
       "</style>\n",
       "<table border=\"1\" class=\"dataframe\">\n",
       "  <thead>\n",
       "    <tr style=\"text-align: right;\">\n",
       "      <th></th>\n",
       "      <th>dataset_version</th>\n",
       "      <th>graphs</th>\n",
       "      <th>dialogues</th>\n",
       "      <th>augmented_dialogues</th>\n",
       "    </tr>\n",
       "  </thead>\n",
       "  <tbody>\n",
       "    <tr>\n",
       "      <th>0</th>\n",
       "      <td>version_2</td>\n",
       "      <td>371</td>\n",
       "      <td>3648</td>\n",
       "      <td>10944</td>\n",
       "    </tr>\n",
       "    <tr>\n",
       "      <th>1</th>\n",
       "      <td>version_4</td>\n",
       "      <td>371</td>\n",
       "      <td>3671</td>\n",
       "      <td>11013</td>\n",
       "    </tr>\n",
       "    <tr>\n",
       "      <th>2</th>\n",
       "      <td>version_5</td>\n",
       "      <td>376</td>\n",
       "      <td>4104</td>\n",
       "      <td>11560</td>\n",
       "    </tr>\n",
       "  </tbody>\n",
       "</table>\n",
       "</div>"
      ],
      "text/plain": [
       "  dataset_version graphs dialogues augmented_dialogues\n",
       "0       version_2    371      3648               10944\n",
       "1       version_4    371      3671               11013\n",
       "2       version_5    376      4104               11560"
      ]
     },
     "execution_count": 89,
     "metadata": {},
     "output_type": "execute_result"
    }
   ],
   "source": [
    "df = pd.DataFrame(\n",
    "    columns=[\"dataset_version\", \"graphs\", \"dialogues\", \"augmented_dialogues\"],\n",
    "    index=[0, 1, 2],\n",
    ")\n",
    "\n",
    "length, all_orig_dias, all_aug_dias = get_counts(\n",
    "    \"../data/gen_dataset_augmented_0-402_combined_v2.json\"\n",
    ")\n",
    "row = np.array([\"version_2\", length, all_orig_dias, all_aug_dias]).reshape(1, 4)\n",
    "df.loc[0] = row\n",
    "\n",
    "length, all_orig_dias, all_aug_dias = get_counts(\n",
    "    \"../data/gen_dataset_augmented_0-402_combined_v4.json\"\n",
    ")\n",
    "row = np.array([\"version_4\", length, all_orig_dias, all_aug_dias]).reshape(1, 4)\n",
    "df.loc[1] = row\n",
    "\n",
    "length, all_orig_dias, all_aug_dias = get_counts(\n",
    "    \"../data/gen_dataset_augmented_0-402_combined_v5.json\"\n",
    ")\n",
    "row = np.array([\"version_5\", length, all_orig_dias, all_aug_dias]).reshape(1, 4)\n",
    "df.loc[2] = row\n",
    "\n",
    "df"
   ]
  }
 ],
 "metadata": {
  "kernelspec": {
   "display_name": "conda_env_py311",
   "language": "python",
   "name": "python3"
  },
  "language_info": {
   "codemirror_mode": {
    "name": "ipython",
    "version": 3
   },
   "file_extension": ".py",
   "mimetype": "text/x-python",
   "name": "python",
   "nbconvert_exporter": "python",
   "pygments_lexer": "ipython3",
   "version": "3.11.11"
  }
 },
 "nbformat": 4,
 "nbformat_minor": 2
}
