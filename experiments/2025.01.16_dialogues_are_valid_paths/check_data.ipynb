{
 "cells": [
  {
   "cell_type": "code",
   "execution_count": 16,
   "metadata": {},
   "outputs": [],
   "source": [
    "import json\n",
    "import pandas as pd\n",
    "from tqdm import tqdm\n",
    "from langchain_openai  import ChatOpenAI\n",
    "from chatsky_llm_autoconfig.graph import Graph, BaseGraph\n",
    "from chatsky_llm_autoconfig.dialogue import Dialogue"
   ]
  },
  {
   "cell_type": "code",
   "execution_count": 2,
   "metadata": {},
   "outputs": [],
   "source": [
    "%load_ext autoreload\n",
    "%autoreload 2"
   ]
  },
  {
   "cell_type": "code",
   "execution_count": 4,
   "metadata": {},
   "outputs": [
    {
     "name": "stdout",
     "output_type": "stream",
     "text": [
      "/Users/yuriypeshkichev/Projects/ipavlov/chatsky-llm-autoconfig/experiments/2025.0.16_dialogues_are_valid_paths\n"
     ]
    }
   ],
   "source": [
    "from chatsky_llm_autoconfig.metrics.automatic_metrics import dialogues_are_valid_paths"
   ]
  },
  {
   "cell_type": "code",
   "execution_count": 6,
   "metadata": {},
   "outputs": [],
   "source": [
    "def read_json(path):\n",
    "    with open(path, mode=\"r\") as file:\n",
    "        data = file.read()\n",
    "    return json.loads(data)"
   ]
  },
  {
   "cell_type": "code",
   "execution_count": 7,
   "metadata": {},
   "outputs": [],
   "source": [
    "data = read_json(\"../../dev_packages/chatsky_llm_autoconfig/chatsky_llm_autoconfig/autometrics/test_data/new_data.json\")"
   ]
  },
  {
   "cell_type": "code",
   "execution_count": 17,
   "metadata": {},
   "outputs": [
    {
     "name": "stderr",
     "output_type": "stream",
     "text": [
      "100%|██████████| 10/10 [00:00<00:00, 2030.84it/s]"
     ]
    },
    {
     "name": "stdout",
     "output_type": "stream",
     "text": [
      "                             topic  \\\n",
      "0                     Tech Support   \n",
      "1                    food delivery   \n",
      "2      Medical Appointment Booking   \n",
      "3                          library   \n",
      "4                        auto care   \n",
      "5             booking a hotel room   \n",
      "6                abstract purchase   \n",
      "7  chatting with a smart assistant   \n",
      "8          taking a loan in a bank   \n",
      "9                      coffee shop   \n",
      "\n",
      "                           dialogues_are_valid_paths  \n",
      "0   [[True], [True], [True], [True], [True], [True]]  \n",
      "1  [[False, Let me check this order number..., I ...  \n",
      "2                   [[True], [True], [True], [True]]  \n",
      "3  [[True], [True], [True], [False, What book are...  \n",
      "4  [[True], [True], [True], [True], [True], [True...  \n",
      "5                           [[True], [True], [True]]  \n",
      "6                                   [[True], [True]]  \n",
      "7                   [[True], [True], [True], [True]]  \n",
      "8                   [[True], [True], [True], [True]]  \n",
      "9           [[True], [True], [True], [True], [True]]  \n"
     ]
    },
    {
     "name": "stderr",
     "output_type": "stream",
     "text": [
      "\n"
     ]
    }
   ],
   "source": [
    "results = []\n",
    "for case in tqdm(data):\n",
    "    case_results = {\"topic\": case[\"topic\"]}\n",
    "    case_results['dialogues_are_valid_paths'] = dialogues_are_valid_paths(G=Graph(case['graph']), dialogues=[Dialogue(messages=x['messages']) for x in case['dialogues']])\n",
    "\n",
    "    results.append(case_results)\n",
    "\n",
    "df = pd.DataFrame(results)\n",
    "print(df)\n",
    "df.to_csv('results.csv')"
   ]
  },
  {
   "cell_type": "code",
   "execution_count": 22,
   "metadata": {},
   "outputs": [],
   "source": [
    "data = read_json(\"../../dev_packages/chatsky_llm_autoconfig/chatsky_llm_autoconfig/autometrics/test_data/complex_graphs.json\")"
   ]
  },
  {
   "cell_type": "code",
   "execution_count": null,
   "metadata": {},
   "outputs": [],
   "source": [
    "results = []\n",
    "for case in tqdm(data):\n",
    "    case_results = {\"topic\": case[\"topic\"]}\n",
    "    case_results['dialogues_are_valid_paths'] = dialogues_are_valid_paths(G=Graph(case['graph']), dialogues=[Dialogue(messages=x['messages']) for x in case['dialogues']])\n",
    "\n",
    "    results.append(case_results)\n",
    "\n",
    "df = pd.DataFrame(results)\n",
    "print(df)\n",
    "df.to_csv('results.csv')"
   ]
  },
  {
   "cell_type": "code",
   "execution_count": 27,
   "metadata": {},
   "outputs": [],
   "source": [
    "data = read_json(\"../../dev_packages/chatsky_llm_autoconfig/chatsky_llm_autoconfig/autometrics/test_data/ready_graphs.json\")"
   ]
  },
  {
   "cell_type": "code",
   "execution_count": null,
   "metadata": {},
   "outputs": [],
   "source": [
    "results = []\n",
    "for case in tqdm(data):\n",
    "    case_results = {\"topic\": case[\"topic\"]}\n",
    "    case_results['dialogues_are_valid_paths'] = dialogues_are_valid_paths(G=Graph(case['graph']), dialogues=[Dialogue(messages=x['messages']) for x in case['dialogues']])\n",
    "\n",
    "    results.append(case_results)\n",
    "\n",
    "df = pd.DataFrame(results)\n",
    "print(df)\n",
    "df.to_csv('results.csv')"
   ]
  }
 ],
 "metadata": {
  "kernelspec": {
   "display_name": ".venv",
   "language": "python",
   "name": "python3"
  },
  "language_info": {
   "codemirror_mode": {
    "name": "ipython",
    "version": 3
   },
   "file_extension": ".py",
   "mimetype": "text/x-python",
   "name": "python",
   "nbconvert_exporter": "python",
   "pygments_lexer": "ipython3",
   "version": "3.12.8"
  }
 },
 "nbformat": 4,
 "nbformat_minor": 2
}
