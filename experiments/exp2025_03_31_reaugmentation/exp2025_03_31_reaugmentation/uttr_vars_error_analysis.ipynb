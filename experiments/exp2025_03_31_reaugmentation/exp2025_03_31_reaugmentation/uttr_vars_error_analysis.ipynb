{
 "cells": [
  {
   "cell_type": "code",
   "execution_count": 1,
   "metadata": {},
   "outputs": [
    {
     "data": {
      "text/plain": [
       "True"
      ]
     },
     "execution_count": 1,
     "metadata": {},
     "output_type": "execute_result"
    }
   ],
   "source": [
    "from dotenv import load_dotenv\n",
    "\n",
    "load_dotenv()"
   ]
  },
  {
   "cell_type": "code",
   "execution_count": 2,
   "metadata": {},
   "outputs": [],
   "source": [
    "import os\n",
    "\n",
    "os.environ[\"PATH_TO_ENV\"] = \"~/projects/chatsky-llm-autoconfig/.env\""
   ]
  },
  {
   "cell_type": "code",
   "execution_count": 3,
   "metadata": {},
   "outputs": [],
   "source": [
    "from tqdm import tqdm\n",
    "import json\n",
    "import pickle\n",
    "import pandas as pd"
   ]
  },
  {
   "cell_type": "markdown",
   "metadata": {},
   "source": [
    "## 1. Error analysis"
   ]
  },
  {
   "cell_type": "code",
   "execution_count": 19,
   "metadata": {},
   "outputs": [
    {
     "data": {
      "text/plain": [
       "402"
      ]
     },
     "execution_count": 19,
     "metadata": {},
     "output_type": "execute_result"
    }
   ],
   "source": [
    "with open(\"../data/gen_dataset_augmented_0-402_v3\", \"rb\") as file:\n",
    "    data = pickle.load(file)\n",
    "len(data)"
   ]
  },
  {
   "cell_type": "code",
   "execution_count": 20,
   "metadata": {},
   "outputs": [
    {
     "name": "stderr",
     "output_type": "stream",
     "text": [
      "100%|██████████| 402/402 [00:00<00:00, 27423.11it/s]\n"
     ]
    },
    {
     "data": {
      "text/plain": [
       "(49, 4454, 4399, 55)"
      ]
     },
     "execution_count": 20,
     "metadata": {},
     "output_type": "execute_result"
    }
   ],
   "source": [
    "all_lens = []\n",
    "normals, exceptions, errors = [], [], []\n",
    "\n",
    "for i, example in enumerate(tqdm(data)):\n",
    "    augmented_dialogues = example[\"augmented_dialogues\"]\n",
    "\n",
    "    for j, aug_dia in enumerate(augmented_dialogues):\n",
    "        try:\n",
    "            utterances_lists = [turn[\"text\"] for turn in aug_dia[\"messages\"]]\n",
    "            lens = [len(uttr_list) for uttr_list in utterances_lists]\n",
    "            if len(set(lens)) == 1:\n",
    "                normals.append((i, j))\n",
    "            else:\n",
    "                exceptions.append((i, j, lens))\n",
    "                # exceptions.append((i, j))\n",
    "            all_lens.append(lens)\n",
    "        except Exception as e:\n",
    "            errors.append((i, j, e))\n",
    "            # errors.append((i, j))\n",
    "len(errors), len(all_lens), len(normals), len(exceptions)"
   ]
  },
  {
   "cell_type": "code",
   "execution_count": 168,
   "metadata": {},
   "outputs": [
    {
     "data": {
      "text/plain": [
       "[(37, 2, [3, 3, 3, 1, 3, 3, 3, 3, 3, 3, 3, 1, 3, 3, 3, 1, 3]),\n",
       " (37, 3, [3, 3, 3, 1, 3, 3, 3, 3, 3, 3, 3, 1, 3, 3, 3, 3, 3]),\n",
       " (53, 7, [4, 3, 3, 3, 3, 3, 3, 3, 3, 3, 3, 3, 3]),\n",
       " (57, 0, [1, 3, 1, 3, 1, 3, 1, 1, 1]),\n",
       " (57, 6, [2, 3, 2, 3, 2, 3, 2]),\n",
       " (57, 7, [1, 3, 2, 3, 2, 3, 2]),\n",
       " (57, 8, [1, 3, 2, 3, 2, 3, 2]),\n",
       " (67, 4, [1, 3, 1, 3, 1, 3, 1, 3, 1]),\n",
       " (67, 15, [2, 3, 3, 3, 3]),\n",
       " (74, 0, [3, 3, 3, 3, 3, 3, 3, 3, 3, 3, 3, 1, 3]),\n",
       " (74, 4, [3, 3, 3, 3, 3, 3, 3, 3, 3, 3, 3, 2, 3]),\n",
       " (84, 5, [3, 3, 3, 3, 3, 3, 3, 3, 3, 3, 3, 1, 3]),\n",
       " (85, 4, [3, 3, 3, 2, 3, 3, 3, 3, 3, 2, 3, 2, 3, 3, 3]),\n",
       " (90, 4, [1, 2, 1, 2, 1, 2, 1, 1, 1, 1, 1, 1, 1]),\n",
       " (90, 5, [1, 2, 1, 2, 1, 2, 1, 1, 1, 1, 1, 1, 1]),\n",
       " (100, 10, [3, 3, 2, 3, 2, 3, 2, 3, 2, 3, 2, 3, 3]),\n",
       " (114, 0, [1, 3, 1, 3, 1, 2, 1, 2, 1, 2, 1, 2, 1]),\n",
       " (114, 1, [1, 2, 1, 2, 1, 2, 1, 2, 1, 2, 1]),\n",
       " (114, 4, [1, 2, 1, 2, 1, 1, 1, 1, 1]),\n",
       " (114, 5, [1, 3, 1, 2, 1, 1, 1, 1, 1]),\n",
       " (114, 6, [1, 3, 1, 2, 1, 1, 1, 1, 1]),\n",
       " (114, 7, [1, 2, 1, 2, 1, 2, 1, 2, 1]),\n",
       " (207, 6, [1, 3, 2]),\n",
       " (214, 79, [1, 2, 2, 2, 2, 2, 2]),\n",
       " (214, 88, [1, 3, 1]),\n",
       " (214, 90, [1, 3, 2]),\n",
       " (214, 91, [1, 3, 3]),\n",
       " (220, 4, [1, 2, 1, 2, 1, 2, 1, 2, 1, 2, 1, 2, 1, 2, 1]),\n",
       " (221, 4, [1, 2, 1, 2, 1, 1, 1, 1, 1]),\n",
       " (221, 22, [1, 2, 2, 2, 2, 2, 2]),\n",
       " (221, 24, [1, 2, 1, 2, 1, 2, 1]),\n",
       " (221, 27, [1, 2, 1, 1, 1, 1, 1]),\n",
       " (221, 28, [1, 3, 3, 3, 3]),\n",
       " (221, 29, [1, 3, 2, 3, 3]),\n",
       " (221, 30, [1, 3, 1, 3, 1]),\n",
       " (221, 31, [1, 3, 1, 3, 3]),\n",
       " (221, 32, [1, 3, 2, 3, 2]),\n",
       " (221, 33, [1, 2, 1, 1, 1]),\n",
       " (221, 34, [1, 3, 1, 3, 1]),\n",
       " (221, 35, [1, 3, 1, 3, 1]),\n",
       " (222, 0, [3, 3, 3, 1, 3, 1, 3, 1, 3, 1, 3, 1, 3, 1, 3]),\n",
       " (223, 7, [3, 3, 3, 3, 3, 3, 3, 3, 1, 3, 3]),\n",
       " (224, 4, [1, 2, 2, 2, 2, 1, 1, 1, 2, 1, 1]),\n",
       " (228, 1, [1, 2, 1, 2, 1, 2, 1, 2, 1, 2, 1, 2, 1, 2, 1]),\n",
       " (228, 2, [1, 3, 1, 1, 1, 1, 1, 1, 1, 1, 1, 1, 1]),\n",
       " (228, 3, [1, 2, 1, 2, 1, 2, 1, 1, 1]),\n",
       " (230, 5, [1, 2, 1, 2, 1]),\n",
       " (244,\n",
       "  0,\n",
       "  [3, 3, 3, 3, 3, 3, 3, 3, 3, 3, 3, 3, 3, 3, 3, 3, 3, 3, 3, 3, 3, 1, 3]),\n",
       " (255, 6, [1, 2, 1, 2, 1]),\n",
       " (331, 1, [3, 3, 3, 3, 3, 3, 3, 1, 3]),\n",
       " (343, 4, [3, 2, 3, 2, 3, 2, 3, 2, 3, 2, 3, 2, 3]),\n",
       " (343, 5, [2, 1, 2, 1, 2, 1, 2, 1, 2, 1, 2, 1, 2]),\n",
       " (343, 11, [2, 2, 2, 1, 2, 1, 2, 1, 2, 1, 2, 1, 2]),\n",
       " (351, 2, [3, 3, 3, 3, 3, 3, 3, 3, 3, 1, 3]),\n",
       " (400, 1, [3, 3, 3, 1, 3, 1, 3, 1, 3, 1, 3, 1, 3])]"
      ]
     },
     "execution_count": 168,
     "metadata": {},
     "output_type": "execute_result"
    }
   ],
   "source": [
    "exceptions"
   ]
  },
  {
   "cell_type": "code",
   "execution_count": 21,
   "metadata": {},
   "outputs": [
    {
     "name": "stdout",
     "output_type": "stream",
     "text": [
      "25 [37, 53, 57, 67, 74, 84, 85, 90, 100, 114, 207, 214, 220, 221, 222, 223, 224, 228, 230, 244, 255, 331, 343, 351, 400]\n"
     ]
    }
   ],
   "source": [
    "# graphs with length errors\n",
    "graphs = set([graph for graph, _, _ in exceptions])\n",
    "print(len(graphs), sorted(graphs))"
   ]
  },
  {
   "cell_type": "code",
   "execution_count": 22,
   "metadata": {},
   "outputs": [
    {
     "data": {
      "text/html": [
       "<div>\n",
       "<style scoped>\n",
       "    .dataframe tbody tr th:only-of-type {\n",
       "        vertical-align: middle;\n",
       "    }\n",
       "\n",
       "    .dataframe tbody tr th {\n",
       "        vertical-align: top;\n",
       "    }\n",
       "\n",
       "    .dataframe thead th {\n",
       "        text-align: right;\n",
       "    }\n",
       "</style>\n",
       "<table border=\"1\" class=\"dataframe\">\n",
       "  <thead>\n",
       "    <tr style=\"text-align: right;\">\n",
       "      <th></th>\n",
       "      <th>graph</th>\n",
       "      <th>dialogues_total</th>\n",
       "    </tr>\n",
       "  </thead>\n",
       "  <tbody>\n",
       "    <tr>\n",
       "      <th>0</th>\n",
       "      <td>37</td>\n",
       "      <td>8</td>\n",
       "    </tr>\n",
       "    <tr>\n",
       "      <th>1</th>\n",
       "      <td>53</td>\n",
       "      <td>38</td>\n",
       "    </tr>\n",
       "    <tr>\n",
       "      <th>2</th>\n",
       "      <td>57</td>\n",
       "      <td>12</td>\n",
       "    </tr>\n",
       "    <tr>\n",
       "      <th>3</th>\n",
       "      <td>67</td>\n",
       "      <td>17</td>\n",
       "    </tr>\n",
       "    <tr>\n",
       "      <th>4</th>\n",
       "      <td>74</td>\n",
       "      <td>10</td>\n",
       "    </tr>\n",
       "    <tr>\n",
       "      <th>5</th>\n",
       "      <td>84</td>\n",
       "      <td>9</td>\n",
       "    </tr>\n",
       "    <tr>\n",
       "      <th>6</th>\n",
       "      <td>85</td>\n",
       "      <td>9</td>\n",
       "    </tr>\n",
       "    <tr>\n",
       "      <th>7</th>\n",
       "      <td>90</td>\n",
       "      <td>9</td>\n",
       "    </tr>\n",
       "    <tr>\n",
       "      <th>8</th>\n",
       "      <td>100</td>\n",
       "      <td>48</td>\n",
       "    </tr>\n",
       "    <tr>\n",
       "      <th>9</th>\n",
       "      <td>114</td>\n",
       "      <td>11</td>\n",
       "    </tr>\n",
       "    <tr>\n",
       "      <th>10</th>\n",
       "      <td>207</td>\n",
       "      <td>7</td>\n",
       "    </tr>\n",
       "    <tr>\n",
       "      <th>11</th>\n",
       "      <td>214</td>\n",
       "      <td>96</td>\n",
       "    </tr>\n",
       "    <tr>\n",
       "      <th>12</th>\n",
       "      <td>220</td>\n",
       "      <td>69</td>\n",
       "    </tr>\n",
       "    <tr>\n",
       "      <th>13</th>\n",
       "      <td>221</td>\n",
       "      <td>46</td>\n",
       "    </tr>\n",
       "    <tr>\n",
       "      <th>14</th>\n",
       "      <td>222</td>\n",
       "      <td>47</td>\n",
       "    </tr>\n",
       "    <tr>\n",
       "      <th>15</th>\n",
       "      <td>223</td>\n",
       "      <td>12</td>\n",
       "    </tr>\n",
       "    <tr>\n",
       "      <th>16</th>\n",
       "      <td>224</td>\n",
       "      <td>9</td>\n",
       "    </tr>\n",
       "    <tr>\n",
       "      <th>17</th>\n",
       "      <td>228</td>\n",
       "      <td>4</td>\n",
       "    </tr>\n",
       "    <tr>\n",
       "      <th>18</th>\n",
       "      <td>230</td>\n",
       "      <td>9</td>\n",
       "    </tr>\n",
       "    <tr>\n",
       "      <th>19</th>\n",
       "      <td>244</td>\n",
       "      <td>2</td>\n",
       "    </tr>\n",
       "    <tr>\n",
       "      <th>20</th>\n",
       "      <td>255</td>\n",
       "      <td>7</td>\n",
       "    </tr>\n",
       "    <tr>\n",
       "      <th>21</th>\n",
       "      <td>331</td>\n",
       "      <td>7</td>\n",
       "    </tr>\n",
       "    <tr>\n",
       "      <th>22</th>\n",
       "      <td>343</td>\n",
       "      <td>13</td>\n",
       "    </tr>\n",
       "    <tr>\n",
       "      <th>23</th>\n",
       "      <td>351</td>\n",
       "      <td>11</td>\n",
       "    </tr>\n",
       "    <tr>\n",
       "      <th>24</th>\n",
       "      <td>400</td>\n",
       "      <td>7</td>\n",
       "    </tr>\n",
       "  </tbody>\n",
       "</table>\n",
       "</div>"
      ],
      "text/plain": [
       "    graph  dialogues_total\n",
       "0      37                8\n",
       "1      53               38\n",
       "2      57               12\n",
       "3      67               17\n",
       "4      74               10\n",
       "5      84                9\n",
       "6      85                9\n",
       "7      90                9\n",
       "8     100               48\n",
       "9     114               11\n",
       "10    207                7\n",
       "11    214               96\n",
       "12    220               69\n",
       "13    221               46\n",
       "14    222               47\n",
       "15    223               12\n",
       "16    224                9\n",
       "17    228                4\n",
       "18    230                9\n",
       "19    244                2\n",
       "20    255                7\n",
       "21    331                7\n",
       "22    343               13\n",
       "23    351               11\n",
       "24    400                7"
      ]
     },
     "execution_count": 22,
     "metadata": {},
     "output_type": "execute_result"
    }
   ],
   "source": [
    "dialogues_total = []\n",
    "for graph in sorted(graphs):\n",
    "    dialogues_total.append((graph, len(data[graph][\"dialogues\"])))\n",
    "tmp = pd.DataFrame(dialogues_total, columns=[\"graph\", \"dialogues_total\"])\n",
    "tmp"
   ]
  },
  {
   "cell_type": "code",
   "execution_count": 23,
   "metadata": {},
   "outputs": [
    {
     "data": {
      "text/html": [
       "<div>\n",
       "<style scoped>\n",
       "    .dataframe tbody tr th:only-of-type {\n",
       "        vertical-align: middle;\n",
       "    }\n",
       "\n",
       "    .dataframe tbody tr th {\n",
       "        vertical-align: top;\n",
       "    }\n",
       "\n",
       "    .dataframe thead th {\n",
       "        text-align: right;\n",
       "    }\n",
       "</style>\n",
       "<table border=\"1\" class=\"dataframe\">\n",
       "  <thead>\n",
       "    <tr style=\"text-align: right;\">\n",
       "      <th></th>\n",
       "      <th>graph</th>\n",
       "      <th>dialogue</th>\n",
       "      <th>length_error</th>\n",
       "      <th>dialogues_total</th>\n",
       "    </tr>\n",
       "  </thead>\n",
       "  <tbody>\n",
       "    <tr>\n",
       "      <th>0</th>\n",
       "      <td>37</td>\n",
       "      <td>2</td>\n",
       "      <td>2</td>\n",
       "      <td>8</td>\n",
       "    </tr>\n",
       "    <tr>\n",
       "      <th>1</th>\n",
       "      <td>53</td>\n",
       "      <td>1</td>\n",
       "      <td>1</td>\n",
       "      <td>38</td>\n",
       "    </tr>\n",
       "    <tr>\n",
       "      <th>2</th>\n",
       "      <td>57</td>\n",
       "      <td>4</td>\n",
       "      <td>4</td>\n",
       "      <td>12</td>\n",
       "    </tr>\n",
       "    <tr>\n",
       "      <th>3</th>\n",
       "      <td>67</td>\n",
       "      <td>2</td>\n",
       "      <td>2</td>\n",
       "      <td>17</td>\n",
       "    </tr>\n",
       "    <tr>\n",
       "      <th>4</th>\n",
       "      <td>74</td>\n",
       "      <td>2</td>\n",
       "      <td>2</td>\n",
       "      <td>10</td>\n",
       "    </tr>\n",
       "    <tr>\n",
       "      <th>5</th>\n",
       "      <td>84</td>\n",
       "      <td>1</td>\n",
       "      <td>1</td>\n",
       "      <td>9</td>\n",
       "    </tr>\n",
       "    <tr>\n",
       "      <th>6</th>\n",
       "      <td>85</td>\n",
       "      <td>1</td>\n",
       "      <td>1</td>\n",
       "      <td>9</td>\n",
       "    </tr>\n",
       "    <tr>\n",
       "      <th>7</th>\n",
       "      <td>90</td>\n",
       "      <td>2</td>\n",
       "      <td>2</td>\n",
       "      <td>9</td>\n",
       "    </tr>\n",
       "    <tr>\n",
       "      <th>8</th>\n",
       "      <td>100</td>\n",
       "      <td>1</td>\n",
       "      <td>1</td>\n",
       "      <td>48</td>\n",
       "    </tr>\n",
       "    <tr>\n",
       "      <th>9</th>\n",
       "      <td>114</td>\n",
       "      <td>6</td>\n",
       "      <td>6</td>\n",
       "      <td>11</td>\n",
       "    </tr>\n",
       "    <tr>\n",
       "      <th>10</th>\n",
       "      <td>207</td>\n",
       "      <td>1</td>\n",
       "      <td>1</td>\n",
       "      <td>7</td>\n",
       "    </tr>\n",
       "    <tr>\n",
       "      <th>11</th>\n",
       "      <td>214</td>\n",
       "      <td>4</td>\n",
       "      <td>4</td>\n",
       "      <td>96</td>\n",
       "    </tr>\n",
       "    <tr>\n",
       "      <th>12</th>\n",
       "      <td>220</td>\n",
       "      <td>1</td>\n",
       "      <td>1</td>\n",
       "      <td>69</td>\n",
       "    </tr>\n",
       "    <tr>\n",
       "      <th>13</th>\n",
       "      <td>221</td>\n",
       "      <td>12</td>\n",
       "      <td>12</td>\n",
       "      <td>46</td>\n",
       "    </tr>\n",
       "    <tr>\n",
       "      <th>14</th>\n",
       "      <td>222</td>\n",
       "      <td>1</td>\n",
       "      <td>1</td>\n",
       "      <td>47</td>\n",
       "    </tr>\n",
       "    <tr>\n",
       "      <th>15</th>\n",
       "      <td>223</td>\n",
       "      <td>1</td>\n",
       "      <td>1</td>\n",
       "      <td>12</td>\n",
       "    </tr>\n",
       "    <tr>\n",
       "      <th>16</th>\n",
       "      <td>224</td>\n",
       "      <td>1</td>\n",
       "      <td>1</td>\n",
       "      <td>9</td>\n",
       "    </tr>\n",
       "    <tr>\n",
       "      <th>17</th>\n",
       "      <td>228</td>\n",
       "      <td>3</td>\n",
       "      <td>3</td>\n",
       "      <td>4</td>\n",
       "    </tr>\n",
       "    <tr>\n",
       "      <th>18</th>\n",
       "      <td>230</td>\n",
       "      <td>1</td>\n",
       "      <td>1</td>\n",
       "      <td>9</td>\n",
       "    </tr>\n",
       "    <tr>\n",
       "      <th>19</th>\n",
       "      <td>244</td>\n",
       "      <td>1</td>\n",
       "      <td>1</td>\n",
       "      <td>2</td>\n",
       "    </tr>\n",
       "    <tr>\n",
       "      <th>20</th>\n",
       "      <td>255</td>\n",
       "      <td>1</td>\n",
       "      <td>1</td>\n",
       "      <td>7</td>\n",
       "    </tr>\n",
       "    <tr>\n",
       "      <th>21</th>\n",
       "      <td>331</td>\n",
       "      <td>1</td>\n",
       "      <td>1</td>\n",
       "      <td>7</td>\n",
       "    </tr>\n",
       "    <tr>\n",
       "      <th>22</th>\n",
       "      <td>343</td>\n",
       "      <td>3</td>\n",
       "      <td>3</td>\n",
       "      <td>13</td>\n",
       "    </tr>\n",
       "    <tr>\n",
       "      <th>23</th>\n",
       "      <td>351</td>\n",
       "      <td>1</td>\n",
       "      <td>1</td>\n",
       "      <td>11</td>\n",
       "    </tr>\n",
       "    <tr>\n",
       "      <th>24</th>\n",
       "      <td>400</td>\n",
       "      <td>1</td>\n",
       "      <td>1</td>\n",
       "      <td>7</td>\n",
       "    </tr>\n",
       "  </tbody>\n",
       "</table>\n",
       "</div>"
      ],
      "text/plain": [
       "    graph  dialogue  length_error  dialogues_total\n",
       "0      37         2             2                8\n",
       "1      53         1             1               38\n",
       "2      57         4             4               12\n",
       "3      67         2             2               17\n",
       "4      74         2             2               10\n",
       "5      84         1             1                9\n",
       "6      85         1             1                9\n",
       "7      90         2             2                9\n",
       "8     100         1             1               48\n",
       "9     114         6             6               11\n",
       "10    207         1             1                7\n",
       "11    214         4             4               96\n",
       "12    220         1             1               69\n",
       "13    221        12            12               46\n",
       "14    222         1             1               47\n",
       "15    223         1             1               12\n",
       "16    224         1             1                9\n",
       "17    228         3             3                4\n",
       "18    230         1             1                9\n",
       "19    244         1             1                2\n",
       "20    255         1             1                7\n",
       "21    331         1             1                7\n",
       "22    343         3             3               13\n",
       "23    351         1             1               11\n",
       "24    400         1             1                7"
      ]
     },
     "execution_count": 23,
     "metadata": {},
     "output_type": "execute_result"
    }
   ],
   "source": [
    "df = pd.DataFrame(exceptions, columns=[\"graph\", \"dialogue\", \"length_error\"])\n",
    "df.groupby(\"graph\").count().reset_index().join(tmp, rsuffix=\"_\").drop(\n",
    "    columns=[\"graph_\"]\n",
    ")"
   ]
  },
  {
   "cell_type": "code",
   "execution_count": 24,
   "metadata": {},
   "outputs": [
    {
     "data": {
      "text/html": [
       "<div>\n",
       "<style scoped>\n",
       "    .dataframe tbody tr th:only-of-type {\n",
       "        vertical-align: middle;\n",
       "    }\n",
       "\n",
       "    .dataframe tbody tr th {\n",
       "        vertical-align: top;\n",
       "    }\n",
       "\n",
       "    .dataframe thead th {\n",
       "        text-align: right;\n",
       "    }\n",
       "</style>\n",
       "<table border=\"1\" class=\"dataframe\">\n",
       "  <thead>\n",
       "    <tr style=\"text-align: right;\">\n",
       "      <th></th>\n",
       "      <th>graph</th>\n",
       "      <th>dialogue</th>\n",
       "      <th>length_error</th>\n",
       "    </tr>\n",
       "  </thead>\n",
       "  <tbody>\n",
       "    <tr>\n",
       "      <th>3</th>\n",
       "      <td>57</td>\n",
       "      <td>0</td>\n",
       "      <td>[1, 3, 1, 3, 1, 3, 1, 1, 1]</td>\n",
       "    </tr>\n",
       "    <tr>\n",
       "      <th>4</th>\n",
       "      <td>57</td>\n",
       "      <td>6</td>\n",
       "      <td>[2, 3, 2, 3, 2, 3, 2]</td>\n",
       "    </tr>\n",
       "    <tr>\n",
       "      <th>5</th>\n",
       "      <td>57</td>\n",
       "      <td>7</td>\n",
       "      <td>[1, 3, 2, 3, 2, 3, 2]</td>\n",
       "    </tr>\n",
       "    <tr>\n",
       "      <th>6</th>\n",
       "      <td>57</td>\n",
       "      <td>8</td>\n",
       "      <td>[1, 3, 2, 3, 2, 3, 2]</td>\n",
       "    </tr>\n",
       "  </tbody>\n",
       "</table>\n",
       "</div>"
      ],
      "text/plain": [
       "   graph  dialogue                 length_error\n",
       "3     57         0  [1, 3, 1, 3, 1, 3, 1, 1, 1]\n",
       "4     57         6        [2, 3, 2, 3, 2, 3, 2]\n",
       "5     57         7        [1, 3, 2, 3, 2, 3, 2]\n",
       "6     57         8        [1, 3, 2, 3, 2, 3, 2]"
      ]
     },
     "execution_count": 24,
     "metadata": {},
     "output_type": "execute_result"
    }
   ],
   "source": [
    "df.loc[df[\"graph\"] == 57]"
   ]
  },
  {
   "cell_type": "code",
   "execution_count": null,
   "metadata": {},
   "outputs": [
    {
     "data": {
      "text/plain": [
       "array([list([1, 2, 1, 2, 1])], dtype=object)"
      ]
     },
     "execution_count": 149,
     "metadata": {},
     "output_type": "execute_result"
    }
   ],
   "source": [
    "df.loc[df[\"graph\"] == 23355][\"length_error\"].values"
   ]
  },
  {
   "cell_type": "code",
   "execution_count": 31,
   "metadata": {},
   "outputs": [
    {
     "data": {
      "text/plain": [
       "{'id': 'Canceling a service due to a duplicate purchase_1_2',\n",
       " 'messages': [{'participant': 'assistant',\n",
       "   'text': 'Hello! How can I assist you today?'},\n",
       "  {'participant': 'user', 'text': 'I want to cancel my service.'},\n",
       "  {'participant': 'assistant',\n",
       "   'text': \"I'm sorry to hear you'd like to cancel a service. Could you please provide your account number?\"},\n",
       "  {'participant': 'user', 'text': '123456'},\n",
       "  {'participant': 'assistant',\n",
       "   'text': 'Thank you. I see that there are two purchases for the same service on your account. How would you like to proceed?'},\n",
       "  {'participant': 'user', 'text': 'Please cancel my duplicate service.'},\n",
       "  {'participant': 'assistant',\n",
       "   'text': 'Your duplicate purchase has been canceled. Is there anything else I can help you with?'},\n",
       "  {'participant': 'user',\n",
       "   'text': 'Actually, I need help with something else.'},\n",
       "  {'participant': 'assistant',\n",
       "   'text': 'Sure, what else would you like help with?'},\n",
       "  {'participant': 'user',\n",
       "   'text': 'Actually, I need to cancel another purchase.'},\n",
       "  {'participant': 'assistant',\n",
       "   'text': \"I'm sorry to hear you'd like to cancel a service. Could you please provide your account number?\"},\n",
       "  {'participant': 'user', 'text': '123456'},\n",
       "  {'participant': 'assistant',\n",
       "   'text': 'Thank you. I see that there are two purchases for the same service on your account. How would you like to proceed?'},\n",
       "  {'participant': 'user', 'text': \"I'd like to keep both purchases.\"},\n",
       "  {'participant': 'assistant',\n",
       "   'text': \"I understand you'd like to keep both purchases. Is there anything else I can assist you with?\"},\n",
       "  {'participant': 'user', 'text': 'No, thanks.'},\n",
       "  {'participant': 'assistant',\n",
       "   'text': 'Thank you for contacting us. Have a great day!'}]}"
      ]
     },
     "execution_count": 31,
     "metadata": {},
     "output_type": "execute_result"
    }
   ],
   "source": [
    "data[37][\"dialogues\"][2]"
   ]
  },
  {
   "cell_type": "code",
   "execution_count": 165,
   "metadata": {},
   "outputs": [
    {
     "data": {
      "text/plain": [
       "{'id': 'Providing emergency contact details._1_1',\n",
       " 'messages': [{'participant': 'assistant',\n",
       "   'text': ['Hi there! How can I help you today?',\n",
       "    'Hello! What can I do for you today?',\n",
       "    'Greetings! How may I assist you?']},\n",
       "  {'participant': 'user',\n",
       "   'text': ['I want to update my emergency contact information.',\n",
       "    'I need to change my emergency contact details.',\n",
       "    'I’d like to modify my emergency contact info.']},\n",
       "  {'participant': 'assistant',\n",
       "   'text': ['Of course, I can assist with that. Can you share the name of your emergency contact?',\n",
       "    'Absolutely! Please tell me the name of your emergency contact.',\n",
       "    'Sure thing! What is the name of your emergency contact?']},\n",
       "  {'participant': 'user', 'text': ['John D.']},\n",
       "  {'participant': 'assistant',\n",
       "   'text': ['Awesome! Can you give me their phone number?',\n",
       "    'Perfect. What’s their phone number?',\n",
       "    'Great! Please provide their contact number.']},\n",
       "  {'participant': 'user', 'text': ['555-1234']},\n",
       "  {'participant': 'assistant',\n",
       "   'text': ['Thanks! Would you like to add another emergency contact?',\n",
       "    'I appreciate it! Do you want to include another emergency contact?',\n",
       "    'Thank you! Should we add another emergency contact?']},\n",
       "  {'participant': 'user', 'text': ['Yes, I want to add another contact.']},\n",
       "  {'participant': 'assistant',\n",
       "   'text': ['Please share the name of the second emergency contact.',\n",
       "    'Could you tell me the name of your second emergency contact?',\n",
       "    'What is the name of the additional emergency contact?']},\n",
       "  {'participant': 'user', 'text': ['Jane Smith']},\n",
       "  {'participant': 'assistant',\n",
       "   'text': ['Can you provide their phone number?',\n",
       "    'What’s their contact number, please?',\n",
       "    'Could you let me know their phone number?']},\n",
       "  {'participant': 'user', 'text': ['555-5678']},\n",
       "  {'participant': 'assistant',\n",
       "   'text': ['Thank you! Would you like to add yet another emergency contact?',\n",
       "    'Thanks! Do you wish to include one more emergency contact?',\n",
       "    'I appreciate it! Should we add one more emergency contact?']}]}"
      ]
     },
     "execution_count": 165,
     "metadata": {},
     "output_type": "execute_result"
    }
   ],
   "source": [
    "data[400][\"augmented_dialogues\"][1]"
   ]
  },
  {
   "cell_type": "markdown",
   "metadata": {},
   "source": [
    "## 2. Re-augmentation"
   ]
  },
  {
   "cell_type": "code",
   "execution_count": 7,
   "metadata": {},
   "outputs": [],
   "source": [
    "from augmentation_prompts import variations_augmentation_prompt_10\n",
    "from dialogue_augmentation import augment_dialogue"
   ]
  },
  {
   "cell_type": "code",
   "execution_count": 4,
   "metadata": {},
   "outputs": [
    {
     "data": {
      "text/plain": [
       "402"
      ]
     },
     "execution_count": 4,
     "metadata": {},
     "output_type": "execute_result"
    }
   ],
   "source": [
    "with open(\"../data/gen_dataset_augmented_0-402_v3\", \"rb\") as file:\n",
    "    data = pickle.load(file)\n",
    "len(data)"
   ]
  },
  {
   "cell_type": "code",
   "execution_count": 5,
   "metadata": {},
   "outputs": [
    {
     "data": {
      "text/plain": [
       "28"
      ]
     },
     "execution_count": 5,
     "metadata": {},
     "output_type": "execute_result"
    }
   ],
   "source": [
    "examples_for_reaugmentation = [\n",
    "    (57, 0),\n",
    "    (57, 6),\n",
    "    (57, 7),\n",
    "    (57, 8),\n",
    "    (67, 15),\n",
    "    (74, 0),\n",
    "    (74, 4),\n",
    "    (84, 5),\n",
    "    (85, 4),\n",
    "    (100, 10),\n",
    "    (114, 0),\n",
    "    (207, 6),\n",
    "    (214, 79),\n",
    "    (214, 88),\n",
    "    (214, 90),\n",
    "    (214, 91),\n",
    "    (221, 22),\n",
    "    (221, 24),\n",
    "    (221, 27),\n",
    "    (221, 32),\n",
    "    (221, 33),\n",
    "    (221, 34),\n",
    "    (221, 35),\n",
    "    (228, 3),\n",
    "    (230, 5),\n",
    "    (255, 6),\n",
    "    (331, 1),\n",
    "    (351, 2),\n",
    "]\n",
    "len(examples_for_reaugmentation)"
   ]
  },
  {
   "cell_type": "code",
   "execution_count": 10,
   "metadata": {},
   "outputs": [
    {
     "name": "stdout",
     "output_type": "stream",
     "text": [
      "Augmenting example 57 dialogue 0\n",
      "Augmenting example 57 dialogue 6\n",
      "Augmenting example 57 dialogue 7\n",
      "Augmenting example 57 dialogue 8\n",
      "Augmenting example 67 dialogue 15\n",
      "Augmenting example 74 dialogue 0\n",
      "Augmenting example 74 dialogue 4\n",
      "Augmenting example 84 dialogue 5\n",
      "Augmenting example 85 dialogue 4\n",
      "Augmenting example 100 dialogue 10\n",
      "Augmenting example 114 dialogue 0\n",
      "Augmenting example 207 dialogue 6\n",
      "Augmenting example 214 dialogue 79\n",
      "Augmenting example 214 dialogue 88\n",
      "Augmenting example 214 dialogue 90\n",
      "Augmenting example 214 dialogue 91\n",
      "Augmenting example 221 dialogue 22\n",
      "Augmenting example 221 dialogue 24\n",
      "Augmenting example 221 dialogue 27\n",
      "Augmenting example 221 dialogue 32\n",
      "Augmenting example 221 dialogue 33\n",
      "Augmenting example 221 dialogue 34\n",
      "Augmenting example 221 dialogue 35\n",
      "Augmenting example 228 dialogue 3\n",
      "Augmenting example 230 dialogue 5\n",
      "Augmenting example 255 dialogue 6\n",
      "Augmenting example 331 dialogue 1\n",
      "Augmenting example 351 dialogue 2\n"
     ]
    }
   ],
   "source": [
    "for i, j in examples_for_reaugmentation:\n",
    "    print(f\"Augmenting example {i} dialogue {j}\")\n",
    "    topic = data[i][\"topic\"]\n",
    "    orig_dialogue = data[i][\"dialogues\"][j][\"messages\"]\n",
    "\n",
    "    try:\n",
    "        aug_dialogue = augment_dialogue(\n",
    "            orig_dialogue,\n",
    "            topic,\n",
    "            variations_augmentation_prompt_10,\n",
    "            \"gpt-4o-mini-2024-07-18\",\n",
    "        )\n",
    "    except Exception as e:\n",
    "        aug_dialogue = e\n",
    "\n",
    "    data[i][\"augmented_dialogues\"][j][\"messages\"] = aug_dialogue\n",
    "\n",
    "with open(\"../data/gen_dataset_augmented_0-402_v4\", \"wb\") as file:\n",
    "    pickle.dump(data, file)"
   ]
  },
  {
   "cell_type": "code",
   "execution_count": null,
   "metadata": {},
   "outputs": [
    {
     "data": {
      "text/plain": [
       "402"
      ]
     },
     "execution_count": 6,
     "metadata": {},
     "output_type": "execute_result"
    }
   ],
   "source": [
    "with open(\"../data/gen_dataset_augmented_0-402_v4\", \"rb\") as file:\n",
    "    data = pickle.load(file)\n",
    "len(data)"
   ]
  },
  {
   "cell_type": "code",
   "execution_count": 7,
   "metadata": {},
   "outputs": [
    {
     "name": "stderr",
     "output_type": "stream",
     "text": [
      "100%|██████████| 402/402 [00:00<00:00, 20863.05it/s]\n"
     ]
    },
    {
     "data": {
      "text/plain": [
       "(49, 4454, 4421, 33)"
      ]
     },
     "execution_count": 7,
     "metadata": {},
     "output_type": "execute_result"
    }
   ],
   "source": [
    "all_lens = []\n",
    "normals, exceptions, errors = [], [], []\n",
    "\n",
    "for i, example in enumerate(tqdm(data)):\n",
    "    augmented_dialogues = example[\"augmented_dialogues\"]\n",
    "\n",
    "    for j, aug_dia in enumerate(augmented_dialogues):\n",
    "        try:\n",
    "            utterances_lists = [turn[\"text\"] for turn in aug_dia[\"messages\"]]\n",
    "            lens = [len(uttr_list) for uttr_list in utterances_lists]\n",
    "            if len(set(lens)) == 1:\n",
    "                normals.append((i, j))\n",
    "            else:\n",
    "                # exceptions.append((i, j, lens))\n",
    "                exceptions.append((i, j, aug_dia[\"id\"]))\n",
    "                # exceptions.append((i, j))\n",
    "            all_lens.append(lens)\n",
    "        except Exception as e:\n",
    "            errors.append((i, j, e))\n",
    "            # errors.append((i, j))\n",
    "len(errors), len(all_lens), len(normals), len(exceptions)"
   ]
  },
  {
   "cell_type": "code",
   "execution_count": 8,
   "metadata": {},
   "outputs": [
    {
     "name": "stdout",
     "output_type": "stream",
     "text": [
      "57 6\n",
      "57 7\n",
      "57 8\n",
      "74 0\n",
      "221 33\n",
      "221 35\n"
     ]
    }
   ],
   "source": [
    "for i, j in examples_for_reaugmentation:\n",
    "    if (i, j) in [(k, l) for (k, l, _) in exceptions]:\n",
    "        print(i, j)"
   ]
  },
  {
   "cell_type": "code",
   "execution_count": 9,
   "metadata": {},
   "outputs": [
    {
     "name": "stdout",
     "output_type": "stream",
     "text": [
      "16 [37, 53, 57, 67, 74, 90, 114, 220, 221, 222, 223, 224, 228, 244, 343, 400]\n"
     ]
    }
   ],
   "source": [
    "# graphs with length errors\n",
    "graphs = set([graph for graph, _, _ in exceptions])\n",
    "print(len(graphs), sorted(graphs))"
   ]
  },
  {
   "cell_type": "code",
   "execution_count": 10,
   "metadata": {},
   "outputs": [
    {
     "data": {
      "text/html": [
       "<div>\n",
       "<style scoped>\n",
       "    .dataframe tbody tr th:only-of-type {\n",
       "        vertical-align: middle;\n",
       "    }\n",
       "\n",
       "    .dataframe tbody tr th {\n",
       "        vertical-align: top;\n",
       "    }\n",
       "\n",
       "    .dataframe thead th {\n",
       "        text-align: right;\n",
       "    }\n",
       "</style>\n",
       "<table border=\"1\" class=\"dataframe\">\n",
       "  <thead>\n",
       "    <tr style=\"text-align: right;\">\n",
       "      <th></th>\n",
       "      <th>graph</th>\n",
       "      <th>dialogues_total</th>\n",
       "    </tr>\n",
       "  </thead>\n",
       "  <tbody>\n",
       "    <tr>\n",
       "      <th>0</th>\n",
       "      <td>37</td>\n",
       "      <td>8</td>\n",
       "    </tr>\n",
       "    <tr>\n",
       "      <th>1</th>\n",
       "      <td>53</td>\n",
       "      <td>38</td>\n",
       "    </tr>\n",
       "    <tr>\n",
       "      <th>2</th>\n",
       "      <td>57</td>\n",
       "      <td>12</td>\n",
       "    </tr>\n",
       "    <tr>\n",
       "      <th>3</th>\n",
       "      <td>67</td>\n",
       "      <td>17</td>\n",
       "    </tr>\n",
       "    <tr>\n",
       "      <th>4</th>\n",
       "      <td>74</td>\n",
       "      <td>10</td>\n",
       "    </tr>\n",
       "    <tr>\n",
       "      <th>5</th>\n",
       "      <td>90</td>\n",
       "      <td>9</td>\n",
       "    </tr>\n",
       "    <tr>\n",
       "      <th>6</th>\n",
       "      <td>114</td>\n",
       "      <td>11</td>\n",
       "    </tr>\n",
       "    <tr>\n",
       "      <th>7</th>\n",
       "      <td>220</td>\n",
       "      <td>69</td>\n",
       "    </tr>\n",
       "    <tr>\n",
       "      <th>8</th>\n",
       "      <td>221</td>\n",
       "      <td>46</td>\n",
       "    </tr>\n",
       "    <tr>\n",
       "      <th>9</th>\n",
       "      <td>222</td>\n",
       "      <td>47</td>\n",
       "    </tr>\n",
       "    <tr>\n",
       "      <th>10</th>\n",
       "      <td>223</td>\n",
       "      <td>12</td>\n",
       "    </tr>\n",
       "    <tr>\n",
       "      <th>11</th>\n",
       "      <td>224</td>\n",
       "      <td>9</td>\n",
       "    </tr>\n",
       "    <tr>\n",
       "      <th>12</th>\n",
       "      <td>228</td>\n",
       "      <td>4</td>\n",
       "    </tr>\n",
       "    <tr>\n",
       "      <th>13</th>\n",
       "      <td>244</td>\n",
       "      <td>2</td>\n",
       "    </tr>\n",
       "    <tr>\n",
       "      <th>14</th>\n",
       "      <td>343</td>\n",
       "      <td>13</td>\n",
       "    </tr>\n",
       "    <tr>\n",
       "      <th>15</th>\n",
       "      <td>400</td>\n",
       "      <td>7</td>\n",
       "    </tr>\n",
       "  </tbody>\n",
       "</table>\n",
       "</div>"
      ],
      "text/plain": [
       "    graph  dialogues_total\n",
       "0      37                8\n",
       "1      53               38\n",
       "2      57               12\n",
       "3      67               17\n",
       "4      74               10\n",
       "5      90                9\n",
       "6     114               11\n",
       "7     220               69\n",
       "8     221               46\n",
       "9     222               47\n",
       "10    223               12\n",
       "11    224                9\n",
       "12    228                4\n",
       "13    244                2\n",
       "14    343               13\n",
       "15    400                7"
      ]
     },
     "execution_count": 10,
     "metadata": {},
     "output_type": "execute_result"
    }
   ],
   "source": [
    "dialogues_total = []\n",
    "for graph in sorted(graphs):\n",
    "    dialogues_total.append((graph, len(data[graph][\"dialogues\"])))\n",
    "tmp = pd.DataFrame(dialogues_total, columns=[\"graph\", \"dialogues_total\"])\n",
    "tmp"
   ]
  },
  {
   "cell_type": "code",
   "execution_count": 21,
   "metadata": {},
   "outputs": [
    {
     "data": {
      "text/html": [
       "<div>\n",
       "<style scoped>\n",
       "    .dataframe tbody tr th:only-of-type {\n",
       "        vertical-align: middle;\n",
       "    }\n",
       "\n",
       "    .dataframe tbody tr th {\n",
       "        vertical-align: top;\n",
       "    }\n",
       "\n",
       "    .dataframe thead th {\n",
       "        text-align: right;\n",
       "    }\n",
       "</style>\n",
       "<table border=\"1\" class=\"dataframe\">\n",
       "  <thead>\n",
       "    <tr style=\"text-align: right;\">\n",
       "      <th></th>\n",
       "      <th>graph</th>\n",
       "      <th>dialogue</th>\n",
       "      <th>uttr_list_error</th>\n",
       "      <th>dialogues_total</th>\n",
       "    </tr>\n",
       "  </thead>\n",
       "  <tbody>\n",
       "    <tr>\n",
       "      <th>0</th>\n",
       "      <td>37</td>\n",
       "      <td>2</td>\n",
       "      <td>2</td>\n",
       "      <td>8</td>\n",
       "    </tr>\n",
       "    <tr>\n",
       "      <th>1</th>\n",
       "      <td>53</td>\n",
       "      <td>1</td>\n",
       "      <td>1</td>\n",
       "      <td>38</td>\n",
       "    </tr>\n",
       "    <tr>\n",
       "      <th>2</th>\n",
       "      <td>57</td>\n",
       "      <td>3</td>\n",
       "      <td>3</td>\n",
       "      <td>12</td>\n",
       "    </tr>\n",
       "    <tr>\n",
       "      <th>3</th>\n",
       "      <td>67</td>\n",
       "      <td>1</td>\n",
       "      <td>1</td>\n",
       "      <td>17</td>\n",
       "    </tr>\n",
       "    <tr>\n",
       "      <th>4</th>\n",
       "      <td>74</td>\n",
       "      <td>1</td>\n",
       "      <td>1</td>\n",
       "      <td>10</td>\n",
       "    </tr>\n",
       "    <tr>\n",
       "      <th>5</th>\n",
       "      <td>90</td>\n",
       "      <td>2</td>\n",
       "      <td>2</td>\n",
       "      <td>9</td>\n",
       "    </tr>\n",
       "    <tr>\n",
       "      <th>6</th>\n",
       "      <td>114</td>\n",
       "      <td>5</td>\n",
       "      <td>5</td>\n",
       "      <td>11</td>\n",
       "    </tr>\n",
       "    <tr>\n",
       "      <th>7</th>\n",
       "      <td>220</td>\n",
       "      <td>1</td>\n",
       "      <td>1</td>\n",
       "      <td>69</td>\n",
       "    </tr>\n",
       "    <tr>\n",
       "      <th>8</th>\n",
       "      <td>221</td>\n",
       "      <td>7</td>\n",
       "      <td>7</td>\n",
       "      <td>46</td>\n",
       "    </tr>\n",
       "    <tr>\n",
       "      <th>9</th>\n",
       "      <td>222</td>\n",
       "      <td>1</td>\n",
       "      <td>1</td>\n",
       "      <td>47</td>\n",
       "    </tr>\n",
       "    <tr>\n",
       "      <th>10</th>\n",
       "      <td>223</td>\n",
       "      <td>1</td>\n",
       "      <td>1</td>\n",
       "      <td>12</td>\n",
       "    </tr>\n",
       "    <tr>\n",
       "      <th>11</th>\n",
       "      <td>224</td>\n",
       "      <td>1</td>\n",
       "      <td>1</td>\n",
       "      <td>9</td>\n",
       "    </tr>\n",
       "    <tr>\n",
       "      <th>12</th>\n",
       "      <td>228</td>\n",
       "      <td>2</td>\n",
       "      <td>2</td>\n",
       "      <td>4</td>\n",
       "    </tr>\n",
       "    <tr>\n",
       "      <th>13</th>\n",
       "      <td>244</td>\n",
       "      <td>1</td>\n",
       "      <td>1</td>\n",
       "      <td>2</td>\n",
       "    </tr>\n",
       "    <tr>\n",
       "      <th>14</th>\n",
       "      <td>343</td>\n",
       "      <td>3</td>\n",
       "      <td>3</td>\n",
       "      <td>13</td>\n",
       "    </tr>\n",
       "    <tr>\n",
       "      <th>15</th>\n",
       "      <td>400</td>\n",
       "      <td>1</td>\n",
       "      <td>1</td>\n",
       "      <td>7</td>\n",
       "    </tr>\n",
       "  </tbody>\n",
       "</table>\n",
       "</div>"
      ],
      "text/plain": [
       "    graph  dialogue  uttr_list_error  dialogues_total\n",
       "0      37         2                2                8\n",
       "1      53         1                1               38\n",
       "2      57         3                3               12\n",
       "3      67         1                1               17\n",
       "4      74         1                1               10\n",
       "5      90         2                2                9\n",
       "6     114         5                5               11\n",
       "7     220         1                1               69\n",
       "8     221         7                7               46\n",
       "9     222         1                1               47\n",
       "10    223         1                1               12\n",
       "11    224         1                1                9\n",
       "12    228         2                2                4\n",
       "13    244         1                1                2\n",
       "14    343         3                3               13\n",
       "15    400         1                1                7"
      ]
     },
     "execution_count": 21,
     "metadata": {},
     "output_type": "execute_result"
    }
   ],
   "source": [
    "df = pd.DataFrame(exceptions, columns=[\"graph\", \"dialogue\", \"uttr_list_error\"])\n",
    "df.groupby(\"graph\").count().reset_index().join(tmp, rsuffix=\"_\").drop(\n",
    "    columns=[\"graph_\"]\n",
    ")"
   ]
  },
  {
   "cell_type": "code",
   "execution_count": 22,
   "metadata": {},
   "outputs": [
    {
     "data": {
      "text/html": [
       "<div>\n",
       "<style scoped>\n",
       "    .dataframe tbody tr th:only-of-type {\n",
       "        vertical-align: middle;\n",
       "    }\n",
       "\n",
       "    .dataframe tbody tr th {\n",
       "        vertical-align: top;\n",
       "    }\n",
       "\n",
       "    .dataframe thead th {\n",
       "        text-align: right;\n",
       "    }\n",
       "</style>\n",
       "<table border=\"1\" class=\"dataframe\">\n",
       "  <thead>\n",
       "    <tr style=\"text-align: right;\">\n",
       "      <th></th>\n",
       "      <th>graph</th>\n",
       "      <th>dialogue</th>\n",
       "      <th>uttr_list_error</th>\n",
       "    </tr>\n",
       "  </thead>\n",
       "  <tbody>\n",
       "    <tr>\n",
       "      <th>2</th>\n",
       "      <td>53</td>\n",
       "      <td>7</td>\n",
       "      <td>Reporting an incorrect product allergen listin...</td>\n",
       "    </tr>\n",
       "  </tbody>\n",
       "</table>\n",
       "</div>"
      ],
      "text/plain": [
       "   graph  dialogue                                    uttr_list_error\n",
       "2     53         7  Reporting an incorrect product allergen listin..."
      ]
     },
     "execution_count": 22,
     "metadata": {},
     "output_type": "execute_result"
    }
   ],
   "source": [
    "df.loc[df[\"graph\"] == 53]"
   ]
  },
  {
   "cell_type": "code",
   "execution_count": 16,
   "metadata": {},
   "outputs": [
    {
     "data": {
      "text/plain": [
       "25"
      ]
     },
     "execution_count": 16,
     "metadata": {},
     "output_type": "execute_result"
    }
   ],
   "source": [
    "with open(\"../data/idx_and_damaged_topics.json\", \"r\") as file:\n",
    "    data_to_remove = json.load(file)\n",
    "len(data_to_remove)"
   ]
  },
  {
   "cell_type": "code",
   "execution_count": 17,
   "metadata": {},
   "outputs": [
    {
     "name": "stdout",
     "output_type": "stream",
     "text": [
      "[2, 17, 20, 65, 75, 95, 117, 152, 189, 197, 256, 300, 314, 317, 319, 324, 326, 329, 342, 350, 352, 356, 359, 392, 398]\n"
     ]
    }
   ],
   "source": [
    "graph_idx_to_remove = set([graph for graph, _ in data_to_remove])\n",
    "print(sorted(graph_idx_to_remove))"
   ]
  },
  {
   "cell_type": "code",
   "execution_count": 18,
   "metadata": {},
   "outputs": [
    {
     "name": "stdout",
     "output_type": "stream",
     "text": [
      "[37, 53, 57, 67, 74, 90, 114, 220, 221, 222, 223, 224, 228, 244, 343, 400]\n"
     ]
    }
   ],
   "source": [
    "graph_idx_exceptions = set([graph for graph, _, _ in exceptions])\n",
    "print(sorted(graph_idx_exceptions))"
   ]
  },
  {
   "cell_type": "code",
   "execution_count": 19,
   "metadata": {},
   "outputs": [
    {
     "data": {
      "text/plain": [
       "set()"
      ]
     },
     "execution_count": 19,
     "metadata": {},
     "output_type": "execute_result"
    }
   ],
   "source": [
    "graph_idx_to_remove & graph_idx_exceptions"
   ]
  },
  {
   "cell_type": "code",
   "execution_count": 82,
   "metadata": {},
   "outputs": [],
   "source": [
    "with open(\n",
    "    \"../data/unstable_augmentation_examples.json\", \"w\", encoding=\"utf-8\"\n",
    ") as file:\n",
    "    json.dump(exceptions, file, indent=4)"
   ]
  }
 ],
 "metadata": {
  "kernelspec": {
   "display_name": "conda_env_py311",
   "language": "python",
   "name": "python3"
  },
  "language_info": {
   "codemirror_mode": {
    "name": "ipython",
    "version": 3
   },
   "file_extension": ".py",
   "mimetype": "text/x-python",
   "name": "python",
   "nbconvert_exporter": "python",
   "pygments_lexer": "ipython3",
   "version": "3.11.11"
  }
 },
 "nbformat": 4,
 "nbformat_minor": 2
}
