{
 "cells": [
  {
   "cell_type": "code",
   "execution_count": 1,
   "metadata": {},
   "outputs": [
    {
     "data": {
      "text/plain": [
       "True"
      ]
     },
     "execution_count": 1,
     "metadata": {},
     "output_type": "execute_result"
    }
   ],
   "source": [
    "from dotenv import load_dotenv\n",
    "load_dotenv()"
   ]
  },
  {
   "cell_type": "code",
   "execution_count": 2,
   "metadata": {},
   "outputs": [
    {
     "data": {
      "text/plain": [
       "'BAAI/bge-m3'"
      ]
     },
     "execution_count": 2,
     "metadata": {},
     "output_type": "execute_result"
    }
   ],
   "source": [
    "import os\n",
    "os.environ['PATH_TO_ENV'] = \"~/projects/chatsky-llm-autoconfig/.env\"\n",
    "os.getenv('EMBEDDER_MODEL')"
   ]
  },
  {
   "cell_type": "code",
   "execution_count": 3,
   "metadata": {},
   "outputs": [
    {
     "name": "stderr",
     "output_type": "stream",
     "text": [
      "/home/olshevskaya/miniconda3/envs/conda_env_py311/lib/python3.11/site-packages/pydantic/_internal/_fields.py:192: UserWarning: Field name \"validate\" in \"Dialogue\" shadows an attribute in parent \"BaseModel\"\n",
      "  warnings.warn(\n"
     ]
    }
   ],
   "source": [
    "from dialogue2graph.pipelines.core.dialogue import DialogueMessage, Dialogue\n",
    "import pickle\n",
    "import numpy as np"
   ]
  },
  {
   "cell_type": "markdown",
   "metadata": {},
   "source": [
    "# Naive Augmentation"
   ]
  },
  {
   "cell_type": "code",
   "execution_count": 90,
   "metadata": {},
   "outputs": [],
   "source": [
    "with open(\"../data/gen_dataset_augment_naive\", \"rb\") as fp:\n",
    "    data = pickle.load(fp)"
   ]
  },
  {
   "cell_type": "code",
   "execution_count": 44,
   "metadata": {},
   "outputs": [
    {
     "data": {
      "text/plain": [
       "160"
      ]
     },
     "execution_count": 44,
     "metadata": {},
     "output_type": "execute_result"
    }
   ],
   "source": [
    "len(data)"
   ]
  },
  {
   "cell_type": "code",
   "execution_count": null,
   "metadata": {},
   "outputs": [],
   "source": [
    "from tqdm import tqdm\n",
    "from dialogue2graph.metrics.no_llm_metrics.metrics import match_roles, is_correct_length\n",
    "from augmentation_utils import (\n",
    "    check_no_duplicates_all_dialogues,\n",
    "    check_no_duplicates_one_dialogue\n",
    ")"
   ]
  },
  {
   "cell_type": "markdown",
   "metadata": {},
   "source": [
    "### Checking duplicates within dialogues per graph"
   ]
  },
  {
   "cell_type": "code",
   "execution_count": 64,
   "metadata": {},
   "outputs": [
    {
     "name": "stderr",
     "output_type": "stream",
     "text": [
      "100%|██████████| 160/160 [00:00<00:00, 14610.16it/s]"
     ]
    },
    {
     "name": "stdout",
     "output_type": "stream",
     "text": [
      "example 0\n",
      "common_elements: {\"Alright, don't hesitate to reach out if you need anything else. Have a wonderful day!\", 'Sure, it’s 123 Main St.', 'Would you prefer that in red or blue?', 'Hello! How can I help you today?', \"I'm looking to place an order.\"}\n",
      "example 1\n",
      "common_elements: {'Have you attempted to reset your password yet?', 'Thanks for your help.', \"I'm unable to get into my profile.\", 'Thank you for contacting us. Wishing you a wonderful day ahead!', \"I can't access my account.\", 'Yes, please go ahead and escalate it.', \"Hi there! I'm really sorry to hear you're having issues. How can I help you today?\"}\n",
      "example 2\n",
      "common_elements: {'Hi there! How can I help you today?', 'Got it, thank you for the advice.'}\n",
      "example 3\n",
      "example 4\n",
      "common_elements: {'Hi there! How can I help you today?'}\n",
      "example 5\n",
      "common_elements: {'Hi there! Thank you for joining our recycling initiative. How can I help you today?', 'Hi, could you explain how the recycling program functions?'}\n",
      "example 6\n",
      "example 7\n",
      "common_elements: {\"That's perfectly fine. Just reach out if you need help in the future. Have a wonderful day!\", 'Hi there! How can I help you with your language studies today?', 'I need to leave.', 'Awesome! What area would you like to concentrate on today — speaking, grammar, or vocabulary?', 'Grammar', 'Hi'}\n",
      "example 8\n",
      "common_elements: {'Understood. How can I assist you with NVDA?', \"I'm looking for assistance with screen readers.\", 'I prefer using NVDA now.', 'Hi there! How can I help you today?', 'Is it possible for me to switch my screen reader?', 'To read PDFs with NVDA, you can follow these instructions...'}\n",
      "example 9\n",
      "common_elements: {'10 AM in New York translates to 3 PM in London and 11 PM in Tokyo. Will this time work for everyone involved?', 'What about 8 AM New York time?', \"Let's go with 10 AM.\"}\n",
      "example 10\n",
      "common_elements: {'Actually, yes, I have another request', \"I've recorded your request and will pass it along to our support team. Is there anything else you'd like to address?\", \"I'm looking for assistance with my account\", \"I've forgotten my password\", 'Yes, that would be great', 'Absolutely! What else can I help you with regarding your account?', 'Hi there! What can I help you with today?', 'Goodbye! Wishing you a wonderful day!', 'I would like to close my account', \"No, that's all, thank you\"}\n",
      "example 11\n",
      "common_elements: {\"Hi there! I'm here to help you learn about phishing scams. What do you need assistance with today?\"}\n",
      "example 12\n",
      "common_elements: {'Hi there! How can I help you today?', \"I'm looking to make a payment with cryptocurrency.\", '1.5 BTC'}\n",
      "example 13\n",
      "example 14\n",
      "common_elements: {'Hi there! Thank you for contacting VR/AR support. How can I help you today?', \"The headset isn't tracking my movements correctly.\", 'The instructions worked, thank you!', \"I'm sorry to hear that a restart didn't resolve the issue. Would you like me to escalate this to our technical support team?\", \"I'm having some trouble with the platform and need to troubleshoot.\", \"No, that's everything for now.\"}\n",
      "example 15\n",
      "common_elements: {'Next Monday at 2 AM.', 'I have records of customers and their transaction histories.', 'Yes, I would appreciate a review of it.'}\n",
      "example 16\n",
      "common_elements: {'I would like to adjust my Wi-Fi settings.', 'Which specific IoT device are you looking to connect?', 'password123', 'It seems there was an issue connecting your device.', 'The password I entered didn’t work.', 'I prefer to use Wi-Fi.', \"It's called HomeNetwork.\", 'I want to update the network name.', \"It's still HomeNetwork.\"}\n",
      "example 17\n",
      "common_elements: {'Thanks a lot.', \"That's good to hear.\", 'Of course! What specific time in the afternoon would you like your delivery?', 'Yes, I would prefer it in the afternoon instead of the morning.'}\n",
      "example 18\n",
      "common_elements: {\"I'm not interested anymore, goodbye.\", \"I'm interested in understanding your metaverse service integration.\", 'Greetings! Thank you for joining our Metaverse Service Integration. How can I help you today?'}\n",
      "example 19\n",
      "common_elements: {'To New York.', \"No, that's everything.\", 'Just me.', 'Actually, can I modify my destination?', 'Absolutely! I can assist you with that. Where are you headed?', \"No, that's fine for now.\", 'When do you plan to travel to {destination}?', 'In the morning.', 'Hi there! How can I help you today?', 'Just myself.', 'Next Monday.', \"I'd like to book a flight.\", 'What time do you want to leave?', 'Your booking has been successfully canceled. Have a wonderful day!'}\n",
      "example 20\n",
      "common_elements: {\"I'm not happy with it.\"}\n",
      "example 21\n",
      "common_elements: {'Hi there! We hope you enjoyed our service. Would you be open to giving us a testimonial?', \"That's fantastic! Would you mind sharing your thoughts with us?\", \"Of course, I'd love to help!\"}\n",
      "example 22\n",
      "common_elements: {'Your order for Product A in size L has been successfully placed for delivery. Thank you for your order!', \"I'll go with Large, please.\", 'Can you provide more information about Product A?', 'Absolutely, go ahead!', 'Actually, can I switch my size?'}\n",
      "example 23\n",
      "common_elements: {'These tips are really helpful, thank you!'}\n",
      "example 24\n",
      "common_elements: {'Hi there! How can I help you with your calendar issues today?'}\n",
      "example 25\n",
      "common_elements: {'Hi there! How can I help you today?', 'Thanks a lot!', \"If there's anything else you need, just let me know. Have a wonderful day!\"}\n",
      "example 26\n",
      "common_elements: {\"No, I haven't restarted it yet.\", \"Okay, let's check your device drivers. Are they currently updated?\", \"My device isn't being recognized.\", \"I see. Let's try to fix that. Have you attempted to restart your computer?\"}\n",
      "example 27\n",
      "common_elements: {\"I'm unable to connect to the backup server.\", 'I want to stop the troubleshooting process.', \"Yes, it shows 'Authentication failed.'\", \"The 'Authentication failed' message indicates there might be a problem with your login details. Can you double-check that your username and password are accurate?\"}\n",
      "example 28\n",
      "common_elements: {'I want to divide a bill.', '$120 total.', 'Evenly, please.', '$120.', 'Hi there! How can I help you today?', 'Yes, that works for me.', 'Understood. What is the total amount for the bill?'}\n",
      "example 29\n",
      "common_elements: {\"Understood. I've requested your dietary restriction note. Is there anything else you need assistance with?\", 'I would like to request a dietary restriction note for my upcoming flight.', 'Hi there! How can I help you today?', \"No, that's everything, thank you!\", 'Thank you for that information. Would you like to include any other details in the note?'}\n",
      "example 30\n",
      "example 31\n",
      "common_elements: {'The account ID is 123456.', \"No, that's alright, thank you.\"}\n",
      "example 32\n",
      "common_elements: {'I want to cancel my subscription.', 'Yes, I want to go ahead and cancel.', 'Yes, please cancel my subscription.', 'Is there anything else I can help you with today?'}\n",
      "example 33\n",
      "common_elements: {'Hi there! How can I help you today?'}\n",
      "example 34\n",
      "common_elements: {'Hi there! How can I help you today?', 'My account number is 123456.'}\n",
      "example 35\n",
      "common_elements: {'I would like to report a username that I find offensive.', 'TheUsername123', 'It contains a derogatory term aimed at a minority group.', 'Thanks for that. Can you tell me why you consider this username to be offensive?', 'Hi there! How can I help you today?'}\n",
      "example 36\n",
      "common_elements: {'Actually, I’d like to check on a different server.', 'Absolutely! Here are the details regarding the issue.', \"I'd like to verify the status of a server outage.\", 'What happens if the server is down?', 'The server ID I have is ABC123.', 'I have another inquiry.', 'Hi there! How can I help you today?'}\n",
      "example 37\n",
      "common_elements: {\"I'm sorry to hear that you're looking to cancel. Could you please share your account number?\", 'No, that will be all, thank you.', 'Thank you for reaching out. Have a wonderful day!', 'Hi there! How can I help you today?', '123456', 'Of course! What else do you need help with?'}\n",
      "example 38\n",
      "common_elements: {'No, that will be all.'}\n",
      "example 39\n",
      "common_elements: {'Of course! Would you prefer to adjust the adaptive brightness in the app settings or the system settings?', 'In the app settings, please.', \"I'd like to turn on adaptive brightness to improve usability.\", 'Yes, please switch to system settings.', 'Hi there! How can I help you today?'}\n",
      "example 40\n",
      "common_elements: {'Yes, I would appreciate that.', 'Actually, I have another invoice that needs formatting.', \"I'm looking for a custom format for my invoice.\", 'Hi there! How can I help you today?', 'Here are the details I need: ...'}\n",
      "example 41\n",
      "common_elements: {'Hi there! How can I help you today?'}\n",
      "example 42\n",
      "common_elements: {'I found a better alternative for the software.', \"Hi there! I'm sorry to hear that you're looking to return your digital product. How can I help you today?\"}\n",
      "example 43\n",
      "common_elements: {\"I'd like to upgrade to a premium plan instead.\", \"Actually, I'd like to modify the duration.\", \"Fantastic! I've switched your service contract to the premium plan. Is there anything else I can help you with?\", 'So, you wish to extend your service contract for {duration} months, correct?', \"Yes, that's right.\", 'Hi there! How can I help you with your service contract today?', \"No, that's everything for now.\", 'Yes, please upgrade me to the premium plan.'}\n",
      "example 44\n",
      "common_elements: {'Of course, my account number is 123456789.', 'The transaction ID is TXN987654321.', 'I have an issue with a duplicate loyalty reward claim.'}\n",
      "example 45\n",
      "common_elements: {'Of course! Could you share your flight number with me?', 'Alright, thank you for the update.', 'The flight number is ABC123.', 'My flight has been postponed because of the weather.'}\n",
      "example 46\n",
      "common_elements: {'Thanks for that detail. What exactly does the typo say?', 'Alright, thank you!', 'Hi there! How can I help you today?', \"The term 'instalation' is misspelled; it should be 'installation'.\", \"It's on the installation page, specifically in the prerequisites section.\"}\n",
      "example 47\n",
      "common_elements: {'Okay, have a wonderful day!', 'Are you interested in activating offline mode for the application?', 'Yes, that would be great.', 'Of course! What would you prefer to do instead?', 'Hi there! How can I help you today?', 'Awesome! Activating offline mode will let you use the app without needing an internet connection. Should I go ahead?'}\n",
      "example 48\n",
      "common_elements: {'I want to remove specific entries.', 'Delete all of it.', 'I would like to clear my browsing history.', 'Of course, I can assist you in clearing your browsing history. Are you certain you want to continue?', 'Hi there! How can I help you today?'}\n",
      "example 49\n",
      "common_elements: {'The search bar is still not functioning.', \"It shows '404 Not Found'.\"}\n",
      "example 50\n",
      "common_elements: {'After the update, my application keeps crashing.'}\n",
      "example 51\n",
      "common_elements: {\"I'm on Zoom.\", 'Hi there! How can I help you with your video call issues today?', \"Have you checked if there's an update available for the app?\", \"I'm sorry to hear that! Which platform are you using for your video calls?\", \"No, I haven't done that yet.\"}\n",
      "example 52\n",
      "common_elements: {'Hi there! How can I help you today?', 'The right address is 678 New Street.', 'I’m having a problem with my delivery.', 'My order number is 12345.'}\n",
      "example 53\n",
      "common_elements: {'Hello! How can I assist you today?', 'I want to report a mistake in the allergen listing for a product.', \"It's Acme Peanut Butter.\", 'Sure! What changes would you like to make?', 'The allergen information has been updated. Is there anything else I can help you with?', 'I need to fix the allergen listings.', 'Actually, I need to update the allergen details.', 'Could you provide me with the name or ID of the product that has the incorrect allergen information?'}\n",
      "example 54\n",
      "common_elements: {'Your order has been successfully placed. Is there anything else I can help you with?', \"It's a Whirlpool model WTW5000DW.\", 'Here’s the replacement drum for your Whirlpool WTW5000DW. Would you like to go ahead and place an order?', \"No, that's everything. Thank you very much!\", \"You're welcome! Have a wonderful day!\", 'Awesome! Which specific part are you in need of?', 'Yes, that would be great.', \"I'm searching for some replacement parts for my appliance.\", \"Actually, is it possible to change the part I'm looking for?\", \"It's a Whirlpool WTW5000DW.\", 'Hi there! How can I help you today?', 'No problem! Please share the brand and model number of your appliance.'}\n",
      "example 55\n",
      "common_elements: {'I would like to submit a data subject access request.', \"I don't need the data at this moment.\", 'My name is John Doe, and my email is john@example.com.', 'Hi there! How can I help you with your GDPR compliance inquiries today?'}\n",
      "example 56\n",
      "common_elements: {'Could you elaborate on that?', \"No, that's everything. Thank you very much.\", 'Hi there! What can I do for you today?'}\n",
      "example 57\n",
      "example 58\n",
      "common_elements: {'The order number is 12345.', 'Hi there! How can I help you today?'}\n",
      "example 59\n",
      "common_elements: {\"You're welcome! Feel free to reach out if you need help in the future.\", 'Yes, I would appreciate that.', 'I want to set up my smart TV with a streaming service.', 'Done, it’s now connected via Ethernet.', \"I'd like to connect to Netflix.\", 'Understood. Please find your home network in the list and enter the password.', 'Can I switch to a different Wi-Fi network?', 'Actually, I’d like to connect a different streaming service.', 'Hi there! How can I help you today?', 'I would like to connect to Netflix.', 'Yes, I could use some help connecting the TV to the internet.', 'I want to connect to my home network.'}\n",
      "example 60\n",
      "common_elements: {'Hi there! How can I help you today?', 'Got it. Can you tell me the reason for the return?', 'I want to return something from my subscription box.'}\n",
      "example 61\n",
      "common_elements: {'Hi there! How can I help you today?'}\n",
      "example 62\n",
      "common_elements: {\"Hi there! I noticed you're running low on storage space. How can I help you today?\", \"I'd like to transfer files to the cloud.\", 'I want to clear up some space.'}\n",
      "example 63\n",
      "common_elements: {'Hi there! How can I help you with your rewards today?', 'Yes, that sounds good.', 'I want to transfer 50 rewards.', 'How many rewards do you wish to send?', 'Your rewards have been successfully sent to the provided email address. Is there anything else I can assist you with?', 'You are about to send {amount} rewards to {username}. Would you like to proceed with this transfer?'}\n",
      "example 64\n",
      "common_elements: {'Hi there! How can I help you today?', 'Absolutely, I can assist you with that refund. Can you please share your account number?', 'No, please proceed with the refund.', \"I've submitted your refund request. You should see the funds returned to you in about 5-7 business days.\"}\n",
      "example 65\n",
      "common_elements: {'Alright, thank you.', \"I've misplaced the highlights and notes from my eBook.\", \"Forget it, I don't need assistance anymore.\", 'Actually, I might want to change the eBook title.', \"It's 'The Great Gatsby.'\", 'It was sometime last week.', \"That's okay. If you remember any other details, just let me know.\"}\n",
      "example 66\n",
      "example 67\n",
      "common_elements: {'Can I switch my music service instead?', 'Setup has been cancelled. If you need help with anything else, just let me know!', 'I want to set up music commands.', \"I'll go with Apple Music.\", \"I'd like to cancel the setup.\"}\n",
      "example 68\n",
      "common_elements: {\"The checkout button isn't functioning properly.\", 'Hi there! How can I help you today?', \"The checkout button isn't working at all.\", 'I need to report an issue with the checkout process.'}\n",
      "example 69\n",
      "common_elements: {'Hi there! How can I help you today?', 'My account number is 123456.'}\n",
      "example 70\n",
      "common_elements: {'I want to cancel my previous request.', \"I'd prefer a replacement, please.\", 'Yes, I want to make a change.', \"Of course, it's 12345.\"}\n",
      "example 71\n",
      "common_elements: {'Hi there! How can I help you today?'}\n",
      "example 72\n",
      "common_elements: {'I want to cancel my subscription.', 'Is it possible to temporarily pause my subscription?', \"I'm not happy with the service.\", 'Hi there! How can I help you today?', 'Of course! What changes would you like to make to your subscription?'}\n",
      "example 73\n",
      "common_elements: {'I want to calibrate my smart thermostat.', 'Of course! I can guide you through the calibration process. Which model do you have?', 'Please follow these steps to manually calibrate your thermostat: ...', \"I'm using the XYZ model.\", 'Hi there! How can I help you with your smart thermostat today?', \"I've finished the manual calibration.\", 'Calibration was successful! Is there anything else I can assist you with?', \"No, that's everything for now.\"}\n",
      "example 74\n",
      "example 75\n",
      "common_elements: {'I’d like to end this conversation.'}\n",
      "example 76\n",
      "common_elements: {'Have you ensured that Bluetooth is activated on both devices?', 'Yes, it is enabled.', 'Are your devices successfully connected at this point?', 'Which device are you trying to connect your headphones to?', \"I'm struggling to connect my Bluetooth device.\", \"I'm attempting to connect my headphones.\", \"No, they still aren't connecting.\", 'Absolutely, I want to connect to a speaker instead.', 'A speaker.'}\n",
      "example 77\n",
      "common_elements: {\"Hi there! I'm here to assist you with pairing your gaming controller to your console. Which console do you have?\", \"It's a PlayStation.\"}\n",
      "example 78\n",
      "common_elements: {\"The sender's email is another_spammer@example.com.\", 'Thank you for contacting us. Have a great day!', 'Actually, I have another email I need to report.', 'The email is from spammer@example.com.', 'Hi there! How can I help you today?', \"No, that's everything for now.\"}\n",
      "example 79\n",
      "common_elements: {'I want to manage my extensions.', \"I'm using Firefox.\", \"I'm using Chrome.\", 'Hi there! How can I help you today?', \"You're welcome! Have a wonderful day!\"}\n",
      "example 80\n",
      "common_elements: {'Hi there! How can I help you today?', 'I would like to revert to an earlier version of the app.', 'Would you like to pick another version, or would you prefer to cancel the rollback?'}\n",
      "example 81\n",
      "common_elements: {'Hi there! How can I help you today?', 'Yes, I would appreciate your guidance.', \"I've completed that step.\"}\n",
      "example 82\n",
      "common_elements: {'Hi there! How can I help you today?'}\n",
      "example 83\n",
      "common_elements: {'I have submitted my appeal now.', 'Yes, I would like to file an appeal.', \"Hi there! I'm really sorry to learn that your seller account has been suspended. How can I help you today?\", 'Actually, I have another question.'}\n",
      "example 84\n",
      "common_elements: {'Hi there! How can I help you today?', \"Yes, I refreshed the page, but it still doesn't work.\", 'Thank you for trying that. Can you tell me what browser and device you are using?', 'Yes, I would appreciate an email update.'}\n",
      "example 85\n",
      "common_elements: {'Hi there! How can I help you with your car rental today?', \"I'd like to change my pickup location\"}\n",
      "example 86\n",
      "common_elements: {'I want to give it another shot.', 'Got it. Do you recall when you deleted that playlist?', 'Hi there! How can I assist you today?', 'I feel like something might have gone wrong.'}\n",
      "example 87\n",
      "common_elements: {'Hi there! How can I help you today?', \"Actually, I've had a change of heart.\"}\n",
      "example 88\n",
      "common_elements: {\"I'm experiencing issues with the trade-in process.\", \"I'm sorry I couldn't assist you further today. Wishing you a great day ahead!\", 'Hi there! How can I help you with your device trade-in today?', \"It's an iPhone 12.\", \"My device has significant scratches and it won't power on.\"}\n",
      "example 89\n",
      "common_elements: {'The account number is 123456.', 'Do you want to make any changes to your account information?', 'Hi there! How can I help you with reactivating your account today?', 'Would you like to make any updates to your account information?', 'I would like to reactivate my account that has been delayed.'}\n",
      "example 90\n",
      "common_elements: {'Actually, I think I need to update my operating system version.', \"That's unfortunate. Could you let me know which operating system you're currently using?\", 'Have you attempted to run the installer with administrative privileges?'}\n",
      "example 91\n",
      "common_elements: {\"Yes, let's go ahead and reset it to factory settings.\", \"I'm sorry to hear that. Have you attempted to restart the headset?\", 'Thanks for your assistance!'}\n",
      "example 92\n",
      "common_elements: {'Hi there! How can I help you today?', \"Now, I'm dealing with some billing issues.\", 'Thank you for your help.', \"Hello, I'm having issues accessing my account.\"}\n",
      "example 93\n",
      "common_elements: {'Hi there! How can I help you today?', \"Sure, it's 1234 5678 9012.\", \"Of course, it's 1234 5678 9012.\"}\n",
      "example 94\n",
      "common_elements: {'I prefer to go with OpenVPN.', \"Absolutely, let's get going.\"}\n",
      "example 95\n",
      "common_elements: {'Yes, I would appreciate your guidance.', 'I was working in Microsoft Word.'}\n",
      "example 96\n",
      "common_elements: {'Hi there! How can I help you today?', 'I completely understand. If you decide to share it later, don’t hesitate to reach out. Have a wonderful day!', 'I want to report some missing loyalty points.', 'Of course, my loyalty number is 123456789.'}\n",
      "example 97\n",
      "example 98\n",
      "common_elements: {\"My touchscreen isn't working.\", \"It's a Samsung Galaxy S21.\", \"No, I haven't tried that yet.\", \"Alright, I'm in Safe Mode now.\", 'Could you remind me of your device model again?'}\n",
      "example 99\n",
      "common_elements: {\"I'd like to merge my rewards with a promo code.\", 'My account number is 123456.', 'MYPROMO10', '987654', 'Hi there! How can I help you with your rewards and promo codes today?', 'No problem! Please give me your new account number.', 'Actually, I’d prefer to update my account number.', \"You're welcome! Have a wonderful day.\"}\n",
      "example 100\n",
      "common_elements: {'Yes, I would appreciate that.', 'Take care! Goodbye!', \"I understand. Are you experiencing issues with the 'Forgot Password' feature?\", 'No, I just need to reset my password.', \"I've forgotten my password.\", \"Thanks, that's everything I needed.\", 'Hi there! How can I help you today?', 'I got it now, thank you!', \"I didn't get the email.\"}\n",
      "example 101\n",
      "common_elements: {\"I'm really frustrated and I'm considering canceling my request.\", 'Hi there! How can I help you today?'}\n",
      "example 102\n",
      "common_elements: {'newuser@example.com', 'Hi there! How can I help you today?', 'The site has been down since this morning.'}\n",
      "example 103\n",
      "common_elements: {'Hi there! How can I help you today?', 'I want to challenge a double charge on my credit card.'}\n",
      "example 104\n",
      "common_elements: {\"I've switched to a different Wi-Fi network, but I'm still having issues.\", \"It displayed 'Update failed due to connection timeout.'\", \"I've finished the manual update.\", 'No, my internet connection is quite unstable.', \"Yes, I'm prepared to proceed.\"}\n",
      "example 105\n",
      "common_elements: {'No problem! What is the correct transaction ID?', 'Thanks for the update. Can you confirm the transaction ID again?', 'Please confirm the details.', 'I need to report a fraudulent transaction.', 'Actually, I need to update the transaction ID.', \"Sure, it's TX123456789.\", \"No, that's everything. Thank you for your help.\", 'The updated transaction ID is TX987654321.', 'Hi there! How can I help you today?', 'Would you like to verify the transaction details or make any changes?'}\n",
      "example 106\n",
      "common_elements: {'I would like to report a security issue.'}\n",
      "example 107\n",
      "common_elements: {'Hi there! How can I help you today?', 'Awesome! Please share your email address so we can move forward.', 'user@gmail.com'}\n",
      "example 108\n",
      "common_elements: {'Hi there! How can I help you today?', \"No, that's everything. Thank you!\", 'I would like to configure multi-user access permissions.'}\n",
      "example 109\n",
      "common_elements: {'When do you want the installation to take place?', \"No, that's everything. Thank you!\", 'Hi there! Thank you for contacting XYZ Installations. How can I help you today?', 'The new address is 456 Elm St.', \"I'm John Doe.\", 'I prefer the morning.', 'Actually, I need to update my address.', \"It's 456 Elm St.\", 'The address is 123 Main St.', 'Next Monday.', 'Would you like a morning or afternoon slot for that date?'}\n",
      "example 110\n",
      "common_elements: {'Hi there! How can I help you today?', 'Certainly! What changes would you like to make?', 'Perfect! How would you prefer to receive these notifications? Through email or SMS?', \"I'd prefer email notifications, please.\"}\n",
      "example 111\n",
      "common_elements: {'Hi there! How can I help you today?', 'Yes, that sounds good.', \"Of course! Could you let me know which airline you're flying with and your ticket class?\"}\n",
      "example 112\n",
      "common_elements: {\"I'm using the XYZ app on my iPhone 12.\", 'The app keeps crashing every time I try to open it.', 'Yes, I would appreciate your help with updating my iOS.', \"It's version 3.2.1.\", \"No, that's okay.\"}\n",
      "example 113\n",
      "common_elements: {\"I'm having trouble connecting to my Wi-Fi.\", 'The network name is HomeWiFi.'}\n",
      "example 114\n",
      "common_elements: {'Yes, my internet seems to be working fine.', 'The download keeps stopping unexpectedly.'}\n",
      "example 115\n",
      "common_elements: {'No problem at all! Wishing you a wonderful day ahead.', \"Of course, it's 123456.\"}\n",
      "example 116\n",
      "common_elements: {\"I'm looking to stay this weekend.\", \"Actually, nevermind. I don't need to book a hotel right now.\", 'Two adults.', \"I'm interested in New York.\"}\n",
      "example 117\n",
      "common_elements: {'Hi there! How can I assist you today?', \"The 'Next' button on the form doesn't seem to work.\", \"I'm encountering an issue with a form on your site.\", \"The 'Next' button on the form isn't functioning properly.\"}\n",
      "example 118\n",
      "common_elements: {'I appreciate your willingness to share suggestions for enhancing our product. Which area would you like to focus on first? Features, Usability, or Customer Support?'}\n",
      "example 119\n",
      "common_elements: {'Hi there! How can I help you today?', \"No, that's everything. Thank you very much.\", 'My account number is 123456.', 'Thank you for that. How much additional time do you need to make the payment?'}\n",
      "example 120\n",
      "common_elements: {'Actually, I need to update the product ID.', 'Hi there! How can I help you today?', \"No, that's everything for now.\", 'The height listed is wrong.'}\n",
      "example 121\n",
      "common_elements: {'Is it possible for me to switch to a different browser?', \"It's working now!\"}\n",
      "example 122\n",
      "common_elements: {\"I can't remember my password.\", \"I'd like to use security questions for verification instead.\", 'I can assist you in resetting your password. Would you prefer to receive a reset link through email or text message?'}\n",
      "example 123\n",
      "common_elements: {'Thanks for sharing that. Have you attempted to restart the renewal process?', 'Yes, my internet connection is working fine.'}\n",
      "example 124\n",
      "common_elements: {'Can you confirm that you want to block this device: [Device details]?', 'Of course, my username is johndoe123.', \"I've changed my mind about that.\", 'Actually, is it possible to block all devices instead?', 'Thanks! Are you looking to block a particular device or all devices linked to your account?'}\n",
      "example 125\n",
      "common_elements: {'Actually, I want to change the way ad-blocking is set up.', 'Would you like to turn on the ad-blocking feature in your browser?', 'Yes, please activate it through the settings.', 'Would you like to activate the ad-blocking feature in your browser?'}\n",
      "example 126\n",
      "common_elements: {\"I'm unable to finish the verification process.\"}\n",
      "example 127\n",
      "common_elements: {\"I apologize for the trouble you've experienced. Could you share more specifics about what happened?\", 'Your partial refund has been successfully processed. Is there anything else I can help you with?', 'I would like to ask for a partial refund because the service was not satisfactory.', \"I'm really sorry to learn about your situation. How can I help you today?\", 'Thank you for reaching out to us. Have a great day!', 'I appreciate you sharing that information. I can initiate a partial refund for you. Should I go ahead with that?', 'Yes, that sounds perfect.'}\n",
      "example 128\n",
      "example 129\n",
      "common_elements: {\"I'm particularly concerned about my email and phone number.\", 'Hi there! How can I help you today with your data privacy issues?', \"I'm worried about my personal information being shared.\"}\n",
      "example 130\n",
      "common_elements: {'Of course, my email address is user@example.com', 'Of course! What changes would you like to make?'}\n",
      "example 131\n",
      "common_elements: {'Hi there! How can I help you today?', \"You're very welcome! Have a wonderful day!\", 'My membership number is 123456.', 'I would like to get a replacement membership card.'}\n",
      "example 132\n",
      "common_elements: {'Of course, I can assist you with that. Which date and time do you have in mind?', '2 PM is fine for me.', 'Can we look for another time slot?', 'I need to change my appointment.'}\n",
      "example 133\n",
      "common_elements: {\"That's alright. Could you tell me what the item is and when you purchased it?\", \"I'm sorry to hear you're looking to return an item. Do you happen to have the receipt with you?\", \"Unfortunately, I don't have the receipt on hand.\"}\n",
      "example 134\n",
      "example 135\n",
      "common_elements: {'Sure, here’s my email along with the date of the purchases.'}\n",
      "example 136\n",
      "common_elements: {'I would like to request a refund for a digital code that was delivered incorrectly.', 'Of course, my order number is 123456.', \"No, that's all for now, thank you.\"}\n",
      "example 137\n",
      "common_elements: {'I noticed that the expiration date on my product is incorrect.', \"That's perfectly fine. If you need any more help, don't hesitate to reach out. Have a wonderful day!\", \"Hi there! I'm sorry to learn that you're facing an issue. How can I assist you today?\", \"It's Product X, and it shows an expiration date of 01/2020.\", 'My order number is 12345.'}\n",
      "example 138\n",
      "common_elements: {'I believe there might be a mistake with the reference number.', \"Of course, it's 12345.\"}\n",
      "example 139\n",
      "common_elements: {'Hi there! How can I help you today?', 'Wait, I have additional information to share.'}\n",
      "example 140\n",
      "common_elements: {\"Upon reviewing your transaction, I've found a discrepancy. Would you prefer a refund or a corrected charge?\", \"I'm experiencing an issue with my currency conversion.\", 'Sure, my transaction ID is 12345 and I converted 100 USD to EUR.'}\n",
      "example 141\n",
      "common_elements: {'Have you had any luck finding backup save files or trying out any recovery tools?', \"You're welcome! If you ever need further assistance, don't hesitate to reach out. Have a wonderful day!\", \"Could you let me know the title of the game and the system you're playing on?\", \"The game is 'Adventure Quest' and I'm playing it on PC.\", \"No, I haven't used any recovery software yet.\"}\n",
      "example 142\n",
      "common_elements: {'Of course! What category would you like to switch to?', \"I'm really sorry to hear that. Can you share more details about what happened?\", 'Understood. Can you give me more details about the billing issue?', 'Hi there! How can I help you today?', \"No, that's everything for now.\", 'No, thank you very much.'}\n",
      "example 143\n",
      "common_elements: {'The item stopped functioning after just two days.', 'Thank you for reaching out. Have a wonderful day!'}\n",
      "example 144\n",
      "common_elements: {'I want to withdraw my complaint.', 'Your complaint has been successfully withdrawn. If you need any more help, feel free to ask!', 'Your complaint has been canceled successfully. Have a wonderful day ahead!'}\n",
      "example 145\n",
      "common_elements: {\"You're very welcome! Have a wonderful day!\", 'Hi there! How can I assist you today?'}\n",
      "example 146\n",
      "common_elements: {'The product ID is 12345.', 'The accurate weight is 450g.', 'The weight shown is 500g.', 'No problem! Please let me know the correct weight for the product.'}\n",
      "example 147\n",
      "common_elements: {'Yes, I want to access the online portal.', 'I want to report an issue with my billing cycle date.', \"Actually, I've decided against it.\", \"No, that's everything, thank you.\", \"No, that's all for now.\", 'Is there anything else I can help you with?', 'Hi there! How can I help you today?', 'Of course, my account number is 123456789.', \"You're welcome! Have a wonderful day.\"}\n",
      "example 148\n",
      "common_elements: {'Hi there! How can I help you today?', \"No, that's alright.\", \"I'm interested in upgrading to a VIP event package.\"}\n",
      "example 149\n",
      "common_elements: {'Perfect! Please rate your purchase again on a scale from 1 to 5.', 'Yes, I want to modify my review.', 'I would still give it a 5.', 'This is my updated review.'}\n",
      "example 150\n",
      "common_elements: {'I would prefer to fill out a survey.'}\n",
      "example 151\n",
      "common_elements: {'My account number is 123456.', 'Hi there! How can I help you today regarding your loyalty points?', 'No, I prefer to talk to a representative instead.', 'Thank you for your help.', 'Before that, I’d like to review my transaction history first.'}\n",
      "example 152\n",
      "common_elements: {'Do you have any particular brands or features in mind?', \"Hi there! I'm here to assist you in finding a personalized product. What kind of item are you looking for?\", 'I prefer Nike.', \"I'm a size 9.\", 'I wear a size 9.'}\n",
      "example 153\n",
      "common_elements: {'I got it from XYZ Store just yesterday.', 'Actually, I’d like to update my purchase information.', \"It's actually model XYZ124.\", \"I'd like to report that my instruction manual is missing.\"}\n",
      "example 154\n",
      "common_elements: {\"I've completed the steps you mentioned\", \"Of course, it's user@example.com\"}\n",
      "example 155\n",
      "example 156\n",
      "common_elements: {'Please change it to john.new@example.com.', 'I am John Doe and my email is john.doe@example.com.'}\n",
      "example 157\n",
      "common_elements: {\"I'm sorry to hear that you need to cancel your ticket. Could you please share your order number?\"}\n",
      "example 158\n",
      "common_elements: {'The correct ID is XYZ789.', \"I'm sorry to hear about the issue. Could you share the product ID or its name with me?\", 'Thank you for your input. Have a wonderful day!', \"Got it, we've updated the category. Is there anything else I can help you with?\", 'Actually, I need to update the product ID.', \"It ought to be classified as 'Electronics'.\", 'Thanks for providing the link. What category should this product be listed under?', 'Thanks for that. What category should this product fall under?', \"No, that's everything for now.\", 'Here’s the link to the product: www.example.com/product/ABC123'}\n",
      "example 159\n",
      "common_elements: {'Hi there! How can I help you today?', 'I want to arrange a recurring payment for my utility bills.', 'Of course, I can assist you with that. Which utility service are you looking to set up for recurring payments?'}\n"
     ]
    },
    {
     "name": "stderr",
     "output_type": "stream",
     "text": [
      "\n"
     ]
    }
   ],
   "source": [
    "new_data = []\n",
    "errors = []\n",
    "failure_examples = []\n",
    "\n",
    "for i, example in enumerate(tqdm(data)):\n",
    "    print(f'example {i}')\n",
    "    dialogues = [dial['messages'] for dial in example['dialogues']]\n",
    "    augmented_dialogues = [dial['messages'] for dial in example['augmented_dialogues']]\n",
    "\n",
    "    try:\n",
    "        if not check_no_duplicates_all_dialogues(augmented_dialogues):\n",
    "            failure_examples.append(i)\n",
    "        else:\n",
    "            new_data.append(example)\n",
    "    except Exception as e:\n",
    "        errors.append((i, e))"
   ]
  },
  {
   "cell_type": "code",
   "execution_count": 47,
   "metadata": {},
   "outputs": [
    {
     "name": "stdout",
     "output_type": "stream",
     "text": [
      "[0, 1, 2, 4, 5, 7, 8, 9, 10, 11, 12, 14, 15, 16, 17, 18, 19, 20, 21, 22, 23, 24, 25, 26, 27, 28, 29, 31, 32, 33, 34, 35, 36, 37, 38, 39, 40, 41, 42, 43, 44, 45, 46, 47, 48, 49, 50, 51, 52, 53, 54, 55, 56, 58, 59, 60, 61, 62, 63, 64, 65, 67, 68, 69, 70, 71, 72, 73, 75, 76, 77, 78, 79, 80, 81, 82, 83, 84, 85, 86, 87, 88, 89, 90, 91, 92, 93, 94, 95, 96, 98, 99, 100, 101, 102, 103, 104, 105, 106, 107, 108, 109, 110, 111, 112, 113, 114, 115, 116, 117, 118, 119, 120, 121, 122, 123, 124, 125, 126, 127, 129, 130, 131, 132, 133, 135, 136, 137, 138, 139, 140, 141, 142, 143, 144, 145, 146, 147, 148, 149, 150, 151, 152, 153, 154, 156, 157, 158, 159]\n"
     ]
    }
   ],
   "source": [
    "# duplicates\n",
    "print(failure_examples)"
   ]
  },
  {
   "cell_type": "code",
   "execution_count": 48,
   "metadata": {},
   "outputs": [
    {
     "data": {
      "text/plain": [
       "[(6, TypeError(\"'NoneType' object is not iterable\")),\n",
       " (30, TypeError(\"'NoneType' object is not iterable\")),\n",
       " (66, TypeError(\"'NoneType' object is not iterable\")),\n",
       " (74, TypeError(\"'NoneType' object is not iterable\"))]"
      ]
     },
     "execution_count": 48,
     "metadata": {},
     "output_type": "execute_result"
    }
   ],
   "source": [
    "# generation errors\n",
    "errors"
   ]
  },
  {
   "cell_type": "code",
   "execution_count": 63,
   "metadata": {},
   "outputs": [
    {
     "name": "stdout",
     "output_type": "stream",
     "text": [
      "5\n",
      "[15, 15, 15, 15, 15]\n",
      "7\n",
      "[11, 11, 11, 11, 9, 7, 7]\n",
      "4\n",
      "[19, 19, 13, 11]\n",
      "10\n",
      "[13, 13, 13, 13, 13, 13, 11, 9, 7, 7]\n"
     ]
    }
   ],
   "source": [
    "for example in [data[6], data[30], data[66], data[74]]:\n",
    "    dialogues = [dial['messages'] for dial in example['dialogues']]\n",
    "    print(len(dialogues))\n",
    "    lens = [len(dia) for dia in dialogues]\n",
    "    print(lens)"
   ]
  },
  {
   "cell_type": "code",
   "execution_count": 49,
   "metadata": {},
   "outputs": [
    {
     "data": {
      "text/plain": [
       "7"
      ]
     },
     "execution_count": 49,
     "metadata": {},
     "output_type": "execute_result"
    }
   ],
   "source": [
    "len(new_data)"
   ]
  },
  {
   "cell_type": "markdown",
   "metadata": {},
   "source": [
    "### Checking duplicates within one dialogue"
   ]
  },
  {
   "cell_type": "code",
   "execution_count": 66,
   "metadata": {},
   "outputs": [
    {
     "name": "stderr",
     "output_type": "stream",
     "text": [
      "100%|██████████| 7/7 [00:00<00:00, 10500.76it/s]"
     ]
    },
    {
     "name": "stdout",
     "output_type": "stream",
     "text": [
      "example 0\n",
      "example 1\n",
      "example 2\n",
      "example 3\n",
      "common_elements: ['Have you verified that your internet connection is stable?', 'Yes, my internet connection is stable.']\n",
      "common_elements: ['Have you verified that your internet connection is stable?', 'Yes, my internet connection seems fine.', \"That's good to know. Let's try shutting down any applications that might be consuming bandwidth. Please do that now.\"]\n",
      "example 4\n",
      "example 5\n",
      "example 6\n"
     ]
    },
    {
     "name": "stderr",
     "output_type": "stream",
     "text": [
      "\n"
     ]
    }
   ],
   "source": [
    "errors = []\n",
    "failure_examples = []\n",
    "new_data_2 = []\n",
    "\n",
    "for i, example in enumerate(tqdm(new_data)):\n",
    "    print(f'example {i}')\n",
    "    dialogues = [dial['messages'] for dial in example['dialogues']]\n",
    "    augmented_dialogues = [dial['messages'] for dial in example['augmented_dialogues']]\n",
    "    true_count = 0\n",
    "\n",
    "    for j, aug_dia in enumerate(augmented_dialogues):\n",
    "        try:\n",
    "            if not check_no_duplicates_one_dialogue(aug_dia):\n",
    "                failure_examples.append((i, j))\n",
    "            else:\n",
    "                true_count += 1\n",
    "        except Exception as e:\n",
    "            errors.append((i, j, e))\n",
    "    if true_count == len(augmented_dialogues):\n",
    "        new_data_2.append(example)"
   ]
  },
  {
   "cell_type": "code",
   "execution_count": 67,
   "metadata": {},
   "outputs": [
    {
     "name": "stdout",
     "output_type": "stream",
     "text": [
      "2\n",
      "[(3, 2), (3, 3)]\n"
     ]
    }
   ],
   "source": [
    "print(len(failure_examples))\n",
    "print(failure_examples)"
   ]
  },
  {
   "cell_type": "code",
   "execution_count": 68,
   "metadata": {},
   "outputs": [
    {
     "data": {
      "text/plain": [
       "[]"
      ]
     },
     "execution_count": 68,
     "metadata": {},
     "output_type": "execute_result"
    }
   ],
   "source": [
    "errors"
   ]
  },
  {
   "cell_type": "code",
   "execution_count": 69,
   "metadata": {},
   "outputs": [
    {
     "data": {
      "text/plain": [
       "6"
      ]
     },
     "execution_count": 69,
     "metadata": {},
     "output_type": "execute_result"
    }
   ],
   "source": [
    "len(new_data_2)"
   ]
  },
  {
   "cell_type": "markdown",
   "metadata": {},
   "source": [
    "### Checking matching roles and length correctness"
   ]
  },
  {
   "cell_type": "code",
   "execution_count": 70,
   "metadata": {},
   "outputs": [
    {
     "name": "stderr",
     "output_type": "stream",
     "text": [
      "100%|██████████| 6/6 [00:00<00:00, 2854.24it/s]\n"
     ]
    }
   ],
   "source": [
    "errors = []\n",
    "failure_examples = []\n",
    "new_data_3 = []\n",
    "\n",
    "for i, example in enumerate(tqdm(new_data_2)):\n",
    "    dialogues = [dial['messages'] for dial in example['dialogues']]\n",
    "    augmented_dialogues = [dial['messages'] for dial in example['augmented_dialogues']]\n",
    "    true_count = 0\n",
    "\n",
    "    try:\n",
    "        for j, (orig_dia, aug_dia) in enumerate(zip(dialogues, augmented_dialogues)):\n",
    "            if not match_roles(Dialogue.from_list(orig_dia), Dialogue.from_list(aug_dia)):\n",
    "                failure_examples.append((i, j))\n",
    "            else:\n",
    "                true_count += 1\n",
    "    except Exception as e:\n",
    "        errors.append((i, j, e))\n",
    "\n",
    "    if true_count == len(augmented_dialogues):\n",
    "        new_data_3.append(example)"
   ]
  },
  {
   "cell_type": "code",
   "execution_count": 71,
   "metadata": {},
   "outputs": [
    {
     "name": "stderr",
     "output_type": "stream",
     "text": [
      "100%|██████████| 6/6 [00:00<00:00, 3359.03it/s]\n"
     ]
    }
   ],
   "source": [
    "errors = []\n",
    "failure_examples = []\n",
    "new_data_4 = []\n",
    "\n",
    "for i, example in enumerate(tqdm(new_data_3)):\n",
    "    dialogues = [dial['messages'] for dial in example['dialogues']]\n",
    "    augmented_dialogues = [dial['messages'] for dial in example['augmented_dialogues']]\n",
    "    true_count = 0\n",
    "\n",
    "    try:\n",
    "        for j, (orig_dia, aug_dia) in enumerate(zip(dialogues, augmented_dialogues)):\n",
    "            if not is_correct_length(Dialogue.from_list(orig_dia), Dialogue.from_list(aug_dia)):\n",
    "                failure_examples.append((i, j))\n",
    "            else:\n",
    "                true_count += 1\n",
    "    except Exception as e:\n",
    "        errors.append((i, j, e))\n",
    "\n",
    "    if true_count == len(augmented_dialogues):\n",
    "        new_data_4.append(example)"
   ]
  },
  {
   "cell_type": "code",
   "execution_count": 73,
   "metadata": {},
   "outputs": [
    {
     "data": {
      "text/plain": [
       "6"
      ]
     },
     "execution_count": 73,
     "metadata": {},
     "output_type": "execute_result"
    }
   ],
   "source": [
    "len(new_data_4)"
   ]
  },
  {
   "cell_type": "code",
   "execution_count": null,
   "metadata": {},
   "outputs": [],
   "source": [
    "with open(\"../data/gen_dataset_augment_naive_filtered\", \"wb\") as fp:\n",
    "    pickle.dump(new_data_4, fp)"
   ]
  },
  {
   "cell_type": "markdown",
   "metadata": {},
   "source": [
    "# One-shot Augmentation"
   ]
  },
  {
   "cell_type": "code",
   "execution_count": null,
   "metadata": {},
   "outputs": [
    {
     "data": {
      "text/plain": [
       "4"
      ]
     },
     "execution_count": 78,
     "metadata": {},
     "output_type": "execute_result"
    }
   ],
   "source": [
    "with open(\"../data/gen_dataset_augment_one-shot\", \"rb\") as fp:\n",
    "    data_1 = pickle.load(fp)\n",
    "with open(\"../data/gen_dataset_augment_one-shot_2\", \"rb\") as fp:\n",
    "    data_2 = pickle.load(fp)\n",
    "data = data_1 + data_2\n",
    "len(data)"
   ]
  },
  {
   "cell_type": "code",
   "execution_count": 80,
   "metadata": {},
   "outputs": [],
   "source": [
    "from tqdm import tqdm\n",
    "from dialogue2graph.metrics.no_llm_metrics.metrics import match_roles, is_correct_length\n",
    "from augmentation_utils import (\n",
    "    check_no_duplicates_all_dialogues,\n",
    "    check_no_duplicates_one_dialogue\n",
    ")"
   ]
  },
  {
   "cell_type": "markdown",
   "metadata": {},
   "source": [
    "### Checking duplicates within dialogues per graph"
   ]
  },
  {
   "cell_type": "code",
   "execution_count": 81,
   "metadata": {},
   "outputs": [
    {
     "name": "stderr",
     "output_type": "stream",
     "text": [
      "100%|██████████| 4/4 [00:00<00:00, 8706.39it/s]"
     ]
    },
    {
     "name": "stdout",
     "output_type": "stream",
     "text": [
      "example 0\n",
      "common_elements: {'What size do you need?', 'Hey there! How can I help you today?', 'Sure, it’s 123 Main St.', 'Medium, please.', 'Red, please.'}\n",
      "example 1\n",
      "common_elements: {\"I'm unable to access my account.\", 'Have you attempted to reset your password?', 'Thanks for reaching out! Have a wonderful day!', 'Thanks for your help.'}\n",
      "example 2\n",
      "example 3\n"
     ]
    },
    {
     "name": "stderr",
     "output_type": "stream",
     "text": [
      "\n"
     ]
    }
   ],
   "source": [
    "new_data = []\n",
    "errors = []\n",
    "failure_examples = []\n",
    "\n",
    "for i, example in enumerate(tqdm(data)):\n",
    "    print(f'example {i}')\n",
    "    dialogues = [dial['messages'] for dial in example['dialogues']]\n",
    "    augmented_dialogues = [dial['messages'] for dial in example['augmented_dialogues']]\n",
    "\n",
    "    try:\n",
    "        if not check_no_duplicates_all_dialogues(augmented_dialogues):\n",
    "            failure_examples.append(i)\n",
    "        else:\n",
    "            new_data.append(example)\n",
    "    except Exception as e:\n",
    "        errors.append((i, e))"
   ]
  },
  {
   "cell_type": "code",
   "execution_count": 82,
   "metadata": {},
   "outputs": [
    {
     "name": "stdout",
     "output_type": "stream",
     "text": [
      "[0, 1]\n"
     ]
    },
    {
     "data": {
      "text/plain": [
       "[(2, TypeError(\"'OutputParserException' object is not iterable\"))]"
      ]
     },
     "execution_count": 82,
     "metadata": {},
     "output_type": "execute_result"
    }
   ],
   "source": [
    "# duplicates\n",
    "print(failure_examples)\n",
    "# generation errors\n",
    "errors"
   ]
  },
  {
   "cell_type": "markdown",
   "metadata": {},
   "source": [
    "### Checking duplicates within one dialogue"
   ]
  },
  {
   "cell_type": "code",
   "execution_count": 84,
   "metadata": {},
   "outputs": [
    {
     "name": "stderr",
     "output_type": "stream",
     "text": [
      "100%|██████████| 1/1 [00:00<00:00, 7667.83it/s]\n"
     ]
    }
   ],
   "source": [
    "errors = []\n",
    "failure_examples = []\n",
    "new_data_2 = []\n",
    "\n",
    "for i, example in enumerate(tqdm(new_data)):\n",
    "    dialogues = [dial['messages'] for dial in example['dialogues']]\n",
    "    augmented_dialogues = [dial['messages'] for dial in example['augmented_dialogues']]\n",
    "    true_count = 0\n",
    "\n",
    "    for j, aug_dia in enumerate(augmented_dialogues):\n",
    "        try:\n",
    "            if not check_no_duplicates_one_dialogue(aug_dia):\n",
    "                failure_examples.append((i, j))\n",
    "            else:\n",
    "                true_count += 1\n",
    "        except Exception as e:\n",
    "            errors.append((i, j, e))\n",
    "    if true_count == len(augmented_dialogues):\n",
    "        new_data_2.append(example)"
   ]
  },
  {
   "cell_type": "markdown",
   "metadata": {},
   "source": [
    "### Checking matching roles and length correctness"
   ]
  },
  {
   "cell_type": "code",
   "execution_count": 86,
   "metadata": {},
   "outputs": [
    {
     "name": "stderr",
     "output_type": "stream",
     "text": [
      "100%|██████████| 1/1 [00:00<00:00, 2169.84it/s]\n"
     ]
    }
   ],
   "source": [
    "errors = []\n",
    "failure_examples = []\n",
    "new_data_3 = []\n",
    "\n",
    "for i, example in enumerate(tqdm(new_data_2)):\n",
    "    dialogues = [dial['messages'] for dial in example['dialogues']]\n",
    "    augmented_dialogues = [dial['messages'] for dial in example['augmented_dialogues']]\n",
    "    true_count = 0\n",
    "\n",
    "    try:\n",
    "        for j, (orig_dia, aug_dia) in enumerate(zip(dialogues, augmented_dialogues)):\n",
    "            if not match_roles(Dialogue.from_list(orig_dia), Dialogue.from_list(aug_dia)):\n",
    "                failure_examples.append((i, j))\n",
    "            else:\n",
    "                true_count += 1\n",
    "    except Exception as e:\n",
    "        errors.append((i, j, e))\n",
    "\n",
    "    if true_count == len(augmented_dialogues):\n",
    "        new_data_3.append(example)"
   ]
  },
  {
   "cell_type": "code",
   "execution_count": 87,
   "metadata": {},
   "outputs": [
    {
     "name": "stderr",
     "output_type": "stream",
     "text": [
      "100%|██████████| 1/1 [00:00<00:00, 2391.28it/s]\n"
     ]
    }
   ],
   "source": [
    "errors = []\n",
    "failure_examples = []\n",
    "new_data_4 = []\n",
    "\n",
    "for i, example in enumerate(tqdm(new_data_3)):\n",
    "    dialogues = [dial['messages'] for dial in example['dialogues']]\n",
    "    augmented_dialogues = [dial['messages'] for dial in example['augmented_dialogues']]\n",
    "    true_count = 0\n",
    "\n",
    "    try:\n",
    "        for j, (orig_dia, aug_dia) in enumerate(zip(dialogues, augmented_dialogues)):\n",
    "            if not is_correct_length(Dialogue.from_list(orig_dia), Dialogue.from_list(aug_dia)):\n",
    "                failure_examples.append((i, j))\n",
    "            else:\n",
    "                true_count += 1\n",
    "    except Exception as e:\n",
    "        errors.append((i, j, e))\n",
    "\n",
    "    if true_count == len(augmented_dialogues):\n",
    "        new_data_4.append(example)"
   ]
  }
 ],
 "metadata": {
  "kernelspec": {
   "display_name": "conda_env_py311",
   "language": "python",
   "name": "python3"
  },
  "language_info": {
   "codemirror_mode": {
    "name": "ipython",
    "version": 3
   },
   "file_extension": ".py",
   "mimetype": "text/x-python",
   "name": "python",
   "nbconvert_exporter": "python",
   "pygments_lexer": "ipython3",
   "version": "3.11.11"
  }
 },
 "nbformat": 4,
 "nbformat_minor": 2
}
