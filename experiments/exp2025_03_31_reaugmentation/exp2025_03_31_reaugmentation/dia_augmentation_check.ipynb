{
 "cells": [
  {
   "cell_type": "code",
   "execution_count": 1,
   "metadata": {},
   "outputs": [
    {
     "data": {
      "text/plain": [
       "True"
      ]
     },
     "execution_count": 1,
     "metadata": {},
     "output_type": "execute_result"
    }
   ],
   "source": [
    "from dotenv import load_dotenv\n",
    "\n",
    "load_dotenv()"
   ]
  },
  {
   "cell_type": "code",
   "execution_count": 2,
   "metadata": {},
   "outputs": [],
   "source": [
    "import os\n",
    "\n",
    "os.environ[\"PATH_TO_ENV\"] = \"~/projects/chatsky-llm-autoconfig/.env\""
   ]
  },
  {
   "cell_type": "code",
   "execution_count": 3,
   "metadata": {},
   "outputs": [],
   "source": [
    "from tqdm import tqdm\n",
    "import json\n",
    "import pickle\n",
    "from augmentation_utils import (\n",
    "    check_no_duplicates_one_uttr_list,\n",
    "    is_correct_length_modified,\n",
    "    match_roles_modified,\n",
    "    check_no_duplicates_one_dialogue,\n",
    ")"
   ]
  },
  {
   "cell_type": "markdown",
   "metadata": {},
   "source": [
    "# 1. Removing data with greetings in the middle"
   ]
  },
  {
   "cell_type": "code",
   "execution_count": 4,
   "metadata": {},
   "outputs": [
    {
     "data": {
      "text/plain": [
       "402"
      ]
     },
     "execution_count": 4,
     "metadata": {},
     "output_type": "execute_result"
    }
   ],
   "source": [
    "with open(\"../data/gen_dataset_augmented_0-402_v4\", \"rb\") as file:\n",
    "    data = pickle.load(file)\n",
    "len(data)"
   ]
  },
  {
   "cell_type": "code",
   "execution_count": 5,
   "metadata": {},
   "outputs": [
    {
     "data": {
      "text/plain": [
       "25"
      ]
     },
     "execution_count": 5,
     "metadata": {},
     "output_type": "execute_result"
    }
   ],
   "source": [
    "with open(\"../data/idx_and_damaged_topics.json\", \"r\") as file:\n",
    "    data_to_remove = json.load(file)\n",
    "len(data_to_remove)"
   ]
  },
  {
   "cell_type": "code",
   "execution_count": 6,
   "metadata": {},
   "outputs": [
    {
     "data": {
      "text/plain": [
       "[256, 'Recovering deleted customer support chat logs']"
      ]
     },
     "execution_count": 6,
     "metadata": {},
     "output_type": "execute_result"
    }
   ],
   "source": [
    "data_to_remove[0]"
   ]
  },
  {
   "cell_type": "code",
   "execution_count": 7,
   "metadata": {},
   "outputs": [
    {
     "name": "stderr",
     "output_type": "stream",
     "text": [
      "100%|██████████| 402/402 [00:00<00:00, 236182.97it/s]\n"
     ]
    },
    {
     "data": {
      "text/plain": [
       "377"
      ]
     },
     "execution_count": 7,
     "metadata": {},
     "output_type": "execute_result"
    }
   ],
   "source": [
    "new_data = []\n",
    "\n",
    "for i, example in enumerate(tqdm(data)):\n",
    "    if (i, example[\"topic\"]) in [(j, topic) for (j, topic) in data_to_remove]:\n",
    "        continue\n",
    "\n",
    "    new_example = {}\n",
    "    new_example[\"graph\"] = example[\"graph\"]\n",
    "    new_example[\"topic\"] = example[\"topic\"]\n",
    "    new_example[\"dialogues\"] = example[\"dialogues\"]\n",
    "    new_example[\"augmented_dialogues\"] = example[\"augmented_dialogues\"]\n",
    "\n",
    "    new_data.append(new_example)\n",
    "len(new_data)"
   ]
  },
  {
   "cell_type": "code",
   "execution_count": 8,
   "metadata": {},
   "outputs": [
    {
     "data": {
      "text/plain": [
       "377"
      ]
     },
     "execution_count": 8,
     "metadata": {},
     "output_type": "execute_result"
    }
   ],
   "source": [
    "with open(\"../data/d2g_generated_without_hello_in_the_middle.json\", \"r\") as file:\n",
    "    data_to_compare_with = json.load(file)\n",
    "len(data_to_compare_with)"
   ]
  },
  {
   "cell_type": "code",
   "execution_count": 9,
   "metadata": {},
   "outputs": [
    {
     "data": {
      "text/plain": [
       "377"
      ]
     },
     "execution_count": 9,
     "metadata": {},
     "output_type": "execute_result"
    }
   ],
   "source": [
    "count = 0\n",
    "for d1, d2 in zip(new_data, data_to_compare_with):\n",
    "    if (\n",
    "        d1[\"graph\"] == d2[\"graph\"]\n",
    "        and d1[\"topic\"] == d2[\"topic\"]\n",
    "        and d1[\"dialogues\"] == d2[\"dialogues\"]\n",
    "    ):\n",
    "        count += 1\n",
    "count"
   ]
  },
  {
   "cell_type": "code",
   "execution_count": 10,
   "metadata": {},
   "outputs": [],
   "source": [
    "with open(\"../data/gen_dataset_augmented_0-402_without_hello_v4\", \"wb\") as file:\n",
    "    pickle.dump(new_data, file)"
   ]
  },
  {
   "cell_type": "markdown",
   "metadata": {},
   "source": [
    "# 2. Re-checking"
   ]
  },
  {
   "cell_type": "markdown",
   "metadata": {},
   "source": [
    "## matching roles and length correctness"
   ]
  },
  {
   "cell_type": "code",
   "execution_count": 11,
   "metadata": {},
   "outputs": [
    {
     "data": {
      "text/plain": [
       "377"
      ]
     },
     "execution_count": 11,
     "metadata": {},
     "output_type": "execute_result"
    }
   ],
   "source": [
    "with open(\"../data/gen_dataset_augmented_0-402_without_hello_v4\", \"rb\") as file:\n",
    "    data = pickle.load(file)\n",
    "len(data)"
   ]
  },
  {
   "cell_type": "code",
   "execution_count": 12,
   "metadata": {},
   "outputs": [
    {
     "name": "stderr",
     "output_type": "stream",
     "text": [
      "100%|██████████| 377/377 [00:00<00:00, 22009.53it/s]\n"
     ]
    },
    {
     "data": {
      "text/plain": [
       "(49, 49)"
      ]
     },
     "execution_count": 12,
     "metadata": {},
     "output_type": "execute_result"
    }
   ],
   "source": [
    "failure_instances_length = []\n",
    "failure_instances_roles = []\n",
    "\n",
    "for i, instance in enumerate(tqdm(data)):\n",
    "    dialogues = [dial[\"messages\"] for dial in instance[\"dialogues\"]]\n",
    "    augmented_dialogues = [dial[\"messages\"] for dial in instance[\"augmented_dialogues\"]]\n",
    "\n",
    "    for j, (orig_dia, aug_dia) in enumerate(zip(dialogues, augmented_dialogues)):\n",
    "        length_comparison = is_correct_length_modified(orig_dia, aug_dia)\n",
    "        roles_comparison = match_roles_modified(orig_dia, aug_dia)\n",
    "\n",
    "        if length_comparison != True:\n",
    "            failure_instances_length.append((i, j, length_comparison))\n",
    "        if roles_comparison != True:\n",
    "            failure_instances_roles.append((i, j, roles_comparison))\n",
    "\n",
    "len(failure_instances_length), len(failure_instances_roles)"
   ]
  },
  {
   "cell_type": "markdown",
   "metadata": {},
   "source": [
    "## duplicates in one_uttr_list"
   ]
  },
  {
   "cell_type": "code",
   "execution_count": 13,
   "metadata": {},
   "outputs": [
    {
     "name": "stderr",
     "output_type": "stream",
     "text": [
      "100%|██████████| 377/377 [00:00<00:00, 33500.40it/s]\n"
     ]
    },
    {
     "data": {
      "text/plain": [
       "(49, [])"
      ]
     },
     "execution_count": 13,
     "metadata": {},
     "output_type": "execute_result"
    }
   ],
   "source": [
    "errors = []\n",
    "failure_examples = []\n",
    "\n",
    "for i, example in enumerate(tqdm(data)):\n",
    "    augmented_dialogues = [dial[\"messages\"] for dial in example[\"augmented_dialogues\"]]\n",
    "\n",
    "    for j, aug_dia in enumerate(augmented_dialogues):\n",
    "        try:\n",
    "            if not check_no_duplicates_one_uttr_list(aug_dia):\n",
    "                failure_examples.append((i, j))\n",
    "        except Exception as e:\n",
    "            errors.append((i, j, e))\n",
    "len(errors), failure_examples"
   ]
  },
  {
   "cell_type": "markdown",
   "metadata": {},
   "source": [
    "# set(len(uttr_list)) = {3}"
   ]
  },
  {
   "cell_type": "markdown",
   "metadata": {},
   "source": [
    "## 2. Removing what can't be combined"
   ]
  },
  {
   "cell_type": "markdown",
   "metadata": {},
   "source": [
    "Count lengths of utterances_lists. if the number of generated variations for each original utterance in the dialogue equals 3, the example will be added to the \"normals\". Otherwise - to the \"exceptions\""
   ]
  },
  {
   "cell_type": "code",
   "execution_count": 45,
   "metadata": {},
   "outputs": [
    {
     "data": {
      "text/plain": [
       "377"
      ]
     },
     "execution_count": 45,
     "metadata": {},
     "output_type": "execute_result"
    }
   ],
   "source": [
    "with open(\"../data/gen_dataset_augmented_0-402_without_hello_v4\", \"rb\") as file:\n",
    "    data = pickle.load(file)\n",
    "len(data)"
   ]
  },
  {
   "cell_type": "code",
   "execution_count": 46,
   "metadata": {},
   "outputs": [
    {
     "name": "stderr",
     "output_type": "stream",
     "text": [
      "100%|██████████| 377/377 [00:00<00:00, 27795.89it/s]\n"
     ]
    },
    {
     "data": {
      "text/plain": [
       "(49, 4136, 3671, 465)"
      ]
     },
     "execution_count": 46,
     "metadata": {},
     "output_type": "execute_result"
    }
   ],
   "source": [
    "all_lens = []\n",
    "normals, exceptions, errors = [], [], []\n",
    "\n",
    "for i, example in enumerate(tqdm(data)):\n",
    "    augmented_dialogues = example[\"augmented_dialogues\"]\n",
    "\n",
    "    for j, aug_dia in enumerate(augmented_dialogues):\n",
    "        try:\n",
    "            utterances_lists = [turn[\"text\"] for turn in aug_dia[\"messages\"]]\n",
    "            lens = [len(uttr_list) for uttr_list in utterances_lists]\n",
    "            if set(lens) == {3}:\n",
    "                normals.append((i, j))\n",
    "            else:\n",
    "                # exceptions.append((i, j, lens))\n",
    "                exceptions.append((i, j))\n",
    "            all_lens.append(lens)\n",
    "        except Exception:\n",
    "            # errors.append((i, j, e))\n",
    "            errors.append((i, j))\n",
    "len(errors), len(all_lens), len(normals), len(exceptions)"
   ]
  },
  {
   "cell_type": "markdown",
   "metadata": {},
   "source": [
    "Making new data without exceptions and errors:"
   ]
  },
  {
   "cell_type": "code",
   "execution_count": 17,
   "metadata": {},
   "outputs": [
    {
     "name": "stderr",
     "output_type": "stream",
     "text": [
      "100%|██████████| 377/377 [00:00<00:00, 9130.27it/s]\n"
     ]
    },
    {
     "data": {
      "text/plain": [
       "377"
      ]
     },
     "execution_count": 17,
     "metadata": {},
     "output_type": "execute_result"
    }
   ],
   "source": [
    "new_data = []\n",
    "\n",
    "for i, example in enumerate(tqdm(data)):\n",
    "    new_example = {}\n",
    "    new_example[\"graph\"] = example[\"graph\"]\n",
    "    new_example[\"topic\"] = example[\"topic\"]\n",
    "    new_example[\"dialogues\"] = []\n",
    "    new_example[\"augmented_dialogues\"] = []\n",
    "\n",
    "    dialogues = example[\"dialogues\"]\n",
    "    augmented_dialogues = example[\"augmented_dialogues\"]\n",
    "\n",
    "    for j, (orig_dia, aug_dia) in enumerate(zip(dialogues, augmented_dialogues)):\n",
    "        if (i, j) not in exceptions and (i, j) not in errors:\n",
    "            new_example[\"dialogues\"].append(orig_dia)\n",
    "            new_example[\"augmented_dialogues\"].append(aug_dia)\n",
    "\n",
    "    new_data.append(new_example)\n",
    "len(new_data)"
   ]
  },
  {
   "cell_type": "code",
   "execution_count": 18,
   "metadata": {},
   "outputs": [
    {
     "name": "stderr",
     "output_type": "stream",
     "text": [
      "100%|██████████| 377/377 [00:00<00:00, 30084.14it/s]\n"
     ]
    },
    {
     "data": {
      "text/plain": [
       "[]"
      ]
     },
     "execution_count": 18,
     "metadata": {},
     "output_type": "execute_result"
    }
   ],
   "source": [
    "all_lens = []\n",
    "normals, exceptions, errors = [], [], []\n",
    "\n",
    "for i, example in enumerate(tqdm(new_data)):\n",
    "    augmented_dialogues = example[\"augmented_dialogues\"]\n",
    "\n",
    "    for j, aug_dia in enumerate(augmented_dialogues):\n",
    "        try:\n",
    "            utterances_lists = [turn[\"text\"] for turn in aug_dia[\"messages\"]]\n",
    "            lens = [len(uttr_list) for uttr_list in utterances_lists]\n",
    "            if set(lens) == {3}:\n",
    "                normals.append((i, j))\n",
    "            else:\n",
    "                # exceptions.append((i, j, lens))\n",
    "                exceptions.append((i, j))\n",
    "            all_lens.append(lens)\n",
    "        except Exception as e:\n",
    "            errors.append((i, j, e))\n",
    "errors"
   ]
  },
  {
   "cell_type": "code",
   "execution_count": 20,
   "metadata": {},
   "outputs": [
    {
     "data": {
      "text/plain": [
       "3671"
      ]
     },
     "execution_count": 20,
     "metadata": {},
     "output_type": "execute_result"
    }
   ],
   "source": [
    "len(all_lens)"
   ]
  },
  {
   "cell_type": "code",
   "execution_count": 21,
   "metadata": {},
   "outputs": [
    {
     "name": "stderr",
     "output_type": "stream",
     "text": [
      "100%|██████████| 377/377 [00:00<00:00, 463574.50it/s]"
     ]
    },
    {
     "name": "stdout",
     "output_type": "stream",
     "text": [
      "128\n",
      "174\n",
      "190\n",
      "232\n",
      "238\n",
      "282\n"
     ]
    },
    {
     "name": "stderr",
     "output_type": "stream",
     "text": [
      "\n"
     ]
    },
    {
     "data": {
      "text/plain": [
       "371"
      ]
     },
     "execution_count": 21,
     "metadata": {},
     "output_type": "execute_result"
    }
   ],
   "source": [
    "new_data_2 = []\n",
    "\n",
    "for i, example in enumerate(tqdm(new_data)):\n",
    "    if example[\"augmented_dialogues\"] == []:\n",
    "        print(i)\n",
    "        continue\n",
    "\n",
    "    new_example = {}\n",
    "    new_example[\"graph\"] = example[\"graph\"]\n",
    "    new_example[\"topic\"] = example[\"topic\"]\n",
    "    new_example[\"dialogues\"] = example[\"dialogues\"]\n",
    "    new_example[\"augmented_dialogues\"] = example[\"augmented_dialogues\"]\n",
    "\n",
    "    new_data_2.append(new_example)\n",
    "len(new_data_2)"
   ]
  },
  {
   "cell_type": "code",
   "execution_count": 22,
   "metadata": {},
   "outputs": [],
   "source": [
    "with open(\n",
    "    \"../data/gen_dataset_augmented_0-402_cleaned_v4.json\", \"w\", encoding=\"utf-8\"\n",
    ") as file:\n",
    "    json.dump(new_data_2, file, indent=4)"
   ]
  },
  {
   "cell_type": "markdown",
   "metadata": {},
   "source": [
    "## 3. Adding utterances to nodes and edges"
   ]
  },
  {
   "cell_type": "code",
   "execution_count": 23,
   "metadata": {},
   "outputs": [
    {
     "data": {
      "text/plain": [
       "371"
      ]
     },
     "execution_count": 23,
     "metadata": {},
     "output_type": "execute_result"
    }
   ],
   "source": [
    "with open(\"../data/gen_dataset_augmented_0-402_cleaned_v4.json\", \"r\") as fp:\n",
    "    data = json.load(fp)\n",
    "len(data)"
   ]
  },
  {
   "cell_type": "code",
   "execution_count": 24,
   "metadata": {},
   "outputs": [
    {
     "name": "stderr",
     "output_type": "stream",
     "text": [
      "100%|██████████| 371/371 [00:00<00:00, 2384.95it/s]\n"
     ]
    }
   ],
   "source": [
    "for i, example in enumerate(tqdm(data)):\n",
    "    dialogues = example[\"dialogues\"]\n",
    "    augmented_dialogues = example[\"augmented_dialogues\"]\n",
    "\n",
    "    for j, (orig_dia, aug_dia) in enumerate(zip(dialogues, augmented_dialogues)):\n",
    "        for orig_turn, aug_turn in zip(orig_dia[\"messages\"], aug_dia[\"messages\"]):\n",
    "            phrase_to_look_for = orig_turn[\"text\"]\n",
    "            phrases_to_add = aug_turn[\"text\"]\n",
    "\n",
    "            if aug_turn[\"participant\"] == \"assistant\":\n",
    "                key = \"nodes\"\n",
    "            elif aug_turn[\"participant\"] == \"user\":\n",
    "                key = \"edges\"\n",
    "\n",
    "            for turn in example[\"graph\"][key]:\n",
    "                if (\n",
    "                    phrase_to_look_for in turn[\"utterances\"]\n",
    "                    and phrases_to_add not in turn[\"utterances\"]\n",
    "                ):\n",
    "                    turn[\"utterances\"] += phrases_to_add"
   ]
  },
  {
   "cell_type": "code",
   "execution_count": 25,
   "metadata": {},
   "outputs": [
    {
     "data": {
      "text/plain": [
       "{'source': 5,\n",
       " 'target': 6,\n",
       " 'utterances': ['Medium, please.',\n",
       "  \"I'd like a medium size, please.\",\n",
       "  'Medium would be great, thanks.',\n",
       "  'Please get me a medium.',\n",
       "  'Medium, please.',\n",
       "  'I still want a medium size.',\n",
       "  'Let’s stick with medium, please.',\n",
       "  'A medium size, please.',\n",
       "  'Medium would be great, thanks.',\n",
       "  \"I'd like a medium, please.\",\n",
       "  'Medium, please.',\n",
       "  'Still medium, thank you.',\n",
       "  'Let’s stick with medium, please.',\n",
       "  \"I'll take a medium, please.\",\n",
       "  'Medium would be great, thank you.',\n",
       "  \"I'd like a medium size.\",\n",
       "  'Medium, please.',\n",
       "  'I’ll go with medium again.',\n",
       "  'A medium size, please.']}"
      ]
     },
     "execution_count": 25,
     "metadata": {},
     "output_type": "execute_result"
    }
   ],
   "source": [
    "data[0][\"graph\"][\"edges\"][4]"
   ]
  },
  {
   "cell_type": "code",
   "execution_count": 26,
   "metadata": {},
   "outputs": [
    {
     "name": "stderr",
     "output_type": "stream",
     "text": [
      "100%|██████████| 371/371 [00:00<00:00, 12849.92it/s]\n"
     ]
    }
   ],
   "source": [
    "for i, example in enumerate(tqdm(data)):\n",
    "    for key in [\"nodes\", \"edges\"]:\n",
    "        for turn in example[\"graph\"][key]:\n",
    "            while \"\" in turn[\"utterances\"]:\n",
    "                turn[\"utterances\"].remove(\"\")\n",
    "            turn[\"utterances\"] = list(set(turn[\"utterances\"]))"
   ]
  },
  {
   "cell_type": "code",
   "execution_count": 27,
   "metadata": {},
   "outputs": [
    {
     "data": {
      "text/plain": [
       "{'source': 5,\n",
       " 'target': 6,\n",
       " 'utterances': ['Let’s stick with medium, please.',\n",
       "  'A medium size, please.',\n",
       "  'Medium, please.',\n",
       "  'I still want a medium size.',\n",
       "  'Medium would be great, thank you.',\n",
       "  \"I'd like a medium size.\",\n",
       "  'Please get me a medium.',\n",
       "  \"I'd like a medium size, please.\",\n",
       "  'I’ll go with medium again.',\n",
       "  \"I'll take a medium, please.\",\n",
       "  'Medium would be great, thanks.',\n",
       "  \"I'd like a medium, please.\",\n",
       "  'Still medium, thank you.']}"
      ]
     },
     "execution_count": 27,
     "metadata": {},
     "output_type": "execute_result"
    }
   ],
   "source": [
    "data[0][\"graph\"][\"edges\"][4]"
   ]
  },
  {
   "cell_type": "code",
   "execution_count": 28,
   "metadata": {},
   "outputs": [],
   "source": [
    "with open(\n",
    "    \"../data/gen_dataset_augmented_0-402_nodes_edges_v4.json\", \"w\", encoding=\"utf-8\"\n",
    ") as file:\n",
    "    json.dump(data, file, indent=4)"
   ]
  },
  {
   "cell_type": "markdown",
   "metadata": {},
   "source": [
    "## 4. Combine new augmented dialogues with one set of variations:"
   ]
  },
  {
   "cell_type": "code",
   "execution_count": 29,
   "metadata": {},
   "outputs": [
    {
     "data": {
      "text/plain": [
       "371"
      ]
     },
     "execution_count": 29,
     "metadata": {},
     "output_type": "execute_result"
    }
   ],
   "source": [
    "with open(\"../data/gen_dataset_augmented_0-402_nodes_edges_v4.json\", \"r\") as fp:\n",
    "    data = json.load(fp)\n",
    "len(data)"
   ]
  },
  {
   "cell_type": "code",
   "execution_count": 30,
   "metadata": {},
   "outputs": [],
   "source": [
    "def combine_new_aug_dia(aug_dia, k):\n",
    "    new_aug_dia = {}\n",
    "    new_aug_dia[\"id\"] = aug_dia[\"id\"] + f\"_{k}\"\n",
    "    new_aug_dia[\"messages\"] = []\n",
    "\n",
    "    roles_to_add = [turn[\"participant\"] for turn in aug_dia[\"messages\"]]\n",
    "    utterances_to_add = [turn[\"text\"][k] for turn in aug_dia[\"messages\"]]\n",
    "\n",
    "    for role, uttr in zip(roles_to_add, utterances_to_add):\n",
    "        dict_messages = {}\n",
    "        dict_messages[\"participant\"] = role\n",
    "        dict_messages[\"text\"] = uttr\n",
    "        new_aug_dia[\"messages\"].append(dict_messages)\n",
    "\n",
    "    return new_aug_dia"
   ]
  },
  {
   "cell_type": "code",
   "execution_count": 31,
   "metadata": {},
   "outputs": [
    {
     "name": "stderr",
     "output_type": "stream",
     "text": [
      "  0%|          | 0/371 [00:00<?, ?it/s]"
     ]
    },
    {
     "name": "stderr",
     "output_type": "stream",
     "text": [
      "100%|██████████| 371/371 [00:00<00:00, 4975.34it/s]\n"
     ]
    },
    {
     "data": {
      "text/plain": [
       "371"
      ]
     },
     "execution_count": 31,
     "metadata": {},
     "output_type": "execute_result"
    }
   ],
   "source": [
    "new_data = []\n",
    "\n",
    "for i, example in enumerate(tqdm(data)):\n",
    "    # make a copy of example from old data\n",
    "    new_example = {}\n",
    "    new_example[\"graph\"] = example[\"graph\"]\n",
    "    new_example[\"topic\"] = example[\"topic\"]\n",
    "\n",
    "    # dialogues and augmented_dialogues will be set later\n",
    "    new_example[\"dialogues\"] = []\n",
    "    new_example[\"augmented_dialogues\"] = []\n",
    "\n",
    "    dialogues = example[\"dialogues\"]\n",
    "    augmented_dialogues = example[\"augmented_dialogues\"]\n",
    "\n",
    "    # take a pair of orig_dia and aug_dia (aug_dia has 3 variations of all phrases)\n",
    "    for j, (orig_dia, aug_dia) in enumerate(zip(dialogues, augmented_dialogues)):\n",
    "        # set an orig_dia without changes\n",
    "        new_example[\"dialogues\"].append(orig_dia)\n",
    "\n",
    "        # combine 3 new aug_dias from 1 old aug_dia\n",
    "        for k in range(3):\n",
    "            new_aug_dia = combine_new_aug_dia(aug_dia, k)\n",
    "            # add new aug_dia to the new example\n",
    "            new_example[\"augmented_dialogues\"].append(new_aug_dia)\n",
    "\n",
    "    # add new example with new aug_dias to the new data\n",
    "    new_data.append(new_example)\n",
    "len(new_data)"
   ]
  },
  {
   "cell_type": "code",
   "execution_count": 32,
   "metadata": {},
   "outputs": [],
   "source": [
    "with open(\n",
    "    \"../data/gen_dataset_augmented_0-402_combined_v4.json\", \"w\", encoding=\"utf-8\"\n",
    ") as file:\n",
    "    json.dump(new_data, file, indent=4)"
   ]
  },
  {
   "cell_type": "code",
   "execution_count": 33,
   "metadata": {},
   "outputs": [
    {
     "name": "stderr",
     "output_type": "stream",
     "text": [
      "100%|██████████| 371/371 [00:00<00:00, 7761.30it/s]"
     ]
    },
    {
     "name": "stdout",
     "output_type": "stream",
     "text": [
      "0\n",
      "common_elements: [\"It's 123 Main Street.\"]\n",
      "1\n",
      "2\n",
      "3\n",
      "common_elements: ['I see that you have concerns about ethical sourcing. Can you share more about what specifically troubles you?']\n",
      "common_elements: ['I recognize your worries about ethical sourcing. Could you provide more details on your specific concerns?']\n",
      "common_elements: ['I understand your concerns regarding ethical sourcing. What particular aspects are you worried about?']\n",
      "4\n",
      "5\n",
      "common_elements: ['Got it. Now, let’s move on to pricing. What budget do you have in mind for this project?']\n",
      "6\n",
      "7\n",
      "8\n",
      "9\n",
      "10\n",
      "11\n",
      "common_elements: ['1.5 BTC', \"Could you please confirm that you're sending {amount} Bitcoin?\"]\n",
      "common_elements: ['1.5 BTC']\n",
      "common_elements: ['1.5 BTC']\n",
      "common_elements: ['2 ETH', 'Just to confirm: You’re sending {amount} Ethereum. Is that correct?']\n",
      "common_elements: ['I want to send 2 ETH.', 'Please verify: You are about to send {amount} Ethereum. Is that accurate?']\n",
      "common_elements: ['Can you confirm that you want to send {amount} Ethereum?']\n",
      "12\n",
      "13\n",
      "14\n",
      "common_elements: ['Next Monday at 2 AM.']\n",
      "common_elements: ['Next Monday at 2 AM.']\n",
      "15\n",
      "common_elements: ['HomeNetwork.']\n",
      "common_elements: ['My network name is HomeNetwork.']\n",
      "common_elements: [\"It's HomeNetwork.\"]\n",
      "common_elements: ['HomeNetwork']\n",
      "common_elements: ['HomeNetwork', 'Now, please enter your Wi-Fi password.']\n",
      "common_elements: ['HomeNetwork']\n",
      "16\n",
      "common_elements: ['We provide various options for integrating with the metaverse. Are you interested in learning about our features, pricing, or technical requirements?']\n",
      "common_elements: ['Our integration services come with numerous features. Would you like information on features, pricing, or the technical side?']\n",
      "common_elements: ['We have a broad array of features available for metaverse integration. Do you want to know about features, costs, or technical specifications?']\n",
      "common_elements: ['We provide various features for metaverse integration. Would you like to hear about our features, pricing, or the technical requirements?']\n",
      "common_elements: ['Our integration offers a multitude of features. Are you interested in learning about the features, the pricing, or the technical details?']\n",
      "common_elements: ['We have a diverse set of features for integrating into the metaverse. Do you want to know more about features, costs, or technical specifications?']\n",
      "17\n",
      "common_elements: ['To New York.', 'Next Monday.', 'In the morning.', 'Just me.']\n",
      "common_elements: ['Only myself.']\n",
      "common_elements: ['When do you plan to travel to {destination}?', 'Next Monday.', 'What time do you want to depart?', 'In the morning.', 'Just me.']\n",
      "common_elements: [\"I'm traveling next Monday.\", 'At what time would you like to leave?', 'Morning would be ideal.', \"It's only me traveling.\"]\n",
      "common_elements: ['I want to leave next Monday.', 'What departure time do you prefer?', 'I prefer a morning departure.', \"I'm flying solo.\"]\n",
      "common_elements: ['Next Monday.', 'Just me.']\n",
      "common_elements: ['It will be just me traveling.']\n",
      "18\n",
      "common_elements: [\"That's fantastic! Could you please tell us your thoughts?\"]\n",
      "19\n",
      "20\n",
      "21\n",
      "22\n",
      "23\n",
      "24\n",
      "25\n",
      "common_elements: ['There are four of us.', '$120']\n",
      "common_elements: ['Okay! What’s the overall amount of the bill?']\n",
      "common_elements: ['There are four of us.', 'The total is $120.']\n",
      "common_elements: ['There are four of us.']\n",
      "common_elements: ['There are four of us.', 'The total is $120.']\n",
      "common_elements: ['There are four of us.', 'The total is $120.']\n",
      "26\n",
      "27\n",
      "28\n",
      "common_elements: ['The reason for my suspension is a payment-related problem.']\n",
      "common_elements: ['My account suspension is due to an issue with my payment.']\n",
      "common_elements: ['The reason for my suspension is a payment problem.']\n",
      "common_elements: ['I believe my account got suspended due to an issue with payment.']\n",
      "29\n",
      "30\n",
      "31\n",
      "common_elements: ['My account number is 123456.']\n",
      "common_elements: ['You can find my account number as 123456.']\n",
      "common_elements: ['The number associated with my account is 123456.']\n",
      "common_elements: ['My account number is 123456.']\n",
      "32\n",
      "33\n",
      "34\n",
      "common_elements: ['123456']\n",
      "common_elements: ['My account number is 123456.']\n",
      "common_elements: [\"It's 123456.\"]\n",
      "common_elements: ['123456']\n",
      "common_elements: ['123456']\n",
      "common_elements: [\"I'm sorry to hear that you're looking to cancel. Could you please share your account number?\"]\n",
      "common_elements: ['I understand you want to cancel. Can you provide your account number?']\n",
      "common_elements: ['I regret to hear you wish to cancel. Would you mind giving me your account number?']\n",
      "35\n",
      "common_elements: ['Is there anything else I can help you with regarding your order?']\n",
      "common_elements: ['Is there anything else I can help you with regarding your order?']\n",
      "36\n",
      "37\n",
      "common_elements: ['I’d love to assist you with that. Could you share the specifics you want included on the invoice?']\n",
      "common_elements: ['I’m here to help! Please let me know what details you’d like on the invoice.']\n",
      "common_elements: ['Certainly! What information would you like me to include on the invoice?']\n",
      "38\n",
      "common_elements: [\"That's unfortunate. Can you share more about the competing offer?\"]\n",
      "common_elements: ['I understand. Would you mind telling me more about the offer from the other provider?']\n",
      "39\n",
      "common_elements: ['I want to choose a different product.']\n",
      "40\n",
      "common_elements: [\"I'd like to prolong it for a year.\"]\n",
      "common_elements: ['I want to extend it for twelve months.']\n",
      "41\n",
      "common_elements: [\"I see that you're facing a problem with a duplicate loyalty reward claim. Can you provide your account number or the email you registered with?\"]\n",
      "common_elements: [\"I understand there's an issue with a duplicate loyalty reward claim. Could you share your account number or registered email address?\"]\n",
      "common_elements: [\"I recognize that you're dealing with a duplicate loyalty reward claim. Please provide your account number or the email linked to your account.\"]\n",
      "common_elements: [\"I've checked your account, and it looks like there is indeed a duplicate claim. How would you like to proceed? I can merge your rewards into one account, issue a refund for the duplicate, or transfer the rewards to another account.\"]\n",
      "common_elements: ['After reviewing your account, I can confirm there’s a duplicate claim. What would you prefer to do? I can combine your rewards, process a refund for the duplicate, or move the rewards to a different account.']\n",
      "common_elements: ['Upon checking your account, it seems there’s a duplicate claim. How do you wish to resolve this? I can merge your rewards, issue a refund for the duplicate, or transfer them to a different account.']\n",
      "42\n",
      "43\n",
      "44\n",
      "common_elements: ['Do you want to activate offline mode for the app?']\n",
      "45\n",
      "46\n",
      "47\n",
      "common_elements: ['I think I need to pause for now, thank you.']\n",
      "common_elements: ['I would like to take a break for now, thanks.']\n",
      "common_elements: [\"I'd prefer to stop here for the moment, thank you.\"]\n",
      "48\n",
      "common_elements: ['Did you try refreshing to the latest version of the app?']\n",
      "common_elements: ['Have you checked if there’s an update available for your application?']\n",
      "common_elements: ['Have you considered updating the app to the latest version?']\n",
      "49\n",
      "common_elements: ['The correct address is 678 New Street.', \"I've updated your address. Is there anything else I can assist you with?\"]\n",
      "common_elements: ['Your address has been updated. How else can I help you?']\n",
      "50\n",
      "common_elements: ['Understood. What are the correct allergen details for this product?']\n",
      "51\n",
      "common_elements: [\"It's a Whirlpool WTW5000DW.\"]\n",
      "common_elements: [\"It's a Whirlpool WTW5000DW.\"]\n",
      "common_elements: [\"It's a Whirlpool WTW5000DW.\", 'Awesome! Which specific part are you looking for?']\n",
      "common_elements: ['The model is Whirlpool WTW5000DW.', 'Great! What part do you need?']\n",
      "common_elements: [\"I'm dealing with a Whirlpool WTW5000DW.\", 'Perfect! What exact part are you trying to find?']\n",
      "common_elements: [\"It's a Whirlpool WTW5000DW.\"]\n",
      "common_elements: [\"It's a Whirlpool WTW5000DW.\"]\n",
      "common_elements: ['The model is Whirlpool WTW5000DW.']\n",
      "common_elements: ['I have a Whirlpool WTW5000DW.']\n",
      "common_elements: [\"It's a Whirlpool WTW5000DW.\"]\n",
      "common_elements: ['The model is Whirlpool WTW5000DW.']\n",
      "common_elements: ['I have a Whirlpool model WTW5000DW.']\n",
      "common_elements: ['Certainly! What would you like to change it to?']\n",
      "common_elements: ['Is it possible for me to change my part?', 'Absolutely! What part do you want to replace it with?']\n",
      "common_elements: ['Can I opt for a different part?', 'Of course! What new part do you have in mind?']\n",
      "52\n",
      "53\n",
      "54\n",
      "55\n",
      "56\n",
      "common_elements: ['Yes, I could use some help connecting the TV to the internet.', \"Alright, let’s get your TV connected to the Wi-Fi network. Head to your TV’s settings and choose 'Network'. Which Wi-Fi network are you attempting to connect to?\"]\n",
      "common_elements: ['Sure, I need guidance on getting the TV online.', \"Okay, let’s set up your TV to connect to the Wi-Fi. Navigate to your TV's settings and select 'Network'. Which Wi-Fi network are you trying to join?\"]\n",
      "common_elements: ['I’m interested in connecting to Netflix.', 'Yes, I need assistance with connecting the TV to the internet.', \"Let's get your TV on the Wi-Fi! Go into the settings and select 'Network'. What Wi-Fi network are you looking to connect with?\"]\n",
      "common_elements: ['Awesome! To connect Netflix, ensure that your TV is online. Do you need assistance with that?', 'Yes, I could use some help connecting the TV to the internet.', \"Alright, let's get your TV connected to the Wi-Fi. Please navigate to your TV's settings and choose 'Network'. Which Wi-Fi network do you want to use?\"]\n",
      "common_elements: ['Perfect! To get started with Netflix, please check if your TV is connected to the internet. Do you need help with this?', 'I do need assistance with connecting the TV to the internet.', \"Okay, let's connect your TV to Wi-Fi. Go to your TV settings and select 'Network'. Which Wi-Fi network are you trying to connect to?\"]\n",
      "common_elements: ['Great choice! Just make sure your TV is connected to the internet for Netflix. Would you like assistance with that?', 'Yes, I need guidance on getting the TV online.', \"Let's set up your TV with Wi-Fi. Head to your TV's settings and select 'Network'. Which Wi-Fi network will you be using?\"]\n",
      "common_elements: [\"Alright, let’s get your TV connected to the Wi-Fi. Please navigate to your TV's settings and select 'Network'. Which Wi-Fi network do you want to join?\"]\n",
      "common_elements: ['I definitely need assistance with getting my TV online.', \"Okay, let’s connect your TV to Wi-Fi. Go to your TV's settings and choose 'Network'. Which network are you trying to connect to?\"]\n",
      "common_elements: ['Yes, I need guidance on how to connect my TV to the internet.', \"Let’s start by connecting your TV to your Wi-Fi. Please head to your TV settings and select 'Network'. What Wi-Fi network are you looking to connect to?\"]\n",
      "57\n",
      "common_elements: ['I want to return the deluxe skin care set.']\n",
      "common_elements: ['I want to return the deluxe skin care set.']\n",
      "58\n",
      "59\n",
      "60\n",
      "common_elements: ['50']\n",
      "61\n",
      "common_elements: [\"I've processed your refund request. You should see the funds returned in 5-7 business days.\"]\n",
      "62\n",
      "common_elements: ['My registration number is 12345.']\n",
      "common_elements: ['This is my registration number: 12345.']\n",
      "63\n",
      "64\n",
      "common_elements: [\"The checkout button isn't functioning.\"]\n",
      "common_elements: [\"I'm unable to click on the checkout button.\"]\n",
      "common_elements: [\"The button to proceed with checkout doesn't seem to work.\"]\n",
      "common_elements: ['The checkout button is unresponsive.']\n",
      "common_elements: [\"The checkout button isn't functioning.\", 'Thanks for letting me know. Would you like me to file this report for you right now?']\n",
      "common_elements: [\"I can't seem to get the checkout button to work.\", 'I appreciate the update. Should I go ahead and submit this report?']\n",
      "common_elements: ['The button for checkout is unresponsive.', 'Thank you for the details. Would you like me to report this issue immediately?']\n",
      "65\n",
      "common_elements: ['Of course, I can assist with that. Can you please share your account number?', 'My account number is 123456.']\n",
      "common_elements: ['This is my account number: 123456.']\n",
      "common_elements: ['My account number is 123456.']\n",
      "common_elements: ['This is my account number: 123456.']\n",
      "common_elements: ['My account number is 123456.', 'Thanks! Would you like notifications for every activity or just specific ones?']\n",
      "common_elements: ['Here’s my account number: 123456.', 'Got it. Do you want to get alerts for all activities or just selected ones?']\n",
      "common_elements: ['This is my account number: 123456.', 'Thank you! Should I set up notifications for all actions or only for certain activities?']\n",
      "common_elements: ['My account number is: 123456.']\n",
      "common_elements: ['My account number is 123456.']\n",
      "common_elements: ['This is my account number: 123456.']\n",
      "66\n",
      "67\n",
      "68\n",
      "69\n",
      "70\n",
      "71\n",
      "72\n",
      "73\n",
      "common_elements: [\"No, that's everything.\"]\n",
      "common_elements: [\"I'm sorry to hear that. Can you please tell me the email address of the sender?\"]\n",
      "common_elements: [\"I apologize for the inconvenience. Could you share the sender's email address with me?\"]\n",
      "common_elements: ['That’s unfortunate. Could you provide me with the email address of the sender?']\n",
      "74\n",
      "75\n",
      "76\n",
      "77\n",
      "78\n",
      "common_elements: ['Here are my account ID and email.']\n",
      "common_elements: ['Please tell me what steps you’ve taken to solve this issue. After you submit, our review team will look at your appeal.']\n",
      "common_elements: [\"Could you explain the actions you've taken to address this issue? Once submitted, our review team will review your appeal.\"]\n",
      "common_elements: ['Please describe what you’ve done to resolve this matter. After submission, our team will assess your appeal.']\n",
      "79\n",
      "80\n",
      "81\n",
      "82\n",
      "common_elements: [\"It's unfortunate to hear that you're cancelling. May I know your reasons?\"]\n",
      "common_elements: [\"I regret that you wish to cancel. Could you share why you're making this choice?\"]\n",
      "common_elements: [\"I understand you're looking to cancel. May I ask why?\"]\n",
      "common_elements: [\"It's unfortunate to hear that you're cancelling. What’s prompting this choice?\"]\n",
      "83\n",
      "84\n",
      "common_elements: ['Of course, I can assist you with that. Can you share your account number or the email associated with it?']\n",
      "common_elements: ['Absolutely, I can assist with that. Could you share your account number or the email linked to your account?']\n",
      "85\n",
      "common_elements: [\"I'm currently using Windows 10.\"]\n",
      "common_elements: ['My operating system is Windows 10.']\n",
      "common_elements: ['I have Windows 10 installed.']\n",
      "86\n",
      "87\n",
      "common_elements: ['Actually, I’d like to update the issue I mentioned earlier.']\n",
      "common_elements: ['I want to change the issue I brought up before.']\n",
      "common_elements: ['On second thought, I’d like to modify the previous issue I reported.']\n",
      "common_elements: ['I attempted to reset my password, but it was unsuccessful.']\n",
      "common_elements: [\"I tried changing my password, but it didn't work out.\"]\n",
      "common_elements: [\"I have already reset my password, but that didn't solve the problem.\"]\n",
      "88\n",
      "common_elements: ['Of course, my card number is 1234 5678 9012.']\n",
      "common_elements: ['Absolutely, it’s 1234 5678 9012.']\n",
      "89\n",
      "90\n",
      "91\n",
      "common_elements: ['Yes, my internet connection is fine.', \"That's good to hear. Now, let’s close any other applications that might be using your bandwidth. Could you do that for me?\"]\n",
      "common_elements: ['My internet seems to be stable.', 'Awesome. Now, let’s close any extra apps that could be consuming bandwidth. Please do that.']\n",
      "common_elements: [\"Yes, I've checked and my internet is stable.\", 'Great! Next, let’s shut down any unnecessary applications that may be using up your bandwidth. Please go ahead.']\n",
      "common_elements: ['Have you verified that your internet connection is stable?', 'Yes, my internet connection is stable.', \"Awesome. Let's try shutting down any extra applications that could be consuming your bandwidth. Please do that.\"]\n",
      "common_elements: ['Could you check if your internet connection is stable?', 'Absolutely, my internet seems to be working fine.', \"Great! Now, let's close any other apps that might be using up your bandwidth. Go ahead and do that.\"]\n",
      "common_elements: ['Yes, my connection is solid.', \"Perfect. Now, let's see if closing any unnecessary applications that may be using bandwidth helps. Please proceed with that.\"]\n",
      "92\n",
      "common_elements: [\"It's a Samsung Galaxy S21.\", 'Thanks for that information. Have you attempted to restart your device?', 'I did that, but the touchscreen is still not responding.', \"I understand. Let's try booting into Safe Mode to see if a third-party app might be the issue. To do that, press and hold the power button, then tap and hold 'Power Off' until you see 'Safe Mode'. Let me know when you’re in Safe Mode.\"]\n",
      "common_elements: [\"I'm using a Samsung Galaxy S21.\", 'I appreciate that. Have you tried turning your device off and back on?', 'I followed those steps, but the touchscreen remains unresponsive.', \"I see. Next, let’s boot into Safe Mode to check if the issue is caused by a third-party app. Hold the power button, then tap and hold 'Power Off' until 'Safe Mode' appears. Let me know when you're ready.\"]\n",
      "common_elements: ['The model is Samsung Galaxy S21.', 'Thank you! Have you given your device a restart yet?', 'I completed the calibration, yet the touchscreen is still not responding.', \"Alright. We can try entering Safe Mode to see if a third-party application is the cause. Press and hold the power button, then long-press 'Power Off' until you see the 'Safe Mode' prompt. Let me know once you're there.\"]\n",
      "common_elements: [\"It's a Samsung Galaxy S21.\"]\n",
      "common_elements: [\"I'm using a Samsung Galaxy S21.\"]\n",
      "common_elements: ['The model is Samsung Galaxy S21.']\n",
      "common_elements: [\"It's a Samsung Galaxy S21.\", 'I did that, but the touchscreen is still not responding.']\n",
      "common_elements: [\"It's a Samsung Galaxy S21.\"]\n",
      "common_elements: [\"I'm using a Samsung Galaxy S21.\"]\n",
      "common_elements: ['Can you tell me the model of your device?', \"It's a Samsung Galaxy S21.\"]\n",
      "common_elements: [\"I'm using a Samsung Galaxy S21.\"]\n",
      "common_elements: [\"It's a Samsung Galaxy S21.\"]\n",
      "common_elements: ['The model is Samsung Galaxy S21.']\n",
      "common_elements: [\"It's a Samsung Galaxy S21.\"]\n",
      "common_elements: ['The model is Samsung Galaxy S21.']\n",
      "common_elements: ['I have a Samsung Galaxy S21.']\n",
      "common_elements: [\"It's a Samsung Galaxy S21.\"]\n",
      "common_elements: [\"I'm using a Samsung Galaxy S21.\"]\n",
      "common_elements: ['The device model is Samsung Galaxy S21.']\n",
      "93\n",
      "common_elements: ['My account number is 123456.']\n",
      "common_elements: ['My account number is 123456.']\n",
      "common_elements: ['My account number is 123456.', 'Thanks! I’ve confirmed your account. Would you like to use a promo code now?']\n",
      "common_elements: ['I have account number 123456.', \"Thank you for that. I've checked your account. Do you want to apply a promo code at this time?\", 'On second thought, I want to update my account number.']\n",
      "common_elements: ['The account number I have is 123456.', \"Got it! I've verified your account. Are you ready to apply a promo code?\", 'I’d like to modify my account number instead.']\n",
      "common_elements: ['My account number is 123456.', 'Actually, I need to update my account number.']\n",
      "common_elements: ['The account number I have is 123456.', \"I've decided to change my account number.\"]\n",
      "common_elements: ['You can find my account number as 123456.', 'I want to modify my account number instead.']\n",
      "common_elements: ['My account number is 123456.']\n",
      "common_elements: ['Here’s my account number: 123456.']\n",
      "common_elements: ['You can find my account number as 123456.']\n",
      "common_elements: ['My account number is 123456.']\n",
      "94\n",
      "common_elements: [\"Thank you. I've sent a password reset link to your email. Please check your inbox.\"]\n",
      "95\n",
      "96\n",
      "97\n",
      "common_elements: ['I need to dispute a double charge on my credit card.', 'I’m sorry to hear that. Could you share the date and amount of the charges you’re disputing?', 'The charges were processed on March 5th, each for $50.', 'Thank you for the information. I see the two $50 charges on March 5th. Would you like me to start a dispute for these?']\n",
      "common_elements: ['I apologize for the inconvenience. Can you please provide the date and amount for the charges in question?', 'I noticed two $50 charges on March 5th.', 'Got it. I found two $50 charges from March 5th. Should I go ahead and initiate a dispute for those?']\n",
      "common_elements: [\"I'd like to challenge a double charge on my credit card.\", \"I'm sorry about that. Would you mind letting me know the date and amount of the charges you're referring to?\", 'The amounts in question are $50 each, charged on March 5th.', 'Thanks for confirming. I see the $50 charges from March 5th. Do you want me to file a dispute for them?']\n",
      "98\n",
      "99\n",
      "common_elements: ['The transaction ID is TX123456789.']\n",
      "common_elements: ['Would you like to confirm the transaction details or make any changes?']\n",
      "common_elements: ['The transaction ID is TX123456789.']\n",
      "common_elements: [\"Forget it, I've changed my mind.\", 'Are you certain you want to exit the fraud reporting procedure?']\n",
      "common_elements: [\"Actually, I've decided not to proceed.\", 'Just to confirm, do you really want to leave the fraud reporting process?']\n",
      "common_elements: [\"Never mind, I've reconsidered.\", 'Are you positive that you want to cancel the report?']\n",
      "100\n",
      "101\n",
      "102\n",
      "103\n",
      "common_elements: [\"It's 123 Main St.\", 'Next Monday.', 'Morning.']\n",
      "common_elements: [\"It's 123 Main St.\", 'Next Monday.', 'Morning.']\n",
      "common_elements: ['Next Monday.']\n",
      "common_elements: ['Morning.']\n",
      "common_elements: ['Morning.']\n",
      "common_elements: ['In the morning, please.']\n",
      "104\n",
      "105\n",
      "106\n",
      "107\n",
      "108\n",
      "109\n",
      "common_elements: ['Thank you for that. It shows you ordered a Medium size. Would you prefer a replacement, a refund, or an exchange for a different size?']\n",
      "common_elements: ['Thanks for the information. I see you ordered a Medium. Would you like to replace it, get a refund, or switch it for another size?']\n",
      "common_elements: ['Thanks! I found that you ordered a Medium size. Do you want a replacement, a refund, or to swap it for a different size?']\n",
      "common_elements: ['Thank you for that. I see that you ordered a Medium size. Would you prefer a replacement, a refund, or an exchange for a different size?']\n",
      "common_elements: ['Thanks for the information. I found that you ordered a Medium. Would you like to get a replacement, a refund, or switch it for another size?']\n",
      "common_elements: ['Thanks! I noticed you ordered a Medium size. Would you like to exchange it, get a refund, or replace it with a different size?']\n",
      "110\n",
      "common_elements: [\"I'm looking to stay this weekend.\", 'Two adults']\n",
      "common_elements: ['I plan to stay over the weekend.', 'I have two adults with me', 'Looking for available hotels… I found a few choices. Would you like them organized by price or rating?']\n",
      "common_elements: ['My stay is scheduled for this weekend.', 'There will be two adults', 'I’m checking for available hotel options… I found several. Would you like to sort them by price or by rating?']\n",
      "common_elements: ['This weekend', 'Two adults']\n",
      "common_elements: ['Two adults', 'Searching for available hotels… I found a few options. Do you want them sorted by price or by rating?']\n",
      "common_elements: ['Two adults', 'Searching for available hotels… I found a number of options. Would you prefer to sort them by price or by rating?']\n",
      "common_elements: ['Looking for available hotels… I found several choices. Would you like them sorted based on price or rating?']\n",
      "common_elements: ['Searching for hotels… I’ve found multiple options. Would you like to order them by price or by rating?']\n",
      "common_elements: ['Searching for available hotels… I’ve found a number of options. Would you prefer to sort them by price or rating?']\n",
      "common_elements: ['Looking up available hotels… I located several options. Would you like them sorted by price or by rating?']\n",
      "common_elements: ['Searching for hotels… I discovered several options. Do you want to sort them by price or rating?']\n",
      "common_elements: ['Searching for available hotels… I found a few options. Would you prefer them sorted by price or rating?']\n",
      "111\n",
      "common_elements: ['I appreciate your willingness to share suggestions for enhancing our product. Which area would you like to discuss first? Features, Usability, or Customer Support?']\n",
      "common_elements: ['Thank you for your interest in improving our product. Which aspect would you like to tackle first: Features, Usability, or Customer Support?']\n",
      "common_elements: ['Thanks for wanting to help us improve! What would you like to focus on first? Features, Usability, or Customer Support?']\n",
      "common_elements: ['I appreciate your willingness to share suggestions for enhancing our product. Which area would you like to focus on first? Features, Usability, or Customer Support?']\n",
      "common_elements: ['Thank you for your interest in improving our product. What would you like to discuss first? Features, Usability, or Customer Support?']\n",
      "common_elements: ['Thanks for wanting to suggest ways to enhance our product. Which aspect interests you most? Features, Usability, or Customer Support?']\n",
      "112\n",
      "113\n",
      "common_elements: [\"I've noted the incorrect dimensions for product ID 12345. Would you like to add anything else?\"]\n",
      "114\n",
      "115\n",
      "116\n",
      "117\n",
      "118\n",
      "common_elements: ['Would you like to turn on ad-blocking in your browser?']\n",
      "common_elements: ['Are you interested in activating ad-blocking features in your browser?']\n",
      "common_elements: ['Do you want to enable ad-blocking functionality in your browser?']\n",
      "119\n",
      "common_elements: [\"Got it. Let's verify that your email address is accurate in our system. Could you confirm the email you registered with?\"]\n",
      "common_elements: [\"Understood. Let's check if your email is correctly listed in our records. Can you provide your registered email address?\"]\n",
      "common_elements: [\"I see. Let's ensure your email address is correct in our database. Can you confirm what email you used to register?\"]\n",
      "120\n",
      "121\n",
      "122\n",
      "123\n",
      "124\n",
      "125\n",
      "common_elements: [\"I'd prefer to have it on next Wednesday at 3 PM.\", \"I've checked, and next Wednesday at 3 PM is open. Would you like me to finalize that for you?\"]\n",
      "common_elements: ['Can we set it for next Wednesday at 3 PM?', 'I found that next Wednesday at 3 PM is available. Should I go ahead and confirm that time?']\n",
      "common_elements: ['I want to change it to next Wednesday at 3 PM.', 'Next Wednesday at 3 PM is free. Do you want me to secure that appointment for you?']\n",
      "126\n",
      "127\n",
      "128\n",
      "common_elements: ['I’m really sorry to hear that. Could you share your order number with me?']\n",
      "common_elements: ['I apologize for the inconvenience. Can you please provide me with your order number?']\n",
      "common_elements: [\"I'm sorry to hear about the issue. Could you let me know your order number?\"]\n",
      "129\n",
      "130\n",
      "131\n",
      "common_elements: ['The total amount charged is wrong; it should be $100 rather than $1000.', \"Thank you for clarifying that. I'll fix the typo and update your billing statement. Is there anything else you need help with?\"]\n",
      "common_elements: ['The bill shows an incorrect total; it needs to be $100 instead of $1000.', 'I appreciate the information. I will correct that error and revise your bill. Is there anything else I can assist you with?']\n",
      "common_elements: ['I was billed incorrectly; the total should read $100, not $1000.', \"Thanks for that detail. I'll make the correction and update your statement. Do you need assistance with anything else?\"]\n",
      "common_elements: [\"Thank you for clarifying. I'll fix the error and update your billing statement. Is there anything else you need help with?\"]\n",
      "common_elements: ['I appreciate the information. I’ll correct the mistake and revise your billing statement. Can I assist you with anything else?']\n",
      "common_elements: [\"I've been charged incorrectly; it ought to be $100 not $1000.\", 'Thanks for that! I will amend the typo and refresh your billing statement. Do you need anything else?']\n",
      "common_elements: ['The total amount charged is wrong; it should be $100, not $1000.', 'Thanks for the details. I’ll fix the typo and update your bill. Is there anything else you need?']\n",
      "common_elements: ['That’s unfortunate. Could you let me know what the typo is?', 'The total on my bill is incorrect; it needs to be $100 instead of $1000.', 'I appreciate the information. I’ll correct the error and revise your billing statement. Do you need assistance with anything else?']\n",
      "common_elements: ['I apologize for the inconvenience. Could you provide more specifics about the typo?', 'I was charged incorrectly; the total should be $100, not $1000.', 'Thank you for letting me know. I’ll make the necessary correction to your bill. Is there anything more I can help you with?']\n",
      "common_elements: ['The total amount charged is wrong; it should be $100, not $1000.']\n",
      "common_elements: ['The amount billed is incorrect; it ought to be $100 instead of $1000.']\n",
      "common_elements: [\"That's unfortunate to hear. Could you let me know what the error is?\", 'I was charged $1000, but it should be $100.']\n",
      "common_elements: ['The amount charged is wrong; it should be $100 instead of $1000.', 'Thanks for the details. I will fix the error and update your bill. Is there anything else you need?']\n",
      "common_elements: ['The total is incorrect; I should have been charged $100, not $1000.', 'I appreciate the information. I’ll correct the mistake and revise your billing statement. Do you need help with anything else?']\n",
      "common_elements: ['The billing amount is off; it needs to be $100 rather than $1000.', \"Thank you for clarifying. I'll make the correction and refresh your bill. Is there anything more I can assist you with?\"]\n",
      "common_elements: ['I apologize for that. Can you please share more details about the error?']\n",
      "common_elements: [\"I'm sorry to hear that! Could you tell me what the typo is?\"]\n",
      "common_elements: ['I regret that. Could you provide specifics about the mistake?']\n",
      "132\n",
      "common_elements: ['I apologize for that. Could you share the details of your transaction?', 'Certainly, my transaction ID is 12345 and I converted 100 USD to EUR.', 'Thank you for that information. Could you clarify the currencies and their respective amounts?']\n",
      "common_elements: [\"I'm sorry to hear that. Can you provide the details of your transaction?\", 'Sure thing! My transaction ID is 12345 for the amount of 100 USD to EUR.', 'Thanks! Can you detail the currencies involved and the amounts exchanged?']\n",
      "common_elements: [\"I understand, and I'm here to help. Could you give me your transaction details?\", 'Absolutely, the transaction ID is 12345 and I exchanged 100 USD for EUR.', 'I appreciate it. Could you specify the currencies and amounts in the transaction?']\n",
      "133\n",
      "common_elements: ['Have you found any backup save files, or have you tried any recovery tools?']\n",
      "common_elements: ['Have you found any backup save files, or have you tried using any recovery tools?']\n",
      "common_elements: ['Did you happen to locate any backup saves or try any recovery software?']\n",
      "common_elements: ['Have you checked for any backup files or attempted to use recovery tools?']\n",
      "134\n",
      "135\n",
      "136\n",
      "137\n",
      "common_elements: [\"I'm encountering some unexpected difficulties and require more time to finish the project.\"]\n",
      "common_elements: [\"I've run into some unforeseen obstacles and need extra time to complete my project.\", 'Understood. How long of an extension are you looking for?']\n",
      "common_elements: [\"I'm dealing with some unexpected issues and need additional time to wrap up the project.\", 'Got it. What additional time frame are you requesting?']\n",
      "common_elements: ['Got it. What length of extension do you need?']\n",
      "138\n",
      "139\n",
      "common_elements: ['Is there anything else I can help you with?']\n",
      "common_elements: [\"No, that's everything, thank you.\"]\n",
      "140\n",
      "141\n",
      "142\n",
      "143\n",
      "144\n",
      "145\n",
      "146\n",
      "147\n",
      "148\n",
      "common_elements: ['I regret that you need to cancel your ticket. Can you provide your order number, please?']\n",
      "common_elements: [\"I'm sorry you have to cancel your ticket. Could you let me know your order number?\"]\n",
      "149\n",
      "150\n",
      "151\n",
      "common_elements: ['I wish to redeem 500 loyalty points.']\n",
      "152\n",
      "153\n",
      "common_elements: ['Yes, I want to enhance my security.']\n",
      "common_elements: ['Absolutely, I’d like to add more security measures.', 'Shall we change your registered email address to add another layer of security?']\n",
      "common_elements: ['Yes, I wish to implement additional security layers.', 'Would you be interested in changing your registered email address for added security?']\n",
      "154\n",
      "common_elements: ['Of course, I can assist you in turning on data saver mode. Would you prefer to apply it to all your apps or just a few specific ones?']\n",
      "common_elements: ['Absolutely, I can guide you through enabling data saver mode. Do you want to set it for all your applications or just choose certain ones?']\n",
      "common_elements: ['Sure, I can help with activating data saver mode. Would you like it for every app or just select ones?']\n",
      "common_elements: ['Of course, I can assist you in turning on data saver mode. Would you prefer to apply it to all your apps or just certain ones?']\n",
      "common_elements: ['Absolutely, I can guide you on enabling data saver mode. Do you want to activate it for all apps or just a few of them?']\n",
      "common_elements: ['Certainly! Would you like to turn on data saver mode for all your applications or choose specific ones?']\n",
      "common_elements: ['Of course, I can assist you in turning on data saver mode. Would you prefer it for all apps or just a few specific ones?']\n",
      "common_elements: ['Absolutely, I can guide you through enabling data saver mode. Do you want to apply it to all your applications or choose particular ones?']\n",
      "common_elements: ['Sure thing, I can help you set up data saver mode. Would you like it activated for every app or just select ones?']\n",
      "155\n",
      "156\n",
      "common_elements: ['Here are the blackout dates for June: June 10 and June 20.']\n",
      "157\n",
      "158\n",
      "159\n",
      "common_elements: ['Go ahead.']\n",
      "160\n",
      "161\n",
      "162\n",
      "163\n",
      "164\n",
      "165\n",
      "166\n",
      "167\n",
      "common_elements: ['Sure, it’s scam@example.com.']\n",
      "common_elements: ['Sure, the email address is scam@example.com.']\n",
      "common_elements: ['The email address is scam@example.com.']\n",
      "168\n",
      "169\n",
      "common_elements: ['Please select the auto-save interval: every 5 minutes, 10 minutes, or 15 minutes.']\n",
      "common_elements: ['Please select how often you want the auto-save to occur: every 5 minutes, 10 minutes, or 15 minutes.']\n",
      "common_elements: ['Please select the auto-save interval: every 5 minutes, 10 minutes, or 15 minutes.']\n",
      "common_elements: ['Please select the auto-save interval: every 5 minutes, 10 minutes, or 15 minutes.']\n",
      "common_elements: [\"Please select how often you'd like the auto-save to occur: every 5 minutes, 10 minutes, or 15 minutes.\"]\n",
      "170\n",
      "common_elements: [\"A 'Connection timeout' error usually points to problems with the network. Have you verified your network connection?\"]\n",
      "common_elements: [\"This 'Connection timeout' error often suggests network problems. Have you checked your internet connectivity?\"]\n",
      "common_elements: [\"Typically, a 'Connection timeout' indicates there may be issues with the network. Have you looked into your network connection?\"]\n",
      "171\n",
      "172\n",
      "173\n",
      "common_elements: ['Of course! Are you interested in a discount for our products or services?']\n",
      "174\n",
      "common_elements: ['I plan to check in on June 1st and check out on June 5th.']\n",
      "common_elements: ['My check-in is June 1st, and check-out is June 5th.']\n",
      "common_elements: ['Check-in on June 1st and check-out on June 5th.', 'There will be two adults and one dog.']\n",
      "common_elements: ['Check-in on June 1st and check-out on June 5th.', 'Two adults and one dog.']\n",
      "common_elements: ['I want to check in on June 1st and check out on June 5th.', 'There will be two adults and a dog.']\n",
      "common_elements: [\"I'll be checking in June 1st and checking out June 5th.\", \"I'm bringing two adults and one dog.\"]\n",
      "common_elements: ['Check-in on June 1st and check-out on June 5th.', 'Two adults and one dog.']\n",
      "common_elements: ['There will be two adults and one dog.']\n",
      "common_elements: ['Check-in on June 1st and check-out on June 5th.', 'Got it. How many guests will be accompanying you?', 'Two adults and one dog.']\n",
      "common_elements: ['Understood. How many people will be staying with you?', 'There will be two adults and one dog.']\n",
      "common_elements: ['Alright. How many guests will be there?', \"It's two adults and a dog.\"]\n",
      "common_elements: ['Check-in on June 1st and check-out on June 5th.', 'Two adults and one dog.']\n",
      "common_elements: [\"I'm checking in on June 1st and leaving on June 5th.\", 'There will be two adults and a dog.']\n",
      "common_elements: [\"I'll be arriving on June 1st and departing on June 5th.\", \"I'm traveling with two adults and one dog.\"]\n",
      "175\n",
      "176\n",
      "common_elements: ['Please unlink my Visa ending in 1234.', 'Are you certain you want to remove this payment method from autopay?']\n",
      "common_elements: [\"I'd like to remove my Visa card that ends with 1234.\", 'Just to confirm, do you really want to unlink your payment method from autopay?']\n",
      "common_elements: ['Can you take off my Visa ending in 1234?', 'Are you sure you wish to proceed with removing this payment method from autopay?']\n",
      "common_elements: ['Of course, I can help you unlink a payment method from autopay. Which one do you want to remove?', 'Are you certain you want to unlink this payment method from autopay?']\n",
      "common_elements: ['Just to confirm, do you really want to remove your payment method from autopay?']\n",
      "common_elements: ['Are you sure you wish to take this payment method off autopay?']\n",
      "common_elements: ['Just to confirm, do you really want to unlink this payment method from autopay?']\n",
      "common_elements: ['Can you please confirm if you want to proceed with removing your payment method from autopay?']\n",
      "common_elements: ['Just to confirm, are you sure you want to unlink your payment method from autopay?']\n",
      "common_elements: ['Of course, I can help you unlink a payment method from autopay. Which one do you want to remove?', 'Please unlink my Visa ending in 1234.', 'Are you certain you want to unlink your payment method from autopay?']\n",
      "common_elements: [\"I'd like to remove the Visa card that ends in 1234.\", 'Just to confirm, do you really want to remove this payment method from autopay?']\n",
      "common_elements: ['Can you take off my Visa that ends with 1234?', 'Are you sure you want to delete your payment method from autopay?']\n",
      "common_elements: ['Of course, I can help you unlink a payment method from autopay. Which one do you want to remove?', 'Please unlink my Visa that ends with 1234.']\n",
      "common_elements: [\"I'd like to remove my Visa card that finishes in 1234.\"]\n",
      "common_elements: ['Can you take off my Visa card ending in 1234?']\n",
      "177\n",
      "common_elements: ['John', 'Yes, please.', \"I'll upload it later.\"]\n",
      "common_elements: ['John', 'Yes, please.']\n",
      "common_elements: ['John']\n",
      "common_elements: ['John', 'Yes, please.']\n",
      "common_elements: ['John', 'Please go ahead and upload the profile picture for John.']\n",
      "common_elements: ['John', 'Yes, please.', 'Please upload the profile picture for John.', \"I'll upload it later.\"]\n",
      "common_elements: ['Go ahead and upload the profile picture for John.']\n",
      "common_elements: ['You can upload the profile picture for John now.', \"Alright. Let's continue to the next profile. What name should we use?\"]\n",
      "common_elements: ['John', 'Yes, please.', \"I'll upload it later.\"]\n",
      "common_elements: ['John', \"I'll do that later.\"]\n",
      "178\n",
      "179\n",
      "180\n",
      "181\n",
      "182\n",
      "183\n",
      "184\n",
      "185\n",
      "186\n",
      "common_elements: ['10 AM.']\n",
      "common_elements: ['10 AM']\n",
      "187\n",
      "188\n",
      "common_elements: ['John Doe', 'john.doe@example.com']\n",
      "common_elements: ['John Doe', 'john.doe@example.com']\n",
      "common_elements: ['John Doe', 'john.doe@example.com']\n",
      "common_elements: ['John Doe', 'john.doe@example.com']\n",
      "common_elements: ['John Doe', 'john.doe@example.com']\n",
      "common_elements: ['John Doe', 'john.doe@example.com']\n",
      "common_elements: ['John Doe']\n",
      "common_elements: ['john.doe@example.com']\n",
      "common_elements: ['john.doe@example.com']\n",
      "common_elements: ['My email is john.doe@example.com.']\n",
      "common_elements: ['John Doe', 'john.doe@example.com']\n",
      "common_elements: ['John Doe', 'john.doe@example.com']\n",
      "common_elements: ['John Doe', 'john.doe@example.com']\n",
      "common_elements: ['My work email is john.doe@example.com']\n",
      "common_elements: ['John Doe', 'john.doe@example.com']\n",
      "common_elements: ['My email is john.doe@example.com.']\n",
      "common_elements: [\"It's john.doe@example.com.\"]\n",
      "common_elements: ['What kinds of rewards are you interested in? (like travel, dining, merchandise)']\n",
      "common_elements: ['What types of rewards are you interested in? For example, travel, dining, or merchandise.']\n",
      "common_elements: [\"Could you tell me what kind of rewards you'd like? (e.g., travel, dining, merchandise)\"]\n",
      "common_elements: ['What kind of rewards are you looking for? Options include travel, dining, and merchandise.']\n",
      "common_elements: ['john.doe@example.com']\n",
      "common_elements: ['john.doe@example.com']\n",
      "189\n",
      "190\n",
      "191\n",
      "common_elements: ['Awesome! I can help you with that. Are you an active duty member or a veteran?']\n",
      "common_elements: ['Perfect! I can assist you with that. Are you currently serving or are you a veteran?']\n",
      "common_elements: ['Fantastic! I can help you with this. Are you a current service member or a veteran?']\n",
      "common_elements: ['Fantastic! I can assist you with that. Are you a veteran or an active service member?']\n",
      "common_elements: ['Awesome! I’m here to help. Are you currently serving or have you served in the past?']\n",
      "common_elements: ['Sure! I’d be happy to help you with that. Are you an active duty member or a veteran?']\n",
      "192\n",
      "193\n",
      "194\n",
      "195\n",
      "196\n",
      "common_elements: [\"The project's name is Alpha.\"]\n",
      "common_elements: ['The project is called Alpha.']\n",
      "common_elements: ['Please restore them to my local drive.']\n",
      "197\n",
      "198\n",
      "common_elements: ['I’m not sure what the model number is.']\n",
      "199\n",
      "common_elements: [\"I'm really sorry to hear that. Could you share your booking reference and the new dates you prefer?\"]\n",
      "200\n",
      "201\n",
      "202\n",
      "common_elements: [\"I regret to hear that the voice-to-text feature is malfunctioning. Let's collaborate to solve this. Can you tell me which device you're using?\"]\n",
      "203\n",
      "common_elements: ['Here are my new contact details.']\n",
      "common_elements: ['Before that, I have a question.', 'No problem! What information do you need about the military discount?']\n",
      "common_elements: ['I have a query before proceeding.', 'Sure! What would you like to know regarding the military discount?']\n",
      "common_elements: ['Actually, I’d like to ask something first.', 'Of course! How can I help clarify things about the military discount?']\n",
      "common_elements: ['I have a question before that.', 'Sure! What information do you need about the military discount?']\n",
      "common_elements: ['Actually, I’d like to know something first.', 'Of course! How can I assist you with your questions about the military discount?']\n",
      "common_elements: ['Before that, I need to ask something.', 'Absolutely! What would you like to know about the military discount?']\n",
      "common_elements: ['Before that, I have a question.']\n",
      "common_elements: ['I have something I want to ask first.']\n",
      "common_elements: ['Of course! Do you serve in the military right now?', 'Actually, I need some clarification before proceeding.']\n",
      "common_elements: ['Before that, I have a quick question.', 'Certainly! What information can I provide you about the military discount?']\n",
      "common_elements: ['I have a question to ask first.', 'Of course! What details do you need regarding the military discount?']\n",
      "common_elements: ['Actually, I want to clarify something before proceeding.', 'Absolutely! How can I assist you with your inquiry about the military discount?']\n",
      "common_elements: ['Before that, I have a quick question.']\n",
      "common_elements: ['I have a question I’d like to ask first.']\n",
      "common_elements: ['Actually, I need to ask something before proceeding.']\n",
      "204\n",
      "205\n",
      "common_elements: ['That’s unfortunate to hear. Could you explain what’s going wrong with the live chat?']\n",
      "common_elements: ['I apologize for the inconvenience. Could you describe the problem with the live chat further?']\n",
      "206\n",
      "207\n",
      "common_elements: [\"I'm not satisfied with the updated user interface.\"]\n",
      "common_elements: [\"The new user interface isn't working for me.\"]\n",
      "common_elements: [\"I'm displeased with how the updated interface looks.\"]\n",
      "208\n",
      "common_elements: [\"I understand you're considering canceling your subscription. Can you share what's prompting this decision?\"]\n",
      "common_elements: [\"I'm sorry to learn that you're thinking of canceling. What led you to this choice?\"]\n",
      "common_elements: ['I regret to hear you want to cancel. Could you explain what influenced your decision?']\n",
      "209\n",
      "common_elements: ['Got it! Would you like to connect over Wi-Fi or through a wired connection?']\n",
      "common_elements: ['Understood. Do you prefer a Wi-Fi connection or a wired one?']\n",
      "common_elements: ['Alright! Would you like to use Wi-Fi or a wired connection for the setup?']\n",
      "210\n",
      "common_elements: ['To start, please restart your router. Turn it off, wait about 30 seconds, and then power it back on.']\n",
      "common_elements: ['I reset the network settings, and now it connects! Thanks a lot.']\n",
      "common_elements: ['After resetting the network settings, it finally connects! Thank you!']\n",
      "common_elements: ['I reset the network settings, and now I have a connection! I appreciate your help.']\n",
      "common_elements: [\"I've reset my network settings, and now it works! Thank you.\"]\n",
      "common_elements: ['After resetting the network settings, it connected successfully! Thanks a lot.']\n",
      "common_elements: [\"I reset the network settings, and now it's working! Thank you!\"]\n",
      "211\n",
      "212\n",
      "213\n",
      "214\n",
      "215\n",
      "common_elements: [\"I'm sorry to learn that you're considering canceling your service. Can I ask what’s prompting this decision?\", \"The service doesn't have some features that I require.\", 'I see. Could you specify which features you feel are lacking? Perhaps we can assist in some way.', \"I'm missing Feature X and Y.\", \"Thank you for the feedback. We're constantly striving to improve. Would you prefer to wait for these features to be added or would you like to cancel right away?\", 'I want to go ahead with the cancellation now.', \"To move forward with your cancellation, please confirm by typing 'Yes'.\", \"Actually, I've changed my mind; I want to keep the service.\"]\n",
      "common_elements: [\"I regret to hear that you're thinking about canceling. What are your reasons for this?\", \"I'm finding that the service is missing several important features for me.\", \"I understand. What features are you missing? Maybe there's something we can do about it.\", 'Features X and Y are not available, and I need them.', \"I appreciate you sharing that with us. We're always looking to enhance our offerings. Would you like to hold off and see if we add those features, or shall we proceed with the cancellation now?\", \"Let's proceed with canceling my service for now.\", \"If you're sure about canceling, please confirm by responding with 'Yes'.\", 'On second thought, I’d like to continue with the service.']\n",
      "common_elements: [\"I'm saddened to hear you want to cancel. Could you share what’s behind your choice?\", \"There are a few key features that I need that aren't available in this service.\", 'Got it. Can you let me know which specific features you think are missing? We might be able to help.', \"I need Features X and Y, but they're currently not offered.\", \"Thanks for informing us. We're always working on enhancements. Would you like to wait for us to introduce these features or would you like to cancel immediately?\", 'I’d like to cancel my service at this moment.', \"To finalize the cancellation, just type 'Yes' to confirm.\", \"Wait, I've decided I want to maintain my service.\"]\n",
      "216\n",
      "217\n",
      "218\n",
      "common_elements: ['I want to change the date.', \"I've made the date change as you requested. Is there anything else I can help you with?\"]\n",
      "common_elements: ['Your booking date has been updated according to your request. Do you need assistance with anything else?']\n",
      "common_elements: [\"I've successfully changed the date for you. Anything else you would like help with?\"]\n",
      "219\n",
      "220\n",
      "common_elements: [\"I'm sorry to hear that. Can you tell me the product name and what the incorrect instruction is?\", 'The product in question is XYZ, and it mentions washing it in hot water.', 'Thank you for that information. Can you tell me what the correct care instructions are?', 'It should actually be washed in cold water.', 'Understood. Do you want to go ahead and submit this report?']\n",
      "common_elements: ['I apologize for the inconvenience. Could you share the product name along with the incorrect care instruction?', \"It's XYZ, and the instructions say to wash it in hot water.\", 'Thanks! Now, could you let me know what the appropriate care instructions should be?', 'The correct instruction is to wash it in cold water.', 'Got it. Would you like to file this report now?']\n",
      "common_elements: ['That’s unfortunate to hear. Please provide the product name and the specific instruction that is incorrect.', 'This is regarding the XYZ product, which states to wash it in hot water.', 'Appreciate it! What are the correct care instructions for this product?', 'In fact, it needs to be washed in cold water instead.', 'Alright! Should I submit this report for you?']\n",
      "221\n",
      "common_elements: [\"I'm really sorry to hear that. Can you provide more details about the problem? For instance, is the screen entirely blank or are there other issues?\"]\n",
      "common_elements: [\"That sounds frustrating! Could you elaborate on what's happening? Is the display just blank or is there something else going on?\"]\n",
      "common_elements: ['I understand. Could you explain the situation a bit more? Is the screen completely unresponsive or is there something else?']\n",
      "common_elements: ['I apologize for the inconvenience. Could you elaborate on the problem? For instance, is the display blank, or are there other symptoms?']\n",
      "common_elements: [\"That's unfortunate! Could you explain the issue a bit more? Is the screen unresponsive, or are there additional problems?\"]\n",
      "222\n",
      "223\n",
      "224\n",
      "225\n",
      "226\n",
      "227\n",
      "228\n",
      "229\n",
      "230\n",
      "231\n",
      "232\n",
      "common_elements: [\"I'm really sorry to hear that. Let's resolve this issue. Could you please share your registered email address?\"]\n",
      "common_elements: [\"I apologize for the inconvenience. Let's fix this. Can you provide your registered email address?\"]\n",
      "common_elements: [\"I'm sorry about that! Let's get it straightened out. Can you tell me your registered email address?\"]\n",
      "233\n",
      "234\n",
      "235\n",
      "common_elements: ['Yes']\n",
      "common_elements: ['Yes']\n",
      "common_elements: ['Yes']\n",
      "common_elements: ['Yes']\n",
      "common_elements: ['Yes']\n",
      "common_elements: ['Yes']\n",
      "common_elements: ['Yes']\n",
      "common_elements: ['Yes.']\n",
      "common_elements: [\"Let's go to the manufacturer's website and download the latest drivers. Just let me know when you’ve done that.\"]\n",
      "common_elements: ['Yes']\n",
      "common_elements: ['Yes']\n",
      "common_elements: ['Yes']\n",
      "common_elements: ['Yes']\n",
      "236\n",
      "common_elements: ['I want to downgrade to the standard plan.']\n",
      "common_elements: ['I want to cancel the premium plan.']\n",
      "237\n",
      "238\n",
      "239\n",
      "240\n",
      "241\n",
      "242\n",
      "243\n",
      "244\n",
      "common_elements: ['We’ve confirmed your account. Can you describe the issue you faced?']\n",
      "common_elements: ['Your account has been verified. What issue are you experiencing?']\n",
      "common_elements: [\"Your account verification is complete. Could you explain the problem you've encountered?\"]\n",
      "245\n",
      "common_elements: ['Goodbye!']\n",
      "common_elements: ['See you later!']\n",
      "common_elements: ['Take care!']\n",
      "246\n",
      "247\n",
      "common_elements: ['Thank you! What incorrect dimension did you notice?']\n",
      "248\n",
      "249\n",
      "250\n",
      "common_elements: ['I want to restrict data sharing.']\n",
      "common_elements: ['I would like to limit how my data is shared.']\n",
      "common_elements: ['I need to reduce the amount of data sharing.']\n",
      "251\n",
      "252\n",
      "253\n",
      "254\n",
      "255\n",
      "common_elements: ['Certainly! The Basic tier provides access to standard features like X and Y, while the Premium tier includes extra features such as A, B, and C. Is there a particular feature you want to dive deeper into?']\n",
      "common_elements: ['Sure! The Basic plan offers standard features such as X and Y, while the Premium plan comes with additional features like A, B, and C. Is there a specific feature you’re interested in learning more about?']\n",
      "common_elements: [\"Of course! In the Basic tier, you get standard features like X and Y, and the Premium tier has additional features including A, B, and C. Do any specific features catch your eye that you'd like to know more about?\"]\n",
      "256\n",
      "257\n",
      "258\n",
      "259\n",
      "260\n",
      "261\n",
      "common_elements: ['For groups of 15 or more, we can offer a 15% discount. Would you like to proceed with this option?']\n",
      "262\n",
      "common_elements: ['Thanks for confirming that.']\n",
      "263\n",
      "common_elements: [\"Of course, it's 123456\"]\n",
      "common_elements: ['Yes, my order number is 123456']\n",
      "264\n",
      "common_elements: ['We need 500 units instead.']\n",
      "265\n",
      "266\n",
      "common_elements: ['The correct material should be 100% cotton.']\n",
      "common_elements: ['It needs to be listed as 100% cotton.']\n",
      "common_elements: ['It should be 100% cotton.']\n",
      "common_elements: ['Thank you! What should the correct material description be?']\n",
      "common_elements: ['The product ID is 12345.', 'Thanks for that. What should the correct material description be?']\n",
      "common_elements: ['I apologize for the inconvenience. Can you provide the product ID or name?', 'You can find the product ID at 12345.', 'Thank you! What is the accurate material description?']\n",
      "common_elements: ['I’m sorry to learn that. Could you give me the product ID or its name?', 'The ID for the product is 12345.', 'Got it. Can you tell me what the correct material description is?']\n",
      "267\n",
      "268\n",
      "269\n",
      "270\n",
      "271\n",
      "272\n",
      "common_elements: ['Got it. Would you like to delete these emails from all folders or just certain ones?', 'I want to delete them from every folder.', 'Just to clarify, you want to delete all emails older than one year from every folder. Is that right?']\n",
      "common_elements: ['Understood. Do you prefer to delete these emails from all your folders or just specific ones?', 'Please remove them from all folders.', \"To confirm, you're looking to remove all emails that are over a year old from all folders, correct?\"]\n",
      "common_elements: ['Okay, do you want to remove these emails from all folders or only from selected ones?', 'All folders, please.', 'So, you want to delete all emails from all folders that are older than one year. Is that correct?']\n",
      "common_elements: ['Got it. Should I delete these emails from all of your folders or just certain ones?', 'Delete them from all folders, please.', 'To clarify, you wish to delete all emails older than one year from every folder. Is that correct?']\n",
      "common_elements: ['Understood. Do you want to remove these emails from all folders or just specific ones?', 'I want them removed from every folder.', \"Just to confirm, you're looking to delete all emails over one year old from all your folders, right?\"]\n",
      "common_elements: ['Okay, do you want to delete these emails across all folders or limit it to certain ones?', 'Please go ahead and delete from all folders.', 'So, you want to ensure that all emails older than one year are deleted from every folder, correct?']\n",
      "common_elements: ['Alright, do you want these emails deleted from all folders or only from specific folders?']\n",
      "common_elements: ['I want to get rid of all emails that are over a year old.', 'Got it! Would you like to delete these emails from every folder or just certain ones?', 'I want to delete them from every folder.', 'Just to clarify, you want to delete all emails older than one year from all your folders, correct?']\n",
      "common_elements: [\"Of course, I'm here to help with deleting old emails in bulk. Can you tell me what specific criteria you'd like to use?\", 'Please delete all emails that date back more than one year.', 'Understood. Should I proceed with deleting these emails from all folders, or are there specific folders you want to target?', 'Please remove them from all folders.', 'To confirm, you are looking to delete every email that is older than a year from all folders. Is that right?']\n",
      "common_elements: [\"I'd like to remove any emails that are older than twelve months.\", 'Okay, do you want to remove these emails from every folder, or just from selected ones?', 'Yes, I want the deletion to apply to all folders.', 'So, just to check, you want to remove all emails that are over a year old from every folder, is that correct?']\n",
      "common_elements: ['Absolutely, I can assist you with the bulk deletion of old emails. Can you tell me the criteria for this action?', 'I want to delete all emails that are over a year old.', 'Got it. Would you like these emails to be deleted from all folders or just certain ones?', 'Delete them from all folders, please.', \"So, to confirm, you're looking to delete all emails older than one year from every folder, is that right?\", 'Hold on, can I adjust the date range?']\n",
      "common_elements: ['Please remove all emails that are older than one year.', 'Understood. Should I delete these emails from every folder or just from selected ones?', 'I want them removed from every folder.', 'Just to clarify, you want to delete every email older than one year from all your folders, correct?', 'Wait a second, is it possible to modify the date range?']\n",
      "common_elements: ['Of course, I can assist you with removing old emails in bulk. Please specify your deletion criteria.', 'I’d like to get rid of emails that are more than a year old.', 'Okay, do you want to erase these emails from all folders or target specific folders?', 'All folders, please.', 'To double-check, you wish to remove all emails that are older than a year from all folders. Is that correct?', 'Can I change the date range, though?']\n",
      "273\n",
      "274\n",
      "275\n",
      "276\n",
      "277\n",
      "278\n",
      "279\n",
      "280\n",
      "281\n",
      "common_elements: [\"Absolutely! Our warranty covers manufacturing defects, but it excludes water damage, accidents, and unauthorized modifications. Is there a specific exclusion you're concerned about?\"]\n",
      "common_elements: [\"Sure! While our warranty protects against manufacturing defects, it does not cover issues like water damage, accidents, or any unauthorized changes. Is there a particular exclusion you're thinking about?\"]\n",
      "common_elements: ['Certainly! The warranty includes coverage for manufacturing defects, but it does not extend to water damage, accidents, or modifications made without authorization. Do you have a specific exclusion in mind?']\n",
      "282\n",
      "common_elements: ['I want to allow cats instead of dogs.']\n",
      "common_elements: ['Here is my rental agreement.']\n",
      "283\n",
      "284\n",
      "common_elements: ['Of course! Generally, coupons need to be applied during checkout, they come with an expiration date, and some may have a minimum purchase requirement. Is there something specific you want to know?', 'In most cases, you can only use one coupon or promo code per order. Would you like to hear about any exceptions to this rule?']\n",
      "common_elements: ['Sure! Coupons usually have to be entered at checkout, have an expiry date, and might require a minimum amount spent. Do you have a particular question in mind?', 'Typically, you can only apply one coupon or promo code for each order. Are you interested in knowing about any exceptions?']\n",
      "common_elements: ['Absolutely! Coupons typically must be used at checkout, have an expiration date, and could require a minimum purchase. Is there a specific aspect you want to discuss?', 'Usually, only one coupon or promo code can be used at a time per order. Would you like to know if there are any exceptions?']\n",
      "285\n",
      "286\n",
      "287\n",
      "288\n",
      "289\n",
      "common_elements: ['Yes, I have a Google account.']\n",
      "common_elements: ['Yes, I have a Google account.']\n",
      "common_elements: ['I do have a Google account.']\n",
      "common_elements: ['I’ve got a Google account.', 'Good choice! Please sign in to your Google account so we can move forward.']\n",
      "common_elements: ['Yes, I have a Google account.']\n",
      "common_elements: ['Let’s set up cloud syncing. Do you have an account with any cloud provider?', 'Yes, I have a Google account.']\n",
      "290\n",
      "291\n",
      "292\n",
      "common_elements: ['I would like the version from 2023-09-01.']\n",
      "common_elements: ['I want the version from 2023-09-01.']\n",
      "common_elements: [\"I'm looking for the version dated 2023-09-01.\"]\n",
      "common_elements: ['I need the version from September 1st, 2023.']\n",
      "293\n",
      "294\n",
      "common_elements: ['Yes, please enable it.']\n",
      "295\n",
      "common_elements: [\"It's a business meeting.\", 'Got it. Would you like to indicate any specific qualifications for the interpreter?', 'Yes, I prefer an interpreter who is well-versed in legal terminology.', 'Understood. Do you require any additional services?', \"No, that's all I need.\", 'Your interpreter service request for May 10th at 3 PM for a business meeting with the specified qualifications has been successfully submitted. Is there anything else you need?']\n",
      "common_elements: [\"I'm hosting a business meeting.\", 'Understood. Do you have any specific qualifications in mind for the interpreter?', 'I would like an interpreter with experience in legal terminology.', 'Got it! Do you need any other services as well?', \"That's everything I require.\", \"I've successfully submitted your request for an interpreter on May 10th at 3 PM for the business meeting with your qualifications. Do you need anything else?\"]\n",
      "common_elements: [\"It's a corporate meeting.\", 'Okay! Do you want to specify any particular qualifications for the interpreter?', \"I'd like an interpreter experienced in legal terms, please.\", 'Okay! Would you like to add any more services?', \"No, I don't need anything else.\", 'Your request for an interpreter service on May 10th at 3 PM for a business meeting with your indicated qualifications has been received. Would you like anything else?']\n",
      "common_elements: [\"It's a business meeting.\"]\n",
      "common_elements: ['It will take place on May 10th at 3 PM.', 'The event is a business meeting.']\n",
      "common_elements: ['The scheduled date is May 10th at 3 PM.', \"I'll be hosting a business meeting.\"]\n",
      "common_elements: ['The event is scheduled for May 10th at 3 PM.', \"It's a business meeting.\"]\n",
      "common_elements: [\"It's a corporate meeting.\", 'I see. Would you like to specify any particular qualifications for the interpreter?', 'Yes, I prefer an interpreter with experience in legal terminology.', 'Okay! Do you require any additional services?', \"No, that's everything.\", 'Your request for a sign language interpreter on May 10th at 3 PM for a business meeting with the specified qualifications has been successfully submitted. Is there anything else you need?']\n",
      "common_elements: [\"It's on May 10th at 3 PM.\", 'This is a business meeting.', 'Okay. Do you have any specific qualifications in mind for the interpreter?', 'I would like an interpreter who is experienced in legal terms.', 'Got it. Would you like any other services along with it?', \"No, that's all I need.\", 'Your interpreter service request for May 10th at 3 PM for a business meeting with the requested qualifications is submitted. Can I assist you with anything else?']\n",
      "common_elements: ['The scheduled event is on May 10th at 3 PM.', \"Great! Can you tell me what kind of event you're planning?\", 'The event is a business meeting.', 'Understood. Are there any qualifications you prefer for the interpreter?', 'I need an interpreter who has a background in legal terminology.', 'Noted! Do you need any other services as well?', \"Nope, that's it.\", \"I've submitted your interpreter request for May 10th at 3 PM for a business meeting with the qualifications you specified. Do you need anything further?\"]\n",
      "common_elements: [\"It's a business meeting.\", 'Great! What type of event will you be hosting?', 'Your request for a sign language interpreter for May 10th at 3 PM for a business meeting with specified qualifications has been submitted. Is there anything else I can assist you with?']\n",
      "common_elements: ['This is a business meeting.', 'Awesome! What kind of event will it be?', 'I need an interpreter who is familiar with legal terms.', \"I've submitted your request for a sign language interpreter on May 10th at 3 PM for a business meeting with the required qualifications. Is there anything else I can help you with?\"]\n",
      "common_elements: [\"It's a meeting for business purposes.\", \"I see. Are there any particular qualifications you'd like the interpreter to have?\", 'Fantastic! What type of event are you now organizing?', 'I prefer an interpreter who has a background in legal terminology.', \"No, that's sufficient.\", 'Your request for a sign language interpreter at 3 PM on May 10th for a business meeting with the specified qualifications is in. Do you need help with anything else?']\n",
      "common_elements: [\"It's a business meeting.\"]\n",
      "common_elements: ['This is for a business meeting.']\n",
      "common_elements: ['The event is on May 10th at 3 PM.', \"It's a business meeting.\", 'Understood. Would you like to specify any particular qualifications for the interpreter?', 'Yes, I prefer an interpreter experienced in legal terminology.', \"No, that's all.\"]\n",
      "common_elements: ['I am holding a business meeting.', \"That's everything I need.\"]\n",
      "common_elements: ['This is for a business meeting.', 'No, that will be sufficient.']\n",
      "296\n",
      "297\n",
      "common_elements: ['Got it! Do you require assistance from the check-in area to the boarding gate?']\n",
      "298\n",
      "299\n",
      "300\n",
      "common_elements: [\"Sure! Could you let me know which country you're calling from?\", \"I'm calling from France.\", 'Currently, the charge from France is ten cents per minute.']\n",
      "common_elements: ['My call is originating from France.', 'As of now, the rate for calls from France is ten cents per minute.']\n",
      "common_elements: [\"I'm making the call from France.\", 'The current rate for calling from France is ten cents a minute.']\n",
      "301\n",
      "302\n",
      "common_elements: ['I’m looking to create a social media campaign.']\n",
      "common_elements: [\"I'm looking at a social media campaign.\", 'Thanks for that! Could you let us know your audience size and demographics?', 'I have 50k followers, mostly between 18 and 24 years old.', 'Awesome! With this information, we can proceed with the partnership.']\n",
      "common_elements: ['I have a social media campaign in mind.', 'Thank you for sharing! Can you provide details about your audience size and demographics?', 'My account has 50,000 followers, primarily in the 18-24 age range.', 'Great! Now that we have these details, we can move ahead with the collaboration.']\n",
      "common_elements: ['My focus is on a social media campaign.', \"Great! Please tell us about your audience's size and demographics.\", 'I currently have 50,000 followers, with the majority aged 18 to 24.', 'Perfect! With this info, we can continue with the partnership process.']\n",
      "common_elements: ['I have 50k followers, mostly aged 18-24.']\n",
      "303\n",
      "304\n",
      "305\n",
      "306\n",
      "307\n",
      "common_elements: ['I would like it to be $30 instead.', \"I've updated your credit to $30. Is there anything else you need help with?\"]\n",
      "common_elements: ['Please change it to $30.']\n",
      "common_elements: [\"I'd prefer if it was $30 instead.\"]\n",
      "common_elements: ['I apologize for the trouble. Would you like to receive a credit on your account as a form of compensation?']\n",
      "common_elements: [\"I'm truly sorry for the inconvenience. How about a credit on your account for compensation?\"]\n",
      "common_elements: ['I regret the inconvenience caused. Would you be interested in a credit on your account as compensation?']\n",
      "308\n",
      "309\n",
      "310\n",
      "311\n",
      "common_elements: [\"I'm really sorry to hear that. Can you give me more details about what happened?\", \"I've seen some transactions on my account that seem suspicious.\", \"I appreciate the details. Can you point out which specific transactions you're talking about?\", \"There are multiple charges that I don't recognize.\", \"Got it. I'm here to help you with this. Please confirm your identity by giving your account number.\"]\n",
      "common_elements: [\"That's unfortunate to hear. Could you elaborate on the fraudulent activity?\", 'I noticed some charges on my account that are unusual.', 'Thanks for the info. Could you clarify which transactions you mean?', 'I have several unexpected charges on my account.', \"Understood. I'll assist you with this. Can you verify your identity by providing your account number?\"]\n",
      "common_elements: ['I apologize for the situation. Could you share more specifics about the fraud?', \"There are some transactions on my account that I'm concerned about.\", 'Thank you for sharing. Can you specify the transactions in question?', 'I see a number of charges that are unfamiliar to me.', \"Okay, I'll help you resolve this. Please verify yourself by sharing your account number.\"]\n",
      "common_elements: ['There are some charges on my account that I find suspicious.']\n",
      "common_elements: [\"I've noticed some transactions on my account that seem suspicious.\", \"Thanks for that information. Can you tell me which specific transactions you're referring to?\", \"There are multiple charges that I don't recognize.\", \"Got it. I'm here to assist you with this. Please confirm your identity by giving me your account number.\"]\n",
      "common_elements: ['There are unusual charges on my account that I want to report.', \"I appreciate that. Could you clarify which transactions you're talking about?\", 'I see several unfamiliar charges on my statement.', 'Understood. I’ll help you with this issue. Can you verify your identity by providing your account number?']\n",
      "common_elements: ['I detected some questionable transactions in my account activity.', 'Thank you for letting me know. Can you specify the transactions in question?', \"I found a number of charges that I can't identify.\", 'Okay, I can assist you. Please provide your account number for verification.']\n",
      "common_elements: [\"There are multiple charges that I don't recognize.\", \"Got it. I'll assist you with this. Please confirm your identity by giving me your account number.\", 'Of course, my account number is XXXX.', 'Thank you for that. Your report has been logged. Is there anything else I can assist you with?']\n",
      "common_elements: [\"I see several charges on my account that I can't identify.\", \"Understood. I'm here to help. Could you verify your identity by providing your account number?\", 'Sure thing, my account number is XXXX.', \"Thanks! I've registered your report. Is there anything else you need help with?\"]\n",
      "common_elements: ['I have a number of transactions that seem unfamiliar.', \"Okay, I'll help you with this. Please provide your account number for verification.\", 'Absolutely, my account number is XXXX.', 'I appreciate it. Your report is now recorded. Can I assist you with anything else?']\n",
      "312\n",
      "313\n",
      "314\n",
      "common_elements: ['That’s unfortunate to hear. Would you choose a refund or a replacement?']\n",
      "315\n",
      "316\n",
      "common_elements: ['I’ve got my reference number: 12345.', 'I see that your complaint remains unresolved. I’m here to help you move forward.']\n",
      "317\n",
      "common_elements: ['Should we publish this story on our website or on social media?']\n",
      "common_elements: [\"That's fantastic! Can you give me some details about the story?\", 'Certainly! Our client boosted their sales by 50% with our product.', \"That's impressive! Do you want to add any quotes or testimonials?\"]\n",
      "common_elements: ['Awesome! Could you share more information about the story?', 'Of course! Our customer increased their sales by 50% thanks to our product.', \"Wow, that's amazing! Would you like to include any client testimonials?\"]\n",
      "common_elements: ['That sounds exciting! Please tell me more about the story.', 'Sure thing! Our client saw a 50% rise in sales using our product.', \"That's remarkable! Would you like to share any quotes or feedback from the client?\"]\n",
      "common_elements: ['Would you like to publish this story on our website or on social media?']\n",
      "common_elements: ['Should we share this story on our website or via social media?']\n",
      "common_elements: ['Do you want to feature this story on our website or social media?']\n",
      "318\n",
      "319\n",
      "320\n",
      "321\n",
      "322\n",
      "323\n",
      "common_elements: [\"I'm interested in the Use of Data clause.\"]\n",
      "324\n",
      "325\n",
      "326\n",
      "327\n",
      "common_elements: ['I prefer cloud-based backups.']\n",
      "328\n",
      "329\n",
      "330\n",
      "331\n",
      "common_elements: ['The transaction ID is 123456.', 'I did not authorize this payment.']\n",
      "common_elements: ['The transaction ID is 123456.']\n",
      "common_elements: ['The transaction ID is 123456.', \"I didn't authorize this payment.\", 'Thank you.']\n",
      "common_elements: [\"I'm sorry to hear that. Can you provide me with the transaction ID?\", 'The transaction ID is 123456.', 'Thank you! Can you explain why you consider this transaction suspicious?']\n",
      "common_elements: ['You can find the transaction ID at 123456.', 'Thanks! Could you let me know what makes this transaction seem suspicious?']\n",
      "common_elements: [\"I'm reporting transaction ID 123456.\", 'I appreciate it. Can you describe what raised your concerns about this transaction?']\n",
      "332\n",
      "333\n",
      "common_elements: ['I prefer June 10 at 10:00 AM for the appointment.']\n",
      "common_elements: ['I want it on June 10 at 10:00 AM.']\n",
      "common_elements: ['I prefer June 10 at 10:00 AM.', 'What kind of consultation are you looking for? For instance, a general check-up or a specialist visit?', \"It's for a general check-up.\", \"Just to confirm, you've scheduled a general check-up for June 10 at 10:00 AM. Is that correct?\"]\n",
      "common_elements: [\"I'd like to have it on June 10 at 10:00 AM.\", \"Can you specify the type of consultation you're interested in? Like a general check-up or something else?\", \"I'm looking for a general check-up consultation.\", 'To clarify, you have a general check-up booked for June 10 at 10:00 AM. Does that sound right?']\n",
      "common_elements: ['What date and time do you want for your telehealth appointment?', 'June 10 at 10:00 AM works for me.', 'What type of appointment would you like? For example, general check-up, specialist, etc.', 'This is for a general check-up appointment.', 'Let me confirm: you’re set for a general check-up on June 10 at 10:00 AM. Is that okay?']\n",
      "common_elements: ['What type of consultation are you looking for? For instance, a general check-up or a specialist visit?']\n",
      "common_elements: [\"Could you let me know what date and time you'd like for your telehealth appointment?\", 'I want to schedule it for June 10 at 10:00 AM.', 'Could you specify what type of consultation you need? Like a standard check-up or a specialist?', \"I'm looking for a general check-up consultation.\"]\n",
      "common_elements: ['What date and time do you have in mind for your telehealth appointment?', 'Please book it for June 10 at 10:00 AM.', 'What kind of consultation would you prefer? General check-up, specialist, etc.?', 'This is for a routine check-up.']\n",
      "334\n",
      "335\n",
      "336\n",
      "337\n",
      "common_elements: ['The cancellation penalties depend on the timing of your cancellation. If you cancel within 24 hours of your booking, there is no fee, but after that, a charge might apply.', 'Will I receive a full refund if I cancel now?', 'Yes, if you cancel now, you are entitled to a full refund. Would you like to proceed with that?']\n",
      "common_elements: ['Cancellation fees are based on when you decide to cancel. No penalty applies if you cancel within 24 hours of making the booking, but later cancellations could incur a fee.', 'Is it possible to get a complete refund if I cancel at this moment?', 'If you cancel right now, you can receive a full refund. Would you like to go ahead?']\n",
      "common_elements: [\"Our cancellation fees vary based on the timing. There's no charge if you cancel within 24 hours of your booking, but anything after that may include a penalty.\", 'Can I obtain a full refund if I go ahead and cancel now?', 'You are eligible for a full refund if you cancel at this time. Should I proceed with that?']\n",
      "338\n",
      "common_elements: ['Of course, I can help with that. Can you tell me what type of visa you have or what assistance you need?']\n",
      "common_elements: ['Sure, I can help you with that. What kind of visa do you hold, and what do you need assistance with?']\n",
      "common_elements: ['I would like to cancel my current visa.', 'Absolutely, I can help with your visa cancellation. Could you specify the type of visa and what you need assistance with?']\n",
      "339\n",
      "340\n",
      "common_elements: ['My account number is 123456.']\n",
      "common_elements: ['Here is my account number: 123456.']\n",
      "common_elements: ['You can find my account number at 123456.']\n",
      "common_elements: ['My account number is 123456.']\n",
      "341\n",
      "common_elements: ['Monday afternoon works for me.']\n",
      "342\n",
      "common_elements: ['The kitchen faucet is leaking.']\n",
      "common_elements: [\"There's a leak from the faucet in my kitchen.\"]\n",
      "common_elements: ['My kitchen faucet has developed a leak.']\n",
      "343\n",
      "344\n",
      "common_elements: [\"Did you take any photos of the property's condition when you moved out?\", 'Yes, I have pictures and a signed checklist from the move-out.', \"That's great to hear. You can use that evidence to bolster your case.\", 'What should I do next?', 'Would you like help with submitting a claim or exploring mediation?', 'I want to proceed with filing a claim.', 'You can either file a claim in small claims court or opt for mediation. Which one do you choose?']\n",
      "common_elements: ['Have you captured the state of the property when you left?', 'I do have photos and a move-out checklist that was signed.', \"That's really useful. You can leverage this evidence to support your claim.\", 'What are the following steps?', 'Do you need assistance with filing a claim or considering mediation?', 'I would like to go ahead and file a claim.', 'You have the option to file a claim in small claims court or seek mediation. What would you like to do?']\n",
      "common_elements: ['Do you have any documentation regarding the condition of the property upon your departure?', 'Yes, I took photos and have a signed checklist from when I moved out.', \"That's excellent. This documentation can help strengthen your argument.\", 'What do I need to do now?', 'Are you looking for help with making a claim or seeking mediation?', 'I prefer to file a claim.', 'You can file a claim in small claims court or consider mediation. Which route seems best to you?']\n",
      "common_elements: ['Yes, I took photos and I have a signed checklist from the move-out inspection.', \"That's great! You can utilize this evidence to strengthen your argument.\", 'What should I do next?', 'Are you looking for help with filing a claim or would you prefer mediation?', 'I want to proceed with filing a claim.', 'You can either file a claim in small claims court or opt for mediation. Which route do you want to take?']\n",
      "common_elements: ['I have photographic evidence and a move-out checklist that was signed.', \"That's useful information. This documentation will aid in backing up your case.\", 'What are my next steps?', 'Would you like assistance with submitting a claim or exploring mediation?', 'I would like to go ahead and file a claim.', 'You have the option to file a claim in small claims court or choose mediation. What would you like to do?']\n",
      "common_elements: ['Yes, I possess pictures and a signed move-out checklist.', 'Excellent! You can leverage this evidence to bolster your claim.', 'Can you guide me on what to do next?', 'Do you want help with filing a claim or would you rather seek mediation?', \"I'd like to initiate the process of filing a claim.\", 'You can file a claim in small claims court or consider mediation. Which option do you prefer?']\n",
      "345\n",
      "common_elements: [\"I'd like to sign up for Data Science Basics.\"]\n",
      "common_elements: ['I want to enroll in Data Science.']\n",
      "common_elements: [\"So, you're interested in Data Science Basics. Shall we proceed with your enrollment?\"]\n",
      "common_elements: ['I would like to register for Data Science Basics.']\n",
      "common_elements: ['I want to enroll in Data Science Basics.']\n",
      "common_elements: ['Check out these courses:\\n1. Introduction to Computer Science\\n2. Data Science Basics\\n3. Web Development\\nWhich one do you want to enroll in?']\n",
      "346\n",
      "347\n",
      "348\n",
      "349\n",
      "common_elements: [\"Of course, I'm here to help. Can you explain what the problem is?\"]\n",
      "common_elements: ['Absolutely, I can assist you with that. Could you describe the issue in more detail?']\n",
      "common_elements: [\"Sure thing! Please let me know what specific problem you're experiencing.\"]\n",
      "350\n",
      "351\n",
      "common_elements: ['We have a variety of plans available. Would you prefer to upgrade to 10GB, 20GB, or 50GB?']\n",
      "common_elements: ['There are several options to choose from. Would you like to go for 10GB, 20GB, or 50GB?']\n",
      "common_elements: ['We offer multiple data plans. Would you like to choose between 10GB, 20GB, or 50GB?']\n",
      "common_elements: ['We have a variety of plans. Would you prefer to go for 10GB, 20GB, or 50GB?']\n",
      "common_elements: ['There are multiple options available. Are you looking to upgrade to 10GB, 20GB, or 50GB?']\n",
      "common_elements: ['We offer several choices. Would you like to increase to 10GB, 20GB, or 50GB?']\n",
      "352\n",
      "353\n",
      "354\n",
      "355\n",
      "common_elements: [\"Of course! I'd be glad to assist you with your data migration. Can you share what your current plan is?\"]\n",
      "common_elements: ['Absolutely! I can help you with the data transfer. Could you tell me about your existing plan?']\n",
      "common_elements: ['Certainly! Let’s get started on your data migration. What plan are you currently using?']\n",
      "356\n",
      "common_elements: ['Understood. What format do you want for the export? (e.g., PDF, Excel)']\n",
      "common_elements: ['Got it! Which format would you like for the export? (like PDF or Excel)']\n",
      "common_elements: ['Okay, what format do you prefer for the exported file? (PDF, Excel, etc.)']\n",
      "common_elements: ['I want to export the Sales Report.', 'Understood. What format would you like for the export? (e.g., PDF, Excel)']\n",
      "common_elements: ['Understood. What format would you like for the export? (e.g., PDF, Excel)']\n",
      "357\n",
      "common_elements: ['Absolutely! An uptime SLA commits to keeping your service available for a defined percentage, like 99.9%, which helps to minimize interruptions.']\n",
      "common_elements: ['Sure! Uptime SLAs are agreements that ensure your service is accessible for a specific percentage of time, for example, 99.9%, thereby limiting any downtime.']\n",
      "common_elements: ['Yes, you can adjust the uptime percentage according to your specific requirements. We have various tiers available.']\n",
      "358\n",
      "common_elements: [\"Nice choice! Can you tell me what platform you're using?\"]\n",
      "common_elements: [\"I'm using PlatformY.\"]\n",
      "common_elements: ['Your plugin has been successfully integrated into your application. Is there anything else I can assist you with?']\n",
      "common_elements: [\"I'd like to integrate PluginX.\", \"I'm using PlatformY.\"]\n",
      "common_elements: ['Good choice! What platform are you using for your application?', 'My application runs on PlatformY.']\n",
      "common_elements: [\"Nice selection! Can you tell me what platform you're working with?\", \"PlatformY is the platform I'm currently using.\"]\n",
      "common_elements: ['The integration of your plugin into your application was successful. Do you need help with anything else?']\n",
      "common_elements: ['Your plugin has been successfully added to your application. Is there anything more I can assist you with?']\n",
      "359\n",
      "360\n",
      "361\n",
      "362\n",
      "common_elements: [\"Of course! Let me know what benefits you'd like to change or add.\"]\n",
      "common_elements: [\"I'm looking for more discounts and access to exclusive events.\", 'Excellent choices! Would you like to establish any spending limits to qualify for these perks?']\n",
      "common_elements: ['I would like additional discounts and VIP event access.', 'Great selections! Do you want to set any spending thresholds to unlock these benefits?']\n",
      "common_elements: ['Could I have greater discounts and entry to exclusive events?', 'Nice picks! Would you like to determine any spending thresholds for these perks?']\n",
      "common_elements: ['Of course! Let me know which benefits you’d like to change or add.', 'I want additional discounts and access to exclusive events.', 'Excellent choices! Would you like to establish any spending limits to qualify for these perks?']\n",
      "common_elements: ['Absolutely! Please tell me which perks you wish to modify or enhance.', 'I’d like to have more discounts and entry to special events.', 'Great options! Do you want to set any spending thresholds to access these benefits?']\n",
      "common_elements: [\"Sure thing! Let me know what benefits you'd like to tweak or include.\", 'I’m looking for greater discounts and VIP access to events.', 'Nice selections! Would you like to set any financial goals to unlock these perks?']\n",
      "common_elements: ['I’d like to receive additional discounts and access to exclusive events.', 'Fantastic choices! Would you like to establish any spending limits to access these perks?']\n",
      "common_elements: [\"I'm interested in more discounts and VIP access to events.\", 'Excellent picks! Do you want to set any spending thresholds to enable these benefits?']\n",
      "common_elements: [\"I'd prefer to have greater discounts and entry to special events.\", 'Great selections! Are you considering any spending thresholds to unlock these perks?']\n",
      "common_elements: ['Excellent choices! Would you like to set any spending limits to unlock these perks?']\n",
      "common_elements: ['Great options! Are you considering any spending thresholds to activate these benefits?']\n",
      "common_elements: ['Fantastic choices! Do you want to establish any spending criteria to qualify for these perks?']\n",
      "common_elements: ['I want more discounts and access to exclusive events.', 'Excellent choices! Would you like to establish any spending limits to qualify for these perks?']\n",
      "common_elements: [\"I'd like additional discounts and VIP access to events.\", 'Great picks! Do you want to set any spending thresholds to gain these benefits?']\n",
      "common_elements: [\"I'm interested in increased discounts and entry to special events.\", 'Fantastic selections! Would you like to define any spending criteria to unlock these perks?']\n",
      "common_elements: ['Excellent choices! Do you want to establish any spending limits to access these perks?']\n",
      "common_elements: ['I want additional discounts and special event invitations.', 'Great selections! Would you like to set any spending thresholds to qualify for these benefits?']\n",
      "common_elements: [\"I'd prefer more savings and entry to exclusive events.\", 'Nice picks! Are you interested in setting any spending criteria to unlock these perks?']\n",
      "363\n",
      "common_elements: ['Awesome! Please let me know your preferred date and time for the consultation.']\n",
      "364\n",
      "365\n",
      "366\n",
      "367\n",
      "common_elements: ['The recipient is John Doe.']\n",
      "368\n",
      "369\n",
      "common_elements: ['Thank you! Would you like to add another emergency contact?']\n",
      "370\n",
      "common_elements: [\"That's wonderful to hear. Now, let’s discuss emergency exits. Are you aware of where all the emergency exits are located?\"]\n",
      "common_elements: [\"That's great! Next, we need to talk about emergency exits. Do you know where to find all the emergency exits in your vicinity?\"]\n",
      "common_elements: [\"Excellent! Now, let's move on to emergency exits. Are you familiar with the locations of all the emergency exits nearby?\"]\n",
      "common_elements: [\"That's wonderful to hear. Now, let's discuss emergency exits. Are you familiar with where all the emergency exits are located?\"]\n",
      "common_elements: [\"That's wonderful to hear. Next, we should discuss emergency exits. Are you aware of where all the emergency exits are located?\"]\n",
      "common_elements: [\"Great! Now, let's talk about emergency exits. Do you know where to find all the emergency exits around you?\"]\n",
      "common_elements: ['Excellent! Now, let’s move on to emergency exits. Are you familiar with the locations of all emergency exits nearby?']\n"
     ]
    },
    {
     "name": "stderr",
     "output_type": "stream",
     "text": [
      "\n"
     ]
    },
    {
     "data": {
      "text/plain": [
       "[]"
      ]
     },
     "execution_count": 33,
     "metadata": {},
     "output_type": "execute_result"
    }
   ],
   "source": [
    "errors = []\n",
    "failure_examples = []\n",
    "\n",
    "for i, example in enumerate(tqdm(new_data)):\n",
    "    print(i)\n",
    "    augmented_dialogues = [dial[\"messages\"] for dial in example[\"augmented_dialogues\"]]\n",
    "\n",
    "    for j, aug_dia in enumerate(augmented_dialogues):\n",
    "        try:\n",
    "            if not check_no_duplicates_one_dialogue(aug_dia):\n",
    "                failure_examples.append((i, j))\n",
    "        except Exception as e:\n",
    "            errors.append((i, j, e))\n",
    "\n",
    "errors"
   ]
  },
  {
   "cell_type": "code",
   "execution_count": 34,
   "metadata": {},
   "outputs": [
    {
     "data": {
      "text/plain": [
       "653"
      ]
     },
     "execution_count": 34,
     "metadata": {},
     "output_type": "execute_result"
    }
   ],
   "source": [
    "len(failure_examples)"
   ]
  },
  {
   "cell_type": "markdown",
   "metadata": {},
   "source": [
    "# len(set(lens(uttr_list))) = 1"
   ]
  },
  {
   "cell_type": "markdown",
   "metadata": {},
   "source": [
    "## 1. Re-checking"
   ]
  },
  {
   "cell_type": "markdown",
   "metadata": {},
   "source": [
    "### matching roles and length correctness"
   ]
  },
  {
   "cell_type": "code",
   "execution_count": 105,
   "metadata": {},
   "outputs": [
    {
     "data": {
      "text/plain": [
       "377"
      ]
     },
     "execution_count": 105,
     "metadata": {},
     "output_type": "execute_result"
    }
   ],
   "source": [
    "with open(\"../data/gen_dataset_augmented_0-402_without_hello_v4\", \"rb\") as file:\n",
    "    data = pickle.load(file)\n",
    "len(data)"
   ]
  },
  {
   "cell_type": "code",
   "execution_count": 106,
   "metadata": {},
   "outputs": [
    {
     "name": "stderr",
     "output_type": "stream",
     "text": [
      "100%|██████████| 377/377 [00:00<00:00, 20678.89it/s]\n"
     ]
    },
    {
     "data": {
      "text/plain": [
       "(49, 49)"
      ]
     },
     "execution_count": 106,
     "metadata": {},
     "output_type": "execute_result"
    }
   ],
   "source": [
    "failure_instances_length = []\n",
    "failure_instances_roles = []\n",
    "\n",
    "for i, instance in enumerate(tqdm(data)):\n",
    "    dialogues = [dial[\"messages\"] for dial in instance[\"dialogues\"]]\n",
    "    augmented_dialogues = [dial[\"messages\"] for dial in instance[\"augmented_dialogues\"]]\n",
    "\n",
    "    for j, (orig_dia, aug_dia) in enumerate(zip(dialogues, augmented_dialogues)):\n",
    "        length_comparison = is_correct_length_modified(orig_dia, aug_dia)\n",
    "        roles_comparison = match_roles_modified(orig_dia, aug_dia)\n",
    "\n",
    "        if length_comparison != True:\n",
    "            failure_instances_length.append((i, j, length_comparison))\n",
    "        if roles_comparison != True:\n",
    "            failure_instances_roles.append((i, j, roles_comparison))\n",
    "\n",
    "len(failure_instances_length), len(failure_instances_roles)"
   ]
  },
  {
   "cell_type": "markdown",
   "metadata": {},
   "source": [
    "### duplicates in one_uttr_list"
   ]
  },
  {
   "cell_type": "code",
   "execution_count": 107,
   "metadata": {},
   "outputs": [
    {
     "name": "stderr",
     "output_type": "stream",
     "text": [
      "100%|██████████| 377/377 [00:00<00:00, 30317.17it/s]\n"
     ]
    },
    {
     "data": {
      "text/plain": [
       "(49, [])"
      ]
     },
     "execution_count": 107,
     "metadata": {},
     "output_type": "execute_result"
    }
   ],
   "source": [
    "errors = []\n",
    "failure_examples = []\n",
    "\n",
    "for i, example in enumerate(tqdm(data)):\n",
    "    augmented_dialogues = [dial[\"messages\"] for dial in example[\"augmented_dialogues\"]]\n",
    "\n",
    "    for j, aug_dia in enumerate(augmented_dialogues):\n",
    "        try:\n",
    "            if not check_no_duplicates_one_uttr_list(aug_dia):\n",
    "                failure_examples.append((i, j))\n",
    "        except Exception as e:\n",
    "            errors.append((i, j, e))\n",
    "len(errors), failure_examples"
   ]
  },
  {
   "cell_type": "markdown",
   "metadata": {},
   "source": [
    "## 2. Removing what can't be combined"
   ]
  },
  {
   "cell_type": "markdown",
   "metadata": {},
   "source": [
    "Count lengths of utterances_lists. If the number of generated variations for each original utterance in the dialogue is the same, the example will be added to the \"normals\". Otherwise - to the \"exceptions\""
   ]
  },
  {
   "cell_type": "code",
   "execution_count": 108,
   "metadata": {},
   "outputs": [
    {
     "data": {
      "text/plain": [
       "377"
      ]
     },
     "execution_count": 108,
     "metadata": {},
     "output_type": "execute_result"
    }
   ],
   "source": [
    "with open(\"../data/gen_dataset_augmented_0-402_without_hello_v4\", \"rb\") as file:\n",
    "    data = pickle.load(file)\n",
    "len(data)"
   ]
  },
  {
   "cell_type": "code",
   "execution_count": 109,
   "metadata": {},
   "outputs": [
    {
     "data": {
      "text/plain": [
       "['Hi there! What can I do for you today?',\n",
       " 'Good day! How may I assist you?',\n",
       " 'Welcome! How can I help you today?']"
      ]
     },
     "execution_count": 109,
     "metadata": {},
     "output_type": "execute_result"
    }
   ],
   "source": [
    "for d in data:\n",
    "    if d[\"topic\"] == \"Reporting an incorrect product allergen listing\":\n",
    "        dia = d[\"augmented_dialogues\"][7][\"messages\"]\n",
    "\n",
    "dia[0][\"text\"] = dia[0][\"text\"][1:]\n",
    "dia[0][\"text\"]"
   ]
  },
  {
   "cell_type": "code",
   "execution_count": 110,
   "metadata": {},
   "outputs": [
    {
     "name": "stderr",
     "output_type": "stream",
     "text": [
      "100%|██████████| 377/377 [00:00<00:00, 25011.11it/s]\n"
     ]
    },
    {
     "data": {
      "text/plain": [
       "(49, 4136, 4104, 32)"
      ]
     },
     "execution_count": 110,
     "metadata": {},
     "output_type": "execute_result"
    }
   ],
   "source": [
    "all_lens = []\n",
    "normals, exceptions, errors = [], [], []\n",
    "\n",
    "for i, example in enumerate(tqdm(data)):\n",
    "    augmented_dialogues = example[\"augmented_dialogues\"]\n",
    "\n",
    "    for j, aug_dia in enumerate(augmented_dialogues):\n",
    "        try:\n",
    "            utterances_lists = [turn[\"text\"] for turn in aug_dia[\"messages\"]]\n",
    "            lens = [len(uttr_list) for uttr_list in utterances_lists]\n",
    "            if len(set(lens)) == 1:\n",
    "                normals.append((i, j))\n",
    "            else:\n",
    "                # exceptions.append((i, j, lens))\n",
    "                # exceptions.append((i, j, aug_dia['id']))\n",
    "                exceptions.append((i, j))\n",
    "            all_lens.append(lens)\n",
    "        except Exception:\n",
    "            # errors.append((i, j, e))\n",
    "            errors.append((i, j))\n",
    "len(errors), len(all_lens), len(normals), len(exceptions)"
   ]
  },
  {
   "cell_type": "markdown",
   "metadata": {},
   "source": [
    "Making new data without exceptions and errors:"
   ]
  },
  {
   "cell_type": "code",
   "execution_count": 111,
   "metadata": {},
   "outputs": [
    {
     "name": "stderr",
     "output_type": "stream",
     "text": [
      "100%|██████████| 377/377 [00:00<00:00, 37370.37it/s]\n"
     ]
    },
    {
     "data": {
      "text/plain": [
       "377"
      ]
     },
     "execution_count": 111,
     "metadata": {},
     "output_type": "execute_result"
    }
   ],
   "source": [
    "new_data = []\n",
    "\n",
    "for i, example in enumerate(tqdm(data)):\n",
    "    new_example = {}\n",
    "    new_example[\"graph\"] = example[\"graph\"]\n",
    "    new_example[\"topic\"] = example[\"topic\"]\n",
    "    new_example[\"dialogues\"] = []\n",
    "    new_example[\"augmented_dialogues\"] = []\n",
    "\n",
    "    dialogues = example[\"dialogues\"]\n",
    "    augmented_dialogues = example[\"augmented_dialogues\"]\n",
    "\n",
    "    for j, (orig_dia, aug_dia) in enumerate(zip(dialogues, augmented_dialogues)):\n",
    "        if (i, j) not in exceptions and (i, j) not in errors:\n",
    "            new_example[\"dialogues\"].append(orig_dia)\n",
    "            new_example[\"augmented_dialogues\"].append(aug_dia)\n",
    "\n",
    "    new_data.append(new_example)\n",
    "len(new_data)"
   ]
  },
  {
   "cell_type": "code",
   "execution_count": 112,
   "metadata": {},
   "outputs": [
    {
     "name": "stderr",
     "output_type": "stream",
     "text": [
      "100%|██████████| 377/377 [00:00<00:00, 22789.87it/s]\n"
     ]
    },
    {
     "data": {
      "text/plain": [
       "0"
      ]
     },
     "execution_count": 112,
     "metadata": {},
     "output_type": "execute_result"
    }
   ],
   "source": [
    "all_lens = []\n",
    "normals, exceptions, errors = [], [], []\n",
    "\n",
    "for i, example in enumerate(tqdm(new_data)):\n",
    "    augmented_dialogues = example[\"augmented_dialogues\"]\n",
    "\n",
    "    for j, aug_dia in enumerate(augmented_dialogues):\n",
    "        try:\n",
    "            utterances_lists = [turn[\"text\"] for turn in aug_dia[\"messages\"]]\n",
    "            lens = [len(uttr_list) for uttr_list in utterances_lists]\n",
    "            if len(set(lens)) == 1:\n",
    "                normals.append((i, j))\n",
    "            else:\n",
    "                # exceptions.append((i, j, lens))\n",
    "                exceptions.append((i, j))\n",
    "            all_lens.append(lens)\n",
    "        except Exception as e:\n",
    "            errors.append((i, j, e))\n",
    "len(errors)"
   ]
  },
  {
   "cell_type": "code",
   "execution_count": 113,
   "metadata": {},
   "outputs": [
    {
     "data": {
      "text/plain": [
       "4104"
      ]
     },
     "execution_count": 113,
     "metadata": {},
     "output_type": "execute_result"
    }
   ],
   "source": [
    "len(all_lens)"
   ]
  },
  {
   "cell_type": "code",
   "execution_count": 114,
   "metadata": {},
   "outputs": [
    {
     "name": "stderr",
     "output_type": "stream",
     "text": [
      "100%|██████████| 377/377 [00:00<00:00, 299196.33it/s]"
     ]
    },
    {
     "name": "stdout",
     "output_type": "stream",
     "text": [
      "190\n"
     ]
    },
    {
     "name": "stderr",
     "output_type": "stream",
     "text": [
      "\n"
     ]
    },
    {
     "data": {
      "text/plain": [
       "376"
      ]
     },
     "execution_count": 114,
     "metadata": {},
     "output_type": "execute_result"
    }
   ],
   "source": [
    "new_data_2 = []\n",
    "\n",
    "for i, example in enumerate(tqdm(new_data)):\n",
    "    if example[\"augmented_dialogues\"] == []:\n",
    "        print(i)\n",
    "        continue\n",
    "\n",
    "    new_example = {}\n",
    "    new_example[\"graph\"] = example[\"graph\"]\n",
    "    new_example[\"topic\"] = example[\"topic\"]\n",
    "    new_example[\"dialogues\"] = example[\"dialogues\"]\n",
    "    new_example[\"augmented_dialogues\"] = example[\"augmented_dialogues\"]\n",
    "\n",
    "    new_data_2.append(new_example)\n",
    "len(new_data_2)"
   ]
  },
  {
   "cell_type": "code",
   "execution_count": 84,
   "metadata": {},
   "outputs": [],
   "source": [
    "with open(\n",
    "    \"../data/gen_dataset_augmented_0-402_cleaned_v5.json\", \"w\", encoding=\"utf-8\"\n",
    ") as file:\n",
    "    json.dump(new_data_2, file, indent=4)"
   ]
  },
  {
   "cell_type": "markdown",
   "metadata": {},
   "source": [
    "## 3. Adding utterances to nodes and edges"
   ]
  },
  {
   "cell_type": "code",
   "execution_count": 118,
   "metadata": {},
   "outputs": [
    {
     "data": {
      "text/plain": [
       "376"
      ]
     },
     "execution_count": 118,
     "metadata": {},
     "output_type": "execute_result"
    }
   ],
   "source": [
    "with open(\"../data/gen_dataset_augmented_0-402_cleaned_v5.json\", \"r\") as fp:\n",
    "    data = json.load(fp)\n",
    "len(data)"
   ]
  },
  {
   "cell_type": "code",
   "execution_count": 119,
   "metadata": {},
   "outputs": [
    {
     "name": "stderr",
     "output_type": "stream",
     "text": [
      "100%|██████████| 376/376 [00:00<00:00, 2122.31it/s]\n"
     ]
    }
   ],
   "source": [
    "for i, example in enumerate(tqdm(data)):\n",
    "    dialogues = example[\"dialogues\"]\n",
    "    augmented_dialogues = example[\"augmented_dialogues\"]\n",
    "\n",
    "    for j, (orig_dia, aug_dia) in enumerate(zip(dialogues, augmented_dialogues)):\n",
    "        for orig_turn, aug_turn in zip(orig_dia[\"messages\"], aug_dia[\"messages\"]):\n",
    "            phrase_to_look_for = orig_turn[\"text\"]\n",
    "            phrases_to_add = aug_turn[\"text\"]\n",
    "\n",
    "            if aug_turn[\"participant\"] == \"assistant\":\n",
    "                key = \"nodes\"\n",
    "            elif aug_turn[\"participant\"] == \"user\":\n",
    "                key = \"edges\"\n",
    "\n",
    "            for turn in example[\"graph\"][key]:\n",
    "                if (\n",
    "                    phrase_to_look_for in turn[\"utterances\"]\n",
    "                    and phrases_to_add not in turn[\"utterances\"]\n",
    "                ):\n",
    "                    turn[\"utterances\"] += phrases_to_add"
   ]
  },
  {
   "cell_type": "code",
   "execution_count": 120,
   "metadata": {},
   "outputs": [
    {
     "data": {
      "text/plain": [
       "{'source': 5,\n",
       " 'target': 6,\n",
       " 'utterances': ['Medium, please.',\n",
       "  \"I'd like a medium size, please.\",\n",
       "  'Medium would be great, thanks.',\n",
       "  'Please get me a medium.',\n",
       "  'Medium, please.',\n",
       "  'I still want a medium size.',\n",
       "  'Let’s stick with medium, please.',\n",
       "  'A medium size, please.',\n",
       "  'Medium would be great, thanks.',\n",
       "  \"I'd like a medium, please.\",\n",
       "  'Medium, please.',\n",
       "  'Still medium, thank you.',\n",
       "  'Let’s stick with medium, please.',\n",
       "  \"I'll take a medium, please.\",\n",
       "  'Medium would be great, thank you.',\n",
       "  \"I'd like a medium size.\",\n",
       "  'Medium, please.',\n",
       "  'I’ll go with medium again.',\n",
       "  'A medium size, please.']}"
      ]
     },
     "execution_count": 120,
     "metadata": {},
     "output_type": "execute_result"
    }
   ],
   "source": [
    "data[0][\"graph\"][\"edges\"][4]"
   ]
  },
  {
   "cell_type": "code",
   "execution_count": 121,
   "metadata": {},
   "outputs": [
    {
     "name": "stderr",
     "output_type": "stream",
     "text": [
      "  0%|          | 0/376 [00:00<?, ?it/s]"
     ]
    },
    {
     "name": "stderr",
     "output_type": "stream",
     "text": [
      "100%|██████████| 376/376 [00:00<00:00, 10783.16it/s]\n"
     ]
    },
    {
     "data": {
      "text/plain": [
       "{'source': 5,\n",
       " 'target': 6,\n",
       " 'utterances': ['Let’s stick with medium, please.',\n",
       "  'A medium size, please.',\n",
       "  'Medium, please.',\n",
       "  'I still want a medium size.',\n",
       "  'Medium would be great, thank you.',\n",
       "  \"I'd like a medium size.\",\n",
       "  'Please get me a medium.',\n",
       "  \"I'd like a medium size, please.\",\n",
       "  'I’ll go with medium again.',\n",
       "  \"I'll take a medium, please.\",\n",
       "  'Medium would be great, thanks.',\n",
       "  \"I'd like a medium, please.\",\n",
       "  'Still medium, thank you.']}"
      ]
     },
     "execution_count": 121,
     "metadata": {},
     "output_type": "execute_result"
    }
   ],
   "source": [
    "for i, example in enumerate(tqdm(data)):\n",
    "    for key in [\"nodes\", \"edges\"]:\n",
    "        for turn in example[\"graph\"][key]:\n",
    "            while \"\" in turn[\"utterances\"]:\n",
    "                turn[\"utterances\"].remove(\"\")\n",
    "            turn[\"utterances\"] = list(set(turn[\"utterances\"]))\n",
    "data[0][\"graph\"][\"edges\"][4]"
   ]
  },
  {
   "cell_type": "code",
   "execution_count": 89,
   "metadata": {},
   "outputs": [],
   "source": [
    "with open(\n",
    "    \"../data/gen_dataset_augmented_0-402_nodes_edges_v5.json\", \"w\", encoding=\"utf-8\"\n",
    ") as file:\n",
    "    json.dump(data, file, indent=4)"
   ]
  },
  {
   "cell_type": "markdown",
   "metadata": {},
   "source": [
    "## 4. Combine new augmented dialogues with one set of variations:"
   ]
  },
  {
   "cell_type": "code",
   "execution_count": 122,
   "metadata": {},
   "outputs": [
    {
     "data": {
      "text/plain": [
       "376"
      ]
     },
     "execution_count": 122,
     "metadata": {},
     "output_type": "execute_result"
    }
   ],
   "source": [
    "with open(\"../data/gen_dataset_augmented_0-402_nodes_edges_v5.json\", \"r\") as fp:\n",
    "    data = json.load(fp)\n",
    "len(data)"
   ]
  },
  {
   "cell_type": "code",
   "execution_count": 91,
   "metadata": {},
   "outputs": [],
   "source": [
    "def combine_new_aug_dia(aug_dia, k):\n",
    "    new_aug_dia = {}\n",
    "    new_aug_dia[\"id\"] = aug_dia[\"id\"] + f\"_{k}\"\n",
    "    new_aug_dia[\"messages\"] = []\n",
    "\n",
    "    roles_to_add = [turn[\"participant\"] for turn in aug_dia[\"messages\"]]\n",
    "    utterances_to_add = [turn[\"text\"][k] for turn in aug_dia[\"messages\"]]\n",
    "\n",
    "    for role, uttr in zip(roles_to_add, utterances_to_add):\n",
    "        dict_messages = {}\n",
    "        dict_messages[\"participant\"] = role\n",
    "        dict_messages[\"text\"] = uttr\n",
    "        new_aug_dia[\"messages\"].append(dict_messages)\n",
    "\n",
    "    return new_aug_dia"
   ]
  },
  {
   "cell_type": "code",
   "execution_count": 123,
   "metadata": {},
   "outputs": [
    {
     "name": "stderr",
     "output_type": "stream",
     "text": [
      "  0%|          | 0/376 [00:00<?, ?it/s]"
     ]
    },
    {
     "name": "stderr",
     "output_type": "stream",
     "text": [
      "100%|██████████| 376/376 [00:00<00:00, 4689.31it/s]\n"
     ]
    },
    {
     "data": {
      "text/plain": [
       "376"
      ]
     },
     "execution_count": 123,
     "metadata": {},
     "output_type": "execute_result"
    }
   ],
   "source": [
    "new_data = []\n",
    "\n",
    "for i, example in enumerate(tqdm(data)):\n",
    "    # make a copy of example from old data\n",
    "    new_example = {}\n",
    "    new_example[\"graph\"] = example[\"graph\"]\n",
    "    new_example[\"topic\"] = example[\"topic\"]\n",
    "\n",
    "    # dialogues and augmented_dialogues will be set later\n",
    "    new_example[\"dialogues\"] = []\n",
    "    new_example[\"augmented_dialogues\"] = []\n",
    "\n",
    "    dialogues = example[\"dialogues\"]\n",
    "    augmented_dialogues = example[\"augmented_dialogues\"]\n",
    "\n",
    "    # take a pair of orig_dia and aug_dia (aug_dia has 3 variations of all phrases)\n",
    "    for j, (orig_dia, aug_dia) in enumerate(zip(dialogues, augmented_dialogues)):\n",
    "        # set an orig_dia without changes\n",
    "        new_example[\"dialogues\"].append(orig_dia)\n",
    "\n",
    "        uttr_list_len = len(aug_dia[\"messages\"][0][\"text\"])\n",
    "\n",
    "        # combine 3 new aug_dias from 1 old aug_dia\n",
    "        for k in range(uttr_list_len):\n",
    "            new_aug_dia = combine_new_aug_dia(aug_dia, k)\n",
    "            # add new aug_dia to the new example\n",
    "            new_example[\"augmented_dialogues\"].append(new_aug_dia)\n",
    "\n",
    "    # add new example with new aug_dias to the new data\n",
    "    new_data.append(new_example)\n",
    "len(new_data)"
   ]
  },
  {
   "cell_type": "code",
   "execution_count": 100,
   "metadata": {},
   "outputs": [],
   "source": [
    "with open(\n",
    "    \"../data/gen_dataset_augmented_0-402_combined_v5.json\", \"w\", encoding=\"utf-8\"\n",
    ") as file:\n",
    "    json.dump(new_data, file, indent=4)"
   ]
  }
 ],
 "metadata": {
  "kernelspec": {
   "display_name": "conda_env_py311",
   "language": "python",
   "name": "python3"
  },
  "language_info": {
   "codemirror_mode": {
    "name": "ipython",
    "version": 3
   },
   "file_extension": ".py",
   "mimetype": "text/x-python",
   "name": "python",
   "nbconvert_exporter": "python",
   "pygments_lexer": "ipython3",
   "version": "3.11.11"
  }
 },
 "nbformat": 4,
 "nbformat_minor": 2
}
