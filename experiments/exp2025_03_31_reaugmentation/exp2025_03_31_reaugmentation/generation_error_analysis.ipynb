{
 "cells": [
  {
   "cell_type": "code",
   "execution_count": 1,
   "metadata": {},
   "outputs": [
    {
     "data": {
      "text/plain": [
       "True"
      ]
     },
     "execution_count": 1,
     "metadata": {},
     "output_type": "execute_result"
    }
   ],
   "source": [
    "from dotenv import load_dotenv\n",
    "\n",
    "load_dotenv()"
   ]
  },
  {
   "cell_type": "code",
   "execution_count": 2,
   "metadata": {},
   "outputs": [],
   "source": [
    "import os\n",
    "\n",
    "os.environ[\"PATH_TO_ENV\"] = \"~/projects/chatsky-llm-autoconfig/.env\""
   ]
  },
  {
   "cell_type": "code",
   "execution_count": 8,
   "metadata": {},
   "outputs": [],
   "source": [
    "from tqdm import tqdm\n",
    "import pickle\n",
    "import pandas as pd\n",
    "from augmentation_utils import (\n",
    "    is_correct_length_modified,\n",
    "    match_roles_modified,\n",
    ")"
   ]
  },
  {
   "cell_type": "markdown",
   "metadata": {},
   "source": [
    "# Error analysis"
   ]
  },
  {
   "cell_type": "markdown",
   "metadata": {},
   "source": [
    "## matching roles and length correctness"
   ]
  },
  {
   "cell_type": "code",
   "execution_count": 12,
   "metadata": {},
   "outputs": [
    {
     "data": {
      "text/plain": [
       "402"
      ]
     },
     "execution_count": 12,
     "metadata": {},
     "output_type": "execute_result"
    }
   ],
   "source": [
    "with open(\"../data/gen_dataset_augmented_0-402\", \"rb\") as file:\n",
    "    data = pickle.load(file)\n",
    "len(data)"
   ]
  },
  {
   "cell_type": "code",
   "execution_count": 13,
   "metadata": {},
   "outputs": [
    {
     "name": "stderr",
     "output_type": "stream",
     "text": [
      "100%|██████████| 402/402 [00:00<00:00, 21453.42it/s]\n"
     ]
    },
    {
     "data": {
      "text/plain": [
       "(50, 50)"
      ]
     },
     "execution_count": 13,
     "metadata": {},
     "output_type": "execute_result"
    }
   ],
   "source": [
    "failure_instances_length = []\n",
    "failure_instances_roles = []\n",
    "\n",
    "for i, instance in enumerate(tqdm(data)):\n",
    "    dialogues = [dial[\"messages\"] for dial in instance[\"dialogues\"]]\n",
    "    augmented_dialogues = [dial[\"messages\"] for dial in instance[\"augmented_dialogues\"]]\n",
    "\n",
    "    for j, (orig_dia, aug_dia) in enumerate(zip(dialogues, augmented_dialogues)):\n",
    "        length_comparison = is_correct_length_modified(orig_dia, aug_dia)\n",
    "        roles_comparison = match_roles_modified(orig_dia, aug_dia)\n",
    "\n",
    "        if length_comparison != True:\n",
    "            failure_instances_length.append((i, j, length_comparison))\n",
    "        if roles_comparison != True:\n",
    "            failure_instances_roles.append((i, j, roles_comparison))\n",
    "\n",
    "len(failure_instances_length), len(failure_instances_roles)"
   ]
  },
  {
   "cell_type": "code",
   "execution_count": 14,
   "metadata": {},
   "outputs": [
    {
     "data": {
      "text/plain": [
       "{False,\n",
       " \"Length comparison error: object of type 'UnboundLocalError' has no len()\"}"
      ]
     },
     "execution_count": 14,
     "metadata": {},
     "output_type": "execute_result"
    }
   ],
   "source": [
    "errors = []\n",
    "for _, _, error in failure_instances_length:\n",
    "    errors.append(error)\n",
    "errors = set(errors)\n",
    "errors"
   ]
  },
  {
   "cell_type": "code",
   "execution_count": 15,
   "metadata": {},
   "outputs": [
    {
     "data": {
      "text/plain": [
       "{\"Roles comparison error: 'UnboundLocalError' object is not iterable\",\n",
       " \"Roles comparison error: string indices must be integers, not 'str'\"}"
      ]
     },
     "execution_count": 15,
     "metadata": {},
     "output_type": "execute_result"
    }
   ],
   "source": [
    "errors = []\n",
    "for _, _, error in failure_instances_roles:\n",
    "    errors.append(error)\n",
    "errors = set(errors)\n",
    "errors"
   ]
  },
  {
   "cell_type": "code",
   "execution_count": 19,
   "metadata": {},
   "outputs": [
    {
     "data": {
      "text/plain": [
       "(6, {92, 100, 200, 216, 222, 365})"
      ]
     },
     "execution_count": 19,
     "metadata": {},
     "output_type": "execute_result"
    }
   ],
   "source": [
    "# graphs with length errors\n",
    "graphs = set([graph for graph, _, _ in failure_instances_length])\n",
    "len(graphs), graphs"
   ]
  },
  {
   "cell_type": "code",
   "execution_count": 21,
   "metadata": {},
   "outputs": [
    {
     "data": {
      "text/plain": [
       "(6, {92, 100, 200, 216, 222, 365})"
      ]
     },
     "execution_count": 21,
     "metadata": {},
     "output_type": "execute_result"
    }
   ],
   "source": [
    "# graphs with roles errors\n",
    "graphs = set([graph for graph, _, _ in failure_instances_roles])\n",
    "len(graphs), graphs"
   ]
  },
  {
   "cell_type": "code",
   "execution_count": 49,
   "metadata": {},
   "outputs": [
    {
     "data": {
      "text/html": [
       "<div>\n",
       "<style scoped>\n",
       "    .dataframe tbody tr th:only-of-type {\n",
       "        vertical-align: middle;\n",
       "    }\n",
       "\n",
       "    .dataframe tbody tr th {\n",
       "        vertical-align: top;\n",
       "    }\n",
       "\n",
       "    .dataframe thead th {\n",
       "        text-align: right;\n",
       "    }\n",
       "</style>\n",
       "<table border=\"1\" class=\"dataframe\">\n",
       "  <thead>\n",
       "    <tr style=\"text-align: right;\">\n",
       "      <th></th>\n",
       "      <th>graph</th>\n",
       "      <th>dialogues_total</th>\n",
       "    </tr>\n",
       "  </thead>\n",
       "  <tbody>\n",
       "    <tr>\n",
       "      <th>0</th>\n",
       "      <td>92</td>\n",
       "      <td>7</td>\n",
       "    </tr>\n",
       "    <tr>\n",
       "      <th>1</th>\n",
       "      <td>100</td>\n",
       "      <td>48</td>\n",
       "    </tr>\n",
       "    <tr>\n",
       "      <th>2</th>\n",
       "      <td>200</td>\n",
       "      <td>36</td>\n",
       "    </tr>\n",
       "    <tr>\n",
       "      <th>3</th>\n",
       "      <td>216</td>\n",
       "      <td>44</td>\n",
       "    </tr>\n",
       "    <tr>\n",
       "      <th>4</th>\n",
       "      <td>222</td>\n",
       "      <td>47</td>\n",
       "    </tr>\n",
       "    <tr>\n",
       "      <th>5</th>\n",
       "      <td>365</td>\n",
       "      <td>6</td>\n",
       "    </tr>\n",
       "  </tbody>\n",
       "</table>\n",
       "</div>"
      ],
      "text/plain": [
       "   graph  dialogues_total\n",
       "0     92                7\n",
       "1    100               48\n",
       "2    200               36\n",
       "3    216               44\n",
       "4    222               47\n",
       "5    365                6"
      ]
     },
     "execution_count": 49,
     "metadata": {},
     "output_type": "execute_result"
    }
   ],
   "source": [
    "dialogues_total = []\n",
    "for graph in sorted(graphs):\n",
    "    dialogues_total.append((graph, len(data[graph][\"dialogues\"])))\n",
    "tmp = pd.DataFrame(dialogues_total, columns=[\"graph\", \"dialogues_total\"])\n",
    "tmp"
   ]
  },
  {
   "cell_type": "code",
   "execution_count": 51,
   "metadata": {},
   "outputs": [
    {
     "data": {
      "text/html": [
       "<div>\n",
       "<style scoped>\n",
       "    .dataframe tbody tr th:only-of-type {\n",
       "        vertical-align: middle;\n",
       "    }\n",
       "\n",
       "    .dataframe tbody tr th {\n",
       "        vertical-align: top;\n",
       "    }\n",
       "\n",
       "    .dataframe thead th {\n",
       "        text-align: right;\n",
       "    }\n",
       "</style>\n",
       "<table border=\"1\" class=\"dataframe\">\n",
       "  <thead>\n",
       "    <tr style=\"text-align: right;\">\n",
       "      <th></th>\n",
       "      <th>graph</th>\n",
       "      <th>dialogue</th>\n",
       "      <th>length_error</th>\n",
       "      <th>dialogues_total</th>\n",
       "    </tr>\n",
       "  </thead>\n",
       "  <tbody>\n",
       "    <tr>\n",
       "      <th>0</th>\n",
       "      <td>92</td>\n",
       "      <td>5</td>\n",
       "      <td>5</td>\n",
       "      <td>7</td>\n",
       "    </tr>\n",
       "    <tr>\n",
       "      <th>1</th>\n",
       "      <td>100</td>\n",
       "      <td>1</td>\n",
       "      <td>1</td>\n",
       "      <td>48</td>\n",
       "    </tr>\n",
       "    <tr>\n",
       "      <th>2</th>\n",
       "      <td>200</td>\n",
       "      <td>36</td>\n",
       "      <td>36</td>\n",
       "      <td>36</td>\n",
       "    </tr>\n",
       "    <tr>\n",
       "      <th>3</th>\n",
       "      <td>216</td>\n",
       "      <td>1</td>\n",
       "      <td>1</td>\n",
       "      <td>44</td>\n",
       "    </tr>\n",
       "    <tr>\n",
       "      <th>4</th>\n",
       "      <td>222</td>\n",
       "      <td>5</td>\n",
       "      <td>5</td>\n",
       "      <td>47</td>\n",
       "    </tr>\n",
       "    <tr>\n",
       "      <th>5</th>\n",
       "      <td>365</td>\n",
       "      <td>2</td>\n",
       "      <td>2</td>\n",
       "      <td>6</td>\n",
       "    </tr>\n",
       "  </tbody>\n",
       "</table>\n",
       "</div>"
      ],
      "text/plain": [
       "   graph  dialogue  length_error  dialogues_total\n",
       "0     92         5             5                7\n",
       "1    100         1             1               48\n",
       "2    200        36            36               36\n",
       "3    216         1             1               44\n",
       "4    222         5             5               47\n",
       "5    365         2             2                6"
      ]
     },
     "execution_count": 51,
     "metadata": {},
     "output_type": "execute_result"
    }
   ],
   "source": [
    "df = pd.DataFrame(\n",
    "    failure_instances_length, columns=[\"graph\", \"dialogue\", \"length_error\"]\n",
    ")\n",
    "df.groupby(\"graph\").count().reset_index().join(tmp, rsuffix=\"_\").drop(\n",
    "    columns=[\"graph_\"]\n",
    ")"
   ]
  },
  {
   "cell_type": "code",
   "execution_count": 82,
   "metadata": {},
   "outputs": [
    {
     "data": {
      "text/html": [
       "<div>\n",
       "<style scoped>\n",
       "    .dataframe tbody tr th:only-of-type {\n",
       "        vertical-align: middle;\n",
       "    }\n",
       "\n",
       "    .dataframe tbody tr th {\n",
       "        vertical-align: top;\n",
       "    }\n",
       "\n",
       "    .dataframe thead th {\n",
       "        text-align: right;\n",
       "    }\n",
       "</style>\n",
       "<table border=\"1\" class=\"dataframe\">\n",
       "  <thead>\n",
       "    <tr style=\"text-align: right;\">\n",
       "      <th></th>\n",
       "      <th>graph</th>\n",
       "      <th>dialogue</th>\n",
       "      <th>length_error</th>\n",
       "    </tr>\n",
       "  </thead>\n",
       "  <tbody>\n",
       "    <tr>\n",
       "      <th>5</th>\n",
       "      <td>100</td>\n",
       "      <td>20</td>\n",
       "      <td>Length comparison error: object of type 'Unbou...</td>\n",
       "    </tr>\n",
       "  </tbody>\n",
       "</table>\n",
       "</div>"
      ],
      "text/plain": [
       "   graph  dialogue                                       length_error\n",
       "5    100        20  Length comparison error: object of type 'Unbou..."
      ]
     },
     "execution_count": 82,
     "metadata": {},
     "output_type": "execute_result"
    }
   ],
   "source": [
    "df.loc[df[\"graph\"] == 100]"
   ]
  },
  {
   "cell_type": "code",
   "execution_count": 91,
   "metadata": {},
   "outputs": [
    {
     "data": {
      "text/plain": [
       "{'id': 'Requesting a military service discount_1_6',\n",
       " 'messages': [{'participant': 'assistant',\n",
       "   'text': 'Hello! How can I assist you today?'},\n",
       "  {'participant': 'user',\n",
       "   'text': 'I would like to request a military service discount.'},\n",
       "  {'participant': 'assistant',\n",
       "   'text': 'Of course! Are you currently serving in the military?'},\n",
       "  {'participant': 'user', 'text': 'Yes, I am currently serving.'},\n",
       "  {'participant': 'assistant',\n",
       "   'text': 'Great! I have applied the discount to your account. Is there anything else I can help you with?'},\n",
       "  {'participant': 'user',\n",
       "   'text': \"Actually, I'd like to update my contact information.\"},\n",
       "  {'participant': 'assistant',\n",
       "   'text': 'Sure, I can help you update your contact information. Please provide the new details.'},\n",
       "  {'participant': 'user', 'text': 'Here are my new contact details.'},\n",
       "  {'participant': 'assistant',\n",
       "   'text': 'Thank you, your contact information has been updated. Is there anything else I can assist you with?'},\n",
       "  {'participant': 'user', 'text': \"I'd like to revise my contact info.\"},\n",
       "  {'participant': 'assistant',\n",
       "   'text': 'Sure, I can help you update your contact information. Please provide the new details.'},\n",
       "  {'participant': 'user', 'text': 'Here are my new contact details.'},\n",
       "  {'participant': 'assistant',\n",
       "   'text': 'Thank you, your contact information has been updated. Is there anything else I can assist you with?'},\n",
       "  {'participant': 'user', 'text': \"No, that's all, thanks.\"},\n",
       "  {'participant': 'assistant',\n",
       "   'text': 'Thank you for contacting us. Have a great day!'}]}"
      ]
     },
     "execution_count": 91,
     "metadata": {},
     "output_type": "execute_result"
    }
   ],
   "source": [
    "data[216][\"dialogues\"][6]"
   ]
  },
  {
   "cell_type": "code",
   "execution_count": 90,
   "metadata": {},
   "outputs": [
    {
     "data": {
      "text/plain": [
       "{'id': 'Reporting a broken forgot password link_1_20',\n",
       " 'messages': UnboundLocalError(\"cannot access local variable 'augmented_dialogue' where it is not associated with a value\")}"
      ]
     },
     "execution_count": 90,
     "metadata": {},
     "output_type": "execute_result"
    }
   ],
   "source": [
    "data[100][\"augmented_dialogues\"][20]"
   ]
  },
  {
   "cell_type": "markdown",
   "metadata": {},
   "source": [
    "## Re-augmentation"
   ]
  },
  {
   "cell_type": "code",
   "execution_count": null,
   "metadata": {},
   "outputs": [
    {
     "name": "stderr",
     "output_type": "stream",
     "text": [
      "/home/olshevskaya/miniconda3/envs/conda_env_py311/lib/python3.11/site-packages/pydantic/_internal/_fields.py:192: UserWarning: Field name \"validate\" in \"Dialogue\" shadows an attribute in parent \"BaseModel\"\n",
      "  warnings.warn(\n"
     ]
    }
   ],
   "source": [
    "from augmentation_prompts import variations_augmentation_prompt_9\n",
    "from dialogue_augmentation import augment_dialogue"
   ]
  },
  {
   "cell_type": "code",
   "execution_count": 87,
   "metadata": {},
   "outputs": [
    {
     "data": {
      "text/plain": [
       "402"
      ]
     },
     "execution_count": 87,
     "metadata": {},
     "output_type": "execute_result"
    }
   ],
   "source": [
    "len(data)"
   ]
  },
  {
   "cell_type": "code",
   "execution_count": null,
   "metadata": {},
   "outputs": [],
   "source": [
    "for i, j in [(100, 20), (216, 6)]:\n",
    "    print(f\"Augmenting example {i} dialogue {j}\")\n",
    "    topic = data[i][\"topic\"]\n",
    "    orig_dialogue = data[i][\"dialogues\"][j][\"messages\"]\n",
    "\n",
    "    try:\n",
    "        aug_dialogue = augment_dialogue(\n",
    "            orig_dialogue,\n",
    "            topic,\n",
    "            variations_augmentation_prompt_9,\n",
    "            \"gpt-4o-mini-2024-07-18\",\n",
    "        )\n",
    "    except Exception as e:\n",
    "        aug_dialogue = e\n",
    "\n",
    "    data[i][\"augmented_dialogues\"][j][\"messages\"] = aug_dialogue"
   ]
  },
  {
   "cell_type": "code",
   "execution_count": 97,
   "metadata": {},
   "outputs": [],
   "source": [
    "with open(\"../data/gen_dataset_augmented_0-402_v3\", \"wb\") as file:\n",
    "    pickle.dump(data, file)"
   ]
  },
  {
   "cell_type": "code",
   "execution_count": 102,
   "metadata": {},
   "outputs": [
    {
     "data": {
      "text/plain": [
       "{'id': 'Reporting a broken forgot password link_1_20',\n",
       " 'messages': [{'participant': 'assistant',\n",
       "   'text': ['Hi there! How may I help you today?',\n",
       "    'Hello! What can I do for you today?',\n",
       "    'Greetings! How can I assist you at this moment?']},\n",
       "  {'participant': 'user',\n",
       "   'text': [\"I'm unable to log into my account because I've forgotten my password.\",\n",
       "    \"I can't get into my account since I forgot my password.\",\n",
       "    \"I'm locked out of my account due to a forgotten password.\"]},\n",
       "  {'participant': 'assistant',\n",
       "   'text': [\"I'm really sorry to hear that. Is it the 'Forgot Password' link that's giving you trouble?\",\n",
       "    \"I apologize for the inconvenience. Are you experiencing issues with the 'Forgot Password' link?\",\n",
       "    'Sorry to hear that! Are you having difficulties with the link to reset your password?']},\n",
       "  {'participant': 'user',\n",
       "   'text': ['No, I just need to change my password.',\n",
       "    \"That's not the issue; I simply want to reset my password.\",\n",
       "    'No, I only want to reset my password.']},\n",
       "  {'participant': 'assistant',\n",
       "   'text': [\"I understand you're having issues resetting your password. Would you like some help with that?\",\n",
       "    'I’m sorry to hear that you’re facing difficulties with resetting your password. Would you like assistance?',\n",
       "    'I apologize for the trouble with resetting your password. Do you need my help with that?']},\n",
       "  {'participant': 'user',\n",
       "   'text': ['Yes, that would be great.',\n",
       "    \"Absolutely, I'd appreciate that.\",\n",
       "    'Yes, I could use some help.']},\n",
       "  {'participant': 'assistant',\n",
       "   'text': ['Thank you! I have sent a password reset link to your email. Please take a look in your inbox.',\n",
       "    \"Thanks for your patience. I've dispatched a password reset link to your email. Kindly check your inbox.\",\n",
       "    \"Great! I've just sent a password reset link to your email. Please check your inbox.\"]},\n",
       "  {'participant': 'user',\n",
       "   'text': [\"I didn't get the email.\",\n",
       "    \"I haven't received the email.\",\n",
       "    \"The email hasn't come through.\"]},\n",
       "  {'participant': 'assistant',\n",
       "   'text': ['I apologize for the hassle. Let me resend the password reset link. Please check your email once more.',\n",
       "    \"I'm really sorry for the inconvenience. I'll resend the password reset link now; please check your email again.\",\n",
       "    \"I’m sorry for the trouble. I'll send the password reset link again; please see your email shortly.\"]},\n",
       "  {'participant': 'user',\n",
       "   'text': ['I got it now, thank you.',\n",
       "    'Now I see it, thanks!',\n",
       "    \"I've received it now, thank you.\"]},\n",
       "  {'participant': 'assistant',\n",
       "   'text': [\"You're welcome! I've sent you the password reset link to your email. Please check your inbox.\",\n",
       "    \"Glad to hear it! I've sent the password reset link to your email. Please verify your inbox.\",\n",
       "    \"Great! I've just sent the password reset link to your email. Make sure to check your inbox.\"]},\n",
       "  {'participant': 'user',\n",
       "   'text': [\"Thanks, that's everything.\",\n",
       "    \"Thank you, that's all I needed.\",\n",
       "    \"I appreciate it, that's all for now.\"]},\n",
       "  {'participant': 'assistant',\n",
       "   'text': ['Goodbye! Have a wonderful day!',\n",
       "    'Take care! Goodbye!',\n",
       "    'Farewell! Wishing you a great day ahead!']}]}"
      ]
     },
     "execution_count": 102,
     "metadata": {},
     "output_type": "execute_result"
    }
   ],
   "source": [
    "data[100][\"augmented_dialogues\"][20]"
   ]
  },
  {
   "cell_type": "code",
   "execution_count": 103,
   "metadata": {},
   "outputs": [
    {
     "data": {
      "text/plain": [
       "{'id': 'Requesting a military service discount_1_6',\n",
       " 'messages': 'Generation error: length comparison: False; roles comparison: True'}"
      ]
     },
     "execution_count": 103,
     "metadata": {},
     "output_type": "execute_result"
    }
   ],
   "source": [
    "data[216][\"augmented_dialogues\"][6]"
   ]
  }
 ],
 "metadata": {
  "kernelspec": {
   "display_name": "conda_env_py311",
   "language": "python",
   "name": "python3"
  },
  "language_info": {
   "codemirror_mode": {
    "name": "ipython",
    "version": 3
   },
   "file_extension": ".py",
   "mimetype": "text/x-python",
   "name": "python",
   "nbconvert_exporter": "python",
   "pygments_lexer": "ipython3",
   "version": "3.11.11"
  }
 },
 "nbformat": 4,
 "nbformat_minor": 2
}
