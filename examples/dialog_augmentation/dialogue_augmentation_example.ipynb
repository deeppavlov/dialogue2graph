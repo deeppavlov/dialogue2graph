{
 "cells": [
  {
   "cell_type": "code",
   "execution_count": 1,
   "metadata": {},
   "outputs": [
    {
     "name": "stdout",
     "output_type": "stream",
     "text": [
      "\u001b[34mInstalling dependencies from lock file\u001b[39m\n",
      "\n",
      "No dependencies to install or update\n",
      "\n",
      "\u001b[39;1mInstalling\u001b[39;22m the current project: \u001b[36mdialog2graph\u001b[39m (\u001b[39;1m0.1.1\u001b[39;22m)\u001b[1G\u001b[2K\u001b[39;1mInstalling\u001b[39;22m the current project: \u001b[36mdialog2graph\u001b[39m (\u001b[32m0.1.1\u001b[39m)\n"
     ]
    }
   ],
   "source": [
    "! poetry install"
   ]
  },
  {
   "cell_type": "markdown",
   "metadata": {},
   "source": [
    "## Generate 3 augmented dialogs on one given dialog"
   ]
  },
  {
   "cell_type": "markdown",
   "metadata": {},
   "source": [
    "Use DialogAugmenter to augment an original dialog by paraphrasing its lines while maintaining the structure and flow of the conversation."
   ]
  },
  {
   "cell_type": "code",
   "execution_count": 1,
   "metadata": {},
   "outputs": [
    {
     "name": "stderr",
     "output_type": "stream",
     "text": [
      "/home/olshevskaya/miniconda3/envs/conda_env_py311/lib/python3.11/site-packages/pydantic/_internal/_fields.py:198: UserWarning: Field name \"validate\" in \"Dialog\" shadows an attribute in parent \"BaseModel\"\n",
      "  warnings.warn(\n",
      "2025-04-30 11:32:04,076 - datasets - INFO - PyTorch version 2.6.0 available.\n"
     ]
    },
    {
     "data": {
      "text/plain": [
       "True"
      ]
     },
     "execution_count": 1,
     "metadata": {},
     "output_type": "execute_result"
    }
   ],
   "source": [
    "import json\n",
    "import dotenv\n",
    "from dialog2graph.pipelines.core.dialog import Dialog\n",
    "from dialog2graph.datasets.augment_dialogs.augmentation import DialogAugmenter\n",
    "from dialog2graph.pipelines.model_storage import ModelStorage\n",
    "from dialog2graph.datasets.augment_dialogs.prompts import augmentation_prompt_3_vars\n",
    "from langchain_openai import ChatOpenAI\n",
    "\n",
    "dotenv.load_dotenv()"
   ]
  },
  {
   "cell_type": "markdown",
   "metadata": {},
   "source": [
    "1. Read the example data to get the dialog for augmentation."
   ]
  },
  {
   "cell_type": "code",
   "execution_count": 2,
   "metadata": {},
   "outputs": [
    {
     "name": "stdout",
     "output_type": "stream",
     "text": [
      "assistant: Hi there! How can I assist you today?\n",
      "user: I want to place an order.\n",
      "assistant: Great! What product are you interested in?\n",
      "user: I’d like a t-shirt.\n",
      "assistant: What size would you like?\n",
      "user: Medium, please.\n",
      "assistant: Would you like that in red or blue?\n",
      "user: Red, please.\n",
      "assistant: Perfect! Can I have your shipping address?\n",
      "user: Sure, it’s 123 Main St.\n",
      "assistant: Thank you! Your order has been placed. Is there anything else I can help you with?\n",
      "user: Actually, can I change my order?\n",
      "assistant: Of course! What would you like to change?\n",
      "user: I want a large size.\n",
      "assistant: What size would you like?\n",
      "user: Medium, please.\n",
      "assistant: Would you like that in red or blue?\n",
      "user: Red, please.\n",
      "assistant: Perfect! Can I have your shipping address?\n",
      "user: Sure, it’s 123 Main St.\n",
      "assistant: Thank you! Your order has been placed. Is there anything else I can help you with?\n",
      "user: No, that's all. Thank you.\n",
      "assistant: Alright, feel free to reach out anytime. Have a great day!\n"
     ]
    }
   ],
   "source": [
    "with open(\"dialog_augmentation_data_example.json\", encoding=\"utf-8\") as f:\n",
    "    data = json.load(f)\n",
    "dialog = Dialog(**data[0][\"dialog\"])\n",
    "print(dialog)"
   ]
  },
  {
   "cell_type": "markdown",
   "metadata": {},
   "source": [
    "2. Create `ModelStorage` instance and add choosen LLMs for dialog generation (i.e. dialog augmentation) and formatting LLM's output."
   ]
  },
  {
   "cell_type": "code",
   "execution_count": 3,
   "metadata": {},
   "outputs": [
    {
     "name": "stderr",
     "output_type": "stream",
     "text": [
      "2025-04-30 11:32:08,746 - /cephfs/home/olshevskaya/chatsky-llm-autoconfig/dialog2graph/pipelines/model_storage.py - INFO - Added <class 'langchain_openai.chat_models.base.ChatOpenAI'> model 'generation-llm' to storage\n",
      "2025-04-30 11:32:08,813 - /cephfs/home/olshevskaya/chatsky-llm-autoconfig/dialog2graph/pipelines/model_storage.py - INFO - Added <class 'langchain_openai.chat_models.base.ChatOpenAI'> model 'formatting-llm' to storage\n"
     ]
    }
   ],
   "source": [
    "model_storage = ModelStorage()\n",
    "model_storage.add(\n",
    "        key=\"generation-llm\", # model to use for generation\n",
    "        config={\"model_name\": \"gpt-4o-mini-2024-07-18\", \"temperature\": 0.7},\n",
    "        model_type=ChatOpenAI,\n",
    "    )\n",
    "model_storage.add(\n",
    "        key=\"formatting-llm\", # model to use for formatting LLM's output\n",
    "        config={\"model_name\": \"gpt-3.5-turbo\", \"temperature\": 0.7},\n",
    "        model_type=ChatOpenAI,\n",
    "    )"
   ]
  },
  {
   "cell_type": "markdown",
   "metadata": {},
   "source": [
    "3. Create `DialogAugmenter` instance and use `invoke` method to get augmented dialogs."
   ]
  },
  {
   "cell_type": "code",
   "execution_count": 4,
   "metadata": {},
   "outputs": [],
   "source": [
    "augmenter = DialogAugmenter(\n",
    "        model_storage=model_storage,\n",
    "        generation_llm=\"generation-llm\",\n",
    "        formatting_llm=\"formatting-llm\",\n",
    "    )"
   ]
  },
  {
   "cell_type": "code",
   "execution_count": 5,
   "metadata": {},
   "outputs": [
    {
     "name": "stderr",
     "output_type": "stream",
     "text": [
      "2025-04-30 11:32:44,258 - httpx - INFO - HTTP Request: POST http://193.187.173.33:8002/api/providers/openai/v1/chat/completions \"HTTP/1.1 200 OK\"\n"
     ]
    }
   ],
   "source": [
    "result = augmenter.invoke(\n",
    "        dialog=dialog,\n",
    "        topic=\"Responding to DMs on Instagram/Facebook.\",\n",
    "        prompt=augmentation_prompt_3_vars,\n",
    "    )"
   ]
  },
  {
   "cell_type": "code",
   "execution_count": 6,
   "metadata": {},
   "outputs": [
    {
     "data": {
      "text/plain": [
       "[Dialog(messages=[DialogMessage(text='Hello! How can I help you today?', participant='assistant'), DialogMessage(text=\"I'd like to make an order.\", participant='user'), DialogMessage(text='Awesome! Which product are you interested in?', participant='assistant'), DialogMessage(text='I’m interested in a t-shirt.', participant='user'), DialogMessage(text='What size do you need?', participant='assistant'), DialogMessage(text='I’d like a medium size, please.', participant='user'), DialogMessage(text='Would you prefer that in red or blue?', participant='assistant'), DialogMessage(text='Red would be great, thank you.', participant='user'), DialogMessage(text='Great choice! Could you provide your shipping address?', participant='assistant'), DialogMessage(text=\"It's 123 Main St.\", participant='user'), DialogMessage(text='Thank you! Your order is confirmed. Is there anything else you need?', participant='assistant'), DialogMessage(text='Is it possible to change my order?', participant='user'), DialogMessage(text='Absolutely! What would you like to change?', participant='assistant'), DialogMessage(text='I need a large size instead.', participant='user'), DialogMessage(text='What size would you like now?', participant='assistant'), DialogMessage(text='I want medium again, please.', participant='user'), DialogMessage(text='Would you like that in red or blue?', participant='assistant'), DialogMessage(text='Red, please.', participant='user'), DialogMessage(text='Great! Can you provide your shipping address once more?', participant='assistant'), DialogMessage(text='It’s still 123 Main St.', participant='user'), DialogMessage(text='Thank you! Your order has been successfully placed. Is there anything else I can assist you with?', participant='assistant'), DialogMessage(text=\"No, that's all for now. Thank you!\", participant='user'), DialogMessage(text='Alright, feel free to message me anytime. Have a fantastic day!', participant='assistant')], id='', topic='', validate=True),\n",
       " Dialog(messages=[DialogMessage(text='Hi! What can I do for you today?', participant='assistant'), DialogMessage(text=\"I'm looking to place an order.\", participant='user'), DialogMessage(text=\"That's great! What item are you looking to buy?\", participant='assistant'), DialogMessage(text='I would like to order a t-shirt.', participant='user'), DialogMessage(text='Could you let me know your size?', participant='assistant'), DialogMessage(text='Please, make it medium.', participant='user'), DialogMessage(text='Do you want that in red or blue?', participant='assistant'), DialogMessage(text='I’ll go with red, please.', participant='user'), DialogMessage(text='Awesome! Can you share your shipping address with me?', participant='assistant'), DialogMessage(text='My address is 123 Main St.', participant='user'), DialogMessage(text='Thanks! Your order has been placed. How else can I assist you?', participant='assistant'), DialogMessage(text=\"Actually, I'd like to modify my order.\", participant='user'), DialogMessage(text='Sure thing! What changes do you want to make?', participant='assistant'), DialogMessage(text='I would like to switch to a large size.', participant='user'), DialogMessage(text='And what size do you want this time?', participant='assistant'), DialogMessage(text='Let’s stick with medium, thanks.', participant='user'), DialogMessage(text='Do you want that in red or blue?', participant='assistant'), DialogMessage(text='I’ll go with red again.', participant='user'), DialogMessage(text='Perfect! What’s your shipping address again?', participant='assistant'), DialogMessage(text='My address remains 123 Main St.', participant='user'), DialogMessage(text='Thanks! Your order is confirmed. Do you need any further assistance?', participant='assistant'), DialogMessage(text=\"That's everything, thanks!\", participant='user'), DialogMessage(text=\"Okay, don't hesitate to reach out if you need anything. Have a great day!\", participant='assistant')], id='', topic='', validate=True),\n",
       " Dialog(messages=[DialogMessage(text='Greetings! How may I assist you?', participant='assistant'), DialogMessage(text='I want to order something.', participant='user'), DialogMessage(text='Sure thing! What product do you have in mind?', participant='assistant'), DialogMessage(text='I want to get a t-shirt.', participant='user'), DialogMessage(text='Which size would you prefer?', participant='assistant'), DialogMessage(text='Medium size would be great.', participant='user'), DialogMessage(text='Which color would you like, red or blue?', participant='assistant'), DialogMessage(text='Let’s make it red.', participant='user'), DialogMessage(text='Perfect! What’s your shipping address?', participant='assistant'), DialogMessage(text='Sure, the address is 123 Main St.', participant='user'), DialogMessage(text='Got it! Your order is on its way. Need help with anything else?', participant='assistant'), DialogMessage(text='Can I make a change to my order?', participant='user'), DialogMessage(text='Of course! What do you want to adjust?', participant='assistant'), DialogMessage(text='Please change it to large.', participant='user'), DialogMessage(text='What size are you looking for now?', participant='assistant'), DialogMessage(text='I’ll take medium once more.', participant='user'), DialogMessage(text='Which color would you prefer, red or blue?', participant='assistant'), DialogMessage(text='Make it red, please.', participant='user'), DialogMessage(text='Awesome! Can I have your shipping address again?', participant='assistant'), DialogMessage(text='It’s the same, 123 Main St.', participant='user'), DialogMessage(text='Got it! Your order has been placed successfully. Anything else you need help with?', participant='assistant'), DialogMessage(text=\"Nope, that's it. Thank you!\", participant='user'), DialogMessage(text='Sure thing! Contact me anytime. Enjoy your day!', participant='assistant')], id='', topic='', validate=True)]"
      ]
     },
     "execution_count": 6,
     "metadata": {},
     "output_type": "execute_result"
    }
   ],
   "source": [
    "result"
   ]
  },
  {
   "cell_type": "markdown",
   "metadata": {},
   "source": [
    "**Example of augmented dialog**"
   ]
  },
  {
   "cell_type": "code",
   "execution_count": 7,
   "metadata": {},
   "outputs": [
    {
     "name": "stdout",
     "output_type": "stream",
     "text": [
      "assistant: Hello! How can I help you today?\n",
      "user: I'd like to make an order.\n",
      "assistant: Awesome! Which product are you interested in?\n",
      "user: I’m interested in a t-shirt.\n",
      "assistant: What size do you need?\n",
      "user: I’d like a medium size, please.\n",
      "assistant: Would you prefer that in red or blue?\n",
      "user: Red would be great, thank you.\n",
      "assistant: Great choice! Could you provide your shipping address?\n",
      "user: It's 123 Main St.\n",
      "assistant: Thank you! Your order is confirmed. Is there anything else you need?\n",
      "user: Is it possible to change my order?\n",
      "assistant: Absolutely! What would you like to change?\n",
      "user: I need a large size instead.\n",
      "assistant: What size would you like now?\n",
      "user: I want medium again, please.\n",
      "assistant: Would you like that in red or blue?\n",
      "user: Red, please.\n",
      "assistant: Great! Can you provide your shipping address once more?\n",
      "user: It’s still 123 Main St.\n",
      "assistant: Thank you! Your order has been successfully placed. Is there anything else I can assist you with?\n",
      "user: No, that's all for now. Thank you!\n",
      "assistant: Alright, feel free to message me anytime. Have a fantastic day!\n"
     ]
    }
   ],
   "source": [
    "print(result[0])"
   ]
  }
 ],
 "metadata": {
  "kernelspec": {
   "display_name": "conda_env_py311",
   "language": "python",
   "name": "python3"
  },
  "language_info": {
   "codemirror_mode": {
    "name": "ipython",
    "version": 3
   },
   "file_extension": ".py",
   "mimetype": "text/x-python",
   "name": "python",
   "nbconvert_exporter": "python",
   "pygments_lexer": "ipython3",
   "version": "3.11.11"
  }
 },
 "nbformat": 4,
 "nbformat_minor": 2
}
