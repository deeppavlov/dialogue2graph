{
 "cells": [
  {
   "cell_type": "code",
   "execution_count": 1,
   "metadata": {},
   "outputs": [],
   "source": [
    "import os\n",
    "import datasets"
   ]
  },
  {
   "cell_type": "code",
   "execution_count": 2,
   "metadata": {},
   "outputs": [],
   "source": [
    "from chatsky_llm_autoconfig.settings import EnvSettings\n",
    "env_settings = EnvSettings()"
   ]
  },
  {
   "cell_type": "code",
   "execution_count": 3,
   "metadata": {},
   "outputs": [],
   "source": [
    "SAVE_DIR = \"../../../datasets/\""
   ]
  },
  {
   "cell_type": "code",
   "execution_count": 4,
   "metadata": {},
   "outputs": [],
   "source": [
    "def load_dataset(name: str):\n",
    "    dataset_name = name.split(\"d2g://\")[-1]\n",
    "    print(dataset_name)\n",
    "    os.environ['DATASET_PATH'] = SAVE_DIR+dataset_name\n",
    "    dataset = datasets.load_dataset('./load_script.py', dataset_name, trust_remote_code=True)\n",
    "    return dataset"
   ]
  },
  {
   "cell_type": "code",
   "execution_count": 5,
   "metadata": {},
   "outputs": [
    {
     "name": "stdout",
     "output_type": "stream",
     "text": [
      "MULTIWOZ2_2\n"
     ]
    }
   ],
   "source": [
    "dataset = load_dataset(\"d2g://MULTIWOZ2_2\")"
   ]
  },
  {
   "cell_type": "code",
   "execution_count": 111,
   "metadata": {},
   "outputs": [
    {
     "data": {
      "application/vnd.jupyter.widget-view+json": {
       "model_id": "b2d2eb9375f74ef1b471f09cf7bb3c35",
       "version_major": 2,
       "version_minor": 0
      },
      "text/plain": [
       "Uploading the dataset shards:   0%|          | 0/1 [00:00<?, ?it/s]"
      ]
     },
     "metadata": {},
     "output_type": "display_data"
    },
    {
     "data": {
      "application/vnd.jupyter.widget-view+json": {
       "model_id": "4866e05dcd4b44869780e784247ebe69",
       "version_major": 2,
       "version_minor": 0
      },
      "text/plain": [
       "Creating parquet from Arrow format:   0%|          | 0/9 [00:00<?, ?ba/s]"
      ]
     },
     "metadata": {},
     "output_type": "display_data"
    },
    {
     "data": {
      "application/vnd.jupyter.widget-view+json": {
       "model_id": "19fae9f272854cd08a4665429e2f79c9",
       "version_major": 2,
       "version_minor": 0
      },
      "text/plain": [
       "Uploading the dataset shards:   0%|          | 0/1 [00:00<?, ?it/s]"
      ]
     },
     "metadata": {},
     "output_type": "display_data"
    },
    {
     "data": {
      "application/vnd.jupyter.widget-view+json": {
       "model_id": "4a9c3b85ee9f4e7385277128ad60a712",
       "version_major": 2,
       "version_minor": 0
      },
      "text/plain": [
       "Creating parquet from Arrow format:   0%|          | 0/1 [00:00<?, ?ba/s]"
      ]
     },
     "metadata": {},
     "output_type": "display_data"
    },
    {
     "data": {
      "application/vnd.jupyter.widget-view+json": {
       "model_id": "1f74b0b5e9e8475f8288254564dd5090",
       "version_major": 2,
       "version_minor": 0
      },
      "text/plain": [
       "Uploading the dataset shards:   0%|          | 0/1 [00:00<?, ?it/s]"
      ]
     },
     "metadata": {},
     "output_type": "display_data"
    },
    {
     "data": {
      "application/vnd.jupyter.widget-view+json": {
       "model_id": "5575e00c646a448eab745fc3ec6afe63",
       "version_major": 2,
       "version_minor": 0
      },
      "text/plain": [
       "Creating parquet from Arrow format:   0%|          | 0/1 [00:00<?, ?ba/s]"
      ]
     },
     "metadata": {},
     "output_type": "display_data"
    },
    {
     "data": {
      "text/plain": [
       "CommitInfo(commit_url='https://huggingface.co/datasets/DeepPavlov/d2d_real_dialogues/commit/27f46ee6b6a3d95b32810c342995e24040d83cbb', commit_message='Upload dataset', commit_description='', oid='27f46ee6b6a3d95b32810c342995e24040d83cbb', pr_url=None, repo_url=RepoUrl('https://huggingface.co/datasets/DeepPavlov/d2d_real_dialogues', endpoint='https://huggingface.co', repo_type='dataset', repo_id='DeepPavlov/d2d_real_dialogues'), pr_revision=None, pr_num=None)"
      ]
     },
     "execution_count": 111,
     "metadata": {},
     "output_type": "execute_result"
    }
   ],
   "source": [
    "dataset.push_to_hub(\"DeepPavlov/d2d_real_dialogues\", \"MULTIWOZ2_2\", private=True, token=env_settings.HUGGINGFACE_TOKEN)"
   ]
  },
  {
   "cell_type": "code",
   "execution_count": 6,
   "metadata": {},
   "outputs": [
    {
     "data": {
      "application/vnd.jupyter.widget-view+json": {
       "model_id": "a3a6da75b8ef4ce08acfe6260c45b74c",
       "version_major": 2,
       "version_minor": 0
      },
      "text/plain": [
       "README.md:   0%|          | 0.00/5.15k [00:00<?, ?B/s]"
      ]
     },
     "metadata": {},
     "output_type": "display_data"
    },
    {
     "data": {
      "application/vnd.jupyter.widget-view+json": {
       "model_id": "7c10f167adcc4a2ab245da45cb10d796",
       "version_major": 2,
       "version_minor": 0
      },
      "text/plain": [
       "train-00000-of-00001.parquet:   0%|          | 0.00/4.35M [00:00<?, ?B/s]"
      ]
     },
     "metadata": {},
     "output_type": "display_data"
    },
    {
     "data": {
      "application/vnd.jupyter.widget-view+json": {
       "model_id": "e52258d1366c43aaafa1fe38d212baae",
       "version_major": 2,
       "version_minor": 0
      },
      "text/plain": [
       "validation-00000-of-00001.parquet:   0%|          | 0.00/580k [00:00<?, ?B/s]"
      ]
     },
     "metadata": {},
     "output_type": "display_data"
    },
    {
     "data": {
      "application/vnd.jupyter.widget-view+json": {
       "model_id": "d488152094e14c23a4f122b8d3fef1c1",
       "version_major": 2,
       "version_minor": 0
      },
      "text/plain": [
       "test-00000-of-00001.parquet:   0%|          | 0.00/576k [00:00<?, ?B/s]"
      ]
     },
     "metadata": {},
     "output_type": "display_data"
    },
    {
     "data": {
      "application/vnd.jupyter.widget-view+json": {
       "model_id": "fea865e45b984c82a89226b27989b366",
       "version_major": 2,
       "version_minor": 0
      },
      "text/plain": [
       "Generating train split:   0%|          | 0/8437 [00:00<?, ? examples/s]"
      ]
     },
     "metadata": {},
     "output_type": "display_data"
    },
    {
     "data": {
      "application/vnd.jupyter.widget-view+json": {
       "model_id": "95382a9880d54a38a94effe94aa2c1bf",
       "version_major": 2,
       "version_minor": 0
      },
      "text/plain": [
       "Generating validation split:   0%|          | 0/1000 [00:00<?, ? examples/s]"
      ]
     },
     "metadata": {},
     "output_type": "display_data"
    },
    {
     "data": {
      "application/vnd.jupyter.widget-view+json": {
       "model_id": "7b1a3fb7ce9846168f445b160ff8530d",
       "version_major": 2,
       "version_minor": 0
      },
      "text/plain": [
       "Generating test split:   0%|          | 0/1000 [00:00<?, ? examples/s]"
      ]
     },
     "metadata": {},
     "output_type": "display_data"
    },
    {
     "data": {
      "text/plain": [
       "DatasetDict({\n",
       "    train: Dataset({\n",
       "        features: ['domain', 'dialogue_id', 'dialogue'],\n",
       "        num_rows: 8437\n",
       "    })\n",
       "    validation: Dataset({\n",
       "        features: ['domain', 'dialogue_id', 'dialogue'],\n",
       "        num_rows: 1000\n",
       "    })\n",
       "    test: Dataset({\n",
       "        features: ['domain', 'dialogue_id', 'dialogue'],\n",
       "        num_rows: 1000\n",
       "    })\n",
       "})"
      ]
     },
     "execution_count": 6,
     "metadata": {},
     "output_type": "execute_result"
    }
   ],
   "source": [
    "dataset = datasets.load_dataset(\"DeepPavlov/d2g_real_dialogues\", \"MULTIWOZ2_2\", token=env_settings.HUGGINGFACE_TOKEN)\n",
    "dataset"
   ]
  },
  {
   "cell_type": "code",
   "execution_count": 6,
   "metadata": {},
   "outputs": [
    {
     "data": {
      "text/plain": [
       "{'domain': ['restaurant', 'train'],\n",
       " 'dialogue_id': 'MULTIWOZ2_2--train--2001',\n",
       " 'dialogue': [{'text': 'Hello! How can I help you?',\n",
       "   'participant': 'assistant'},\n",
       "  {'text': 'I need to know if there are any trains that go to Kings lynn?',\n",
       "   'participant': 'user'},\n",
       "  {'text': 'Thre are many. When would you like to travel?',\n",
       "   'participant': 'assistant'},\n",
       "  {'text': 'On Friday. I want to leave in the evening after 19:45.',\n",
       "   'participant': 'user'},\n",
       "  {'text': 'Tr3765 leaves Cambridge at 20:11. Would you like some tickets?',\n",
       "   'participant': 'assistant'},\n",
       "  {'text': 'Yes for two please.', 'participant': 'user'},\n",
       "  {'text': 'Ok, I have your tickets for train TR3765 booked for you. The total fee is 19.6 GBP which is payable at the station. Your reference number is QK1CCHV5 .',\n",
       "   'participant': 'assistant'},\n",
       "  {'text': 'also looking for a place to dine,that is cheap and in the centre part of town',\n",
       "   'participant': 'user'},\n",
       "  {'text': 'There are lots to choose from! Is there a certain type of food you would like?',\n",
       "   'participant': 'assistant'},\n",
       "  {'text': 'Asian Oriental food.', 'participant': 'user'},\n",
       "  {'text': 'Dojo Noodle Bar ius a nice place, would you want me to book it for you?',\n",
       "   'participant': 'assistant'},\n",
       "  {'text': 'Sounds delicious. Yes, for 13:45 on the same Friday for the two of us, please.',\n",
       "   'participant': 'user'},\n",
       "  {'text': 'We have the 2 of you booked at Dojo Noodle Bar on that Friday at 1345. The reference number for your booking is R579XP9J .',\n",
       "   'participant': 'assistant'},\n",
       "  {'text': \"Excellent, that's all I needed today. Goodbye!\",\n",
       "   'participant': 'user'},\n",
       "  {'text': 'Alright, have a wonderful time in Cambridge!',\n",
       "   'participant': 'assistant'}]}"
      ]
     },
     "execution_count": 6,
     "metadata": {},
     "output_type": "execute_result"
    }
   ],
   "source": [
    "dataset['train'][2000]"
   ]
  },
  {
   "cell_type": "code",
   "execution_count": 7,
   "metadata": {},
   "outputs": [
    {
     "name": "stdout",
     "output_type": "stream",
     "text": [
      "META_WOZ\n"
     ]
    }
   ],
   "source": [
    "dataset = load_dataset(\"d2g://META_WOZ\")"
   ]
  },
  {
   "cell_type": "code",
   "execution_count": null,
   "metadata": {},
   "outputs": [
    {
     "data": {
      "application/vnd.jupyter.widget-view+json": {
       "model_id": "f12ad26d759a42599895301ce4df04d3",
       "version_major": 2,
       "version_minor": 0
      },
      "text/plain": [
       "Uploading the dataset shards:   0%|          | 0/1 [00:00<?, ?it/s]"
      ]
     },
     "metadata": {},
     "output_type": "display_data"
    },
    {
     "data": {
      "application/vnd.jupyter.widget-view+json": {
       "model_id": "0a33c03bc99b4aff8d79ef0bc236f0c3",
       "version_major": 2,
       "version_minor": 0
      },
      "text/plain": [
       "Creating parquet from Arrow format:   0%|          | 0/38 [00:00<?, ?ba/s]"
      ]
     },
     "metadata": {},
     "output_type": "display_data"
    },
    {
     "data": {
      "application/vnd.jupyter.widget-view+json": {
       "model_id": "f60dac15ec1b44d997ea9b16504b6dbb",
       "version_major": 2,
       "version_minor": 0
      },
      "text/plain": [
       "Uploading the dataset shards:   0%|          | 0/1 [00:00<?, ?it/s]"
      ]
     },
     "metadata": {},
     "output_type": "display_data"
    },
    {
     "data": {
      "application/vnd.jupyter.widget-view+json": {
       "model_id": "ddf9a76a59aa40e48c572ac893eb0b1c",
       "version_major": 2,
       "version_minor": 0
      },
      "text/plain": [
       "Creating parquet from Arrow format:   0%|          | 0/2 [00:00<?, ?ba/s]"
      ]
     },
     "metadata": {},
     "output_type": "display_data"
    },
    {
     "data": {
      "application/vnd.jupyter.widget-view+json": {
       "model_id": "829069c7624547ada83097584f541e5c",
       "version_major": 2,
       "version_minor": 0
      },
      "text/plain": [
       "Uploading the dataset shards:   0%|          | 0/1 [00:00<?, ?it/s]"
      ]
     },
     "metadata": {},
     "output_type": "display_data"
    },
    {
     "data": {
      "application/vnd.jupyter.widget-view+json": {
       "model_id": "a43c8aad331a4feda3c08f327112fc16",
       "version_major": 2,
       "version_minor": 0
      },
      "text/plain": [
       "Creating parquet from Arrow format:   0%|          | 0/2 [00:00<?, ?ba/s]"
      ]
     },
     "metadata": {},
     "output_type": "display_data"
    },
    {
     "data": {
      "application/vnd.jupyter.widget-view+json": {
       "model_id": "2cf7a91f94384227a1c79d9e6615676e",
       "version_major": 2,
       "version_minor": 0
      },
      "text/plain": [
       "README.md:   0%|          | 0.00/695 [00:00<?, ?B/s]"
      ]
     },
     "metadata": {},
     "output_type": "display_data"
    },
    {
     "data": {
      "text/plain": [
       "CommitInfo(commit_url='https://huggingface.co/datasets/DeepPavlov/d2d_real_dialogues/commit/41a413c111c5b58fde0582587b414f5168d9539f', commit_message='Upload dataset', commit_description='', oid='41a413c111c5b58fde0582587b414f5168d9539f', pr_url=None, repo_url=RepoUrl('https://huggingface.co/datasets/DeepPavlov/d2d_real_dialogues', endpoint='https://huggingface.co', repo_type='dataset', repo_id='DeepPavlov/d2d_real_dialogues'), pr_revision=None, pr_num=None)"
      ]
     },
     "execution_count": 113,
     "metadata": {},
     "output_type": "execute_result"
    }
   ],
   "source": [
    "dataset.push_to_hub(\"DeepPavlov/d2g_real_dialogues\", \"META_WOZ\", private=True, token=env_settings.HUGGINGFACE_TOKEN)"
   ]
  },
  {
   "cell_type": "code",
   "execution_count": null,
   "metadata": {},
   "outputs": [
    {
     "data": {
      "application/vnd.jupyter.widget-view+json": {
       "model_id": "66df495676e047d4934e67244015c1a3",
       "version_major": 2,
       "version_minor": 0
      },
      "text/plain": [
       "train-00000-of-00001.parquet:   0%|          | 0.00/9.23M [00:00<?, ?B/s]"
      ]
     },
     "metadata": {},
     "output_type": "display_data"
    },
    {
     "data": {
      "application/vnd.jupyter.widget-view+json": {
       "model_id": "871baa3c364c4bf9acd0642ec5dcce82",
       "version_major": 2,
       "version_minor": 0
      },
      "text/plain": [
       "validation-00000-of-00001.parquet:   0%|          | 0.00/321k [00:00<?, ?B/s]"
      ]
     },
     "metadata": {},
     "output_type": "display_data"
    },
    {
     "data": {
      "application/vnd.jupyter.widget-view+json": {
       "model_id": "a8bf90395b0947d48f1d414c904310a6",
       "version_major": 2,
       "version_minor": 0
      },
      "text/plain": [
       "test-00000-of-00001.parquet:   0%|          | 0.00/330k [00:00<?, ?B/s]"
      ]
     },
     "metadata": {},
     "output_type": "display_data"
    },
    {
     "data": {
      "application/vnd.jupyter.widget-view+json": {
       "model_id": "751baeb255a645d390f89c8e89c7d725",
       "version_major": 2,
       "version_minor": 0
      },
      "text/plain": [
       "Generating train split:   0%|          | 0/37884 [00:00<?, ? examples/s]"
      ]
     },
     "metadata": {},
     "output_type": "display_data"
    },
    {
     "data": {
      "application/vnd.jupyter.widget-view+json": {
       "model_id": "1e0da56fe2b847f2aa603b38349c9d75",
       "version_major": 2,
       "version_minor": 0
      },
      "text/plain": [
       "Generating validation split:   0%|          | 0/1159 [00:00<?, ? examples/s]"
      ]
     },
     "metadata": {},
     "output_type": "display_data"
    },
    {
     "data": {
      "application/vnd.jupyter.widget-view+json": {
       "model_id": "3bfb16f4127b44dbb823f9365a2ee314",
       "version_major": 2,
       "version_minor": 0
      },
      "text/plain": [
       "Generating test split:   0%|          | 0/1160 [00:00<?, ? examples/s]"
      ]
     },
     "metadata": {},
     "output_type": "display_data"
    },
    {
     "data": {
      "text/plain": [
       "DatasetDict({\n",
       "    train: Dataset({\n",
       "        features: ['domain', 'dialogue_id', 'dialogue'],\n",
       "        num_rows: 37884\n",
       "    })\n",
       "    validation: Dataset({\n",
       "        features: ['domain', 'dialogue_id', 'dialogue'],\n",
       "        num_rows: 1159\n",
       "    })\n",
       "    test: Dataset({\n",
       "        features: ['domain', 'dialogue_id', 'dialogue'],\n",
       "        num_rows: 1160\n",
       "    })\n",
       "})"
      ]
     },
     "execution_count": 130,
     "metadata": {},
     "output_type": "execute_result"
    }
   ],
   "source": [
    "dataset = datasets.load_dataset(\"DeepPavlov/d2g_real_dialogues\", \"META_WOZ\", token=env_settings.HUGGINGFACE_TOKEN)\n",
    "dataset"
   ]
  },
  {
   "cell_type": "code",
   "execution_count": 8,
   "metadata": {},
   "outputs": [
    {
     "data": {
      "text/plain": [
       "{'domain': ['ALARM_SET'],\n",
       " 'dialogue_id': '8bef01de',\n",
       " 'dialogue': [{'text': 'Hello how may I help you?',\n",
       "   'participant': 'assistant'},\n",
       "  {'text': 'Hi there. I could use some help with some phone alarms',\n",
       "   'participant': 'user'},\n",
       "  {'text': 'What help do you need with your phone alarms?',\n",
       "   'participant': 'assistant'},\n",
       "  {'text': 'Would you please list all the alarms I have set for next week?',\n",
       "   'participant': 'user'},\n",
       "  {'text': 'On Monday, Wednesday, and Friday you have a 6 AM alarm for \"Go to gym\". On Friday and Saturday you have an 8 PM alarm for \"Party\".',\n",
       "   'participant': 'assistant'},\n",
       "  {'text': 'Would you please cancel all of those alarms?',\n",
       "   'participant': 'user'},\n",
       "  {'text': 'Yes, I have cancelled all of your alarms for next week.',\n",
       "   'participant': 'assistant'},\n",
       "  {'text': 'Okay. Can I come back to you to add new ones if necessary?',\n",
       "   'participant': 'user'},\n",
       "  {'text': 'Absolutely!', 'participant': 'assistant'},\n",
       "  {'text': 'Okay. Thank you for your help', 'participant': 'user'},\n",
       "  {'text': \"You're welcome.\", 'participant': 'assistant'}]}"
      ]
     },
     "execution_count": 8,
     "metadata": {},
     "output_type": "execute_result"
    }
   ],
   "source": [
    "dataset['train'][2000]"
   ]
  },
  {
   "cell_type": "code",
   "execution_count": 9,
   "metadata": {},
   "outputs": [
    {
     "name": "stdout",
     "output_type": "stream",
     "text": [
      "SCHEMA\n"
     ]
    }
   ],
   "source": [
    "dataset = load_dataset(\"d2g://SCHEMA\")"
   ]
  },
  {
   "cell_type": "code",
   "execution_count": null,
   "metadata": {},
   "outputs": [
    {
     "data": {
      "application/vnd.jupyter.widget-view+json": {
       "model_id": "9b74b8e8e29a440ca5cfa2e3bd7520ac",
       "version_major": 2,
       "version_minor": 0
      },
      "text/plain": [
       "Uploading the dataset shards:   0%|          | 0/1 [00:00<?, ?it/s]"
      ]
     },
     "metadata": {},
     "output_type": "display_data"
    },
    {
     "data": {
      "application/vnd.jupyter.widget-view+json": {
       "model_id": "3c974f91385d40339b93150df9024b94",
       "version_major": 2,
       "version_minor": 0
      },
      "text/plain": [
       "Creating parquet from Arrow format:   0%|          | 0/165 [00:00<?, ?ba/s]"
      ]
     },
     "metadata": {},
     "output_type": "display_data"
    },
    {
     "data": {
      "application/vnd.jupyter.widget-view+json": {
       "model_id": "85fafd894e744a82a4e09abc6f3a2272",
       "version_major": 2,
       "version_minor": 0
      },
      "text/plain": [
       "Uploading the dataset shards:   0%|          | 0/1 [00:00<?, ?it/s]"
      ]
     },
     "metadata": {},
     "output_type": "display_data"
    },
    {
     "data": {
      "application/vnd.jupyter.widget-view+json": {
       "model_id": "2e1c66fc067f40c891530a123a6150f7",
       "version_major": 2,
       "version_minor": 0
      },
      "text/plain": [
       "Creating parquet from Arrow format:   0%|          | 0/10 [00:00<?, ?ba/s]"
      ]
     },
     "metadata": {},
     "output_type": "display_data"
    },
    {
     "data": {
      "application/vnd.jupyter.widget-view+json": {
       "model_id": "08e921eda83843e9b234fa0983289457",
       "version_major": 2,
       "version_minor": 0
      },
      "text/plain": [
       "Uploading the dataset shards:   0%|          | 0/1 [00:00<?, ?it/s]"
      ]
     },
     "metadata": {},
     "output_type": "display_data"
    },
    {
     "data": {
      "application/vnd.jupyter.widget-view+json": {
       "model_id": "0cc35b25863b4a68b8cbf6039b85dbfe",
       "version_major": 2,
       "version_minor": 0
      },
      "text/plain": [
       "Creating parquet from Arrow format:   0%|          | 0/10 [00:00<?, ?ba/s]"
      ]
     },
     "metadata": {},
     "output_type": "display_data"
    },
    {
     "data": {
      "application/vnd.jupyter.widget-view+json": {
       "model_id": "64506b1c1dd54f7797c40a88f195b04b",
       "version_major": 2,
       "version_minor": 0
      },
      "text/plain": [
       "README.md:   0%|          | 0.00/1.34k [00:00<?, ?B/s]"
      ]
     },
     "metadata": {},
     "output_type": "display_data"
    },
    {
     "data": {
      "text/plain": [
       "CommitInfo(commit_url='https://huggingface.co/datasets/DeepPavlov/d2d_real_dialogues/commit/7630ff62496d619a085e8e5d32e3dfdeac24e89c', commit_message='Upload dataset', commit_description='', oid='7630ff62496d619a085e8e5d32e3dfdeac24e89c', pr_url=None, repo_url=RepoUrl('https://huggingface.co/datasets/DeepPavlov/d2d_real_dialogues', endpoint='https://huggingface.co', repo_type='dataset', repo_id='DeepPavlov/d2d_real_dialogues'), pr_revision=None, pr_num=None)"
      ]
     },
     "execution_count": 115,
     "metadata": {},
     "output_type": "execute_result"
    }
   ],
   "source": [
    "dataset.push_to_hub(\"DeepPavlov/d2g_real_dialogues\", \"SCHEMA\", private=True, token=env_settings.HUGGINGFACE_TOKEN)"
   ]
  },
  {
   "cell_type": "code",
   "execution_count": null,
   "metadata": {},
   "outputs": [
    {
     "data": {
      "application/vnd.jupyter.widget-view+json": {
       "model_id": "b85742c0c5124f03a8b5270894639a27",
       "version_major": 2,
       "version_minor": 0
      },
      "text/plain": [
       "train-00000-of-00001.parquet:   0%|          | 0.00/11.3M [00:00<?, ?B/s]"
      ]
     },
     "metadata": {},
     "output_type": "display_data"
    },
    {
     "data": {
      "application/vnd.jupyter.widget-view+json": {
       "model_id": "1971a988af4e4f91a3980340b4d9ce5a",
       "version_major": 2,
       "version_minor": 0
      },
      "text/plain": [
       "validation-00000-of-00001.parquet:   0%|          | 0.00/3.33M [00:00<?, ?B/s]"
      ]
     },
     "metadata": {},
     "output_type": "display_data"
    },
    {
     "data": {
      "application/vnd.jupyter.widget-view+json": {
       "model_id": "c94ee7ef892448c6988f38c431d83d89",
       "version_major": 2,
       "version_minor": 0
      },
      "text/plain": [
       "test-00000-of-00001.parquet:   0%|          | 0.00/3.96M [00:00<?, ?B/s]"
      ]
     },
     "metadata": {},
     "output_type": "display_data"
    },
    {
     "data": {
      "application/vnd.jupyter.widget-view+json": {
       "model_id": "e005290a333a4e619ab6f53ab28b57d9",
       "version_major": 2,
       "version_minor": 0
      },
      "text/plain": [
       "Generating train split:   0%|          | 0/164982 [00:00<?, ? examples/s]"
      ]
     },
     "metadata": {},
     "output_type": "display_data"
    },
    {
     "data": {
      "application/vnd.jupyter.widget-view+json": {
       "model_id": "9e3492fe34d2436db5493952bc36cfbb",
       "version_major": 2,
       "version_minor": 0
      },
      "text/plain": [
       "Generating validation split:   0%|          | 0/10000 [00:00<?, ? examples/s]"
      ]
     },
     "metadata": {},
     "output_type": "display_data"
    },
    {
     "data": {
      "application/vnd.jupyter.widget-view+json": {
       "model_id": "232526c8a99543c18fe1c3a892e1642a",
       "version_major": 2,
       "version_minor": 0
      },
      "text/plain": [
       "Generating test split:   0%|          | 0/10000 [00:00<?, ? examples/s]"
      ]
     },
     "metadata": {},
     "output_type": "display_data"
    },
    {
     "data": {
      "text/plain": [
       "DatasetDict({\n",
       "    train: Dataset({\n",
       "        features: ['domain', 'dialogue_id', 'dialogue'],\n",
       "        num_rows: 164982\n",
       "    })\n",
       "    validation: Dataset({\n",
       "        features: ['domain', 'dialogue_id', 'dialogue'],\n",
       "        num_rows: 10000\n",
       "    })\n",
       "    test: Dataset({\n",
       "        features: ['domain', 'dialogue_id', 'dialogue'],\n",
       "        num_rows: 10000\n",
       "    })\n",
       "})"
      ]
     },
     "execution_count": 132,
     "metadata": {},
     "output_type": "execute_result"
    }
   ],
   "source": [
    "dataset = datasets.load_dataset(\"DeepPavlov/d2g_real_dialogues\", \"SCHEMA\", token=env_settings.HUGGINGFACE_TOKEN)\n",
    "dataset"
   ]
  },
  {
   "cell_type": "code",
   "execution_count": 10,
   "metadata": {},
   "outputs": [
    {
     "data": {
      "text/plain": [
       "{'domain': ['Media_1'],\n",
       " 'dialogue_id': 'schema_guided_dialog-train-2000',\n",
       " 'dialogue': [{'text': 'Hello! How can I help you?',\n",
       "   'participant': 'assistant'},\n",
       "  {'text': 'Im would like to watch a movie now. I wish to watch Citizen Kane.',\n",
       "   'participant': 'user'},\n",
       "  {'text': 'Please confirm this : play Citizen Kane without subtitles',\n",
       "   'participant': 'assistant'},\n",
       "  {'text': 'Yes, Thats great. Who is the director?', 'participant': 'user'},\n",
       "  {'text': 'Started playing the movie. The movie directed by Orson Welles.',\n",
       "   'participant': 'assistant'},\n",
       "  {'text': 'Thanks a lot. Thats all I need for now.', 'participant': 'user'},\n",
       "  {'text': 'Have a great day.', 'participant': 'assistant'}]}"
      ]
     },
     "execution_count": 10,
     "metadata": {},
     "output_type": "execute_result"
    }
   ],
   "source": [
    "dataset['train'][2000]"
   ]
  },
  {
   "cell_type": "code",
   "execution_count": 11,
   "metadata": {},
   "outputs": [
    {
     "name": "stdout",
     "output_type": "stream",
     "text": [
      "SMD\n"
     ]
    }
   ],
   "source": [
    "dataset = load_dataset(\"d2g://SMD\")"
   ]
  },
  {
   "cell_type": "code",
   "execution_count": 118,
   "metadata": {},
   "outputs": [
    {
     "data": {
      "text/plain": [
       "DatasetDict({\n",
       "    train: Dataset({\n",
       "        features: ['domain', 'dialogue_id', 'dialogue'],\n",
       "        num_rows: 2425\n",
       "    })\n",
       "    validation: Dataset({\n",
       "        features: ['domain', 'dialogue_id', 'dialogue'],\n",
       "        num_rows: 302\n",
       "    })\n",
       "    test: Dataset({\n",
       "        features: ['domain', 'dialogue_id', 'dialogue'],\n",
       "        num_rows: 304\n",
       "    })\n",
       "})"
      ]
     },
     "execution_count": 118,
     "metadata": {},
     "output_type": "execute_result"
    }
   ],
   "source": [
    "dataset"
   ]
  },
  {
   "cell_type": "code",
   "execution_count": null,
   "metadata": {},
   "outputs": [
    {
     "data": {
      "application/vnd.jupyter.widget-view+json": {
       "model_id": "c2721612bb3d42f6a7180a8f8497c6f2",
       "version_major": 2,
       "version_minor": 0
      },
      "text/plain": [
       "Uploading the dataset shards:   0%|          | 0/1 [00:00<?, ?it/s]"
      ]
     },
     "metadata": {},
     "output_type": "display_data"
    },
    {
     "data": {
      "application/vnd.jupyter.widget-view+json": {
       "model_id": "831ee19e02a54d808286529f3ccde8c2",
       "version_major": 2,
       "version_minor": 0
      },
      "text/plain": [
       "Creating parquet from Arrow format:   0%|          | 0/3 [00:00<?, ?ba/s]"
      ]
     },
     "metadata": {},
     "output_type": "display_data"
    },
    {
     "data": {
      "application/vnd.jupyter.widget-view+json": {
       "model_id": "1d8d62916d13479ba80c1e82785680cb",
       "version_major": 2,
       "version_minor": 0
      },
      "text/plain": [
       "Uploading the dataset shards:   0%|          | 0/1 [00:00<?, ?it/s]"
      ]
     },
     "metadata": {},
     "output_type": "display_data"
    },
    {
     "data": {
      "application/vnd.jupyter.widget-view+json": {
       "model_id": "18e48af2bc514cc89bbfd4e87ff9507a",
       "version_major": 2,
       "version_minor": 0
      },
      "text/plain": [
       "Creating parquet from Arrow format:   0%|          | 0/1 [00:00<?, ?ba/s]"
      ]
     },
     "metadata": {},
     "output_type": "display_data"
    },
    {
     "data": {
      "application/vnd.jupyter.widget-view+json": {
       "model_id": "7b2982c772a54aa6b76a6d980ead55a5",
       "version_major": 2,
       "version_minor": 0
      },
      "text/plain": [
       "Uploading the dataset shards:   0%|          | 0/1 [00:00<?, ?it/s]"
      ]
     },
     "metadata": {},
     "output_type": "display_data"
    },
    {
     "data": {
      "application/vnd.jupyter.widget-view+json": {
       "model_id": "0eb4096c3484403c81a1022b97c69f1a",
       "version_major": 2,
       "version_minor": 0
      },
      "text/plain": [
       "Creating parquet from Arrow format:   0%|          | 0/1 [00:00<?, ?ba/s]"
      ]
     },
     "metadata": {},
     "output_type": "display_data"
    },
    {
     "data": {
      "application/vnd.jupyter.widget-view+json": {
       "model_id": "1306979bd4244653aff97e177a5f4dc3",
       "version_major": 2,
       "version_minor": 0
      },
      "text/plain": [
       "README.md:   0%|          | 0.00/1.99k [00:00<?, ?B/s]"
      ]
     },
     "metadata": {},
     "output_type": "display_data"
    },
    {
     "data": {
      "text/plain": [
       "CommitInfo(commit_url='https://huggingface.co/datasets/DeepPavlov/d2d_real_dialogues/commit/eb86f74522d8bbfeb91e28e970e8f5e58990d01b', commit_message='Upload dataset', commit_description='', oid='eb86f74522d8bbfeb91e28e970e8f5e58990d01b', pr_url=None, repo_url=RepoUrl('https://huggingface.co/datasets/DeepPavlov/d2d_real_dialogues', endpoint='https://huggingface.co', repo_type='dataset', repo_id='DeepPavlov/d2d_real_dialogues'), pr_revision=None, pr_num=None)"
      ]
     },
     "execution_count": 117,
     "metadata": {},
     "output_type": "execute_result"
    }
   ],
   "source": [
    "dataset.push_to_hub(\"DeepPavlov/d2g_real_dialogues\", \"SMD\", private=True, token=env_settings.HUGGINGFACE_TOKEN)"
   ]
  },
  {
   "cell_type": "code",
   "execution_count": null,
   "metadata": {},
   "outputs": [
    {
     "data": {
      "application/vnd.jupyter.widget-view+json": {
       "model_id": "bb61240334014bffbd53222e8089901d",
       "version_major": 2,
       "version_minor": 0
      },
      "text/plain": [
       "train-00000-of-00001.parquet:   0%|          | 0.00/287k [00:00<?, ?B/s]"
      ]
     },
     "metadata": {},
     "output_type": "display_data"
    },
    {
     "data": {
      "application/vnd.jupyter.widget-view+json": {
       "model_id": "0e624cfc59704b25b4fb1d2e7e4ef534",
       "version_major": 2,
       "version_minor": 0
      },
      "text/plain": [
       "validation-00000-of-00001.parquet:   0%|          | 0.00/37.3k [00:00<?, ?B/s]"
      ]
     },
     "metadata": {},
     "output_type": "display_data"
    },
    {
     "data": {
      "application/vnd.jupyter.widget-view+json": {
       "model_id": "e7eba8804caa40e3aaf8cf3ae2f530d7",
       "version_major": 2,
       "version_minor": 0
      },
      "text/plain": [
       "test-00000-of-00001.parquet:   0%|          | 0.00/37.6k [00:00<?, ?B/s]"
      ]
     },
     "metadata": {},
     "output_type": "display_data"
    },
    {
     "data": {
      "application/vnd.jupyter.widget-view+json": {
       "model_id": "48f6c935fa0b4d129ccaa6f9f4efe9e7",
       "version_major": 2,
       "version_minor": 0
      },
      "text/plain": [
       "Generating train split:   0%|          | 0/2425 [00:00<?, ? examples/s]"
      ]
     },
     "metadata": {},
     "output_type": "display_data"
    },
    {
     "data": {
      "application/vnd.jupyter.widget-view+json": {
       "model_id": "3141789a7386438fba7181f1c3bf3cdd",
       "version_major": 2,
       "version_minor": 0
      },
      "text/plain": [
       "Generating validation split:   0%|          | 0/302 [00:00<?, ? examples/s]"
      ]
     },
     "metadata": {},
     "output_type": "display_data"
    },
    {
     "data": {
      "application/vnd.jupyter.widget-view+json": {
       "model_id": "0b90fe6610574e02ac1f5d04eb7b412d",
       "version_major": 2,
       "version_minor": 0
      },
      "text/plain": [
       "Generating test split:   0%|          | 0/304 [00:00<?, ? examples/s]"
      ]
     },
     "metadata": {},
     "output_type": "display_data"
    },
    {
     "data": {
      "text/plain": [
       "DatasetDict({\n",
       "    train: Dataset({\n",
       "        features: ['domain', 'dialogue_id', 'dialogue'],\n",
       "        num_rows: 2425\n",
       "    })\n",
       "    validation: Dataset({\n",
       "        features: ['domain', 'dialogue_id', 'dialogue'],\n",
       "        num_rows: 302\n",
       "    })\n",
       "    test: Dataset({\n",
       "        features: ['domain', 'dialogue_id', 'dialogue'],\n",
       "        num_rows: 304\n",
       "    })\n",
       "})"
      ]
     },
     "execution_count": 134,
     "metadata": {},
     "output_type": "execute_result"
    }
   ],
   "source": [
    "dataset = datasets.load_dataset(\"DeepPavlov/d2g_real_dialogues\", \"SMD\", token=env_settings.HUGGINGFACE_TOKEN)\n",
    "dataset"
   ]
  },
  {
   "cell_type": "code",
   "execution_count": 12,
   "metadata": {},
   "outputs": [
    {
     "data": {
      "text/plain": [
       "{'domain': ['schedule'],\n",
       " 'dialogue_id': 'SMD--train--213304',\n",
       " 'dialogue': [{'text': 'Hello! How can I help you?',\n",
       "   'participant': 'assistant'},\n",
       "  {'text': 'schedule a new meeting', 'participant': 'user'},\n",
       "  {'text': 'When and where is this meeting?', 'participant': 'assistant'}]}"
      ]
     },
     "execution_count": 12,
     "metadata": {},
     "output_type": "execute_result"
    }
   ],
   "source": [
    "dataset['train'][2000]"
   ]
  },
  {
   "cell_type": "code",
   "execution_count": 13,
   "metadata": {},
   "outputs": [
    {
     "name": "stdout",
     "output_type": "stream",
     "text": [
      "MSR-E2E\n"
     ]
    }
   ],
   "source": [
    "dataset = load_dataset(\"d2g://MSR-E2E\")"
   ]
  },
  {
   "cell_type": "code",
   "execution_count": null,
   "metadata": {},
   "outputs": [
    {
     "data": {
      "application/vnd.jupyter.widget-view+json": {
       "model_id": "fb60c5ee5a9e46e5aa7452cdba6e71fe",
       "version_major": 2,
       "version_minor": 0
      },
      "text/plain": [
       "Uploading the dataset shards:   0%|          | 0/1 [00:00<?, ?it/s]"
      ]
     },
     "metadata": {},
     "output_type": "display_data"
    },
    {
     "data": {
      "application/vnd.jupyter.widget-view+json": {
       "model_id": "558c4172c54e42a386c2821948b88e11",
       "version_major": 2,
       "version_minor": 0
      },
      "text/plain": [
       "Creating parquet from Arrow format:   0%|          | 0/11 [00:00<?, ?ba/s]"
      ]
     },
     "metadata": {},
     "output_type": "display_data"
    },
    {
     "data": {
      "application/vnd.jupyter.widget-view+json": {
       "model_id": "2ebe321199d74a0dbd3cc24d518abbf7",
       "version_major": 2,
       "version_minor": 0
      },
      "text/plain": [
       "Uploading the dataset shards:   0%|          | 0/1 [00:00<?, ?it/s]"
      ]
     },
     "metadata": {},
     "output_type": "display_data"
    },
    {
     "data": {
      "application/vnd.jupyter.widget-view+json": {
       "model_id": "59d09596ef7a4c1f9a65d7ae55cf7fb6",
       "version_major": 2,
       "version_minor": 0
      },
      "text/plain": [
       "Creating parquet from Arrow format:   0%|          | 0/1 [00:00<?, ?ba/s]"
      ]
     },
     "metadata": {},
     "output_type": "display_data"
    },
    {
     "data": {
      "application/vnd.jupyter.widget-view+json": {
       "model_id": "9271c4d8698d4994ba5446738125de82",
       "version_major": 2,
       "version_minor": 0
      },
      "text/plain": [
       "Uploading the dataset shards:   0%|          | 0/1 [00:00<?, ?it/s]"
      ]
     },
     "metadata": {},
     "output_type": "display_data"
    },
    {
     "data": {
      "application/vnd.jupyter.widget-view+json": {
       "model_id": "fd7afd8f4ea4444e8e6633dd800df2cb",
       "version_major": 2,
       "version_minor": 0
      },
      "text/plain": [
       "Creating parquet from Arrow format:   0%|          | 0/1 [00:00<?, ?ba/s]"
      ]
     },
     "metadata": {},
     "output_type": "display_data"
    },
    {
     "data": {
      "application/vnd.jupyter.widget-view+json": {
       "model_id": "a1ce3c355b804c5ba4add077d4032273",
       "version_major": 2,
       "version_minor": 0
      },
      "text/plain": [
       "README.md:   0%|          | 0.00/2.61k [00:00<?, ?B/s]"
      ]
     },
     "metadata": {},
     "output_type": "display_data"
    },
    {
     "data": {
      "text/plain": [
       "CommitInfo(commit_url='https://huggingface.co/datasets/DeepPavlov/d2d_real_dialogues/commit/3df846e410921acad0509882c330b7e763b0d2a8', commit_message='Upload dataset', commit_description='', oid='3df846e410921acad0509882c330b7e763b0d2a8', pr_url=None, repo_url=RepoUrl('https://huggingface.co/datasets/DeepPavlov/d2d_real_dialogues', endpoint='https://huggingface.co', repo_type='dataset', repo_id='DeepPavlov/d2d_real_dialogues'), pr_revision=None, pr_num=None)"
      ]
     },
     "execution_count": 120,
     "metadata": {},
     "output_type": "execute_result"
    }
   ],
   "source": [
    "dataset.push_to_hub(\"DeepPavlov/d2g_real_dialogues\", \"MSR-E2E\", private=True, token=env_settings.HUGGINGFACE_TOKEN)"
   ]
  },
  {
   "cell_type": "code",
   "execution_count": null,
   "metadata": {},
   "outputs": [
    {
     "data": {
      "application/vnd.jupyter.widget-view+json": {
       "model_id": "12958a5d959e47e8867678794e6a9628",
       "version_major": 2,
       "version_minor": 0
      },
      "text/plain": [
       "train-00000-of-00001.parquet:   0%|          | 0.00/1.98M [00:00<?, ?B/s]"
      ]
     },
     "metadata": {},
     "output_type": "display_data"
    },
    {
     "data": {
      "application/vnd.jupyter.widget-view+json": {
       "model_id": "2a5fe2936f6d4804b29bfc1012023a81",
       "version_major": 2,
       "version_minor": 0
      },
      "text/plain": [
       "validation-00000-of-00001.parquet:   0%|          | 0.00/130k [00:00<?, ?B/s]"
      ]
     },
     "metadata": {},
     "output_type": "display_data"
    },
    {
     "data": {
      "application/vnd.jupyter.widget-view+json": {
       "model_id": "22055c82ea0d47f4b7216c7c48e7bc19",
       "version_major": 2,
       "version_minor": 0
      },
      "text/plain": [
       "test-00000-of-00001.parquet:   0%|          | 0.00/125k [00:00<?, ?B/s]"
      ]
     },
     "metadata": {},
     "output_type": "display_data"
    },
    {
     "data": {
      "application/vnd.jupyter.widget-view+json": {
       "model_id": "7080331730d24ffd940d316930060b15",
       "version_major": 2,
       "version_minor": 0
      },
      "text/plain": [
       "Generating train split:   0%|          | 0/10084 [00:00<?, ? examples/s]"
      ]
     },
     "metadata": {},
     "output_type": "display_data"
    },
    {
     "data": {
      "application/vnd.jupyter.widget-view+json": {
       "model_id": "a2b76e11ed564257903962fa2d6c5aa0",
       "version_major": 2,
       "version_minor": 0
      },
      "text/plain": [
       "Generating validation split:   0%|          | 0/504 [00:00<?, ? examples/s]"
      ]
     },
     "metadata": {},
     "output_type": "display_data"
    },
    {
     "data": {
      "application/vnd.jupyter.widget-view+json": {
       "model_id": "7820f575abd4429aa9e8211750c8e5ff",
       "version_major": 2,
       "version_minor": 0
      },
      "text/plain": [
       "Generating test split:   0%|          | 0/505 [00:00<?, ? examples/s]"
      ]
     },
     "metadata": {},
     "output_type": "display_data"
    },
    {
     "data": {
      "text/plain": [
       "DatasetDict({\n",
       "    train: Dataset({\n",
       "        features: ['domain', 'dialogue_id', 'dialogue'],\n",
       "        num_rows: 10084\n",
       "    })\n",
       "    validation: Dataset({\n",
       "        features: ['domain', 'dialogue_id', 'dialogue'],\n",
       "        num_rows: 504\n",
       "    })\n",
       "    test: Dataset({\n",
       "        features: ['domain', 'dialogue_id', 'dialogue'],\n",
       "        num_rows: 505\n",
       "    })\n",
       "})"
      ]
     },
     "execution_count": 136,
     "metadata": {},
     "output_type": "execute_result"
    }
   ],
   "source": [
    "dataset = datasets.load_dataset(\"DeepPavlov/d2g_real_dialogues\", \"MSR-E2E\", token=env_settings.HUGGINGFACE_TOKEN)\n",
    "dataset"
   ]
  },
  {
   "cell_type": "code",
   "execution_count": 14,
   "metadata": {},
   "outputs": [
    {
     "data": {
      "text/plain": [
       "{'domain': ['taxi'],\n",
       " 'dialogue_id': 'MSR-E2E--train--214729',\n",
       " 'dialogue': [{'text': 'Hello! How can I help you?',\n",
       "   'participant': 'assistant'},\n",
       "  {'text': 'HI ONE CAB PLEASE SIR', 'participant': 'user'},\n",
       "  {'text': 'What date and time would you like to go?',\n",
       "   'participant': 'assistant'}]}"
      ]
     },
     "execution_count": 14,
     "metadata": {},
     "output_type": "execute_result"
    }
   ],
   "source": [
    "dataset['train'][1000]"
   ]
  },
  {
   "cell_type": "code",
   "execution_count": 20,
   "metadata": {},
   "outputs": [
    {
     "name": "stdout",
     "output_type": "stream",
     "text": [
      "Frames\n"
     ]
    }
   ],
   "source": [
    "dataset = load_dataset(\"d2g://Frames\")"
   ]
  },
  {
   "cell_type": "code",
   "execution_count": 24,
   "metadata": {},
   "outputs": [
    {
     "data": {
      "text/plain": [
       "CommitInfo(commit_url='https://huggingface.co/datasets/DeepPavlov/d2g_real_dialogues/commit/27716b4c3bd90e18a12b802644ada089b3332ab4', commit_message='Upload dataset', commit_description='', oid='27716b4c3bd90e18a12b802644ada089b3332ab4', pr_url=None, repo_url=RepoUrl('https://huggingface.co/datasets/DeepPavlov/d2g_real_dialogues', endpoint='https://huggingface.co', repo_type='dataset', repo_id='DeepPavlov/d2g_real_dialogues'), pr_revision=None, pr_num=None)"
      ]
     },
     "execution_count": 24,
     "metadata": {},
     "output_type": "execute_result"
    }
   ],
   "source": [
    "dataset.push_to_hub(\"DeepPavlov/d2g_real_dialogues\", \"Frames\", private=True, token=env_settings.HUGGINGFACE_TOKEN)"
   ]
  },
  {
   "cell_type": "code",
   "execution_count": 25,
   "metadata": {},
   "outputs": [
    {
     "data": {
      "application/vnd.jupyter.widget-view+json": {
       "model_id": "3cb81cfd42f147dbb23c9debee1c7fc7",
       "version_major": 2,
       "version_minor": 0
      },
      "text/plain": [
       "README.md:   0%|          | 0.00/5.15k [00:00<?, ?B/s]"
      ]
     },
     "metadata": {},
     "output_type": "display_data"
    },
    {
     "data": {
      "application/vnd.jupyter.widget-view+json": {
       "model_id": "11ff8a0f6b93444bb63aac9b7bdbcb9e",
       "version_major": 2,
       "version_minor": 0
      },
      "text/plain": [
       "train-00000-of-00001.parquet:   0%|          | 0.00/727k [00:00<?, ?B/s]"
      ]
     },
     "metadata": {},
     "output_type": "display_data"
    },
    {
     "data": {
      "application/vnd.jupyter.widget-view+json": {
       "model_id": "95592127e20f4862972d470ab3184c1a",
       "version_major": 2,
       "version_minor": 0
      },
      "text/plain": [
       "validation-00000-of-00001.parquet:   0%|          | 0.00/43.0k [00:00<?, ?B/s]"
      ]
     },
     "metadata": {},
     "output_type": "display_data"
    },
    {
     "data": {
      "application/vnd.jupyter.widget-view+json": {
       "model_id": "62163af2e31141d1b781692f9ac8cfc6",
       "version_major": 2,
       "version_minor": 0
      },
      "text/plain": [
       "test-00000-of-00001.parquet:   0%|          | 0.00/44.3k [00:00<?, ?B/s]"
      ]
     },
     "metadata": {},
     "output_type": "display_data"
    },
    {
     "data": {
      "text/plain": [
       "DatasetDict({\n",
       "    train: Dataset({\n",
       "        features: ['domain', 'dialogue_id', 'dialogue'],\n",
       "        num_rows: 1232\n",
       "    })\n",
       "    validation: Dataset({\n",
       "        features: ['domain', 'dialogue_id', 'dialogue'],\n",
       "        num_rows: 68\n",
       "    })\n",
       "    test: Dataset({\n",
       "        features: ['domain', 'dialogue_id', 'dialogue'],\n",
       "        num_rows: 69\n",
       "    })\n",
       "})"
      ]
     },
     "execution_count": 25,
     "metadata": {},
     "output_type": "execute_result"
    }
   ],
   "source": [
    "dataset = datasets.load_dataset(\"DeepPavlov/d2g_real_dialogues\", \"Frames\", token=env_settings.HUGGINGFACE_TOKEN)\n",
    "dataset"
   ]
  },
  {
   "cell_type": "code",
   "execution_count": 26,
   "metadata": {},
   "outputs": [
    {
     "data": {
      "text/plain": [
       "{'domain': ['vacation'],\n",
       " 'dialogue_id': 'Frames--train--1',\n",
       " 'dialogue': [{'text': 'Hello! How can I help you?',\n",
       "   'participant': 'assistant'},\n",
       "  {'text': 'Melbourne please', 'participant': 'user'},\n",
       "  {'text': 'From where?\\\\', 'participant': 'assistant'},\n",
       "  {'text': 'In Long Beach right now', 'participant': 'user'},\n",
       "  {'text': \"I'm sorry, we do not currently offer any packages with that route at this moment. Please try another destination.\",\n",
       "   'participant': 'assistant'},\n",
       "  {'text': 'Okay fine... I could go to Kingston to see my bestie too',\n",
       "   'participant': 'user'},\n",
       "  {'text': 'How long would you like to go for?', 'participant': 'assistant'},\n",
       "  {'text': \"Doesn't matter as long as it's a nice hotel\",\n",
       "   'participant': 'user'},\n",
       "  {'text': 'We have one 4 star hotel that offers 6 and 12 day packages. Which do you prefer?',\n",
       "   'participant': 'assistant'},\n",
       "  {'text': '4 star is the best you got?', 'participant': 'user'},\n",
       "  {'text': 'Correct.', 'participant': 'assistant'},\n",
       "  {'text': '6 days only please. Business flights are available right?',\n",
       "   'participant': 'user'},\n",
       "  {'text': 'Yes indeed. Business costs 2533.69 at our 4 star hotel that includes free parking, breakfast and wifi. Would you like to book?',\n",
       "   'participant': 'assistant'},\n",
       "  {'text': \"Alright sure let's get this over with\", 'participant': 'user'},\n",
       "  {'text': 'Perfect. Your package has now been reserved. Bon voyage!',\n",
       "   'participant': 'assistant'},\n",
       "  {'text': 'Thanks!', 'participant': 'user'}]}"
      ]
     },
     "execution_count": 26,
     "metadata": {},
     "output_type": "execute_result"
    }
   ],
   "source": [
    "dataset['train'][0]"
   ]
  },
  {
   "cell_type": "code",
   "execution_count": 22,
   "metadata": {},
   "outputs": [
    {
     "data": {
      "text/plain": [
       "{'domain': ['vacation'],\n",
       " 'dialogue_id': 'Frames--dev--1',\n",
       " 'dialogue': [{'text': 'Hello! How can I help you?',\n",
       "   'participant': 'assistant'},\n",
       "  {'text': 'i am leaving essen i have a budget of 3200',\n",
       "   'participant': 'user'},\n",
       "  {'text': 'Sounds good. What destinations would you be interested in?',\n",
       "   'participant': 'assistant'},\n",
       "  {'text': 'portland first ALSO my schedule permits me travel only between aug 23-26',\n",
       "   'participant': 'user'},\n",
       "  {'text': 'Unfortunately, we do not have flights between Essen and Portland. Would you care to try another destination?',\n",
       "   'participant': 'assistant'},\n",
       "  {'text': 'check bh', 'participant': 'user'},\n",
       "  {'text': 'I\\'m sorry, we have no flights to the destination \"bh\". Would you like to try another destination?',\n",
       "   'participant': 'assistant'},\n",
       "  {'text': 'you dont have any flights to birmingham yeah i find that pretty freakin hard to believe',\n",
       "   'participant': 'user'},\n",
       "  {'text': \"I'm sorry, I am trying my best to provide you the best possible travel experience. Would you like to look up another destination?\",\n",
       "   'participant': 'assistant'}]}"
      ]
     },
     "execution_count": 22,
     "metadata": {},
     "output_type": "execute_result"
    }
   ],
   "source": [
    "dataset['validation'][0]"
   ]
  },
  {
   "cell_type": "code",
   "execution_count": 27,
   "metadata": {},
   "outputs": [
    {
     "name": "stdout",
     "output_type": "stream",
     "text": [
      "TaskMaster3\n"
     ]
    }
   ],
   "source": [
    "dataset = load_dataset(\"d2g://TaskMaster3\")"
   ]
  },
  {
   "cell_type": "code",
   "execution_count": null,
   "metadata": {},
   "outputs": [
    {
     "data": {
      "application/vnd.jupyter.widget-view+json": {
       "model_id": "fad7b73415454b96a0c6ad19e14e605d",
       "version_major": 2,
       "version_minor": 0
      },
      "text/plain": [
       "Uploading the dataset shards:   0%|          | 0/1 [00:00<?, ?it/s]"
      ]
     },
     "metadata": {},
     "output_type": "display_data"
    },
    {
     "data": {
      "application/vnd.jupyter.widget-view+json": {
       "model_id": "9f95af11d1de4b2c9b6b5dd38fcc1351",
       "version_major": 2,
       "version_minor": 0
      },
      "text/plain": [
       "Creating parquet from Arrow format:   0%|          | 0/22 [00:00<?, ?ba/s]"
      ]
     },
     "metadata": {},
     "output_type": "display_data"
    },
    {
     "data": {
      "application/vnd.jupyter.widget-view+json": {
       "model_id": "6b972a0a38094dda80f7e2ee1d616a26",
       "version_major": 2,
       "version_minor": 0
      },
      "text/plain": [
       "Uploading the dataset shards:   0%|          | 0/1 [00:00<?, ?it/s]"
      ]
     },
     "metadata": {},
     "output_type": "display_data"
    },
    {
     "data": {
      "application/vnd.jupyter.widget-view+json": {
       "model_id": "e858e5e07f324b228d0873f2cfa02095",
       "version_major": 2,
       "version_minor": 0
      },
      "text/plain": [
       "Creating parquet from Arrow format:   0%|          | 0/2 [00:00<?, ?ba/s]"
      ]
     },
     "metadata": {},
     "output_type": "display_data"
    },
    {
     "data": {
      "application/vnd.jupyter.widget-view+json": {
       "model_id": "51474fc410f843f1b39711a8427112e0",
       "version_major": 2,
       "version_minor": 0
      },
      "text/plain": [
       "Uploading the dataset shards:   0%|          | 0/1 [00:00<?, ?it/s]"
      ]
     },
     "metadata": {},
     "output_type": "display_data"
    },
    {
     "data": {
      "application/vnd.jupyter.widget-view+json": {
       "model_id": "49244012aa714aad94e42b587d00738b",
       "version_major": 2,
       "version_minor": 0
      },
      "text/plain": [
       "Creating parquet from Arrow format:   0%|          | 0/2 [00:00<?, ?ba/s]"
      ]
     },
     "metadata": {},
     "output_type": "display_data"
    },
    {
     "data": {
      "application/vnd.jupyter.widget-view+json": {
       "model_id": "5ced2a60ceee46de9ff0720c4e3431c0",
       "version_major": 2,
       "version_minor": 0
      },
      "text/plain": [
       "README.md:   0%|          | 0.00/3.87k [00:00<?, ?B/s]"
      ]
     },
     "metadata": {},
     "output_type": "display_data"
    },
    {
     "data": {
      "text/plain": [
       "CommitInfo(commit_url='https://huggingface.co/datasets/DeepPavlov/d2d_real_dialogues/commit/70214599cda2502ad772d49a243fb4845cb70b2c', commit_message='Upload dataset', commit_description='', oid='70214599cda2502ad772d49a243fb4845cb70b2c', pr_url=None, repo_url=RepoUrl('https://huggingface.co/datasets/DeepPavlov/d2d_real_dialogues', endpoint='https://huggingface.co', repo_type='dataset', repo_id='DeepPavlov/d2d_real_dialogues'), pr_revision=None, pr_num=None)"
      ]
     },
     "execution_count": 124,
     "metadata": {},
     "output_type": "execute_result"
    }
   ],
   "source": [
    "dataset.push_to_hub(\"DeepPavlov/d2g_real_dialogues\", \"TaskMaster3\", private=True, token=env_settings.HUGGINGFACE_TOKEN)"
   ]
  },
  {
   "cell_type": "code",
   "execution_count": null,
   "metadata": {},
   "outputs": [
    {
     "data": {
      "application/vnd.jupyter.widget-view+json": {
       "model_id": "f655f2cdce374c259824d2a88ac1a8dd",
       "version_major": 2,
       "version_minor": 0
      },
      "text/plain": [
       "train-00000-of-00001.parquet:   0%|          | 0.00/11.7M [00:00<?, ?B/s]"
      ]
     },
     "metadata": {},
     "output_type": "display_data"
    },
    {
     "data": {
      "application/vnd.jupyter.widget-view+json": {
       "model_id": "5e318c44948245f18a2431221bacf808",
       "version_major": 2,
       "version_minor": 0
      },
      "text/plain": [
       "validation-00000-of-00001.parquet:   0%|          | 0.00/655k [00:00<?, ?B/s]"
      ]
     },
     "metadata": {},
     "output_type": "display_data"
    },
    {
     "data": {
      "application/vnd.jupyter.widget-view+json": {
       "model_id": "19a1b7ca8e674196a7e0ee2c99bb4065",
       "version_major": 2,
       "version_minor": 0
      },
      "text/plain": [
       "test-00000-of-00001.parquet:   0%|          | 0.00/668k [00:00<?, ?B/s]"
      ]
     },
     "metadata": {},
     "output_type": "display_data"
    },
    {
     "data": {
      "application/vnd.jupyter.widget-view+json": {
       "model_id": "69659c12065b48589dcb7dff67fcd950",
       "version_major": 2,
       "version_minor": 0
      },
      "text/plain": [
       "Generating train split:   0%|          | 0/21381 [00:00<?, ? examples/s]"
      ]
     },
     "metadata": {},
     "output_type": "display_data"
    },
    {
     "data": {
      "application/vnd.jupyter.widget-view+json": {
       "model_id": "f86bfd5b08f444018733b00af6f50575",
       "version_major": 2,
       "version_minor": 0
      },
      "text/plain": [
       "Generating validation split:   0%|          | 0/1188 [00:00<?, ? examples/s]"
      ]
     },
     "metadata": {},
     "output_type": "display_data"
    },
    {
     "data": {
      "application/vnd.jupyter.widget-view+json": {
       "model_id": "43149be1f0f04c1780696b245c8609a8",
       "version_major": 2,
       "version_minor": 0
      },
      "text/plain": [
       "Generating test split:   0%|          | 0/1188 [00:00<?, ? examples/s]"
      ]
     },
     "metadata": {},
     "output_type": "display_data"
    },
    {
     "data": {
      "text/plain": [
       "DatasetDict({\n",
       "    train: Dataset({\n",
       "        features: ['domain', 'dialogue_id', 'dialogue'],\n",
       "        num_rows: 21381\n",
       "    })\n",
       "    validation: Dataset({\n",
       "        features: ['domain', 'dialogue_id', 'dialogue'],\n",
       "        num_rows: 1188\n",
       "    })\n",
       "    test: Dataset({\n",
       "        features: ['domain', 'dialogue_id', 'dialogue'],\n",
       "        num_rows: 1188\n",
       "    })\n",
       "})"
      ]
     },
     "execution_count": 140,
     "metadata": {},
     "output_type": "execute_result"
    }
   ],
   "source": [
    "dataset = datasets.load_dataset(\"DeepPavlov/d2g_real_dialogues\", \"TaskMaster3\", token=env_settings.HUGGINGFACE_TOKEN)\n",
    "dataset"
   ]
  },
  {
   "cell_type": "code",
   "execution_count": 28,
   "metadata": {},
   "outputs": [
    {
     "data": {
      "text/plain": [
       "{'domain': ['Movie Tickets'],\n",
       " 'dialogue_id': 'dlg-34dd7539-1008-483f-9bb1-64a45d947111',\n",
       " 'dialogue': [{'text': 'Hello! How can I help you?',\n",
       "   'participant': 'assistant'},\n",
       "  {'text': 'I want to go on a date but I need tickets, can you help me?',\n",
       "   'participant': 'user'},\n",
       "  {'text': 'I can help with that, which theater?', 'participant': 'assistant'},\n",
       "  {'text': 'I need tickets to the Regal South Sound Cinema.',\n",
       "   'participant': 'user'},\n",
       "  {'text': 'Alright, I can search for films at Regal South Sound Cinema.',\n",
       "   'participant': 'assistant'},\n",
       "  {'text': 'I would like something funny.', 'participant': 'user'},\n",
       "  {'text': 'How about a film called Birds of Prey?',\n",
       "   'participant': 'assistant'},\n",
       "  {'text': 'What is that rated?', 'participant': 'user'},\n",
       "  {'text': 'Birds of Prey is rated R.', 'participant': 'assistant'},\n",
       "  {'text': 'I think something a little more family friendly would be better.',\n",
       "   'participant': 'user'},\n",
       "  {'text': 'How about a film called Doolittle?', 'participant': 'assistant'},\n",
       "  {'text': 'Who is in Doolittle?', 'participant': 'user'},\n",
       "  {'text': 'Robert Downy Jr. stars in Doolittle.', 'participant': 'assistant'},\n",
       "  {'text': 'Oh, I like him. Can I get two tickets to a standard showing?',\n",
       "   'participant': 'user'},\n",
       "  {'text': 'Sure, which day?', 'participant': 'assistant'},\n",
       "  {'text': 'For next Thursday please.', 'participant': 'user'},\n",
       "  {'text': 'Very well, what time do you prefer?', 'participant': 'assistant'},\n",
       "  {'text': 'I would like a 5:00 PM showing.', 'participant': 'user'},\n",
       "  {'text': 'I am sorry, there is no 5:00 PM showing.',\n",
       "   'participant': 'assistant'},\n",
       "  {'text': 'What is available? Actually, scratch that because my date canceled. Thanks anyway.',\n",
       "   'participant': 'user'},\n",
       "  {'text': 'Very well, your order has been canceled.',\n",
       "   'participant': 'assistant'}]}"
      ]
     },
     "execution_count": 28,
     "metadata": {},
     "output_type": "execute_result"
    }
   ],
   "source": [
    "dataset['validation'][0]"
   ]
  },
  {
   "cell_type": "code",
   "execution_count": 29,
   "metadata": {},
   "outputs": [
    {
     "name": "stdout",
     "output_type": "stream",
     "text": [
      "WOZ\n",
      "DatasetDict({\n",
      "    train: Dataset({\n",
      "        features: ['dialogue_idx', 'dialogue'],\n",
      "        num_rows: 600\n",
      "    })\n",
      "    validation: Dataset({\n",
      "        features: ['dialogue_idx', 'dialogue'],\n",
      "        num_rows: 200\n",
      "    })\n",
      "    test: Dataset({\n",
      "        features: ['dialogue_idx', 'dialogue'],\n",
      "        num_rows: 400\n",
      "    })\n",
      "})\n"
     ]
    }
   ],
   "source": [
    "dataset = load_dataset(\"d2g://WOZ\")"
   ]
  },
  {
   "cell_type": "code",
   "execution_count": null,
   "metadata": {},
   "outputs": [
    {
     "data": {
      "application/vnd.jupyter.widget-view+json": {
       "model_id": "b17a827cb18c4b51a9b801792b9dd31c",
       "version_major": 2,
       "version_minor": 0
      },
      "text/plain": [
       "Uploading the dataset shards:   0%|          | 0/1 [00:00<?, ?it/s]"
      ]
     },
     "metadata": {},
     "output_type": "display_data"
    },
    {
     "data": {
      "application/vnd.jupyter.widget-view+json": {
       "model_id": "71fa587d5203462589f68844e303f49c",
       "version_major": 2,
       "version_minor": 0
      },
      "text/plain": [
       "Creating parquet from Arrow format:   0%|          | 0/1 [00:00<?, ?ba/s]"
      ]
     },
     "metadata": {},
     "output_type": "display_data"
    },
    {
     "data": {
      "application/vnd.jupyter.widget-view+json": {
       "model_id": "547d4d834cd1481a9c08eb2329ee2545",
       "version_major": 2,
       "version_minor": 0
      },
      "text/plain": [
       "Uploading the dataset shards:   0%|          | 0/1 [00:00<?, ?it/s]"
      ]
     },
     "metadata": {},
     "output_type": "display_data"
    },
    {
     "data": {
      "application/vnd.jupyter.widget-view+json": {
       "model_id": "ab587bfe1aa8416ba64d4450a0239b60",
       "version_major": 2,
       "version_minor": 0
      },
      "text/plain": [
       "Creating parquet from Arrow format:   0%|          | 0/1 [00:00<?, ?ba/s]"
      ]
     },
     "metadata": {},
     "output_type": "display_data"
    },
    {
     "data": {
      "application/vnd.jupyter.widget-view+json": {
       "model_id": "2a31a7d01de34d7fa821458347fdd3dc",
       "version_major": 2,
       "version_minor": 0
      },
      "text/plain": [
       "Uploading the dataset shards:   0%|          | 0/1 [00:00<?, ?it/s]"
      ]
     },
     "metadata": {},
     "output_type": "display_data"
    },
    {
     "data": {
      "application/vnd.jupyter.widget-view+json": {
       "model_id": "1641bb6d29a44128916462c1506a63c3",
       "version_major": 2,
       "version_minor": 0
      },
      "text/plain": [
       "Creating parquet from Arrow format:   0%|          | 0/1 [00:00<?, ?ba/s]"
      ]
     },
     "metadata": {},
     "output_type": "display_data"
    },
    {
     "data": {
      "application/vnd.jupyter.widget-view+json": {
       "model_id": "a37f5a39067843eab6a72ba0e94232bf",
       "version_major": 2,
       "version_minor": 0
      },
      "text/plain": [
       "README.md:   0%|          | 0.00/4.54k [00:00<?, ?B/s]"
      ]
     },
     "metadata": {},
     "output_type": "display_data"
    },
    {
     "data": {
      "text/plain": [
       "CommitInfo(commit_url='https://huggingface.co/datasets/DeepPavlov/d2d_real_dialogues/commit/dd07dcb4985e2e499d87314b7ac8440df38b39b3', commit_message='Upload dataset', commit_description='', oid='dd07dcb4985e2e499d87314b7ac8440df38b39b3', pr_url=None, repo_url=RepoUrl('https://huggingface.co/datasets/DeepPavlov/d2d_real_dialogues', endpoint='https://huggingface.co', repo_type='dataset', repo_id='DeepPavlov/d2d_real_dialogues'), pr_revision=None, pr_num=None)"
      ]
     },
     "execution_count": 126,
     "metadata": {},
     "output_type": "execute_result"
    }
   ],
   "source": [
    "dataset.push_to_hub(\"DeepPavlov/d2g_real_dialogues\", \"WOZ\", private=True, token=env_settings.HUGGINGFACE_TOKEN)"
   ]
  },
  {
   "cell_type": "code",
   "execution_count": null,
   "metadata": {},
   "outputs": [
    {
     "data": {
      "application/vnd.jupyter.widget-view+json": {
       "model_id": "aba880166a0c4e13a1363cfe53f80bfb",
       "version_major": 2,
       "version_minor": 0
      },
      "text/plain": [
       "train-00000-of-00001.parquet:   0%|          | 0.00/124k [00:00<?, ?B/s]"
      ]
     },
     "metadata": {},
     "output_type": "display_data"
    },
    {
     "data": {
      "application/vnd.jupyter.widget-view+json": {
       "model_id": "da44e0d41323487cbf39bd5c2d9816e7",
       "version_major": 2,
       "version_minor": 0
      },
      "text/plain": [
       "validation-00000-of-00001.parquet:   0%|          | 0.00/42.7k [00:00<?, ?B/s]"
      ]
     },
     "metadata": {},
     "output_type": "display_data"
    },
    {
     "data": {
      "application/vnd.jupyter.widget-view+json": {
       "model_id": "0e8a417304e84eb4949031b6104b40b5",
       "version_major": 2,
       "version_minor": 0
      },
      "text/plain": [
       "test-00000-of-00001.parquet:   0%|          | 0.00/82.9k [00:00<?, ?B/s]"
      ]
     },
     "metadata": {},
     "output_type": "display_data"
    },
    {
     "data": {
      "application/vnd.jupyter.widget-view+json": {
       "model_id": "1d9708239f584ff88f3e47bd2fe69ef0",
       "version_major": 2,
       "version_minor": 0
      },
      "text/plain": [
       "Generating train split:   0%|          | 0/600 [00:00<?, ? examples/s]"
      ]
     },
     "metadata": {},
     "output_type": "display_data"
    },
    {
     "data": {
      "application/vnd.jupyter.widget-view+json": {
       "model_id": "00d4dfc4fb1546358ba27d2f2ffd85f3",
       "version_major": 2,
       "version_minor": 0
      },
      "text/plain": [
       "Generating validation split:   0%|          | 0/200 [00:00<?, ? examples/s]"
      ]
     },
     "metadata": {},
     "output_type": "display_data"
    },
    {
     "data": {
      "application/vnd.jupyter.widget-view+json": {
       "model_id": "eda52412a5be4761902cacd80868fd6c",
       "version_major": 2,
       "version_minor": 0
      },
      "text/plain": [
       "Generating test split:   0%|          | 0/400 [00:00<?, ? examples/s]"
      ]
     },
     "metadata": {},
     "output_type": "display_data"
    },
    {
     "data": {
      "text/plain": [
       "DatasetDict({\n",
       "    train: Dataset({\n",
       "        features: ['domain', 'dialogue_id', 'dialogue'],\n",
       "        num_rows: 600\n",
       "    })\n",
       "    validation: Dataset({\n",
       "        features: ['domain', 'dialogue_id', 'dialogue'],\n",
       "        num_rows: 200\n",
       "    })\n",
       "    test: Dataset({\n",
       "        features: ['domain', 'dialogue_id', 'dialogue'],\n",
       "        num_rows: 400\n",
       "    })\n",
       "})"
      ]
     },
     "execution_count": 142,
     "metadata": {},
     "output_type": "execute_result"
    }
   ],
   "source": [
    "dataset = datasets.load_dataset(\"DeepPavlov/d2g_real_dialogues\", \"WOZ\", token=env_settings.HUGGINGFACE_TOKEN)\n",
    "dataset"
   ]
  },
  {
   "cell_type": "code",
   "execution_count": 30,
   "metadata": {},
   "outputs": [
    {
     "data": {
      "text/plain": [
       "{'domain': ['restaurant'],\n",
       " 'dialogue_id': '800',\n",
       " 'dialogue': [{'text': 'Hello! How can I help you?',\n",
       "   'participant': 'assistant'},\n",
       "  {'text': 'What is the phone number and postcode of a cheap restaurant in the east part of town?',\n",
       "   'participant': 'user'},\n",
       "  {'text': 'There is The Missing Sock. They serve international food on the east side and are cheap. Their phone number is 01223 812660 and postcode is C.B 25, 9 A.Q.',\n",
       "   'participant': 'assistant'},\n",
       "  {'text': 'Thanks so much!', 'participant': 'user'},\n",
       "  {'text': 'Is there anything else I can help you with today? ',\n",
       "   'participant': 'assistant'}]}"
      ]
     },
     "execution_count": 30,
     "metadata": {},
     "output_type": "execute_result"
    }
   ],
   "source": [
    "dataset['test'][0]"
   ]
  }
 ],
 "metadata": {
  "kernelspec": {
   "display_name": "py11",
   "language": "python",
   "name": "python3"
  },
  "language_info": {
   "codemirror_mode": {
    "name": "ipython",
    "version": 3
   },
   "file_extension": ".py",
   "mimetype": "text/x-python",
   "name": "python",
   "nbconvert_exporter": "python",
   "pygments_lexer": "ipython3",
   "version": "3.11.11"
  }
 },
 "nbformat": 4,
 "nbformat_minor": 2
}
