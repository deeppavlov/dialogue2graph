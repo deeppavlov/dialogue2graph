{
 "cells": [
  {
   "cell_type": "code",
   "execution_count": 1,
   "metadata": {},
   "outputs": [
    {
     "name": "stdout",
     "output_type": "stream",
     "text": [
      "\u001b[34mInstalling dependencies from lock file\u001b[39m\n",
      "\n",
      "\u001b[39;1mInstalling\u001b[39;22m the current project: \u001b[36mexp2025-02-27-testing-examples\u001b[39m (\u001b[39;1m0.1.0\u001b[39;22m)\u001b[1G\u001b[2K\u001b[39;1mInstalling\u001b[39;22m the current project: \u001b[36mexp2025-02-27-testing-examples\u001b[39m (\u001b[32m0.1.0\u001b[39m)\n"
     ]
    }
   ],
   "source": [
    "!poetry install"
   ]
  },
  {
   "cell_type": "code",
   "execution_count": 2,
   "metadata": {},
   "outputs": [
    {
     "name": "stderr",
     "output_type": "stream",
     "text": [
      "/home/olshevskaya/miniconda3/envs/conda_env_py311/lib/python3.11/site-packages/pydantic/_internal/_fields.py:192: UserWarning: Field name \"validate\" in \"Dialogue\" shadows an attribute in parent \"BaseModel\"\n",
      "  warnings.warn(\n"
     ]
    },
    {
     "data": {
      "text/plain": [
       "True"
      ]
     },
     "execution_count": 2,
     "metadata": {},
     "output_type": "execute_result"
    }
   ],
   "source": [
    "import os\n",
    "import json\n",
    "from dotenv import load_dotenv\n",
    "from langchain_openai import ChatOpenAI\n",
    "\n",
    "from dialogue2graph.datasets.complex_dialogues.generation import LoopedGraphGenerator\n",
    "from dialogue2graph import Dialogue, Graph\n",
    "\n",
    "load_dotenv()"
   ]
  },
  {
   "cell_type": "code",
   "execution_count": 3,
   "metadata": {},
   "outputs": [],
   "source": [
    "gen_model = ChatOpenAI(model='gpt-3.5-turbo')\n",
    "val_model = ChatOpenAI(model='gpt-3.5-turbo')"
   ]
  },
  {
   "cell_type": "code",
   "execution_count": 4,
   "metadata": {},
   "outputs": [],
   "source": [
    "gen = LoopedGraphGenerator(\n",
    "    generation_model=gen_model,\n",
    "    validation_model=val_model,\n",
    ")"
   ]
  },
  {
   "cell_type": "code",
   "execution_count": 5,
   "metadata": {},
   "outputs": [
    {
     "name": "stdout",
     "output_type": "stream",
     "text": [
      "\n",
      "==================================================\n",
      "Generating graph for topic: antivirus software problems\n",
      "==================================================\n",
      "Generating Graph ...\n"
     ]
    },
    {
     "name": "stderr",
     "output_type": "stream",
     "text": [
      "INFO:httpx:HTTP Request: POST http://193.187.173.33:8002/api/providers/openai/v1/chat/completions \"HTTP/1.1 200 OK\"\n"
     ]
    },
    {
     "name": "stdout",
     "output_type": "stream",
     "text": [
      "❌ Failed to generate graph for antivirus software problems\n",
      "Error type: ErrorType.GENERATION_FAILED\n",
      "Error message: Unexpected error during generation: 1 validation error for Graph\n",
      "graph_dict\n",
      "  Input should be a valid dictionary [type=dict_type, input_value=DialogueGraph(edges=[Edge... you for your help.\"])]), input_type=DialogueGraph]\n",
      "    For further information visit https://errors.pydantic.dev/2.10/v/dict_type\n"
     ]
    },
    {
     "data": {
      "text/plain": [
       "[]"
      ]
     },
     "execution_count": 5,
     "metadata": {},
     "output_type": "execute_result"
    }
   ],
   "source": [
    "gen.invoke(topic='antivirus software problems', use_cache=False)"
   ]
  },
  {
   "cell_type": "code",
   "execution_count": 6,
   "metadata": {},
   "outputs": [
    {
     "name": "stdout",
     "output_type": "stream",
     "text": [
      "\n",
      "==================================================\n",
      "Generating graph for topic: antivirus software problems\n",
      "==================================================\n",
      "Generating Graph ...\n"
     ]
    },
    {
     "name": "stderr",
     "output_type": "stream",
     "text": [
      "INFO:httpx:HTTP Request: POST http://193.187.173.33:8002/api/providers/openai/v1/chat/completions \"HTTP/1.1 200 OK\"\n"
     ]
    },
    {
     "name": "stdout",
     "output_type": "stream",
     "text": [
      "❌ Failed to generate graph for antivirus software problems\n",
      "Error type: ErrorType.GENERATION_FAILED\n",
      "Error message: Unexpected error during generation: 1 validation error for Graph\n",
      "graph_dict\n",
      "  Input should be a valid dictionary [type=dict_type, input_value=DialogueGraph(edges=[Edge...he future. Goodbye!'])]), input_type=DialogueGraph]\n",
      "    For further information visit https://errors.pydantic.dev/2.10/v/dict_type\n"
     ]
    },
    {
     "data": {
      "text/plain": [
       "[]"
      ]
     },
     "execution_count": 6,
     "metadata": {},
     "output_type": "execute_result"
    }
   ],
   "source": [
    "gen_model = ChatOpenAI(model='gpt-4o')\n",
    "val_model = ChatOpenAI(model='gpt-4o-mini')\n",
    "\n",
    "gen = LoopedGraphGenerator(\n",
    "    generation_model=gen_model,\n",
    "    validation_model=val_model,\n",
    ")\n",
    "\n",
    "gen.invoke(topic='antivirus software problems', use_cache=False)"
   ]
  }
 ],
 "metadata": {
  "kernelspec": {
   "display_name": "conda_env_py311",
   "language": "python",
   "name": "python3"
  },
  "language_info": {
   "codemirror_mode": {
    "name": "ipython",
    "version": 3
   },
   "file_extension": ".py",
   "mimetype": "text/x-python",
   "name": "python",
   "nbconvert_exporter": "python",
   "pygments_lexer": "ipython3",
   "version": "3.11.11"
  }
 },
 "nbformat": 4,
 "nbformat_minor": 2
}
