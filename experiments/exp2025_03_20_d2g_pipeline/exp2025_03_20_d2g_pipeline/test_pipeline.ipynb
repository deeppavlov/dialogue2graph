{
 "cells": [
  {
   "cell_type": "code",
   "execution_count": 1,
   "metadata": {},
   "outputs": [],
   "source": [
    "import json\n",
    "import os\n",
    "os.environ['PATH_TO_ENV'] = \"~/projects/chatsky-llm-autoconfig/.env\""
   ]
  },
  {
   "cell_type": "code",
   "execution_count": 3,
   "metadata": {},
   "outputs": [],
   "source": [
    "%load_ext autoreload\n",
    "%autoreload 2"
   ]
  },
  {
   "cell_type": "code",
   "execution_count": 4,
   "metadata": {},
   "outputs": [
    {
     "name": "stderr",
     "output_type": "stream",
     "text": [
      "/home/peshkichev/miniconda3/envs/py311/lib/python3.11/site-packages/pydantic/_internal/_fields.py:192: UserWarning: Field name \"validate\" in \"Dialogue\" shadows an attribute in parent \"BaseModel\"\n",
      "  warnings.warn(\n"
     ]
    }
   ],
   "source": [
    "from dialogue2graph.pipelines.models import ModelsAPI\n",
    "models = ModelsAPI()"
   ]
  },
  {
   "cell_type": "markdown",
   "metadata": {},
   "source": [
    "### D2G Algo pipeline"
   ]
  },
  {
   "cell_type": "code",
   "execution_count": null,
   "metadata": {},
   "outputs": [
    {
     "name": "stderr",
     "output_type": "stream",
     "text": [
      "INFO:datasets:PyTorch version 2.6.0 available.\n",
      "/data/home/peshkichev/projects/chatsky-llm-autoconfig/dialogue2graph/pipelines/models.py:36: LangChainDeprecationWarning: The class `ChatOpenAI` was deprecated in LangChain 0.0.10 and will be removed in 1.0. An updated version of the class exists in the :class:`~langchain-openai package and should be used instead. To use it run `pip install -U :class:`~langchain-openai` and import as `from :class:`~langchain_openai import ChatOpenAI``.\n",
      "  model = ChatOpenAI(model=model_name, temperature=parameter)\n",
      "/data/home/peshkichev/projects/chatsky-llm-autoconfig/dialogue2graph/pipelines/models.py:38: LangChainDeprecationWarning: The class `HuggingFaceEmbeddings` was deprecated in LangChain 0.2.2 and will be removed in 1.0. An updated version of the class exists in the :class:`~langchain-huggingface package and should be used instead. To use it run `pip install -U :class:`~langchain-huggingface` and import as `from :class:`~langchain_huggingface import HuggingFaceEmbeddings``.\n",
      "  model = HuggingFaceEmbeddings(model_name=model_name, model_kwargs={\"device\": parameter})\n",
      "INFO:sentence_transformers.SentenceTransformer:Load pretrained SentenceTransformer: BAAI/bge-m3\n"
     ]
    }
   ],
   "source": [
    "from dialogue2graph.pipelines.d2g_algo.pipeline import Pipeline\n",
    "filling_llm = models(\"llm\", name=\"o3-mini\", temp=1)\n",
    "sim_model = models(\"similarity\", name=\"BAAI/bge-m3\", device=\"cuda:0\")\n",
    "pipeline = Pipeline(filling_llm, sim_model)"
   ]
  },
  {
   "cell_type": "code",
   "execution_count": 12,
   "metadata": {},
   "outputs": [],
   "source": [
    "filling_llm = models(\"llm\", name=\"o3-mini\", temp=1)\n",
    "sim_model = models(\"similarity\", name=\"BAAI/bge-m3\", device=\"cuda:0\")\n",
    "pipeline = Pipeline(filling_llm, sim_model)"
   ]
  },
  {
   "cell_type": "code",
   "execution_count": null,
   "metadata": {},
   "outputs": [],
   "source": [
    "data = [{'text': 'Hey there! How can I help you today?',\n",
    "    'participant': 'assistant'},\n",
    "   {'text': 'I need to book a ride to the airport.', 'participant': 'user'},\n",
    "   {'text': 'Sure! I can help with that. When is your flight, and where are you departing from?',\n",
    "    'participant': 'assistant'},\n",
    "   {'text': 'Do you have any other options?', 'participant': 'user'},\n",
    "   {'text': \"If you'd prefer, I can send you options for ride-share services instead. Would you like that?\",\n",
    "    'participant': 'assistant'},\n",
    "   {'text': \"No, I'll manage on my own.\", 'participant': 'user'},\n",
    "   {'text': 'No worries! Feel free to reach out anytime.',\n",
    "    'participant': 'assistant'},\n",
    "   {'text': 'Alright, thanks anyway.', 'participant': 'user'},\n",
    "   {'text': \"You're welcome! Have a fantastic trip!\",\n",
    "    'participant': 'assistant'}]\n",
    "graph = pipeline.invoke(data)\n",
    "graph.visualise_short(\"transfer\")"
   ]
  },
  {
   "cell_type": "code",
   "execution_count": null,
   "metadata": {},
   "outputs": [],
   "source": [
    "data = [[{'text': 'Hey there! How can I help you today?',\n",
    "    'participant': 'assistant'},\n",
    "   {'text': 'I need to book a ride to the airport.', 'participant': 'user'},\n",
    "   {'text': 'Sure! I can help with that. When is your flight, and where are you departing from?',\n",
    "    'participant': 'assistant'},\n",
    "   {'text': 'Do you have any other options?', 'participant': 'user'},\n",
    "   {'text': \"If you'd prefer, I can send you options for ride-share services instead. Would you like that?\",\n",
    "    'participant': 'assistant'},\n",
    "   {'text': 'Actually, never mind.', 'participant': 'user'},\n",
    "   {'text': 'Alright, let me know if you need help later. Have a great day!',\n",
    "    'participant': 'assistant'},\n",
    "   {'text': 'Okay, have a great day!', 'participant': 'user'},\n",
    "   {'text': 'Glad to help! Safe travels.', 'participant': 'assistant'}],\n",
    "   [{'text': 'Hey there! How can I help you today?',\n",
    "    'participant': 'assistant'},\n",
    "   {'text': 'I need to book a ride to the airport.', 'participant': 'user'},\n",
    "   {'text': 'Sure! I can help with that. When is your flight, and where are you departing from?',\n",
    "    'participant': 'assistant'},\n",
    "   {'text': 'Do you have any other options?', 'participant': 'user'},\n",
    "   {'text': \"If you'd prefer, I can send you options for ride-share services instead. Would you like that?\",\n",
    "    'participant': 'assistant'},\n",
    "   {'text': \"No, I'll manage on my own.\", 'participant': 'user'},\n",
    "   {'text': 'No worries! Feel free to reach out anytime.',\n",
    "    'participant': 'assistant'},\n",
    "   {'text': 'Alright, thanks anyway.', 'participant': 'user'},\n",
    "   {'text': \"You're welcome! Have a fantastic trip!\",\n",
    "    'participant': 'assistant'}]]\n",
    "graph = pipeline.invoke(data)\n",
    "graph.visualise_short(\"transfer\")"
   ]
  },
  {
   "cell_type": "code",
   "execution_count": null,
   "metadata": {},
   "outputs": [],
   "source": [
    "data = [{\"messages\": [{'text': 'Hey there! How can I help you today?',\n",
    "    'participant': 'assistant'},\n",
    "   {'text': 'I need to book a ride to the airport.', 'participant': 'user'},\n",
    "   {'text': 'Sure! I can help with that. When is your flight, and where are you departing from?',\n",
    "    'participant': 'assistant'},\n",
    "   {'text': 'Do you have any other options?', 'participant': 'user'},\n",
    "   {'text': \"If you'd prefer, I can send you options for ride-share services instead. Would you like that?\",\n",
    "    'participant': 'assistant'},\n",
    "   {'text': \"No, I'll manage on my own.\", 'participant': 'user'},\n",
    "   {'text': 'No worries! Feel free to reach out anytime.',\n",
    "    'participant': 'assistant'},\n",
    "   {'text': 'Alright, thanks anyway.', 'participant': 'user'},\n",
    "   {'text': \"You're welcome! Have a fantastic trip!\",\n",
    "    'participant': 'assistant'}]}]\n",
    "graph = pipeline.invoke(data)\n",
    "graph.visualise_short(\"transfer\")"
   ]
  },
  {
   "cell_type": "code",
   "execution_count": null,
   "metadata": {},
   "outputs": [],
   "source": [
    "with open('transfer.json') as f:\n",
    "    data = json.load(f)\n",
    "graph = pipeline.invoke(data)\n",
    "graph.visualise_short(\"transfer\")"
   ]
  },
  {
   "cell_type": "code",
   "execution_count": null,
   "metadata": {},
   "outputs": [],
   "source": [
    "graph = pipeline.invoke(\"transfer.json\")\n",
    "graph.visualise_short(\"transfer\")"
   ]
  },
  {
   "cell_type": "markdown",
   "metadata": {},
   "source": [
    "### D2G LLM pipeline"
   ]
  },
  {
   "cell_type": "code",
   "execution_count": 14,
   "metadata": {},
   "outputs": [],
   "source": [
    "from dialogue2graph.pipelines.d2g_llm.pipeline import Pipeline\n",
    "grouping_llm = models(\"llm\", name=\"chatgpt-4o-latest\", temp=0)\n",
    "filling_llm = models(\"llm\", name=\"o3-mini\", temp=1)\n",
    "sim_model = models(\"similarity\", name=\"BAAI/bge-m3\", device=\"cuda:0\")\n",
    "pipeline = Pipeline(grouping_llm, filling_llm, sim_model)"
   ]
  },
  {
   "cell_type": "code",
   "execution_count": null,
   "metadata": {},
   "outputs": [],
   "source": [
    "data = [{'text': 'Hey there! How can I help you today?',\n",
    "    'participant': 'assistant'},\n",
    "   {'text': 'I need to book a ride to the airport.', 'participant': 'user'},\n",
    "   {'text': 'Sure! I can help with that. When is your flight, and where are you departing from?',\n",
    "    'participant': 'assistant'},\n",
    "   {'text': 'Do you have any other options?', 'participant': 'user'},\n",
    "   {'text': \"If you'd prefer, I can send you options for ride-share services instead. Would you like that?\",\n",
    "    'participant': 'assistant'},\n",
    "   {'text': \"No, I'll manage on my own.\", 'participant': 'user'},\n",
    "   {'text': 'No worries! Feel free to reach out anytime.',\n",
    "    'participant': 'assistant'},\n",
    "   {'text': 'Alright, thanks anyway.', 'participant': 'user'},\n",
    "   {'text': \"You're welcome! Have a fantastic trip!\",\n",
    "    'participant': 'assistant'}]\n",
    "graph = pipeline.invoke(data)\n",
    "graph.visualise_short(\"transfer\")"
   ]
  },
  {
   "cell_type": "code",
   "execution_count": null,
   "metadata": {},
   "outputs": [],
   "source": [
    "data = [[{'text': 'Hey there! How can I help you today?',\n",
    "    'participant': 'assistant'},\n",
    "   {'text': 'I need to book a ride to the airport.', 'participant': 'user'},\n",
    "   {'text': 'Sure! I can help with that. When is your flight, and where are you departing from?',\n",
    "    'participant': 'assistant'},\n",
    "   {'text': 'Do you have any other options?', 'participant': 'user'},\n",
    "   {'text': \"If you'd prefer, I can send you options for ride-share services instead. Would you like that?\",\n",
    "    'participant': 'assistant'},\n",
    "   {'text': 'Actually, never mind.', 'participant': 'user'},\n",
    "   {'text': 'Alright, let me know if you need help later. Have a great day!',\n",
    "    'participant': 'assistant'},\n",
    "   {'text': 'Okay, have a great day!', 'participant': 'user'},\n",
    "   {'text': 'Glad to help! Safe travels.', 'participant': 'assistant'}],\n",
    "   [{'text': 'Hey there! How can I help you today?',\n",
    "    'participant': 'assistant'},\n",
    "   {'text': 'I need to book a ride to the airport.', 'participant': 'user'},\n",
    "   {'text': 'Sure! I can help with that. When is your flight, and where are you departing from?',\n",
    "    'participant': 'assistant'},\n",
    "   {'text': 'Do you have any other options?', 'participant': 'user'},\n",
    "   {'text': \"If you'd prefer, I can send you options for ride-share services instead. Would you like that?\",\n",
    "    'participant': 'assistant'},\n",
    "   {'text': \"No, I'll manage on my own.\", 'participant': 'user'},\n",
    "   {'text': 'No worries! Feel free to reach out anytime.',\n",
    "    'participant': 'assistant'},\n",
    "   {'text': 'Alright, thanks anyway.', 'participant': 'user'},\n",
    "   {'text': \"You're welcome! Have a fantastic trip!\",\n",
    "    'participant': 'assistant'}]]\n",
    "graph = pipeline.invoke(data)\n",
    "graph.visualise_short(\"transfer\")"
   ]
  },
  {
   "cell_type": "code",
   "execution_count": null,
   "metadata": {},
   "outputs": [],
   "source": [
    "data = [{\"messages\": [{'text': 'Hey there! How can I help you today?',\n",
    "    'participant': 'assistant'},\n",
    "   {'text': 'I need to book a ride to the airport.', 'participant': 'user'},\n",
    "   {'text': 'Sure! I can help with that. When is your flight, and where are you departing from?',\n",
    "    'participant': 'assistant'},\n",
    "   {'text': 'Do you have any other options?', 'participant': 'user'},\n",
    "   {'text': \"If you'd prefer, I can send you options for ride-share services instead. Would you like that?\",\n",
    "    'participant': 'assistant'},\n",
    "   {'text': \"No, I'll manage on my own.\", 'participant': 'user'},\n",
    "   {'text': 'No worries! Feel free to reach out anytime.',\n",
    "    'participant': 'assistant'},\n",
    "   {'text': 'Alright, thanks anyway.', 'participant': 'user'},\n",
    "   {'text': \"You're welcome! Have a fantastic trip!\",\n",
    "    'participant': 'assistant'}]}]\n",
    "graph = pipeline.invoke(data)\n",
    "graph.visualise_short(\"transfer\")"
   ]
  },
  {
   "cell_type": "code",
   "execution_count": null,
   "metadata": {},
   "outputs": [],
   "source": [
    "with open('transfer.json') as f:\n",
    "    data = json.load(f)\n",
    "graph = pipeline.invoke(data)\n",
    "graph.visualise_short(\"transfer\")"
   ]
  },
  {
   "cell_type": "code",
   "execution_count": null,
   "metadata": {},
   "outputs": [],
   "source": [
    "graph = pipeline.invoke(\"transfer.json\")\n",
    "graph.visualise_short(\"transfer\")"
   ]
  },
  {
   "cell_type": "markdown",
   "metadata": {},
   "source": [
    "### D2G LLM extender"
   ]
  },
  {
   "cell_type": "code",
   "execution_count": 20,
   "metadata": {},
   "outputs": [],
   "source": [
    "from dialogue2graph.pipelines.d2g_extender.pipeline import Pipeline\n",
    "extending_llm = models(\"llm\", name=\"chatgpt-4o-latest\", temp=0)\n",
    "filling_llm = models(\"llm\", name=\"o3-mini\", temp=1)\n",
    "sim_model = models(\"similarity\", name=\"BAAI/bge-m3\", device=\"cuda:0\")\n",
    "pipeline = Pipeline(extending_llm, filling_llm, sim_model)"
   ]
  },
  {
   "cell_type": "code",
   "execution_count": null,
   "metadata": {},
   "outputs": [],
   "source": [
    "data = [{'text': 'Hey there! How can I help you today?',\n",
    "    'participant': 'assistant'},\n",
    "   {'text': 'I need to book a ride to the airport.', 'participant': 'user'},\n",
    "   {'text': 'Sure! I can help with that. When is your flight, and where are you departing from?',\n",
    "    'participant': 'assistant'},\n",
    "   {'text': 'Do you have any other options?', 'participant': 'user'},\n",
    "   {'text': \"If you'd prefer, I can send you options for ride-share services instead. Would you like that?\",\n",
    "    'participant': 'assistant'},\n",
    "   {'text': \"No, I'll manage on my own.\", 'participant': 'user'},\n",
    "   {'text': 'No worries! Feel free to reach out anytime.',\n",
    "    'participant': 'assistant'},\n",
    "   {'text': 'Alright, thanks anyway.', 'participant': 'user'},\n",
    "   {'text': \"You're welcome! Have a fantastic trip!\",\n",
    "    'participant': 'assistant'}]\n",
    "graph = pipeline.invoke(data)\n",
    "graph.visualise_short(\"transfer\")"
   ]
  },
  {
   "cell_type": "code",
   "execution_count": null,
   "metadata": {},
   "outputs": [],
   "source": [
    "data = [[{'text': 'Hey there! How can I help you today?',\n",
    "    'participant': 'assistant'},\n",
    "   {'text': 'I need to book a ride to the airport.', 'participant': 'user'},\n",
    "   {'text': 'Sure! I can help with that. When is your flight, and where are you departing from?',\n",
    "    'participant': 'assistant'},\n",
    "   {'text': 'Do you have any other options?', 'participant': 'user'},\n",
    "   {'text': \"If you'd prefer, I can send you options for ride-share services instead. Would you like that?\",\n",
    "    'participant': 'assistant'},\n",
    "   {'text': 'Actually, never mind.', 'participant': 'user'},\n",
    "   {'text': 'Alright, let me know if you need help later. Have a great day!',\n",
    "    'participant': 'assistant'},\n",
    "   {'text': 'Okay, have a great day!', 'participant': 'user'},\n",
    "   {'text': 'Glad to help! Safe travels.', 'participant': 'assistant'}],\n",
    "   [{'text': 'Hey there! How can I help you today?',\n",
    "    'participant': 'assistant'},\n",
    "   {'text': 'I need to book a ride to the airport.', 'participant': 'user'},\n",
    "   {'text': 'Sure! I can help with that. When is your flight, and where are you departing from?',\n",
    "    'participant': 'assistant'},\n",
    "   {'text': 'Do you have any other options?', 'participant': 'user'},\n",
    "   {'text': \"If you'd prefer, I can send you options for ride-share services instead. Would you like that?\",\n",
    "    'participant': 'assistant'},\n",
    "   {'text': \"No, I'll manage on my own.\", 'participant': 'user'},\n",
    "   {'text': 'No worries! Feel free to reach out anytime.',\n",
    "    'participant': 'assistant'},\n",
    "   {'text': 'Alright, thanks anyway.', 'participant': 'user'},\n",
    "   {'text': \"You're welcome! Have a fantastic trip!\",\n",
    "    'participant': 'assistant'}]]\n",
    "graph = pipeline.invoke(data)\n",
    "graph.visualise_short(\"transfer\")"
   ]
  },
  {
   "cell_type": "code",
   "execution_count": null,
   "metadata": {},
   "outputs": [],
   "source": [
    "data = [{\"messages\": [{'text': 'Hey there! How can I help you today?',\n",
    "    'participant': 'assistant'},\n",
    "   {'text': 'I need to book a ride to the airport.', 'participant': 'user'},\n",
    "   {'text': 'Sure! I can help with that. When is your flight, and where are you departing from?',\n",
    "    'participant': 'assistant'},\n",
    "   {'text': 'Do you have any other options?', 'participant': 'user'},\n",
    "   {'text': \"If you'd prefer, I can send you options for ride-share services instead. Would you like that?\",\n",
    "    'participant': 'assistant'},\n",
    "   {'text': \"No, I'll manage on my own.\", 'participant': 'user'},\n",
    "   {'text': 'No worries! Feel free to reach out anytime.',\n",
    "    'participant': 'assistant'},\n",
    "   {'text': 'Alright, thanks anyway.', 'participant': 'user'},\n",
    "   {'text': \"You're welcome! Have a fantastic trip!\",\n",
    "    'participant': 'assistant'}]}]\n",
    "graph = pipeline.invoke(data)\n",
    "graph.visualise_short(\"transfer\")"
   ]
  },
  {
   "cell_type": "code",
   "execution_count": null,
   "metadata": {},
   "outputs": [],
   "source": [
    "with open('transfer.json') as f:\n",
    "    data = json.load(f)\n",
    "graph = pipeline.invoke(data)\n",
    "graph.visualise_short(\"transfer\")"
   ]
  },
  {
   "cell_type": "code",
   "execution_count": null,
   "metadata": {},
   "outputs": [],
   "source": [
    "graph = pipeline.invoke(\"transfer.json\")\n",
    "graph.visualise_short(\"transfer\")"
   ]
  },
  {
   "cell_type": "code",
   "execution_count": 24,
   "metadata": {},
   "outputs": [
    {
     "data": {
      "text/plain": [
       "[{'id': 1,\n",
       "  'label': '',\n",
       "  'is_start': True,\n",
       "  'utterances': ['Hey there! How can I help you today?']},\n",
       " {'id': 2,\n",
       "  'label': '',\n",
       "  'is_start': False,\n",
       "  'utterances': ['Sure! I can help with that. When is your flight, and where are you departing from?']},\n",
       " {'id': 3,\n",
       "  'label': '',\n",
       "  'is_start': False,\n",
       "  'utterances': ['Got it. Where should the driver pick you up?']},\n",
       " {'id': 4,\n",
       "  'label': '',\n",
       "  'is_start': False,\n",
       "  'utterances': ['Thanks! How many passengers will be traveling?']},\n",
       " {'id': 5,\n",
       "  'label': '',\n",
       "  'is_start': False,\n",
       "  'utterances': ['Alright! Do you have any preference for the type of vehicle? We have sedans, SUVs, and vans available.']},\n",
       " {'id': 6,\n",
       "  'label': '',\n",
       "  'is_start': False,\n",
       "  'utterances': ['Of course! What type of vehicle would you prefer instead?']},\n",
       " {'id': 7,\n",
       "  'label': '',\n",
       "  'is_start': False,\n",
       "  'utterances': ['All set! Your driver will arrive on time. Let me know if you need anything else.']},\n",
       " {'id': 8,\n",
       "  'label': '',\n",
       "  'is_start': False,\n",
       "  'utterances': ['Glad to help! Safe travels.',\n",
       "   \"You're welcome! Have a fantastic trip!\",\n",
       "   \"Thanks, I'm all set.\"]}]"
      ]
     },
     "execution_count": 24,
     "metadata": {},
     "output_type": "execute_result"
    }
   ],
   "source": [
    "graph.graph_dict['nodes']"
   ]
  }
 ],
 "metadata": {
  "kernelspec": {
   "display_name": "py311",
   "language": "python",
   "name": "python3"
  },
  "language_info": {
   "codemirror_mode": {
    "name": "ipython",
    "version": 3
   },
   "file_extension": ".py",
   "mimetype": "text/x-python",
   "name": "python",
   "nbconvert_exporter": "python",
   "pygments_lexer": "ipython3",
   "version": "3.11.11"
  }
 },
 "nbformat": 4,
 "nbformat_minor": 2
}
