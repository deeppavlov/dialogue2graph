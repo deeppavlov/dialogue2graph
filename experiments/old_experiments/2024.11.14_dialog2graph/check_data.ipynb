{
 "cells": [
  {
   "cell_type": "code",
   "execution_count": 3,
   "metadata": {},
   "outputs": [],
   "source": [
    "import json"
   ]
  },
  {
   "cell_type": "code",
   "execution_count": 4,
   "metadata": {},
   "outputs": [],
   "source": [
    "import dotenv"
   ]
  },
  {
   "cell_type": "code",
   "execution_count": 5,
   "metadata": {},
   "outputs": [
    {
     "data": {
      "text/plain": [
       "True"
      ]
     },
     "execution_count": 5,
     "metadata": {},
     "output_type": "execute_result"
    }
   ],
   "source": [
    "dotenv.load_dotenv()"
   ]
  },
  {
   "cell_type": "code",
   "execution_count": 6,
   "metadata": {},
   "outputs": [],
   "source": [
    "from langchain_community.chat_models import ChatOpenAI"
   ]
  },
  {
   "cell_type": "code",
   "execution_count": 7,
   "metadata": {},
   "outputs": [],
   "source": [
    "%load_ext autoreload\n",
    "%autoreload 2"
   ]
  },
  {
   "cell_type": "code",
   "execution_count": 8,
   "metadata": {},
   "outputs": [],
   "source": [
    "import chatsky_llm_autoconfig.metrics.llm_metrics as llm_metrics"
   ]
  },
  {
   "cell_type": "code",
   "execution_count": 9,
   "metadata": {},
   "outputs": [],
   "source": [
    "from chatsky_llm_autoconfig.graph import Graph"
   ]
  },
  {
   "cell_type": "code",
   "execution_count": 10,
   "metadata": {},
   "outputs": [],
   "source": [
    "from tqdm import tqdm"
   ]
  },
  {
   "cell_type": "code",
   "execution_count": 11,
   "metadata": {},
   "outputs": [],
   "source": [
    "def read_json(path):\n",
    "    with open(path, mode=\"r\") as file:\n",
    "        data = file.read()\n",
    "    return json.loads(data)"
   ]
  },
  {
   "cell_type": "code",
   "execution_count": 10,
   "metadata": {},
   "outputs": [
    {
     "data": {
      "text/plain": [
       "'/Users/yuriypeshkichev/Projects/ipavlov/chatsky-llm-autoconfig/experiments/2024.11.14_dialog2graph'"
      ]
     },
     "execution_count": 10,
     "metadata": {},
     "output_type": "execute_result"
    }
   ],
   "source": [
    "%pwd"
   ]
  },
  {
   "cell_type": "code",
   "execution_count": 12,
   "metadata": {},
   "outputs": [],
   "source": [
    "data = read_json(\n",
    "    \"../../dev_packages/chatsky_llm_autoconfig/chatsky_llm_autoconfig/autometrics/test_data/new_data.json\"\n",
    ")"
   ]
  },
  {
   "cell_type": "code",
   "execution_count": 11,
   "metadata": {},
   "outputs": [],
   "source": [
    "model = ChatOpenAI(model=\"gpt-4o-mini\", temperature=0)"
   ]
  },
  {
   "cell_type": "code",
   "execution_count": 12,
   "metadata": {},
   "outputs": [],
   "source": [
    "from chatsky_llm_autoconfig.graph import BaseGraph\n",
    "from chatsky_llm_autoconfig.dialog import Dialog"
   ]
  },
  {
   "cell_type": "code",
   "execution_count": 16,
   "metadata": {},
   "outputs": [],
   "source": [
    "def all_utterances_present(G: BaseGraph, dialogs: list[Dialog]) -> bool:\n",
    "    \"\"\"\n",
    "    Check if all graph elements (nodes and edges) appear in at least one dialog.\n",
    "\n",
    "    Args:\n",
    "        G: BaseGraph object containing the dialog graph\n",
    "        dialogs: List of Dialog objects to check against\n",
    "\n",
    "    Returns:\n",
    "        bool: True if all graph elements are present in at least one dialog\n",
    "    \"\"\"\n",
    "    # Get all unique utterances from nodes and edges in the graph\n",
    "    graph_utterances = set()\n",
    "\n",
    "    # Add node utterances\n",
    "    for node_id, node_data in G.graph.nodes(data=True):\n",
    "        graph_utterances.update(node_data[\"utterances\"])\n",
    "\n",
    "    # Add edge utterances\n",
    "    for _, _, edge_data in G.graph.edges(data=True):\n",
    "        if isinstance(edge_data[\"utterances\"], list):\n",
    "            graph_utterances.update(edge_data[\"utterances\"])\n",
    "        else:\n",
    "            graph_utterances.add(edge_data[\"utterances\"])\n",
    "\n",
    "    # Collect all utterances from dialogs\n",
    "    dialog_utterances = set()\n",
    "    for dialog in dialogs:\n",
    "        dialog_utterances.update(utt.text for utt in dialog.messages)\n",
    "\n",
    "    # Check if all graph utterances are present in dialogs\n",
    "    if graph_utterances.issubset(dialog_utterances):\n",
    "        return True\n",
    "    else:\n",
    "        return False\n",
    "        # return graph_utterances.difference(dialog_utterances)"
   ]
  },
  {
   "cell_type": "code",
   "execution_count": 15,
   "metadata": {},
   "outputs": [],
   "source": [
    "import pandas as pd"
   ]
  },
  {
   "cell_type": "code",
   "execution_count": 18,
   "metadata": {},
   "outputs": [
    {
     "data": {
      "text/plain": [
       "'/Users/yuriypeshkichev/Projects/ipavlov/chatsky-llm-autoconfig/experiments/2024.11.14_dialog2graph'"
      ]
     },
     "execution_count": 18,
     "metadata": {},
     "output_type": "execute_result"
    }
   ],
   "source": [
    "%pwd"
   ]
  },
  {
   "cell_type": "code",
   "execution_count": 14,
   "metadata": {},
   "outputs": [
    {
     "data": {
      "text/plain": [
       "Graph(graph_dict={'nodes': [{'id': 1, 'label': 'welcome and ask', 'is_start': True, 'utterances': ['Hello! This is tech support. How can I help you today?']}, {'id': 2, 'label': 'reload', 'is_start': False, 'utterances': ['Try to reload your device.']}, {'id': 3, 'label': 'check if helped', 'is_start': False, 'utterances': ['Has this resolved the issue for you?']}, {'id': 4, 'label': 'verification', 'is_start': False, 'utterances': ['Try cleaning browser cache.']}, {'id': 5, 'label': 'ask about additional problem', 'is_start': False, 'utterances': ['What is the other problem that you are experiencing?']}, {'id': 6, 'label': 'solution for balance', 'is_start': False, 'utterances': ['Try logging out of the website and then re-logging in.']}, {'id': 7, 'label': 'end', 'is_start': False, 'utterances': ['Thank you for contacting us, have a nice day.']}], 'edges': [{'source': 1, 'target': 2, 'utterances': ['The website loading takes too long']}, {'source': 2, 'target': 3, 'utterances': ['Sure, I will try that']}, {'source': 3, 'target': 4, 'utterances': ['No, it did not work ']}, {'source': 4, 'target': 3, 'utterances': ['All right, I will try cleaning cache']}, {'source': 3, 'target': 7, 'utterances': ['Yes, that fixed everything']}, {'source': 3, 'target': 5, 'utterances': [\"Actually, I'm having a different issue now\"]}, {'source': 5, 'target': 6, 'utterances': [\"I've put some money on my account but the balance is not updated on the website\"]}, {'source': 6, 'target': 3, 'utterances': ['Ok, I will try to log out']}, {'source': 6, 'target': 2, 'utterances': ['The balance is updated but now the website is slow again']}]}, graph=<networkx.classes.digraph.DiGraph object at 0x1174412e0>, node_mapping={})"
      ]
     },
     "execution_count": 14,
     "metadata": {},
     "output_type": "execute_result"
    }
   ],
   "source": [
    "gr = Graph(data[0][\"graph\"])\n",
    "gr"
   ]
  },
  {
   "cell_type": "code",
   "execution_count": 18,
   "metadata": {},
   "outputs": [
    {
     "data": {
      "text/plain": [
       "[{'id': 1,\n",
       "  'label': 'welcome and ask',\n",
       "  'is_start': True,\n",
       "  'utterances': ['Hello! This is tech support. How can I help you today?']},\n",
       " {'id': 2,\n",
       "  'label': 'reload',\n",
       "  'is_start': False,\n",
       "  'utterances': ['Try to reload your device.']},\n",
       " {'id': 3,\n",
       "  'label': 'check if helped',\n",
       "  'is_start': False,\n",
       "  'utterances': ['Has this resolved the issue for you?']},\n",
       " {'id': 4,\n",
       "  'label': 'verification',\n",
       "  'is_start': False,\n",
       "  'utterances': ['Try cleaning browser cache.']},\n",
       " {'id': 5,\n",
       "  'label': 'ask about additional problem',\n",
       "  'is_start': False,\n",
       "  'utterances': ['What is the other problem that you are experiencing?']},\n",
       " {'id': 6,\n",
       "  'label': 'solution for balance',\n",
       "  'is_start': False,\n",
       "  'utterances': ['Try logging out of the website and then re-logging in.']},\n",
       " {'id': 7,\n",
       "  'label': 'end',\n",
       "  'is_start': False,\n",
       "  'utterances': ['Thank you for contacting us, have a nice day.']}]"
      ]
     },
     "execution_count": 18,
     "metadata": {},
     "output_type": "execute_result"
    }
   ],
   "source": [
    "gr.graph_dict[\"nodes\"]"
   ]
  },
  {
   "cell_type": "code",
   "execution_count": 16,
   "metadata": {},
   "outputs": [
    {
     "data": {
      "text/plain": [
       "{'nodes': [{'id': 1,\n",
       "   'label': 'welcome and ask',\n",
       "   'is_start': True,\n",
       "   'utterances': ['Hello! This is tech support. How can I help you today?']},\n",
       "  {'id': 2,\n",
       "   'label': 'reload',\n",
       "   'is_start': False,\n",
       "   'utterances': ['Try to reload your device.']},\n",
       "  {'id': 3,\n",
       "   'label': 'check if helped',\n",
       "   'is_start': False,\n",
       "   'utterances': ['Has this resolved the issue for you?']},\n",
       "  {'id': 4,\n",
       "   'label': 'verification',\n",
       "   'is_start': False,\n",
       "   'utterances': ['Try cleaning browser cache.']},\n",
       "  {'id': 5,\n",
       "   'label': 'ask about additional problem',\n",
       "   'is_start': False,\n",
       "   'utterances': ['What is the other problem that you are experiencing?']},\n",
       "  {'id': 6,\n",
       "   'label': 'solution for balance',\n",
       "   'is_start': False,\n",
       "   'utterances': ['Try logging out of the website and then re-logging in.']},\n",
       "  {'id': 7,\n",
       "   'label': 'end',\n",
       "   'is_start': False,\n",
       "   'utterances': ['Thank you for contacting us, have a nice day.']}],\n",
       " 'edges': [{'source': 1,\n",
       "   'target': 2,\n",
       "   'utterances': ['The website loading takes too long']},\n",
       "  {'source': 2, 'target': 3, 'utterances': ['Sure, I will try that']},\n",
       "  {'source': 3, 'target': 4, 'utterances': ['No, it did not work ']},\n",
       "  {'source': 4,\n",
       "   'target': 3,\n",
       "   'utterances': ['All right, I will try cleaning cache']},\n",
       "  {'source': 3, 'target': 7, 'utterances': ['Yes, that fixed everything']},\n",
       "  {'source': 3,\n",
       "   'target': 5,\n",
       "   'utterances': [\"Actually, I'm having a different issue now\"]},\n",
       "  {'source': 5,\n",
       "   'target': 6,\n",
       "   'utterances': [\"I've put some money on my account but the balance is not updated on the website\"]},\n",
       "  {'source': 6, 'target': 3, 'utterances': ['Ok, I will try to log out']},\n",
       "  {'source': 6,\n",
       "   'target': 2,\n",
       "   'utterances': ['The balance is updated but now the website is slow again']}]}"
      ]
     },
     "execution_count": 16,
     "metadata": {},
     "output_type": "execute_result"
    }
   ],
   "source": [
    "gr.graph_dict"
   ]
  },
  {
   "cell_type": "code",
   "execution_count": null,
   "metadata": {},
   "outputs": [],
   "source": [
    "results = []\n",
    "for case in tqdm(data):\n",
    "    case_results = {\"topic\": case[\"topic\"]}\n",
    "    triplets = llm_metrics.are_triplets_valid(G=Graph(case[\"graph\"]), model=model)\n",
    "    case_results[\"are_triplets_valid\"] = triplets[\"value\"]\n",
    "    case_results[\"are_triplets_valid_details\"] = triplets[\"description\"]\n",
    "    themes = llm_metrics.is_theme_valid(\n",
    "        G=Graph(case[\"graph\"]), topic=case[\"topic\"], model=model\n",
    "    )\n",
    "    case_results[\"is_theme_valid\"] = themes[\"value\"]\n",
    "    case_results[\"is_theme_valid_details\"] = themes[\"description\"]\n",
    "    case_results[\"all_utterances_present\"] = all_utterances_present(\n",
    "        G=Graph(case[\"graph\"]),\n",
    "        dialogs=[Dialog(messages=x[\"messages\"]) for x in case[\"dialogs\"]],\n",
    "    )\n",
    "\n",
    "    results.append(case_results)\n",
    "\n",
    "df = pd.DataFrame(results)\n",
    "print(df)\n",
    "df.to_csv(\"results.csv\")"
   ]
  },
  {
   "cell_type": "code",
   "execution_count": 23,
   "metadata": {},
   "outputs": [
    {
     "data": {
      "text/plain": [
       "[True, True, True, True, True, True, True, True, True, True]"
      ]
     },
     "execution_count": 23,
     "metadata": {},
     "output_type": "execute_result"
    }
   ],
   "source": [
    "[r[\"is_theme_valid\"] for r in results]"
   ]
  },
  {
   "cell_type": "code",
   "execution_count": 24,
   "metadata": {},
   "outputs": [
    {
     "data": {
      "text/plain": [
       "[True, False, True, True, True, True, True, True, True, False]"
      ]
     },
     "execution_count": 24,
     "metadata": {},
     "output_type": "execute_result"
    }
   ],
   "source": [
    "[r[\"all_utterances_present\"] for r in results]"
   ]
  },
  {
   "cell_type": "code",
   "execution_count": null,
   "metadata": {},
   "outputs": [],
   "source": [
    "test_data = read_json(\n",
    "    \"../../dev_packages/chatsky_llm_autoconfig/chatsky_llm_autoconfig/autometrics/test_data/complex_graphs.json\"\n",
    ")"
   ]
  },
  {
   "cell_type": "code",
   "execution_count": 30,
   "metadata": {},
   "outputs": [
    {
     "data": {
      "text/plain": [
       "[[{'text': 'Good evening, how can I help?', 'participant': 'assistant'},\n",
       "  {'text': 'I want to book a duplex room', 'participant': 'user'},\n",
       "  {'text': 'How long are you going to stay?', 'participant': 'assistant'},\n",
       "  {'text': 'One night', 'participant': 'user'},\n",
       "  {'text': 'We have a vacant room. Do you need anything else?',\n",
       "   'participant': 'assistant'},\n",
       "  {'text': 'No, thanks', 'participant': 'user'},\n",
       "  {'text': 'Okay, now I need your ID card.', 'participant': 'assistant'},\n",
       "  {'text': 'Here it is', 'participant': 'user'},\n",
       "  {'text': 'Thank you. This is your key, have a good stay!',\n",
       "   'participant': 'assistant'}],\n",
       " [{'text': 'Good evening, how can I help?', 'participant': 'assistant'},\n",
       "  {'text': 'I want to book a duplex room', 'participant': 'user'},\n",
       "  {'text': 'How long are you going to stay?', 'participant': 'assistant'},\n",
       "  {'text': 'Three nights', 'participant': 'user'},\n",
       "  {'text': 'Unfortunately we do not have a vacant room for these dates, but we can offer two separate single rooms. Would this be acceptable?',\n",
       "   'participant': 'assistant'},\n",
       "  {'text': 'Okay, it will do', 'participant': 'user'},\n",
       "  {'text': 'Okay, now I need your ID card.', 'participant': 'assistant'},\n",
       "  {'text': 'Here it is', 'participant': 'user'},\n",
       "  {'text': 'Thank you. This is your key, have a good stay!',\n",
       "   'participant': 'assistant'}],\n",
       " [{'text': 'Good evening, how can I help?', 'participant': 'assistant'},\n",
       "  {'text': 'I want to book a duplex room', 'participant': 'user'},\n",
       "  {'text': 'How long are you going to stay?', 'participant': 'assistant'},\n",
       "  {'text': 'Three nights', 'participant': 'user'},\n",
       "  {'text': 'Unfortunately we do not have a vacant room for these dates, but we can offer two separate single rooms. Would this be acceptable?',\n",
       "   'participant': 'assistant'},\n",
       "  {'text': 'No, thanks, this does not suit me', 'participant': 'user'},\n",
       "  {'text': 'Can I help you with anything else?', 'participant': 'assistant'},\n",
       "  {'text': 'No, thanks', 'participant': 'user'},\n",
       "  {'text': 'Okay, goodbye!', 'participant': 'assistant'}]]"
      ]
     },
     "execution_count": 30,
     "metadata": {},
     "output_type": "execute_result"
    }
   ],
   "source": [
    "case[\"dialogs\"]"
   ]
  },
  {
   "cell_type": "code",
   "execution_count": null,
   "metadata": {},
   "outputs": [],
   "source": [
    "test_data"
   ]
  },
  {
   "cell_type": "code",
   "execution_count": null,
   "metadata": {},
   "outputs": [],
   "source": [
    "comp_results = []\n",
    "for case in tqdm(test_data):\n",
    "    case_results = {\"topic\": case[\"topic\"]}\n",
    "    triplets = llm_metrics.are_triplets_valid(G=Graph(case[\"graph\"]), model=model)\n",
    "    case_results[\"are_triplets_valid\"] = triplets[\"value\"]\n",
    "    case_results[\"are_triplets_valid_details\"] = triplets[\"description\"]\n",
    "    themes = llm_metrics.is_theme_valid(\n",
    "        G=Graph(case[\"graph\"]), topic=case[\"topic\"], model=model\n",
    "    )\n",
    "    case_results[\"is_theme_valid\"] = themes[\"value\"]\n",
    "    case_results[\"is_theme_valid_details\"] = themes[\"description\"]\n",
    "    case_results[\"all_utterances_present\"] = all_utterances_present(\n",
    "        G=Graph(case[\"graph\"]),\n",
    "        dialogs=[Dialog(messages=x[\"messages\"]) for x in case[\"dialogs\"]],\n",
    "    )\n",
    "\n",
    "    comp_results.append(case_results)\n",
    "\n",
    "df = pd.DataFrame(comp_results)\n",
    "print(df)\n",
    "df.to_csv(\"comp_results.csv\")"
   ]
  },
  {
   "cell_type": "code",
   "execution_count": 34,
   "metadata": {},
   "outputs": [
    {
     "data": {
      "text/plain": [
       "[True, True, True, True, True]"
      ]
     },
     "execution_count": 34,
     "metadata": {},
     "output_type": "execute_result"
    }
   ],
   "source": [
    "[r[\"is_theme_valid\"] for r in comp_results]"
   ]
  },
  {
   "cell_type": "code",
   "execution_count": 35,
   "metadata": {},
   "outputs": [
    {
     "data": {
      "text/plain": [
       "[True, False, True, True, False]"
      ]
     },
     "execution_count": 35,
     "metadata": {},
     "output_type": "execute_result"
    }
   ],
   "source": [
    "[r[\"are_triplets_valid\"] for r in comp_results]"
   ]
  },
  {
   "cell_type": "code",
   "execution_count": 36,
   "metadata": {},
   "outputs": [
    {
     "data": {
      "text/plain": [
       "[True, True, True, True, True]"
      ]
     },
     "execution_count": 36,
     "metadata": {},
     "output_type": "execute_result"
    }
   ],
   "source": [
    "[r[\"all_utterances_present\"] for r in comp_results]"
   ]
  },
  {
   "cell_type": "markdown",
   "metadata": {},
   "source": [
    "### gpt4o-mini"
   ]
  },
  {
   "cell_type": "code",
   "execution_count": null,
   "metadata": {},
   "outputs": [],
   "source": [
    "comp_mini_results = []\n",
    "for case in tqdm(test_data):\n",
    "    case_results = {\"topic\": case[\"topic\"]}\n",
    "    triplets = llm_metrics.are_triplets_valid(G=Graph(case[\"graph\"]), model=model)\n",
    "    case_results[\"are_triplets_valid\"] = triplets[\"value\"]\n",
    "    case_results[\"are_triplets_valid_details\"] = triplets[\"description\"]\n",
    "    themes = llm_metrics.is_theme_valid(\n",
    "        G=Graph(case[\"graph\"]), topic=case[\"topic\"], model=model\n",
    "    )\n",
    "    case_results[\"is_theme_valid\"] = themes[\"value\"]\n",
    "    case_results[\"is_theme_valid_details\"] = themes[\"description\"]\n",
    "    case_results[\"all_utterances_present\"] = all_utterances_present(\n",
    "        G=Graph(case[\"graph\"]),\n",
    "        dialogs=[Dialog(messages=x[\"messages\"]) for x in case[\"dialogs\"]],\n",
    "    )\n",
    "\n",
    "    comp_mini_results.append(case_results)\n",
    "\n",
    "df = pd.DataFrame(comp_mini_results)\n",
    "print(df)\n",
    "df.to_csv(\"comp_mini_results.csv\")"
   ]
  },
  {
   "cell_type": "code",
   "execution_count": 40,
   "metadata": {},
   "outputs": [
    {
     "data": {
      "text/plain": [
       "[True, True, True, True, True]"
      ]
     },
     "execution_count": 40,
     "metadata": {},
     "output_type": "execute_result"
    }
   ],
   "source": [
    "[r[\"is_theme_valid\"] for r in comp_mini_results]"
   ]
  },
  {
   "cell_type": "code",
   "execution_count": 41,
   "metadata": {},
   "outputs": [
    {
     "data": {
      "text/plain": [
       "[False, False, True, False, False]"
      ]
     },
     "execution_count": 41,
     "metadata": {},
     "output_type": "execute_result"
    }
   ],
   "source": [
    "[r[\"are_triplets_valid\"] for r in comp_mini_results]"
   ]
  },
  {
   "cell_type": "code",
   "execution_count": 45,
   "metadata": {},
   "outputs": [
    {
     "data": {
      "text/plain": [
       "ChatOpenAI(client=<openai.resources.chat.completions.Completions object at 0x139406000>, async_client=<openai.resources.chat.completions.AsyncCompletions object at 0x139406ba0>, root_client=<openai.OpenAI object at 0x1394041a0>, root_async_client=<openai.AsyncOpenAI object at 0x139404350>, model_name='gpt-4o-mini', temperature=0.0, model_kwargs={}, openai_api_key=SecretStr('**********'), openai_api_base='http://193.187.173.33:8002/api/providers/openai/v1')"
      ]
     },
     "execution_count": 45,
     "metadata": {},
     "output_type": "execute_result"
    }
   ],
   "source": [
    "model"
   ]
  },
  {
   "cell_type": "code",
   "execution_count": null,
   "metadata": {},
   "outputs": [],
   "source": [
    "mini_results = []\n",
    "for case in tqdm(data):\n",
    "    case_results = {\"topic\": case[\"topic\"]}\n",
    "    triplets = llm_metrics.are_triplets_valid(G=Graph(case[\"graph\"]), model=model)\n",
    "    case_results[\"are_triplets_valid\"] = triplets[\"value\"]\n",
    "    case_results[\"are_triplets_valid_details\"] = triplets[\"description\"]\n",
    "    themes = llm_metrics.is_theme_valid(\n",
    "        G=Graph(case[\"graph\"]), topic=case[\"topic\"], model=model\n",
    "    )\n",
    "    case_results[\"is_theme_valid\"] = themes[\"value\"]\n",
    "    case_results[\"is_theme_valid_details\"] = themes[\"description\"]\n",
    "    case_results[\"all_utterances_present\"] = all_utterances_present(\n",
    "        G=Graph(case[\"graph\"]),\n",
    "        dialogs=[Dialog(messages=x[\"messages\"]) for x in case[\"dialogs\"]],\n",
    "    )\n",
    "\n",
    "    mini_results.append(case_results)\n",
    "\n",
    "df = pd.DataFrame(mini_results)\n",
    "print(df)\n",
    "df.to_csv(\"mini_results.csv\")"
   ]
  },
  {
   "cell_type": "code",
   "execution_count": 43,
   "metadata": {},
   "outputs": [
    {
     "data": {
      "text/plain": [
       "[True, True, True, True, True, True, True, True, True, True]"
      ]
     },
     "execution_count": 43,
     "metadata": {},
     "output_type": "execute_result"
    }
   ],
   "source": [
    "[r[\"is_theme_valid\"] for r in mini_results]"
   ]
  },
  {
   "cell_type": "code",
   "execution_count": 44,
   "metadata": {},
   "outputs": [
    {
     "data": {
      "text/plain": [
       "[True, False, True, True, False, True, True, True, False, False]"
      ]
     },
     "execution_count": 44,
     "metadata": {},
     "output_type": "execute_result"
    }
   ],
   "source": [
    "[r[\"are_triplets_valid\"] for r in mini_results]"
   ]
  },
  {
   "cell_type": "code",
   "execution_count": null,
   "metadata": {},
   "outputs": [],
   "source": [
    "dialog_results = []\n",
    "for case in tqdm(data):\n",
    "    for dialog in case[\"dialogs\"]:\n",
    "        case_results = {\"topic\": case[\"topic\"]}\n",
    "        res = llm_metrics.is_dialog_valid(dialog[\"messages\"], model=model)\n",
    "        case_results[\"is_dialog_valid\"] = res[\"value\"]\n",
    "        case_results[\"is_dialog_valid_details\"] = res[\"description\"]\n",
    "\n",
    "        dialog_results.append(case_results)"
   ]
  },
  {
   "cell_type": "code",
   "execution_count": 14,
   "metadata": {},
   "outputs": [
    {
     "data": {
      "text/plain": [
       "[{'topic': 'Tech Support',\n",
       "  'is_dialog_valid': True,\n",
       "  'is_dialog_valid_details': \"The first message from the assistant naturally starts the dialog by offering help, which is appropriate for a tech support scenario. The final message thanks the user for contacting support and wishes them a nice day, which logically concludes the conversation after the user's issue has been resolved. The dialog appears to be logically finished.\"},\n",
       " {'topic': 'Tech Support',\n",
       "  'is_dialog_valid': True,\n",
       "  'is_dialog_valid_details': 'The first message naturally starts the dialog by introducing tech support and offering assistance. The final message logically connects to the previous dialog by thanking the user after their issue was resolved, indicating a successful conclusion to the conversation.'},\n",
       " {'topic': 'Tech Support',\n",
       "  'is_dialog_valid': True,\n",
       "  'is_dialog_valid_details': 'The first message from the assistant naturally starts the dialog by offering help, which is appropriate for a tech support scenario. The final message logically connects to the previous dialog as it thanks the user after their issue has been resolved, indicating a conclusion to the conversation. Overall, the dialog appears to be logically finished.'},\n",
       " {'topic': 'Tech Support',\n",
       "  'is_dialog_valid': True,\n",
       "  'is_dialog_valid_details': 'The first message naturally starts the dialog by introducing tech support and asking how they can help, which is appropriate for the context. The final message logically connects to the previous dialog as it thanks the user after resolving their issues, indicating a conclusion to the conversation. Overall, the dialog appears to be logically finished.'},\n",
       " {'topic': 'Tech Support',\n",
       "  'is_dialog_valid': True,\n",
       "  'is_dialog_valid_details': 'The first message from the assistant naturally starts the dialog by offering help, which is appropriate for a tech support scenario. The final message logically connects to the previous dialog as the user confirms that their issue has been resolved, allowing the assistant to conclude the conversation politely. Overall, the dialog appears to be logically finished.'},\n",
       " {'topic': 'Tech Support',\n",
       "  'is_dialog_valid': True,\n",
       "  'is_dialog_valid_details': \"The first message from the assistant naturally starts the dialog by offering help, which is appropriate for a tech support scenario. The final message logically connects to the previous dialog as it acknowledges the user's confirmation that the issue has been resolved and provides a courteous closing. The dialog appears to be logically finished, as the user has expressed satisfaction with the assistance received.\"},\n",
       " {'topic': 'food delivery',\n",
       "  'is_dialog_valid': True,\n",
       "  'is_dialog_valid_details': 'The first message welcomes the user and introduces the food delivery service, which is a natural and appropriate way to start the dialog. The final message thanks the user for choosing the service and wishes them a great meal, which logically concludes the conversation after confirming the order details and delivery information. The dialog appears to be logically finished.'},\n",
       " {'topic': 'food delivery',\n",
       "  'is_dialog_valid': True,\n",
       "  'is_dialog_valid_details': 'The first message welcomes the user and sets the context for a food delivery service, which naturally starts the dialog. The final message thanks the user for their choice and wishes them a great meal, logically concluding the conversation after confirming the order details and delivery information. The dialog appears to be logically finished.'},\n",
       " {'topic': 'food delivery',\n",
       "  'is_dialog_valid': True,\n",
       "  'is_dialog_valid_details': 'The first message naturally starts the dialog by welcoming the user and offering assistance, which is appropriate for a food delivery service. The final message logically concludes the conversation by thanking the user and wishing them a good meal, indicating that the service has been successfully provided. The dialog appears to be logically finished.'},\n",
       " {'topic': 'food delivery',\n",
       "  'is_dialog_valid': True,\n",
       "  'is_dialog_valid_details': 'The first message naturally starts the dialog by welcoming the user and offering assistance, which is appropriate for a food delivery service. The final message logically connects to the previous dialog by thanking the user after confirming the correct delivery address, indicating the conversation has reached a conclusion. Overall, the dialog appears to be logically finished.'},\n",
       " {'topic': 'food delivery',\n",
       "  'is_dialog_valid': True,\n",
       "  'is_dialog_valid_details': 'The first message naturally starts the dialog by welcoming the user to the food delivery service and offering assistance. The final message logically connects to the previous dialog by thanking the user for their order and wishing them a good meal, indicating that the conversation has reached a satisfactory conclusion.'},\n",
       " {'topic': 'Medical Appointment Booking',\n",
       "  'is_dialog_valid': True,\n",
       "  'is_dialog_valid_details': 'The first message welcomes the user and offers assistance, which is a natural way to start a dialog in a medical appointment system. The final message confirms the appointment and wishes the user a nice day, logically concluding the conversation after the scheduling process is complete.'},\n",
       " {'topic': 'Medical Appointment Booking',\n",
       "  'is_dialog_valid': True,\n",
       "  'is_dialog_valid_details': 'The first message welcomes the user and sets the context for assistance, which is a natural start to the dialog. The final message confirms the appointment and wishes the user a nice day, logically concluding the conversation after all necessary information has been exchanged. The dialog appears to be logically finished.'},\n",
       " {'topic': 'Medical Appointment Booking',\n",
       "  'is_dialog_valid': True,\n",
       "  'is_dialog_valid_details': 'The first message welcomes the user and sets the context for assistance, which is a natural start to the dialog. The final message confirms the appointment and wishes the user a nice day, logically concluding the conversation after all necessary information has been exchanged.'},\n",
       " {'topic': 'Medical Appointment Booking',\n",
       "  'is_dialog_valid': True,\n",
       "  'is_dialog_valid_details': 'The first message welcomes the user to the Medical Appointment System and invites them to ask for assistance, which is a natural and appropriate way to start the dialog. The final message confirms the successful scheduling of the appointment and wishes the user a nice day, logically concluding the conversation after all necessary information has been exchanged. The dialog appears to be logically finished.'},\n",
       " {'topic': 'library',\n",
       "  'is_dialog_valid': True,\n",
       "  'is_dialog_valid_details': 'The first message welcomes the user and offers assistance, which is a natural and appropriate way to start a conversation in a library setting. The final message thanks the user for their visit and wishes them a great day, which logically concludes the interaction after the user has indicated they do not need further assistance. The dialog appears to be logically finished.'},\n",
       " {'topic': 'library',\n",
       "  'is_dialog_valid': True,\n",
       "  'is_dialog_valid_details': 'The first message welcomes the user and offers assistance, which is a natural and appropriate way to start a conversation in a library setting. The final message thanks the user for their interaction and wishes them a great day, which logically concludes the dialog after the user indicates they have no further requests. The dialog appears to be logically finished.'},\n",
       " {'topic': 'library',\n",
       "  'is_dialog_valid': True,\n",
       "  'is_dialog_valid_details': 'The first message welcomes the user and offers assistance, which is a natural way to start a conversation in a library setting. The final message thanks the user and wishes them a great day after completing their request, which logically concludes the interaction. The dialog appears to be finished as the user has indicated they do not need further assistance.'},\n",
       " {'topic': 'library',\n",
       "  'is_dialog_valid': True,\n",
       "  'is_dialog_valid_details': 'The first message welcomes the user and offers assistance, which is a natural and appropriate way to start a conversation in a library setting. The final message thanks the user for their visit and wishes them a great day, which logically concludes the interaction after the user has indicated they do not need further assistance. The dialog appears to be logically finished.'},\n",
       " {'topic': 'library',\n",
       "  'is_dialog_valid': True,\n",
       "  'is_dialog_valid_details': 'The first message welcomes the user to the library and offers assistance, which is a natural and appropriate way to start the dialog. The final message thanks the user for using the library services and wishes them a great day, which logically concludes the conversation after the user indicates they are done for the day. The dialog appears to be logically finished.'},\n",
       " {'topic': 'auto care',\n",
       "  'is_dialog_valid': True,\n",
       "  'is_dialog_valid_details': 'The first message naturally starts the dialog by welcoming the user and offering assistance, which is appropriate for a service center. The final message confirms the appointment and wishes the user a great day, logically concluding the conversation after all necessary arrangements have been made. The dialog appears to be logically finished.'},\n",
       " {'topic': 'auto care',\n",
       "  'is_dialog_valid': True,\n",
       "  'is_dialog_valid_details': 'The first message welcomes the user and offers assistance, which is a natural and appropriate way to start the dialog. The final message confirms the appointment and wishes the user a great day, logically concluding the conversation after all necessary arrangements have been made. The dialog appears to be logically finished.'},\n",
       " {'topic': 'auto care',\n",
       "  'is_dialog_valid': True,\n",
       "  'is_dialog_valid_details': 'The first message welcomes the user and offers assistance, which is a natural way to start a conversation at a service center. The final message confirms the appointment and wishes the user a great day, logically concluding the dialog after the user has agreed to the appointment. The dialog appears to be logically finished.'},\n",
       " {'topic': 'auto care',\n",
       "  'is_dialog_valid': True,\n",
       "  'is_dialog_valid_details': 'The first message welcomes the user and offers assistance, which is a natural and appropriate way to start the dialog. The final message confirms the appointment and wishes the user a great day, logically concluding the conversation after all necessary arrangements have been made. The dialog appears to be logically finished.'},\n",
       " {'topic': 'auto care',\n",
       "  'is_dialog_valid': True,\n",
       "  'is_dialog_valid_details': 'The first message welcomes the user and offers assistance, which is a natural and appropriate way to start the dialog. The final message confirms the appointment and wishes the user a great day, logically concluding the conversation after all necessary arrangements have been made. The dialog appears to be logically finished.'},\n",
       " {'topic': 'auto care',\n",
       "  'is_dialog_valid': True,\n",
       "  'is_dialog_valid_details': 'The first message welcomes the user and offers assistance, which naturally starts the dialog. The final message confirms the appointment and wishes the user a great day, logically concluding the conversation after all necessary arrangements have been made. The dialog appears to be logically finished.'},\n",
       " {'topic': 'auto care',\n",
       "  'is_dialog_valid': True,\n",
       "  'is_dialog_valid_details': 'The first message welcomes the user and offers assistance, which is a natural and appropriate way to start the dialog. The final message confirms the appointment and wishes the user a great day, logically concluding the conversation after all necessary arrangements have been made. The dialog appears to be logically finished.'},\n",
       " {'topic': 'auto care',\n",
       "  'is_dialog_valid': True,\n",
       "  'is_dialog_valid_details': 'The first message welcomes the user and offers assistance, which is a natural and appropriate way to start the dialog. The final message confirms the appointment and wishes the user a great day, logically concluding the conversation after all necessary arrangements have been made. The dialog appears to be logically finished.'},\n",
       " {'topic': 'booking a hotel room',\n",
       "  'is_dialog_valid': True,\n",
       "  'is_dialog_valid_details': \"The first message 'Good evening, how can I help?' naturally starts the dialog by inviting the user to express their needs. The final message 'Thank you. This is your key, have a good stay!' logically concludes the conversation by providing the user with their key after completing the booking process. The dialog appears to be logically finished.\"},\n",
       " {'topic': 'booking a hotel room',\n",
       "  'is_dialog_valid': True,\n",
       "  'is_dialog_valid_details': \"The first message 'Good evening, how can I help?' naturally starts the dialog by inviting the user to express their needs. The final message 'Thank you. This is your key, have a good stay!' logically connects to the previous dialog as it concludes the booking process and provides the user with their key, indicating that the conversation has reached a satisfactory end. Overall, the dialog appears logically finished.\"},\n",
       " {'topic': 'booking a hotel room',\n",
       "  'is_dialog_valid': True,\n",
       "  'is_dialog_valid_details': \"The first message 'Good evening, how can I help?' naturally starts the dialog by inviting the user to express their needs. The final message 'Okay, goodbye!' logically connects to the previous dialog as the user has indicated they do not need further assistance. The dialog appears to be logically finished.\"},\n",
       " {'topic': 'abstract purchase',\n",
       "  'is_dialog_valid': True,\n",
       "  'is_dialog_valid_details': 'The first message naturally starts the dialog by inviting the user to make an order, which is appropriate for a service interaction. The final message logically connects to the previous dialog by summarizing the order process and informing the user about the next steps, indicating that the conversation has reached a logical conclusion.'},\n",
       " {'topic': 'abstract purchase',\n",
       "  'is_dialog_valid': True,\n",
       "  'is_dialog_valid_details': 'The first message naturally starts the dialog by greeting the user and inviting them to make an order. The final message logically connects to the previous dialog by confirming the order process and informing the user about the next steps regarding their order. The dialog appears to be logically finished as it concludes with the assistant providing information about the check and the readiness of the order.'},\n",
       " {'topic': 'chatting with a smart assistant',\n",
       "  'is_dialog_valid': False,\n",
       "  'is_dialog_valid_details': \"The first message 'Chatting' does not provide a clear context or purpose for the conversation, making it an awkward start. The final message 'Proceeding to weather skill' is a logical response to the user's question about the weather, but the overall dialog lacks a coherent flow and feels unfinished.\"},\n",
       " {'topic': 'chatting with a smart assistant',\n",
       "  'is_dialog_valid': False,\n",
       "  'is_dialog_valid_details': \"The first message 'Chatting' does not provide a clear context or purpose for the conversation, making it an awkward start. The final message 'Proceeding to weather skill' is a logical response to the user's question about the weather, but the overall dialog feels incomplete as it does not conclude the interaction.\"},\n",
       " {'topic': 'chatting with a smart assistant',\n",
       "  'is_dialog_valid': True,\n",
       "  'is_dialog_valid_details': \"The first message 'Chatting' naturally starts the dialog as it indicates the assistant is ready to engage. The final message 'Proceeding to music skill' logically connects to the user's request to turn on the music, indicating the assistant is taking action based on the user's input. The dialog appears to be logically finished as it indicates a transition to the next step.\"},\n",
       " {'topic': 'chatting with a smart assistant',\n",
       "  'is_dialog_valid': True,\n",
       "  'is_dialog_valid_details': \"The first message 'Chatting' serves as a natural opener for the dialog, indicating the assistant is ready to engage. The final message 'Proceeding to timer skill' logically follows the user's request to set up a timer, indicating the assistant's action in response to the user's input. The dialog appears to be logically finished as it transitions into the next step of the user's request.\"},\n",
       " {'topic': 'taking a loan in a bank',\n",
       "  'is_dialog_valid': True,\n",
       "  'is_dialog_valid_details': \"The first message 'Is there anything I can help you with?' naturally starts the dialog by inviting the user to express their needs. The final message 'Firstly you need to create a deposit in our bank' logically follows the user's request for a loan, as it provides a necessary step for non-clients. The dialog appears to be logically finished, as it concludes with a clear action for the user.\"},\n",
       " {'topic': 'taking a loan in a bank',\n",
       "  'is_dialog_valid': True,\n",
       "  'is_dialog_valid_details': 'The first message naturally starts the dialog by offering assistance, which is appropriate for an assistant. The final message logically connects to the previous dialog by providing a clear next step for the user to take in the loan process, indicating that the conversation has reached a logical conclusion.'},\n",
       " {'topic': 'taking a loan in a bank',\n",
       "  'is_dialog_valid': True,\n",
       "  'is_dialog_valid_details': 'The first message naturally starts the dialog by offering assistance, which is appropriate for an assistant. The final message logically connects to the previous dialog by indicating the next step in the loan process after the user expressed readiness. The dialog appears to be logically finished as it concludes with a clear action plan.'},\n",
       " {'topic': 'taking a loan in a bank',\n",
       "  'is_dialog_valid': True,\n",
       "  'is_dialog_valid_details': 'The first message naturally starts the dialog by offering assistance, which is appropriate for an assistant. The final message logically connects to the previous dialog, as the user indicates they have other questions instead of proceeding with the loan, suggesting the conversation is still ongoing and not yet finished.'},\n",
       " {'topic': 'coffee shop',\n",
       "  'is_dialog_valid': False,\n",
       "  'is_dialog_valid_details': 'The first message logically starts the dialog by welcoming the user and asking for their order. However, the final message does not logically conclude the conversation, as it only states that green tea is unavailable without offering an alternative or closing the dialog. This leaves the conversation feeling unfinished.'},\n",
       " {'topic': 'coffee shop',\n",
       "  'is_dialog_valid': True,\n",
       "  'is_dialog_valid_details': 'The first message welcomes the user to the coffee shop and asks what they would like, which is a natural and appropriate way to start the conversation. The final message asks whether the user wants their order for here or takeaway, which logically follows the previous questions about their coffee order and water. The dialog appears to be logically finished as it leads to a decision point for the user.'},\n",
       " {'topic': 'coffee shop',\n",
       "  'is_dialog_valid': True,\n",
       "  'is_dialog_valid_details': 'The first message welcomes the user to the coffee shop and asks what they would like, which is a natural and appropriate way to start the conversation. The final message asks whether the order is for here or takeaway, which logically follows the previous questions about the coffee order. The dialog appears to be progressing towards completion, as it is addressing all necessary aspects of the order.'},\n",
       " {'topic': 'coffee shop',\n",
       "  'is_dialog_valid': True,\n",
       "  'is_dialog_valid_details': 'The first message welcomes the user to the coffee shop and asks what they would like, which is a natural and appropriate way to start the conversation. The final message asks whether the user wants their order for here or takeaway, which logically follows the previous discussion about their drink order. The dialog appears to be in a logical progression and is not abruptly finished.'},\n",
       " {'topic': 'coffee shop',\n",
       "  'is_dialog_valid': False,\n",
       "  'is_dialog_valid_details': \"The first message logically starts the dialog by welcoming the user and asking for their order. However, the final message 'Here or takeaway?' is inconsistent with the user's previous response of 'Takeaway.' The dialog does not appear to be logically finished, as the assistant's final question does not align with the user's stated preference.\"}]"
      ]
     },
     "execution_count": 14,
     "metadata": {},
     "output_type": "execute_result"
    }
   ],
   "source": [
    "dialog_results"
   ]
  },
  {
   "cell_type": "code",
   "execution_count": 16,
   "metadata": {},
   "outputs": [
    {
     "name": "stdout",
     "output_type": "stream",
     "text": [
      "                              topic  is_dialog_valid  \\\n",
      "0                      Tech Support               True   \n",
      "1                      Tech Support               True   \n",
      "2                      Tech Support               True   \n",
      "3                      Tech Support               True   \n",
      "4                      Tech Support               True   \n",
      "5                      Tech Support               True   \n",
      "6                     food delivery               True   \n",
      "7                     food delivery               True   \n",
      "8                     food delivery               True   \n",
      "9                     food delivery               True   \n",
      "10                    food delivery               True   \n",
      "11      Medical Appointment Booking               True   \n",
      "12      Medical Appointment Booking               True   \n",
      "13      Medical Appointment Booking               True   \n",
      "14      Medical Appointment Booking               True   \n",
      "15                          library               True   \n",
      "16                          library               True   \n",
      "17                          library               True   \n",
      "18                          library               True   \n",
      "19                          library               True   \n",
      "20                        auto care               True   \n",
      "21                        auto care               True   \n",
      "22                        auto care               True   \n",
      "23                        auto care               True   \n",
      "24                        auto care               True   \n",
      "25                        auto care               True   \n",
      "26                        auto care               True   \n",
      "27                        auto care               True   \n",
      "28             booking a hotel room               True   \n",
      "29             booking a hotel room               True   \n",
      "30             booking a hotel room               True   \n",
      "31                abstract purchase               True   \n",
      "32                abstract purchase               True   \n",
      "33  chatting with a smart assistant              False   \n",
      "34  chatting with a smart assistant              False   \n",
      "35  chatting with a smart assistant               True   \n",
      "36  chatting with a smart assistant               True   \n",
      "37          taking a loan in a bank               True   \n",
      "38          taking a loan in a bank               True   \n",
      "39          taking a loan in a bank               True   \n",
      "40          taking a loan in a bank               True   \n",
      "41                      coffee shop              False   \n",
      "42                      coffee shop               True   \n",
      "43                      coffee shop               True   \n",
      "44                      coffee shop               True   \n",
      "45                      coffee shop              False   \n",
      "\n",
      "                            is_dialog_valid_details  \n",
      "0   The first message from the assistant naturally...  \n",
      "1   The first message naturally starts the dialogu...  \n",
      "2   The first message from the assistant naturally...  \n",
      "3   The first message naturally starts the dialogu...  \n",
      "4   The first message from the assistant naturally...  \n",
      "5   The first message from the assistant naturally...  \n",
      "6   The first message welcomes the user and introd...  \n",
      "7   The first message welcomes the user and sets t...  \n",
      "8   The first message naturally starts the dialogu...  \n",
      "9   The first message naturally starts the dialogu...  \n",
      "10  The first message naturally starts the dialogu...  \n",
      "11  The first message welcomes the user and offers...  \n",
      "12  The first message welcomes the user and sets t...  \n",
      "13  The first message welcomes the user and sets t...  \n",
      "14  The first message welcomes the user to the Med...  \n",
      "15  The first message welcomes the user and offers...  \n",
      "16  The first message welcomes the user and offers...  \n",
      "17  The first message welcomes the user and offers...  \n",
      "18  The first message welcomes the user and offers...  \n",
      "19  The first message welcomes the user to the lib...  \n",
      "20  The first message naturally starts the dialogu...  \n",
      "21  The first message welcomes the user and offers...  \n",
      "22  The first message welcomes the user and offers...  \n",
      "23  The first message welcomes the user and offers...  \n",
      "24  The first message welcomes the user and offers...  \n",
      "25  The first message welcomes the user and offers...  \n",
      "26  The first message welcomes the user and offers...  \n",
      "27  The first message welcomes the user and offers...  \n",
      "28  The first message 'Good evening, how can I hel...  \n",
      "29  The first message 'Good evening, how can I hel...  \n",
      "30  The first message 'Good evening, how can I hel...  \n",
      "31  The first message naturally starts the dialogu...  \n",
      "32  The first message naturally starts the dialogu...  \n",
      "33  The first message 'Chatting' does not provide ...  \n",
      "34  The first message 'Chatting' does not provide ...  \n",
      "35  The first message 'Chatting' naturally starts ...  \n",
      "36  The first message 'Chatting' serves as a natur...  \n",
      "37  The first message 'Is there anything I can hel...  \n",
      "38  The first message naturally starts the dialogu...  \n",
      "39  The first message naturally starts the dialogu...  \n",
      "40  The first message naturally starts the dialogu...  \n",
      "41  The first message logically starts the dialogu...  \n",
      "42  The first message welcomes the user to the cof...  \n",
      "43  The first message welcomes the user to the cof...  \n",
      "44  The first message welcomes the user to the cof...  \n",
      "45  The first message logically starts the dialogu...  \n"
     ]
    }
   ],
   "source": [
    "df = pd.DataFrame(dialog_results)\n",
    "print(df)\n",
    "df.to_csv(\"dialog_results.csv\")"
   ]
  },
  {
   "cell_type": "code",
   "execution_count": null,
   "metadata": {},
   "outputs": [],
   "source": [
    "data = read_json(\n",
    "    \"../../dev_packages/chatsky_llm_autoconfig/chatsky_llm_autoconfig/autometrics/test_data/complex_graphs.json\"\n",
    ")\n",
    "dialog_results = []\n",
    "for case in tqdm(data):\n",
    "    for dialog in case[\"dialogs\"]:\n",
    "        case_results = {\"topic\": case[\"topic\"]}\n",
    "        res = llm_metrics.is_dialog_valid(dialog[\"messages\"], model=model)\n",
    "        case_results[\"is_dialog_valid\"] = res[\"value\"]\n",
    "        case_results[\"is_dialog_valid_details\"] = res[\"description\"]\n",
    "\n",
    "        dialog_results.append(case_results)\n",
    "df = pd.DataFrame(dialog_results)\n",
    "print(df)\n",
    "df.to_csv(\"dialog_complex_results.csv\")"
   ]
  }
 ],
 "metadata": {
  "kernelspec": {
   "display_name": ".venv",
   "language": "python",
   "name": "python3"
  },
  "language_info": {
   "codemirror_mode": {
    "name": "ipython",
    "version": 3
   },
   "file_extension": ".py",
   "mimetype": "text/x-python",
   "name": "python",
   "nbconvert_exporter": "python",
   "pygments_lexer": "ipython3",
   "version": "3.12.8"
  }
 },
 "nbformat": 4,
 "nbformat_minor": 2
}
