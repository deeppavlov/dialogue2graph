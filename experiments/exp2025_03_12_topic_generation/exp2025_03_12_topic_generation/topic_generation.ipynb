{
 "cells": [
  {
   "cell_type": "code",
   "execution_count": 5,
   "metadata": {},
   "outputs": [
    {
     "name": "stderr",
     "output_type": "stream",
     "text": [
      "/home/peshkichev/miniconda3/envs/py311/lib/python3.11/site-packages/pydantic/_internal/_fields.py:192: UserWarning: Field name \"validate\" in \"Dialogue\" shadows an attribute in parent \"BaseModel\"\n",
      "  warnings.warn(\n",
      "[autoreload of dialogue2graph.metrics.llm_metrics.metrics failed: Traceback (most recent call last):\n",
      "  File \"/home/peshkichev/miniconda3/envs/py311/lib/python3.11/site-packages/IPython/extensions/autoreload.py\", line 276, in check\n",
      "    superreload(m, reload, self.old_objects)\n",
      "  File \"/home/peshkichev/miniconda3/envs/py311/lib/python3.11/site-packages/IPython/extensions/autoreload.py\", line 475, in superreload\n",
      "    module = reload(module)\n",
      "             ^^^^^^^^^^^^^^\n",
      "  File \"/home/peshkichev/miniconda3/envs/py311/lib/python3.11/importlib/__init__.py\", line 169, in reload\n",
      "    _bootstrap._exec(spec, module)\n",
      "  File \"<frozen importlib._bootstrap>\", line 621, in _exec\n",
      "  File \"<frozen importlib._bootstrap_external>\", line 940, in exec_module\n",
      "  File \"<frozen importlib._bootstrap>\", line 241, in _call_with_frames_removed\n",
      "  File \"/data/home/peshkichev/projects/chatsky-llm-autoconfig/dialogue2graph/metrics/llm_metrics/metrics.py\", line 18, in <module>\n",
      "    from dialogue2graph.metrics.llm_metrics import compare_graphs_prompt, graph_example\n",
      "ImportError: cannot import name 'compare_graphs_prompt' from 'dialogue2graph.metrics.llm_metrics' (/data/home/peshkichev/projects/chatsky-llm-autoconfig/dialogue2graph/metrics/llm_metrics/__init__.py)\n",
      "]\n"
     ]
    },
    {
     "name": "stdout",
     "output_type": "stream",
     "text": [
      "The autoreload extension is already loaded. To reload it, use:\n",
      "  %reload_ext autoreload\n"
     ]
    }
   ],
   "source": [
    "%load_ext autoreload\n",
    "%autoreload 2"
   ]
  },
  {
   "cell_type": "code",
   "execution_count": 17,
   "metadata": {},
   "outputs": [],
   "source": [
    "from dialogue2graph.datasets.complex_dialogues.generation import LoopedGraphGenerator"
   ]
  },
  {
   "cell_type": "code",
   "execution_count": 18,
   "metadata": {},
   "outputs": [],
   "source": [
    "from dialogue2graph.pipelines.core.graph import Graph\n",
    "from dialogue2graph.pipelines.core.dialogue_sampling import RecursiveDialogueSampler\n",
    "from dialogue2graph.datasets.complex_dialogues.prompts import graph_example"
   ]
  },
  {
   "cell_type": "code",
   "execution_count": 19,
   "metadata": {},
   "outputs": [],
   "source": [
    "sampler = RecursiveDialogueSampler()"
   ]
  },
  {
   "cell_type": "code",
   "execution_count": 20,
   "metadata": {},
   "outputs": [
    {
     "name": "stdout",
     "output_type": "stream",
     "text": [
      "ENDS:  [9]\n",
      "NODES:  [[1, 2, 5, 10, 11, 6, 7, 9], [1, 5, 10, 11, 6, 7, 9], [1, 2, 5, 7, 9], [1, 3, 8, 9], [1, 4, 8, 9], [1, 5, 7, 9]]\n",
      "REM:  [[1, 5, 10, 11, 6, 7, 9], [1, 2, 5, 7, 9], [1, 3, 8, 9], [1, 4, 8, 9]]\n",
      "Graph has all the dialogues\n"
     ]
    }
   ],
   "source": [
    "dias = sampler.invoke(Graph(graph_example),5)"
   ]
  },
  {
   "cell_type": "code",
   "execution_count": 9,
   "metadata": {},
   "outputs": [
    {
     "data": {
      "text/plain": [
       "dialogue2graph.pipelines.core.dialogue.Dialogue"
      ]
     },
     "execution_count": 9,
     "metadata": {},
     "output_type": "execute_result"
    }
   ],
   "source": [
    "type(dias[0])"
   ]
  },
  {
   "cell_type": "code",
   "execution_count": 10,
   "metadata": {},
   "outputs": [],
   "source": [
    "from typing import Optional\n",
    "from pydantic_settings import BaseSettings, SettingsConfigDict\n",
    "\n",
    "\n",
    "class EnvSettings(BaseSettings, case_sensitive=True):\n",
    "\n",
    "    model_config = SettingsConfigDict(env_file=\"./.env\", env_file_encoding=\"utf-8\")\n",
    "\n",
    "    OPENAI_API_KEY: Optional[str]\n",
    "    OPENAI_BASE_URL: Optional[str]\n",
    "    HUGGINGFACE_TOKEN: Optional[str]\n",
    "    EMBEDDER_DEVICE: Optional[str]"
   ]
  },
  {
   "cell_type": "code",
   "execution_count": 11,
   "metadata": {},
   "outputs": [],
   "source": [
    "env_settings = EnvSettings()"
   ]
  },
  {
   "cell_type": "code",
   "execution_count": 12,
   "metadata": {},
   "outputs": [],
   "source": [
    "from langchain.chat_models import ChatOpenAI"
   ]
  },
  {
   "cell_type": "code",
   "execution_count": 13,
   "metadata": {},
   "outputs": [
    {
     "name": "stderr",
     "output_type": "stream",
     "text": [
      "/tmp/ipykernel_3695116/2894222870.py:1: LangChainDeprecationWarning: The class `ChatOpenAI` was deprecated in LangChain 0.0.10 and will be removed in 1.0. An updated version of the class exists in the :class:`~langchain-openai package and should be used instead. To use it run `pip install -U :class:`~langchain-openai` and import as `from :class:`~langchain_openai import ChatOpenAI``.\n",
      "  generation_model = ChatOpenAI(model=\"chatgpt-4o-latest\", api_key=env_settings.OPENAI_API_KEY, base_url=env_settings.OPENAI_BASE_URL, temperature=1)\n"
     ]
    }
   ],
   "source": [
    "generation_model = ChatOpenAI(model=\"chatgpt-4o-latest\", api_key=env_settings.OPENAI_API_KEY, base_url=env_settings.OPENAI_BASE_URL, temperature=1)\n",
    "validation_model = ChatOpenAI(model=\"gpt-3.5-turbo\", api_key=env_settings.OPENAI_API_KEY, base_url=env_settings.OPENAI_BASE_URL)"
   ]
  },
  {
   "cell_type": "code",
   "execution_count": 25,
   "metadata": {},
   "outputs": [],
   "source": [
    "generator = LoopedGraphGenerator(generation_model,validation_model)"
   ]
  },
  {
   "cell_type": "code",
   "execution_count": 26,
   "metadata": {},
   "outputs": [
    {
     "name": "stderr",
     "output_type": "stream",
     "text": [
      "INFO:dialogue2graph.datasets.complex_dialogues.generation:Generating Graph ...\n",
      "INFO:dialogue2graph.utils.prompt_caching:Generated UUID: 00000000-0000-0000-0000-00000000002a\n"
     ]
    },
    {
     "name": "stdout",
     "output_type": "stream",
     "text": [
      "\n",
      "==================================================\n",
      "Generating graph for topic: booking a table\n",
      "==================================================\n"
     ]
    },
    {
     "name": "stderr",
     "output_type": "stream",
     "text": [
      "INFO:httpx:HTTP Request: POST http://193.187.173.33:8002/api/providers/openai/v1/chat/completions \"HTTP/1.1 200 OK\"\n",
      "INFO:dialogue2graph.datasets.complex_dialogues.generation:Graph generated is {'edges': [{'source': 1, 'target': 2, 'utterances': [\"I'd like to book a table.\", 'Can you help me find a restaurant and reserve a table?']}, {'source': 2, 'target': 3, 'utterances': [\"I'm looking for an Italian restaurant downtown.\", 'I want to book a table in a sushi place near the river.']}, {'source': 3, 'target': 4, 'utterances': ['I want it for Saturday at 7 PM.', 'Can I book it for tomorrow evening around 8?']}, {'source': 4, 'target': 5, 'utterances': [\"It'll be for 4 people.\", 'Just 2 of us.']}, {'source': 5, 'target': 9, 'utterances': [\"No, that's everything. Thanks!\", 'All good, I appreciate it!']}, {'source': 5, 'target': 8, 'utterances': [\"Can you give me the restaurant's address and phone number?\", 'Could you share the contact details of the place?']}, {'source': 5, 'target': 6, 'utterances': ['Actually, can I change the time to 8 PM?', 'Wait, can you book it for next Friday instead?']}, {'source': 6, 'target': 5, 'utterances': ['Make it 9 PM, please.', \"Let's move it to Sunday at noon.\"]}, {'source': 5, 'target': 7, 'utterances': ['Oh, I need it for 3 people instead of 4.', 'Wait, change it to 6 guests, please.']}, {'source': 7, 'target': 5, 'utterances': ['Alright, book it for 3 people then.', 'Make it 6 guests, please.']}, {'source': 5, 'target': 9, 'utterances': [\"That's all, thank you!\", 'No further changes, appreciate the help.']}, {'source': 8, 'target': 9, 'utterances': [\"Great, that's all I needed. Thanks!\", 'Awesome, appreciate your help!']}, {'source': 2, 'target': 9, 'utterances': ['Never mind, I changed my mind.', \"Actually, I don't need a reservation right now, thanks.\"]}], 'nodes': [{'id': 1, 'label': 'start', 'is_start': True, 'utterances': ['Hey there! How can I help you today?']}, {'id': 2, 'label': 'ask_restaurant_details', 'is_start': False, 'utterances': ['Sure! What type of restaurant are you looking for? Any particular cuisine or location in mind?']}, {'id': 3, 'label': 'ask_date_and_time', 'is_start': False, 'utterances': ['Got it! What date and time would you like to book the table for?']}, {'id': 4, 'label': 'ask_guests_count', 'is_start': False, 'utterances': ['Sounds good. How many people will be joining?']}, {'id': 5, 'label': 'confirm_booking', 'is_start': False, 'utterances': ['Great! Your table is booked for {number} guests at {time} on {date}. Would you like any special requests or anything else?', \"I've got your reservation confirmed! Your table is set for {number} people at {time}. Need anything else?\"]}, {'id': 6, 'label': 'modify_date_or_time', 'is_start': False, 'utterances': ['Sure, what new date and time would you like instead?']}, {'id': 7, 'label': 'modify_guest_count', 'is_start': False, 'utterances': ['No problem, how many people should I update the booking for?']}, {'id': 8, 'label': 'provide_contact_info', 'is_start': False, 'utterances': ['The restaurant is located at {address}. You can reach them at {phone}.', \"Here's the info you need: Address - {address}, Phone - {phone}.\"]}, {'id': 9, 'label': 'closing', 'is_start': False, 'utterances': [\"You're all set! Have a great meal!\", 'Glad to help! Enjoy your time at the restaurant!', 'Reservation made! Hope you have a wonderful dining experience!']}]}\n",
      "INFO:dialogue2graph.datasets.complex_dialogues.generation:🔍 Checking graph requirements...\n",
      "INFO:dialogue2graph.datasets.complex_dialogues.generation:🔄 Found 2 cycles in the graph:\n",
      "INFO:dialogue2graph.datasets.complex_dialogues.generation:Cycle 1: 5 -> 6 -> 5\n",
      "INFO:dialogue2graph.datasets.complex_dialogues.generation:Cycle 2: 5 -> 7 -> 5\n",
      "INFO:dialogue2graph.datasets.complex_dialogues.generation:✅ Graph meets cycle requirements\n",
      "INFO:dialogue2graph.datasets.complex_dialogues.generation:Sampling dialogues...\n"
     ]
    },
    {
     "name": "stdout",
     "output_type": "stream",
     "text": [
      "ENDS:  [9]\n",
      "NODES:  [[1, 2, 3, 4, 5, 6, 5, 7, 5, 8, 9], [1, 2, 3, 4, 5, 7, 5, 6, 5, 8, 9], [1, 2, 3, 4, 5, 6, 5, 7, 5, 9], [1, 2, 3, 4, 5, 7, 5, 6, 5, 9], [1, 2, 3, 4, 5, 6, 5, 8, 9], [1, 2, 3, 4, 5, 7, 5, 8, 9], [1, 2, 3, 4, 5, 6, 5, 9], [1, 2, 3, 4, 5, 7, 5, 9], [1, 2, 3, 4, 5, 8, 9], [1, 2, 3, 4, 5, 9], [1, 2, 9]]\n",
      "REM:  [[1, 2, 3, 4, 5, 6, 5, 9], [1, 2, 3, 4, 5, 7, 5, 9], [1, 2, 3, 4, 5, 8, 9], [1, 2, 9]]\n"
     ]
    },
    {
     "name": "stderr",
     "output_type": "stream",
     "text": [
      "INFO:dialogue2graph.datasets.complex_dialogues.generation:Sampled 65 dialogues\n"
     ]
    },
    {
     "name": "stdout",
     "output_type": "stream",
     "text": [
      "Graph has all the dialogues\n",
      "Graph has all the dialogues\n"
     ]
    },
    {
     "name": "stderr",
     "output_type": "stream",
     "text": [
      "INFO:httpx:HTTP Request: POST http://193.187.173.33:8002/api/providers/openai/v1/chat/completions \"HTTP/1.1 200 OK\"\n",
      "INFO:dialogue2graph.datasets.complex_dialogues.generation:Validating and fixing transitions...\n",
      "INFO:dialogue2graph.datasets.complex_dialogues.generation:Validating initial graph\n",
      "INFO:httpx:HTTP Request: POST http://193.187.173.33:8002/api/providers/openai/v1/chat/completions \"HTTP/1.1 200 OK\"\n",
      "INFO:httpx:HTTP Request: POST http://193.187.173.33:8002/api/providers/openai/v1/chat/completions \"HTTP/1.1 200 OK\"\n",
      "INFO:httpx:HTTP Request: POST http://193.187.173.33:8002/api/providers/openai/v1/chat/completions \"HTTP/1.1 200 OK\"\n",
      "INFO:httpx:HTTP Request: POST http://193.187.173.33:8002/api/providers/openai/v1/chat/completions \"HTTP/1.1 200 OK\"\n",
      "INFO:httpx:HTTP Request: POST http://193.187.173.33:8002/api/providers/openai/v1/chat/completions \"HTTP/1.1 200 OK\"\n",
      "INFO:httpx:HTTP Request: POST http://193.187.173.33:8002/api/providers/openai/v1/chat/completions \"HTTP/1.1 200 OK\"\n",
      "INFO:httpx:HTTP Request: POST http://193.187.173.33:8002/api/providers/openai/v1/chat/completions \"HTTP/1.1 200 OK\"\n",
      "INFO:httpx:HTTP Request: POST http://193.187.173.33:8002/api/providers/openai/v1/chat/completions \"HTTP/1.1 200 OK\"\n",
      "INFO:httpx:HTTP Request: POST http://193.187.173.33:8002/api/providers/openai/v1/chat/completions \"HTTP/1.1 200 OK\"\n",
      "INFO:httpx:HTTP Request: POST http://193.187.173.33:8002/api/providers/openai/v1/chat/completions \"HTTP/1.1 200 OK\"\n",
      "INFO:httpx:HTTP Request: POST http://193.187.173.33:8002/api/providers/openai/v1/chat/completions \"HTTP/1.1 200 OK\"\n",
      "INFO:httpx:HTTP Request: POST http://193.187.173.33:8002/api/providers/openai/v1/chat/completions \"HTTP/1.1 200 OK\"\n",
      "INFO:dialogue2graph.datasets.complex_dialogues.generation:Finished validating initial graph\n",
      "INFO:dialogue2graph.datasets.complex_dialogues.generation:Finished validating and fixing transitions\n"
     ]
    },
    {
     "name": "stdout",
     "output_type": "stream",
     "text": [
      "Sampling dialogues...\n",
      "ENDS:  [9]\n",
      "NODES:  [[1, 2, 3, 4, 5, 6, 5, 7, 5, 8, 9], [1, 2, 3, 4, 5, 7, 5, 6, 5, 8, 9], [1, 2, 3, 4, 5, 6, 5, 7, 5, 9], [1, 2, 3, 4, 5, 7, 5, 6, 5, 9], [1, 2, 3, 4, 5, 6, 5, 8, 9], [1, 2, 3, 4, 5, 7, 5, 8, 9], [1, 2, 3, 4, 5, 6, 5, 9], [1, 2, 3, 4, 5, 7, 5, 9], [1, 2, 3, 4, 5, 8, 9], [1, 2, 3, 4, 5, 9], [1, 2, 9]]\n",
      "REM:  [[1, 2, 3, 4, 5, 6, 5, 9], [1, 2, 3, 4, 5, 7, 5, 9], [1, 2, 3, 4, 5, 8, 9], [1, 2, 9]]\n"
     ]
    },
    {
     "name": "stderr",
     "output_type": "stream",
     "text": [
      "INFO:dialogue2graph.datasets.complex_dialogues.generation:going to return: {'edges': [{'source': 1, 'target': 2, 'utterances': [\"I'd like to book a table.\", 'Can you help me find a restaurant and reserve a table?']}, {'source': 2, 'target': 3, 'utterances': [\"I'm looking for an Italian restaurant downtown.\", 'I want to book a table in a sushi place near the river.']}, {'source': 3, 'target': 4, 'utterances': ['I want it for Saturday at 7 PM.', 'Can I book it for tomorrow evening around 8?']}, {'source': 4, 'target': 5, 'utterances': [\"It'll be for 4 people.\", 'Just 2 of us.']}, {'source': 5, 'target': 8, 'utterances': [\"Can you give me the restaurant's address and phone number?\", 'Could you share the contact details of the place?']}, {'source': 5, 'target': 6, 'utterances': ['Actually, can I change the time to 8 PM?', 'Wait, can you book it for next Friday instead?']}, {'source': 6, 'target': 5, 'utterances': ['Make it 9 PM, please.', \"Let's move it to Sunday at noon.\"]}, {'source': 5, 'target': 7, 'utterances': ['Oh, I need it for 3 people instead of 4.', 'Wait, change it to 6 guests, please.']}, {'source': 7, 'target': 5, 'utterances': ['Alright, book it for 3 people then.', 'Make it 6 guests, please.']}, {'source': 8, 'target': 9, 'utterances': [\"Great, that's all I needed. Thanks!\", 'Awesome, appreciate your help!']}, {'source': 2, 'target': 9, 'utterances': ['Never mind, I changed my mind.', \"Actually, I don't need a reservation right now, thanks.\"]}, {'source': 5, 'target': 9, 'utterances': [\"No, that's everything. Thanks!\", 'No further changes, appreciate the help.', \"That's all, thank you!\", 'All good, I appreciate it!']}], 'nodes': [{'id': 1, 'label': 'start', 'is_start': True, 'utterances': ['Hey there! How can I help you today?']}, {'id': 2, 'label': 'ask_restaurant_details', 'is_start': False, 'utterances': ['Sure! What type of restaurant are you looking for? Any particular cuisine or location in mind?']}, {'id': 3, 'label': 'ask_date_and_time', 'is_start': False, 'utterances': ['Got it! What date and time would you like to book the table for?']}, {'id': 4, 'label': 'ask_guests_count', 'is_start': False, 'utterances': ['Sounds good. How many people will be joining?']}, {'id': 5, 'label': 'confirm_booking', 'is_start': False, 'utterances': ['Great! Your table is booked for {number} guests at {time} on {date}. Would you like any special requests or anything else?', \"I've got your reservation confirmed! Your table is set for {number} people at {time}. Need anything else?\"]}, {'id': 6, 'label': 'modify_date_or_time', 'is_start': False, 'utterances': ['Sure, what new date and time would you like instead?']}, {'id': 7, 'label': 'modify_guest_count', 'is_start': False, 'utterances': ['No problem, how many people should I update the booking for?']}, {'id': 8, 'label': 'provide_contact_info', 'is_start': False, 'utterances': [\"Here's the info you need: Address - {address}, Phone - {phone}.\", 'The restaurant is located at {address}. You can reach them at {phone}.']}, {'id': 9, 'label': 'closing', 'is_start': False, 'utterances': ['Glad to help! Enjoy your time at the restaurant!', 'Reservation made! Hope you have a wonderful dining experience!', \"You're all set! Have a great meal!\"]}]}\n",
      "ERROR:dialogue2graph.datasets.complex_dialogues.generation:Unexpected error during generation: 65 validation errors for GraphGenerationResult\n",
      "dialogues.0\n",
      "  Input should be a valid dictionary or instance of Dialogue [type=model_type, input_value=Dialogue(messages=[Dialog...topic='', validate=True), input_type=Dialogue]\n",
      "    For further information visit https://errors.pydantic.dev/2.10/v/model_type\n",
      "dialogues.1\n",
      "  Input should be a valid dictionary or instance of Dialogue [type=model_type, input_value=Dialogue(messages=[Dialog...topic='', validate=True), input_type=Dialogue]\n",
      "    For further information visit https://errors.pydantic.dev/2.10/v/model_type\n",
      "dialogues.2\n",
      "  Input should be a valid dictionary or instance of Dialogue [type=model_type, input_value=Dialogue(messages=[Dialog...topic='', validate=True), input_type=Dialogue]\n",
      "    For further information visit https://errors.pydantic.dev/2.10/v/model_type\n",
      "dialogues.3\n",
      "  Input should be a valid dictionary or instance of Dialogue [type=model_type, input_value=Dialogue(messages=[Dialog...topic='', validate=True), input_type=Dialogue]\n",
      "    For further information visit https://errors.pydantic.dev/2.10/v/model_type\n",
      "dialogues.4\n",
      "  Input should be a valid dictionary or instance of Dialogue [type=model_type, input_value=Dialogue(messages=[Dialog...topic='', validate=True), input_type=Dialogue]\n",
      "    For further information visit https://errors.pydantic.dev/2.10/v/model_type\n",
      "dialogues.5\n",
      "  Input should be a valid dictionary or instance of Dialogue [type=model_type, input_value=Dialogue(messages=[Dialog...topic='', validate=True), input_type=Dialogue]\n",
      "    For further information visit https://errors.pydantic.dev/2.10/v/model_type\n",
      "dialogues.6\n",
      "  Input should be a valid dictionary or instance of Dialogue [type=model_type, input_value=Dialogue(messages=[Dialog...topic='', validate=True), input_type=Dialogue]\n",
      "    For further information visit https://errors.pydantic.dev/2.10/v/model_type\n",
      "dialogues.7\n",
      "  Input should be a valid dictionary or instance of Dialogue [type=model_type, input_value=Dialogue(messages=[Dialog...topic='', validate=True), input_type=Dialogue]\n",
      "    For further information visit https://errors.pydantic.dev/2.10/v/model_type\n",
      "dialogues.8\n",
      "  Input should be a valid dictionary or instance of Dialogue [type=model_type, input_value=Dialogue(messages=[Dialog...topic='', validate=True), input_type=Dialogue]\n",
      "    For further information visit https://errors.pydantic.dev/2.10/v/model_type\n",
      "dialogues.9\n",
      "  Input should be a valid dictionary or instance of Dialogue [type=model_type, input_value=Dialogue(messages=[Dialog...topic='', validate=True), input_type=Dialogue]\n",
      "    For further information visit https://errors.pydantic.dev/2.10/v/model_type\n",
      "dialogues.10\n",
      "  Input should be a valid dictionary or instance of Dialogue [type=model_type, input_value=Dialogue(messages=[Dialog...topic='', validate=True), input_type=Dialogue]\n",
      "    For further information visit https://errors.pydantic.dev/2.10/v/model_type\n",
      "dialogues.11\n",
      "  Input should be a valid dictionary or instance of Dialogue [type=model_type, input_value=Dialogue(messages=[Dialog...topic='', validate=True), input_type=Dialogue]\n",
      "    For further information visit https://errors.pydantic.dev/2.10/v/model_type\n",
      "dialogues.12\n",
      "  Input should be a valid dictionary or instance of Dialogue [type=model_type, input_value=Dialogue(messages=[Dialog...topic='', validate=True), input_type=Dialogue]\n",
      "    For further information visit https://errors.pydantic.dev/2.10/v/model_type\n",
      "dialogues.13\n",
      "  Input should be a valid dictionary or instance of Dialogue [type=model_type, input_value=Dialogue(messages=[Dialog...topic='', validate=True), input_type=Dialogue]\n",
      "    For further information visit https://errors.pydantic.dev/2.10/v/model_type\n",
      "dialogues.14\n",
      "  Input should be a valid dictionary or instance of Dialogue [type=model_type, input_value=Dialogue(messages=[Dialog...topic='', validate=True), input_type=Dialogue]\n",
      "    For further information visit https://errors.pydantic.dev/2.10/v/model_type\n",
      "dialogues.15\n",
      "  Input should be a valid dictionary or instance of Dialogue [type=model_type, input_value=Dialogue(messages=[Dialog...topic='', validate=True), input_type=Dialogue]\n",
      "    For further information visit https://errors.pydantic.dev/2.10/v/model_type\n",
      "dialogues.16\n",
      "  Input should be a valid dictionary or instance of Dialogue [type=model_type, input_value=Dialogue(messages=[Dialog...topic='', validate=True), input_type=Dialogue]\n",
      "    For further information visit https://errors.pydantic.dev/2.10/v/model_type\n",
      "dialogues.17\n",
      "  Input should be a valid dictionary or instance of Dialogue [type=model_type, input_value=Dialogue(messages=[Dialog...topic='', validate=True), input_type=Dialogue]\n",
      "    For further information visit https://errors.pydantic.dev/2.10/v/model_type\n",
      "dialogues.18\n",
      "  Input should be a valid dictionary or instance of Dialogue [type=model_type, input_value=Dialogue(messages=[Dialog...topic='', validate=True), input_type=Dialogue]\n",
      "    For further information visit https://errors.pydantic.dev/2.10/v/model_type\n",
      "dialogues.19\n",
      "  Input should be a valid dictionary or instance of Dialogue [type=model_type, input_value=Dialogue(messages=[Dialog...topic='', validate=True), input_type=Dialogue]\n",
      "    For further information visit https://errors.pydantic.dev/2.10/v/model_type\n",
      "dialogues.20\n",
      "  Input should be a valid dictionary or instance of Dialogue [type=model_type, input_value=Dialogue(messages=[Dialog...topic='', validate=True), input_type=Dialogue]\n",
      "    For further information visit https://errors.pydantic.dev/2.10/v/model_type\n",
      "dialogues.21\n",
      "  Input should be a valid dictionary or instance of Dialogue [type=model_type, input_value=Dialogue(messages=[Dialog...topic='', validate=True), input_type=Dialogue]\n",
      "    For further information visit https://errors.pydantic.dev/2.10/v/model_type\n",
      "dialogues.22\n",
      "  Input should be a valid dictionary or instance of Dialogue [type=model_type, input_value=Dialogue(messages=[Dialog...topic='', validate=True), input_type=Dialogue]\n",
      "    For further information visit https://errors.pydantic.dev/2.10/v/model_type\n",
      "dialogues.23\n",
      "  Input should be a valid dictionary or instance of Dialogue [type=model_type, input_value=Dialogue(messages=[Dialog...topic='', validate=True), input_type=Dialogue]\n",
      "    For further information visit https://errors.pydantic.dev/2.10/v/model_type\n",
      "dialogues.24\n",
      "  Input should be a valid dictionary or instance of Dialogue [type=model_type, input_value=Dialogue(messages=[Dialog...topic='', validate=True), input_type=Dialogue]\n",
      "    For further information visit https://errors.pydantic.dev/2.10/v/model_type\n",
      "dialogues.25\n",
      "  Input should be a valid dictionary or instance of Dialogue [type=model_type, input_value=Dialogue(messages=[Dialog...topic='', validate=True), input_type=Dialogue]\n",
      "    For further information visit https://errors.pydantic.dev/2.10/v/model_type\n",
      "dialogues.26\n",
      "  Input should be a valid dictionary or instance of Dialogue [type=model_type, input_value=Dialogue(messages=[Dialog...topic='', validate=True), input_type=Dialogue]\n",
      "    For further information visit https://errors.pydantic.dev/2.10/v/model_type\n",
      "dialogues.27\n",
      "  Input should be a valid dictionary or instance of Dialogue [type=model_type, input_value=Dialogue(messages=[Dialog...topic='', validate=True), input_type=Dialogue]\n",
      "    For further information visit https://errors.pydantic.dev/2.10/v/model_type\n",
      "dialogues.28\n",
      "  Input should be a valid dictionary or instance of Dialogue [type=model_type, input_value=Dialogue(messages=[Dialog...topic='', validate=True), input_type=Dialogue]\n",
      "    For further information visit https://errors.pydantic.dev/2.10/v/model_type\n",
      "dialogues.29\n",
      "  Input should be a valid dictionary or instance of Dialogue [type=model_type, input_value=Dialogue(messages=[Dialog...topic='', validate=True), input_type=Dialogue]\n",
      "    For further information visit https://errors.pydantic.dev/2.10/v/model_type\n",
      "dialogues.30\n",
      "  Input should be a valid dictionary or instance of Dialogue [type=model_type, input_value=Dialogue(messages=[Dialog...topic='', validate=True), input_type=Dialogue]\n",
      "    For further information visit https://errors.pydantic.dev/2.10/v/model_type\n",
      "dialogues.31\n",
      "  Input should be a valid dictionary or instance of Dialogue [type=model_type, input_value=Dialogue(messages=[Dialog...topic='', validate=True), input_type=Dialogue]\n",
      "    For further information visit https://errors.pydantic.dev/2.10/v/model_type\n",
      "dialogues.32\n",
      "  Input should be a valid dictionary or instance of Dialogue [type=model_type, input_value=Dialogue(messages=[Dialog...topic='', validate=True), input_type=Dialogue]\n",
      "    For further information visit https://errors.pydantic.dev/2.10/v/model_type\n",
      "dialogues.33\n",
      "  Input should be a valid dictionary or instance of Dialogue [type=model_type, input_value=Dialogue(messages=[Dialog...topic='', validate=True), input_type=Dialogue]\n",
      "    For further information visit https://errors.pydantic.dev/2.10/v/model_type\n",
      "dialogues.34\n",
      "  Input should be a valid dictionary or instance of Dialogue [type=model_type, input_value=Dialogue(messages=[Dialog...topic='', validate=True), input_type=Dialogue]\n",
      "    For further information visit https://errors.pydantic.dev/2.10/v/model_type\n",
      "dialogues.35\n",
      "  Input should be a valid dictionary or instance of Dialogue [type=model_type, input_value=Dialogue(messages=[Dialog...topic='', validate=True), input_type=Dialogue]\n",
      "    For further information visit https://errors.pydantic.dev/2.10/v/model_type\n",
      "dialogues.36\n",
      "  Input should be a valid dictionary or instance of Dialogue [type=model_type, input_value=Dialogue(messages=[Dialog...topic='', validate=True), input_type=Dialogue]\n",
      "    For further information visit https://errors.pydantic.dev/2.10/v/model_type\n",
      "dialogues.37\n",
      "  Input should be a valid dictionary or instance of Dialogue [type=model_type, input_value=Dialogue(messages=[Dialog...topic='', validate=True), input_type=Dialogue]\n",
      "    For further information visit https://errors.pydantic.dev/2.10/v/model_type\n",
      "dialogues.38\n",
      "  Input should be a valid dictionary or instance of Dialogue [type=model_type, input_value=Dialogue(messages=[Dialog...topic='', validate=True), input_type=Dialogue]\n",
      "    For further information visit https://errors.pydantic.dev/2.10/v/model_type\n",
      "dialogues.39\n",
      "  Input should be a valid dictionary or instance of Dialogue [type=model_type, input_value=Dialogue(messages=[Dialog...topic='', validate=True), input_type=Dialogue]\n",
      "    For further information visit https://errors.pydantic.dev/2.10/v/model_type\n",
      "dialogues.40\n",
      "  Input should be a valid dictionary or instance of Dialogue [type=model_type, input_value=Dialogue(messages=[Dialog...topic='', validate=True), input_type=Dialogue]\n",
      "    For further information visit https://errors.pydantic.dev/2.10/v/model_type\n",
      "dialogues.41\n",
      "  Input should be a valid dictionary or instance of Dialogue [type=model_type, input_value=Dialogue(messages=[Dialog...topic='', validate=True), input_type=Dialogue]\n",
      "    For further information visit https://errors.pydantic.dev/2.10/v/model_type\n",
      "dialogues.42\n",
      "  Input should be a valid dictionary or instance of Dialogue [type=model_type, input_value=Dialogue(messages=[Dialog...topic='', validate=True), input_type=Dialogue]\n",
      "    For further information visit https://errors.pydantic.dev/2.10/v/model_type\n",
      "dialogues.43\n",
      "  Input should be a valid dictionary or instance of Dialogue [type=model_type, input_value=Dialogue(messages=[Dialog...topic='', validate=True), input_type=Dialogue]\n",
      "    For further information visit https://errors.pydantic.dev/2.10/v/model_type\n",
      "dialogues.44\n",
      "  Input should be a valid dictionary or instance of Dialogue [type=model_type, input_value=Dialogue(messages=[Dialog...topic='', validate=True), input_type=Dialogue]\n",
      "    For further information visit https://errors.pydantic.dev/2.10/v/model_type\n",
      "dialogues.45\n",
      "  Input should be a valid dictionary or instance of Dialogue [type=model_type, input_value=Dialogue(messages=[Dialog...topic='', validate=True), input_type=Dialogue]\n",
      "    For further information visit https://errors.pydantic.dev/2.10/v/model_type\n",
      "dialogues.46\n",
      "  Input should be a valid dictionary or instance of Dialogue [type=model_type, input_value=Dialogue(messages=[Dialog...topic='', validate=True), input_type=Dialogue]\n",
      "    For further information visit https://errors.pydantic.dev/2.10/v/model_type\n",
      "dialogues.47\n",
      "  Input should be a valid dictionary or instance of Dialogue [type=model_type, input_value=Dialogue(messages=[Dialog...topic='', validate=True), input_type=Dialogue]\n",
      "    For further information visit https://errors.pydantic.dev/2.10/v/model_type\n",
      "dialogues.48\n",
      "  Input should be a valid dictionary or instance of Dialogue [type=model_type, input_value=Dialogue(messages=[Dialog...topic='', validate=True), input_type=Dialogue]\n",
      "    For further information visit https://errors.pydantic.dev/2.10/v/model_type\n",
      "dialogues.49\n",
      "  Input should be a valid dictionary or instance of Dialogue [type=model_type, input_value=Dialogue(messages=[Dialog...topic='', validate=True), input_type=Dialogue]\n",
      "    For further information visit https://errors.pydantic.dev/2.10/v/model_type\n",
      "dialogues.50\n",
      "  Input should be a valid dictionary or instance of Dialogue [type=model_type, input_value=Dialogue(messages=[Dialog...topic='', validate=True), input_type=Dialogue]\n",
      "    For further information visit https://errors.pydantic.dev/2.10/v/model_type\n",
      "dialogues.51\n",
      "  Input should be a valid dictionary or instance of Dialogue [type=model_type, input_value=Dialogue(messages=[Dialog...topic='', validate=True), input_type=Dialogue]\n",
      "    For further information visit https://errors.pydantic.dev/2.10/v/model_type\n",
      "dialogues.52\n",
      "  Input should be a valid dictionary or instance of Dialogue [type=model_type, input_value=Dialogue(messages=[Dialog...topic='', validate=True), input_type=Dialogue]\n",
      "    For further information visit https://errors.pydantic.dev/2.10/v/model_type\n",
      "dialogues.53\n",
      "  Input should be a valid dictionary or instance of Dialogue [type=model_type, input_value=Dialogue(messages=[Dialog...topic='', validate=True), input_type=Dialogue]\n",
      "    For further information visit https://errors.pydantic.dev/2.10/v/model_type\n",
      "dialogues.54\n",
      "  Input should be a valid dictionary or instance of Dialogue [type=model_type, input_value=Dialogue(messages=[Dialog...topic='', validate=True), input_type=Dialogue]\n",
      "    For further information visit https://errors.pydantic.dev/2.10/v/model_type\n",
      "dialogues.55\n",
      "  Input should be a valid dictionary or instance of Dialogue [type=model_type, input_value=Dialogue(messages=[Dialog...topic='', validate=True), input_type=Dialogue]\n",
      "    For further information visit https://errors.pydantic.dev/2.10/v/model_type\n",
      "dialogues.56\n",
      "  Input should be a valid dictionary or instance of Dialogue [type=model_type, input_value=Dialogue(messages=[Dialog...topic='', validate=True), input_type=Dialogue]\n",
      "    For further information visit https://errors.pydantic.dev/2.10/v/model_type\n",
      "dialogues.57\n",
      "  Input should be a valid dictionary or instance of Dialogue [type=model_type, input_value=Dialogue(messages=[Dialog...topic='', validate=True), input_type=Dialogue]\n",
      "    For further information visit https://errors.pydantic.dev/2.10/v/model_type\n",
      "dialogues.58\n",
      "  Input should be a valid dictionary or instance of Dialogue [type=model_type, input_value=Dialogue(messages=[Dialog...topic='', validate=True), input_type=Dialogue]\n",
      "    For further information visit https://errors.pydantic.dev/2.10/v/model_type\n",
      "dialogues.59\n",
      "  Input should be a valid dictionary or instance of Dialogue [type=model_type, input_value=Dialogue(messages=[Dialog...topic='', validate=True), input_type=Dialogue]\n",
      "    For further information visit https://errors.pydantic.dev/2.10/v/model_type\n",
      "dialogues.60\n",
      "  Input should be a valid dictionary or instance of Dialogue [type=model_type, input_value=Dialogue(messages=[Dialog...topic='', validate=True), input_type=Dialogue]\n",
      "    For further information visit https://errors.pydantic.dev/2.10/v/model_type\n",
      "dialogues.61\n",
      "  Input should be a valid dictionary or instance of Dialogue [type=model_type, input_value=Dialogue(messages=[Dialog...topic='', validate=True), input_type=Dialogue]\n",
      "    For further information visit https://errors.pydantic.dev/2.10/v/model_type\n",
      "dialogues.62\n",
      "  Input should be a valid dictionary or instance of Dialogue [type=model_type, input_value=Dialogue(messages=[Dialog...topic='', validate=True), input_type=Dialogue]\n",
      "    For further information visit https://errors.pydantic.dev/2.10/v/model_type\n",
      "dialogues.63\n",
      "  Input should be a valid dictionary or instance of Dialogue [type=model_type, input_value=Dialogue(messages=[Dialog...topic='', validate=True), input_type=Dialogue]\n",
      "    For further information visit https://errors.pydantic.dev/2.10/v/model_type\n",
      "dialogues.64\n",
      "  Input should be a valid dictionary or instance of Dialogue [type=model_type, input_value=Dialogue(messages=[Dialog...topic='', validate=True), input_type=Dialogue]\n",
      "    For further information visit https://errors.pydantic.dev/2.10/v/model_type\n",
      "ERROR:dialogue2graph.datasets.complex_dialogues.generation:❌ Failed to generate graph for booking a table\n",
      "ERROR:dialogue2graph.datasets.complex_dialogues.generation:Error type: ErrorType.GENERATION_FAILED\n",
      "ERROR:dialogue2graph.datasets.complex_dialogues.generation:Error message: Unexpected error during generation: 65 validation errors for GraphGenerationResult\n",
      "dialogues.0\n",
      "  Input should be a valid dictionary or instance of Dialogue [type=model_type, input_value=Dialogue(messages=[Dialog...topic='', validate=True), input_type=Dialogue]\n",
      "    For further information visit https://errors.pydantic.dev/2.10/v/model_type\n",
      "dialogues.1\n",
      "  Input should be a valid dictionary or instance of Dialogue [type=model_type, input_value=Dialogue(messages=[Dialog...topic='', validate=True), input_type=Dialogue]\n",
      "    For further information visit https://errors.pydantic.dev/2.10/v/model_type\n",
      "dialogues.2\n",
      "  Input should be a valid dictionary or instance of Dialogue [type=model_type, input_value=Dialogue(messages=[Dialog...topic='', validate=True), input_type=Dialogue]\n",
      "    For further information visit https://errors.pydantic.dev/2.10/v/model_type\n",
      "dialogues.3\n",
      "  Input should be a valid dictionary or instance of Dialogue [type=model_type, input_value=Dialogue(messages=[Dialog...topic='', validate=True), input_type=Dialogue]\n",
      "    For further information visit https://errors.pydantic.dev/2.10/v/model_type\n",
      "dialogues.4\n",
      "  Input should be a valid dictionary or instance of Dialogue [type=model_type, input_value=Dialogue(messages=[Dialog...topic='', validate=True), input_type=Dialogue]\n",
      "    For further information visit https://errors.pydantic.dev/2.10/v/model_type\n",
      "dialogues.5\n",
      "  Input should be a valid dictionary or instance of Dialogue [type=model_type, input_value=Dialogue(messages=[Dialog...topic='', validate=True), input_type=Dialogue]\n",
      "    For further information visit https://errors.pydantic.dev/2.10/v/model_type\n",
      "dialogues.6\n",
      "  Input should be a valid dictionary or instance of Dialogue [type=model_type, input_value=Dialogue(messages=[Dialog...topic='', validate=True), input_type=Dialogue]\n",
      "    For further information visit https://errors.pydantic.dev/2.10/v/model_type\n",
      "dialogues.7\n",
      "  Input should be a valid dictionary or instance of Dialogue [type=model_type, input_value=Dialogue(messages=[Dialog...topic='', validate=True), input_type=Dialogue]\n",
      "    For further information visit https://errors.pydantic.dev/2.10/v/model_type\n",
      "dialogues.8\n",
      "  Input should be a valid dictionary or instance of Dialogue [type=model_type, input_value=Dialogue(messages=[Dialog...topic='', validate=True), input_type=Dialogue]\n",
      "    For further information visit https://errors.pydantic.dev/2.10/v/model_type\n",
      "dialogues.9\n",
      "  Input should be a valid dictionary or instance of Dialogue [type=model_type, input_value=Dialogue(messages=[Dialog...topic='', validate=True), input_type=Dialogue]\n",
      "    For further information visit https://errors.pydantic.dev/2.10/v/model_type\n",
      "dialogues.10\n",
      "  Input should be a valid dictionary or instance of Dialogue [type=model_type, input_value=Dialogue(messages=[Dialog...topic='', validate=True), input_type=Dialogue]\n",
      "    For further information visit https://errors.pydantic.dev/2.10/v/model_type\n",
      "dialogues.11\n",
      "  Input should be a valid dictionary or instance of Dialogue [type=model_type, input_value=Dialogue(messages=[Dialog...topic='', validate=True), input_type=Dialogue]\n",
      "    For further information visit https://errors.pydantic.dev/2.10/v/model_type\n",
      "dialogues.12\n",
      "  Input should be a valid dictionary or instance of Dialogue [type=model_type, input_value=Dialogue(messages=[Dialog...topic='', validate=True), input_type=Dialogue]\n",
      "    For further information visit https://errors.pydantic.dev/2.10/v/model_type\n",
      "dialogues.13\n",
      "  Input should be a valid dictionary or instance of Dialogue [type=model_type, input_value=Dialogue(messages=[Dialog...topic='', validate=True), input_type=Dialogue]\n",
      "    For further information visit https://errors.pydantic.dev/2.10/v/model_type\n",
      "dialogues.14\n",
      "  Input should be a valid dictionary or instance of Dialogue [type=model_type, input_value=Dialogue(messages=[Dialog...topic='', validate=True), input_type=Dialogue]\n",
      "    For further information visit https://errors.pydantic.dev/2.10/v/model_type\n",
      "dialogues.15\n",
      "  Input should be a valid dictionary or instance of Dialogue [type=model_type, input_value=Dialogue(messages=[Dialog...topic='', validate=True), input_type=Dialogue]\n",
      "    For further information visit https://errors.pydantic.dev/2.10/v/model_type\n",
      "dialogues.16\n",
      "  Input should be a valid dictionary or instance of Dialogue [type=model_type, input_value=Dialogue(messages=[Dialog...topic='', validate=True), input_type=Dialogue]\n",
      "    For further information visit https://errors.pydantic.dev/2.10/v/model_type\n",
      "dialogues.17\n",
      "  Input should be a valid dictionary or instance of Dialogue [type=model_type, input_value=Dialogue(messages=[Dialog...topic='', validate=True), input_type=Dialogue]\n",
      "    For further information visit https://errors.pydantic.dev/2.10/v/model_type\n",
      "dialogues.18\n",
      "  Input should be a valid dictionary or instance of Dialogue [type=model_type, input_value=Dialogue(messages=[Dialog...topic='', validate=True), input_type=Dialogue]\n",
      "    For further information visit https://errors.pydantic.dev/2.10/v/model_type\n",
      "dialogues.19\n",
      "  Input should be a valid dictionary or instance of Dialogue [type=model_type, input_value=Dialogue(messages=[Dialog...topic='', validate=True), input_type=Dialogue]\n",
      "    For further information visit https://errors.pydantic.dev/2.10/v/model_type\n",
      "dialogues.20\n",
      "  Input should be a valid dictionary or instance of Dialogue [type=model_type, input_value=Dialogue(messages=[Dialog...topic='', validate=True), input_type=Dialogue]\n",
      "    For further information visit https://errors.pydantic.dev/2.10/v/model_type\n",
      "dialogues.21\n",
      "  Input should be a valid dictionary or instance of Dialogue [type=model_type, input_value=Dialogue(messages=[Dialog...topic='', validate=True), input_type=Dialogue]\n",
      "    For further information visit https://errors.pydantic.dev/2.10/v/model_type\n",
      "dialogues.22\n",
      "  Input should be a valid dictionary or instance of Dialogue [type=model_type, input_value=Dialogue(messages=[Dialog...topic='', validate=True), input_type=Dialogue]\n",
      "    For further information visit https://errors.pydantic.dev/2.10/v/model_type\n",
      "dialogues.23\n",
      "  Input should be a valid dictionary or instance of Dialogue [type=model_type, input_value=Dialogue(messages=[Dialog...topic='', validate=True), input_type=Dialogue]\n",
      "    For further information visit https://errors.pydantic.dev/2.10/v/model_type\n",
      "dialogues.24\n",
      "  Input should be a valid dictionary or instance of Dialogue [type=model_type, input_value=Dialogue(messages=[Dialog...topic='', validate=True), input_type=Dialogue]\n",
      "    For further information visit https://errors.pydantic.dev/2.10/v/model_type\n",
      "dialogues.25\n",
      "  Input should be a valid dictionary or instance of Dialogue [type=model_type, input_value=Dialogue(messages=[Dialog...topic='', validate=True), input_type=Dialogue]\n",
      "    For further information visit https://errors.pydantic.dev/2.10/v/model_type\n",
      "dialogues.26\n",
      "  Input should be a valid dictionary or instance of Dialogue [type=model_type, input_value=Dialogue(messages=[Dialog...topic='', validate=True), input_type=Dialogue]\n",
      "    For further information visit https://errors.pydantic.dev/2.10/v/model_type\n",
      "dialogues.27\n",
      "  Input should be a valid dictionary or instance of Dialogue [type=model_type, input_value=Dialogue(messages=[Dialog...topic='', validate=True), input_type=Dialogue]\n",
      "    For further information visit https://errors.pydantic.dev/2.10/v/model_type\n",
      "dialogues.28\n",
      "  Input should be a valid dictionary or instance of Dialogue [type=model_type, input_value=Dialogue(messages=[Dialog...topic='', validate=True), input_type=Dialogue]\n",
      "    For further information visit https://errors.pydantic.dev/2.10/v/model_type\n",
      "dialogues.29\n",
      "  Input should be a valid dictionary or instance of Dialogue [type=model_type, input_value=Dialogue(messages=[Dialog...topic='', validate=True), input_type=Dialogue]\n",
      "    For further information visit https://errors.pydantic.dev/2.10/v/model_type\n",
      "dialogues.30\n",
      "  Input should be a valid dictionary or instance of Dialogue [type=model_type, input_value=Dialogue(messages=[Dialog...topic='', validate=True), input_type=Dialogue]\n",
      "    For further information visit https://errors.pydantic.dev/2.10/v/model_type\n",
      "dialogues.31\n",
      "  Input should be a valid dictionary or instance of Dialogue [type=model_type, input_value=Dialogue(messages=[Dialog...topic='', validate=True), input_type=Dialogue]\n",
      "    For further information visit https://errors.pydantic.dev/2.10/v/model_type\n",
      "dialogues.32\n",
      "  Input should be a valid dictionary or instance of Dialogue [type=model_type, input_value=Dialogue(messages=[Dialog...topic='', validate=True), input_type=Dialogue]\n",
      "    For further information visit https://errors.pydantic.dev/2.10/v/model_type\n",
      "dialogues.33\n",
      "  Input should be a valid dictionary or instance of Dialogue [type=model_type, input_value=Dialogue(messages=[Dialog...topic='', validate=True), input_type=Dialogue]\n",
      "    For further information visit https://errors.pydantic.dev/2.10/v/model_type\n",
      "dialogues.34\n",
      "  Input should be a valid dictionary or instance of Dialogue [type=model_type, input_value=Dialogue(messages=[Dialog...topic='', validate=True), input_type=Dialogue]\n",
      "    For further information visit https://errors.pydantic.dev/2.10/v/model_type\n",
      "dialogues.35\n",
      "  Input should be a valid dictionary or instance of Dialogue [type=model_type, input_value=Dialogue(messages=[Dialog...topic='', validate=True), input_type=Dialogue]\n",
      "    For further information visit https://errors.pydantic.dev/2.10/v/model_type\n",
      "dialogues.36\n",
      "  Input should be a valid dictionary or instance of Dialogue [type=model_type, input_value=Dialogue(messages=[Dialog...topic='', validate=True), input_type=Dialogue]\n",
      "    For further information visit https://errors.pydantic.dev/2.10/v/model_type\n",
      "dialogues.37\n",
      "  Input should be a valid dictionary or instance of Dialogue [type=model_type, input_value=Dialogue(messages=[Dialog...topic='', validate=True), input_type=Dialogue]\n",
      "    For further information visit https://errors.pydantic.dev/2.10/v/model_type\n",
      "dialogues.38\n",
      "  Input should be a valid dictionary or instance of Dialogue [type=model_type, input_value=Dialogue(messages=[Dialog...topic='', validate=True), input_type=Dialogue]\n",
      "    For further information visit https://errors.pydantic.dev/2.10/v/model_type\n",
      "dialogues.39\n",
      "  Input should be a valid dictionary or instance of Dialogue [type=model_type, input_value=Dialogue(messages=[Dialog...topic='', validate=True), input_type=Dialogue]\n",
      "    For further information visit https://errors.pydantic.dev/2.10/v/model_type\n",
      "dialogues.40\n",
      "  Input should be a valid dictionary or instance of Dialogue [type=model_type, input_value=Dialogue(messages=[Dialog...topic='', validate=True), input_type=Dialogue]\n",
      "    For further information visit https://errors.pydantic.dev/2.10/v/model_type\n",
      "dialogues.41\n",
      "  Input should be a valid dictionary or instance of Dialogue [type=model_type, input_value=Dialogue(messages=[Dialog...topic='', validate=True), input_type=Dialogue]\n",
      "    For further information visit https://errors.pydantic.dev/2.10/v/model_type\n",
      "dialogues.42\n",
      "  Input should be a valid dictionary or instance of Dialogue [type=model_type, input_value=Dialogue(messages=[Dialog...topic='', validate=True), input_type=Dialogue]\n",
      "    For further information visit https://errors.pydantic.dev/2.10/v/model_type\n",
      "dialogues.43\n",
      "  Input should be a valid dictionary or instance of Dialogue [type=model_type, input_value=Dialogue(messages=[Dialog...topic='', validate=True), input_type=Dialogue]\n",
      "    For further information visit https://errors.pydantic.dev/2.10/v/model_type\n",
      "dialogues.44\n",
      "  Input should be a valid dictionary or instance of Dialogue [type=model_type, input_value=Dialogue(messages=[Dialog...topic='', validate=True), input_type=Dialogue]\n",
      "    For further information visit https://errors.pydantic.dev/2.10/v/model_type\n",
      "dialogues.45\n",
      "  Input should be a valid dictionary or instance of Dialogue [type=model_type, input_value=Dialogue(messages=[Dialog...topic='', validate=True), input_type=Dialogue]\n",
      "    For further information visit https://errors.pydantic.dev/2.10/v/model_type\n",
      "dialogues.46\n",
      "  Input should be a valid dictionary or instance of Dialogue [type=model_type, input_value=Dialogue(messages=[Dialog...topic='', validate=True), input_type=Dialogue]\n",
      "    For further information visit https://errors.pydantic.dev/2.10/v/model_type\n",
      "dialogues.47\n",
      "  Input should be a valid dictionary or instance of Dialogue [type=model_type, input_value=Dialogue(messages=[Dialog...topic='', validate=True), input_type=Dialogue]\n",
      "    For further information visit https://errors.pydantic.dev/2.10/v/model_type\n",
      "dialogues.48\n",
      "  Input should be a valid dictionary or instance of Dialogue [type=model_type, input_value=Dialogue(messages=[Dialog...topic='', validate=True), input_type=Dialogue]\n",
      "    For further information visit https://errors.pydantic.dev/2.10/v/model_type\n",
      "dialogues.49\n",
      "  Input should be a valid dictionary or instance of Dialogue [type=model_type, input_value=Dialogue(messages=[Dialog...topic='', validate=True), input_type=Dialogue]\n",
      "    For further information visit https://errors.pydantic.dev/2.10/v/model_type\n",
      "dialogues.50\n",
      "  Input should be a valid dictionary or instance of Dialogue [type=model_type, input_value=Dialogue(messages=[Dialog...topic='', validate=True), input_type=Dialogue]\n",
      "    For further information visit https://errors.pydantic.dev/2.10/v/model_type\n",
      "dialogues.51\n",
      "  Input should be a valid dictionary or instance of Dialogue [type=model_type, input_value=Dialogue(messages=[Dialog...topic='', validate=True), input_type=Dialogue]\n",
      "    For further information visit https://errors.pydantic.dev/2.10/v/model_type\n",
      "dialogues.52\n",
      "  Input should be a valid dictionary or instance of Dialogue [type=model_type, input_value=Dialogue(messages=[Dialog...topic='', validate=True), input_type=Dialogue]\n",
      "    For further information visit https://errors.pydantic.dev/2.10/v/model_type\n",
      "dialogues.53\n",
      "  Input should be a valid dictionary or instance of Dialogue [type=model_type, input_value=Dialogue(messages=[Dialog...topic='', validate=True), input_type=Dialogue]\n",
      "    For further information visit https://errors.pydantic.dev/2.10/v/model_type\n",
      "dialogues.54\n",
      "  Input should be a valid dictionary or instance of Dialogue [type=model_type, input_value=Dialogue(messages=[Dialog...topic='', validate=True), input_type=Dialogue]\n",
      "    For further information visit https://errors.pydantic.dev/2.10/v/model_type\n",
      "dialogues.55\n",
      "  Input should be a valid dictionary or instance of Dialogue [type=model_type, input_value=Dialogue(messages=[Dialog...topic='', validate=True), input_type=Dialogue]\n",
      "    For further information visit https://errors.pydantic.dev/2.10/v/model_type\n",
      "dialogues.56\n",
      "  Input should be a valid dictionary or instance of Dialogue [type=model_type, input_value=Dialogue(messages=[Dialog...topic='', validate=True), input_type=Dialogue]\n",
      "    For further information visit https://errors.pydantic.dev/2.10/v/model_type\n",
      "dialogues.57\n",
      "  Input should be a valid dictionary or instance of Dialogue [type=model_type, input_value=Dialogue(messages=[Dialog...topic='', validate=True), input_type=Dialogue]\n",
      "    For further information visit https://errors.pydantic.dev/2.10/v/model_type\n",
      "dialogues.58\n",
      "  Input should be a valid dictionary or instance of Dialogue [type=model_type, input_value=Dialogue(messages=[Dialog...topic='', validate=True), input_type=Dialogue]\n",
      "    For further information visit https://errors.pydantic.dev/2.10/v/model_type\n",
      "dialogues.59\n",
      "  Input should be a valid dictionary or instance of Dialogue [type=model_type, input_value=Dialogue(messages=[Dialog...topic='', validate=True), input_type=Dialogue]\n",
      "    For further information visit https://errors.pydantic.dev/2.10/v/model_type\n",
      "dialogues.60\n",
      "  Input should be a valid dictionary or instance of Dialogue [type=model_type, input_value=Dialogue(messages=[Dialog...topic='', validate=True), input_type=Dialogue]\n",
      "    For further information visit https://errors.pydantic.dev/2.10/v/model_type\n",
      "dialogues.61\n",
      "  Input should be a valid dictionary or instance of Dialogue [type=model_type, input_value=Dialogue(messages=[Dialog...topic='', validate=True), input_type=Dialogue]\n",
      "    For further information visit https://errors.pydantic.dev/2.10/v/model_type\n",
      "dialogues.62\n",
      "  Input should be a valid dictionary or instance of Dialogue [type=model_type, input_value=Dialogue(messages=[Dialog...topic='', validate=True), input_type=Dialogue]\n",
      "    For further information visit https://errors.pydantic.dev/2.10/v/model_type\n",
      "dialogues.63\n",
      "  Input should be a valid dictionary or instance of Dialogue [type=model_type, input_value=Dialogue(messages=[Dialog...topic='', validate=True), input_type=Dialogue]\n",
      "    For further information visit https://errors.pydantic.dev/2.10/v/model_type\n",
      "dialogues.64\n",
      "  Input should be a valid dictionary or instance of Dialogue [type=model_type, input_value=Dialogue(messages=[Dialog...topic='', validate=True), input_type=Dialogue]\n",
      "    For further information visit https://errors.pydantic.dev/2.10/v/model_type\n"
     ]
    },
    {
     "name": "stdout",
     "output_type": "stream",
     "text": [
      "Graph has all the dialogues\n",
      "Sampled 65 dialogues\n",
      "Graph has all the dialogues\n"
     ]
    }
   ],
   "source": [
    "graph = generator.invoke(\"booking a table\")"
   ]
  },
  {
   "cell_type": "code",
   "execution_count": 16,
   "metadata": {},
   "outputs": [
    {
     "name": "stderr",
     "output_type": "stream",
     "text": [
      "/home/peshkichev/miniconda3/envs/py311/lib/python3.11/site-packages/pydantic/_internal/_fields.py:192: UserWarning: Field name \"validate\" in \"Dialogue\" shadows an attribute in parent \"DialogueBase\"\n",
      "  warnings.warn(\n"
     ]
    },
    {
     "data": {
      "text/plain": [
       "[]"
      ]
     },
     "execution_count": 16,
     "metadata": {},
     "output_type": "execute_result"
    }
   ],
   "source": [
    "graph"
   ]
  }
 ],
 "metadata": {
  "kernelspec": {
   "display_name": "py311",
   "language": "python",
   "name": "python3"
  },
  "language_info": {
   "codemirror_mode": {
    "name": "ipython",
    "version": 3
   },
   "file_extension": ".py",
   "mimetype": "text/x-python",
   "name": "python",
   "nbconvert_exporter": "python",
   "pygments_lexer": "ipython3",
   "version": "3.11.11"
  }
 },
 "nbformat": 4,
 "nbformat_minor": 2
}
