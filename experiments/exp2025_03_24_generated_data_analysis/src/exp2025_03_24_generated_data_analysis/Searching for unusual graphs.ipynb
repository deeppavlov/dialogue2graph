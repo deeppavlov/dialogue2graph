{
 "cells": [
  {
   "cell_type": "code",
   "execution_count": null,
   "metadata": {},
   "outputs": [],
   "source": [
    "import warnings\n",
    "\n",
    "warnings.filterwarnings(\"ignore\")"
   ]
  },
  {
   "cell_type": "code",
   "execution_count": 1,
   "metadata": {},
   "outputs": [],
   "source": [
    "from datasets import load_dataset\n",
    "\n",
    "dataset = load_dataset(\"DeepPavlov/d2g_generated\", token=True)"
   ]
  },
  {
   "cell_type": "markdown",
   "metadata": {},
   "source": [
    "### Nodes check"
   ]
  },
  {
   "cell_type": "code",
   "execution_count": 79,
   "metadata": {},
   "outputs": [],
   "source": [
    "import re\n",
    "\n",
    "def hello_check(node: dict):\n",
    "    for utt in node['utterances']:\n",
    "        flag = bool(re.match(r'^hello|^hi', \n",
    "                                utt, \n",
    "                                flags=re.IGNORECASE)\n",
    "        )\n",
    "        if flag:\n",
    "            return True\n",
    "    return False"
   ]
  },
  {
   "cell_type": "code",
   "execution_count": 89,
   "metadata": {},
   "outputs": [],
   "source": [
    "for ex in dataset['train']:\n",
    "    graph = ex['graph']\n",
    "    start_not_first = [node for node in graph['nodes'] if node['is_start'] and node['id'] != 1]\n",
    "    greeting_not_start = [node for node in graph['nodes'] if not node['is_start'] and node['label'] == 'greeting']\n",
    "    if start_not_first:\n",
    "        print('Start node in the middle', start_not_first)\n",
    "    if greeting_not_start:\n",
    "        print('Greeting in the middle', greeting_not_start)"
   ]
  },
  {
   "cell_type": "code",
   "execution_count": 80,
   "metadata": {},
   "outputs": [],
   "source": [
    "strange_graphs = []\n",
    "for i, ex in enumerate(dataset['train']):\n",
    "    graph = ex['graph']\n",
    "    start_nodes = [node for node in graph['nodes'] if not node['is_start'] and hello_check(node)]\n",
    "    if start_nodes:\n",
    "        strange_graphs.append(\n",
    "            (i, graph)\n",
    "        )"
   ]
  },
  {
   "cell_type": "code",
   "execution_count": 81,
   "metadata": {},
   "outputs": [
    {
     "data": {
      "text/plain": [
       "[]"
      ]
     },
     "execution_count": 81,
     "metadata": {},
     "output_type": "execute_result"
    }
   ],
   "source": [
    "strange_graphs"
   ]
  },
  {
   "cell_type": "markdown",
   "metadata": {},
   "source": [
    "### Edges check"
   ]
  },
  {
   "cell_type": "code",
   "execution_count": 85,
   "metadata": {},
   "outputs": [],
   "source": [
    "strange_graphs = []\n",
    "for i, ex in enumerate(dataset['train']):\n",
    "    graph = ex['graph']\n",
    "    start_nodes = [edge for edge in graph['edges'] if hello_check(edge) and edge['source'] != 1]\n",
    "    if start_nodes:\n",
    "        strange_graphs.append(\n",
    "            (i, graph)\n",
    "        )"
   ]
  },
  {
   "cell_type": "code",
   "execution_count": 87,
   "metadata": {},
   "outputs": [
    {
     "data": {
      "text/plain": [
       "[]"
      ]
     },
     "execution_count": 87,
     "metadata": {},
     "output_type": "execute_result"
    }
   ],
   "source": [
    "strange_graphs"
   ]
  }
 ],
 "metadata": {
  "kernelspec": {
   "display_name": ".venv",
   "language": "python",
   "name": "python3"
  },
  "language_info": {
   "codemirror_mode": {
    "name": "ipython",
    "version": 3
   },
   "file_extension": ".py",
   "mimetype": "text/x-python",
   "name": "python",
   "nbconvert_exporter": "python",
   "pygments_lexer": "ipython3",
   "version": "3.11.8"
  }
 },
 "nbformat": 4,
 "nbformat_minor": 2
}
