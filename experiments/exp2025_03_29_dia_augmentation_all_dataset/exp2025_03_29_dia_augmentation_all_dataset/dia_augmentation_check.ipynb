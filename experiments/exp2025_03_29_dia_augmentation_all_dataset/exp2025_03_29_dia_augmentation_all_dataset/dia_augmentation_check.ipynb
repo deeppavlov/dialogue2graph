{
 "cells": [
  {
   "cell_type": "code",
   "execution_count": 1,
   "metadata": {},
   "outputs": [
    {
     "data": {
      "text/plain": [
       "True"
      ]
     },
     "execution_count": 1,
     "metadata": {},
     "output_type": "execute_result"
    }
   ],
   "source": [
    "from dotenv import load_dotenv\n",
    "load_dotenv()"
   ]
  },
  {
   "cell_type": "code",
   "execution_count": 2,
   "metadata": {},
   "outputs": [],
   "source": [
    "import os\n",
    "os.environ['PATH_TO_ENV'] = \"~/projects/chatsky-llm-autoconfig/.env\""
   ]
  },
  {
   "cell_type": "code",
   "execution_count": 3,
   "metadata": {},
   "outputs": [],
   "source": [
    "from tqdm import tqdm\n",
    "import json\n",
    "import pickle\n",
    "from augmentation_utils import (\n",
    "    check_no_duplicates_one_uttr_list, is_correct_length_modified, match_roles_modified\n",
    "    )"
   ]
  },
  {
   "cell_type": "code",
   "execution_count": 4,
   "metadata": {},
   "outputs": [
    {
     "name": "stderr",
     "output_type": "stream",
     "text": [
      "/home/olshevskaya/miniconda3/envs/conda_env_py311/lib/python3.11/site-packages/pydantic/_internal/_fields.py:192: UserWarning: Field name \"validate\" in \"Dialogue\" shadows an attribute in parent \"BaseModel\"\n",
      "  warnings.warn(\n"
     ]
    }
   ],
   "source": [
    "from dialogue2graph.pipelines.core.dialogue import DialogueMessage, Dialogue"
   ]
  },
  {
   "cell_type": "markdown",
   "metadata": {},
   "source": [
    "# 1. Checking data"
   ]
  },
  {
   "cell_type": "code",
   "execution_count": 130,
   "metadata": {},
   "outputs": [
    {
     "data": {
      "text/plain": [
       "402"
      ]
     },
     "execution_count": 130,
     "metadata": {},
     "output_type": "execute_result"
    }
   ],
   "source": [
    "with open(f\"../data/gen_dataset_augmented_0-402\", \"rb\") as file:\n",
    "    data = pickle.load(file)\n",
    "len(data)"
   ]
  },
  {
   "cell_type": "code",
   "execution_count": null,
   "metadata": {},
   "outputs": [
    {
     "data": {
      "text/plain": [
       "377"
      ]
     },
     "execution_count": 6,
     "metadata": {},
     "output_type": "execute_result"
    }
   ],
   "source": [
    "# with open(\"../data/d2g_generated_without_hello_in_the_middle.json\", \"r\") as fp:\n",
    "#     data_without_hello = json.load(fp)\n",
    "# len(data_without_hello)"
   ]
  },
  {
   "cell_type": "markdown",
   "metadata": {},
   "source": [
    "## matching roles and length correctness"
   ]
  },
  {
   "cell_type": "code",
   "execution_count": 131,
   "metadata": {},
   "outputs": [
    {
     "name": "stderr",
     "output_type": "stream",
     "text": [
      "100%|██████████| 402/402 [00:00<00:00, 19567.03it/s]\n"
     ]
    },
    {
     "data": {
      "text/plain": [
       "(50, 50)"
      ]
     },
     "execution_count": 131,
     "metadata": {},
     "output_type": "execute_result"
    }
   ],
   "source": [
    "failure_instances_length = []\n",
    "failure_instances_roles = []\n",
    "\n",
    "for i, instance in enumerate(tqdm(data)):\n",
    "    dialogues = [dial['messages'] for dial in instance['dialogues']]\n",
    "    augmented_dialogues = [dial['messages'] for dial in instance['augmented_dialogues']]\n",
    "\n",
    "    for j, (orig_dia, aug_dia) in enumerate(zip(dialogues, augmented_dialogues)):\n",
    "        length_comparison = is_correct_length_modified(orig_dia, aug_dia)\n",
    "        roles_comparison = match_roles_modified(orig_dia, aug_dia)\n",
    "\n",
    "        if length_comparison != True:\n",
    "            failure_instances_length.append((i, j, length_comparison))\n",
    "        if roles_comparison != True:\n",
    "            failure_instances_roles.append((i, j, roles_comparison))      \n",
    "\n",
    "len(failure_instances_length), len(failure_instances_roles)"
   ]
  },
  {
   "cell_type": "markdown",
   "metadata": {},
   "source": [
    "## duplicates in one_uttr_list"
   ]
  },
  {
   "cell_type": "code",
   "execution_count": 132,
   "metadata": {},
   "outputs": [
    {
     "name": "stderr",
     "output_type": "stream",
     "text": [
      "100%|██████████| 402/402 [00:00<00:00, 20211.09it/s]\n"
     ]
    },
    {
     "data": {
      "text/plain": [
       "(50, [])"
      ]
     },
     "execution_count": 132,
     "metadata": {},
     "output_type": "execute_result"
    }
   ],
   "source": [
    "errors = []\n",
    "failure_examples = []\n",
    "\n",
    "for i, example in enumerate(tqdm(data)):\n",
    "    augmented_dialogues = [dial['messages'] for dial in example['augmented_dialogues']]\n",
    "\n",
    "    for j, aug_dia in enumerate(augmented_dialogues):\n",
    "        try:\n",
    "            if not check_no_duplicates_one_uttr_list(aug_dia):\n",
    "                failure_examples.append((i, j))\n",
    "        except Exception as e:\n",
    "            errors.append((i, j, e))\n",
    "len(errors), failure_examples"
   ]
  },
  {
   "cell_type": "markdown",
   "metadata": {},
   "source": [
    "# 2. Removing what can't be combined"
   ]
  },
  {
   "cell_type": "markdown",
   "metadata": {},
   "source": [
    "Count lengths of utterances_lists. if the number of generated variations for each original utterance in the dialogue equals 3, the example will be added to the \"normals\". Otherwise - to the \"exceptions\""
   ]
  },
  {
   "cell_type": "code",
   "execution_count": 133,
   "metadata": {},
   "outputs": [
    {
     "name": "stderr",
     "output_type": "stream",
     "text": [
      "100%|██████████| 402/402 [00:00<00:00, 18798.89it/s]\n"
     ]
    },
    {
     "data": {
      "text/plain": [
       "(50, 4453, 3947, 506)"
      ]
     },
     "execution_count": 133,
     "metadata": {},
     "output_type": "execute_result"
    }
   ],
   "source": [
    "all_lens = []\n",
    "normals, exceptions, errors = [], [], []\n",
    "\n",
    "for i, example in enumerate(tqdm(data)):\n",
    "    augmented_dialogues = example['augmented_dialogues']\n",
    "\n",
    "    for j, aug_dia in enumerate(augmented_dialogues):\n",
    "        try:\n",
    "            utterances_lists = [turn['text'] for turn in aug_dia['messages']]\n",
    "            lens = [len(uttr_list) for uttr_list in utterances_lists]\n",
    "            if set(lens) == {3}:\n",
    "                normals.append((i, j))\n",
    "            else:\n",
    "                # exceptions.append((i, j, lens))\n",
    "                exceptions.append((i, j))\n",
    "            all_lens.append(lens)\n",
    "        except Exception as e:\n",
    "            # errors.append((i, j, e))\n",
    "            errors.append((i, j))     \n",
    "len(errors), len(all_lens), len(normals), len(exceptions)"
   ]
  },
  {
   "cell_type": "markdown",
   "metadata": {},
   "source": [
    "Making new data without exceptions and errors:"
   ]
  },
  {
   "cell_type": "code",
   "execution_count": 134,
   "metadata": {},
   "outputs": [
    {
     "name": "stderr",
     "output_type": "stream",
     "text": [
      "  0%|          | 0/402 [00:00<?, ?it/s]"
     ]
    },
    {
     "name": "stderr",
     "output_type": "stream",
     "text": [
      "100%|██████████| 402/402 [00:00<00:00, 8679.26it/s]\n"
     ]
    },
    {
     "data": {
      "text/plain": [
       "402"
      ]
     },
     "execution_count": 134,
     "metadata": {},
     "output_type": "execute_result"
    }
   ],
   "source": [
    "new_data = []\n",
    "\n",
    "for i, example in enumerate(tqdm(data)):\n",
    "    new_example = {}\n",
    "    new_example['graph'] = example['graph']\n",
    "    new_example['topic'] = example['topic']\n",
    "    new_example['dialogues'] = []\n",
    "    new_example['augmented_dialogues'] = []\n",
    "        \n",
    "    dialogues = example['dialogues']\n",
    "    augmented_dialogues = example['augmented_dialogues']\n",
    "\n",
    "    for j, (orig_dia, aug_dia) in enumerate(zip(dialogues, augmented_dialogues)):\n",
    "        if (i, j) not in exceptions and (i, j) not in errors:\n",
    "            new_example['dialogues'].append(orig_dia)\n",
    "            new_example['augmented_dialogues'].append(aug_dia)\n",
    "        \n",
    "    new_data.append(new_example)\n",
    "len(new_data)"
   ]
  },
  {
   "cell_type": "code",
   "execution_count": 135,
   "metadata": {},
   "outputs": [
    {
     "name": "stderr",
     "output_type": "stream",
     "text": [
      "100%|██████████| 402/402 [00:00<00:00, 20903.66it/s]\n"
     ]
    },
    {
     "data": {
      "text/plain": [
       "[]"
      ]
     },
     "execution_count": 135,
     "metadata": {},
     "output_type": "execute_result"
    }
   ],
   "source": [
    "all_lens = []\n",
    "normals, exceptions, errors = [], [], []\n",
    "\n",
    "for i, example in enumerate(tqdm(new_data)):\n",
    "    augmented_dialogues = example['augmented_dialogues']\n",
    "\n",
    "    for j, aug_dia in enumerate(augmented_dialogues):\n",
    "        try:\n",
    "            utterances_lists = [turn['text'] for turn in aug_dia['messages']]\n",
    "            lens = [len(uttr_list) for uttr_list in utterances_lists]\n",
    "            if set(lens) == {3}:\n",
    "                normals.append((i, j))\n",
    "            else:\n",
    "                # exceptions.append((i, j, lens))\n",
    "                exceptions.append((i, j))\n",
    "            all_lens.append(lens)\n",
    "        except Exception as e:\n",
    "            errors.append((i, j, e))    \n",
    "errors"
   ]
  },
  {
   "cell_type": "code",
   "execution_count": 136,
   "metadata": {},
   "outputs": [
    {
     "name": "stderr",
     "output_type": "stream",
     "text": [
      "100%|██████████| 402/402 [00:00<00:00, 515472.40it/s]"
     ]
    },
    {
     "name": "stdout",
     "output_type": "stream",
     "text": [
      "135\n",
      "182\n",
      "200\n",
      "242\n",
      "248\n",
      "293\n"
     ]
    },
    {
     "name": "stderr",
     "output_type": "stream",
     "text": [
      "\n"
     ]
    },
    {
     "data": {
      "text/plain": [
       "396"
      ]
     },
     "execution_count": 136,
     "metadata": {},
     "output_type": "execute_result"
    }
   ],
   "source": [
    "new_data_2 = []\n",
    "\n",
    "for i, example in enumerate(tqdm(new_data)):\n",
    "    if example['augmented_dialogues'] == []:\n",
    "        print(i)\n",
    "        continue\n",
    "\n",
    "    new_example = {}\n",
    "    new_example['graph'] = example['graph']\n",
    "    new_example['topic'] = example['topic']\n",
    "    new_example['dialogues'] = example['dialogues']\n",
    "    new_example['augmented_dialogues'] = example['augmented_dialogues']\n",
    "\n",
    "    new_data_2.append(new_example)\n",
    "len(new_data_2)"
   ]
  },
  {
   "cell_type": "code",
   "execution_count": 137,
   "metadata": {},
   "outputs": [],
   "source": [
    "with open(f\"../data/gen_dataset_augmented_0-402_cleaned.json\", \"w\", encoding=\"utf-8\") as file:\n",
    "    json.dump(new_data_2, file, indent=4)"
   ]
  },
  {
   "cell_type": "markdown",
   "metadata": {},
   "source": [
    "# 3. Adding utterances to nodes and edges"
   ]
  },
  {
   "cell_type": "code",
   "execution_count": 138,
   "metadata": {},
   "outputs": [
    {
     "data": {
      "text/plain": [
       "396"
      ]
     },
     "execution_count": 138,
     "metadata": {},
     "output_type": "execute_result"
    }
   ],
   "source": [
    "with open(\"../data/gen_dataset_augmented_0-402_cleaned.json\", \"r\") as fp:\n",
    "    data = json.load(fp)\n",
    "len(data)"
   ]
  },
  {
   "cell_type": "code",
   "execution_count": 139,
   "metadata": {},
   "outputs": [
    {
     "name": "stderr",
     "output_type": "stream",
     "text": [
      "100%|██████████| 396/396 [00:00<00:00, 2331.60it/s]\n"
     ]
    }
   ],
   "source": [
    "for i, example in enumerate(tqdm(data)):\n",
    "    dialogues = example['dialogues']\n",
    "    augmented_dialogues = example['augmented_dialogues']\n",
    "    \n",
    "    for j, (orig_dia, aug_dia) in enumerate(zip(dialogues, augmented_dialogues)):\n",
    "        for orig_turn, aug_turn in zip(orig_dia['messages'], aug_dia['messages']):\n",
    "            phrase_to_look_for = orig_turn['text']\n",
    "            phrases_to_add = aug_turn['text']\n",
    "\n",
    "            if aug_turn['participant'] == 'assistant':\n",
    "                key = 'nodes'\n",
    "            elif aug_turn['participant'] == 'user':\n",
    "                key = 'edges'\n",
    "            \n",
    "            for turn in example['graph'][key]:\n",
    "                if (phrase_to_look_for in turn['utterances'] and \n",
    "                    phrases_to_add not in turn['utterances']):\n",
    "                    turn['utterances'] += phrases_to_add"
   ]
  },
  {
   "cell_type": "code",
   "execution_count": 140,
   "metadata": {},
   "outputs": [
    {
     "data": {
      "text/plain": [
       "{'source': 5,\n",
       " 'target': 6,\n",
       " 'utterances': ['Medium, please.',\n",
       "  \"I'd like a medium size, please.\",\n",
       "  'Medium would be great, thanks.',\n",
       "  'Please get me a medium.',\n",
       "  'Medium, please.',\n",
       "  'I still want a medium size.',\n",
       "  'Let’s stick with medium, please.',\n",
       "  'A medium size, please.',\n",
       "  'Medium would be great, thanks.',\n",
       "  \"I'd like a medium, please.\",\n",
       "  'Medium, please.',\n",
       "  'Still medium, thank you.',\n",
       "  'Let’s stick with medium, please.',\n",
       "  \"I'll take a medium, please.\",\n",
       "  'Medium would be great, thank you.',\n",
       "  \"I'd like a medium size.\",\n",
       "  'Medium, please.',\n",
       "  'I’ll go with medium again.',\n",
       "  'A medium size, please.']}"
      ]
     },
     "execution_count": 140,
     "metadata": {},
     "output_type": "execute_result"
    }
   ],
   "source": [
    "data[0]['graph']['edges'][4]"
   ]
  },
  {
   "cell_type": "code",
   "execution_count": 141,
   "metadata": {},
   "outputs": [
    {
     "name": "stderr",
     "output_type": "stream",
     "text": [
      "100%|██████████| 396/396 [00:00<00:00, 10435.95it/s]\n"
     ]
    }
   ],
   "source": [
    "for i, example in enumerate(tqdm(data)):\n",
    "    for key in ['nodes', 'edges']:\n",
    "        for turn in example['graph'][key]:\n",
    "            while '' in turn['utterances']:\n",
    "                turn['utterances'].remove('')\n",
    "            turn['utterances'] = list(set(turn['utterances']))"
   ]
  },
  {
   "cell_type": "code",
   "execution_count": 142,
   "metadata": {},
   "outputs": [
    {
     "data": {
      "text/plain": [
       "{'source': 5,\n",
       " 'target': 6,\n",
       " 'utterances': [\"I'd like a medium size.\",\n",
       "  'Medium, please.',\n",
       "  'A medium size, please.',\n",
       "  \"I'd like a medium, please.\",\n",
       "  'Medium would be great, thank you.',\n",
       "  'Please get me a medium.',\n",
       "  'I’ll go with medium again.',\n",
       "  'Let’s stick with medium, please.',\n",
       "  'Medium would be great, thanks.',\n",
       "  \"I'd like a medium size, please.\",\n",
       "  'I still want a medium size.',\n",
       "  \"I'll take a medium, please.\",\n",
       "  'Still medium, thank you.']}"
      ]
     },
     "execution_count": 142,
     "metadata": {},
     "output_type": "execute_result"
    }
   ],
   "source": [
    "data[0]['graph']['edges'][4]"
   ]
  },
  {
   "cell_type": "code",
   "execution_count": 143,
   "metadata": {},
   "outputs": [],
   "source": [
    "with open(f\"../data/gen_dataset_augmented_0-402_nodes_edges.json\", \"w\", encoding=\"utf-8\") as file:\n",
    "    json.dump(data, file, indent=4)"
   ]
  },
  {
   "cell_type": "markdown",
   "metadata": {},
   "source": [
    "# 4. Combine new augmented dialogues with one set of variations:"
   ]
  },
  {
   "cell_type": "code",
   "execution_count": 147,
   "metadata": {},
   "outputs": [
    {
     "data": {
      "text/plain": [
       "396"
      ]
     },
     "execution_count": 147,
     "metadata": {},
     "output_type": "execute_result"
    }
   ],
   "source": [
    "with open(\"../data/gen_dataset_augmented_0-402_nodes_edges.json\", \"r\") as fp:\n",
    "    data = json.load(fp)\n",
    "len(data)"
   ]
  },
  {
   "cell_type": "code",
   "execution_count": 145,
   "metadata": {},
   "outputs": [],
   "source": [
    "def combine_new_aug_dia(aug_dia, k):\n",
    "    new_aug_dia = {}\n",
    "    new_aug_dia['id'] = aug_dia['id'] + f'_{k}'\n",
    "    new_aug_dia['messages'] = []\n",
    "\n",
    "    roles_to_add = [turn['participant'] for turn in aug_dia['messages']]            \n",
    "    utterances_to_add = [turn['text'][k] for turn in aug_dia['messages']]\n",
    "\n",
    "    for role, uttr in zip(roles_to_add, utterances_to_add):\n",
    "        dict_messages = {}\n",
    "        dict_messages['participant'] = role\n",
    "        dict_messages['text'] = uttr         \n",
    "        new_aug_dia['messages'].append(dict_messages)\n",
    "\n",
    "    return new_aug_dia"
   ]
  },
  {
   "cell_type": "code",
   "execution_count": 148,
   "metadata": {},
   "outputs": [
    {
     "name": "stderr",
     "output_type": "stream",
     "text": [
      "  0%|          | 0/396 [00:00<?, ?it/s]"
     ]
    },
    {
     "name": "stderr",
     "output_type": "stream",
     "text": [
      "100%|██████████| 396/396 [00:00<00:00, 4823.36it/s]\n"
     ]
    },
    {
     "data": {
      "text/plain": [
       "396"
      ]
     },
     "execution_count": 148,
     "metadata": {},
     "output_type": "execute_result"
    }
   ],
   "source": [
    "new_data = []\n",
    "\n",
    "for i, example in enumerate(tqdm(data)):\n",
    "    # make a copy of example from old data\n",
    "    new_example = {}\n",
    "    new_example['graph'] = example['graph']\n",
    "    new_example['topic'] = example['topic']\n",
    "    \n",
    "    # dialogues and augmented_dialogues will be set later\n",
    "    new_example['dialogues'] = []\n",
    "    new_example['augmented_dialogues'] = []    \n",
    "\n",
    "    dialogues = example['dialogues']\n",
    "    augmented_dialogues = example['augmented_dialogues']\n",
    "\n",
    "    # take a pair of orig_dia and aug_dia (aug_dia has 3 variations of all phrases)\n",
    "    for j, (orig_dia, aug_dia) in enumerate(zip(dialogues, augmented_dialogues)):\n",
    "        # set an orig_dia without changes\n",
    "        new_example['dialogues'].append(orig_dia)\n",
    "\n",
    "        #combine 3 new aug_dias from 1 old aug_dia\n",
    "        for k in range(3):\n",
    "            new_aug_dia = combine_new_aug_dia(aug_dia, k)\n",
    "            # add new aug_dia to the new example\n",
    "            new_example['augmented_dialogues'].append(new_aug_dia)\n",
    "            \n",
    "    # add new example with new aug_dias to the new data\n",
    "    new_data.append(new_example)\n",
    "len(new_data)"
   ]
  },
  {
   "cell_type": "code",
   "execution_count": 149,
   "metadata": {},
   "outputs": [],
   "source": [
    "with open(f\"../data/gen_dataset_augmented_0-402_combined.json\", \"w\", encoding=\"utf-8\") as file:\n",
    "    json.dump(new_data, file, indent=4)"
   ]
  },
  {
   "cell_type": "code",
   "execution_count": 155,
   "metadata": {},
   "outputs": [
    {
     "data": {
      "text/plain": [
       "{'id': 'Responding to DMs on Instagram/Facebook._1_0_0',\n",
       " 'messages': [{'participant': 'assistant',\n",
       "   'text': 'Hello! How can I help you today?'},\n",
       "  {'participant': 'user', 'text': 'I’d like to place an order.'},\n",
       "  {'participant': 'assistant',\n",
       "   'text': 'Awesome! Which product are you interested in?'},\n",
       "  {'participant': 'user', 'text': 'I would like a t-shirt.'},\n",
       "  {'participant': 'assistant', 'text': 'What size do you prefer?'},\n",
       "  {'participant': 'user', 'text': \"I'd like a medium size, please.\"},\n",
       "  {'participant': 'assistant', 'text': 'Do you want that in red or blue?'},\n",
       "  {'participant': 'user', 'text': 'I prefer red, please.'},\n",
       "  {'participant': 'assistant',\n",
       "   'text': 'Great choice! Could you provide your shipping address?'},\n",
       "  {'participant': 'user', 'text': 'Sure, it’s 123 Main Street.'},\n",
       "  {'participant': 'assistant',\n",
       "   'text': 'Thanks! Your order has been successfully placed. Is there anything else you need?'},\n",
       "  {'participant': 'user', 'text': 'Actually, I’d like to modify my order.'},\n",
       "  {'participant': 'assistant',\n",
       "   'text': 'Absolutely! What changes would you like to make?'},\n",
       "  {'participant': 'user', 'text': 'I want it in a large size now.'},\n",
       "  {'participant': 'assistant', 'text': 'What size would you like?'},\n",
       "  {'participant': 'user', 'text': 'Medium, please.'},\n",
       "  {'participant': 'assistant', 'text': 'Would you like that in red or blue?'},\n",
       "  {'participant': 'user', 'text': 'Red, please.'},\n",
       "  {'participant': 'assistant',\n",
       "   'text': 'Great! Can I have your shipping address again?'},\n",
       "  {'participant': 'user', 'text': 'Sure, it’s 123 Main St.'},\n",
       "  {'participant': 'assistant',\n",
       "   'text': 'Thank you! Your order has been successfully placed. Is there anything else I can assist you with?'},\n",
       "  {'participant': 'user', 'text': 'No, that’s everything. Thank you!'},\n",
       "  {'participant': 'assistant',\n",
       "   'text': 'Okay, feel free to reach out anytime. Have a wonderful day!'}]}"
      ]
     },
     "execution_count": 155,
     "metadata": {},
     "output_type": "execute_result"
    }
   ],
   "source": [
    "new_data[0]['augmented_dialogues'][0]"
   ]
  },
  {
   "cell_type": "code",
   "execution_count": 157,
   "metadata": {},
   "outputs": [
    {
     "data": {
      "text/plain": [
       "[{'source': 1,\n",
       "  'target': 2,\n",
       "  'utterances': ['I’d like to make an order.',\n",
       "   'I want to order something.',\n",
       "   'I’d like to place an order.',\n",
       "   'I want to make an order.',\n",
       "   'I want to make a purchase.',\n",
       "   'I want to place an order.',\n",
       "   \"I'm looking to order something.\",\n",
       "   \"I'm looking to place an order.\"]},\n",
       " {'source': 1,\n",
       "  'target': 3,\n",
       "  'utterances': ['I would like some details on your product offerings.',\n",
       "   \"I'd like some product information.\",\n",
       "   'Could you provide me with some details about your products?',\n",
       "   'Could you provide me with details about your products?',\n",
       "   \"I'm interested in learning more about your products.\",\n",
       "   'I would like to get some information on your offerings.']},\n",
       " {'source': 1,\n",
       "  'target': 4,\n",
       "  'utterances': ['No worries, I appreciate it.',\n",
       "   'Never mind, thanks.',\n",
       "   \"It's all good, thanks anyway.\",\n",
       "   \"That's fine, thank you.\"]},\n",
       " {'source': 2,\n",
       "  'target': 5,\n",
       "  'utterances': [\"I'd love to order a t-shirt.\",\n",
       "   \"Let's go with a t-shirt.\",\n",
       "   'I would like a t-shirt.',\n",
       "   'I want to get a t-shirt.',\n",
       "   'I would like to order a t-shirt.',\n",
       "   'I want a t-shirt.',\n",
       "   \"I'm interested in a t-shirt.\",\n",
       "   'I’m back to wanting a t-shirt.',\n",
       "   'I want a t-shirt again.',\n",
       "   'I’d like a t-shirt.',\n",
       "   'I would like to get a t-shirt.']},\n",
       " {'source': 5,\n",
       "  'target': 6,\n",
       "  'utterances': [\"I'd like a medium size.\",\n",
       "   'Medium, please.',\n",
       "   'A medium size, please.',\n",
       "   \"I'd like a medium, please.\",\n",
       "   'Medium would be great, thank you.',\n",
       "   'Please get me a medium.',\n",
       "   'I’ll go with medium again.',\n",
       "   'Let’s stick with medium, please.',\n",
       "   'Medium would be great, thanks.',\n",
       "   \"I'd like a medium size, please.\",\n",
       "   'I still want a medium size.',\n",
       "   \"I'll take a medium, please.\",\n",
       "   'Still medium, thank you.']},\n",
       " {'source': 6,\n",
       "  'target': 7,\n",
       "  'utterances': ['I choose red, please.',\n",
       "   'I prefer red, please.',\n",
       "   'I’d like red again.',\n",
       "   'Red sounds good to me.',\n",
       "   'Red works for me.',\n",
       "   'I’d like it in red.',\n",
       "   'Red sounds good, thanks.',\n",
       "   'Red would be perfect.',\n",
       "   'I’ll go with red, thanks.',\n",
       "   \"I'll choose red, please.\",\n",
       "   'Red, please.',\n",
       "   'I’ll take it in red.',\n",
       "   \"I'll take it in red, please.\"]},\n",
       " {'source': 7,\n",
       "  'target': 8,\n",
       "  'utterances': ['Absolutely, the address is 123 Main St.',\n",
       "   'Sure, it’s 123 Main Street.',\n",
       "   'Alright, my address is 123 Main St.',\n",
       "   'Of course, it’s 123 Main Street.',\n",
       "   'Alright, the address is 123 Main St.',\n",
       "   'Absolutely, my address is 123 Main St.',\n",
       "   \"It's 123 Main Street.\",\n",
       "   'Sure, it’s 123 Main St.',\n",
       "   'Absolutely, I live at 123 Main St.',\n",
       "   'Sure, my address is 123 Main St.',\n",
       "   'Of course, my address is 123 Main St.']},\n",
       " {'source': 8,\n",
       "  'target': 9,\n",
       "  'utterances': ['I was wondering if I could alter my order.',\n",
       "   'Actually, can I change my order?',\n",
       "   'Actually, I’d like to change something in my order.',\n",
       "   'I want to adjust my order, if possible.',\n",
       "   'Actually, I need to modify my order.',\n",
       "   'I need to make a modification to my order.',\n",
       "   'Can I change my order, please?',\n",
       "   'Actually, I’d like to modify my order.']},\n",
       " {'source': 8,\n",
       "  'target': 4,\n",
       "  'utterances': [\"No, that's it. I appreciate your help.\",\n",
       "   'That’s all for now. Thanks!',\n",
       "   'Nope, that will be all. Thank you!',\n",
       "   \"No, that's all. Thanks a lot.\",\n",
       "   \"No, that's everything. Thank you.\",\n",
       "   'No, that’s everything. Thank you!',\n",
       "   \"That's all I needed. Thanks!\",\n",
       "   \"That's everything for now, thank you.\",\n",
       "   \"No, that's all. Thank you.\",\n",
       "   'Nope, that’s it. Thanks!']},\n",
       " {'source': 9,\n",
       "  'target': 5,\n",
       "  'utterances': ['I want it in a large size now.',\n",
       "   'I want to switch to a large size.',\n",
       "   'I would like a large size instead.',\n",
       "   'Can I switch to a large size?',\n",
       "   'Please change it to a large size.',\n",
       "   'I’d prefer a large size instead.',\n",
       "   'I want a large size.']},\n",
       " {'source': 6,\n",
       "  'target': 2,\n",
       "  'utterances': ['Can I switch my product?',\n",
       "   'I’d like to modify my order.',\n",
       "   'Actually, can I change my product?',\n",
       "   'Actually, I want to change my order.']}]"
      ]
     },
     "execution_count": 157,
     "metadata": {},
     "output_type": "execute_result"
    }
   ],
   "source": [
    "new_data[0]['graph']['edges']"
   ]
  }
 ],
 "metadata": {
  "kernelspec": {
   "display_name": "conda_env_py311",
   "language": "python",
   "name": "python3"
  },
  "language_info": {
   "codemirror_mode": {
    "name": "ipython",
    "version": 3
   },
   "file_extension": ".py",
   "mimetype": "text/x-python",
   "name": "python",
   "nbconvert_exporter": "python",
   "pygments_lexer": "ipython3",
   "version": "3.11.11"
  }
 },
 "nbformat": 4,
 "nbformat_minor": 2
}
