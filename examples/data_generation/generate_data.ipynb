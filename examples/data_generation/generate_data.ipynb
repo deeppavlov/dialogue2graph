{
 "cells": [
  {
   "cell_type": "code",
   "execution_count": 1,
   "metadata": {},
   "outputs": [
    {
     "name": "stdout",
     "output_type": "stream",
     "text": [
      "\u001b[34mInstalling dependencies from lock file\u001b[39m\n",
      "\n",
      "No dependencies to install or update\n",
      "\n",
      "\u001b[39;1mInstalling\u001b[39;22m the current project: \u001b[36mdialogue2graph\u001b[39m (\u001b[39;1m0.1.0\u001b[39;22m)\u001b[1G\u001b[2K\u001b[39;1mInstalling\u001b[39;22m the current project: \u001b[36mdialogue2graph\u001b[39m (\u001b[32m0.1.0\u001b[39m)\n"
     ]
    }
   ],
   "source": [
    "!poetry install"
   ]
  },
  {
   "cell_type": "code",
   "execution_count": 2,
   "metadata": {},
   "outputs": [
    {
     "name": "stderr",
     "output_type": "stream",
     "text": [
      "/home/askatasuna/.cache/pypoetry/virtualenvs/dialogue2graph-VcuUrJCU-py3.11/lib/python3.11/site-packages/pydantic/_internal/_fields.py:192: UserWarning: Field name \"validate\" in \"Dialogue\" shadows an attribute in parent \"BaseModel\"\n",
      "  warnings.warn(\n"
     ]
    },
    {
     "data": {
      "text/plain": [
       "True"
      ]
     },
     "execution_count": 2,
     "metadata": {},
     "output_type": "execute_result"
    }
   ],
   "source": [
    "import os\n",
    "import json\n",
    "from dotenv import load_dotenv\n",
    "from langchain_openai import ChatOpenAI\n",
    "from dialogue2graph.datasets.complex_dialogues.generation import LoopedGraphGenerator\n",
    "from dialogue2graph import Dialogue, Graph\n",
    "\n",
    "load_dotenv()"
   ]
  },
  {
   "cell_type": "code",
   "execution_count": 3,
   "metadata": {},
   "outputs": [],
   "source": [
    "gen_model = ChatOpenAI(model='o1-mini')\n",
    "val_model = ChatOpenAI(model='gpt-4o-mini')"
   ]
  },
  {
   "cell_type": "code",
   "execution_count": 4,
   "metadata": {},
   "outputs": [],
   "source": [
    "gen = LoopedGraphGenerator(\n",
    "    generation_model=gen_model,\n",
    "    validation_model=val_model,\n",
    ")"
   ]
  },
  {
   "cell_type": "code",
   "execution_count": 5,
   "metadata": {},
   "outputs": [
    {
     "name": "stderr",
     "output_type": "stream",
     "text": [
      "INFO:httpx:HTTP Request: POST http://193.187.173.33:8002/api/providers/openai/v1/completions/chat/completions \"HTTP/1.1 404 Not Found\"\n"
     ]
    },
    {
     "name": "stdout",
     "output_type": "stream",
     "text": [
      "\n",
      "==================================================\n",
      "Generating graph for topic: antivirus software problems\n",
      "==================================================\n",
      "Generating Graph ...\n",
      "❌ Failed to generate graph for antivirus software problems\n",
      "Error type: ErrorType.GENERATION_FAILED\n",
      "Error message: Unexpected error during generation: Error code: 404 - {'error': {'code': '404', 'message': '[BricksLLM] route not supported', 'type': ''}}\n"
     ]
    },
    {
     "data": {
      "text/plain": [
       "[]"
      ]
     },
     "execution_count": 5,
     "metadata": {},
     "output_type": "execute_result"
    }
   ],
   "source": [
    "gen.invoke(topic='antivirus software problems')"
   ]
  }
 ],
 "metadata": {
  "kernelspec": {
   "display_name": "dialogue2graph-VcuUrJCU-py3.11",
   "language": "python",
   "name": "python3"
  },
  "language_info": {
   "codemirror_mode": {
    "name": "ipython",
    "version": 3
   },
   "file_extension": ".py",
   "mimetype": "text/x-python",
   "name": "python",
   "nbconvert_exporter": "python",
   "pygments_lexer": "ipython3",
   "version": "3.12.3"
  }
 },
 "nbformat": 4,
 "nbformat_minor": 2
}
