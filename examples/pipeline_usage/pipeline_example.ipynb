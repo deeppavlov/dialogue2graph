{
 "cells": [
  {
   "cell_type": "markdown",
   "metadata": {},
   "source": [
    "# Pipeline Usage\n",
    "\n",
    "In this example we will show how to use Dialogue2Graph via python API.\n",
    "\n",
    "First of all we need to import the `ModelStorage` and `Pipeline` we will be using."
   ]
  },
  {
   "cell_type": "code",
   "execution_count": 1,
   "metadata": {},
   "outputs": [
    {
     "name": "stderr",
     "output_type": "stream",
     "text": [
      "/home/askatasuna/Документы/DeepPavlov/chatsky-llm-autoconfig/.venv/lib/python3.12/site-packages/pydantic/_internal/_fields.py:198: UserWarning: Field name \"validate\" in \"Dialogue\" shadows an attribute in parent \"BaseModel\"\n",
      "  warnings.warn(\n",
      "2025-04-01 21:17:00,978 - datasets - INFO - PyTorch version 2.6.0 available.\n"
     ]
    }
   ],
   "source": [
    "from dialogue2graph.pipelines.model_storage import ModelStorage\n",
    "from dialogue2graph.pipelines.d2g_llm.pipeline import Pipeline as D2GLLMPipeline"
   ]
  },
  {
   "cell_type": "markdown",
   "metadata": {},
   "source": [
    "`ModelStorage` instance is used to store LLM and SentenceTransformer models and use cached variants to avoid multiple instances of the same model being up simultaneously.\n",
    "\n",
    "Each `Pipeline` has it's own default models, but you can override them by passing the key to the model you've added to the `ModelStorage`"
   ]
  },
  {
   "cell_type": "code",
   "execution_count": 2,
   "metadata": {},
   "outputs": [
    {
     "name": "stderr",
     "output_type": "stream",
     "text": [
      "2025-04-01 21:17:01,652 - dialogue2graph.pipelines.model_storage - INFO - Added llm model 'my_model' to storage\n",
      "2025-04-01 21:17:01,707 - dialogue2graph.pipelines.model_storage - INFO - Added llm model 'd2g_llm_grouping_llm:v1' to storage\n",
      "2025-04-01 21:17:01,760 - dialogue2graph.pipelines.model_storage - INFO - Added llm model 'd2g_llm_filling_llm:v1' to storage\n",
      "2025-04-01 21:17:01,762 - sentence_transformers.SentenceTransformer - INFO - Load pretrained SentenceTransformer: cointegrated/LaBSE-en-ru\n",
      "2025-04-01 21:17:05,250 - dialogue2graph.pipelines.model_storage - INFO - Added emb model 'd2g_llm_sim_model:v1' to storage\n"
     ]
    }
   ],
   "source": [
    "ms = ModelStorage()\n",
    "ms.add(\n",
    "    \"my_model\",\n",
    "    config={\n",
    "        \"name\": \"gpt-3.5-turbo\"\n",
    "    },\n",
    "    model_type=\"llm\",\n",
    ")\n",
    "\n",
    "pipe = D2GLLMPipeline(ms, formatting_llm=\"my_model\")"
   ]
  },
  {
   "cell_type": "code",
   "execution_count": 3,
   "metadata": {},
   "outputs": [
    {
     "name": "stderr",
     "output_type": "stream",
     "text": [
      "2025-04-01 21:17:10,679 - httpx - INFO - HTTP Request: POST https://api.vsegpt.ru/v1/chat/completions \"HTTP/1.1 200 OK\"\n",
      "2025-04-01 21:17:10,721 - chromadb.telemetry.product.posthog - INFO - Anonymized telemetry enabled. See                     https://docs.trychroma.com/telemetry for more information.\n",
      "/home/askatasuna/Документы/DeepPavlov/chatsky-llm-autoconfig/dialogue2graph/utils/vector_stores.py:42: UserWarning: Relevance scores must be between 0 and 1, got [(Document(id='0', metadata={'id': 0}, page_content='hey there! how can i help you today?'), 0.9999999999998331), (Document(id='1', metadata={'id': 1}, page_content='sure! i can help with that. when is your flight, and where are you departing from?'), 0.3425369380032218), (Document(id='3', metadata={'id': 3}, page_content='no worries! feel free to reach out anytime.'), 0.09999855712188555), (Document(id='4', metadata={'id': 4}, page_content=\"you're welcome! have a fantastic trip!\"), 0.012217798441700123), (Document(id='2', metadata={'id': 2}, page_content=\"if you'd prefer, i can send you options for ride-share services instead. would you like that?\"), -0.15093265214397067)]\n",
      "  docs = self.assistant_store.similarity_search_with_relevance_scores(\n",
      "/home/askatasuna/Документы/DeepPavlov/chatsky-llm-autoconfig/dialogue2graph/utils/vector_stores.py:42: UserWarning: Relevance scores must be between 0 and 1, got [(Document(id='2', metadata={'id': 2}, page_content=\"if you'd prefer, i can send you options for ride-share services instead. would you like that?\"), 0.9999999999997823), (Document(id='1', metadata={'id': 1}, page_content='sure! i can help with that. when is your flight, and where are you departing from?'), 0.07645962652224825), (Document(id='4', metadata={'id': 4}, page_content=\"you're welcome! have a fantastic trip!\"), -0.1350976596899427), (Document(id='0', metadata={'id': 0}, page_content='hey there! how can i help you today?'), -0.15093282073136471), (Document(id='3', metadata={'id': 3}, page_content='no worries! feel free to reach out anytime.'), -0.1615920958945578)]\n",
      "  docs = self.assistant_store.similarity_search_with_relevance_scores(\n",
      "/home/askatasuna/Документы/DeepPavlov/chatsky-llm-autoconfig/dialogue2graph/utils/vector_stores.py:42: UserWarning: Relevance scores must be between 0 and 1, got [(Document(id='3', metadata={'id': 3}, page_content='no worries! feel free to reach out anytime.'), 0.9999999999998337), (Document(id='4', metadata={'id': 4}, page_content=\"you're welcome! have a fantastic trip!\"), 0.1991303893367219), (Document(id='0', metadata={'id': 0}, page_content='hey there! how can i help you today?'), 0.09999855712188555), (Document(id='1', metadata={'id': 1}, page_content='sure! i can help with that. when is your flight, and where are you departing from?'), 0.09619067365262324), (Document(id='2', metadata={'id': 2}, page_content=\"if you'd prefer, i can send you options for ride-share services instead. would you like that?\"), -0.1615924330693459)]\n",
      "  docs = self.assistant_store.similarity_search_with_relevance_scores(\n",
      "/home/askatasuna/Документы/DeepPavlov/chatsky-llm-autoconfig/dialogue2graph/utils/vector_stores.py:42: UserWarning: Relevance scores must be between 0 and 1, got [(Document(id='4', metadata={'id': 4}, page_content=\"you're welcome! have a fantastic trip!\"), 0.9999999999998329), (Document(id='3', metadata={'id': 3}, page_content='no worries! feel free to reach out anytime.'), 0.1991303893367219), (Document(id='1', metadata={'id': 1}, page_content='sure! i can help with that. when is your flight, and where are you departing from?'), 0.04436421132532331), (Document(id='0', metadata={'id': 0}, page_content='hey there! how can i help you today?'), 0.012217629854306078), (Document(id='2', metadata={'id': 2}, page_content=\"if you'd prefer, i can send you options for ride-share services instead. would you like that?\"), -0.1350977439836396)]\n",
      "  docs = self.assistant_store.similarity_search_with_relevance_scores(\n",
      "2025-04-01 21:17:11,456 - dialogue2graph.pipelines.core.graph - WARNING - requires pygraphviz http://pygraphviz.github.io/.\n",
      "Install pygraphviz from http://pygraphviz.github.io/ .\n",
      "Falling back to default layout.\n"
     ]
    },
    {
     "data": {
      "image/png": "[encoded data removed]",
      "text/plain": [
       "<Figure size 640x480 with 1 Axes>"
      ]
     },
     "metadata": {},
     "output_type": "display_data"
    }
   ],
   "source": [
    "data = [{'text': 'Hey there! How can I help you today?',\n",
    "    'participant': 'assistant'},\n",
    "   {'text': 'I need to book a ride to the airport.', 'participant': 'user'},\n",
    "   {'text': 'Sure! I can help with that. When is your flight, and where are you departing from?',\n",
    "    'participant': 'assistant'},\n",
    "   {'text': 'Do you have any other options?', 'participant': 'user'},\n",
    "   {'text': \"If you'd prefer, I can send you options for ride-share services instead. Would you like that?\",\n",
    "    'participant': 'assistant'},\n",
    "   {'text': \"No, I'll manage on my own.\", 'participant': 'user'},\n",
    "   {'text': 'No worries! Feel free to reach out anytime.',\n",
    "    'participant': 'assistant'},\n",
    "   {'text': 'Alright, thanks anyway.', 'participant': 'user'},\n",
    "   {'text': \"You're welcome! Have a fantastic trip!\",\n",
    "    'participant': 'assistant'}]\n",
    "graph = pipe.invoke(data)\n",
    "graph.visualise_short(\"transfer\")"
   ]
  },
  {
   "cell_type": "markdown",
   "metadata": {},
   "source": [
    "Also you can load and dump the models with their configs to the `.yml` files."
   ]
  },
  {
   "cell_type": "code",
   "execution_count": 4,
   "metadata": {},
   "outputs": [
    {
     "name": "stderr",
     "output_type": "stream",
     "text": [
      "2025-04-01 21:17:11,641 - dialogue2graph.pipelines.model_storage - INFO - Saved 4 models to models_config.yml\n"
     ]
    }
   ],
   "source": [
    "ms.save(\"models_config.yml\")"
   ]
  },
  {
   "cell_type": "code",
   "execution_count": 1,
   "metadata": {},
   "outputs": [
    {
     "name": "stdout",
     "output_type": "stream",
     "text": [
      "d2g_llm_filling_llm:v1:\n",
      "  name: o3-mini\n",
      "  temperature: 1\n",
      "d2g_llm_grouping_llm:v1:\n",
      "  name: gpt-4o-latest\n",
      "  temperature: 0\n",
      "d2g_llm_sim_model:v1:\n",
      "  model_kwargs:\n",
      "    device: cpu\n",
      "  model_name: cointegrated/LaBSE-en-ru\n",
      "my_model:\n",
      "  name: gpt-3.5-turbo\n"
     ]
    }
   ],
   "source": [
    "!cat models_config.yml"
   ]
  }
 ],
 "metadata": {
  "kernelspec": {
   "display_name": ".venv",
   "language": "python",
   "name": "python3"
  },
  "language_info": {
   "codemirror_mode": {
    "name": "ipython",
    "version": 3
   },
   "file_extension": ".py",
   "mimetype": "text/x-python",
   "name": "python",
   "nbconvert_exporter": "python",
   "pygments_lexer": "ipython3",
   "version": "3.12.3"
  }
 },
 "nbformat": 4,
 "nbformat_minor": 2
}
