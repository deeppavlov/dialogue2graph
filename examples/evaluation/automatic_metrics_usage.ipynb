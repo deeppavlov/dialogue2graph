{
  "cells": [
    {
      "cell_type": "markdown",
      "source": [
        "# Usage Metrics Examples"
      ],
      "metadata": {
        "id": "CHLMUVtCFW3h"
      }
    },
    {
      "cell_type": "code",
      "execution_count": 6,
      "metadata": {
        "colab": {
          "base_uri": "https://localhost:8080/"
        },
        "id": "K5TNRv-kg6__",
        "outputId": "a523e4ef-8c7e-4e29-9cbd-318b89c07b72"
      },
      "outputs": [
        {
          "output_type": "stream",
          "name": "stderr",
          "text": [
            "/usr/local/lib/python3.11/dist-packages/pydantic/_internal/_fields.py:192: UserWarning: Field name \"validate\" in \"Dialogue\" shadows an attribute in parent \"BaseModel\"\n",
            "  warnings.warn(\n"
          ]
        }
      ],
      "source": [
        "import json\n",
        "from dialogue2graph import Graph, Dialogue\n",
        "from dialogue2graph.pipelines.core.dialogue_sampling import RecursiveDialogueSampler"
      ]
    },
    {
      "cell_type": "code",
      "execution_count": 7,
      "metadata": {
        "id": "PSrViNxxhatU"
      },
      "outputs": [],
      "source": [
        "with open(\"test_cases.json\", encoding=\"utf-8\") as f:\n",
        "    data = json.load(f)"
      ]
    },
    {
      "cell_type": "code",
      "execution_count": 8,
      "metadata": {
        "id": "pq6ZsUzihlxP"
      },
      "outputs": [],
      "source": [
        "graph = Graph(graph_dict=data[0]['graph'])"
      ]
    },
    {
      "cell_type": "code",
      "execution_count": 9,
      "metadata": {
        "id": "W33y1G71hr71"
      },
      "outputs": [],
      "source": [
        "sampler = RecursiveDialogueSampler()"
      ]
    },
    {
      "cell_type": "code",
      "execution_count": 10,
      "metadata": {
        "id": "JQjFLGnThwr4",
        "colab": {
          "base_uri": "https://localhost:8080/"
        },
        "outputId": "32f9be02-56d0-4cd4-c4c2-b32a94ff4210"
      },
      "outputs": [
        {
          "output_type": "stream",
          "name": "stdout",
          "text": [
            "1 repeats works!\n"
          ]
        }
      ],
      "source": [
        "dialogues: list = sampler.invoke(graph=graph, upper_limit=10)"
      ]
    },
    {
      "cell_type": "code",
      "execution_count": 11,
      "metadata": {
        "id": "NLpV2jlWIFul"
      },
      "outputs": [],
      "source": [
        "from dialogue2graph.metrics.automatic_metrics import all_utterances_present, is_same_structure, all_roles_correct, is_correct_lenght, triplet_match, triplet_match_accuracy, compute_graph_metrics, all_paths_sampled"
      ]
    },
    {
      "cell_type": "code",
      "execution_count": 12,
      "metadata": {
        "colab": {
          "base_uri": "https://localhost:8080/"
        },
        "id": "diIYiDrcIV7D",
        "outputId": "2755d377-c054-4de9-a2bc-18d1dc5539f2"
      },
      "outputs": [
        {
          "output_type": "execute_result",
          "data": {
            "text/plain": [
              "True"
            ]
          },
          "metadata": {},
          "execution_count": 12
        }
      ],
      "source": [
        "# Checks whether every utterance in the graph (both from nodes and edges) appears at least once in the given dialogues.\n",
        "all_utterances_present(graph, dialogues)"
      ]
    },
    {
      "cell_type": "code",
      "execution_count": 13,
      "metadata": {
        "colab": {
          "base_uri": "https://localhost:8080/"
        },
        "id": "R7InN1_2oLd-",
        "outputId": "adb7febe-5177-466a-915b-a8dfde3fdae7"
      },
      "outputs": [
        {
          "output_type": "execute_result",
          "data": {
            "text/plain": [
              "True"
            ]
          },
          "metadata": {},
          "execution_count": 13
        }
      ],
      "source": [
        "# Checks if two graphs have the same structure (i.e., are isomorphic).\n",
        "graph1 = Graph(graph_dict=data[0]['graph'])\n",
        "graph2 = Graph(graph_dict=data[1]['graph'])\n",
        "is_same_structure(graph1, graph2)"
      ]
    },
    {
      "cell_type": "code",
      "execution_count": 14,
      "metadata": {
        "colab": {
          "base_uri": "https://localhost:8080/"
        },
        "id": "6Z4rvo56rUAm",
        "outputId": "de788d63-8135-4012-e586-ce648a30d0de"
      },
      "outputs": [
        {
          "output_type": "execute_result",
          "data": {
            "text/plain": [
              "True"
            ]
          },
          "metadata": {},
          "execution_count": 14
        }
      ],
      "source": [
        "# Checks if two dialogues have identical participant roles in each corresponding turn.\n",
        "all_roles_correct(dialogues[3], dialogues[4])"
      ]
    },
    {
      "cell_type": "code",
      "execution_count": null,
      "metadata": {
        "colab": {
          "base_uri": "https://localhost:8080/"
        },
        "id": "UHkFqJ3qsAv3",
        "outputId": "af38a77e-9393-4d6a-d3ea-91bda95dccca"
      },
      "outputs": [
        {
          "output_type": "execute_result",
          "data": {
            "text/plain": [
              "True"
            ]
          },
          "metadata": {},
          "execution_count": 18
        }
      ],
      "source": [
        "# Checks if two dialogues have the same number of messages.\n",
        "is_correct_lenght(dialogues[1], dialogues[2])"
      ]
    },
    {
      "cell_type": "code",
      "execution_count": 15,
      "metadata": {
        "colab": {
          "base_uri": "https://localhost:8080/"
        },
        "id": "gbeMQ5_z_tAD",
        "outputId": "0dd24c08-a1ac-470c-e044-effb928108a6"
      },
      "outputs": [
        {
          "output_type": "stream",
          "name": "stdout",
          "text": [
            "Graphs are isomorphic\n",
            "(10, 10)\n",
            "{1: ['Hello! How can I assist you with your calendar today?'], 2: [\"I'm sorry to hear you're experiencing a sync delay. Can you tell me more about the issue?\"], 3: ['Could you verify that the time zone settings are properly configured on your devices?', 'Have you checked if your time zone settings are correct on all your devices?'], 4: ['Sure, let me guide you through adjusting your time zone settings.'], 5: ['If time zone settings are correct, we can try refreshing the calendar app or reinstalling it.'], 6: ['Great! Is your calendar syncing correctly now?'], 7: ['Of course! Which device would you like to adjust the time zone settings on?'], 8: [\"I'm sorry we couldn't resolve the issue. If you need further assistance, feel free to reach out anytime. Have a great day!\"]}\n"
          ]
        }
      ],
      "source": [
        "# Attempts to match two graphs (G1 and G2)\n",
        "graph1 = Graph(graph_dict=data[0]['graph'])\n",
        "graph2 = Graph(graph_dict=data[1]['graph'])\n",
        "n1, n2 = triplet_match(graph1, graph2)"
      ]
    },
    {
      "cell_type": "code",
      "execution_count": 16,
      "metadata": {
        "colab": {
          "base_uri": "https://localhost:8080/"
        },
        "id": "TspCla76IHHK",
        "outputId": "b80bcf23-1ee8-4413-fea7-62217a8b6942"
      },
      "outputs": [
        {
          "output_type": "stream",
          "name": "stdout",
          "text": [
            "Graphs are isomorphic\n",
            "(10, 10)\n",
            "{1: ['Hello! How can I assist you with your calendar today?'], 2: [\"I'm sorry to hear you're experiencing a sync delay. Can you tell me more about the issue?\"], 3: ['Could you verify that the time zone settings are properly configured on your devices?', 'Have you checked if your time zone settings are correct on all your devices?'], 4: ['Sure, let me guide you through adjusting your time zone settings.'], 5: ['If time zone settings are correct, we can try refreshing the calendar app or reinstalling it.'], 6: ['Great! Is your calendar syncing correctly now?'], 7: ['Of course! Which device would you like to adjust the time zone settings on?'], 8: [\"I'm sorry we couldn't resolve the issue. If you need further assistance, feel free to reach out anytime. Have a great day!\"]}\n"
          ]
        },
        {
          "output_type": "execute_result",
          "data": {
            "text/plain": [
              "{'node_accuracy': 1.0, 'edge_accuracy': 1.0}"
            ]
          },
          "metadata": {},
          "execution_count": 16
        }
      ],
      "source": [
        "# Calculates a simple accuracy metric for node and edge matching based on 'triplet_match'.\n",
        "triplet_match_accuracy(graph1, graph2)"
      ]
    },
    {
      "cell_type": "code",
      "source": [
        "# Computes various statistics across a list of Graph objects, where each Graph has a 'graph_dict' containing 'edges' and 'nodes'\n",
        "compute_graph_metrics([graph1, graph2])"
      ],
      "metadata": {
        "colab": {
          "base_uri": "https://localhost:8080/"
        },
        "id": "YR85F9Q-Le_4",
        "outputId": "ac0efd2a-0b01-4620-abd9-7c9b9161faaf"
      },
      "execution_count": 17,
      "outputs": [
        {
          "output_type": "execute_result",
          "data": {
            "text/plain": [
              "{'with_cycles': 2,\n",
              " 'percentage_with_cycles': 100.0,\n",
              " 'average_edges_amount': 10.0,\n",
              " 'average_nodes_amount': 8.0,\n",
              " 'total_graphs': 2,\n",
              " 'total_edges': 20,\n",
              " 'total_nodes': 16}"
            ]
          },
          "metadata": {},
          "execution_count": 17
        }
      ]
    },
    {
      "cell_type": "code",
      "source": [
        "# Checks if all possible paths from start nodes to end nodes in the given graph appear (as a subsequence of utterances) in the provided dialogue.\n",
        "all_paths_sampled(graph, dialogues[0])"
      ],
      "metadata": {
        "colab": {
          "base_uri": "https://localhost:8080/"
        },
        "id": "eLQSLjd4N3Dl",
        "outputId": "56e00f6b-c07d-479a-ba17-d1f72b53da89"
      },
      "execution_count": 18,
      "outputs": [
        {
          "output_type": "execute_result",
          "data": {
            "text/plain": [
              "False"
            ]
          },
          "metadata": {},
          "execution_count": 18
        }
      ]
    }
  ],
  "metadata": {
    "colab": {
      "provenance": []
    },
    "kernelspec": {
      "display_name": "Python 3",
      "name": "python3"
    },
    "language_info": {
      "name": "python"
    }
  },
  "nbformat": 4,
  "nbformat_minor": 0
}