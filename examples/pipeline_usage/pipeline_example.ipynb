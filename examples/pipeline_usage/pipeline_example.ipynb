{
 "cells": [
  {
   "cell_type": "markdown",
   "metadata": {},
   "source": [
    "# Pipeline Usage\n",
    "\n",
    "In this example we will show how to use Dialog2Graph via python API.\n",
    "\n",
    "First of all we need to import the `ModelStorage` and `Pipeline` we will be using."
   ]
  },
  {
   "cell_type": "code",
   "execution_count": 1,
   "metadata": {},
   "outputs": [],
   "source": [
    "import os\n",
    "import getpass\n",
    "import logging\n",
    "import warnings\n",
    "\n",
    "logging.disable(level=logging.CRITICAL)\n",
    "warnings.filterwarnings(\"ignore\")"
   ]
  },
  {
   "cell_type": "code",
   "execution_count": null,
   "metadata": {},
   "outputs": [],
   "source": [
    "# Required to run D2GLLMPipeline\n",
    "os.environ[\"OPENAI_API_KEY\"] = getpass.getpass()\n",
    "\n",
    "# Replace if you use different base_url\n",
    "base_url = \"\"\n",
    "if base_url:\n",
    "    os.environ[\"OPENAI_BASE_URL\"] = base_url"
   ]
  },
  {
   "cell_type": "code",
   "execution_count": 3,
   "metadata": {},
   "outputs": [],
   "source": [
    "from langchain_openai.chat_models import ChatOpenAI\n",
    "\n",
    "from dialog2graph.pipelines.model_storage import ModelStorage\n",
    "from dialog2graph.pipelines.d2g_llm.pipeline import D2GLLMPipeline\n",
    "from dialog2graph.pipelines.helpers.parse_data import PipelineRawDataType"
   ]
  },
  {
   "cell_type": "markdown",
   "metadata": {},
   "source": [
    "`ModelStorage` instance is used to store LLM and SentenceTransformer models and use cached variants to avoid multiple instances of the same model being up simultaneously.\n",
    "\n",
    "Each `Pipeline` has it's own default models, but you can override them by passing the key to the model you've added to the `ModelStorage`"
   ]
  },
  {
   "cell_type": "code",
   "execution_count": 4,
   "metadata": {},
   "outputs": [],
   "source": [
    "ms = ModelStorage()\n",
    "ms.add(\n",
    "    \"my_filling_model\",\n",
    "    config={\"model_name\": \"gpt-3.5-turbo\"},\n",
    "    model_type=ChatOpenAI,\n",
    ")\n",
    "pipe = D2GLLMPipeline(\"d2g_pipeline\", model_storage=ms, filling_llm=\"my_filling_model\")"
   ]
  },
  {
   "cell_type": "code",
   "execution_count": 5,
   "metadata": {},
   "outputs": [
    {
     "data": {
      "image/png": "[encoded data removed]",
      "text/plain": [
       "<Figure size 640x480 with 1 Axes>"
      ]
     },
     "metadata": {},
     "output_type": "display_data"
    }
   ],
   "source": [
    "data = [\n",
    "    {\"text\": \"Hey there! How can I help you today?\", \"participant\": \"assistant\"},\n",
    "    {\"text\": \"I need to book a ride to the airport.\", \"participant\": \"user\"},\n",
    "    {\n",
    "        \"text\": \"Sure! I can help with that. When is your flight, and where are you departing from?\",\n",
    "        \"participant\": \"assistant\",\n",
    "    },\n",
    "    {\"text\": \"Do you have any other options?\", \"participant\": \"user\"},\n",
    "    {\n",
    "        \"text\": \"If you'd prefer, I can send you options for ride-share services instead. Would you like that?\",\n",
    "        \"participant\": \"assistant\",\n",
    "    },\n",
    "    {\"text\": \"No, I'll manage on my own.\", \"participant\": \"user\"},\n",
    "    {\"text\": \"No worries! Feel free to reach out anytime.\", \"participant\": \"assistant\"},\n",
    "    {\"text\": \"Alright, thanks anyway.\", \"participant\": \"user\"},\n",
    "    {\"text\": \"You're welcome! Have a fantastic trip!\", \"participant\": \"assistant\"},\n",
    "]\n",
    "data = PipelineRawDataType(dialogs=data)\n",
    "graph, report = pipe.invoke(data)\n",
    "graph.visualise_short(\"transfer\")"
   ]
  },
  {
   "cell_type": "markdown",
   "metadata": {},
   "source": [
    "Also you can load and dump the models with their configs to the `.yml` files."
   ]
  },
  {
   "cell_type": "code",
   "execution_count": 6,
   "metadata": {},
   "outputs": [],
   "source": [
    "ms.save(\"models_config.yml\")"
   ]
  },
  {
   "cell_type": "code",
   "execution_count": 7,
   "metadata": {},
   "outputs": [
    {
     "name": "stdout",
     "output_type": "stream",
     "text": [
      "my_filling_model:\n",
      "  config:\n",
      "    model_name: gpt-3.5-turbo\n",
      "  model_type: ChatOpenAI\n",
      "three_stages_llm_formatting_llm:v1:\n",
      "  config:\n",
      "    model_name: gpt-4o-mini\n",
      "    temperature: 0\n",
      "  model_type: ChatOpenAI\n",
      "three_stages_llm_grouping_llm:v1:\n",
      "  config:\n",
      "    model_name: chatgpt-4o-latest\n",
      "    temperature: 0\n",
      "  model_type: ChatOpenAI\n",
      "three_stages_llm_sim_model:v1:\n",
      "  config:\n",
      "    model_kwargs:\n",
      "      device: cpu\n",
      "    model_name: BAAI/bge-m3\n",
      "  model_type: HuggingFaceEmbeddings\n"
     ]
    }
   ],
   "source": [
    "!cat models_config.yml"
   ]
  }
 ],
 "metadata": {
  "kernelspec": {
   "display_name": "dialog2graph-py3.12 (3.12.3)",
   "language": "python",
   "name": "python3"
  },
  "language_info": {
   "codemirror_mode": {
    "name": "ipython",
    "version": 3
   },
   "file_extension": ".py",
   "mimetype": "text/x-python",
   "name": "python",
   "nbconvert_exporter": "python",
   "pygments_lexer": "ipython3",
   "version": "3.12.3"
  }
 },
 "nbformat": 4,
 "nbformat_minor": 2
}
