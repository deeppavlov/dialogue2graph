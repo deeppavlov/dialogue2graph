{
 "cells": [
  {
   "cell_type": "code",
   "execution_count": 1,
   "metadata": {},
   "outputs": [],
   "source": [
    "import json\n",
    "import numpy as np\n",
    "from langchain_community.cross_encoders.huggingface import HuggingFaceCrossEncoder\n",
    "from langchain.output_parsers import PydanticOutputParser, OutputFixingParser\n",
    "from langchain.chat_models import ChatOpenAI"
   ]
  },
  {
   "cell_type": "code",
   "execution_count": 2,
   "metadata": {},
   "outputs": [],
   "source": [
    "%load_ext autoreload\n",
    "%autoreload 2"
   ]
  },
  {
   "cell_type": "code",
   "execution_count": 69,
   "metadata": {},
   "outputs": [],
   "source": [
    "from chatsky_llm_autoconfig.graph import BaseGraph, Graph\n",
    "from chatsky_llm_autoconfig.metrics.embedder import get_embedding\n",
    "from chatsky_llm_autoconfig.metrics.automatic_metrics import is_same_structure\n",
    "from chatsky_llm_autoconfig.schemas import CompareResponse\n",
    "from chatsky_llm_autoconfig.algorithms.three_stages_graph_generation import ThreeStagesGraphGenerator\n",
    "from chatsky_llm_autoconfig.dialogue import Dialogue"
   ]
  },
  {
   "cell_type": "code",
   "execution_count": 4,
   "metadata": {},
   "outputs": [],
   "source": [
    "from settings import EnvSettings\n",
    "from utils import call_llm_api, read_json\n",
    "from compare_prompt import (\n",
    "    compare_graphs_prompt, graph_example_1, result_form\n",
    ")"
   ]
  },
  {
   "cell_type": "code",
   "execution_count": 5,
   "metadata": {},
   "outputs": [],
   "source": [
    "env_settings = EnvSettings()\n"
   ]
  },
  {
   "cell_type": "code",
   "execution_count": 6,
   "metadata": {},
   "outputs": [],
   "source": [
    "evaluator = HuggingFaceCrossEncoder(model_name=env_settings.RERANKER_MODEL, model_kwargs={\"device\": env_settings.EMBEDDER_DEVICE})\n",
    "graph_generator = ThreeStagesGraphGenerator()"
   ]
  },
  {
   "cell_type": "code",
   "execution_count": 7,
   "metadata": {},
   "outputs": [],
   "source": [
    "def nodes2list(graph: dict) -> list:\n",
    "    res = []\n",
    "\n",
    "    for node in graph[\"nodes\"]:\n",
    "        utt = \"\"\n",
    "        for n_utt in node['utterances']:\n",
    "            utt += n_utt + \" \"\n",
    "        res.append(utt)\n",
    "\n",
    "    return res"
   ]
  },
  {
   "cell_type": "code",
   "execution_count": 8,
   "metadata": {},
   "outputs": [],
   "source": [
    "def graph2list(graph: dict) -> tuple[list,int]:\n",
    "    res = []\n",
    "    n_edges = 0\n",
    "    lens = []\n",
    "\n",
    "    # node = [node for node in graph[\"nodes\"] if node[\"is_start\"]][0]\n",
    "    for node in graph[\"nodes\"]:\n",
    "        edges = [e for e in graph['edges'] if e['source']==node[\"id\"]]\n",
    "        utt = \"\"\n",
    "        for n_utt in node['utterances']:\n",
    "            utt += n_utt + \" \"\n",
    "        for edge in edges:\n",
    "            lens.append(len(edge['utterances']))\n",
    "            for e_utt in edge['utterances']:\n",
    "                utt += e_utt + \" \"\n",
    "                n_edges += 1\n",
    "        res.append(utt)\n",
    "\n",
    "        # node = [node for node in graph[\"nodes\"] if node[\"id\"]==edge['target']][0] \n",
    "    return res, n_edges, lens"
   ]
  },
  {
   "cell_type": "code",
   "execution_count": 9,
   "metadata": {},
   "outputs": [],
   "source": [
    "def get_2_rerankings(generated1: list[str], golden1: list[str], generated2: list[str], golden2: list[str]):\n",
    "    \n",
    "    sz = len(generated1)\n",
    "    to_score = []\n",
    "    for gen in generated1:\n",
    "        for gol in golden1:\n",
    "            to_score.append((gen,gol))\n",
    "    for gen in generated2:\n",
    "        for gol in golden2:\n",
    "            to_score.append((gen,gol))\n",
    "    print(\"SCORING...\")\n",
    "    # print(to_score)\n",
    "    scores = np.array(evaluator.score(to_score))\n",
    "    print(\"finished\")\n",
    "\n",
    "    return scores[:sz*sz].reshape(sz,sz), scores[sz*sz:].reshape(sz,sz)"
   ]
  },
  {
   "cell_type": "code",
   "execution_count": 67,
   "metadata": {},
   "outputs": [],
   "source": [
    "def get_2_rerankings(generated1: list[str], golden1: list[str], generated2: list[str], golden2: list[str]):\n",
    "    \n",
    "    sz = len(generated1)\n",
    "    to_score = []\n",
    "    for gen in generated1:\n",
    "        for gol in golden1:\n",
    "            to_score.append((gen,gol))\n",
    "            to_score.append((gol,gen))\n",
    "    for gen in generated2:\n",
    "        for gol in golden2:\n",
    "            to_score.append((gen,gol))\n",
    "            to_score.append((gol,gen))\n",
    "    print(\"SCORING...\")\n",
    "    # print(to_score)\n",
    "    # scores = np.array(evaluator.score(to_score))\n",
    "    scores = evaluator.score(to_score)\n",
    "    print(\"finished\")\n",
    "    scores = np.array([min(s1,s2) for s1,s2 in zip(scores[::2],scores[1::2])])\n",
    "\n",
    "    return scores[:sz*sz].reshape(sz,sz), scores[sz*sz:].reshape(sz,sz)"
   ]
  },
  {
   "cell_type": "code",
   "execution_count": 10,
   "metadata": {},
   "outputs": [],
   "source": [
    "def compare_edge_lens(G1: BaseGraph, G2: BaseGraph, max: list):\n",
    "    \n",
    "    nodes_map = {}\n",
    "    graph1 = G1.graph_dict\n",
    "    graph2 = G2.graph_dict\n",
    "    nodes1 = [n['id'] for n in graph1['nodes']]\n",
    "    nodes2 = [n['id'] for n in graph2['nodes']]\n",
    "    for idx,n in enumerate(nodes1):\n",
    "        nodes_map[n] = nodes2[max[idx]]\n",
    "    # nodes2 = [nodes_map[n] for n in nodes1]\n",
    "    print(\"MAPS: \", nodes_map)\n",
    "\n",
    "    for node1, node2 in zip(nodes1,[nodes_map[n] for n in nodes1]):\n",
    "        print(\"NN: \", node1, node2)\n",
    "        edges1 = G1.edge_by_source(node1)\n",
    "        edges2 = G2.edge_by_source(node2)\n",
    "        if len(edges1) != len(edges2):\n",
    "            print(\"FF: \", edges1, edges2)\n",
    "            return False\n",
    "        for edge1 in edges1:\n",
    "            for edge2 in edges2:\n",
    "                if nodes_map[edge1['target']] == edge2['target'] and len(edge1['utterances']) != len(edge2['utterances']):\n",
    "                    print(edge1, edge2)\n",
    "                    return False\n",
    "    return True\n"
   ]
  },
  {
   "cell_type": "code",
   "execution_count": 74,
   "metadata": {},
   "outputs": [],
   "source": [
    "def llm_match(G1: BaseGraph, G2: BaseGraph) -> bool:\n",
    "    g1 = G1.graph_dict\n",
    "    g2 = G2.graph_dict\n",
    "\n",
    "    # print(\"ORIG: \", g1)\n",
    "    # g1_order = graph_order(g1)\n",
    "    # g2_order = graph_order(g2)\n",
    "    # print(\"ORDER: \", g1_order, \"\\n\")\n",
    "    # print(\"2LIST: \", graph2list(g1_order), \"\\n\")\n",
    "    #matrix = get_embedding(graph2list(g1_order), graph2list(g2_order), env_settings.EMBEDDER_MODEL, env_settings.EMBEDDER_DEVICE)\n",
    "\n",
    "    nodes1_list = nodes2list(g1)\n",
    "    nodes2_list = nodes2list(g2)\n",
    "    if len(nodes1_list) != len(nodes2_list):\n",
    "        print(\"FIRST\")\n",
    "        return False\n",
    "\n",
    "    g1_list, n1, len1 = graph2list(g1)\n",
    "    g2_list, n2, len2 = graph2list(g2)\n",
    "    print(\"LEN1: \", len1, \"LEN2: \", len2)\n",
    "    # for idx,g in enumerate(zip(g1_list,g2_list)):\n",
    "    #     print(idx, \": \", g[0])\n",
    "    #     print(\"G2: \", g[1], \"\\n\")\n",
    "\n",
    "    nodes_matrix = get_embedding(nodes1_list, nodes2_list, env_settings.EMBEDDER_MODEL, env_settings.EMBEDDER_DEVICE)\n",
    "    matrix = get_embedding(g1_list, g2_list, env_settings.EMBEDDER_MODEL, env_settings.EMBEDDER_DEVICE)\n",
    "\n",
    "    # nodes_matrix, matrix = get_2_rerankings(nodes1_list, nodes2_list, g1_list, g2_list)\n",
    "    nodes_max = list(np.argmax(nodes_matrix, axis=1))\n",
    "    if len(set(nodes_max)) < len(nodes1_list):\n",
    "        print(\"LLLLENS\")\n",
    "        return False\n",
    "\n",
    "\n",
    "    # print(\"LENS: \", len1, len2)\n",
    "    if n1 != n2:\n",
    "        print(\"N!\")\n",
    "        return False\n",
    "    \n",
    "\n",
    "    # matrix = get_reranking(g1_list, g2_list)\n",
    "    max = list(np.argmax(matrix, axis=1))\n",
    "    print(\"N_MAX: \", nodes_max)\n",
    "    print(\"MAX: \", max)\n",
    "    if len(set(max)) < len(g1_list) or nodes_max != max:\n",
    "        print(\"MIX\", len(set(max)), len(g1_list), nodes_max)\n",
    "        return False\n",
    "\n",
    "\n",
    "    if not compare_edge_lens(G1, G2, max):\n",
    "        print(\"LENS\")\n",
    "        return False\n",
    "    print(\"NODES: \", np.min(np.max(nodes_matrix, axis=1)))\n",
    "    print(\"ALL: \", np.min(np.max(matrix, axis=1)))\n",
    "\n",
    "\n",
    "\n",
    "    if min(np.min(np.max(nodes_matrix, axis=1)),np.min(np.max(matrix, axis=1))) >= env_settings.SIM_THRESHOLD:\n",
    "        return True\n",
    "    # diags = get_diagonals(matrix)\n",
    "    # # print(\"DIAGS: \", diags, \"\\n\")\n",
    "    # sums = np.sum(diags,axis=1)\n",
    "    # max_index = np.argmax(sums)\n",
    "    # g1_best = get_diagonal(g1,max_index)\n",
    "    # min_value = np.min(diags[max_index])\n",
    "    # print(\"MIN: \", min_value)\n",
    "    # return True\n",
    "    # print(\"\\nG1: \", g1_best, \"\\n\")\n",
    "    # print(\"G2: \", g2_order, \"\\n\")\n",
    "\n",
    "    # if min_value >= env_settings.SIM_THRESHOLD:\n",
    "    #     return True\n",
    "    parser = PydanticOutputParser(pydantic_object=CompareResponse)\n",
    "    format_model=ChatOpenAI(model=env_settings.FORMATTER_MODEL_NAME, api_key=env_settings.OPENAI_API_KEY, base_url=env_settings.OPENAI_BASE_URL)\n",
    "    model=ChatOpenAI(model=env_settings.COMPARE_MODEL_NAME, api_key=env_settings.OPENAI_API_KEY, base_url=env_settings.OPENAI_BASE_URL)\n",
    "    new_parser = OutputFixingParser.from_llm(parser=parser, llm=format_model)\n",
    "    result = call_llm_api(compare_graphs_prompt.format(result_form=result_form,graph_example_1=graph_example_1, graph_1=g1, graph_2=g2), model|new_parser, temp=0).model_dump()\n",
    "    # print(\"RES: \", result)\n",
    "    return result['result']\n",
    "\n"
   ]
  },
  {
   "cell_type": "code",
   "execution_count": 12,
   "metadata": {},
   "outputs": [],
   "source": [
    "def read_json(path):\n",
    "    with open(path, mode=\"r\") as file:\n",
    "        data = file.read()\n",
    "    return json.loads(data)"
   ]
  },
  {
   "cell_type": "code",
   "execution_count": 13,
   "metadata": {},
   "outputs": [],
   "source": [
    "dialogue_to_graph = read_json(\"generated_plus.json\")\n",
    "results = read_json(\"saved.json\")[\"o1-mini\"][\"Feb_10\"]"
   ]
  },
  {
   "cell_type": "code",
   "execution_count": 14,
   "metadata": {},
   "outputs": [],
   "source": [
    "import logging\n",
    "logging.getLogger(\"langchain_core.vectorstores.base\").setLevel(logging.ERROR)"
   ]
  },
  {
   "cell_type": "code",
   "execution_count": 81,
   "metadata": {},
   "outputs": [
    {
     "name": "stdout",
     "output_type": "stream",
     "text": [
      "LISTS_N:  [(0, [\"I can't complete the verification process.\"]), (1, [\"Yes, it says 'Verification failed.'\", \"I don't want to troubleshoot right now.\"]), (2, [\"I tried that, but it still doesn't work.\", 'Actually, I already did that. What else can I do?', 'I already reset my password. What other options do I have?']), (3, ['Actually, I think my email is incorrect. Can I update it?', \"Yes, it's user@example.com.\"]), (4, [\"Sure, it's newuser@example.com.\"]), (5, ['No, thank you.']), (6, ['']), (7, ['No, thank you.']), (8, [\"I cleared my cache and tried again, but it still doesn't work.\"]), (9, ['Yes, please send me the instructions.']), (10, ['']), (11, [''])]\n",
      "LISTS:  [(0, \"Hi! I'm sorry you're having trouble verifying your account. Can you describe what's happening?\"), (1, \"I'm sorry to hear that. Let's troubleshoot together. Can you tell me if you're receiving any error messages?\"), (2, 'Thank you for the information. Please try resetting your password and attempt verification again.'), (3, \"Understood. Let's check if your email address is correct in our system. Can you confirm your registered email?\"), (4, \"Of course! Please provide your correct email address, and I'll update it for you.\"), (5, 'Great, everything seems in order. I will forward this issue to our support team for further assistance. Is there anything else I can help you with?'), (6, 'Alright, if you need further assistance, feel free to reach out. Have a great day!'), (7, \"Everything looks correct. I'll escalate this to our support team. Do you need help with anything else?\"), (8, \"I'm sorry resetting your password didn't help. Let's try clearing your browser cache. Please do that and attempt verification again.\"), (9, 'Thank you for trying that. As an alternative, you can use our mobile app to verify your account. Would you like instructions on how to do that?'), (10, \"Sure! Please open the mobile app, go to Settings, and tap on 'Verify Account'. Follow the on-screen instructions. Let me know if you need further assistance.\"), (11, \"I'm sorry to hear that. If you need assistance later, feel free to reach out. Have a great day!\")]\n",
      "\n",
      "\n",
      "STARTS:  Great, everything seems in order. I will forward this issue to our support team for further assistance. Is there anything else I can help you with? [DialogueMessage(text=\"Of course! Please provide your correct email address, and I'll update it for you.\", participant='assistant'), DialogueMessage(text=\"Sure, it's newuser@example.com.\", participant='user'), DialogueMessage(text=\"Understood. Let's check if your email address is correct in our system. Can you confirm your registered email?\", participant='assistant'), DialogueMessage(text=\"Yes, it's user@example.com.\", participant='user'), DialogueMessage(text='No, thank you.', participant='user'), DialogueMessage(text='Alright, if you need further assistance, feel free to reach out. Have a great day!', participant='assistant')]\n",
      "STARTS:  Everything looks correct. I'll escalate this to our support team. Do you need help with anything else? [DialogueMessage(text=\"Of course! Please provide your correct email address, and I'll update it for you.\", participant='assistant'), DialogueMessage(text=\"Sure, it's newuser@example.com.\", participant='user'), DialogueMessage(text=\"Understood. Let's check if your email address is correct in our system. Can you confirm your registered email?\", participant='assistant'), DialogueMessage(text=\"Yes, it's user@example.com.\", participant='user'), DialogueMessage(text='No, thank you.', participant='user'), DialogueMessage(text='Alright, if you need further assistance, feel free to reach out. Have a great day!', participant='assistant')]\n",
      "TAIL_COND:  True Great, everything seems in order. I will forward this issue to our support team for further assistance. Is there anything else I can help you with? Everything looks correct. I'll escalate this to our support team. Do you need help with anything else?\n",
      "LIST1:  []\n",
      "LIST2:  []\n",
      "TO_ADD:  [5, 7]\n",
      "LEFT:  []\n",
      "NODES:  [['Great, everything seems in order. I will forward this issue to our support team for further assistance. Is there anything else I can help you with?', \"Everything looks correct. I'll escalate this to our support team. Do you need help with anything else?\"], [\"Hi! I'm sorry you're having trouble verifying your account. Can you describe what's happening?\"], [\"I'm sorry to hear that. Let's troubleshoot together. Can you tell me if you're receiving any error messages?\"], ['Thank you for the information. Please try resetting your password and attempt verification again.'], [\"Understood. Let's check if your email address is correct in our system. Can you confirm your registered email?\"], [\"Of course! Please provide your correct email address, and I'll update it for you.\"], ['Alright, if you need further assistance, feel free to reach out. Have a great day!'], [\"I'm sorry resetting your password didn't help. Let's try clearing your browser cache. Please do that and attempt verification again.\"], ['Thank you for trying that. As an alternative, you can use our mobile app to verify your account. Would you like instructions on how to do that?'], [\"Sure! Please open the mobile app, go to Settings, and tap on 'Verify Account'. Follow the on-screen instructions. Let me know if you need further assistance.\"], [\"I'm sorry to hear that. If you need assistance later, feel free to reach out. Have a great day!\"]]\n",
      "NODES:  [{'id': 1, 'label': '', 'is_start': False, 'utterances': ['Great, everything seems in order. I will forward this issue to our support team for further assistance. Is there anything else I can help you with?', \"Everything looks correct. I'll escalate this to our support team. Do you need help with anything else?\"]}, {'id': 2, 'label': '', 'is_start': True, 'utterances': [\"Hi! I'm sorry you're having trouble verifying your account. Can you describe what's happening?\"]}, {'id': 3, 'label': '', 'is_start': False, 'utterances': [\"I'm sorry to hear that. Let's troubleshoot together. Can you tell me if you're receiving any error messages?\"]}, {'id': 4, 'label': '', 'is_start': False, 'utterances': ['Thank you for the information. Please try resetting your password and attempt verification again.']}, {'id': 5, 'label': '', 'is_start': False, 'utterances': [\"Understood. Let's check if your email address is correct in our system. Can you confirm your registered email?\"]}, {'id': 6, 'label': '', 'is_start': False, 'utterances': [\"Of course! Please provide your correct email address, and I'll update it for you.\"]}, {'id': 7, 'label': '', 'is_start': False, 'utterances': ['Alright, if you need further assistance, feel free to reach out. Have a great day!']}, {'id': 8, 'label': '', 'is_start': False, 'utterances': [\"I'm sorry resetting your password didn't help. Let's try clearing your browser cache. Please do that and attempt verification again.\"]}, {'id': 9, 'label': '', 'is_start': False, 'utterances': ['Thank you for trying that. As an alternative, you can use our mobile app to verify your account. Would you like instructions on how to do that?']}, {'id': 10, 'label': '', 'is_start': False, 'utterances': [\"Sure! Please open the mobile app, go to Settings, and tap on 'Verify Account'. Follow the on-screen instructions. Let me know if you need further assistance.\"]}, {'id': 11, 'label': '', 'is_start': False, 'utterances': [\"I'm sorry to hear that. If you need assistance later, feel free to reach out. Have a great day!\"]}]\n",
      "RESULT:  {'edges': [{'source': 1, 'target': 7, 'utterances': ['No, thank you.']}, {'source': 2, 'target': 3, 'utterances': [\"I can't complete the verification process.\"]}, {'source': 3, 'target': 4, 'utterances': [\"Yes, it says 'Verification failed.'\"]}, {'source': 4, 'target': 5, 'utterances': [\"I tried that, but it still doesn't work.\"]}, {'source': 5, 'target': 6, 'utterances': ['Actually, I think my email is incorrect. Can I update it?']}, {'source': 5, 'target': 1, 'utterances': [\"Yes, it's user@example.com.\"]}, {'source': 6, 'target': 5, 'utterances': [\"Sure, it's newuser@example.com.\"]}, {'source': 8, 'target': 9, 'utterances': [\"I cleared my cache and tried again, but it still doesn't work.\"]}, {'source': 9, 'target': 10, 'utterances': ['Yes, please send me the instructions.']}, {'source': 4, 'target': 8, 'utterances': ['Actually, I already did that. What else can I do?', 'I already reset my password. What other options do I have?']}, {'source': 3, 'target': 11, 'utterances': [\"I don't want to troubleshoot right now.\"]}], 'nodes': [{'id': 1, 'label': '', 'is_start': False, 'utterances': ['Great, everything seems in order. I will forward this issue to our support team for further assistance. Is there anything else I can help you with?', \"Everything looks correct. I'll escalate this to our support team. Do you need help with anything else?\"]}, {'id': 2, 'label': '', 'is_start': True, 'utterances': [\"Hi! I'm sorry you're having trouble verifying your account. Can you describe what's happening?\"]}, {'id': 3, 'label': '', 'is_start': False, 'utterances': [\"I'm sorry to hear that. Let's troubleshoot together. Can you tell me if you're receiving any error messages?\"]}, {'id': 4, 'label': '', 'is_start': False, 'utterances': ['Thank you for the information. Please try resetting your password and attempt verification again.']}, {'id': 5, 'label': '', 'is_start': False, 'utterances': [\"Understood. Let's check if your email address is correct in our system. Can you confirm your registered email?\"]}, {'id': 6, 'label': '', 'is_start': False, 'utterances': [\"Of course! Please provide your correct email address, and I'll update it for you.\"]}, {'id': 7, 'label': '', 'is_start': False, 'utterances': ['Alright, if you need further assistance, feel free to reach out. Have a great day!']}, {'id': 8, 'label': '', 'is_start': False, 'utterances': [\"I'm sorry resetting your password didn't help. Let's try clearing your browser cache. Please do that and attempt verification again.\"]}, {'id': 9, 'label': '', 'is_start': False, 'utterances': ['Thank you for trying that. As an alternative, you can use our mobile app to verify your account. Would you like instructions on how to do that?']}, {'id': 10, 'label': '', 'is_start': False, 'utterances': [\"Sure! Please open the mobile app, go to Settings, and tap on 'Verify Account'. Follow the on-screen instructions. Let me know if you need further assistance.\"]}, {'id': 11, 'label': '', 'is_start': False, 'utterances': [\"I'm sorry to hear that. If you need assistance later, feel free to reach out. Have a great day!\"]}]} \n",
      "\n",
      "SKIP\n"
     ]
    }
   ],
   "source": [
    "case = dialogue_to_graph[12]\n",
    "result_graph = graph_generator.invoke([Dialogue.from_list(c[\"messages\"]) for c in case[\"dialogues\"]])"
   ]
  },
  {
   "cell_type": "code",
   "execution_count": 79,
   "metadata": {},
   "outputs": [
    {
     "data": {
      "text/plain": [
       "True"
      ]
     },
     "execution_count": 79,
     "metadata": {},
     "output_type": "execute_result"
    }
   ],
   "source": [
    "is_same_structure(Graph(dialogue_to_graph[13]['graph']),result_graph)"
   ]
  },
  {
   "cell_type": "code",
   "execution_count": 82,
   "metadata": {},
   "outputs": [
    {
     "name": "stdout",
     "output_type": "stream",
     "text": [
      "LEN1:  [1, 1, 1, 1, 2, 1, 1, 1, 1, 1, 1] LEN2:  [1, 1, 1, 1, 1, 2, 1, 1, 1, 1, 1]\n",
      "0 :  Hi! I'm sorry you're having trouble verifying your account. Can you describe what's happening? I can't complete the verification process. \n",
      "G2:  Great, everything seems in order. I will forward this issue to our support team for further assistance. Is there anything else I can help you with? Everything looks correct. I'll escalate this to our support team. Do you need help with anything else? No, thank you.  \n",
      "\n",
      "1 :  I'm sorry to hear that. Let's troubleshoot together. Can you tell me if you're receiving any error messages? Yes, it says 'Verification failed.' I don't want to troubleshoot right now. \n",
      "G2:  Hi! I'm sorry you're having trouble verifying your account. Can you describe what's happening? I can't complete the verification process.  \n",
      "\n",
      "2 :  Thank you for the information. Please try resetting your password and attempt verification again. I tried that, but it still doesn't work. Actually, I already did that. What else can I do? I already reset my password. What other options do I have? \n",
      "G2:  I'm sorry to hear that. Let's troubleshoot together. Can you tell me if you're receiving any error messages? Yes, it says 'Verification failed.' I don't want to troubleshoot right now.  \n",
      "\n",
      "3 :  Understood. Let's check if your email address is correct in our system. Can you confirm your registered email? Yes, it's user@example.com. Actually, I think my email is incorrect. Can I update it? \n",
      "G2:  Thank you for the information. Please try resetting your password and attempt verification again. I tried that, but it still doesn't work. Actually, I already did that. What else can I do? I already reset my password. What other options do I have?  \n",
      "\n",
      "4 :  Great, everything seems in order. I will forward this issue to our support team for further assistance. Is there anything else I can help you with? Everything looks correct. I'll escalate this to our support team. Do you need help with anything else? No, thank you. \n",
      "G2:  Understood. Let's check if your email address is correct in our system. Can you confirm your registered email? Actually, I think my email is incorrect. Can I update it? Yes, it's user@example.com.  \n",
      "\n",
      "5 :  Alright, if you need further assistance, feel free to reach out. Have a great day! \n",
      "G2:  Of course! Please provide your correct email address, and I'll update it for you. Sure, it's newuser@example.com.  \n",
      "\n",
      "6 :  I'm sorry resetting your password didn't help. Let's try clearing your browser cache. Please do that and attempt verification again. I cleared my cache and tried again, but it still doesn't work. \n",
      "G2:  Alright, if you need further assistance, feel free to reach out. Have a great day!  \n",
      "\n",
      "7 :  Thank you for trying that. As an alternative, you can use our mobile app to verify your account. Would you like instructions on how to do that? Yes, please send me the instructions. \n",
      "G2:  I'm sorry resetting your password didn't help. Let's try clearing your browser cache. Please do that and attempt verification again. I cleared my cache and tried again, but it still doesn't work.  \n",
      "\n",
      "8 :  Sure! Please open the mobile app, go to Settings, and tap on 'Verify Account'. Follow the on-screen instructions. Let me know if you need further assistance. \n",
      "G2:  Thank you for trying that. As an alternative, you can use our mobile app to verify your account. Would you like instructions on how to do that? Yes, please send me the instructions.  \n",
      "\n",
      "9 :  Of course! Please provide your correct email address, and I'll update it for you. Sure, it's newuser@example.com. \n",
      "G2:  Sure! Please open the mobile app, go to Settings, and tap on 'Verify Account'. Follow the on-screen instructions. Let me know if you need further assistance.  \n",
      "\n",
      "10 :  I'm sorry to hear that. If you need assistance later, feel free to reach out. Have a great day! \n",
      "G2:  I'm sorry to hear that. If you need assistance later, feel free to reach out. Have a great day!  \n",
      "\n",
      "N_MAX:  [1, 2, 3, 4, 0, 6, 7, 8, 9, 5, 10]\n",
      "MAX:  [1, 2, 3, 4, 0, 6, 7, 8, 9, 5, 10]\n",
      "MAPS:  {1: 2, 2: 3, 3: 4, 4: 5, 5: 1, 6: 7, 7: 8, 8: 9, 9: 10, 10: 6, 11: 11}\n",
      "NN:  1 2\n",
      "NN:  2 3\n",
      "NN:  3 4\n",
      "NN:  4 5\n",
      "NN:  5 1\n",
      "NN:  6 7\n",
      "NN:  7 8\n",
      "NN:  8 9\n",
      "NN:  9 10\n",
      "NN:  10 6\n",
      "NN:  11 11\n",
      "NODES:  0.99999994\n",
      "ALL:  0.9911774\n"
     ]
    },
    {
     "data": {
      "text/plain": [
       "True"
      ]
     },
     "execution_count": 82,
     "metadata": {},
     "output_type": "execute_result"
    }
   ],
   "source": [
    "llm_match(Graph(dialogue_to_graph[12]['graph']),result_graph)"
   ]
  },
  {
   "cell_type": "code",
   "execution_count": 80,
   "metadata": {},
   "outputs": [],
   "source": [
    "def remove_duplicated_edges(graph: dict):\n",
    "    edges = graph['edges']\n",
    "    couples = [(e['source'],e['target']) for e in edges]\n",
    "    duplicates = [i for i in set(couples) if couples.count(i) > 1]\n",
    "    print(duplicates)\n",
    "    new_edges = []\n",
    "    for d in duplicates:\n",
    "        found = [c for c in edges if c['source'] == d[0] and c['target'] == d[1]]\n",
    "        print(\"FOUND: \", found)\n",
    "        new_edge = found[0]\n",
    "        new_edge['utterances'] = []\n",
    "        for e in found:\n",
    "            new_edge['utterances'].extend(e['utterances'])\n",
    "        new_edges.append(new_edge)\n",
    "    new_graph = {\"edges\": [e for e in edges if (e['source'],e['target']) not in duplicates]+new_edges, \"nodes\": graph['nodes'] }\n",
    "    return new_graph"
   ]
  },
  {
   "cell_type": "code",
   "execution_count": 40,
   "metadata": {},
   "outputs": [
    {
     "data": {
      "text/plain": [
       "{'nodes': [{'id': 1,\n",
       "   'label': '',\n",
       "   'is_start': False,\n",
       "   'utterances': ['Ad-blocking has been enabled in your browser settings. Would you like to customize the settings?',\n",
       "    'Your browser is now blocking ads. Do you want to adjust the ad-blocking settings?']},\n",
       "  {'id': 2,\n",
       "   'label': '',\n",
       "   'is_start': True,\n",
       "   'utterances': ['Would you like to enable ad-blocking in your browser?']},\n",
       "  {'id': 3,\n",
       "   'label': '',\n",
       "   'is_start': False,\n",
       "   'utterances': ['Which settings would you like to adjust? You can block specific types of ads or set exceptions for certain websites.']},\n",
       "  {'id': 4,\n",
       "   'label': '',\n",
       "   'is_start': False,\n",
       "   'utterances': ['Alright, ad-blocking remains disabled. Let me know if you need anything else.']},\n",
       "  {'id': 5,\n",
       "   'label': '',\n",
       "   'is_start': False,\n",
       "   'utterances': ['Ad-blocking extension has been installed. Would you like to configure it?']},\n",
       "  {'id': 6,\n",
       "   'label': '',\n",
       "   'is_start': False,\n",
       "   'utterances': ['Which options would you like to configure in the extension? You can customize blocking levels or whitelist websites.']},\n",
       "  {'id': 7,\n",
       "   'label': '',\n",
       "   'is_start': False,\n",
       "   'utterances': ['Ad-blocking has been enabled. Let me know if you need anything else.']},\n",
       "  {'id': 8,\n",
       "   'label': '',\n",
       "   'is_start': False,\n",
       "   'utterances': ['Specific types of ads have been blocked. Your ad-blocking settings are now fully configured.']},\n",
       "  {'id': 9,\n",
       "   'label': '',\n",
       "   'is_start': False,\n",
       "   'utterances': ['Exceptions for the specified websites have been added. Your ad-blocking settings are now fully configured.']},\n",
       "  {'id': 10,\n",
       "   'label': '',\n",
       "   'is_start': False,\n",
       "   'utterances': ['Blocking levels have been customized in the extension. Your ad-blocking is now fully configured.']},\n",
       "  {'id': 11,\n",
       "   'label': '',\n",
       "   'is_start': False,\n",
       "   'utterances': ['Websites have been whitelisted in the extension. Your ad-blocking is now fully configured.']}],\n",
       " 'edges': [{'source': 1,\n",
       "   'target': 3,\n",
       "   'utterances': ['Yes, customize settings.']},\n",
       "  {'source': 2, 'target': 4, 'utterances': ['No, thank you.']},\n",
       "  {'source': 3,\n",
       "   'target': 2,\n",
       "   'utterances': ['Actually, I want to change how ad-blocking is enabled.']},\n",
       "  {'source': 2,\n",
       "   'target': 1,\n",
       "   'utterances': ['Yes, please enable it via settings.',\n",
       "    'Sure, enable ad-blocking using the settings.']},\n",
       "  {'source': 1, 'target': 7, 'utterances': ['No, thank you.']},\n",
       "  {'source': 2,\n",
       "   'target': 5,\n",
       "   'utterances': ['Yes, please enable it via extension.']},\n",
       "  {'source': 5, 'target': 6, 'utterances': ['Yes, configure the extension.']},\n",
       "  {'source': 6,\n",
       "   'target': 1,\n",
       "   'utterances': ['Actually, I want to enable ad-blocking via settings.']},\n",
       "  {'source': 1,\n",
       "   'target': 5,\n",
       "   'utterances': ['Actually, I want to enable it via extension.']},\n",
       "  {'source': 5, 'target': 7, 'utterances': ['No, thank you.']},\n",
       "  {'source': 3,\n",
       "   'target': 8,\n",
       "   'utterances': [\"I'd like to block specific types of ads.\"]},\n",
       "  {'source': 3,\n",
       "   'target': 9,\n",
       "   'utterances': [\"I'd like to set exceptions for certain websites.\"]},\n",
       "  {'source': 5,\n",
       "   'target': 1,\n",
       "   'utterances': ['Actually, I want to enable it via settings.']},\n",
       "  {'source': 6,\n",
       "   'target': 10,\n",
       "   'utterances': [\"I'd like to customize blocking levels.\"]},\n",
       "  {'source': 6,\n",
       "   'target': 11,\n",
       "   'utterances': [\"I'd like to whitelist websites.\"]}],\n",
       " 'reason': ''}"
      ]
     },
     "execution_count": 40,
     "metadata": {},
     "output_type": "execute_result"
    }
   ],
   "source": [
    "result_graph.graph_dict"
   ]
  },
  {
   "cell_type": "code",
   "execution_count": 39,
   "metadata": {},
   "outputs": [
    {
     "data": {
      "text/plain": [
       "'Enabling ad-blocking features on a browser'"
      ]
     },
     "execution_count": 39,
     "metadata": {},
     "output_type": "execute_result"
    }
   ],
   "source": [
    "dialogue_to_graph[11]['topic']"
   ]
  },
  {
   "cell_type": "code",
   "execution_count": null,
   "metadata": {},
   "outputs": [],
   "source": [
    "dialogue_to_graph[1]['graph']"
   ]
  },
  {
   "cell_type": "code",
   "execution_count": null,
   "metadata": {},
   "outputs": [],
   "source": [
    "dialogue_to_graph[7]['']"
   ]
  },
  {
   "cell_type": "code",
   "execution_count": 52,
   "metadata": {},
   "outputs": [
    {
     "data": {
      "text/plain": [
       "{'nodes': [{'id': 1,\n",
       "   'label': '',\n",
       "   'is_start': True,\n",
       "   'utterances': [\"I'm sorry you're experiencing issues with your checkout cart. Can you please describe the problem?\",\n",
       "    \"Sorry to hear you're having trouble with your checkout cart. Could you please explain what's happening?\"]},\n",
       "  {'id': 2,\n",
       "   'label': '',\n",
       "   'is_start': False,\n",
       "   'utterances': ['Great to hear! Is there anything else I can help you with?',\n",
       "    \"You're welcome! Is there anything else I can help you with?\",\n",
       "    'Glad to hear that! Do you need any further assistance?']},\n",
       "  {'id': 3,\n",
       "   'label': '',\n",
       "   'is_start': False,\n",
       "   'utterances': ['Please try refreshing the page first and let me know if the issue persists.',\n",
       "    'Please try using Firefox and let me know if the issue persists.']},\n",
       "  {'id': 4,\n",
       "   'label': '',\n",
       "   'is_start': False,\n",
       "   'utterances': ['Have you tried using a different browser or device?',\n",
       "    \"Okay, have you cleared your browser's cache and cookies?\"]},\n",
       "  {'id': 5,\n",
       "   'label': '',\n",
       "   'is_start': False,\n",
       "   'utterances': [\"I understand. Let's try to resolve this. Have you tried refreshing the page?\"]},\n",
       "  {'id': 6,\n",
       "   'label': '',\n",
       "   'is_start': False,\n",
       "   'utterances': ['Of course! Which browser would you like to switch to?']},\n",
       "  {'id': 7,\n",
       "   'label': '',\n",
       "   'is_start': False,\n",
       "   'utterances': ['Thank you for contacting support. Have a nice day!']},\n",
       "  {'id': 8,\n",
       "   'label': '',\n",
       "   'is_start': False,\n",
       "   'utterances': ['Please try using Safari and let me know if the issue persists.']},\n",
       "  {'id': 9,\n",
       "   'label': '',\n",
       "   'is_start': False,\n",
       "   'utterances': ['What device and browser are you using?']},\n",
       "  {'id': 10,\n",
       "   'label': '',\n",
       "   'is_start': False,\n",
       "   'utterances': ['I apologize for the inconvenience. Let me escalate this to our support team.']},\n",
       "  {'id': 11,\n",
       "   'label': '',\n",
       "   'is_start': False,\n",
       "   'utterances': ['Sure, please let me know if you need further assistance.']}],\n",
       " 'edges': [{'source': 1,\n",
       "   'target': 5,\n",
       "   'utterances': [\"My cart won't let me proceed to checkout.\"]},\n",
       "  {'source': 2, 'target': 7, 'utterances': [\"No, that's all.\"]},\n",
       "  {'source': 5,\n",
       "   'target': 6,\n",
       "   'utterances': ['Actually, can I change my browser?']},\n",
       "  {'source': 6, 'target': 3, 'utterances': ['I want to try Safari instead.']},\n",
       "  {'source': 6, 'target': 8, 'utterances': ['I want to try Safari instead.']},\n",
       "  {'source': 8, 'target': 2, 'utterances': ['It works now.']},\n",
       "  {'source': 4, 'target': 5, 'utterances': [\"Yes, but it didn't work.\"]},\n",
       "  {'source': 5, 'target': 3, 'utterances': [\"No, I haven't tried that.\"]},\n",
       "  {'source': 9, 'target': 4, 'utterances': [\"I'm using Chrome on Windows.\"]},\n",
       "  {'source': 1,\n",
       "   'target': 9,\n",
       "   'utterances': [\"I'm getting an error when I try to add items to the cart.\",\n",
       "    'The checkout page is not loading.',\n",
       "    'My cart keeps crashing when I try to add items.']},\n",
       "  {'source': 3,\n",
       "   'target': 10,\n",
       "   'utterances': [\"It still doesn't work.\", 'Still having issues.']},\n",
       "  {'source': 4,\n",
       "   'target': 6,\n",
       "   'utterances': ['Actually, can I change my device?']},\n",
       "  {'source': 8, 'target': 10, 'utterances': ['Still having issues.']},\n",
       "  {'source': 5, 'target': 4, 'utterances': [\"Yes, but it didn't work.\"]},\n",
       "  {'source': 4, 'target': 11, 'utterances': ['Can I change my device?']},\n",
       "  {'source': 11, 'target': 7, 'utterances': ['No, I want to stop.']},\n",
       "  {'source': 3,\n",
       "   'target': 2,\n",
       "   'utterances': ['It works now.', 'It worked! Thank you.']},\n",
       "  {'source': 4,\n",
       "   'target': 3,\n",
       "   'utterances': [\"No, I haven't cleared cache and cookies.\",\n",
       "    \"No, I haven't tried that.\"]},\n",
       "  {'source': 4,\n",
       "   'target': 10,\n",
       "   'utterances': [\"Yes, I cleared cache and cookies, but it still doesn't work.\"]}],\n",
       " 'reason': ''}"
      ]
     },
     "execution_count": 52,
     "metadata": {},
     "output_type": "execute_result"
    }
   ],
   "source": [
    "list(results[7].values())[0][0]"
   ]
  },
  {
   "cell_type": "code",
   "execution_count": 91,
   "metadata": {},
   "outputs": [
    {
     "data": {
      "text/plain": [
       "{'edges': [{'source': 1,\n",
       "   'target': 2,\n",
       "   'utterances': ['I need to report an incorrect product dimension listing.',\n",
       "    \"There's an issue with a product's dimensions.\"]},\n",
       "  {'source': 1,\n",
       "   'target': 6,\n",
       "   'utterances': [\"Never mind, I don't need help right now.\"]},\n",
       "  {'source': 2, 'target': 3, 'utterances': ['The product ID is 12345.']},\n",
       "  {'source': 2,\n",
       "   'target': 4,\n",
       "   'utterances': [\"I'd prefer to give you the product name instead.\"]},\n",
       "  {'source': 3,\n",
       "   'target': 5,\n",
       "   'utterances': ['The length and width are wrong.']},\n",
       "  {'source': 3,\n",
       "   'target': 7,\n",
       "   'utterances': [\"Actually, I provided the product number incorrectly. It's 67890.\"]},\n",
       "  {'source': 4, 'target': 5, 'utterances': ['The height is incorrect.']},\n",
       "  {'source': 5, 'target': 6, 'utterances': [\"No, that's all.\"]},\n",
       "  {'source': 5,\n",
       "   'target': 2,\n",
       "   'utterances': ['Actually, I need to change the product ID.']},\n",
       "  {'source': 7, 'target': 5, 'utterances': ['The height is wrong.']}],\n",
       " 'nodes': [{'id': 1,\n",
       "   'label': 'Assistant Greeting',\n",
       "   'is_start': True,\n",
       "   'utterances': ['Hello! How can I assist you today?']},\n",
       "  {'id': 2,\n",
       "   'label': 'Assistant Request Product ID or Name',\n",
       "   'is_start': False,\n",
       "   'utterances': [\"I'm sorry to hear that. Could you please provide the product ID or name?\"]},\n",
       "  {'id': 3,\n",
       "   'label': 'Assistant Request Incorrect Dimensions',\n",
       "   'is_start': False,\n",
       "   'utterances': ['Thank you. Could you specify which dimensions are incorrect?']},\n",
       "  {'id': 4,\n",
       "   'label': 'Assistant Request Incorrect Dimensions by Product Name',\n",
       "   'is_start': False,\n",
       "   'utterances': ['Thank you. Could you specify which dimensions are incorrect for the product named XYZ?']},\n",
       "  {'id': 5,\n",
       "   'label': 'Assistant Confirm Correction',\n",
       "   'is_start': False,\n",
       "   'utterances': ['I have noted the incorrect dimensions for product ID 12345. Would you like to add anything else?',\n",
       "    \"I've recorded the incorrect dimensions for product ID 12345. Do you need any further assistance?\"]},\n",
       "  {'id': 6,\n",
       "   'label': 'Assistant Exit',\n",
       "   'is_start': False,\n",
       "   'utterances': ['Thank you for contacting us. If you need further assistance, feel free to reach out. Have a great day!']},\n",
       "  {'id': 7,\n",
       "   'label': 'Assistant Corrected Product ID',\n",
       "   'is_start': False,\n",
       "   'utterances': [\"No problem. I've noted you're referring to product ID 67890. Could you specify which dimensions are incorrect?\"]}]}"
      ]
     },
     "execution_count": 91,
     "metadata": {},
     "output_type": "execute_result"
    }
   ],
   "source": [
    "dialogue_to_graph[6]['graph']"
   ]
  },
  {
   "cell_type": "code",
   "execution_count": 81,
   "metadata": {},
   "outputs": [
    {
     "name": "stdout",
     "output_type": "stream",
     "text": [
      "[(6, 11)]\n",
      "FOUND:  [{'source': 6, 'target': 11, 'utterances': ['I want to try Safari instead.']}, {'source': 6, 'target': 11, 'utterances': ['I want to try Safari instead.']}]\n"
     ]
    }
   ],
   "source": [
    "cur_graph = remove_duplicated_edges(dialogue_to_graph[7]['graph'])"
   ]
  },
  {
   "cell_type": "code",
   "execution_count": 82,
   "metadata": {},
   "outputs": [
    {
     "data": {
      "text/plain": [
       "{'edges': [{'source': 1,\n",
       "   'target': 2,\n",
       "   'utterances': [\"My cart won't let me proceed to checkout.\"]},\n",
       "  {'source': 1,\n",
       "   'target': 3,\n",
       "   'utterances': [\"I'm getting an error when I try to add items to the cart.\",\n",
       "    'The checkout page is not loading.',\n",
       "    'My cart keeps crashing when I try to add items.']},\n",
       "  {'source': 2, 'target': 4, 'utterances': [\"Yes, but it didn't work.\"]},\n",
       "  {'source': 2, 'target': 5, 'utterances': [\"No, I haven't tried that.\"]},\n",
       "  {'source': 2,\n",
       "   'target': 6,\n",
       "   'utterances': ['Actually, can I change my browser?']},\n",
       "  {'source': 4,\n",
       "   'target': 7,\n",
       "   'utterances': [\"Yes, I cleared cache and cookies, but it still doesn't work.\"]},\n",
       "  {'source': 4,\n",
       "   'target': 5,\n",
       "   'utterances': [\"No, I haven't cleared cache and cookies.\"]},\n",
       "  {'source': 4, 'target': 8, 'utterances': ['Can I change my device?']},\n",
       "  {'source': 5, 'target': 7, 'utterances': [\"It still doesn't work.\"]},\n",
       "  {'source': 5, 'target': 9, 'utterances': ['It worked! Thank you.']},\n",
       "  {'source': 3, 'target': 10, 'utterances': [\"I'm using Chrome on Windows.\"]},\n",
       "  {'source': 10, 'target': 2, 'utterances': [\"Yes, but it didn't work.\"]},\n",
       "  {'source': 10, 'target': 5, 'utterances': [\"No, I haven't tried that.\"]},\n",
       "  {'source': 10,\n",
       "   'target': 6,\n",
       "   'utterances': ['Actually, can I change my device?']},\n",
       "  {'source': 11, 'target': 12, 'utterances': ['It works now.']},\n",
       "  {'source': 11, 'target': 7, 'utterances': ['Still having issues.']},\n",
       "  {'source': 9, 'target': 13, 'utterances': [\"No, that's all.\"]},\n",
       "  {'source': 12, 'target': 13, 'utterances': [\"No, that's all.\"]},\n",
       "  {'source': 8, 'target': 13, 'utterances': ['No, I want to stop.']},\n",
       "  {'source': 6,\n",
       "   'target': 11,\n",
       "   'utterances': ['I want to try Safari instead.']}],\n",
       " 'nodes': [{'id': 1,\n",
       "   'label': 'start',\n",
       "   'is_start': True,\n",
       "   'utterances': [\"I'm sorry you're experiencing issues with your checkout cart. Can you please describe the problem?\",\n",
       "    \"Sorry to hear you're having trouble with your checkout cart. Could you please explain what's happening?\"]},\n",
       "  {'id': 2,\n",
       "   'label': 'describe_issue_proceed',\n",
       "   'is_start': False,\n",
       "   'utterances': [\"I understand. Let's try to resolve this. Have you tried refreshing the page?\"]},\n",
       "  {'id': 3,\n",
       "   'label': 'describe_issue_error',\n",
       "   'is_start': False,\n",
       "   'utterances': ['What device and browser are you using?']},\n",
       "  {'id': 4,\n",
       "   'label': 'asked_refresh',\n",
       "   'is_start': False,\n",
       "   'utterances': [\"Okay, have you cleared your browser's cache and cookies?\"]},\n",
       "  {'id': 5,\n",
       "   'label': 'refresh_page_response',\n",
       "   'is_start': False,\n",
       "   'utterances': ['Please try refreshing the page first and let me know if the issue persists.']},\n",
       "  {'id': 6,\n",
       "   'label': 'change_browser_option',\n",
       "   'is_start': False,\n",
       "   'utterances': ['Of course! Which browser would you like to switch to?']},\n",
       "  {'id': 7,\n",
       "   'label': 'escalate_issue',\n",
       "   'is_start': False,\n",
       "   'utterances': ['I apologize for the inconvenience. Let me escalate this to our support team.']},\n",
       "  {'id': 8,\n",
       "   'label': 'change_device_option',\n",
       "   'is_start': False,\n",
       "   'utterances': ['Sure, please let me know if you need further assistance.']},\n",
       "  {'id': 9,\n",
       "   'label': 'successful_resolution',\n",
       "   'is_start': False,\n",
       "   'utterances': [\"You're welcome! Is there anything else I can help you with?\",\n",
       "    'Glad to hear that! Do you need any further assistance?']},\n",
       "  {'id': 10,\n",
       "   'label': 'device_browser_info',\n",
       "   'is_start': False,\n",
       "   'utterances': ['Have you tried using a different browser or device?']},\n",
       "  {'id': 11,\n",
       "   'label': 'suggested_browser',\n",
       "   'is_start': False,\n",
       "   'utterances': ['Please try using Firefox and let me know if the issue persists.',\n",
       "    'Please try using Safari and let me know if the issue persists.']},\n",
       "  {'id': 12,\n",
       "   'label': 'confirmation_success',\n",
       "   'is_start': False,\n",
       "   'utterances': ['Great to hear! Is there anything else I can help you with?']},\n",
       "  {'id': 13,\n",
       "   'label': 'end_conversation',\n",
       "   'is_start': False,\n",
       "   'utterances': ['Thank you for contacting support. Have a nice day!']}]}"
      ]
     },
     "execution_count": 82,
     "metadata": {},
     "output_type": "execute_result"
    }
   ],
   "source": [
    "cur_graph"
   ]
  },
  {
   "cell_type": "code",
   "execution_count": 83,
   "metadata": {},
   "outputs": [
    {
     "name": "stdout",
     "output_type": "stream",
     "text": [
      "LEN1:  [1, 3, 1, 1, 1, 1, 1, 1, 1, 1, 1, 1, 1, 1, 1, 1, 1, 1, 1, 1] LEN2:  [1, 1, 1, 1, 3, 1, 1, 1, 1, 1, 1, 1, 1, 1, 1, 1, 1, 1, 1, 1]\n",
      "SCORING...\n"
     ]
    },
    {
     "name": "stdout",
     "output_type": "stream",
     "text": [
      "finished\n",
      "MAX:  [2, 3, 7, 11, 9, 4, 10, 12, 0, 8, 1, 5, 6]\n",
      "MAPS:  {1: 3, 2: 4, 3: 8, 4: 12, 5: 10, 6: 5, 7: 11, 8: 13, 9: 1, 10: 9, 11: 2, 12: 6, 13: 7}\n",
      "NN:  1 3\n",
      "NN:  2 4\n",
      "NN:  3 8\n",
      "NN:  4 12\n",
      "NN:  5 10\n",
      "NN:  6 5\n",
      "NN:  7 11\n",
      "NN:  8 13\n",
      "NN:  9 1\n",
      "NN:  10 9\n",
      "NN:  11 2\n",
      "NN:  12 6\n",
      "NN:  13 7\n",
      "NODES:  0.9999747\n",
      "ALL:  0.99996185\n"
     ]
    },
    {
     "data": {
      "text/plain": [
       "True"
      ]
     },
     "execution_count": 83,
     "metadata": {},
     "output_type": "execute_result"
    }
   ],
   "source": [
    "llm_match(Graph(cur_graph),result_graph)"
   ]
  },
  {
   "cell_type": "code",
   "execution_count": 19,
   "metadata": {},
   "outputs": [],
   "source": [
    "def match(index):\n",
    "    return llm_match(Graph(dialogue_to_graph[index]['graph']),Graph(list(results[index].values())[0][0]))"
   ]
  },
  {
   "cell_type": "code",
   "execution_count": 26,
   "metadata": {},
   "outputs": [
    {
     "name": "stdout",
     "output_type": "stream",
     "text": [
      "FIRST\n"
     ]
    },
    {
     "data": {
      "text/plain": [
       "False"
      ]
     },
     "execution_count": 26,
     "metadata": {},
     "output_type": "execute_result"
    }
   ],
   "source": [
    "match(6)"
   ]
  }
 ],
 "metadata": {
  "kernelspec": {
   "display_name": "py11",
   "language": "python",
   "name": "python3"
  },
  "language_info": {
   "codemirror_mode": {
    "name": "ipython",
    "version": 3
   },
   "file_extension": ".py",
   "mimetype": "text/x-python",
   "name": "python",
   "nbconvert_exporter": "python",
   "pygments_lexer": "ipython3",
   "version": "3.11.11"
  }
 },
 "nbformat": 4,
 "nbformat_minor": 2
}
