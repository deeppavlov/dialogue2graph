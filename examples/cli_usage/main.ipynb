{
 "cells": [
  {
   "cell_type": "markdown",
   "metadata": {},
   "source": [
    "# CLI usage\n",
    "\n",
    "One way of using dialogue2graph is via terminal calls. In this example we will show how to do it."
   ]
  },
  {
   "cell_type": "code",
   "execution_count": null,
   "metadata": {},
   "outputs": [],
   "source": [
    "!dialogue2graph gen-data --env examples/data_generation/.env --cfg ./cfg.yml -t \"booking a hotel room\" -o generated_data.json"
   ]
  },
  {
   "cell_type": "markdown",
   "metadata": {},
   "source": [
    "Let's breakdown this command:\n",
    "- dialogue2graph (tool name)\n",
    "- gen-data (function name)\n",
    "- --env (path to the file with environment variables)\n",
    "- --cfg (path to the file with models configuration data)\n",
    "- -topic (topic to generate data)\n",
    "- -o (path to the output file)"
   ]
  },
  {
   "cell_type": "markdown",
   "metadata": {},
   "source": [
    "Let's see what's inside of the `cfg.yml` file:\n",
    "\n",
    "```yaml\n",
    "models:\n",
    "  generation-model:\n",
    "    name: openai/gpt-4o-latest\n",
    "  validation-model:\n",
    "    name: openai/gpt-4o-mini\n",
    "    temperature: 1.0\n",
    "```"
   ]
  }
 ],
 "metadata": {
  "language_info": {
   "name": "python"
  }
 },
 "nbformat": 4,
 "nbformat_minor": 2
}
