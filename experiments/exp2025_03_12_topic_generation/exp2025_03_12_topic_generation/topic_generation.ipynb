{
 "cells": [
  {
   "cell_type": "code",
   "execution_count": 1,
   "metadata": {},
   "outputs": [],
   "source": [
    "%load_ext autoreload\n",
    "%autoreload 2"
   ]
  },
  {
   "cell_type": "code",
   "execution_count": 3,
   "metadata": {},
   "outputs": [],
   "source": [
    "import dotenv"
   ]
  },
  {
   "cell_type": "code",
   "execution_count": null,
   "metadata": {},
   "outputs": [],
   "source": [
    "from three_stages_llm import ThreeStagesGraphGenerator\n",
    "from three_stages_algo import ThreeStagesGraphGenerator as AlgoGenerator"
   ]
  },
  {
   "cell_type": "code",
   "execution_count": 4,
   "metadata": {},
   "outputs": [],
   "source": [
    "from dialogue2graph.pipelines.core.graph import Graph\n",
    "from dialogue2graph.pipelines.core.dialogue_sampling import RecursiveDialogueSampler\n",
    "from dialogue2graph.datasets.complex_dialogues.prompts import graph_example\n",
    "from dialogue2graph.metrics.llm_metrics import compare_graphs\n",
    "from dialogue2graph.metrics.no_llm_metrics import match_dg_triplets"
   ]
  },
  {
   "cell_type": "code",
   "execution_count": 8,
   "metadata": {},
   "outputs": [
    {
     "name": "stderr",
     "output_type": "stream",
     "text": [
      "/home/peshkichev/miniconda3/envs/myenv/lib/python3.11/site-packages/tqdm/auto.py:21: TqdmWarning: IProgress not found. Please update jupyter and ipywidgets. See https://ipywidgets.readthedocs.io/en/stable/user_install.html\n",
      "  from .autonotebook import tqdm as notebook_tqdm\n",
      "2025-04-29 15:03:03,059 - datasets - INFO - PyTorch version 2.2.2+cpu available.\n"
     ]
    }
   ],
   "source": [
    "from dialogue2graph.datasets.complex_dialogues.generation import LoopedGraphGenerator"
   ]
  },
  {
   "cell_type": "code",
   "execution_count": 6,
   "metadata": {},
   "outputs": [
    {
     "name": "stderr",
     "output_type": "stream",
     "text": [
      "/home/peshkichev/miniconda3/envs/myenv/lib/python3.11/site-packages/pydantic/_internal/_fields.py:198: UserWarning: Field name \"validate\" in \"Dialogue\" shadows an attribute in parent \"BaseModel\"\n",
      "  warnings.warn(\n"
     ]
    }
   ],
   "source": [
    "from dialogue2graph.pipelines.model_storage import ModelStorage"
   ]
  },
  {
   "cell_type": "code",
   "execution_count": 4,
   "metadata": {},
   "outputs": [
    {
     "data": {
      "text/plain": [
       "True"
      ]
     },
     "execution_count": 4,
     "metadata": {},
     "output_type": "execute_result"
    }
   ],
   "source": [
    "dotenv.load_dotenv()"
   ]
  },
  {
   "cell_type": "code",
   "execution_count": null,
   "metadata": {},
   "outputs": [],
   "source": [
    "Graph(graph_example).visualise_short(\"graph_example\")"
   ]
  },
  {
   "cell_type": "code",
   "execution_count": null,
   "metadata": {},
   "outputs": [],
   "source": [
    "graph_example[\"nodes\"]"
   ]
  },
  {
   "cell_type": "code",
   "execution_count": 7,
   "metadata": {},
   "outputs": [],
   "source": [
    "sampler = RecursiveDialogueSampler()"
   ]
  },
  {
   "cell_type": "code",
   "execution_count": null,
   "metadata": {},
   "outputs": [],
   "source": [
    "dias = sampler.invoke(Graph(graph_example), 5)"
   ]
  },
  {
   "cell_type": "code",
   "execution_count": 7,
   "metadata": {},
   "outputs": [],
   "source": [
    "ms = ModelStorage()"
   ]
  },
  {
   "cell_type": "code",
   "execution_count": null,
   "metadata": {},
   "outputs": [],
   "source": [
    "ms.add(\n",
    "    key=\"grouping_llm\",\n",
    "    config={\"model_name\": \"chatgpt-4o-latest\", \"temperature\": 0},\n",
    "    model_type=\"llm\",\n",
    ")\n",
    "ms.add(\n",
    "    key=\"extending_llm\",\n",
    "    config={\"model_name\": \"chatgpt-4o-latest\", \"temperature\": 0},\n",
    "    model_type=\"llm\",\n",
    ")\n",
    "ms.add(\n",
    "    key=\"filling_llm\",\n",
    "    config={\"model_name\": \"o3-mini\", \"temperature\": 1},\n",
    "    model_type=\"llm\",\n",
    ")\n",
    "ms.add(\n",
    "    key=\"formatting_llm\",\n",
    "    config={\"model_name\": \"gpt-4o-mini\", \"temperature\": 0},\n",
    "    model_type=\"llm\",\n",
    ")\n",
    "ms.add(\n",
    "    key=\"sim_model\",\n",
    "    config={\"model_name\": \"BAAI/bge-m3\", \"device\": \"cuda:0\"},\n",
    "    model_type=\"emb\",\n",
    ")"
   ]
  },
  {
   "cell_type": "code",
   "execution_count": 11,
   "metadata": {},
   "outputs": [
    {
     "name": "stderr",
     "output_type": "stream",
     "text": [
      "INFO:dialogue2graph.pipelines.model_storage:Added llm model 'val_llm' to storage\n"
     ]
    }
   ],
   "source": [
    "ms.add(\n",
    "    key=\"val_llm\",\n",
    "    config={\"model_name\": \"gpt-3.5-turbo\"},\n",
    "    model_type=\"llm\",\n",
    ")"
   ]
  },
  {
   "cell_type": "code",
   "execution_count": 15,
   "metadata": {},
   "outputs": [],
   "source": [
    "topic_generator = LoopedGraphGenerator(\n",
    "    ms, \"grouping_llm\", \"val_llm\", \"grouping_llm\", \"formatting_llm\"\n",
    ")"
   ]
  },
  {
   "cell_type": "code",
   "execution_count": 16,
   "metadata": {},
   "outputs": [
    {
     "name": "stderr",
     "output_type": "stream",
     "text": [
      "2025-04-29 15:12:03,598 - dialogue2graph.pipelines.model_storage - WARNING - Key 'looped_graph_generation_llm:v1' already exists in storage with same config. Skipping.\n",
      "2025-04-29 15:12:03,599 - dialogue2graph.pipelines.model_storage - WARNING - Key 'looped_graph_validation_llm:v1' already exists in storage with same config. Skipping.\n",
      "2025-04-29 15:12:03,600 - dialogue2graph.pipelines.model_storage - WARNING - Key 'looped_graph_theme_validation_llm:v1' already exists in storage with same config. Skipping.\n"
     ]
    }
   ],
   "source": [
    "topic_generator = LoopedGraphGenerator(ms)"
   ]
  },
  {
   "cell_type": "code",
   "execution_count": 17,
   "metadata": {},
   "outputs": [
    {
     "name": "stderr",
     "output_type": "stream",
     "text": [
      "2025-04-29 15:12:05,684 - dialogue2graph.datasets.complex_dialogues.generation - INFO - \n",
      "==================================================\n",
      "2025-04-29 15:12:05,684 - dialogue2graph.datasets.complex_dialogues.generation - INFO - Generating graph for topic: booking a table\n",
      "2025-04-29 15:12:05,685 - dialogue2graph.datasets.complex_dialogues.generation - INFO - ==================================================\n",
      "2025-04-29 15:12:05,685 - dialogue2graph.datasets.complex_dialogues.generation - INFO - Generating Graph ...\n",
      "2025-04-29 15:12:05,686 - dialogue2graph.utils.prompt_caching - INFO - Generated UUID: 00000000-0000-0000-0000-00000000002a\n"
     ]
    },
    {
     "name": "stderr",
     "output_type": "stream",
     "text": [
      "2025-04-29 15:12:13,874 - httpx - INFO - HTTP Request: POST http://193.187.173.33:8002/api/providers/openai/v1/chat/completions \"HTTP/1.1 200 OK\"\n",
      "2025-04-29 15:12:13,876 - dialogue2graph.datasets.complex_dialogues.generation - INFO - Graph generated is {'edges': [{'source': 1, 'target': 2, 'utterances': [\"I'm looking to book a table at a restaurant.\"]}, {'source': 2, 'target': 3, 'utterances': ['In the city center, please.']}, {'source': 3, 'target': 4, 'utterances': ['Just me and my partner.']}, {'source': 4, 'target': 5, 'utterances': ['For this Saturday.']}, {'source': 5, 'target': 6, 'utterances': ['Around 7:00 pm.']}, {'source': 6, 'target': 7, 'utterances': ['Thank you!']}, {'source': 6, 'target': 8, 'utterances': ['Yes, could you recommend any good dessert options?']}], 'nodes': [{'id': 1, 'label': 'start', 'is_start': True, 'utterances': ['Hello! Welcome to our restaurant booking service. How can I assist you today?']}, {'id': 2, 'label': 'ask_location_preference', 'is_start': False, 'utterances': ['Are you looking to book a table in the city center or a specific neighborhood?']}, {'id': 3, 'label': 'ask_number_of_guests', 'is_start': False, 'utterances': ['How many people will be joining you for the reservation?']}, {'id': 4, 'label': 'ask_date_preference', 'is_start': False, 'utterances': ['What date would you like to make the reservation for?']}, {'id': 5, 'label': 'ask_time_preference', 'is_start': False, 'utterances': ['At what time would you prefer to book the table?']}, {'id': 6, 'label': 'confirm_reservation_details', 'is_start': False, 'utterances': ['Great! I have all the details. Let me confirm your reservation for you.']}, {'id': 7, 'label': 'reservation_confirmation', 'is_start': False, 'utterances': ['Your table is successfully booked. Enjoy your meal!']}, {'id': 8, 'label': 'additional_assistance', 'is_start': False, 'utterances': ['Is there anything else I can help you with regarding your reservation?']}]}\n",
      "2025-04-29 15:12:13,876 - dialogue2graph.datasets.complex_dialogues.generation - INFO - 🔍 Checking graph requirements...\n",
      "2025-04-29 15:12:13,877 - dialogue2graph.datasets.complex_dialogues.generation - INFO - 🔄 Found 0 cycles in the graph:\n",
      "2025-04-29 15:12:13,877 - dialogue2graph.datasets.complex_dialogues.generation - INFO - ❌ Graph doesn't meet cycle requirements (minimum 2 cycles needed)\n",
      "2025-04-29 15:12:13,878 - dialogue2graph.datasets.complex_dialogues.generation - INFO - ❌ Failed to generate graph for booking a table\n",
      "2025-04-29 15:12:13,878 - dialogue2graph.datasets.complex_dialogues.generation - ERROR - Error type: ErrorType.TOO_MANY_CYCLES\n",
      "2025-04-29 15:12:13,878 - dialogue2graph.datasets.complex_dialogues.generation - ERROR - Error message: Graph requires minimum 2 cycles, found 0\n"
     ]
    }
   ],
   "source": [
    "graph = topic_generator.invoke(\"booking a table\")"
   ]
  },
  {
   "cell_type": "code",
   "execution_count": null,
   "metadata": {},
   "outputs": [],
   "source": [
    "graph = topic_generator.invoke(\"arranging airport transfers\")"
   ]
  },
  {
   "cell_type": "code",
   "execution_count": null,
   "metadata": {},
   "outputs": [],
   "source": [
    "Graph(graph[0][\"graph\"]).visualise_short(\"transfer\")"
   ]
  },
  {
   "cell_type": "code",
   "execution_count": 15,
   "metadata": {},
   "outputs": [],
   "source": [
    "import json"
   ]
  },
  {
   "cell_type": "code",
   "execution_count": 33,
   "metadata": {},
   "outputs": [],
   "source": [
    "with open(\"transfer.json\", \"w\", encoding=\"utf-8\") as f:\n",
    "    json.dump(graph[0], f, ensure_ascii=False, indent=4)"
   ]
  },
  {
   "cell_type": "code",
   "execution_count": 10,
   "metadata": {},
   "outputs": [],
   "source": [
    "graph_c = Graph(\n",
    "    {\n",
    "        \"edges\": [\n",
    "            {\n",
    "                \"source\": 1,\n",
    "                \"target\": 2,\n",
    "                \"utterances\": [\n",
    "                    \"I’d like to book a table for dinner.\",\n",
    "                    \"Can you help me reserve a table at a restaurant?\",\n",
    "                ],\n",
    "            },\n",
    "            {\n",
    "                \"source\": 2,\n",
    "                \"target\": 3,\n",
    "                \"utterances\": [\"Tomorrow at 7 PM.\", \"This Saturday at 8 PM.\"],\n",
    "            },\n",
    "            {\n",
    "                \"source\": 3,\n",
    "                \"target\": 4,\n",
    "                \"utterances\": [\"For four people.\", \"A table for two, please.\"],\n",
    "            },\n",
    "            {\n",
    "                \"source\": 4,\n",
    "                \"target\": 8,\n",
    "                \"utterances\": [\n",
    "                    \"Somewhere in downtown would be nice.\",\n",
    "                    \"Anywhere with good Italian food.\",\n",
    "                ],\n",
    "            },\n",
    "            {\n",
    "                \"source\": 8,\n",
    "                \"target\": 9,\n",
    "                \"utterances\": [\"Let's go with Italian.\", \"Chinese sounds good.\"],\n",
    "            },\n",
    "            {\n",
    "                \"source\": 9,\n",
    "                \"target\": 13,\n",
    "                \"utterances\": [\n",
    "                    \"Bella Italia sounds perfect.\",\n",
    "                    \"I’ll go with Lotus Garden.\",\n",
    "                ],\n",
    "            },\n",
    "            {\n",
    "                \"source\": 13,\n",
    "                \"target\": 5,\n",
    "                \"utterances\": [\"Yes, that works.\", \"That sounds great.\"],\n",
    "            },\n",
    "            {\n",
    "                \"source\": 5,\n",
    "                \"target\": 10,\n",
    "                \"utterances\": [\"Yes, that’s correct.\", \"Everything looks good.\"],\n",
    "            },\n",
    "            {\n",
    "                \"source\": 5,\n",
    "                \"target\": 6,\n",
    "                \"utterances\": [\n",
    "                    \"Actually, can we change the time to 9 PM?\",\n",
    "                    \"Let's do a different date instead.\",\n",
    "                ],\n",
    "            },\n",
    "            {\n",
    "                \"source\": 5,\n",
    "                \"target\": 7,\n",
    "                \"utterances\": [\n",
    "                    \"Wait, I need to change the number of people.\",\n",
    "                    \"Can we make it for six instead?\",\n",
    "                ],\n",
    "            },\n",
    "            {\n",
    "                \"source\": 6,\n",
    "                \"target\": 5,\n",
    "                \"utterances\": [\"Make it 9 PM instead.\", \"Let's go for Sunday at 7 PM.\"],\n",
    "            },\n",
    "            {\n",
    "                \"source\": 7,\n",
    "                \"target\": 5,\n",
    "                \"utterances\": [\n",
    "                    \"Now it's for three people.\",\n",
    "                    \"Actually, let's do five.\",\n",
    "                ],\n",
    "            },\n",
    "            {\n",
    "                \"source\": 10,\n",
    "                \"target\": 11,\n",
    "                \"utterances\": [\n",
    "                    \"Can I get their phone number and address?\",\n",
    "                    \"Do you have their contact info?\",\n",
    "                ],\n",
    "            },\n",
    "            {\n",
    "                \"source\": 10,\n",
    "                \"target\": 12,\n",
    "                \"utterances\": [\n",
    "                    \"Nope, that's all. Thanks!\",\n",
    "                    \"That’s all I needed. Have a great day!\",\n",
    "                ],\n",
    "            },\n",
    "            {\n",
    "                \"source\": 11,\n",
    "                \"target\": 12,\n",
    "                \"utterances\": [\n",
    "                    \"No, that's all. Thanks!\",\n",
    "                    \"I’m all set. Have a great day!\",\n",
    "                ],\n",
    "            },\n",
    "        ],\n",
    "        \"nodes\": [\n",
    "            {\n",
    "                \"id\": 1,\n",
    "                \"label\": \"start\",\n",
    "                \"is_start\": True,\n",
    "                \"utterances\": [\"Hey there! How can I help you today?\"],\n",
    "            },\n",
    "            {\n",
    "                \"id\": 2,\n",
    "                \"label\": \"ask_date_time\",\n",
    "                \"is_start\": False,\n",
    "                \"utterances\": [\n",
    "                    \"Sure! What date and time would you like to book the table for?\"\n",
    "                ],\n",
    "            },\n",
    "            {\n",
    "                \"id\": 3,\n",
    "                \"label\": \"ask_party_size\",\n",
    "                \"is_start\": False,\n",
    "                \"utterances\": [\"Got it. How many people will be joining?\"],\n",
    "            },\n",
    "            {\n",
    "                \"id\": 4,\n",
    "                \"label\": \"ask_location\",\n",
    "                \"is_start\": False,\n",
    "                \"utterances\": [\n",
    "                    \"Alright! Do you have a specific location in mind or any preferences?\"\n",
    "                ],\n",
    "            },\n",
    "            {\n",
    "                \"id\": 5,\n",
    "                \"label\": \"confirm_details\",\n",
    "                \"is_start\": False,\n",
    "                \"utterances\": [\n",
    "                    \"Just to confirm, you need a table for {party_size} on {date_time}. Does that sound right?\"\n",
    "                ],\n",
    "            },\n",
    "            {\n",
    "                \"id\": 6,\n",
    "                \"label\": \"modification_date_time\",\n",
    "                \"is_start\": False,\n",
    "                \"utterances\": [\"Sure! What new date and time would you like instead?\"],\n",
    "            },\n",
    "            {\n",
    "                \"id\": 7,\n",
    "                \"label\": \"modification_party_size\",\n",
    "                \"is_start\": False,\n",
    "                \"utterances\": [\"Got it! How many people should I update it to?\"],\n",
    "            },\n",
    "            {\n",
    "                \"id\": 8,\n",
    "                \"label\": \"offer_options\",\n",
    "                \"is_start\": False,\n",
    "                \"utterances\": [\n",
    "                    \"There are a few great restaurants available. Would you like Italian, Chinese, or something else?\"\n",
    "                ],\n",
    "            },\n",
    "            {\n",
    "                \"id\": 9,\n",
    "                \"label\": \"provide_options\",\n",
    "                \"is_start\": False,\n",
    "                \"utterances\": [\n",
    "                    \"Sure! You could try Bella Italia for Italian, Lotus Garden for Chinese, or Grill House for a steakhouse experience. Any of these sound good?\"\n",
    "                ],\n",
    "            },\n",
    "            {\n",
    "                \"id\": 10,\n",
    "                \"label\": \"confirm_booking\",\n",
    "                \"is_start\": False,\n",
    "                \"utterances\": [\n",
    "                    \"Great, I've booked your table at {restaurant_name} for {party_size} on {date_time}. Anything else I can help with?\"\n",
    "                ],\n",
    "            },\n",
    "            {\n",
    "                \"id\": 11,\n",
    "                \"label\": \"provide_contact_info\",\n",
    "                \"is_start\": False,\n",
    "                \"utterances\": [\n",
    "                    \"Bella Italia is located at 25 Main Street and you can call them at 555-1234.\",\n",
    "                    \"Grill House is on West Road, and they can be reached at 555-8765.\",\n",
    "                    \"Lotus Garden is at 78 East Avenue and their phone number is 555-5678.\",\n",
    "                ],\n",
    "            },\n",
    "            {\n",
    "                \"id\": 12,\n",
    "                \"label\": \"closing\",\n",
    "                \"is_start\": False,\n",
    "                \"utterances\": [\n",
    "                    \"Thanks for reaching out. Have a great day!\",\n",
    "                    \"You're all set! Enjoy your meal!\",\n",
    "                    \"Your reservation is confirmed. Hope you have a wonderful time!\",\n",
    "                ],\n",
    "            },\n",
    "            {\n",
    "                \"id\": 13,\n",
    "                \"label\": \"confirm_restaurant\",\n",
    "                \"is_start\": False,\n",
    "                \"utterances\": [\n",
    "                    \"Great choice! You’d like to book a table at {restaurant_name}, correct?\"\n",
    "                ],\n",
    "            },\n",
    "        ],\n",
    "    }\n",
    ")"
   ]
  },
  {
   "cell_type": "code",
   "execution_count": 11,
   "metadata": {},
   "outputs": [
    {
     "name": "stdout",
     "output_type": "stream",
     "text": [
      "Graph has all the dialogues\n"
     ]
    }
   ],
   "source": [
    "dias = sampler.invoke(graph_c, 5)"
   ]
  },
  {
   "cell_type": "code",
   "execution_count": null,
   "metadata": {},
   "outputs": [],
   "source": [
    "graph_c.visualise_short(\"Graph\")"
   ]
  },
  {
   "cell_type": "code",
   "execution_count": null,
   "metadata": {},
   "outputs": [],
   "source": [
    "graph_c.graph_dict[\"nodes\"]"
   ]
  },
  {
   "cell_type": "code",
   "execution_count": null,
   "metadata": {},
   "outputs": [],
   "source": [
    "dias = sampler.invoke(graph_c, 5)"
   ]
  },
  {
   "cell_type": "code",
   "execution_count": 39,
   "metadata": {},
   "outputs": [],
   "source": [
    "generator = ThreeStagesGraphGenerator()"
   ]
  },
  {
   "cell_type": "code",
   "execution_count": null,
   "metadata": {},
   "outputs": [],
   "source": [
    "res_graph = generator.invoke(dias, temp=1)"
   ]
  },
  {
   "cell_type": "code",
   "execution_count": null,
   "metadata": {},
   "outputs": [],
   "source": [
    "res_graph = generator.invoke(dias, model_name=\"gpt-4o-2024-11-20\", temp=0)"
   ]
  },
  {
   "cell_type": "code",
   "execution_count": null,
   "metadata": {},
   "outputs": [],
   "source": [
    "res_graph = generator.invoke(dias, model_name=\"gpt-4o\", temp=0)"
   ]
  },
  {
   "cell_type": "code",
   "execution_count": null,
   "metadata": {},
   "outputs": [],
   "source": [
    "res_graph = generator.invoke(dias, model_name=\"o1-mini\", temp=1)"
   ]
  },
  {
   "cell_type": "code",
   "execution_count": null,
   "metadata": {},
   "outputs": [],
   "source": [
    "graph_example"
   ]
  },
  {
   "cell_type": "code",
   "execution_count": null,
   "metadata": {},
   "outputs": [],
   "source": [
    "res_graph.graph_dict"
   ]
  },
  {
   "cell_type": "code",
   "execution_count": null,
   "metadata": {},
   "outputs": [],
   "source": [
    "res_graph.visualise_short(\"Generated from graph dialogues\")"
   ]
  },
  {
   "cell_type": "code",
   "execution_count": null,
   "metadata": {},
   "outputs": [],
   "source": [
    "compare_graphs(res_graph, graph_c)"
   ]
  },
  {
   "cell_type": "code",
   "execution_count": 35,
   "metadata": {},
   "outputs": [],
   "source": [
    "algo_generator = AlgoGenerator()"
   ]
  },
  {
   "cell_type": "code",
   "execution_count": 37,
   "metadata": {},
   "outputs": [],
   "source": [
    "from dialogue2graph.pipelines.core.dialogue import Dialogue"
   ]
  },
  {
   "cell_type": "code",
   "execution_count": 38,
   "metadata": {},
   "outputs": [],
   "source": [
    "dialogues = [Dialogue().from_list(seq[\"messages\"]) for seq in graph[0][\"dialogues\"]]"
   ]
  },
  {
   "cell_type": "code",
   "execution_count": null,
   "metadata": {},
   "outputs": [],
   "source": [
    "res_graph = algo_generator.invoke(dialogues, model_name=\"gpt-4o\", temp=0)"
   ]
  },
  {
   "cell_type": "code",
   "execution_count": null,
   "metadata": {},
   "outputs": [],
   "source": [
    "res_graph.visualise_short(\"Generated from graph dialogues\")"
   ]
  },
  {
   "cell_type": "code",
   "execution_count": null,
   "metadata": {},
   "outputs": [],
   "source": [
    "compare_graphs(res_graph, Graph(graph[0][\"graph\"]))"
   ]
  },
  {
   "cell_type": "code",
   "execution_count": null,
   "metadata": {},
   "outputs": [],
   "source": [
    "graph = topic_generator.invoke(\"booking a cruise package\")"
   ]
  },
  {
   "cell_type": "code",
   "execution_count": null,
   "metadata": {},
   "outputs": [],
   "source": [
    "graph[0][\"graph\"][\"nodes\"]"
   ]
  },
  {
   "cell_type": "code",
   "execution_count": null,
   "metadata": {},
   "outputs": [],
   "source": [
    "graph[0][\"graph\"][\"edges\"]"
   ]
  },
  {
   "cell_type": "code",
   "execution_count": null,
   "metadata": {},
   "outputs": [],
   "source": [
    "Graph(graph[0][\"graph\"]).visualise_short(\"Booking a cruise\")"
   ]
  },
  {
   "cell_type": "code",
   "execution_count": null,
   "metadata": {},
   "outputs": [],
   "source": [
    "dias = sampler.invoke(Graph(graph[0][\"graph\"]), 5)"
   ]
  },
  {
   "cell_type": "code",
   "execution_count": null,
   "metadata": {},
   "outputs": [],
   "source": [
    "res_graph = generator.invoke(dias)"
   ]
  },
  {
   "cell_type": "code",
   "execution_count": null,
   "metadata": {},
   "outputs": [],
   "source": [
    "res_graph.visualise_short(\"Booking a Cruise from dialogues\")"
   ]
  },
  {
   "cell_type": "code",
   "execution_count": null,
   "metadata": {},
   "outputs": [],
   "source": [
    "compare_graphs(res_graph, Graph(graph[0][\"graph\"]))"
   ]
  },
  {
   "cell_type": "code",
   "execution_count": null,
   "metadata": {},
   "outputs": [],
   "source": [
    "res_graph = algo_generator.invoke(dias, model_name=\"gpt-4o\", temp=0)"
   ]
  },
  {
   "cell_type": "code",
   "execution_count": null,
   "metadata": {},
   "outputs": [],
   "source": [
    "res_graph.visualise_short(\"Booking a Cruise from dialogues\")"
   ]
  },
  {
   "cell_type": "code",
   "execution_count": null,
   "metadata": {},
   "outputs": [],
   "source": [
    "compare_graphs(res_graph, Graph(graph[0][\"graph\"]))"
   ]
  },
  {
   "cell_type": "code",
   "execution_count": null,
   "metadata": {},
   "outputs": [],
   "source": [
    "graph = topic_generator.invoke(\"passport renewal application\")"
   ]
  },
  {
   "cell_type": "code",
   "execution_count": null,
   "metadata": {},
   "outputs": [],
   "source": [
    "graph"
   ]
  },
  {
   "cell_type": "code",
   "execution_count": null,
   "metadata": {},
   "outputs": [],
   "source": [
    "Graph(graph[0][\"graph\"]).visualise_short(\"Passport renewal\")"
   ]
  },
  {
   "cell_type": "code",
   "execution_count": null,
   "metadata": {},
   "outputs": [],
   "source": [
    "graph[0][\"graph\"][\"nodes\"]"
   ]
  },
  {
   "cell_type": "code",
   "execution_count": null,
   "metadata": {},
   "outputs": [],
   "source": [
    "dias = sampler.invoke(Graph(graph[0][\"graph\"]), 5)"
   ]
  },
  {
   "cell_type": "code",
   "execution_count": null,
   "metadata": {},
   "outputs": [],
   "source": [
    "res_graph = algo_generator.invoke(dias, model_name=\"gpt-4o\", temp=0)"
   ]
  },
  {
   "cell_type": "code",
   "execution_count": null,
   "metadata": {},
   "outputs": [],
   "source": [
    "compare_graphs(res_graph, Graph(graph[0][\"graph\"]))"
   ]
  },
  {
   "cell_type": "code",
   "execution_count": null,
   "metadata": {},
   "outputs": [],
   "source": [
    "match_dg_triplets(Graph(graph_c), dias)"
   ]
  },
  {
   "cell_type": "code",
   "execution_count": null,
   "metadata": {},
   "outputs": [],
   "source": [
    "dias = sampler.invoke(Graph(graph_example), 5)"
   ]
  },
  {
   "cell_type": "code",
   "execution_count": null,
   "metadata": {},
   "outputs": [],
   "source": [
    "match_dg_triplets(Graph(graph_c), dias)"
   ]
  },
  {
   "cell_type": "code",
   "execution_count": null,
   "metadata": {},
   "outputs": [],
   "source": [
    "from dialogue2graph.metrics.no_llm_metrics import are_valid_paths"
   ]
  },
  {
   "cell_type": "code",
   "execution_count": null,
   "metadata": {},
   "outputs": [],
   "source": [
    "are_valid_paths(Graph(graph_c), dias)"
   ]
  },
  {
   "cell_type": "code",
   "execution_count": null,
   "metadata": {},
   "outputs": [],
   "source": [
    "dias = sampler.invoke(Graph(graph_example), 5)"
   ]
  },
  {
   "cell_type": "code",
   "execution_count": null,
   "metadata": {},
   "outputs": [],
   "source": [
    "are_valid_paths(Graph(graph_c), dias)"
   ]
  }
 ],
 "metadata": {
  "kernelspec": {
   "display_name": "Python 3",
   "language": "python",
   "name": "python3"
  },
  "language_info": {
   "codemirror_mode": {
    "name": "ipython",
    "version": 3
   },
   "file_extension": ".py",
   "mimetype": "text/x-python",
   "name": "python",
   "nbconvert_exporter": "python",
   "pygments_lexer": "ipython3",
   "version": "3.11.11"
  }
 },
 "nbformat": 4,
 "nbformat_minor": 2
}
