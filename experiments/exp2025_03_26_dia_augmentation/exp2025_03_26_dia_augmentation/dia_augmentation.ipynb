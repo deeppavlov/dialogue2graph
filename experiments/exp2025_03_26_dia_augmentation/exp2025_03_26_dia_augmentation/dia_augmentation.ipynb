{
 "cells": [
  {
   "cell_type": "code",
   "execution_count": 1,
   "metadata": {},
   "outputs": [
    {
     "data": {
      "text/plain": [
       "True"
      ]
     },
     "execution_count": 1,
     "metadata": {},
     "output_type": "execute_result"
    }
   ],
   "source": [
    "from dotenv import load_dotenv\n",
    "load_dotenv()"
   ]
  },
  {
   "cell_type": "code",
   "execution_count": 2,
   "metadata": {},
   "outputs": [
    {
     "data": {
      "text/plain": [
       "'BAAI/bge-m3'"
      ]
     },
     "execution_count": 2,
     "metadata": {},
     "output_type": "execute_result"
    }
   ],
   "source": [
    "import os\n",
    "# os.environ['PATH_TO_ENV'] = \"~/projects/chatsky-llm-autoconfig/.env\"\n",
    "os.getenv('EMBEDDER_MODEL')"
   ]
  },
  {
   "cell_type": "code",
   "execution_count": 3,
   "metadata": {},
   "outputs": [
    {
     "name": "stderr",
     "output_type": "stream",
     "text": [
      "/home/olshevskaya/miniconda3/envs/conda_env_py311/lib/python3.11/site-packages/pydantic/_internal/_fields.py:192: UserWarning: Field name \"validate\" in \"Dialogue\" shadows an attribute in parent \"BaseModel\"\n",
      "  warnings.warn(\n"
     ]
    }
   ],
   "source": [
    "from dialogue2graph.pipelines.core.dialogue import DialogueMessage\n",
    "from pydantic import BaseModel\n",
    "from langchain_openai import ChatOpenAI\n",
    "from langchain.prompts import PromptTemplate\n",
    "from langchain_core.output_parsers import JsonOutputParser\n",
    "from typing import List\n",
    "from tqdm import tqdm\n",
    "import pickle"
   ]
  },
  {
   "cell_type": "code",
   "execution_count": 4,
   "metadata": {},
   "outputs": [],
   "source": [
    "from datasets import load_dataset\n",
    "\n",
    "dataset = load_dataset(\"DeepPavlov/d2g_generated\", token=True)"
   ]
  },
  {
   "cell_type": "code",
   "execution_count": 5,
   "metadata": {},
   "outputs": [],
   "source": [
    "from augmentation_prompts import (\n",
    "    variations_augmentation_prompt_2, variations_augmentation_prompt_3, \n",
    "    variations_augmentation_prompt_4, variations_augmentation_prompt_5,\n",
    "    variations_augmentation_prompt_6, variations_augmentation_prompt_7,\n",
    "    variations_augmentation_prompt_8\n",
    "    )\n",
    "from augment_dialogue import augment_dialogue"
   ]
  },
  {
   "cell_type": "markdown",
   "metadata": {},
   "source": [
    "# variations_augmentation_prompt_2"
   ]
  },
  {
   "cell_type": "code",
   "execution_count": 6,
   "metadata": {},
   "outputs": [],
   "source": [
    "augmentation_prompt = PromptTemplate.from_template(variations_augmentation_prompt_2)\n",
    "\n",
    "class DialogueSequence(BaseModel):\n",
    "    result: List[DialogueMessage]\n",
    "\n",
    "model = ChatOpenAI(\n",
    "    model=\"gpt-4o-mini-2024-07-18\", \n",
    "    api_key=os.getenv(\"OPENAI_API_KEY\"), \n",
    "    base_url=os.getenv(\"OPENAI_BASE_URL\"), \n",
    "    temperature=0.7\n",
    ")\n",
    "\n",
    "parser = JsonOutputParser(pydantic_object=DialogueSequence)\n",
    "\n",
    "chain = augmentation_prompt | model | parser"
   ]
  },
  {
   "cell_type": "code",
   "execution_count": 6,
   "metadata": {},
   "outputs": [
    {
     "data": {
      "text/plain": [
       "6"
      ]
     },
     "execution_count": 6,
     "metadata": {},
     "output_type": "execute_result"
    }
   ],
   "source": [
    "example = dataset['train'][0]\n",
    "dialogues = [dial['messages'] for dial in example['dialogues']]\n",
    "len(dialogues)"
   ]
  },
  {
   "cell_type": "code",
   "execution_count": 7,
   "metadata": {},
   "outputs": [
    {
     "data": {
      "text/plain": [
       "[{'participant': 'assistant', 'text': 'Hi there! How can I assist you today?'},\n",
       " {'participant': 'user', 'text': 'I want to place an order.'},\n",
       " {'participant': 'assistant',\n",
       "  'text': 'Great! What product are you interested in?'},\n",
       " {'participant': 'user', 'text': 'I’d like a t-shirt.'},\n",
       " {'participant': 'assistant', 'text': 'What size would you like?'},\n",
       " {'participant': 'user', 'text': 'Medium, please.'},\n",
       " {'participant': 'assistant', 'text': 'Would you like that in red or blue?'},\n",
       " {'participant': 'user', 'text': 'Red, please.'},\n",
       " {'participant': 'assistant',\n",
       "  'text': 'Perfect! Can I have your shipping address?'},\n",
       " {'participant': 'user', 'text': 'Sure, it’s 123 Main St.'},\n",
       " {'participant': 'assistant',\n",
       "  'text': 'Thank you! Your order has been placed. Is there anything else I can help you with?'},\n",
       " {'participant': 'user', 'text': 'Actually, can I change my order?'},\n",
       " {'participant': 'assistant',\n",
       "  'text': 'Of course! What would you like to change?'},\n",
       " {'participant': 'user', 'text': 'I want a large size.'},\n",
       " {'participant': 'assistant', 'text': 'What size would you like?'},\n",
       " {'participant': 'user', 'text': 'Medium, please.'},\n",
       " {'participant': 'assistant', 'text': 'Would you like that in red or blue?'},\n",
       " {'participant': 'user', 'text': 'Red, please.'},\n",
       " {'participant': 'assistant',\n",
       "  'text': 'Perfect! Can I have your shipping address?'},\n",
       " {'participant': 'user', 'text': 'Sure, it’s 123 Main St.'},\n",
       " {'participant': 'assistant',\n",
       "  'text': 'Thank you! Your order has been placed. Is there anything else I can help you with?'},\n",
       " {'participant': 'user', 'text': \"No, that's all. Thank you.\"},\n",
       " {'participant': 'assistant',\n",
       "  'text': 'Alright, feel free to reach out anytime. Have a great day!'}]"
      ]
     },
     "execution_count": 7,
     "metadata": {},
     "output_type": "execute_result"
    }
   ],
   "source": [
    "topic = example['topic']\n",
    "orig_dialogue = dialogues[0]\n",
    "orig_dialogue"
   ]
  },
  {
   "cell_type": "code",
   "execution_count": 9,
   "metadata": {},
   "outputs": [
    {
     "data": {
      "text/plain": [
       "[{'participant': 'assistant',\n",
       "  'text': ['Hello! How can I help you today?',\n",
       "   'Hi! What assistance do you need today?',\n",
       "   'Hey there! How may I assist you?']},\n",
       " {'participant': 'user',\n",
       "  'text': [\"I'd like to make an order.\",\n",
       "   'I want to place an order for something.',\n",
       "   \"I'm interested in ordering.\"]},\n",
       " {'participant': 'assistant',\n",
       "  'text': ['Awesome! Which product are you looking to buy?',\n",
       "   'Fantastic! What item do you want to order?',\n",
       "   'Great! What product are you thinking about?']},\n",
       " {'participant': 'user',\n",
       "  'text': [\"I'm looking for a t-shirt.\",\n",
       "   'I’d like to order a t-shirt.',\n",
       "   'I want a t-shirt, please.']},\n",
       " {'participant': 'assistant',\n",
       "  'text': ['What size do you prefer?',\n",
       "   'Which size would you like to go with?',\n",
       "   'Can you tell me your preferred size?']},\n",
       " {'participant': 'user',\n",
       "  'text': ['Medium would be great, thanks.',\n",
       "   \"I'll take a medium size, please.\",\n",
       "   'I’d like a medium, please.']},\n",
       " {'participant': 'assistant',\n",
       "  'text': ['Would you prefer that in red or blue?',\n",
       "   'Do you want that in red or blue?',\n",
       "   'Should I get that in red or blue?']},\n",
       " {'participant': 'user',\n",
       "  'text': ['Red would be nice, thanks.',\n",
       "   \"I'll go with red, please.\",\n",
       "   'Red, please.']},\n",
       " {'participant': 'assistant',\n",
       "  'text': ['Awesome! Could I get your shipping address?',\n",
       "   \"Great choice! What's your shipping address?\",\n",
       "   'Perfect! Can you provide your shipping address?']},\n",
       " {'participant': 'user',\n",
       "  'text': [\"It's 123 Main St.\",\n",
       "   'The address is 123 Main St.',\n",
       "   \"Sure, it's 123 Main St.\"]},\n",
       " {'participant': 'assistant',\n",
       "  'text': ['Thank you! Your order is confirmed. Is there anything else you need?',\n",
       "   'Thanks! Your order has been successfully placed. Can I help you with anything else?',\n",
       "   'Got it! Your order is on its way. Anything else you need?']},\n",
       " {'participant': 'user',\n",
       "  'text': ['Actually, I’d like to modify my order.',\n",
       "   'Can I change something in my order?',\n",
       "   'I want to make a change to my order.']},\n",
       " {'participant': 'assistant',\n",
       "  'text': ['Absolutely! What would you like to modify?',\n",
       "   'Sure! What change would you like to make?',\n",
       "   'Of course! What would you like to adjust?']},\n",
       " {'participant': 'user',\n",
       "  'text': ['I need a larger size.',\n",
       "   \"I'd like to change it to a large size.\",\n",
       "   'I want to switch to a large, please.']},\n",
       " {'participant': 'assistant',\n",
       "  'text': ['What size would you prefer?',\n",
       "   \"Can you confirm the size you'd like?\",\n",
       "   'Which size do you want now?']},\n",
       " {'participant': 'user',\n",
       "  'text': ['Medium, please.',\n",
       "   \"I'd still like a medium, thanks.\",\n",
       "   'Medium works for me.']},\n",
       " {'participant': 'assistant',\n",
       "  'text': ['Do you want that in red or blue?',\n",
       "   'Would you like that in red or blue?',\n",
       "   'Should I get that in red or blue?']},\n",
       " {'participant': 'user',\n",
       "  'text': ['Red, please.', \"I'll stick with red.\", 'Red is fine.']},\n",
       " {'participant': 'assistant',\n",
       "  'text': ['Great! Can I have your shipping address again?',\n",
       "   'Awesome! What’s your shipping address once more?',\n",
       "   'Perfect! Could you provide your shipping address again?']},\n",
       " {'participant': 'user',\n",
       "  'text': [\"It's 123 Main St.\",\n",
       "   'The address is still 123 Main St.',\n",
       "   \"Sure, that's 123 Main St.\"]},\n",
       " {'participant': 'assistant',\n",
       "  'text': ['Thank you! Your order has been processed. Is there anything else I can assist you with?',\n",
       "   'Thanks! Your order is confirmed. Do you need help with anything else?',\n",
       "   'Got it! Your order is placed. Is there anything more I can do for you?']},\n",
       " {'participant': 'user',\n",
       "  'text': [\"No, that's everything. Thanks a lot.\",\n",
       "   \"That's all for now, thank you.\",\n",
       "   \"Nope, that's all. I appreciate your help.\"]},\n",
       " {'participant': 'assistant',\n",
       "  'text': [\"Alright, don't hesitate to reach out if you need anything. Have a wonderful day!\",\n",
       "   'Okay, feel free to message me anytime. Have a great day!',\n",
       "   'Sure thing! Reach out whenever you need assistance. Enjoy your day!']}]"
      ]
     },
     "execution_count": 9,
     "metadata": {},
     "output_type": "execute_result"
    }
   ],
   "source": [
    "aug_dialogue = chain.invoke({\n",
    "            \"topic\": topic,\n",
    "            \"dialogue\": orig_dialogue\n",
    "        })\n",
    "aug_dialogue"
   ]
  },
  {
   "cell_type": "code",
   "execution_count": 13,
   "metadata": {},
   "outputs": [
    {
     "name": "stdout",
     "output_type": "stream",
     "text": [
      "Augmenting example 0:\n"
     ]
    },
    {
     "name": "stderr",
     "output_type": "stream",
     "text": [
      "100%|██████████| 6/6 [00:45<00:00,  7.57s/it]\n"
     ]
    },
    {
     "name": "stdout",
     "output_type": "stream",
     "text": [
      "Augmenting example 1:\n"
     ]
    },
    {
     "name": "stderr",
     "output_type": "stream",
     "text": [
      "100%|██████████| 12/12 [01:45<00:00,  8.75s/it]\n"
     ]
    },
    {
     "name": "stdout",
     "output_type": "stream",
     "text": [
      "Augmenting example 2:\n"
     ]
    },
    {
     "name": "stderr",
     "output_type": "stream",
     "text": [
      "100%|██████████| 12/12 [01:57<00:00,  9.77s/it]\n"
     ]
    },
    {
     "name": "stdout",
     "output_type": "stream",
     "text": [
      "Augmenting example 3:\n"
     ]
    },
    {
     "name": "stderr",
     "output_type": "stream",
     "text": [
      "100%|██████████| 9/9 [01:17<00:00,  8.57s/it]\n"
     ]
    },
    {
     "name": "stdout",
     "output_type": "stream",
     "text": [
      "Augmenting example 4:\n"
     ]
    },
    {
     "name": "stderr",
     "output_type": "stream",
     "text": [
      "100%|██████████| 13/13 [01:53<00:00,  8.69s/it]\n"
     ]
    },
    {
     "name": "stdout",
     "output_type": "stream",
     "text": [
      "Augmenting example 5:\n"
     ]
    },
    {
     "name": "stderr",
     "output_type": "stream",
     "text": [
      "100%|██████████| 12/12 [02:02<00:00, 10.18s/it]\n"
     ]
    },
    {
     "name": "stdout",
     "output_type": "stream",
     "text": [
      "Augmenting example 6:\n"
     ]
    },
    {
     "name": "stderr",
     "output_type": "stream",
     "text": [
      "100%|██████████| 5/5 [01:17<00:00, 15.44s/it]\n"
     ]
    },
    {
     "name": "stdout",
     "output_type": "stream",
     "text": [
      "Augmenting example 7:\n"
     ]
    },
    {
     "name": "stderr",
     "output_type": "stream",
     "text": [
      "100%|██████████| 17/17 [02:57<00:00, 10.45s/it]\n"
     ]
    },
    {
     "name": "stdout",
     "output_type": "stream",
     "text": [
      "Augmenting example 8:\n"
     ]
    },
    {
     "name": "stderr",
     "output_type": "stream",
     "text": [
      "100%|██████████| 10/10 [01:54<00:00, 11.46s/it]\n"
     ]
    },
    {
     "name": "stdout",
     "output_type": "stream",
     "text": [
      "Augmenting example 9:\n"
     ]
    },
    {
     "name": "stderr",
     "output_type": "stream",
     "text": [
      "100%|██████████| 6/6 [01:24<00:00, 14.07s/it]\n"
     ]
    }
   ],
   "source": [
    "new_data = []\n",
    "i = 0\n",
    "\n",
    "for i, example in enumerate(dataset['train']):\n",
    "    print(f'Augmenting example {i}:')\n",
    "    topic = example['topic']\n",
    "    all_dialogues = example['dialogues']\n",
    "\n",
    "    example['augmented_dialogues'] = []\n",
    "\n",
    "    for element in tqdm(all_dialogues, total=len(all_dialogues)):\n",
    "        orig_dialogue = element['messages']\n",
    "        try:         \n",
    "            aug_dialogue = chain.invoke({\n",
    "                \"topic\": topic,\n",
    "                \"dialogue\": orig_dialogue\n",
    "            })\n",
    "        except Exception as e:\n",
    "            aug_dialogue = e\n",
    "\n",
    "        example['augmented_dialogues'].append(\n",
    "            {\n",
    "                'id' : element['id'],\n",
    "                'messages' : aug_dialogue\n",
    "                }\n",
    "            )\n",
    "        \n",
    "    new_data.append(example)\n",
    "    with open(\"../data/gen_dataset_augment_uttr-vars\", \"wb\") as fp:\n",
    "        pickle.dump(new_data, fp)\n",
    "\n",
    "    i += 1\n",
    "    if i == 10:\n",
    "        break"
   ]
  },
  {
   "cell_type": "markdown",
   "metadata": {},
   "source": [
    "# variations_augmentation_prompt_3, variations_augmentation_prompt_4"
   ]
  },
  {
   "cell_type": "code",
   "execution_count": 6,
   "metadata": {},
   "outputs": [
    {
     "name": "stdout",
     "output_type": "stream",
     "text": [
      "Augmenting example 0:\n"
     ]
    },
    {
     "name": "stderr",
     "output_type": "stream",
     "text": [
      "100%|██████████| 6/6 [00:57<00:00,  9.60s/it]\n"
     ]
    }
   ],
   "source": [
    "new_data = []\n",
    "i = 0\n",
    "\n",
    "for i, example in enumerate(dataset['train']):\n",
    "    print(f'Augmenting example {i}:')\n",
    "    topic = example['topic']\n",
    "    all_dialogues = example['dialogues']\n",
    "\n",
    "    example['augmented_dialogues'] = []\n",
    "\n",
    "    for element in tqdm(all_dialogues, total=len(all_dialogues)):\n",
    "        orig_dialogue = element['messages']\n",
    "        try:         \n",
    "            aug_dialogue = augment_dialogue(\n",
    "                orig_dialogue, topic, variations_augmentation_prompt_3, \"gpt-4o-mini-2024-07-18\"\n",
    "            )\n",
    "        except Exception as e:\n",
    "            aug_dialogue = e\n",
    "\n",
    "        example['augmented_dialogues'].append(\n",
    "            {\n",
    "                'id' : element['id'],\n",
    "                'messages' : aug_dialogue\n",
    "                }\n",
    "            )\n",
    "        \n",
    "    new_data.append(example)\n",
    "    with open(\"../data/gen_dataset_augment_uttr-vars_3\", \"wb\") as fp:\n",
    "        pickle.dump(new_data, fp)\n",
    "\n",
    "    i += 1\n",
    "    if i == 1:\n",
    "        break"
   ]
  },
  {
   "cell_type": "code",
   "execution_count": 7,
   "metadata": {},
   "outputs": [
    {
     "name": "stdout",
     "output_type": "stream",
     "text": [
      "Augmenting example 0:\n"
     ]
    },
    {
     "name": "stderr",
     "output_type": "stream",
     "text": [
      "100%|██████████| 6/6 [01:01<00:00, 10.31s/it]\n"
     ]
    }
   ],
   "source": [
    "new_data = []\n",
    "i = 0\n",
    "\n",
    "for i, example in enumerate(dataset['train']):\n",
    "    print(f'Augmenting example {i}:')\n",
    "    topic = example['topic']\n",
    "    all_dialogues = example['dialogues']\n",
    "\n",
    "    example['augmented_dialogues'] = []\n",
    "\n",
    "    for element in tqdm(all_dialogues, total=len(all_dialogues)):\n",
    "        orig_dialogue = element['messages']\n",
    "        try:         \n",
    "            aug_dialogue = augment_dialogue(\n",
    "                orig_dialogue, topic, variations_augmentation_prompt_4, \"gpt-4o-mini-2024-07-18\"\n",
    "            )\n",
    "        except Exception as e:\n",
    "            aug_dialogue = e\n",
    "\n",
    "        example['augmented_dialogues'].append(\n",
    "            {\n",
    "                'id' : element['id'],\n",
    "                'messages' : aug_dialogue\n",
    "                }\n",
    "            )\n",
    "        \n",
    "    new_data.append(example)\n",
    "    with open(\"../data/gen_dataset_augment_uttr-vars_4\", \"wb\") as fp:\n",
    "        pickle.dump(new_data, fp)\n",
    "\n",
    "    i += 1\n",
    "    if i == 1:\n",
    "        break"
   ]
  },
  {
   "cell_type": "code",
   "execution_count": 6,
   "metadata": {},
   "outputs": [
    {
     "name": "stdout",
     "output_type": "stream",
     "text": [
      "Augmenting example 0:\n"
     ]
    },
    {
     "name": "stderr",
     "output_type": "stream",
     "text": [
      "100%|██████████| 6/6 [01:13<00:00, 12.23s/it]\n"
     ]
    }
   ],
   "source": [
    "new_data = []\n",
    "i = 0\n",
    "\n",
    "for i, example in enumerate(dataset['train']):\n",
    "    print(f'Augmenting example {i}:')\n",
    "    topic = example['topic']\n",
    "    all_dialogues = example['dialogues']\n",
    "\n",
    "    example['augmented_dialogues'] = []\n",
    "\n",
    "    for element in tqdm(all_dialogues, total=len(all_dialogues)):\n",
    "        orig_dialogue = element['messages']\n",
    "        try:         \n",
    "            aug_dialogue = augment_dialogue(\n",
    "                orig_dialogue, topic, variations_augmentation_prompt_5, \"gpt-4o-mini-2024-07-18\"\n",
    "            )\n",
    "        except Exception as e:\n",
    "            aug_dialogue = e\n",
    "\n",
    "        example['augmented_dialogues'].append(\n",
    "            {\n",
    "                'id' : element['id'],\n",
    "                'messages' : aug_dialogue\n",
    "                }\n",
    "            )\n",
    "        \n",
    "    new_data.append(example)\n",
    "    with open(\"../data/gen_dataset_augment_uttr-vars_5\", \"wb\") as fp:\n",
    "        pickle.dump(new_data, fp)\n",
    "\n",
    "    i += 1\n",
    "    if i == 1:\n",
    "        break"
   ]
  },
  {
   "cell_type": "code",
   "execution_count": 6,
   "metadata": {},
   "outputs": [
    {
     "name": "stdout",
     "output_type": "stream",
     "text": [
      "Augmenting example 0:\n"
     ]
    },
    {
     "name": "stderr",
     "output_type": "stream",
     "text": [
      "100%|██████████| 6/6 [00:56<00:00,  9.49s/it]\n"
     ]
    }
   ],
   "source": [
    "new_data = []\n",
    "i = 0\n",
    "\n",
    "for i, example in enumerate(dataset['train']):\n",
    "    print(f'Augmenting example {i}:')\n",
    "    topic = example['topic']\n",
    "    all_dialogues = example['dialogues']\n",
    "\n",
    "    example['augmented_dialogues'] = []\n",
    "\n",
    "    for element in tqdm(all_dialogues, total=len(all_dialogues)):\n",
    "        orig_dialogue = element['messages']\n",
    "        try:         \n",
    "            aug_dialogue = augment_dialogue(\n",
    "                orig_dialogue, topic, variations_augmentation_prompt_6, \"gpt-4o-mini-2024-07-18\"\n",
    "            )\n",
    "        except Exception as e:\n",
    "            aug_dialogue = e\n",
    "\n",
    "        example['augmented_dialogues'].append(\n",
    "            {\n",
    "                'id' : element['id'],\n",
    "                'messages' : aug_dialogue\n",
    "                }\n",
    "            )\n",
    "        \n",
    "    new_data.append(example)\n",
    "    with open(\"../data/gen_dataset_augment_uttr-vars_6\", \"wb\") as fp:\n",
    "        pickle.dump(new_data, fp)\n",
    "\n",
    "    i += 1\n",
    "    if i == 1:\n",
    "        break"
   ]
  },
  {
   "cell_type": "code",
   "execution_count": 6,
   "metadata": {},
   "outputs": [
    {
     "name": "stdout",
     "output_type": "stream",
     "text": [
      "Augmenting example 0:\n"
     ]
    },
    {
     "name": "stderr",
     "output_type": "stream",
     "text": [
      "100%|██████████| 6/6 [00:48<00:00,  8.08s/it]\n"
     ]
    }
   ],
   "source": [
    "new_data = []\n",
    "i = 0\n",
    "\n",
    "for i, example in enumerate(dataset['train']):\n",
    "    print(f'Augmenting example {i}:')\n",
    "    topic = example['topic']\n",
    "    all_dialogues = example['dialogues']\n",
    "\n",
    "    example['augmented_dialogues'] = []\n",
    "\n",
    "    for element in tqdm(all_dialogues, total=len(all_dialogues)):\n",
    "        orig_dialogue = element['messages']\n",
    "        try:         \n",
    "            aug_dialogue = augment_dialogue(\n",
    "                orig_dialogue, topic, variations_augmentation_prompt_7, \"gpt-4o-mini-2024-07-18\"\n",
    "            )\n",
    "        except Exception as e:\n",
    "            aug_dialogue = e\n",
    "\n",
    "        example['augmented_dialogues'].append(\n",
    "            {\n",
    "                'id' : element['id'],\n",
    "                'messages' : aug_dialogue\n",
    "                }\n",
    "            )\n",
    "        \n",
    "    new_data.append(example)\n",
    "    with open(\"../data/gen_dataset_augment_uttr-vars_7\", \"wb\") as fp:\n",
    "        pickle.dump(new_data, fp)\n",
    "\n",
    "    i += 1\n",
    "    if i == 1:\n",
    "        break"
   ]
  },
  {
   "cell_type": "code",
   "execution_count": 6,
   "metadata": {},
   "outputs": [
    {
     "name": "stdout",
     "output_type": "stream",
     "text": [
      "Augmenting example 0:\n"
     ]
    },
    {
     "name": "stderr",
     "output_type": "stream",
     "text": [
      "100%|██████████| 6/6 [00:53<00:00,  8.98s/it]\n"
     ]
    }
   ],
   "source": [
    "new_data = []\n",
    "i = 0\n",
    "\n",
    "for i, example in enumerate(dataset['train']):\n",
    "    print(f'Augmenting example {i}:')\n",
    "    topic = example['topic']\n",
    "    all_dialogues = example['dialogues']\n",
    "\n",
    "    example['augmented_dialogues'] = []\n",
    "\n",
    "    for element in tqdm(all_dialogues, total=len(all_dialogues)):\n",
    "        orig_dialogue = element['messages']\n",
    "        try:         \n",
    "            aug_dialogue = augment_dialogue(\n",
    "                orig_dialogue, topic, variations_augmentation_prompt_8, \"gpt-4o-mini-2024-07-18\"\n",
    "            )\n",
    "        except Exception as e:\n",
    "            aug_dialogue = e\n",
    "\n",
    "        example['augmented_dialogues'].append(\n",
    "            {\n",
    "                'id' : element['id'],\n",
    "                'messages' : aug_dialogue\n",
    "                }\n",
    "            )\n",
    "        \n",
    "    new_data.append(example)\n",
    "    with open(\"../data/gen_dataset_augment_uttr-vars_8\", \"wb\") as fp:\n",
    "        pickle.dump(new_data, fp)\n",
    "\n",
    "    i += 1\n",
    "    if i == 1:\n",
    "        break"
   ]
  }
 ],
 "metadata": {
  "kernelspec": {
   "display_name": "conda_env_py311",
   "language": "python",
   "name": "python3"
  },
  "language_info": {
   "codemirror_mode": {
    "name": "ipython",
    "version": 3
   },
   "file_extension": ".py",
   "mimetype": "text/x-python",
   "name": "python",
   "nbconvert_exporter": "python",
   "pygments_lexer": "ipython3",
   "version": "3.11.11"
  }
 },
 "nbformat": 4,
 "nbformat_minor": 2
}
