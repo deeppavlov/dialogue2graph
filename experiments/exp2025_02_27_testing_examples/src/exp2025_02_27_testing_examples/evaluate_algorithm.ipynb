{
 "cells": [
  {
   "cell_type": "code",
   "execution_count": 1,
   "metadata": {},
   "outputs": [
    {
     "name": "stdout",
     "output_type": "stream",
     "text": [
      "\u001b[34mInstalling dependencies from lock file\u001b[39m\n",
      "\n",
      "\u001b[39;1mInstalling\u001b[39;22m the current project: \u001b[36mexp2025-02-27-testing-examples\u001b[39m (\u001b[39;1m0.1.0\u001b[39;22m)\u001b[1G\u001b[2K\u001b[39;1mInstalling\u001b[39;22m the current project: \u001b[36mexp2025-02-27-testing-examples\u001b[39m (\u001b[32m0.1.0\u001b[39m)\n"
     ]
    }
   ],
   "source": [
    "!poetry install"
   ]
  },
  {
   "cell_type": "code",
   "execution_count": 2,
   "metadata": {},
   "outputs": [
    {
     "name": "stderr",
     "output_type": "stream",
     "text": [
      "/home/olshevskaya/miniconda3/envs/conda_env_py311/lib/python3.11/site-packages/pydantic/_internal/_fields.py:192: UserWarning: Field name \"validate\" in \"Dialogue\" shadows an attribute in parent \"BaseModel\"\n",
      "  warnings.warn(\n"
     ]
    },
    {
     "data": {
      "text/plain": [
       "True"
      ]
     },
     "execution_count": 2,
     "metadata": {},
     "output_type": "execute_result"
    }
   ],
   "source": [
    "import os\n",
    "import json\n",
    "from dotenv import load_dotenv\n",
    "from langchain_openai import ChatOpenAI\n",
    "from dialogue2graph.pipelines.core.dialogue_sampling import RecursiveDialogueSampler\n",
    "from dialogue2graph import Dialogue, Graph\n",
    "\n",
    "load_dotenv()"
   ]
  },
  {
   "cell_type": "code",
   "execution_count": 3,
   "metadata": {},
   "outputs": [],
   "source": [
    "with open('example_data.json', encoding='utf-8') as f:\n",
    "    data = json.load(f)\n",
    "\n",
    "graph = Graph(graph_dict=data[0]['graph'])\n",
    "dialogues = [Dialogue().from_list(x['messages']) for x in data[0]['dialogues']]"
   ]
  },
  {
   "cell_type": "code",
   "execution_count": 7,
   "metadata": {},
   "outputs": [
    {
     "data": {
      "text/plain": [
       "Graph(graph_dict={'edges': [{'source': 1, 'target': 2, 'utterances': [\"I'm having trouble with my calendar not syncing properly.\"]}, {'source': 2, 'target': 3, 'utterances': [\"Yes, I checked but it still doesn't sync.\"]}, {'source': 3, 'target': 4, 'utterances': ['Alright, please guide me through the steps.']}, {'source': 4, 'target': 6, 'utterances': [\"I've followed the steps and it seems to be working now.\"]}, {'source': 2, 'target': 8, 'utterances': [\"I think I'll handle it later. Thanks anyway.\"]}, {'source': 4, 'target': 7, 'utterances': ['I want to change the time zone instead.']}, {'source': 7, 'target': 4, 'utterances': [\"Sure, let's adjust the time zone settings.\"]}, {'source': 5, 'target': 6, 'utterances': [\"After adjusting, it still doesn't sync.\"]}, {'source': 3, 'target': 5, 'utterances': ['Time zone settings are correct, but the issue persists.']}, {'source': 6, 'target': 8, 'utterances': [\"Actually, it's still not syncing. I want to try something else.\"]}], 'nodes': [{'id': 1, 'label': 'greeting', 'is_start': True, 'utterances': ['Hello! How can I assist you with your calendar today?']}, {'id': 2, 'label': 'identify_issue', 'is_start': False, 'utterances': [\"I'm sorry to hear you're experiencing a sync delay. Can you tell me more about the issue?\"]}, {'id': 3, 'label': 'ask_time_zone', 'is_start': False, 'utterances': ['Could you verify that the time zone settings are properly configured on your devices?', 'Have you checked if your time zone settings are correct on all your devices?']}, {'id': 4, 'label': 'provide_steps', 'is_start': False, 'utterances': ['Sure, let me guide you through adjusting your time zone settings.']}, {'id': 5, 'label': 'alternative_solution', 'is_start': False, 'utterances': ['If time zone settings are correct, we can try refreshing the calendar app or reinstalling it.']}, {'id': 6, 'label': 'confirm_resolution', 'is_start': False, 'utterances': ['Great! Is your calendar syncing correctly now?']}, {'id': 7, 'label': 'modify_time_zone', 'is_start': False, 'utterances': ['Of course! Which device would you like to adjust the time zone settings on?']}, {'id': 8, 'label': 'exit_conversation', 'is_start': False, 'utterances': [\"I'm sorry we couldn't resolve the issue. If you need further assistance, feel free to reach out anytime. Have a great day!\"]}]}, graph=<networkx.classes.digraph.DiGraph object at 0x7f80d49617d0>, node_mapping={})"
      ]
     },
     "execution_count": 7,
     "metadata": {},
     "output_type": "execute_result"
    }
   ],
   "source": [
    "graph"
   ]
  },
  {
   "cell_type": "code",
   "execution_count": 13,
   "metadata": {},
   "outputs": [
    {
     "data": {
      "text/plain": [
       "[Dialogue(messages=[DialogueMessage(text='Hello! How can I assist you with your calendar today?', participant='assistant'), DialogueMessage(text=\"I'm having trouble with my calendar not syncing properly.\", participant='user'), DialogueMessage(text=\"I'm sorry to hear you're experiencing a sync delay. Can you tell me more about the issue?\", participant='assistant'), DialogueMessage(text=\"Yes, I checked but it still doesn't sync.\", participant='user'), DialogueMessage(text='Could you verify that the time zone settings are properly configured on your devices?', participant='assistant'), DialogueMessage(text='Alright, please guide me through the steps.', participant='user'), DialogueMessage(text='Sure, let me guide you through adjusting your time zone settings.', participant='assistant'), DialogueMessage(text='I want to change the time zone instead.', participant='user'), DialogueMessage(text='Of course! Which device would you like to adjust the time zone settings on?', participant='assistant'), DialogueMessage(text=\"Sure, let's adjust the time zone settings.\", participant='user'), DialogueMessage(text='Sure, let me guide you through adjusting your time zone settings.', participant='assistant'), DialogueMessage(text=\"I've followed the steps and it seems to be working now.\", participant='user'), DialogueMessage(text='Great! Is your calendar syncing correctly now?', participant='assistant'), DialogueMessage(text=\"Actually, it's still not syncing. I want to try something else.\", participant='user'), DialogueMessage(text=\"I'm sorry we couldn't resolve the issue. If you need further assistance, feel free to reach out anytime. Have a great day!\", participant='assistant')], topic='', validate=True),\n",
       " Dialogue(messages=[DialogueMessage(text='Hello! How can I assist you with your calendar today?', participant='assistant'), DialogueMessage(text=\"I'm having trouble with my calendar not syncing properly.\", participant='user'), DialogueMessage(text=\"I'm sorry to hear you're experiencing a sync delay. Can you tell me more about the issue?\", participant='assistant'), DialogueMessage(text=\"Yes, I checked but it still doesn't sync.\", participant='user'), DialogueMessage(text='Have you checked if your time zone settings are correct on all your devices?', participant='assistant'), DialogueMessage(text='Alright, please guide me through the steps.', participant='user'), DialogueMessage(text='Sure, let me guide you through adjusting your time zone settings.', participant='assistant'), DialogueMessage(text='I want to change the time zone instead.', participant='user'), DialogueMessage(text='Of course! Which device would you like to adjust the time zone settings on?', participant='assistant'), DialogueMessage(text=\"Sure, let's adjust the time zone settings.\", participant='user'), DialogueMessage(text='Sure, let me guide you through adjusting your time zone settings.', participant='assistant'), DialogueMessage(text=\"I've followed the steps and it seems to be working now.\", participant='user'), DialogueMessage(text='Great! Is your calendar syncing correctly now?', participant='assistant'), DialogueMessage(text=\"Actually, it's still not syncing. I want to try something else.\", participant='user'), DialogueMessage(text=\"I'm sorry we couldn't resolve the issue. If you need further assistance, feel free to reach out anytime. Have a great day!\", participant='assistant')], topic='', validate=True),\n",
       " Dialogue(messages=[DialogueMessage(text='Hello! How can I assist you with your calendar today?', participant='assistant'), DialogueMessage(text=\"I'm having trouble with my calendar not syncing properly.\", participant='user'), DialogueMessage(text=\"I'm sorry to hear you're experiencing a sync delay. Can you tell me more about the issue?\", participant='assistant'), DialogueMessage(text=\"Yes, I checked but it still doesn't sync.\", participant='user'), DialogueMessage(text='Could you verify that the time zone settings are properly configured on your devices?', participant='assistant'), DialogueMessage(text='Time zone settings are correct, but the issue persists.', participant='user'), DialogueMessage(text='If time zone settings are correct, we can try refreshing the calendar app or reinstalling it.', participant='assistant'), DialogueMessage(text=\"After adjusting, it still doesn't sync.\", participant='user'), DialogueMessage(text='Great! Is your calendar syncing correctly now?', participant='assistant'), DialogueMessage(text=\"Actually, it's still not syncing. I want to try something else.\", participant='user'), DialogueMessage(text=\"I'm sorry we couldn't resolve the issue. If you need further assistance, feel free to reach out anytime. Have a great day!\", participant='assistant')], topic='', validate=True),\n",
       " Dialogue(messages=[DialogueMessage(text='Hello! How can I assist you with your calendar today?', participant='assistant'), DialogueMessage(text=\"I'm having trouble with my calendar not syncing properly.\", participant='user'), DialogueMessage(text=\"I'm sorry to hear you're experiencing a sync delay. Can you tell me more about the issue?\", participant='assistant'), DialogueMessage(text=\"Yes, I checked but it still doesn't sync.\", participant='user'), DialogueMessage(text='Have you checked if your time zone settings are correct on all your devices?', participant='assistant'), DialogueMessage(text='Time zone settings are correct, but the issue persists.', participant='user'), DialogueMessage(text='If time zone settings are correct, we can try refreshing the calendar app or reinstalling it.', participant='assistant'), DialogueMessage(text=\"After adjusting, it still doesn't sync.\", participant='user'), DialogueMessage(text='Great! Is your calendar syncing correctly now?', participant='assistant'), DialogueMessage(text=\"Actually, it's still not syncing. I want to try something else.\", participant='user'), DialogueMessage(text=\"I'm sorry we couldn't resolve the issue. If you need further assistance, feel free to reach out anytime. Have a great day!\", participant='assistant')], topic='', validate=True),\n",
       " Dialogue(messages=[DialogueMessage(text='Hello! How can I assist you with your calendar today?', participant='assistant'), DialogueMessage(text=\"I'm having trouble with my calendar not syncing properly.\", participant='user'), DialogueMessage(text=\"I'm sorry to hear you're experiencing a sync delay. Can you tell me more about the issue?\", participant='assistant'), DialogueMessage(text=\"I think I'll handle it later. Thanks anyway.\", participant='user'), DialogueMessage(text=\"I'm sorry we couldn't resolve the issue. If you need further assistance, feel free to reach out anytime. Have a great day!\", participant='assistant')], topic='', validate=True)]"
      ]
     },
     "execution_count": 13,
     "metadata": {},
     "output_type": "execute_result"
    }
   ],
   "source": [
    "dialogues"
   ]
  },
  {
   "cell_type": "code",
   "execution_count": 4,
   "metadata": {},
   "outputs": [],
   "source": [
    "sampler = RecursiveDialogueSampler()"
   ]
  },
  {
   "cell_type": "code",
   "execution_count": 5,
   "metadata": {},
   "outputs": [
    {
     "name": "stdout",
     "output_type": "stream",
     "text": [
      "1 repeats works!\n"
     ]
    }
   ],
   "source": [
    "x = await sampler.evaluate(\n",
    "    graph=graph,\n",
    "    target_dialogues=dialogues,\n",
    "    upper_limit=10,\n",
    "    report_type=\"dataframe\"\n",
    ")"
   ]
  },
  {
   "cell_type": "code",
   "execution_count": 6,
   "metadata": {},
   "outputs": [
    {
     "name": "stdout",
     "output_type": "stream",
     "text": [
      "   all_utterances_present\n",
      "0                    True\n"
     ]
    }
   ],
   "source": [
    "print(x)"
   ]
  }
 ],
 "metadata": {
  "kernelspec": {
   "display_name": "conda_env_py311",
   "language": "python",
   "name": "python3"
  },
  "language_info": {
   "codemirror_mode": {
    "name": "ipython",
    "version": 3
   },
   "file_extension": ".py",
   "mimetype": "text/x-python",
   "name": "python",
   "nbconvert_exporter": "python",
   "pygments_lexer": "ipython3",
   "version": "3.11.11"
  }
 },
 "nbformat": 4,
 "nbformat_minor": 2
}
