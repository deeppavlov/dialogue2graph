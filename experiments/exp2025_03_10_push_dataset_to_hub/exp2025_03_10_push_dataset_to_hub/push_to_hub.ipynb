{
 "cells": [
  {
   "cell_type": "code",
   "execution_count": 2,
   "metadata": {},
   "outputs": [],
   "source": [
    "import json\n",
    "import pathlib"
   ]
  },
  {
   "cell_type": "code",
   "execution_count": 3,
   "metadata": {},
   "outputs": [],
   "source": [
    "from datasets import load_dataset, Dataset"
   ]
  },
  {
   "cell_type": "code",
   "execution_count": 4,
   "metadata": {},
   "outputs": [],
   "source": [
    "from pydantic_settings import BaseSettings, SettingsConfigDict\n",
    "from typing import Optional\n",
    "\n",
    "\n",
    "class EnvSettings(BaseSettings, case_sensitive=True):\n",
    "    model_config = SettingsConfigDict(env_file=\"./.env\", env_file_encoding=\"utf-8\")\n",
    "    HUGGINGFACE_TOKEN: Optional[str]"
   ]
  },
  {
   "cell_type": "code",
   "execution_count": 18,
   "metadata": {},
   "outputs": [],
   "source": [
    "env_settings = EnvSettings()"
   ]
  },
  {
   "cell_type": "code",
   "execution_count": null,
   "metadata": {},
   "outputs": [],
   "source": [
    "data = []\n",
    "for file in [p for p in pathlib.Path(\"../data\").iterdir() if p.is_file()]:\n",
    "    with open(file) as f:\n",
    "        data.extend(json.load(f))\n",
    "data"
   ]
  },
  {
   "cell_type": "code",
   "execution_count": null,
   "metadata": {},
   "outputs": [],
   "source": [
    "for idx1 in range(len(data)):\n",
    "    for idx2 in range(len(data[idx1][\"dialogues\"])):\n",
    "        data[idx1][\"dialogues\"][idx2].pop(\"topic\", None)\n",
    "        data[idx1][\"dialogues\"][idx2].pop(\"validate\", None)\n",
    "data"
   ]
  },
  {
   "cell_type": "code",
   "execution_count": 10,
   "metadata": {},
   "outputs": [],
   "source": [
    "counter = {}\n",
    "for idx1 in range(len(data)):\n",
    "    if data[idx1][\"topic\"] not in counter:\n",
    "        counter[data[idx1][\"topic\"]] = 0\n",
    "    counter[data[idx1][\"topic\"]] += 1\n",
    "    for idx2 in range(len(data[idx1][\"dialogues\"])):\n",
    "        data[idx1][\"dialogues\"][idx2][\"id\"] = (\n",
    "            f\"{data[idx1]['topic']}_{counter[data[idx1]['topic']]}_{idx2}\"\n",
    "        )"
   ]
  },
  {
   "cell_type": "code",
   "execution_count": null,
   "metadata": {},
   "outputs": [],
   "source": [
    "data[5][\"dialogues\"][1]"
   ]
  },
  {
   "cell_type": "code",
   "execution_count": 14,
   "metadata": {},
   "outputs": [],
   "source": [
    "dataset = Dataset.from_list(data)"
   ]
  },
  {
   "cell_type": "code",
   "execution_count": 15,
   "metadata": {},
   "outputs": [
    {
     "data": {
      "text/plain": [
       "Dataset({\n",
       "    features: ['graph', 'topic', 'dialogues'],\n",
       "    num_rows: 402\n",
       "})"
      ]
     },
     "execution_count": 15,
     "metadata": {},
     "output_type": "execute_result"
    }
   ],
   "source": [
    "dataset"
   ]
  },
  {
   "cell_type": "code",
   "execution_count": null,
   "metadata": {},
   "outputs": [],
   "source": [
    "dataset[0][\"dialogues\"][1]"
   ]
  },
  {
   "cell_type": "code",
   "execution_count": null,
   "metadata": {},
   "outputs": [],
   "source": [
    "dataset.push_to_hub(\n",
    "    \"DeepPavlov/d2g_generated\", private=True, token=env_settings.HUGGINGFACE_TOKEN\n",
    ")"
   ]
  },
  {
   "cell_type": "code",
   "execution_count": null,
   "metadata": {},
   "outputs": [],
   "source": [
    "dataset = load_dataset(\"DeepPavlov/d2g_generated\", token=env_settings.HUGGINGFACE_TOKEN)\n",
    "dataset"
   ]
  },
  {
   "cell_type": "code",
   "execution_count": null,
   "metadata": {},
   "outputs": [],
   "source": [
    "dataset[\"train\"][0]"
   ]
  }
 ],
 "metadata": {
  "kernelspec": {
   "display_name": "py311",
   "language": "python",
   "name": "python3"
  },
  "language_info": {
   "codemirror_mode": {
    "name": "ipython",
    "version": 3
   },
   "file_extension": ".py",
   "mimetype": "text/x-python",
   "name": "python",
   "nbconvert_exporter": "python",
   "pygments_lexer": "ipython3",
   "version": "3.11.11"
  }
 },
 "nbformat": 4,
 "nbformat_minor": 2
}
