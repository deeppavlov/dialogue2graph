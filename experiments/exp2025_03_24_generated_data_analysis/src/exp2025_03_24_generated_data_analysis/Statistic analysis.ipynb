{
 "cells": [
  {
   "cell_type": "code",
   "execution_count": 1,
   "metadata": {},
   "outputs": [],
   "source": [
    "import warnings\n",
    "\n",
    "warnings.filterwarnings(\"ignore\")"
   ]
  },
  {
   "cell_type": "code",
   "execution_count": 3,
   "metadata": {},
   "outputs": [],
   "source": [
    "from datasets import load_dataset\n",
    "\n",
    "dataset = load_dataset(\"DeepPavlov/d2g_generated\", token=True)"
   ]
  },
  {
   "cell_type": "code",
   "execution_count": 4,
   "metadata": {},
   "outputs": [],
   "source": [
    "def get_stat_info(data):\n",
    "    for ex in data:\n",
    "        num_edges = len(ex['graph']['edges'])\n",
    "        num_nodes = len(ex['graph']['nodes'])\n",
    "        num_dialogues = len(ex['dialogues'])\n",
    "        num_mean_message = sum([len(x['messages']) for x in ex['dialogues']]) / len(ex['dialogues'])\n",
    "        yield num_edges, num_nodes, num_dialogues, num_mean_message"
   ]
  },
  {
   "cell_type": "code",
   "execution_count": 5,
   "metadata": {},
   "outputs": [],
   "source": [
    "import pandas as pd\n",
    "\n",
    "base_stats = list(get_stat_info(dataset['train']))\n",
    "base_stats = pd.DataFrame(data=base_stats, columns=['num_edges', 'num_nodes', 'num_dialogues', 'num_mean_messages'])"
   ]
  },
  {
   "cell_type": "code",
   "execution_count": 6,
   "metadata": {},
   "outputs": [
    {
     "data": {
      "text/plain": [
       "count    402.000000\n",
       "mean      11.201493\n",
       "std       10.083032\n",
       "min        2.000000\n",
       "25%        6.000000\n",
       "50%        9.000000\n",
       "75%       12.000000\n",
       "max       96.000000\n",
       "Name: num_dialogues, dtype: float64"
      ]
     },
     "execution_count": 6,
     "metadata": {},
     "output_type": "execute_result"
    }
   ],
   "source": [
    "base_stats.num_dialogues.describe()"
   ]
  },
  {
   "cell_type": "code",
   "execution_count": 7,
   "metadata": {},
   "outputs": [
    {
     "data": {
      "text/plain": [
       "count    402.000000\n",
       "mean      11.808384\n",
       "std        3.338946\n",
       "min        6.000000\n",
       "25%        9.666667\n",
       "50%       11.363636\n",
       "75%       13.333333\n",
       "max       31.000000\n",
       "Name: num_mean_messages, dtype: float64"
      ]
     },
     "execution_count": 7,
     "metadata": {},
     "output_type": "execute_result"
    }
   ],
   "source": [
    "base_stats.num_mean_messages.describe()"
   ]
  },
  {
   "cell_type": "code",
   "execution_count": 8,
   "metadata": {},
   "outputs": [
    {
     "data": {
      "text/plain": [
       "count    402.000000\n",
       "mean      12.509950\n",
       "std        3.840479\n",
       "min        7.000000\n",
       "25%       10.000000\n",
       "50%       12.000000\n",
       "75%       14.000000\n",
       "max       44.000000\n",
       "Name: num_edges, dtype: float64"
      ]
     },
     "execution_count": 8,
     "metadata": {},
     "output_type": "execute_result"
    }
   ],
   "source": [
    "base_stats.num_edges.describe()"
   ]
  },
  {
   "cell_type": "code",
   "execution_count": 9,
   "metadata": {},
   "outputs": [
    {
     "data": {
      "text/plain": [
       "count    402.000000\n",
       "mean       8.915423\n",
       "std        1.812346\n",
       "min        5.000000\n",
       "25%        8.000000\n",
       "50%        8.000000\n",
       "75%       10.000000\n",
       "max       24.000000\n",
       "Name: num_nodes, dtype: float64"
      ]
     },
     "execution_count": 9,
     "metadata": {},
     "output_type": "execute_result"
    }
   ],
   "source": [
    "base_stats.num_nodes.describe()"
   ]
  }
 ],
 "metadata": {
  "kernelspec": {
   "display_name": ".venv",
   "language": "python",
   "name": "python3"
  },
  "language_info": {
   "codemirror_mode": {
    "name": "ipython",
    "version": 3
   },
   "file_extension": ".py",
   "mimetype": "text/x-python",
   "name": "python",
   "nbconvert_exporter": "python",
   "pygments_lexer": "ipython3",
   "version": "3.11.8"
  }
 },
 "nbformat": 4,
 "nbformat_minor": 2
}
