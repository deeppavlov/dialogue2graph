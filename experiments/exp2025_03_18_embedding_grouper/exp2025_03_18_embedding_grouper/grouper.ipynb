{
 "cells": [
  {
   "cell_type": "code",
   "execution_count": 1,
   "metadata": {},
   "outputs": [],
   "source": [
    "%load_ext autoreload\n",
    "%autoreload 2"
   ]
  },
  {
   "cell_type": "code",
   "execution_count": 2,
   "metadata": {},
   "outputs": [],
   "source": [
    "import os\n",
    "\n",
    "os.environ[\"PATH_TO_ENV\"] = \"~/projects/chatsky-llm-autoconfig/.env\""
   ]
  },
  {
   "cell_type": "code",
   "execution_count": null,
   "metadata": {},
   "outputs": [],
   "source": [
    "!python -m spacy download en_core_web_sm"
   ]
  },
  {
   "cell_type": "code",
   "execution_count": null,
   "metadata": {},
   "outputs": [],
   "source": [
    "from dialogue2graph.datasets.complex_dialogues.generation import LoopedGraphGenerator\n",
    "from three_stages_embedder import ThreeStagesGraphGenerator as GrouperGenerator"
   ]
  },
  {
   "cell_type": "code",
   "execution_count": null,
   "metadata": {},
   "outputs": [],
   "source": [
    "from dialogue2graph.pipelines.core.graph import Graph\n",
    "from dialogue2graph.pipelines.core.dialogue import Dialogue\n",
    "from dialogue2graph.pipelines.core.dialogue_sampling import RecursiveDialogueSampler\n",
    "from dialogue2graph.metrics.llm_metrics import compare_graphs"
   ]
  },
  {
   "cell_type": "code",
   "execution_count": 5,
   "metadata": {},
   "outputs": [],
   "source": [
    "from settings import EnvSettings\n",
    "\n",
    "env_settings = EnvSettings()"
   ]
  },
  {
   "cell_type": "code",
   "execution_count": 6,
   "metadata": {},
   "outputs": [],
   "source": [
    "from langchain.chat_models import ChatOpenAI"
   ]
  },
  {
   "cell_type": "code",
   "execution_count": null,
   "metadata": {},
   "outputs": [],
   "source": [
    "!conda install pygraphviz --y"
   ]
  },
  {
   "cell_type": "code",
   "execution_count": 7,
   "metadata": {},
   "outputs": [],
   "source": [
    "sampler = RecursiveDialogueSampler()"
   ]
  },
  {
   "cell_type": "markdown",
   "metadata": {},
   "source": [
    "### Generating graph from topic"
   ]
  },
  {
   "cell_type": "code",
   "execution_count": null,
   "metadata": {},
   "outputs": [],
   "source": [
    "generation_model = ChatOpenAI(\n",
    "    model=\"chatgpt-4o-latest\",\n",
    "    api_key=env_settings.OPENAI_API_KEY,\n",
    "    base_url=env_settings.OPENAI_BASE_URL,\n",
    "    temperature=1,\n",
    ")\n",
    "theme_validation_model = ChatOpenAI(\n",
    "    model=\"gpt-3.5-turbo\",\n",
    "    api_key=env_settings.OPENAI_API_KEY,\n",
    "    base_url=env_settings.OPENAI_BASE_URL,\n",
    "    temperature=0,\n",
    ")\n",
    "validation_model = ChatOpenAI(\n",
    "    model=\"gpt-3.5-turbo\",\n",
    "    api_key=env_settings.OPENAI_API_KEY,\n",
    "    base_url=env_settings.OPENAI_BASE_URL,\n",
    "    temperature=0,\n",
    ")"
   ]
  },
  {
   "cell_type": "code",
   "execution_count": 9,
   "metadata": {},
   "outputs": [],
   "source": [
    "topic_generator = LoopedGraphGenerator(\n",
    "    generation_model, validation_model, theme_validation_model\n",
    ")"
   ]
  },
  {
   "cell_type": "code",
   "execution_count": null,
   "metadata": {},
   "outputs": [],
   "source": [
    "graph = topic_generator.invoke(\"Arranging airport transfers\")"
   ]
  },
  {
   "cell_type": "code",
   "execution_count": 25,
   "metadata": {},
   "outputs": [
    {
     "data": {
      "text/plain": [
       "[{'id': 1,\n",
       "  'label': 'start',\n",
       "  'is_start': True,\n",
       "  'utterances': ['Hey there! How can I help you today?']},\n",
       " {'id': 2,\n",
       "  'label': 'ask_transfer_details',\n",
       "  'is_start': False,\n",
       "  'utterances': ['Got it! Which airport are you flying from or landing at, and what’s your destination?',\n",
       "   'Sure! From which airport and to where do you need the transfer?']},\n",
       " {'id': 3,\n",
       "  'label': 'ask_number_of_passengers',\n",
       "  'is_start': False,\n",
       "  'utterances': ['Alright, how many passengers will there be?',\n",
       "   'Got it! How many people will be traveling?']},\n",
       " {'id': 4,\n",
       "  'label': 'ask_vehicle_preference',\n",
       "  'is_start': False,\n",
       "  'utterances': ['Do you have a specific type of vehicle in mind? I can check availability.',\n",
       "   'Would you prefer a private car, a shared shuttle, or something else?']},\n",
       " {'id': 5,\n",
       "  'label': 'confirm_price_and_availability',\n",
       "  'is_start': False,\n",
       "  'utterances': ['Here are your options: Private car for $60, shared shuttle for $20 per person. Which do you prefer?',\n",
       "   'I found a few options for you. A private car would be $50, and a shared shuttle is $25 per person. Which one works best?']},\n",
       " {'id': 6,\n",
       "  'label': 'ask_booking_details',\n",
       "  'is_start': False,\n",
       "  'utterances': ['Awesome choice! Could you provide your flight number and preferred pickup time?',\n",
       "   'Great! I’ll need your name and flight details to confirm the booking.']},\n",
       " {'id': 7,\n",
       "  'label': 'confirm_booking',\n",
       "  'is_start': False,\n",
       "  'utterances': ['Your airport transfer is booked! The reference number is XFR67890. Need anything else?',\n",
       "   'You’re all set! Your booking reference is TRF12345. Anything else I can help with?']},\n",
       " {'id': 8,\n",
       "  'label': 'closing',\n",
       "  'is_start': False,\n",
       "  'utterances': ['All set! Have a great day!',\n",
       "   'Glad to help! Safe travels!',\n",
       "   'You’re welcome! Have a great trip!']}]"
      ]
     },
     "execution_count": 25,
     "metadata": {},
     "output_type": "execute_result"
    }
   ],
   "source": [
    "graph[0][\"graph\"][\"nodes\"]"
   ]
  },
  {
   "cell_type": "code",
   "execution_count": 26,
   "metadata": {},
   "outputs": [
    {
     "data": {
      "text/plain": [
       "[{'source': 1,\n",
       "  'target': 2,\n",
       "  'utterances': ['Hey! I need an airport transfer.',\n",
       "   'Hi, can I book a ride from the airport?',\n",
       "   'Hello! I need help with transportation from the airport.']},\n",
       " {'source': 2,\n",
       "  'target': 3,\n",
       "  'utterances': ['I’m arriving at JFK and need a ride to Manhattan.',\n",
       "   'Flying into LAX, heading to Santa Monica.',\n",
       "   'I need a transfer from Heathrow to the city center.']},\n",
       " {'source': 3,\n",
       "  'target': 4,\n",
       "  'utterances': ['It’s just me.',\n",
       "   'We are a group of four.',\n",
       "   'There are two of us.']},\n",
       " {'source': 4,\n",
       "  'target': 5,\n",
       "  'utterances': ['I’d prefer a private car.',\n",
       "   'A shared shuttle sounds good.',\n",
       "   'Something affordable, maybe a shuttle?']},\n",
       " {'source': 5,\n",
       "  'target': 6,\n",
       "  'utterances': ['I’ll take the private car.',\n",
       "   'I’ll go with the shared shuttle.',\n",
       "   'Let’s do the private ride for $50.']},\n",
       " {'source': 6,\n",
       "  'target': 7,\n",
       "  'utterances': ['Name is John, flight number AA123, arriving at 2 PM.',\n",
       "   'Flight BA456, landing at 6 PM, name’s Sarah.',\n",
       "   'Delta 789, getting in around 10 AM.']},\n",
       " {'source': 7,\n",
       "  'target': 8,\n",
       "  'utterances': ['Nope, that’s all. Thanks!',\n",
       "   'Thanks a lot! That’s all I needed.',\n",
       "   'No, I’m good. Thank you!']},\n",
       " {'source': 4,\n",
       "  'target': 3,\n",
       "  'utterances': ['Actually, can I change the number of passengers?',\n",
       "   'Wait, I need to update the passenger count.',\n",
       "   'Sorry, I need to adjust how many people are coming.']},\n",
       " {'source': 5,\n",
       "  'target': 4,\n",
       "  'utterances': ['Can I change my vehicle choice?',\n",
       "   'Actually, can I switch to a private car instead?',\n",
       "   'Wait, I think I want a different vehicle.']},\n",
       " {'source': 6,\n",
       "  'target': 5,\n",
       "  'utterances': ['Can we go over the prices again?',\n",
       "   'Wait, what were the transfer options?',\n",
       "   'Actually, can you repeat the pricing details?']},\n",
       " {'source': 2,\n",
       "  'target': 8,\n",
       "  'utterances': ['Never mind, I’ll figure it out myself.',\n",
       "   'I changed my mind, thanks anyway.',\n",
       "   'I don’t need a transfer anymore, but thanks!']},\n",
       " {'source': 4,\n",
       "  'target': 8,\n",
       "  'utterances': ['Actually, I’ll make other arrangements. Thanks!',\n",
       "   'I’ll check some other options instead, thanks.',\n",
       "   'You know what, never mind. Appreciate the help!']}]"
      ]
     },
     "execution_count": 26,
     "metadata": {},
     "output_type": "execute_result"
    }
   ],
   "source": [
    "graph[0][\"graph\"][\"edges\"]"
   ]
  },
  {
   "cell_type": "code",
   "execution_count": 9,
   "metadata": {},
   "outputs": [],
   "source": [
    "graph_generated = {\n",
    "    \"nodes\": [\n",
    "        {\n",
    "            \"id\": 1,\n",
    "            \"label\": \"start\",\n",
    "            \"is_start\": True,\n",
    "            \"utterances\": [\"Hey there! How can I help you today?\"],\n",
    "        },\n",
    "        {\n",
    "            \"id\": 2,\n",
    "            \"label\": \"ask_transfer_details\",\n",
    "            \"is_start\": False,\n",
    "            \"utterances\": [\n",
    "                \"Got it! Which airport are you flying from or landing at, and what’s your destination?\",\n",
    "                \"Sure! From which airport and to where do you need the transfer?\",\n",
    "            ],\n",
    "        },\n",
    "        {\n",
    "            \"id\": 3,\n",
    "            \"label\": \"ask_number_of_passengers\",\n",
    "            \"is_start\": False,\n",
    "            \"utterances\": [\n",
    "                \"Alright, how many passengers will there be?\",\n",
    "                \"Got it! How many people will be traveling?\",\n",
    "            ],\n",
    "        },\n",
    "        {\n",
    "            \"id\": 4,\n",
    "            \"label\": \"ask_vehicle_preference\",\n",
    "            \"is_start\": False,\n",
    "            \"utterances\": [\n",
    "                \"Do you have a specific type of vehicle in mind? I can check availability.\",\n",
    "                \"Would you prefer a private car, a shared shuttle, or something else?\",\n",
    "            ],\n",
    "        },\n",
    "        {\n",
    "            \"id\": 5,\n",
    "            \"label\": \"confirm_price_and_availability\",\n",
    "            \"is_start\": False,\n",
    "            \"utterances\": [\n",
    "                \"Here are your options: Private car for $60, shared shuttle for $20 per person. Which do you prefer?\",\n",
    "                \"I found a few options for you. A private car would be $50, and a shared shuttle is $25 per person. Which one works best?\",\n",
    "            ],\n",
    "        },\n",
    "        {\n",
    "            \"id\": 6,\n",
    "            \"label\": \"ask_booking_details\",\n",
    "            \"is_start\": False,\n",
    "            \"utterances\": [\n",
    "                \"Awesome choice! Could you provide your flight number and preferred pickup time?\",\n",
    "                \"Great! I’ll need your name and flight details to confirm the booking.\",\n",
    "            ],\n",
    "        },\n",
    "        {\n",
    "            \"id\": 7,\n",
    "            \"label\": \"confirm_booking\",\n",
    "            \"is_start\": False,\n",
    "            \"utterances\": [\n",
    "                \"Your airport transfer is booked! The reference number is XFR67890. Need anything else?\",\n",
    "                \"You’re all set! Your booking reference is TRF12345. Anything else I can help with?\",\n",
    "            ],\n",
    "        },\n",
    "        {\n",
    "            \"id\": 8,\n",
    "            \"label\": \"closing\",\n",
    "            \"is_start\": False,\n",
    "            \"utterances\": [\n",
    "                \"All set! Have a great day!\",\n",
    "                \"Glad to help! Safe travels!\",\n",
    "                \"You’re welcome! Have a great trip!\",\n",
    "            ],\n",
    "        },\n",
    "    ],\n",
    "    \"edges\": [\n",
    "        {\n",
    "            \"source\": 1,\n",
    "            \"target\": 2,\n",
    "            \"utterances\": [\n",
    "                \"Hey! I need an airport transfer.\",\n",
    "                \"Hi, can I book a ride from the airport?\",\n",
    "                \"Hello! I need help with transportation from the airport.\",\n",
    "            ],\n",
    "        },\n",
    "        {\n",
    "            \"source\": 2,\n",
    "            \"target\": 3,\n",
    "            \"utterances\": [\n",
    "                \"I’m arriving at JFK and need a ride to Manhattan.\",\n",
    "                \"Flying into LAX, heading to Santa Monica.\",\n",
    "                \"I need a transfer from Heathrow to the city center.\",\n",
    "            ],\n",
    "        },\n",
    "        {\n",
    "            \"source\": 3,\n",
    "            \"target\": 4,\n",
    "            \"utterances\": [\n",
    "                \"It’s just me.\",\n",
    "                \"We are a group of four.\",\n",
    "                \"There are two of us.\",\n",
    "            ],\n",
    "        },\n",
    "        {\n",
    "            \"source\": 4,\n",
    "            \"target\": 5,\n",
    "            \"utterances\": [\n",
    "                \"I’d prefer a private car.\",\n",
    "                \"A shared shuttle sounds good.\",\n",
    "                \"Something affordable, maybe a shuttle?\",\n",
    "            ],\n",
    "        },\n",
    "        {\n",
    "            \"source\": 5,\n",
    "            \"target\": 6,\n",
    "            \"utterances\": [\n",
    "                \"I’ll take the private car.\",\n",
    "                \"I’ll go with the shared shuttle.\",\n",
    "                \"Let’s do the private ride for $50.\",\n",
    "            ],\n",
    "        },\n",
    "        {\n",
    "            \"source\": 6,\n",
    "            \"target\": 7,\n",
    "            \"utterances\": [\n",
    "                \"Name is John, flight number AA123, arriving at 2 PM.\",\n",
    "                \"Flight BA456, landing at 6 PM, name’s Sarah.\",\n",
    "                \"Delta 789, getting in around 10 AM.\",\n",
    "            ],\n",
    "        },\n",
    "        {\n",
    "            \"source\": 7,\n",
    "            \"target\": 8,\n",
    "            \"utterances\": [\n",
    "                \"Nope, that’s all. Thanks!\",\n",
    "                \"Thanks a lot! That’s all I needed.\",\n",
    "                \"No, I’m good. Thank you!\",\n",
    "            ],\n",
    "        },\n",
    "        {\n",
    "            \"source\": 4,\n",
    "            \"target\": 3,\n",
    "            \"utterances\": [\n",
    "                \"Actually, can I change the number of passengers?\",\n",
    "                \"Wait, I need to update the passenger count.\",\n",
    "                \"Sorry, I need to adjust how many people are coming.\",\n",
    "            ],\n",
    "        },\n",
    "        {\n",
    "            \"source\": 5,\n",
    "            \"target\": 4,\n",
    "            \"utterances\": [\n",
    "                \"Can I change my vehicle choice?\",\n",
    "                \"Actually, can I switch to a private car instead?\",\n",
    "                \"Wait, I think I want a different vehicle.\",\n",
    "            ],\n",
    "        },\n",
    "        {\n",
    "            \"source\": 6,\n",
    "            \"target\": 5,\n",
    "            \"utterances\": [\n",
    "                \"Can we go over the prices again?\",\n",
    "                \"Wait, what were the transfer options?\",\n",
    "                \"Actually, can you repeat the pricing details?\",\n",
    "            ],\n",
    "        },\n",
    "        {\n",
    "            \"source\": 2,\n",
    "            \"target\": 8,\n",
    "            \"utterances\": [\n",
    "                \"Never mind, I’ll figure it out myself.\",\n",
    "                \"I changed my mind, thanks anyway.\",\n",
    "                \"I don’t need a transfer anymore, but thanks!\",\n",
    "            ],\n",
    "        },\n",
    "        {\n",
    "            \"source\": 4,\n",
    "            \"target\": 8,\n",
    "            \"utterances\": [\n",
    "                \"Actually, I’ll make other arrangements. Thanks!\",\n",
    "                \"I’ll check some other options instead, thanks.\",\n",
    "                \"You know what, never mind. Appreciate the help!\",\n",
    "            ],\n",
    "        },\n",
    "    ],\n",
    "}"
   ]
  },
  {
   "cell_type": "code",
   "execution_count": null,
   "metadata": {},
   "outputs": [],
   "source": [
    "graph[0][\"dialogues\"]"
   ]
  },
  {
   "cell_type": "code",
   "execution_count": null,
   "metadata": {},
   "outputs": [],
   "source": [
    "Graph(graph[0][\"graph\"]).visualise_short(\"Arranging airport transfers\")"
   ]
  },
  {
   "cell_type": "code",
   "execution_count": null,
   "metadata": {},
   "outputs": [],
   "source": [
    "Graph(graph_generated).visualise_short(\"Arranging airport transfers\")"
   ]
  },
  {
   "cell_type": "code",
   "execution_count": 10,
   "metadata": {},
   "outputs": [],
   "source": [
    "generator = GrouperGenerator()"
   ]
  },
  {
   "cell_type": "code",
   "execution_count": 33,
   "metadata": {},
   "outputs": [],
   "source": [
    "dialogues = [Dialogue().from_list(seq[\"messages\"]) for seq in graph[0][\"dialogues\"]]"
   ]
  },
  {
   "cell_type": "code",
   "execution_count": 14,
   "metadata": {},
   "outputs": [
    {
     "name": "stdout",
     "output_type": "stream",
     "text": [
      "Graph has all the dialogues\n"
     ]
    }
   ],
   "source": [
    "dailogues = sampler.invoke(Graph(graph_generated), 15)"
   ]
  },
  {
   "cell_type": "code",
   "execution_count": 11,
   "metadata": {},
   "outputs": [],
   "source": [
    "import json"
   ]
  },
  {
   "cell_type": "code",
   "execution_count": 33,
   "metadata": {},
   "outputs": [],
   "source": [
    "with open(\"dialogues.json\", \"w\", encoding=\"utf-8\") as f:\n",
    "    json.dump([d.model_dump() for d in dialogues], f, ensure_ascii=False, indent=4)"
   ]
  },
  {
   "cell_type": "code",
   "execution_count": 12,
   "metadata": {},
   "outputs": [],
   "source": [
    "with open(\"dialogues.json\") as f:\n",
    "    dialogues = json.load(f)"
   ]
  },
  {
   "cell_type": "code",
   "execution_count": null,
   "metadata": {},
   "outputs": [],
   "source": [
    "dialogues"
   ]
  },
  {
   "cell_type": "code",
   "execution_count": 13,
   "metadata": {},
   "outputs": [],
   "source": [
    "dialogues = [Dialogue().from_list(seq[\"messages\"]) for seq in dialogues]"
   ]
  },
  {
   "cell_type": "markdown",
   "metadata": {},
   "source": [
    "### Generating graph from dialogues with embbeding grouper"
   ]
  },
  {
   "cell_type": "code",
   "execution_count": null,
   "metadata": {},
   "outputs": [],
   "source": [
    "res_graph = generator.invoke(dialogues, temp=1)"
   ]
  },
  {
   "cell_type": "code",
   "execution_count": null,
   "metadata": {},
   "outputs": [],
   "source": [
    "res_graph.visualise_short(\"Generated from graph dialogues\")"
   ]
  },
  {
   "cell_type": "code",
   "execution_count": 18,
   "metadata": {},
   "outputs": [
    {
     "data": {
      "text/plain": [
       "{'value': False, 'description': 'Numbers of nodes do not match: 14 != 8'}"
      ]
     },
     "execution_count": 18,
     "metadata": {},
     "output_type": "execute_result"
    }
   ],
   "source": [
    "compare_graphs(res_graph, Graph(graph_generated))"
   ]
  },
  {
   "cell_type": "markdown",
   "metadata": {},
   "source": [
    "### Generating graph from dialogues with algo grouper"
   ]
  },
  {
   "cell_type": "code",
   "execution_count": 14,
   "metadata": {},
   "outputs": [
    {
     "name": "stderr",
     "output_type": "stream",
     "text": [
      "INFO:sentence_transformers.SentenceTransformer:Load pretrained SentenceTransformer: BAAI/bge-m3\n"
     ]
    }
   ],
   "source": [
    "from three_stages_algo import ThreeStagesGraphGenerator as AlgoGrouper"
   ]
  },
  {
   "cell_type": "code",
   "execution_count": 15,
   "metadata": {},
   "outputs": [],
   "source": [
    "algo_grouper = AlgoGrouper()"
   ]
  },
  {
   "cell_type": "code",
   "execution_count": null,
   "metadata": {},
   "outputs": [],
   "source": [
    "res_graph = algo_grouper.invoke(dialogues, model_name=\"chatgpt-4o-latest\", temp=0)"
   ]
  },
  {
   "cell_type": "code",
   "execution_count": null,
   "metadata": {},
   "outputs": [],
   "source": [
    "res_graph.visualise_short(\"Generated from graph dialogues\")"
   ]
  },
  {
   "cell_type": "code",
   "execution_count": null,
   "metadata": {},
   "outputs": [],
   "source": [
    "compare_graphs(res_graph, Graph(graph_generated))"
   ]
  },
  {
   "cell_type": "markdown",
   "metadata": {},
   "source": [
    "### Generating graph from dialogues with LLM grouper"
   ]
  },
  {
   "cell_type": "code",
   "execution_count": null,
   "metadata": {},
   "outputs": [],
   "source": []
  },
  {
   "cell_type": "code",
   "execution_count": 22,
   "metadata": {},
   "outputs": [],
   "source": [
    "llm_generator = AlgoGrouper()"
   ]
  },
  {
   "cell_type": "code",
   "execution_count": null,
   "metadata": {},
   "outputs": [],
   "source": [
    "res_graph = llm_generator.invoke(dialogues, model_name=\"chatgpt-4o-latest\", temp=0)"
   ]
  },
  {
   "cell_type": "code",
   "execution_count": null,
   "metadata": {},
   "outputs": [],
   "source": [
    "res_graph.visualise_short(\"Generated with LLM from graph dialogues\")"
   ]
  },
  {
   "cell_type": "code",
   "execution_count": 25,
   "metadata": {},
   "outputs": [
    {
     "data": {
      "application/vnd.jupyter.widget-view+json": {
       "model_id": "f7d7b2d72dcb4beb90f0ec4e39abe924",
       "version_major": 2,
       "version_minor": 0
      },
      "text/plain": [
       "Batches:   0%|          | 0/1 [00:00<?, ?it/s]"
      ]
     },
     "metadata": {},
     "output_type": "display_data"
    },
    {
     "data": {
      "application/vnd.jupyter.widget-view+json": {
       "model_id": "7926426724e64fc0b63aa7ce2ab35c0e",
       "version_major": 2,
       "version_minor": 0
      },
      "text/plain": [
       "Batches:   0%|          | 0/1 [00:00<?, ?it/s]"
      ]
     },
     "metadata": {},
     "output_type": "display_data"
    },
    {
     "data": {
      "application/vnd.jupyter.widget-view+json": {
       "model_id": "eccdd22257e44036af480a10edf2c2fb",
       "version_major": 2,
       "version_minor": 0
      },
      "text/plain": [
       "Batches:   0%|          | 0/1 [00:00<?, ?it/s]"
      ]
     },
     "metadata": {},
     "output_type": "display_data"
    },
    {
     "data": {
      "application/vnd.jupyter.widget-view+json": {
       "model_id": "ba938d3348b94bb99ea8ad53cfb21778",
       "version_major": 2,
       "version_minor": 0
      },
      "text/plain": [
       "Batches:   0%|          | 0/1 [00:00<?, ?it/s]"
      ]
     },
     "metadata": {},
     "output_type": "display_data"
    },
    {
     "data": {
      "text/plain": [
       "{'value': True,\n",
       " 'description': 'Nodes similarity: 0.9841386079788208, Nodes+edges similarity: 0.9515432119369507'}"
      ]
     },
     "execution_count": 25,
     "metadata": {},
     "output_type": "execute_result"
    }
   ],
   "source": [
    "compare_graphs(res_graph, Graph(graph_generated))"
   ]
  }
 ],
 "metadata": {
  "kernelspec": {
   "display_name": "py311",
   "language": "python",
   "name": "python3"
  },
  "language_info": {
   "codemirror_mode": {
    "name": "ipython",
    "version": 3
   },
   "file_extension": ".py",
   "mimetype": "text/x-python",
   "name": "python",
   "nbconvert_exporter": "python",
   "pygments_lexer": "ipython3",
   "version": "3.11.11"
  }
 },
 "nbformat": 4,
 "nbformat_minor": 2
}
