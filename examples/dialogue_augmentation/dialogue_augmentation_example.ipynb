{
 "cells": [
  {
   "cell_type": "code",
   "execution_count": 1,
   "metadata": {},
   "outputs": [
    {
     "name": "stdout",
     "output_type": "stream",
     "text": [
      "\u001b[34mInstalling dependencies from lock file\u001b[39m\n",
      "\n",
      "No dependencies to install or update\n",
      "\n",
      "\u001b[39;1mInstalling\u001b[39;22m the current project: \u001b[36mdialogue2graph\u001b[39m (\u001b[39;1m0.1.1\u001b[39;22m)\u001b[1G\u001b[2K\u001b[39;1mInstalling\u001b[39;22m the current project: \u001b[36mdialogue2graph\u001b[39m (\u001b[32m0.1.1\u001b[39m)\n"
     ]
    }
   ],
   "source": [
    "! poetry install"
   ]
  },
  {
   "cell_type": "markdown",
   "metadata": {},
   "source": [
    "## Generate 3 augmented dialogues on one given dialogue"
   ]
  },
  {
   "cell_type": "markdown",
   "metadata": {},
   "source": [
    "Use DialogueAugmenter to augment an original dialogue by paraphrasing its lines while maintaining the structure and flow of the conversation."
   ]
  },
  {
   "cell_type": "code",
   "execution_count": 1,
   "metadata": {},
   "outputs": [
    {
     "name": "stderr",
     "output_type": "stream",
     "text": [
      "/home/olshevskaya/miniconda3/envs/conda_env_py311/lib/python3.11/site-packages/pydantic/_internal/_fields.py:198: UserWarning: Field name \"validate\" in \"Dialogue\" shadows an attribute in parent \"BaseModel\"\n",
      "  warnings.warn(\n",
      "2025-04-30 11:32:04,076 - datasets - INFO - PyTorch version 2.6.0 available.\n"
     ]
    },
    {
     "data": {
      "text/plain": [
       "True"
      ]
     },
     "execution_count": 1,
     "metadata": {},
     "output_type": "execute_result"
    }
   ],
   "source": [
    "import json\n",
    "import dotenv\n",
    "from dialogue2graph.pipelines.core.dialogue import Dialogue\n",
    "from dialogue2graph.datasets.augment_dialogues.augmentation import DialogueAugmenter\n",
    "from dialogue2graph.pipelines.model_storage import ModelStorage\n",
    "from dialogue2graph.datasets.augment_dialogues.prompts import augmentation_prompt_3_vars\n",
    "from langchain_openai import ChatOpenAI\n",
    "\n",
    "dotenv.load_dotenv()"
   ]
  },
  {
   "cell_type": "markdown",
   "metadata": {},
   "source": [
    "1. Read the example data to get the dialogue for augmentation."
   ]
  },
  {
   "cell_type": "code",
   "execution_count": 2,
   "metadata": {},
   "outputs": [
    {
     "name": "stdout",
     "output_type": "stream",
     "text": [
      "assistant: Hi there! How can I assist you today?\n",
      "user: I want to place an order.\n",
      "assistant: Great! What product are you interested in?\n",
      "user: I’d like a t-shirt.\n",
      "assistant: What size would you like?\n",
      "user: Medium, please.\n",
      "assistant: Would you like that in red or blue?\n",
      "user: Red, please.\n",
      "assistant: Perfect! Can I have your shipping address?\n",
      "user: Sure, it’s 123 Main St.\n",
      "assistant: Thank you! Your order has been placed. Is there anything else I can help you with?\n",
      "user: Actually, can I change my order?\n",
      "assistant: Of course! What would you like to change?\n",
      "user: I want a large size.\n",
      "assistant: What size would you like?\n",
      "user: Medium, please.\n",
      "assistant: Would you like that in red or blue?\n",
      "user: Red, please.\n",
      "assistant: Perfect! Can I have your shipping address?\n",
      "user: Sure, it’s 123 Main St.\n",
      "assistant: Thank you! Your order has been placed. Is there anything else I can help you with?\n",
      "user: No, that's all. Thank you.\n",
      "assistant: Alright, feel free to reach out anytime. Have a great day!\n"
     ]
    }
   ],
   "source": [
    "with open(\"dialogue_augmentation_data_example.json\", encoding=\"utf-8\") as f:\n",
    "    data = json.load(f)\n",
    "dialogue = Dialogue(**data[0][\"dialogue\"])\n",
    "print(dialogue)"
   ]
  },
  {
   "cell_type": "markdown",
   "metadata": {},
   "source": [
    "2. Create `ModelStorage` instance and add choosen LLMs for dialogue generation (i.e. dialogue augmentation) and formatting LLM's output."
   ]
  },
  {
   "cell_type": "code",
   "execution_count": 3,
   "metadata": {},
   "outputs": [
    {
     "name": "stderr",
     "output_type": "stream",
     "text": [
      "2025-04-30 11:32:08,746 - /cephfs/home/olshevskaya/chatsky-llm-autoconfig/dialogue2graph/pipelines/model_storage.py - INFO - Added <class 'langchain_openai.chat_models.base.ChatOpenAI'> model 'generation-llm' to storage\n",
      "2025-04-30 11:32:08,813 - /cephfs/home/olshevskaya/chatsky-llm-autoconfig/dialogue2graph/pipelines/model_storage.py - INFO - Added <class 'langchain_openai.chat_models.base.ChatOpenAI'> model 'formatting-llm' to storage\n"
     ]
    }
   ],
   "source": [
    "model_storage = ModelStorage()\n",
    "model_storage.add(\n",
    "        key=\"generation-llm\", # model to use for generation\n",
    "        config={\"model_name\": \"gpt-4o-mini-2024-07-18\", \"temperature\": 0.7},\n",
    "        model_type=ChatOpenAI,\n",
    "    )\n",
    "model_storage.add(\n",
    "        key=\"formatting-llm\", # model to use for formatting LLM's output\n",
    "        config={\"model_name\": \"gpt-3.5-turbo\", \"temperature\": 0.7},\n",
    "        model_type=ChatOpenAI,\n",
    "    )"
   ]
  },
  {
   "cell_type": "markdown",
   "metadata": {},
   "source": [
    "3. Create `DialogueAugmenter` instance and use `invoke` method to get augmented dialogues."
   ]
  },
  {
   "cell_type": "code",
   "execution_count": 4,
   "metadata": {},
   "outputs": [],
   "source": [
    "augmenter = DialogueAugmenter(\n",
    "        model_storage=model_storage,\n",
    "        generation_llm=\"generation-llm\",\n",
    "        formatting_llm=\"formatting-llm\",\n",
    "    )"
   ]
  },
  {
   "cell_type": "code",
   "execution_count": 5,
   "metadata": {},
   "outputs": [
    {
     "name": "stderr",
     "output_type": "stream",
     "text": [
      "2025-04-30 11:32:44,258 - httpx - INFO - HTTP Request: POST http://193.187.173.33:8002/api/providers/openai/v1/chat/completions \"HTTP/1.1 200 OK\"\n"
     ]
    }
   ],
   "source": [
    "result = augmenter.invoke(\n",
    "        dialogue=dialogue,\n",
    "        topic=\"Responding to DMs on Instagram/Facebook.\",\n",
    "        prompt=augmentation_prompt_3_vars,\n",
    "    )"
   ]
  },
  {
   "cell_type": "code",
   "execution_count": 6,
   "metadata": {},
   "outputs": [
    {
     "data": {
      "text/plain": [
       "[Dialogue(messages=[DialogueMessage(text='Hello! How can I help you today?', participant='assistant'), DialogueMessage(text=\"I'd like to make an order.\", participant='user'), DialogueMessage(text='Awesome! Which product are you interested in?', participant='assistant'), DialogueMessage(text='I’m interested in a t-shirt.', participant='user'), DialogueMessage(text='What size do you need?', participant='assistant'), DialogueMessage(text='I’d like a medium size, please.', participant='user'), DialogueMessage(text='Would you prefer that in red or blue?', participant='assistant'), DialogueMessage(text='Red would be great, thank you.', participant='user'), DialogueMessage(text='Great choice! Could you provide your shipping address?', participant='assistant'), DialogueMessage(text=\"It's 123 Main St.\", participant='user'), DialogueMessage(text='Thank you! Your order is confirmed. Is there anything else you need?', participant='assistant'), DialogueMessage(text='Is it possible to change my order?', participant='user'), DialogueMessage(text='Absolutely! What would you like to change?', participant='assistant'), DialogueMessage(text='I need a large size instead.', participant='user'), DialogueMessage(text='What size would you like now?', participant='assistant'), DialogueMessage(text='I want medium again, please.', participant='user'), DialogueMessage(text='Would you like that in red or blue?', participant='assistant'), DialogueMessage(text='Red, please.', participant='user'), DialogueMessage(text='Great! Can you provide your shipping address once more?', participant='assistant'), DialogueMessage(text='It’s still 123 Main St.', participant='user'), DialogueMessage(text='Thank you! Your order has been successfully placed. Is there anything else I can assist you with?', participant='assistant'), DialogueMessage(text=\"No, that's all for now. Thank you!\", participant='user'), DialogueMessage(text='Alright, feel free to message me anytime. Have a fantastic day!', participant='assistant')], id='', topic='', validate=True),\n",
       " Dialogue(messages=[DialogueMessage(text='Hi! What can I do for you today?', participant='assistant'), DialogueMessage(text=\"I'm looking to place an order.\", participant='user'), DialogueMessage(text=\"That's great! What item are you looking to buy?\", participant='assistant'), DialogueMessage(text='I would like to order a t-shirt.', participant='user'), DialogueMessage(text='Could you let me know your size?', participant='assistant'), DialogueMessage(text='Please, make it medium.', participant='user'), DialogueMessage(text='Do you want that in red or blue?', participant='assistant'), DialogueMessage(text='I’ll go with red, please.', participant='user'), DialogueMessage(text='Awesome! Can you share your shipping address with me?', participant='assistant'), DialogueMessage(text='My address is 123 Main St.', participant='user'), DialogueMessage(text='Thanks! Your order has been placed. How else can I assist you?', participant='assistant'), DialogueMessage(text=\"Actually, I'd like to modify my order.\", participant='user'), DialogueMessage(text='Sure thing! What changes do you want to make?', participant='assistant'), DialogueMessage(text='I would like to switch to a large size.', participant='user'), DialogueMessage(text='And what size do you want this time?', participant='assistant'), DialogueMessage(text='Let’s stick with medium, thanks.', participant='user'), DialogueMessage(text='Do you want that in red or blue?', participant='assistant'), DialogueMessage(text='I’ll go with red again.', participant='user'), DialogueMessage(text='Perfect! What’s your shipping address again?', participant='assistant'), DialogueMessage(text='My address remains 123 Main St.', participant='user'), DialogueMessage(text='Thanks! Your order is confirmed. Do you need any further assistance?', participant='assistant'), DialogueMessage(text=\"That's everything, thanks!\", participant='user'), DialogueMessage(text=\"Okay, don't hesitate to reach out if you need anything. Have a great day!\", participant='assistant')], id='', topic='', validate=True),\n",
       " Dialogue(messages=[DialogueMessage(text='Greetings! How may I assist you?', participant='assistant'), DialogueMessage(text='I want to order something.', participant='user'), DialogueMessage(text='Sure thing! What product do you have in mind?', participant='assistant'), DialogueMessage(text='I want to get a t-shirt.', participant='user'), DialogueMessage(text='Which size would you prefer?', participant='assistant'), DialogueMessage(text='Medium size would be great.', participant='user'), DialogueMessage(text='Which color would you like, red or blue?', participant='assistant'), DialogueMessage(text='Let’s make it red.', participant='user'), DialogueMessage(text='Perfect! What’s your shipping address?', participant='assistant'), DialogueMessage(text='Sure, the address is 123 Main St.', participant='user'), DialogueMessage(text='Got it! Your order is on its way. Need help with anything else?', participant='assistant'), DialogueMessage(text='Can I make a change to my order?', participant='user'), DialogueMessage(text='Of course! What do you want to adjust?', participant='assistant'), DialogueMessage(text='Please change it to large.', participant='user'), DialogueMessage(text='What size are you looking for now?', participant='assistant'), DialogueMessage(text='I’ll take medium once more.', participant='user'), DialogueMessage(text='Which color would you prefer, red or blue?', participant='assistant'), DialogueMessage(text='Make it red, please.', participant='user'), DialogueMessage(text='Awesome! Can I have your shipping address again?', participant='assistant'), DialogueMessage(text='It’s the same, 123 Main St.', participant='user'), DialogueMessage(text='Got it! Your order has been placed successfully. Anything else you need help with?', participant='assistant'), DialogueMessage(text=\"Nope, that's it. Thank you!\", participant='user'), DialogueMessage(text='Sure thing! Contact me anytime. Enjoy your day!', participant='assistant')], id='', topic='', validate=True)]"
      ]
     },
     "execution_count": 6,
     "metadata": {},
     "output_type": "execute_result"
    }
   ],
   "source": [
    "result"
   ]
  },
  {
   "cell_type": "markdown",
   "metadata": {},
   "source": [
    "**Example of augmented dialogue**"
   ]
  },
  {
   "cell_type": "code",
   "execution_count": 7,
   "metadata": {},
   "outputs": [
    {
     "name": "stdout",
     "output_type": "stream",
     "text": [
      "assistant: Hello! How can I help you today?\n",
      "user: I'd like to make an order.\n",
      "assistant: Awesome! Which product are you interested in?\n",
      "user: I’m interested in a t-shirt.\n",
      "assistant: What size do you need?\n",
      "user: I’d like a medium size, please.\n",
      "assistant: Would you prefer that in red or blue?\n",
      "user: Red would be great, thank you.\n",
      "assistant: Great choice! Could you provide your shipping address?\n",
      "user: It's 123 Main St.\n",
      "assistant: Thank you! Your order is confirmed. Is there anything else you need?\n",
      "user: Is it possible to change my order?\n",
      "assistant: Absolutely! What would you like to change?\n",
      "user: I need a large size instead.\n",
      "assistant: What size would you like now?\n",
      "user: I want medium again, please.\n",
      "assistant: Would you like that in red or blue?\n",
      "user: Red, please.\n",
      "assistant: Great! Can you provide your shipping address once more?\n",
      "user: It’s still 123 Main St.\n",
      "assistant: Thank you! Your order has been successfully placed. Is there anything else I can assist you with?\n",
      "user: No, that's all for now. Thank you!\n",
      "assistant: Alright, feel free to message me anytime. Have a fantastic day!\n"
     ]
    }
   ],
   "source": [
    "print(result[0])"
   ]
  }
 ],
 "metadata": {
  "kernelspec": {
   "display_name": "conda_env_py311",
   "language": "python",
   "name": "python3"
  },
  "language_info": {
   "codemirror_mode": {
    "name": "ipython",
    "version": 3
   },
   "file_extension": ".py",
   "mimetype": "text/x-python",
   "name": "python",
   "nbconvert_exporter": "python",
   "pygments_lexer": "ipython3",
   "version": "3.11.11"
  }
 },
 "nbformat": 4,
 "nbformat_minor": 2
}
