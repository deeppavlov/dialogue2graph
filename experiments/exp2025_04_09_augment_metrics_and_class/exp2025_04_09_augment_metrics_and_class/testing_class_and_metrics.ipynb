{
 "cells": [
  {
   "cell_type": "code",
   "execution_count": null,
   "id": "96fba93c",
   "metadata": {},
   "outputs": [
    {
     "name": "stderr",
     "output_type": "stream",
     "text": [
      "/home/olshevskaya/miniconda3/envs/conda_env_py311/lib/python3.11/site-packages/pydantic/_internal/_fields.py:198: UserWarning: Field name \"validate\" in \"Dialogue\" shadows an attribute in parent \"BaseModel\"\n",
      "  warnings.warn(\n"
     ]
    }
   ],
   "source": [
    "from dialogue2graph.metrics.no_llm_metrics.metrics import (\n",
    "    match_roles, is_correct_length\n",
    ")\n",
    "import json\n",
    "\n",
    "from dialogue2graph.pipelines.model_storage import ModelStorage\n",
    "from dialogue2graph.datasets.augment_dialogues.prompts import augmentation_prompt_3_vars\n",
    "from dialogue2graph.pipelines.core.dialogue import DialogueMessage, Dialogue\n",
    "\n",
    "from pydantic import BaseModel, Field\n",
    "class AugmentedTurn(BaseModel):\n",
    "    participant: str\n",
    "    text: list[str] = Field(..., description=\"List of utterance variations for this turn\")\n",
    "\n",
    "class DialogueSequence(BaseModel):\n",
    "    result: list[AugmentedTurn] = Field(..., description=\"Sequence of augmented turns\")"
   ]
  },
  {
   "cell_type": "code",
   "execution_count": 2,
   "id": "6a3bfe6c",
   "metadata": {},
   "outputs": [
    {
     "name": "stderr",
     "output_type": "stream",
     "text": [
      "INFO:dialogue2graph.pipelines.model_storage:Added llm model 'generation-llm' to storage\n",
      "INFO:dialogue2graph.pipelines.model_storage:Added llm model 'formatting-llm' to storage\n"
     ]
    }
   ],
   "source": [
    "with open('../data/gen_dataset_augmented_0-402_nodes_edges_v5.json', \"r\") as fp:\n",
    "    data = json.load(fp)\n",
    "example = data[0]\n",
    "dialogues = example['dialogues']\n",
    "augmented_dialogues = example['augmented_dialogues']\n",
    "\n",
    "dia = dialogues[0]\n",
    "aug_dia = augmented_dialogues[0]\n",
    "\n",
    "# Initialize model storage\n",
    "model_storage = ModelStorage()\n",
    "\n",
    "# Add models to storage\n",
    "model_storage.add(\n",
    "    key=\"generation-llm\",\n",
    "    config={\"model_name\": \"gpt-4o-mini-2024-07-18\", \"temperature\": 0.7},\n",
    "    model_type=\"llm\"\n",
    ")\n",
    "\n",
    "model_storage.add(\n",
    "    key=\"formatting-llm\", \n",
    "    config={\"model_name\": \"gpt-3.5-turbo\", \"temperature\": 0.7},\n",
    "    model_type=\"llm\"\n",
    ")"
   ]
  },
  {
   "cell_type": "markdown",
   "id": "53e7955e",
   "metadata": {},
   "source": [
    "## augmentation_corrected.py"
   ]
  },
  {
   "cell_type": "code",
   "execution_count": 3,
   "id": "7f345e2f",
   "metadata": {},
   "outputs": [],
   "source": [
    "from dialogue2graph.datasets.augment_dialogues.augmentation import DialogueAugmenter"
   ]
  },
  {
   "cell_type": "code",
   "execution_count": 4,
   "id": "d6ab4771",
   "metadata": {},
   "outputs": [],
   "source": [
    "dialogue = Dialogue.from_list(dia['messages'])\n",
    "augmenter = DialogueAugmenter(\n",
    "    model_storage=model_storage,\n",
    "    generation_llm=\"generation-llm\",\n",
    "    formatting_llm=\"formatting-llm\"\n",
    ")"
   ]
  },
  {
   "cell_type": "code",
   "execution_count": 7,
   "id": "65752fbe",
   "metadata": {},
   "outputs": [
    {
     "name": "stderr",
     "output_type": "stream",
     "text": [
      "INFO:httpx:HTTP Request: POST http://193.187.173.33:8002/api/providers/openai/v1/chat/completions \"HTTP/1.1 200 OK\"\n"
     ]
    },
    {
     "data": {
      "text/plain": [
       "[Dialogue(messages=[DialogueMessage(text='Hello! How can I help you today?', participant='assistant'), DialogueMessage(text='I’d like to place an order.', participant='user'), DialogueMessage(text='Awesome! Which product are you interested in?', participant='assistant'), DialogueMessage(text='I’d like to get a t-shirt.', participant='user'), DialogueMessage(text='What size do you need?', participant='assistant'), DialogueMessage(text='Medium, please.', participant='user'), DialogueMessage(text='Would you prefer that in red or blue?', participant='assistant'), DialogueMessage(text='Red, please.', participant='user'), DialogueMessage(text='Great choice! Can you provide your shipping address?', participant='assistant'), DialogueMessage(text='Sure, it’s 123 Main St.', participant='user'), DialogueMessage(text='Thanks! Your order has been confirmed. Is there anything else I can assist you with?', participant='assistant'), DialogueMessage(text='Actually, I’d like to change my order.', participant='user'), DialogueMessage(text='Absolutely! What would you like to change?', participant='assistant'), DialogueMessage(text='I want a large size instead.', participant='user'), DialogueMessage(text='What size would you like now?', participant='assistant'), DialogueMessage(text='Medium, please.', participant='user'), DialogueMessage(text='Would you prefer that in red or blue?', participant='assistant'), DialogueMessage(text='Red, please.', participant='user'), DialogueMessage(text='Great! Can I get your shipping address again?', participant='assistant'), DialogueMessage(text='Sure, it’s 123 Main St.', participant='user'), DialogueMessage(text='Thank you! Your order has been placed. Is there anything else I can help you with?', participant='assistant'), DialogueMessage(text=\"No, that's all. Thank you.\", participant='user'), DialogueMessage(text='Alright, feel free to contact us anytime. Have a wonderful day!', participant='assistant')], id='', topic='', validate=True),\n",
       " Dialogue(messages=[DialogueMessage(text='Hi! What assistance do you need today?', participant='assistant'), DialogueMessage(text=\"I'm looking to make a purchase.\", participant='user'), DialogueMessage(text=\"That's great! What item do you want to order?\", participant='assistant'), DialogueMessage(text=\"I'm interested in a t-shirt.\", participant='user'), DialogueMessage(text='Which size are you looking for?', participant='assistant'), DialogueMessage(text=\"I'll take a medium size.\", participant='user'), DialogueMessage(text='Do you want it in red or blue?', participant='assistant'), DialogueMessage(text='I’d like it in red.', participant='user'), DialogueMessage(text='Perfect! What’s your shipping address?', participant='assistant'), DialogueMessage(text='Of course, my address is 123 Main St.', participant='user'), DialogueMessage(text='Thank you! Your order has been successfully placed. Do you need help with anything else?', participant='assistant'), DialogueMessage(text='Can I modify my order?', participant='user'), DialogueMessage(text='Of course! What changes would you like to make?', participant='assistant'), DialogueMessage(text='I’d like to change it to a large size.', participant='user'), DialogueMessage(text='Which size do you want for the new order?', participant='assistant'), DialogueMessage(text='I’ll stick with medium.', participant='user'), DialogueMessage(text='Do you still want it in red or blue?', participant='assistant'), DialogueMessage(text='I’d like red for this one as well.', participant='user'), DialogueMessage(text='Awesome! Could you provide your shipping address once more?', participant='assistant'), DialogueMessage(text='No problem, it’s 123 Main St.', participant='user'), DialogueMessage(text='Thanks! Your order is confirmed. Do you need anything else?', participant='assistant'), DialogueMessage(text=\"That's everything for now. Thanks!\", participant='user'), DialogueMessage(text='Okay! Don’t hesitate to reach out if you need anything. Have an amazing day!', participant='assistant')], id='', topic='', validate=True),\n",
       " Dialogue(messages=[DialogueMessage(text='Hey there! How can I be of service to you?', participant='assistant'), DialogueMessage(text='I want to order something.', participant='user'), DialogueMessage(text='Fantastic! What product do you have in mind?', participant='assistant'), DialogueMessage(text='I want to order a t-shirt.', participant='user'), DialogueMessage(text='Could you let me know your size?', participant='assistant'), DialogueMessage(text='I would like it in medium.', participant='user'), DialogueMessage(text='Which color would you like: red or blue?', participant='assistant'), DialogueMessage(text='Red would be great.', participant='user'), DialogueMessage(text='Awesome! Could you share your shipping address with me?', participant='assistant'), DialogueMessage(text='Absolutely, it’s 123 Main St.', participant='user'), DialogueMessage(text='Got it! Your order is placed. Is there anything more I can help you with?', participant='assistant'), DialogueMessage(text='I want to adjust my order, if possible.', participant='user'), DialogueMessage(text='Sure! What details would you like to update?', participant='assistant'), DialogueMessage(text='Please change my order to a large size.', participant='user'), DialogueMessage(text='Could you tell me the new size you’d like?', participant='assistant'), DialogueMessage(text='I want it in medium size.', participant='user'), DialogueMessage(text='What color do you want: red or blue for this size?', participant='assistant'), DialogueMessage(text='Red would be perfect again.', participant='user'), DialogueMessage(text='Perfect! What’s your shipping address again?', participant='assistant'), DialogueMessage(text='Absolutely, my address is 123 Main St.', participant='user'), DialogueMessage(text='Thank you! Your order has been successfully placed. Is there anything more I can assist you with?', participant='assistant'), DialogueMessage(text='No, I’m all set. Thank you!', participant='user'), DialogueMessage(text='Sure thing! Reach out whenever you need help. Enjoy your day!', participant='assistant')], id='', topic='', validate=True)]"
      ]
     },
     "execution_count": 7,
     "metadata": {},
     "output_type": "execute_result"
    }
   ],
   "source": [
    "result = augmenter.invoke(\n",
    "    dialogue=dialogue,\n",
    "    topic=example['topic'],\n",
    "    prompt=augmentation_prompt_3_vars\n",
    ")\n",
    "result"
   ]
  },
  {
   "cell_type": "code",
   "execution_count": 5,
   "id": "1d6711a4",
   "metadata": {},
   "outputs": [
    {
     "data": {
      "text/plain": [
       "'Preprocessing failed: no messages found in the dialogue'"
      ]
     },
     "execution_count": 5,
     "metadata": {},
     "output_type": "execute_result"
    }
   ],
   "source": [
    "result = augmenter.invoke(\n",
    "    dialogue=Dialogue(messages=[]),\n",
    "    topic=example['topic'],\n",
    "    prompt=augmentation_prompt_3_vars\n",
    ")\n",
    "result"
   ]
  },
  {
   "cell_type": "code",
   "execution_count": 6,
   "id": "a39b741c",
   "metadata": {},
   "outputs": [
    {
     "data": {
      "text/plain": [
       "'Preprocessing failed: prompt should be valid instruction for LLM'"
      ]
     },
     "execution_count": 6,
     "metadata": {},
     "output_type": "execute_result"
    }
   ],
   "source": [
    "result = augmenter.invoke(\n",
    "    dialogue=dialogue,\n",
    "    topic=example['topic'],\n",
    "    prompt=''\n",
    ")\n",
    "result"
   ]
  },
  {
   "cell_type": "markdown",
   "id": "e9240d64",
   "metadata": {},
   "source": [
    "## making test data"
   ]
  },
  {
   "cell_type": "code",
   "execution_count": 52,
   "id": "06ee9c29",
   "metadata": {},
   "outputs": [],
   "source": [
    "with open('../data/gen_dataset_augmented_0-402_nodes_edges_v5.json', \"r\") as fp:\n",
    "    data = json.load(fp)\n",
    "dia = data[0]['dialogues'][0]\n",
    "aug_result = data[0]['augmented_dialogues'][0]['messages']"
   ]
  },
  {
   "cell_type": "code",
   "execution_count": 53,
   "id": "15c52f72",
   "metadata": {},
   "outputs": [
    {
     "data": {
      "text/plain": [
       "3"
      ]
     },
     "execution_count": 53,
     "metadata": {},
     "output_type": "execute_result"
    }
   ],
   "source": [
    "with open('../data/gen_dataset_augmented_0-402_combined_v5.json', \"r\") as fp:\n",
    "    data2 = json.load(fp)\n",
    "augmented_dialogues = data2[0]['augmented_dialogues']\n",
    "topic = dia['id']\n",
    "new_aug_dias = []\n",
    "for aug_dia in augmented_dialogues:\n",
    "    if topic in aug_dia['id']:\n",
    "        new_aug_dias.append(aug_dia)\n",
    "len(new_aug_dias)"
   ]
  },
  {
   "cell_type": "code",
   "execution_count": 54,
   "id": "6e1f9ca8",
   "metadata": {},
   "outputs": [],
   "source": [
    "neg_aug_result = [{'participant': 'assistant',\n",
    "  'text': [1, 2, 3]},\n",
    " {'participant': 'user',\n",
    "  'text': ['I’d like to place an order.',\n",
    "   'I want to make an order.',\n",
    "   \"I'm looking to order something.\"]},\n",
    " {'participant': 'assistant',\n",
    "  'text': ['Awesome! Which product are you interested in?',\n",
    "   'Sounds good! What item do you want to order?',\n",
    "   'Great! What would you like to order?']},\n",
    " {'participant': 'user',\n",
    "  'text': ['I would like a t-shirt.',\n",
    "   \"I'm interested in a t-shirt.\",\n",
    "   'I want to get a t-shirt.']},\n",
    " {'participant': 'assistant',\n",
    "  'text': ['What size do you prefer?',\n",
    "   'Which size would you like?',\n",
    "   'Can you tell me your preferred size?']},\n",
    " {'participant': 'user',\n",
    "  'text': [\"I'd like a medium size, please.\",\n",
    "   'Medium would be great, thanks.',\n",
    "   'Please get me a medium.']},\n",
    " {'participant': 'assistant',\n",
    "  'text': ['Do you want that in red or blue?',\n",
    "   'Would you prefer it in red or blue?',\n",
    "   'Should I get that in red or blue for you?']},\n",
    " {'participant': 'user',\n",
    "  'text': ['I prefer red, please.',\n",
    "   'Red sounds good, thanks.',\n",
    "   \"I'll take it in red, please.\"]},\n",
    " {'participant': 'assistant',\n",
    "  'text': ['Great choice! Could you provide your shipping address?',\n",
    "   'Awesome! May I have your shipping address, please?',\n",
    "   'Perfect! What’s your shipping address?']},\n",
    " {'participant': 'user',\n",
    "  'text': ['Sure, it’s 123 Main Street.',\n",
    "   'Of course, my address is 123 Main St.',\n",
    "   'Alright, the address is 123 Main St.']},\n",
    " {'participant': 'assistant',\n",
    "  'text': ['Thanks! Your order has been successfully placed. Is there anything else you need?',\n",
    "   'Thank you! Your order is confirmed. Anything else I can assist you with?',\n",
    "   'Thanks! Your order is on its way. Need help with anything else?']},\n",
    " {'participant': 'user',\n",
    "  'text': ['Actually, I’d like to modify my order.',\n",
    "   'Can I change my order, please?',\n",
    "   'I was wondering if I could alter my order.']},\n",
    " {'participant': 'assistant',\n",
    "  'text': ['Absolutely! What changes would you like to make?',\n",
    "   'Of course! What would you like to change in your order?',\n",
    "   'Sure! What do you want to modify?']},\n",
    " {'participant': 'user',\n",
    "  'text': ['I want it in a large size now.',\n",
    "   'I’d prefer a large size instead.',\n",
    "   'Can I switch to a large size?']},\n",
    " {'participant': 'assistant',\n",
    "  'text': ['What size would you like?',\n",
    "   'Can you confirm the size you need?',\n",
    "   'What size are you looking for now?']},\n",
    " {'participant': 'user',\n",
    "  'text': ['Medium, please.',\n",
    "   'I still want a medium size.',\n",
    "   'Let’s stick with medium, please.']},\n",
    " {'participant': 'assistant',\n",
    "  'text': ['Would you like that in red or blue?',\n",
    "   'Should I put that in red or blue?',\n",
    "   'Do you want it in red or blue?']},\n",
    " {'participant': 'user',\n",
    "  'text': ['Red, please.', 'I’d like it in red.', 'Red works for me.']},\n",
    " {'participant': 'assistant',\n",
    "  'text': ['Great! Can I have your shipping address again?',\n",
    "   'Awesome! Could you provide your shipping address once more?',\n",
    "   'Perfect! What’s your shipping address again?']},\n",
    " {'participant': 'user',\n",
    "  'text': ['Sure, it’s 123 Main St.',\n",
    "   'Of course, it’s 123 Main Street.',\n",
    "   'Alright, my address is 123 Main St.']},\n",
    " {'participant': 'assistant',\n",
    "  'text': ['Thank you! Your order has been successfully placed. Is there anything else I can assist you with?',\n",
    "   'Thanks! Your order is confirmed. Is there anything else you need help with?',\n",
    "   'Thank you! Your order is on its way. Anything else I can do for you?']},\n",
    " {'participant': 'user',\n",
    "  'text': ['No, that’s everything. Thank you!',\n",
    "   'That’s all for now. Thanks!',\n",
    "   'Nope, that will be all. Thank you!']},\n",
    " {'participant': 'assistant',\n",
    "  'text': ['Okay, feel free to reach out anytime. Have a wonderful day!',\n",
    "   'Alright, don’t hesitate to contact me again. Have a great day!',\n",
    "   'Sure! Reach out whenever you need. Enjoy your day!']}]"
   ]
  },
  {
   "cell_type": "code",
   "execution_count": 55,
   "id": "aca59887",
   "metadata": {},
   "outputs": [],
   "source": [
    "neg_aug_dia =  {'id': 'Responding to DMs on Instagram/Facebook._1_0_2',\n",
    "  'messages': [{'participant': 'assistant',\n",
    "    'text': 'Hi! Is there something I can assist you with today?'},\n",
    "   {'participant': 'user', 'text': \"I'm looking to order something.\"},\n",
    "   {'participant': 'assistant',\n",
    "    'text': 'Great! What would you like to order?'},\n",
    "   {'participant': 'user', 'text': 'I want to get a t-shirt.'},\n",
    "   {'participant': 'assistant',\n",
    "    'text': 'Can you tell me your preferred size?'},\n",
    "   {'participant': 'user', 'text': 'Please get me a medium.'},\n",
    "   {'participant': 'assistant',\n",
    "    'text': 'Thanks! Your order is on its way. Need help with anything else?'},\n",
    "   {'participant': 'user',\n",
    "    'text': 'I was wondering if I could alter my order.'},\n",
    "   {'participant': 'assistant',\n",
    "    'text': 'Perfect! What’s your shipping address again?'},\n",
    "   {'participant': 'user', 'text': 'Alright, my address is 123 Main St.'},\n",
    "   {'participant': 'assistant',\n",
    "    'text': 'Thank you! Your order is on its way. Anything else I can do for you?'},\n",
    "   {'participant': 'user', 'text': 'Nope, that will be all. Thank you!'},\n",
    "   {'participant': 'assistant',\n",
    "    'text': 'Sure! Reach out whenever you need. Enjoy your day!'}]}"
   ]
  },
  {
   "cell_type": "code",
   "execution_count": 56,
   "id": "5b9cad02",
   "metadata": {},
   "outputs": [
    {
     "name": "stdout",
     "output_type": "stream",
     "text": [
      "True\n",
      "False\n"
     ]
    }
   ],
   "source": [
    "D1 = Dialogue(**dia)\n",
    "D2 = Dialogue(**neg_aug_dia)\n",
    "print(match_roles(D1, D2))\n",
    "print(is_correct_length(D1, D2))"
   ]
  },
  {
   "cell_type": "code",
   "execution_count": 59,
   "id": "356e7fb7",
   "metadata": {},
   "outputs": [],
   "source": [
    "test_data = []\n",
    "test_data.append({'dialogue' : dia})\n",
    "test_data.append({'positive_aug_result' : aug_result})\n",
    "test_data.append({'negative_aug_result' : neg_aug_result})\n",
    "test_data.append({'positive_aug_dialogues' : new_aug_dias})\n",
    "test_data.append({'negative_aug_dialogue' : neg_aug_dia})"
   ]
  },
  {
   "cell_type": "code",
   "execution_count": 60,
   "id": "ede33930",
   "metadata": {},
   "outputs": [],
   "source": [
    "with open(\"../data/test_augmentation_data.json\", \"w\", encoding=\"utf-8\") as f:\n",
    "    json.dump(test_data, f, indent=4)"
   ]
  },
  {
   "cell_type": "code",
   "execution_count": 63,
   "id": "2b8d816a",
   "metadata": {},
   "outputs": [],
   "source": [
    "assert 'Preprocessing failed: prompt' in 'Preprocessing failed: prompt should be a valid instruction for LLM'"
   ]
  }
 ],
 "metadata": {
  "kernelspec": {
   "display_name": "conda_env_py311",
   "language": "python",
   "name": "python3"
  },
  "language_info": {
   "codemirror_mode": {
    "name": "ipython",
    "version": 3
   },
   "file_extension": ".py",
   "mimetype": "text/x-python",
   "name": "python",
   "nbconvert_exporter": "python",
   "pygments_lexer": "ipython3",
   "version": "3.11.11"
  }
 },
 "nbformat": 4,
 "nbformat_minor": 5
}
