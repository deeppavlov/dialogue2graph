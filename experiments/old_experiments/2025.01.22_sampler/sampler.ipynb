{
 "cells": [
  {
   "cell_type": "code",
   "execution_count": 1,
   "metadata": {},
   "outputs": [],
   "source": [
    "import json"
   ]
  },
  {
   "cell_type": "code",
   "execution_count": 2,
   "metadata": {},
   "outputs": [],
   "source": [
    "%load_ext autoreload\n",
    "%autoreload 2"
   ]
  },
  {
   "cell_type": "code",
   "execution_count": null,
   "metadata": {},
   "outputs": [],
   "source": [
    "from chatsky_llm_autoconfig.metrics.automatic_metrics import all_utterances_present"
   ]
  },
  {
   "cell_type": "code",
   "execution_count": 5,
   "metadata": {},
   "outputs": [],
   "source": [
    "import pathlib"
   ]
  },
  {
   "cell_type": "code",
   "execution_count": 10,
   "metadata": {},
   "outputs": [],
   "source": [
    "from chatsky_llm_autoconfig.dialogue import Dialogue"
   ]
  },
  {
   "cell_type": "code",
   "execution_count": null,
   "metadata": {},
   "outputs": [],
   "source": [
    "with open('data/generated_24.json', encoding=\"utf-8\") as f:\n",
    "    data = json.load(f)"
   ]
  },
  {
   "cell_type": "code",
   "execution_count": 6,
   "metadata": {},
   "outputs": [],
   "source": [
    "with open('graphs_generated.json', encoding=\"utf-8\") as f:\n",
    "    data = json.load(f)"
   ]
  },
  {
   "cell_type": "code",
   "execution_count": 20,
   "metadata": {},
   "outputs": [],
   "source": [
    "with open('generated_2_plus.json', encoding=\"utf-8\") as f:\n",
    "    data = json.load(f)"
   ]
  },
  {
   "cell_type": "code",
   "execution_count": 39,
   "metadata": {},
   "outputs": [],
   "source": [
    "with open('data/generated_28.json', encoding=\"utf-8\") as f:\n",
    "    data = data+json.load(f)"
   ]
  },
  {
   "cell_type": "code",
   "execution_count": 40,
   "metadata": {},
   "outputs": [],
   "source": [
    "with open('data/generated_181.json', encoding=\"utf-8\") as f:\n",
    "    data = data+ json.load(f)"
   ]
  },
  {
   "cell_type": "code",
   "execution_count": 41,
   "metadata": {},
   "outputs": [],
   "source": [
    "with open('data/generated_90.json', encoding=\"utf-8\") as f:\n",
    "    data = data+ json.load(f)"
   ]
  },
  {
   "cell_type": "code",
   "execution_count": 7,
   "metadata": {},
   "outputs": [
    {
     "data": {
      "text/plain": [
       "1"
      ]
     },
     "execution_count": 7,
     "metadata": {},
     "output_type": "execute_result"
    }
   ],
   "source": [
    "len(data)"
   ]
  },
  {
   "cell_type": "code",
   "execution_count": null,
   "metadata": {},
   "outputs": [],
   "source": [
    "from chatsky_llm_autoconfig.algorithms.dialogue_generation import RecursiveDialogueSampler"
   ]
  },
  {
   "cell_type": "code",
   "execution_count": 4,
   "metadata": {},
   "outputs": [],
   "source": [
    "from chatsky_llm_autoconfig.graph import Graph"
   ]
  },
  {
   "cell_type": "code",
   "execution_count": 5,
   "metadata": {},
   "outputs": [],
   "source": [
    "dialogue_sampler = RecursiveDialogueSampler()"
   ]
  },
  {
   "cell_type": "code",
   "execution_count": 36,
   "metadata": {},
   "outputs": [],
   "source": [
    "topics = [\n",
    "\"Managing influencer partnership inquiries.\",\n",
    "\"Explaining NFT/digital asset policies.\",\n",
    "\"Assisting with chatbot limitations.\",\n",
    "\"Addressing fake social media accounts.\",\n",
    "\"Managing review responses on Google/Yelp.\",\n",
    "\"Updating on delayed resolutions.\",\n",
    "\"Thanking users for their patience.\",\n",
    "\"Apologizing for poor service.\",\n",
    "\"De-escalating an angry customer.\",\n",
    "\"Compensating for service failures (e.g., credits).\",\n",
    "\"Investigating unresolved past issues.\",\n",
    "\"Addressing rude staff complaints.\",\n",
    "\"Handling misinformation from other channels.\",\n",
    "\"Resolving contractual misunderstandings.\",\n",
    "\"Reporting fraudulent activity.\",\n",
    "\"Addressing privacy breach concerns.\",\n",
    "\"Offering goodwill gestures (e.g., freebies).\", \n",
    "\"Requesting a review/testimonial.\", \n",
    "\"Responding to negative feedback.\",\n",
    "\"Acting on feature requests.\",\n",
    "\"Explaining how feedback improves services.\",\n",
    "\"Incentivizing survey participation.\",\n",
    "\"Following up on unresolved complaints.\",\n",
    "\"Sharing customer success stories.\",\n",
    "\"Addressing fake/spam reviews.\",\n",
    "\"Announcing changes based on feedback.\",\n",
    "\"Encouraging social media engagement.\",\n",
    "\"Explaining GDPR/data deletion requests.\",\n",
    "\"Assisting with compliance documentation.\",\n",
    "\"Handling subpoenas/legal inquiries.\",\n",
    "\"Clarifying terms of service clauses.\",\n",
    "\"Reporting unethical behavior.\",\n",
    "\"Addressing accessibility accommodations.\",\n",
    "\"Explaining arbitration agreements.\",\n",
    "\"Updating users on policy changes.\",\n",
    "\"Resolving copyright/trademark disputes.\",\n",
    "\"Providing disaster recovery plans.\",\n",
    "\"Explaining flash sale terms.\",\n",
    "\"Assisting with abandoned cart recovery.\",\n",
    "\"Recommending products based on preferences.\",\n",
    "\"Fixing coupon code errors.\",\n",
    "\"Handling pre-order delays.\",\n",
    "\"Blocking a stolen card.\",\n",
    "\"Explaining overdraft fees.\",\n",
    "\"Reporting suspicious transactions.\",\n",
    "\"Assisting with loan applications.\",\n",
    "\"Guiding through investment platform tools.\",\n",
    "\"Booking telehealth appointments.\",\n",
    "\"Explaining insurance coverage.\",\n",
    "\"Resolving prescription delivery issues.\",\n",
    "\"Addressing billing code errors.\",\n",
    "\"Providing lab/test results securely.\",\n",
    "\"Modifying flight/hotel bookings.\",\n",
    "\"Explaining cancellation penalties.\",\n",
    "\"Assisting with visa/travel documentation.\",\n",
    "\"Addressing room preference mismatches.\",\n",
    "\"Resolving loyalty points discrepancies.\", \n",
    "\"Scheduling property viewings.\",\n",
    "\"Explaining mortgage pre-approval.\",\n",
    "\"Addressing maintenance requests.\",\n",
    "\"Clarifying lease agreement terms.\",\n",
    "\"Handling security deposit disputes.\",\n",
    "\"Enrolling in online courses.\",\n",
    "\"Extending course access deadlines.\",\n",
    "\"Resolving certification issuance delays.\",\n",
    "\"Explaining refund policies for dropped courses.\",\n",
    "\"Troubleshooting virtual classroom tools.\",\n",
    "\"Reporting poor network coverage.\", \n",
    "\"Upgrading data plans.\",\n",
    "\"Fixing billing for international roaming.\",\n",
    "\"Setting up parental controls.\",\n",
    "\"Resolving landline service outages.\",\n",
    "\"Migrating data to a new plan.\",\n",
    "\"Exporting reports/dashboards.\",\n",
    "\"Explaining uptime SLAs.\",\n",
    "\"Integrating third-party plugins.\",\n",
    "\"Scaling cloud storage capacity.\", \n",
    "\"Offering win-back discounts.\", \n",
    "\"Explaining referral program rewards.\",\n",
    "\"Customizing loyalty perks.\",\n",
    "\"Announcing exclusive member events.\",\n",
    "\"Addressing reasons for cancellation.\", \n",
    "\"Offering free consultations.\",\n",
    "\"Upselling premium features.\",\n",
    "\"Celebrating customer milestones.\",\n",
    "\"Providing early access to new features.\",\n",
    "\"Sending personalized thank-you notes.\",\n",
    "\"Reporting urgent technical outages.\",\n",
    "\"Assisting during natural disasters.\",\n",
    "\"Handling payment fraud alerts.\",\n",
    "\"Providing emergency contact details.\",\n",
    "\"Guiding through safety protocols.\"]"
   ]
  },
  {
   "cell_type": "code",
   "execution_count": 37,
   "metadata": {},
   "outputs": [
    {
     "data": {
      "text/plain": [
       "92"
      ]
     },
     "execution_count": 37,
     "metadata": {},
     "output_type": "execute_result"
    }
   ],
   "source": [
    "len(topics)"
   ]
  },
  {
   "cell_type": "code",
   "execution_count": 43,
   "metadata": {},
   "outputs": [],
   "source": [
    "more_topics = []\n",
    "for t in topics:\n",
    "    if t not in [d['topic'] for d in data]:\n",
    "        more_topics.append(t)"
   ]
  },
  {
   "cell_type": "code",
   "execution_count": 44,
   "metadata": {},
   "outputs": [
    {
     "data": {
      "text/plain": [
       "92"
      ]
     },
     "execution_count": 44,
     "metadata": {},
     "output_type": "execute_result"
    }
   ],
   "source": [
    "len(more_topics)"
   ]
  },
  {
   "cell_type": "code",
   "execution_count": 45,
   "metadata": {},
   "outputs": [],
   "source": [
    "more_topics = [{\"topic\": t} for t in more_topics]"
   ]
  },
  {
   "cell_type": "code",
   "execution_count": 46,
   "metadata": {},
   "outputs": [
    {
     "data": {
      "text/plain": [
       "[{'topic': 'Managing influencer partnership inquiries.'},\n",
       " {'topic': 'Explaining NFT/digital asset policies.'},\n",
       " {'topic': 'Assisting with chatbot limitations.'},\n",
       " {'topic': 'Addressing fake social media accounts.'},\n",
       " {'topic': 'Managing review responses on Google/Yelp.'},\n",
       " {'topic': 'Updating on delayed resolutions.'},\n",
       " {'topic': 'Thanking users for their patience.'},\n",
       " {'topic': 'Apologizing for poor service.'},\n",
       " {'topic': 'De-escalating an angry customer.'},\n",
       " {'topic': 'Compensating for service failures (e.g., credits).'},\n",
       " {'topic': 'Investigating unresolved past issues.'},\n",
       " {'topic': 'Addressing rude staff complaints.'},\n",
       " {'topic': 'Handling misinformation from other channels.'},\n",
       " {'topic': 'Resolving contractual misunderstandings.'},\n",
       " {'topic': 'Reporting fraudulent activity.'},\n",
       " {'topic': 'Addressing privacy breach concerns.'},\n",
       " {'topic': 'Offering goodwill gestures (e.g., freebies).'},\n",
       " {'topic': 'Requesting a review/testimonial.'},\n",
       " {'topic': 'Responding to negative feedback.'},\n",
       " {'topic': 'Acting on feature requests.'},\n",
       " {'topic': 'Explaining how feedback improves services.'},\n",
       " {'topic': 'Incentivizing survey participation.'},\n",
       " {'topic': 'Following up on unresolved complaints.'},\n",
       " {'topic': 'Sharing customer success stories.'},\n",
       " {'topic': 'Addressing fake/spam reviews.'},\n",
       " {'topic': 'Announcing changes based on feedback.'},\n",
       " {'topic': 'Encouraging social media engagement.'},\n",
       " {'topic': 'Explaining GDPR/data deletion requests.'},\n",
       " {'topic': 'Assisting with compliance documentation.'},\n",
       " {'topic': 'Handling subpoenas/legal inquiries.'},\n",
       " {'topic': 'Clarifying terms of service clauses.'},\n",
       " {'topic': 'Reporting unethical behavior.'},\n",
       " {'topic': 'Addressing accessibility accommodations.'},\n",
       " {'topic': 'Explaining arbitration agreements.'},\n",
       " {'topic': 'Updating users on policy changes.'},\n",
       " {'topic': 'Resolving copyright/trademark disputes.'},\n",
       " {'topic': 'Providing disaster recovery plans.'},\n",
       " {'topic': 'Explaining flash sale terms.'},\n",
       " {'topic': 'Assisting with abandoned cart recovery.'},\n",
       " {'topic': 'Recommending products based on preferences.'},\n",
       " {'topic': 'Fixing coupon code errors.'},\n",
       " {'topic': 'Handling pre-order delays.'},\n",
       " {'topic': 'Blocking a stolen card.'},\n",
       " {'topic': 'Explaining overdraft fees.'},\n",
       " {'topic': 'Reporting suspicious transactions.'},\n",
       " {'topic': 'Assisting with loan applications.'},\n",
       " {'topic': 'Guiding through investment platform tools.'},\n",
       " {'topic': 'Booking telehealth appointments.'},\n",
       " {'topic': 'Explaining insurance coverage.'},\n",
       " {'topic': 'Resolving prescription delivery issues.'},\n",
       " {'topic': 'Addressing billing code errors.'},\n",
       " {'topic': 'Providing lab/test results securely.'},\n",
       " {'topic': 'Modifying flight/hotel bookings.'},\n",
       " {'topic': 'Explaining cancellation penalties.'},\n",
       " {'topic': 'Assisting with visa/travel documentation.'},\n",
       " {'topic': 'Addressing room preference mismatches.'},\n",
       " {'topic': 'Resolving loyalty points discrepancies.'},\n",
       " {'topic': 'Scheduling property viewings.'},\n",
       " {'topic': 'Explaining mortgage pre-approval.'},\n",
       " {'topic': 'Addressing maintenance requests.'},\n",
       " {'topic': 'Clarifying lease agreement terms.'},\n",
       " {'topic': 'Handling security deposit disputes.'},\n",
       " {'topic': 'Enrolling in online courses.'},\n",
       " {'topic': 'Extending course access deadlines.'},\n",
       " {'topic': 'Resolving certification issuance delays.'},\n",
       " {'topic': 'Explaining refund policies for dropped courses.'},\n",
       " {'topic': 'Troubleshooting virtual classroom tools.'},\n",
       " {'topic': 'Reporting poor network coverage.'},\n",
       " {'topic': 'Upgrading data plans.'},\n",
       " {'topic': 'Fixing billing for international roaming.'},\n",
       " {'topic': 'Setting up parental controls.'},\n",
       " {'topic': 'Resolving landline service outages.'},\n",
       " {'topic': 'Migrating data to a new plan.'},\n",
       " {'topic': 'Exporting reports/dashboards.'},\n",
       " {'topic': 'Explaining uptime SLAs.'},\n",
       " {'topic': 'Integrating third-party plugins.'},\n",
       " {'topic': 'Scaling cloud storage capacity.'},\n",
       " {'topic': 'Offering win-back discounts.'},\n",
       " {'topic': 'Explaining referral program rewards.'},\n",
       " {'topic': 'Customizing loyalty perks.'},\n",
       " {'topic': 'Announcing exclusive member events.'},\n",
       " {'topic': 'Addressing reasons for cancellation.'},\n",
       " {'topic': 'Offering free consultations.'},\n",
       " {'topic': 'Upselling premium features.'},\n",
       " {'topic': 'Celebrating customer milestones.'},\n",
       " {'topic': 'Providing early access to new features.'},\n",
       " {'topic': 'Sending personalized thank-you notes.'},\n",
       " {'topic': 'Reporting urgent technical outages.'},\n",
       " {'topic': 'Assisting during natural disasters.'},\n",
       " {'topic': 'Handling payment fraud alerts.'},\n",
       " {'topic': 'Providing emergency contact details.'},\n",
       " {'topic': 'Guiding through safety protocols.'}]"
      ]
     },
     "execution_count": 46,
     "metadata": {},
     "output_type": "execute_result"
    }
   ],
   "source": [
    "more_topics"
   ]
  },
  {
   "cell_type": "code",
   "execution_count": 47,
   "metadata": {},
   "outputs": [],
   "source": [
    "save_json(data=more_topics, filename='more_topics_2.json')"
   ]
  },
  {
   "cell_type": "code",
   "execution_count": null,
   "metadata": {},
   "outputs": [],
   "source": [
    "data"
   ]
  },
  {
   "cell_type": "code",
   "execution_count": null,
   "metadata": {},
   "outputs": [],
   "source": [
    "graph = data[0]['graph']\n",
    "graph"
   ]
  },
  {
   "cell_type": "code",
   "execution_count": null,
   "metadata": {},
   "outputs": [],
   "source": [
    "graph = [d['graph'] for d in data if d['topic']==\"Reminding about renewal deadlines.Sending service expiration alerts.\"][0]\n",
    "graph"
   ]
  },
  {
   "cell_type": "code",
   "execution_count": 37,
   "metadata": {},
   "outputs": [
    {
     "name": "stdout",
     "output_type": "stream",
     "text": [
      "FOUND:  [{'source': 8, 'target': 6, 'utterances': ['I changed my mind again.']}, {'source': 8, 'target': 6, 'utterances': ['I changed my mind again.']}]\n"
     ]
    }
   ],
   "source": [
    "graph = Graph(graph).remove_duplicated_edges()"
   ]
  },
  {
   "cell_type": "code",
   "execution_count": null,
   "metadata": {},
   "outputs": [],
   "source": [
    "graph.graph_dict"
   ]
  },
  {
   "cell_type": "code",
   "execution_count": 15,
   "metadata": {},
   "outputs": [
    {
     "data": {
      "text/plain": [
       "True"
      ]
     },
     "execution_count": 15,
     "metadata": {},
     "output_type": "execute_result"
    }
   ],
   "source": [
    "edges_match_nodes(graph)"
   ]
  },
  {
   "cell_type": "code",
   "execution_count": 18,
   "metadata": {},
   "outputs": [],
   "source": [
    "graph = data[1]['graph']"
   ]
  },
  {
   "cell_type": "code",
   "execution_count": null,
   "metadata": {},
   "outputs": [],
   "source": [
    "graph"
   ]
  },
  {
   "cell_type": "code",
   "execution_count": 6,
   "metadata": {},
   "outputs": [],
   "source": [
    "graph = {'edges': [{'source': 1, 'target': 2, 'utterances': ['Yeah, I need help booking a trip.', \"Hey! I'm planning a trip and need to book everything.\"]}, {'source': 2, 'target': 3, 'utterances': ['I’m going to New York next month.', 'I want to fly to Paris in two weeks.']}, {'source': 3, 'target': 4, 'utterances': [\"I'd prefer a direct flight.\", 'Cheapest flight works for me.']}, {'source': 4, 'target': 5, 'utterances': ['Yes, I’ll need a car.', 'Nope, I won’t need a rental car.']}, {'source': 5, 'target': 6, 'utterances': ['I’d like a 4-star hotel near the city center.', 'A budget hotel works for me.']}, {'source': 6, 'target': 7, 'utterances': ['Yes! Can you suggest some must-see places?', 'No, I don’t need any attraction recommendations.']}, {'source': 7, 'target': 8, 'utterances': ['Yes, confirm everything!', 'Yes, go ahead and book it all.']}, {'source': 7, 'target': 9, 'utterances': ['Wait! I need to change my flight.', 'I’d like to pick a different hotel.']}, {'source': 7, 'target': 10, 'utterances': ['Actually, I want to cancel everything.', 'Can you cancel my bookings?']}, {'source': 8, 'target': 11, 'utterances': ['Thanks! That’s all I needed.', 'Great, thanks for your help!']}, {'source': 9, 'target': 3, 'utterances': ['I need a different flight option.', 'I want a non-stop flight instead.']}, {'source': 9, 'target': 5, 'utterances': ['I want a different hotel.', 'Let’s change the hotel to a luxury one.']}, {'source': 9, 'target': 4, 'utterances': ['Actually, I do need a rental car.', 'Want to add a car rental.']}, {'source': 10, 'target': 11, 'utterances': ['Thanks! That’s all I needed.', 'Thanks for your help. Goodbye.']}], 'nodes': [{'id': 1, 'label': 'start', 'is_start': True, 'utterances': ['Hey there! Planning a trip? How can I help?', \"Hi! Need help booking your trip? Tell me what you're looking for.\"]}, {'id': 2, 'label': 'ask_destination_dates', 'is_start': False, 'utterances': ['Great! Where are you headed and when do you want to travel?', \"Awesome! What's your destination and travel dates?\"]}, {'id': 3, 'label': 'ask_flight_preferences', 'is_start': False, 'utterances': ['Got it! Do you have any preferences for flights? Like direct or budget?', 'Okay! Would you like a non-stop flight or the cheapest option available?']}, {'id': 4, 'label': 'ask_car_rental', 'is_start': False, 'utterances': ['Do you need a car rental at your destination?', 'Would you like to rent a car as well?']}, {'id': 5, 'label': 'ask_hotel_preferences', 'is_start': False, 'utterances': ['Alright! Any preferences for hotels? Budget, luxury, or something in between?', 'Okay! Do you have a preferred hotel type or location in mind?']}, {'id': 6, 'label': 'ask_attractions', 'is_start': False, 'utterances': ['Would you like recommendations for attractions in your destination?', \"Want me to suggest some interesting places to visit while you're there?\"]}, {'id': 7, 'label': 'confirm_all_bookings', 'is_start': False, 'utterances': [\"Alright! We're booking your flights, hotel, and car rental. Ready to confirm?\", 'Got it! Would you like me to finalize these bookings for you now?']}, {'id': 8, 'label': 'provide_booking_details', 'is_start': False, 'utterances': [\"You're all set! Your flight, hotel, and rental car are booked. Details were sent to your email.\", 'Everything is confirmed! You should have received an email with all the booking details.']}, {'id': 9, 'label': 'modify_choice', 'is_start': False, 'utterances': ['No problem! What would you like to change?', 'Sure! What would you like to modify in your bookings?']}, {'id': 10, 'label': 'cancel_booking', 'is_start': False, 'utterances': [\"Okay, I've canceled your bookings. Let me know if you need anything else!\", 'Bookings canceled! Let me know if I can help with something else.']}, {'id': 11, 'label': 'closing', 'is_start': False, 'utterances': [\"You're good to go! Have a fantastic trip!\", 'Thanks for booking with me! Safe travels!', 'Have a great trip! Let me know if you need anything else.']}]}"
   ]
  },
  {
   "cell_type": "code",
   "execution_count": null,
   "metadata": {},
   "outputs": [],
   "source": [
    "graph"
   ]
  },
  {
   "cell_type": "code",
   "execution_count": 7,
   "metadata": {},
   "outputs": [],
   "source": [
    "gr = Graph(graph)"
   ]
  },
  {
   "cell_type": "code",
   "execution_count": 8,
   "metadata": {},
   "outputs": [
    {
     "data": {
      "text/plain": [
       "True"
      ]
     },
     "execution_count": 8,
     "metadata": {},
     "output_type": "execute_result"
    }
   ],
   "source": [
    "gr.edges_match_nodes()"
   ]
  },
  {
   "cell_type": "code",
   "execution_count": null,
   "metadata": {},
   "outputs": [],
   "source": [
    "samples = dialogue_sampler.invoke(Graph(graph), 15)"
   ]
  },
  {
   "cell_type": "code",
   "execution_count": null,
   "metadata": {},
   "outputs": [],
   "source": [
    "gr1 = gr.remove_duplicated_nodes()\n",
    "gr1.graph_dict"
   ]
  },
  {
   "cell_type": "code",
   "execution_count": null,
   "metadata": {},
   "outputs": [],
   "source": [
    "samples = dialogue_sampler.invoke(Graph(gr1.graph_dict), 10)"
   ]
  },
  {
   "cell_type": "code",
   "execution_count": null,
   "metadata": {},
   "outputs": [],
   "source": [
    "graph = {'edges': [{'source': 1, 'target': 2, 'utterances': ['Yeah, I need help booking a trip.']}, {'source': 2, 'target': 3, 'utterances': ['I want to fly to Paris in two weeks.']}, {'source': 3, 'target': 4, 'utterances': ['Cheapest flight works for me.']}, {'source': 4, 'target': 5, 'utterances': ['Yes, I’ll need a car.', 'Nope, I won’t need a rental car.']}, {'source': 5, 'target': 6, 'utterances': ['I’d like a 4-star hotel near the city center.', 'A budget hotel works for me.']}, {'source': 6, 'target': 7, 'utterances': ['Yes! Can you suggest some must-see places?', 'No, I don’t need any attraction recommendations.']}, {'source': 7, 'target': 8, 'utterances': ['Yes, confirm everything!', 'Yes, go ahead and book it all.']}, {'source': 7, 'target': 9, 'utterances': ['Wait! I need to change my flight.', 'I’d like to pick a different hotel.']}, {'source': 7, 'target': 10, 'utterances': ['Actually, I want to cancel everything.', 'Can you cancel my bookings?']}, {'source': 8, 'target': 11, 'utterances': ['Thanks! That’s all I needed.', 'Great, thanks for your help!']}, {'source': 9, 'target': 3, 'utterances': ['I need a different flight option.', 'I want a non-stop flight instead.']}, {'source': 9, 'target': 5, 'utterances': ['I want a different hotel.', 'Let’s change the hotel to a luxury one.']}, {'source': 9, 'target': 4, 'utterances': ['Actually, I do need a rental car.', 'Want to add a car rental.']}, {'source': 10, 'target': 11, 'utterances': ['Thanks! That’s all I needed.', 'Thanks for your help. Goodbye.']}], 'nodes': [{'id': 1, 'label': 'start', 'is_start': True, 'utterances': ['Hey there! Planning a trip? How can I help?', \"Hi! Need help booking your trip? Tell me what you're looking for.\"]}, {'id': 2, 'label': 'ask_destination_dates', 'is_start': False, 'utterances': ['Great! Where are you headed and when do you want to travel?', \"Awesome! What's your destination and travel dates?\"]}, {'id': 3, 'label': 'ask_flight_preferences', 'is_start': False, 'utterances': ['Got it! Do you have any preferences for flights? Like direct or budget?', 'Okay! Would you like a non-stop flight or the cheapest option available?']}, {'id': 4, 'label': 'ask_car_rental', 'is_start': False, 'utterances': ['Do you need a car rental at your destination?', 'Would you like to rent a car as well?']}, {'id': 5, 'label': 'ask_hotel_preferences', 'is_start': False, 'utterances': ['Alright! Any preferences for hotels? Budget, luxury, or something in between?', 'Okay! Do you have a preferred hotel type or location in mind?']}, {'id': 6, 'label': 'ask_attractions', 'is_start': False, 'utterances': ['Would you like recommendations for attractions in your destination?', \"Want me to suggest some interesting places to visit while you're there?\"]}, {'id': 7, 'label': 'confirm_all_bookings', 'is_start': False, 'utterances': [\"Alright! We're booking your flights, hotel, and car rental. Ready to confirm?\", 'Got it! Would you like me to finalize these bookings for you now?']}, {'id': 8, 'label': 'provide_booking_details', 'is_start': False, 'utterances': [\"You're all set! Your flight, hotel, and rental car are booked. Details were sent to your email.\", 'Everything is confirmed! You should have received an email with all the booking details.']}, {'id': 9, 'label': 'modify_choice', 'is_start': False, 'utterances': ['No problem! What would you like to change?', 'Sure! What would you like to modify in your bookings?']}, {'id': 10, 'label': 'cancel_booking', 'is_start': False, 'utterances': [\"Okay, I've canceled your bookings. Let me know if you need anything else!\", 'Bookings canceled! Let me know if I can help with something else.']}, {'id': 11, 'label': 'closing', 'is_start': False, 'utterances': [\"You're good to go! Have a fantastic trip!\", 'Thanks for booking with me! Safe travels!', 'Have a great trip! Let me know if you need anything else.']}]}"
   ]
  },
  {
   "cell_type": "code",
   "execution_count": 21,
   "metadata": {},
   "outputs": [
    {
     "data": {
      "text/plain": [
       "[]"
      ]
     },
     "execution_count": 21,
     "metadata": {},
     "output_type": "execute_result"
    }
   ],
   "source": [
    "samples"
   ]
  },
  {
   "cell_type": "code",
   "execution_count": null,
   "metadata": {},
   "outputs": [],
   "source": [
    "samples"
   ]
  },
  {
   "cell_type": "code",
   "execution_count": 8,
   "metadata": {},
   "outputs": [
    {
     "data": {
      "text/plain": [
       "90"
      ]
     },
     "execution_count": 8,
     "metadata": {},
     "output_type": "execute_result"
    }
   ],
   "source": [
    "len(data)"
   ]
  },
  {
   "cell_type": "code",
   "execution_count": 22,
   "metadata": {},
   "outputs": [],
   "source": [
    "new_data = []\n",
    "i = 0\n",
    "for d in data:\n",
    "    d['graph'] = remove_duplicated_edges(d['graph'])\n",
    "    new_data.append(d)"
   ]
  },
  {
   "cell_type": "code",
   "execution_count": 43,
   "metadata": {},
   "outputs": [
    {
     "data": {
      "text/plain": [
       "28"
      ]
     },
     "execution_count": 43,
     "metadata": {},
     "output_type": "execute_result"
    }
   ],
   "source": [
    "len(data)"
   ]
  },
  {
   "cell_type": "code",
   "execution_count": null,
   "metadata": {},
   "outputs": [],
   "source": [
    "new_data = []\n",
    "i = 0\n",
    "for d in data:\n",
    "    graph = Graph(d['graph'])\n",
    "    if graph.edges_match_nodes():\n",
    "        graph = graph.remove_duplicated_nodes()\n",
    "        if graph is not None:\n",
    "            # print(\"SAMP...: \", d['topic'])\n",
    "            res = dialogue_sampler.invoke(graph, 5)\n",
    "            if res:\n",
    "                d['dialogues'] = [d.model_dump() for d in res]\n",
    "                d['graph'] = graph.graph_dict\n",
    "                new_data.append(d)\n",
    "                # print(\"ADDED: \", d['topic'])\n",
    "            else:\n",
    "                i += 1\n",
    "                print(\"NOT: \", d['topic'])\n",
    "        else:\n",
    "            i += 1\n",
    "            print(\"None\")\n",
    "    else:\n",
    "            i += 1\n",
    "            print(\"MM: \", d['topic'])"
   ]
  },
  {
   "cell_type": "code",
   "execution_count": 45,
   "metadata": {},
   "outputs": [
    {
     "data": {
      "text/plain": [
       "28"
      ]
     },
     "execution_count": 45,
     "metadata": {},
     "output_type": "execute_result"
    }
   ],
   "source": [
    "len(new_data)"
   ]
  },
  {
   "cell_type": "code",
   "execution_count": 47,
   "metadata": {},
   "outputs": [],
   "source": [
    "save_json(data=new_data, filename='data/generated_28.json')"
   ]
  },
  {
   "cell_type": "code",
   "execution_count": null,
   "metadata": {},
   "outputs": [],
   "source": [
    "def dialogues2list(dialogues: list[dict]):\n",
    "    \"\"\" Helper pre-pocessing list of dialogues for grouping.\n",
    "    Returns:\n",
    "    nodes - list of assistant utterances\n",
    "    nexts - list of following user's utterances\n",
    "    starts - list of starting utterances\n",
    "    neigbhours - dictionary of adjacent assistants utterances\n",
    "    last_user - sign of that dialogue finishes with user's utterance\n",
    "    \"\"\"\n",
    "    \n",
    "    nodes = []\n",
    "    nexts = []\n",
    "    starts = []\n",
    "    neighbours = {}\n",
    "    last_user = False\n",
    "    for d in dialogues:\n",
    "        start = 1\n",
    "        texts = d['messages']\n",
    "        for idx,t in enumerate(texts):\n",
    "            cur = t['text']\n",
    "            next = ''\n",
    "            if t['participant'] == 'assistant':\n",
    "                neigh_nodes = []\n",
    "                if idx > 1:\n",
    "                    neigh_nodes.append(texts[idx-2]['text'])\n",
    "                if idx < len(texts) - 2:\n",
    "                    neigh_nodes.append(texts[idx+2]['text'])\n",
    "                if cur in neighbours:\n",
    "                    neighbours[cur] = neighbours[cur].union(set(neigh_nodes))\n",
    "                else:\n",
    "                    neighbours[cur] = set(neigh_nodes)\n",
    "                if idx < len(texts)-1:\n",
    "                    next = texts[idx+1]['text']\n",
    "                if cur in nodes:\n",
    "                    if next and next not in nexts[nodes.index(cur)]:\n",
    "                        nexts[nodes.index(cur)].append(next)\n",
    "                else:\n",
    "                    nexts.append([next])\n",
    "                    nodes.append(t['text'])\n",
    "                    if start:\n",
    "                        starts.append(t['text'])\n",
    "                        start = 0\n",
    "        if t['participant'] == 'user':\n",
    "            last_user = True\n",
    "    return nexts, nodes, starts, neighbours, last_user\n"
   ]
  },
  {
   "cell_type": "code",
   "execution_count": null,
   "metadata": {},
   "outputs": [],
   "source": [
    "dialogues2list"
   ]
  },
  {
   "cell_type": "code",
   "execution_count": 11,
   "metadata": {},
   "outputs": [
    {
     "data": {
      "text/plain": [
       "'Complaining about hidden fees'"
      ]
     },
     "execution_count": 11,
     "metadata": {},
     "output_type": "execute_result"
    }
   ],
   "source": [
    "data[idx]['topic']"
   ]
  },
  {
   "cell_type": "code",
   "execution_count": 9,
   "metadata": {},
   "outputs": [
    {
     "name": "stdout",
     "output_type": "stream",
     "text": [
      "Fixing a corrupted file download\n",
      "Resolving a mismatched product size complaint\n",
      "Finding last-minute hotel deals\n",
      "Reporting a broken next button on a form\n",
      "Sharing suggestions for product improvements\n",
      "Requesting a medical bill payment extension\n",
      "Reporting an incorrect product dimension listing\n",
      "Fixing a malfunctioning checkout cart\n",
      "Not all utterances present\n",
      "Recovering access to a locked trading platform\n",
      "Troubleshooting a failed digital certificate renewal\n",
      "Blocking unauthorized devices from an account\n",
      "Not all utterances present\n",
      "Enabling ad-blocking features on a browser\n",
      "Troubleshooting a failed account verification\n",
      "Requesting a partial refund for poor service\n",
      "Complaining about hidden fees\n"
     ]
    },
    {
     "ename": "KeyboardInterrupt",
     "evalue": "",
     "output_type": "error",
     "traceback": [
      "\u001b[0;31m---------------------------------------------------------------------------\u001b[0m",
      "\u001b[0;31mKeyboardInterrupt\u001b[0m                         Traceback (most recent call last)",
      "Cell \u001b[0;32mIn[9], line 4\u001b[0m\n\u001b[1;32m      2\u001b[0m graph \u001b[38;5;241m=\u001b[39m Graph(d[\u001b[38;5;124m'\u001b[39m\u001b[38;5;124mgraph\u001b[39m\u001b[38;5;124m'\u001b[39m])\n\u001b[1;32m      3\u001b[0m \u001b[38;5;28mprint\u001b[39m(d[\u001b[38;5;124m'\u001b[39m\u001b[38;5;124mtopic\u001b[39m\u001b[38;5;124m'\u001b[39m])\n\u001b[0;32m----> 4\u001b[0m res \u001b[38;5;241m=\u001b[39m \u001b[43mdialogue_sampler\u001b[49m\u001b[38;5;241;43m.\u001b[39;49m\u001b[43minvoke\u001b[49m\u001b[43m(\u001b[49m\u001b[43mgraph\u001b[49m\u001b[43m,\u001b[49m\u001b[43m \u001b[49m\u001b[38;5;241;43m30\u001b[39;49m\u001b[43m)\u001b[49m\n\u001b[1;32m      5\u001b[0m data[idx][\u001b[38;5;124m'\u001b[39m\u001b[38;5;124mdialogues\u001b[39m\u001b[38;5;124m'\u001b[39m] \u001b[38;5;241m=\u001b[39m [d\u001b[38;5;241m.\u001b[39mmodel_dump() \u001b[38;5;28;01mfor\u001b[39;00m d \u001b[38;5;129;01min\u001b[39;00m res]\n",
      "File \u001b[0;32m/data/home/peshkichev/projects/chatsky-llm-autoconfig/dev_packages/chatsky_llm_autoconfig/chatsky_llm_autoconfig/algorithms/dialogue_generation.py:241\u001b[0m, in \u001b[0;36mRecursiveDialogueSampler.invoke\u001b[0;34m(self, graph, upper_limit)\u001b[0m\n\u001b[1;32m    239\u001b[0m     \u001b[38;5;66;03m# print(\"ENDDS: \", finishes)\u001b[39;00m\n\u001b[1;32m    240\u001b[0m \u001b[38;5;28;01mwhile\u001b[39;00m repeats \u001b[38;5;241m<\u001b[39m\u001b[38;5;241m=\u001b[39m upper_limit:\n\u001b[0;32m--> 241\u001b[0m     dialogues \u001b[38;5;241m=\u001b[39m \u001b[43mget_dialogues\u001b[49m\u001b[43m(\u001b[49m\u001b[43mgraph\u001b[49m\u001b[43m,\u001b[49m\u001b[43mrepeats\u001b[49m\u001b[43m,\u001b[49m\u001b[43mfinishes\u001b[49m\u001b[43m)\u001b[49m\n\u001b[1;32m    242\u001b[0m     \u001b[38;5;28;01mif\u001b[39;00m all_utterances_present(graph, dialogues) \u001b[38;5;241m==\u001b[39m \u001b[38;5;28;01mTrue\u001b[39;00m:\n\u001b[1;32m    243\u001b[0m         \u001b[38;5;66;03m# print(f\"{repeats} repeats works!\")\u001b[39;00m\n\u001b[1;32m    244\u001b[0m         \u001b[38;5;28;01mbreak\u001b[39;00m\n",
      "File \u001b[0;32m/data/home/peshkichev/projects/chatsky-llm-autoconfig/dev_packages/chatsky_llm_autoconfig/chatsky_llm_autoconfig/algorithms/dialogue_generation.py:93\u001b[0m, in \u001b[0;36mget_dialogues\u001b[0;34m(graph, repeats, ends)\u001b[0m\n\u001b[1;32m     87\u001b[0m \u001b[38;5;66;03m# cycles = list(nx.simple_cycles(graph.graph))\u001b[39;00m\n\u001b[1;32m     88\u001b[0m \u001b[38;5;66;03m# cycles = [x for xs in cycles for x in xs]\u001b[39;00m\n\u001b[1;32m     89\u001b[0m \u001b[38;5;66;03m# if all([f not in cycles for f in finishes]):\u001b[39;00m\n\u001b[1;32m     90\u001b[0m \u001b[38;5;66;03m#     finishes += ends\u001b[39;00m\n\u001b[1;32m     91\u001b[0m \u001b[38;5;66;03m# print(\"ENDS: \", ends)\u001b[39;00m\n\u001b[1;32m     92\u001b[0m node_paths \u001b[38;5;241m=\u001b[39m [f \u001b[38;5;28;01mfor\u001b[39;00m f \u001b[38;5;129;01min\u001b[39;00m final \u001b[38;5;28;01mif\u001b[39;00m f[\u001b[38;5;241m-\u001b[39m\u001b[38;5;241m1\u001b[39m] \u001b[38;5;129;01min\u001b[39;00m ends]\n\u001b[0;32m---> 93\u001b[0m node_paths \u001b[38;5;241m=\u001b[39m \u001b[43mremove_duplicates\u001b[49m\u001b[43m(\u001b[49m\u001b[43mnode_paths\u001b[49m\u001b[43m)\u001b[49m\n\u001b[1;32m     94\u001b[0m full_paths \u001b[38;5;241m=\u001b[39m []\n\u001b[1;32m     95\u001b[0m \u001b[38;5;28;01mfor\u001b[39;00m p \u001b[38;5;129;01min\u001b[39;00m node_paths:\n",
      "File \u001b[0;32m/data/home/peshkichev/projects/chatsky-llm-autoconfig/dev_packages/chatsky_llm_autoconfig/chatsky_llm_autoconfig/algorithms/dialogue_generation.py:51\u001b[0m, in \u001b[0;36mremove_duplicates\u001b[0;34m(dialogues)\u001b[0m\n\u001b[1;32m     49\u001b[0m idx \u001b[38;5;241m=\u001b[39m \u001b[38;5;241m0\u001b[39m\n\u001b[1;32m     50\u001b[0m \u001b[38;5;28;01mfor\u001b[39;00m dialogue \u001b[38;5;129;01min\u001b[39;00m dialogues:\n\u001b[0;32m---> 51\u001b[0m     \u001b[38;5;28;01mif\u001b[39;00m \u001b[43medges_in\u001b[49m\u001b[43m(\u001b[49m\u001b[43mdialogue\u001b[49m\u001b[43m,\u001b[49m\u001b[43m \u001b[49m\u001b[43mds_copy\u001b[49m\u001b[43m[\u001b[49m\u001b[43m:\u001b[49m\u001b[43midx\u001b[49m\u001b[43m]\u001b[49m\u001b[38;5;241;43m+\u001b[39;49m\u001b[43mds_copy\u001b[49m\u001b[43m[\u001b[49m\u001b[43midx\u001b[49m\u001b[38;5;241;43m+\u001b[39;49m\u001b[38;5;241;43m1\u001b[39;49m\u001b[43m:\u001b[49m\u001b[43m]\u001b[49m\u001b[43m)\u001b[49m:\n\u001b[1;32m     52\u001b[0m         ds_copy \u001b[38;5;241m=\u001b[39m ds_copy[:idx]\u001b[38;5;241m+\u001b[39mds_copy[idx\u001b[38;5;241m+\u001b[39m\u001b[38;5;241m1\u001b[39m:]\n\u001b[1;32m     53\u001b[0m     \u001b[38;5;28;01melse\u001b[39;00m:\n",
      "File \u001b[0;32m/data/home/peshkichev/projects/chatsky-llm-autoconfig/dev_packages/chatsky_llm_autoconfig/chatsky_llm_autoconfig/algorithms/dialogue_generation.py:45\u001b[0m, in \u001b[0;36medges_in\u001b[0;34m(dialogue, dialogues)\u001b[0m\n\u001b[1;32m     44\u001b[0m \u001b[38;5;28;01mdef\u001b[39;00m\u001b[38;5;250m \u001b[39m\u001b[38;5;21medges_in\u001b[39m(dialogue: \u001b[38;5;28mlist\u001b[39m[\u001b[38;5;28mint\u001b[39m], dialogues: \u001b[38;5;28mlist\u001b[39m[\u001b[38;5;28mlist\u001b[39m[\u001b[38;5;28mint\u001b[39m]]) \u001b[38;5;241m-\u001b[39m\u001b[38;5;241m>\u001b[39m \u001b[38;5;28mbool\u001b[39m:\n\u001b[0;32m---> 45\u001b[0m     \u001b[38;5;28;01mreturn\u001b[39;00m get_edges([dialogue])\u001b[38;5;241m.\u001b[39missubset(\u001b[43mget_edges\u001b[49m\u001b[43m(\u001b[49m\u001b[43mdialogues\u001b[49m\u001b[43m)\u001b[49m)\n",
      "File \u001b[0;32m/data/home/peshkichev/projects/chatsky-llm-autoconfig/dev_packages/chatsky_llm_autoconfig/chatsky_llm_autoconfig/algorithms/dialogue_generation.py:41\u001b[0m, in \u001b[0;36mget_edges\u001b[0;34m(dialogues)\u001b[0m\n\u001b[1;32m     39\u001b[0m \u001b[38;5;28;01mfor\u001b[39;00m dialogue \u001b[38;5;129;01min\u001b[39;00m dialogues:\n\u001b[1;32m     40\u001b[0m     \u001b[38;5;28;01mfor\u001b[39;00m idx,n \u001b[38;5;129;01min\u001b[39;00m \u001b[38;5;28menumerate\u001b[39m(dialogue[:\u001b[38;5;241m-\u001b[39m\u001b[38;5;241m1\u001b[39m]):\n\u001b[0;32m---> 41\u001b[0m         pairs\u001b[38;5;241m.\u001b[39mappend((n,dialogue[idx\u001b[38;5;241m+\u001b[39m\u001b[38;5;241m1\u001b[39m]))\n\u001b[1;32m     42\u001b[0m \u001b[38;5;28;01mreturn\u001b[39;00m \u001b[38;5;28mset\u001b[39m(pairs)\n",
      "\u001b[0;31mKeyboardInterrupt\u001b[0m: "
     ]
    }
   ],
   "source": [
    "for idx,d in enumerate(data):\n",
    "    graph = Graph(d['graph'])\n",
    "    print(d['topic'])\n",
    "    res = dialogue_sampler.invoke(graph, 30)\n",
    "    data[idx]['dialogues'] = [d.model_dump() for d in res]\n",
    "    "
   ]
  },
  {
   "cell_type": "code",
   "execution_count": null,
   "metadata": {},
   "outputs": [],
   "source": [
    "dialogue_sampler.invoke(graph, 15)"
   ]
  },
  {
   "cell_type": "code",
   "execution_count": 17,
   "metadata": {},
   "outputs": [],
   "source": [
    "def dialogue_edges(seq: list[list[dict]]) -> set[tuple[str]]:\n",
    "    res = []\n",
    "    for dialogue in seq:\n",
    "         assist_texts = [d['text'] for d in dialogue if d['participant']=='assistant']\n",
    "         res.extend([(a1,a2) for a1,a2 in zip(assist_texts[:-1],assist_texts[1:])])\n",
    "    return set(res)"
   ]
  },
  {
   "cell_type": "code",
   "execution_count": 18,
   "metadata": {},
   "outputs": [],
   "source": [
    "def graph_edges(graph: dict):\n",
    "    edges = graph['edges']\n",
    "    nodes = graph['nodes']\n",
    "    res = []\n",
    "    for n in nodes:\n",
    "        for e in [e for e in edges if e['source'] == n['id']]:\n",
    "            for utt1 in n['itterances']:\n",
    "                for utt2 in [n for n in nodes if n['id']==e['target']][0]['utterances']:\n",
    "                    res.append((utt1,utt2))\n",
    "    return set(res)\n"
   ]
  },
  {
   "cell_type": "code",
   "execution_count": 18,
   "metadata": {},
   "outputs": [],
   "source": [
    "def all_utterances_present(graph, dialogues: list[list[dict]]) -> bool:\n",
    "    \"\"\"\n",
    "    Check if all graph elements (nodes and edges) appear in at least one dialogue.\n",
    "\n",
    "    Args:\n",
    "        G: BaseGraph object containing the dialogue graph\n",
    "        dialogues: List of Dialogue objects to check against\n",
    "\n",
    "    Returns:\n",
    "        bool: True if all graph elements are present in at least one dialogue\n",
    "    \"\"\"\n",
    "    # Get all unique utterances from nodes and edges in the graph\n",
    "    graph_utterances = set()\n",
    "\n",
    "    # Add node utterances\n",
    "    for node_data in graph['nodes']:\n",
    "        graph_utterances.update(node_data[\"utterances\"])\n",
    "\n",
    "    # Add edge utterances\n",
    "    for edge_data in graph['edges']:\n",
    "        if isinstance(edge_data[\"utterances\"], list):\n",
    "            graph_utterances.update(edge_data[\"utterances\"])\n",
    "        else:\n",
    "            graph_utterances.add(edge_data[\"utterances\"])\n",
    "\n",
    "    # Collect all utterances from dialogues\n",
    "    dialogue_utterances = set()\n",
    "    for dialogue in dialogues:\n",
    "        dialogue_utterances.update(utt['text'] for utt in dialogue['messages'])\n",
    "\n",
    "    # Check if all graph utterances are present in dialogues\n",
    "    if graph_utterances.issubset(dialogue_utterances) and dialogue_edges(dialogues) == graph_edges(graph):\n",
    "        return True\n",
    "    else:\n",
    "        # return False\n",
    "        return graph_utterances.difference(dialogue_utterances)\n"
   ]
  },
  {
   "cell_type": "code",
   "execution_count": 22,
   "metadata": {},
   "outputs": [
    {
     "name": "stdout",
     "output_type": "stream",
     "text": [
      "Finding last-minute hotel deals\n",
      "Reporting a broken next button on a form\n",
      "Fixing a malfunctioning checkout cart\n",
      "Recovering access to a locked trading platform\n",
      "Blocking unauthorized devices from an account\n",
      "Requesting a partial refund for poor service\n",
      "Complaining about hidden fees\n",
      "Resolving a conflicting appointment booking\n",
      "Troubleshooting a failed biometric login\n",
      "Reporting an incorrect product expiration date\n",
      "Reporting a typo in a billing statement\n",
      "Fixing currency conversion discrepancies\n",
      "Reporting rude or unprofessional staff\n",
      "Requesting a refund for a defective product\n",
      "Requesting an extension on a project deadline\n",
      "Leaving a review for a recent purchase\n",
      "Requesting a personalized product recommendation\n",
      "Reporting a missing instruction manual\n",
      "Enabling cross-platform synchronization for apps\n",
      "Setting up recurring payments for utilities\n",
      "Redeeming loyalty points for discounts\n",
      "Reporting an unauthorized subscription renewal\n",
      "Recovering a hacked or compromised account\n",
      "Tracking a refund status after return\n",
      "Understanding blackout dates for travel rewards\n",
      "Fixing a delayed email notification issue\n",
      "Reporting a broken image link in an email\n",
      "Checking ETA for service restoration\n",
      "Reporting phishing emails or scams\n",
      "Resolving an overcharge on a utility bill\n",
      "Enabling auto-save features for documents\n",
      "Troubleshooting a failed software activation key\n",
      "Deleting an old or unused account\n",
      "Requesting a pet-friendly Airbnb\n",
      "Unlinking a payment method from autopay\n",
      "Enabling multi-user profiles on a streaming service\n",
      "Recovering access to a locked cryptocurrency exchange\n",
      "Enabling dark web monitoring for stolen data\n",
      "Canceling a hotel reservation due to illness\n",
      "Troubleshooting a failed digital gift card redemption\n",
      "Arranging a product demonstration\n",
      "Recovering deleted forum posts\n",
      "Setting up biometric login (fingerprint/face ID)\n",
      "Enrolling in a corporate rewards program\n",
      "Applying a military/veteran discount\n",
      "Configuring email on a new smartphone\n",
      "Disabling location tracking for apps\n",
      "Recovering archived project files\n",
      "Rescheduling a flight due to a medical emergency\n",
      "Requesting a prorated refund for early cancellation\n",
      "Requesting a military service discount\n",
      "Explaining a no refunds policy exception\n",
      "Reporting a broken live chat feature\n",
      "Switching between personal and business accounts\n",
      "Resolving a misapplied coupon code\n",
      "Canceling a subscription due to user interface changes\n",
      "Reporting an incorrect product expiration date\n",
      "Resolving a mismatched product scent complaint\n",
      "Canceling a service due to a lack of features\n",
      "Reporting a broken unsubscribe link\n",
      "Troubleshooting a failed digital gift card redemption\n",
      "Requesting a refund for a misleading service description\n",
      "Recovering deleted forum posts\n",
      "Resolving a duplicate ticket booking error\n",
      "Reporting an incorrect product care instruction\n",
      "Requesting a refund for a service outage\n",
      "Reporting a broken order tracking page\n",
      "Resolving a mismatched product flavor complaint\n",
      "Reporting a broken download button\n",
      "Requesting a refund for a service overlap\n",
      "Recovering deleted social media posts\n",
      "Canceling a service due to privacy concerns\n",
      "Syncing a fitness tracker with a mobile app\n",
      "Confirming COVID-19 testing requirements for travel\n",
      "Fixing a malfunctioning digital wallet\n",
      "Requesting a group discount for event tickets\n",
      "Requesting a refund for an overbooked appointment\n",
      "Resolving a mistaken identity in account merging\n",
      "Resolving a mismatched product scent complaint\n",
      "Requesting bulk pricing for business orders\n",
      "Returning a customized or engraved item\n",
      "Reporting an incorrect product material description\n",
      "Requesting a payment plan for large bills\n",
      "Requesting a bulk deletion of old emails\n",
      "Adding special requests to a hotel booking (e.g., vegan meals)\n"
     ]
    }
   ],
   "source": [
    "new_data = []\n",
    "for d in data:\n",
    "    if all_utterances_present(d['graph'],d['dialogues']) != True:\n",
    "        print(d['topic'])\n",
    "    else:\n",
    "        new_data.append(d)"
   ]
  },
  {
   "cell_type": "code",
   "execution_count": 23,
   "metadata": {},
   "outputs": [
    {
     "data": {
      "text/plain": [
       "111"
      ]
     },
     "execution_count": 23,
     "metadata": {},
     "output_type": "execute_result"
    }
   ],
   "source": [
    "len(new_data)"
   ]
  },
  {
   "cell_type": "code",
   "execution_count": 7,
   "metadata": {},
   "outputs": [],
   "source": [
    "gr = [d for d in data if d['topic']==\"Resolving a mistaken identity in account merging\"][0]"
   ]
  },
  {
   "cell_type": "code",
   "execution_count": 19,
   "metadata": {},
   "outputs": [
    {
     "data": {
      "text/plain": [
       "{'Actually, I would like to review the details first.',\n",
       " \"Sure, let's go over the account details again.\",\n",
       " 'Would you like to review the account details before we proceed?',\n",
       " 'Yes, proceed with separating the accounts.'}"
      ]
     },
     "execution_count": 19,
     "metadata": {},
     "output_type": "execute_result"
    }
   ],
   "source": [
    "all_utterances_present(gr['graph'],gr['dialogues'])"
   ]
  },
  {
   "cell_type": "code",
   "execution_count": null,
   "metadata": {},
   "outputs": [],
   "source": [
    "gr['dialogues']"
   ]
  },
  {
   "cell_type": "code",
   "execution_count": 6,
   "metadata": {},
   "outputs": [
    {
     "data": {
      "text/plain": [
       "209"
      ]
     },
     "execution_count": 6,
     "metadata": {},
     "output_type": "execute_result"
    }
   ],
   "source": [
    "len(data)"
   ]
  },
  {
   "cell_type": "code",
   "execution_count": 11,
   "metadata": {},
   "outputs": [],
   "source": [
    "def edges_match_nodes(graph: dict) -> bool:\n",
    "\n",
    "    node_ids = set([n['id'] for n in graph['nodes']])\n",
    "    edge_ids = set([e['target'] for e in graph['edges']]+[e['source'] for e in graph['edges']])\n",
    "    return node_ids == edge_ids"
   ]
  },
  {
   "cell_type": "code",
   "execution_count": 14,
   "metadata": {},
   "outputs": [
    {
     "name": "stdout",
     "output_type": "stream",
     "text": [
      "Diagnosing slow device performance\n",
      "Resolving a duplicate event registration\n",
      "Reporting an incorrect product rating/review\n",
      "Troubleshooting a failed digital signature\n",
      "Booking a non-stop flight for accessibility needs\n",
      "Resolving expired card errors during checkout\n",
      "Clarifying return windows (e.g., 30 days)\n",
      "Requesting a product customization option\n",
      "Resolving expired card errors during checkout\n",
      "Resolving a delayed account deactivation request\n",
      "Canceling a service due to a competitor's offer\n",
      "Recovering lost data from a corrupted drive\n",
      "Resolving a mismatched product description complaint\n"
     ]
    }
   ],
   "source": [
    "new_data = []\n",
    "i = 0\n",
    "for d in data:\n",
    "    if not edges_match_nodes(d['graph']):\n",
    "        i+=1\n",
    "        print(d['topic'])\n",
    "    else:\n",
    "        new_data.append(d)"
   ]
  },
  {
   "cell_type": "markdown",
   "metadata": {},
   "source": [
    "Of course, you can change the date range. What new date range would you like to set? тема Requesting a bulk deletion of old emails пропало предложение"
   ]
  },
  {
   "cell_type": "markdown",
   "metadata": {},
   "source": [
    "Resolving a mistaken identity in account merging нет прложениея из 7 вершины"
   ]
  },
  {
   "cell_type": "markdown",
   "metadata": {},
   "source": [
    "лишний старт в resolving payment gateway"
   ]
  },
  {
   "cell_type": "markdown",
   "metadata": {},
   "source": [
    "\"I've enabled battery optimization for the selected apps. Do you need help with anything else?\"\n",
    "\"I've enabled battery optimization for all background apps. Do you need help with anything else?\"\n",
    "как разделить: по all"
   ]
  },
  {
   "cell_type": "markdown",
   "metadata": {},
   "source": [
    "запретить y_n mix rephrasing"
   ]
  },
  {
   "cell_type": "code",
   "execution_count": 15,
   "metadata": {},
   "outputs": [
    {
     "data": {
      "text/plain": [
       "196"
      ]
     },
     "execution_count": 15,
     "metadata": {},
     "output_type": "execute_result"
    }
   ],
   "source": [
    "len(new_data)"
   ]
  },
  {
   "cell_type": "code",
   "execution_count": 31,
   "metadata": {},
   "outputs": [],
   "source": [
    "def save_json(data: dict, filename: str) -> None:\n",
    "    with open(filename, \"w\", encoding=\"utf-8\") as file:\n",
    "        json.dump(data, file, indent=4, ensure_ascii=False)"
   ]
  },
  {
   "cell_type": "code",
   "execution_count": 14,
   "metadata": {},
   "outputs": [],
   "source": [
    "save_json(data=new_data, filename='generated_plus.json')"
   ]
  },
  {
   "cell_type": "code",
   "execution_count": 13,
   "metadata": {},
   "outputs": [
    {
     "data": {
      "text/plain": [
       "13"
      ]
     },
     "execution_count": 13,
     "metadata": {},
     "output_type": "execute_result"
    }
   ],
   "source": [
    "i"
   ]
  },
  {
   "cell_type": "code",
   "execution_count": null,
   "metadata": {},
   "outputs": [],
   "source": [
    "data =[]\n",
    "for n in pathlib.Path(\"gen\").iterdir():\n",
    "    with open(n, encoding=\"utf-8\") as f:\n",
    "        print(n)\n",
    "        data.extend(json.load(f))\n"
   ]
  },
  {
   "cell_type": "code",
   "execution_count": 6,
   "metadata": {},
   "outputs": [
    {
     "data": {
      "text/plain": [
       "209"
      ]
     },
     "execution_count": 6,
     "metadata": {},
     "output_type": "execute_result"
    }
   ],
   "source": [
    "len(data)"
   ]
  },
  {
   "cell_type": "code",
   "execution_count": null,
   "metadata": {},
   "outputs": [],
   "source": [
    "from chatsky_llm_autoconfig.utils import save_json"
   ]
  },
  {
   "cell_type": "code",
   "execution_count": 7,
   "metadata": {},
   "outputs": [],
   "source": [
    "save_json(data=data, filename='generated.json')"
   ]
  },
  {
   "cell_type": "code",
   "execution_count": 12,
   "metadata": {},
   "outputs": [],
   "source": [
    "save_json(data=[d['topic'] for d in data], filename='topics.json')"
   ]
  },
  {
   "cell_type": "code",
   "execution_count": null,
   "metadata": {},
   "outputs": [],
   "source": [
    "with open('ready_graphs.json', encoding=\"utf-8\") as f:\n",
    "    data = json.load(f)"
   ]
  },
  {
   "cell_type": "code",
   "execution_count": 1,
   "metadata": {},
   "outputs": [],
   "source": [
    "from chatsky_llm_autoconfig.graph import Graph"
   ]
  },
  {
   "cell_type": "code",
   "execution_count": null,
   "metadata": {},
   "outputs": [],
   "source": [
    "Graph()"
   ]
  },
  {
   "cell_type": "code",
   "execution_count": 7,
   "metadata": {},
   "outputs": [],
   "source": [
    "from dialogue_sampler import get_full_dialogues"
   ]
  },
  {
   "cell_type": "code",
   "execution_count": null,
   "metadata": {},
   "outputs": [],
   "source": [
    "data[0]['graph']"
   ]
  },
  {
   "cell_type": "code",
   "execution_count": null,
   "metadata": {},
   "outputs": [],
   "source": [
    "dialogues = get_full_dialogues(Graph(data[0]['graph']),5)\n",
    "len(dialogues)"
   ]
  },
  {
   "cell_type": "code",
   "execution_count": null,
   "metadata": {},
   "outputs": [],
   "source": [
    "dialogues = get_full_dialogues(Graph(data[1]['graph']),5)\n",
    "len(dialogues)"
   ]
  },
  {
   "cell_type": "code",
   "execution_count": null,
   "metadata": {},
   "outputs": [],
   "source": [
    "dialogues = get_full_dialogues(Graph(data[2]['graph']),5)\n",
    "len(dialogues)"
   ]
  },
  {
   "cell_type": "code",
   "execution_count": null,
   "metadata": {},
   "outputs": [],
   "source": [
    "dialogues = get_full_dialogues(Graph(data[3]['graph']),5)\n",
    "len(dialogues)"
   ]
  },
  {
   "cell_type": "code",
   "execution_count": null,
   "metadata": {},
   "outputs": [],
   "source": [
    "dialogues = get_full_dialogues(Graph(data[4]['graph']),5)\n",
    "len(dialogues)"
   ]
  },
  {
   "cell_type": "code",
   "execution_count": 12,
   "metadata": {},
   "outputs": [],
   "source": [
    "with open('complex_graphs.json', encoding=\"utf-8\") as f:\n",
    "    data = json.load(f)"
   ]
  },
  {
   "cell_type": "code",
   "execution_count": null,
   "metadata": {},
   "outputs": [],
   "source": [
    "dialogues = get_full_dialogues(Graph(data[0]['graph']),5)\n",
    "len(dialogues)"
   ]
  },
  {
   "cell_type": "code",
   "execution_count": null,
   "metadata": {},
   "outputs": [],
   "source": [
    "dialogues = get_full_dialogues(Graph(data[1]['graph']),5)\n",
    "len(dialogues)"
   ]
  },
  {
   "cell_type": "code",
   "execution_count": null,
   "metadata": {},
   "outputs": [],
   "source": [
    "dialogues = get_full_dialogues(Graph(data[2]['graph']),5)\n",
    "len(dialogues)"
   ]
  },
  {
   "cell_type": "code",
   "execution_count": null,
   "metadata": {},
   "outputs": [],
   "source": [
    "dialogues = get_full_dialogues(Graph(data[3]['graph']),5)\n",
    "len(dialogues)"
   ]
  },
  {
   "cell_type": "code",
   "execution_count": null,
   "metadata": {},
   "outputs": [],
   "source": [
    "dialogues = get_full_dialogues(Graph(data[4]['graph']),5)\n",
    "len(dialogues)"
   ]
  },
  {
   "cell_type": "code",
   "execution_count": 18,
   "metadata": {},
   "outputs": [],
   "source": [
    "with open('dialogue_dataset_10_topics_3_dialogue.json', encoding=\"utf-8\") as f:\n",
    "    data = json.load(f)"
   ]
  },
  {
   "cell_type": "code",
   "execution_count": 13,
   "metadata": {},
   "outputs": [
    {
     "data": {
      "text/plain": [
       "10"
      ]
     },
     "execution_count": 13,
     "metadata": {},
     "output_type": "execute_result"
    }
   ],
   "source": [
    "len(data)"
   ]
  },
  {
   "cell_type": "code",
   "execution_count": null,
   "metadata": {},
   "outputs": [],
   "source": [
    "dialogues = get_full_dialogues(Graph(data[0]['graph']),5)\n",
    "len(dialogues)"
   ]
  },
  {
   "cell_type": "code",
   "execution_count": null,
   "metadata": {},
   "outputs": [],
   "source": [
    "dialogues = get_full_dialogues(Graph(data[1]['graph']),6)\n",
    "len(dialogues)"
   ]
  },
  {
   "cell_type": "code",
   "execution_count": null,
   "metadata": {},
   "outputs": [],
   "source": [
    "dialogues = get_full_dialogues(Graph(data[2]['graph']),6)\n",
    "len(dialogues)"
   ]
  },
  {
   "cell_type": "code",
   "execution_count": null,
   "metadata": {},
   "outputs": [],
   "source": [
    "dialogues = get_full_dialogues(Graph(data[3]['graph']),6)\n",
    "len(dialogues)"
   ]
  },
  {
   "cell_type": "code",
   "execution_count": null,
   "metadata": {},
   "outputs": [],
   "source": [
    "dialogues = get_full_dialogues(Graph(data[4]['graph']),6)\n",
    "len(dialogues)"
   ]
  },
  {
   "cell_type": "code",
   "execution_count": null,
   "metadata": {},
   "outputs": [],
   "source": [
    "dialogues = get_full_dialogues(Graph(data[5]['graph']),6)\n",
    "len(dialogues)"
   ]
  },
  {
   "cell_type": "code",
   "execution_count": null,
   "metadata": {},
   "outputs": [],
   "source": [
    "dialogues = get_full_dialogues(Graph(data[6]['graph']),6)\n",
    "len(dialogues)"
   ]
  },
  {
   "cell_type": "code",
   "execution_count": null,
   "metadata": {},
   "outputs": [],
   "source": [
    "dialogues = get_full_dialogues(Graph(data[7]['graph']),6)\n",
    "len(dialogues)"
   ]
  },
  {
   "cell_type": "code",
   "execution_count": null,
   "metadata": {},
   "outputs": [],
   "source": [
    "dialogues = get_full_dialogues(Graph(data[8]['graph']),6)\n",
    "len(dialogues)"
   ]
  },
  {
   "cell_type": "code",
   "execution_count": null,
   "metadata": {},
   "outputs": [],
   "source": [
    "dialogues = get_full_dialogues(Graph(data[9]['graph']),6)\n",
    "len(dialogues)"
   ]
  },
  {
   "cell_type": "code",
   "execution_count": null,
   "metadata": {},
   "outputs": [],
   "source": [
    "from datasets import load_dataset\n",
    "\n",
    "dataset = load_dataset('sergioburdisso/dialog2flow-dataset', 'MulDoGO', trust_remote_code=True)\n",
    "\n",
    "print(dataset)\n"
   ]
  },
  {
   "cell_type": "code",
   "execution_count": null,
   "metadata": {},
   "outputs": [],
   "source": [
    "from datasets import load_dataset"
   ]
  },
  {
   "cell_type": "code",
   "execution_count": null,
   "metadata": {},
   "outputs": [],
   "source": [
    "dataset = load_dataset('Salesforce/dialogstudio', 'MULTIWOZ2_2', trust_remote_code=True)"
   ]
  },
  {
   "cell_type": "code",
   "execution_count": 5,
   "metadata": {},
   "outputs": [],
   "source": [
    "dataset.save_to_disk('MULTIWOZ2_2')"
   ]
  },
  {
   "cell_type": "code",
   "execution_count": null,
   "metadata": {},
   "outputs": [],
   "source": [
    "dataset['test'][1]"
   ]
  }
 ],
 "metadata": {
  "kernelspec": {
   "display_name": "py11",
   "language": "python",
   "name": "python3"
  },
  "language_info": {
   "codemirror_mode": {
    "name": "ipython",
    "version": 3
   },
   "file_extension": ".py",
   "mimetype": "text/x-python",
   "name": "python",
   "nbconvert_exporter": "python",
   "pygments_lexer": "ipython3",
   "version": "3.11.11"
  }
 },
 "nbformat": 4,
 "nbformat_minor": 2
}
