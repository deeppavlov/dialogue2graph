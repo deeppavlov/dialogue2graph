{
 "cells": [
  {
   "cell_type": "code",
   "execution_count": 1,
   "metadata": {},
   "outputs": [],
   "source": [
    "import warnings\n",
    "\n",
    "warnings.filterwarnings('ignore')"
   ]
  },
  {
   "cell_type": "code",
   "execution_count": 2,
   "metadata": {},
   "outputs": [
    {
     "name": "stderr",
     "output_type": "stream",
     "text": [
      "2025-04-07 13:19:57,305 - datasets - INFO - PyTorch version 2.6.0+cu118 available.\n"
     ]
    }
   ],
   "source": [
    "from dialogue2graph.pipelines.model_storage import ModelStorage\n",
    "from dialogue2graph.metrics.validators import START_TURNS, END_TURNS\n",
    "\n",
    "from langchain.evaluation import load_evaluator"
   ]
  },
  {
   "cell_type": "code",
   "execution_count": 3,
   "metadata": {},
   "outputs": [
    {
     "name": "stderr",
     "output_type": "stream",
     "text": [
      "2025-04-07 13:19:57,806 - sentence_transformers.SentenceTransformer - INFO - Load pretrained SentenceTransformer: BAAI/bge-m3\n",
      "2025-04-07 13:20:05,142 - dialogue2graph.pipelines.model_storage - INFO - Added emb model 'my_emb' to storage\n",
      "2025-04-07 13:20:05,759 - dialogue2graph.pipelines.model_storage - INFO - Added llm model 'my_llm' to storage\n"
     ]
    }
   ],
   "source": [
    "ms = ModelStorage()\n",
    "ms.add(\n",
    "    \"my_emb\",\n",
    "    config={\n",
    "        \"model_name\": 'BAAI/bge-m3',\n",
    "        \"device\": 'cuda'\n",
    "    },\n",
    "    model_type=\"emb\",\n",
    ")\n",
    "ms.add(\n",
    "    \"my_llm\",\n",
    "    config={\n",
    "        \"name\": \"gpt-4o-mini\"\n",
    "    },\n",
    "    model_type=\"llm\"\n",
    ")"
   ]
  },
  {
   "cell_type": "code",
   "execution_count": 4,
   "metadata": {},
   "outputs": [],
   "source": [
    "from datasets import load_dataset\n",
    "\n",
    "dataset = load_dataset(\"DeepPavlov/d2g_generated\", token=True)"
   ]
  },
  {
   "cell_type": "markdown",
   "metadata": {},
   "source": [
    "## Measure pairwise distance between chosen start turns and dialog turns"
   ]
  },
  {
   "cell_type": "code",
   "execution_count": 5,
   "metadata": {},
   "outputs": [],
   "source": [
    "from tqdm import tqdm"
   ]
  },
  {
   "cell_type": "code",
   "execution_count": 6,
   "metadata": {},
   "outputs": [],
   "source": [
    "embedder_model = ms.storage['my_emb'].model\n",
    "EVAL = load_evaluator(\"pairwise_embedding_distance\", embeddings=embedder_model)\n",
    "\n",
    "def get_distance(messages, start_turn):\n",
    "    for i, message in enumerate(messages):\n",
    "        if message['participant'] == 'assistant':\n",
    "            score = EVAL.evaluate_string_pairs(prediction=start_turn, prediction_b=message['text'])['score']\n",
    "            if i == 0:\n",
    "                yield {\"start_distance\": score}\n",
    "            else:\n",
    "                yield {\"non-start_distance\": score}"
   ]
  },
  {
   "cell_type": "code",
   "execution_count": 7,
   "metadata": {},
   "outputs": [],
   "source": [
    "start_distance_storage = {turn: {\"start_distance\": [], \"non-start_distance\": []} for turn in START_TURNS}"
   ]
  },
  {
   "cell_type": "code",
   "execution_count": 8,
   "metadata": {},
   "outputs": [
    {
     "name": "stderr",
     "output_type": "stream",
     "text": [
      "100%|██████████| 100/100 [39:40<00:00, 23.81s/it]\n"
     ]
    }
   ],
   "source": [
    "for graph in tqdm(list(dataset['train'])[:100]):\n",
    "    for dialog in graph['dialogues'][:5]:\n",
    "        for turn in START_TURNS:\n",
    "            for d in get_distance(dialog['messages'], turn):\n",
    "                if d.get(\"start_distance\"):\n",
    "                    start_distance_storage[turn]['start_distance'].append(d['start_distance'])\n",
    "                elif d.get(\"non-start_distance\"):\n",
    "                    start_distance_storage[turn]['non-start_distance'].append(d['non-start_distance'])"
   ]
  },
  {
   "cell_type": "code",
   "execution_count": 9,
   "metadata": {},
   "outputs": [],
   "source": [
    "import pandas as pd\n",
    "import numpy as np"
   ]
  },
  {
   "cell_type": "code",
   "execution_count": 10,
   "metadata": {},
   "outputs": [],
   "source": [
    "data = []\n",
    "for d in start_distance_storage.values():\n",
    "    mean_sd = np.array(d['start_distance']).mean()\n",
    "    mean_non_sd = np.array(d['non-start_distance']).mean()\n",
    "    data.append((mean_sd, mean_non_sd))\n",
    "df = pd.DataFrame(data=data, columns=['start_distance', 'non-start_distance'], index=START_TURNS)"
   ]
  },
  {
   "cell_type": "code",
   "execution_count": 11,
   "metadata": {},
   "outputs": [
    {
     "data": {
      "text/html": [
       "<div>\n",
       "<style scoped>\n",
       "    .dataframe tbody tr th:only-of-type {\n",
       "        vertical-align: middle;\n",
       "    }\n",
       "\n",
       "    .dataframe tbody tr th {\n",
       "        vertical-align: top;\n",
       "    }\n",
       "\n",
       "    .dataframe thead th {\n",
       "        text-align: right;\n",
       "    }\n",
       "</style>\n",
       "<table border=\"1\" class=\"dataframe\">\n",
       "  <thead>\n",
       "    <tr style=\"text-align: right;\">\n",
       "      <th></th>\n",
       "      <th>start_distance</th>\n",
       "      <th>non-start_distance</th>\n",
       "    </tr>\n",
       "  </thead>\n",
       "  <tbody>\n",
       "    <tr>\n",
       "      <th>count</th>\n",
       "      <td>16.000000</td>\n",
       "      <td>16.000000</td>\n",
       "    </tr>\n",
       "    <tr>\n",
       "      <th>mean</th>\n",
       "      <td>0.260126</td>\n",
       "      <td>0.435214</td>\n",
       "    </tr>\n",
       "    <tr>\n",
       "      <th>std</th>\n",
       "      <td>0.052633</td>\n",
       "      <td>0.011161</td>\n",
       "    </tr>\n",
       "    <tr>\n",
       "      <th>min</th>\n",
       "      <td>0.184069</td>\n",
       "      <td>0.415298</td>\n",
       "    </tr>\n",
       "    <tr>\n",
       "      <th>25%</th>\n",
       "      <td>0.204727</td>\n",
       "      <td>0.426467</td>\n",
       "    </tr>\n",
       "    <tr>\n",
       "      <th>50%</th>\n",
       "      <td>0.268403</td>\n",
       "      <td>0.435617</td>\n",
       "    </tr>\n",
       "    <tr>\n",
       "      <th>75%</th>\n",
       "      <td>0.304425</td>\n",
       "      <td>0.443379</td>\n",
       "    </tr>\n",
       "    <tr>\n",
       "      <th>max</th>\n",
       "      <td>0.333301</td>\n",
       "      <td>0.453565</td>\n",
       "    </tr>\n",
       "  </tbody>\n",
       "</table>\n",
       "</div>"
      ],
      "text/plain": [
       "       start_distance  non-start_distance\n",
       "count       16.000000           16.000000\n",
       "mean         0.260126            0.435214\n",
       "std          0.052633            0.011161\n",
       "min          0.184069            0.415298\n",
       "25%          0.204727            0.426467\n",
       "50%          0.268403            0.435617\n",
       "75%          0.304425            0.443379\n",
       "max          0.333301            0.453565"
      ]
     },
     "execution_count": 11,
     "metadata": {},
     "output_type": "execute_result"
    }
   ],
   "source": [
    "df.describe()"
   ]
  },
  {
   "cell_type": "markdown",
   "metadata": {},
   "source": [
    "## Measure pairwise distance between chosen end turns and dialog turns"
   ]
  },
  {
   "cell_type": "code",
   "execution_count": 15,
   "metadata": {},
   "outputs": [],
   "source": [
    "end_distance_storage = {turn: {\"end_distance\": [], \"non-end_distance\": []} for turn in END_TURNS}"
   ]
  },
  {
   "cell_type": "code",
   "execution_count": 18,
   "metadata": {},
   "outputs": [],
   "source": [
    "embedder_model = ms.storage['my_emb'].model\n",
    "EVAL = load_evaluator(\"pairwise_embedding_distance\", embeddings=embedder_model)\n",
    "\n",
    "def get_distance_end(messages, end_turn):\n",
    "    last_turn_idx = len(messages) - 1\n",
    "    for i, message in enumerate(messages):\n",
    "        if message['participant'] == 'assistant':\n",
    "            score = EVAL.evaluate_string_pairs(prediction=end_turn, prediction_b=message['text'])['score']\n",
    "            if i == last_turn_idx:\n",
    "                yield {\"end_distance\": score}\n",
    "            else:\n",
    "                yield {\"non-end_distance\": score}"
   ]
  },
  {
   "cell_type": "code",
   "execution_count": 19,
   "metadata": {},
   "outputs": [
    {
     "name": "stderr",
     "output_type": "stream",
     "text": [
      "100%|██████████| 100/100 [13:35<00:00,  8.15s/it]\n"
     ]
    }
   ],
   "source": [
    "for graph in tqdm(list(dataset['train'])[:100]):\n",
    "    for dialog in graph['dialogues'][:4]:\n",
    "        for turn in END_TURNS:\n",
    "            for d in get_distance_end(dialog['messages'], turn):\n",
    "                if d.get(\"end_distance\"):\n",
    "                    end_distance_storage[turn]['end_distance'].append(d['end_distance'])\n",
    "                elif d.get(\"non-end_distance\"):\n",
    "                    end_distance_storage[turn]['non-end_distance'].append(d['non-end_distance'])"
   ]
  },
  {
   "cell_type": "code",
   "execution_count": 20,
   "metadata": {},
   "outputs": [],
   "source": [
    "data = []\n",
    "for d in end_distance_storage.values():\n",
    "    mean_sd = np.array(d['end_distance']).mean()\n",
    "    mean_non_sd = np.array(d['non-end_distance']).mean()\n",
    "    data.append((mean_sd, mean_non_sd))\n",
    "df_end = pd.DataFrame(data=data, columns=['end_distance', 'non-end_distance'], index=END_TURNS)"
   ]
  },
  {
   "cell_type": "code",
   "execution_count": 21,
   "metadata": {},
   "outputs": [
    {
     "data": {
      "text/html": [
       "<div>\n",
       "<style scoped>\n",
       "    .dataframe tbody tr th:only-of-type {\n",
       "        vertical-align: middle;\n",
       "    }\n",
       "\n",
       "    .dataframe tbody tr th {\n",
       "        vertical-align: top;\n",
       "    }\n",
       "\n",
       "    .dataframe thead th {\n",
       "        text-align: right;\n",
       "    }\n",
       "</style>\n",
       "<table border=\"1\" class=\"dataframe\">\n",
       "  <thead>\n",
       "    <tr style=\"text-align: right;\">\n",
       "      <th></th>\n",
       "      <th>end_distance</th>\n",
       "      <th>non-end_distance</th>\n",
       "    </tr>\n",
       "  </thead>\n",
       "  <tbody>\n",
       "    <tr>\n",
       "      <th>count</th>\n",
       "      <td>10.000000</td>\n",
       "      <td>10.000000</td>\n",
       "    </tr>\n",
       "    <tr>\n",
       "      <th>mean</th>\n",
       "      <td>0.270836</td>\n",
       "      <td>0.469646</td>\n",
       "    </tr>\n",
       "    <tr>\n",
       "      <th>std</th>\n",
       "      <td>0.054072</td>\n",
       "      <td>0.021954</td>\n",
       "    </tr>\n",
       "    <tr>\n",
       "      <th>min</th>\n",
       "      <td>0.218979</td>\n",
       "      <td>0.419719</td>\n",
       "    </tr>\n",
       "    <tr>\n",
       "      <th>25%</th>\n",
       "      <td>0.232890</td>\n",
       "      <td>0.463616</td>\n",
       "    </tr>\n",
       "    <tr>\n",
       "      <th>50%</th>\n",
       "      <td>0.263570</td>\n",
       "      <td>0.470336</td>\n",
       "    </tr>\n",
       "    <tr>\n",
       "      <th>75%</th>\n",
       "      <td>0.275185</td>\n",
       "      <td>0.477740</td>\n",
       "    </tr>\n",
       "    <tr>\n",
       "      <th>max</th>\n",
       "      <td>0.404094</td>\n",
       "      <td>0.498146</td>\n",
       "    </tr>\n",
       "  </tbody>\n",
       "</table>\n",
       "</div>"
      ],
      "text/plain": [
       "       end_distance  non-end_distance\n",
       "count     10.000000         10.000000\n",
       "mean       0.270836          0.469646\n",
       "std        0.054072          0.021954\n",
       "min        0.218979          0.419719\n",
       "25%        0.232890          0.463616\n",
       "50%        0.263570          0.470336\n",
       "75%        0.275185          0.477740\n",
       "max        0.404094          0.498146"
      ]
     },
     "execution_count": 21,
     "metadata": {},
     "output_type": "execute_result"
    }
   ],
   "source": [
    "df_end.describe()"
   ]
  },
  {
   "cell_type": "markdown",
   "metadata": {},
   "source": [
    "## Try new validator"
   ]
  },
  {
   "cell_type": "code",
   "execution_count": 4,
   "metadata": {},
   "outputs": [],
   "source": [
    "from dialogue2graph.metrics.validators import is_greeting_repeated_emb_llm, is_dialog_closed_too_early_emb_llm\n",
    "from dialogue2graph import Dialogue"
   ]
  },
  {
   "cell_type": "code",
   "execution_count": 5,
   "metadata": {},
   "outputs": [],
   "source": [
    "dialogue_template = Dialogue()\n",
    "good_graph = [dialogue_template.from_list(dialog['messages']) for dialog in dataset['train'][10]['dialogues']]\n",
    "hello_x2_graph = [dialogue_template.from_list(dialog['messages']) for dialog in dataset['train'][350]['dialogues']]\n",
    "bye_x2_graph = [dialogue_template.from_list(dialog['messages']) for dialog in dataset['train'][161]['dialogues']]"
   ]
  },
  {
   "cell_type": "code",
   "execution_count": 6,
   "metadata": {},
   "outputs": [
    {
     "data": {
      "text/plain": [
       "False"
      ]
     },
     "execution_count": 6,
     "metadata": {},
     "output_type": "execute_result"
    }
   ],
   "source": [
    "is_greeting_repeated_emb_llm(good_graph, ms, \"my_emb\", \"my_llm\") # False"
   ]
  },
  {
   "cell_type": "code",
   "execution_count": 7,
   "metadata": {},
   "outputs": [
    {
     "name": "stderr",
     "output_type": "stream",
     "text": [
      "2025-04-07 11:26:48,935 - httpx - INFO - HTTP Request: POST http://193.187.173.33:8002/api/providers/openai/v1/chat/completions \"HTTP/1.1 200 OK\"\n"
     ]
    },
    {
     "data": {
      "text/plain": [
       "True"
      ]
     },
     "execution_count": 7,
     "metadata": {},
     "output_type": "execute_result"
    }
   ],
   "source": [
    "is_greeting_repeated_emb_llm(hello_x2_graph, ms, \"my_emb\", \"my_llm\") # True"
   ]
  },
  {
   "cell_type": "code",
   "execution_count": 6,
   "metadata": {},
   "outputs": [
    {
     "data": {
      "text/plain": [
       "False"
      ]
     },
     "execution_count": 6,
     "metadata": {},
     "output_type": "execute_result"
    }
   ],
   "source": [
    "is_dialog_closed_too_early_emb_llm(good_graph, ms, \"my_emb\", \"my_llm\") # False"
   ]
  },
  {
   "cell_type": "code",
   "execution_count": 7,
   "metadata": {},
   "outputs": [
    {
     "name": "stderr",
     "output_type": "stream",
     "text": [
      "2025-04-07 11:30:09,144 - httpx - INFO - HTTP Request: POST http://193.187.173.33:8002/api/providers/openai/v1/chat/completions \"HTTP/1.1 200 OK\"\n"
     ]
    },
    {
     "name": "stdout",
     "output_type": "stream",
     "text": [
      "Understood. If you change your mind, feel free to reach out. Have a good day! True\n"
     ]
    },
    {
     "data": {
      "text/plain": [
       "True"
      ]
     },
     "execution_count": 7,
     "metadata": {},
     "output_type": "execute_result"
    }
   ],
   "source": [
    "is_dialog_closed_too_early_emb_llm(bye_x2_graph, ms, \"my_emb\", \"my_llm\") # True"
   ]
  }
 ],
 "metadata": {
  "kernelspec": {
   "display_name": ".venv",
   "language": "python",
   "name": "python3"
  },
  "language_info": {
   "codemirror_mode": {
    "name": "ipython",
    "version": 3
   },
   "file_extension": ".py",
   "mimetype": "text/x-python",
   "name": "python",
   "nbconvert_exporter": "python",
   "pygments_lexer": "ipython3",
   "version": "3.11.8"
  }
 },
 "nbformat": 4,
 "nbformat_minor": 2
}
